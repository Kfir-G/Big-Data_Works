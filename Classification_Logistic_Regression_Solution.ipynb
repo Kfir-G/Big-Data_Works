{
  "nbformat": 4,
  "nbformat_minor": 0,
  "metadata": {
    "colab": {
      "name": "Copy of 9. Classification - Logistic regression Solution.ipynb",
      "provenance": [],
      "collapsed_sections": [],
      "toc_visible": true
    },
    "kernelspec": {
      "name": "python3",
      "display_name": "Python 3"
    }
  },
  "cells": [
    {
      "cell_type": "markdown",
      "metadata": {
        "id": "SjLl2duyabVa"
      },
      "source": [
        "#What is a Classification problem ?\n",
        "\n",
        "### Background\n",
        "So far we've learned that **Linear Regression** can be used to predict features like ***prices, temperture, and more.*** \n",
        "\n",
        "**The predicted value in linear regression is continuous!**\n",
        "\n",
        "And when we want to handle a problem like:\n",
        "1. Is a saliva sample infected with the corona virus or not?\n",
        "2. Will a customer buy a product or not?\n",
        "3. Which party is a pesron going to vote for? \"Aaaa\", \"Bbbbb\", \"Ccc\" etc.\n",
        "\n",
        "All of these problems are classification problems where the dependenth value is discrete(categorical).\n"
      ]
    },
    {
      "cell_type": "markdown",
      "metadata": {
        "id": "Un8TdPxlcSGN"
      },
      "source": [
        "\n",
        "###Logistic regression\n",
        "\n",
        "**Logistic Regression** is a Machine Learning classification algorithm that is used to **predict the probability of a categorical dependent variable**. In logistic regression, the dependent variable is a binary variable that contains data coded as 1 (yes, success, etc.) or 0 (no, failure, etc.). In other words, the logistic regression model predicts P(Y=1) as a function of X.\n",
        "\n",
        "* **Binary classification problem** - when there is a single predicted value. for example: Corona detected or not. \n",
        "* **Multiclass Classification problem** - when there are varias predicted values possible. for example: voting in elections.\n",
        "\n",
        "#### For simplicity we shall start with a Binary classification problem code example"
      ]
    },
    {
      "cell_type": "markdown",
      "metadata": {
        "id": "xhKb3xPEck0c"
      },
      "source": [
        "#The Problem - To predict if a passenger of the titanic survived or not"
      ]
    },
    {
      "cell_type": "code",
      "metadata": {
        "id": "B84w1kf3vN73"
      },
      "source": [
        "import numpy as np\n",
        "import pandas as pd\n",
        "import plotly.graph_objects as go\n"
      ],
      "execution_count": null,
      "outputs": []
    },
    {
      "cell_type": "code",
      "metadata": {
        "id": "Lp-4LWx1vhy3",
        "colab": {
          "base_uri": "https://localhost:8080/",
          "height": 570
        },
        "outputId": "200d5c3f-160f-4038-ffc1-cce784b65461"
      },
      "source": [
        "titanic_df = pd.read_csv('https://raw.githubusercontent.com/Turgibot/BigData/master/DataSets/titanic.csv', index_col='PassengerId')\n",
        "titanic_df.head()"
      ],
      "execution_count": null,
      "outputs": [
        {
          "output_type": "execute_result",
          "data": {
            "text/html": [
              "<div>\n",
              "<style scoped>\n",
              "    .dataframe tbody tr th:only-of-type {\n",
              "        vertical-align: middle;\n",
              "    }\n",
              "\n",
              "    .dataframe tbody tr th {\n",
              "        vertical-align: top;\n",
              "    }\n",
              "\n",
              "    .dataframe thead th {\n",
              "        text-align: right;\n",
              "    }\n",
              "</style>\n",
              "<table border=\"1\" class=\"dataframe\">\n",
              "  <thead>\n",
              "    <tr style=\"text-align: right;\">\n",
              "      <th></th>\n",
              "      <th>Survived</th>\n",
              "      <th>Pclass</th>\n",
              "      <th>Name</th>\n",
              "      <th>Sex</th>\n",
              "      <th>Age</th>\n",
              "      <th>SibSp</th>\n",
              "      <th>Parch</th>\n",
              "      <th>Ticket</th>\n",
              "      <th>Fare</th>\n",
              "      <th>Cabin</th>\n",
              "      <th>Embarked</th>\n",
              "      <th>WikiId</th>\n",
              "      <th>Name_wiki</th>\n",
              "      <th>Age_wiki</th>\n",
              "      <th>Hometown</th>\n",
              "      <th>Boarded</th>\n",
              "      <th>Destination</th>\n",
              "      <th>Lifeboat</th>\n",
              "      <th>Body</th>\n",
              "      <th>Class</th>\n",
              "    </tr>\n",
              "    <tr>\n",
              "      <th>PassengerId</th>\n",
              "      <th></th>\n",
              "      <th></th>\n",
              "      <th></th>\n",
              "      <th></th>\n",
              "      <th></th>\n",
              "      <th></th>\n",
              "      <th></th>\n",
              "      <th></th>\n",
              "      <th></th>\n",
              "      <th></th>\n",
              "      <th></th>\n",
              "      <th></th>\n",
              "      <th></th>\n",
              "      <th></th>\n",
              "      <th></th>\n",
              "      <th></th>\n",
              "      <th></th>\n",
              "      <th></th>\n",
              "      <th></th>\n",
              "      <th></th>\n",
              "    </tr>\n",
              "  </thead>\n",
              "  <tbody>\n",
              "    <tr>\n",
              "      <th>1</th>\n",
              "      <td>0.0</td>\n",
              "      <td>3</td>\n",
              "      <td>Braund, Mr. Owen Harris</td>\n",
              "      <td>male</td>\n",
              "      <td>22.0</td>\n",
              "      <td>1</td>\n",
              "      <td>0</td>\n",
              "      <td>A/5 21171</td>\n",
              "      <td>7.2500</td>\n",
              "      <td>NaN</td>\n",
              "      <td>S</td>\n",
              "      <td>691.0</td>\n",
              "      <td>Braund, Mr. Owen Harris</td>\n",
              "      <td>22.0</td>\n",
              "      <td>Bridgerule, Devon, England</td>\n",
              "      <td>Southampton</td>\n",
              "      <td>Qu'Appelle Valley, Saskatchewan, Canada</td>\n",
              "      <td>NaN</td>\n",
              "      <td>NaN</td>\n",
              "      <td>3.0</td>\n",
              "    </tr>\n",
              "    <tr>\n",
              "      <th>2</th>\n",
              "      <td>1.0</td>\n",
              "      <td>1</td>\n",
              "      <td>Cumings, Mrs. John Bradley (Florence Briggs Th...</td>\n",
              "      <td>female</td>\n",
              "      <td>38.0</td>\n",
              "      <td>1</td>\n",
              "      <td>0</td>\n",
              "      <td>PC 17599</td>\n",
              "      <td>71.2833</td>\n",
              "      <td>C85</td>\n",
              "      <td>C</td>\n",
              "      <td>90.0</td>\n",
              "      <td>Cumings, Mrs. Florence Briggs (née Thayer)</td>\n",
              "      <td>35.0</td>\n",
              "      <td>New York, New York, US</td>\n",
              "      <td>Cherbourg</td>\n",
              "      <td>New York, New York, US</td>\n",
              "      <td>4</td>\n",
              "      <td>NaN</td>\n",
              "      <td>1.0</td>\n",
              "    </tr>\n",
              "    <tr>\n",
              "      <th>3</th>\n",
              "      <td>1.0</td>\n",
              "      <td>3</td>\n",
              "      <td>Heikkinen, Miss. Laina</td>\n",
              "      <td>female</td>\n",
              "      <td>26.0</td>\n",
              "      <td>0</td>\n",
              "      <td>0</td>\n",
              "      <td>STON/O2. 3101282</td>\n",
              "      <td>7.9250</td>\n",
              "      <td>NaN</td>\n",
              "      <td>S</td>\n",
              "      <td>865.0</td>\n",
              "      <td>Heikkinen, Miss Laina</td>\n",
              "      <td>26.0</td>\n",
              "      <td>Jyväskylä, Finland</td>\n",
              "      <td>Southampton</td>\n",
              "      <td>New York City</td>\n",
              "      <td>14?</td>\n",
              "      <td>NaN</td>\n",
              "      <td>3.0</td>\n",
              "    </tr>\n",
              "    <tr>\n",
              "      <th>4</th>\n",
              "      <td>1.0</td>\n",
              "      <td>1</td>\n",
              "      <td>Futrelle, Mrs. Jacques Heath (Lily May Peel)</td>\n",
              "      <td>female</td>\n",
              "      <td>35.0</td>\n",
              "      <td>1</td>\n",
              "      <td>0</td>\n",
              "      <td>113803</td>\n",
              "      <td>53.1000</td>\n",
              "      <td>C123</td>\n",
              "      <td>S</td>\n",
              "      <td>127.0</td>\n",
              "      <td>Futrelle, Mrs. Lily May (née Peel)</td>\n",
              "      <td>35.0</td>\n",
              "      <td>Scituate, Massachusetts, US</td>\n",
              "      <td>Southampton</td>\n",
              "      <td>Scituate, Massachusetts, US</td>\n",
              "      <td>D</td>\n",
              "      <td>NaN</td>\n",
              "      <td>1.0</td>\n",
              "    </tr>\n",
              "    <tr>\n",
              "      <th>5</th>\n",
              "      <td>0.0</td>\n",
              "      <td>3</td>\n",
              "      <td>Allen, Mr. William Henry</td>\n",
              "      <td>male</td>\n",
              "      <td>35.0</td>\n",
              "      <td>0</td>\n",
              "      <td>0</td>\n",
              "      <td>373450</td>\n",
              "      <td>8.0500</td>\n",
              "      <td>NaN</td>\n",
              "      <td>S</td>\n",
              "      <td>627.0</td>\n",
              "      <td>Allen, Mr. William Henry</td>\n",
              "      <td>35.0</td>\n",
              "      <td>Birmingham, West Midlands, England</td>\n",
              "      <td>Southampton</td>\n",
              "      <td>New York City</td>\n",
              "      <td>NaN</td>\n",
              "      <td>NaN</td>\n",
              "      <td>3.0</td>\n",
              "    </tr>\n",
              "  </tbody>\n",
              "</table>\n",
              "</div>"
            ],
            "text/plain": [
              "             Survived  Pclass  ... Body Class\n",
              "PassengerId                    ...           \n",
              "1                 0.0       3  ...  NaN   3.0\n",
              "2                 1.0       1  ...  NaN   1.0\n",
              "3                 1.0       3  ...  NaN   3.0\n",
              "4                 1.0       1  ...  NaN   1.0\n",
              "5                 0.0       3  ...  NaN   3.0\n",
              "\n",
              "[5 rows x 20 columns]"
            ]
          },
          "metadata": {
            "tags": []
          },
          "execution_count": 2
        }
      ]
    },
    {
      "cell_type": "markdown",
      "metadata": {
        "id": "GbQm5Ur-K7qH"
      },
      "source": [
        "### Know your data\n",
        "This is some info of the titanic dataset features:\n",
        "\n",
        "![titanic.JPG](data:image/jpeg;base64,/9j/4AAQSkZJRgABAQEAYABgAAD/4RDyRXhpZgAATU0AKgAAAAgABAE7AAIAAAANAAAISodpAAQAAAABAAAIWJydAAEAAAAaAAAQ0OocAAcAAAgMAAAAPgAAAAAc6gAAAAgAAAAAAAAAAAAAAAAAAAAAAAAAAAAAAAAAAAAAAAAAAAAAAAAAAAAAAAAAAAAAAAAAAAAAAAAAAAAAAAAAAAAAAAAAAAAAAAAAAAAAAAAAAAAAAAAAAAAAAAAAAAAAAAAAAAAAAAAAAAAAAAAAAAAAAAAAAAAAAAAAAAAAAAAAAAAAAAAAAAAAAAAAAAAAAAAAAAAAAAAAAAAAAAAAAAAAAAAAAAAAAAAAAAAAAAAAAAAAAAAAAAAAAAAAAAAAAAAAAAAAAAAAAAAAAAAAAAAAAAAAAAAAAAAAAAAAAAAAAAAAAAAAAAAAAAAAAAAAAAAAAAAAAAAAAAAAAAAAAAAAAAAAAAAAAAAAAAAAAAAAAAAAAAAAAAAAAAAAAAAAAAAAAAAAAAAAAAAAAAAAAAAAAAAAAAAAAAAAAAAAAAAAAAAAAAAAAAAAAAAAAAAAAAAAAAAAAAAAAAAAAAAAAAAAAAAAAAAAAAAAAAAAAAAAAAAAAAAAAAAAAAAAAAAAAAAAAAAAAAAAAAAAAAAAAAAAAAAAAAAAAAAAAAAAAAAAAAAAAAAAAAAAAAAAAAAAAAAAAAAAAAAAAAAAAAAAAAAAAAAAAAAAAAAAAAAAAAAAAAAAAAAAAAAAAAAAAAAAAAAAAAAAAAAAAAAAAAAAAAAAAAAAAAAAAAAAAAAAAAAAAAAAAAAAAAAAAAAAAAAAAAAAAAAAAAAAAAAAAAAAAAAAAAAAAAAAAAAAAAAAAAAAAAAAAAAAAAAAAAAAAAAAAAAAAAAAAAAAAAAAAAAAAAAAAAAAAAAAAAAAAAAAAAAAAAAAAAAAAAAAAAAAAAAAAAAAAAAAAAAAAAAAAAAAAAAAAAAAAAAAAAAAAAAAAAAAAAAAAAAAAAAAAAAAAAAAAAAAAAAAAAAAAAAAAAAAAAAAAAAAAAAAAAAAAAAAAAAAAAAAAAAAAAAAAAAAAAAAAAAAAAAAAAAAAAAAAAAAAAAAAAAAAAAAAAAAAAAAAAAAAAAAAAAAAAAAAAAAAAAAAAAAAAAAAAAAAAAAAAAAAAAAAAAAAAAAAAAAAAAAAAAAAAAAAAAAAAAAAAAAAAAAAAAAAAAAAAAAAAAAAAAAAAAAAAAAAAAAAAAAAAAAAAAAAAAAAAAAAAAAAAAAAAAAAAAAAAAAAAAAAAAAAAAAAAAAAAAAAAAAAAAAAAAAAAAAAAAAAAAAAAAAAAAAAAAAAAAAAAAAAAAAAAAAAAAAAAAAAAAAAAAAAAAAAAAAAAAAAAAAAAAAAAAAAAAAAAAAAAAAAAAAAAAAAAAAAAAAAAAAAAAAAAAAAAAAAAAAAAAAAAAAAAAAAAAAAAAAAAAAAAAAAAAAAAAAAAAAAAAAAAAAAAAAAAAAAAAAAAAAAAAAAAAAAAAAAAAAAAAAAAAAAAAAAAAAAAAAAAAAAAAAAAAAAAAAAAAAAAAAAAAAAAAAAAAAAAAAAAAAAAAAAAAAAAAAAAAAAAAAAAAAAAAAAAAAAAAAAAAAAAAAAAAAAAAAAAAAAAAAAAAAAAAAAAAAAAAAAAAAAAAAAAAAAAAAAAAAAAAAAAAAAAAAAAAAAAAAAAAAAAAAAAAAAAAAAAAAAAAAAAAAAAAAAAAAAAAAAAAAAAAAAAAAAAAAAAAAAAAAAAAAAAAAAAAAAAAAAAAAAAAAAAAAAAAAAAAAAAAAAAAAAAAAAAAAAAAAAAAAAAAAAAAAAAAAAAAAAAAAAAAAAAAAAAAAAAAAAAAAAAAAAAAAAAAAAAAAAAAAAAAAAAAAAAAAAAAAAAAAAAAAAAAAAAAAAAAAAAAAAAAAAAAAAAAAAAAAAAAAAAAAAAAAAAAAAAAAAAAAAAAAAAAAAAAAAAAAAAAAAAAAAAAAAAAAAAAAAAAAAAAAAAAAAAAAAAAAAAAAAAAAAAAAAAAAAAAAAAAAAAAAAAAAAAAAAAAAAAAAAAAAAAAAAAAAAAAAAAAAAAAAAAAAAAAAAAAAAAAAAAAAAAAAAAAAAAAAAAAAAAAAAAAAAAAAAAAAAAAAAAAAAAAAAAAAAAAAAAAAAAAAAAAAAAAAAAAAAAAAAAAAAAAAAAAAAAAAAAAAAAAAAAAAAAAAAAAAAAAAAAAAAAAAAAAAAAAAAAAAAAAAAAAAAAAAAAAAAAAAAAAAAAAAAAAAAAAAAAAAAAAAAAAAAAAAAAAAAAAAAAAAAAAAAAAAAAAAAAAAAAAAAAAAAAAAAAAAAAAAAAAAAAAAAAAAAAAAAAAAAAAAAAAAAAAAAAAAAAAAAAAAAAAAAAAAAAAAAAAAAAAAAAAAAAAAAAAAAAAAAAAAAAAAAAAAAAAAAAAAAAAAAAAAAAAAAAAAAAAAAAAAAAAAAAAAAAAAAAAAAAAAAAAAAAAAAAAAAAAAAAAAAAAAAAAAAAAAAAAAAAAAAAAAAAAAAAAAAAAAAAAAAAAAAAAAAAAAAAAAAAAAAAAAAAAAAAAAAAAAAAAAAAAAAAAAAAAAAAAAAAAAAAAAAAAAAAAAAAAAAAAAAAAAAAAAAAAAAAAAAAAAAAAAAAAAAAAAAAAAAAAAAAAAAAAAAAAAAAAAAAAAAAAAAAAAAAAAAAAAAAAAAAAAAAAAAAAAAAAAAAAAAAAAAAAAAAAAAAAAAAAAAAAAAAAAAAAAAAAAAAAAAAAAAAAAAAAAAAAAAAAAAAAAAAAAAAAAAAAAAAAAAAAAAAAAAAAAAAAAAAAAAAAAAAAAAAAAAAAAAAAAAAAAAAAAAAAAAEd1eSBUb3Jkam1hbgAAAAWQAwACAAAAFAAAEKaQBAACAAAAFAAAELqSkQACAAAAAzI5AACSkgACAAAAAzI5AADqHAAHAAAIDAAACJoAAAAAHOoAAAAIAAAAAAAAAAAAAAAAAAAAAAAAAAAAAAAAAAAAAAAAAAAAAAAAAAAAAAAAAAAAAAAAAAAAAAAAAAAAAAAAAAAAAAAAAAAAAAAAAAAAAAAAAAAAAAAAAAAAAAAAAAAAAAAAAAAAAAAAAAAAAAAAAAAAAAAAAAAAAAAAAAAAAAAAAAAAAAAAAAAAAAAAAAAAAAAAAAAAAAAAAAAAAAAAAAAAAAAAAAAAAAAAAAAAAAAAAAAAAAAAAAAAAAAAAAAAAAAAAAAAAAAAAAAAAAAAAAAAAAAAAAAAAAAAAAAAAAAAAAAAAAAAAAAAAAAAAAAAAAAAAAAAAAAAAAAAAAAAAAAAAAAAAAAAAAAAAAAAAAAAAAAAAAAAAAAAAAAAAAAAAAAAAAAAAAAAAAAAAAAAAAAAAAAAAAAAAAAAAAAAAAAAAAAAAAAAAAAAAAAAAAAAAAAAAAAAAAAAAAAAAAAAAAAAAAAAAAAAAAAAAAAAAAAAAAAAAAAAAAAAAAAAAAAAAAAAAAAAAAAAAAAAAAAAAAAAAAAAAAAAAAAAAAAAAAAAAAAAAAAAAAAAAAAAAAAAAAAAAAAAAAAAAAAAAAAAAAAAAAAAAAAAAAAAAAAAAAAAAAAAAAAAAAAAAAAAAAAAAAAAAAAAAAAAAAAAAAAAAAAAAAAAAAAAAAAAAAAAAAAAAAAAAAAAAAAAAAAAAAAAAAAAAAAAAAAAAAAAAAAAAAAAAAAAAAAAAAAAAAAAAAAAAAAAAAAAAAAAAAAAAAAAAAAAAAAAAAAAAAAAAAAAAAAAAAAAAAAAAAAAAAAAAAAAAAAAAAAAAAAAAAAAAAAAAAAAAAAAAAAAAAAAAAAAAAAAAAAAAAAAAAAAAAAAAAAAAAAAAAAAAAAAAAAAAAAAAAAAAAAAAAAAAAAAAAAAAAAAAAAAAAAAAAAAAAAAAAAAAAAAAAAAAAAAAAAAAAAAAAAAAAAAAAAAAAAAAAAAAAAAAAAAAAAAAAAAAAAAAAAAAAAAAAAAAAAAAAAAAAAAAAAAAAAAAAAAAAAAAAAAAAAAAAAAAAAAAAAAAAAAAAAAAAAAAAAAAAAAAAAAAAAAAAAAAAAAAAAAAAAAAAAAAAAAAAAAAAAAAAAAAAAAAAAAAAAAAAAAAAAAAAAAAAAAAAAAAAAAAAAAAAAAAAAAAAAAAAAAAAAAAAAAAAAAAAAAAAAAAAAAAAAAAAAAAAAAAAAAAAAAAAAAAAAAAAAAAAAAAAAAAAAAAAAAAAAAAAAAAAAAAAAAAAAAAAAAAAAAAAAAAAAAAAAAAAAAAAAAAAAAAAAAAAAAAAAAAAAAAAAAAAAAAAAAAAAAAAAAAAAAAAAAAAAAAAAAAAAAAAAAAAAAAAAAAAAAAAAAAAAAAAAAAAAAAAAAAAAAAAAAAAAAAAAAAAAAAAAAAAAAAAAAAAAAAAAAAAAAAAAAAAAAAAAAAAAAAAAAAAAAAAAAAAAAAAAAAAAAAAAAAAAAAAAAAAAAAAAAAAAAAAAAAAAAAAAAAAAAAAAAAAAAAAAAAAAAAAAAAAAAAAAAAAAAAAAAAAAAAAAAAAAAAAAAAAAAAAAAAAAAAAAAAAAAAAAAAAAAAAAAAAAAAAAAAAAAAAAAAAAAAAAAAAAAAAAAAAAAAAAAAAAAAAAAAAAAAAAAAAAAAAAAAAAAAAAAAAAAAAAAAAAAAAAAAAAAAAAAAAAAAAAAAAAAAAAAAAAAAAAAAAAAAAAAAAAAAAAAAAAAAAAAAAAAAAAAAAAAAAAAAAAAAAAAAAAAAAAAAAAAAAAAAAAAAAAAAAAAAAAAAAAAAAAAAAAAAAAAAAAAAAAAAAAAAAAAAAAAAAAAAAAAAAAAAAAAAAAAAAAAAAAAAAAAAAAAAAAAAAAAAAAAAAAAAAAAAAAAAAAAAAAAAAAAAAAAAAAAAAAAAAAAAAAAAAAAAAAAAAAAAAAAAAAAAAAAAAAAAAAAAAAAAAAAAAAAAAAAAAAAAAAAAAAAAAAAAAAAAAAAAAAAAAAAAAAAAAAAAAAAAAAAAAAAAAAAAAAAAAAAAAAAAAAAAAAAAAAAAAAAAAAAAAAAAAAAAAAAAAAAAAAAAAAAAAAAAAAAAAAAAAAAAAAAAAAAAAAAAAAAAAAAAAAAAAAAAAAAAAAAAAAAAAAAAAAAAAAAAAAAAAAAAAAAAAAAAAAAAAAAAAAAAAAAAAAAAAAAAAAAAAAAAAAAAAAAAAAAAAAAAAAAAAAAAAAAAAAAAAAAAAAAAAAAAAAAAAAAAAAAAAAAAAAAAAAAAAAAAAAAAAAAAAAAAAAAAAAAAAAAAAAAAAAAAAAAAAAAAAAAAAAAAAAAAAAAAAAAAAAAAAAAAAAAAAAAAAAAAAAAAAAAAAAAAAAAAAAAAAAAAAAAAAAAAAAAAAAAAAAAAAAAAAAAAAAAAAAAAAAAAAAAAAAAAAAAAAAAAAAAAAAAAAAAAAAAAAAAAAAAAAAAAAAAAAAAAAAAAAAAAAAAAAAAAAAAAAAAAAAAAAAAAAAAAAAAAAAAAAAAAAAAAAAAAAAAAAAAAAAAAAAAAAAAAAAAAAAAAAAAAAAAAAAAAAAAAAAAAAAAAAAAAAAAAAAAAAAAAAAAAAAAAAAAAAAAAAAAAAAAAAAAAAAAAAAAAAAAAAAAAAAAAAAAAAAAAAAAAAAAAAAAAAAAAAAAAAAAAAAAAAAAAAAAAAAAAAAAAAAAAAAAAAAAAAAAAAAAAAAAAAAAAAAAAAAAAAAAAAAyMDIwOjA5OjExIDE2OjU3OjA1ADIwMjA6MDk6MTEgMTY6NTc6MDUAAABHAHUAeQAgAFQAbwByAGQAagBtAGEAbgAAAP/hCx9odHRwOi8vbnMuYWRvYmUuY29tL3hhcC8xLjAvADw/eHBhY2tldCBiZWdpbj0n77u/JyBpZD0nVzVNME1wQ2VoaUh6cmVTek5UY3prYzlkJz8+DQo8eDp4bXBtZXRhIHhtbG5zOng9ImFkb2JlOm5zOm1ldGEvIj48cmRmOlJERiB4bWxuczpyZGY9Imh0dHA6Ly93d3cudzMub3JnLzE5OTkvMDIvMjItcmRmLXN5bnRheC1ucyMiPjxyZGY6RGVzY3JpcHRpb24gcmRmOmFib3V0PSJ1dWlkOmZhZjViZGQ1LWJhM2QtMTFkYS1hZDMxLWQzM2Q3NTE4MmYxYiIgeG1sbnM6ZGM9Imh0dHA6Ly9wdXJsLm9yZy9kYy9lbGVtZW50cy8xLjEvIi8+PHJkZjpEZXNjcmlwdGlvbiByZGY6YWJvdXQ9InV1aWQ6ZmFmNWJkZDUtYmEzZC0xMWRhLWFkMzEtZDMzZDc1MTgyZjFiIiB4bWxuczp4bXA9Imh0dHA6Ly9ucy5hZG9iZS5jb20veGFwLzEuMC8iPjx4bXA6Q3JlYXRlRGF0ZT4yMDIwLTA5LTExVDE2OjU3OjA1LjI4NzwveG1wOkNyZWF0ZURhdGU+PC9yZGY6RGVzY3JpcHRpb24+PHJkZjpEZXNjcmlwdGlvbiByZGY6YWJvdXQ9InV1aWQ6ZmFmNWJkZDUtYmEzZC0xMWRhLWFkMzEtZDMzZDc1MTgyZjFiIiB4bWxuczpkYz0iaHR0cDovL3B1cmwub3JnL2RjL2VsZW1lbnRzLzEuMS8iPjxkYzpjcmVhdG9yPjxyZGY6U2VxIHhtbG5zOnJkZj0iaHR0cDovL3d3dy53My5vcmcvMTk5OS8wMi8yMi1yZGYtc3ludGF4LW5zIyI+PHJkZjpsaT5HdXkgVG9yZGptYW48L3JkZjpsaT48L3JkZjpTZXE+DQoJCQk8L2RjOmNyZWF0b3I+PC9yZGY6RGVzY3JpcHRpb24+PC9yZGY6UkRGPjwveDp4bXBtZXRhPg0KICAgICAgICAgICAgICAgICAgICAgICAgICAgICAgICAgICAgICAgICAgICAgICAgICAgICAgICAgICAgICAgICAgICAgICAgICAgICAgICAgICAgICAgICAgICAgICAgICAgIAogICAgICAgICAgICAgICAgICAgICAgICAgICAgICAgICAgICAgICAgICAgICAgICAgICAgICAgICAgICAgICAgICAgICAgICAgICAgICAgICAgICAgICAgICAgICAgICAgICAgCiAgICAgICAgICAgICAgICAgICAgICAgICAgICAgICAgICAgICAgICAgICAgICAgICAgICAgICAgICAgICAgICAgICAgICAgICAgICAgICAgICAgICAgICAgICAgICAgICAgICAKICAgICAgICAgICAgICAgICAgICAgICAgICAgICAgICAgICAgICAgICAgICAgICAgICAgICAgICAgICAgICAgICAgICAgICAgICAgICAgICAgICAgICAgICAgICAgICAgICAgIAogICAgICAgICAgICAgICAgICAgICAgICAgICAgICAgICAgICAgICAgICAgICAgICAgICAgICAgICAgICAgICAgICAgICAgICAgICAgICAgICAgICAgICAgICAgICAgICAgICAgCiAgICAgICAgICAgICAgICAgICAgICAgICAgICAgICAgICAgICAgICAgICAgICAgICAgICAgICAgICAgICAgICAgICAgICAgICAgICAgICAgICAgICAgICAgICAgICAgICAgICAKICAgICAgICAgICAgICAgICAgICAgICAgICAgICAgICAgICAgICAgICAgICAgICAgICAgICAgICAgICAgICAgICAgICAgICAgICAgICAgICAgICAgICAgICAgICAgICAgICAgIAogICAgICAgICAgICAgICAgICAgICAgICAgICAgICAgICAgICAgICAgICAgICAgICAgICAgICAgICAgICAgICAgICAgICAgICAgICAgICAgICAgICAgICAgICAgICAgICAgICAgCiAgICAgICAgICAgICAgICAgICAgICAgICAgICAgICAgICAgICAgICAgICAgICAgICAgICAgICAgICAgICAgICAgICAgICAgICAgICAgICAgICAgICAgICAgICAgICAgICAgICAKICAgICAgICAgICAgICAgICAgICAgICAgICAgICAgICAgICAgICAgICAgICAgICAgICAgICAgICAgICAgICAgICAgICAgICAgICAgICAgICAgICAgICAgICAgICAgICAgICAgIAogICAgICAgICAgICAgICAgICAgICAgICAgICAgICAgICAgICAgICAgICAgICAgICAgICAgICAgICAgICAgICAgICAgICAgICAgICAgICAgICAgICAgICAgICAgICAgICAgICAgCiAgICAgICAgICAgICAgICAgICAgICAgICAgICAgICAgICAgICAgICAgICAgICAgICAgICAgICAgICAgICAgICAgICAgICAgICAgICAgICAgICAgICAgICAgICAgICAgICAgICAKICAgICAgICAgICAgICAgICAgICAgICAgICAgICAgICAgICAgICAgICAgICAgICAgICAgICAgICAgICAgICAgICAgICAgICAgICAgICAgICAgICAgICAgICAgICAgICAgICAgIAogICAgICAgICAgICAgICAgICAgICAgICAgICAgICAgICAgICAgICAgICAgICAgICAgICAgICAgICAgICAgICAgICAgICAgICAgICAgICAgICAgICAgICAgICAgICAgICAgICAgCiAgICAgICAgICAgICAgICAgICAgICAgICAgICAgICAgICAgICAgICAgICAgICAgICAgICAgICAgICAgICAgICAgICAgICAgICAgICAgICAgICAgICAgICAgICAgICAgICAgICAKICAgICAgICAgICAgICAgICAgICAgICAgICAgICAgICAgICAgICAgICAgICAgICAgICAgICAgICAgICAgICAgICAgICAgICAgICAgICAgICAgICAgICAgICAgICAgICAgICAgIAogICAgICAgICAgICAgICAgICAgICAgICAgICAgICAgICAgICAgICAgICAgICAgICAgICAgICAgICAgICAgICAgICAgICAgICAgICAgICAgICAgICAgICAgICAgICAgICAgICAgCiAgICAgICAgICAgICAgICAgICAgICAgICAgICAgICAgICAgICAgICAgICAgICAgICAgICAgICAgICAgICAgICAgICAgICAgICAgICAgICAgICAgICAgICAgICAgICAgICAgICAKICAgICAgICAgICAgICAgICAgICAgICAgICAgICAgICAgICAgICAgICAgICAgICAgICAgICAgICAgICAgICAgICAgICAgICAgICAgICAgICAgICAgICAgICAgICAgICAgICAgIAogICAgICAgICAgICAgICAgICAgICAgICAgICAgICAgICAgICAgICAgICAgICAgICAgICAgICAgICAgICAgICAgICAgICAgICAgICAgICAgICAgICAgICAgICAgICAgICAgICAgCiAgICAgICAgICAgICAgICAgICAgICAgICAgICA8P3hwYWNrZXQgZW5kPSd3Jz8+/9sAQwAHBQUGBQQHBgUGCAcHCAoRCwoJCQoVDxAMERgVGhkYFRgXGx4nIRsdJR0XGCIuIiUoKSssKxogLzMvKjInKisq/9sAQwEHCAgKCQoUCwsUKhwYHCoqKioqKioqKioqKioqKioqKioqKioqKioqKioqKioqKioqKioqKioqKioqKioqKioq/8AAEQgCFQOdAwEiAAIRAQMRAf/EAB8AAAEFAQEBAQEBAAAAAAAAAAABAgMEBQYHCAkKC//EALUQAAIBAwMCBAMFBQQEAAABfQECAwAEEQUSITFBBhNRYQcicRQygZGhCCNCscEVUtHwJDNicoIJChYXGBkaJSYnKCkqNDU2Nzg5OkNERUZHSElKU1RVVldYWVpjZGVmZ2hpanN0dXZ3eHl6g4SFhoeIiYqSk5SVlpeYmZqio6Slpqeoqaqys7S1tre4ubrCw8TFxsfIycrS09TV1tfY2drh4uPk5ebn6Onq8fLz9PX29/j5+v/EAB8BAAMBAQEBAQEBAQEAAAAAAAABAgMEBQYHCAkKC//EALURAAIBAgQEAwQHBQQEAAECdwABAgMRBAUhMQYSQVEHYXETIjKBCBRCkaGxwQkjM1LwFWJy0QoWJDThJfEXGBkaJicoKSo1Njc4OTpDREVGR0hJSlNUVVZXWFlaY2RlZmdoaWpzdHV2d3h5eoKDhIWGh4iJipKTlJWWl5iZmqKjpKWmp6ipqrKztLW2t7i5usLDxMXGx8jJytLT1NXW19jZ2uLj5OXm5+jp6vLz9PX29/j5+v/aAAwDAQACEQMRAD8A+kaKjlkMe3aoYs2OTjsT/Sm+ZN/zzj/7+H/CgCaiofMm/wCecf8A38P+FHmTf884/wDv4f8ACgCaiofMm/55x/8Afw/4UeZN/wA84/8Av4f8KAJqKh8yb/nnH/38P+FHmTf884/+/h/woAmoqHzJv+ecf/fw/wCFHmTf884/+/h/woAmoqHzJv8AnnH/AN/D/hR5k3/POP8A7+H/AAoAmoqHzJv+ecf/AH8P+FHmTf8APOP/AL+H/CgCaiofMm/55x/9/D/hR5k3/POP/v4f8KAJqKh8yb/nnH/38P8AhR5k3/POP/v4f8KAJqKh8yb/AJ5x/wDfw/4UeZN/zzj/AO/h/wAKAJqKh8yb/nnH/wB/D/hR5k3/ADzj/wC/h/woAmoqHzJv+ecf/fw/4UeZN/zzj/7+H/CgCaiofMm/55x/9/D/AIUeZN/zzj/7+H/CgCaiofMm/wCecf8A38P+FHmTf884/wDv4f8ACgCaiofMm/55x/8Afw/4UeZN/wA84/8Av4f8KAJqKh8yb/nnH/38P+FHmTf884/+/h/woAmoqHzJv+ecf/fw/wCFHmTf884/+/h/woAmoqHzJv8AnnH/AN/D/hR5k3/POP8A7+H/AAoAmoqHzJv+ecf/AH8P+FHmTf8APOP/AL+H/CgCaiq6TyvGrCJMMMjMh/wp3mTf884/+/h/woAmoqHzJv8AnnH/AN/D/hR5k3/POP8A7+H/AAoAmoqHzJv+ecf/AH8P+FHmTf8APOP/AL+H/CgCaiofMm/55x/9/D/hR5k3/POP/v4f8KAJqKh8yb/nnH/38P8AhR5k3/POP/v4f8KAJqKh8yb/AJ5x/wDfw/4UeZN/zzj/AO/h/wAKAJqKh8yb/nnH/wB/D/hR5k3/ADzj/wC/h/woAmoqHzJv+ecf/fw/4UeZN/zzj/7+H/CgCaiofMm/55x/9/D/AIUeZN/zzj/7+H/CgCaiofMm/wCecf8A38P+FHmTf884/wDv4f8ACgCaiofMm/55x/8Afw/4UeZN/wA84/8Av4f8KAJqKh8yb/nnH/38P+FHmTf884/+/h/woAmoqHzJv+ecf/fw/wCFHmTf884/+/h/woAmoqHzJv8AnnH/AN/D/hR5k3/POP8A7+H/AAoAmoqHzJv+ecf/AH8P+FHmTf8APOP/AL+H/CgCaiofMm/55x/9/D/hR5k3/POP/v4f8KAJqKh8yb/nnH/38P8AhR5k3/POP/v4f8KAJqKh8yb/AJ5x/wDfw/4UeZN/zzj/AO/h/wAKAJqKh8yb/nnH/wB/D/hTTPKJAvlJkgn/AFh7Y9vegCxRUPmTf884/wDv4f8ACjzJv+ecf/fw/wCFAE1FQ+ZN/wA84/8Av4f8KPMm/wCecf8A38P+FAE1FQ+ZN/zzj/7+H/CjzJv+ecf/AH8P+FAE1FQ+ZN/zzj/7+H/CjzJv+ecf/fw/4UATUVD5k3/POP8A7+H/AAo8yb/nnH/38P8AhQBNRUPmTf8APOP/AL+H/CjzJv8AnnH/AN/D/hQBNRUPmTf884/+/h/wo8yb/nnH/wB/D/hQBNRUPmTf884/+/h/wo8yb/nnH/38P+FAE1FQ+ZN/zzj/AO/h/wAKPMm/55x/9/D/AIUATUVD5k3/ADzj/wC/h/wo8yb/AJ5x/wDfw/4UATUVD5k3/POP/v4f8KPMm/55x/8Afw/4UATUVD5k3/POP/v4f8KPMm/55x/9/D/hQBNRUPmTf884/wDv4f8ACjzJv+ecf/fw/wCFAE1FQ+ZN/wA84/8Av4f8KPMm/wCecf8A38P+FAE1FQ+ZN/zzj/7+H/CjzJv+ecf/AH8P+FAE1FQ+ZN/zzj/7+H/CjzJv+ecf/fw/4UATUVD5k3/POP8A7+H/AAo8yb/nnH/38P8AhQBNRUPmTf8APOP/AL+H/CjzJv8AnnH/AN/D/hQBNRUPmTf884/+/h/wqSN/MiR8Y3KDj0oAdRRRQBDP96H/AH//AGU06mz/AHof9/8A9lNOoAKKKKACiiigAooooAKKKKACiiigAooooAKKKKACiiigAooooAKKKKACiiigAooooAKKKKACiiigAooooAKKKKACiiigAooooAjt/wDj2i/3B/KpKjt/+PaL/cH8qkoAKKKKACiiigAooooAKKKKACiiigAooooAKKKKACiiigAooooAKKKKACiiigAooooAKKKKACiiigAooooAKKKKACiiigAqNv8Aj5T/AHG/mKkqNv8Aj5T/AHG/mKAJKKKKACiiigAooooAKKKKACiiigAooooAKKKKACiiigAooooAKKKKACiiigAooooAKKKKACiiigAooooAKKKKACiiigAooooAKLb/AI9Yv9wfyootv+PWL/cH8qAJKKKKAIZ/vQ/7/wD7KadTZ/vQ/wC//wCymnUAFQ3UJuLSWFXaNnQqHU4KnHUGpqKAMKO9mv4tMtw7JMzFrnaxBAj4Yfi2B9Kkg1p31GGBzbyLOzqPIctsKgnk4weh+nvVy30q3tr65uk3l7n7ysflX1x6Z6mobfRIoJLY/abh1tCfJjYrtQFSuOACeD35oAqDUbi60u1vLqGJY5p4giJIwIy+MkjH5VNJrLxagkRNu6NOISkblnXPQk4wPp+tWl0mBdPt7MPJ5du6OpyMkq2Rniol0SJWXFzceUk/npDldqtu3HtkjJPBNP8Ar8gfkUoNQvra3vLllSW2hu5A+9zv278fL2AHp7dqUaq9pJeAsHeS+8mLzWO1B5at+XB4HerZ0KEs4+0XHkySmaSHcNrsTnnjOPYEe9SvpED+cRJKjyT+eJFIzG+0L8vHoO+eppL+vwG93/XcXTb57xZllVd0Tbd8edrgjORn8se1XqgtbY2yMGnmnZjlnlYE/gAAAPoKnoEFFFFABRRRQAUUUUAFFFFABRRRQAUUUUAFFFFABRRRQAUUUUAFFFFABRRRQAUUUUAFFFFAEdv/AMe0X+4P5VJUdv8A8e0X+4P5VJQAVjC1F9rV+ss9yoiEYQRXDoFyvoDj862azptIEt5LcJe3UBmADpEygNgY7rkfgaQFCHWpkt4IGeJrhnlQzS5ClY227sDqTxxx3pt7dXOow2CoqRiS6Mci7mw5AYjkYO04z+Vaj6TB5MCWzyWrW4IjeIjIB6j5gQc+9O/s6MrbB5ppGt5DKHd8lmwRz7fMeBimBn/2jJbzTR2sCl3vxb/PI2OYw2e+PoKV9QlkHlXcSebBexxExuwU5wQfXv0PFXf7Jg84y75NxuRc9Rjdt246dMUPpUDzSSFpMyTpOcEfeUAAdOnFHb5fp/wQfl/W5mNeXX2HUGvdkqRXaxoqMykfMvcduatT6rcot3cQwRNa2blZNzEO+ACxHYYz3647VPJo8Mn2hTLMEuJFkZARgMCDkcZ52jNJPo0M8spM06QztumgVhskPvxkZxzgjNC6AVrnV7tGv3toYWhsgrsXYguCgYgehrYRt8asOjAGqkmlwyJeqWcC9XbJgj5fl28cen1q2ihEVR0UYGaAHUUUUAFFFFABRRRQAUUUUAFFFFABRRRQAUUUUAFFFFABRRRQAUUUUAFFFFABRRRQAVG3/Hyn+438xUlRt/x8p/uN/MUASUUUUAZ2vTNb6HcSo7IUAO5CQR8w9Kp2+pF4b3VrppVW2DKtpypQDnLDux4PsD9a1ry1S9tXt5SwR8ZKnng5/pUU+mW9xcvM4b97EYpUB+WRff3HOD70AUU1e7begigllMLSx+UzEAjHyHI754P14q3a6l9svESBQYfs6zM/oW+6PyBp0Fk9puk+03V2VQqkcjqAPbgAE+5zUWiae2n2snmLtkmlaQru3bBn5Vz7DFMOhpUUUUgCiiigAooooAKKKKACiiigAooooAKKKKACiiigAooooAKKKKACiiigAooooAKKKKACiiigAooooAKLb/j1i/3B/Kii2/49Yv8AcH8qAJKKKKAIZ/vQ/wC//wCymnU24JBhwpY7+g/3TSbpP+eEn5r/AI0APopm6T/nhJ+a/wCNG6T/AJ4Sfmv+NAD6KZuk/wCeEn5r/jRuk/54Sfmv+NAD6KZuk/54Sfmv+NG6T/nhJ+a/40APopm6T/nhJ+a/40bpP+eEn5r/AI0APopm6T/nhJ+a/wCNG6T/AJ4Sfmv+NAD6KZuk/wCeEn5r/jRuk/54Sfmv+NAD6KZuk/54Sfmv+NG6T/nhJ+a/40APopm6T/nhJ+a/40bpP+eEn5r/AI0APopm6T/nhJ+a/wCNG6T/AJ4Sfmv+NAD6KZuk/wCeEn5r/jRuk/54Sfmv+NAD6KZuk/54Sfmv+NG6T/nhJ+a/40APopm6T/nhJ+a/40bpP+eEn5r/AI0APopm6T/nhJ+a/wCNG6T/AJ4Sfmv+NAD6KZuk/wCeEn5r/jRuk/54Sfmv+NAD6KZuk/54Sfmv+NG6T/nhJ+a/40APopm6T/nhJ+a/40bpP+eEn5r/AI0APopm6T/nhJ+a/wCNG6T/AJ4Sfmv+NAD6KZuk/wCeEn5r/jRuk/54Sfmv+NACW/8Ax7Rf7g/lUlQQM/2ePELkbByCvPH1qTdJ/wA8JPzX/GgB9FM3Sf8APCT81/xo3Sf88JPzX/GgB9FM3Sf88JPzX/GjdJ/zwk/Nf8aAH0UzdJ/zwk/Nf8aN0n/PCT81/wAaAH0UzdJ/zwk/Nf8AGjdJ/wA8JPzX/GgB9FM3Sf8APCT81/xo3Sf88JPzX/GgB9FM3Sf88JPzX/GjdJ/zwk/Nf8aAH0UzdJ/zwk/Nf8aN0n/PCT81/wAaAH0UzdJ/zwk/Nf8AGjdJ/wA8JPzX/GgB9FM3Sf8APCT81/xo3Sf88JPzX/GgB9FM3Sf88JPzX/GjdJ/zwk/Nf8aAH0UzdJ/zwk/Nf8aN0n/PCT81/wAaAH0UzdJ/zwk/Nf8AGjdJ/wA8JPzX/GgB9FM3Sf8APCT81/xo3Sf88JPzX/GgB9FM3Sf88JPzX/GjdJ/zwk/Nf8aAH0UzdJ/zwk/Nf8aN0n/PCT81/wAaAH0UzdJ/zwk/Nf8AGjdJ/wA8JPzX/GgB9FM3Sf8APCT81/xo3Sf88JPzX/GgB9Rt/wAfKf7jfzFLuk/54Sfmv+NRln+0J+5fOxuMr6j3oAnopm6T/nhJ+a/40bpP+eEn5r/jQA+imbpP+eEn5r/jRuk/54Sfmv8AjQA+imbpP+eEn5r/AI0bpP8AnhJ+a/40APopm6T/AJ4Sfmv+NG6T/nhJ+a/40APopm6T/nhJ+a/40bpP+eEn5r/jQA+imbpP+eEn5r/jRuk/54Sfmv8AjQA+imbpP+eEn5r/AI0bpP8AnhJ+a/40APopm6T/AJ4Sfmv+NG6T/nhJ+a/40APopm6T/nhJ+a/40bpP+eEn5r/jQA+imbpP+eEn5r/jRuk/54Sfmv8AjQA+imbpP+eEn5r/AI0bpP8AnhJ+a/40APopm6T/AJ4Sfmv+NG6T/nhJ+a/40APopm6T/nhJ+a/40bpP+eEn5r/jQA+imbpP+eEn5r/jRuk/54Sfmv8AjQA+imbpP+eEn5r/AI0bpP8AnhJ+a/40APopm6T/AJ4Sfmv+NG6T/nhJ+a/40APopm6T/nhJ+a/40bpP+eEn5r/jQA+imbpP+eEn5r/jRuk/54Sfmv8AjQA+i2/49Yv9wfypm6T/AJ4Sfmv+NPtv+PWL/cH8qAJKKKKAI5f9ZD/vn/0E1JUcv+sh/wB8/wDoJqSgAooooAKKgjvrSaN5IrqF0jO12WQEKfQntUjzRRlhJIilRuO5gMD1oAfRUUV1bztiCeOQ88I4PQ4PT0PFRPfxpdJH8pjKOzzeagVCpAwQTnv2GBjnHFAFqimmRFcKzqGYEgE8kDrVK71qytdJudRSVbmC2Ul/s7K546jrjNAF+igc0UAFFFFABRRRQAUUUUAFFFFABRRRQAUUUUAFFFFABRRRQAUUUUAFFFFABRRRQAUUUUAFFFFAEdt/x6xf7g/lUlR23/HrF/uD+VSUAFFFZV3rbQ3k1vZ6bd37W4BnaAxgR5GQPmYEnHOB60AatFRQXUVxGjRt9+MSBWG1gp6Eg8j8aRr21XZuuYR5m3ZmQfNu6Y9c9qAJqKYJ4jGriVCjkBW3DDE9MGorO8W6hRioikYE+UZFYgA4z8pIoAsUVBLfWkEYknuoY0ZtgZ5AAWzjGT3z2qNNSifWZNNVX82O3S4LYG0qzMoH1+U0AW6KKKACiiigAooooAKKKKACiiigAooooAKKKKACiiigAooooAKKKKACiiigAooooAKKKKACo2/4+o/9xv5rUlRt/wAfUf8AuN/NaAJKKKKACiq9/ew6dYy3dzu8uMZIUZZj0AA7knAH1qtp+r/bLqS1ubK4sblEEginKHchONwKMw6jBGcj8RQBo0UUHigAorE0/wAWafqXhifXLZZvIt43klhZQJF2jdjGcZIwRzggitR722iWEzzxwmbAjEjhSx9BnqaBtWJ6KKzLvXre01m105oLh5LmTyxKsf7tG2M4BY4ycKeBnHGcZFAjTooooAKKpjVIBqFzaTboXgiExaTAV0PVgfQEYPp+Iptrq9rcWVtcyP8AZVuv9SlwwRnHbAz3GDjrzQBeoqKW7t4JY4p54o5JTiNHcAufQA9aloAKKKKACiiigAooooAKKKKACiiigAooooAKKKKACiiigAooooAKKKKACo7b/j1i/wBwfyqSo7b/AI9Yv9wfyoAkooooAjl/1kP++f8A0E1JUcv+sh/3z/6CakoAKq6nEs+k3cTxzSLJC6skBAkYFSMKSQM+lWqKT1Vhp2dzhGt7q80bVLS0tHnRbOMRzvp7WszlWyIiGAD8d1AAJxUusvNrUOsy2dhfeXJpaxR+bavG0jb3yoVgGyM+n0rtqKe7u/63/wAybaMwNdt5NNtrTUdIsTLLYkqLa3j5eNxtKgD/AGtjf8BqmugmPU9KsriJpoP7MuorqXYdrPI0RbJ6Asdx/OurooKTtscZBBqU2l6hcX9gZ7i1thp8cVxCWWcA/vJAvVlbg4HXbiqVzbXN3ba41rb3UqTaZGiEae1uHcO/yqhG4kAjrnrxXoFFGt7/ANf1qLpb+v60AfdFFFFABRRRQAUUUUAFFFFABRRRQAUUUUAFFFFABRRRQAUUUUAFFFFABRRRQAUUUUAFFFFABRRRQBHbf8esX+4P5VJUdt/x6xf7g/lUlABXL6y9tFqk7tb6xaXhQCG606GWVZxjjcFVkyDx+8H44rqKKQHJxS31jq0V9q1ncSXF5pUUDi1t2kVZ1ZiykrkLnf1OF4PNReFdMlj1CxlvbF0MOhWkQaWIjZIC+5ckcMOMjr0rsaKq9v69f8x30a9Pwt/kcvY2FyviMWElvINPsJpLyCUg7XMn3UB6HaWl47DZVKC31DTPDWnaha2M0l7avPG1uIzvdJHbHHoG8tvoCa7WiptsLrc5C6s2017Gya33Rx2Zj+1Jp7XMkkjH51yMhATySwwc9sGjwhaXkF5aveW88WNDtYmMqEYdWkypz3GRke9dfRT/AK/P/MfRr+un+QUUUUCCiiigAooooAKKKKACiiigAooooAKKKKACiiigAooooAKKKKACiiigAooooAKKKKACo2/4+o/9xv5rUlRt/wAfUf8AuN/NaAJKKKKAMrxJazXWisLaMyywzRXAjHWTy5FcqPchcVWsZzq3iVdQgt7mG2t7RoN1zbvCXd3UkBXAOAE64xzx3reooWn9fIHqrGHr/h7+2p4ZPJ0aTy1K51HS/tTDn+E+YuB7c1pafafYdNhtdtuvlJt220PlRj/dTJ2j2yatUUraWDrc8+k0jULT4cxT2NnM14+lG1u7IIRJIpQhTt671J6dwSOuK17lILXUbxtW024vEurWKODy7RpwQFIaM4B2cnOWwDu68HHVUU3qrFOV3f8Ar+tDK0SSS2sLHS75y9/DZRtN37bTz3OQfyqPXYJptU0F4ondYr8vIyqSEXyZBk+gyQPxrWEMaztOEUSuoRnxyQMkDPtk/nT6d7u5O39eRQ1nTv7V0x7XZZPuIO2+tftEXBzym5c/nxVfQNE/sWGZPK0uPzGB/wCJdp/2UHH94b23H34rXopbBuYHirTBqC6cRBJIVvEjl8sHmFj+8VsfwEAZzxwKzdbtnTW757uKR7e5gSOHy9Na6yoBBT5c7OTnnAOevBx2NFKwdbnEajbS2DBoLe6u71rOCIw3WnmeO62ZwN6f6tsk5LNtHXBxmu3GdoyMHuKKKq9xWsFFFFIYUUUUAFFFFABRRRQAUUUUAFFFFABRRRQAUUUUAFFFFABRRRQAVHbf8esX+4P5VJUdt/x6xf7g/lQBJRRRQBDPuDQ7ACd/AJx/Cadun/55x/8Afw/4US/6yH/fP/oJqSgCPdP/AM84/wDv4f8ACjdP/wA84/8Av4f8KkooAj3T/wDPOP8A7+H/AAo3T/8APOP/AL+H/CpKKAI90/8Azzj/AO/h/wAKN0//ADzj/wC/h/wqSigCPdP/AM84/wDv4f8ACjdP/wA84/8Av4f8KkooAj3T/wDPOP8A7+H/AAo3T/8APOP/AL+H/CpKKAI90/8Azzj/AO/h/wAKN0//ADzj/wC/h/wqSigCPdP/AM84/wDv4f8ACjdP/wA84/8Av4f8KkooAj3T/wDPOP8A7+H/AAo3T/8APOP/AL+H/CpKKAI90/8Azzj/AO/h/wAKN0//ADzj/wC/h/wqSigCPdP/AM84/wDv4f8ACjdP/wA84/8Av4f8KkooAj3T/wDPOP8A7+H/AAo3T/8APOP/AL+H/CpKKAI90/8Azzj/AO/h/wAKN0//ADzj/wC/h/wqSigCPdP/AM84/wDv4f8ACjdP/wA84/8Av4f8KkooAj3T/wDPOP8A7+H/AAo3T/8APOP/AL+H/CpKKAI90/8Azzj/AO/h/wAKN0//ADzj/wC/h/wqSigCPdP/AM84/wDv4f8ACjdP/wA84/8Av4f8KkooAj3T/wDPOP8A7+H/AAo3T/8APOP/AL+H/CpKKAI90/8Azzj/AO/h/wAKN0//ADzj/wC/h/wqSigCvbtN9mixHGRsGMufT6VJun/55x/9/D/hRbf8esX+4P5VJQBHun/55x/9/D/hRun/AOecf/fw/wCFSUUAR7p/+ecf/fw/4Ubp/wDnnH/38P8AhUlFAEe6f/nnH/38P+FG6f8A55x/9/D/AIVJRQBHun/55x/9/D/hRun/AOecf/fw/wCFSUUAR7p/+ecf/fw/4Ubp/wDnnH/38P8AhUlFAEe6f/nnH/38P+FG6f8A55x/9/D/AIVJRQBHun/55x/9/D/hRun/AOecf/fw/wCFSUUAR7p/+ecf/fw/4Ubp/wDnnH/38P8AhUlFAEe6f/nnH/38P+FG6f8A55x/9/D/AIVJRQBHun/55x/9/D/hRun/AOecf/fw/wCFSUUAR7p/+ecf/fw/4Ubp/wDnnH/38P8AhUlFAEe6f/nnH/38P+FG6f8A55x/9/D/AIVJRQBHun/55x/9/D/hRun/AOecf/fw/wCFSUUAR7p/+ecf/fw/4Ubp/wDnnH/38P8AhUlFAEe6f/nnH/38P+FG6f8A55x/9/D/AIVJRQBHun/55x/9/D/hRun/AOecf/fw/wCFSUUAR7p/+ecf/fw/4Ubp/wDnnH/38P8AhUlFAEe6f/nnH/38P+FRs032lP3cedjfxn1HtVio2/4+o/8Acb+a0AG6f/nnH/38P+FG6f8A55x/9/D/AIVJRQBHun/55x/9/D/hRun/AOecf/fw/wCFSUUAR7p/+ecf/fw/4Ubp/wDnnH/38P8AhUlFAEe6f/nnH/38P+FG6f8A55x/9/D/AIVJRQBHun/55x/9/D/hRun/AOecf/fw/wCFSUUAR7p/+ecf/fw/4Ubp/wDnnH/38P8AhUlFAEe6f/nnH/38P+FG6f8A55x/9/D/AIVJRQBHun/55x/9/D/hRun/AOecf/fw/wCFSUUAR7p/+ecf/fw/4Ubp/wDnnH/38P8AhUlFAEe6f/nnH/38P+FG6f8A55x/9/D/AIVJRQBHun/55x/9/D/hRun/AOecf/fw/wCFSUUAR7p/+ecf/fw/4Ubp/wDnnH/38P8AhUlFAEe6f/nnH/38P+FG6f8A55x/9/D/AIVJRQBHun/55x/9/D/hRun/AOecf/fw/wCFSUUAR7p/+ecf/fw/4Ubp/wDnnH/38P8AhUlFAEe6f/nnH/38P+FG6f8A55x/9/D/AIVJRQBHun/55x/9/D/hRun/AOecf/fw/wCFSUUAR7p/+ecf/fw/4Ubp/wDnnH/38P8AhUlFAEe6f/nnH/38P+FFt/x6xf7g/lUlR23/AB6xf7g/lQBJRRRQBHL/AKyH/fP/AKCakqOX/WQ/75/9BNSUAFR3E8VrbS3Fw4jiiQu7noqgZJqSsnxX/wAibrP/AF4T/wDos0pOyuVFc0kixZ61p9/cNBaXSSSKu7bgjcv95c/eHI5GRUP/AAkWnSw3Bs7mOeSGJ5QgJAkCjnacYYdBkZxmspLW/wBZWwR7GTTY7W2cGcyIwdnj2AJtJO3ndlgvRePSeFdQn0k6dJoht2hs2iEzSxlC2zaBHgk4PqwXAoqXSlb+tyYa2uXF8SafHY2s17Olu9xbrcGPlvLUjOWwOF7bjgcVYudb060uFhuLtFdlDcZIVScBmI4UE9CcA1z01jrSWUFn9nu5If7OjhVLWaKNVlCkN5jEhsdMbcjGeKZNpurWttb/ANm2V3FqH2KCLz4biJoWZRjbMjnoCTygJIPBzirduZ+v+ZEW7K/b/I6SfWdPtr0Ws9yqzEqCMEhS33Qx6KT2BIz2q9XMahaanHrEsulWdzDNNJEWnjnja2lAABMiOdykAY+QZOF59OnqehfUKKKKACiiigAooooAKKKKACiiigAooooAKKKKACiiigAooooAKKKKACiiigAooooAKKKKACiiigCO2/49Yv8AcH8qkqO2/wCPWL/cH8qkoAK5/V9Y1rT9Ttbe20ywnhvJ/JgkkvnRs7GcllERwPlI4J7fh0FZOs2VxdajostvHvS1vTLMdwG1fKkXPPXlgOPWhbj7kkWpvHcPFqTWduYbVZ5gk5by8lgTkqo2fLw3B4PAqvd+J7KPR7u9sXW6a1VWaIko2CcA8jODzg4wcVT1jRb291jUJoI1McljbpGWcASPHM7lD3AIIGcd6NYi1HXtB1GBNHlspZIlSIzSxeY53ZONrMAB6k8nt6q+gpabf1ojcm1Syg8/zrmNBbY84k8IT0BPqeOOvI9apXPifTbfS2v0laaNJViZURtysxAwVIyODnntWTNoeow6e9hAsk0drdpdwTrIiyXA3EsjE/8ALQEkhiMH5cnOTStpd7cabqMy2V4tzK0G2O8uI2klEb7sYU7V7gZbnvijo2HU6g3EQtftDyBIQm8u/wAoC4zk56fjWTd+J7GPR72+sXW6a0i8xoiShI7HkZwcHBxg4qxq1rNqvh6aGOLyppYwwhmI6gg7GIyOcYOM9e9ZuqrqOt6FqUC6LJaSvbeXF58sW+RieQNrEBfckfSn1F0NWfXNNtrz7LPdok2VDDkhC33Qx6KTkYBxnNLLrOnwXws5blVn3BSuDhWb7oLdFJzwCcntXO69Y63ff2jarb3cySlfsximijgC4XO7kOWyG65HTpzize2mpRa5LJpNndQPNPG8kyzxtbTKAoYyIx3KwVcfIOcLz1wLoHc2V1nT21D7Etypn3FNuDgsBkru6bsDOM5q9XMw2mpW+uqLGzurSB7p5LjdPHJbSIcksoJ8xXJOcAAA5znqemo6De4UUUUAFFFFABRRRQAUUUUAFFFFABRRRQAUUUUAFFFFABRRRQAUUUUAFFFFABUbf8fUf+4381qSo2/4+o/9xv5rQBJRRRQBDdzyW9q0kFu9zIMBYkIBYn3JAA9TVXQ9SfV9FgvpYBA8m4NGr7wpDFeuBnp6CtCsrw1Zz6f4fgtruPy5kaQsuQcZkYjkexFLqLqObxLoS332Jta04XXmeV5Bu0378427c5znjFWr+5mtLQyW1q91LnCxqwX8ST0A7nk+gPSqraVeG+88a/qIj8zf9nEdvsxnO3PlbsdvvZ960ZAWiYDqQQKH8JXUybLxHazaDp+o3uLZr6FZFhXMjZIyQABk49cVI/iCxXULG1RzL9ujMkMkalkIGMcj1zWJDpV7Z+HNCjfT7xryztPKaSxuY1lgbauVw5COpxzknkDg9Rfit9VSbQ7q9tzcTxRyRXPlMgKF9uGIJAIG3nb36Cqlu7dxHQVi/wBs38V3CbvTkhs7i4+zxsZyZs5IDFNuMHGeGJA59caGn3y6hbNMkbIolkjG7+LY5XP0OKw7aTUrnxF9p1TQb4LFIY7RhLbmKFDwZD+93FiP9nIHAHUldQezN69v7PTbY3Go3cFpACAZZ5AignoMnimafqunatG8ml39reoh2s1tMsgU+hKk4p97bS3VsYoL2eyfIPnQKhYe3zqw/SmafZz2cbrcaldX5Y5D3KxAr7Dy0UfnmgCjq2r6hp/2qeDTo5LOzi82aWa48tnABJCDaQcD1I5496nufEOl2TFbu7WJlRXdWByinozccD3PArM1qTUbnV1t5NDvbvS4dsn+jyQAXEnUBg8qkKvpjk+w5srp9y+razcPblY7yzhjjDMuSwEmVOD23D2pbRuPqkXbzW9PsZFjuLpFd03heThezEj7q8dTgU/SL/8AtTRbK/8AL8r7VAk2zdnbuUHGe/WsGytNU0qNk/sxrw3VnBGSssYETpHtKvuYfL3yu7q3HTN7w80unaZo+i3UDJcx6cpl2kFYygRSuQe5Jxj0NXZar+upKd4psvahc6hHLFFpllHOzgs8k8xjjQDHGQrEk56Y7Hn1dpOof2npkV2YvKLllZN24AqxU4PcZBwe4qprvnvGIH0Y6tYSqRLDG6CQMCCpw7KpXr3yOOtSeHrS6stGjgvcq6u5SMvvMUZYlELdyq4Gfbv1qVsNhH4l0KW+FnFrWnvdF/LEC3SFy3TbtznPtVu+nnt7RntLY3U2QqRb9oJJxknsB1JweB0NVI9KvEvhO2v6jJGH3fZ2jt9hH93IiDY/4Fn3qzqMl3FZl7C3W5kVhmFn2l1z8wBPGcdM8fTrR0DqULfXvIN4muLb2TWfll5I5i8ZEhwvzFQQc8Yx3HrViTX9MijheW6CCYEoCjZKg4LEYyFH948e9c0+hXs1herp+lyadazTWrx2Eske7ekwaST5WZVBUDgHnb0z127qO9sfEM19b2El/FdW0cOInRWiZGc872Hynf2yRjpQO2hf0nUBqmlQXoQIJgSFDbu5HX8KuVl+GrOfT/Ddna3kSwzRIQ8aEFVOTwCO1alAgooooAKKKKACiiigAooooAKKKKACiiigAqO2/wCPWL/cH8qkqO2/49Yv9wfyoAkooooAjl/1kP8Avn/0E1JUM+4tDsIB38EjP8Jp22f/AJ6R/wDfs/40ASU2SNJomjlRXjcFWVhkMD1BFN2z/wDPSP8A79n/ABo2z/8APSP/AL9n/GgB6gKoVQAAMADtS1Htn/56R/8Afs/40bZ/+ekf/fs/40ASUVHtn/56R/8Afs/40bZ/+ekf/fs/40ASUVHtn/56R/8Afs/40bZ/+ekf/fs/40ASUVHtn/56R/8Afs/40bZ/+ekf/fs/40ASUVHtn/56R/8Afs/40bZ/+ekf/fs/40ASUVHtn/56R/8Afs/40bZ/+ekf/fs/40ASUVHtn/56R/8Afs/40bZ/+ekf/fs/40ASUVHtn/56R/8Afs/40bZ/+ekf/fs/40ASUVHtn/56R/8Afs/40bZ/+ekf/fs/40ASUVHtn/56R/8Afs/40bZ/+ekf/fs/40ASUVHtn/56R/8Afs/40bZ/+ekf/fs/40ASUVHtn/56R/8Afs/40bZ/+ekf/fs/40ASUVHtn/56R/8Afs/40bZ/+ekf/fs/40ASUVHtn/56R/8Afs/40bZ/+ekf/fs/40ASUVHtn/56R/8Afs/40bZ/+ekf/fs/40ASUVHtn/56R/8Afs/40bZ/+ekf/fs/40ASUVHtn/56R/8Afs/40bZ/+ekf/fs/40AFt/x6xf7g/lUlV7cTfZosSRgbBjKH0+tSbZ/+ekf/AH7P+NAElFR7Z/8AnpH/AN+z/jRtn/56R/8Afs/40ASUVHtn/wCekf8A37P+NG2f/npH/wB+z/jQBJRUe2f/AJ6R/wDfs/40bZ/+ekf/AH7P+NAElFR7Z/8AnpH/AN+z/jRtn/56R/8Afs/40ASUVHtn/wCekf8A37P+NG2f/npH/wB+z/jQBJRUe2f/AJ6R/wDfs/40bZ/+ekf/AH7P+NAElFR7Z/8AnpH/AN+z/jRtn/56R/8Afs/40ASUVHtn/wCekf8A37P+NG2f/npH/wB+z/jQBJRUe2f/AJ6R/wDfs/40bZ/+ekf/AH7P+NAElFR7Z/8AnpH/AN+z/jRtn/56R/8Afs/40ASUVHtn/wCekf8A37P+NG2f/npH/wB+z/jQBJRUe2f/AJ6R/wDfs/40bZ/+ekf/AH7P+NAElFR7Z/8AnpH/AN+z/jRtn/56R/8Afs/40ASUVHtn/wCekf8A37P+NG2f/npH/wB+z/jQBJRUe2f/AJ6R/wDfs/40bZ/+ekf/AH7P+NAElFR7Z/8AnpH/AN+z/jRtn/56R/8Afs/40ASUVHtn/wCekf8A37P+NG2f/npH/wB+z/jQBJUbf8fUf+4381o2z/8APSP/AL9n/Go2E32lP3kedjfwH1HvQBYoqPbP/wA9I/8Av2f8aNs//PSP/v2f8aAJKKj2z/8APSP/AL9n/GjbP/z0j/79n/GgCSio9s//AD0j/wC/Z/xo2z/89I/+/Z/xoAkoqPbP/wA9I/8Av2f8aNs//PSP/v2f8aAJAAowBgegoqPbP/z0j/79n/GjbP8A89I/+/Z/xoAkoqPbP/z0j/79n/GjbP8A89I/+/Z/xoAkoqPbP/z0j/79n/GjbP8A89I/+/Z/xoAkowN2cc9M1Htn/wCekf8A37P+NG2f/npH/wB+z/jQBJRUe2f/AJ6R/wDfs/40bZ/+ekf/AH7P+NAElFR7Z/8AnpH/AN+z/jRtn/56R/8Afs/40ASUVHtn/wCekf8A37P+NG2f/npH/wB+z/jQBJRUe2f/AJ6R/wDfs/40bZ/+ekf/AH7P+NAElFR7Z/8AnpH/AN+z/jRtn/56R/8Afs/40ASUVHtn/wCekf8A37P+NG2f/npH/wB+z/jQBJRUe2f/AJ6R/wDfs/40bZ/+ekf/AH7P+NAElFR7Z/8AnpH/AN+z/jRtn/56R/8Afs/40ASUVHtn/wCekf8A37P+NG2f/npH/wB+z/jQBJRUe2f/AJ6R/wDfs/40bZ/+ekf/AH7P+NAElR23/HrF/uD+VG2f/npH/wB+z/jRbf8AHrF/uD+VAElFFFAEcv8ArIf98/8AoJqSo5f9ZD/vn/0E1JQAUUVHc3EVpay3Ny4jhhQySOf4VAyT+VAbklFZkeu27Ws9xcQXVpHCgkJnhI3KehGM5PH3fvdOOaaviC38q5aa3u4Ht4/OeKWHDmPP3gBnI4PA5HcdKANWiqtrqEF5PNHbMZBDt3SL93LDIAPc4IP4irVABRRRQAUUUUAFFFFABRRRQAUUUUAFFFFABRRRQAUUUUAFFFFABRRRQAUUUUAFFFFABRRRQAUUUUAFFFFAEdt/x6xf7g/lUlR23/HrF/uD+VSUAFFFc9e6tetr0un219YWDxqphju4i7XWRklfnX5QeOMnP6gHQ0VmT6yLTyoZ7Wea7MQllhtU8zyx0JzxxnOO5wcCh/EOnRxiVpT5b232qN9pxInGdvcnkcdfmFAGnRTY23xqxVk3AHa3Uexp1ABRRRQAUUUUAFFFFABRRRQAUUUUAFFFFABRRRQAUUUUAFFFFABRRRQAUUUUAFFFFABRRRQAUUUUAFRt/wAfUf8AuN/NakqNv+PqP/cb+a0ASUUUUAFFFFABRRRQAUUUUAFFFFABRRRQAUUUUAFFFFABRRRQAUUUUAFFFFABRRRQAUUUUAFFFFABRRRQAUUUUAFFFFABRRRQAVHbf8esX+4P5VJUdt/x6xf7g/lQBJRRRQBHL/rIf98/+gmpKjl/1kP++f8A0E1JQAVFdxvNZzRxeUXdCqiZNyEkfxDIyPUVLRQByaeGL2ezvbeXybCCWKMRW0F1JPGsiNuDfMF2DgDavUVZs9J1GD7VcR2en2t20HlQEXUs/JOSWZlGB0+UDnHUV0dFAGR4f0Z9AtpLCJ1eyUhoCfvgn74bjGM8g++McCteiigAooooAKKKKACiiigAooooAKKKKACiiigAooooAKKKKACiiigAooooAKKKKACiiigAooooAKKKKACiiigCO2/49Yv9wfyqSo7b/j1i/wBwfyqSgArD1e11e5ee3js9M1GxnAwl5IyGE4weAjBx36qe3vW5RStcDlH8MXdq9tLb+VqUi2cVrL9pupIMmPOHBQNnO45B9ufWW78M3N3b2EKvawLpsYltxErbftI6Eg5+Qc8ZJO7tgV01FVdt3AbGXMamUKr4G4KcgHvg8Zp1FFIAooooAKKKKACiiigAooooAKKKKACiiigAooooAKKKKACiiigAooooAKKKKACiiigAooooAKKKKACo2/4+o/8Acb+a1JUbf8fUf+4381oAkooooAKKKKACiiigAooooAKKKKACiiigAooooAKKKKACiiigAooooAKKKKACiiigAooooAKKKKACiiigAooooAKKKKACiiigAqO2/wCPWL/cH8qkqO2/49Yv9wfyoAkooooAhnBZoQGKnf1H+6ad5T/895PyX/CiX/WQ/wC+f/QTUlAEflP/AM95PyX/AAo8p/8AnvJ+S/4VJRQBH5T/APPeT8l/wo8p/wDnvJ+S/wCFSUUAR+U//PeT8l/wo8p/+e8n5L/hUlFAEflP/wA95PyX/Cjyn/57yfkv+FSUUAR+U/8Az3k/Jf8ACjyn/wCe8n5L/hUlFAEflP8A895PyX/Cjyn/AOe8n5L/AIVJRQBH5T/895PyX/Cjyn/57yfkv+FSUUAR+U//AD3k/Jf8KPKf/nvJ+S/4VJRQBH5T/wDPeT8l/wAKPKf/AJ7yfkv+FSUUAR+U/wDz3k/Jf8KPKf8A57yfkv8AhUlFAEflP/z3k/Jf8KPKf/nvJ+S/4VJRQBH5T/8APeT8l/wo8p/+e8n5L/hUlFAEflP/AM95PyX/AAo8p/8AnvJ+S/4VJRQBH5T/APPeT8l/wo8p/wDnvJ+S/wCFSUUAR+U//PeT8l/wo8p/+e8n5L/hUlFAEflP/wA95PyX/Cjyn/57yfkv+FSUUAR+U/8Az3k/Jf8ACjyn/wCe8n5L/hUlFAEflP8A895PyX/Cjyn/AOe8n5L/AIVJRQBXt42NtERNIPkHAC8cfSpPKf8A57yfkv8AhRbf8esX+4P5VJQBH5T/APPeT8l/wo8p/wDnvJ+S/wCFSUUAR+U//PeT8l/wo8p/+e8n5L/hUlFAEflP/wA95PyX/Cjyn/57yfkv+FSUUAR+U/8Az3k/Jf8ACjyn/wCe8n5L/hUlFAEflP8A895PyX/Cjyn/AOe8n5L/AIVJRQBH5T/895PyX/Cjyn/57yfkv+FSUUAR+U//AD3k/Jf8KPKf/nvJ+S/4VJRQBH5T/wDPeT8l/wAKPKf/AJ7yfkv+FSUUAR+U/wDz3k/Jf8KPKf8A57yfkv8AhUlFAEflP/z3k/Jf8KPKf/nvJ+S/4VJRQBH5T/8APeT8l/wo8p/+e8n5L/hUlFAEflP/AM95PyX/AAo8p/8AnvJ+S/4VJRQBH5T/APPeT8l/wo8p/wDnvJ+S/wCFSUUAR+U//PeT8l/wo8p/+e8n5L/hUlFAEflP/wA95PyX/Cjyn/57yfkv+FSUUAR+U/8Az3k/Jf8ACjyn/wCe8n5L/hUlFAEflP8A895PyX/Cjyn/AOe8n5L/AIVJRQBH5T/895PyX/Co2jb7Sg86T7jc4X1HtVio2/4+o/8Acb+a0AHlP/z3k/Jf8KPKf/nvJ+S/4VJRQBH5T/8APeT8l/wo8p/+e8n5L/hUlFAEflP/AM95PyX/AAo8p/8AnvJ+S/4VJRQBH5T/APPeT8l/wo8p/wDnvJ+S/wCFSUUAR+U//PeT8l/wo8p/+e8n5L/hUlFAEflP/wA95PyX/Cjyn/57yfkv+FSUUAR+U/8Az3k/Jf8ACjyn/wCe8n5L/hUlFAEflP8A895PyX/Cjyn/AOe8n5L/AIVJRQBH5T/895PyX/Cjyn/57yfkv+FSUUAR+U//AD3k/Jf8KPKf/nvJ+S/4VJRQBH5T/wDPeT8l/wAKPKf/AJ7yfkv+FSUUAR+U/wDz3k/Jf8KPKf8A57yfkv8AhUlFAEflP/z3k/Jf8KPKf/nvJ+S/4VJRQBH5T/8APeT8l/wo8p/+e8n5L/hUlFAEflP/AM95PyX/AAo8p/8AnvJ+S/4VJRQBH5T/APPeT8l/wo8p/wDnvJ+S/wCFSUUAR+U//PeT8l/wo8p/+e8n5L/hUlFAEflP/wA95PyX/Cjyn/57yfkv+FSUUAR+U/8Az3k/Jf8ACi2/49Yv9wfyqSo7b/j1i/3B/KgCSiiigCOX/WQ/75/9BNSVHL/rIf8AfP8A6CakoAKKKr6hby3mm3FtBP8AZ5Jo2RZgu4oSMZx7UAYeiaveXWsyG7l3WWoK8unrsA2LG20jI67gVcZ9TUsnid0jjuRpsrWM1yltFOJFyxaQJuK9lyeD1PoKE8GaPZzWc+j2Npp9zayKwnht1DOuMMrEYJyCevfB5xWPPaXUskGkWZvxDBqEUywyWLKqIkwc5n+4yYB2gfN90HvTVuZIO7Nl/FEaXDEW+bNLj7M1x5y7t+7ZkJ1KhuM9eM4xzW9XPJ4YeC9Y209olo9wZ2V7EPMCW3MokLYwST1UkA8HpjoaXQOoUUUUAFFFFABRRRQAUUUUAFFFFABRRRQAUUUUAFFFFABRRRQAUUUUAFFFFABRRRQAUUUUAFFFFABRRRQBHbf8esX+4P5VJUdt/wAesX+4P5VJQAVzviTVL61uok0x8CzjN7eKEDb4QcbPYsN5BH9yuirEm8J6Xf6ldXus2VpqUszKIzcWyt5MYUAIM577jn1ajUehZu9WdLqG2061N7NLF5x/eBFWPIGSx7nPA74PSqMXitbm0t2trNvtNxJOqwTyrHsETlGLNzjnHTPX6mqs1jJ4fSwMFxdl4YWtvOisHuVMQbKIyIS+4Do3TrnqBUWm+GJ5NIs5nZI76KW5Zft9uJg0cspfDoCuGxtPBGDke1PS39f12F/X9fM6PTNSj1Sw+0Rq0ZDtG6EglGUkEZGQeR1rG07xHLPY6bFZWk97PdWRuVaeVFO0ED5iBjPzDoP8a2tNsmsbBYJJI5HyWZooREuSeyjoB05JPHJNZ2j+HP7JfT2+1ed9isTZ/wCr278sp3dTj7vTnr1pdf67P9Q+z5/8H/Iv2WpDUNGW/t4HyyMRC5AYMMgqSMjOQRVM+JrQW9tcbX8maze9dv8AnlGoBOffJxj2PpV3TLH+y9NFuZDLsZ33BMZ3OWxjn1xWJpGgJc2msfbEmW21FnihjkUo8cBycYPIy7uRnnBX0o7/ANf1/wAAFsrl6x183N6ttc2ZgkmiaWELMkhYLjKnB+VvmHHI96rSeLBa/aFv7EwSxWct4sSzq7FIwNytj7rcj1HvT7Xw7OizJdXVrseB4VNnZCB/mGNzNuY7gP7u0cnjpil/whk0lu0Ut7aRJ9gnskW0sfKUCQKN5G85I2+wOe1D8v63/wCAONrrmNCbxBNBb2hksVimvpCtvHLcKoxt3ZZscH/ZG4/rjXtpXmto5JoWgdhlonIJU+mRxVG/0y5ubCG3tri3CxrtkjurUTRSjGOVyD+R+ual0bTRpGkw2KyeaIs/Nt2jkk4UfwqM4A7AAU9NSVeyuXqKKKQwooooAKKKKACiiigAooooAKKKKACiiigAooooAKKKKACiiigAooooAKjb/j6j/wBxv5rUlRt/x9R/7jfzWgCSiiigAooooAKKKKACiiigAooooAKKKKACiiigAooooAKKKKACiiigAooooAKKKKACiiigAooooAKKKKACiiigAooooAKKKKACo7b/AI9Yv9wfyqSo7b/j1i/3B/KgCSiiigCOX/WQ/wC+f/QTUlQzqGaEHON/YkfwmnfZ09ZP+/jf40ASUVH9nT1k/wC/jf40fZ09ZP8Av43+NAElFR/Z09ZP+/jf40fZ09ZP+/jf40ASUVH9nT1k/wC/jf40fZ09ZP8Av43+NAElFR/Z09ZP+/jf40fZ09ZP+/jf40ASUVH9nT1k/wC/jf40fZ09ZP8Av43+NAElFR/Z09ZP+/jf40fZ09ZP+/jf40ASUVH9nT1k/wC/jf40fZ09ZP8Av43+NAElFR/Z09ZP+/jf40fZ09ZP+/jf40ASUVH9nT1k/wC/jf40fZ09ZP8Av43+NAElFR/Z09ZP+/jf40fZ09ZP+/jf40ASUVH9nT1k/wC/jf40fZ09ZP8Av43+NAElFR/Z09ZP+/jf40fZ09ZP+/jf40ASUVH9nT1k/wC/jf40fZ09ZP8Av43+NAElFR/Z09ZP+/jf40fZ09ZP+/jf40ASUVH9nT1k/wC/jf40fZ09ZP8Av43+NAElFR/Z09ZP+/jf40fZ09ZP+/jf40ASUVH9nT1k/wC/jf40fZ09ZP8Av43+NAElFR/Z09ZP+/jf40fZ09ZP+/jf40AFt/x6xf7g/lUlV7eBTbREmTlB0kYdvrUn2dPWT/v43+NAElFR/Z09ZP8Av43+NH2dPWT/AL+N/jQBJRUf2dPWT/v43+NH2dPWT/v43+NAElFR/Z09ZP8Av43+NH2dPWT/AL+N/jQBJRUf2dPWT/v43+NH2dPWT/v43+NAElFR/Z09ZP8Av43+NH2dPWT/AL+N/jQBJRUf2dPWT/v43+NH2dPWT/v43+NAElFR/Z09ZP8Av43+NH2dPWT/AL+N/jQBJRUf2dPWT/v43+NH2dPWT/v43+NAElFR/Z09ZP8Av43+NH2dPWT/AL+N/jQBJRUf2dPWT/v43+NH2dPWT/v43+NAElFR/Z09ZP8Av43+NH2dPWT/AL+N/jQBJRUf2dPWT/v43+NH2dPWT/v43+NAElFR/Z09ZP8Av43+NH2dPWT/AL+N/jQBJRUf2dPWT/v43+NH2dPWT/v43+NAElFR/Z09ZP8Av43+NH2dPWT/AL+N/jQBJRUf2dPWT/v43+NH2dPWT/v43+NAElFR/Z09ZP8Av43+NH2dPWT/AL+N/jQBJUbf8fUf+4381o+zp6yf9/G/xqNoF+0oMyfcb/lo3qPegCxRUf2dPWT/AL+N/jR9nT1k/wC/jf40ASUVH9nT1k/7+N/jR9nT1k/7+N/jQBJRUf2dPWT/AL+N/jR9nT1k/wC/jf40ASUVH9nT1k/7+N/jR9nT1k/7+N/jQBJRUf2dPWT/AL+N/jR9nT1k/wC/jf40ASUVH9nT1k/7+N/jR9nT1k/7+N/jQBJRUf2dPWT/AL+N/jR9nT1k/wC/jf40ASUVH9nT1k/7+N/jR9nT1k/7+N/jQBJRUf2dPWT/AL+N/jR9nT1k/wC/jf40ASUVH9nT1k/7+N/jR9nT1k/7+N/jQBJRUf2dPWT/AL+N/jR9nT1k/wC/jf40ASUVH9nT1k/7+N/jR9nT1k/7+N/jQBJRUf2dPWT/AL+N/jR9nT1k/wC/jf40ASUVH9nT1k/7+N/jR9nT1k/7+N/jQBJRUf2dPWT/AL+N/jR9nT1k/wC/jf40ASUVH9nT1k/7+N/jR9nT1k/7+N/jQBJRUf2dPWT/AL+N/jR9nT1k/wC/jf40ASUVH9nT1k/7+N/jR9nT1k/7+N/jQBJUdt/x6xf7g/lR9nT1k/7+N/jRbf8AHrF/uD+VAElFFFAEcv8ArIf98/8AoJqSo5f9ZD/vn/0E1JQAUUVDeTvbWM88ULXEkUbOsSdZCBkKPc9KHoNauxNRXJT+IJLjw7qE8z2dx5McbGK2lkikjJb7rrwy49eM88CpY73WF1jX/sSwzQ2s6MEuJG+YeQhKJjheec88np3o23EtdjqKK5qTxPI97AITa21tNFDLE16WT7T5n8KP90EenJJ7DrUkms6rJdasLK1tWh0yUKRI7Bpx5SuQMcKfm6nP0o23Ba7HQ0VFbXCXdpDcRcxzIrrn0IyKloemgk7q6CiiigYUUUUAFFFFABRRRQAUUUUAFFFFABRRRQAUUUUAFFFFABRRRQAUUUUAFFFFABRRRQAUUUUAR23/AB6xf7g/lUlR23/HrF/uD+VSUAFFFcV4i8SSWmrX8VvqWnR/ZbEgRyXe1i7nj5f7w2fgD70hna0VmSah/Z3hk385W48i38z9y+4S4HGGPXPHPvVSTUdWgkFpeR2qTXMEkkEkRYrGygEowPJ4PDDHQ8CnL3bijrY3qKxfCMUkfhSweYq0k0CSuykkuWUHJJJJJ7mqun6/cagtwtz9licQPI1nvdLiDHGGB5I/2hgDjGetEvdbXYI+8kzpKK4/S77U7nUoF0zy0jfRrWbZcyu6RktJwOckkYG4nPHOah1HXZJ45bxkkWNdFunltVnZV8yORVYblweoYBhg49KbVnb1/C/+Qf8AA/G3+Z21FcvceIdRij1aW2trZrfSArSCR23yr5KyEA9jyeTnP61dm1a/murtdLgt3iskUy+cxDSMU37VxwvBXk569O9J6K40m7G3RXLP4pufKsZGWzs0uLOK5828Zljld+sSv0Ujjk5PI4NdBf3i2Gl3F5J0giaQgc5wM4oeglrsWaKzbVJ9K8MoDG93c29tuZFPzSyBckD3J/nWSvie4XRb29DWN3LbojeTAzK6MxxsdG5HsTjPoMUPS/kHS51FFc/c6/d6O8y6xBC/+iyXUP2Vj82wgNGd3f51we/PAxTpNX1LT5DHqcFsWltpZoTAzYVkAJRs9eD94Y6HgUm0ldjSu7G9RWMmtzOmmMLcOb2ze4KKechVIUfXdiqVn4pb+y72+vHtH+zW3nvbQsyzQn+46MM+244+lPq12JTuk11OmormIPE91unjaCC+lFrJcRJZF/vJj90cjknPBHXB4rQ0LVZNTE3mXFlMY9pItmYNGTn5XRuVI9TjPoKBmvRXOa54kl0m4uCj2Tx2yK724dmncHrwBhOOmcg+1ILvV/7b1kaesMkVu0bBbh2+b90DsXH3fXPPXpSv1DrY6SisCHXLvVpEGhxQBPssV073JOD5gJVAF6HCnJ7ZHBqG48TytZ2txatZQNNbmYwXDs0pIOCgRRnGQRu5+lN6bgtdjpaK5238Q3N/qEMdrDDFbHT4b+R5SSwVy2VAHGcL1/Q1XbU9Vum0O6ljihtL66RlSKRt6KY3YB+zZ4zjofXrQ9Pvt+Ng/wAr/hc6qisfX7i/gm0tdOlijE12I5PMUncNrHHHbj+VY8mrapYXXiW8i8qe0sLhZGjmdtxQQRsyp2Xue+Seg60R1/r0/wAx2OwormNR8VyW95eJa/ZdtjgPFKzeZOdgYqmBgcEAE5yfTrXSxSCaFJFztdQwz6GgQ6iiigAooooAKjb/AI+o/wDcb+a1JUbf8fUf+4381oAkooooAKKKKACiiigAooooAKKKKACiiigAooooAKKKKACiiigAooooAKKKKACiiigAooooAKKKKACiiigAooooAKKKKACiiigAqO2/49Yv9wfyqSo7b/j1i/3B/KgCSiiigCOX/WQ/75/9BNSVHL/rIf8AfP8A6CakoAKjnhFxbyQszoJFKlo3KsM9wRyD71JRQBhyeFobmK5W/v7y8kuIlhMshjDIgbdgbUA68kkE0648MxzXl7cRajfW329gbmOF02yAIEwMqSvA6qQeTz0xtUUAtNjHvfDkV6jQG9u4bKSNY5LONlMbqBjHzKSoxwdpH581Rj8NT3Gqa1JcXl3a217Op8qCRNs0YiRSDlSV5DDKlTj8MdNRQG2w1EWONUjUKqgBQOwFOoooAKKKKACiiigAooooAKKKKACiiigAooooAKKKKACiiigAooooAKKKKACiiigAooooAKKKKACiiigCO2/49Yv9wfyqSo7b/j1i/wBwfyqSgAqhcaNbXMk8khfdO0TPjH/LNtwHToTnP1NX6yrvxRoFhdPbX2t6fbTx8PFLdIrLxnkE5HBoA0Lq1hvLOW1uUDwzIUdPVSMEVn2uhLBcefdX93fSLE0URuCn7pGxkDaq5JwOTk8detW7fU7G7x9lu4ZsxCcGOQMDGc4bI7HB5q1RYCCys47DTreyhLNHbxLEpY/MQowM478VnReHUW4WS51C9vBFG8cKzsh8oMMEghQzHHGWJ/PmtiojcwC7W1MqCdkMgjz8xUEAnHpkih+9uC0WhjjwtFDJDLY6jfWk0NnHZiSJozmNM4yGQjPzdcduMc5dN4U0+a1NvunSM2MlkdrgnY5BZskHLZGc+54rbop36h/X3GU3h+1a31SEyTbdUXbMdwyo8oR/LxxwB1zzWdrGnXIvJRY2N9IlxAIpGtbqNEkwCAJQ+CuB/EmSR9BXTUVLV9B3aMBfDLPpFtZS6neQotmlrcRQMpjlCrg8OpK55GVwcH2GNHUNO+16fFZxERxLJGXB7orAlfxxj8avUVTd3clKysRzwi4t5IWZ0EilS0blWGe4I5B965zWPC8txo2oBLu61C9uIFgR52RCqBgcAoqj3yefeunoqbD3VjITw7A7TtqF1c6iZoWtx9pK/u4m+8o2KvXAyTk8DmnWugpDcGa8vbrUHETQx/aSmI0bG4DYq5zgcnJ469a1aKYGJZ+GIbSSFm1C/uBbwvBAssqgRRsAMDaqnjaMMSW96dH4bgaSV9Ru7rUTJbtbD7SUG2NsbgNirnOBycnitmijrcDLg0R41lFxq+o3IeIxJvlVPLB7jYq5bgfMcn8zl+n6OLK8lu5725vrmSNYvNuNgKoCSAAiqOpJzjNaNFAGJfeGIb570G/vILe+5uLeEoFdtoXdkoWHAXgHHHTrl1z4cSe8urmHUb60a82i4WB0w6qu0D5lO3jPIweevTGzRQHW5kz+H4mkR9Pu7nTWWFYG+y7PnjXO1SHVsYycEYPPWo28MW6Mv2G7u7GP7OttJHAyESxrnAJZSQfmbkEHn6VtUUb7hsZlhoNrp06SwvK5WyissSEEFIy2D06/Mc9vaq0HhaCGazJvr2SCwkElpbuybIflK44UMwwxHzEkVuUUdbh/X6FPUtOXUoYlM81vJDKJY5Ydu5GGR/ECDwSOQetV5vD9rNbatA8k23Vs+eQwyuYxH8vHHCjrnmtSihabDu9zJudBWW6lmttQvbEXGPtCWzIBKQAM5KkqcADKkHgegNawGAAO3qaKKBBRRRQAUUUUAFRt/wAfUf8AuN/NakqNv+PqP/cb+a0ASUUUUAFFFFABRRRQAUUUUAFFFFABRRRQAUUUUAFFFFABRRRQAUUUUAFFFFABRRRQAUUUUAFFFFABRRRQAUUUUAFFFFABRRRQAVHbf8esX+4P5VJUdt/x6xf7g/lQBJRRRQBHL/rIf98/+gmpKjl/1kP++f8A0E1JQAUUUUAFFFFABRRRQAUUUUAFFFFABRRRQAUUUUAFFFFABRRRQAUUUUAFFFFABRRRQAUUUUAFFFFABRRRQAUUUUAFFFFABRRRQBHbf8esX+4P5VJUdt/x6xf7g/lUlABWF4h/5C/h3/sIn/0RLW7UckEUzxvLEjtE2+NmUEo2CMj0OCR+NC3Gcn4pmmmfxFZtPItumhecqK2MMTLk/iFANWrzdmy0+2l1CRktTMwiuFjXGQAzyH5jg54GR6jpXRG2gaZ5TDGZHQRu5QbmUZwpPccnj3NVG0HSHgghfSrJorY5gjNum2L/AHRjj8KXS39dRt32/rb/ACOc0m6vNdm0yK51CdEm0kXEhtpAm994G7IHv2xn6cVENd1OOzimE5llXRp5TuUYaRJFUOVHtk4HvXYxWdrAytBbQxsieWpSMAquc7RjoM9qI7K1hZWitoUZEKKVjAKqTkgexPOKFfT5/je35kd/l+n+RR062W0ulVdXmuzNDvMU8gcvyP3i+g5xgfLyOlalVLLStP01pDp1hbWhlOZDBCqbz74HNW6YBRRRQMKKKKACiiigAooooAKKKKACiiigAooooAKKKKACiiigAooooAKKKKACiiigAooooAKjb/j6j/3G/mtSVG3/AB9R/wC4381oAkooooAKKKKACiiigAooooAKKKKACiiigAooooAKKKKACiiigAooooAKKKKACiiigAooooAKKKKACiiigAooooAKKKKACiiigAqO2/49Yv8AcH8qkqO2/wCPWL/cH8qAJKKKKAIZ2CtCTnG/sCf4TTvtCekn/ftv8KJf9ZD/AL5/9BNSUAR/aE9JP+/bf4UfaE9JP+/bf4VJRQBH9oT0k/79t/hR9oT0k/79t/hUlFAEf2hPST/v23+FH2hPST/v23+FSUUAR/aE9JP+/bf4UfaE9JP+/bf4VJRQBH9oT0k/79t/hR9oT0k/79t/hUlFAEf2hPST/v23+FH2hPST/v23+FSUUAR/aE9JP+/bf4UfaE9JP+/bf4VJRQBH9oT0k/79t/hR9oT0k/79t/hUlFAEf2hPST/v23+FH2hPST/v23+FSUUAR/aE9JP+/bf4UfaE9JP+/bf4VJRQBH9oT0k/79t/hR9oT0k/79t/hUlFAEf2hPST/v23+FH2hPST/v23+FSUUAR/aE9JP+/bf4UfaE9JP+/bf4VJRQBH9oT0k/79t/hR9oT0k/79t/hUlFAEf2hPST/v23+FH2hPST/v23+FSUUAR/aE9JP+/bf4UfaE9JP+/bf4VJRQBH9oT0k/79t/hR9oT0k/79t/hUlFAEf2hPST/v23+FH2hPST/v23+FSUUAV7edRbRAiThB0jY9vpUn2hPST/AL9t/hRbf8esX+4P5VJQBH9oT0k/79t/hR9oT0k/79t/hUlFAEf2hPST/v23+FH2hPST/v23+FSUUAR/aE9JP+/bf4UfaE9JP+/bf4VJRQBH9oT0k/79t/hR9oT0k/79t/hUlFAEf2hPST/v23+FH2hPST/v23+FSUUAR/aE9JP+/bf4UfaE9JP+/bf4VJRQBH9oT0k/79t/hR9oT0k/79t/hUlFAEf2hPST/v23+FH2hPST/v23+FSUUAR/aE9JP+/bf4UfaE9JP+/bf4VJRQBH9oT0k/79t/hR9oT0k/79t/hUlFAEf2hPST/v23+FH2hPST/v23+FSUUAR/aE9JP+/bf4UfaE9JP+/bf4VJRQBH9oT0k/79t/hR9oT0k/79t/hUlFAEf2hPST/v23+FH2hPST/v23+FSUUAR/aE9JP+/bf4UfaE9JP+/bf4VJRQBH9oT0k/79t/hR9oT0k/79t/hUlFAEf2hPST/v23+FH2hPST/v23+FSUUAR/aE9JP+/bf4VG06/aUOJPuN/wAs29R7VYqNv+PqP/cb+a0AH2hPST/v23+FH2hPST/v23+FSUUAR/aE9JP+/bf4UfaE9JP+/bf4VJRQBH9oT0k/79t/hR9oT0k/79t/hUlFAEf2hPST/v23+FH2hPST/v23+FSUUAR/aE9JP+/bf4UfaE9JP+/bf4VJRQBH9oT0k/79t/hR9oT0k/79t/hUlFAEf2hPST/v23+FH2hPST/v23+FSUUAR/aE9JP+/bf4UfaE9JP+/bf4VJRQBH9oT0k/79t/hR9oT0k/79t/hUlFAEf2hPST/v23+FH2hPST/v23+FSUUAR/aE9JP+/bf4UfaE9JP+/bf4VJRQBH9oT0k/79t/hR9oT0k/79t/hUlFAEf2hPST/v23+FH2hPST/v23+FSUUAR/aE9JP+/bf4UfaE9JP+/bf4VJRQBH9oT0k/79t/hR9oT0k/79t/hUlFAEf2hPST/v23+FH2hPST/v23+FSUUAR/aE9JP+/bf4UfaE9JP+/bf4VJRQBH9oT0k/79t/hR9oT0k/79t/hUlFAEf2hPST/v23+FFt/x6xf7g/lUlR23/HrF/uD+VAElFFFAEcv+sh/3z/6CakqOX/WQ/wC+f/QTUlABRRWX4odo/COrujFWWxmIZTgg7DzSbsrlRXNJI1KK4uxu9OS8spNBle6m+zyPqEccpZyoj48wZ+WTeABnB+8Oxqnpd3A2pQ/2fNahZrC4aeO1unuDuAQjzXPVxk9RnrRJ8t/ImPvWPQKgmvYILu3tpX2y3JYRLgndtGTz24rkIIbO28P6BJqMhi0+5iWS+mklIWSQxDZ5jE/dznqcZCj2qSW20u/1HQYrKR7nT2muduZGKMPLPCn+JM9Oo/CnLRtdiVK8U+52VFY/htPJtLy3Qt5UF7LHErMW2KDkKM9hngdq2KFqk11KCiiigAooooAKKKKACiiigAooooAKKKKACiiigAooooAKKKKACiiigAooooAKKKKACiiigAooooAjtv8Aj1i/3B/KpKjtv+PWL/cH8qkoAKrz31vbSmOaTawiaYjB4RcZP6irFcF4jtLq71bVnWwgdfJhtUkN/IhDSMRnaFx3Tj+eaQzu45FliWROVcBhkY4NKzBFLMcADJNZWoxXVr4SuY9ORorpLVvLSJzIVbH8JPJI7cViW40i5v1g0GdLq1e0l+3LHKZFz8uwvycSZz15POelEna9hR1tc6fTr+LU7FLu3SRYZBujMibS6kZDAehz3q1WP4Vgit/CGmLCgQNaRsQO5KDJrlPDlzYSaToD6fdtLrbtEJ1MrGUx/wAe9c52BckEjGduOoq2rS5RRd4cx6HRXAvqEEmu281s1vb3n9qCKSP7U8tyU3lSHX+BCOQpyOVxzinxxNF4QF7GTumvnS7neVxiETuMFhyqDjOOAM+9R0v/AF0/zC/vcv8AXX/I7uo554raB5riRY4kGWdjgAVwcrodFu/7Pvrd7Nr6yRVsJnaONjMocK/TkEZCnj8an1qwggi8R2EMR+yJYwXKw5JVHLShmA7ZCDP0zVW0v/XT/MfS53NFcNr91pcNxHdRXllc24skNtaSXLRbhk4e3kXIZzkDgE8LyM102s3Tw+HZpIQyTSxiOIP1DvhVB/FhS1toHUuWV3Ff2UV1b5MUq7kJGMjsfxpby7h0+xnvLt9kEEZkkbBO1QMk4HNU9RhmsvC9xDpKt50FoyW6qOchcLj3rl9QfQG8K6wNCvPOm/suYzLHM0gPy9ZOuHz64br6cHXQcVdq/U7WWdYrVrja7oqF8RoWZhjPCjkn2pkF/b3F1LbRsfOhRHkRlIKh87ev0NcbrdumlRXK6eZIRcaDdyy4kY73QR7XOT94bjz15pbuSRLrUmDyLF5GnfaXjJDLDubzDkcgbc5I6DNO39fNr9CdeVPv/wAD/M7MXcJvmtA/79YxKVwfukkA56dQamrzvUJdOUa+3h+43Wy6TGVe3k3Rq3mPnYwOPTOO/vmtLXIbbT9Qtbe4Npb6X5Dspvbho4mm3Aks3d8cjJz94ipT0Xz/AF/yH1a/rodlRXF6daLqOqabbahMb23bTpnHzOFcecuwndgthT1PXr71ueG5X/4RmEyNJM0XmICzFmYI7KOT1OAOTTeiuJO7t/XT/M12YIhZuAoyajtbmK8tIbm3bfDMgkRsEZUjIODXB6XfQTarp8ljJbIbmKYXEMN088g/dlgJmP8AECOhGRggHANO8NS6f9i8ODSbgvqhjjF5H5hMnl+Ud3mrngA7duf9nHBp+vl+oX/X9Dv6K4a0ntsWHk3G7xI12gu4vNJl27/3odc/6sKTjIx93Haora/gl8QafNaPbw3Mt+6TxLcvNcbSsnyy5+4MgYU5A4Apdv67f5jelzvqgS8ge+ls1fM8MaSOmDwrFgpz0/hb8q422iji8LJezNIqTX7pfT+Y24QCdxjOflQcZxgAZ96veGm04+LdW/saRZLQWdqEMb7owd02Qh6Y+nGc+9OOqYdL/wBbnSSXtvEZw8q7rePzJVHJRecHH/AT+VPt547q2iuIG3RSoHRsYyCMg1yt5FZQeJNeLCOO6n0tXiBOGkAEocgd8fLnHTiobKz/ALOt9El0pWW6udOcPmQnzWESld2Tzg9D26dKhysm30t+v+QuqXr+n+Z2lFcP4bkik1Sw+y3tp9p8tjeRRzySTSfLz5qn7rBsctg9QOuK7irasCdwooopDCiiigAqNv8Aj6j/ANxv5rUlRt/x9R/7jfzWgCSiiigAooooAKKKKACiiigAooooAKKKKACiiigAooooAKKKKACiiigAooooAKKKKACiiigAooooAKKKKACiiigAooooAKKKKACo7b/j1i/3B/KpKjtv+PWL/cH8qAJKKKKAI5f9ZD/vn/0E1JUcv+sh/wB8/wDoJqSgAqvf2cWo6dc2VxuEVzE0T7Tg7WGDj86sUUbjTad0MijWGFI06IoUZ9hin4x0oooEFFFFABRRRQAUUUUAFFFFABRRRQAUUUUAFFFFABRRRQAUUUUAFFFFABRRRQAUUUUAFFFFABRRRQAUUUUAFFFFAEdt/wAesX+4P5VJUdt/x6xf7g/lUlABRRXP6vrGtafqdrb22mWE8N5P5MEkl86NnYzksoiOB8pHBPb8ADoKKxbvX20u3updTSBTa2QuZYbeVpHBywwMqMr8uAeO+QKsya/p0NvBLNcbPtClo02MXIHU7QM4GRk4wKA1NHrVXTNPh0rTLextdxit4xGhc5bA9TUNxr2l2yxtLeIRLGJY9gL70P8AENucilTVIZLyJYp7Z7aW1Nwsgl5Kgj5hxjbg9c+nFAF+iqVjrFhqbsljcrKygMRgjKnowz1X3HFXaAADHSiiigAqOa3iuAgmQOEcOoPZhyDUlFABRRRQAUUUUAAGOlBGetFFABRRRQAUUUUAFGKKKACjp0oooAKKKKADFFFFABRRRQAUUUUAFRt/x9R/7jfzWpKjb/j6j/3G/mtAElFFFABRRRQAUUUUAFFFFABRRRQAUUUUAFFFFABRRRQAUUUUAFFFFABRRRQAUUUUAFFFFABRRRQAUUUUAFFFFABRRRQAUUUUAFR23/HrF/uD+VSVHbf8esX+4P5UASUUUUARy/6yH/fP/oJqSo5f9ZD/AL5/9BNSUAFFFFABRRRQAUUUUAFFFFABRRRQAUUUUAFFFFABRRRQAUUUUAFFFFABRRRQAUUUUAFFFFABRRRQAUUUUAFFFFABRRRQAUUUUAR23/HrF/uD+VSVHbf8esX+4P5VJQAVk6zZXF1qOiy28e9LW9Msx3AbV8qRc89eWA49a1qKAOb1fRr2+1HWmhjXy7zRxaROzAAyZl4PcfeXnHei6OrytZMtlqEduYNslvbywLIkmf42LfdwP4G+vaukopW0t/XX/Mbbf9en+Ry/h3R76xu9Oe8g8sQ6V9nkPmBtsnmA7c5yeB1qmPDWoTWiWzxLEDpVxaks4Kq7SKVU4PQgdq7SihK1rdL/AI3/AMybb+dvwt/kZun3N3dXObnR3sVjj2+ZNJGzE5HChC3y8dSR249NKiimMKKKKACiiigAooooAKKKKACiiigAooooAKKKKACiiigAooooAKKKKACiiigAooooAKKKKACo2/4+o/8Acb+a1JUbf8fUf+4381oAkooooAKKKKACiiigAooooAKKKKACiiigAooooAKKKKACiiigAooooAKKKKACiiigAooooAKKKKACiiigAooooAKKKKACiiigAqO2/wCPWL/cH8qkqO2/49Yv9wfyoAkooooAhn3FodhAO/gkZ/hNO2z/APPSP/v2f8aJf9ZD/vn/ANBNSUAR7Z/+ekf/AH7P+NG2f/npH/37P+NSUUAR7Z/+ekf/AH7P+NG2f/npH/37P+NSUUAR7Z/+ekf/AH7P+NG2f/npH/37P+NSUUAR7Z/+ekf/AH7P+NG2f/npH/37P+NSUUAR7Z/+ekf/AH7P+NG2f/npH/37P+NSUUAR7Z/+ekf/AH7P+NG2f/npH/37P+NSUUAR7Z/+ekf/AH7P+NG2f/npH/37P+NSUUAR7Z/+ekf/AH7P+NG2f/npH/37P+NSUUAR7Z/+ekf/AH7P+NG2f/npH/37P+NSUUAR7Z/+ekf/AH7P+NG2f/npH/37P+NSUUAR7Z/+ekf/AH7P+NG2f/npH/37P+NSUUAR7Z/+ekf/AH7P+NG2f/npH/37P+NSUUAR7Z/+ekf/AH7P+NG2f/npH/37P+NSUUAR7Z/+ekf/AH7P+NG2f/npH/37P+NSUUAR7Z/+ekf/AH7P+NG2f/npH/37P+NSUUAR7Z/+ekf/AH7P+NG2f/npH/37P+NSUUAR7Z/+ekf/AH7P+NG2f/npH/37P+NSUUAR7Z/+ekf/AH7P+NG2f/npH/37P+NSUUAV7cTfZosSRgbBjKH0+tSbZ/8AnpH/AN+z/jRbf8esX+4P5VJQBHtn/wCekf8A37P+NG2f/npH/wB+z/jUlFAEe2f/AJ6R/wDfs/40bZ/+ekf/AH7P+NSUUAR7Z/8AnpH/AN+z/jRtn/56R/8Afs/41JRQBHtn/wCekf8A37P+NG2f/npH/wB+z/jUlFAEe2f/AJ6R/wDfs/40bZ/+ekf/AH7P+NSUUAR7Z/8AnpH/AN+z/jRtn/56R/8Afs/41JRQBHtn/wCekf8A37P+NG2f/npH/wB+z/jUlFAEe2f/AJ6R/wDfs/40bZ/+ekf/AH7P+NSUUAR7Z/8AnpH/AN+z/jRtn/56R/8Afs/41JRQBHtn/wCekf8A37P+NG2f/npH/wB+z/jUlFAEe2f/AJ6R/wDfs/40bZ/+ekf/AH7P+NSUUAR7Z/8AnpH/AN+z/jRtn/56R/8Afs/41JRQBHtn/wCekf8A37P+NG2f/npH/wB+z/jUlFAEe2f/AJ6R/wDfs/40bZ/+ekf/AH7P+NSUUAR7Z/8AnpH/AN+z/jRtn/56R/8Afs/41JRQBHtn/wCekf8A37P+NG2f/npH/wB+z/jUlFAEe2f/AJ6R/wDfs/40bZ/+ekf/AH7P+NSUUAR7Z/8AnpH/AN+z/jUbCb7Sn7yPOxv4D6j3qxUbf8fUf+4381oANs//AD0j/wC/Z/xo2z/89I/+/Z/xqSigCPbP/wA9I/8Av2f8aNs//PSP/v2f8akooAj2z/8APSP/AL9n/GjbP/z0j/79n/GpKKAI9s//AD0j/wC/Z/xo2z/89I/+/Z/xqSigCPbP/wA9I/8Av2f8aNs//PSP/v2f8akooAj2z/8APSP/AL9n/GjbP/z0j/79n/GpKKAI9s//AD0j/wC/Z/xo2z/89I/+/Z/xqSigCPbP/wA9I/8Av2f8aNs//PSP/v2f8akooAj2z/8APSP/AL9n/GjbP/z0j/79n/GpKKAI9s//AD0j/wC/Z/xo2z/89I/+/Z/xqSigCPbP/wA9I/8Av2f8aNs//PSP/v2f8akooAj2z/8APSP/AL9n/GjbP/z0j/79n/GpKKAI9s//AD0j/wC/Z/xo2z/89I/+/Z/xqSigCPbP/wA9I/8Av2f8aNs//PSP/v2f8akooAj2z/8APSP/AL9n/GjbP/z0j/79n/GpKKAI9s//AD0j/wC/Z/xo2z/89I/+/Z/xqSigCPbP/wA9I/8Av2f8aNs//PSP/v2f8akooAj2z/8APSP/AL9n/GjbP/z0j/79n/GpKKAI9s//AD0j/wC/Z/xotv8Aj1i/3B/KpKjtv+PWL/cH8qAJKKKKAI5f9ZD/AL5/9BNSVHL/AKyH/fP/AKCakoAKiupzbWkswjaQxoW2J1bFS02VPMhdM43KRn0pO9tBq19TE0/X/tw0mWXNp9ttHnaCSPOQoQkh88AbvTnPbFP/AOEkhns5pbaC4TNu81tJNCVjmCrnIP5cHBI6VStvDl68elRX5t0SysJ7KTyZWYuGEaqwyoxwhJHbPU9atQ2muSae9hdrYJCtq0IljkdmmbbtBKlQEHcjLUVL2ly/L8f+AEdo3+ZLZ+IbaTTUnuWw0dolxdOikpFuUNj6nOQvJxj1GXf2/G0Nzi0uo7iGEzLBNHtaRfVecEevOR3AzWTb+Ebi10V9Kt541tZ7ZPMBdm8q4UD517lWI5GR0yOpq5p2i3CzTy3dnZ2rNbtAjQ3Mtwx3dTlwuBwOMH6057uxMNlc1NJvjqekWt60LwGeJXMb9RkZ/KrlUdFt7q00W1tb5YVmgjWI+TIXVgowDkqOoGcY49T1q9VStd2FG/Kr7hRRRUlBRRRQAUUUUAFFFFABRRRQAUUUUAFFFFABRRRQAUUUUAFFFFABRRRQAUUUUAFFFFABRRRQBHbf8esX+4P5VJUdt/x6xf7g/lUlABXOa3da/aatYxWN/p6QX1z5CLLYu7RYjZ8lhKA3Keg6+3PR1m6pp019faVNEyBbO6M0gYnJXynTjjrlhQtx9yH+1vsF3PDql7GxtrJJ5vLtmUcsw3D5mPO3AXk8dTmoNR8SNDot7cW9rNBdWyK4iu4iu5S2AeDz34zkdwKNT8P3F/qt7cpNHGs1pDFETklZI5WkBYf3cle/rSalp+s65od/ZX0djameNUjSGd35zksX2qR7AD8fRa2FLy/rRF+XXLOJJ3zI6QSCItGhYPITjYuPvNkgHHQ/Q4p3vidLfTZriKyuWnhljjktpE2um9gATzgjnggkZ49cVp/DNwtk9javE1nBOlxZRySOChBO6JiOdvJw2SRnocDINAu5NLvh9ms7S6naIxqlxJKD5bbgHkYA8nPReM96Oj/r+uodTcvNRhsNLkv7sPHDFH5jjbllH09apN4ls447x7mK5t/scBuXWWEqXiGfmX16dOo7gZqTWbG51bwzc2QEUVzcQbSN5KKx/wBrGSPfH4VX1fQpNVnuAZFSKfTZbMnncGcjBx6cetPqC/y/Mt3mtWlgGNwXAW0kuzhc/u0xu/H5hxVX/hKLYyNEtnftL5YmRBbnMkf98c9B6HB5HHIrOutD1rVIbj7aLCB30uexRYpncb324YkoMD5emOPU542IdNmj1e3uiybIrE27AE5LFlOenT5TR/X5/wDA+8Wtv68v+D9xTPidG1OOO2hlvLeeyS6hFvES7BmIJOSABjHXnmrb+ILP7NbS2yzXTXSs0UMMZLkL94kHG3BODnHPHWsnTtE1rRxZSWgsbloNOjtJIpJnjDMpJ3Bgh456Y5z2xyj+FrmGOzniEF3cxLMJopJ3gRjLJ5jFWUEjDdAQcj0o0/P83b9Cno/68jUbxLZf6IsKXE8l2JDFFHEd2YyA4IONpBODnHQ1r1z1hoE9rqOmXRS1hW2iuRNHCzkbpWRhgty33TknGTzjnA6GgQUUUUAFFFFABRRRQAUUUUAFFFFABRRRQAUUUUAFFFFABRRRQAUUUUAFRt/x9R/7jfzWpKjb/j6j/wBxv5rQBJRRRQAUUUUAFFFFABRRRQAUUUUAFFFFABRRRQAUUUUAFFFFABRRRQAUUUUAFFFFABRRRQAUUUUAFFFFABRRRQAUUUUAFFFFABUdt/x6xf7g/lUlR23/AB6xf7g/lQBJRRRQBHL/AKyH/fP/AKCakqGcFmhAYqd/Uf7pp3lP/wA95PyX/CgCSio/Kf8A57yfkv8AhR5T/wDPeT8l/wAKAJKKj8p/+e8n5L/hR5T/APPeT8l/woAkoqPyn/57yfkv+FHlP/z3k/Jf8KAJKKj8p/8AnvJ+S/4UeU//AD3k/Jf8KAJKKj8p/wDnvJ+S/wCFHlP/AM95PyX/AAoAkoqPyn/57yfkv+FHlP8A895PyX/CgCSio/Kf/nvJ+S/4UeU//PeT8l/woAkoqPyn/wCe8n5L/hR5T/8APeT8l/woAkoqPyn/AOe8n5L/AIUeU/8Az3k/Jf8ACgCSio/Kf/nvJ+S/4UeU/wDz3k/Jf8KAJKKj8p/+e8n5L/hR5T/895PyX/CgCSio/Kf/AJ7yfkv+FHlP/wA95PyX/CgCSio/Kf8A57yfkv8AhR5T/wDPeT8l/wAKAJKKj8p/+e8n5L/hR5T/APPeT8l/woAkoqPyn/57yfkv+FHlP/z3k/Jf8KAJKKj8p/8AnvJ+S/4UeU//AD3k/Jf8KAJKKj8p/wDnvJ+S/wCFHlP/AM95PyX/AAoAkoqPyn/57yfkv+FHlP8A895PyX/CgAtv+PWL/cH8qkqvbxsbaIiaQfIOAF44+lSeU/8Az3k/Jf8ACgCSio/Kf/nvJ+S/4UeU/wDz3k/Jf8KAJKKj8p/+e8n5L/hR5T/895PyX/CgCSio/Kf/AJ7yfkv+FHlP/wA95PyX/CgCSio/Kf8A57yfkv8AhR5T/wDPeT8l/wAKAJKKj8p/+e8n5L/hR5T/APPeT8l/woAkoqPyn/57yfkv+FHlP/z3k/Jf8KAJKKj8p/8AnvJ+S/4UeU//AD3k/Jf8KAJKKj8p/wDnvJ+S/wCFHlP/AM95PyX/AAoAkoqPyn/57yfkv+FHlP8A895PyX/CgCSio/Kf/nvJ+S/4UeU//PeT8l/woAkoqPyn/wCe8n5L/hR5T/8APeT8l/woAkoqPyn/AOe8n5L/AIUeU/8Az3k/Jf8ACgCSio/Kf/nvJ+S/4UeU/wDz3k/Jf8KAJKKj8p/+e8n5L/hR5T/895PyX/CgCSio/Kf/AJ7yfkv+FHlP/wA95PyX/CgCSio/Kf8A57yfkv8AhR5T/wDPeT8l/wAKAJKKj8p/+e8n5L/hR5T/APPeT8l/woAkqNv+PqP/AHG/mtHlP/z3k/Jf8KjaNvtKDzpPuNzhfUe1AFiio/Kf/nvJ+S/4UeU//PeT8l/woAkoqPyn/wCe8n5L/hR5T/8APeT8l/woAkoqPyn/AOe8n5L/AIUeU/8Az3k/Jf8ACgCSio/Kf/nvJ+S/4UeU/wDz3k/Jf8KAJKKj8p/+e8n5L/hR5T/895PyX/CgCSio/Kf/AJ7yfkv+FHlP/wA95PyX/CgCSio/Kf8A57yfkv8AhR5T/wDPeT8l/wAKAJKKj8p/+e8n5L/hR5T/APPeT8l/woAkoqPyn/57yfkv+FHlP/z3k/Jf8KAJKKj8p/8AnvJ+S/4UeU//AD3k/Jf8KAJKKj8p/wDnvJ+S/wCFHlP/AM95PyX/AAoAkoqPyn/57yfkv+FHlP8A895PyX/CgCSio/Kf/nvJ+S/4UeU//PeT8l/woAkoqPyn/wCe8n5L/hR5T/8APeT8l/woAkoqPyn/AOe8n5L/AIUeU/8Az3k/Jf8ACgCSio/Kf/nvJ+S/4UeU/wDz3k/Jf8KAJKKj8p/+e8n5L/hR5T/895PyX/CgCSio/Kf/AJ7yfkv+FHlP/wA95PyX/CgCSo7b/j1i/wBwfyo8p/8AnvJ+S/4UW3/HrF/uD+VAElFFFAEcv+sh/wB8/wDoJqSo5f8AWQ/75/8AQTUlABRRUN5JLDZTSW6CSVUJVS2Mn60m7K40ruxNRXNaPqWow+F9PuZrZ7me5iE0ss90qouVByWI4znhQMD2qaLxQLs6cmn2TzyX8MkqhpVUR+WyqwY8926jPT8apqzsSndXN+isE+KYhcbvs/8AoX2n7N9o85d2/fszs67d3GevfGOa3qXS4wooooAKKKKACiiigAooooAKKKKACiiigAooooAKKKKACiiigAooooAKKKKACiiigAooooAKKKKACiiigCO2/wCPWL/cH8qkqO2/49Yv9wfyqSgAoorjtQ1PHiDVYrrxS+kraiPyIAbcBspkkh0LNz6EUm7AdjRWANev4dEsru503Eklqs1xvmWFUbGSg3c7uvBwPU05vEyzXUEOm2huXltUu9rSrGzRvnGwH7zccjgDjnmqtrYDdorIbXHfWZrC1szMbcoJ/wB8quNwBBVT94AHk5HQgZIqG88UR2s9wRbb7S0fy7ifzlUqeMlUPLAZ56dDgGluGxu0Vgz+Jmie7ddOke1sbjyLiYSKCvCncF7gbgT09s9Kdf8AiKS0+3yW+nS3Vtpyn7RKrgHcFDEKp+9gEZ6deMnilfS4LV2RuUVhXXibyZHFtZmcQRLLPmdEKhl3bVB+82OccDkc1Pba79u1Y2ljamWJYopnuDIFUJICVwOpPHT9aYro1qKwtXuL4+JNLs4AwtpBJJIUm2Ftu3rxnAznGeakOvtFq0Fpd2Rt0uZmhhZp0LswBOSgPCkLwck8jIFC1GbNFYEPigy6aL5rB0illENuDKu6V9xB9lUbSck9AePW9pWrDUWuIZYRBc2xUSIsgkXDDIIYdR16gHg8ULUDRooooAKKKKACiiigAooooAKKKKACiiigAooooAKKKKACiiigAooooAKjb/j6j/3G/mtSVG3/AB9R/wC4381oAkooooAKKKKACiiigAooooAKKKKACiiigAooooAKKKKACiiigAooooAKKKKACiiigAooooAKKKKACiiigAooooAKKKKACiiigAqO2/49Yv8AcH8qkqO2/wCPWL/cH8qAJKKKKAI5f9ZD/vn/ANBNSVHL/rIf98/+gmpKACmyp5kLpnG5SM+lOopNXVg2Oek8MSCHShb3Ns0mnW32cG7tPNRhhRvC7xtb5euTwSKl0zw2dOudPmN4ZjZwzxHMW3zPNkV88HjG3HvntW5RVXd7iSS2Oeh8MPbXubeezW088z7WsVaYEtuKiQtjGT/dyB36EdDRRS6WGFFFFABRRRQAUUUUAFFFFABRRRQAUUUUAFFFFABRRRQAUUUUAFFFFABRRRQAUUUUAFFFFABRRRQAUUUUAR23/HrF/uD+VSVHbf8AHrF/uD+VSUAFUbXTRbapf3hkDm8ZG27cbNq7evf1q9RQBh6n4flvdXN9b3FtGzwCBvPtfOaMAk5jO4bCd3OQQcL6c1rvwrcXOkW2m/bbV7aK1S3IuLESMpUY8yM7hsYj13YIBHQ56WijpYOtzA1Lw5PqM8YkvYWt43jZDLahriLbj/VyhhtyRnJBPJ9sJN4Zc388lrPZxwXMvmyiaxWWVScbtjlsAHGeVbBJ/DoKKOtwMaXw95mn6ta/acf2lMZd3l/6vKquMZ5+77dax/EEM8barZWH29P7RjJ8qOxaRZHKBcrMPljBwAd/oSMZzXY0Umrq3yBaO6Ocn8MStO09pNZxSTxIs/2myE5DKu3ch3DBwAOcjgcdc6dlpQstUubtZdwnhhiCbAu3y93PHHO7oAMYrQoqrisVJ7DztWtL3zNv2ZJE2bfvb9vftjb+tYtp4Ultrq2YXdsIba6NwPLs9sspIbiSTcdx+bqAOldLRU2V7j6WMH/hGF/4R+304zo8trMZ4pnhDLu3MeUJ5GGIIyPqKu6Rp0unpKbmS2eSVgcWtqIEUDoAMkn6kn2xWjRTWmwBRRRQAUUUUAFFFFABRRRQAUUUUAFFFFABRRRQAUUUUAFFFFABRRRQAVG3/H1H/uN/NakqNv8Aj6j/ANxv5rQBJRRRQAUUUUAFFFFABRRRQAUUUUAFFFFABRRRQAUUUUAFFFFABRRRQAUUUUAFFFFABRRRQAUUUUAFFFFABRRRQAUUUUAFFFFABUdt/wAesX+4P5VJUdt/x6xf7g/lQBJRRRQBDOoZoQc439iR/Cad9nT1k/7+N/jRL/rIf98/+gmpKAI/s6esn/fxv8aPs6esn/fxv8akooAj+zp6yf8Afxv8aPs6esn/AH8b/GpKKAI/s6esn/fxv8aPs6esn/fxv8akooAj+zp6yf8Afxv8aPs6esn/AH8b/GpKKAI/s6esn/fxv8aPs6esn/fxv8akooAj+zp6yf8Afxv8aPs6esn/AH8b/GpKKAI/s6esn/fxv8aPs6esn/fxv8akooAj+zp6yf8Afxv8aPs6esn/AH8b/GpKKAI/s6esn/fxv8aPs6esn/fxv8akooAj+zp6yf8Afxv8aPs6esn/AH8b/GpKKAI/s6esn/fxv8aPs6esn/fxv8akooAj+zp6yf8Afxv8aPs6esn/AH8b/GpKKAI/s6esn/fxv8aPs6esn/fxv8akooAj+zp6yf8Afxv8aPs6esn/AH8b/GpKKAI/s6esn/fxv8aPs6esn/fxv8akooAj+zp6yf8Afxv8aPs6esn/AH8b/GpKKAI/s6esn/fxv8aPs6esn/fxv8akooAj+zp6yf8Afxv8aPs6esn/AH8b/GpKKAK9vAptoiTJyg6SMO31qT7OnrJ/38b/ABotv+PWL/cH8qkoAj+zp6yf9/G/xo+zp6yf9/G/xqSigCP7OnrJ/wB/G/xo+zp6yf8Afxv8akooAj+zp6yf9/G/xo+zp6yf9/G/xqSigCP7OnrJ/wB/G/xo+zp6yf8Afxv8akooAj+zp6yf9/G/xo+zp6yf9/G/xqSigCP7OnrJ/wB/G/xo+zp6yf8Afxv8akooAj+zp6yf9/G/xo+zp6yf9/G/xqSigCP7OnrJ/wB/G/xo+zp6yf8Afxv8akooAj+zp6yf9/G/xo+zp6yf9/G/xqSigCP7OnrJ/wB/G/xo+zp6yf8Afxv8akooAj+zp6yf9/G/xo+zp6yf9/G/xqSigCP7OnrJ/wB/G/xo+zp6yf8Afxv8akooAj+zp6yf9/G/xo+zp6yf9/G/xqSigCP7OnrJ/wB/G/xo+zp6yf8Afxv8akooAj+zp6yf9/G/xo+zp6yf9/G/xqSigCP7OnrJ/wB/G/xo+zp6yf8Afxv8akooAj+zp6yf9/G/xo+zp6yf9/G/xqSigCP7OnrJ/wB/G/xqNoF+0oMyfcb/AJaN6j3qxUbf8fUf+4381oAPs6esn/fxv8aPs6esn/fxv8akooAj+zp6yf8Afxv8aPs6esn/AH8b/GpKKAI/s6esn/fxv8aPs6esn/fxv8akooAj+zp6yf8Afxv8aPs6esn/AH8b/GpKKAI/s6esn/fxv8aPs6esn/fxv8akooAj+zp6yf8Afxv8aPs6esn/AH8b/GpKKAI/s6esn/fxv8aPs6esn/fxv8akooAj+zp6yf8Afxv8aPs6esn/AH8b/GpKKAI/s6esn/fxv8aPs6esn/fxv8akooAj+zp6yf8Afxv8aPs6esn/AH8b/GpKKAI/s6esn/fxv8aPs6esn/fxv8akooAj+zp6yf8Afxv8aPs6esn/AH8b/GpKKAI/s6esn/fxv8aPs6esn/fxv8akooAj+zp6yf8Afxv8aPs6esn/AH8b/GpKKAI/s6esn/fxv8aPs6esn/fxv8akooAj+zp6yf8Afxv8aPs6esn/AH8b/GpKKAI/s6esn/fxv8aPs6esn/fxv8akooAj+zp6yf8Afxv8aPs6esn/AH8b/GpKKAI/s6esn/fxv8aLb/j1i/3B/KpKjtv+PWL/AHB/KgCSiiigCOX/AFkP++f/AEE1JUcv+sh/3z/6CakoAKrajeppumXN7KpZLeJpCq9TgZxVmo7m3iu7WW2uUEkMyFHQ9GUjBFA1a+pmw3WrwwyzalDYqggMoZJiqxsB9x2I6f7YHbpWJeeI7i40jWLfzrd5E0uW5hubIuFUgEYDHqQSCGB/AVsjw6r209vfalf3sUsJgCTOgEan02qMngfM2Tx7nMbeGI51uft2o3t3Jc2b2bvIY1IjbrgKgAPvj654wf1+f/ACLs033X6X/Ui/tTULZYI9Uhg8u8gfyjE7bkZY921j3yA3zDGMdO9VtP1rUbqKG10y3tk8vTLe7zcSO2d4b5M9T9z7xJPsa0oPDsUUitPfXl0sUTRQJMykQKwwcYUEnHGWLHH1OZdP0G102XzIJJmP2OKz+dgfkj3bTwOvzHP8qb62/rf/AIBK0tf+tv8AglnS75dT0m0v0Qot1CkwUnJXcAcfrVqq2nWMemaZbWMDM0VtEsSFyCxCjAzjvxVmiVruwwooopAFFFFABRRRQAUUUUAFFFFABRRRQAUUUUAFFFFABRRRQAUUUUAFFFFABRRRQAUUUUAFFFFAEdt/x6xf7g/lUlR23/HrF/uD+VSUAFc8LQa9rWpLfTXSQWMiwRQwXMkIyY1cudhBJ+fAyeNvHNdDWZfaJ9pvDd2moXenTuoSV7Xyz5oHTcHVhkZPIAPvQMrXNxcaHptvA2o2sjtKyLPfOQ23kgbRzIwGB1GetZsWuahql3pUliiRyyG7hkV2YRZjYLvK8EjjgHB+atZvDkCQ2q2V1c2c1sXK3EZR3becvu3qwJY8k461EvhS3iS3+z319FNbyzSxzh1LbpW3MTlSD34I7+uDQw0Kza1JLe2FvdwKLqLU2tZfKlcICIGcMAMZBUj5WzjPfANGl+ItQu4dGu7u2tktdV+RVjZi8T7GcEk8EEIRjtx1rQi8OWsf2VnmuJZbe5a6Mzsu6aQoyEtgY6N0AGMDtTrbw/a2tjpdpHJMY9LcPCWYZYhGT5uOeGPTHan/AF/mGlv68/8AgCatqN1a6hYWVjHC0l4ZFDzE4Tau7OB1+lVbXX7mS5sba5t4lmlu5rWYoxKgxozbl+uBwema1bjT4rnULO8kZxJZlzGFIwdy7Tnj0qlceHYJkzDd3VtMt011HPCU3RuwIIAZSpBBIwQalXvrt/w3/BJ1Ksuv3j3cVrawweZNezWqtIThQiFtxx16dP5VHaa/qTrbz3VvarA161jKI3YtvDlN65HTcPunnB61ftfDlrazW8onuZHguJLkNI4JZ3Uq2eOnJ4GPy4qRdCtltlgDy7VvTeg5Gd5kMmOnTJ+uO9OPS/lf8L/qD2dvl+P/AADDsdX1S006/vpVimsrW/uVk8x2MpjEzDKnoAo6L3x1FS3vi14Lq6aH7M0FnKY3hYsZpsY3FcDAxkgA5zjqKuL4Ut1aVBf3v2We4a5mtC6eXI7PvOTt3Bc44BAOOc5ObEughrySW31G9tIppBJNbwOgSRuMnJUsucDO1h+pyLpf+tv+CVLVtr+txNM1G81DVL5DHBHaWc5gzkl3O1Wz6AfN759q1qq2WnxWMl28LOTdTmd9xHDFQuBx0woq1R0RIUUUUDCiiigAooooAKKKKACiiigAooooAKKKKACiiigAooooAKKKKACo2/4+o/8Acb+a1JUbf8fUf+4381oAkooooAKKKKACiiigAooooAKKKKACiiigAooooAKKKKACiiigAooooAKKKKACiiigAooooAKKKKACiiigAooooAKKKKACiiigAqO2/wCPWL/cH8qkqO2/49Yv9wfyoAkooooAjl/1kP8Avn/0E1JUM6q7Qq6hgX5BGf4TTvs0H/PGP/vgUASUVH9mg/54x/8AfAo+zQf88Y/++BQBJRUf2aD/AJ4x/wDfAo+zQf8APGP/AL4FAElFR/ZoP+eMf/fAo+zQf88Y/wDvgUASUVH9mg/54x/98Cj7NB/zxj/74FAElFR/ZoP+eMf/AHwKPs0H/PGP/vgUASUVH9mg/wCeMf8A3wKPs0H/ADxj/wC+BQBJRUf2aD/njH/3wKPs0H/PGP8A74FAElFR/ZoP+eMf/fAo+zQf88Y/++BQBJRUf2aD/njH/wB8Cj7NB/zxj/74FAElFR/ZoP8AnjH/AN8Cj7NB/wA8Y/8AvgUASUVH9mg/54x/98Cj7NB/zxj/AO+BQBJRUf2aD/njH/3wKPs0H/PGP/vgUASUVH9mg/54x/8AfAo+zQf88Y/++BQBJRUf2aD/AJ4x/wDfAo+zQf8APGP/AL4FAElFR/ZoP+eMf/fAo+zQf88Y/wDvgUASUVH9mg/54x/98Cj7NB/zxj/74FAElFR/ZoP+eMf/AHwKPs0H/PGP/vgUASUVH9mg/wCeMf8A3wKPs0H/ADxj/wC+BQAW3/HrF/uD+VSVXt7eFraImKMkoCSVHPFSfZoP+eMf/fAoAkoqP7NB/wA8Y/8AvgUfZoP+eMf/AHwKAJKKj+zQf88Y/wDvgUfZoP8AnjH/AN8CgCSio/s0H/PGP/vgUfZoP+eMf/fAoAkoqP7NB/zxj/74FH2aD/njH/3wKAJKKj+zQf8APGP/AL4FH2aD/njH/wB8CgCSio/s0H/PGP8A74FH2aD/AJ4x/wDfAoAkoqP7NB/zxj/74FH2aD/njH/3wKAJKKj+zQf88Y/++BR9mg/54x/98CgCSio/s0H/ADxj/wC+BR9mg/54x/8AfAoAkoqP7NB/zxj/AO+BR9mg/wCeMf8A3wKAJKKj+zQf88Y/++BR9mg/54x/98CgCSio/s0H/PGP/vgUfZoP+eMf/fAoAkoqP7NB/wA8Y/8AvgUfZoP+eMf/AHwKAJKKj+zQf88Y/wDvgUfZoP8AnjH/AN8CgCSio/s0H/PGP/vgUfZoP+eMf/fAoAkoqP7NB/zxj/74FH2aD/njH/3wKAJKKj+zQf8APGP/AL4FH2aD/njH/wB8CgCSo2/4+o/9xv5rR9mg/wCeMf8A3wKja3h+0oPKjxsY42j1FAFiio/s0H/PGP8A74FH2aD/AJ4x/wDfAoAkoqP7NB/zxj/74FH2aD/njH/3wKAJKKj+zQf88Y/++BR9mg/54x/98CgCSio/s0H/ADxj/wC+BR9mg/54x/8AfAoAkoqP7NB/zxj/AO+BR9mg/wCeMf8A3wKAJKKj+zQf88Y/++BR9mg/54x/98CgCSio/s0H/PGP/vgUfZoP+eMf/fAoAkoqP7NB/wA8Y/8AvgUfZoP+eMf/AHwKAJKKj+zQf88Y/wDvgUfZoP8AnjH/AN8CgCSio/s0H/PGP/vgUfZoP+eMf/fAoAkoqP7NB/zxj/74FH2aD/njH/3wKAJKKj+zQf8APGP/AL4FH2aD/njH/wB8CgCSio/s0H/PGP8A74FH2aD/AJ4x/wDfAoAkoqP7NB/zxj/74FH2aD/njH/3wKAJKKj+zQf88Y/++BR9mg/54x/98CgCSio/s0H/ADxj/wC+BR9mg/54x/8AfAoAkoqP7NB/zxj/AO+BR9mg/wCeMf8A3wKAJKKj+zQf88Y/++BR9mg/54x/98CgCSo7b/j1i/3B/Kj7NB/zxj/74FFt/wAesX+4P5UASUUUUARy/wCsh/3z/wCgmpKjl/1kP++f/QTUlABRRVPV7/8AsvRb2/2b/s0DyhfXaCcUDSu7FyiuWh1TV4RK0vnTxm0klMktn5KwyKAQB6qeeDk8dabaXms3V3p8DakiDUbA3ZZbZcwlfL4X1B8zvnp78C1dv66/5C/r8v8AM6uiuOtLjUNW1jTJFuo7WeXTJTNKkYJJEqA7VbIGT654/OrI1u7uLSCA3Ziu/Onik+yWhlaYRPs3L1VBnGd2eTjNG6TX9a2Dq/66XOoozmuStNa1TU5tItlnS1a6juvPcQgtmGRUBAJIBOT6jmofDOpSvql1pcebdRqF5M0sif68CZvkj7HGQWPYEAdyDrYdvd5v66/5HZ0Vydjreq3k1vdxJPJDNcbGthaEIkW4ru8zruAwT24IA71W1K51C/0Wy1GW7j+zz6lbAWvlgBFFyoGG6luBnPHXgUR1aXcR2tFFFABRRRQAUUUUAFFFFABRRRQAUUUUAFFFFABRRRQAUUUUAFFFFABRRRQAUUUUAFFFFAEdt/x6xf7g/lUlR23/AB6xf7g/lUlABSbhnGRn0zS1xF3p9leeKtcNz4aGrzDyRHL5cJMf7scBnYFeecik3YZ29FczYf2y7R6S2oJDNYWMDTT+WJGmlYMOd38Pydepz1GKSw1jUNX1LT4kmS1jlsRdTBIw25g4UhSegPr6fnTekuX+v60Jvpc6eisPw6Ln7Tq/2m8kuFW+ZUV1A2jYp4x9elRXN9qVxNq0tndRW0emNsWJ4wwmYRq5LnOQPmAGMdM89KL6X8rjWrsu9jeaaJJEjeRFeTOxSwBbHXA704sB1IH1NcxpokvfG8l80rBG0y3lWJo1ygZpflzjIqLX7CDUPGllHc6Raaqq2EpEV0FKqfMTkbgeadmml6/r/kDtv6fjb/M60HPTmiubY3cOpWmjaZ5GkwfYXm8uGFWEbK6gBRwMfMe3+NR6Rq2pXA0W6vLiKSPVYGLQpFtETBN4KnOegIOc9sYpdL/11/yA6jr0ori/DlzqFh4W0C6e6jltphBbm2EQ+VW+UMG67gcE54xngVbi1u8OrWbR3L3VrdXbQH/Q/KiVcOQVZjuY/KMnkHnGKb3t8v6+8b0bX9f1odTnHWiuGu9QvbjwvZapfytc7tSg2W8EIyNs+OO5Jx9K111iaXw9Hfm9SGS8mCxJHbNMY+eYwo5LgA5JGAQcjAqU7q/9dP8AMnr/AF5nRUgYFiAQSOoz0ri7jUdSvbGWBruaCS01a2gEpiVHkRjG3zKOB9/tjI6irlxqVzb65qFtarAk0ktpAs7RDI3q2WbGN2ADgHuQKey/D8v8wbs7f11/yOpork9R1jVNL+1WX2mO4niezMdw8IHyzTeWVZRgEjaTkY4I9M1qaXc3ia1fabe3AuhDFFPHL5YRsOXBUgcHBTg+/wCNO2lyrWNiiiikIKKKKACiiigAooooAKKKKACiiigAooooAKKKKACo2/4+o/8Acb+a1JUbf8fUf+4381oAkooooAKQMrEhWBIODg9KyfE80kOgSeU7RCSWKKSRTgpG0iq7A9sKTz2601NA0TTL2znsoINNnVvLQ26rGZ8qfkbj5x1bHXIz60B0NmisrX725sbWJ7ObyWZ8E/2ZPe5GP7sRBX6nipNEu57zTvNupfNk3kbvsEtnx/1zlJb8ehoA0CyrjcwGTgZPWlzXN2Wk6drd3qc+sWdve3CXT24FxGH8mMAbVXP3QRhuOpNVRau3iXTrfStTYRppkqrcsFmcqJUGMng+mSD09eaFrbz/AMrg9L/11sddRXIjxBqFzDp1sGeOaaKZ55ra28wny5AnyqcgZJyc5x075qSPVNZur3S7GR/sMlwlyZnaD5mEbIEZVJO3cGzg5xmgFqdVnNFcbDc6jYaZrGpwXcYhs724c23lA+aofLAt1DHnGPbOavXOo6nMNWu7S5it4tMYqkDxhhMVjVzvPUA7sDGMYzz0pJ+7zeV/6+8fW3nY6SiudOt3TrrjrhFtLOOeAMvKlo2Y59eQKiXV783mpTPMPs2nWsdwYUiG6UtGWIJ7DI7DNDaV79P+D/kJa2t1OnornIrvVbbUdGW6v4biPUGbzUWELsxEzYQg/dyO+T7810MhZY2KDLAEgeppvTcSd9hdy7tu4bsZxnmlrioLDRpPB0Wp3v2dNTuLU3ZvmAE4mCbmZWPI2nPHQAY6V06XNwfD63Mn7q5NsJGHktLtfbk/IuGbnsOTQ9L+Q+q8y9SEhVJYgAdSawNB1S+vb547u581BGWC/wBhXVlzkfxysVP069+1O1O3t9S8UWtjqaJNaravOlvKAySSBlG4g8HaDxn+9ntR1QG8CCMg5B7iiuLmvU0Wa+Xw2YRZstnKscIBijaWco5UDgZXnA7jPetLVteutPvNVSNVdbe1tnhUoWw8sjpk45I4U49jR0uOz/r+vM6KiuTl1zVNOtbx5UnuUWJTFNcWZj2yM4TaQMbh8wPGDweTTbrWdXsNN1KU+dMsNqZop7m08ra4OChHQjByOMjByTQLZHXUVz73WsWl9dWaTRX8z2L3NsrRiPEgONnB+6SV68jnJrM1DULybwxrETalcR3cNr5uya08mWPg5wfusuRgFc4x1NG4r/1/XqdnRWE0uo3OrNptvfCD7LbRzSTGFWaVnZgBjoFGw5xyc8EYrP8A+Ekv3tEP7qOe9tQtr8mVE4l8tj7rlkYD0BoGdbRXITeI9QbRb68h8tHsrBGkBXI+0kncv4ben+1WtZT38HiBrC9uluo5bY3CMIghjIYKV46j5hjPPB5NHWwr2NmkVlbO1gcHBwehqpq9u13o13bpc/ZGmiZFnzjYSMA9RWLpNta6brVvDPolvpd3LEyRy2LAwzgYJU4CnI6jcvHOD1oH0OmorG8Qahd2KwfY5/J3lt3/ABKbi+zjH/PJht/Hr26Vc0e5mu9LjmuZPMkYnLfY5LXPP/POQlh+J560AXaKKKACo7b/AI9Yv9wfyqSo7b/j1i/3B/KgCSiiigCOX/WQ/wC+f/QTUlRy/wCsh/3z/wCgmpKACmuiyxtHIodGBDKwyCD2p1FAGXb+HdNtS5jimffE0OJrmSTYh6qm5jsHT7uOg9BVqLTLSCW2kii2vawG3hO4nbGduR15+4vJ54q1RQBlSeGtLkEP7iSNoEaOKSG4kjdFY5IDKwPJ96dJ4d02SC3iWKWEWwZYmguJImAb7wLKwJyRk5JyeetadFG2wFC10TTrJ7ZrW2EZtRIsOHb5BIwZ+/cgfTtQNE09UVVt8bLlrpSHbKysSWYHORkk5HTBIxjir9FAdLGavh/TkvhdrFIHEhlEfnyeUHPJYR7tm7POcdeetRv4Y0mS4857dyRMLhY/Pk8tZAwbeqbtoORnIHOT6nOtRRtsAUUUUAFFFFABRRRQAUUUUAFFFFABRRRQAUUUUAFFFFABRRRQAUUUUAFFFFABRRRQAUUUUAR23/HrF/uD+VSVHbf8esX+4P5VJQAVDFZwQXVxcRJtluCplbJO7aMDjtx6VNRQBQv9FstSlWW5WZZFXZvguJISy/3WKMNw9jkVLDptnb3Mc8ECxyRQfZ025AWPIO0Dp2FWqKA3K1vp9ta3lxdQK6SXJDSjzGKkgYztztBx1IAJwM1WvdA07ULkz3UUhZwFkVJ3RJgOgdVIVx/vA8cVpUUAQJZ26Xz3aR4neJYmbJ5RSSBjp1Y/nVXUNCsdUuo7m5+0pNEhjWS3vJYDtJBIJjZcjIHWtGigCnbaTaWs0UsayvLDE0KSTTvK2wkMQSxJPIHJ5oh0myt4rKOGHaliu23G9jsG3b688HHOauUUAZNl4Y0nTpIHtLd0FuP3MbTyNHGcY3BCxUNgn5sZ5PPJp0XhvTIbqO4SGUtDKZYla4kZImOQSqFtq/ePQd61KKAKK6NYJYw2awYgglE0ab2+Vw24HOc/e5ps2hafOkytC6edMJ2MUzoRIBjcpUjafUjGe+a0KKAMtfDelrZ3FsIJNlzIssrG4kLs6gAPv3bgw2ryDnjNSy6Jp84uPNgLm5CCVjI2Ts+4Qc5BHXIwc81fooAzI/D2mpatAYZJFeVJnead5Hd0YMpLsxY4IGBnFXUs4EvpbxUxPLGsbvk8qpYqMdOCzfnU1FABRRRQAUUUUAFFFFABRRRQAUUUUAFFFFABRRRQAUUUUAFRt/x9R/7jfzWpKjb/AI+o/wDcb+a0ASUUUUANlijnheKZFkjkUq6MMhgeoIrOsfD2naddC4t45mkQFYzPcyTCIHqEDsQg/wB3FXrq6hsrWS5upBHDGNzMe3+fSqtjrVpqFw0EQnimVd/l3Fu8LFc43AOBkfTpkZo6h0L9FFFAGZfeH9O1G5NxcJMkrKFdoLmSHzAOgfYw3D65qzFptnBcQzwwLG8EJgj2ZASPIO0Dp/CPypG1SzUWh89WF6/l27KCQ7bS3Ueyn8qt0A/MzpdA0+W1ig8qSNYWZo3hneN0LHLYdSGwSeRnFPt9GsLWS2kgg2vao6RNvYkByC+cn5iSASTk/nV6igDKbwzpTXTT/Z5AXm8+RBPII5HzncybtrHPqDjA9BT7zw/p1/dNPcwyFnwJEWd0SbHTeikK/p8wPHFaVRpPFJLJHHIrPEQJFB5UkZGfwNGwFDUPDumancNNewO7PF5UgWZ0WROeHVWAbGTjIOM8VZi062t5J5beIJLOio7MSwIUYXgnsD+NWqKVgOX03w3cw6raXFxbWdqlkWMf2e4kl35UrgK4AiXknapI6elb2m2r2OmwW0sxnkjQB5D/ABt3P51aopgYN/4N0fUJTJLFPG/midRHcOI1lzneIs+Xuz3KnOTmt6iigAqpqGl2mqRIl4jHy23RvHI0bxnplXUhhx6GrdFAGPY+FdL0+xvLKCJ2tb1/MljkkLksQATvPzEnAOSSc9MVLb+HdLtkuVS3aT7VEIp2nmeZpVG7AYuSTjcef8BWnRQBmweH9OgjnQxSTi4Ty5DdTyTkp/dy7EgewpieG9MW3uIXjmmW5Ty5TPdSysU/uhmYkD2BFatFAFW50yzu5Ge5gWUvC1u24nBjYglcdOwqtD4e02GG4i8qWZbmPypTcXEkzMmD8u52JA5PAPfPWtOigDMn8PafcRwpILkGFPLWRLyVZGX+6zhtzD/eJqZtH09zY5tUH9ntutQvAiO0rwB7Hp/hV2igDP8A7C037Je2otVEN/I0tyoYjzGbGTnOR0HSn32nLcpNJAfKvHtnt458k7A3tn1APrxV2igOtyB7KCbTzZXCCeBo/KdZOd64xz61UsNAsNOuftEC3EkwUor3N1LOUU9Qu9jtHA6Y6VpUUdbh0sFFFFABRRRQAVHbf8esX+4P5VJUdt/x6xf7g/lQBJRRRQBHL/rIf98/+gmpKjl/1kP++f8A0E1JQAUUUUAFFFFABRRRQAUUUUAFFFFABRRRQAUUUUAFFFFABRRRQAUUUUAFFFFABRRRQAUUUUAFFFFABRRRQAUUUUAFFFFABRRRQBHbf8esX+4P5VJUdt/x6xf7g/lUlABRRRQAUUUUAFFFFABRRRQAUUUUAFFFFABRRRQAUUUUAFFFFABRRRQAUUUUAFFFFABRRRQAUUUUAFFFFABRRRQAUUUUAFRt/wAfUf8AuN/NakqNv+PqP/cb+a0ASUUUUAZ+ui1Oi3H9oCX7PgF2hBLJ8ww4x/dODn2rnBrN1cR31toerQ67t0+WSO7gVGkhlGAqsyfIS2cgYB+WuzoAx0oHc4uJtPmuEh8LXPntJZzC8EcxfB2AKZOTiTdxz833vSn6TqdnqtxoVrBdLcldPlS6RWLbW2Rgq/o3Xg812NFJq9/67/5k2/r7v8jz+ztrCfR/C9pFsIXUGjuY43wVkEEu5Wwcg9Mg1PPPb6dBqFhKqCxTVlhjFxdNDBApgR8Mwz8pYnCnglgOK7mjr1prRf15f5FXv/Xr/mefWcgu3sbUTiWz/tt4kEDsIzGbVm2qc5KZOfQ9uKs/Y4rKza5t/MWW11qOCBjKx8uJpkUoMn7uGPHSu4opp2afb/gf5fiL+vz/AM/wPPI7mwNrqRW7Y68mp3C2cZlbzc+cdqoueU9cDGN2elaF0kVpfeJhZfutQkVJQIj++MRVd7oOp53cjvXU2GnQ6bFLHb7iJZ5J23HPzOxZvwyatVNtEv62G/ib/rc4PULixWz1Q+FrpJLRdHuWuWt5i6JLgeWc5IDkb898AZ7VrWVtHp/iTSxal0F5YSvcAuW81lMW1jk8t8zc+9dN0oqlo/68/wDP8Avpb+un+QUUUUhBRRRQAUUUUAFFFFABRRRQAUUUUAFFFFABRRRQAUUUUAFFFFABRRRQAVHbf8esX+4P5VJUdt/x6xf7g/lQBJRRRQBHMG3RsqltrZIBHoR3+tHmv/zwk/Nf8akooAj81/8AnhJ+a/40ea//ADwk/Nf8akooAj81/wDnhJ+a/wCNHmv/AM8JPzX/ABqSigCPzX/54Sfmv+NHmv8A88JPzX/GpKKAI/Nf/nhJ+a/40ea//PCT81/xqSigCPzX/wCeEn5r/jR5r/8APCT81/xqSigCPzX/AOeEn5r/AI0ea/8Azwk/Nf8AGpKKAI/Nf/nhJ+a/40ea/wDzwk/Nf8akooAj81/+eEn5r/jR5r/88JPzX/GpKKAI/Nf/AJ4Sfmv+NHmv/wA8JPzX/GpKKAI/Nf8A54Sfmv8AjR5r/wDPCT81/wAakooAj81/+eEn5r/jR5r/APPCT81/xqSigCPzX/54Sfmv+NHmv/zwk/Nf8akooAj81/8AnhJ+a/40ea//ADwk/Nf8akooAj81/wDnhJ+a/wCNHmv/AM8JPzX/ABqSigCPzX/54Sfmv+NHmv8A88JPzX/GpKKAI/Nf/nhJ+a/40ea//PCT81/xqSigCPzX/wCeEn5r/jR5r/8APCT81/xqSigCPzX/AOeEn5r/AI0ea/8Azwk/Nf8AGpKKAIIWkjhRDBJlVAOCvp9af5r/APPCT81/xqSigCPzX/54Sfmv+NHmv/zwk/Nf8akooAj81/8AnhJ+a/40ea//ADwk/Nf8akooAj81/wDnhJ+a/wCNHmv/AM8JPzX/ABqSigCPzX/54Sfmv+NHmv8A88JPzX/GpKKAI/Nf/nhJ+a/40ea//PCT81/xqSigCPzX/wCeEn5r/jR5r/8APCT81/xqSigCPzX/AOeEn5r/AI0ea/8Azwk/Nf8AGpKKAI/Nf/nhJ+a/40ea/wDzwk/Nf8akooAj81/+eEn5r/jR5r/88JPzX/GpKKAI/Nf/AJ4Sfmv+NHmv/wA8JPzX/GpKKAI/Nf8A54Sfmv8AjR5r/wDPCT81/wAakooAj81/+eEn5r/jR5r/APPCT81/xqSigCPzX/54Sfmv+NHmv/zwk/Nf8akooAj81/8AnhJ+a/40ea//ADwk/Nf8akooAj81/wDnhJ+a/wCNHmv/AM8JPzX/ABqSigCPzX/54Sfmv+NHmv8A88JPzX/GpKKAI/Nf/nhJ+a/40ea//PCT81/xqSigCPzX/wCeEn5r/jTC0hmV/IkwFI6r3I9/ap6KAI/Nf/nhJ+a/40ea/wDzwk/Nf8akooAj81/+eEn5r/jR5r/88JPzX/GpKKAI/Nf/AJ4Sfmv+NHmv/wA8JPzX/GpKKAI/Nf8A54Sfmv8AjR5r/wDPCT81/wAakooAj81/+eEn5r/jR5r/APPCT81/xqSigCPzX/54Sfmv+NHmv/zwk/Nf8akooAj81/8AnhJ+a/40ea//ADwk/Nf8akooAj81/wDnhJ+a/wCNHmv/AM8JPzX/ABqSigCPzX/54Sfmv+NHmv8A88JPzX/GpKKAI/Nf/nhJ+a/40ea//PCT81/xqSigCPzX/wCeEn5r/jR5r/8APCT81/xqSigCPzX/AOeEn5r/AI0ea/8Azwk/Nf8AGpKKAI/Nf/nhJ+a/40ea/wDzwk/Nf8akooAj81/+eEn5r/jR5r/88JPzX/GpKKAI/Nf/AJ4Sfmv+NHmv/wA8JPzX/GpKKAI/Nf8A54Sfmv8AjR5r/wDPCT81/wAakooAj81/+eEn5r/jR5r/APPCT81/xqSigCPzX/54Sfmv+NHmv/zwk/Nf8akooAj81/8AnhJ+a/40sClLeNWGCqgEfhT6KACiiigAooooAKKKKACiiigAooooAKKKKACiiigAooooAKKKKACiiigAooooAKKKKACiiigAooooAKKKKACiiigAooooAKKKKACiiigAooooAKKKKACiiigAooooAKKKKACiiigAooooAKKKKACiiigAooooAKKKKACiiigAooooAKKKKACiiigAooooAKKKKACiiigAooooAKKKKACiiigAooooAKKKKACiiigAooooAKKKKACiiigAooooAKKKKACiiigAooooAKKKKACiiigAooooAKKKKACiiigAooooAKKKKACiiigAooooA//Z)"
      ]
    },
    {
      "cell_type": "markdown",
      "metadata": {
        "id": "HNRKIqToK8Ix"
      },
      "source": [
        ""
      ]
    },
    {
      "cell_type": "code",
      "metadata": {
        "id": "rLia9y64wFe8",
        "colab": {
          "base_uri": "https://localhost:8080/"
        },
        "outputId": "04fb4a2f-a5df-4bef-90ff-b1e6e898ebf9"
      },
      "source": [
        "titanic_df.info()"
      ],
      "execution_count": null,
      "outputs": [
        {
          "output_type": "stream",
          "text": [
            "<class 'pandas.core.frame.DataFrame'>\n",
            "Int64Index: 1309 entries, 1 to 1309\n",
            "Data columns (total 20 columns):\n",
            " #   Column       Non-Null Count  Dtype  \n",
            "---  ------       --------------  -----  \n",
            " 0   Survived     891 non-null    float64\n",
            " 1   Pclass       1309 non-null   int64  \n",
            " 2   Name         1309 non-null   object \n",
            " 3   Sex          1309 non-null   object \n",
            " 4   Age          1046 non-null   float64\n",
            " 5   SibSp        1309 non-null   int64  \n",
            " 6   Parch        1309 non-null   int64  \n",
            " 7   Ticket       1309 non-null   object \n",
            " 8   Fare         1308 non-null   float64\n",
            " 9   Cabin        295 non-null    object \n",
            " 10  Embarked     1307 non-null   object \n",
            " 11  WikiId       1304 non-null   float64\n",
            " 12  Name_wiki    1304 non-null   object \n",
            " 13  Age_wiki     1302 non-null   float64\n",
            " 14  Hometown     1304 non-null   object \n",
            " 15  Boarded      1304 non-null   object \n",
            " 16  Destination  1304 non-null   object \n",
            " 17  Lifeboat     502 non-null    object \n",
            " 18  Body         130 non-null    object \n",
            " 19  Class        1304 non-null   float64\n",
            "dtypes: float64(6), int64(3), object(11)\n",
            "memory usage: 214.8+ KB\n"
          ],
          "name": "stdout"
        }
      ]
    },
    {
      "cell_type": "code",
      "metadata": {
        "id": "Q53pP_e9uZgN",
        "colab": {
          "base_uri": "https://localhost:8080/"
        },
        "outputId": "39979d03-c5ef-4470-9e8f-78e63a47b909"
      },
      "source": [
        "titanic_df.isna().sum()"
      ],
      "execution_count": null,
      "outputs": [
        {
          "output_type": "execute_result",
          "data": {
            "text/plain": [
              "Survived        418\n",
              "Pclass            0\n",
              "Name              0\n",
              "Sex               0\n",
              "Age             263\n",
              "SibSp             0\n",
              "Parch             0\n",
              "Ticket            0\n",
              "Fare              1\n",
              "Cabin          1014\n",
              "Embarked          2\n",
              "WikiId            5\n",
              "Name_wiki         5\n",
              "Age_wiki          7\n",
              "Hometown          5\n",
              "Boarded           5\n",
              "Destination       5\n",
              "Lifeboat        807\n",
              "Body           1179\n",
              "Class             5\n",
              "dtype: int64"
            ]
          },
          "metadata": {
            "tags": []
          },
          "execution_count": 4
        }
      ]
    },
    {
      "cell_type": "markdown",
      "metadata": {
        "id": "bZHMVV2JKNgE"
      },
      "source": [
        "#Data preprocessing\n"
      ]
    },
    {
      "cell_type": "code",
      "metadata": {
        "id": "Dx-_7Rojvz-X",
        "colab": {
          "base_uri": "https://localhost:8080/",
          "height": 237
        },
        "outputId": "f35af86c-85fd-4094-a6fd-40e4b238b999"
      },
      "source": [
        "titanic_df.dropna(thresh=800, axis=1, inplace=True)\n",
        "titanic_df.drop(['Age','Boarded', 'Destination', 'Hometown', 'Ticket', 'Name','WikiId', 'Class','Name_wiki', 'WikiId'], axis=1, inplace=True)\n",
        "titanic_df.Fare.fillna(titanic_df.Fare.median(), inplace=True)\n",
        "titanic_df.Embarked.fillna('S', inplace=True)\n",
        "titanic_df.Age_wiki.fillna(titanic_df.Age_wiki.mean(), inplace=True)\n",
        "titanic_df.dropna(inplace=True)\n",
        "titanic_df.rename(columns={'Age_wiki':'Age'}, inplace=True)\n",
        "titanic_df = titanic_df.astype({'Survived':'int32'})\n",
        "titanic_df.drop_duplicates()\n",
        "titanic_df.head()"
      ],
      "execution_count": null,
      "outputs": [
        {
          "output_type": "execute_result",
          "data": {
            "text/html": [
              "<div>\n",
              "<style scoped>\n",
              "    .dataframe tbody tr th:only-of-type {\n",
              "        vertical-align: middle;\n",
              "    }\n",
              "\n",
              "    .dataframe tbody tr th {\n",
              "        vertical-align: top;\n",
              "    }\n",
              "\n",
              "    .dataframe thead th {\n",
              "        text-align: right;\n",
              "    }\n",
              "</style>\n",
              "<table border=\"1\" class=\"dataframe\">\n",
              "  <thead>\n",
              "    <tr style=\"text-align: right;\">\n",
              "      <th></th>\n",
              "      <th>Survived</th>\n",
              "      <th>Pclass</th>\n",
              "      <th>Sex</th>\n",
              "      <th>SibSp</th>\n",
              "      <th>Parch</th>\n",
              "      <th>Fare</th>\n",
              "      <th>Embarked</th>\n",
              "      <th>Age</th>\n",
              "    </tr>\n",
              "    <tr>\n",
              "      <th>PassengerId</th>\n",
              "      <th></th>\n",
              "      <th></th>\n",
              "      <th></th>\n",
              "      <th></th>\n",
              "      <th></th>\n",
              "      <th></th>\n",
              "      <th></th>\n",
              "      <th></th>\n",
              "    </tr>\n",
              "  </thead>\n",
              "  <tbody>\n",
              "    <tr>\n",
              "      <th>1</th>\n",
              "      <td>0</td>\n",
              "      <td>3</td>\n",
              "      <td>male</td>\n",
              "      <td>1</td>\n",
              "      <td>0</td>\n",
              "      <td>7.2500</td>\n",
              "      <td>S</td>\n",
              "      <td>22.0</td>\n",
              "    </tr>\n",
              "    <tr>\n",
              "      <th>2</th>\n",
              "      <td>1</td>\n",
              "      <td>1</td>\n",
              "      <td>female</td>\n",
              "      <td>1</td>\n",
              "      <td>0</td>\n",
              "      <td>71.2833</td>\n",
              "      <td>C</td>\n",
              "      <td>35.0</td>\n",
              "    </tr>\n",
              "    <tr>\n",
              "      <th>3</th>\n",
              "      <td>1</td>\n",
              "      <td>3</td>\n",
              "      <td>female</td>\n",
              "      <td>0</td>\n",
              "      <td>0</td>\n",
              "      <td>7.9250</td>\n",
              "      <td>S</td>\n",
              "      <td>26.0</td>\n",
              "    </tr>\n",
              "    <tr>\n",
              "      <th>4</th>\n",
              "      <td>1</td>\n",
              "      <td>1</td>\n",
              "      <td>female</td>\n",
              "      <td>1</td>\n",
              "      <td>0</td>\n",
              "      <td>53.1000</td>\n",
              "      <td>S</td>\n",
              "      <td>35.0</td>\n",
              "    </tr>\n",
              "    <tr>\n",
              "      <th>5</th>\n",
              "      <td>0</td>\n",
              "      <td>3</td>\n",
              "      <td>male</td>\n",
              "      <td>0</td>\n",
              "      <td>0</td>\n",
              "      <td>8.0500</td>\n",
              "      <td>S</td>\n",
              "      <td>35.0</td>\n",
              "    </tr>\n",
              "  </tbody>\n",
              "</table>\n",
              "</div>"
            ],
            "text/plain": [
              "             Survived  Pclass     Sex  SibSp  Parch     Fare Embarked   Age\n",
              "PassengerId                                                                \n",
              "1                   0       3    male      1      0   7.2500        S  22.0\n",
              "2                   1       1  female      1      0  71.2833        C  35.0\n",
              "3                   1       3  female      0      0   7.9250        S  26.0\n",
              "4                   1       1  female      1      0  53.1000        S  35.0\n",
              "5                   0       3    male      0      0   8.0500        S  35.0"
            ]
          },
          "metadata": {
            "tags": []
          },
          "execution_count": 5
        }
      ]
    },
    {
      "cell_type": "markdown",
      "metadata": {
        "id": "hU5RwwaSKjgE"
      },
      "source": [
        "## More data preprocessing \n",
        "\n",
        "Replacing the SibSp and Parch with a binary categorical variable named 'Family'.\n",
        "\n",
        "Family = 1 means that the person has a family on board and 0 means that the person is travelling alone."
      ]
    },
    {
      "cell_type": "code",
      "metadata": {
        "id": "uzRGc6igLyMk",
        "colab": {
          "base_uri": "https://localhost:8080/",
          "height": 519
        },
        "outputId": "ef7576b8-6beb-48f2-9f01-b2897477e202"
      },
      "source": [
        "titanic_df['Family'] =  titanic_df[\"Parch\"] + titanic_df[\"SibSp\"]\n",
        "titanic_df['Family'].loc[titanic_df['Family'] > 0] = 1\n",
        "titanic_df['Family'].loc[titanic_df['Family'] == 0] = 0\n",
        "titanic_df.head()"
      ],
      "execution_count": null,
      "outputs": [
        {
          "output_type": "stream",
          "text": [
            "/usr/local/lib/python3.6/dist-packages/pandas/core/indexing.py:670: SettingWithCopyWarning:\n",
            "\n",
            "\n",
            "A value is trying to be set on a copy of a slice from a DataFrame\n",
            "\n",
            "See the caveats in the documentation: https://pandas.pydata.org/pandas-docs/stable/user_guide/indexing.html#returning-a-view-versus-a-copy\n",
            "\n",
            "/usr/local/lib/python3.6/dist-packages/pandas/core/indexing.py:670: SettingWithCopyWarning:\n",
            "\n",
            "\n",
            "A value is trying to be set on a copy of a slice from a DataFrame\n",
            "\n",
            "See the caveats in the documentation: https://pandas.pydata.org/pandas-docs/stable/user_guide/indexing.html#returning-a-view-versus-a-copy\n",
            "\n"
          ],
          "name": "stderr"
        },
        {
          "output_type": "execute_result",
          "data": {
            "text/html": [
              "<div>\n",
              "<style scoped>\n",
              "    .dataframe tbody tr th:only-of-type {\n",
              "        vertical-align: middle;\n",
              "    }\n",
              "\n",
              "    .dataframe tbody tr th {\n",
              "        vertical-align: top;\n",
              "    }\n",
              "\n",
              "    .dataframe thead th {\n",
              "        text-align: right;\n",
              "    }\n",
              "</style>\n",
              "<table border=\"1\" class=\"dataframe\">\n",
              "  <thead>\n",
              "    <tr style=\"text-align: right;\">\n",
              "      <th></th>\n",
              "      <th>Survived</th>\n",
              "      <th>Pclass</th>\n",
              "      <th>Sex</th>\n",
              "      <th>SibSp</th>\n",
              "      <th>Parch</th>\n",
              "      <th>Fare</th>\n",
              "      <th>Embarked</th>\n",
              "      <th>Age</th>\n",
              "      <th>Family</th>\n",
              "    </tr>\n",
              "    <tr>\n",
              "      <th>PassengerId</th>\n",
              "      <th></th>\n",
              "      <th></th>\n",
              "      <th></th>\n",
              "      <th></th>\n",
              "      <th></th>\n",
              "      <th></th>\n",
              "      <th></th>\n",
              "      <th></th>\n",
              "      <th></th>\n",
              "    </tr>\n",
              "  </thead>\n",
              "  <tbody>\n",
              "    <tr>\n",
              "      <th>1</th>\n",
              "      <td>0</td>\n",
              "      <td>3</td>\n",
              "      <td>male</td>\n",
              "      <td>1</td>\n",
              "      <td>0</td>\n",
              "      <td>7.2500</td>\n",
              "      <td>S</td>\n",
              "      <td>22.0</td>\n",
              "      <td>1</td>\n",
              "    </tr>\n",
              "    <tr>\n",
              "      <th>2</th>\n",
              "      <td>1</td>\n",
              "      <td>1</td>\n",
              "      <td>female</td>\n",
              "      <td>1</td>\n",
              "      <td>0</td>\n",
              "      <td>71.2833</td>\n",
              "      <td>C</td>\n",
              "      <td>35.0</td>\n",
              "      <td>1</td>\n",
              "    </tr>\n",
              "    <tr>\n",
              "      <th>3</th>\n",
              "      <td>1</td>\n",
              "      <td>3</td>\n",
              "      <td>female</td>\n",
              "      <td>0</td>\n",
              "      <td>0</td>\n",
              "      <td>7.9250</td>\n",
              "      <td>S</td>\n",
              "      <td>26.0</td>\n",
              "      <td>0</td>\n",
              "    </tr>\n",
              "    <tr>\n",
              "      <th>4</th>\n",
              "      <td>1</td>\n",
              "      <td>1</td>\n",
              "      <td>female</td>\n",
              "      <td>1</td>\n",
              "      <td>0</td>\n",
              "      <td>53.1000</td>\n",
              "      <td>S</td>\n",
              "      <td>35.0</td>\n",
              "      <td>1</td>\n",
              "    </tr>\n",
              "    <tr>\n",
              "      <th>5</th>\n",
              "      <td>0</td>\n",
              "      <td>3</td>\n",
              "      <td>male</td>\n",
              "      <td>0</td>\n",
              "      <td>0</td>\n",
              "      <td>8.0500</td>\n",
              "      <td>S</td>\n",
              "      <td>35.0</td>\n",
              "      <td>0</td>\n",
              "    </tr>\n",
              "  </tbody>\n",
              "</table>\n",
              "</div>"
            ],
            "text/plain": [
              "             Survived  Pclass     Sex  SibSp  ...     Fare  Embarked   Age  Family\n",
              "PassengerId                                   ...                                 \n",
              "1                   0       3    male      1  ...   7.2500         S  22.0       1\n",
              "2                   1       1  female      1  ...  71.2833         C  35.0       1\n",
              "3                   1       3  female      0  ...   7.9250         S  26.0       0\n",
              "4                   1       1  female      1  ...  53.1000         S  35.0       1\n",
              "5                   0       3    male      0  ...   8.0500         S  35.0       0\n",
              "\n",
              "[5 rows x 9 columns]"
            ]
          },
          "metadata": {
            "tags": []
          },
          "execution_count": 6
        }
      ]
    },
    {
      "cell_type": "code",
      "metadata": {
        "id": "Rgxte8p4L9xv",
        "colab": {
          "base_uri": "https://localhost:8080/",
          "height": 237
        },
        "outputId": "7e91e56c-f776-4271-d687-22d101d5841b"
      },
      "source": [
        "titanic_df.drop(['SibSp','Parch'], axis=1, inplace=True)\n",
        "titanic_df.head()"
      ],
      "execution_count": null,
      "outputs": [
        {
          "output_type": "execute_result",
          "data": {
            "text/html": [
              "<div>\n",
              "<style scoped>\n",
              "    .dataframe tbody tr th:only-of-type {\n",
              "        vertical-align: middle;\n",
              "    }\n",
              "\n",
              "    .dataframe tbody tr th {\n",
              "        vertical-align: top;\n",
              "    }\n",
              "\n",
              "    .dataframe thead th {\n",
              "        text-align: right;\n",
              "    }\n",
              "</style>\n",
              "<table border=\"1\" class=\"dataframe\">\n",
              "  <thead>\n",
              "    <tr style=\"text-align: right;\">\n",
              "      <th></th>\n",
              "      <th>Survived</th>\n",
              "      <th>Pclass</th>\n",
              "      <th>Sex</th>\n",
              "      <th>Fare</th>\n",
              "      <th>Embarked</th>\n",
              "      <th>Age</th>\n",
              "      <th>Family</th>\n",
              "    </tr>\n",
              "    <tr>\n",
              "      <th>PassengerId</th>\n",
              "      <th></th>\n",
              "      <th></th>\n",
              "      <th></th>\n",
              "      <th></th>\n",
              "      <th></th>\n",
              "      <th></th>\n",
              "      <th></th>\n",
              "    </tr>\n",
              "  </thead>\n",
              "  <tbody>\n",
              "    <tr>\n",
              "      <th>1</th>\n",
              "      <td>0</td>\n",
              "      <td>3</td>\n",
              "      <td>male</td>\n",
              "      <td>7.2500</td>\n",
              "      <td>S</td>\n",
              "      <td>22.0</td>\n",
              "      <td>1</td>\n",
              "    </tr>\n",
              "    <tr>\n",
              "      <th>2</th>\n",
              "      <td>1</td>\n",
              "      <td>1</td>\n",
              "      <td>female</td>\n",
              "      <td>71.2833</td>\n",
              "      <td>C</td>\n",
              "      <td>35.0</td>\n",
              "      <td>1</td>\n",
              "    </tr>\n",
              "    <tr>\n",
              "      <th>3</th>\n",
              "      <td>1</td>\n",
              "      <td>3</td>\n",
              "      <td>female</td>\n",
              "      <td>7.9250</td>\n",
              "      <td>S</td>\n",
              "      <td>26.0</td>\n",
              "      <td>0</td>\n",
              "    </tr>\n",
              "    <tr>\n",
              "      <th>4</th>\n",
              "      <td>1</td>\n",
              "      <td>1</td>\n",
              "      <td>female</td>\n",
              "      <td>53.1000</td>\n",
              "      <td>S</td>\n",
              "      <td>35.0</td>\n",
              "      <td>1</td>\n",
              "    </tr>\n",
              "    <tr>\n",
              "      <th>5</th>\n",
              "      <td>0</td>\n",
              "      <td>3</td>\n",
              "      <td>male</td>\n",
              "      <td>8.0500</td>\n",
              "      <td>S</td>\n",
              "      <td>35.0</td>\n",
              "      <td>0</td>\n",
              "    </tr>\n",
              "  </tbody>\n",
              "</table>\n",
              "</div>"
            ],
            "text/plain": [
              "             Survived  Pclass     Sex     Fare Embarked   Age  Family\n",
              "PassengerId                                                          \n",
              "1                   0       3    male   7.2500        S  22.0       1\n",
              "2                   1       1  female  71.2833        C  35.0       1\n",
              "3                   1       3  female   7.9250        S  26.0       0\n",
              "4                   1       1  female  53.1000        S  35.0       1\n",
              "5                   0       3    male   8.0500        S  35.0       0"
            ]
          },
          "metadata": {
            "tags": []
          },
          "execution_count": 7
        }
      ]
    },
    {
      "cell_type": "markdown",
      "metadata": {
        "id": "P2asL5MWrs4v"
      },
      "source": [
        "Add a 'child' category if age is 16 or smaller."
      ]
    },
    {
      "cell_type": "code",
      "metadata": {
        "id": "AlwlwEfZr5PK",
        "colab": {
          "base_uri": "https://localhost:8080/",
          "height": 545
        },
        "outputId": "ea4896bb-2491-43c9-819f-f7a553b0aeb3"
      },
      "source": [
        "titanic_df.Sex.loc[titanic_df.Age<=16]='child'\n",
        "titanic_df.head(10)"
      ],
      "execution_count": null,
      "outputs": [
        {
          "output_type": "stream",
          "text": [
            "/usr/local/lib/python3.6/dist-packages/pandas/core/indexing.py:670: SettingWithCopyWarning:\n",
            "\n",
            "\n",
            "A value is trying to be set on a copy of a slice from a DataFrame\n",
            "\n",
            "See the caveats in the documentation: https://pandas.pydata.org/pandas-docs/stable/user_guide/indexing.html#returning-a-view-versus-a-copy\n",
            "\n"
          ],
          "name": "stderr"
        },
        {
          "output_type": "execute_result",
          "data": {
            "text/html": [
              "<div>\n",
              "<style scoped>\n",
              "    .dataframe tbody tr th:only-of-type {\n",
              "        vertical-align: middle;\n",
              "    }\n",
              "\n",
              "    .dataframe tbody tr th {\n",
              "        vertical-align: top;\n",
              "    }\n",
              "\n",
              "    .dataframe thead th {\n",
              "        text-align: right;\n",
              "    }\n",
              "</style>\n",
              "<table border=\"1\" class=\"dataframe\">\n",
              "  <thead>\n",
              "    <tr style=\"text-align: right;\">\n",
              "      <th></th>\n",
              "      <th>Survived</th>\n",
              "      <th>Pclass</th>\n",
              "      <th>Sex</th>\n",
              "      <th>Fare</th>\n",
              "      <th>Embarked</th>\n",
              "      <th>Age</th>\n",
              "      <th>Family</th>\n",
              "    </tr>\n",
              "    <tr>\n",
              "      <th>PassengerId</th>\n",
              "      <th></th>\n",
              "      <th></th>\n",
              "      <th></th>\n",
              "      <th></th>\n",
              "      <th></th>\n",
              "      <th></th>\n",
              "      <th></th>\n",
              "    </tr>\n",
              "  </thead>\n",
              "  <tbody>\n",
              "    <tr>\n",
              "      <th>1</th>\n",
              "      <td>0</td>\n",
              "      <td>3</td>\n",
              "      <td>male</td>\n",
              "      <td>7.2500</td>\n",
              "      <td>S</td>\n",
              "      <td>22.0</td>\n",
              "      <td>1</td>\n",
              "    </tr>\n",
              "    <tr>\n",
              "      <th>2</th>\n",
              "      <td>1</td>\n",
              "      <td>1</td>\n",
              "      <td>female</td>\n",
              "      <td>71.2833</td>\n",
              "      <td>C</td>\n",
              "      <td>35.0</td>\n",
              "      <td>1</td>\n",
              "    </tr>\n",
              "    <tr>\n",
              "      <th>3</th>\n",
              "      <td>1</td>\n",
              "      <td>3</td>\n",
              "      <td>female</td>\n",
              "      <td>7.9250</td>\n",
              "      <td>S</td>\n",
              "      <td>26.0</td>\n",
              "      <td>0</td>\n",
              "    </tr>\n",
              "    <tr>\n",
              "      <th>4</th>\n",
              "      <td>1</td>\n",
              "      <td>1</td>\n",
              "      <td>female</td>\n",
              "      <td>53.1000</td>\n",
              "      <td>S</td>\n",
              "      <td>35.0</td>\n",
              "      <td>1</td>\n",
              "    </tr>\n",
              "    <tr>\n",
              "      <th>5</th>\n",
              "      <td>0</td>\n",
              "      <td>3</td>\n",
              "      <td>male</td>\n",
              "      <td>8.0500</td>\n",
              "      <td>S</td>\n",
              "      <td>35.0</td>\n",
              "      <td>0</td>\n",
              "    </tr>\n",
              "    <tr>\n",
              "      <th>6</th>\n",
              "      <td>0</td>\n",
              "      <td>3</td>\n",
              "      <td>male</td>\n",
              "      <td>8.4583</td>\n",
              "      <td>Q</td>\n",
              "      <td>22.0</td>\n",
              "      <td>0</td>\n",
              "    </tr>\n",
              "    <tr>\n",
              "      <th>7</th>\n",
              "      <td>0</td>\n",
              "      <td>1</td>\n",
              "      <td>male</td>\n",
              "      <td>51.8625</td>\n",
              "      <td>S</td>\n",
              "      <td>54.0</td>\n",
              "      <td>0</td>\n",
              "    </tr>\n",
              "    <tr>\n",
              "      <th>8</th>\n",
              "      <td>0</td>\n",
              "      <td>3</td>\n",
              "      <td>child</td>\n",
              "      <td>21.0750</td>\n",
              "      <td>S</td>\n",
              "      <td>2.0</td>\n",
              "      <td>1</td>\n",
              "    </tr>\n",
              "    <tr>\n",
              "      <th>9</th>\n",
              "      <td>1</td>\n",
              "      <td>3</td>\n",
              "      <td>female</td>\n",
              "      <td>11.1333</td>\n",
              "      <td>S</td>\n",
              "      <td>26.0</td>\n",
              "      <td>1</td>\n",
              "    </tr>\n",
              "    <tr>\n",
              "      <th>10</th>\n",
              "      <td>1</td>\n",
              "      <td>2</td>\n",
              "      <td>child</td>\n",
              "      <td>30.0708</td>\n",
              "      <td>C</td>\n",
              "      <td>14.0</td>\n",
              "      <td>1</td>\n",
              "    </tr>\n",
              "  </tbody>\n",
              "</table>\n",
              "</div>"
            ],
            "text/plain": [
              "             Survived  Pclass     Sex     Fare Embarked   Age  Family\n",
              "PassengerId                                                          \n",
              "1                   0       3    male   7.2500        S  22.0       1\n",
              "2                   1       1  female  71.2833        C  35.0       1\n",
              "3                   1       3  female   7.9250        S  26.0       0\n",
              "4                   1       1  female  53.1000        S  35.0       1\n",
              "5                   0       3    male   8.0500        S  35.0       0\n",
              "6                   0       3    male   8.4583        Q  22.0       0\n",
              "7                   0       1    male  51.8625        S  54.0       0\n",
              "8                   0       3   child  21.0750        S   2.0       1\n",
              "9                   1       3  female  11.1333        S  26.0       1\n",
              "10                  1       2   child  30.0708        C  14.0       1"
            ]
          },
          "metadata": {
            "tags": []
          },
          "execution_count": 8
        }
      ]
    },
    {
      "cell_type": "markdown",
      "metadata": {
        "id": "Sxabe9VfMesf"
      },
      "source": [
        "##Handling Categorical features\n",
        "\n",
        "When dealing with categorical data -The variables contain descrete values rather than continous values.\n",
        "\n",
        "In Categorical features, the number of possible values is often limited to a fixed set.  \n",
        "\n",
        "Categorical values can be of two types:\n",
        "\n",
        "* nominal- for example : apple, orange, banana, pineapple...\n",
        "* ordinal- for example : Excellent, very good, good, not so good, bad. rank[1-5]\n",
        "\n"
      ]
    },
    {
      "cell_type": "markdown",
      "metadata": {
        "id": "SPKGi4X0QI3b"
      },
      "source": [
        "### Dummy variables / One hot encoding\n",
        "\n",
        "We should be careful of giving ordinal values to categorical feature becuase our model priorities value importance by it's numeric value and might conclude that there is a certain order in the data.\n",
        "\n",
        "For example:\n",
        "If we would change the Embarked values from S, C, Q to 1, 2, 3 it would mean that Q comes after S.\n",
        "\n",
        "Instead we should use dummy variables.\n",
        "This is best explained via an example\n"
      ]
    },
    {
      "cell_type": "code",
      "metadata": {
        "id": "6Mbf8KTRRwHC",
        "colab": {
          "base_uri": "https://localhost:8080/",
          "height": 237
        },
        "outputId": "a76cf60a-22bb-4d98-96a1-b47b4672bb75"
      },
      "source": [
        "\n",
        "sex_df = pd.get_dummies(titanic_df.Sex)\n",
        "sex_df.head()"
      ],
      "execution_count": null,
      "outputs": [
        {
          "output_type": "execute_result",
          "data": {
            "text/html": [
              "<div>\n",
              "<style scoped>\n",
              "    .dataframe tbody tr th:only-of-type {\n",
              "        vertical-align: middle;\n",
              "    }\n",
              "\n",
              "    .dataframe tbody tr th {\n",
              "        vertical-align: top;\n",
              "    }\n",
              "\n",
              "    .dataframe thead th {\n",
              "        text-align: right;\n",
              "    }\n",
              "</style>\n",
              "<table border=\"1\" class=\"dataframe\">\n",
              "  <thead>\n",
              "    <tr style=\"text-align: right;\">\n",
              "      <th></th>\n",
              "      <th>child</th>\n",
              "      <th>female</th>\n",
              "      <th>male</th>\n",
              "    </tr>\n",
              "    <tr>\n",
              "      <th>PassengerId</th>\n",
              "      <th></th>\n",
              "      <th></th>\n",
              "      <th></th>\n",
              "    </tr>\n",
              "  </thead>\n",
              "  <tbody>\n",
              "    <tr>\n",
              "      <th>1</th>\n",
              "      <td>0</td>\n",
              "      <td>0</td>\n",
              "      <td>1</td>\n",
              "    </tr>\n",
              "    <tr>\n",
              "      <th>2</th>\n",
              "      <td>0</td>\n",
              "      <td>1</td>\n",
              "      <td>0</td>\n",
              "    </tr>\n",
              "    <tr>\n",
              "      <th>3</th>\n",
              "      <td>0</td>\n",
              "      <td>1</td>\n",
              "      <td>0</td>\n",
              "    </tr>\n",
              "    <tr>\n",
              "      <th>4</th>\n",
              "      <td>0</td>\n",
              "      <td>1</td>\n",
              "      <td>0</td>\n",
              "    </tr>\n",
              "    <tr>\n",
              "      <th>5</th>\n",
              "      <td>0</td>\n",
              "      <td>0</td>\n",
              "      <td>1</td>\n",
              "    </tr>\n",
              "  </tbody>\n",
              "</table>\n",
              "</div>"
            ],
            "text/plain": [
              "             child  female  male\n",
              "PassengerId                     \n",
              "1                0       0     1\n",
              "2                0       1     0\n",
              "3                0       1     0\n",
              "4                0       1     0\n",
              "5                0       0     1"
            ]
          },
          "metadata": {
            "tags": []
          },
          "execution_count": 9
        }
      ]
    },
    {
      "cell_type": "code",
      "metadata": {
        "id": "4EAIVsCAs2lu"
      },
      "source": [
        ""
      ],
      "execution_count": null,
      "outputs": []
    },
    {
      "cell_type": "markdown",
      "metadata": {
        "id": "TIHWrDZQMwak"
      },
      "source": [
        "We should also drop one of the columns. We can say that if the person is not a male or a female - It must be a child."
      ]
    },
    {
      "cell_type": "code",
      "metadata": {
        "id": "brPlSfIZUOVi",
        "colab": {
          "base_uri": "https://localhost:8080/",
          "height": 394
        },
        "outputId": "23bfa2c5-aa96-4b3f-dde8-85163e35e0af"
      },
      "source": [
        "sex_df = pd.get_dummies(titanic_df.Sex, drop_first=True)\n",
        "sex_df.head(10)"
      ],
      "execution_count": null,
      "outputs": [
        {
          "output_type": "execute_result",
          "data": {
            "text/html": [
              "<div>\n",
              "<style scoped>\n",
              "    .dataframe tbody tr th:only-of-type {\n",
              "        vertical-align: middle;\n",
              "    }\n",
              "\n",
              "    .dataframe tbody tr th {\n",
              "        vertical-align: top;\n",
              "    }\n",
              "\n",
              "    .dataframe thead th {\n",
              "        text-align: right;\n",
              "    }\n",
              "</style>\n",
              "<table border=\"1\" class=\"dataframe\">\n",
              "  <thead>\n",
              "    <tr style=\"text-align: right;\">\n",
              "      <th></th>\n",
              "      <th>female</th>\n",
              "      <th>male</th>\n",
              "    </tr>\n",
              "    <tr>\n",
              "      <th>PassengerId</th>\n",
              "      <th></th>\n",
              "      <th></th>\n",
              "    </tr>\n",
              "  </thead>\n",
              "  <tbody>\n",
              "    <tr>\n",
              "      <th>1</th>\n",
              "      <td>0</td>\n",
              "      <td>1</td>\n",
              "    </tr>\n",
              "    <tr>\n",
              "      <th>2</th>\n",
              "      <td>1</td>\n",
              "      <td>0</td>\n",
              "    </tr>\n",
              "    <tr>\n",
              "      <th>3</th>\n",
              "      <td>1</td>\n",
              "      <td>0</td>\n",
              "    </tr>\n",
              "    <tr>\n",
              "      <th>4</th>\n",
              "      <td>1</td>\n",
              "      <td>0</td>\n",
              "    </tr>\n",
              "    <tr>\n",
              "      <th>5</th>\n",
              "      <td>0</td>\n",
              "      <td>1</td>\n",
              "    </tr>\n",
              "    <tr>\n",
              "      <th>6</th>\n",
              "      <td>0</td>\n",
              "      <td>1</td>\n",
              "    </tr>\n",
              "    <tr>\n",
              "      <th>7</th>\n",
              "      <td>0</td>\n",
              "      <td>1</td>\n",
              "    </tr>\n",
              "    <tr>\n",
              "      <th>8</th>\n",
              "      <td>0</td>\n",
              "      <td>0</td>\n",
              "    </tr>\n",
              "    <tr>\n",
              "      <th>9</th>\n",
              "      <td>1</td>\n",
              "      <td>0</td>\n",
              "    </tr>\n",
              "    <tr>\n",
              "      <th>10</th>\n",
              "      <td>0</td>\n",
              "      <td>0</td>\n",
              "    </tr>\n",
              "  </tbody>\n",
              "</table>\n",
              "</div>"
            ],
            "text/plain": [
              "             female  male\n",
              "PassengerId              \n",
              "1                 0     1\n",
              "2                 1     0\n",
              "3                 1     0\n",
              "4                 1     0\n",
              "5                 0     1\n",
              "6                 0     1\n",
              "7                 0     1\n",
              "8                 0     0\n",
              "9                 1     0\n",
              "10                0     0"
            ]
          },
          "metadata": {
            "tags": []
          },
          "execution_count": 10
        }
      ]
    },
    {
      "cell_type": "markdown",
      "metadata": {
        "id": "30MaYhV7USmt"
      },
      "source": [
        "#Excercise\n",
        "1. Create dummy variables dataframe for the 'Embarked' and 'Pclass' variables. Make sure to change the column names to meaningful ones.\n",
        "2. Add the new DFs to the titanik DF.\n",
        "3. Drop the original categorical features\n",
        "4. Print the head of the new titanic DF"
      ]
    },
    {
      "cell_type": "code",
      "metadata": {
        "id": "eAwNJsypVKBM"
      },
      "source": [
        "#1\n",
        "embarked_df = pd.get_dummies(titanic_df.Embarked, drop_first=True)\n",
        "embarked_df.columns=['Embarked_Q', 'Embarked_S']\n",
        "pclass_df = pd.get_dummies(titanic_df.Pclass, drop_first=True)\n",
        "pclass_df.columns=['Second_Cls', 'Third_Cls']\n",
        "\n"
      ],
      "execution_count": null,
      "outputs": []
    },
    {
      "cell_type": "code",
      "metadata": {
        "id": "_WZSTv4IVgIw"
      },
      "source": [
        "#2\n",
        "titanic_df = pd.concat([titanic_df, embarked_df, pclass_df, sex_df], axis=1)\n"
      ],
      "execution_count": null,
      "outputs": []
    },
    {
      "cell_type": "code",
      "metadata": {
        "id": "-WCV8JbOVzUM"
      },
      "source": [
        "#3\n",
        "titanic_df.drop(['Embarked', 'Pclass', 'Sex'], inplace=True, axis=1)"
      ],
      "execution_count": null,
      "outputs": []
    },
    {
      "cell_type": "code",
      "metadata": {
        "id": "9ac8nqSnWDfc",
        "colab": {
          "base_uri": "https://localhost:8080/",
          "height": 257
        },
        "outputId": "4523170e-ef4c-484f-e440-088109a52eea"
      },
      "source": [
        "#4\n",
        "titanic_df.head()"
      ],
      "execution_count": null,
      "outputs": [
        {
          "output_type": "execute_result",
          "data": {
            "text/html": [
              "<div>\n",
              "<style scoped>\n",
              "    .dataframe tbody tr th:only-of-type {\n",
              "        vertical-align: middle;\n",
              "    }\n",
              "\n",
              "    .dataframe tbody tr th {\n",
              "        vertical-align: top;\n",
              "    }\n",
              "\n",
              "    .dataframe thead th {\n",
              "        text-align: right;\n",
              "    }\n",
              "</style>\n",
              "<table border=\"1\" class=\"dataframe\">\n",
              "  <thead>\n",
              "    <tr style=\"text-align: right;\">\n",
              "      <th></th>\n",
              "      <th>Survived</th>\n",
              "      <th>Fare</th>\n",
              "      <th>Age</th>\n",
              "      <th>Family</th>\n",
              "      <th>Embarked_Q</th>\n",
              "      <th>Embarked_S</th>\n",
              "      <th>Second_Cls</th>\n",
              "      <th>Third_Cls</th>\n",
              "      <th>female</th>\n",
              "      <th>male</th>\n",
              "    </tr>\n",
              "    <tr>\n",
              "      <th>PassengerId</th>\n",
              "      <th></th>\n",
              "      <th></th>\n",
              "      <th></th>\n",
              "      <th></th>\n",
              "      <th></th>\n",
              "      <th></th>\n",
              "      <th></th>\n",
              "      <th></th>\n",
              "      <th></th>\n",
              "      <th></th>\n",
              "    </tr>\n",
              "  </thead>\n",
              "  <tbody>\n",
              "    <tr>\n",
              "      <th>1</th>\n",
              "      <td>0</td>\n",
              "      <td>7.2500</td>\n",
              "      <td>22.0</td>\n",
              "      <td>1</td>\n",
              "      <td>0</td>\n",
              "      <td>1</td>\n",
              "      <td>0</td>\n",
              "      <td>1</td>\n",
              "      <td>0</td>\n",
              "      <td>1</td>\n",
              "    </tr>\n",
              "    <tr>\n",
              "      <th>2</th>\n",
              "      <td>1</td>\n",
              "      <td>71.2833</td>\n",
              "      <td>35.0</td>\n",
              "      <td>1</td>\n",
              "      <td>0</td>\n",
              "      <td>0</td>\n",
              "      <td>0</td>\n",
              "      <td>0</td>\n",
              "      <td>1</td>\n",
              "      <td>0</td>\n",
              "    </tr>\n",
              "    <tr>\n",
              "      <th>3</th>\n",
              "      <td>1</td>\n",
              "      <td>7.9250</td>\n",
              "      <td>26.0</td>\n",
              "      <td>0</td>\n",
              "      <td>0</td>\n",
              "      <td>1</td>\n",
              "      <td>0</td>\n",
              "      <td>1</td>\n",
              "      <td>1</td>\n",
              "      <td>0</td>\n",
              "    </tr>\n",
              "    <tr>\n",
              "      <th>4</th>\n",
              "      <td>1</td>\n",
              "      <td>53.1000</td>\n",
              "      <td>35.0</td>\n",
              "      <td>1</td>\n",
              "      <td>0</td>\n",
              "      <td>1</td>\n",
              "      <td>0</td>\n",
              "      <td>0</td>\n",
              "      <td>1</td>\n",
              "      <td>0</td>\n",
              "    </tr>\n",
              "    <tr>\n",
              "      <th>5</th>\n",
              "      <td>0</td>\n",
              "      <td>8.0500</td>\n",
              "      <td>35.0</td>\n",
              "      <td>0</td>\n",
              "      <td>0</td>\n",
              "      <td>1</td>\n",
              "      <td>0</td>\n",
              "      <td>1</td>\n",
              "      <td>0</td>\n",
              "      <td>1</td>\n",
              "    </tr>\n",
              "  </tbody>\n",
              "</table>\n",
              "</div>"
            ],
            "text/plain": [
              "             Survived     Fare   Age  ...  Third_Cls  female  male\n",
              "PassengerId                           ...                         \n",
              "1                   0   7.2500  22.0  ...          1       0     1\n",
              "2                   1  71.2833  35.0  ...          0       1     0\n",
              "3                   1   7.9250  26.0  ...          1       1     0\n",
              "4                   1  53.1000  35.0  ...          0       1     0\n",
              "5                   0   8.0500  35.0  ...          1       0     1\n",
              "\n",
              "[5 rows x 10 columns]"
            ]
          },
          "metadata": {
            "tags": []
          },
          "execution_count": 14
        }
      ]
    },
    {
      "cell_type": "markdown",
      "metadata": {
        "id": "zCewofeOUxDB"
      },
      "source": [
        "## EDA"
      ]
    },
    {
      "cell_type": "markdown",
      "metadata": {
        "id": "bn505hVQlJDd"
      },
      "source": [
        "How many survived?\n"
      ]
    },
    {
      "cell_type": "code",
      "metadata": {
        "id": "71ysOQHRlRjo"
      },
      "source": [
        "survived = titanic_df.Survived.value_counts()\n",
        "percentage = [str(round(sur/survived.sum(),2)*100)+'%' for sur in survived ]"
      ],
      "execution_count": null,
      "outputs": []
    },
    {
      "cell_type": "code",
      "metadata": {
        "id": "2DYvF5sRUcHy",
        "colab": {
          "base_uri": "https://localhost:8080/",
          "height": 542
        },
        "outputId": "9be4831a-1872-45ab-fc85-0e17c9eae39e"
      },
      "source": [
        "fig = go.Figure()\n",
        "fig.add_trace(go.Bar(\n",
        "    x=['Died', 'Survived'],\n",
        "    y=survived,\n",
        "    marker_color=['lightsalmon','green'],\n",
        "    text=percentage,\n",
        "    textposition='outside',\n",
        "))\n",
        "fig.update_layout(\n",
        "    title='Survived passengers', \n",
        "    yaxis_title='Number of cases',\n",
        "    )\n",
        "fig.show()"
      ],
      "execution_count": null,
      "outputs": [
        {
          "output_type": "display_data",
          "data": {
            "text/html": [
              "<html>\n",
              "<head><meta charset=\"utf-8\" /></head>\n",
              "<body>\n",
              "    <div>\n",
              "            <script src=\"https://cdnjs.cloudflare.com/ajax/libs/mathjax/2.7.5/MathJax.js?config=TeX-AMS-MML_SVG\"></script><script type=\"text/javascript\">if (window.MathJax) {MathJax.Hub.Config({SVG: {font: \"STIX-Web\"}});}</script>\n",
              "                <script type=\"text/javascript\">window.PlotlyConfig = {MathJaxConfig: 'local'};</script>\n",
              "        <script src=\"https://cdn.plot.ly/plotly-latest.min.js\"></script>    \n",
              "            <div id=\"b2c2b9da-758f-43cc-9754-060d1833f210\" class=\"plotly-graph-div\" style=\"height:525px; width:100%;\"></div>\n",
              "            <script type=\"text/javascript\">\n",
              "                \n",
              "                    window.PLOTLYENV=window.PLOTLYENV || {};\n",
              "                    \n",
              "                if (document.getElementById(\"b2c2b9da-758f-43cc-9754-060d1833f210\")) {\n",
              "                    Plotly.newPlot(\n",
              "                        'b2c2b9da-758f-43cc-9754-060d1833f210',\n",
              "                        [{\"marker\": {\"color\": [\"lightsalmon\", \"green\"]}, \"text\": [\"62.0%\", \"38.0%\"], \"textposition\": \"outside\", \"type\": \"bar\", \"x\": [\"Died\", \"Survived\"], \"y\": [549, 342]}],\n",
              "                        {\"template\": {\"data\": {\"bar\": [{\"error_x\": {\"color\": \"#2a3f5f\"}, \"error_y\": {\"color\": \"#2a3f5f\"}, \"marker\": {\"line\": {\"color\": \"#E5ECF6\", \"width\": 0.5}}, \"type\": \"bar\"}], \"barpolar\": [{\"marker\": {\"line\": {\"color\": \"#E5ECF6\", \"width\": 0.5}}, \"type\": \"barpolar\"}], \"carpet\": [{\"aaxis\": {\"endlinecolor\": \"#2a3f5f\", \"gridcolor\": \"white\", \"linecolor\": \"white\", \"minorgridcolor\": \"white\", \"startlinecolor\": \"#2a3f5f\"}, \"baxis\": {\"endlinecolor\": \"#2a3f5f\", \"gridcolor\": \"white\", \"linecolor\": \"white\", \"minorgridcolor\": \"white\", \"startlinecolor\": \"#2a3f5f\"}, \"type\": \"carpet\"}], \"choropleth\": [{\"colorbar\": {\"outlinewidth\": 0, \"ticks\": \"\"}, \"type\": \"choropleth\"}], \"contour\": [{\"colorbar\": {\"outlinewidth\": 0, \"ticks\": \"\"}, \"colorscale\": [[0.0, \"#0d0887\"], [0.1111111111111111, \"#46039f\"], [0.2222222222222222, \"#7201a8\"], [0.3333333333333333, \"#9c179e\"], [0.4444444444444444, \"#bd3786\"], [0.5555555555555556, \"#d8576b\"], [0.6666666666666666, \"#ed7953\"], [0.7777777777777778, \"#fb9f3a\"], [0.8888888888888888, \"#fdca26\"], [1.0, \"#f0f921\"]], \"type\": \"contour\"}], \"contourcarpet\": [{\"colorbar\": {\"outlinewidth\": 0, \"ticks\": \"\"}, \"type\": \"contourcarpet\"}], \"heatmap\": [{\"colorbar\": {\"outlinewidth\": 0, \"ticks\": \"\"}, \"colorscale\": [[0.0, \"#0d0887\"], [0.1111111111111111, \"#46039f\"], [0.2222222222222222, \"#7201a8\"], [0.3333333333333333, \"#9c179e\"], [0.4444444444444444, \"#bd3786\"], [0.5555555555555556, \"#d8576b\"], [0.6666666666666666, \"#ed7953\"], [0.7777777777777778, \"#fb9f3a\"], [0.8888888888888888, \"#fdca26\"], [1.0, \"#f0f921\"]], \"type\": \"heatmap\"}], \"heatmapgl\": [{\"colorbar\": {\"outlinewidth\": 0, \"ticks\": \"\"}, \"colorscale\": [[0.0, \"#0d0887\"], [0.1111111111111111, \"#46039f\"], [0.2222222222222222, \"#7201a8\"], [0.3333333333333333, \"#9c179e\"], [0.4444444444444444, \"#bd3786\"], [0.5555555555555556, \"#d8576b\"], [0.6666666666666666, \"#ed7953\"], [0.7777777777777778, \"#fb9f3a\"], [0.8888888888888888, \"#fdca26\"], [1.0, \"#f0f921\"]], \"type\": \"heatmapgl\"}], \"histogram\": [{\"marker\": {\"colorbar\": {\"outlinewidth\": 0, \"ticks\": \"\"}}, \"type\": \"histogram\"}], \"histogram2d\": [{\"colorbar\": {\"outlinewidth\": 0, \"ticks\": \"\"}, \"colorscale\": [[0.0, \"#0d0887\"], [0.1111111111111111, \"#46039f\"], [0.2222222222222222, \"#7201a8\"], [0.3333333333333333, \"#9c179e\"], [0.4444444444444444, \"#bd3786\"], [0.5555555555555556, \"#d8576b\"], [0.6666666666666666, \"#ed7953\"], [0.7777777777777778, \"#fb9f3a\"], [0.8888888888888888, \"#fdca26\"], [1.0, \"#f0f921\"]], \"type\": \"histogram2d\"}], \"histogram2dcontour\": [{\"colorbar\": {\"outlinewidth\": 0, \"ticks\": \"\"}, \"colorscale\": [[0.0, \"#0d0887\"], [0.1111111111111111, \"#46039f\"], [0.2222222222222222, \"#7201a8\"], [0.3333333333333333, \"#9c179e\"], [0.4444444444444444, \"#bd3786\"], [0.5555555555555556, \"#d8576b\"], [0.6666666666666666, \"#ed7953\"], [0.7777777777777778, \"#fb9f3a\"], [0.8888888888888888, \"#fdca26\"], [1.0, \"#f0f921\"]], \"type\": \"histogram2dcontour\"}], \"mesh3d\": [{\"colorbar\": {\"outlinewidth\": 0, \"ticks\": \"\"}, \"type\": \"mesh3d\"}], \"parcoords\": [{\"line\": {\"colorbar\": {\"outlinewidth\": 0, \"ticks\": \"\"}}, \"type\": \"parcoords\"}], \"pie\": [{\"automargin\": true, \"type\": \"pie\"}], \"scatter\": [{\"marker\": {\"colorbar\": {\"outlinewidth\": 0, \"ticks\": \"\"}}, \"type\": \"scatter\"}], \"scatter3d\": [{\"line\": {\"colorbar\": {\"outlinewidth\": 0, \"ticks\": \"\"}}, \"marker\": {\"colorbar\": {\"outlinewidth\": 0, \"ticks\": \"\"}}, \"type\": \"scatter3d\"}], \"scattercarpet\": [{\"marker\": {\"colorbar\": {\"outlinewidth\": 0, \"ticks\": \"\"}}, \"type\": \"scattercarpet\"}], \"scattergeo\": [{\"marker\": {\"colorbar\": {\"outlinewidth\": 0, \"ticks\": \"\"}}, \"type\": \"scattergeo\"}], \"scattergl\": [{\"marker\": {\"colorbar\": {\"outlinewidth\": 0, \"ticks\": \"\"}}, \"type\": \"scattergl\"}], \"scattermapbox\": [{\"marker\": {\"colorbar\": {\"outlinewidth\": 0, \"ticks\": \"\"}}, \"type\": \"scattermapbox\"}], \"scatterpolar\": [{\"marker\": {\"colorbar\": {\"outlinewidth\": 0, \"ticks\": \"\"}}, \"type\": \"scatterpolar\"}], \"scatterpolargl\": [{\"marker\": {\"colorbar\": {\"outlinewidth\": 0, \"ticks\": \"\"}}, \"type\": \"scatterpolargl\"}], \"scatterternary\": [{\"marker\": {\"colorbar\": {\"outlinewidth\": 0, \"ticks\": \"\"}}, \"type\": \"scatterternary\"}], \"surface\": [{\"colorbar\": {\"outlinewidth\": 0, \"ticks\": \"\"}, \"colorscale\": [[0.0, \"#0d0887\"], [0.1111111111111111, \"#46039f\"], [0.2222222222222222, \"#7201a8\"], [0.3333333333333333, \"#9c179e\"], [0.4444444444444444, \"#bd3786\"], [0.5555555555555556, \"#d8576b\"], [0.6666666666666666, \"#ed7953\"], [0.7777777777777778, \"#fb9f3a\"], [0.8888888888888888, \"#fdca26\"], [1.0, \"#f0f921\"]], \"type\": \"surface\"}], \"table\": [{\"cells\": {\"fill\": {\"color\": \"#EBF0F8\"}, \"line\": {\"color\": \"white\"}}, \"header\": {\"fill\": {\"color\": \"#C8D4E3\"}, \"line\": {\"color\": \"white\"}}, \"type\": \"table\"}]}, \"layout\": {\"annotationdefaults\": {\"arrowcolor\": \"#2a3f5f\", \"arrowhead\": 0, \"arrowwidth\": 1}, \"coloraxis\": {\"colorbar\": {\"outlinewidth\": 0, \"ticks\": \"\"}}, \"colorscale\": {\"diverging\": [[0, \"#8e0152\"], [0.1, \"#c51b7d\"], [0.2, \"#de77ae\"], [0.3, \"#f1b6da\"], [0.4, \"#fde0ef\"], [0.5, \"#f7f7f7\"], [0.6, \"#e6f5d0\"], [0.7, \"#b8e186\"], [0.8, \"#7fbc41\"], [0.9, \"#4d9221\"], [1, \"#276419\"]], \"sequential\": [[0.0, \"#0d0887\"], [0.1111111111111111, \"#46039f\"], [0.2222222222222222, \"#7201a8\"], [0.3333333333333333, \"#9c179e\"], [0.4444444444444444, \"#bd3786\"], [0.5555555555555556, \"#d8576b\"], [0.6666666666666666, \"#ed7953\"], [0.7777777777777778, \"#fb9f3a\"], [0.8888888888888888, \"#fdca26\"], [1.0, \"#f0f921\"]], \"sequentialminus\": [[0.0, \"#0d0887\"], [0.1111111111111111, \"#46039f\"], [0.2222222222222222, \"#7201a8\"], [0.3333333333333333, \"#9c179e\"], [0.4444444444444444, \"#bd3786\"], [0.5555555555555556, \"#d8576b\"], [0.6666666666666666, \"#ed7953\"], [0.7777777777777778, \"#fb9f3a\"], [0.8888888888888888, \"#fdca26\"], [1.0, \"#f0f921\"]]}, \"colorway\": [\"#636efa\", \"#EF553B\", \"#00cc96\", \"#ab63fa\", \"#FFA15A\", \"#19d3f3\", \"#FF6692\", \"#B6E880\", \"#FF97FF\", \"#FECB52\"], \"font\": {\"color\": \"#2a3f5f\"}, \"geo\": {\"bgcolor\": \"white\", \"lakecolor\": \"white\", \"landcolor\": \"#E5ECF6\", \"showlakes\": true, \"showland\": true, \"subunitcolor\": \"white\"}, \"hoverlabel\": {\"align\": \"left\"}, \"hovermode\": \"closest\", \"mapbox\": {\"style\": \"light\"}, \"paper_bgcolor\": \"white\", \"plot_bgcolor\": \"#E5ECF6\", \"polar\": {\"angularaxis\": {\"gridcolor\": \"white\", \"linecolor\": \"white\", \"ticks\": \"\"}, \"bgcolor\": \"#E5ECF6\", \"radialaxis\": {\"gridcolor\": \"white\", \"linecolor\": \"white\", \"ticks\": \"\"}}, \"scene\": {\"xaxis\": {\"backgroundcolor\": \"#E5ECF6\", \"gridcolor\": \"white\", \"gridwidth\": 2, \"linecolor\": \"white\", \"showbackground\": true, \"ticks\": \"\", \"zerolinecolor\": \"white\"}, \"yaxis\": {\"backgroundcolor\": \"#E5ECF6\", \"gridcolor\": \"white\", \"gridwidth\": 2, \"linecolor\": \"white\", \"showbackground\": true, \"ticks\": \"\", \"zerolinecolor\": \"white\"}, \"zaxis\": {\"backgroundcolor\": \"#E5ECF6\", \"gridcolor\": \"white\", \"gridwidth\": 2, \"linecolor\": \"white\", \"showbackground\": true, \"ticks\": \"\", \"zerolinecolor\": \"white\"}}, \"shapedefaults\": {\"line\": {\"color\": \"#2a3f5f\"}}, \"ternary\": {\"aaxis\": {\"gridcolor\": \"white\", \"linecolor\": \"white\", \"ticks\": \"\"}, \"baxis\": {\"gridcolor\": \"white\", \"linecolor\": \"white\", \"ticks\": \"\"}, \"bgcolor\": \"#E5ECF6\", \"caxis\": {\"gridcolor\": \"white\", \"linecolor\": \"white\", \"ticks\": \"\"}}, \"title\": {\"x\": 0.05}, \"xaxis\": {\"automargin\": true, \"gridcolor\": \"white\", \"linecolor\": \"white\", \"ticks\": \"\", \"title\": {\"standoff\": 15}, \"zerolinecolor\": \"white\", \"zerolinewidth\": 2}, \"yaxis\": {\"automargin\": true, \"gridcolor\": \"white\", \"linecolor\": \"white\", \"ticks\": \"\", \"title\": {\"standoff\": 15}, \"zerolinecolor\": \"white\", \"zerolinewidth\": 2}}}, \"title\": {\"text\": \"Survived passengers\"}, \"yaxis\": {\"title\": {\"text\": \"Number of cases\"}}},\n",
              "                        {\"responsive\": true}\n",
              "                    ).then(function(){\n",
              "                            \n",
              "var gd = document.getElementById('b2c2b9da-758f-43cc-9754-060d1833f210');\n",
              "var x = new MutationObserver(function (mutations, observer) {{\n",
              "        var display = window.getComputedStyle(gd).display;\n",
              "        if (!display || display === 'none') {{\n",
              "            console.log([gd, 'removed!']);\n",
              "            Plotly.purge(gd);\n",
              "            observer.disconnect();\n",
              "        }}\n",
              "}});\n",
              "\n",
              "// Listen for the removal of the full notebook cells\n",
              "var notebookContainer = gd.closest('#notebook-container');\n",
              "if (notebookContainer) {{\n",
              "    x.observe(notebookContainer, {childList: true});\n",
              "}}\n",
              "\n",
              "// Listen for the clearing of the current output cell\n",
              "var outputEl = gd.closest('.output');\n",
              "if (outputEl) {{\n",
              "    x.observe(outputEl, {childList: true});\n",
              "}}\n",
              "\n",
              "                        })\n",
              "                };\n",
              "                \n",
              "            </script>\n",
              "        </div>\n",
              "</body>\n",
              "</html>"
            ]
          },
          "metadata": {
            "tags": []
          }
        }
      ]
    },
    {
      "cell_type": "markdown",
      "metadata": {
        "id": "lwpts5eUoH8H"
      },
      "source": [
        "Show Histogram of Ages "
      ]
    },
    {
      "cell_type": "code",
      "metadata": {
        "id": "jse5kzeanbJL",
        "colab": {
          "base_uri": "https://localhost:8080/",
          "height": 542
        },
        "outputId": "400fe8df-5ef9-49ce-bab4-8c2ba799d8ac"
      },
      "source": [
        "fig = go.Figure()\n",
        "fig.add_trace(go.Histogram(x=titanic_df.Age))\n",
        "fig.update_layout(\n",
        "    title_text='Distribution of ages', # title of plot\n",
        "    xaxis_title_text='Age', # xaxis label\n",
        "    yaxis_title_text='Count', # yaxis label\n",
        "    bargap=0.2, # gap between bars of adjacent location coordinates\n",
        ")\n",
        "\n",
        "fig.show()"
      ],
      "execution_count": null,
      "outputs": [
        {
          "output_type": "display_data",
          "data": {
            "text/html": [
              "<html>\n",
              "<head><meta charset=\"utf-8\" /></head>\n",
              "<body>\n",
              "    <div>\n",
              "            <script src=\"https://cdnjs.cloudflare.com/ajax/libs/mathjax/2.7.5/MathJax.js?config=TeX-AMS-MML_SVG\"></script><script type=\"text/javascript\">if (window.MathJax) {MathJax.Hub.Config({SVG: {font: \"STIX-Web\"}});}</script>\n",
              "                <script type=\"text/javascript\">window.PlotlyConfig = {MathJaxConfig: 'local'};</script>\n",
              "        <script src=\"https://cdn.plot.ly/plotly-latest.min.js\"></script>    \n",
              "            <div id=\"f8998989-a507-48a3-8450-0669cf9c32ec\" class=\"plotly-graph-div\" style=\"height:525px; width:100%;\"></div>\n",
              "            <script type=\"text/javascript\">\n",
              "                \n",
              "                    window.PLOTLYENV=window.PLOTLYENV || {};\n",
              "                    \n",
              "                if (document.getElementById(\"f8998989-a507-48a3-8450-0669cf9c32ec\")) {\n",
              "                    Plotly.newPlot(\n",
              "                        'f8998989-a507-48a3-8450-0669cf9c32ec',\n",
              "                        [{\"type\": \"histogram\", \"x\": [22.0, 35.0, 26.0, 35.0, 35.0, 22.0, 54.0, 2.0, 26.0, 14.0, 4.0, 61.0, 19.0, 39.0, 14.0, 56.0, 2.0, 23.0, 31.0, 22.0, 35.0, 34.0, 16.0, 28.0, 8.0, 38.0, 25.0, 19.0, 25.0, 23.0, 40.0, 45.0, 19.0, 66.0, 28.0, 42.0, 20.0, 21.0, 18.0, 14.0, 40.0, 27.0, 29.41582949308756, 3.0, 19.0, 29.0, 20.0, 24.0, 16.0, 18.0, 7.0, 21.0, 49.0, 29.0, 64.0, 45.0, 21.0, 20.0, 4.0, 13.0, 22.0, 38.0, 45.0, 5.0, 54.0, 7.0, 29.0, 19.0, 17.0, 26.0, 32.0, 16.0, 21.0, 26.0, 32.0, 25.0, 23.0, 28.0, 0.83, 31.0, 22.0, 29.0, 31.0, 31.0, 17.0, 33.0, 16.0, 20.0, 23.0, 24.0, 29.0, 20.0, 46.0, 25.0, 59.0, 22.0, 71.0, 23.0, 34.0, 34.0, 28.0, 29.0, 21.0, 33.0, 37.0, 28.0, 21.0, 29.0, 38.0, 28.0, 46.0, 16.0, 22.0, 20.0, 17.0, 21.0, 61.0, 29.0, 24.0, 2.0, 20.0, 19.0, 28.0, 37.0, 54.0, 12.0, 20.0, 24.0, 2.0, 45.0, 33.0, 20.0, 47.0, 37.0, 25.0, 23.0, 19.0, 37.0, 16.0, 24.0, 40.0, 22.0, 24.0, 19.0, 17.0, 19.0, 27.0, 7.0, 32.0, 42.0, 51.0, 22.0, 48.0, 35.0, 27.0, 51.0, 17.0, 30.0, 37.0, 4.0, 44.0, 40.0, 26.0, 17.0, 1.0, 9.0, 48.0, 43.0, 60.0, 24.0, 61.0, 4.0, 1.0, 21.0, 56.0, 18.0, 5.0, 50.0, 30.0, 36.0, 7.0, 39.0, 9.0, 1.0, 4.0, 38.0, 26.0, 45.0, 42.0, 36.0, 21.0, 19.0, 19.0, 3.0, 44.0, 59.0, 26.0, 42.0, 21.0, 24.0, 28.0, 16.0, 34.0, 45.0, 18.0, 2.0, 32.0, 26.0, 16.0, 39.0, 24.0, 35.0, 22.0, 30.0, 22.0, 31.0, 27.0, 40.0, 36.0, 30.0, 20.0, 29.0, 40.0, 22.0, 35.0, 22.0, 19.0, 20.0, 18.0, 12.0, 35.0, 29.0, 30.0, 5.0, 25.0, 21.0, 44.0, 8.0, 19.0, 33.0, 19.0, 18.0, 29.0, 22.0, 30.0, 44.0, 25.0, 24.0, 37.0, 54.0, 19.0, 29.0, 62.0, 30.0, 41.0, 27.0, 37.0, 30.0, 38.0, 60.0, 26.0, 3.0, 52.0, 45.0, 23.0, 36.0, 16.0, 25.0, 59.0, 39.0, 28.0, 25.0, 41.0, 36.0, 29.0, 62.0, 45.0, 18.0, 7.0, 39.0, 65.0, 28.0, 16.0, 18.0, 57.0, 33.0, 36.0, 22.0, 41.0, 22.0, 26.0, 19.0, 36.0, 24.0, 24.0, 31.0, 35.0, 2.0, 47.0, 50.0, 20.0, 24.0, 19.0, 46.0, 28.0, 0.92, 42.0, 22.0, 30.0, 31.0, 24.0, 18.0, 26.0, 28.0, 47.0, 26.0, 24.0, 54.0, 31.0, 39.0, 22.0, 27.0, 30.0, 28.0, 19.0, 36.0, 61.0, 36.0, 31.0, 17.0, 29.0, 40.0, 38.0, 15.0, 42.0, 30.0, 29.0, 41.0, 45.0, 45.0, 2.0, 24.0, 27.0, 25.0, 38.0, 18.0, 39.0, 29.41582949308756, 9.0, 42.0, 23.0, 43.0, 17.0, 25.0, 25.0, 28.0, 22.0, 38.0, 22.0, 23.0, 40.0, 29.0, 45.0, 35.0, 27.0, 30.0, 60.0, 35.0, 26.0, 24.0, 25.0, 18.0, 18.0, 22.0, 3.0, 25.0, 22.0, 27.0, 20.0, 19.0, 46.0, 1.0, 32.0, 35.0, 27.0, 21.0, 1.0, 36.0, 20.0, 17.0, 36.0, 21.0, 28.0, 23.0, 24.0, 22.0, 31.0, 46.0, 23.0, 26.0, 39.0, 26.0, 21.0, 28.0, 20.0, 33.0, 51.0, 3.0, 21.0, 3.0, 42.0, 27.0, 33.0, 21.0, 44.0, 31.0, 34.0, 17.0, 30.0, 10.0, 29.41582949308756, 28.0, 29.0, 28.0, 18.0, 54.0, 28.0, 19.0, 28.0, 32.0, 28.0, 32.0, 42.0, 17.0, 50.0, 13.0, 20.0, 23.0, 64.0, 31.0, 48.0, 19.0, 25.0, 28.0, 29.0, 4.0, 13.0, 34.0, 5.0, 52.0, 36.0, 28.0, 30.0, 47.0, 24.0, 29.0, 65.0, 31.0, 48.0, 16.0, 47.0, 34.0, 47.0, 48.0, 34.0, 37.0, 21.0, 56.0, 22.0, 0.75, 39.0, 38.0, 33.0, 23.0, 22.0, 40.0, 33.0, 29.0, 22.0, 2.0, 10.0, 37.0, 50.0, 63.0, 25.0, 8.0, 31.0, 58.0, 30.0, 3.0, 19.0, 21.0, 55.0, 71.0, 21.0, 26.0, 54.0, 55.0, 25.0, 24.0, 17.0, 22.0, 21.0, 37.0, 20.0, 24.0, 33.0, 37.0, 28.0, 26.0, 29.0, 66.0, 35.0, 54.0, 24.0, 48.0, 34.0, 29.0, 36.0, 32.0, 33.0, 21.0, 30.0, 44.0, 18.0, 25.0, 50.0, 57.0, 39.0, 23.0, 2.0, 17.0, 15.0, 24.0, 30.0, 7.0, 46.0, 27.0, 69.0, 22.0, 39.0, 9.0, 11.0, 32.0, 50.0, 64.0, 19.0, 26.0, 33.0, 8.0, 17.0, 27.0, 21.0, 22.0, 22.0, 62.0, 48.0, 29.41582949308756, 39.0, 36.0, 30.0, 40.0, 28.0, 39.0, 63.0, 24.0, 19.0, 29.0, 28.0, 32.0, 62.0, 53.0, 36.0, 22.0, 16.0, 19.0, 34.0, 39.0, 18.0, 32.0, 25.0, 39.0, 55.0, 36.0, 16.0, 18.0, 47.0, 60.0, 22.0, 22.0, 35.0, 52.0, 47.0, 40.0, 36.0, 36.0, 31.0, 49.0, 18.0, 49.0, 24.0, 42.0, 37.0, 44.0, 40.0, 36.0, 30.0, 27.0, 22.0, 40.0, 39.0, 21.0, 25.0, 22.0, 35.0, 24.0, 34.0, 26.0, 4.0, 26.0, 27.0, 42.0, 20.0, 21.0, 20.0, 61.0, 52.0, 21.0, 26.0, 17.0, 47.0, 51.0, 32.0, 29.0, 9.0, 28.0, 32.0, 31.0, 41.0, 36.0, 20.0, 24.0, 2.0, 32.0, 4.0, 48.0, 19.0, 56.0, 18.0, 24.0, 23.0, 19.0, 21.0, 16.0, 18.0, 24.0, 27.0, 32.0, 23.0, 58.0, 49.0, 40.0, 37.0, 36.0, 20.0, 30.0, 25.0, 49.0, 43.0, 48.0, 40.0, 31.0, 71.0, 32.0, 15.0, 18.0, 33.0, 18.0, 43.0, 36.0, 26.0, 27.0, 20.0, 14.0, 60.0, 25.0, 15.0, 19.0, 18.0, 16.0, 31.0, 4.0, 37.0, 25.0, 59.0, 52.0, 44.0, 19.0, 49.0, 42.0, 18.0, 35.0, 12.0, 29.0, 26.0, 38.0, 45.0, 42.0, 22.0, 4.0, 24.0, 45.0, 48.0, 29.0, 52.0, 19.0, 39.0, 27.0, 19.0, 33.0, 6.0, 17.0, 34.0, 50.0, 27.0, 20.0, 30.0, 28.0, 25.0, 25.0, 29.0, 11.0, 39.0, 23.0, 23.0, 28.0, 48.0, 35.0, 20.0, 32.0, 45.0, 36.0, 21.0, 27.0, 31.0, 70.0, 16.0, 30.0, 18.0, 31.0, 4.0, 7.0, 35.0, 23.0, 48.0, 1.0, 24.0, 18.0, 34.0, 34.0, 21.0, 41.0, 27.0, 36.0, 16.0, 51.0, 45.0, 32.0, 27.0, 32.0, 24.0, 48.0, 57.0, 29.0, 54.0, 18.0, 20.0, 6.0, 22.0, 43.0, 15.0, 17.0, 29.0, 35.0, 25.0, 25.0, 18.0, 8.0, 1.0, 46.0, 23.0, 18.0, 20.0, 42.0, 25.0, 39.0, 49.0, 31.0, 33.0, 30.0, 34.0, 31.0, 11.0, 0.42, 27.0, 31.0, 39.0, 18.0, 31.0, 32.0, 23.0, 39.0, 35.0, 6.0, 22.0, 39.0, 23.0, 31.0, 43.0, 11.0, 52.0, 29.0, 38.0, 29.0, 2.0, 42.0, 23.0, 1.0, 19.0, 62.0, 15.0, 0.75, 30.0, 23.0, 15.0, 39.0, 21.0, 20.0, 32.0, 28.0, 19.0, 16.0, 30.0, 30.0, 17.0, 40.0, 18.0, 35.0, 39.0, 40.0, 4.0, 74.0, 7.0, 16.0, 45.0, 18.0, 45.0, 51.0, 24.0, 30.0, 41.0, 20.0, 46.0, 14.0, 24.0, 42.0, 27.0, 31.0, 23.0, 4.0, 26.0, 46.0, 33.0, 46.0, 28.0, 15.0, 19.0, 19.0, 23.0, 56.0, 25.0, 33.0, 22.0, 28.0, 25.0, 39.0, 27.0, 19.0, 7.0, 26.0, 43.0]}],\n",
              "                        {\"bargap\": 0.2, \"template\": {\"data\": {\"bar\": [{\"error_x\": {\"color\": \"#2a3f5f\"}, \"error_y\": {\"color\": \"#2a3f5f\"}, \"marker\": {\"line\": {\"color\": \"#E5ECF6\", \"width\": 0.5}}, \"type\": \"bar\"}], \"barpolar\": [{\"marker\": {\"line\": {\"color\": \"#E5ECF6\", \"width\": 0.5}}, \"type\": \"barpolar\"}], \"carpet\": [{\"aaxis\": {\"endlinecolor\": \"#2a3f5f\", \"gridcolor\": \"white\", \"linecolor\": \"white\", \"minorgridcolor\": \"white\", \"startlinecolor\": \"#2a3f5f\"}, \"baxis\": {\"endlinecolor\": \"#2a3f5f\", \"gridcolor\": \"white\", \"linecolor\": \"white\", \"minorgridcolor\": \"white\", \"startlinecolor\": \"#2a3f5f\"}, \"type\": \"carpet\"}], \"choropleth\": [{\"colorbar\": {\"outlinewidth\": 0, \"ticks\": \"\"}, \"type\": \"choropleth\"}], \"contour\": [{\"colorbar\": {\"outlinewidth\": 0, \"ticks\": \"\"}, \"colorscale\": [[0.0, \"#0d0887\"], [0.1111111111111111, \"#46039f\"], [0.2222222222222222, \"#7201a8\"], [0.3333333333333333, \"#9c179e\"], [0.4444444444444444, \"#bd3786\"], [0.5555555555555556, \"#d8576b\"], [0.6666666666666666, \"#ed7953\"], [0.7777777777777778, \"#fb9f3a\"], [0.8888888888888888, \"#fdca26\"], [1.0, \"#f0f921\"]], \"type\": \"contour\"}], \"contourcarpet\": [{\"colorbar\": {\"outlinewidth\": 0, \"ticks\": \"\"}, \"type\": \"contourcarpet\"}], \"heatmap\": [{\"colorbar\": {\"outlinewidth\": 0, \"ticks\": \"\"}, \"colorscale\": [[0.0, \"#0d0887\"], [0.1111111111111111, \"#46039f\"], [0.2222222222222222, \"#7201a8\"], [0.3333333333333333, \"#9c179e\"], [0.4444444444444444, \"#bd3786\"], [0.5555555555555556, \"#d8576b\"], [0.6666666666666666, \"#ed7953\"], [0.7777777777777778, \"#fb9f3a\"], [0.8888888888888888, \"#fdca26\"], [1.0, \"#f0f921\"]], \"type\": \"heatmap\"}], \"heatmapgl\": [{\"colorbar\": {\"outlinewidth\": 0, \"ticks\": \"\"}, \"colorscale\": [[0.0, \"#0d0887\"], [0.1111111111111111, \"#46039f\"], [0.2222222222222222, \"#7201a8\"], [0.3333333333333333, \"#9c179e\"], [0.4444444444444444, \"#bd3786\"], [0.5555555555555556, \"#d8576b\"], [0.6666666666666666, \"#ed7953\"], [0.7777777777777778, \"#fb9f3a\"], [0.8888888888888888, \"#fdca26\"], [1.0, \"#f0f921\"]], \"type\": \"heatmapgl\"}], \"histogram\": [{\"marker\": {\"colorbar\": {\"outlinewidth\": 0, \"ticks\": \"\"}}, \"type\": \"histogram\"}], \"histogram2d\": [{\"colorbar\": {\"outlinewidth\": 0, \"ticks\": \"\"}, \"colorscale\": [[0.0, \"#0d0887\"], [0.1111111111111111, \"#46039f\"], [0.2222222222222222, \"#7201a8\"], [0.3333333333333333, \"#9c179e\"], [0.4444444444444444, \"#bd3786\"], [0.5555555555555556, \"#d8576b\"], [0.6666666666666666, \"#ed7953\"], [0.7777777777777778, \"#fb9f3a\"], [0.8888888888888888, \"#fdca26\"], [1.0, \"#f0f921\"]], \"type\": \"histogram2d\"}], \"histogram2dcontour\": [{\"colorbar\": {\"outlinewidth\": 0, \"ticks\": \"\"}, \"colorscale\": [[0.0, \"#0d0887\"], [0.1111111111111111, \"#46039f\"], [0.2222222222222222, \"#7201a8\"], [0.3333333333333333, \"#9c179e\"], [0.4444444444444444, \"#bd3786\"], [0.5555555555555556, \"#d8576b\"], [0.6666666666666666, \"#ed7953\"], [0.7777777777777778, \"#fb9f3a\"], [0.8888888888888888, \"#fdca26\"], [1.0, \"#f0f921\"]], \"type\": \"histogram2dcontour\"}], \"mesh3d\": [{\"colorbar\": {\"outlinewidth\": 0, \"ticks\": \"\"}, \"type\": \"mesh3d\"}], \"parcoords\": [{\"line\": {\"colorbar\": {\"outlinewidth\": 0, \"ticks\": \"\"}}, \"type\": \"parcoords\"}], \"pie\": [{\"automargin\": true, \"type\": \"pie\"}], \"scatter\": [{\"marker\": {\"colorbar\": {\"outlinewidth\": 0, \"ticks\": \"\"}}, \"type\": \"scatter\"}], \"scatter3d\": [{\"line\": {\"colorbar\": {\"outlinewidth\": 0, \"ticks\": \"\"}}, \"marker\": {\"colorbar\": {\"outlinewidth\": 0, \"ticks\": \"\"}}, \"type\": \"scatter3d\"}], \"scattercarpet\": [{\"marker\": {\"colorbar\": {\"outlinewidth\": 0, \"ticks\": \"\"}}, \"type\": \"scattercarpet\"}], \"scattergeo\": [{\"marker\": {\"colorbar\": {\"outlinewidth\": 0, \"ticks\": \"\"}}, \"type\": \"scattergeo\"}], \"scattergl\": [{\"marker\": {\"colorbar\": {\"outlinewidth\": 0, \"ticks\": \"\"}}, \"type\": \"scattergl\"}], \"scattermapbox\": [{\"marker\": {\"colorbar\": {\"outlinewidth\": 0, \"ticks\": \"\"}}, \"type\": \"scattermapbox\"}], \"scatterpolar\": [{\"marker\": {\"colorbar\": {\"outlinewidth\": 0, \"ticks\": \"\"}}, \"type\": \"scatterpolar\"}], \"scatterpolargl\": [{\"marker\": {\"colorbar\": {\"outlinewidth\": 0, \"ticks\": \"\"}}, \"type\": \"scatterpolargl\"}], \"scatterternary\": [{\"marker\": {\"colorbar\": {\"outlinewidth\": 0, \"ticks\": \"\"}}, \"type\": \"scatterternary\"}], \"surface\": [{\"colorbar\": {\"outlinewidth\": 0, \"ticks\": \"\"}, \"colorscale\": [[0.0, \"#0d0887\"], [0.1111111111111111, \"#46039f\"], [0.2222222222222222, \"#7201a8\"], [0.3333333333333333, \"#9c179e\"], [0.4444444444444444, \"#bd3786\"], [0.5555555555555556, \"#d8576b\"], [0.6666666666666666, \"#ed7953\"], [0.7777777777777778, \"#fb9f3a\"], [0.8888888888888888, \"#fdca26\"], [1.0, \"#f0f921\"]], \"type\": \"surface\"}], \"table\": [{\"cells\": {\"fill\": {\"color\": \"#EBF0F8\"}, \"line\": {\"color\": \"white\"}}, \"header\": {\"fill\": {\"color\": \"#C8D4E3\"}, \"line\": {\"color\": \"white\"}}, \"type\": \"table\"}]}, \"layout\": {\"annotationdefaults\": {\"arrowcolor\": \"#2a3f5f\", \"arrowhead\": 0, \"arrowwidth\": 1}, \"coloraxis\": {\"colorbar\": {\"outlinewidth\": 0, \"ticks\": \"\"}}, \"colorscale\": {\"diverging\": [[0, \"#8e0152\"], [0.1, \"#c51b7d\"], [0.2, \"#de77ae\"], [0.3, \"#f1b6da\"], [0.4, \"#fde0ef\"], [0.5, \"#f7f7f7\"], [0.6, \"#e6f5d0\"], [0.7, \"#b8e186\"], [0.8, \"#7fbc41\"], [0.9, \"#4d9221\"], [1, \"#276419\"]], \"sequential\": [[0.0, \"#0d0887\"], [0.1111111111111111, \"#46039f\"], [0.2222222222222222, \"#7201a8\"], [0.3333333333333333, \"#9c179e\"], [0.4444444444444444, \"#bd3786\"], [0.5555555555555556, \"#d8576b\"], [0.6666666666666666, \"#ed7953\"], [0.7777777777777778, \"#fb9f3a\"], [0.8888888888888888, \"#fdca26\"], [1.0, \"#f0f921\"]], \"sequentialminus\": [[0.0, \"#0d0887\"], [0.1111111111111111, \"#46039f\"], [0.2222222222222222, \"#7201a8\"], [0.3333333333333333, \"#9c179e\"], [0.4444444444444444, \"#bd3786\"], [0.5555555555555556, \"#d8576b\"], [0.6666666666666666, \"#ed7953\"], [0.7777777777777778, \"#fb9f3a\"], [0.8888888888888888, \"#fdca26\"], [1.0, \"#f0f921\"]]}, \"colorway\": [\"#636efa\", \"#EF553B\", \"#00cc96\", \"#ab63fa\", \"#FFA15A\", \"#19d3f3\", \"#FF6692\", \"#B6E880\", \"#FF97FF\", \"#FECB52\"], \"font\": {\"color\": \"#2a3f5f\"}, \"geo\": {\"bgcolor\": \"white\", \"lakecolor\": \"white\", \"landcolor\": \"#E5ECF6\", \"showlakes\": true, \"showland\": true, \"subunitcolor\": \"white\"}, \"hoverlabel\": {\"align\": \"left\"}, \"hovermode\": \"closest\", \"mapbox\": {\"style\": \"light\"}, \"paper_bgcolor\": \"white\", \"plot_bgcolor\": \"#E5ECF6\", \"polar\": {\"angularaxis\": {\"gridcolor\": \"white\", \"linecolor\": \"white\", \"ticks\": \"\"}, \"bgcolor\": \"#E5ECF6\", \"radialaxis\": {\"gridcolor\": \"white\", \"linecolor\": \"white\", \"ticks\": \"\"}}, \"scene\": {\"xaxis\": {\"backgroundcolor\": \"#E5ECF6\", \"gridcolor\": \"white\", \"gridwidth\": 2, \"linecolor\": \"white\", \"showbackground\": true, \"ticks\": \"\", \"zerolinecolor\": \"white\"}, \"yaxis\": {\"backgroundcolor\": \"#E5ECF6\", \"gridcolor\": \"white\", \"gridwidth\": 2, \"linecolor\": \"white\", \"showbackground\": true, \"ticks\": \"\", \"zerolinecolor\": \"white\"}, \"zaxis\": {\"backgroundcolor\": \"#E5ECF6\", \"gridcolor\": \"white\", \"gridwidth\": 2, \"linecolor\": \"white\", \"showbackground\": true, \"ticks\": \"\", \"zerolinecolor\": \"white\"}}, \"shapedefaults\": {\"line\": {\"color\": \"#2a3f5f\"}}, \"ternary\": {\"aaxis\": {\"gridcolor\": \"white\", \"linecolor\": \"white\", \"ticks\": \"\"}, \"baxis\": {\"gridcolor\": \"white\", \"linecolor\": \"white\", \"ticks\": \"\"}, \"bgcolor\": \"#E5ECF6\", \"caxis\": {\"gridcolor\": \"white\", \"linecolor\": \"white\", \"ticks\": \"\"}}, \"title\": {\"x\": 0.05}, \"xaxis\": {\"automargin\": true, \"gridcolor\": \"white\", \"linecolor\": \"white\", \"ticks\": \"\", \"title\": {\"standoff\": 15}, \"zerolinecolor\": \"white\", \"zerolinewidth\": 2}, \"yaxis\": {\"automargin\": true, \"gridcolor\": \"white\", \"linecolor\": \"white\", \"ticks\": \"\", \"title\": {\"standoff\": 15}, \"zerolinecolor\": \"white\", \"zerolinewidth\": 2}}}, \"title\": {\"text\": \"Distribution of ages\"}, \"xaxis\": {\"title\": {\"text\": \"Age\"}}, \"yaxis\": {\"title\": {\"text\": \"Count\"}}},\n",
              "                        {\"responsive\": true}\n",
              "                    ).then(function(){\n",
              "                            \n",
              "var gd = document.getElementById('f8998989-a507-48a3-8450-0669cf9c32ec');\n",
              "var x = new MutationObserver(function (mutations, observer) {{\n",
              "        var display = window.getComputedStyle(gd).display;\n",
              "        if (!display || display === 'none') {{\n",
              "            console.log([gd, 'removed!']);\n",
              "            Plotly.purge(gd);\n",
              "            observer.disconnect();\n",
              "        }}\n",
              "}});\n",
              "\n",
              "// Listen for the removal of the full notebook cells\n",
              "var notebookContainer = gd.closest('#notebook-container');\n",
              "if (notebookContainer) {{\n",
              "    x.observe(notebookContainer, {childList: true});\n",
              "}}\n",
              "\n",
              "// Listen for the clearing of the current output cell\n",
              "var outputEl = gd.closest('.output');\n",
              "if (outputEl) {{\n",
              "    x.observe(outputEl, {childList: true});\n",
              "}}\n",
              "\n",
              "                        })\n",
              "                };\n",
              "                \n",
              "            </script>\n",
              "        </div>\n",
              "</body>\n",
              "</html>"
            ]
          },
          "metadata": {
            "tags": []
          }
        }
      ]
    },
    {
      "cell_type": "markdown",
      "metadata": {
        "id": "C2K4f89onPAw"
      },
      "source": [
        "How many traveled alone?\n"
      ]
    },
    {
      "cell_type": "code",
      "metadata": {
        "id": "taNF4g3Iu1Ir"
      },
      "source": [
        "family = titanic_df.Family.value_counts()\n",
        "percentage = [str(round(fam/family.sum(),2)*100)+'%' for fam in family ]"
      ],
      "execution_count": null,
      "outputs": []
    },
    {
      "cell_type": "code",
      "metadata": {
        "id": "yGHhIOOIuP0p",
        "colab": {
          "base_uri": "https://localhost:8080/",
          "height": 542
        },
        "outputId": "828064e1-571f-45c3-dc44-0143a632f681"
      },
      "source": [
        "fig = go.Figure()\n",
        "fig.add_trace(go.Bar(\n",
        "    x=['With Family', 'Alone'],\n",
        "    y=family,\n",
        "    marker_color=['blue','pink'],\n",
        "    text=['With Family', 'Alone'],\n",
        "    textposition='outside',\n",
        "))\n",
        "fig.update_layout(\n",
        "    title='Passengers Traveling with family vs alone', \n",
        "    yaxis_title='Number of cases',\n",
        "    )\n",
        "fig.show()"
      ],
      "execution_count": null,
      "outputs": [
        {
          "output_type": "display_data",
          "data": {
            "text/html": [
              "<html>\n",
              "<head><meta charset=\"utf-8\" /></head>\n",
              "<body>\n",
              "    <div>\n",
              "            <script src=\"https://cdnjs.cloudflare.com/ajax/libs/mathjax/2.7.5/MathJax.js?config=TeX-AMS-MML_SVG\"></script><script type=\"text/javascript\">if (window.MathJax) {MathJax.Hub.Config({SVG: {font: \"STIX-Web\"}});}</script>\n",
              "                <script type=\"text/javascript\">window.PlotlyConfig = {MathJaxConfig: 'local'};</script>\n",
              "        <script src=\"https://cdn.plot.ly/plotly-latest.min.js\"></script>    \n",
              "            <div id=\"c7b07d49-34b6-4c25-9dbf-ac9a18fc3610\" class=\"plotly-graph-div\" style=\"height:525px; width:100%;\"></div>\n",
              "            <script type=\"text/javascript\">\n",
              "                \n",
              "                    window.PLOTLYENV=window.PLOTLYENV || {};\n",
              "                    \n",
              "                if (document.getElementById(\"c7b07d49-34b6-4c25-9dbf-ac9a18fc3610\")) {\n",
              "                    Plotly.newPlot(\n",
              "                        'c7b07d49-34b6-4c25-9dbf-ac9a18fc3610',\n",
              "                        [{\"marker\": {\"color\": [\"blue\", \"pink\"]}, \"text\": [\"With Family\", \"Alone\"], \"textposition\": \"outside\", \"type\": \"bar\", \"x\": [\"With Family\", \"Alone\"], \"y\": [537, 354]}],\n",
              "                        {\"template\": {\"data\": {\"bar\": [{\"error_x\": {\"color\": \"#2a3f5f\"}, \"error_y\": {\"color\": \"#2a3f5f\"}, \"marker\": {\"line\": {\"color\": \"#E5ECF6\", \"width\": 0.5}}, \"type\": \"bar\"}], \"barpolar\": [{\"marker\": {\"line\": {\"color\": \"#E5ECF6\", \"width\": 0.5}}, \"type\": \"barpolar\"}], \"carpet\": [{\"aaxis\": {\"endlinecolor\": \"#2a3f5f\", \"gridcolor\": \"white\", \"linecolor\": \"white\", \"minorgridcolor\": \"white\", \"startlinecolor\": \"#2a3f5f\"}, \"baxis\": {\"endlinecolor\": \"#2a3f5f\", \"gridcolor\": \"white\", \"linecolor\": \"white\", \"minorgridcolor\": \"white\", \"startlinecolor\": \"#2a3f5f\"}, \"type\": \"carpet\"}], \"choropleth\": [{\"colorbar\": {\"outlinewidth\": 0, \"ticks\": \"\"}, \"type\": \"choropleth\"}], \"contour\": [{\"colorbar\": {\"outlinewidth\": 0, \"ticks\": \"\"}, \"colorscale\": [[0.0, \"#0d0887\"], [0.1111111111111111, \"#46039f\"], [0.2222222222222222, \"#7201a8\"], [0.3333333333333333, \"#9c179e\"], [0.4444444444444444, \"#bd3786\"], [0.5555555555555556, \"#d8576b\"], [0.6666666666666666, \"#ed7953\"], [0.7777777777777778, \"#fb9f3a\"], [0.8888888888888888, \"#fdca26\"], [1.0, \"#f0f921\"]], \"type\": \"contour\"}], \"contourcarpet\": [{\"colorbar\": {\"outlinewidth\": 0, \"ticks\": \"\"}, \"type\": \"contourcarpet\"}], \"heatmap\": [{\"colorbar\": {\"outlinewidth\": 0, \"ticks\": \"\"}, \"colorscale\": [[0.0, \"#0d0887\"], [0.1111111111111111, \"#46039f\"], [0.2222222222222222, \"#7201a8\"], [0.3333333333333333, \"#9c179e\"], [0.4444444444444444, \"#bd3786\"], [0.5555555555555556, \"#d8576b\"], [0.6666666666666666, \"#ed7953\"], [0.7777777777777778, \"#fb9f3a\"], [0.8888888888888888, \"#fdca26\"], [1.0, \"#f0f921\"]], \"type\": \"heatmap\"}], \"heatmapgl\": [{\"colorbar\": {\"outlinewidth\": 0, \"ticks\": \"\"}, \"colorscale\": [[0.0, \"#0d0887\"], [0.1111111111111111, \"#46039f\"], [0.2222222222222222, \"#7201a8\"], [0.3333333333333333, \"#9c179e\"], [0.4444444444444444, \"#bd3786\"], [0.5555555555555556, \"#d8576b\"], [0.6666666666666666, \"#ed7953\"], [0.7777777777777778, \"#fb9f3a\"], [0.8888888888888888, \"#fdca26\"], [1.0, \"#f0f921\"]], \"type\": \"heatmapgl\"}], \"histogram\": [{\"marker\": {\"colorbar\": {\"outlinewidth\": 0, \"ticks\": \"\"}}, \"type\": \"histogram\"}], \"histogram2d\": [{\"colorbar\": {\"outlinewidth\": 0, \"ticks\": \"\"}, \"colorscale\": [[0.0, \"#0d0887\"], [0.1111111111111111, \"#46039f\"], [0.2222222222222222, \"#7201a8\"], [0.3333333333333333, \"#9c179e\"], [0.4444444444444444, \"#bd3786\"], [0.5555555555555556, \"#d8576b\"], [0.6666666666666666, \"#ed7953\"], [0.7777777777777778, \"#fb9f3a\"], [0.8888888888888888, \"#fdca26\"], [1.0, \"#f0f921\"]], \"type\": \"histogram2d\"}], \"histogram2dcontour\": [{\"colorbar\": {\"outlinewidth\": 0, \"ticks\": \"\"}, \"colorscale\": [[0.0, \"#0d0887\"], [0.1111111111111111, \"#46039f\"], [0.2222222222222222, \"#7201a8\"], [0.3333333333333333, \"#9c179e\"], [0.4444444444444444, \"#bd3786\"], [0.5555555555555556, \"#d8576b\"], [0.6666666666666666, \"#ed7953\"], [0.7777777777777778, \"#fb9f3a\"], [0.8888888888888888, \"#fdca26\"], [1.0, \"#f0f921\"]], \"type\": \"histogram2dcontour\"}], \"mesh3d\": [{\"colorbar\": {\"outlinewidth\": 0, \"ticks\": \"\"}, \"type\": \"mesh3d\"}], \"parcoords\": [{\"line\": {\"colorbar\": {\"outlinewidth\": 0, \"ticks\": \"\"}}, \"type\": \"parcoords\"}], \"pie\": [{\"automargin\": true, \"type\": \"pie\"}], \"scatter\": [{\"marker\": {\"colorbar\": {\"outlinewidth\": 0, \"ticks\": \"\"}}, \"type\": \"scatter\"}], \"scatter3d\": [{\"line\": {\"colorbar\": {\"outlinewidth\": 0, \"ticks\": \"\"}}, \"marker\": {\"colorbar\": {\"outlinewidth\": 0, \"ticks\": \"\"}}, \"type\": \"scatter3d\"}], \"scattercarpet\": [{\"marker\": {\"colorbar\": {\"outlinewidth\": 0, \"ticks\": \"\"}}, \"type\": \"scattercarpet\"}], \"scattergeo\": [{\"marker\": {\"colorbar\": {\"outlinewidth\": 0, \"ticks\": \"\"}}, \"type\": \"scattergeo\"}], \"scattergl\": [{\"marker\": {\"colorbar\": {\"outlinewidth\": 0, \"ticks\": \"\"}}, \"type\": \"scattergl\"}], \"scattermapbox\": [{\"marker\": {\"colorbar\": {\"outlinewidth\": 0, \"ticks\": \"\"}}, \"type\": \"scattermapbox\"}], \"scatterpolar\": [{\"marker\": {\"colorbar\": {\"outlinewidth\": 0, \"ticks\": \"\"}}, \"type\": \"scatterpolar\"}], \"scatterpolargl\": [{\"marker\": {\"colorbar\": {\"outlinewidth\": 0, \"ticks\": \"\"}}, \"type\": \"scatterpolargl\"}], \"scatterternary\": [{\"marker\": {\"colorbar\": {\"outlinewidth\": 0, \"ticks\": \"\"}}, \"type\": \"scatterternary\"}], \"surface\": [{\"colorbar\": {\"outlinewidth\": 0, \"ticks\": \"\"}, \"colorscale\": [[0.0, \"#0d0887\"], [0.1111111111111111, \"#46039f\"], [0.2222222222222222, \"#7201a8\"], [0.3333333333333333, \"#9c179e\"], [0.4444444444444444, \"#bd3786\"], [0.5555555555555556, \"#d8576b\"], [0.6666666666666666, \"#ed7953\"], [0.7777777777777778, \"#fb9f3a\"], [0.8888888888888888, \"#fdca26\"], [1.0, \"#f0f921\"]], \"type\": \"surface\"}], \"table\": [{\"cells\": {\"fill\": {\"color\": \"#EBF0F8\"}, \"line\": {\"color\": \"white\"}}, \"header\": {\"fill\": {\"color\": \"#C8D4E3\"}, \"line\": {\"color\": \"white\"}}, \"type\": \"table\"}]}, \"layout\": {\"annotationdefaults\": {\"arrowcolor\": \"#2a3f5f\", \"arrowhead\": 0, \"arrowwidth\": 1}, \"coloraxis\": {\"colorbar\": {\"outlinewidth\": 0, \"ticks\": \"\"}}, \"colorscale\": {\"diverging\": [[0, \"#8e0152\"], [0.1, \"#c51b7d\"], [0.2, \"#de77ae\"], [0.3, \"#f1b6da\"], [0.4, \"#fde0ef\"], [0.5, \"#f7f7f7\"], [0.6, \"#e6f5d0\"], [0.7, \"#b8e186\"], [0.8, \"#7fbc41\"], [0.9, \"#4d9221\"], [1, \"#276419\"]], \"sequential\": [[0.0, \"#0d0887\"], [0.1111111111111111, \"#46039f\"], [0.2222222222222222, \"#7201a8\"], [0.3333333333333333, \"#9c179e\"], [0.4444444444444444, \"#bd3786\"], [0.5555555555555556, \"#d8576b\"], [0.6666666666666666, \"#ed7953\"], [0.7777777777777778, \"#fb9f3a\"], [0.8888888888888888, \"#fdca26\"], [1.0, \"#f0f921\"]], \"sequentialminus\": [[0.0, \"#0d0887\"], [0.1111111111111111, \"#46039f\"], [0.2222222222222222, \"#7201a8\"], [0.3333333333333333, \"#9c179e\"], [0.4444444444444444, \"#bd3786\"], [0.5555555555555556, \"#d8576b\"], [0.6666666666666666, \"#ed7953\"], [0.7777777777777778, \"#fb9f3a\"], [0.8888888888888888, \"#fdca26\"], [1.0, \"#f0f921\"]]}, \"colorway\": [\"#636efa\", \"#EF553B\", \"#00cc96\", \"#ab63fa\", \"#FFA15A\", \"#19d3f3\", \"#FF6692\", \"#B6E880\", \"#FF97FF\", \"#FECB52\"], \"font\": {\"color\": \"#2a3f5f\"}, \"geo\": {\"bgcolor\": \"white\", \"lakecolor\": \"white\", \"landcolor\": \"#E5ECF6\", \"showlakes\": true, \"showland\": true, \"subunitcolor\": \"white\"}, \"hoverlabel\": {\"align\": \"left\"}, \"hovermode\": \"closest\", \"mapbox\": {\"style\": \"light\"}, \"paper_bgcolor\": \"white\", \"plot_bgcolor\": \"#E5ECF6\", \"polar\": {\"angularaxis\": {\"gridcolor\": \"white\", \"linecolor\": \"white\", \"ticks\": \"\"}, \"bgcolor\": \"#E5ECF6\", \"radialaxis\": {\"gridcolor\": \"white\", \"linecolor\": \"white\", \"ticks\": \"\"}}, \"scene\": {\"xaxis\": {\"backgroundcolor\": \"#E5ECF6\", \"gridcolor\": \"white\", \"gridwidth\": 2, \"linecolor\": \"white\", \"showbackground\": true, \"ticks\": \"\", \"zerolinecolor\": \"white\"}, \"yaxis\": {\"backgroundcolor\": \"#E5ECF6\", \"gridcolor\": \"white\", \"gridwidth\": 2, \"linecolor\": \"white\", \"showbackground\": true, \"ticks\": \"\", \"zerolinecolor\": \"white\"}, \"zaxis\": {\"backgroundcolor\": \"#E5ECF6\", \"gridcolor\": \"white\", \"gridwidth\": 2, \"linecolor\": \"white\", \"showbackground\": true, \"ticks\": \"\", \"zerolinecolor\": \"white\"}}, \"shapedefaults\": {\"line\": {\"color\": \"#2a3f5f\"}}, \"ternary\": {\"aaxis\": {\"gridcolor\": \"white\", \"linecolor\": \"white\", \"ticks\": \"\"}, \"baxis\": {\"gridcolor\": \"white\", \"linecolor\": \"white\", \"ticks\": \"\"}, \"bgcolor\": \"#E5ECF6\", \"caxis\": {\"gridcolor\": \"white\", \"linecolor\": \"white\", \"ticks\": \"\"}}, \"title\": {\"x\": 0.05}, \"xaxis\": {\"automargin\": true, \"gridcolor\": \"white\", \"linecolor\": \"white\", \"ticks\": \"\", \"title\": {\"standoff\": 15}, \"zerolinecolor\": \"white\", \"zerolinewidth\": 2}, \"yaxis\": {\"automargin\": true, \"gridcolor\": \"white\", \"linecolor\": \"white\", \"ticks\": \"\", \"title\": {\"standoff\": 15}, \"zerolinecolor\": \"white\", \"zerolinewidth\": 2}}}, \"title\": {\"text\": \"Passengers Traveling with family vs alone\"}, \"yaxis\": {\"title\": {\"text\": \"Number of cases\"}}},\n",
              "                        {\"responsive\": true}\n",
              "                    ).then(function(){\n",
              "                            \n",
              "var gd = document.getElementById('c7b07d49-34b6-4c25-9dbf-ac9a18fc3610');\n",
              "var x = new MutationObserver(function (mutations, observer) {{\n",
              "        var display = window.getComputedStyle(gd).display;\n",
              "        if (!display || display === 'none') {{\n",
              "            console.log([gd, 'removed!']);\n",
              "            Plotly.purge(gd);\n",
              "            observer.disconnect();\n",
              "        }}\n",
              "}});\n",
              "\n",
              "// Listen for the removal of the full notebook cells\n",
              "var notebookContainer = gd.closest('#notebook-container');\n",
              "if (notebookContainer) {{\n",
              "    x.observe(notebookContainer, {childList: true});\n",
              "}}\n",
              "\n",
              "// Listen for the clearing of the current output cell\n",
              "var outputEl = gd.closest('.output');\n",
              "if (outputEl) {{\n",
              "    x.observe(outputEl, {childList: true});\n",
              "}}\n",
              "\n",
              "                        })\n",
              "                };\n",
              "                \n",
              "            </script>\n",
              "        </div>\n",
              "</body>\n",
              "</html>"
            ]
          },
          "metadata": {
            "tags": []
          }
        }
      ]
    },
    {
      "cell_type": "markdown",
      "metadata": {
        "id": "NkAl88TdusSF"
      },
      "source": [
        "How many survived from each passenger class?"
      ]
    },
    {
      "cell_type": "code",
      "metadata": {
        "id": "EAVAzZbZvYLI"
      },
      "source": [
        "classes = titanic_df.pivot_table(index=titanic_df.Survived, values=['Second_Cls','Third_Cls'], aggfunc='sum')\n"
      ],
      "execution_count": null,
      "outputs": []
    },
    {
      "cell_type": "code",
      "metadata": {
        "id": "dysHF90Bvyrp",
        "colab": {
          "base_uri": "https://localhost:8080/",
          "height": 143
        },
        "outputId": "75a5e6f7-2bc4-4a38-fc1c-d08c1cd0c9c8"
      },
      "source": [
        "classes['First_Cls'] = titanic_df.Survived.value_counts()-classes.Second_Cls-classes.Third_Cls\n",
        "classes['Total'] = titanic_df.Survived.value_counts()\n",
        "\n",
        "classes"
      ],
      "execution_count": null,
      "outputs": [
        {
          "output_type": "execute_result",
          "data": {
            "text/html": [
              "<div>\n",
              "<style scoped>\n",
              "    .dataframe tbody tr th:only-of-type {\n",
              "        vertical-align: middle;\n",
              "    }\n",
              "\n",
              "    .dataframe tbody tr th {\n",
              "        vertical-align: top;\n",
              "    }\n",
              "\n",
              "    .dataframe thead th {\n",
              "        text-align: right;\n",
              "    }\n",
              "</style>\n",
              "<table border=\"1\" class=\"dataframe\">\n",
              "  <thead>\n",
              "    <tr style=\"text-align: right;\">\n",
              "      <th></th>\n",
              "      <th>Second_Cls</th>\n",
              "      <th>Third_Cls</th>\n",
              "      <th>First_Cls</th>\n",
              "      <th>Total</th>\n",
              "    </tr>\n",
              "    <tr>\n",
              "      <th>Survived</th>\n",
              "      <th></th>\n",
              "      <th></th>\n",
              "      <th></th>\n",
              "      <th></th>\n",
              "    </tr>\n",
              "  </thead>\n",
              "  <tbody>\n",
              "    <tr>\n",
              "      <th>0</th>\n",
              "      <td>97</td>\n",
              "      <td>372.0</td>\n",
              "      <td>80.0</td>\n",
              "      <td>549</td>\n",
              "    </tr>\n",
              "    <tr>\n",
              "      <th>1</th>\n",
              "      <td>87</td>\n",
              "      <td>119.0</td>\n",
              "      <td>136.0</td>\n",
              "      <td>342</td>\n",
              "    </tr>\n",
              "  </tbody>\n",
              "</table>\n",
              "</div>"
            ],
            "text/plain": [
              "          Second_Cls  Third_Cls  First_Cls  Total\n",
              "Survived                                         \n",
              "0                 97      372.0       80.0    549\n",
              "1                 87      119.0      136.0    342"
            ]
          },
          "metadata": {
            "tags": []
          },
          "execution_count": 21
        }
      ]
    },
    {
      "cell_type": "code",
      "metadata": {
        "id": "ELbmifFOx0tF",
        "colab": {
          "base_uri": "https://localhost:8080/",
          "height": 542
        },
        "outputId": "59b52363-9d1f-4947-d16d-4c8d826e0451"
      },
      "source": [
        "fig = go.Figure()\n",
        "fig.add_trace(go.Bar(x=['Died', 'Survived'], y=classes.First_Cls, name='First'))\n",
        "fig.add_trace(go.Bar(x=['Died', 'Survived'], y=classes.Second_Cls, name='Second'))\n",
        "fig.add_trace(go.Bar(x=['Died', 'Survived'], y=classes.Third_Cls, name='Third'))\n",
        "\n",
        "# The two histograms are drawn on top of another\n",
        "fig.update_layout(barmode='stack')\n",
        "fig.show()"
      ],
      "execution_count": null,
      "outputs": [
        {
          "output_type": "display_data",
          "data": {
            "text/html": [
              "<html>\n",
              "<head><meta charset=\"utf-8\" /></head>\n",
              "<body>\n",
              "    <div>\n",
              "            <script src=\"https://cdnjs.cloudflare.com/ajax/libs/mathjax/2.7.5/MathJax.js?config=TeX-AMS-MML_SVG\"></script><script type=\"text/javascript\">if (window.MathJax) {MathJax.Hub.Config({SVG: {font: \"STIX-Web\"}});}</script>\n",
              "                <script type=\"text/javascript\">window.PlotlyConfig = {MathJaxConfig: 'local'};</script>\n",
              "        <script src=\"https://cdn.plot.ly/plotly-latest.min.js\"></script>    \n",
              "            <div id=\"28ede499-d670-4a0d-8541-610d4c2df3c5\" class=\"plotly-graph-div\" style=\"height:525px; width:100%;\"></div>\n",
              "            <script type=\"text/javascript\">\n",
              "                \n",
              "                    window.PLOTLYENV=window.PLOTLYENV || {};\n",
              "                    \n",
              "                if (document.getElementById(\"28ede499-d670-4a0d-8541-610d4c2df3c5\")) {\n",
              "                    Plotly.newPlot(\n",
              "                        '28ede499-d670-4a0d-8541-610d4c2df3c5',\n",
              "                        [{\"name\": \"First\", \"type\": \"bar\", \"x\": [\"Died\", \"Survived\"], \"y\": [80.0, 136.0]}, {\"name\": \"Second\", \"type\": \"bar\", \"x\": [\"Died\", \"Survived\"], \"y\": [97, 87]}, {\"name\": \"Third\", \"type\": \"bar\", \"x\": [\"Died\", \"Survived\"], \"y\": [372.0, 119.0]}],\n",
              "                        {\"barmode\": \"stack\", \"template\": {\"data\": {\"bar\": [{\"error_x\": {\"color\": \"#2a3f5f\"}, \"error_y\": {\"color\": \"#2a3f5f\"}, \"marker\": {\"line\": {\"color\": \"#E5ECF6\", \"width\": 0.5}}, \"type\": \"bar\"}], \"barpolar\": [{\"marker\": {\"line\": {\"color\": \"#E5ECF6\", \"width\": 0.5}}, \"type\": \"barpolar\"}], \"carpet\": [{\"aaxis\": {\"endlinecolor\": \"#2a3f5f\", \"gridcolor\": \"white\", \"linecolor\": \"white\", \"minorgridcolor\": \"white\", \"startlinecolor\": \"#2a3f5f\"}, \"baxis\": {\"endlinecolor\": \"#2a3f5f\", \"gridcolor\": \"white\", \"linecolor\": \"white\", \"minorgridcolor\": \"white\", \"startlinecolor\": \"#2a3f5f\"}, \"type\": \"carpet\"}], \"choropleth\": [{\"colorbar\": {\"outlinewidth\": 0, \"ticks\": \"\"}, \"type\": \"choropleth\"}], \"contour\": [{\"colorbar\": {\"outlinewidth\": 0, \"ticks\": \"\"}, \"colorscale\": [[0.0, \"#0d0887\"], [0.1111111111111111, \"#46039f\"], [0.2222222222222222, \"#7201a8\"], [0.3333333333333333, \"#9c179e\"], [0.4444444444444444, \"#bd3786\"], [0.5555555555555556, \"#d8576b\"], [0.6666666666666666, \"#ed7953\"], [0.7777777777777778, \"#fb9f3a\"], [0.8888888888888888, \"#fdca26\"], [1.0, \"#f0f921\"]], \"type\": \"contour\"}], \"contourcarpet\": [{\"colorbar\": {\"outlinewidth\": 0, \"ticks\": \"\"}, \"type\": \"contourcarpet\"}], \"heatmap\": [{\"colorbar\": {\"outlinewidth\": 0, \"ticks\": \"\"}, \"colorscale\": [[0.0, \"#0d0887\"], [0.1111111111111111, \"#46039f\"], [0.2222222222222222, \"#7201a8\"], [0.3333333333333333, \"#9c179e\"], [0.4444444444444444, \"#bd3786\"], [0.5555555555555556, \"#d8576b\"], [0.6666666666666666, \"#ed7953\"], [0.7777777777777778, \"#fb9f3a\"], [0.8888888888888888, \"#fdca26\"], [1.0, \"#f0f921\"]], \"type\": \"heatmap\"}], \"heatmapgl\": [{\"colorbar\": {\"outlinewidth\": 0, \"ticks\": \"\"}, \"colorscale\": [[0.0, \"#0d0887\"], [0.1111111111111111, \"#46039f\"], [0.2222222222222222, \"#7201a8\"], [0.3333333333333333, \"#9c179e\"], [0.4444444444444444, \"#bd3786\"], [0.5555555555555556, \"#d8576b\"], [0.6666666666666666, \"#ed7953\"], [0.7777777777777778, \"#fb9f3a\"], [0.8888888888888888, \"#fdca26\"], [1.0, \"#f0f921\"]], \"type\": \"heatmapgl\"}], \"histogram\": [{\"marker\": {\"colorbar\": {\"outlinewidth\": 0, \"ticks\": \"\"}}, \"type\": \"histogram\"}], \"histogram2d\": [{\"colorbar\": {\"outlinewidth\": 0, \"ticks\": \"\"}, \"colorscale\": [[0.0, \"#0d0887\"], [0.1111111111111111, \"#46039f\"], [0.2222222222222222, \"#7201a8\"], [0.3333333333333333, \"#9c179e\"], [0.4444444444444444, \"#bd3786\"], [0.5555555555555556, \"#d8576b\"], [0.6666666666666666, \"#ed7953\"], [0.7777777777777778, \"#fb9f3a\"], [0.8888888888888888, \"#fdca26\"], [1.0, \"#f0f921\"]], \"type\": \"histogram2d\"}], \"histogram2dcontour\": [{\"colorbar\": {\"outlinewidth\": 0, \"ticks\": \"\"}, \"colorscale\": [[0.0, \"#0d0887\"], [0.1111111111111111, \"#46039f\"], [0.2222222222222222, \"#7201a8\"], [0.3333333333333333, \"#9c179e\"], [0.4444444444444444, \"#bd3786\"], [0.5555555555555556, \"#d8576b\"], [0.6666666666666666, \"#ed7953\"], [0.7777777777777778, \"#fb9f3a\"], [0.8888888888888888, \"#fdca26\"], [1.0, \"#f0f921\"]], \"type\": \"histogram2dcontour\"}], \"mesh3d\": [{\"colorbar\": {\"outlinewidth\": 0, \"ticks\": \"\"}, \"type\": \"mesh3d\"}], \"parcoords\": [{\"line\": {\"colorbar\": {\"outlinewidth\": 0, \"ticks\": \"\"}}, \"type\": \"parcoords\"}], \"pie\": [{\"automargin\": true, \"type\": \"pie\"}], \"scatter\": [{\"marker\": {\"colorbar\": {\"outlinewidth\": 0, \"ticks\": \"\"}}, \"type\": \"scatter\"}], \"scatter3d\": [{\"line\": {\"colorbar\": {\"outlinewidth\": 0, \"ticks\": \"\"}}, \"marker\": {\"colorbar\": {\"outlinewidth\": 0, \"ticks\": \"\"}}, \"type\": \"scatter3d\"}], \"scattercarpet\": [{\"marker\": {\"colorbar\": {\"outlinewidth\": 0, \"ticks\": \"\"}}, \"type\": \"scattercarpet\"}], \"scattergeo\": [{\"marker\": {\"colorbar\": {\"outlinewidth\": 0, \"ticks\": \"\"}}, \"type\": \"scattergeo\"}], \"scattergl\": [{\"marker\": {\"colorbar\": {\"outlinewidth\": 0, \"ticks\": \"\"}}, \"type\": \"scattergl\"}], \"scattermapbox\": [{\"marker\": {\"colorbar\": {\"outlinewidth\": 0, \"ticks\": \"\"}}, \"type\": \"scattermapbox\"}], \"scatterpolar\": [{\"marker\": {\"colorbar\": {\"outlinewidth\": 0, \"ticks\": \"\"}}, \"type\": \"scatterpolar\"}], \"scatterpolargl\": [{\"marker\": {\"colorbar\": {\"outlinewidth\": 0, \"ticks\": \"\"}}, \"type\": \"scatterpolargl\"}], \"scatterternary\": [{\"marker\": {\"colorbar\": {\"outlinewidth\": 0, \"ticks\": \"\"}}, \"type\": \"scatterternary\"}], \"surface\": [{\"colorbar\": {\"outlinewidth\": 0, \"ticks\": \"\"}, \"colorscale\": [[0.0, \"#0d0887\"], [0.1111111111111111, \"#46039f\"], [0.2222222222222222, \"#7201a8\"], [0.3333333333333333, \"#9c179e\"], [0.4444444444444444, \"#bd3786\"], [0.5555555555555556, \"#d8576b\"], [0.6666666666666666, \"#ed7953\"], [0.7777777777777778, \"#fb9f3a\"], [0.8888888888888888, \"#fdca26\"], [1.0, \"#f0f921\"]], \"type\": \"surface\"}], \"table\": [{\"cells\": {\"fill\": {\"color\": \"#EBF0F8\"}, \"line\": {\"color\": \"white\"}}, \"header\": {\"fill\": {\"color\": \"#C8D4E3\"}, \"line\": {\"color\": \"white\"}}, \"type\": \"table\"}]}, \"layout\": {\"annotationdefaults\": {\"arrowcolor\": \"#2a3f5f\", \"arrowhead\": 0, \"arrowwidth\": 1}, \"coloraxis\": {\"colorbar\": {\"outlinewidth\": 0, \"ticks\": \"\"}}, \"colorscale\": {\"diverging\": [[0, \"#8e0152\"], [0.1, \"#c51b7d\"], [0.2, \"#de77ae\"], [0.3, \"#f1b6da\"], [0.4, \"#fde0ef\"], [0.5, \"#f7f7f7\"], [0.6, \"#e6f5d0\"], [0.7, \"#b8e186\"], [0.8, \"#7fbc41\"], [0.9, \"#4d9221\"], [1, \"#276419\"]], \"sequential\": [[0.0, \"#0d0887\"], [0.1111111111111111, \"#46039f\"], [0.2222222222222222, \"#7201a8\"], [0.3333333333333333, \"#9c179e\"], [0.4444444444444444, \"#bd3786\"], [0.5555555555555556, \"#d8576b\"], [0.6666666666666666, \"#ed7953\"], [0.7777777777777778, \"#fb9f3a\"], [0.8888888888888888, \"#fdca26\"], [1.0, \"#f0f921\"]], \"sequentialminus\": [[0.0, \"#0d0887\"], [0.1111111111111111, \"#46039f\"], [0.2222222222222222, \"#7201a8\"], [0.3333333333333333, \"#9c179e\"], [0.4444444444444444, \"#bd3786\"], [0.5555555555555556, \"#d8576b\"], [0.6666666666666666, \"#ed7953\"], [0.7777777777777778, \"#fb9f3a\"], [0.8888888888888888, \"#fdca26\"], [1.0, \"#f0f921\"]]}, \"colorway\": [\"#636efa\", \"#EF553B\", \"#00cc96\", \"#ab63fa\", \"#FFA15A\", \"#19d3f3\", \"#FF6692\", \"#B6E880\", \"#FF97FF\", \"#FECB52\"], \"font\": {\"color\": \"#2a3f5f\"}, \"geo\": {\"bgcolor\": \"white\", \"lakecolor\": \"white\", \"landcolor\": \"#E5ECF6\", \"showlakes\": true, \"showland\": true, \"subunitcolor\": \"white\"}, \"hoverlabel\": {\"align\": \"left\"}, \"hovermode\": \"closest\", \"mapbox\": {\"style\": \"light\"}, \"paper_bgcolor\": \"white\", \"plot_bgcolor\": \"#E5ECF6\", \"polar\": {\"angularaxis\": {\"gridcolor\": \"white\", \"linecolor\": \"white\", \"ticks\": \"\"}, \"bgcolor\": \"#E5ECF6\", \"radialaxis\": {\"gridcolor\": \"white\", \"linecolor\": \"white\", \"ticks\": \"\"}}, \"scene\": {\"xaxis\": {\"backgroundcolor\": \"#E5ECF6\", \"gridcolor\": \"white\", \"gridwidth\": 2, \"linecolor\": \"white\", \"showbackground\": true, \"ticks\": \"\", \"zerolinecolor\": \"white\"}, \"yaxis\": {\"backgroundcolor\": \"#E5ECF6\", \"gridcolor\": \"white\", \"gridwidth\": 2, \"linecolor\": \"white\", \"showbackground\": true, \"ticks\": \"\", \"zerolinecolor\": \"white\"}, \"zaxis\": {\"backgroundcolor\": \"#E5ECF6\", \"gridcolor\": \"white\", \"gridwidth\": 2, \"linecolor\": \"white\", \"showbackground\": true, \"ticks\": \"\", \"zerolinecolor\": \"white\"}}, \"shapedefaults\": {\"line\": {\"color\": \"#2a3f5f\"}}, \"ternary\": {\"aaxis\": {\"gridcolor\": \"white\", \"linecolor\": \"white\", \"ticks\": \"\"}, \"baxis\": {\"gridcolor\": \"white\", \"linecolor\": \"white\", \"ticks\": \"\"}, \"bgcolor\": \"#E5ECF6\", \"caxis\": {\"gridcolor\": \"white\", \"linecolor\": \"white\", \"ticks\": \"\"}}, \"title\": {\"x\": 0.05}, \"xaxis\": {\"automargin\": true, \"gridcolor\": \"white\", \"linecolor\": \"white\", \"ticks\": \"\", \"title\": {\"standoff\": 15}, \"zerolinecolor\": \"white\", \"zerolinewidth\": 2}, \"yaxis\": {\"automargin\": true, \"gridcolor\": \"white\", \"linecolor\": \"white\", \"ticks\": \"\", \"title\": {\"standoff\": 15}, \"zerolinecolor\": \"white\", \"zerolinewidth\": 2}}}},\n",
              "                        {\"responsive\": true}\n",
              "                    ).then(function(){\n",
              "                            \n",
              "var gd = document.getElementById('28ede499-d670-4a0d-8541-610d4c2df3c5');\n",
              "var x = new MutationObserver(function (mutations, observer) {{\n",
              "        var display = window.getComputedStyle(gd).display;\n",
              "        if (!display || display === 'none') {{\n",
              "            console.log([gd, 'removed!']);\n",
              "            Plotly.purge(gd);\n",
              "            observer.disconnect();\n",
              "        }}\n",
              "}});\n",
              "\n",
              "// Listen for the removal of the full notebook cells\n",
              "var notebookContainer = gd.closest('#notebook-container');\n",
              "if (notebookContainer) {{\n",
              "    x.observe(notebookContainer, {childList: true});\n",
              "}}\n",
              "\n",
              "// Listen for the clearing of the current output cell\n",
              "var outputEl = gd.closest('.output');\n",
              "if (outputEl) {{\n",
              "    x.observe(outputEl, {childList: true});\n",
              "}}\n",
              "\n",
              "                        })\n",
              "                };\n",
              "                \n",
              "            </script>\n",
              "        </div>\n",
              "</body>\n",
              "</html>"
            ]
          },
          "metadata": {
            "tags": []
          }
        }
      ]
    },
    {
      "cell_type": "code",
      "metadata": {
        "id": "-aqS7k0r_RBC",
        "colab": {
          "base_uri": "https://localhost:8080/",
          "height": 383
        },
        "outputId": "accbcf7c-cb54-4e15-deaf-60b855a01ff7"
      },
      "source": [
        "corr_df = titanic_df.corr()\n",
        "corr_df"
      ],
      "execution_count": null,
      "outputs": [
        {
          "output_type": "execute_result",
          "data": {
            "text/html": [
              "<div>\n",
              "<style scoped>\n",
              "    .dataframe tbody tr th:only-of-type {\n",
              "        vertical-align: middle;\n",
              "    }\n",
              "\n",
              "    .dataframe tbody tr th {\n",
              "        vertical-align: top;\n",
              "    }\n",
              "\n",
              "    .dataframe thead th {\n",
              "        text-align: right;\n",
              "    }\n",
              "</style>\n",
              "<table border=\"1\" class=\"dataframe\">\n",
              "  <thead>\n",
              "    <tr style=\"text-align: right;\">\n",
              "      <th></th>\n",
              "      <th>Survived</th>\n",
              "      <th>Fare</th>\n",
              "      <th>Age</th>\n",
              "      <th>Family</th>\n",
              "      <th>Embarked_Q</th>\n",
              "      <th>Embarked_S</th>\n",
              "      <th>Second_Cls</th>\n",
              "      <th>Third_Cls</th>\n",
              "      <th>female</th>\n",
              "      <th>male</th>\n",
              "    </tr>\n",
              "  </thead>\n",
              "  <tbody>\n",
              "    <tr>\n",
              "      <th>Survived</th>\n",
              "      <td>1.000000</td>\n",
              "      <td>0.257307</td>\n",
              "      <td>-0.049709</td>\n",
              "      <td>0.203367</td>\n",
              "      <td>0.003650</td>\n",
              "      <td>-0.149683</td>\n",
              "      <td>0.093349</td>\n",
              "      <td>-0.322308</td>\n",
              "      <td>0.516301</td>\n",
              "      <td>-0.527809</td>\n",
              "    </tr>\n",
              "    <tr>\n",
              "      <th>Fare</th>\n",
              "      <td>0.257307</td>\n",
              "      <td>1.000000</td>\n",
              "      <td>0.119330</td>\n",
              "      <td>0.271832</td>\n",
              "      <td>-0.117216</td>\n",
              "      <td>-0.162184</td>\n",
              "      <td>-0.118557</td>\n",
              "      <td>-0.413333</td>\n",
              "      <td>0.194195</td>\n",
              "      <td>-0.170792</td>\n",
              "    </tr>\n",
              "    <tr>\n",
              "      <th>Age</th>\n",
              "      <td>-0.049709</td>\n",
              "      <td>0.119330</td>\n",
              "      <td>1.000000</td>\n",
              "      <td>-0.192533</td>\n",
              "      <td>-0.079027</td>\n",
              "      <td>0.024355</td>\n",
              "      <td>0.012623</td>\n",
              "      <td>-0.334130</td>\n",
              "      <td>0.122578</td>\n",
              "      <td>0.283037</td>\n",
              "    </tr>\n",
              "    <tr>\n",
              "      <th>Family</th>\n",
              "      <td>0.203367</td>\n",
              "      <td>0.271832</td>\n",
              "      <td>-0.192533</td>\n",
              "      <td>1.000000</td>\n",
              "      <td>-0.086464</td>\n",
              "      <td>-0.029074</td>\n",
              "      <td>0.039070</td>\n",
              "      <td>-0.129472</td>\n",
              "      <td>0.187382</td>\n",
              "      <td>-0.412863</td>\n",
              "    </tr>\n",
              "    <tr>\n",
              "      <th>Embarked_Q</th>\n",
              "      <td>0.003650</td>\n",
              "      <td>-0.117216</td>\n",
              "      <td>-0.079027</td>\n",
              "      <td>-0.086464</td>\n",
              "      <td>1.000000</td>\n",
              "      <td>-0.499421</td>\n",
              "      <td>-0.127301</td>\n",
              "      <td>0.237449</td>\n",
              "      <td>0.093395</td>\n",
              "      <td>-0.070970</td>\n",
              "    </tr>\n",
              "    <tr>\n",
              "      <th>Embarked_S</th>\n",
              "      <td>-0.149683</td>\n",
              "      <td>-0.162184</td>\n",
              "      <td>0.024355</td>\n",
              "      <td>-0.029074</td>\n",
              "      <td>-0.499421</td>\n",
              "      <td>1.000000</td>\n",
              "      <td>0.189980</td>\n",
              "      <td>-0.015104</td>\n",
              "      <td>-0.109508</td>\n",
              "      <td>0.104122</td>\n",
              "    </tr>\n",
              "    <tr>\n",
              "      <th>Second_Cls</th>\n",
              "      <td>0.093349</td>\n",
              "      <td>-0.118557</td>\n",
              "      <td>0.012623</td>\n",
              "      <td>0.039070</td>\n",
              "      <td>-0.127301</td>\n",
              "      <td>0.189980</td>\n",
              "      <td>1.000000</td>\n",
              "      <td>-0.565210</td>\n",
              "      <td>0.076410</td>\n",
              "      <td>-0.056043</td>\n",
              "    </tr>\n",
              "    <tr>\n",
              "      <th>Third_Cls</th>\n",
              "      <td>-0.322308</td>\n",
              "      <td>-0.413333</td>\n",
              "      <td>-0.334130</td>\n",
              "      <td>-0.129472</td>\n",
              "      <td>0.237449</td>\n",
              "      <td>-0.015104</td>\n",
              "      <td>-0.565210</td>\n",
              "      <td>1.000000</td>\n",
              "      <td>-0.197413</td>\n",
              "      <td>0.075688</td>\n",
              "    </tr>\n",
              "    <tr>\n",
              "      <th>female</th>\n",
              "      <td>0.516301</td>\n",
              "      <td>0.194195</td>\n",
              "      <td>0.122578</td>\n",
              "      <td>0.187382</td>\n",
              "      <td>0.093395</td>\n",
              "      <td>-0.109508</td>\n",
              "      <td>0.076410</td>\n",
              "      <td>-0.197413</td>\n",
              "      <td>1.000000</td>\n",
              "      <td>-0.754400</td>\n",
              "    </tr>\n",
              "    <tr>\n",
              "      <th>male</th>\n",
              "      <td>-0.527809</td>\n",
              "      <td>-0.170792</td>\n",
              "      <td>0.283037</td>\n",
              "      <td>-0.412863</td>\n",
              "      <td>-0.070970</td>\n",
              "      <td>0.104122</td>\n",
              "      <td>-0.056043</td>\n",
              "      <td>0.075688</td>\n",
              "      <td>-0.754400</td>\n",
              "      <td>1.000000</td>\n",
              "    </tr>\n",
              "  </tbody>\n",
              "</table>\n",
              "</div>"
            ],
            "text/plain": [
              "            Survived      Fare       Age  ...  Third_Cls    female      male\n",
              "Survived    1.000000  0.257307 -0.049709  ...  -0.322308  0.516301 -0.527809\n",
              "Fare        0.257307  1.000000  0.119330  ...  -0.413333  0.194195 -0.170792\n",
              "Age        -0.049709  0.119330  1.000000  ...  -0.334130  0.122578  0.283037\n",
              "Family      0.203367  0.271832 -0.192533  ...  -0.129472  0.187382 -0.412863\n",
              "Embarked_Q  0.003650 -0.117216 -0.079027  ...   0.237449  0.093395 -0.070970\n",
              "Embarked_S -0.149683 -0.162184  0.024355  ...  -0.015104 -0.109508  0.104122\n",
              "Second_Cls  0.093349 -0.118557  0.012623  ...  -0.565210  0.076410 -0.056043\n",
              "Third_Cls  -0.322308 -0.413333 -0.334130  ...   1.000000 -0.197413  0.075688\n",
              "female      0.516301  0.194195  0.122578  ...  -0.197413  1.000000 -0.754400\n",
              "male       -0.527809 -0.170792  0.283037  ...   0.075688 -0.754400  1.000000\n",
              "\n",
              "[10 rows x 10 columns]"
            ]
          },
          "metadata": {
            "tags": []
          },
          "execution_count": 23
        }
      ]
    },
    {
      "cell_type": "code",
      "metadata": {
        "id": "5qnOB9IPBQIT",
        "colab": {
          "base_uri": "https://localhost:8080/",
          "height": 542
        },
        "outputId": "9f2da0bb-c6e1-426e-e013-72e9dbaf58c7"
      },
      "source": [
        "fig = go.Figure()\n",
        "fig.add_traces(go.Heatmap(\n",
        "    z=corr_df, \n",
        "    x=corr_df.columns, \n",
        "    y=corr_df.columns,\n",
        "    zmax=1, \n",
        "    zmin=-1\n",
        "))\n",
        "fig.update_layout({\n",
        "    'title':\"Features Correlation Heatmap\"\n",
        "})\n"
      ],
      "execution_count": null,
      "outputs": [
        {
          "output_type": "display_data",
          "data": {
            "text/html": [
              "<html>\n",
              "<head><meta charset=\"utf-8\" /></head>\n",
              "<body>\n",
              "    <div>\n",
              "            <script src=\"https://cdnjs.cloudflare.com/ajax/libs/mathjax/2.7.5/MathJax.js?config=TeX-AMS-MML_SVG\"></script><script type=\"text/javascript\">if (window.MathJax) {MathJax.Hub.Config({SVG: {font: \"STIX-Web\"}});}</script>\n",
              "                <script type=\"text/javascript\">window.PlotlyConfig = {MathJaxConfig: 'local'};</script>\n",
              "        <script src=\"https://cdn.plot.ly/plotly-latest.min.js\"></script>    \n",
              "            <div id=\"d0b10562-2f0f-4574-8e54-8a10348f5d10\" class=\"plotly-graph-div\" style=\"height:525px; width:100%;\"></div>\n",
              "            <script type=\"text/javascript\">\n",
              "                \n",
              "                    window.PLOTLYENV=window.PLOTLYENV || {};\n",
              "                    \n",
              "                if (document.getElementById(\"d0b10562-2f0f-4574-8e54-8a10348f5d10\")) {\n",
              "                    Plotly.newPlot(\n",
              "                        'd0b10562-2f0f-4574-8e54-8a10348f5d10',\n",
              "                        [{\"type\": \"heatmap\", \"x\": [\"Survived\", \"Fare\", \"Age\", \"Family\", \"Embarked_Q\", \"Embarked_S\", \"Second_Cls\", \"Third_Cls\", \"female\", \"male\"], \"y\": [\"Survived\", \"Fare\", \"Age\", \"Family\", \"Embarked_Q\", \"Embarked_S\", \"Second_Cls\", \"Third_Cls\", \"female\", \"male\"], \"z\": [[1.0, 0.2573065223849618, -0.04970909265949653, 0.2033670856998897, 0.003650382683972286, -0.14968272327068607, 0.09334857241192815, -0.3223083573729687, 0.5163014124273072, -0.527809449855211], [0.2573065223849618, 1.0, 0.11933018983875573, 0.2718323581061061, -0.11721599017237648, -0.16218418797987244, -0.1185566980395822, -0.4133325422867402, 0.19419512117584342, -0.1707920680070819], [-0.04970909265949653, 0.11933018983875573, 1.0, -0.19253302206623368, -0.07902720988492386, 0.02435483222376731, 0.012622966149125697, -0.3341297805142742, 0.12257758694538008, 0.2830368301874414], [0.2033670856998897, 0.2718323581061061, -0.19253302206623368, 1.0, -0.08646366375783432, -0.029073739383859477, 0.03907003630263256, -0.12947195713433546, 0.18738155027897938, -0.41286270474273684], [0.003650382683972286, -0.11721599017237648, -0.07902720988492386, -0.08646366375783432, 1.0, -0.499420513616374, -0.12730128636474589, 0.23744875463762274, 0.09339532768304645, -0.07096989669608877], [-0.14968272327068607, -0.16218418797987244, 0.02435483222376731, -0.029073739383859477, -0.499420513616374, 1.0, 0.18998002125005914, -0.015104318105340702, -0.10950804945451167, 0.10412227480388771], [0.09334857241192815, -0.1185566980395822, 0.012622966149125697, 0.03907003630263256, -0.12730128636474589, 0.18998002125005914, 1.0, -0.5652101535538238, 0.0764095826905938, -0.05604276034046547], [-0.3223083573729687, -0.4133325422867402, -0.3341297805142742, -0.12947195713433546, 0.23744875463762274, -0.015104318105340702, -0.5652101535538238, 1.0, -0.1974126705247447, 0.07568769592609559], [0.5163014124273072, 0.19419512117584342, 0.12257758694538008, 0.18738155027897938, 0.09339532768304645, -0.10950804945451167, 0.0764095826905938, -0.1974126705247447, 1.0, -0.754400220848407], [-0.527809449855211, -0.1707920680070819, 0.2830368301874414, -0.41286270474273684, -0.07096989669608877, 0.10412227480388771, -0.05604276034046547, 0.07568769592609559, -0.754400220848407, 1.0]], \"zmax\": 1, \"zmin\": -1}],\n",
              "                        {\"template\": {\"data\": {\"bar\": [{\"error_x\": {\"color\": \"#2a3f5f\"}, \"error_y\": {\"color\": \"#2a3f5f\"}, \"marker\": {\"line\": {\"color\": \"#E5ECF6\", \"width\": 0.5}}, \"type\": \"bar\"}], \"barpolar\": [{\"marker\": {\"line\": {\"color\": \"#E5ECF6\", \"width\": 0.5}}, \"type\": \"barpolar\"}], \"carpet\": [{\"aaxis\": {\"endlinecolor\": \"#2a3f5f\", \"gridcolor\": \"white\", \"linecolor\": \"white\", \"minorgridcolor\": \"white\", \"startlinecolor\": \"#2a3f5f\"}, \"baxis\": {\"endlinecolor\": \"#2a3f5f\", \"gridcolor\": \"white\", \"linecolor\": \"white\", \"minorgridcolor\": \"white\", \"startlinecolor\": \"#2a3f5f\"}, \"type\": \"carpet\"}], \"choropleth\": [{\"colorbar\": {\"outlinewidth\": 0, \"ticks\": \"\"}, \"type\": \"choropleth\"}], \"contour\": [{\"colorbar\": {\"outlinewidth\": 0, \"ticks\": \"\"}, \"colorscale\": [[0.0, \"#0d0887\"], [0.1111111111111111, \"#46039f\"], [0.2222222222222222, \"#7201a8\"], [0.3333333333333333, \"#9c179e\"], [0.4444444444444444, \"#bd3786\"], [0.5555555555555556, \"#d8576b\"], [0.6666666666666666, \"#ed7953\"], [0.7777777777777778, \"#fb9f3a\"], [0.8888888888888888, \"#fdca26\"], [1.0, \"#f0f921\"]], \"type\": \"contour\"}], \"contourcarpet\": [{\"colorbar\": {\"outlinewidth\": 0, \"ticks\": \"\"}, \"type\": \"contourcarpet\"}], \"heatmap\": [{\"colorbar\": {\"outlinewidth\": 0, \"ticks\": \"\"}, \"colorscale\": [[0.0, \"#0d0887\"], [0.1111111111111111, \"#46039f\"], [0.2222222222222222, \"#7201a8\"], [0.3333333333333333, \"#9c179e\"], [0.4444444444444444, \"#bd3786\"], [0.5555555555555556, \"#d8576b\"], [0.6666666666666666, \"#ed7953\"], [0.7777777777777778, \"#fb9f3a\"], [0.8888888888888888, \"#fdca26\"], [1.0, \"#f0f921\"]], \"type\": \"heatmap\"}], \"heatmapgl\": [{\"colorbar\": {\"outlinewidth\": 0, \"ticks\": \"\"}, \"colorscale\": [[0.0, \"#0d0887\"], [0.1111111111111111, \"#46039f\"], [0.2222222222222222, \"#7201a8\"], [0.3333333333333333, \"#9c179e\"], [0.4444444444444444, \"#bd3786\"], [0.5555555555555556, \"#d8576b\"], [0.6666666666666666, \"#ed7953\"], [0.7777777777777778, \"#fb9f3a\"], [0.8888888888888888, \"#fdca26\"], [1.0, \"#f0f921\"]], \"type\": \"heatmapgl\"}], \"histogram\": [{\"marker\": {\"colorbar\": {\"outlinewidth\": 0, \"ticks\": \"\"}}, \"type\": \"histogram\"}], \"histogram2d\": [{\"colorbar\": {\"outlinewidth\": 0, \"ticks\": \"\"}, \"colorscale\": [[0.0, \"#0d0887\"], [0.1111111111111111, \"#46039f\"], [0.2222222222222222, \"#7201a8\"], [0.3333333333333333, \"#9c179e\"], [0.4444444444444444, \"#bd3786\"], [0.5555555555555556, \"#d8576b\"], [0.6666666666666666, \"#ed7953\"], [0.7777777777777778, \"#fb9f3a\"], [0.8888888888888888, \"#fdca26\"], [1.0, \"#f0f921\"]], \"type\": \"histogram2d\"}], \"histogram2dcontour\": [{\"colorbar\": {\"outlinewidth\": 0, \"ticks\": \"\"}, \"colorscale\": [[0.0, \"#0d0887\"], [0.1111111111111111, \"#46039f\"], [0.2222222222222222, \"#7201a8\"], [0.3333333333333333, \"#9c179e\"], [0.4444444444444444, \"#bd3786\"], [0.5555555555555556, \"#d8576b\"], [0.6666666666666666, \"#ed7953\"], [0.7777777777777778, \"#fb9f3a\"], [0.8888888888888888, \"#fdca26\"], [1.0, \"#f0f921\"]], \"type\": \"histogram2dcontour\"}], \"mesh3d\": [{\"colorbar\": {\"outlinewidth\": 0, \"ticks\": \"\"}, \"type\": \"mesh3d\"}], \"parcoords\": [{\"line\": {\"colorbar\": {\"outlinewidth\": 0, \"ticks\": \"\"}}, \"type\": \"parcoords\"}], \"pie\": [{\"automargin\": true, \"type\": \"pie\"}], \"scatter\": [{\"marker\": {\"colorbar\": {\"outlinewidth\": 0, \"ticks\": \"\"}}, \"type\": \"scatter\"}], \"scatter3d\": [{\"line\": {\"colorbar\": {\"outlinewidth\": 0, \"ticks\": \"\"}}, \"marker\": {\"colorbar\": {\"outlinewidth\": 0, \"ticks\": \"\"}}, \"type\": \"scatter3d\"}], \"scattercarpet\": [{\"marker\": {\"colorbar\": {\"outlinewidth\": 0, \"ticks\": \"\"}}, \"type\": \"scattercarpet\"}], \"scattergeo\": [{\"marker\": {\"colorbar\": {\"outlinewidth\": 0, \"ticks\": \"\"}}, \"type\": \"scattergeo\"}], \"scattergl\": [{\"marker\": {\"colorbar\": {\"outlinewidth\": 0, \"ticks\": \"\"}}, \"type\": \"scattergl\"}], \"scattermapbox\": [{\"marker\": {\"colorbar\": {\"outlinewidth\": 0, \"ticks\": \"\"}}, \"type\": \"scattermapbox\"}], \"scatterpolar\": [{\"marker\": {\"colorbar\": {\"outlinewidth\": 0, \"ticks\": \"\"}}, \"type\": \"scatterpolar\"}], \"scatterpolargl\": [{\"marker\": {\"colorbar\": {\"outlinewidth\": 0, \"ticks\": \"\"}}, \"type\": \"scatterpolargl\"}], \"scatterternary\": [{\"marker\": {\"colorbar\": {\"outlinewidth\": 0, \"ticks\": \"\"}}, \"type\": \"scatterternary\"}], \"surface\": [{\"colorbar\": {\"outlinewidth\": 0, \"ticks\": \"\"}, \"colorscale\": [[0.0, \"#0d0887\"], [0.1111111111111111, \"#46039f\"], [0.2222222222222222, \"#7201a8\"], [0.3333333333333333, \"#9c179e\"], [0.4444444444444444, \"#bd3786\"], [0.5555555555555556, \"#d8576b\"], [0.6666666666666666, \"#ed7953\"], [0.7777777777777778, \"#fb9f3a\"], [0.8888888888888888, \"#fdca26\"], [1.0, \"#f0f921\"]], \"type\": \"surface\"}], \"table\": [{\"cells\": {\"fill\": {\"color\": \"#EBF0F8\"}, \"line\": {\"color\": \"white\"}}, \"header\": {\"fill\": {\"color\": \"#C8D4E3\"}, \"line\": {\"color\": \"white\"}}, \"type\": \"table\"}]}, \"layout\": {\"annotationdefaults\": {\"arrowcolor\": \"#2a3f5f\", \"arrowhead\": 0, \"arrowwidth\": 1}, \"coloraxis\": {\"colorbar\": {\"outlinewidth\": 0, \"ticks\": \"\"}}, \"colorscale\": {\"diverging\": [[0, \"#8e0152\"], [0.1, \"#c51b7d\"], [0.2, \"#de77ae\"], [0.3, \"#f1b6da\"], [0.4, \"#fde0ef\"], [0.5, \"#f7f7f7\"], [0.6, \"#e6f5d0\"], [0.7, \"#b8e186\"], [0.8, \"#7fbc41\"], [0.9, \"#4d9221\"], [1, \"#276419\"]], \"sequential\": [[0.0, \"#0d0887\"], [0.1111111111111111, \"#46039f\"], [0.2222222222222222, \"#7201a8\"], [0.3333333333333333, \"#9c179e\"], [0.4444444444444444, \"#bd3786\"], [0.5555555555555556, \"#d8576b\"], [0.6666666666666666, \"#ed7953\"], [0.7777777777777778, \"#fb9f3a\"], [0.8888888888888888, \"#fdca26\"], [1.0, \"#f0f921\"]], \"sequentialminus\": [[0.0, \"#0d0887\"], [0.1111111111111111, \"#46039f\"], [0.2222222222222222, \"#7201a8\"], [0.3333333333333333, \"#9c179e\"], [0.4444444444444444, \"#bd3786\"], [0.5555555555555556, \"#d8576b\"], [0.6666666666666666, \"#ed7953\"], [0.7777777777777778, \"#fb9f3a\"], [0.8888888888888888, \"#fdca26\"], [1.0, \"#f0f921\"]]}, \"colorway\": [\"#636efa\", \"#EF553B\", \"#00cc96\", \"#ab63fa\", \"#FFA15A\", \"#19d3f3\", \"#FF6692\", \"#B6E880\", \"#FF97FF\", \"#FECB52\"], \"font\": {\"color\": \"#2a3f5f\"}, \"geo\": {\"bgcolor\": \"white\", \"lakecolor\": \"white\", \"landcolor\": \"#E5ECF6\", \"showlakes\": true, \"showland\": true, \"subunitcolor\": \"white\"}, \"hoverlabel\": {\"align\": \"left\"}, \"hovermode\": \"closest\", \"mapbox\": {\"style\": \"light\"}, \"paper_bgcolor\": \"white\", \"plot_bgcolor\": \"#E5ECF6\", \"polar\": {\"angularaxis\": {\"gridcolor\": \"white\", \"linecolor\": \"white\", \"ticks\": \"\"}, \"bgcolor\": \"#E5ECF6\", \"radialaxis\": {\"gridcolor\": \"white\", \"linecolor\": \"white\", \"ticks\": \"\"}}, \"scene\": {\"xaxis\": {\"backgroundcolor\": \"#E5ECF6\", \"gridcolor\": \"white\", \"gridwidth\": 2, \"linecolor\": \"white\", \"showbackground\": true, \"ticks\": \"\", \"zerolinecolor\": \"white\"}, \"yaxis\": {\"backgroundcolor\": \"#E5ECF6\", \"gridcolor\": \"white\", \"gridwidth\": 2, \"linecolor\": \"white\", \"showbackground\": true, \"ticks\": \"\", \"zerolinecolor\": \"white\"}, \"zaxis\": {\"backgroundcolor\": \"#E5ECF6\", \"gridcolor\": \"white\", \"gridwidth\": 2, \"linecolor\": \"white\", \"showbackground\": true, \"ticks\": \"\", \"zerolinecolor\": \"white\"}}, \"shapedefaults\": {\"line\": {\"color\": \"#2a3f5f\"}}, \"ternary\": {\"aaxis\": {\"gridcolor\": \"white\", \"linecolor\": \"white\", \"ticks\": \"\"}, \"baxis\": {\"gridcolor\": \"white\", \"linecolor\": \"white\", \"ticks\": \"\"}, \"bgcolor\": \"#E5ECF6\", \"caxis\": {\"gridcolor\": \"white\", \"linecolor\": \"white\", \"ticks\": \"\"}}, \"title\": {\"x\": 0.05}, \"xaxis\": {\"automargin\": true, \"gridcolor\": \"white\", \"linecolor\": \"white\", \"ticks\": \"\", \"title\": {\"standoff\": 15}, \"zerolinecolor\": \"white\", \"zerolinewidth\": 2}, \"yaxis\": {\"automargin\": true, \"gridcolor\": \"white\", \"linecolor\": \"white\", \"ticks\": \"\", \"title\": {\"standoff\": 15}, \"zerolinecolor\": \"white\", \"zerolinewidth\": 2}}}, \"title\": {\"text\": \"Features Correlation Heatmap\"}},\n",
              "                        {\"responsive\": true}\n",
              "                    ).then(function(){\n",
              "                            \n",
              "var gd = document.getElementById('d0b10562-2f0f-4574-8e54-8a10348f5d10');\n",
              "var x = new MutationObserver(function (mutations, observer) {{\n",
              "        var display = window.getComputedStyle(gd).display;\n",
              "        if (!display || display === 'none') {{\n",
              "            console.log([gd, 'removed!']);\n",
              "            Plotly.purge(gd);\n",
              "            observer.disconnect();\n",
              "        }}\n",
              "}});\n",
              "\n",
              "// Listen for the removal of the full notebook cells\n",
              "var notebookContainer = gd.closest('#notebook-container');\n",
              "if (notebookContainer) {{\n",
              "    x.observe(notebookContainer, {childList: true});\n",
              "}}\n",
              "\n",
              "// Listen for the clearing of the current output cell\n",
              "var outputEl = gd.closest('.output');\n",
              "if (outputEl) {{\n",
              "    x.observe(outputEl, {childList: true});\n",
              "}}\n",
              "\n",
              "                        })\n",
              "                };\n",
              "                \n",
              "            </script>\n",
              "        </div>\n",
              "</body>\n",
              "</html>"
            ]
          },
          "metadata": {
            "tags": []
          }
        }
      ]
    },
    {
      "cell_type": "markdown",
      "metadata": {
        "id": "XOBDGN-HDYB3"
      },
      "source": [
        "#Building a Logistic Regression model\n",
        "\n"
      ]
    },
    {
      "cell_type": "markdown",
      "metadata": {
        "id": "pXqPxfH7FWYS"
      },
      "source": [
        "##Scale the data"
      ]
    },
    {
      "cell_type": "code",
      "metadata": {
        "id": "b80oPRU8FYph",
        "colab": {
          "base_uri": "https://localhost:8080/",
          "height": 206
        },
        "outputId": "d1f6cc6c-7895-4186-f3e2-99b512345dd4"
      },
      "source": [
        "from sklearn.preprocessing import StandardScaler\n",
        "scaler = StandardScaler()\n",
        "scaled_df = pd.DataFrame(scaler.fit_transform(titanic_df[['Fare','Age']]), columns=['Fare_scaled','Age_scaled'])\n",
        "scaled_df.head()"
      ],
      "execution_count": null,
      "outputs": [
        {
          "output_type": "execute_result",
          "data": {
            "text/html": [
              "<div>\n",
              "<style scoped>\n",
              "    .dataframe tbody tr th:only-of-type {\n",
              "        vertical-align: middle;\n",
              "    }\n",
              "\n",
              "    .dataframe tbody tr th {\n",
              "        vertical-align: top;\n",
              "    }\n",
              "\n",
              "    .dataframe thead th {\n",
              "        text-align: right;\n",
              "    }\n",
              "</style>\n",
              "<table border=\"1\" class=\"dataframe\">\n",
              "  <thead>\n",
              "    <tr style=\"text-align: right;\">\n",
              "      <th></th>\n",
              "      <th>Fare_scaled</th>\n",
              "      <th>Age_scaled</th>\n",
              "    </tr>\n",
              "  </thead>\n",
              "  <tbody>\n",
              "    <tr>\n",
              "      <th>0</th>\n",
              "      <td>-0.502445</td>\n",
              "      <td>-0.527141</td>\n",
              "    </tr>\n",
              "    <tr>\n",
              "      <th>1</th>\n",
              "      <td>0.786845</td>\n",
              "      <td>0.408721</td>\n",
              "    </tr>\n",
              "    <tr>\n",
              "      <th>2</th>\n",
              "      <td>-0.488854</td>\n",
              "      <td>-0.239183</td>\n",
              "    </tr>\n",
              "    <tr>\n",
              "      <th>3</th>\n",
              "      <td>0.420730</td>\n",
              "      <td>0.408721</td>\n",
              "    </tr>\n",
              "    <tr>\n",
              "      <th>4</th>\n",
              "      <td>-0.486337</td>\n",
              "      <td>0.408721</td>\n",
              "    </tr>\n",
              "  </tbody>\n",
              "</table>\n",
              "</div>"
            ],
            "text/plain": [
              "   Fare_scaled  Age_scaled\n",
              "0    -0.502445   -0.527141\n",
              "1     0.786845    0.408721\n",
              "2    -0.488854   -0.239183\n",
              "3     0.420730    0.408721\n",
              "4    -0.486337    0.408721"
            ]
          },
          "metadata": {
            "tags": []
          },
          "execution_count": 25
        }
      ]
    },
    {
      "cell_type": "code",
      "metadata": {
        "id": "NuaB7zv7G2_B"
      },
      "source": [
        "not_scaled_df = titanic_df.drop(['Fare','Age'],axis=1)"
      ],
      "execution_count": null,
      "outputs": []
    },
    {
      "cell_type": "code",
      "metadata": {
        "id": "36e4N-vBGKiU",
        "colab": {
          "base_uri": "https://localhost:8080/",
          "height": 226
        },
        "outputId": "db48c90c-7d60-4e3b-cd2d-82f314d868f7"
      },
      "source": [
        "scaled_df = pd.merge(left=scaled_df, right=titanic_df.drop(['Fare','Age'],axis=1),left_index=True, right_index=True)\n",
        "scaled_df.head()"
      ],
      "execution_count": null,
      "outputs": [
        {
          "output_type": "execute_result",
          "data": {
            "text/html": [
              "<div>\n",
              "<style scoped>\n",
              "    .dataframe tbody tr th:only-of-type {\n",
              "        vertical-align: middle;\n",
              "    }\n",
              "\n",
              "    .dataframe tbody tr th {\n",
              "        vertical-align: top;\n",
              "    }\n",
              "\n",
              "    .dataframe thead th {\n",
              "        text-align: right;\n",
              "    }\n",
              "</style>\n",
              "<table border=\"1\" class=\"dataframe\">\n",
              "  <thead>\n",
              "    <tr style=\"text-align: right;\">\n",
              "      <th></th>\n",
              "      <th>Fare_scaled</th>\n",
              "      <th>Age_scaled</th>\n",
              "      <th>Survived</th>\n",
              "      <th>Family</th>\n",
              "      <th>Embarked_Q</th>\n",
              "      <th>Embarked_S</th>\n",
              "      <th>Second_Cls</th>\n",
              "      <th>Third_Cls</th>\n",
              "      <th>female</th>\n",
              "      <th>male</th>\n",
              "    </tr>\n",
              "  </thead>\n",
              "  <tbody>\n",
              "    <tr>\n",
              "      <th>1</th>\n",
              "      <td>0.786845</td>\n",
              "      <td>0.408721</td>\n",
              "      <td>0</td>\n",
              "      <td>1</td>\n",
              "      <td>0</td>\n",
              "      <td>1</td>\n",
              "      <td>0</td>\n",
              "      <td>1</td>\n",
              "      <td>0</td>\n",
              "      <td>1</td>\n",
              "    </tr>\n",
              "    <tr>\n",
              "      <th>2</th>\n",
              "      <td>-0.488854</td>\n",
              "      <td>-0.239183</td>\n",
              "      <td>1</td>\n",
              "      <td>1</td>\n",
              "      <td>0</td>\n",
              "      <td>0</td>\n",
              "      <td>0</td>\n",
              "      <td>0</td>\n",
              "      <td>1</td>\n",
              "      <td>0</td>\n",
              "    </tr>\n",
              "    <tr>\n",
              "      <th>3</th>\n",
              "      <td>0.420730</td>\n",
              "      <td>0.408721</td>\n",
              "      <td>1</td>\n",
              "      <td>0</td>\n",
              "      <td>0</td>\n",
              "      <td>1</td>\n",
              "      <td>0</td>\n",
              "      <td>1</td>\n",
              "      <td>1</td>\n",
              "      <td>0</td>\n",
              "    </tr>\n",
              "    <tr>\n",
              "      <th>4</th>\n",
              "      <td>-0.486337</td>\n",
              "      <td>0.408721</td>\n",
              "      <td>1</td>\n",
              "      <td>1</td>\n",
              "      <td>0</td>\n",
              "      <td>1</td>\n",
              "      <td>0</td>\n",
              "      <td>0</td>\n",
              "      <td>1</td>\n",
              "      <td>0</td>\n",
              "    </tr>\n",
              "    <tr>\n",
              "      <th>5</th>\n",
              "      <td>-0.478116</td>\n",
              "      <td>-0.527141</td>\n",
              "      <td>0</td>\n",
              "      <td>0</td>\n",
              "      <td>0</td>\n",
              "      <td>1</td>\n",
              "      <td>0</td>\n",
              "      <td>1</td>\n",
              "      <td>0</td>\n",
              "      <td>1</td>\n",
              "    </tr>\n",
              "  </tbody>\n",
              "</table>\n",
              "</div>"
            ],
            "text/plain": [
              "   Fare_scaled  Age_scaled  Survived  ...  Third_Cls  female  male\n",
              "1     0.786845    0.408721         0  ...          1       0     1\n",
              "2    -0.488854   -0.239183         1  ...          0       1     0\n",
              "3     0.420730    0.408721         1  ...          1       1     0\n",
              "4    -0.486337    0.408721         1  ...          0       1     0\n",
              "5    -0.478116   -0.527141         0  ...          1       0     1\n",
              "\n",
              "[5 rows x 10 columns]"
            ]
          },
          "metadata": {
            "tags": []
          },
          "execution_count": 27
        }
      ]
    },
    {
      "cell_type": "markdown",
      "metadata": {
        "id": "EZS0mTpuDo-Z"
      },
      "source": [
        "##Split the DF to train and set"
      ]
    },
    {
      "cell_type": "code",
      "metadata": {
        "id": "PA7ZpFGADtq1"
      },
      "source": [
        "X = scaled_df.drop('Survived', axis=1)\n",
        "y = scaled_df.Survived"
      ],
      "execution_count": null,
      "outputs": []
    },
    {
      "cell_type": "code",
      "metadata": {
        "id": "LXI2NUg7D6CG",
        "colab": {
          "base_uri": "https://localhost:8080/",
          "height": 383
        },
        "outputId": "35c6841d-7526-43a8-d29b-ab399831395b"
      },
      "source": [
        "# split the data into training and testing sets\n",
        "from sklearn.model_selection import train_test_split\n",
        "X_train, X_test, y_train, y_test = train_test_split(X, y, test_size=0.3, random_state=1234)\n",
        "train_df = pd.merge(left=X_train, right=y_train, left_index=True, right_index=True)\n",
        "test_df = pd.merge(left=X_test, right=y_test, left_index=True, right_index=True)\n",
        "train_df.head(10)\n",
        "\n"
      ],
      "execution_count": null,
      "outputs": [
        {
          "output_type": "execute_result",
          "data": {
            "text/html": [
              "<div>\n",
              "<style scoped>\n",
              "    .dataframe tbody tr th:only-of-type {\n",
              "        vertical-align: middle;\n",
              "    }\n",
              "\n",
              "    .dataframe tbody tr th {\n",
              "        vertical-align: top;\n",
              "    }\n",
              "\n",
              "    .dataframe thead th {\n",
              "        text-align: right;\n",
              "    }\n",
              "</style>\n",
              "<table border=\"1\" class=\"dataframe\">\n",
              "  <thead>\n",
              "    <tr style=\"text-align: right;\">\n",
              "      <th></th>\n",
              "      <th>Fare_scaled</th>\n",
              "      <th>Age_scaled</th>\n",
              "      <th>Family</th>\n",
              "      <th>Embarked_Q</th>\n",
              "      <th>Embarked_S</th>\n",
              "      <th>Second_Cls</th>\n",
              "      <th>Third_Cls</th>\n",
              "      <th>female</th>\n",
              "      <th>male</th>\n",
              "      <th>Survived</th>\n",
              "    </tr>\n",
              "  </thead>\n",
              "  <tbody>\n",
              "    <tr>\n",
              "      <th>29</th>\n",
              "      <td>-0.489442</td>\n",
              "      <td>-0.455151</td>\n",
              "      <td>0</td>\n",
              "      <td>1</td>\n",
              "      <td>0</td>\n",
              "      <td>0</td>\n",
              "      <td>1</td>\n",
              "      <td>1</td>\n",
              "      <td>0</td>\n",
              "      <td>1</td>\n",
              "    </tr>\n",
              "    <tr>\n",
              "      <th>367</th>\n",
              "      <td>-0.502864</td>\n",
              "      <td>0.408721</td>\n",
              "      <td>1</td>\n",
              "      <td>0</td>\n",
              "      <td>0</td>\n",
              "      <td>0</td>\n",
              "      <td>0</td>\n",
              "      <td>1</td>\n",
              "      <td>0</td>\n",
              "      <td>1</td>\n",
              "    </tr>\n",
              "    <tr>\n",
              "      <th>682</th>\n",
              "      <td>-0.462679</td>\n",
              "      <td>-0.671119</td>\n",
              "      <td>0</td>\n",
              "      <td>0</td>\n",
              "      <td>0</td>\n",
              "      <td>0</td>\n",
              "      <td>0</td>\n",
              "      <td>0</td>\n",
              "      <td>1</td>\n",
              "      <td>1</td>\n",
              "    </tr>\n",
              "    <tr>\n",
              "      <th>74</th>\n",
              "      <td>0.489104</td>\n",
              "      <td>0.192753</td>\n",
              "      <td>1</td>\n",
              "      <td>0</td>\n",
              "      <td>0</td>\n",
              "      <td>0</td>\n",
              "      <td>1</td>\n",
              "      <td>0</td>\n",
              "      <td>1</td>\n",
              "      <td>0</td>\n",
              "    </tr>\n",
              "    <tr>\n",
              "      <th>423</th>\n",
              "      <td>-0.358482</td>\n",
              "      <td>-0.095205</td>\n",
              "      <td>0</td>\n",
              "      <td>0</td>\n",
              "      <td>1</td>\n",
              "      <td>0</td>\n",
              "      <td>1</td>\n",
              "      <td>0</td>\n",
              "      <td>1</td>\n",
              "      <td>0</td>\n",
              "    </tr>\n",
              "    <tr>\n",
              "      <th>96</th>\n",
              "      <td>0.049330</td>\n",
              "      <td>3.000336</td>\n",
              "      <td>0</td>\n",
              "      <td>0</td>\n",
              "      <td>1</td>\n",
              "      <td>0</td>\n",
              "      <td>1</td>\n",
              "      <td>0</td>\n",
              "      <td>1</td>\n",
              "      <td>0</td>\n",
              "    </tr>\n",
              "    <tr>\n",
              "      <th>327</th>\n",
              "      <td>-0.386671</td>\n",
              "      <td>0.480710</td>\n",
              "      <td>0</td>\n",
              "      <td>0</td>\n",
              "      <td>1</td>\n",
              "      <td>0</td>\n",
              "      <td>1</td>\n",
              "      <td>0</td>\n",
              "      <td>1</td>\n",
              "      <td>0</td>\n",
              "    </tr>\n",
              "    <tr>\n",
              "      <th>154</th>\n",
              "      <td>-0.501187</td>\n",
              "      <td>-0.167194</td>\n",
              "      <td>1</td>\n",
              "      <td>0</td>\n",
              "      <td>1</td>\n",
              "      <td>0</td>\n",
              "      <td>1</td>\n",
              "      <td>0</td>\n",
              "      <td>1</td>\n",
              "      <td>0</td>\n",
              "    </tr>\n",
              "    <tr>\n",
              "      <th>669</th>\n",
              "      <td>0.398582</td>\n",
              "      <td>1.344582</td>\n",
              "      <td>0</td>\n",
              "      <td>0</td>\n",
              "      <td>1</td>\n",
              "      <td>0</td>\n",
              "      <td>1</td>\n",
              "      <td>0</td>\n",
              "      <td>1</td>\n",
              "      <td>0</td>\n",
              "    </tr>\n",
              "    <tr>\n",
              "      <th>439</th>\n",
              "      <td>-0.437007</td>\n",
              "      <td>0.120763</td>\n",
              "      <td>1</td>\n",
              "      <td>0</td>\n",
              "      <td>1</td>\n",
              "      <td>0</td>\n",
              "      <td>0</td>\n",
              "      <td>0</td>\n",
              "      <td>1</td>\n",
              "      <td>0</td>\n",
              "    </tr>\n",
              "  </tbody>\n",
              "</table>\n",
              "</div>"
            ],
            "text/plain": [
              "     Fare_scaled  Age_scaled  Family  ...  female  male  Survived\n",
              "29     -0.489442   -0.455151       0  ...       1     0         1\n",
              "367    -0.502864    0.408721       1  ...       1     0         1\n",
              "682    -0.462679   -0.671119       0  ...       0     1         1\n",
              "74      0.489104    0.192753       1  ...       0     1         0\n",
              "423    -0.358482   -0.095205       0  ...       0     1         0\n",
              "96      0.049330    3.000336       0  ...       0     1         0\n",
              "327    -0.386671    0.480710       0  ...       0     1         0\n",
              "154    -0.501187   -0.167194       1  ...       0     1         0\n",
              "669     0.398582    1.344582       0  ...       0     1         0\n",
              "439    -0.437007    0.120763       1  ...       0     1         0\n",
              "\n",
              "[10 rows x 10 columns]"
            ]
          },
          "metadata": {
            "tags": []
          },
          "execution_count": 29
        }
      ]
    },
    {
      "cell_type": "markdown",
      "metadata": {
        "id": "_MIv6s8YMkOQ"
      },
      "source": [
        "##Create the Logistic regression model\n",
        "\n",
        "we need to import the Logisitic regression object from sklearn"
      ]
    },
    {
      "cell_type": "code",
      "metadata": {
        "id": "0xRrjC5rEIJB"
      },
      "source": [
        "# import the model\n",
        "from sklearn.linear_model import LogisticRegression\n"
      ],
      "execution_count": null,
      "outputs": []
    },
    {
      "cell_type": "code",
      "metadata": {
        "id": "89FxmFeCNAu1",
        "colab": {
          "base_uri": "https://localhost:8080/"
        },
        "outputId": "0cf6530e-7f76-4aa2-ac65-887d26e15f9f"
      },
      "source": [
        "#create the model object and fit(train) the data\n",
        "logmodel = LogisticRegression()\n",
        "logmodel.fit(X_train,y_train)\n"
      ],
      "execution_count": null,
      "outputs": [
        {
          "output_type": "execute_result",
          "data": {
            "text/plain": [
              "LogisticRegression(C=1.0, class_weight=None, dual=False, fit_intercept=True,\n",
              "                   intercept_scaling=1, l1_ratio=None, max_iter=100,\n",
              "                   multi_class='auto', n_jobs=None, penalty='l2',\n",
              "                   random_state=None, solver='lbfgs', tol=0.0001, verbose=0,\n",
              "                   warm_start=False)"
            ]
          },
          "metadata": {
            "tags": []
          },
          "execution_count": 31
        }
      ]
    },
    {
      "cell_type": "code",
      "metadata": {
        "id": "lbklOoUANBkf"
      },
      "source": [
        "\n",
        "#get the probability and prediction\n",
        "probability = logmodel.predict_proba(X_train)\n",
        "prediction = logmodel.predict(X_train)\n"
      ],
      "execution_count": null,
      "outputs": []
    },
    {
      "cell_type": "code",
      "metadata": {
        "id": "ka99AEBlCa23",
        "colab": {
          "base_uri": "https://localhost:8080/",
          "height": 423
        },
        "outputId": "94d72de2-c731-4096-913f-cb8d08987437"
      },
      "source": [
        "\n",
        "#create a train result data frame\n",
        "\n",
        "y_train_prob_0 =pd.Series(probability[:,0], name='probability_0', index=y_train.index)\n",
        "y_train_prob_1 =pd.Series(probability[:,1], name='probability_1', index=y_train.index)\n",
        "y_train_pred = pd.Series(prediction, name='prediction', index=y_train.index)\n",
        "\n",
        "train_results = pd.DataFrame(data={'probability_0':y_train_prob_0, 'probability_1':y_train_prob_1,'prediction':y_train_pred, 'actual':y_train})\n",
        "train_results"
      ],
      "execution_count": null,
      "outputs": [
        {
          "output_type": "execute_result",
          "data": {
            "text/html": [
              "<div>\n",
              "<style scoped>\n",
              "    .dataframe tbody tr th:only-of-type {\n",
              "        vertical-align: middle;\n",
              "    }\n",
              "\n",
              "    .dataframe tbody tr th {\n",
              "        vertical-align: top;\n",
              "    }\n",
              "\n",
              "    .dataframe thead th {\n",
              "        text-align: right;\n",
              "    }\n",
              "</style>\n",
              "<table border=\"1\" class=\"dataframe\">\n",
              "  <thead>\n",
              "    <tr style=\"text-align: right;\">\n",
              "      <th></th>\n",
              "      <th>probability_0</th>\n",
              "      <th>probability_1</th>\n",
              "      <th>prediction</th>\n",
              "      <th>actual</th>\n",
              "    </tr>\n",
              "  </thead>\n",
              "  <tbody>\n",
              "    <tr>\n",
              "      <th>29</th>\n",
              "      <td>0.327743</td>\n",
              "      <td>0.672257</td>\n",
              "      <td>1</td>\n",
              "      <td>1</td>\n",
              "    </tr>\n",
              "    <tr>\n",
              "      <th>367</th>\n",
              "      <td>0.055839</td>\n",
              "      <td>0.944161</td>\n",
              "      <td>1</td>\n",
              "      <td>1</td>\n",
              "    </tr>\n",
              "    <tr>\n",
              "      <th>682</th>\n",
              "      <td>0.505686</td>\n",
              "      <td>0.494314</td>\n",
              "      <td>0</td>\n",
              "      <td>1</td>\n",
              "    </tr>\n",
              "    <tr>\n",
              "      <th>74</th>\n",
              "      <td>0.894472</td>\n",
              "      <td>0.105528</td>\n",
              "      <td>0</td>\n",
              "      <td>0</td>\n",
              "    </tr>\n",
              "    <tr>\n",
              "      <th>423</th>\n",
              "      <td>0.930680</td>\n",
              "      <td>0.069320</td>\n",
              "      <td>0</td>\n",
              "      <td>0</td>\n",
              "    </tr>\n",
              "    <tr>\n",
              "      <th>...</th>\n",
              "      <td>...</td>\n",
              "      <td>...</td>\n",
              "      <td>...</td>\n",
              "      <td>...</td>\n",
              "    </tr>\n",
              "    <tr>\n",
              "      <th>205</th>\n",
              "      <td>0.933325</td>\n",
              "      <td>0.066675</td>\n",
              "      <td>0</td>\n",
              "      <td>1</td>\n",
              "    </tr>\n",
              "    <tr>\n",
              "      <th>54</th>\n",
              "      <td>0.197557</td>\n",
              "      <td>0.802443</td>\n",
              "      <td>1</td>\n",
              "      <td>1</td>\n",
              "    </tr>\n",
              "    <tr>\n",
              "      <th>295</th>\n",
              "      <td>0.931632</td>\n",
              "      <td>0.068368</td>\n",
              "      <td>0</td>\n",
              "      <td>0</td>\n",
              "    </tr>\n",
              "    <tr>\n",
              "      <th>724</th>\n",
              "      <td>0.813470</td>\n",
              "      <td>0.186530</td>\n",
              "      <td>0</td>\n",
              "      <td>0</td>\n",
              "    </tr>\n",
              "    <tr>\n",
              "      <th>816</th>\n",
              "      <td>0.660465</td>\n",
              "      <td>0.339535</td>\n",
              "      <td>0</td>\n",
              "      <td>0</td>\n",
              "    </tr>\n",
              "  </tbody>\n",
              "</table>\n",
              "<p>623 rows × 4 columns</p>\n",
              "</div>"
            ],
            "text/plain": [
              "     probability_0  probability_1  prediction  actual\n",
              "29        0.327743       0.672257           1       1\n",
              "367       0.055839       0.944161           1       1\n",
              "682       0.505686       0.494314           0       1\n",
              "74        0.894472       0.105528           0       0\n",
              "423       0.930680       0.069320           0       0\n",
              "..             ...            ...         ...     ...\n",
              "205       0.933325       0.066675           0       1\n",
              "54        0.197557       0.802443           1       1\n",
              "295       0.931632       0.068368           0       0\n",
              "724       0.813470       0.186530           0       0\n",
              "816       0.660465       0.339535           0       0\n",
              "\n",
              "[623 rows x 4 columns]"
            ]
          },
          "metadata": {
            "tags": []
          },
          "execution_count": 33
        }
      ]
    },
    {
      "cell_type": "markdown",
      "metadata": {
        "id": "1EjT4IDKa2sO"
      },
      "source": [
        "## How good is our model in predicting the train set?\n",
        "(just to get a feeling of the results... )\n",
        "\n",
        "We'll learn a complete evaluation analysis in future labs."
      ]
    },
    {
      "cell_type": "code",
      "metadata": {
        "id": "e4HmovhfN1lE",
        "colab": {
          "base_uri": "https://localhost:8080/"
        },
        "outputId": "9ef9c343-8268-48ef-d409-1389d44a7cfa"
      },
      "source": [
        "#count the number of rows where the model predicted correctly\n",
        "\n",
        "correct_rows = train_results.loc[train_results.prediction==train_results.actual].any(axis=1).count()\n",
        "correct_rows"
      ],
      "execution_count": null,
      "outputs": [
        {
          "output_type": "execute_result",
          "data": {
            "text/plain": [
              "504"
            ]
          },
          "metadata": {
            "tags": []
          },
          "execution_count": 34
        }
      ]
    },
    {
      "cell_type": "code",
      "metadata": {
        "id": "Fwc5oVr8PXz_",
        "colab": {
          "base_uri": "https://localhost:8080/"
        },
        "outputId": "de752f0e-044a-40f3-cdbd-bfd169cb4d95"
      },
      "source": [
        "#precentage of correct predictions\n",
        "round(correct_rows/len(train_results),2)"
      ],
      "execution_count": null,
      "outputs": [
        {
          "output_type": "execute_result",
          "data": {
            "text/plain": [
              "0.81"
            ]
          },
          "metadata": {
            "tags": []
          },
          "execution_count": 35
        }
      ]
    },
    {
      "cell_type": "markdown",
      "metadata": {
        "id": "x5i3opnhbxSU"
      },
      "source": [
        "#Excercise - Test the model\n",
        "\n",
        "1. Get the probability and prediction of the test set\n",
        "2. Create a test result data frame, add the probability, prediction and actual value.\n",
        "3. Count the number of rows where the model predicted correctly and show the model precentage of correct predictions"
      ]
    },
    {
      "cell_type": "code",
      "metadata": {
        "id": "Dj5u542ycdhT"
      },
      "source": [
        "#1\n",
        "probability = logmodel.predict_proba(X_test)\n",
        "prediction = logmodel.predict(X_test) "
      ],
      "execution_count": null,
      "outputs": []
    },
    {
      "cell_type": "code",
      "metadata": {
        "id": "r_PyThYgdhgY",
        "colab": {
          "base_uri": "https://localhost:8080/",
          "height": 423
        },
        "outputId": "67432423-b71f-4d64-e768-054ea2eb6f6a"
      },
      "source": [
        "#2\n",
        "#create a test result data frame\n",
        "\n",
        "y_test_prob_0 =pd.Series(probability[:,0], name='probability_0', index=y_test.index)\n",
        "y_test_prob_1 =pd.Series(probability[:,1], name='probability_1', index=y_test.index)\n",
        "y_test_pred = pd.Series(prediction, name='prediction', index=y_test.index)\n",
        "\n",
        "test_results = pd.DataFrame(data={'probability_0':y_test_prob_0, 'probability_1':y_test_prob_1,'prediction':y_test_pred, 'actual':y_test})\n",
        "test_results"
      ],
      "execution_count": null,
      "outputs": [
        {
          "output_type": "execute_result",
          "data": {
            "text/html": [
              "<div>\n",
              "<style scoped>\n",
              "    .dataframe tbody tr th:only-of-type {\n",
              "        vertical-align: middle;\n",
              "    }\n",
              "\n",
              "    .dataframe tbody tr th {\n",
              "        vertical-align: top;\n",
              "    }\n",
              "\n",
              "    .dataframe thead th {\n",
              "        text-align: right;\n",
              "    }\n",
              "</style>\n",
              "<table border=\"1\" class=\"dataframe\">\n",
              "  <thead>\n",
              "    <tr style=\"text-align: right;\">\n",
              "      <th></th>\n",
              "      <th>probability_0</th>\n",
              "      <th>probability_1</th>\n",
              "      <th>prediction</th>\n",
              "      <th>actual</th>\n",
              "    </tr>\n",
              "  </thead>\n",
              "  <tbody>\n",
              "    <tr>\n",
              "      <th>402</th>\n",
              "      <td>0.931058</td>\n",
              "      <td>0.068942</td>\n",
              "      <td>0</td>\n",
              "      <td>0</td>\n",
              "    </tr>\n",
              "    <tr>\n",
              "      <th>323</th>\n",
              "      <td>0.132299</td>\n",
              "      <td>0.867701</td>\n",
              "      <td>1</td>\n",
              "      <td>1</td>\n",
              "    </tr>\n",
              "    <tr>\n",
              "      <th>41</th>\n",
              "      <td>0.447478</td>\n",
              "      <td>0.552522</td>\n",
              "      <td>1</td>\n",
              "      <td>0</td>\n",
              "    </tr>\n",
              "    <tr>\n",
              "      <th>865</th>\n",
              "      <td>0.799617</td>\n",
              "      <td>0.200383</td>\n",
              "      <td>0</td>\n",
              "      <td>0</td>\n",
              "    </tr>\n",
              "    <tr>\n",
              "      <th>298</th>\n",
              "      <td>0.234488</td>\n",
              "      <td>0.765512</td>\n",
              "      <td>1</td>\n",
              "      <td>0</td>\n",
              "    </tr>\n",
              "    <tr>\n",
              "      <th>...</th>\n",
              "      <td>...</td>\n",
              "      <td>...</td>\n",
              "      <td>...</td>\n",
              "      <td>...</td>\n",
              "    </tr>\n",
              "    <tr>\n",
              "      <th>447</th>\n",
              "      <td>0.396606</td>\n",
              "      <td>0.603394</td>\n",
              "      <td>1</td>\n",
              "      <td>1</td>\n",
              "    </tr>\n",
              "    <tr>\n",
              "      <th>732</th>\n",
              "      <td>0.483192</td>\n",
              "      <td>0.516808</td>\n",
              "      <td>1</td>\n",
              "      <td>0</td>\n",
              "    </tr>\n",
              "    <tr>\n",
              "      <th>390</th>\n",
              "      <td>0.114570</td>\n",
              "      <td>0.885430</td>\n",
              "      <td>1</td>\n",
              "      <td>1</td>\n",
              "    </tr>\n",
              "    <tr>\n",
              "      <th>883</th>\n",
              "      <td>0.410488</td>\n",
              "      <td>0.589512</td>\n",
              "      <td>1</td>\n",
              "      <td>0</td>\n",
              "    </tr>\n",
              "    <tr>\n",
              "      <th>64</th>\n",
              "      <td>0.674997</td>\n",
              "      <td>0.325003</td>\n",
              "      <td>0</td>\n",
              "      <td>0</td>\n",
              "    </tr>\n",
              "  </tbody>\n",
              "</table>\n",
              "<p>267 rows × 4 columns</p>\n",
              "</div>"
            ],
            "text/plain": [
              "     probability_0  probability_1  prediction  actual\n",
              "402       0.931058       0.068942           0       0\n",
              "323       0.132299       0.867701           1       1\n",
              "41        0.447478       0.552522           1       0\n",
              "865       0.799617       0.200383           0       0\n",
              "298       0.234488       0.765512           1       0\n",
              "..             ...            ...         ...     ...\n",
              "447       0.396606       0.603394           1       1\n",
              "732       0.483192       0.516808           1       0\n",
              "390       0.114570       0.885430           1       1\n",
              "883       0.410488       0.589512           1       0\n",
              "64        0.674997       0.325003           0       0\n",
              "\n",
              "[267 rows x 4 columns]"
            ]
          },
          "metadata": {
            "tags": []
          },
          "execution_count": 37
        }
      ]
    },
    {
      "cell_type": "code",
      "metadata": {
        "id": "0NUt2frMdmmC",
        "colab": {
          "base_uri": "https://localhost:8080/"
        },
        "outputId": "451ae27d-a43f-4f00-8485-5bb33dcc3302"
      },
      "source": [
        "#3\n",
        "#count the number of rows where the model predicted correctly\n",
        "\n",
        "correct_rows = test_results.loc[test_results.prediction==test_results.actual].any(axis=1).count()\n",
        "correct_rows"
      ],
      "execution_count": null,
      "outputs": [
        {
          "output_type": "execute_result",
          "data": {
            "text/plain": [
              "211"
            ]
          },
          "metadata": {
            "tags": []
          },
          "execution_count": 38
        }
      ]
    },
    {
      "cell_type": "code",
      "metadata": {
        "id": "_X92qxbaeLSC",
        "colab": {
          "base_uri": "https://localhost:8080/"
        },
        "outputId": "0cddf3d8-beb0-4ecd-e69d-66bb4630f1f8"
      },
      "source": [
        "#precentage of correct predictions\n",
        "accuracy = round(correct_rows/len(test_results),2)\n",
        "accuracy"
      ],
      "execution_count": null,
      "outputs": [
        {
          "output_type": "execute_result",
          "data": {
            "text/plain": [
              "0.79"
            ]
          },
          "metadata": {
            "tags": []
          },
          "execution_count": 39
        }
      ]
    },
    {
      "cell_type": "code",
      "metadata": {
        "id": "dUWulj4leX8h"
      },
      "source": [
        ""
      ],
      "execution_count": null,
      "outputs": []
    }
  ]
}
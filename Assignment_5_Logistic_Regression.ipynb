{
  "nbformat": 4,
  "nbformat_minor": 0,
  "metadata": {
    "colab": {
      "name": "Adam&Kfir Assignment 5 - Logistic Regression.ipynb",
      "provenance": [],
      "collapsed_sections": [],
      "toc_visible": true
    },
    "kernelspec": {
      "name": "python3",
      "display_name": "Python 3"
    }
  },
  "cells": [
    {
      "cell_type": "code",
      "metadata": {
        "id": "Kq23T99g4bvW",
        "cellView": "form"
      },
      "source": [
        "#@title ## Big Data Lab  - Assignment 5  - Logistic Regression\n",
        "#@markdown ### Instructions\n",
        "#@markdown 1. The purpose of this assignment is to cover the built and use of a Logistic regression model.  \n",
        "#@markdown  \n",
        "#@markdown 2. You can choose to complete the assignment on your own or to colaborate with a partner. You are welcome to discuss your work with your fellow students but to maintain a healthy learning process - please keep all final answers to yourself! \n",
        "#@markdown 3. Complete the answers in the empty cells - Feel free to add as many extra cell as you require.\n",
        "#@markdown 4. Fill in your name and select the Year and Department.\n",
        "#@markdown 5. When done - Download the colab notebook by going to 'File -> Download .ipynb' and submit the file in the course's moodle page before the due date. \n",
        " \n",
        "#@markdown ---\n",
        "#@markdown ### Enter your information:\n",
        "Student1_Full_Name = \"\" #@param {type:\"string\"}\n",
        "Student2_Full_Name = \"\" #@param {type:\"string\"}\n",
        "Depatment = \"Computer Science\" #@param [\"Select\",\"Computer Science\", \"Industrial Engineering\", \"Economics and Management\"]\n",
        "Year = \"Second\" #@param [\"Select\",\"Second\", \"Third\", \"Fourth\"]\n",
        "\n",
        "#@markdown ---\n"
      ],
      "execution_count": null,
      "outputs": []
    },
    {
      "cell_type": "markdown",
      "metadata": {
        "id": "0j-4JCcNAZpj"
      },
      "source": [
        "## <font color=RoyalBlue>Introduction<font>\n",
        "\n",
        "World Health Organization has  estimated 12 million deaths occur worldwide, every year due to Heart diseases. Half the deaths in the United States and other developed countries are due to cardio vascular diseases. The early prognosis of cardiovascular diseases can aid in making decisions on lifestyle changes in high risk patients and in turn reduce the complications. This research intends to pinpoint the most relevant/risk factors of heart disease as well as predict the overall risk using logistic regression.\n"
      ]
    },
    {
      "cell_type": "markdown",
      "metadata": {
        "id": "4I5oydnL4tYr"
      },
      "source": [
        "\n",
        "1. Import the necessary libraries"
      ]
    },
    {
      "cell_type": "code",
      "metadata": {
        "id": "SB3GTVsP5W-6"
      },
      "source": [
        "import pandas as pd\n",
        "import numpy as np\n",
        "import seaborn as sns\n",
        "import matplotlib.pyplot as plt  \n",
        "import plotly.graph_objects as go\n",
        "import pandas.testing"
      ],
      "execution_count": null,
      "outputs": []
    },
    {
      "cell_type": "markdown",
      "metadata": {
        "id": "2qGKChsZFx2W"
      },
      "source": [
        "## <font color=RoyalBlue>Data Preparation<font>\n",
        "\n",
        "### <font color=CornflowerBlue>Source:<font>\n",
        "\n",
        "The dataset is publically available on the Kaggle website, and it is from an ongoing ongoing cardiovascular study on residents of the town of Framingham, Massachusetts.  The classification goal is to predict whether the patient has 10-year risk of future coronary heart disease (CHD).The dataset provides the patients’ information. It includes over 4,000 records and 15 attributes."
      ]
    },
    {
      "cell_type": "markdown",
      "metadata": {
        "id": "Rc_795F15cOH"
      },
      "source": [
        "2. Create a dataframe from the following link. Name it \"heart_df\".\n",
        ">'https://raw.githubusercontent.com/Turgibot/BigData/master/DataSets/heart_d.csv'"
      ]
    },
    {
      "cell_type": "code",
      "metadata": {
        "id": "to6ZJuagdbv0",
        "colab": {
          "base_uri": "https://localhost:8080/",
          "height": 419
        },
        "outputId": "691307fc-f01b-4962-eff6-178f09ae77d6"
      },
      "source": [
        "heart_df=pd.read_csv(\"https://raw.githubusercontent.com/Turgibot/BigData/master/DataSets/heart_d.csv\")\n",
        "heart_df"
      ],
      "execution_count": null,
      "outputs": [
        {
          "output_type": "execute_result",
          "data": {
            "text/html": [
              "<div>\n",
              "<style scoped>\n",
              "    .dataframe tbody tr th:only-of-type {\n",
              "        vertical-align: middle;\n",
              "    }\n",
              "\n",
              "    .dataframe tbody tr th {\n",
              "        vertical-align: top;\n",
              "    }\n",
              "\n",
              "    .dataframe thead th {\n",
              "        text-align: right;\n",
              "    }\n",
              "</style>\n",
              "<table border=\"1\" class=\"dataframe\">\n",
              "  <thead>\n",
              "    <tr style=\"text-align: right;\">\n",
              "      <th></th>\n",
              "      <th>male</th>\n",
              "      <th>age</th>\n",
              "      <th>education</th>\n",
              "      <th>currentSmoker</th>\n",
              "      <th>cigsPerDay</th>\n",
              "      <th>BPMeds</th>\n",
              "      <th>prevalentStroke</th>\n",
              "      <th>prevalentHyp</th>\n",
              "      <th>diabetes</th>\n",
              "      <th>totChol</th>\n",
              "      <th>sysBP</th>\n",
              "      <th>diaBP</th>\n",
              "      <th>BMI</th>\n",
              "      <th>heartRate</th>\n",
              "      <th>glucose</th>\n",
              "      <th>TenYearCHD</th>\n",
              "    </tr>\n",
              "  </thead>\n",
              "  <tbody>\n",
              "    <tr>\n",
              "      <th>0</th>\n",
              "      <td>1</td>\n",
              "      <td>39</td>\n",
              "      <td>4.0</td>\n",
              "      <td>0</td>\n",
              "      <td>0.0</td>\n",
              "      <td>0.0</td>\n",
              "      <td>0</td>\n",
              "      <td>0</td>\n",
              "      <td>0</td>\n",
              "      <td>195.0</td>\n",
              "      <td>106.0</td>\n",
              "      <td>70.0</td>\n",
              "      <td>26.97</td>\n",
              "      <td>80.0</td>\n",
              "      <td>77.0</td>\n",
              "      <td>0</td>\n",
              "    </tr>\n",
              "    <tr>\n",
              "      <th>1</th>\n",
              "      <td>0</td>\n",
              "      <td>46</td>\n",
              "      <td>2.0</td>\n",
              "      <td>0</td>\n",
              "      <td>0.0</td>\n",
              "      <td>0.0</td>\n",
              "      <td>0</td>\n",
              "      <td>0</td>\n",
              "      <td>0</td>\n",
              "      <td>250.0</td>\n",
              "      <td>121.0</td>\n",
              "      <td>81.0</td>\n",
              "      <td>28.73</td>\n",
              "      <td>95.0</td>\n",
              "      <td>76.0</td>\n",
              "      <td>0</td>\n",
              "    </tr>\n",
              "    <tr>\n",
              "      <th>2</th>\n",
              "      <td>1</td>\n",
              "      <td>48</td>\n",
              "      <td>1.0</td>\n",
              "      <td>1</td>\n",
              "      <td>20.0</td>\n",
              "      <td>0.0</td>\n",
              "      <td>0</td>\n",
              "      <td>0</td>\n",
              "      <td>0</td>\n",
              "      <td>245.0</td>\n",
              "      <td>127.5</td>\n",
              "      <td>80.0</td>\n",
              "      <td>25.34</td>\n",
              "      <td>75.0</td>\n",
              "      <td>70.0</td>\n",
              "      <td>0</td>\n",
              "    </tr>\n",
              "    <tr>\n",
              "      <th>3</th>\n",
              "      <td>0</td>\n",
              "      <td>61</td>\n",
              "      <td>3.0</td>\n",
              "      <td>1</td>\n",
              "      <td>30.0</td>\n",
              "      <td>0.0</td>\n",
              "      <td>0</td>\n",
              "      <td>1</td>\n",
              "      <td>0</td>\n",
              "      <td>225.0</td>\n",
              "      <td>150.0</td>\n",
              "      <td>95.0</td>\n",
              "      <td>28.58</td>\n",
              "      <td>65.0</td>\n",
              "      <td>103.0</td>\n",
              "      <td>1</td>\n",
              "    </tr>\n",
              "    <tr>\n",
              "      <th>4</th>\n",
              "      <td>0</td>\n",
              "      <td>46</td>\n",
              "      <td>3.0</td>\n",
              "      <td>1</td>\n",
              "      <td>23.0</td>\n",
              "      <td>0.0</td>\n",
              "      <td>0</td>\n",
              "      <td>0</td>\n",
              "      <td>0</td>\n",
              "      <td>285.0</td>\n",
              "      <td>130.0</td>\n",
              "      <td>84.0</td>\n",
              "      <td>23.10</td>\n",
              "      <td>85.0</td>\n",
              "      <td>85.0</td>\n",
              "      <td>0</td>\n",
              "    </tr>\n",
              "    <tr>\n",
              "      <th>...</th>\n",
              "      <td>...</td>\n",
              "      <td>...</td>\n",
              "      <td>...</td>\n",
              "      <td>...</td>\n",
              "      <td>...</td>\n",
              "      <td>...</td>\n",
              "      <td>...</td>\n",
              "      <td>...</td>\n",
              "      <td>...</td>\n",
              "      <td>...</td>\n",
              "      <td>...</td>\n",
              "      <td>...</td>\n",
              "      <td>...</td>\n",
              "      <td>...</td>\n",
              "      <td>...</td>\n",
              "      <td>...</td>\n",
              "    </tr>\n",
              "    <tr>\n",
              "      <th>4235</th>\n",
              "      <td>0</td>\n",
              "      <td>48</td>\n",
              "      <td>2.0</td>\n",
              "      <td>1</td>\n",
              "      <td>20.0</td>\n",
              "      <td>NaN</td>\n",
              "      <td>0</td>\n",
              "      <td>0</td>\n",
              "      <td>0</td>\n",
              "      <td>248.0</td>\n",
              "      <td>131.0</td>\n",
              "      <td>72.0</td>\n",
              "      <td>22.00</td>\n",
              "      <td>84.0</td>\n",
              "      <td>86.0</td>\n",
              "      <td>0</td>\n",
              "    </tr>\n",
              "    <tr>\n",
              "      <th>4236</th>\n",
              "      <td>0</td>\n",
              "      <td>44</td>\n",
              "      <td>1.0</td>\n",
              "      <td>1</td>\n",
              "      <td>15.0</td>\n",
              "      <td>0.0</td>\n",
              "      <td>0</td>\n",
              "      <td>0</td>\n",
              "      <td>0</td>\n",
              "      <td>210.0</td>\n",
              "      <td>126.5</td>\n",
              "      <td>87.0</td>\n",
              "      <td>19.16</td>\n",
              "      <td>86.0</td>\n",
              "      <td>NaN</td>\n",
              "      <td>0</td>\n",
              "    </tr>\n",
              "    <tr>\n",
              "      <th>4237</th>\n",
              "      <td>0</td>\n",
              "      <td>52</td>\n",
              "      <td>2.0</td>\n",
              "      <td>0</td>\n",
              "      <td>0.0</td>\n",
              "      <td>0.0</td>\n",
              "      <td>0</td>\n",
              "      <td>0</td>\n",
              "      <td>0</td>\n",
              "      <td>269.0</td>\n",
              "      <td>133.5</td>\n",
              "      <td>83.0</td>\n",
              "      <td>21.47</td>\n",
              "      <td>80.0</td>\n",
              "      <td>107.0</td>\n",
              "      <td>0</td>\n",
              "    </tr>\n",
              "    <tr>\n",
              "      <th>4238</th>\n",
              "      <td>1</td>\n",
              "      <td>40</td>\n",
              "      <td>3.0</td>\n",
              "      <td>0</td>\n",
              "      <td>0.0</td>\n",
              "      <td>0.0</td>\n",
              "      <td>0</td>\n",
              "      <td>1</td>\n",
              "      <td>0</td>\n",
              "      <td>185.0</td>\n",
              "      <td>141.0</td>\n",
              "      <td>98.0</td>\n",
              "      <td>25.60</td>\n",
              "      <td>67.0</td>\n",
              "      <td>72.0</td>\n",
              "      <td>0</td>\n",
              "    </tr>\n",
              "    <tr>\n",
              "      <th>4239</th>\n",
              "      <td>0</td>\n",
              "      <td>39</td>\n",
              "      <td>3.0</td>\n",
              "      <td>1</td>\n",
              "      <td>30.0</td>\n",
              "      <td>0.0</td>\n",
              "      <td>0</td>\n",
              "      <td>0</td>\n",
              "      <td>0</td>\n",
              "      <td>196.0</td>\n",
              "      <td>133.0</td>\n",
              "      <td>86.0</td>\n",
              "      <td>20.91</td>\n",
              "      <td>85.0</td>\n",
              "      <td>80.0</td>\n",
              "      <td>0</td>\n",
              "    </tr>\n",
              "  </tbody>\n",
              "</table>\n",
              "<p>4240 rows × 16 columns</p>\n",
              "</div>"
            ],
            "text/plain": [
              "      male  age  education  ...  heartRate  glucose  TenYearCHD\n",
              "0        1   39        4.0  ...       80.0     77.0           0\n",
              "1        0   46        2.0  ...       95.0     76.0           0\n",
              "2        1   48        1.0  ...       75.0     70.0           0\n",
              "3        0   61        3.0  ...       65.0    103.0           1\n",
              "4        0   46        3.0  ...       85.0     85.0           0\n",
              "...    ...  ...        ...  ...        ...      ...         ...\n",
              "4235     0   48        2.0  ...       84.0     86.0           0\n",
              "4236     0   44        1.0  ...       86.0      NaN           0\n",
              "4237     0   52        2.0  ...       80.0    107.0           0\n",
              "4238     1   40        3.0  ...       67.0     72.0           0\n",
              "4239     0   39        3.0  ...       85.0     80.0           0\n",
              "\n",
              "[4240 rows x 16 columns]"
            ]
          },
          "metadata": {
            "tags": []
          },
          "execution_count": 3
        }
      ]
    },
    {
      "cell_type": "markdown",
      "metadata": {
        "id": "jZamSdTTIzr8"
      },
      "source": [
        "><h3>DataSet Information:</h3>\t\t\t\t\t\t\n",
        "\tEach attribute is a potential risk factor. There are both demographic, behavioural and medical risk factors.\n",
        "\n",
        " - **<font color=SteelBlue>Demographic:<font>**\n",
        "sex: male or female;(Nominal)\n",
        "\n",
        "    -  age: age of the patient;(Continuous - Although the recorded ages have been truncated to whole numbers, the concept of age is continuous)\n",
        "\n",
        "\n",
        " - **<font color=SteelBlue>Behavioural<font>**\n",
        "\n",
        "    -  currentSmoker: whether or not the patient is a current smoker (Nominal)\n",
        "\n",
        "    -  cigsPerDay: the number of cigarettes that the person smoked on average in one day.(can be considered continuous as one can have any number of cigarretts, even half a cigarette.)\n",
        "\n",
        " - **<font color=SteelBlue>Medical( history):<font>**\n",
        "\n",
        "    -  BPMeds: whether or not the patient was on blood pressure medication (Nominal)\n",
        "\n",
        "    -  prevalentStroke: whether or not the patient had previously had a stroke (Nominal)\n",
        "\n",
        "    -  prevalentHyp: whether or not the patient was hypertensive (Nominal)\n",
        "\n",
        "    -  diabetes: whether or not the patient had diabetes (Nominal)\n",
        "\n",
        " - **<font color=SteelBlue>Medical(current):<font>** \n",
        "\n",
        "    -  totChol: total cholesterol level (Continuous)\n",
        "\n",
        "    -  sysBP: systolic blood pressure (Continuous)\n",
        "\n",
        "    -  diaBP: diastolic blood pressure (Continuous)\n",
        "\n",
        "    -  BMI: Body Mass Index (Continuous)\n",
        "\n",
        "    -  heartRate: heart rate (Continuous - In medical research, variables such as heart rate though in fact discrete, yet are considered continuous because of large number of possible values.)\n",
        "\n",
        "    -  glucose: glucose level (Continuous)\n",
        "\n",
        "\n",
        " - **<font color=SteelBlue>Predict variable (desired target):<font>**\n",
        "\n",
        "    -  10 year risk of coronary heart disease CHD (binary: “1”, means “Yes”, “0” means “No”)\n"
      ]
    },
    {
      "cell_type": "markdown",
      "metadata": {
        "id": "lVuojjZ25vyG"
      },
      "source": [
        "3. Print the head and info of the dataframe"
      ]
    },
    {
      "cell_type": "code",
      "metadata": {
        "id": "WCp73PctDKUJ",
        "colab": {
          "base_uri": "https://localhost:8080/",
          "height": 204
        },
        "outputId": "a8c0bef4-179e-4748-bc6e-505b4192dc93"
      },
      "source": [
        "heart_df.head()"
      ],
      "execution_count": null,
      "outputs": [
        {
          "output_type": "execute_result",
          "data": {
            "text/html": [
              "<div>\n",
              "<style scoped>\n",
              "    .dataframe tbody tr th:only-of-type {\n",
              "        vertical-align: middle;\n",
              "    }\n",
              "\n",
              "    .dataframe tbody tr th {\n",
              "        vertical-align: top;\n",
              "    }\n",
              "\n",
              "    .dataframe thead th {\n",
              "        text-align: right;\n",
              "    }\n",
              "</style>\n",
              "<table border=\"1\" class=\"dataframe\">\n",
              "  <thead>\n",
              "    <tr style=\"text-align: right;\">\n",
              "      <th></th>\n",
              "      <th>male</th>\n",
              "      <th>age</th>\n",
              "      <th>education</th>\n",
              "      <th>currentSmoker</th>\n",
              "      <th>cigsPerDay</th>\n",
              "      <th>BPMeds</th>\n",
              "      <th>prevalentStroke</th>\n",
              "      <th>prevalentHyp</th>\n",
              "      <th>diabetes</th>\n",
              "      <th>totChol</th>\n",
              "      <th>sysBP</th>\n",
              "      <th>diaBP</th>\n",
              "      <th>BMI</th>\n",
              "      <th>heartRate</th>\n",
              "      <th>glucose</th>\n",
              "      <th>TenYearCHD</th>\n",
              "    </tr>\n",
              "  </thead>\n",
              "  <tbody>\n",
              "    <tr>\n",
              "      <th>0</th>\n",
              "      <td>1</td>\n",
              "      <td>39</td>\n",
              "      <td>4.0</td>\n",
              "      <td>0</td>\n",
              "      <td>0.0</td>\n",
              "      <td>0.0</td>\n",
              "      <td>0</td>\n",
              "      <td>0</td>\n",
              "      <td>0</td>\n",
              "      <td>195.0</td>\n",
              "      <td>106.0</td>\n",
              "      <td>70.0</td>\n",
              "      <td>26.97</td>\n",
              "      <td>80.0</td>\n",
              "      <td>77.0</td>\n",
              "      <td>0</td>\n",
              "    </tr>\n",
              "    <tr>\n",
              "      <th>1</th>\n",
              "      <td>0</td>\n",
              "      <td>46</td>\n",
              "      <td>2.0</td>\n",
              "      <td>0</td>\n",
              "      <td>0.0</td>\n",
              "      <td>0.0</td>\n",
              "      <td>0</td>\n",
              "      <td>0</td>\n",
              "      <td>0</td>\n",
              "      <td>250.0</td>\n",
              "      <td>121.0</td>\n",
              "      <td>81.0</td>\n",
              "      <td>28.73</td>\n",
              "      <td>95.0</td>\n",
              "      <td>76.0</td>\n",
              "      <td>0</td>\n",
              "    </tr>\n",
              "    <tr>\n",
              "      <th>2</th>\n",
              "      <td>1</td>\n",
              "      <td>48</td>\n",
              "      <td>1.0</td>\n",
              "      <td>1</td>\n",
              "      <td>20.0</td>\n",
              "      <td>0.0</td>\n",
              "      <td>0</td>\n",
              "      <td>0</td>\n",
              "      <td>0</td>\n",
              "      <td>245.0</td>\n",
              "      <td>127.5</td>\n",
              "      <td>80.0</td>\n",
              "      <td>25.34</td>\n",
              "      <td>75.0</td>\n",
              "      <td>70.0</td>\n",
              "      <td>0</td>\n",
              "    </tr>\n",
              "    <tr>\n",
              "      <th>3</th>\n",
              "      <td>0</td>\n",
              "      <td>61</td>\n",
              "      <td>3.0</td>\n",
              "      <td>1</td>\n",
              "      <td>30.0</td>\n",
              "      <td>0.0</td>\n",
              "      <td>0</td>\n",
              "      <td>1</td>\n",
              "      <td>0</td>\n",
              "      <td>225.0</td>\n",
              "      <td>150.0</td>\n",
              "      <td>95.0</td>\n",
              "      <td>28.58</td>\n",
              "      <td>65.0</td>\n",
              "      <td>103.0</td>\n",
              "      <td>1</td>\n",
              "    </tr>\n",
              "    <tr>\n",
              "      <th>4</th>\n",
              "      <td>0</td>\n",
              "      <td>46</td>\n",
              "      <td>3.0</td>\n",
              "      <td>1</td>\n",
              "      <td>23.0</td>\n",
              "      <td>0.0</td>\n",
              "      <td>0</td>\n",
              "      <td>0</td>\n",
              "      <td>0</td>\n",
              "      <td>285.0</td>\n",
              "      <td>130.0</td>\n",
              "      <td>84.0</td>\n",
              "      <td>23.10</td>\n",
              "      <td>85.0</td>\n",
              "      <td>85.0</td>\n",
              "      <td>0</td>\n",
              "    </tr>\n",
              "  </tbody>\n",
              "</table>\n",
              "</div>"
            ],
            "text/plain": [
              "   male  age  education  currentSmoker  ...    BMI  heartRate  glucose  TenYearCHD\n",
              "0     1   39        4.0              0  ...  26.97       80.0     77.0           0\n",
              "1     0   46        2.0              0  ...  28.73       95.0     76.0           0\n",
              "2     1   48        1.0              1  ...  25.34       75.0     70.0           0\n",
              "3     0   61        3.0              1  ...  28.58       65.0    103.0           1\n",
              "4     0   46        3.0              1  ...  23.10       85.0     85.0           0\n",
              "\n",
              "[5 rows x 16 columns]"
            ]
          },
          "metadata": {
            "tags": []
          },
          "execution_count": 4
        }
      ]
    },
    {
      "cell_type": "code",
      "metadata": {
        "id": "W6GXWS4QX9n4",
        "colab": {
          "base_uri": "https://localhost:8080/"
        },
        "outputId": "b02eaf16-7c3b-4ee3-dc0e-9a6d30f94ea5"
      },
      "source": [
        "heart_df.info()"
      ],
      "execution_count": null,
      "outputs": [
        {
          "output_type": "stream",
          "text": [
            "<class 'pandas.core.frame.DataFrame'>\n",
            "RangeIndex: 4240 entries, 0 to 4239\n",
            "Data columns (total 16 columns):\n",
            " #   Column           Non-Null Count  Dtype  \n",
            "---  ------           --------------  -----  \n",
            " 0   male             4240 non-null   int64  \n",
            " 1   age              4240 non-null   int64  \n",
            " 2   education        4135 non-null   float64\n",
            " 3   currentSmoker    4240 non-null   int64  \n",
            " 4   cigsPerDay       4211 non-null   float64\n",
            " 5   BPMeds           4187 non-null   float64\n",
            " 6   prevalentStroke  4240 non-null   int64  \n",
            " 7   prevalentHyp     4240 non-null   int64  \n",
            " 8   diabetes         4240 non-null   int64  \n",
            " 9   totChol          4190 non-null   float64\n",
            " 10  sysBP            4240 non-null   float64\n",
            " 11  diaBP            4240 non-null   float64\n",
            " 12  BMI              4221 non-null   float64\n",
            " 13  heartRate        4239 non-null   float64\n",
            " 14  glucose          3852 non-null   float64\n",
            " 15  TenYearCHD       4240 non-null   int64  \n",
            "dtypes: float64(9), int64(7)\n",
            "memory usage: 530.1 KB\n"
          ],
          "name": "stdout"
        }
      ]
    },
    {
      "cell_type": "markdown",
      "metadata": {
        "id": "CsRmSQl5AxhL"
      },
      "source": [
        "4. What is the dataframe's shape?"
      ]
    },
    {
      "cell_type": "code",
      "metadata": {
        "id": "taoykc0SD_4r",
        "colab": {
          "base_uri": "https://localhost:8080/"
        },
        "outputId": "abfae69c-d133-4a8d-de14-8e762044807d"
      },
      "source": [
        "heart_df.shape"
      ],
      "execution_count": null,
      "outputs": [
        {
          "output_type": "execute_result",
          "data": {
            "text/plain": [
              "(4240, 16)"
            ]
          },
          "metadata": {
            "tags": []
          },
          "execution_count": 6
        }
      ]
    },
    {
      "cell_type": "markdown",
      "metadata": {
        "id": "ee0O6fh2GRmD"
      },
      "source": [
        "##Data preparation"
      ]
    },
    {
      "cell_type": "markdown",
      "metadata": {
        "id": "4BVHOK5gMn_Y"
      },
      "source": [
        "5. Show the number of rows with missing data.\n",
        "\n",
        "\n",
        "\n",
        "\n"
      ]
    },
    {
      "cell_type": "code",
      "metadata": {
        "id": "I5PoTEFUGg-z",
        "colab": {
          "base_uri": "https://localhost:8080/"
        },
        "outputId": "a0ec3768-97e3-4828-d35c-5e4aff728956"
      },
      "source": [
        "heart_df.isnull().sum()"
      ],
      "execution_count": null,
      "outputs": [
        {
          "output_type": "execute_result",
          "data": {
            "text/plain": [
              "male                 0\n",
              "age                  0\n",
              "education          105\n",
              "currentSmoker        0\n",
              "cigsPerDay          29\n",
              "BPMeds              53\n",
              "prevalentStroke      0\n",
              "prevalentHyp         0\n",
              "diabetes             0\n",
              "totChol             50\n",
              "sysBP                0\n",
              "diaBP                0\n",
              "BMI                 19\n",
              "heartRate            1\n",
              "glucose            388\n",
              "TenYearCHD           0\n",
              "dtype: int64"
            ]
          },
          "metadata": {
            "tags": []
          },
          "execution_count": 7
        }
      ]
    },
    {
      "cell_type": "code",
      "metadata": {
        "colab": {
          "base_uri": "https://localhost:8080/"
        },
        "id": "AJvEQ01cDJh6",
        "outputId": "aedb3529-1725-4f2f-b25e-e41278132657"
      },
      "source": [
        "count=0\n",
        "count=heart_df.isnull().any(axis=1).sum()\n",
        "print('Total number of rows with missing values is ', count)\n",
        "p=(count/heart_df.shape[0])*100\n",
        "print('since it is only',round(p), 'percent of the entire dataset the rows with missing values are excluded.')"
      ],
      "execution_count": null,
      "outputs": [
        {
          "output_type": "stream",
          "text": [
            "Total number of rows with missing values is  582\n",
            "since it is only 14 percent of the entire dataset the rows with missing values are excluded.\n"
          ],
          "name": "stdout"
        }
      ]
    },
    {
      "cell_type": "code",
      "metadata": {
        "id": "4XfHaN5sDUam"
      },
      "source": [
        "heart_df.dropna(axis=0,inplace=True)"
      ],
      "execution_count": null,
      "outputs": []
    },
    {
      "cell_type": "markdown",
      "metadata": {
        "id": "k8e9evO5MyxE"
      },
      "source": [
        "## <font color=RoyalBlue>Exploratory Analysis<font>\n"
      ]
    },
    {
      "cell_type": "markdown",
      "metadata": {
        "id": "-TG5bkYLD3Qz"
      },
      "source": [
        "6. Plot a histogram for each feature ( I used matplot lib for this plot but you can choose plotly or seaborn as well)"
      ]
    },
    {
      "cell_type": "code",
      "metadata": {
        "id": "Tsabel8jHAZP",
        "colab": {
          "base_uri": "https://localhost:8080/",
          "height": 1000
        },
        "outputId": "dcc694bf-cbe5-40c4-8eab-41dfcd1dbc01"
      },
      "source": [
        "fig = plt.figure(figsize=(20,20))\n",
        "index = 0\n",
        "for (columnName, columnData) in heart_df.iteritems():\n",
        "    index += 1\n",
        "    ax = fig.add_subplot(6,3, index)\n",
        "    ax.hist(columnData.values,histtype='bar', color='darkblue')\n",
        "    ax.grid(color='gray', linewidth=1)\n",
        "    ax.set_title(columnName + ' Distribution', color='darkred', size=10)"
      ],
      "execution_count": null,
      "outputs": [
        {
          "output_type": "display_data",
          "data": {
            "image/png": "[encoded data removed]",
            "text/plain": [
              "<Figure size 1440x1440 with 16 Axes>"
            ]
          },
          "metadata": {
            "tags": [],
            "needs_background": "light"
          }
        }
      ]
    },
    {
      "cell_type": "markdown",
      "metadata": {
        "id": "pVYgvQR-Hzd_"
      },
      "source": [
        "7a. Plot the dependent variable histogram by itself.Include the precentage at the top of each bar."
      ]
    },
    {
      "cell_type": "code",
      "metadata": {
        "id": "1KewjBgOJ3U0"
      },
      "source": [
        "TenYearCHD = heart_df.TenYearCHD.value_counts()\n",
        "percentage = [str(round(sur/TenYearCHD.sum(),2)*100)+'%' for sur in TenYearCHD ]"
      ],
      "execution_count": null,
      "outputs": []
    },
    {
      "cell_type": "code",
      "metadata": {
        "id": "p_s3Mn9eEEs9",
        "colab": {
          "base_uri": "https://localhost:8080/",
          "height": 542
        },
        "outputId": "70e8bc3a-4252-4432-c587-5afc16cceb9a"
      },
      "source": [
        "fig = go.Figure()\n",
        "fig.add_trace(go.Bar(\n",
        "    x=['No', 'Yes'],\n",
        "    y=TenYearCHD,\n",
        "    marker_color=['lightsalmon','green'],\n",
        "    text=percentage,\n",
        "    textposition='outside',\n",
        "))\n",
        "fig.update_layout(\n",
        "    title='Risk in 10 years', \n",
        "    yaxis_title='Number of cases',\n",
        "    )\n",
        "fig.show()"
      ],
      "execution_count": null,
      "outputs": [
        {
          "output_type": "display_data",
          "data": {
            "text/html": [
              "<html>\n",
              "<head><meta charset=\"utf-8\" /></head>\n",
              "<body>\n",
              "    <div>\n",
              "            <script src=\"https://cdnjs.cloudflare.com/ajax/libs/mathjax/2.7.5/MathJax.js?config=TeX-AMS-MML_SVG\"></script><script type=\"text/javascript\">if (window.MathJax) {MathJax.Hub.Config({SVG: {font: \"STIX-Web\"}});}</script>\n",
              "                <script type=\"text/javascript\">window.PlotlyConfig = {MathJaxConfig: 'local'};</script>\n",
              "        <script src=\"https://cdn.plot.ly/plotly-latest.min.js\"></script>    \n",
              "            <div id=\"0aafc0ae-076e-4f44-9fb5-64fe97fd441f\" class=\"plotly-graph-div\" style=\"height:525px; width:100%;\"></div>\n",
              "            <script type=\"text/javascript\">\n",
              "                \n",
              "                    window.PLOTLYENV=window.PLOTLYENV || {};\n",
              "                    \n",
              "                if (document.getElementById(\"0aafc0ae-076e-4f44-9fb5-64fe97fd441f\")) {\n",
              "                    Plotly.newPlot(\n",
              "                        '0aafc0ae-076e-4f44-9fb5-64fe97fd441f',\n",
              "                        [{\"marker\": {\"color\": [\"lightsalmon\", \"green\"]}, \"text\": [\"85.0%\", \"15.0%\"], \"textposition\": \"outside\", \"type\": \"bar\", \"x\": [\"No\", \"Yes\"], \"y\": [3101, 557]}],\n",
              "                        {\"template\": {\"data\": {\"bar\": [{\"error_x\": {\"color\": \"#2a3f5f\"}, \"error_y\": {\"color\": \"#2a3f5f\"}, \"marker\": {\"line\": {\"color\": \"#E5ECF6\", \"width\": 0.5}}, \"type\": \"bar\"}], \"barpolar\": [{\"marker\": {\"line\": {\"color\": \"#E5ECF6\", \"width\": 0.5}}, \"type\": \"barpolar\"}], \"carpet\": [{\"aaxis\": {\"endlinecolor\": \"#2a3f5f\", \"gridcolor\": \"white\", \"linecolor\": \"white\", \"minorgridcolor\": \"white\", \"startlinecolor\": \"#2a3f5f\"}, \"baxis\": {\"endlinecolor\": \"#2a3f5f\", \"gridcolor\": \"white\", \"linecolor\": \"white\", \"minorgridcolor\": \"white\", \"startlinecolor\": \"#2a3f5f\"}, \"type\": \"carpet\"}], \"choropleth\": [{\"colorbar\": {\"outlinewidth\": 0, \"ticks\": \"\"}, \"type\": \"choropleth\"}], \"contour\": [{\"colorbar\": {\"outlinewidth\": 0, \"ticks\": \"\"}, \"colorscale\": [[0.0, \"#0d0887\"], [0.1111111111111111, \"#46039f\"], [0.2222222222222222, \"#7201a8\"], [0.3333333333333333, \"#9c179e\"], [0.4444444444444444, \"#bd3786\"], [0.5555555555555556, \"#d8576b\"], [0.6666666666666666, \"#ed7953\"], [0.7777777777777778, \"#fb9f3a\"], [0.8888888888888888, \"#fdca26\"], [1.0, \"#f0f921\"]], \"type\": \"contour\"}], \"contourcarpet\": [{\"colorbar\": {\"outlinewidth\": 0, \"ticks\": \"\"}, \"type\": \"contourcarpet\"}], \"heatmap\": [{\"colorbar\": {\"outlinewidth\": 0, \"ticks\": \"\"}, \"colorscale\": [[0.0, \"#0d0887\"], [0.1111111111111111, \"#46039f\"], [0.2222222222222222, \"#7201a8\"], [0.3333333333333333, \"#9c179e\"], [0.4444444444444444, \"#bd3786\"], [0.5555555555555556, \"#d8576b\"], [0.6666666666666666, \"#ed7953\"], [0.7777777777777778, \"#fb9f3a\"], [0.8888888888888888, \"#fdca26\"], [1.0, \"#f0f921\"]], \"type\": \"heatmap\"}], \"heatmapgl\": [{\"colorbar\": {\"outlinewidth\": 0, \"ticks\": \"\"}, \"colorscale\": [[0.0, \"#0d0887\"], [0.1111111111111111, \"#46039f\"], [0.2222222222222222, \"#7201a8\"], [0.3333333333333333, \"#9c179e\"], [0.4444444444444444, \"#bd3786\"], [0.5555555555555556, \"#d8576b\"], [0.6666666666666666, \"#ed7953\"], [0.7777777777777778, \"#fb9f3a\"], [0.8888888888888888, \"#fdca26\"], [1.0, \"#f0f921\"]], \"type\": \"heatmapgl\"}], \"histogram\": [{\"marker\": {\"colorbar\": {\"outlinewidth\": 0, \"ticks\": \"\"}}, \"type\": \"histogram\"}], \"histogram2d\": [{\"colorbar\": {\"outlinewidth\": 0, \"ticks\": \"\"}, \"colorscale\": [[0.0, \"#0d0887\"], [0.1111111111111111, \"#46039f\"], [0.2222222222222222, \"#7201a8\"], [0.3333333333333333, \"#9c179e\"], [0.4444444444444444, \"#bd3786\"], [0.5555555555555556, \"#d8576b\"], [0.6666666666666666, \"#ed7953\"], [0.7777777777777778, \"#fb9f3a\"], [0.8888888888888888, \"#fdca26\"], [1.0, \"#f0f921\"]], \"type\": \"histogram2d\"}], \"histogram2dcontour\": [{\"colorbar\": {\"outlinewidth\": 0, \"ticks\": \"\"}, \"colorscale\": [[0.0, \"#0d0887\"], [0.1111111111111111, \"#46039f\"], [0.2222222222222222, \"#7201a8\"], [0.3333333333333333, \"#9c179e\"], [0.4444444444444444, \"#bd3786\"], [0.5555555555555556, \"#d8576b\"], [0.6666666666666666, \"#ed7953\"], [0.7777777777777778, \"#fb9f3a\"], [0.8888888888888888, \"#fdca26\"], [1.0, \"#f0f921\"]], \"type\": \"histogram2dcontour\"}], \"mesh3d\": [{\"colorbar\": {\"outlinewidth\": 0, \"ticks\": \"\"}, \"type\": \"mesh3d\"}], \"parcoords\": [{\"line\": {\"colorbar\": {\"outlinewidth\": 0, \"ticks\": \"\"}}, \"type\": \"parcoords\"}], \"pie\": [{\"automargin\": true, \"type\": \"pie\"}], \"scatter\": [{\"marker\": {\"colorbar\": {\"outlinewidth\": 0, \"ticks\": \"\"}}, \"type\": \"scatter\"}], \"scatter3d\": [{\"line\": {\"colorbar\": {\"outlinewidth\": 0, \"ticks\": \"\"}}, \"marker\": {\"colorbar\": {\"outlinewidth\": 0, \"ticks\": \"\"}}, \"type\": \"scatter3d\"}], \"scattercarpet\": [{\"marker\": {\"colorbar\": {\"outlinewidth\": 0, \"ticks\": \"\"}}, \"type\": \"scattercarpet\"}], \"scattergeo\": [{\"marker\": {\"colorbar\": {\"outlinewidth\": 0, \"ticks\": \"\"}}, \"type\": \"scattergeo\"}], \"scattergl\": [{\"marker\": {\"colorbar\": {\"outlinewidth\": 0, \"ticks\": \"\"}}, \"type\": \"scattergl\"}], \"scattermapbox\": [{\"marker\": {\"colorbar\": {\"outlinewidth\": 0, \"ticks\": \"\"}}, \"type\": \"scattermapbox\"}], \"scatterpolar\": [{\"marker\": {\"colorbar\": {\"outlinewidth\": 0, \"ticks\": \"\"}}, \"type\": \"scatterpolar\"}], \"scatterpolargl\": [{\"marker\": {\"colorbar\": {\"outlinewidth\": 0, \"ticks\": \"\"}}, \"type\": \"scatterpolargl\"}], \"scatterternary\": [{\"marker\": {\"colorbar\": {\"outlinewidth\": 0, \"ticks\": \"\"}}, \"type\": \"scatterternary\"}], \"surface\": [{\"colorbar\": {\"outlinewidth\": 0, \"ticks\": \"\"}, \"colorscale\": [[0.0, \"#0d0887\"], [0.1111111111111111, \"#46039f\"], [0.2222222222222222, \"#7201a8\"], [0.3333333333333333, \"#9c179e\"], [0.4444444444444444, \"#bd3786\"], [0.5555555555555556, \"#d8576b\"], [0.6666666666666666, \"#ed7953\"], [0.7777777777777778, \"#fb9f3a\"], [0.8888888888888888, \"#fdca26\"], [1.0, \"#f0f921\"]], \"type\": \"surface\"}], \"table\": [{\"cells\": {\"fill\": {\"color\": \"#EBF0F8\"}, \"line\": {\"color\": \"white\"}}, \"header\": {\"fill\": {\"color\": \"#C8D4E3\"}, \"line\": {\"color\": \"white\"}}, \"type\": \"table\"}]}, \"layout\": {\"annotationdefaults\": {\"arrowcolor\": \"#2a3f5f\", \"arrowhead\": 0, \"arrowwidth\": 1}, \"coloraxis\": {\"colorbar\": {\"outlinewidth\": 0, \"ticks\": \"\"}}, \"colorscale\": {\"diverging\": [[0, \"#8e0152\"], [0.1, \"#c51b7d\"], [0.2, \"#de77ae\"], [0.3, \"#f1b6da\"], [0.4, \"#fde0ef\"], [0.5, \"#f7f7f7\"], [0.6, \"#e6f5d0\"], [0.7, \"#b8e186\"], [0.8, \"#7fbc41\"], [0.9, \"#4d9221\"], [1, \"#276419\"]], \"sequential\": [[0.0, \"#0d0887\"], [0.1111111111111111, \"#46039f\"], [0.2222222222222222, \"#7201a8\"], [0.3333333333333333, \"#9c179e\"], [0.4444444444444444, \"#bd3786\"], [0.5555555555555556, \"#d8576b\"], [0.6666666666666666, \"#ed7953\"], [0.7777777777777778, \"#fb9f3a\"], [0.8888888888888888, \"#fdca26\"], [1.0, \"#f0f921\"]], \"sequentialminus\": [[0.0, \"#0d0887\"], [0.1111111111111111, \"#46039f\"], [0.2222222222222222, \"#7201a8\"], [0.3333333333333333, \"#9c179e\"], [0.4444444444444444, \"#bd3786\"], [0.5555555555555556, \"#d8576b\"], [0.6666666666666666, \"#ed7953\"], [0.7777777777777778, \"#fb9f3a\"], [0.8888888888888888, \"#fdca26\"], [1.0, \"#f0f921\"]]}, \"colorway\": [\"#636efa\", \"#EF553B\", \"#00cc96\", \"#ab63fa\", \"#FFA15A\", \"#19d3f3\", \"#FF6692\", \"#B6E880\", \"#FF97FF\", \"#FECB52\"], \"font\": {\"color\": \"#2a3f5f\"}, \"geo\": {\"bgcolor\": \"white\", \"lakecolor\": \"white\", \"landcolor\": \"#E5ECF6\", \"showlakes\": true, \"showland\": true, \"subunitcolor\": \"white\"}, \"hoverlabel\": {\"align\": \"left\"}, \"hovermode\": \"closest\", \"mapbox\": {\"style\": \"light\"}, \"paper_bgcolor\": \"white\", \"plot_bgcolor\": \"#E5ECF6\", \"polar\": {\"angularaxis\": {\"gridcolor\": \"white\", \"linecolor\": \"white\", \"ticks\": \"\"}, \"bgcolor\": \"#E5ECF6\", \"radialaxis\": {\"gridcolor\": \"white\", \"linecolor\": \"white\", \"ticks\": \"\"}}, \"scene\": {\"xaxis\": {\"backgroundcolor\": \"#E5ECF6\", \"gridcolor\": \"white\", \"gridwidth\": 2, \"linecolor\": \"white\", \"showbackground\": true, \"ticks\": \"\", \"zerolinecolor\": \"white\"}, \"yaxis\": {\"backgroundcolor\": \"#E5ECF6\", \"gridcolor\": \"white\", \"gridwidth\": 2, \"linecolor\": \"white\", \"showbackground\": true, \"ticks\": \"\", \"zerolinecolor\": \"white\"}, \"zaxis\": {\"backgroundcolor\": \"#E5ECF6\", \"gridcolor\": \"white\", \"gridwidth\": 2, \"linecolor\": \"white\", \"showbackground\": true, \"ticks\": \"\", \"zerolinecolor\": \"white\"}}, \"shapedefaults\": {\"line\": {\"color\": \"#2a3f5f\"}}, \"ternary\": {\"aaxis\": {\"gridcolor\": \"white\", \"linecolor\": \"white\", \"ticks\": \"\"}, \"baxis\": {\"gridcolor\": \"white\", \"linecolor\": \"white\", \"ticks\": \"\"}, \"bgcolor\": \"#E5ECF6\", \"caxis\": {\"gridcolor\": \"white\", \"linecolor\": \"white\", \"ticks\": \"\"}}, \"title\": {\"x\": 0.05}, \"xaxis\": {\"automargin\": true, \"gridcolor\": \"white\", \"linecolor\": \"white\", \"ticks\": \"\", \"title\": {\"standoff\": 15}, \"zerolinecolor\": \"white\", \"zerolinewidth\": 2}, \"yaxis\": {\"automargin\": true, \"gridcolor\": \"white\", \"linecolor\": \"white\", \"ticks\": \"\", \"title\": {\"standoff\": 15}, \"zerolinecolor\": \"white\", \"zerolinewidth\": 2}}}, \"title\": {\"text\": \"Risk in 10 years\"}, \"yaxis\": {\"title\": {\"text\": \"Number of cases\"}}},\n",
              "                        {\"responsive\": true}\n",
              "                    ).then(function(){\n",
              "                            \n",
              "var gd = document.getElementById('0aafc0ae-076e-4f44-9fb5-64fe97fd441f');\n",
              "var x = new MutationObserver(function (mutations, observer) {{\n",
              "        var display = window.getComputedStyle(gd).display;\n",
              "        if (!display || display === 'none') {{\n",
              "            console.log([gd, 'removed!']);\n",
              "            Plotly.purge(gd);\n",
              "            observer.disconnect();\n",
              "        }}\n",
              "}});\n",
              "\n",
              "// Listen for the removal of the full notebook cells\n",
              "var notebookContainer = gd.closest('#notebook-container');\n",
              "if (notebookContainer) {{\n",
              "    x.observe(notebookContainer, {childList: true});\n",
              "}}\n",
              "\n",
              "// Listen for the clearing of the current output cell\n",
              "var outputEl = gd.closest('.output');\n",
              "if (outputEl) {{\n",
              "    x.observe(outputEl, {childList: true});\n",
              "}}\n",
              "\n",
              "                        })\n",
              "                };\n",
              "                \n",
              "            </script>\n",
              "        </div>\n",
              "</body>\n",
              "</html>"
            ]
          },
          "metadata": {
            "tags": []
          }
        }
      ]
    },
    {
      "cell_type": "markdown",
      "metadata": {
        "id": "4Rj-DgaDo4E8"
      },
      "source": [
        "Inference - only 15% of cases do have 10 year risk of coronary heart disease."
      ]
    },
    {
      "cell_type": "markdown",
      "metadata": {
        "id": "k0JDfcqCqm4y"
      },
      "source": [
        "7b. Plot the 10 year risk of disease over the age distribution. Hint: in plotly, use the barmode='stack' option. "
      ]
    },
    {
      "cell_type": "code",
      "metadata": {
        "colab": {
          "base_uri": "https://localhost:8080/",
          "height": 235
        },
        "id": "112xwzCOqnj8",
        "outputId": "5b026337-5275-43b9-ee08-bcb012dbd7bf"
      },
      "source": [
        "ages = heart_df.pivot_table(values='TenYearCHD' , index='age')\n",
        "ages['no'] = 1-ages.TenYearCHD\n",
        "ages.columns=['yes','no']\n",
        "ages.head()"
      ],
      "execution_count": null,
      "outputs": [
        {
          "output_type": "execute_result",
          "data": {
            "text/html": [
              "<div>\n",
              "<style scoped>\n",
              "    .dataframe tbody tr th:only-of-type {\n",
              "        vertical-align: middle;\n",
              "    }\n",
              "\n",
              "    .dataframe tbody tr th {\n",
              "        vertical-align: top;\n",
              "    }\n",
              "\n",
              "    .dataframe thead th {\n",
              "        text-align: right;\n",
              "    }\n",
              "</style>\n",
              "<table border=\"1\" class=\"dataframe\">\n",
              "  <thead>\n",
              "    <tr style=\"text-align: right;\">\n",
              "      <th></th>\n",
              "      <th>yes</th>\n",
              "      <th>no</th>\n",
              "    </tr>\n",
              "    <tr>\n",
              "      <th>age</th>\n",
              "      <th></th>\n",
              "      <th></th>\n",
              "    </tr>\n",
              "  </thead>\n",
              "  <tbody>\n",
              "    <tr>\n",
              "      <th>32</th>\n",
              "      <td>0.000000</td>\n",
              "      <td>1.000000</td>\n",
              "    </tr>\n",
              "    <tr>\n",
              "      <th>33</th>\n",
              "      <td>0.000000</td>\n",
              "      <td>1.000000</td>\n",
              "    </tr>\n",
              "    <tr>\n",
              "      <th>34</th>\n",
              "      <td>0.000000</td>\n",
              "      <td>1.000000</td>\n",
              "    </tr>\n",
              "    <tr>\n",
              "      <th>35</th>\n",
              "      <td>0.060606</td>\n",
              "      <td>0.939394</td>\n",
              "    </tr>\n",
              "    <tr>\n",
              "      <th>36</th>\n",
              "      <td>0.025974</td>\n",
              "      <td>0.974026</td>\n",
              "    </tr>\n",
              "  </tbody>\n",
              "</table>\n",
              "</div>"
            ],
            "text/plain": [
              "          yes        no\n",
              "age                    \n",
              "32   0.000000  1.000000\n",
              "33   0.000000  1.000000\n",
              "34   0.000000  1.000000\n",
              "35   0.060606  0.939394\n",
              "36   0.025974  0.974026"
            ]
          },
          "metadata": {
            "tags": []
          },
          "execution_count": 13
        }
      ]
    },
    {
      "cell_type": "code",
      "metadata": {
        "colab": {
          "base_uri": "https://localhost:8080/",
          "height": 542
        },
        "id": "IwfiAO3trFHk",
        "outputId": "d032af2d-4fed-4732-f1d9-f48d4e2ef4c4"
      },
      "source": [
        "fig = go.Figure()\n",
        "fig.add_trace(go.Bar(x=ages.index, y=ages.no, name='No'))\n",
        "fig.add_trace(go.Bar(x=ages.index, y=ages.yes, name='Yes'))\n",
        "fig.update_layout(\n",
        "    title_text='Distribution of ages', # title of plot\n",
        "    xaxis_title_text='Age', # xaxis label\n",
        "    yaxis_title_text='Count', # yaxis label\n",
        "    bargap=0.2, # gap between bars of adjacent location coordinates,\n",
        "    barmode='stack'\n",
        ")\n",
        "\n",
        "fig.show()"
      ],
      "execution_count": null,
      "outputs": [
        {
          "output_type": "display_data",
          "data": {
            "text/html": [
              "<html>\n",
              "<head><meta charset=\"utf-8\" /></head>\n",
              "<body>\n",
              "    <div>\n",
              "            <script src=\"https://cdnjs.cloudflare.com/ajax/libs/mathjax/2.7.5/MathJax.js?config=TeX-AMS-MML_SVG\"></script><script type=\"text/javascript\">if (window.MathJax) {MathJax.Hub.Config({SVG: {font: \"STIX-Web\"}});}</script>\n",
              "                <script type=\"text/javascript\">window.PlotlyConfig = {MathJaxConfig: 'local'};</script>\n",
              "        <script src=\"https://cdn.plot.ly/plotly-latest.min.js\"></script>    \n",
              "            <div id=\"3dba162d-fd7b-4480-977d-661e03e19ea5\" class=\"plotly-graph-div\" style=\"height:525px; width:100%;\"></div>\n",
              "            <script type=\"text/javascript\">\n",
              "                \n",
              "                    window.PLOTLYENV=window.PLOTLYENV || {};\n",
              "                    \n",
              "                if (document.getElementById(\"3dba162d-fd7b-4480-977d-661e03e19ea5\")) {\n",
              "                    Plotly.newPlot(\n",
              "                        '3dba162d-fd7b-4480-977d-661e03e19ea5',\n",
              "                        [{\"name\": \"No\", \"type\": \"bar\", \"x\": [32, 33, 34, 35, 36, 37, 38, 39, 40, 41, 42, 43, 44, 45, 46, 47, 48, 49, 50, 51, 52, 53, 54, 55, 56, 57, 58, 59, 60, 61, 62, 63, 64, 65, 66, 67, 68, 69, 70], \"y\": [1.0, 1.0, 1.0, 0.9393939393939394, 0.974025974025974, 0.95, 0.9435483870967742, 0.9591836734693877, 0.9341317365269461, 0.9310344827586207, 0.9130434782608696, 0.9197080291970803, 0.9230769230769231, 0.9071428571428571, 0.9216867469879518, 0.8421052631578947, 0.8859060402684564, 0.8275862068965517, 0.8455284552845528, 0.7886178861788617, 0.813953488372093, 0.8189655172413793, 0.8487394957983193, 0.8455284552845528, 0.7714285714285715, 0.7777777777777778, 0.7216494845360825, 0.72, 0.7448979591836735, 0.7802197802197802, 0.7362637362637363, 0.6979166666666667, 0.775, 0.6956521739130435, 0.6176470588235294, 0.5526315789473684, 0.5625, 0.8, 1.0]}, {\"name\": \"Yes\", \"type\": \"bar\", \"x\": [32, 33, 34, 35, 36, 37, 38, 39, 40, 41, 42, 43, 44, 45, 46, 47, 48, 49, 50, 51, 52, 53, 54, 55, 56, 57, 58, 59, 60, 61, 62, 63, 64, 65, 66, 67, 68, 69, 70], \"y\": [0.0, 0.0, 0.0, 0.06060606060606061, 0.025974025974025976, 0.05, 0.056451612903225805, 0.04081632653061224, 0.0658682634730539, 0.06896551724137931, 0.08695652173913043, 0.08029197080291971, 0.07692307692307693, 0.09285714285714286, 0.0783132530120482, 0.15789473684210525, 0.11409395973154363, 0.1724137931034483, 0.15447154471544716, 0.21138211382113822, 0.18604651162790697, 0.1810344827586207, 0.15126050420168066, 0.15447154471544716, 0.22857142857142856, 0.2222222222222222, 0.27835051546391754, 0.28, 0.25510204081632654, 0.21978021978021978, 0.26373626373626374, 0.3020833333333333, 0.225, 0.30434782608695654, 0.38235294117647056, 0.4473684210526316, 0.4375, 0.2, 0.0]}],\n",
              "                        {\"bargap\": 0.2, \"barmode\": \"stack\", \"template\": {\"data\": {\"bar\": [{\"error_x\": {\"color\": \"#2a3f5f\"}, \"error_y\": {\"color\": \"#2a3f5f\"}, \"marker\": {\"line\": {\"color\": \"#E5ECF6\", \"width\": 0.5}}, \"type\": \"bar\"}], \"barpolar\": [{\"marker\": {\"line\": {\"color\": \"#E5ECF6\", \"width\": 0.5}}, \"type\": \"barpolar\"}], \"carpet\": [{\"aaxis\": {\"endlinecolor\": \"#2a3f5f\", \"gridcolor\": \"white\", \"linecolor\": \"white\", \"minorgridcolor\": \"white\", \"startlinecolor\": \"#2a3f5f\"}, \"baxis\": {\"endlinecolor\": \"#2a3f5f\", \"gridcolor\": \"white\", \"linecolor\": \"white\", \"minorgridcolor\": \"white\", \"startlinecolor\": \"#2a3f5f\"}, \"type\": \"carpet\"}], \"choropleth\": [{\"colorbar\": {\"outlinewidth\": 0, \"ticks\": \"\"}, \"type\": \"choropleth\"}], \"contour\": [{\"colorbar\": {\"outlinewidth\": 0, \"ticks\": \"\"}, \"colorscale\": [[0.0, \"#0d0887\"], [0.1111111111111111, \"#46039f\"], [0.2222222222222222, \"#7201a8\"], [0.3333333333333333, \"#9c179e\"], [0.4444444444444444, \"#bd3786\"], [0.5555555555555556, \"#d8576b\"], [0.6666666666666666, \"#ed7953\"], [0.7777777777777778, \"#fb9f3a\"], [0.8888888888888888, \"#fdca26\"], [1.0, \"#f0f921\"]], \"type\": \"contour\"}], \"contourcarpet\": [{\"colorbar\": {\"outlinewidth\": 0, \"ticks\": \"\"}, \"type\": \"contourcarpet\"}], \"heatmap\": [{\"colorbar\": {\"outlinewidth\": 0, \"ticks\": \"\"}, \"colorscale\": [[0.0, \"#0d0887\"], [0.1111111111111111, \"#46039f\"], [0.2222222222222222, \"#7201a8\"], [0.3333333333333333, \"#9c179e\"], [0.4444444444444444, \"#bd3786\"], [0.5555555555555556, \"#d8576b\"], [0.6666666666666666, \"#ed7953\"], [0.7777777777777778, \"#fb9f3a\"], [0.8888888888888888, \"#fdca26\"], [1.0, \"#f0f921\"]], \"type\": \"heatmap\"}], \"heatmapgl\": [{\"colorbar\": {\"outlinewidth\": 0, \"ticks\": \"\"}, \"colorscale\": [[0.0, \"#0d0887\"], [0.1111111111111111, \"#46039f\"], [0.2222222222222222, \"#7201a8\"], [0.3333333333333333, \"#9c179e\"], [0.4444444444444444, \"#bd3786\"], [0.5555555555555556, \"#d8576b\"], [0.6666666666666666, \"#ed7953\"], [0.7777777777777778, \"#fb9f3a\"], [0.8888888888888888, \"#fdca26\"], [1.0, \"#f0f921\"]], \"type\": \"heatmapgl\"}], \"histogram\": [{\"marker\": {\"colorbar\": {\"outlinewidth\": 0, \"ticks\": \"\"}}, \"type\": \"histogram\"}], \"histogram2d\": [{\"colorbar\": {\"outlinewidth\": 0, \"ticks\": \"\"}, \"colorscale\": [[0.0, \"#0d0887\"], [0.1111111111111111, \"#46039f\"], [0.2222222222222222, \"#7201a8\"], [0.3333333333333333, \"#9c179e\"], [0.4444444444444444, \"#bd3786\"], [0.5555555555555556, \"#d8576b\"], [0.6666666666666666, \"#ed7953\"], [0.7777777777777778, \"#fb9f3a\"], [0.8888888888888888, \"#fdca26\"], [1.0, \"#f0f921\"]], \"type\": \"histogram2d\"}], \"histogram2dcontour\": [{\"colorbar\": {\"outlinewidth\": 0, \"ticks\": \"\"}, \"colorscale\": [[0.0, \"#0d0887\"], [0.1111111111111111, \"#46039f\"], [0.2222222222222222, \"#7201a8\"], [0.3333333333333333, \"#9c179e\"], [0.4444444444444444, \"#bd3786\"], [0.5555555555555556, \"#d8576b\"], [0.6666666666666666, \"#ed7953\"], [0.7777777777777778, \"#fb9f3a\"], [0.8888888888888888, \"#fdca26\"], [1.0, \"#f0f921\"]], \"type\": \"histogram2dcontour\"}], \"mesh3d\": [{\"colorbar\": {\"outlinewidth\": 0, \"ticks\": \"\"}, \"type\": \"mesh3d\"}], \"parcoords\": [{\"line\": {\"colorbar\": {\"outlinewidth\": 0, \"ticks\": \"\"}}, \"type\": \"parcoords\"}], \"pie\": [{\"automargin\": true, \"type\": \"pie\"}], \"scatter\": [{\"marker\": {\"colorbar\": {\"outlinewidth\": 0, \"ticks\": \"\"}}, \"type\": \"scatter\"}], \"scatter3d\": [{\"line\": {\"colorbar\": {\"outlinewidth\": 0, \"ticks\": \"\"}}, \"marker\": {\"colorbar\": {\"outlinewidth\": 0, \"ticks\": \"\"}}, \"type\": \"scatter3d\"}], \"scattercarpet\": [{\"marker\": {\"colorbar\": {\"outlinewidth\": 0, \"ticks\": \"\"}}, \"type\": \"scattercarpet\"}], \"scattergeo\": [{\"marker\": {\"colorbar\": {\"outlinewidth\": 0, \"ticks\": \"\"}}, \"type\": \"scattergeo\"}], \"scattergl\": [{\"marker\": {\"colorbar\": {\"outlinewidth\": 0, \"ticks\": \"\"}}, \"type\": \"scattergl\"}], \"scattermapbox\": [{\"marker\": {\"colorbar\": {\"outlinewidth\": 0, \"ticks\": \"\"}}, \"type\": \"scattermapbox\"}], \"scatterpolar\": [{\"marker\": {\"colorbar\": {\"outlinewidth\": 0, \"ticks\": \"\"}}, \"type\": \"scatterpolar\"}], \"scatterpolargl\": [{\"marker\": {\"colorbar\": {\"outlinewidth\": 0, \"ticks\": \"\"}}, \"type\": \"scatterpolargl\"}], \"scatterternary\": [{\"marker\": {\"colorbar\": {\"outlinewidth\": 0, \"ticks\": \"\"}}, \"type\": \"scatterternary\"}], \"surface\": [{\"colorbar\": {\"outlinewidth\": 0, \"ticks\": \"\"}, \"colorscale\": [[0.0, \"#0d0887\"], [0.1111111111111111, \"#46039f\"], [0.2222222222222222, \"#7201a8\"], [0.3333333333333333, \"#9c179e\"], [0.4444444444444444, \"#bd3786\"], [0.5555555555555556, \"#d8576b\"], [0.6666666666666666, \"#ed7953\"], [0.7777777777777778, \"#fb9f3a\"], [0.8888888888888888, \"#fdca26\"], [1.0, \"#f0f921\"]], \"type\": \"surface\"}], \"table\": [{\"cells\": {\"fill\": {\"color\": \"#EBF0F8\"}, \"line\": {\"color\": \"white\"}}, \"header\": {\"fill\": {\"color\": \"#C8D4E3\"}, \"line\": {\"color\": \"white\"}}, \"type\": \"table\"}]}, \"layout\": {\"annotationdefaults\": {\"arrowcolor\": \"#2a3f5f\", \"arrowhead\": 0, \"arrowwidth\": 1}, \"coloraxis\": {\"colorbar\": {\"outlinewidth\": 0, \"ticks\": \"\"}}, \"colorscale\": {\"diverging\": [[0, \"#8e0152\"], [0.1, \"#c51b7d\"], [0.2, \"#de77ae\"], [0.3, \"#f1b6da\"], [0.4, \"#fde0ef\"], [0.5, \"#f7f7f7\"], [0.6, \"#e6f5d0\"], [0.7, \"#b8e186\"], [0.8, \"#7fbc41\"], [0.9, \"#4d9221\"], [1, \"#276419\"]], \"sequential\": [[0.0, \"#0d0887\"], [0.1111111111111111, \"#46039f\"], [0.2222222222222222, \"#7201a8\"], [0.3333333333333333, \"#9c179e\"], [0.4444444444444444, \"#bd3786\"], [0.5555555555555556, \"#d8576b\"], [0.6666666666666666, \"#ed7953\"], [0.7777777777777778, \"#fb9f3a\"], [0.8888888888888888, \"#fdca26\"], [1.0, \"#f0f921\"]], \"sequentialminus\": [[0.0, \"#0d0887\"], [0.1111111111111111, \"#46039f\"], [0.2222222222222222, \"#7201a8\"], [0.3333333333333333, \"#9c179e\"], [0.4444444444444444, \"#bd3786\"], [0.5555555555555556, \"#d8576b\"], [0.6666666666666666, \"#ed7953\"], [0.7777777777777778, \"#fb9f3a\"], [0.8888888888888888, \"#fdca26\"], [1.0, \"#f0f921\"]]}, \"colorway\": [\"#636efa\", \"#EF553B\", \"#00cc96\", \"#ab63fa\", \"#FFA15A\", \"#19d3f3\", \"#FF6692\", \"#B6E880\", \"#FF97FF\", \"#FECB52\"], \"font\": {\"color\": \"#2a3f5f\"}, \"geo\": {\"bgcolor\": \"white\", \"lakecolor\": \"white\", \"landcolor\": \"#E5ECF6\", \"showlakes\": true, \"showland\": true, \"subunitcolor\": \"white\"}, \"hoverlabel\": {\"align\": \"left\"}, \"hovermode\": \"closest\", \"mapbox\": {\"style\": \"light\"}, \"paper_bgcolor\": \"white\", \"plot_bgcolor\": \"#E5ECF6\", \"polar\": {\"angularaxis\": {\"gridcolor\": \"white\", \"linecolor\": \"white\", \"ticks\": \"\"}, \"bgcolor\": \"#E5ECF6\", \"radialaxis\": {\"gridcolor\": \"white\", \"linecolor\": \"white\", \"ticks\": \"\"}}, \"scene\": {\"xaxis\": {\"backgroundcolor\": \"#E5ECF6\", \"gridcolor\": \"white\", \"gridwidth\": 2, \"linecolor\": \"white\", \"showbackground\": true, \"ticks\": \"\", \"zerolinecolor\": \"white\"}, \"yaxis\": {\"backgroundcolor\": \"#E5ECF6\", \"gridcolor\": \"white\", \"gridwidth\": 2, \"linecolor\": \"white\", \"showbackground\": true, \"ticks\": \"\", \"zerolinecolor\": \"white\"}, \"zaxis\": {\"backgroundcolor\": \"#E5ECF6\", \"gridcolor\": \"white\", \"gridwidth\": 2, \"linecolor\": \"white\", \"showbackground\": true, \"ticks\": \"\", \"zerolinecolor\": \"white\"}}, \"shapedefaults\": {\"line\": {\"color\": \"#2a3f5f\"}}, \"ternary\": {\"aaxis\": {\"gridcolor\": \"white\", \"linecolor\": \"white\", \"ticks\": \"\"}, \"baxis\": {\"gridcolor\": \"white\", \"linecolor\": \"white\", \"ticks\": \"\"}, \"bgcolor\": \"#E5ECF6\", \"caxis\": {\"gridcolor\": \"white\", \"linecolor\": \"white\", \"ticks\": \"\"}}, \"title\": {\"x\": 0.05}, \"xaxis\": {\"automargin\": true, \"gridcolor\": \"white\", \"linecolor\": \"white\", \"ticks\": \"\", \"title\": {\"standoff\": 15}, \"zerolinecolor\": \"white\", \"zerolinewidth\": 2}, \"yaxis\": {\"automargin\": true, \"gridcolor\": \"white\", \"linecolor\": \"white\", \"ticks\": \"\", \"title\": {\"standoff\": 15}, \"zerolinecolor\": \"white\", \"zerolinewidth\": 2}}}, \"title\": {\"text\": \"Distribution of ages\"}, \"xaxis\": {\"title\": {\"text\": \"Age\"}}, \"yaxis\": {\"title\": {\"text\": \"Count\"}}},\n",
              "                        {\"responsive\": true}\n",
              "                    ).then(function(){\n",
              "                            \n",
              "var gd = document.getElementById('3dba162d-fd7b-4480-977d-661e03e19ea5');\n",
              "var x = new MutationObserver(function (mutations, observer) {{\n",
              "        var display = window.getComputedStyle(gd).display;\n",
              "        if (!display || display === 'none') {{\n",
              "            console.log([gd, 'removed!']);\n",
              "            Plotly.purge(gd);\n",
              "            observer.disconnect();\n",
              "        }}\n",
              "}});\n",
              "\n",
              "// Listen for the removal of the full notebook cells\n",
              "var notebookContainer = gd.closest('#notebook-container');\n",
              "if (notebookContainer) {{\n",
              "    x.observe(notebookContainer, {childList: true});\n",
              "}}\n",
              "\n",
              "// Listen for the clearing of the current output cell\n",
              "var outputEl = gd.closest('.output');\n",
              "if (outputEl) {{\n",
              "    x.observe(outputEl, {childList: true});\n",
              "}}\n",
              "\n",
              "                        })\n",
              "                };\n",
              "                \n",
              "            </script>\n",
              "        </div>\n",
              "</body>\n",
              "</html>"
            ]
          },
          "metadata": {
            "tags": []
          }
        }
      ]
    },
    {
      "cell_type": "markdown",
      "metadata": {
        "id": "V4zEXfTpKCEK"
      },
      "source": [
        "7c. Display statistical analysis"
      ]
    },
    {
      "cell_type": "code",
      "metadata": {
        "colab": {
          "base_uri": "https://localhost:8080/",
          "height": 317
        },
        "id": "pbo9Tv6rKIhK",
        "outputId": "885fb2ce-6a1d-40cb-e372-b4d3eacc949f"
      },
      "source": [
        "heart_df.describe()"
      ],
      "execution_count": null,
      "outputs": [
        {
          "output_type": "execute_result",
          "data": {
            "text/html": [
              "<div>\n",
              "<style scoped>\n",
              "    .dataframe tbody tr th:only-of-type {\n",
              "        vertical-align: middle;\n",
              "    }\n",
              "\n",
              "    .dataframe tbody tr th {\n",
              "        vertical-align: top;\n",
              "    }\n",
              "\n",
              "    .dataframe thead th {\n",
              "        text-align: right;\n",
              "    }\n",
              "</style>\n",
              "<table border=\"1\" class=\"dataframe\">\n",
              "  <thead>\n",
              "    <tr style=\"text-align: right;\">\n",
              "      <th></th>\n",
              "      <th>male</th>\n",
              "      <th>age</th>\n",
              "      <th>education</th>\n",
              "      <th>currentSmoker</th>\n",
              "      <th>cigsPerDay</th>\n",
              "      <th>BPMeds</th>\n",
              "      <th>prevalentStroke</th>\n",
              "      <th>prevalentHyp</th>\n",
              "      <th>diabetes</th>\n",
              "      <th>totChol</th>\n",
              "      <th>sysBP</th>\n",
              "      <th>diaBP</th>\n",
              "      <th>BMI</th>\n",
              "      <th>heartRate</th>\n",
              "      <th>glucose</th>\n",
              "      <th>TenYearCHD</th>\n",
              "    </tr>\n",
              "  </thead>\n",
              "  <tbody>\n",
              "    <tr>\n",
              "      <th>count</th>\n",
              "      <td>3658.000000</td>\n",
              "      <td>3658.000000</td>\n",
              "      <td>3658.000000</td>\n",
              "      <td>3658.000000</td>\n",
              "      <td>3658.000000</td>\n",
              "      <td>3658.000000</td>\n",
              "      <td>3658.000000</td>\n",
              "      <td>3658.000000</td>\n",
              "      <td>3658.000000</td>\n",
              "      <td>3658.000000</td>\n",
              "      <td>3658.000000</td>\n",
              "      <td>3658.000000</td>\n",
              "      <td>3658.000000</td>\n",
              "      <td>3658.000000</td>\n",
              "      <td>3658.000000</td>\n",
              "      <td>3658.000000</td>\n",
              "    </tr>\n",
              "    <tr>\n",
              "      <th>mean</th>\n",
              "      <td>0.443685</td>\n",
              "      <td>49.551941</td>\n",
              "      <td>1.980317</td>\n",
              "      <td>0.489065</td>\n",
              "      <td>9.025424</td>\n",
              "      <td>0.030344</td>\n",
              "      <td>0.005741</td>\n",
              "      <td>0.311646</td>\n",
              "      <td>0.027064</td>\n",
              "      <td>236.847731</td>\n",
              "      <td>132.370558</td>\n",
              "      <td>82.917031</td>\n",
              "      <td>25.782802</td>\n",
              "      <td>75.730727</td>\n",
              "      <td>81.852925</td>\n",
              "      <td>0.152269</td>\n",
              "    </tr>\n",
              "    <tr>\n",
              "      <th>std</th>\n",
              "      <td>0.496886</td>\n",
              "      <td>8.562029</td>\n",
              "      <td>1.022656</td>\n",
              "      <td>0.499949</td>\n",
              "      <td>11.921590</td>\n",
              "      <td>0.171557</td>\n",
              "      <td>0.075561</td>\n",
              "      <td>0.463229</td>\n",
              "      <td>0.162292</td>\n",
              "      <td>44.097681</td>\n",
              "      <td>22.086866</td>\n",
              "      <td>11.974258</td>\n",
              "      <td>4.065601</td>\n",
              "      <td>11.981525</td>\n",
              "      <td>23.904164</td>\n",
              "      <td>0.359331</td>\n",
              "    </tr>\n",
              "    <tr>\n",
              "      <th>min</th>\n",
              "      <td>0.000000</td>\n",
              "      <td>32.000000</td>\n",
              "      <td>1.000000</td>\n",
              "      <td>0.000000</td>\n",
              "      <td>0.000000</td>\n",
              "      <td>0.000000</td>\n",
              "      <td>0.000000</td>\n",
              "      <td>0.000000</td>\n",
              "      <td>0.000000</td>\n",
              "      <td>113.000000</td>\n",
              "      <td>83.500000</td>\n",
              "      <td>48.000000</td>\n",
              "      <td>15.540000</td>\n",
              "      <td>44.000000</td>\n",
              "      <td>40.000000</td>\n",
              "      <td>0.000000</td>\n",
              "    </tr>\n",
              "    <tr>\n",
              "      <th>25%</th>\n",
              "      <td>0.000000</td>\n",
              "      <td>42.000000</td>\n",
              "      <td>1.000000</td>\n",
              "      <td>0.000000</td>\n",
              "      <td>0.000000</td>\n",
              "      <td>0.000000</td>\n",
              "      <td>0.000000</td>\n",
              "      <td>0.000000</td>\n",
              "      <td>0.000000</td>\n",
              "      <td>206.000000</td>\n",
              "      <td>117.000000</td>\n",
              "      <td>75.000000</td>\n",
              "      <td>23.080000</td>\n",
              "      <td>68.000000</td>\n",
              "      <td>71.000000</td>\n",
              "      <td>0.000000</td>\n",
              "    </tr>\n",
              "    <tr>\n",
              "      <th>50%</th>\n",
              "      <td>0.000000</td>\n",
              "      <td>49.000000</td>\n",
              "      <td>2.000000</td>\n",
              "      <td>0.000000</td>\n",
              "      <td>0.000000</td>\n",
              "      <td>0.000000</td>\n",
              "      <td>0.000000</td>\n",
              "      <td>0.000000</td>\n",
              "      <td>0.000000</td>\n",
              "      <td>234.000000</td>\n",
              "      <td>128.000000</td>\n",
              "      <td>82.000000</td>\n",
              "      <td>25.380000</td>\n",
              "      <td>75.000000</td>\n",
              "      <td>78.000000</td>\n",
              "      <td>0.000000</td>\n",
              "    </tr>\n",
              "    <tr>\n",
              "      <th>75%</th>\n",
              "      <td>1.000000</td>\n",
              "      <td>56.000000</td>\n",
              "      <td>3.000000</td>\n",
              "      <td>1.000000</td>\n",
              "      <td>20.000000</td>\n",
              "      <td>0.000000</td>\n",
              "      <td>0.000000</td>\n",
              "      <td>1.000000</td>\n",
              "      <td>0.000000</td>\n",
              "      <td>263.000000</td>\n",
              "      <td>143.875000</td>\n",
              "      <td>90.000000</td>\n",
              "      <td>28.037500</td>\n",
              "      <td>82.000000</td>\n",
              "      <td>87.000000</td>\n",
              "      <td>0.000000</td>\n",
              "    </tr>\n",
              "    <tr>\n",
              "      <th>max</th>\n",
              "      <td>1.000000</td>\n",
              "      <td>70.000000</td>\n",
              "      <td>4.000000</td>\n",
              "      <td>1.000000</td>\n",
              "      <td>70.000000</td>\n",
              "      <td>1.000000</td>\n",
              "      <td>1.000000</td>\n",
              "      <td>1.000000</td>\n",
              "      <td>1.000000</td>\n",
              "      <td>600.000000</td>\n",
              "      <td>295.000000</td>\n",
              "      <td>142.500000</td>\n",
              "      <td>56.800000</td>\n",
              "      <td>143.000000</td>\n",
              "      <td>394.000000</td>\n",
              "      <td>1.000000</td>\n",
              "    </tr>\n",
              "  </tbody>\n",
              "</table>\n",
              "</div>"
            ],
            "text/plain": [
              "              male          age  ...      glucose   TenYearCHD\n",
              "count  3658.000000  3658.000000  ...  3658.000000  3658.000000\n",
              "mean      0.443685    49.551941  ...    81.852925     0.152269\n",
              "std       0.496886     8.562029  ...    23.904164     0.359331\n",
              "min       0.000000    32.000000  ...    40.000000     0.000000\n",
              "25%       0.000000    42.000000  ...    71.000000     0.000000\n",
              "50%       0.000000    49.000000  ...    78.000000     0.000000\n",
              "75%       1.000000    56.000000  ...    87.000000     0.000000\n",
              "max       1.000000    70.000000  ...   394.000000     1.000000\n",
              "\n",
              "[8 rows x 16 columns]"
            ]
          },
          "metadata": {
            "tags": []
          },
          "execution_count": 15
        }
      ]
    },
    {
      "cell_type": "markdown",
      "metadata": {
        "id": "GxXc8Y7LMR2y"
      },
      "source": [
        "8. Use the plotly library to pairplot the entire DF but exclude the target variable.\n"
      ]
    },
    {
      "cell_type": "code",
      "metadata": {
        "colab": {
          "base_uri": "https://localhost:8080/",
          "height": 917
        },
        "id": "8EWyhQPPo3VF",
        "outputId": "5dbe5840-2968-47b8-c3c0-d73964a76984"
      },
      "source": [
        "dimensions = [dict(label=x, values=heart_df[x]) for x in heart_df.columns if x != 'TenYearCHD']\n",
        "fig = go.Figure()\n",
        "fig.add_trace(go.Splom(dimensions=dimensions))\n",
        "fig.update_traces(\n",
        "    marker=dict(color=heart_df['TenYearCHD'],\n",
        "                size=5,\n",
        "                colorscale='Bluered',\n",
        "                line=dict(width=0.5,\n",
        "                color='rgb(230,230,230)')),\n",
        "    text=['non-diabetic' if TenYearCHD==0 else 'diabetic' for TenYearCHD in heart_df['TenYearCHD']],\n",
        "    diagonal=dict(visible=True)\n",
        ")\n",
        "fig.update_layout(\n",
        "    font=dict(\n",
        "        family=\"monospace\",\n",
        "        size=8,\n",
        "        color=\"RebeccaPurple\"\n",
        "    ),\n",
        "\n",
        "    height=900\n",
        ")\n",
        "fig.show()"
      ],
      "execution_count": null,
      "outputs": [
        {
          "output_type": "display_data",
          "data": {
            "text/html": [
              "<html>\n",
              "<head><meta charset=\"utf-8\" /></head>\n",
              "<body>\n",
              "    <div>\n",
              "            <script src=\"https://cdnjs.cloudflare.com/ajax/libs/mathjax/2.7.5/MathJax.js?config=TeX-AMS-MML_SVG\"></script><script type=\"text/javascript\">if (window.MathJax) {MathJax.Hub.Config({SVG: {font: \"STIX-Web\"}});}</script>\n",
              "                <script type=\"text/javascript\">window.PlotlyConfig = {MathJaxConfig: 'local'};</script>\n",
              "        <script src=\"https://cdn.plot.ly/plotly-latest.min.js\"></script>    \n",
              "            <div id=\"20cdfa4b-6915-4b1d-acc1-ba3f36f18b5a\" class=\"plotly-graph-div\" style=\"height:900px; width:100%;\"></div>\n",
              "            <script type=\"text/javascript\">\n",
              "                \n",
              "                    window.PLOTLYENV=window.PLOTLYENV || {};\n",
              "                    \n",
              "                if (document.getElementById(\"20cdfa4b-6915-4b1d-acc1-ba3f36f18b5a\")) {\n",
              "                    Plotly.newPlot(\n",
              "                        '20cdfa4b-6915-4b1d-acc1-ba3f36f18b5a',\n",
              "                        [{\"diagonal\": {\"visible\": true}, \"dimensions\": [{\"label\": \"male\", \"values\": [1, 0, 1, 0, 0, 0, 0, 0, 1, 1, 0, 0, 1, 0, 0, 1, 0, 0, 1, 0, 0, 0, 1, 1, 1, 0, 0, 1, 1, 0, 1, 1, 1, 0, 1, 0, 0, 1, 0, 0, 0, 1, 0, 0, 1, 0, 0, 0, 0, 1, 1, 0, 1, 0, 1, 0, 1, 0, 0, 1, 0, 0, 1, 0, 0, 0, 0, 0, 1, 1, 1, 0, 0, 0, 0, 0, 0, 1, 1, 1, 1, 0, 0, 1, 0, 0, 0, 0, 0, 0, 0, 0, 0, 0, 0, 1, 0, 1, 0, 1, 0, 1, 1, 0, 1, 1, 0, 0, 1, 0, 0, 1, 1, 1, 1, 0, 1, 1, 0, 0, 1, 0, 1, 0, 0, 1, 1, 0, 0, 1, 0, 0, 1, 0, 0, 0, 0, 0, 1, 0, 0, 0, 0, 0, 1, 0, 1, 1, 0, 1, 0, 1, 0, 0, 1, 0, 0, 0, 1, 0, 0, 0, 0, 0, 1, 1, 0, 0, 0, 1, 1, 0, 1, 1, 1, 0, 0, 1, 0, 0, 1, 0, 1, 1, 0, 1, 0, 0, 0, 1, 1, 0, 0, 1, 0, 0, 0, 0, 0, 0, 0, 1, 1, 1, 0, 1, 0, 0, 1, 0, 1, 0, 1, 0, 0, 1, 1, 1, 0, 0, 1, 1, 0, 0, 0, 1, 1, 0, 1, 1, 0, 0, 1, 1, 0, 1, 1, 1, 0, 1, 0, 0, 0, 1, 0, 0, 1, 0, 0, 0, 0, 0, 1, 0, 0, 1, 0, 1, 0, 1, 0, 1, 0, 1, 0, 1, 0, 0, 1, 0, 0, 1, 1, 1, 0, 1, 1, 1, 1, 0, 0, 1, 0, 1, 1, 0, 0, 0, 0, 0, 1, 0, 1, 0, 0, 0, 0, 0, 0, 0, 1, 0, 0, 0, 1, 1, 1, 1, 1, 0, 0, 1, 1, 0, 0, 0, 1, 1, 1, 1, 1, 0, 0, 1, 0, 0, 0, 0, 0, 1, 1, 0, 0, 0, 1, 1, 1, 0, 0, 0, 0, 1, 0, 0, 1, 0, 1, 0, 1, 1, 1, 0, 0, 1, 1, 0, 1, 1, 1, 0, 0, 0, 1, 0, 0, 0, 0, 0, 0, 0, 0, 0, 0, 1, 1, 1, 1, 1, 0, 0, 0, 0, 1, 1, 1, 1, 0, 0, 0, 0, 0, 0, 1, 0, 0, 0, 0, 0, 1, 1, 1, 0, 0, 0, 1, 1, 1, 1, 1, 1, 0, 0, 1, 0, 0, 1, 1, 0, 1, 0, 0, 0, 1, 0, 1, 1, 1, 1, 1, 1, 0, 0, 0, 0, 0, 1, 0, 0, 0, 0, 0, 0, 1, 1, 1, 1, 1, 0, 0, 1, 0, 1, 0, 0, 1, 1, 0, 0, 0, 0, 0, 1, 1, 1, 0, 1, 0, 0, 0, 1, 0, 1, 1, 0, 1, 1, 1, 0, 1, 0, 0, 0, 1, 0, 0, 0, 0, 0, 1, 0, 1, 0, 0, 0, 1, 0, 0, 0, 1, 1, 1, 0, 1, 0, 0, 1, 0, 1, 1, 0, 0, 0, 1, 0, 0, 1, 1, 1, 0, 1, 0, 0, 1, 0, 1, 0, 1, 0, 1, 1, 0, 0, 1, 0, 0, 1, 0, 1, 0, 1, 0, 1, 1, 0, 1, 0, 1, 0, 1, 1, 0, 0, 0, 0, 0, 0, 1, 0, 1, 1, 0, 0, 1, 1, 1, 0, 0, 0, 0, 0, 1, 0, 1, 1, 1, 0, 0, 1, 0, 0, 0, 0, 0, 1, 0, 0, 0, 1, 1, 1, 0, 1, 1, 0, 1, 1, 0, 0, 0, 1, 0, 0, 1, 0, 1, 0, 0, 0, 0, 1, 0, 1, 0, 0, 1, 0, 1, 0, 1, 1, 1, 1, 1, 0, 1, 0, 0, 0, 1, 1, 0, 1, 0, 1, 0, 0, 0, 0, 0, 0, 1, 1, 0, 1, 1, 1, 0, 0, 1, 0, 0, 0, 1, 1, 1, 1, 0, 0, 1, 1, 0, 0, 0, 1, 0, 1, 0, 1, 1, 1, 1, 1, 0, 1, 0, 0, 0, 0, 0, 1, 1, 0, 1, 1, 1, 0, 1, 0, 1, 1, 0, 1, 0, 0, 1, 1, 0, 0, 0, 0, 1, 1, 0, 1, 0, 0, 1, 1, 1, 1, 1, 1, 1, 1, 0, 0, 0, 0, 1, 1, 1, 0, 0, 0, 1, 0, 1, 1, 0, 0, 1, 0, 0, 1, 0, 1, 0, 0, 0, 1, 0, 1, 0, 0, 1, 1, 0, 0, 1, 0, 1, 0, 0, 0, 0, 0, 1, 0, 1, 1, 1, 1, 1, 0, 0, 1, 1, 1, 0, 1, 0, 1, 0, 1, 1, 1, 0, 1, 1, 0, 0, 1, 0, 0, 1, 0, 1, 0, 0, 0, 1, 0, 1, 0, 1, 0, 0, 0, 1, 0, 1, 0, 0, 0, 1, 0, 0, 1, 1, 1, 0, 0, 1, 0, 0, 1, 0, 1, 0, 0, 0, 1, 0, 0, 0, 1, 0, 0, 1, 0, 0, 1, 0, 0, 1, 1, 0, 0, 0, 0, 0, 1, 0, 0, 0, 1, 0, 0, 1, 1, 1, 1, 1, 0, 0, 0, 0, 0, 0, 0, 1, 1, 1, 1, 1, 0, 0, 0, 1, 0, 0, 1, 0, 0, 1, 0, 0, 1, 0, 1, 1, 0, 1, 1, 1, 1, 1, 0, 1, 0, 1, 0, 1, 1, 1, 0, 1, 0, 1, 0, 1, 0, 0, 1, 1, 1, 0, 0, 1, 1, 1, 1, 1, 1, 1, 1, 0, 1, 1, 1, 1, 0, 0, 0, 0, 1, 1, 0, 0, 1, 1, 0, 1, 0, 0, 0, 0, 0, 1, 0, 0, 0, 1, 0, 0, 0, 1, 0, 0, 1, 1, 1, 0, 1, 0, 1, 1, 0, 0, 1, 0, 1, 0, 1, 0, 0, 0, 0, 0, 1, 0, 1, 0, 1, 1, 0, 0, 1, 0, 0, 0, 0, 0, 0, 0, 1, 0, 0, 1, 1, 1, 0, 0, 0, 1, 1, 0, 1, 0, 0, 0, 0, 0, 0, 0, 0, 0, 0, 1, 1, 0, 0, 1, 0, 0, 1, 1, 1, 0, 0, 1, 1, 0, 1, 0, 0, 1, 1, 1, 0, 0, 1, 0, 0, 0, 1, 0, 0, 0, 1, 1, 0, 1, 1, 0, 0, 0, 0, 1, 0, 0, 1, 0, 1, 0, 1, 0, 1, 0, 0, 1, 1, 0, 0, 0, 1, 1, 0, 1, 1, 1, 1, 0, 0, 1, 1, 0, 0, 0, 1, 0, 0, 1, 0, 1, 0, 1, 0, 1, 1, 1, 0, 0, 0, 1, 1, 1, 0, 1, 0, 0, 0, 0, 1, 0, 0, 1, 1, 1, 1, 0, 1, 1, 0, 0, 0, 0, 0, 1, 0, 0, 1, 1, 1, 1, 0, 1, 1, 1, 1, 1, 1, 0, 1, 1, 1, 0, 1, 0, 1, 0, 0, 0, 0, 1, 1, 0, 1, 1, 0, 0, 1, 0, 1, 1, 0, 0, 0, 1, 0, 1, 1, 0, 0, 0, 0, 1, 1, 0, 0, 1, 1, 1, 1, 1, 1, 1, 0, 1, 0, 0, 0, 0, 0, 1, 0, 1, 1, 1, 0, 1, 0, 0, 0, 0, 1, 1, 0, 1, 0, 0, 0, 1, 0, 1, 1, 0, 1, 1, 1, 0, 0, 0, 1, 0, 0, 0, 1, 0, 1, 0, 0, 1, 0, 1, 1, 0, 0, 0, 0, 0, 0, 1, 0, 1, 1, 1, 0, 0, 1, 0, 0, 0, 1, 1, 0, 0, 1, 1, 0, 0, 0, 0, 1, 0, 1, 1, 0, 1, 0, 0, 1, 0, 1, 0, 0, 1, 0, 0, 1, 1, 1, 0, 0, 1, 1, 0, 0, 0, 0, 0, 0, 1, 0, 1, 1, 1, 1, 0, 1, 0, 0, 0, 0, 0, 0, 0, 0, 0, 1, 0, 1, 1, 0, 0, 1, 1, 1, 0, 0, 0, 0, 1, 0, 1, 0, 0, 1, 0, 1, 0, 0, 0, 0, 0, 0, 0, 0, 1, 0, 1, 0, 0, 0, 0, 1, 0, 1, 1, 0, 1, 0, 0, 1, 0, 1, 0, 1, 0, 0, 0, 1, 0, 1, 0, 1, 0, 0, 1, 1, 0, 1, 0, 1, 0, 0, 0, 0, 1, 1, 0, 1, 1, 0, 0, 0, 1, 0, 0, 0, 1, 0, 0, 1, 0, 0, 0, 1, 0, 1, 0, 0, 1, 1, 0, 0, 0, 0, 1, 0, 0, 1, 1, 0, 0, 1, 1, 0, 0, 0, 1, 0, 1, 0, 1, 1, 1, 0, 1, 0, 1, 0, 0, 0, 0, 0, 0, 1, 0, 0, 1, 0, 0, 1, 0, 1, 0, 0, 0, 0, 1, 0, 0, 1, 0, 1, 1, 1, 1, 0, 0, 1, 0, 0, 0, 0, 1, 0, 1, 0, 0, 0, 0, 0, 0, 0, 0, 0, 0, 0, 0, 0, 1, 0, 0, 0, 0, 0, 0, 0, 0, 1, 1, 0, 1, 0, 1, 1, 0, 1, 0, 0, 0, 1, 1, 0, 0, 0, 0, 1, 0, 0, 0, 1, 1, 0, 0, 1, 0, 1, 1, 1, 0, 1, 0, 0, 1, 0, 0, 1, 1, 0, 0, 0, 0, 1, 1, 0, 0, 0, 1, 1, 1, 0, 1, 0, 1, 0, 0, 0, 1, 1, 0, 0, 0, 1, 1, 1, 1, 1, 1, 0, 0, 1, 1, 1, 1, 0, 0, 1, 0, 0, 0, 1, 1, 1, 1, 0, 0, 0, 1, 0, 0, 1, 1, 1, 0, 0, 1, 0, 0, 0, 0, 0, 0, 0, 0, 0, 1, 0, 0, 1, 1, 1, 1, 1, 1, 0, 1, 0, 0, 0, 0, 0, 1, 1, 1, 0, 1, 0, 1, 0, 1, 0, 0, 0, 1, 0, 0, 0, 0, 1, 0, 0, 0, 0, 1, 0, 1, 0, 0, 1, 0, 1, 0, 1, 0, 1, 1, 0, 0, 0, 0, 0, 1, 0, 0, 1, 0, 1, 0, 0, 0, 1, 1, 1, 1, 0, 1, 0, 0, 1, 1, 0, 0, 1, 0, 0, 1, 0, 1, 0, 0, 0, 1, 0, 0, 1, 0, 1, 0, 0, 1, 0, 0, 1, 1, 0, 0, 0, 1, 0, 0, 0, 1, 0, 0, 1, 1, 0, 0, 0, 1, 1, 1, 0, 1, 1, 0, 0, 1, 0, 1, 0, 0, 1, 0, 0, 0, 0, 0, 1, 0, 1, 1, 0, 0, 0, 1, 0, 1, 1, 1, 0, 1, 0, 0, 0, 0, 0, 1, 0, 1, 0, 0, 1, 0, 1, 0, 0, 1, 0, 1, 1, 0, 0, 1, 0, 1, 0, 1, 1, 0, 0, 1, 1, 1, 1, 1, 1, 0, 1, 1, 1, 0, 0, 1, 0, 0, 1, 0, 0, 1, 0, 0, 0, 0, 1, 1, 1, 0, 0, 1, 0, 1, 1, 0, 0, 0, 0, 0, 0, 1, 0, 1, 1, 1, 1, 0, 1, 1, 0, 0, 0, 0, 1, 0, 1, 0, 1, 0, 1, 0, 1, 0, 0, 0, 0, 0, 0, 1, 0, 1, 1, 1, 0, 0, 0, 1, 1, 0, 0, 0, 1, 0, 1, 1, 0, 0, 0, 0, 1, 0, 0, 0, 1, 1, 0, 0, 1, 0, 0, 0, 1, 1, 0, 0, 0, 1, 1, 1, 1, 0, 1, 1, 1, 1, 1, 0, 1, 1, 0, 1, 0, 0, 1, 1, 1, 0, 0, 0, 1, 0, 1, 0, 1, 1, 1, 1, 1, 0, 0, 0, 1, 0, 0, 1, 0, 1, 1, 0, 0, 1, 1, 0, 0, 1, 1, 1, 1, 0, 1, 0, 0, 1, 0, 0, 0, 0, 1, 1, 1, 1, 1, 1, 1, 0, 1, 1, 1, 1, 0, 1, 0, 1, 0, 1, 0, 0, 1, 0, 1, 0, 0, 1, 1, 0, 0, 0, 1, 0, 0, 1, 0, 0, 0, 1, 1, 1, 0, 0, 1, 0, 1, 1, 0, 0, 0, 0, 1, 0, 0, 1, 0, 0, 1, 1, 0, 1, 1, 1, 1, 1, 1, 0, 1, 1, 0, 0, 1, 0, 0, 1, 0, 0, 0, 1, 0, 1, 1, 0, 0, 1, 0, 0, 0, 0, 0, 1, 0, 0, 1, 0, 1, 0, 1, 1, 1, 0, 0, 0, 0, 0, 0, 0, 0, 1, 1, 0, 1, 0, 1, 0, 1, 0, 1, 0, 1, 0, 0, 0, 0, 1, 1, 0, 1, 0, 0, 0, 0, 0, 0, 1, 1, 1, 0, 0, 0, 1, 0, 1, 1, 0, 0, 1, 1, 0, 0, 0, 0, 1, 1, 0, 1, 1, 0, 1, 1, 0, 0, 1, 0, 1, 1, 0, 1, 0, 1, 1, 0, 0, 0, 1, 0, 1, 1, 0, 1, 1, 0, 0, 0, 1, 1, 0, 1, 1, 0, 0, 1, 1, 1, 1, 1, 1, 1, 0, 0, 1, 1, 1, 1, 0, 1, 0, 0, 0, 0, 0, 1, 0, 0, 1, 0, 1, 0, 1, 0, 1, 1, 0, 1, 0, 1, 1, 1, 1, 0, 0, 0, 0, 0, 0, 0, 0, 0, 1, 0, 1, 1, 1, 1, 0, 1, 0, 1, 1, 0, 0, 1, 1, 0, 1, 1, 0, 0, 1, 0, 0, 0, 0, 0, 0, 0, 0, 0, 1, 0, 0, 1, 0, 0, 1, 0, 1, 0, 0, 0, 1, 0, 1, 0, 0, 0, 1, 1, 0, 1, 0, 1, 1, 0, 1, 0, 0, 0, 1, 1, 0, 0, 0, 1, 0, 1, 0, 1, 1, 1, 0, 0, 0, 1, 0, 0, 1, 1, 0, 1, 1, 1, 0, 0, 1, 1, 1, 0, 0, 0, 0, 0, 0, 0, 1, 1, 0, 0, 0, 0, 1, 0, 0, 1, 1, 1, 0, 0, 0, 0, 0, 1, 1, 1, 0, 1, 0, 1, 1, 0, 0, 0, 1, 1, 0, 1, 0, 0, 0, 1, 1, 1, 1, 1, 1, 0, 0, 0, 0, 0, 0, 1, 0, 1, 1, 0, 0, 1, 0, 0, 1, 0, 0, 0, 0, 1, 0, 0, 1, 0, 0, 1, 1, 1, 0, 1, 0, 1, 0, 1, 0, 1, 0, 1, 0, 0, 0, 1, 0, 1, 0, 1, 0, 1, 1, 1, 0, 0, 0, 1, 0, 1, 1, 0, 1, 0, 1, 1, 0, 0, 1, 1, 0, 0, 0, 0, 1, 1, 0, 0, 1, 0, 0, 0, 0, 0, 0, 1, 0, 1, 1, 0, 1, 1, 0, 0, 0, 0, 1, 1, 0, 0, 1, 1, 0, 1, 1, 1, 0, 0, 0, 1, 0, 1, 1, 0, 0, 0, 0, 1, 1, 0, 1, 0, 1, 1, 1, 0, 1, 1, 1, 0, 0, 0, 1, 1, 0, 0, 0, 0, 1, 0, 1, 1, 1, 0, 1, 0, 0, 1, 1, 0, 1, 1, 0, 0, 1, 1, 1, 1, 0, 1, 0, 0, 0, 0, 1, 1, 1, 0, 1, 1, 1, 0, 0, 0, 1, 0, 1, 1, 0, 1, 0, 0, 1, 0, 0, 0, 0, 0, 1, 1, 1, 0, 0, 0, 1, 1, 0, 0, 1, 0, 0, 0, 0, 0, 0, 0, 0, 0, 1, 0, 1, 1, 1, 1, 1, 1, 0, 1, 0, 1, 0, 1, 1, 0, 0, 0, 0, 0, 1, 1, 0, 0, 1, 0, 0, 0, 0, 1, 0, 0, 1, 0, 1, 1, 1, 0, 1, 1, 1, 1, 0, 0, 0, 1, 0, 1, 1, 1, 1, 0, 0, 1, 0, 1, 1, 0, 1, 0, 0, 0, 0, 1, 0, 0, 1, 1, 1, 1, 0, 1, 1, 0, 0, 1, 1, 1, 0, 1, 1, 0, 0, 0, 0, 0, 1, 0, 0, 1, 1, 0, 0, 0, 0, 0, 0, 0, 1, 0, 1, 1, 0, 1, 1, 0, 1, 0, 1, 0, 0, 1, 0, 0, 0, 1, 1, 0, 0, 1, 0, 1, 1, 1, 1, 0, 1, 0, 0, 1, 1, 0, 1, 0, 0, 0, 0, 0, 1, 1, 1, 0, 1, 1, 1, 0, 1, 0, 1, 0, 1, 0, 0, 0, 0, 1, 0, 0, 1, 0, 1, 1, 1, 0, 0, 1, 0, 0, 0, 0, 1, 1, 0, 1, 0, 1, 0, 1, 0, 1, 0, 0, 0, 1, 0, 0, 0, 0, 0, 0, 0, 0, 0, 1, 0, 0, 1, 1, 1, 0, 1, 1, 1, 0, 1, 0, 0, 1, 1, 0, 0, 0, 0, 1, 0, 1, 0, 1, 0, 0, 0, 1, 0, 1, 1, 0, 0, 0, 0, 1, 1, 1, 0, 1, 0, 0, 1, 0, 1, 0, 1, 0, 1, 1, 0, 1, 1, 0, 0, 0, 0, 0, 0, 0, 0, 0, 0, 0, 0, 0, 0, 1, 0, 0, 0, 0, 0, 0, 1, 0, 1, 0, 1, 1, 1, 1, 1, 1, 0, 0, 1, 0, 1, 0, 1, 1, 0, 0, 0, 1, 1, 0, 1, 0, 0, 1, 1, 1, 1, 0, 1, 0, 0, 1, 0, 1, 0, 1, 0, 0, 1, 1, 1, 0, 0, 0, 0, 0, 0, 1, 0, 0, 0, 0, 0, 1, 0, 1, 1, 0, 0, 1, 0, 1, 0, 0, 0, 1, 0, 1, 0, 0, 1, 0, 0, 1, 0, 1, 1, 1, 0, 0, 1, 0, 0, 1, 0, 0, 0, 0, 0, 1, 1, 0, 1, 1, 1, 0, 0, 0, 0, 1, 1, 1, 1, 0, 1, 0, 0, 1, 0, 1, 0, 0, 0, 1, 0, 0, 1, 1, 1, 0, 1, 0, 1, 0, 1, 1, 1, 1, 1, 0, 0, 0, 1, 0, 1, 1, 1, 0, 0, 1, 1, 1, 1, 0, 1, 1, 1, 0, 0, 1, 0, 1, 0, 0, 0, 1, 0, 1, 0, 1, 0, 1, 0, 0, 0, 1, 1, 0, 1, 1, 0, 1, 1, 1, 1, 1, 1, 0, 0, 1, 0, 0, 0, 1, 0, 0, 0, 0, 0, 0, 0, 1, 0, 1, 0, 0, 1, 1, 1, 1, 1, 0, 0, 0, 0, 1, 1, 1, 0, 1, 0, 1, 1, 0, 1, 0, 1, 0, 0, 0, 0, 1, 1, 0, 0, 0, 1, 1, 1, 0, 0, 0, 1, 0, 0, 1, 0, 1, 1, 1, 1, 0, 0, 0, 1, 1, 0, 1, 1, 0, 1, 0, 1, 0, 0, 1, 1, 1, 0, 0, 1, 1, 0, 1, 1, 0, 0, 1, 0, 0, 0, 1, 1, 0, 0, 0, 0, 0, 0, 1, 0, 0, 1, 0, 1, 0, 0, 0, 1, 1, 0, 0, 1, 0, 0, 0, 0, 0, 1, 0, 0, 0, 0, 0, 0, 1, 0, 1, 1, 1, 0, 1, 0, 0, 0, 1, 0, 0, 0, 0, 0, 0, 1, 1, 0, 1, 0, 1, 0, 0, 1, 0, 0, 1, 1, 1, 1, 0, 1, 0, 1, 1, 0, 0, 0, 0, 0, 1, 0, 0, 0, 0, 0, 0, 1, 0, 1, 0, 0, 1, 0, 0, 0, 1, 0, 0, 0, 0, 0, 0, 1, 1, 1, 1, 0, 0, 1, 0, 0, 1, 1, 1, 1, 0, 0, 0, 1, 1, 0, 1, 0, 1, 0, 0, 1, 1, 0, 1, 1, 0, 1, 0, 0, 0, 1, 1, 1, 1, 1, 0, 1, 0, 1, 1, 1, 0, 0, 0, 0, 1, 0, 1, 0, 1, 0, 0, 0, 1, 1, 1, 1, 0, 0, 0, 0, 1, 0, 0, 1, 1, 0, 0, 0, 0, 0, 0, 0, 0, 0, 1, 0, 1, 0, 0, 1, 0, 1, 0, 1, 1, 1, 1, 1, 1, 0, 1, 0, 0, 0, 0, 0, 0, 0, 0, 1, 1, 1, 0, 0, 1, 0, 0, 0, 1, 1, 1, 0, 0, 0, 1, 0, 1, 0, 0, 1, 1, 0, 1, 0, 0, 1, 1, 1, 0, 0, 1, 1, 0, 0, 0, 0, 0, 0, 0, 1, 1, 1, 1, 1, 1, 0, 0, 0, 0, 1, 0, 0, 0, 1, 0, 1, 1, 1, 0, 1, 1, 0, 0, 1, 1, 1, 0, 0, 0, 0, 0, 0, 1, 1, 1, 1, 0, 0, 1, 1, 0, 0, 0, 1, 1, 0, 1, 1, 0, 1, 1, 1, 0, 0, 0, 1, 0, 0, 0, 1, 1, 1, 1, 1, 0, 1, 0, 0, 1, 1, 0, 1, 1, 0, 0, 1, 0, 0, 1, 1, 0, 1, 1, 0, 0, 1, 0, 0, 1, 0, 0, 1, 0, 1, 0, 0, 1, 0, 0, 0, 0, 0, 0, 1, 0, 0, 0, 0, 1, 1, 0, 1, 1, 0, 0, 0, 0, 1, 1, 0, 0, 0, 1, 0, 0, 0, 1, 0, 0, 1, 0, 0, 0, 0, 1, 0, 0, 0, 1, 0, 0, 0, 1, 0, 0, 0, 1, 1, 0, 0, 1, 0, 1, 1, 1, 1, 1, 1, 0, 0, 1, 1, 1, 0, 1, 1, 1, 1, 0, 1, 1, 1, 0, 1, 1, 0, 0, 0, 0, 0, 0, 1, 1, 0, 1, 1, 0, 1, 1, 1, 0, 1, 1, 1, 0, 0, 1, 1, 0, 0, 1, 1, 0, 0, 1, 0, 1, 1, 1, 0, 0, 0, 1, 1, 0, 1, 0, 1, 1, 1, 0, 0, 0, 0, 0, 0, 1, 0, 1, 1, 0, 0, 1, 1, 0, 1, 0, 1, 0, 1, 0, 0, 1, 0, 0, 0, 1, 1, 0, 1, 0, 0, 0, 1, 1, 0, 1, 1, 1, 1, 0, 1, 0, 1, 1, 0, 1, 0, 0, 1, 0, 0, 0, 1, 1, 1, 1, 1, 1, 1, 0, 1, 0, 0, 0, 0, 1, 1, 0, 0, 0, 1, 0, 1, 1, 0, 1, 0, 0, 0, 1, 1, 0, 1, 1, 0, 0, 1, 0, 1, 1, 1, 0, 1, 0, 0, 0, 1, 0, 0, 1, 0, 1, 0, 0, 0, 0, 0, 0, 1, 0, 1, 0, 0, 0, 0, 1, 1, 1, 1, 1, 0, 0, 0, 0, 0, 1, 1, 1, 1, 1, 1, 1, 1, 1, 0, 1, 1, 1, 1, 0, 1, 0]}, {\"label\": \"age\", \"values\": [39, 46, 48, 61, 46, 43, 63, 45, 52, 43, 50, 43, 46, 41, 38, 48, 46, 38, 41, 42, 52, 52, 44, 47, 35, 61, 60, 36, 43, 59, 54, 37, 52, 42, 36, 43, 41, 54, 53, 49, 65, 46, 63, 63, 51, 47, 62, 46, 54, 49, 44, 40, 56, 67, 53, 57, 57, 63, 62, 38, 47, 52, 42, 41, 44, 59, 44, 45, 41, 60, 39, 53, 52, 61, 36, 62, 61, 41, 41, 53, 39, 51, 66, 60, 65, 63, 56, 56, 47, 60, 45, 48, 42, 63, 42, 40, 66, 49, 67, 48, 64, 50, 60, 37, 36, 50, 39, 46, 66, 46, 55, 41, 44, 38, 43, 41, 53, 59, 56, 50, 46, 43, 61, 41, 55, 43, 40, 57, 56, 48, 59, 47, 64, 54, 64, 61, 61, 66, 39, 58, 49, 49, 46, 36, 41, 47, 57, 50, 62, 39, 37, 48, 46, 52, 38, 50, 39, 55, 62, 60, 61, 39, 42, 37, 42, 36, 53, 52, 45, 56, 42, 55, 38, 56, 61, 42, 49, 48, 55, 58, 60, 38, 53, 52, 37, 42, 64, 56, 67, 43, 45, 66, 52, 49, 57, 48, 36, 38, 60, 40, 43, 53, 54, 56, 50, 46, 53, 59, 48, 48, 54, 36, 59, 55, 55, 40, 65, 65, 45, 40, 63, 55, 60, 58, 39, 61, 51, 60, 36, 39, 42, 60, 52, 47, 46, 57, 45, 45, 55, 41, 50, 54, 57, 62, 46, 53, 52, 67, 42, 51, 60, 39, 68, 54, 38, 39, 36, 36, 44, 48, 54, 41, 34, 41, 62, 38, 55, 46, 49, 39, 47, 62, 39, 45, 63, 41, 44, 44, 49, 53, 51, 43, 60, 39, 56, 59, 43, 48, 61, 55, 39, 42, 51, 54, 64, 58, 42, 41, 63, 53, 41, 53, 59, 45, 49, 41, 39, 50, 53, 54, 40, 51, 40, 38, 48, 46, 59, 37, 40, 59, 46, 67, 40, 55, 52, 42, 54, 58, 45, 67, 68, 61, 55, 42, 39, 40, 39, 63, 55, 39, 39, 51, 54, 48, 51, 65, 39, 47, 59, 66, 41, 41, 41, 45, 37, 43, 41, 44, 36, 60, 55, 61, 45, 45, 52, 46, 42, 58, 38, 64, 40, 57, 48, 40, 43, 45, 36, 63, 33, 56, 43, 60, 44, 61, 61, 46, 48, 55, 50, 46, 47, 44, 55, 47, 48, 40, 35, 49, 38, 50, 38, 57, 44, 47, 56, 61, 56, 46, 53, 49, 46, 37, 50, 51, 64, 44, 37, 62, 54, 39, 44, 51, 63, 46, 40, 56, 44, 51, 45, 56, 40, 52, 64, 50, 41, 57, 51, 50, 46, 53, 65, 58, 56, 46, 64, 43, 35, 59, 50, 62, 53, 52, 57, 46, 49, 47, 65, 41, 61, 41, 53, 36, 43, 37, 62, 64, 40, 49, 46, 47, 38, 39, 43, 43, 50, 48, 45, 55, 53, 50, 40, 50, 56, 44, 37, 42, 54, 39, 42, 55, 60, 34, 44, 49, 50, 47, 63, 39, 43, 41, 59, 51, 62, 51, 46, 37, 60, 52, 40, 52, 45, 60, 39, 46, 40, 44, 38, 60, 42, 44, 47, 55, 48, 61, 62, 64, 46, 54, 42, 55, 35, 40, 44, 52, 63, 39, 51, 59, 51, 67, 47, 50, 63, 39, 38, 42, 38, 52, 60, 41, 41, 56, 38, 63, 42, 40, 51, 60, 40, 34, 40, 54, 36, 38, 37, 39, 60, 58, 56, 50, 57, 41, 40, 51, 43, 36, 64, 50, 49, 59, 62, 56, 57, 48, 38, 49, 65, 42, 45, 38, 48, 58, 60, 55, 54, 45, 64, 49, 45, 48, 45, 57, 50, 58, 40, 54, 39, 46, 60, 62, 60, 40, 54, 47, 58, 51, 47, 35, 44, 50, 57, 39, 41, 45, 49, 38, 59, 39, 59, 64, 51, 57, 40, 62, 53, 37, 48, 40, 51, 48, 64, 44, 64, 41, 49, 39, 61, 58, 52, 48, 45, 66, 44, 60, 42, 42, 67, 63, 62, 50, 63, 41, 53, 53, 42, 47, 58, 45, 55, 67, 56, 38, 63, 40, 45, 54, 67, 39, 46, 35, 47, 43, 52, 45, 42, 56, 63, 52, 46, 49, 44, 42, 64, 59, 54, 57, 53, 35, 46, 40, 47, 49, 58, 54, 47, 60, 53, 66, 36, 37, 49, 44, 41, 37, 55, 36, 37, 47, 50, 68, 44, 42, 50, 53, 57, 47, 49, 58, 55, 59, 55, 43, 46, 43, 46, 49, 42, 61, 36, 39, 48, 39, 59, 48, 44, 42, 44, 52, 60, 35, 40, 64, 53, 59, 55, 58, 56, 40, 42, 48, 65, 52, 39, 55, 64, 51, 49, 53, 47, 52, 50, 58, 64, 37, 57, 64, 66, 35, 38, 39, 42, 45, 57, 62, 58, 51, 59, 44, 60, 54, 53, 43, 64, 61, 39, 35, 66, 53, 40, 46, 49, 42, 60, 56, 39, 62, 45, 61, 55, 58, 53, 37, 36, 60, 53, 62, 59, 43, 47, 53, 47, 48, 43, 47, 43, 56, 34, 47, 66, 39, 58, 57, 63, 53, 38, 57, 49, 47, 36, 42, 39, 52, 61, 54, 61, 52, 38, 37, 52, 50, 60, 39, 57, 64, 45, 67, 40, 48, 53, 50, 47, 42, 53, 39, 39, 64, 61, 46, 49, 55, 41, 46, 64, 43, 50, 38, 56, 53, 51, 42, 58, 54, 53, 58, 60, 62, 59, 53, 35, 50, 36, 57, 34, 46, 42, 46, 45, 60, 45, 44, 39, 42, 62, 48, 45, 58, 56, 55, 57, 61, 42, 50, 42, 46, 53, 44, 54, 58, 67, 44, 41, 52, 40, 55, 41, 40, 41, 48, 52, 53, 52, 65, 48, 45, 58, 54, 56, 67, 55, 59, 49, 54, 45, 55, 46, 40, 44, 40, 37, 47, 47, 43, 53, 51, 52, 52, 50, 37, 50, 43, 60, 53, 42, 61, 40, 59, 52, 63, 66, 53, 39, 58, 56, 54, 64, 44, 46, 40, 42, 63, 61, 52, 51, 64, 64, 40, 44, 45, 44, 50, 56, 63, 57, 64, 57, 55, 55, 41, 46, 38, 56, 67, 45, 50, 41, 46, 60, 41, 61, 68, 45, 52, 56, 53, 51, 47, 67, 49, 36, 62, 36, 45, 47, 38, 57, 64, 46, 49, 50, 63, 48, 60, 41, 64, 62, 62, 66, 59, 36, 40, 53, 49, 64, 46, 58, 41, 40, 42, 52, 49, 52, 46, 40, 35, 42, 58, 43, 44, 38, 39, 41, 40, 38, 41, 42, 58, 42, 47, 59, 55, 68, 61, 36, 45, 51, 45, 35, 49, 50, 40, 43, 49, 47, 58, 38, 47, 60, 45, 58, 63, 52, 47, 46, 49, 36, 58, 58, 46, 61, 59, 40, 54, 56, 45, 51, 59, 40, 53, 64, 48, 41, 43, 56, 40, 45, 60, 40, 55, 47, 50, 45, 39, 40, 52, 50, 63, 55, 46, 62, 41, 38, 59, 34, 50, 59, 44, 33, 60, 55, 50, 35, 57, 60, 53, 43, 56, 36, 38, 49, 49, 42, 35, 38, 62, 44, 39, 39, 46, 52, 48, 52, 57, 44, 57, 49, 42, 42, 64, 49, 59, 37, 33, 38, 40, 66, 64, 47, 39, 55, 41, 56, 65, 53, 42, 45, 55, 53, 62, 54, 43, 49, 66, 64, 43, 42, 46, 43, 53, 50, 46, 51, 67, 51, 45, 44, 44, 48, 36, 63, 36, 65, 48, 63, 40, 40, 42, 63, 36, 46, 39, 39, 51, 48, 57, 41, 42, 38, 41, 43, 55, 38, 46, 45, 53, 44, 51, 39, 51, 55, 43, 67, 55, 39, 54, 41, 48, 45, 61, 38, 49, 47, 59, 60, 37, 48, 39, 46, 58, 46, 65, 59, 52, 40, 54, 51, 60, 51, 44, 47, 59, 40, 50, 54, 51, 61, 41, 47, 46, 60, 49, 45, 39, 61, 40, 55, 61, 52, 54, 50, 37, 55, 61, 63, 57, 58, 57, 40, 43, 46, 52, 52, 64, 62, 42, 47, 52, 42, 39, 51, 38, 63, 41, 58, 47, 36, 56, 47, 49, 41, 51, 40, 44, 36, 61, 51, 43, 48, 37, 44, 54, 54, 59, 44, 45, 53, 46, 63, 52, 42, 48, 48, 42, 59, 40, 45, 38, 46, 67, 53, 38, 43, 59, 61, 52, 53, 67, 37, 54, 54, 55, 62, 52, 47, 47, 39, 46, 51, 38, 61, 40, 52, 36, 40, 63, 55, 42, 55, 39, 57, 60, 53, 39, 62, 45, 40, 58, 36, 66, 62, 63, 61, 41, 47, 44, 46, 45, 43, 46, 52, 64, 49, 50, 59, 56, 49, 46, 41, 46, 50, 44, 57, 58, 41, 43, 36, 52, 44, 36, 38, 54, 39, 48, 39, 41, 51, 60, 43, 42, 51, 39, 39, 46, 40, 41, 47, 56, 44, 54, 63, 53, 50, 44, 56, 43, 47, 37, 53, 41, 56, 57, 40, 66, 34, 62, 36, 39, 54, 53, 35, 40, 41, 43, 64, 43, 66, 51, 57, 62, 51, 35, 42, 47, 40, 58, 43, 48, 49, 55, 57, 51, 50, 44, 39, 47, 65, 43, 48, 49, 39, 52, 49, 55, 46, 63, 58, 52, 39, 39, 54, 38, 38, 55, 59, 45, 54, 48, 52, 56, 38, 50, 56, 37, 47, 60, 43, 36, 40, 44, 45, 57, 48, 57, 39, 51, 60, 61, 39, 51, 63, 55, 57, 55, 48, 58, 37, 48, 43, 51, 41, 65, 62, 42, 45, 58, 46, 51, 61, 40, 56, 53, 42, 59, 40, 60, 56, 40, 43, 55, 49, 59, 40, 38, 55, 45, 43, 57, 38, 40, 56, 64, 67, 43, 55, 48, 51, 57, 55, 38, 39, 63, 46, 49, 61, 42, 58, 41, 61, 62, 44, 61, 56, 41, 49, 56, 35, 40, 62, 47, 48, 42, 42, 50, 39, 58, 66, 61, 60, 67, 42, 50, 50, 43, 57, 56, 56, 36, 63, 62, 44, 41, 56, 56, 50, 55, 38, 47, 54, 40, 63, 65, 50, 54, 39, 46, 53, 48, 51, 64, 63, 55, 39, 59, 52, 48, 64, 64, 54, 55, 47, 42, 55, 42, 47, 62, 37, 58, 51, 48, 51, 52, 66, 37, 61, 42, 42, 40, 59, 58, 41, 51, 62, 49, 59, 44, 64, 45, 63, 38, 39, 45, 55, 63, 41, 46, 58, 59, 46, 51, 42, 62, 47, 48, 57, 43, 64, 49, 45, 53, 45, 52, 61, 46, 48, 48, 41, 64, 53, 42, 38, 46, 61, 48, 57, 40, 49, 43, 50, 51, 58, 40, 46, 44, 44, 36, 64, 47, 54, 52, 52, 38, 45, 42, 47, 43, 46, 42, 62, 62, 57, 39, 36, 38, 67, 64, 38, 38, 43, 38, 54, 41, 39, 50, 68, 54, 49, 40, 38, 48, 50, 50, 44, 44, 45, 52, 51, 57, 60, 40, 57, 64, 56, 54, 42, 36, 35, 54, 62, 39, 37, 64, 59, 40, 52, 40, 62, 48, 55, 57, 50, 50, 42, 42, 66, 41, 57, 43, 39, 50, 50, 33, 36, 53, 67, 55, 56, 39, 62, 57, 39, 56, 54, 39, 37, 60, 62, 58, 51, 48, 58, 54, 63, 37, 59, 55, 40, 56, 41, 37, 50, 41, 41, 49, 51, 62, 42, 59, 52, 37, 36, 36, 39, 55, 40, 38, 44, 54, 40, 42, 66, 54, 57, 38, 42, 42, 45, 48, 44, 62, 41, 49, 54, 43, 61, 63, 38, 53, 45, 51, 52, 40, 42, 37, 52, 44, 44, 42, 45, 39, 63, 42, 55, 46, 45, 37, 50, 52, 53, 46, 35, 42, 52, 41, 48, 62, 53, 60, 39, 43, 42, 60, 65, 45, 38, 38, 59, 55, 62, 37, 38, 52, 45, 41, 52, 59, 53, 48, 54, 39, 46, 45, 50, 46, 36, 53, 50, 63, 38, 56, 38, 48, 56, 41, 48, 57, 44, 40, 45, 57, 42, 38, 41, 63, 52, 48, 44, 49, 42, 42, 57, 57, 54, 39, 50, 49, 49, 48, 39, 54, 51, 54, 58, 45, 60, 40, 64, 47, 54, 60, 48, 41, 36, 37, 39, 63, 66, 48, 37, 64, 46, 38, 43, 44, 44, 46, 46, 60, 61, 51, 63, 61, 36, 43, 60, 46, 48, 66, 40, 42, 44, 46, 50, 40, 50, 49, 42, 39, 49, 41, 37, 43, 64, 40, 48, 63, 51, 64, 58, 48, 37, 55, 42, 43, 44, 37, 50, 58, 42, 48, 32, 39, 54, 50, 60, 54, 46, 50, 45, 60, 52, 58, 38, 59, 41, 46, 53, 50, 57, 40, 41, 41, 56, 49, 47, 64, 59, 40, 45, 46, 42, 41, 35, 37, 55, 56, 51, 62, 49, 44, 39, 51, 48, 43, 65, 65, 56, 45, 61, 53, 65, 34, 46, 49, 63, 55, 42, 44, 49, 49, 52, 41, 36, 50, 59, 44, 49, 51, 56, 38, 66, 54, 48, 63, 63, 50, 51, 48, 60, 48, 58, 44, 39, 37, 56, 59, 53, 59, 65, 58, 40, 37, 64, 62, 48, 37, 52, 51, 66, 54, 55, 57, 39, 59, 55, 42, 45, 48, 50, 37, 57, 57, 42, 67, 44, 59, 47, 59, 46, 39, 45, 53, 67, 57, 46, 45, 60, 53, 43, 45, 68, 57, 54, 44, 50, 39, 43, 36, 54, 41, 60, 41, 52, 53, 37, 38, 40, 37, 65, 39, 41, 48, 50, 67, 41, 46, 43, 55, 55, 48, 48, 38, 48, 40, 57, 40, 64, 53, 46, 51, 40, 52, 41, 50, 36, 51, 40, 45, 40, 43, 54, 51, 38, 36, 52, 39, 58, 49, 52, 40, 55, 58, 48, 54, 60, 41, 43, 49, 53, 44, 44, 42, 37, 45, 36, 64, 54, 55, 59, 55, 60, 57, 42, 59, 58, 57, 51, 49, 52, 41, 44, 40, 39, 38, 64, 44, 53, 43, 53, 60, 48, 50, 45, 56, 61, 44, 43, 59, 41, 42, 61, 43, 47, 55, 38, 46, 64, 40, 60, 63, 64, 45, 47, 54, 42, 46, 55, 44, 52, 65, 51, 42, 42, 58, 40, 41, 57, 65, 59, 51, 36, 63, 37, 51, 52, 47, 56, 39, 68, 52, 65, 47, 54, 67, 63, 58, 63, 58, 36, 46, 64, 56, 68, 63, 49, 40, 46, 51, 44, 67, 38, 43, 46, 41, 54, 41, 48, 62, 58, 67, 41, 37, 62, 44, 48, 44, 42, 46, 46, 56, 40, 53, 63, 41, 55, 45, 43, 45, 38, 40, 40, 43, 58, 45, 59, 64, 44, 39, 47, 45, 45, 50, 54, 41, 44, 44, 45, 41, 41, 58, 65, 44, 41, 60, 40, 56, 52, 54, 42, 42, 43, 49, 47, 53, 62, 41, 38, 50, 44, 55, 53, 54, 47, 51, 60, 49, 43, 57, 61, 47, 62, 62, 35, 51, 42, 40, 44, 46, 40, 40, 48, 43, 48, 43, 38, 48, 58, 51, 42, 46, 48, 55, 41, 57, 51, 42, 41, 45, 61, 43, 54, 59, 40, 60, 49, 52, 51, 49, 52, 42, 44, 54, 48, 52, 42, 50, 46, 59, 59, 50, 39, 58, 47, 57, 63, 43, 56, 50, 47, 48, 56, 40, 63, 52, 59, 42, 41, 48, 49, 43, 53, 49, 67, 59, 46, 47, 36, 51, 49, 54, 49, 67, 62, 38, 50, 45, 48, 58, 36, 57, 43, 63, 59, 67, 42, 39, 42, 43, 52, 45, 61, 56, 43, 56, 55, 46, 43, 43, 50, 48, 57, 51, 40, 51, 41, 59, 61, 43, 65, 42, 41, 56, 56, 59, 54, 45, 53, 54, 59, 41, 47, 44, 54, 55, 53, 52, 51, 49, 68, 39, 54, 46, 49, 46, 51, 55, 61, 38, 36, 50, 42, 45, 48, 50, 52, 50, 58, 57, 44, 40, 58, 45, 38, 61, 62, 50, 36, 44, 44, 44, 55, 48, 64, 53, 37, 40, 45, 39, 55, 42, 52, 35, 39, 54, 56, 49, 39, 59, 52, 45, 53, 66, 41, 45, 46, 41, 59, 44, 53, 34, 38, 44, 45, 57, 61, 38, 57, 47, 58, 60, 63, 56, 54, 57, 44, 60, 41, 50, 49, 50, 52, 33, 46, 52, 45, 46, 63, 41, 41, 52, 46, 63, 37, 43, 67, 42, 51, 63, 36, 51, 43, 40, 49, 57, 39, 58, 53, 60, 40, 52, 57, 46, 40, 54, 51, 54, 51, 39, 63, 40, 47, 38, 44, 45, 53, 54, 48, 38, 54, 51, 39, 46, 44, 48, 42, 52, 62, 54, 64, 65, 49, 60, 70, 44, 40, 47, 39, 57, 58, 67, 42, 52, 50, 41, 38, 57, 35, 42, 35, 62, 42, 39, 44, 59, 60, 53, 40, 53, 41, 60, 36, 45, 50, 43, 49, 42, 55, 45, 53, 39, 38, 42, 48, 62, 63, 49, 43, 45, 38, 46, 48, 45, 59, 43, 45, 49, 38, 47, 45, 49, 37, 37, 45, 57, 46, 48, 46, 57, 55, 39, 40, 42, 65, 36, 44, 50, 43, 50, 43, 41, 55, 58, 46, 45, 66, 51, 46, 43, 42, 64, 39, 45, 52, 50, 60, 62, 51, 51, 40, 39, 47, 48, 40, 43, 51, 59, 44, 64, 37, 54, 60, 69, 36, 51, 40, 58, 44, 44, 42, 48, 46, 44, 47, 46, 41, 61, 42, 69, 53, 66, 45, 38, 58, 39, 56, 44, 59, 63, 41, 55, 46, 46, 48, 46, 48, 57, 40, 61, 47, 47, 42, 56, 41, 65, 61, 47, 41, 60, 37, 36, 52, 58, 57, 45, 58, 62, 61, 44, 48, 65, 39, 40, 63, 39, 50, 46, 47, 64, 59, 63, 51, 47, 38, 45, 61, 51, 45, 54, 64, 49, 59, 48, 48, 63, 55, 42, 59, 64, 51, 54, 66, 36, 54, 47, 41, 62, 65, 50, 55, 37, 60, 47, 38, 47, 51, 61, 41, 47, 37, 59, 50, 44, 61, 43, 62, 57, 39, 46, 49, 44, 62, 55, 58, 53, 46, 62, 52, 41, 44, 58, 51, 63, 42, 44, 57, 49, 53, 54, 63, 63, 42, 41, 66, 52, 48, 53, 45, 40, 39, 51, 45, 44, 56, 51, 42, 52, 36, 42, 48, 50, 36, 62, 61, 36, 58, 57, 49, 48, 56, 61, 51, 42, 58, 47, 52, 57, 61, 62, 56, 57, 60, 50, 52, 54, 44, 59, 45, 40, 43, 42, 40, 48, 43, 59, 63, 50, 38, 35, 56, 40, 35, 62, 61, 54, 38, 63, 60, 49, 53, 50, 62, 55, 46, 40, 38, 55, 40, 58, 49, 50, 45, 42, 51, 56, 53, 38, 48, 40, 62, 36, 43, 56, 59, 43, 43, 50, 46, 43, 61, 60, 48, 38, 44, 52, 60, 62, 58, 48, 44, 47, 44, 46, 37, 57, 55, 54, 55, 46, 39, 37, 43, 46, 68, 46, 41, 55, 39, 46, 53, 58, 57, 40, 49, 43, 37, 43, 46, 62, 61, 49, 56, 54, 39, 65, 40, 41, 36, 48, 52, 63, 61, 53, 44, 44, 48, 45, 58, 40, 47, 44, 47, 57, 60, 42, 58, 45, 63, 49, 51, 40, 49, 55, 38, 54, 40, 54, 66, 63, 52, 48, 54, 38, 65, 53, 44, 47, 57, 44, 43, 50, 41, 45, 46, 50, 42, 58, 48, 36, 68, 37, 50, 62, 40, 41, 38, 53, 46, 51, 39, 37, 46, 48, 48, 49, 60, 49, 41, 38, 56, 54, 69, 67, 43, 48, 48, 42, 47, 62, 57, 38, 51, 40, 43, 34, 55, 44, 50, 52, 63, 43, 41, 34, 37, 50, 36, 59, 40, 42, 42, 43, 49, 47, 60, 46, 46, 49, 53, 44, 60, 47, 40, 44, 65, 49, 56, 41, 46, 56, 59, 45, 63, 59, 60, 48, 50, 45, 55, 55, 57, 65, 36, 60, 44, 55, 61, 59, 60, 54, 45, 56, 35, 34, 46, 45, 50, 55, 53, 60, 39, 40, 52, 35, 49, 43, 40, 39, 51, 37, 61, 47, 67, 55, 41, 60, 42, 38, 47, 61, 52, 56, 34, 58, 54, 48, 59, 53, 43, 54, 48, 48, 46, 43, 53, 51, 52, 43, 65, 50, 49, 35, 61, 44, 41, 60, 47, 41, 53, 48, 39, 38, 65, 39, 37, 37, 39, 52, 55, 62, 46, 52, 68, 45, 62, 53, 42, 65, 63, 49, 52, 45, 53, 62, 40, 57, 37, 46, 38, 48, 62, 55, 68, 45, 58, 46, 43, 43, 38, 64, 67, 45, 45, 48, 61, 64, 57, 45, 38, 56, 59, 48, 40, 41, 45, 59, 47, 39, 65, 37, 40, 53, 38, 57, 42, 39, 65, 46, 58, 68, 40, 38, 52, 54, 44, 47, 42, 59, 55, 40, 43, 43, 56, 52, 62, 44, 63, 57, 38, 38, 38, 59, 35, 61, 67, 56, 55, 48, 51, 43, 40, 46, 62, 35, 49, 49, 47, 45, 51, 55, 57, 41, 48, 48, 47, 53, 44, 63, 59, 41, 39, 40, 66, 52, 39, 56, 64, 42, 42, 54, 43, 64, 56, 62, 64, 43, 56, 46, 61, 55, 61, 54, 41, 51, 35, 46, 55, 39, 43, 40, 54, 41, 46, 44, 37, 54, 46, 58, 46, 39, 52, 40, 46, 64, 48, 44, 39, 55, 38, 62, 63, 43, 55, 53, 60, 45, 48, 46, 55, 36, 60, 34, 40, 40, 49, 40, 52, 58, 46, 39, 52, 66, 56, 44, 56, 39, 56, 46, 37, 59, 50, 41, 39, 44, 48, 44, 44, 57, 48, 55, 38, 61, 46, 41, 53, 47, 42, 42, 51, 40, 52, 53, 51, 40, 63, 61, 43, 42, 62, 36, 63, 46, 54, 58, 56, 47, 64, 51, 43, 40, 46, 64, 60, 56, 54, 61, 69, 56, 50, 51, 38, 43, 46, 43, 56, 54, 45, 61, 49, 64, 65, 63, 40, 47, 37, 51, 40, 51, 57, 64, 38, 48, 53, 57, 45, 57, 57, 39, 46, 42, 42, 42, 49, 48, 47, 55, 59, 55, 42, 48, 42, 55, 62, 36, 57, 52, 47, 38, 61, 69, 62, 37, 65, 39, 44, 57, 45, 62, 38, 41, 58, 54, 51, 52, 41, 52, 41, 54, 43, 38, 65, 37, 44, 49, 42, 44, 54, 41, 37, 45, 63, 65, 40, 46, 63, 52, 61, 38, 62, 42, 63, 38, 46, 43, 61, 65, 50, 42, 48, 48, 56, 63, 59, 63, 52, 48, 60, 50, 53, 56, 47, 45, 58, 43, 50, 58, 68, 50, 51, 52, 40, 39]}, {\"label\": \"education\", \"values\": [4.0, 2.0, 1.0, 3.0, 3.0, 2.0, 1.0, 2.0, 1.0, 1.0, 1.0, 2.0, 1.0, 3.0, 2.0, 3.0, 2.0, 2.0, 2.0, 2.0, 1.0, 3.0, 2.0, 4.0, 2.0, 3.0, 1.0, 4.0, 4.0, 1.0, 1.0, 2.0, 1.0, 1.0, 3.0, 2.0, 2.0, 2.0, 3.0, 2.0, 1.0, 1.0, 2.0, 1.0, 4.0, 2.0, 1.0, 1.0, 1.0, 1.0, 2.0, 4.0, 4.0, 1.0, 1.0, 1.0, 1.0, 1.0, 1.0, 1.0, 2.0, 4.0, 3.0, 1.0, 2.0, 1.0, 1.0, 1.0, 2.0, 1.0, 2.0, 2.0, 1.0, 1.0, 2.0, 1.0, 2.0, 4.0, 2.0, 1.0, 2.0, 1.0, 1.0, 4.0, 3.0, 4.0, 1.0, 1.0, 2.0, 3.0, 3.0, 1.0, 1.0, 1.0, 4.0, 1.0, 1.0, 1.0, 1.0, 4.0, 1.0, 1.0, 1.0, 2.0, 4.0, 3.0, 4.0, 1.0, 3.0, 1.0, 2.0, 2.0, 2.0, 4.0, 1.0, 2.0, 1.0, 2.0, 2.0, 3.0, 1.0, 2.0, 2.0, 3.0, 1.0, 1.0, 3.0, 1.0, 1.0, 4.0, 1.0, 3.0, 4.0, 1.0, 1.0, 1.0, 1.0, 1.0, 1.0, 2.0, 1.0, 3.0, 3.0, 3.0, 4.0, 2.0, 2.0, 1.0, 1.0, 2.0, 4.0, 1.0, 2.0, 1.0, 2.0, 2.0, 3.0, 1.0, 1.0, 3.0, 1.0, 1.0, 1.0, 1.0, 3.0, 1.0, 1.0, 2.0, 4.0, 1.0, 2.0, 1.0, 2.0, 1.0, 1.0, 3.0, 2.0, 1.0, 2.0, 2.0, 1.0, 2.0, 4.0, 2.0, 4.0, 2.0, 1.0, 1.0, 2.0, 2.0, 4.0, 1.0, 3.0, 1.0, 2.0, 2.0, 2.0, 2.0, 1.0, 2.0, 1.0, 2.0, 1.0, 3.0, 1.0, 4.0, 1.0, 2.0, 2.0, 1.0, 1.0, 1.0, 4.0, 1.0, 3.0, 3.0, 4.0, 1.0, 3.0, 2.0, 4.0, 2.0, 1.0, 3.0, 1.0, 1.0, 4.0, 1.0, 4.0, 1.0, 1.0, 1.0, 3.0, 1.0, 1.0, 1.0, 2.0, 1.0, 1.0, 2.0, 2.0, 1.0, 2.0, 4.0, 1.0, 2.0, 1.0, 1.0, 2.0, 2.0, 3.0, 4.0, 1.0, 2.0, 2.0, 2.0, 2.0, 4.0, 3.0, 4.0, 4.0, 2.0, 3.0, 2.0, 2.0, 1.0, 1.0, 2.0, 1.0, 3.0, 3.0, 1.0, 1.0, 1.0, 1.0, 2.0, 3.0, 1.0, 2.0, 2.0, 3.0, 3.0, 3.0, 2.0, 1.0, 1.0, 1.0, 1.0, 1.0, 2.0, 1.0, 3.0, 1.0, 1.0, 1.0, 1.0, 1.0, 4.0, 1.0, 2.0, 1.0, 2.0, 1.0, 3.0, 2.0, 1.0, 1.0, 2.0, 1.0, 2.0, 3.0, 1.0, 2.0, 3.0, 4.0, 1.0, 2.0, 2.0, 3.0, 1.0, 1.0, 1.0, 2.0, 4.0, 1.0, 2.0, 4.0, 3.0, 2.0, 1.0, 2.0, 3.0, 4.0, 2.0, 1.0, 1.0, 2.0, 2.0, 3.0, 2.0, 2.0, 1.0, 1.0, 3.0, 1.0, 2.0, 3.0, 2.0, 1.0, 1.0, 3.0, 2.0, 1.0, 4.0, 1.0, 3.0, 2.0, 1.0, 3.0, 3.0, 2.0, 1.0, 1.0, 2.0, 1.0, 2.0, 2.0, 3.0, 2.0, 1.0, 2.0, 1.0, 1.0, 4.0, 2.0, 1.0, 2.0, 1.0, 3.0, 1.0, 4.0, 1.0, 3.0, 4.0, 1.0, 4.0, 3.0, 3.0, 2.0, 4.0, 1.0, 1.0, 1.0, 2.0, 4.0, 2.0, 2.0, 1.0, 2.0, 1.0, 2.0, 3.0, 2.0, 1.0, 1.0, 1.0, 1.0, 2.0, 3.0, 1.0, 3.0, 2.0, 1.0, 4.0, 1.0, 2.0, 2.0, 1.0, 2.0, 2.0, 1.0, 2.0, 4.0, 3.0, 4.0, 3.0, 1.0, 2.0, 3.0, 4.0, 3.0, 1.0, 1.0, 3.0, 3.0, 4.0, 3.0, 1.0, 3.0, 2.0, 2.0, 1.0, 1.0, 1.0, 1.0, 2.0, 2.0, 3.0, 4.0, 4.0, 3.0, 1.0, 2.0, 3.0, 1.0, 3.0, 3.0, 2.0, 1.0, 1.0, 2.0, 1.0, 1.0, 3.0, 2.0, 2.0, 3.0, 3.0, 2.0, 2.0, 3.0, 1.0, 2.0, 1.0, 3.0, 1.0, 1.0, 1.0, 1.0, 1.0, 2.0, 2.0, 2.0, 3.0, 4.0, 3.0, 1.0, 2.0, 4.0, 1.0, 4.0, 2.0, 3.0, 3.0, 1.0, 2.0, 4.0, 3.0, 1.0, 2.0, 1.0, 1.0, 1.0, 2.0, 4.0, 1.0, 1.0, 2.0, 2.0, 1.0, 1.0, 2.0, 4.0, 1.0, 3.0, 1.0, 2.0, 3.0, 3.0, 2.0, 2.0, 1.0, 1.0, 1.0, 1.0, 2.0, 3.0, 1.0, 1.0, 2.0, 2.0, 2.0, 2.0, 2.0, 4.0, 2.0, 3.0, 2.0, 1.0, 1.0, 2.0, 3.0, 3.0, 2.0, 1.0, 1.0, 2.0, 2.0, 4.0, 2.0, 2.0, 1.0, 2.0, 2.0, 4.0, 2.0, 1.0, 2.0, 2.0, 2.0, 2.0, 4.0, 4.0, 2.0, 4.0, 1.0, 1.0, 3.0, 1.0, 1.0, 1.0, 1.0, 3.0, 1.0, 4.0, 1.0, 1.0, 4.0, 2.0, 2.0, 1.0, 4.0, 1.0, 1.0, 1.0, 1.0, 2.0, 1.0, 4.0, 1.0, 2.0, 4.0, 1.0, 1.0, 1.0, 4.0, 1.0, 3.0, 2.0, 2.0, 3.0, 2.0, 1.0, 2.0, 4.0, 2.0, 2.0, 1.0, 3.0, 1.0, 1.0, 1.0, 1.0, 3.0, 1.0, 1.0, 1.0, 2.0, 1.0, 4.0, 1.0, 2.0, 2.0, 1.0, 2.0, 2.0, 1.0, 2.0, 1.0, 1.0, 2.0, 1.0, 3.0, 4.0, 3.0, 1.0, 3.0, 3.0, 1.0, 1.0, 1.0, 1.0, 1.0, 2.0, 4.0, 2.0, 1.0, 1.0, 2.0, 4.0, 3.0, 1.0, 2.0, 1.0, 2.0, 1.0, 1.0, 2.0, 2.0, 2.0, 1.0, 2.0, 1.0, 2.0, 3.0, 4.0, 1.0, 3.0, 1.0, 1.0, 1.0, 2.0, 4.0, 2.0, 2.0, 2.0, 1.0, 3.0, 3.0, 3.0, 3.0, 2.0, 1.0, 3.0, 3.0, 1.0, 1.0, 3.0, 1.0, 4.0, 1.0, 2.0, 2.0, 2.0, 2.0, 3.0, 1.0, 2.0, 1.0, 2.0, 2.0, 3.0, 3.0, 1.0, 2.0, 1.0, 4.0, 1.0, 4.0, 1.0, 2.0, 2.0, 4.0, 2.0, 1.0, 1.0, 2.0, 2.0, 3.0, 1.0, 2.0, 1.0, 2.0, 1.0, 2.0, 2.0, 4.0, 3.0, 1.0, 1.0, 1.0, 3.0, 2.0, 2.0, 2.0, 1.0, 1.0, 2.0, 2.0, 2.0, 1.0, 4.0, 2.0, 3.0, 1.0, 2.0, 1.0, 1.0, 1.0, 2.0, 2.0, 2.0, 2.0, 2.0, 1.0, 2.0, 2.0, 2.0, 1.0, 2.0, 1.0, 3.0, 2.0, 1.0, 1.0, 1.0, 4.0, 4.0, 1.0, 4.0, 1.0, 1.0, 1.0, 3.0, 1.0, 4.0, 1.0, 2.0, 1.0, 1.0, 1.0, 1.0, 3.0, 2.0, 1.0, 3.0, 2.0, 1.0, 1.0, 3.0, 1.0, 4.0, 2.0, 1.0, 1.0, 3.0, 4.0, 2.0, 1.0, 1.0, 1.0, 1.0, 1.0, 4.0, 1.0, 1.0, 3.0, 1.0, 1.0, 4.0, 1.0, 2.0, 2.0, 2.0, 2.0, 1.0, 1.0, 4.0, 2.0, 2.0, 1.0, 1.0, 3.0, 3.0, 4.0, 2.0, 2.0, 3.0, 1.0, 1.0, 4.0, 1.0, 1.0, 3.0, 2.0, 1.0, 2.0, 2.0, 2.0, 1.0, 2.0, 3.0, 1.0, 1.0, 1.0, 1.0, 3.0, 1.0, 3.0, 1.0, 1.0, 1.0, 1.0, 1.0, 2.0, 1.0, 1.0, 3.0, 2.0, 1.0, 4.0, 1.0, 2.0, 2.0, 2.0, 1.0, 3.0, 2.0, 1.0, 3.0, 2.0, 3.0, 1.0, 1.0, 1.0, 4.0, 3.0, 1.0, 2.0, 1.0, 1.0, 2.0, 2.0, 4.0, 1.0, 3.0, 3.0, 2.0, 2.0, 3.0, 1.0, 1.0, 4.0, 2.0, 2.0, 3.0, 2.0, 1.0, 4.0, 2.0, 1.0, 4.0, 3.0, 1.0, 2.0, 1.0, 1.0, 2.0, 1.0, 1.0, 2.0, 1.0, 4.0, 1.0, 2.0, 2.0, 1.0, 2.0, 1.0, 1.0, 2.0, 4.0, 1.0, 2.0, 3.0, 2.0, 1.0, 2.0, 1.0, 1.0, 1.0, 1.0, 1.0, 1.0, 2.0, 3.0, 3.0, 1.0, 1.0, 3.0, 2.0, 2.0, 2.0, 1.0, 2.0, 2.0, 4.0, 1.0, 1.0, 1.0, 2.0, 4.0, 1.0, 1.0, 1.0, 1.0, 4.0, 1.0, 4.0, 2.0, 4.0, 2.0, 1.0, 1.0, 3.0, 2.0, 2.0, 3.0, 2.0, 2.0, 1.0, 1.0, 3.0, 1.0, 4.0, 2.0, 3.0, 1.0, 3.0, 3.0, 1.0, 2.0, 2.0, 2.0, 1.0, 2.0, 2.0, 4.0, 2.0, 2.0, 1.0, 3.0, 1.0, 3.0, 1.0, 1.0, 3.0, 2.0, 1.0, 2.0, 2.0, 3.0, 2.0, 1.0, 4.0, 3.0, 3.0, 2.0, 1.0, 1.0, 4.0, 2.0, 2.0, 4.0, 3.0, 2.0, 1.0, 3.0, 3.0, 2.0, 2.0, 1.0, 4.0, 2.0, 1.0, 2.0, 1.0, 3.0, 1.0, 3.0, 1.0, 2.0, 1.0, 1.0, 1.0, 1.0, 1.0, 1.0, 4.0, 1.0, 1.0, 1.0, 1.0, 3.0, 2.0, 4.0, 1.0, 3.0, 1.0, 1.0, 1.0, 3.0, 2.0, 1.0, 1.0, 1.0, 3.0, 2.0, 2.0, 2.0, 1.0, 1.0, 2.0, 2.0, 2.0, 1.0, 4.0, 4.0, 1.0, 1.0, 1.0, 1.0, 2.0, 3.0, 1.0, 1.0, 2.0, 3.0, 2.0, 2.0, 2.0, 1.0, 3.0, 2.0, 3.0, 1.0, 2.0, 3.0, 4.0, 1.0, 1.0, 1.0, 3.0, 1.0, 2.0, 1.0, 1.0, 3.0, 1.0, 1.0, 2.0, 1.0, 3.0, 1.0, 2.0, 1.0, 1.0, 1.0, 1.0, 2.0, 2.0, 2.0, 1.0, 2.0, 2.0, 1.0, 4.0, 3.0, 1.0, 1.0, 2.0, 2.0, 1.0, 2.0, 1.0, 1.0, 1.0, 2.0, 1.0, 2.0, 2.0, 1.0, 2.0, 4.0, 1.0, 1.0, 1.0, 1.0, 1.0, 2.0, 2.0, 2.0, 1.0, 1.0, 2.0, 1.0, 3.0, 2.0, 2.0, 1.0, 3.0, 4.0, 2.0, 1.0, 1.0, 2.0, 3.0, 1.0, 1.0, 1.0, 1.0, 1.0, 4.0, 3.0, 1.0, 2.0, 4.0, 1.0, 3.0, 3.0, 2.0, 2.0, 1.0, 1.0, 1.0, 2.0, 2.0, 2.0, 1.0, 2.0, 1.0, 4.0, 2.0, 1.0, 2.0, 2.0, 2.0, 1.0, 1.0, 2.0, 2.0, 2.0, 1.0, 3.0, 3.0, 3.0, 4.0, 1.0, 3.0, 3.0, 2.0, 2.0, 4.0, 2.0, 1.0, 3.0, 2.0, 4.0, 1.0, 4.0, 1.0, 3.0, 2.0, 4.0, 2.0, 1.0, 2.0, 4.0, 2.0, 1.0, 1.0, 1.0, 1.0, 3.0, 2.0, 3.0, 3.0, 1.0, 2.0, 1.0, 2.0, 2.0, 3.0, 3.0, 1.0, 3.0, 1.0, 2.0, 1.0, 1.0, 2.0, 3.0, 1.0, 1.0, 2.0, 1.0, 2.0, 1.0, 1.0, 3.0, 3.0, 1.0, 1.0, 1.0, 2.0, 1.0, 1.0, 2.0, 1.0, 1.0, 1.0, 2.0, 2.0, 2.0, 3.0, 1.0, 1.0, 1.0, 1.0, 4.0, 2.0, 1.0, 3.0, 3.0, 1.0, 4.0, 1.0, 2.0, 2.0, 2.0, 1.0, 3.0, 1.0, 2.0, 1.0, 4.0, 2.0, 1.0, 2.0, 4.0, 1.0, 2.0, 4.0, 1.0, 2.0, 4.0, 3.0, 3.0, 2.0, 1.0, 3.0, 2.0, 1.0, 3.0, 4.0, 1.0, 1.0, 4.0, 2.0, 2.0, 1.0, 2.0, 2.0, 1.0, 4.0, 3.0, 2.0, 2.0, 1.0, 4.0, 2.0, 2.0, 3.0, 2.0, 3.0, 2.0, 1.0, 4.0, 2.0, 1.0, 3.0, 4.0, 1.0, 4.0, 1.0, 3.0, 2.0, 3.0, 1.0, 1.0, 4.0, 4.0, 1.0, 4.0, 2.0, 1.0, 1.0, 1.0, 4.0, 2.0, 2.0, 1.0, 1.0, 4.0, 2.0, 1.0, 3.0, 1.0, 1.0, 2.0, 3.0, 1.0, 2.0, 1.0, 2.0, 2.0, 1.0, 2.0, 2.0, 3.0, 3.0, 2.0, 2.0, 1.0, 2.0, 4.0, 1.0, 3.0, 2.0, 1.0, 1.0, 3.0, 3.0, 3.0, 2.0, 1.0, 2.0, 4.0, 4.0, 1.0, 1.0, 1.0, 1.0, 2.0, 3.0, 2.0, 2.0, 2.0, 2.0, 2.0, 2.0, 2.0, 1.0, 2.0, 3.0, 1.0, 2.0, 2.0, 1.0, 1.0, 1.0, 2.0, 2.0, 4.0, 2.0, 1.0, 4.0, 3.0, 2.0, 1.0, 1.0, 2.0, 4.0, 4.0, 1.0, 3.0, 1.0, 1.0, 1.0, 3.0, 3.0, 1.0, 2.0, 2.0, 3.0, 1.0, 1.0, 1.0, 1.0, 1.0, 2.0, 3.0, 1.0, 4.0, 1.0, 2.0, 3.0, 1.0, 3.0, 1.0, 3.0, 1.0, 1.0, 1.0, 1.0, 1.0, 1.0, 1.0, 3.0, 4.0, 2.0, 1.0, 1.0, 2.0, 2.0, 1.0, 4.0, 2.0, 1.0, 1.0, 2.0, 3.0, 1.0, 1.0, 4.0, 3.0, 2.0, 3.0, 3.0, 1.0, 3.0, 1.0, 2.0, 1.0, 1.0, 3.0, 1.0, 3.0, 2.0, 1.0, 3.0, 2.0, 1.0, 4.0, 2.0, 2.0, 4.0, 3.0, 1.0, 2.0, 1.0, 2.0, 1.0, 1.0, 1.0, 1.0, 1.0, 4.0, 3.0, 1.0, 3.0, 3.0, 2.0, 1.0, 3.0, 1.0, 2.0, 1.0, 3.0, 1.0, 2.0, 1.0, 2.0, 1.0, 3.0, 2.0, 4.0, 2.0, 1.0, 3.0, 1.0, 4.0, 3.0, 1.0, 2.0, 3.0, 4.0, 3.0, 1.0, 1.0, 1.0, 2.0, 3.0, 1.0, 2.0, 1.0, 1.0, 4.0, 2.0, 2.0, 2.0, 1.0, 4.0, 1.0, 3.0, 1.0, 3.0, 2.0, 2.0, 3.0, 3.0, 1.0, 3.0, 2.0, 1.0, 4.0, 2.0, 3.0, 1.0, 4.0, 1.0, 3.0, 1.0, 1.0, 2.0, 2.0, 1.0, 2.0, 2.0, 2.0, 1.0, 3.0, 2.0, 3.0, 1.0, 3.0, 2.0, 2.0, 1.0, 3.0, 1.0, 3.0, 2.0, 1.0, 3.0, 2.0, 1.0, 1.0, 1.0, 2.0, 2.0, 3.0, 1.0, 1.0, 3.0, 4.0, 1.0, 2.0, 3.0, 2.0, 1.0, 1.0, 3.0, 3.0, 2.0, 2.0, 2.0, 4.0, 1.0, 2.0, 1.0, 1.0, 1.0, 1.0, 2.0, 1.0, 2.0, 1.0, 1.0, 1.0, 2.0, 2.0, 1.0, 1.0, 1.0, 4.0, 1.0, 2.0, 2.0, 3.0, 2.0, 1.0, 1.0, 1.0, 1.0, 1.0, 3.0, 4.0, 1.0, 3.0, 2.0, 2.0, 1.0, 3.0, 1.0, 1.0, 3.0, 1.0, 1.0, 1.0, 2.0, 2.0, 2.0, 2.0, 3.0, 2.0, 1.0, 2.0, 2.0, 1.0, 3.0, 1.0, 1.0, 2.0, 1.0, 3.0, 1.0, 2.0, 3.0, 3.0, 1.0, 1.0, 3.0, 1.0, 3.0, 4.0, 1.0, 3.0, 3.0, 1.0, 1.0, 1.0, 3.0, 3.0, 3.0, 3.0, 1.0, 4.0, 3.0, 3.0, 1.0, 2.0, 2.0, 4.0, 1.0, 3.0, 3.0, 1.0, 3.0, 2.0, 1.0, 1.0, 2.0, 1.0, 1.0, 2.0, 2.0, 2.0, 1.0, 2.0, 4.0, 1.0, 1.0, 1.0, 1.0, 1.0, 3.0, 2.0, 4.0, 4.0, 1.0, 1.0, 2.0, 4.0, 2.0, 2.0, 1.0, 1.0, 1.0, 1.0, 3.0, 4.0, 2.0, 1.0, 1.0, 3.0, 2.0, 1.0, 2.0, 3.0, 2.0, 2.0, 1.0, 4.0, 4.0, 3.0, 2.0, 3.0, 1.0, 1.0, 1.0, 1.0, 2.0, 1.0, 3.0, 4.0, 2.0, 1.0, 3.0, 1.0, 3.0, 1.0, 4.0, 2.0, 2.0, 3.0, 3.0, 2.0, 1.0, 2.0, 1.0, 4.0, 1.0, 1.0, 1.0, 1.0, 4.0, 3.0, 4.0, 4.0, 2.0, 2.0, 1.0, 1.0, 1.0, 3.0, 3.0, 3.0, 4.0, 2.0, 3.0, 1.0, 3.0, 3.0, 1.0, 2.0, 1.0, 1.0, 4.0, 1.0, 3.0, 2.0, 4.0, 1.0, 4.0, 1.0, 1.0, 3.0, 1.0, 1.0, 2.0, 1.0, 3.0, 1.0, 3.0, 2.0, 3.0, 2.0, 2.0, 4.0, 2.0, 2.0, 2.0, 2.0, 1.0, 3.0, 1.0, 2.0, 2.0, 2.0, 4.0, 2.0, 4.0, 3.0, 4.0, 1.0, 2.0, 3.0, 1.0, 1.0, 2.0, 4.0, 4.0, 1.0, 2.0, 1.0, 4.0, 1.0, 1.0, 1.0, 1.0, 1.0, 2.0, 1.0, 2.0, 1.0, 2.0, 2.0, 1.0, 1.0, 1.0, 2.0, 1.0, 2.0, 2.0, 3.0, 2.0, 1.0, 1.0, 1.0, 4.0, 3.0, 1.0, 2.0, 2.0, 2.0, 1.0, 1.0, 2.0, 2.0, 1.0, 3.0, 1.0, 1.0, 4.0, 1.0, 1.0, 2.0, 1.0, 1.0, 4.0, 1.0, 2.0, 4.0, 1.0, 1.0, 2.0, 2.0, 3.0, 4.0, 4.0, 2.0, 1.0, 1.0, 3.0, 1.0, 3.0, 4.0, 2.0, 2.0, 2.0, 4.0, 1.0, 4.0, 4.0, 1.0, 4.0, 3.0, 1.0, 4.0, 1.0, 4.0, 1.0, 3.0, 1.0, 3.0, 3.0, 3.0, 4.0, 2.0, 2.0, 1.0, 4.0, 2.0, 1.0, 2.0, 4.0, 4.0, 1.0, 3.0, 2.0, 4.0, 3.0, 2.0, 1.0, 2.0, 2.0, 3.0, 2.0, 2.0, 2.0, 1.0, 4.0, 2.0, 1.0, 1.0, 4.0, 1.0, 2.0, 4.0, 1.0, 4.0, 2.0, 1.0, 2.0, 1.0, 1.0, 2.0, 2.0, 1.0, 1.0, 1.0, 1.0, 1.0, 1.0, 1.0, 1.0, 2.0, 3.0, 1.0, 2.0, 1.0, 4.0, 4.0, 1.0, 4.0, 2.0, 1.0, 1.0, 2.0, 1.0, 2.0, 4.0, 1.0, 2.0, 3.0, 2.0, 4.0, 4.0, 4.0, 1.0, 3.0, 4.0, 3.0, 2.0, 3.0, 1.0, 4.0, 1.0, 2.0, 3.0, 1.0, 1.0, 2.0, 3.0, 1.0, 2.0, 2.0, 2.0, 3.0, 2.0, 2.0, 1.0, 1.0, 3.0, 1.0, 1.0, 1.0, 1.0, 1.0, 2.0, 4.0, 1.0, 2.0, 4.0, 4.0, 1.0, 1.0, 3.0, 2.0, 3.0, 1.0, 1.0, 3.0, 3.0, 3.0, 3.0, 3.0, 2.0, 1.0, 2.0, 4.0, 1.0, 4.0, 1.0, 1.0, 1.0, 2.0, 2.0, 2.0, 2.0, 1.0, 1.0, 3.0, 2.0, 2.0, 3.0, 1.0, 1.0, 2.0, 1.0, 3.0, 1.0, 4.0, 2.0, 1.0, 2.0, 3.0, 3.0, 2.0, 4.0, 2.0, 2.0, 4.0, 3.0, 2.0, 3.0, 2.0, 2.0, 2.0, 2.0, 2.0, 2.0, 4.0, 1.0, 3.0, 1.0, 3.0, 3.0, 1.0, 2.0, 2.0, 2.0, 3.0, 2.0, 2.0, 1.0, 1.0, 2.0, 2.0, 1.0, 1.0, 4.0, 4.0, 2.0, 2.0, 1.0, 3.0, 1.0, 1.0, 1.0, 1.0, 3.0, 3.0, 2.0, 2.0, 2.0, 1.0, 1.0, 1.0, 2.0, 2.0, 4.0, 2.0, 4.0, 1.0, 3.0, 1.0, 2.0, 1.0, 1.0, 1.0, 2.0, 1.0, 1.0, 1.0, 1.0, 2.0, 3.0, 2.0, 2.0, 2.0, 1.0, 2.0, 2.0, 1.0, 2.0, 2.0, 4.0, 1.0, 4.0, 1.0, 3.0, 1.0, 2.0, 2.0, 2.0, 2.0, 1.0, 1.0, 1.0, 1.0, 2.0, 2.0, 3.0, 1.0, 3.0, 3.0, 1.0, 3.0, 4.0, 2.0, 1.0, 3.0, 2.0, 1.0, 4.0, 2.0, 3.0, 1.0, 1.0, 1.0, 2.0, 1.0, 4.0, 4.0, 2.0, 2.0, 2.0, 1.0, 2.0, 2.0, 1.0, 4.0, 1.0, 1.0, 3.0, 2.0, 2.0, 4.0, 1.0, 3.0, 2.0, 2.0, 1.0, 4.0, 4.0, 2.0, 2.0, 2.0, 2.0, 4.0, 3.0, 1.0, 3.0, 1.0, 1.0, 3.0, 2.0, 1.0, 1.0, 3.0, 1.0, 1.0, 4.0, 1.0, 1.0, 3.0, 4.0, 2.0, 1.0, 2.0, 1.0, 2.0, 4.0, 2.0, 2.0, 3.0, 1.0, 1.0, 2.0, 2.0, 1.0, 2.0, 2.0, 2.0, 1.0, 2.0, 1.0, 1.0, 4.0, 1.0, 1.0, 1.0, 1.0, 1.0, 2.0, 1.0, 1.0, 2.0, 2.0, 4.0, 1.0, 1.0, 1.0, 2.0, 3.0, 3.0, 1.0, 1.0, 2.0, 1.0, 1.0, 3.0, 2.0, 1.0, 2.0, 1.0, 1.0, 1.0, 2.0, 4.0, 2.0, 3.0, 1.0, 2.0, 2.0, 1.0, 1.0, 3.0, 1.0, 1.0, 3.0, 2.0, 1.0, 2.0, 2.0, 1.0, 1.0, 1.0, 2.0, 1.0, 1.0, 2.0, 4.0, 1.0, 1.0, 1.0, 2.0, 1.0, 1.0, 1.0, 3.0, 1.0, 1.0, 4.0, 1.0, 1.0, 2.0, 3.0, 2.0, 4.0, 1.0, 1.0, 3.0, 2.0, 2.0, 1.0, 2.0, 3.0, 1.0, 2.0, 1.0, 2.0, 1.0, 2.0, 2.0, 1.0, 1.0, 2.0, 1.0, 3.0, 2.0, 1.0, 1.0, 2.0, 4.0, 1.0, 3.0, 1.0, 1.0, 1.0, 3.0, 4.0, 1.0, 4.0, 1.0, 2.0, 4.0, 2.0, 1.0, 1.0, 2.0, 2.0, 2.0, 1.0, 4.0, 2.0, 1.0, 2.0, 2.0, 3.0, 4.0, 2.0, 2.0, 4.0, 4.0, 1.0, 1.0, 2.0, 1.0, 1.0, 1.0, 4.0, 4.0, 1.0, 2.0, 1.0, 2.0, 1.0, 3.0, 1.0, 1.0, 2.0, 3.0, 2.0, 2.0, 1.0, 2.0, 2.0, 2.0, 1.0, 1.0, 2.0, 1.0, 3.0, 4.0, 2.0, 1.0, 1.0, 2.0, 1.0, 1.0, 2.0, 2.0, 3.0, 2.0, 3.0, 1.0, 1.0, 3.0, 1.0, 3.0, 1.0, 1.0, 1.0, 1.0, 2.0, 3.0, 1.0, 2.0, 2.0, 2.0, 1.0, 4.0, 1.0, 4.0, 3.0, 1.0, 2.0, 3.0, 2.0, 3.0, 2.0, 1.0, 2.0, 4.0, 3.0, 2.0, 2.0, 1.0, 1.0, 3.0, 1.0, 2.0, 4.0, 2.0, 1.0, 3.0, 2.0, 3.0, 1.0, 4.0, 1.0, 2.0, 1.0, 4.0, 3.0, 1.0, 1.0, 3.0, 1.0, 3.0, 1.0, 4.0, 1.0, 2.0, 1.0, 1.0, 1.0, 2.0, 2.0, 2.0, 2.0, 2.0, 2.0, 1.0, 1.0, 1.0, 3.0, 4.0, 4.0, 1.0, 1.0, 1.0, 2.0, 1.0, 2.0, 1.0, 3.0, 3.0, 1.0, 1.0, 1.0, 1.0, 3.0, 1.0, 2.0, 3.0, 1.0, 3.0, 2.0, 1.0, 3.0, 1.0, 1.0, 1.0, 1.0, 3.0, 1.0, 4.0, 1.0, 1.0, 1.0, 2.0, 3.0, 1.0, 1.0, 3.0, 1.0, 4.0, 1.0, 1.0, 2.0, 2.0, 2.0, 1.0, 1.0, 1.0, 2.0, 4.0, 1.0, 3.0, 1.0, 1.0, 1.0, 2.0, 4.0, 1.0, 4.0, 2.0, 1.0, 2.0, 1.0, 4.0, 1.0, 1.0, 2.0, 3.0, 2.0, 1.0, 1.0, 2.0, 3.0, 1.0, 1.0, 1.0, 4.0, 4.0, 2.0, 4.0, 1.0, 1.0, 2.0, 2.0, 2.0, 2.0, 3.0, 2.0, 1.0, 4.0, 1.0, 2.0, 3.0, 4.0, 1.0, 4.0, 2.0, 4.0, 1.0, 3.0, 1.0, 1.0, 4.0, 4.0, 1.0, 1.0, 3.0, 3.0, 1.0, 3.0, 2.0, 1.0, 1.0, 2.0, 2.0, 1.0, 2.0, 1.0, 4.0, 1.0, 2.0, 2.0, 3.0, 1.0, 1.0, 1.0, 2.0, 3.0, 2.0, 3.0, 1.0, 1.0, 1.0, 1.0, 1.0, 2.0, 4.0, 2.0, 1.0, 2.0, 1.0, 2.0, 1.0, 3.0, 2.0, 4.0, 4.0, 1.0, 1.0, 2.0, 2.0, 2.0, 1.0, 1.0, 2.0, 1.0, 2.0, 4.0, 4.0, 1.0, 1.0, 3.0, 3.0, 3.0, 4.0, 2.0, 3.0, 3.0, 1.0, 3.0, 2.0, 3.0, 1.0, 2.0, 2.0, 2.0, 4.0, 1.0, 1.0, 2.0, 1.0, 1.0, 2.0, 1.0, 1.0, 1.0, 2.0, 2.0, 2.0, 3.0, 2.0, 2.0, 1.0, 2.0, 1.0, 2.0, 1.0, 1.0, 2.0, 3.0, 3.0, 1.0, 1.0, 3.0, 3.0, 2.0, 1.0, 2.0, 2.0, 4.0, 2.0, 3.0, 2.0, 1.0, 4.0, 1.0, 2.0, 2.0, 3.0, 1.0, 1.0, 1.0, 2.0, 4.0, 2.0, 1.0, 1.0, 4.0, 1.0, 1.0, 3.0, 2.0, 1.0, 3.0, 1.0, 1.0, 1.0, 4.0, 1.0, 1.0, 1.0, 1.0, 2.0, 1.0, 1.0, 1.0, 1.0, 2.0, 1.0, 2.0, 1.0, 1.0, 2.0, 1.0, 1.0, 2.0, 1.0, 1.0, 2.0, 3.0, 4.0, 1.0, 3.0, 4.0, 1.0, 1.0, 1.0, 2.0, 2.0, 3.0, 2.0, 1.0, 1.0, 4.0, 1.0, 1.0, 1.0, 3.0, 3.0, 4.0, 3.0, 4.0, 3.0, 4.0, 4.0, 4.0, 4.0, 3.0, 3.0, 2.0, 1.0, 2.0, 2.0, 1.0, 3.0, 1.0, 1.0, 1.0, 2.0, 3.0, 1.0, 2.0, 1.0, 2.0, 1.0, 1.0, 3.0, 2.0, 2.0, 3.0, 2.0, 1.0, 2.0, 2.0, 1.0, 3.0, 2.0, 1.0, 1.0, 1.0, 3.0, 1.0, 1.0, 2.0, 1.0, 1.0, 2.0, 1.0, 3.0, 1.0, 1.0, 1.0, 1.0, 2.0, 1.0, 3.0, 2.0, 4.0, 2.0, 1.0, 3.0, 2.0, 1.0, 3.0, 4.0, 3.0, 1.0, 1.0, 1.0, 1.0, 2.0, 2.0, 1.0, 2.0, 1.0, 2.0, 3.0, 2.0, 1.0, 2.0, 1.0, 1.0, 2.0, 4.0, 1.0, 2.0, 4.0, 3.0, 1.0, 1.0, 3.0, 4.0, 1.0, 1.0, 2.0, 2.0, 3.0, 1.0, 1.0, 2.0, 3.0, 1.0, 4.0, 1.0, 1.0, 3.0, 4.0, 1.0, 1.0, 1.0, 3.0, 2.0, 1.0, 2.0, 1.0, 2.0, 1.0, 1.0, 1.0, 1.0, 3.0, 1.0, 4.0, 1.0, 2.0, 1.0, 2.0, 4.0, 1.0, 4.0, 1.0, 2.0, 1.0, 4.0, 2.0, 1.0, 1.0, 4.0, 1.0, 3.0, 1.0, 2.0, 2.0, 4.0, 1.0, 1.0, 1.0, 4.0, 2.0, 1.0, 1.0, 3.0, 2.0, 4.0, 1.0, 1.0, 1.0, 1.0, 2.0, 4.0, 1.0, 2.0, 1.0, 1.0, 4.0, 1.0, 3.0, 1.0, 1.0, 2.0, 1.0, 1.0, 4.0, 2.0, 4.0, 1.0, 2.0, 3.0, 2.0, 2.0, 4.0, 4.0, 3.0, 2.0, 1.0, 2.0, 1.0, 1.0, 1.0, 1.0, 3.0, 4.0, 1.0, 3.0, 4.0, 2.0, 2.0, 1.0, 2.0, 2.0, 4.0, 1.0, 1.0, 2.0, 2.0, 1.0, 2.0, 2.0, 2.0, 4.0, 1.0, 1.0, 1.0, 3.0, 1.0, 2.0, 1.0, 1.0, 1.0, 2.0, 2.0, 1.0, 2.0, 1.0, 2.0, 3.0, 2.0, 1.0, 1.0, 4.0, 3.0, 3.0, 3.0, 1.0, 3.0, 1.0, 2.0, 3.0, 3.0, 1.0, 1.0, 3.0, 1.0, 1.0, 1.0, 4.0, 3.0, 3.0, 1.0, 3.0, 1.0, 2.0, 1.0, 4.0, 2.0, 1.0, 1.0, 4.0, 2.0, 1.0, 1.0, 2.0, 1.0, 2.0, 1.0, 2.0, 1.0, 4.0, 1.0, 3.0, 1.0, 1.0, 2.0, 2.0, 1.0, 1.0, 1.0, 2.0, 4.0, 3.0, 2.0, 2.0, 2.0, 3.0, 2.0, 2.0, 1.0, 2.0, 1.0, 3.0, 1.0, 1.0, 1.0, 3.0, 1.0, 2.0, 1.0, 1.0, 1.0, 1.0, 1.0, 1.0, 1.0, 1.0, 2.0, 2.0, 2.0, 1.0, 2.0, 1.0, 2.0, 3.0, 4.0, 1.0, 3.0, 2.0, 2.0, 2.0, 1.0, 3.0, 2.0, 3.0, 1.0, 2.0, 1.0, 1.0, 3.0, 3.0, 1.0, 4.0, 2.0, 2.0, 1.0, 1.0, 4.0, 2.0, 1.0, 2.0, 3.0, 1.0, 2.0, 1.0, 1.0, 4.0, 3.0, 1.0, 1.0, 1.0, 3.0, 2.0, 3.0, 1.0, 1.0, 2.0, 1.0, 2.0, 2.0, 3.0, 1.0, 4.0, 2.0, 1.0, 1.0, 4.0, 3.0, 1.0, 1.0, 3.0, 3.0, 2.0, 4.0, 1.0, 2.0, 2.0, 1.0, 1.0, 1.0, 2.0, 2.0, 2.0, 3.0, 1.0, 4.0, 2.0, 3.0, 1.0, 3.0, 2.0, 2.0, 4.0, 2.0, 4.0, 1.0, 3.0, 2.0, 1.0, 1.0, 4.0, 2.0, 1.0, 1.0, 3.0, 2.0, 2.0, 2.0, 3.0, 2.0, 1.0, 4.0, 1.0, 3.0, 1.0, 3.0, 1.0, 3.0, 3.0, 3.0, 3.0, 1.0, 1.0, 4.0, 4.0, 2.0, 1.0, 1.0, 1.0, 1.0, 2.0, 3.0, 3.0, 1.0, 1.0, 2.0, 1.0, 1.0, 2.0, 2.0, 3.0, 1.0, 3.0, 1.0, 4.0, 3.0, 1.0, 1.0, 2.0, 2.0, 1.0, 2.0, 2.0, 2.0, 1.0, 2.0, 2.0, 2.0, 1.0, 1.0, 4.0, 1.0, 1.0, 4.0, 2.0, 1.0, 1.0, 1.0, 3.0, 4.0, 3.0, 3.0, 2.0, 1.0, 1.0, 2.0, 2.0, 3.0, 1.0, 3.0, 3.0, 2.0, 4.0, 1.0, 2.0, 4.0, 1.0, 3.0, 1.0, 2.0, 1.0, 3.0, 4.0, 1.0, 2.0, 2.0, 2.0, 1.0, 2.0, 3.0, 1.0, 3.0, 2.0, 1.0, 3.0, 1.0, 4.0, 1.0, 1.0, 2.0, 1.0, 3.0, 1.0, 2.0, 3.0, 1.0, 1.0, 3.0, 2.0, 1.0, 1.0, 3.0, 3.0, 1.0, 4.0, 2.0, 2.0, 2.0, 1.0, 4.0, 1.0, 1.0, 1.0, 1.0, 2.0, 1.0, 4.0, 3.0, 3.0, 4.0, 3.0, 1.0, 3.0, 2.0, 1.0, 1.0, 4.0, 1.0, 1.0, 3.0, 4.0, 2.0, 1.0, 1.0, 4.0, 4.0, 4.0, 1.0, 2.0, 1.0, 3.0, 4.0, 1.0, 4.0, 1.0, 1.0, 2.0, 1.0, 4.0, 4.0, 1.0, 1.0, 1.0, 3.0, 2.0, 3.0, 1.0, 2.0, 2.0, 4.0, 2.0, 1.0, 1.0, 2.0, 1.0, 1.0, 1.0, 3.0, 2.0, 1.0, 2.0, 1.0, 2.0, 2.0, 3.0, 2.0, 3.0, 4.0, 1.0, 1.0, 1.0, 2.0, 3.0, 2.0, 1.0, 4.0, 2.0, 1.0, 2.0, 1.0, 2.0, 1.0, 1.0, 1.0, 2.0, 4.0, 1.0, 4.0, 1.0, 2.0, 1.0, 1.0, 3.0, 2.0, 1.0, 2.0, 2.0, 1.0, 2.0, 3.0, 2.0, 1.0, 1.0, 2.0, 4.0, 1.0, 3.0, 2.0, 4.0, 3.0, 2.0, 4.0, 4.0, 2.0, 2.0, 4.0, 1.0, 1.0, 2.0, 2.0, 1.0, 1.0, 1.0, 3.0, 4.0, 1.0, 3.0, 1.0, 4.0, 4.0, 2.0, 1.0, 4.0, 1.0, 4.0, 1.0, 3.0, 2.0, 2.0, 1.0, 1.0, 1.0, 3.0, 3.0, 1.0, 3.0, 1.0, 2.0, 1.0, 3.0, 2.0, 1.0, 1.0, 2.0, 2.0, 2.0, 3.0, 3.0, 1.0, 3.0, 2.0, 1.0, 1.0, 1.0, 3.0, 2.0, 1.0, 2.0, 2.0, 2.0, 1.0, 1.0, 3.0, 2.0, 2.0, 2.0, 2.0, 2.0, 4.0, 3.0, 1.0, 2.0, 4.0, 2.0, 2.0, 3.0, 3.0, 3.0, 2.0, 2.0, 1.0, 3.0, 4.0, 1.0, 2.0, 1.0, 1.0, 1.0, 3.0, 2.0, 1.0, 1.0, 1.0, 1.0, 1.0, 1.0, 4.0, 2.0, 2.0, 1.0, 2.0, 1.0, 2.0, 2.0, 1.0, 1.0, 2.0, 2.0, 2.0, 4.0, 2.0, 2.0, 2.0, 1.0, 1.0, 3.0, 3.0, 3.0, 4.0, 2.0, 3.0, 1.0, 2.0, 1.0, 1.0, 3.0, 1.0, 1.0, 3.0, 1.0, 3.0, 1.0, 1.0, 2.0, 1.0, 3.0, 1.0, 1.0, 2.0, 2.0, 3.0, 4.0, 2.0, 1.0, 2.0, 1.0, 3.0, 1.0, 1.0, 2.0, 1.0, 2.0, 1.0, 2.0, 4.0, 4.0, 4.0, 2.0, 4.0, 3.0, 4.0, 2.0, 1.0, 4.0, 1.0, 1.0, 1.0, 2.0, 4.0, 2.0, 2.0, 1.0, 4.0, 2.0, 3.0, 1.0, 2.0, 2.0, 1.0, 1.0, 1.0, 3.0, 2.0, 3.0, 2.0, 1.0, 3.0, 1.0, 1.0, 1.0, 2.0, 1.0, 1.0, 1.0, 1.0, 2.0, 2.0, 2.0, 1.0, 2.0, 1.0, 2.0, 4.0, 2.0, 1.0, 2.0, 2.0, 2.0, 3.0, 1.0, 3.0, 1.0, 1.0, 1.0, 1.0, 1.0, 3.0, 4.0, 2.0, 4.0, 1.0, 4.0, 1.0, 3.0, 1.0, 1.0, 3.0, 2.0, 3.0, 3.0]}, {\"label\": \"currentSmoker\", \"values\": [0, 0, 1, 1, 1, 0, 0, 1, 0, 1, 0, 0, 1, 0, 1, 1, 1, 1, 0, 1, 0, 1, 1, 1, 1, 0, 0, 1, 1, 0, 1, 0, 0, 1, 0, 1, 1, 0, 0, 0, 0, 1, 1, 1, 0, 1, 0, 1, 1, 1, 0, 1, 1, 0, 1, 1, 0, 0, 0, 1, 1, 0, 1, 1, 1, 0, 0, 0, 1, 1, 0, 0, 1, 0, 1, 0, 1, 1, 0, 1, 1, 0, 0, 1, 0, 1, 0, 1, 1, 0, 1, 0, 1, 0, 0, 1, 0, 1, 0, 0, 0, 0, 0, 1, 0, 1, 0, 1, 0, 0, 0, 0, 0, 0, 1, 0, 1, 1, 1, 1, 1, 0, 0, 1, 0, 1, 0, 0, 1, 0, 1, 0, 0, 0, 0, 0, 0, 0, 1, 0, 0, 0, 0, 1, 1, 0, 1, 0, 0, 0, 1, 1, 1, 0, 0, 1, 1, 1, 1, 0, 1, 1, 1, 0, 1, 1, 1, 0, 1, 0, 1, 0, 1, 1, 0, 0, 1, 1, 1, 1, 0, 0, 1, 1, 1, 0, 0, 1, 0, 1, 1, 0, 0, 1, 0, 0, 1, 1, 0, 0, 0, 0, 1, 0, 0, 0, 0, 0, 0, 0, 1, 1, 1, 0, 1, 1, 0, 1, 0, 1, 1, 1, 1, 0, 0, 0, 1, 0, 0, 1, 0, 0, 0, 1, 0, 0, 0, 1, 0, 0, 0, 0, 1, 0, 0, 1, 0, 0, 0, 0, 0, 0, 0, 0, 0, 0, 1, 1, 0, 0, 1, 1, 1, 0, 0, 0, 0, 1, 1, 1, 0, 1, 1, 1, 1, 0, 1, 1, 1, 1, 1, 0, 0, 1, 1, 0, 1, 1, 0, 0, 1, 1, 1, 0, 0, 0, 1, 1, 1, 0, 1, 1, 0, 0, 1, 1, 1, 1, 0, 1, 1, 1, 1, 1, 0, 1, 1, 0, 1, 0, 1, 0, 0, 0, 0, 1, 0, 1, 1, 0, 1, 0, 0, 0, 1, 1, 0, 0, 0, 0, 1, 1, 0, 0, 1, 0, 0, 1, 1, 0, 0, 0, 0, 1, 1, 0, 0, 1, 0, 0, 1, 1, 1, 0, 1, 0, 1, 0, 1, 0, 0, 0, 1, 1, 1, 1, 1, 0, 1, 0, 1, 0, 0, 1, 0, 1, 1, 0, 1, 0, 0, 0, 0, 1, 1, 1, 1, 0, 1, 0, 1, 1, 1, 0, 0, 0, 0, 1, 1, 0, 1, 1, 0, 1, 0, 1, 0, 0, 1, 0, 1, 0, 0, 1, 1, 1, 1, 1, 1, 0, 1, 0, 0, 0, 1, 0, 1, 0, 1, 0, 0, 0, 1, 1, 0, 1, 1, 0, 0, 1, 1, 1, 0, 1, 1, 1, 0, 0, 0, 1, 0, 0, 0, 1, 0, 0, 1, 0, 0, 1, 0, 1, 1, 0, 1, 0, 0, 1, 0, 1, 0, 0, 0, 1, 1, 0, 0, 0, 0, 0, 0, 0, 1, 1, 0, 0, 0, 1, 1, 1, 0, 0, 1, 1, 1, 0, 0, 1, 1, 1, 0, 1, 1, 1, 1, 0, 0, 0, 1, 0, 1, 0, 1, 1, 1, 1, 1, 0, 1, 1, 0, 0, 1, 1, 0, 0, 1, 0, 1, 0, 1, 1, 1, 0, 1, 1, 1, 1, 1, 1, 1, 1, 1, 0, 1, 0, 0, 1, 1, 1, 0, 0, 0, 0, 0, 1, 0, 1, 1, 1, 1, 1, 1, 1, 1, 0, 0, 1, 0, 1, 0, 1, 0, 1, 1, 0, 0, 1, 1, 1, 0, 1, 1, 0, 0, 1, 0, 1, 0, 0, 1, 0, 1, 0, 1, 1, 0, 1, 1, 0, 0, 0, 1, 0, 1, 0, 1, 1, 1, 1, 1, 1, 1, 0, 1, 1, 0, 1, 1, 0, 0, 0, 0, 1, 0, 1, 0, 0, 0, 1, 1, 1, 0, 1, 0, 1, 1, 0, 0, 1, 1, 0, 1, 0, 0, 0, 0, 0, 0, 0, 0, 1, 1, 0, 1, 1, 0, 0, 1, 1, 1, 1, 0, 1, 0, 0, 0, 0, 1, 1, 1, 1, 1, 0, 1, 0, 0, 0, 1, 1, 0, 0, 1, 1, 0, 1, 1, 1, 0, 0, 0, 1, 0, 1, 1, 1, 0, 0, 0, 1, 1, 1, 0, 0, 0, 1, 1, 1, 0, 1, 1, 0, 0, 0, 1, 1, 1, 0, 0, 0, 0, 0, 0, 0, 0, 1, 0, 0, 0, 1, 0, 0, 1, 0, 0, 1, 0, 0, 1, 0, 1, 1, 1, 0, 0, 1, 1, 1, 0, 0, 0, 0, 1, 0, 0, 1, 0, 1, 0, 1, 1, 1, 0, 0, 1, 0, 0, 0, 1, 1, 1, 1, 1, 1, 1, 0, 1, 1, 0, 0, 0, 1, 1, 0, 0, 1, 0, 0, 1, 1, 0, 1, 1, 0, 1, 0, 1, 1, 1, 1, 1, 1, 1, 0, 0, 1, 0, 0, 1, 0, 1, 1, 0, 1, 0, 1, 1, 0, 1, 1, 0, 1, 0, 0, 0, 1, 0, 0, 1, 1, 1, 1, 0, 0, 0, 1, 0, 1, 1, 1, 1, 0, 1, 0, 1, 0, 0, 1, 1, 1, 0, 0, 0, 0, 1, 0, 1, 0, 1, 0, 0, 0, 0, 0, 0, 0, 0, 1, 1, 1, 1, 1, 0, 0, 1, 0, 0, 0, 0, 0, 0, 0, 0, 0, 1, 0, 1, 0, 1, 0, 1, 0, 1, 0, 1, 1, 1, 0, 1, 0, 0, 0, 1, 1, 1, 0, 0, 1, 1, 0, 1, 0, 0, 1, 1, 0, 0, 0, 0, 1, 0, 0, 0, 1, 0, 1, 0, 0, 1, 0, 1, 0, 0, 1, 0, 1, 1, 1, 0, 1, 1, 1, 0, 1, 1, 0, 0, 1, 0, 1, 1, 1, 1, 0, 0, 0, 0, 0, 0, 1, 1, 1, 0, 1, 0, 0, 0, 1, 1, 1, 0, 0, 0, 0, 0, 1, 1, 1, 1, 1, 0, 0, 0, 0, 1, 1, 0, 1, 1, 0, 0, 1, 0, 1, 0, 1, 0, 1, 0, 0, 0, 1, 0, 0, 0, 1, 0, 0, 0, 0, 1, 1, 0, 1, 0, 1, 0, 0, 1, 0, 0, 1, 1, 0, 0, 1, 1, 0, 1, 1, 1, 0, 1, 0, 0, 0, 1, 1, 0, 0, 1, 0, 0, 1, 0, 0, 0, 0, 1, 1, 0, 0, 1, 1, 1, 1, 0, 1, 0, 1, 0, 1, 0, 1, 1, 0, 0, 0, 1, 0, 1, 1, 1, 0, 0, 1, 0, 0, 1, 0, 0, 0, 1, 0, 0, 1, 0, 0, 0, 1, 0, 0, 0, 0, 0, 1, 1, 1, 1, 1, 0, 0, 1, 0, 0, 0, 1, 1, 0, 0, 1, 1, 0, 1, 0, 0, 0, 1, 0, 1, 1, 1, 0, 1, 1, 1, 0, 0, 0, 1, 1, 0, 0, 1, 1, 1, 0, 0, 0, 0, 1, 1, 0, 0, 1, 0, 0, 0, 1, 1, 1, 1, 1, 1, 0, 0, 0, 1, 1, 0, 1, 0, 0, 0, 0, 0, 1, 1, 1, 1, 0, 0, 0, 0, 1, 0, 1, 1, 0, 0, 1, 0, 1, 1, 1, 0, 0, 0, 1, 1, 0, 1, 1, 1, 1, 1, 0, 1, 1, 0, 0, 1, 0, 1, 0, 0, 0, 0, 1, 1, 1, 1, 1, 0, 1, 1, 1, 1, 1, 0, 1, 1, 1, 1, 1, 1, 0, 0, 0, 1, 0, 0, 0, 0, 1, 0, 0, 1, 1, 1, 1, 0, 0, 1, 0, 1, 1, 0, 1, 0, 0, 0, 0, 1, 0, 0, 1, 0, 1, 0, 0, 1, 0, 0, 1, 0, 0, 1, 0, 0, 0, 0, 0, 0, 0, 0, 1, 0, 0, 1, 0, 1, 0, 0, 1, 0, 1, 1, 0, 1, 0, 0, 0, 0, 1, 0, 1, 1, 0, 0, 0, 0, 1, 1, 0, 0, 1, 1, 1, 1, 0, 0, 1, 0, 1, 1, 0, 0, 1, 0, 1, 0, 1, 0, 1, 1, 0, 0, 1, 0, 1, 0, 0, 0, 1, 1, 1, 1, 1, 1, 0, 0, 0, 1, 0, 0, 0, 0, 0, 0, 0, 1, 0, 0, 1, 1, 0, 1, 1, 0, 0, 1, 1, 0, 1, 0, 1, 1, 0, 0, 0, 1, 0, 1, 0, 1, 1, 1, 0, 0, 1, 1, 0, 0, 0, 1, 0, 0, 0, 0, 0, 1, 0, 0, 0, 1, 0, 0, 1, 0, 0, 0, 1, 0, 1, 1, 0, 1, 1, 1, 1, 0, 1, 0, 0, 0, 0, 1, 1, 0, 1, 0, 1, 1, 0, 1, 1, 1, 0, 0, 1, 1, 1, 1, 0, 1, 1, 1, 0, 1, 1, 0, 1, 0, 0, 0, 1, 0, 1, 1, 1, 1, 0, 0, 1, 0, 1, 0, 1, 0, 1, 1, 0, 0, 1, 1, 1, 0, 0, 1, 0, 1, 1, 0, 0, 1, 1, 1, 1, 0, 0, 0, 0, 1, 0, 0, 1, 1, 0, 1, 0, 1, 0, 1, 1, 0, 0, 0, 1, 0, 0, 0, 0, 1, 1, 1, 1, 0, 1, 1, 1, 0, 0, 1, 0, 0, 0, 0, 0, 1, 1, 0, 0, 0, 1, 0, 1, 0, 0, 0, 1, 1, 1, 1, 0, 1, 1, 0, 1, 0, 1, 0, 1, 0, 0, 1, 1, 0, 0, 1, 1, 1, 0, 1, 1, 1, 1, 0, 0, 1, 0, 1, 1, 1, 1, 1, 0, 0, 0, 1, 0, 0, 1, 0, 0, 0, 0, 0, 1, 0, 0, 0, 1, 0, 1, 0, 0, 0, 1, 1, 0, 0, 0, 0, 0, 0, 0, 1, 0, 1, 0, 0, 0, 0, 1, 0, 0, 1, 0, 1, 0, 1, 1, 0, 0, 1, 1, 0, 1, 0, 0, 1, 1, 0, 1, 1, 1, 0, 1, 0, 1, 0, 1, 0, 1, 0, 0, 0, 0, 1, 0, 1, 0, 1, 1, 1, 0, 1, 1, 0, 0, 1, 1, 1, 1, 0, 0, 0, 1, 0, 0, 0, 0, 1, 0, 0, 0, 1, 0, 1, 0, 1, 0, 0, 0, 0, 0, 0, 0, 0, 1, 1, 1, 1, 0, 0, 0, 1, 1, 1, 0, 0, 1, 1, 1, 0, 1, 1, 0, 1, 0, 0, 0, 0, 0, 0, 0, 0, 0, 0, 1, 1, 0, 1, 1, 1, 0, 0, 1, 0, 1, 1, 1, 0, 0, 0, 0, 0, 0, 1, 1, 1, 0, 0, 0, 0, 1, 0, 0, 0, 0, 0, 0, 0, 0, 1, 1, 1, 1, 0, 0, 1, 0, 0, 1, 0, 1, 1, 1, 0, 0, 1, 1, 1, 0, 0, 1, 1, 1, 0, 0, 1, 0, 1, 0, 0, 1, 0, 0, 1, 0, 1, 1, 0, 1, 1, 0, 0, 0, 1, 0, 1, 0, 1, 0, 1, 1, 0, 1, 1, 0, 0, 1, 0, 1, 1, 1, 0, 1, 1, 0, 1, 1, 0, 1, 0, 1, 1, 0, 0, 0, 1, 1, 0, 0, 0, 0, 1, 1, 0, 1, 0, 1, 0, 1, 0, 1, 1, 0, 1, 0, 0, 0, 1, 1, 0, 0, 0, 0, 1, 0, 0, 0, 0, 1, 0, 1, 1, 1, 1, 1, 1, 1, 1, 1, 1, 1, 0, 0, 1, 0, 0, 0, 0, 0, 1, 1, 1, 0, 1, 0, 0, 1, 1, 0, 1, 1, 1, 1, 1, 1, 1, 1, 0, 0, 0, 0, 1, 1, 0, 1, 1, 0, 1, 0, 0, 1, 1, 0, 1, 1, 1, 0, 0, 1, 0, 1, 0, 1, 0, 1, 1, 0, 0, 1, 1, 1, 0, 1, 0, 1, 0, 1, 0, 1, 1, 1, 1, 1, 0, 0, 0, 1, 1, 1, 0, 1, 0, 0, 1, 0, 0, 0, 0, 0, 0, 1, 1, 0, 0, 0, 0, 0, 0, 1, 0, 1, 0, 0, 0, 1, 1, 1, 0, 0, 1, 1, 1, 1, 1, 0, 1, 1, 1, 1, 1, 1, 0, 1, 1, 1, 0, 1, 1, 1, 0, 0, 1, 0, 0, 1, 0, 1, 0, 0, 0, 0, 1, 1, 0, 0, 1, 1, 1, 0, 0, 1, 1, 1, 0, 1, 0, 0, 0, 0, 0, 0, 0, 0, 0, 1, 1, 0, 1, 0, 0, 1, 1, 0, 1, 0, 0, 0, 0, 1, 1, 1, 0, 0, 1, 0, 1, 1, 1, 1, 0, 1, 1, 1, 1, 1, 1, 0, 0, 1, 1, 0, 0, 0, 1, 1, 1, 0, 1, 1, 1, 1, 1, 1, 0, 1, 1, 1, 1, 0, 0, 1, 0, 0, 0, 1, 1, 1, 1, 0, 0, 0, 1, 0, 0, 1, 1, 1, 0, 0, 0, 0, 0, 1, 1, 0, 0, 1, 1, 0, 1, 1, 0, 0, 1, 1, 0, 0, 1, 0, 1, 1, 1, 0, 1, 1, 1, 0, 1, 0, 1, 0, 0, 0, 0, 1, 0, 1, 1, 0, 0, 1, 1, 1, 0, 0, 1, 0, 1, 1, 0, 0, 0, 0, 0, 0, 1, 1, 1, 0, 1, 0, 1, 0, 0, 0, 0, 1, 0, 0, 0, 1, 1, 0, 0, 0, 0, 0, 0, 0, 0, 1, 1, 0, 1, 1, 1, 0, 0, 1, 0, 0, 0, 0, 0, 0, 1, 0, 1, 0, 0, 0, 1, 1, 1, 0, 0, 1, 0, 1, 0, 0, 1, 1, 1, 0, 0, 1, 1, 1, 1, 1, 1, 0, 0, 0, 1, 0, 0, 1, 1, 0, 1, 1, 1, 0, 1, 0, 1, 0, 0, 0, 0, 0, 0, 1, 1, 1, 0, 0, 1, 0, 1, 1, 0, 1, 0, 0, 1, 0, 1, 0, 0, 0, 0, 1, 0, 1, 0, 0, 1, 1, 0, 0, 0, 1, 1, 1, 1, 0, 0, 0, 1, 1, 1, 1, 1, 0, 1, 0, 0, 0, 0, 0, 1, 0, 1, 0, 0, 0, 1, 1, 0, 1, 0, 1, 0, 1, 1, 0, 0, 1, 0, 0, 1, 1, 1, 0, 1, 1, 0, 0, 1, 1, 1, 1, 1, 0, 1, 0, 1, 1, 1, 1, 1, 0, 1, 1, 1, 1, 1, 0, 1, 1, 1, 1, 1, 1, 0, 0, 1, 1, 0, 1, 1, 0, 0, 0, 0, 1, 0, 1, 1, 0, 0, 0, 0, 1, 0, 0, 0, 0, 1, 0, 0, 1, 1, 0, 1, 1, 1, 1, 1, 0, 0, 1, 1, 0, 0, 0, 0, 0, 1, 0, 0, 0, 1, 1, 0, 1, 0, 1, 1, 1, 1, 1, 0, 1, 0, 0, 0, 1, 1, 1, 1, 0, 1, 0, 1, 0, 1, 0, 1, 0, 0, 1, 0, 1, 0, 1, 0, 0, 1, 1, 0, 1, 1, 0, 0, 1, 1, 0, 1, 0, 1, 0, 0, 0, 0, 0, 1, 1, 1, 0, 1, 1, 0, 0, 1, 1, 1, 1, 1, 0, 1, 0, 0, 1, 0, 1, 0, 0, 0, 0, 1, 0, 1, 0, 0, 1, 1, 0, 1, 1, 0, 1, 0, 1, 0, 0, 1, 0, 0, 0, 0, 1, 1, 1, 1, 1, 0, 0, 1, 1, 0, 1, 1, 1, 0, 0, 1, 0, 0, 1, 0, 0, 0, 0, 0, 0, 0, 0, 1, 1, 1, 0, 0, 1, 0, 1, 0, 1, 1, 0, 1, 1, 0, 1, 1, 0, 1, 1, 1, 1, 0, 1, 1, 0, 1, 1, 0, 1, 1, 1, 0, 1, 0, 0, 0, 1, 0, 0, 1, 1, 1, 0, 1, 0, 1, 1, 0, 0, 0, 1, 1, 0, 0, 1, 1, 1, 0, 0, 1, 1, 0, 1, 0, 1, 1, 0, 1, 0, 0, 1, 0, 0, 0, 0, 1, 0, 0, 0, 1, 0, 0, 0, 1, 1, 1, 1, 1, 0, 0, 0, 0, 0, 1, 1, 1, 1, 1, 0, 0, 0, 0, 0, 1, 0, 0, 0, 0, 0, 0, 0, 1, 1, 1, 0, 0, 1, 0, 0, 1, 1, 1, 0, 0, 0, 1, 0, 0, 0, 1, 1, 1, 0, 0, 1, 1, 1, 1, 0, 0, 0, 1, 0, 0, 0, 0, 0, 1, 0, 0, 0, 1, 0, 1, 1, 0, 0, 0, 1, 0, 1, 0, 0, 1, 1, 0, 1, 1, 1, 0, 1, 1, 1, 0, 1, 0, 1, 0, 1, 0, 0, 1, 1, 1, 0, 1, 0, 1, 0, 1, 1, 0, 1, 0, 0, 0, 1, 0, 1, 1, 0, 1, 0, 0, 1, 1, 1, 1, 0, 0, 0, 0, 1, 0, 0, 1, 1, 0, 0, 0, 0, 1, 0, 1, 0, 1, 0, 0, 1, 1, 0, 1, 1, 0, 0, 0, 0, 1, 0, 1, 1, 1, 1, 0, 0, 0, 0, 1, 1, 0, 1, 1, 1, 1, 1, 1, 0, 1, 0, 0, 1, 0, 1, 1, 1, 0, 1, 0, 1, 1, 0, 0, 1, 1, 1, 1, 0, 1, 0, 1, 1, 1, 1, 1, 0, 1, 0, 0, 1, 1, 0, 1, 0, 1, 1, 0, 1, 1, 0, 1, 1, 0, 0, 1, 1, 0, 1, 1, 1, 1, 0, 0, 1, 1, 1, 1, 0, 1, 0, 1, 0, 1, 1, 0, 0, 1, 1, 0, 1, 0, 1, 1, 1, 0, 0, 1, 1, 0, 1, 0, 0, 1, 0, 1, 0, 1, 0, 0, 0, 1, 0, 0, 0, 0, 0, 1, 0, 0, 1, 1, 1, 0, 0, 1, 0, 0, 0, 1, 1, 1, 1, 0, 0, 1, 0, 1, 1, 1, 1, 1, 0, 1, 1, 1, 1, 0, 0, 1, 1, 0, 1, 1, 0, 0, 0, 1, 0, 0, 0, 1, 0, 1, 0, 0, 0, 1, 0, 1, 1, 0, 1, 0, 1, 1, 0, 0, 1, 0, 1, 1, 1, 1, 0, 1, 1, 0, 0, 0, 1, 1, 0, 1, 1, 0, 0, 1, 0, 0, 1, 0, 1, 1, 0, 0, 1, 0, 0, 1, 0, 1, 0, 0, 0, 1, 0, 1, 0, 1, 0, 0, 1, 0, 0, 1, 1, 0, 0, 1, 0, 0, 1, 0, 0, 1, 1, 0, 1, 0, 0, 1, 0, 1, 1, 0, 0, 0, 1, 1, 0, 0, 1, 0, 0, 1, 1, 1, 0, 1, 1, 0, 0, 1, 1, 1, 1, 1, 0, 1, 1, 1, 0, 1, 0, 0, 0, 0, 0, 1, 0, 0, 1, 1, 0, 1, 1, 1, 1, 1, 1, 0, 1, 0, 0, 1, 0, 1, 1, 0, 0, 0, 1, 0, 1, 1, 1, 0, 1, 0, 0, 1, 0, 1, 1, 1, 0, 1, 1, 1, 1, 1, 1, 1, 0, 0, 0, 0, 0, 1, 1, 0, 0, 0, 1, 1, 1, 1, 0, 0, 0, 0, 1, 0, 1, 0, 1, 0, 0, 1, 1, 1, 1, 0, 1, 0, 0, 0, 0, 0, 1, 1, 1, 0, 1, 1, 1, 1, 1, 0, 0, 1, 1, 0, 0, 0, 0, 1, 1, 1, 0, 1, 0, 0, 1, 1, 1, 1, 1, 0, 1, 1, 1, 1, 1, 1, 0, 0, 0, 0, 0, 1, 1, 1, 0, 0, 1, 1, 1, 1, 0, 1, 1, 1, 0, 1, 1, 1, 0, 0, 0, 1, 1, 0, 1, 1, 1, 0, 0, 1, 0, 0, 0, 1, 0, 1, 1, 1, 0, 0, 1, 0, 0, 0, 1, 1, 0, 0, 0, 0, 1, 0, 0, 1, 1, 1, 1, 0, 1, 1, 1, 1, 1, 1, 1, 1, 1, 1, 0, 0, 1, 1, 0, 0, 0, 0, 1, 0, 1, 0, 0, 0, 0, 0, 1, 0, 0, 0, 0, 1, 0, 0, 1, 1, 0, 1, 1, 0, 1, 0, 1, 1, 1, 0, 1, 0, 1, 1, 0, 0, 1, 0, 0, 1, 0, 0, 0, 1, 0, 0, 1, 1, 0, 1, 0, 0, 0, 0, 0, 1, 0, 0, 1, 1, 1, 0, 1, 1, 1, 1, 0, 0, 0, 0, 1, 0, 1, 1, 0, 0, 1, 1, 0, 0, 1, 0, 0, 1, 1, 1, 0, 0, 1, 0, 0, 1, 0, 0, 0, 1, 0, 0, 1, 0, 1, 1, 0, 1, 0, 0, 0, 0, 1, 0, 0, 0, 0, 1, 1, 0, 0, 1, 0, 0, 1, 1, 0, 0, 1, 1, 0, 0, 1, 0, 1, 1, 0, 1, 1, 1, 1, 0, 0, 0, 1, 0, 1, 1, 0, 0, 0, 0, 1, 0, 0, 0, 1, 1, 0, 0, 1, 1, 0, 0, 0, 0, 0, 1, 0, 1, 1, 0, 0, 0, 0, 1, 0, 1, 1, 0, 0, 0, 1, 0, 1, 0, 0, 1, 1, 0, 1, 1, 0, 1, 1, 1, 1, 0, 0, 1, 0, 1, 0, 1, 1, 1, 1, 0, 0, 1, 1, 1, 0, 1, 1, 1, 1, 1, 1, 0, 1, 0, 1, 1, 1, 1, 1, 0, 1, 0, 1, 0, 0, 0, 1, 0, 0, 1, 1, 0, 1, 1, 1, 0, 0, 1, 0, 1, 0, 0, 0, 0, 0, 1, 0, 1, 1, 1, 0, 0, 0, 0, 1, 0, 1, 0, 0, 0, 1, 0, 0, 0, 0, 0, 1, 1, 0, 0, 1, 1, 0, 1, 0, 0, 1, 0, 1, 1, 1, 0, 0, 1, 1, 1, 0, 1, 0, 0, 0, 1, 0, 0, 0, 0, 0, 1, 1, 0, 0, 0, 0, 0, 0, 0, 1, 1, 0, 0, 1, 0, 1, 0, 1, 0, 1, 0, 0, 1, 0, 1, 1, 0, 0, 1, 0, 0, 1, 0, 0, 0, 0, 1, 1, 1, 0, 0, 0, 0, 1, 1, 0, 0, 1, 0, 0, 1, 1, 0, 0, 0, 0, 0, 1, 1, 1, 0, 1, 0, 1, 1, 0, 1, 1, 0, 0, 1, 0, 0, 0, 0, 1, 0, 0, 1, 0, 0, 0, 1, 1, 0, 1, 0, 1, 0, 0, 0, 0, 0, 0, 0, 1, 1, 0, 1, 0, 0, 0, 1, 1, 0, 0, 1]}, {\"label\": \"cigsPerDay\", \"values\": [0.0, 0.0, 20.0, 30.0, 23.0, 0.0, 0.0, 20.0, 0.0, 30.0, 0.0, 0.0, 15.0, 0.0, 20.0, 10.0, 20.0, 5.0, 0.0, 30.0, 0.0, 20.0, 30.0, 20.0, 20.0, 0.0, 0.0, 35.0, 43.0, 0.0, 20.0, 0.0, 0.0, 1.0, 0.0, 10.0, 1.0, 0.0, 0.0, 0.0, 0.0, 20.0, 40.0, 3.0, 0.0, 20.0, 0.0, 10.0, 9.0, 2.0, 0.0, 20.0, 20.0, 0.0, 20.0, 3.0, 0.0, 0.0, 0.0, 20.0, 20.0, 0.0, 10.0, 20.0, 10.0, 0.0, 0.0, 0.0, 43.0, 20.0, 0.0, 0.0, 15.0, 0.0, 15.0, 0.0, 1.0, 43.0, 0.0, 20.0, 15.0, 0.0, 0.0, 30.0, 0.0, 20.0, 0.0, 15.0, 20.0, 0.0, 9.0, 0.0, 20.0, 0.0, 0.0, 43.0, 0.0, 20.0, 0.0, 0.0, 0.0, 0.0, 0.0, 5.0, 0.0, 40.0, 0.0, 3.0, 0.0, 0.0, 0.0, 0.0, 0.0, 0.0, 15.0, 0.0, 30.0, 30.0, 20.0, 15.0, 30.0, 0.0, 0.0, 30.0, 0.0, 40.0, 0.0, 0.0, 3.0, 0.0, 1.0, 0.0, 0.0, 0.0, 0.0, 0.0, 0.0, 0.0, 40.0, 0.0, 0.0, 0.0, 0.0, 20.0, 20.0, 0.0, 1.0, 0.0, 0.0, 0.0, 40.0, 20.0, 20.0, 0.0, 0.0, 20.0, 12.0, 4.0, 20.0, 0.0, 20.0, 5.0, 15.0, 0.0, 10.0, 40.0, 15.0, 0.0, 15.0, 0.0, 20.0, 0.0, 20.0, 30.0, 0.0, 0.0, 9.0, 10.0, 9.0, 5.0, 0.0, 0.0, 30.0, 15.0, 20.0, 0.0, 0.0, 20.0, 0.0, 30.0, 18.0, 0.0, 0.0, 30.0, 0.0, 0.0, 20.0, 9.0, 0.0, 0.0, 0.0, 0.0, 43.0, 0.0, 0.0, 0.0, 0.0, 0.0, 0.0, 0.0, 20.0, 3.0, 20.0, 0.0, 1.0, 43.0, 0.0, 15.0, 0.0, 20.0, 30.0, 5.0, 20.0, 0.0, 0.0, 0.0, 15.0, 0.0, 0.0, 30.0, 0.0, 0.0, 0.0, 20.0, 0.0, 0.0, 0.0, 9.0, 0.0, 0.0, 0.0, 0.0, 1.0, 0.0, 0.0, 20.0, 0.0, 0.0, 0.0, 0.0, 0.0, 0.0, 0.0, 0.0, 0.0, 0.0, 5.0, 30.0, 0.0, 0.0, 20.0, 40.0, 10.0, 0.0, 0.0, 0.0, 0.0, 20.0, 20.0, 20.0, 0.0, 20.0, 20.0, 5.0, 20.0, 0.0, 15.0, 20.0, 40.0, 20.0, 4.0, 0.0, 0.0, 20.0, 60.0, 0.0, 1.0, 1.0, 0.0, 0.0, 20.0, 30.0, 30.0, 0.0, 0.0, 0.0, 20.0, 15.0, 20.0, 0.0, 20.0, 10.0, 0.0, 0.0, 5.0, 30.0, 30.0, 40.0, 0.0, 3.0, 20.0, 30.0, 20.0, 10.0, 0.0, 15.0, 15.0, 0.0, 35.0, 0.0, 30.0, 0.0, 0.0, 0.0, 0.0, 20.0, 0.0, 3.0, 20.0, 0.0, 10.0, 0.0, 0.0, 0.0, 30.0, 35.0, 0.0, 0.0, 0.0, 0.0, 20.0, 20.0, 0.0, 0.0, 20.0, 0.0, 0.0, 3.0, 43.0, 0.0, 0.0, 0.0, 0.0, 20.0, 20.0, 0.0, 0.0, 10.0, 0.0, 0.0, 3.0, 15.0, 20.0, 0.0, 25.0, 0.0, 15.0, 0.0, 15.0, 0.0, 0.0, 0.0, 10.0, 30.0, 40.0, 30.0, 20.0, 0.0, 15.0, 0.0, 20.0, 0.0, 0.0, 10.0, 0.0, 45.0, 10.0, 0.0, 8.0, 0.0, 0.0, 0.0, 0.0, 10.0, 9.0, 15.0, 15.0, 0.0, 30.0, 0.0, 40.0, 15.0, 10.0, 0.0, 0.0, 0.0, 0.0, 20.0, 15.0, 0.0, 15.0, 20.0, 0.0, 9.0, 0.0, 20.0, 0.0, 0.0, 40.0, 0.0, 5.0, 0.0, 0.0, 10.0, 43.0, 20.0, 20.0, 13.0, 30.0, 0.0, 10.0, 0.0, 0.0, 0.0, 11.0, 0.0, 5.0, 0.0, 20.0, 0.0, 0.0, 0.0, 20.0, 20.0, 0.0, 20.0, 20.0, 0.0, 0.0, 40.0, 9.0, 25.0, 0.0, 1.0, 15.0, 25.0, 0.0, 0.0, 0.0, 4.0, 0.0, 0.0, 0.0, 20.0, 0.0, 0.0, 20.0, 0.0, 0.0, 18.0, 0.0, 5.0, 35.0, 0.0, 30.0, 0.0, 0.0, 20.0, 0.0, 20.0, 0.0, 0.0, 0.0, 10.0, 20.0, 0.0, 0.0, 0.0, 0.0, 0.0, 0.0, 0.0, 15.0, 3.0, 0.0, 0.0, 0.0, 30.0, 43.0, 10.0, 0.0, 0.0, 3.0, 18.0, 5.0, 0.0, 0.0, 20.0, 30.0, 3.0, 0.0, 20.0, 15.0, 5.0, 1.0, 0.0, 0.0, 0.0, 15.0, 0.0, 15.0, 0.0, 15.0, 20.0, 23.0, 9.0, 20.0, 0.0, 35.0, 15.0, 0.0, 0.0, 20.0, 20.0, 0.0, 0.0, 3.0, 0.0, 20.0, 0.0, 20.0, 3.0, 20.0, 0.0, 10.0, 30.0, 5.0, 20.0, 3.0, 5.0, 20.0, 5.0, 20.0, 0.0, 7.0, 0.0, 0.0, 3.0, 30.0, 25.0, 0.0, 0.0, 0.0, 0.0, 0.0, 20.0, 0.0, 20.0, 18.0, 30.0, 10.0, 5.0, 20.0, 20.0, 30.0, 0.0, 0.0, 43.0, 0.0, 20.0, 0.0, 1.0, 0.0, 20.0, 15.0, 0.0, 0.0, 20.0, 30.0, 15.0, 0.0, 30.0, 3.0, 0.0, 0.0, 5.0, 0.0, 1.0, 0.0, 0.0, 20.0, 0.0, 20.0, 0.0, 30.0, 5.0, 0.0, 20.0, 10.0, 0.0, 0.0, 0.0, 1.0, 0.0, 20.0, 0.0, 30.0, 30.0, 40.0, 25.0, 43.0, 20.0, 20.0, 0.0, 20.0, 1.0, 0.0, 20.0, 60.0, 0.0, 0.0, 0.0, 0.0, 20.0, 0.0, 20.0, 0.0, 0.0, 0.0, 5.0, 8.0, 30.0, 0.0, 20.0, 0.0, 20.0, 6.0, 0.0, 0.0, 3.0, 15.0, 0.0, 20.0, 0.0, 0.0, 0.0, 0.0, 0.0, 0.0, 0.0, 0.0, 10.0, 9.0, 0.0, 10.0, 9.0, 0.0, 0.0, 20.0, 15.0, 1.0, 20.0, 0.0, 15.0, 0.0, 0.0, 0.0, 0.0, 20.0, 40.0, 20.0, 15.0, 1.0, 0.0, 25.0, 0.0, 0.0, 0.0, 20.0, 40.0, 0.0, 0.0, 2.0, 15.0, 0.0, 40.0, 20.0, 20.0, 0.0, 0.0, 0.0, 3.0, 0.0, 20.0, 10.0, 5.0, 0.0, 0.0, 0.0, 15.0, 5.0, 20.0, 0.0, 0.0, 0.0, 15.0, 10.0, 20.0, 0.0, 10.0, 30.0, 0.0, 0.0, 0.0, 20.0, 6.0, 30.0, 0.0, 0.0, 0.0, 0.0, 0.0, 0.0, 0.0, 0.0, 30.0, 0.0, 0.0, 0.0, 40.0, 0.0, 0.0, 3.0, 0.0, 0.0, 30.0, 0.0, 0.0, 9.0, 0.0, 30.0, 15.0, 10.0, 0.0, 0.0, 30.0, 30.0, 30.0, 0.0, 0.0, 0.0, 0.0, 30.0, 0.0, 0.0, 20.0, 0.0, 5.0, 0.0, 20.0, 20.0, 9.0, 0.0, 0.0, 10.0, 0.0, 0.0, 0.0, 15.0, 20.0, 20.0, 20.0, 20.0, 6.0, 20.0, 0.0, 11.0, 1.0, 0.0, 0.0, 0.0, 20.0, 40.0, 0.0, 0.0, 5.0, 0.0, 0.0, 20.0, 40.0, 0.0, 10.0, 15.0, 0.0, 30.0, 0.0, 20.0, 20.0, 25.0, 5.0, 5.0, 20.0, 20.0, 0.0, 0.0, 20.0, 0.0, 0.0, 2.0, 0.0, 40.0, 30.0, 0.0, 20.0, 0.0, 20.0, 20.0, 0.0, 30.0, 5.0, 0.0, 20.0, 0.0, 0.0, 0.0, 20.0, 0.0, 0.0, 1.0, 9.0, 15.0, 20.0, 0.0, 0.0, 0.0, 3.0, 0.0, 10.0, 15.0, 20.0, 20.0, 0.0, 20.0, 0.0, 2.0, 0.0, 0.0, 5.0, 10.0, 10.0, 0.0, 0.0, 0.0, 0.0, 30.0, 0.0, 1.0, 0.0, 30.0, 0.0, 0.0, 0.0, 0.0, 0.0, 0.0, 0.0, 0.0, 20.0, 1.0, 30.0, 1.0, 20.0, 0.0, 0.0, 5.0, 0.0, 0.0, 0.0, 0.0, 0.0, 0.0, 0.0, 0.0, 0.0, 5.0, 0.0, 20.0, 0.0, 3.0, 0.0, 20.0, 0.0, 20.0, 0.0, 20.0, 20.0, 9.0, 0.0, 30.0, 0.0, 0.0, 0.0, 20.0, 9.0, 20.0, 0.0, 0.0, 60.0, 9.0, 0.0, 30.0, 0.0, 0.0, 3.0, 3.0, 0.0, 0.0, 0.0, 0.0, 10.0, 0.0, 0.0, 0.0, 5.0, 0.0, 20.0, 0.0, 0.0, 35.0, 0.0, 30.0, 0.0, 0.0, 10.0, 0.0, 10.0, 4.0, 9.0, 0.0, 30.0, 15.0, 40.0, 0.0, 20.0, 10.0, 0.0, 0.0, 5.0, 0.0, 9.0, 20.0, 9.0, 20.0, 0.0, 0.0, 0.0, 0.0, 0.0, 0.0, 43.0, 1.0, 15.0, 0.0, 9.0, 0.0, 0.0, 0.0, 30.0, 10.0, 10.0, 0.0, 0.0, 0.0, 0.0, 0.0, 30.0, 30.0, 20.0, 35.0, 30.0, 0.0, 0.0, 0.0, 0.0, 30.0, 25.0, 0.0, 30.0, 10.0, 0.0, 0.0, 1.0, 0.0, 20.0, 0.0, 5.0, 0.0, 3.0, 0.0, 0.0, 0.0, 20.0, 0.0, 0.0, 0.0, 20.0, 0.0, 0.0, 0.0, 0.0, 20.0, 15.0, 0.0, 43.0, 0.0, 3.0, 0.0, 0.0, 20.0, 0.0, 0.0, 20.0, 15.0, 0.0, 0.0, 20.0, 3.0, 0.0, 10.0, 10.0, 20.0, 0.0, 30.0, 0.0, 0.0, 0.0, 15.0, 20.0, 0.0, 0.0, 1.0, 0.0, 0.0, 15.0, 0.0, 0.0, 0.0, 0.0, 10.0, 20.0, 0.0, 0.0, 9.0, 3.0, 15.0, 30.0, 0.0, 3.0, 0.0, 20.0, 0.0, 20.0, 0.0, 9.0, 20.0, 0.0, 0.0, 0.0, 10.0, 0.0, 2.0, 9.0, 15.0, 0.0, 0.0, 15.0, 0.0, 0.0, 20.0, 0.0, 0.0, 0.0, 20.0, 0.0, 0.0, 13.0, 0.0, 0.0, 0.0, 9.0, 0.0, 0.0, 0.0, 0.0, 0.0, 20.0, 30.0, 30.0, 20.0, 40.0, 0.0, 0.0, 15.0, 0.0, 0.0, 0.0, 15.0, 3.0, 0.0, 0.0, 15.0, 20.0, 0.0, 30.0, 0.0, 0.0, 0.0, 43.0, 0.0, 20.0, 15.0, 20.0, 0.0, 15.0, 20.0, 30.0, 0.0, 0.0, 0.0, 40.0, 5.0, 0.0, 0.0, 20.0, 38.0, 20.0, 0.0, 0.0, 0.0, 0.0, 5.0, 10.0, 0.0, 0.0, 20.0, 0.0, 0.0, 0.0, 15.0, 25.0, 25.0, 20.0, 25.0, 5.0, 0.0, 0.0, 0.0, 30.0, 10.0, 0.0, 30.0, 0.0, 0.0, 0.0, 0.0, 0.0, 50.0, 20.0, 40.0, 20.0, 0.0, 0.0, 0.0, 0.0, 20.0, 0.0, 20.0, 30.0, 0.0, 0.0, 20.0, 0.0, 8.0, 20.0, 20.0, 0.0, 0.0, 0.0, 25.0, 10.0, 0.0, 20.0, 10.0, 20.0, 10.0, 23.0, 0.0, 15.0, 20.0, 0.0, 0.0, 3.0, 0.0, 20.0, 0.0, 0.0, 0.0, 0.0, 20.0, 40.0, 15.0, 15.0, 30.0, 0.0, 20.0, 20.0, 5.0, 15.0, 15.0, 0.0, 7.0, 20.0, 23.0, 20.0, 20.0, 20.0, 0.0, 0.0, 0.0, 25.0, 0.0, 0.0, 0.0, 0.0, 30.0, 0.0, 0.0, 3.0, 30.0, 1.0, 2.0, 0.0, 0.0, 30.0, 0.0, 60.0, 20.0, 0.0, 5.0, 0.0, 0.0, 0.0, 0.0, 30.0, 0.0, 0.0, 50.0, 0.0, 20.0, 0.0, 0.0, 60.0, 0.0, 0.0, 7.0, 0.0, 0.0, 3.0, 0.0, 0.0, 0.0, 0.0, 0.0, 0.0, 0.0, 0.0, 20.0, 0.0, 0.0, 60.0, 0.0, 20.0, 0.0, 0.0, 3.0, 0.0, 15.0, 20.0, 0.0, 20.0, 0.0, 0.0, 0.0, 0.0, 20.0, 0.0, 20.0, 20.0, 0.0, 0.0, 0.0, 0.0, 20.0, 43.0, 0.0, 0.0, 9.0, 20.0, 43.0, 10.0, 0.0, 0.0, 25.0, 0.0, 15.0, 20.0, 0.0, 0.0, 20.0, 0.0, 29.0, 0.0, 9.0, 0.0, 40.0, 10.0, 0.0, 0.0, 20.0, 0.0, 20.0, 0.0, 0.0, 0.0, 20.0, 9.0, 20.0, 15.0, 1.0, 12.0, 0.0, 0.0, 0.0, 20.0, 0.0, 0.0, 0.0, 0.0, 0.0, 0.0, 0.0, 20.0, 0.0, 0.0, 20.0, 20.0, 0.0, 30.0, 15.0, 0.0, 0.0, 20.0, 20.0, 0.0, 20.0, 0.0, 20.0, 30.0, 0.0, 0.0, 0.0, 3.0, 0.0, 30.0, 0.0, 1.0, 20.0, 18.0, 0.0, 0.0, 10.0, 15.0, 0.0, 0.0, 0.0, 20.0, 0.0, 0.0, 0.0, 0.0, 0.0, 10.0, 0.0, 0.0, 0.0, 5.0, 0.0, 0.0, 9.0, 0.0, 0.0, 0.0, 40.0, 0.0, 20.0, 2.0, 0.0, 5.0, 43.0, 5.0, 20.0, 0.0, 15.0, 0.0, 0.0, 0.0, 0.0, 25.0, 3.0, 0.0, 20.0, 0.0, 5.0, 20.0, 0.0, 7.0, 20.0, 5.0, 0.0, 0.0, 30.0, 20.0, 3.0, 20.0, 0.0, 20.0, 15.0, 20.0, 0.0, 1.0, 10.0, 0.0, 20.0, 0.0, 0.0, 0.0, 35.0, 0.0, 15.0, 15.0, 10.0, 20.0, 0.0, 0.0, 9.0, 0.0, 15.0, 0.0, 10.0, 0.0, 20.0, 3.0, 0.0, 0.0, 15.0, 1.0, 11.0, 0.0, 0.0, 20.0, 0.0, 40.0, 30.0, 0.0, 0.0, 1.0, 20.0, 40.0, 20.0, 0.0, 0.0, 0.0, 0.0, 20.0, 0.0, 0.0, 9.0, 20.0, 0.0, 20.0, 0.0, 9.0, 0.0, 10.0, 30.0, 0.0, 0.0, 0.0, 5.0, 0.0, 0.0, 0.0, 0.0, 20.0, 5.0, 15.0, 1.0, 0.0, 8.0, 9.0, 17.0, 0.0, 0.0, 25.0, 0.0, 0.0, 0.0, 0.0, 0.0, 20.0, 20.0, 0.0, 0.0, 0.0, 15.0, 0.0, 40.0, 0.0, 0.0, 0.0, 10.0, 20.0, 20.0, 20.0, 0.0, 43.0, 30.0, 0.0, 20.0, 0.0, 35.0, 0.0, 3.0, 0.0, 0.0, 20.0, 15.0, 0.0, 0.0, 20.0, 1.0, 10.0, 0.0, 5.0, 20.0, 30.0, 20.0, 0.0, 0.0, 9.0, 0.0, 15.0, 5.0, 35.0, 20.0, 1.0, 0.0, 0.0, 0.0, 3.0, 0.0, 0.0, 15.0, 0.0, 0.0, 0.0, 0.0, 0.0, 40.0, 0.0, 0.0, 0.0, 50.0, 0.0, 15.0, 0.0, 0.0, 0.0, 60.0, 20.0, 0.0, 0.0, 0.0, 0.0, 0.0, 0.0, 0.0, 3.0, 0.0, 20.0, 0.0, 0.0, 0.0, 0.0, 5.0, 0.0, 0.0, 3.0, 0.0, 9.0, 0.0, 20.0, 30.0, 0.0, 0.0, 40.0, 30.0, 0.0, 30.0, 0.0, 0.0, 20.0, 15.0, 0.0, 3.0, 20.0, 20.0, 0.0, 43.0, 0.0, 1.0, 0.0, 20.0, 0.0, 20.0, 0.0, 0.0, 0.0, 0.0, 20.0, 0.0, 18.0, 0.0, 20.0, 20.0, 20.0, 0.0, 10.0, 20.0, 0.0, 0.0, 20.0, 20.0, 25.0, 20.0, 0.0, 0.0, 0.0, 30.0, 0.0, 0.0, 0.0, 0.0, 20.0, 0.0, 0.0, 0.0, 20.0, 0.0, 35.0, 0.0, 10.0, 0.0, 0.0, 0.0, 0.0, 0.0, 0.0, 0.0, 0.0, 30.0, 15.0, 1.0, 8.0, 0.0, 0.0, 0.0, 30.0, 30.0, 9.0, 0.0, 0.0, 43.0, 20.0, 40.0, 0.0, 43.0, 20.0, 0.0, 5.0, 0.0, 0.0, 0.0, 0.0, 0.0, 0.0, 0.0, 0.0, 0.0, 0.0, 5.0, 20.0, 0.0, 15.0, 15.0, 9.0, 0.0, 0.0, 15.0, 0.0, 3.0, 20.0, 30.0, 0.0, 0.0, 0.0, 0.0, 0.0, 0.0, 10.0, 15.0, 20.0, 0.0, 0.0, 0.0, 0.0, 15.0, 0.0, 0.0, 0.0, 0.0, 0.0, 0.0, 0.0, 0.0, 20.0, 7.0, 20.0, 30.0, 0.0, 0.0, 20.0, 0.0, 0.0, 20.0, 0.0, 20.0, 3.0, 20.0, 0.0, 0.0, 30.0, 20.0, 25.0, 0.0, 0.0, 20.0, 15.0, 20.0, 0.0, 0.0, 20.0, 0.0, 20.0, 0.0, 0.0, 9.0, 0.0, 0.0, 35.0, 0.0, 9.0, 20.0, 0.0, 20.0, 20.0, 0.0, 0.0, 0.0, 5.0, 0.0, 9.0, 0.0, 35.0, 0.0, 25.0, 43.0, 0.0, 9.0, 17.0, 0.0, 0.0, 3.0, 0.0, 5.0, 20.0, 20.0, 0.0, 20.0, 20.0, 0.0, 30.0, 3.0, 0.0, 5.0, 0.0, 15.0, 20.0, 0.0, 0.0, 0.0, 20.0, 6.0, 0.0, 0.0, 0.0, 0.0, 20.0, 30.0, 0.0, 9.0, 0.0, 10.0, 0.0, 5.0, 0.0, 30.0, 15.0, 0.0, 20.0, 0.0, 0.0, 0.0, 30.0, 20.0, 0.0, 0.0, 0.0, 0.0, 20.0, 0.0, 0.0, 0.0, 0.0, 50.0, 0.0, 3.0, 20.0, 30.0, 20.0, 30.0, 1.0, 20.0, 15.0, 30.0, 43.0, 25.0, 0.0, 0.0, 20.0, 0.0, 0.0, 0.0, 0.0, 0.0, 20.0, 20.0, 15.0, 0.0, 10.0, 0.0, 0.0, 35.0, 20.0, 0.0, 20.0, 20.0, 20.0, 20.0, 30.0, 1.0, 10.0, 10.0, 0.0, 0.0, 0.0, 0.0, 43.0, 20.0, 0.0, 15.0, 15.0, 0.0, 20.0, 0.0, 0.0, 43.0, 30.0, 0.0, 20.0, 20.0, 20.0, 0.0, 0.0, 20.0, 0.0, 15.0, 0.0, 10.0, 0.0, 20.0, 10.0, 0.0, 0.0, 20.0, 40.0, 5.0, 0.0, 20.0, 0.0, 20.0, 0.0, 30.0, 0.0, 20.0, 30.0, 20.0, 6.0, 20.0, 0.0, 0.0, 0.0, 10.0, 1.0, 20.0, 0.0, 9.0, 0.0, 0.0, 30.0, 0.0, 0.0, 0.0, 0.0, 0.0, 0.0, 30.0, 40.0, 0.0, 0.0, 0.0, 0.0, 0.0, 0.0, 3.0, 0.0, 1.0, 0.0, 0.0, 0.0, 20.0, 5.0, 20.0, 0.0, 0.0, 20.0, 13.0, 5.0, 9.0, 15.0, 0.0, 15.0, 12.0, 20.0, 20.0, 20.0, 20.0, 0.0, 10.0, 20.0, 15.0, 0.0, 20.0, 9.0, 9.0, 0.0, 0.0, 9.0, 0.0, 0.0, 30.0, 0.0, 25.0, 0.0, 0.0, 0.0, 0.0, 17.0, 25.0, 0.0, 0.0, 30.0, 9.0, 20.0, 0.0, 0.0, 5.0, 20.0, 15.0, 0.0, 5.0, 0.0, 0.0, 0.0, 0.0, 0.0, 0.0, 0.0, 0.0, 0.0, 10.0, 30.0, 0.0, 20.0, 0.0, 0.0, 1.0, 20.0, 0.0, 9.0, 0.0, 0.0, 0.0, 0.0, 15.0, 8.0, 3.0, 0.0, 0.0, 20.0, 0.0, 10.0, 30.0, 30.0, 15.0, 0.0, 20.0, 3.0, 20.0, 10.0, 17.0, 20.0, 0.0, 0.0, 20.0, 9.0, 0.0, 0.0, 0.0, 10.0, 9.0, 20.0, 0.0, 20.0, 9.0, 5.0, 9.0, 20.0, 20.0, 0.0, 20.0, 9.0, 20.0, 43.0, 0.0, 0.0, 20.0, 0.0, 0.0, 0.0, 25.0, 30.0, 20.0, 30.0, 0.0, 0.0, 0.0, 20.0, 0.0, 0.0, 20.0, 9.0, 20.0, 0.0, 0.0, 0.0, 0.0, 0.0, 20.0, 9.0, 0.0, 0.0, 20.0, 16.0, 0.0, 20.0, 1.0, 0.0, 0.0, 20.0, 20.0, 0.0, 0.0, 20.0, 0.0, 20.0, 10.0, 20.0, 0.0, 20.0, 30.0, 15.0, 0.0, 15.0, 0.0, 10.0, 0.0, 0.0, 0.0, 0.0, 3.0, 0.0, 15.0, 1.0, 0.0, 0.0, 20.0, 7.0, 20.0, 0.0, 0.0, 10.0, 0.0, 20.0, 15.0, 0.0, 0.0, 0.0, 0.0, 0.0, 0.0, 20.0, 15.0, 20.0, 0.0, 20.0, 0.0, 20.0, 0.0, 0.0, 0.0, 0.0, 30.0, 0.0, 0.0, 0.0, 20.0, 9.0, 0.0, 0.0, 0.0, 0.0, 0.0, 0.0, 0.0, 0.0, 9.0, 6.0, 0.0, 20.0, 20.0, 20.0, 0.0, 0.0, 19.0, 0.0, 0.0, 0.0, 0.0, 0.0, 0.0, 15.0, 0.0, 15.0, 0.0, 0.0, 0.0, 20.0, 5.0, 3.0, 0.0, 0.0, 19.0, 0.0, 1.0, 0.0, 0.0, 20.0, 20.0, 15.0, 0.0, 0.0, 20.0, 20.0, 2.0, 5.0, 3.0, 20.0, 0.0, 0.0, 0.0, 40.0, 0.0, 0.0, 10.0, 20.0, 0.0, 20.0, 25.0, 30.0, 0.0, 20.0, 0.0, 30.0, 0.0, 0.0, 0.0, 0.0, 0.0, 0.0, 20.0, 30.0, 5.0, 0.0, 0.0, 35.0, 0.0, 10.0, 20.0, 0.0, 4.0, 0.0, 0.0, 20.0, 0.0, 5.0, 0.0, 0.0, 0.0, 0.0, 20.0, 0.0, 20.0, 0.0, 0.0, 20.0, 30.0, 0.0, 0.0, 0.0, 20.0, 15.0, 10.0, 30.0, 0.0, 0.0, 0.0, 15.0, 20.0, 10.0, 30.0, 20.0, 0.0, 9.0, 0.0, 0.0, 0.0, 0.0, 0.0, 25.0, 0.0, 10.0, 0.0, 0.0, 0.0, 20.0, 20.0, 0.0, 20.0, 0.0, 20.0, 0.0, 10.0, 25.0, 0.0, 0.0, 15.0, 0.0, 0.0, 20.0, 60.0, 3.0, 0.0, 15.0, 10.0, 0.0, 0.0, 40.0, 7.0, 20.0, 3.0, 20.0, 0.0, 9.0, 0.0, 20.0, 20.0, 20.0, 15.0, 30.0, 0.0, 20.0, 3.0, 20.0, 10.0, 15.0, 0.0, 20.0, 20.0, 20.0, 15.0, 10.0, 1.0, 0.0, 0.0, 20.0, 10.0, 0.0, 20.0, 35.0, 0.0, 0.0, 0.0, 0.0, 20.0, 0.0, 5.0, 20.0, 0.0, 0.0, 0.0, 0.0, 9.0, 0.0, 0.0, 0.0, 0.0, 20.0, 0.0, 0.0, 20.0, 43.0, 0.0, 1.0, 5.0, 30.0, 20.0, 6.0, 0.0, 0.0, 20.0, 7.0, 0.0, 0.0, 0.0, 0.0, 0.0, 1.0, 0.0, 0.0, 0.0, 15.0, 20.0, 0.0, 30.0, 0.0, 9.0, 20.0, 15.0, 20.0, 20.0, 0.0, 20.0, 0.0, 0.0, 0.0, 40.0, 43.0, 20.0, 1.0, 0.0, 20.0, 0.0, 20.0, 0.0, 20.0, 0.0, 1.0, 0.0, 0.0, 15.0, 0.0, 25.0, 0.0, 40.0, 0.0, 0.0, 20.0, 15.0, 0.0, 20.0, 20.0, 0.0, 0.0, 40.0, 40.0, 0.0, 30.0, 0.0, 20.0, 0.0, 0.0, 0.0, 0.0, 0.0, 20.0, 10.0, 20.0, 0.0, 20.0, 43.0, 0.0, 0.0, 20.0, 20.0, 3.0, 20.0, 20.0, 0.0, 17.0, 0.0, 0.0, 20.0, 0.0, 43.0, 0.0, 0.0, 0.0, 0.0, 2.0, 0.0, 9.0, 0.0, 0.0, 30.0, 40.0, 0.0, 20.0, 20.0, 0.0, 9.0, 0.0, 20.0, 0.0, 0.0, 15.0, 0.0, 0.0, 0.0, 0.0, 25.0, 20.0, 45.0, 20.0, 30.0, 0.0, 0.0, 20.0, 43.0, 0.0, 30.0, 30.0, 20.0, 0.0, 0.0, 20.0, 0.0, 0.0, 20.0, 0.0, 0.0, 0.0, 0.0, 0.0, 0.0, 0.0, 0.0, 40.0, 5.0, 20.0, 0.0, 0.0, 15.0, 0.0, 20.0, 0.0, 15.0, 20.0, 0.0, 43.0, 20.0, 0.0, 15.0, 20.0, 0.0, 20.0, 20.0, 30.0, 20.0, 0.0, 9.0, 20.0, 0.0, 15.0, 20.0, 0.0, 40.0, 3.0, 5.0, 0.0, 2.0, 0.0, 0.0, 0.0, 40.0, 0.0, 0.0, 40.0, 20.0, 20.0, 0.0, 20.0, 0.0, 70.0, 20.0, 0.0, 0.0, 0.0, 20.0, 5.0, 0.0, 0.0, 20.0, 20.0, 9.0, 0.0, 0.0, 15.0, 20.0, 0.0, 17.0, 0.0, 18.0, 3.0, 0.0, 10.0, 0.0, 0.0, 10.0, 0.0, 0.0, 0.0, 0.0, 3.0, 0.0, 0.0, 0.0, 3.0, 0.0, 0.0, 0.0, 20.0, 8.0, 20.0, 20.0, 20.0, 0.0, 0.0, 0.0, 0.0, 0.0, 20.0, 5.0, 30.0, 6.0, 5.0, 0.0, 0.0, 0.0, 0.0, 0.0, 10.0, 0.0, 0.0, 0.0, 0.0, 0.0, 0.0, 0.0, 15.0, 9.0, 30.0, 0.0, 0.0, 20.0, 0.0, 0.0, 20.0, 30.0, 30.0, 0.0, 0.0, 0.0, 30.0, 0.0, 0.0, 0.0, 3.0, 15.0, 30.0, 0.0, 0.0, 30.0, 6.0, 9.0, 15.0, 0.0, 0.0, 0.0, 20.0, 0.0, 0.0, 0.0, 0.0, 0.0, 3.0, 0.0, 0.0, 0.0, 15.0, 0.0, 9.0, 43.0, 0.0, 0.0, 0.0, 15.0, 0.0, 20.0, 0.0, 0.0, 20.0, 5.0, 0.0, 20.0, 30.0, 20.0, 0.0, 20.0, 30.0, 30.0, 0.0, 10.0, 0.0, 9.0, 0.0, 20.0, 0.0, 0.0, 20.0, 9.0, 20.0, 0.0, 20.0, 0.0, 20.0, 0.0, 5.0, 10.0, 0.0, 5.0, 0.0, 0.0, 0.0, 9.0, 0.0, 9.0, 30.0, 0.0, 20.0, 0.0, 0.0, 20.0, 20.0, 23.0, 9.0, 0.0, 0.0, 0.0, 0.0, 6.0, 0.0, 0.0, 30.0, 40.0, 0.0, 0.0, 0.0, 0.0, 20.0, 0.0, 5.0, 0.0, 20.0, 0.0, 0.0, 15.0, 25.0, 0.0, 3.0, 6.0, 0.0, 0.0, 0.0, 0.0, 20.0, 0.0, 20.0, 20.0, 1.0, 35.0, 0.0, 0.0, 0.0, 0.0, 40.0, 20.0, 0.0, 20.0, 20.0, 30.0, 20.0, 30.0, 30.0, 0.0, 6.0, 0.0, 0.0, 10.0, 0.0, 20.0, 2.0, 43.0, 0.0, 20.0, 0.0, 5.0, 30.0, 0.0, 0.0, 20.0, 43.0, 2.0, 20.0, 0.0, 4.0, 0.0, 20.0, 20.0, 20.0, 30.0, 10.0, 0.0, 5.0, 0.0, 0.0, 15.0, 20.0, 0.0, 20.0, 0.0, 20.0, 4.0, 0.0, 20.0, 20.0, 0.0, 11.0, 9.0, 0.0, 0.0, 20.0, 9.0, 0.0, 16.0, 9.0, 20.0, 25.0, 0.0, 0.0, 3.0, 20.0, 10.0, 5.0, 0.0, 25.0, 0.0, 3.0, 0.0, 3.0, 20.0, 0.0, 0.0, 20.0, 30.0, 0.0, 20.0, 0.0, 20.0, 30.0, 15.0, 0.0, 0.0, 5.0, 20.0, 0.0, 15.0, 0.0, 0.0, 15.0, 0.0, 20.0, 0.0, 9.0, 0.0, 0.0, 0.0, 40.0, 0.0, 0.0, 0.0, 0.0, 0.0, 40.0, 0.0, 0.0, 15.0, 30.0, 20.0, 0.0, 0.0, 20.0, 0.0, 0.0, 0.0, 15.0, 30.0, 20.0, 20.0, 0.0, 0.0, 5.0, 0.0, 9.0, 20.0, 20.0, 20.0, 3.0, 0.0, 20.0, 9.0, 11.0, 30.0, 0.0, 0.0, 20.0, 40.0, 0.0, 10.0, 9.0, 0.0, 0.0, 0.0, 20.0, 0.0, 0.0, 0.0, 20.0, 0.0, 25.0, 0.0, 0.0, 0.0, 20.0, 0.0, 20.0, 40.0, 0.0, 25.0, 0.0, 3.0, 9.0, 0.0, 0.0, 20.0, 0.0, 20.0, 3.0, 5.0, 20.0, 0.0, 5.0, 2.0, 0.0, 0.0, 0.0, 10.0, 20.0, 0.0, 9.0, 20.0, 0.0, 0.0, 15.0, 0.0, 0.0, 15.0, 0.0, 30.0, 20.0, 0.0, 0.0, 1.0, 0.0, 0.0, 25.0, 0.0, 15.0, 0.0, 0.0, 0.0, 20.0, 0.0, 3.0, 0.0, 1.0, 0.0, 0.0, 20.0, 0.0, 0.0, 3.0, 30.0, 0.0, 0.0, 1.0, 0.0, 0.0, 6.0, 0.0, 0.0, 20.0, 15.0, 0.0, 20.0, 0.0, 0.0, 16.0, 0.0, 20.0, 9.0, 0.0, 0.0, 0.0, 30.0, 15.0, 0.0, 0.0, 30.0, 0.0, 0.0, 25.0, 10.0, 20.0, 0.0, 15.0, 15.0, 0.0, 0.0, 5.0, 3.0, 30.0, 20.0, 20.0, 0.0, 20.0, 20.0, 43.0, 0.0, 20.0, 0.0, 0.0, 0.0, 0.0, 0.0, 43.0, 0.0, 0.0, 30.0, 30.0, 0.0, 7.0, 20.0, 9.0, 30.0, 15.0, 20.0, 0.0, 15.0, 0.0, 0.0, 20.0, 0.0, 20.0, 25.0, 0.0, 0.0, 0.0, 20.0, 0.0, 20.0, 3.0, 5.0, 0.0, 15.0, 0.0, 0.0, 15.0, 0.0, 43.0, 9.0, 20.0, 0.0, 5.0, 10.0, 15.0, 30.0, 20.0, 20.0, 10.0, 0.0, 0.0, 0.0, 0.0, 0.0, 40.0, 15.0, 0.0, 0.0, 0.0, 20.0, 15.0, 9.0, 20.0, 0.0, 0.0, 0.0, 0.0, 25.0, 0.0, 25.0, 0.0, 15.0, 0.0, 0.0, 5.0, 20.0, 10.0, 5.0, 0.0, 3.0, 0.0, 0.0, 0.0, 0.0, 0.0, 15.0, 15.0, 15.0, 0.0, 1.0, 15.0, 30.0, 40.0, 15.0, 0.0, 0.0, 20.0, 20.0, 0.0, 0.0, 0.0, 0.0, 20.0, 20.0, 20.0, 0.0, 10.0, 0.0, 0.0, 20.0, 15.0, 35.0, 2.0, 20.0, 0.0, 20.0, 9.0, 5.0, 20.0, 20.0, 20.0, 0.0, 0.0, 0.0, 0.0, 0.0, 20.0, 40.0, 20.0, 0.0, 0.0, 9.0, 5.0, 20.0, 30.0, 0.0, 40.0, 15.0, 20.0, 0.0, 20.0, 30.0, 3.0, 0.0, 0.0, 0.0, 5.0, 20.0, 0.0, 9.0, 15.0, 3.0, 0.0, 0.0, 1.0, 0.0, 0.0, 0.0, 15.0, 0.0, 9.0, 30.0, 3.0, 0.0, 0.0, 1.0, 0.0, 0.0, 0.0, 20.0, 9.0, 0.0, 0.0, 0.0, 0.0, 10.0, 0.0, 0.0, 5.0, 15.0, 20.0, 15.0, 0.0, 20.0, 5.0, 15.0, 20.0, 20.0, 20.0, 2.0, 45.0, 20.0, 10.0, 0.0, 0.0, 20.0, 20.0, 0.0, 0.0, 0.0, 0.0, 3.0, 0.0, 30.0, 0.0, 0.0, 0.0, 0.0, 0.0, 20.0, 0.0, 0.0, 0.0, 0.0, 30.0, 0.0, 0.0, 10.0, 40.0, 0.0, 40.0, 20.0, 0.0, 6.0, 0.0, 5.0, 20.0, 9.0, 0.0, 30.0, 0.0, 20.0, 20.0, 0.0, 0.0, 25.0, 0.0, 0.0, 8.0, 0.0, 0.0, 0.0, 10.0, 0.0, 0.0, 20.0, 30.0, 0.0, 20.0, 0.0, 0.0, 0.0, 0.0, 0.0, 15.0, 0.0, 0.0, 3.0, 20.0, 30.0, 0.0, 30.0, 15.0, 30.0, 40.0, 0.0, 0.0, 0.0, 0.0, 20.0, 0.0, 20.0, 20.0, 0.0, 0.0, 5.0, 10.0, 0.0, 0.0, 30.0, 0.0, 0.0, 20.0, 15.0, 40.0, 0.0, 0.0, 40.0, 0.0, 0.0, 43.0, 0.0, 0.0, 0.0, 30.0, 0.0, 0.0, 20.0, 0.0, 20.0, 25.0, 0.0, 10.0, 0.0, 0.0, 0.0, 0.0, 20.0, 0.0, 0.0, 0.0, 0.0, 20.0, 20.0, 0.0, 0.0, 20.0, 0.0, 0.0, 30.0, 10.0, 0.0, 0.0, 9.0, 35.0, 0.0, 0.0, 20.0, 0.0, 60.0, 25.0, 0.0, 25.0, 15.0, 10.0, 20.0, 0.0, 0.0, 0.0, 4.0, 0.0, 30.0, 10.0, 0.0, 0.0, 0.0, 0.0, 10.0, 0.0, 0.0, 0.0, 10.0, 43.0, 0.0, 0.0, 43.0, 20.0, 0.0, 0.0, 0.0, 0.0, 0.0, 30.0, 0.0, 17.0, 5.0, 0.0, 0.0, 0.0, 0.0, 43.0, 0.0, 10.0, 15.0, 0.0, 0.0, 0.0, 14.0, 0.0, 3.0, 0.0, 0.0, 1.0, 15.0, 0.0, 10.0, 15.0, 0.0, 20.0, 9.0, 20.0, 20.0, 0.0, 0.0, 20.0, 0.0, 20.0, 0.0, 15.0, 20.0, 25.0, 9.0, 0.0, 0.0, 20.0, 6.0, 30.0, 0.0, 40.0, 10.0, 30.0, 30.0, 1.0, 40.0, 0.0, 1.0, 0.0, 5.0, 43.0, 15.0, 20.0, 5.0, 0.0, 20.0, 0.0, 20.0, 0.0, 0.0, 0.0, 40.0, 0.0, 0.0, 20.0, 20.0, 0.0, 20.0, 20.0, 20.0, 0.0, 0.0, 20.0, 0.0, 10.0, 0.0, 0.0, 0.0, 0.0, 0.0, 15.0, 0.0, 20.0, 30.0, 30.0, 0.0, 0.0, 0.0, 0.0, 30.0, 0.0, 25.0, 0.0, 0.0, 0.0, 7.0, 0.0, 0.0, 0.0, 0.0, 0.0, 15.0, 20.0, 0.0, 0.0, 20.0, 20.0, 0.0, 5.0, 0.0, 0.0, 40.0, 0.0, 1.0, 6.0, 20.0, 0.0, 0.0, 20.0, 7.0, 30.0, 0.0, 20.0, 0.0, 0.0, 0.0, 20.0, 0.0, 0.0, 0.0, 0.0, 0.0, 20.0, 40.0, 0.0, 0.0, 0.0, 0.0, 0.0, 0.0, 0.0, 2.0, 20.0, 0.0, 0.0, 20.0, 0.0, 20.0, 0.0, 10.0, 0.0, 20.0, 0.0, 0.0, 30.0, 0.0, 20.0, 43.0, 0.0, 0.0, 15.0, 0.0, 0.0, 43.0, 0.0, 0.0, 0.0, 0.0, 40.0, 6.0, 20.0, 0.0, 0.0, 0.0, 0.0, 20.0, 43.0, 0.0, 0.0, 15.0, 0.0, 0.0, 9.0, 30.0, 0.0, 0.0, 0.0, 0.0, 0.0, 20.0, 8.0, 10.0, 0.0, 20.0, 0.0, 15.0, 20.0, 0.0, 20.0, 9.0, 0.0, 0.0, 30.0, 0.0, 0.0, 0.0, 0.0, 10.0, 0.0, 0.0, 15.0, 0.0, 0.0, 0.0, 40.0, 43.0, 0.0, 5.0, 0.0, 20.0, 0.0, 0.0, 0.0, 0.0, 0.0, 0.0, 0.0, 3.0, 43.0, 0.0, 20.0, 0.0, 0.0, 0.0, 1.0, 43.0, 0.0, 0.0, 30.0]}, {\"label\": \"BPMeds\", \"values\": [0.0, 0.0, 0.0, 0.0, 0.0, 0.0, 0.0, 0.0, 0.0, 0.0, 0.0, 0.0, 0.0, 1.0, 0.0, 0.0, 0.0, 0.0, 0.0, 0.0, 0.0, 0.0, 0.0, 0.0, 0.0, 0.0, 0.0, 0.0, 0.0, 0.0, 0.0, 0.0, 0.0, 0.0, 0.0, 0.0, 0.0, 0.0, 1.0, 0.0, 0.0, 0.0, 0.0, 0.0, 0.0, 0.0, 0.0, 0.0, 0.0, 0.0, 0.0, 0.0, 0.0, 0.0, 0.0, 0.0, 0.0, 0.0, 0.0, 0.0, 0.0, 0.0, 0.0, 0.0, 0.0, 0.0, 0.0, 0.0, 0.0, 0.0, 0.0, 0.0, 0.0, 0.0, 0.0, 0.0, 0.0, 0.0, 0.0, 0.0, 0.0, 0.0, 0.0, 0.0, 0.0, 0.0, 0.0, 0.0, 0.0, 0.0, 0.0, 0.0, 0.0, 0.0, 0.0, 0.0, 0.0, 0.0, 0.0, 0.0, 0.0, 0.0, 0.0, 0.0, 0.0, 0.0, 0.0, 0.0, 0.0, 0.0, 0.0, 0.0, 0.0, 0.0, 0.0, 0.0, 0.0, 0.0, 0.0, 0.0, 0.0, 0.0, 0.0, 0.0, 0.0, 0.0, 0.0, 0.0, 0.0, 0.0, 0.0, 0.0, 0.0, 0.0, 0.0, 0.0, 0.0, 0.0, 0.0, 0.0, 0.0, 1.0, 0.0, 0.0, 1.0, 0.0, 0.0, 0.0, 0.0, 0.0, 0.0, 0.0, 0.0, 0.0, 0.0, 0.0, 0.0, 0.0, 0.0, 0.0, 0.0, 0.0, 0.0, 0.0, 0.0, 0.0, 0.0, 0.0, 0.0, 0.0, 0.0, 0.0, 0.0, 0.0, 0.0, 0.0, 0.0, 0.0, 0.0, 0.0, 0.0, 0.0, 0.0, 0.0, 0.0, 0.0, 0.0, 0.0, 0.0, 0.0, 0.0, 0.0, 0.0, 0.0, 0.0, 0.0, 0.0, 0.0, 0.0, 0.0, 0.0, 0.0, 0.0, 0.0, 0.0, 0.0, 0.0, 0.0, 0.0, 0.0, 0.0, 0.0, 0.0, 0.0, 0.0, 0.0, 0.0, 0.0, 0.0, 0.0, 0.0, 0.0, 0.0, 0.0, 0.0, 0.0, 0.0, 1.0, 0.0, 0.0, 0.0, 0.0, 0.0, 0.0, 0.0, 0.0, 0.0, 0.0, 0.0, 0.0, 0.0, 0.0, 0.0, 0.0, 0.0, 0.0, 0.0, 0.0, 0.0, 0.0, 0.0, 0.0, 0.0, 0.0, 0.0, 0.0, 0.0, 0.0, 0.0, 0.0, 0.0, 0.0, 0.0, 0.0, 1.0, 0.0, 0.0, 0.0, 0.0, 0.0, 0.0, 0.0, 0.0, 0.0, 0.0, 0.0, 0.0, 0.0, 0.0, 0.0, 0.0, 0.0, 0.0, 0.0, 0.0, 0.0, 0.0, 0.0, 0.0, 1.0, 0.0, 0.0, 0.0, 0.0, 0.0, 0.0, 0.0, 0.0, 0.0, 1.0, 0.0, 0.0, 0.0, 0.0, 0.0, 0.0, 0.0, 0.0, 0.0, 0.0, 0.0, 0.0, 0.0, 0.0, 0.0, 0.0, 0.0, 0.0, 0.0, 0.0, 0.0, 0.0, 0.0, 0.0, 0.0, 0.0, 1.0, 0.0, 0.0, 0.0, 0.0, 0.0, 0.0, 0.0, 0.0, 0.0, 0.0, 0.0, 0.0, 0.0, 0.0, 0.0, 0.0, 0.0, 0.0, 0.0, 0.0, 0.0, 0.0, 0.0, 0.0, 0.0, 0.0, 0.0, 0.0, 0.0, 0.0, 0.0, 0.0, 0.0, 0.0, 0.0, 0.0, 0.0, 0.0, 0.0, 0.0, 0.0, 0.0, 0.0, 0.0, 0.0, 0.0, 0.0, 0.0, 0.0, 0.0, 0.0, 0.0, 0.0, 0.0, 0.0, 0.0, 0.0, 0.0, 0.0, 0.0, 0.0, 0.0, 0.0, 0.0, 0.0, 0.0, 1.0, 0.0, 0.0, 0.0, 0.0, 0.0, 0.0, 0.0, 0.0, 0.0, 0.0, 0.0, 1.0, 0.0, 0.0, 0.0, 0.0, 0.0, 0.0, 0.0, 0.0, 0.0, 0.0, 0.0, 0.0, 0.0, 0.0, 0.0, 0.0, 0.0, 0.0, 0.0, 0.0, 0.0, 0.0, 0.0, 0.0, 0.0, 0.0, 0.0, 0.0, 0.0, 0.0, 0.0, 0.0, 0.0, 0.0, 0.0, 0.0, 0.0, 0.0, 0.0, 0.0, 0.0, 0.0, 0.0, 0.0, 0.0, 0.0, 0.0, 0.0, 0.0, 0.0, 0.0, 0.0, 0.0, 0.0, 0.0, 0.0, 0.0, 0.0, 0.0, 0.0, 0.0, 1.0, 0.0, 0.0, 0.0, 0.0, 0.0, 0.0, 0.0, 0.0, 0.0, 0.0, 0.0, 0.0, 0.0, 0.0, 0.0, 0.0, 0.0, 0.0, 0.0, 0.0, 0.0, 0.0, 0.0, 0.0, 0.0, 0.0, 0.0, 0.0, 0.0, 0.0, 0.0, 0.0, 0.0, 0.0, 0.0, 0.0, 0.0, 0.0, 0.0, 0.0, 0.0, 0.0, 0.0, 1.0, 0.0, 0.0, 0.0, 0.0, 0.0, 0.0, 0.0, 0.0, 0.0, 0.0, 0.0, 0.0, 0.0, 0.0, 0.0, 0.0, 0.0, 0.0, 0.0, 0.0, 0.0, 0.0, 0.0, 0.0, 0.0, 0.0, 0.0, 0.0, 0.0, 0.0, 0.0, 0.0, 0.0, 0.0, 0.0, 0.0, 0.0, 0.0, 0.0, 0.0, 0.0, 0.0, 0.0, 0.0, 0.0, 0.0, 0.0, 0.0, 0.0, 0.0, 0.0, 0.0, 0.0, 0.0, 0.0, 0.0, 0.0, 0.0, 0.0, 0.0, 0.0, 0.0, 0.0, 0.0, 0.0, 1.0, 0.0, 0.0, 0.0, 1.0, 0.0, 0.0, 0.0, 0.0, 0.0, 0.0, 0.0, 0.0, 0.0, 0.0, 0.0, 0.0, 0.0, 0.0, 0.0, 0.0, 0.0, 0.0, 0.0, 0.0, 0.0, 0.0, 0.0, 0.0, 0.0, 0.0, 0.0, 1.0, 0.0, 0.0, 0.0, 0.0, 0.0, 0.0, 0.0, 0.0, 0.0, 0.0, 0.0, 0.0, 0.0, 0.0, 0.0, 0.0, 0.0, 0.0, 0.0, 0.0, 1.0, 0.0, 0.0, 0.0, 0.0, 0.0, 0.0, 0.0, 0.0, 0.0, 0.0, 0.0, 0.0, 0.0, 1.0, 0.0, 0.0, 0.0, 0.0, 0.0, 0.0, 0.0, 0.0, 0.0, 0.0, 0.0, 1.0, 0.0, 0.0, 0.0, 0.0, 0.0, 0.0, 0.0, 0.0, 0.0, 0.0, 0.0, 0.0, 0.0, 0.0, 0.0, 0.0, 0.0, 0.0, 0.0, 0.0, 0.0, 0.0, 0.0, 0.0, 0.0, 0.0, 1.0, 0.0, 0.0, 0.0, 0.0, 0.0, 0.0, 0.0, 0.0, 1.0, 0.0, 0.0, 0.0, 0.0, 0.0, 0.0, 0.0, 0.0, 0.0, 0.0, 0.0, 0.0, 0.0, 0.0, 0.0, 0.0, 0.0, 0.0, 0.0, 0.0, 0.0, 0.0, 0.0, 0.0, 0.0, 0.0, 0.0, 0.0, 0.0, 0.0, 0.0, 0.0, 0.0, 0.0, 0.0, 0.0, 0.0, 0.0, 0.0, 0.0, 0.0, 0.0, 0.0, 0.0, 0.0, 0.0, 0.0, 0.0, 0.0, 0.0, 0.0, 0.0, 0.0, 0.0, 0.0, 0.0, 0.0, 0.0, 0.0, 0.0, 1.0, 0.0, 0.0, 0.0, 0.0, 0.0, 0.0, 0.0, 0.0, 0.0, 0.0, 0.0, 0.0, 0.0, 0.0, 0.0, 0.0, 0.0, 0.0, 0.0, 0.0, 0.0, 0.0, 1.0, 0.0, 0.0, 0.0, 0.0, 0.0, 0.0, 0.0, 0.0, 0.0, 0.0, 0.0, 0.0, 0.0, 0.0, 0.0, 0.0, 0.0, 0.0, 0.0, 0.0, 0.0, 0.0, 0.0, 0.0, 0.0, 0.0, 0.0, 0.0, 0.0, 0.0, 0.0, 0.0, 0.0, 0.0, 0.0, 0.0, 0.0, 0.0, 0.0, 0.0, 0.0, 0.0, 0.0, 0.0, 0.0, 0.0, 0.0, 0.0, 0.0, 0.0, 0.0, 0.0, 0.0, 0.0, 0.0, 0.0, 0.0, 0.0, 0.0, 0.0, 0.0, 0.0, 0.0, 0.0, 0.0, 0.0, 0.0, 0.0, 0.0, 0.0, 0.0, 0.0, 0.0, 1.0, 0.0, 0.0, 0.0, 0.0, 0.0, 0.0, 0.0, 0.0, 0.0, 0.0, 0.0, 0.0, 0.0, 0.0, 0.0, 0.0, 0.0, 0.0, 0.0, 0.0, 0.0, 0.0, 0.0, 0.0, 0.0, 0.0, 0.0, 0.0, 0.0, 0.0, 0.0, 0.0, 0.0, 0.0, 0.0, 0.0, 0.0, 0.0, 0.0, 0.0, 0.0, 0.0, 0.0, 0.0, 0.0, 0.0, 0.0, 0.0, 0.0, 0.0, 0.0, 0.0, 0.0, 0.0, 0.0, 1.0, 0.0, 0.0, 0.0, 0.0, 0.0, 0.0, 0.0, 0.0, 0.0, 0.0, 0.0, 0.0, 0.0, 0.0, 0.0, 0.0, 0.0, 0.0, 0.0, 0.0, 0.0, 0.0, 0.0, 0.0, 0.0, 0.0, 0.0, 0.0, 0.0, 1.0, 1.0, 0.0, 0.0, 0.0, 0.0, 0.0, 0.0, 0.0, 0.0, 0.0, 0.0, 0.0, 0.0, 0.0, 0.0, 0.0, 0.0, 0.0, 0.0, 0.0, 0.0, 0.0, 0.0, 0.0, 0.0, 0.0, 0.0, 0.0, 1.0, 0.0, 0.0, 0.0, 0.0, 0.0, 0.0, 0.0, 0.0, 0.0, 0.0, 0.0, 0.0, 0.0, 0.0, 0.0, 0.0, 0.0, 0.0, 0.0, 0.0, 0.0, 0.0, 0.0, 0.0, 0.0, 0.0, 0.0, 0.0, 0.0, 0.0, 0.0, 0.0, 0.0, 0.0, 0.0, 0.0, 0.0, 0.0, 0.0, 0.0, 0.0, 0.0, 0.0, 0.0, 0.0, 0.0, 0.0, 0.0, 0.0, 0.0, 0.0, 0.0, 0.0, 0.0, 0.0, 0.0, 0.0, 0.0, 0.0, 0.0, 0.0, 0.0, 0.0, 0.0, 0.0, 0.0, 0.0, 0.0, 0.0, 0.0, 0.0, 1.0, 0.0, 0.0, 0.0, 0.0, 0.0, 0.0, 0.0, 0.0, 0.0, 0.0, 0.0, 0.0, 0.0, 0.0, 0.0, 0.0, 0.0, 0.0, 0.0, 0.0, 0.0, 0.0, 0.0, 0.0, 0.0, 0.0, 0.0, 0.0, 0.0, 0.0, 0.0, 0.0, 0.0, 0.0, 0.0, 0.0, 0.0, 0.0, 0.0, 0.0, 0.0, 0.0, 0.0, 0.0, 0.0, 0.0, 0.0, 0.0, 0.0, 0.0, 0.0, 0.0, 0.0, 0.0, 1.0, 0.0, 0.0, 0.0, 0.0, 0.0, 0.0, 0.0, 0.0, 0.0, 0.0, 0.0, 0.0, 0.0, 0.0, 0.0, 0.0, 0.0, 0.0, 0.0, 0.0, 0.0, 0.0, 0.0, 0.0, 0.0, 0.0, 0.0, 0.0, 0.0, 0.0, 0.0, 0.0, 0.0, 0.0, 0.0, 0.0, 0.0, 0.0, 0.0, 0.0, 0.0, 0.0, 0.0, 0.0, 0.0, 0.0, 0.0, 0.0, 0.0, 0.0, 0.0, 0.0, 0.0, 0.0, 0.0, 0.0, 0.0, 0.0, 0.0, 0.0, 0.0, 0.0, 0.0, 0.0, 0.0, 0.0, 0.0, 0.0, 0.0, 0.0, 0.0, 0.0, 0.0, 0.0, 0.0, 0.0, 0.0, 0.0, 0.0, 0.0, 0.0, 0.0, 0.0, 0.0, 0.0, 0.0, 0.0, 0.0, 0.0, 0.0, 0.0, 0.0, 0.0, 0.0, 0.0, 0.0, 0.0, 0.0, 0.0, 0.0, 0.0, 0.0, 0.0, 0.0, 0.0, 0.0, 0.0, 1.0, 0.0, 0.0, 0.0, 0.0, 0.0, 0.0, 0.0, 0.0, 0.0, 0.0, 0.0, 0.0, 0.0, 0.0, 0.0, 0.0, 0.0, 0.0, 0.0, 0.0, 0.0, 0.0, 0.0, 0.0, 0.0, 0.0, 0.0, 0.0, 0.0, 0.0, 0.0, 0.0, 0.0, 0.0, 0.0, 0.0, 0.0, 0.0, 0.0, 0.0, 0.0, 0.0, 0.0, 0.0, 0.0, 0.0, 0.0, 0.0, 0.0, 0.0, 0.0, 0.0, 0.0, 0.0, 0.0, 0.0, 0.0, 0.0, 0.0, 0.0, 0.0, 0.0, 0.0, 0.0, 0.0, 0.0, 0.0, 0.0, 0.0, 0.0, 0.0, 0.0, 0.0, 0.0, 0.0, 0.0, 0.0, 0.0, 0.0, 0.0, 0.0, 0.0, 0.0, 0.0, 0.0, 0.0, 0.0, 0.0, 0.0, 0.0, 0.0, 0.0, 0.0, 0.0, 0.0, 0.0, 0.0, 0.0, 0.0, 0.0, 0.0, 0.0, 0.0, 0.0, 0.0, 0.0, 0.0, 0.0, 0.0, 0.0, 0.0, 0.0, 0.0, 0.0, 0.0, 0.0, 0.0, 0.0, 0.0, 0.0, 0.0, 0.0, 0.0, 0.0, 0.0, 0.0, 0.0, 0.0, 0.0, 0.0, 0.0, 0.0, 0.0, 0.0, 0.0, 0.0, 0.0, 0.0, 0.0, 0.0, 0.0, 0.0, 0.0, 1.0, 0.0, 0.0, 0.0, 0.0, 0.0, 0.0, 1.0, 0.0, 0.0, 0.0, 0.0, 0.0, 0.0, 0.0, 0.0, 0.0, 0.0, 0.0, 0.0, 0.0, 0.0, 0.0, 0.0, 0.0, 0.0, 0.0, 0.0, 0.0, 0.0, 0.0, 0.0, 0.0, 0.0, 0.0, 0.0, 0.0, 0.0, 0.0, 0.0, 0.0, 0.0, 0.0, 0.0, 1.0, 0.0, 0.0, 0.0, 0.0, 0.0, 0.0, 0.0, 0.0, 0.0, 0.0, 0.0, 0.0, 0.0, 0.0, 0.0, 0.0, 0.0, 0.0, 0.0, 0.0, 0.0, 0.0, 0.0, 0.0, 0.0, 0.0, 0.0, 0.0, 0.0, 0.0, 0.0, 0.0, 0.0, 0.0, 0.0, 0.0, 0.0, 0.0, 0.0, 0.0, 0.0, 0.0, 0.0, 0.0, 0.0, 0.0, 0.0, 0.0, 0.0, 0.0, 0.0, 0.0, 0.0, 0.0, 0.0, 0.0, 0.0, 0.0, 0.0, 0.0, 0.0, 0.0, 0.0, 0.0, 0.0, 0.0, 0.0, 0.0, 0.0, 0.0, 0.0, 0.0, 0.0, 0.0, 0.0, 0.0, 0.0, 0.0, 0.0, 0.0, 0.0, 0.0, 0.0, 0.0, 0.0, 0.0, 0.0, 0.0, 0.0, 0.0, 0.0, 0.0, 0.0, 0.0, 1.0, 1.0, 0.0, 0.0, 0.0, 0.0, 0.0, 0.0, 0.0, 0.0, 0.0, 0.0, 0.0, 0.0, 0.0, 0.0, 0.0, 0.0, 0.0, 0.0, 0.0, 0.0, 0.0, 0.0, 0.0, 0.0, 0.0, 0.0, 0.0, 0.0, 0.0, 0.0, 0.0, 0.0, 0.0, 0.0, 0.0, 0.0, 0.0, 1.0, 0.0, 0.0, 0.0, 0.0, 0.0, 1.0, 0.0, 0.0, 0.0, 0.0, 0.0, 0.0, 0.0, 0.0, 0.0, 0.0, 0.0, 0.0, 0.0, 0.0, 0.0, 0.0, 0.0, 0.0, 0.0, 0.0, 0.0, 0.0, 0.0, 0.0, 0.0, 0.0, 0.0, 0.0, 1.0, 0.0, 0.0, 0.0, 0.0, 0.0, 0.0, 0.0, 0.0, 0.0, 0.0, 0.0, 0.0, 0.0, 0.0, 0.0, 0.0, 0.0, 0.0, 0.0, 0.0, 0.0, 0.0, 0.0, 0.0, 0.0, 0.0, 0.0, 0.0, 0.0, 0.0, 0.0, 0.0, 0.0, 0.0, 0.0, 0.0, 0.0, 0.0, 0.0, 0.0, 0.0, 0.0, 0.0, 0.0, 0.0, 1.0, 0.0, 1.0, 0.0, 0.0, 0.0, 0.0, 0.0, 0.0, 0.0, 0.0, 0.0, 0.0, 0.0, 0.0, 0.0, 0.0, 0.0, 0.0, 0.0, 0.0, 0.0, 0.0, 0.0, 0.0, 0.0, 0.0, 0.0, 0.0, 0.0, 0.0, 0.0, 0.0, 0.0, 0.0, 0.0, 0.0, 0.0, 0.0, 1.0, 0.0, 0.0, 0.0, 0.0, 0.0, 0.0, 0.0, 0.0, 0.0, 0.0, 0.0, 0.0, 0.0, 0.0, 0.0, 0.0, 0.0, 0.0, 0.0, 0.0, 0.0, 0.0, 0.0, 0.0, 0.0, 0.0, 0.0, 0.0, 0.0, 0.0, 0.0, 0.0, 0.0, 0.0, 0.0, 0.0, 0.0, 0.0, 1.0, 0.0, 0.0, 0.0, 0.0, 0.0, 0.0, 0.0, 0.0, 0.0, 0.0, 0.0, 0.0, 0.0, 0.0, 0.0, 0.0, 0.0, 0.0, 0.0, 0.0, 0.0, 0.0, 0.0, 0.0, 0.0, 0.0, 0.0, 0.0, 0.0, 0.0, 0.0, 0.0, 0.0, 1.0, 1.0, 0.0, 0.0, 0.0, 0.0, 0.0, 0.0, 0.0, 1.0, 0.0, 0.0, 0.0, 0.0, 0.0, 0.0, 0.0, 0.0, 0.0, 0.0, 0.0, 0.0, 0.0, 0.0, 0.0, 0.0, 0.0, 0.0, 0.0, 0.0, 0.0, 0.0, 0.0, 0.0, 0.0, 0.0, 0.0, 0.0, 0.0, 0.0, 0.0, 0.0, 0.0, 0.0, 0.0, 0.0, 0.0, 0.0, 0.0, 0.0, 0.0, 0.0, 0.0, 0.0, 0.0, 0.0, 0.0, 0.0, 0.0, 0.0, 0.0, 0.0, 0.0, 0.0, 0.0, 0.0, 0.0, 0.0, 0.0, 0.0, 0.0, 0.0, 0.0, 0.0, 0.0, 0.0, 0.0, 0.0, 0.0, 0.0, 0.0, 0.0, 0.0, 0.0, 0.0, 0.0, 0.0, 0.0, 0.0, 0.0, 0.0, 0.0, 0.0, 0.0, 0.0, 0.0, 0.0, 0.0, 0.0, 0.0, 0.0, 0.0, 0.0, 0.0, 0.0, 0.0, 0.0, 0.0, 0.0, 0.0, 0.0, 0.0, 0.0, 0.0, 0.0, 0.0, 0.0, 0.0, 0.0, 0.0, 0.0, 0.0, 0.0, 0.0, 0.0, 0.0, 0.0, 0.0, 0.0, 0.0, 0.0, 0.0, 0.0, 0.0, 0.0, 0.0, 0.0, 0.0, 0.0, 0.0, 0.0, 0.0, 0.0, 0.0, 0.0, 0.0, 0.0, 0.0, 0.0, 0.0, 0.0, 0.0, 0.0, 1.0, 0.0, 0.0, 0.0, 0.0, 0.0, 0.0, 0.0, 0.0, 0.0, 0.0, 0.0, 0.0, 0.0, 0.0, 0.0, 0.0, 0.0, 0.0, 0.0, 0.0, 0.0, 0.0, 0.0, 0.0, 0.0, 0.0, 0.0, 0.0, 0.0, 0.0, 0.0, 0.0, 0.0, 0.0, 0.0, 0.0, 0.0, 0.0, 0.0, 0.0, 0.0, 0.0, 0.0, 0.0, 0.0, 0.0, 0.0, 0.0, 0.0, 0.0, 0.0, 0.0, 0.0, 0.0, 0.0, 0.0, 0.0, 0.0, 0.0, 0.0, 0.0, 0.0, 0.0, 0.0, 0.0, 0.0, 0.0, 0.0, 0.0, 0.0, 0.0, 0.0, 0.0, 0.0, 0.0, 0.0, 1.0, 0.0, 0.0, 1.0, 0.0, 0.0, 0.0, 0.0, 0.0, 0.0, 0.0, 0.0, 0.0, 0.0, 0.0, 0.0, 0.0, 0.0, 0.0, 0.0, 0.0, 0.0, 0.0, 1.0, 0.0, 0.0, 0.0, 0.0, 0.0, 0.0, 0.0, 0.0, 0.0, 0.0, 0.0, 0.0, 0.0, 0.0, 0.0, 0.0, 0.0, 0.0, 0.0, 0.0, 0.0, 0.0, 0.0, 0.0, 0.0, 0.0, 0.0, 0.0, 0.0, 0.0, 0.0, 0.0, 0.0, 0.0, 0.0, 0.0, 0.0, 0.0, 0.0, 0.0, 0.0, 0.0, 0.0, 0.0, 0.0, 0.0, 0.0, 0.0, 0.0, 0.0, 0.0, 0.0, 0.0, 0.0, 0.0, 0.0, 0.0, 0.0, 0.0, 0.0, 0.0, 0.0, 0.0, 0.0, 0.0, 0.0, 0.0, 0.0, 0.0, 0.0, 0.0, 0.0, 0.0, 0.0, 0.0, 0.0, 0.0, 0.0, 0.0, 0.0, 0.0, 0.0, 0.0, 0.0, 0.0, 0.0, 0.0, 0.0, 0.0, 0.0, 0.0, 0.0, 0.0, 0.0, 0.0, 0.0, 0.0, 0.0, 0.0, 0.0, 0.0, 0.0, 0.0, 0.0, 0.0, 0.0, 0.0, 0.0, 0.0, 0.0, 0.0, 0.0, 0.0, 0.0, 0.0, 0.0, 0.0, 0.0, 0.0, 0.0, 0.0, 0.0, 0.0, 0.0, 0.0, 0.0, 0.0, 0.0, 0.0, 0.0, 0.0, 0.0, 1.0, 0.0, 0.0, 0.0, 0.0, 0.0, 0.0, 0.0, 0.0, 0.0, 0.0, 0.0, 0.0, 0.0, 0.0, 0.0, 1.0, 0.0, 0.0, 0.0, 1.0, 0.0, 0.0, 0.0, 0.0, 1.0, 0.0, 0.0, 0.0, 0.0, 0.0, 0.0, 0.0, 0.0, 0.0, 0.0, 0.0, 0.0, 0.0, 0.0, 0.0, 0.0, 0.0, 0.0, 1.0, 0.0, 0.0, 0.0, 0.0, 0.0, 0.0, 0.0, 0.0, 0.0, 0.0, 0.0, 0.0, 0.0, 0.0, 1.0, 0.0, 0.0, 0.0, 1.0, 0.0, 0.0, 0.0, 0.0, 0.0, 0.0, 0.0, 0.0, 0.0, 0.0, 0.0, 0.0, 0.0, 0.0, 0.0, 0.0, 0.0, 0.0, 0.0, 0.0, 0.0, 0.0, 0.0, 0.0, 0.0, 0.0, 0.0, 0.0, 0.0, 0.0, 0.0, 0.0, 0.0, 0.0, 0.0, 0.0, 0.0, 0.0, 0.0, 1.0, 0.0, 0.0, 0.0, 0.0, 1.0, 0.0, 0.0, 0.0, 0.0, 0.0, 0.0, 0.0, 0.0, 0.0, 0.0, 0.0, 0.0, 0.0, 0.0, 0.0, 0.0, 0.0, 0.0, 0.0, 0.0, 0.0, 0.0, 0.0, 0.0, 0.0, 0.0, 0.0, 0.0, 0.0, 0.0, 0.0, 0.0, 0.0, 0.0, 0.0, 0.0, 0.0, 0.0, 0.0, 1.0, 0.0, 0.0, 0.0, 0.0, 0.0, 0.0, 0.0, 0.0, 0.0, 0.0, 0.0, 0.0, 0.0, 0.0, 0.0, 0.0, 0.0, 0.0, 0.0, 0.0, 0.0, 0.0, 0.0, 0.0, 0.0, 0.0, 0.0, 0.0, 0.0, 0.0, 0.0, 0.0, 0.0, 0.0, 0.0, 0.0, 0.0, 0.0, 0.0, 0.0, 0.0, 0.0, 0.0, 0.0, 1.0, 1.0, 0.0, 0.0, 0.0, 0.0, 0.0, 0.0, 0.0, 0.0, 0.0, 0.0, 0.0, 0.0, 0.0, 0.0, 0.0, 0.0, 0.0, 0.0, 0.0, 0.0, 0.0, 0.0, 0.0, 0.0, 0.0, 0.0, 0.0, 0.0, 0.0, 0.0, 0.0, 1.0, 0.0, 0.0, 0.0, 0.0, 0.0, 0.0, 0.0, 0.0, 0.0, 0.0, 0.0, 0.0, 0.0, 0.0, 0.0, 0.0, 0.0, 0.0, 0.0, 0.0, 0.0, 1.0, 0.0, 0.0, 0.0, 0.0, 0.0, 0.0, 0.0, 0.0, 0.0, 0.0, 0.0, 0.0, 0.0, 0.0, 0.0, 0.0, 0.0, 0.0, 1.0, 0.0, 0.0, 0.0, 0.0, 0.0, 0.0, 0.0, 0.0, 0.0, 0.0, 0.0, 0.0, 0.0, 0.0, 0.0, 0.0, 0.0, 0.0, 0.0, 1.0, 0.0, 0.0, 0.0, 0.0, 0.0, 0.0, 0.0, 0.0, 0.0, 0.0, 0.0, 0.0, 0.0, 0.0, 1.0, 0.0, 0.0, 0.0, 0.0, 0.0, 0.0, 0.0, 0.0, 0.0, 0.0, 0.0, 0.0, 0.0, 0.0, 0.0, 0.0, 0.0, 0.0, 0.0, 0.0, 0.0, 0.0, 0.0, 0.0, 0.0, 0.0, 0.0, 0.0, 0.0, 0.0, 0.0, 0.0, 0.0, 0.0, 0.0, 1.0, 0.0, 1.0, 0.0, 0.0, 0.0, 0.0, 0.0, 0.0, 0.0, 0.0, 0.0, 0.0, 0.0, 0.0, 0.0, 0.0, 0.0, 0.0, 0.0, 0.0, 0.0, 0.0, 0.0, 0.0, 1.0, 0.0, 0.0, 0.0, 0.0, 0.0, 0.0, 0.0, 0.0, 0.0, 0.0, 0.0, 0.0, 0.0, 0.0, 0.0, 0.0, 1.0, 0.0, 0.0, 0.0, 0.0, 0.0, 0.0, 0.0, 0.0, 0.0, 0.0, 0.0, 0.0, 0.0, 0.0, 0.0, 0.0, 0.0, 0.0, 0.0, 1.0, 0.0, 0.0, 0.0, 0.0, 0.0, 0.0, 0.0, 0.0, 0.0, 0.0, 0.0, 0.0, 0.0, 0.0, 0.0, 0.0, 0.0, 0.0, 0.0, 0.0, 0.0, 0.0, 0.0, 0.0, 0.0, 0.0, 0.0, 0.0, 0.0, 0.0, 0.0, 0.0, 0.0, 0.0, 0.0, 0.0, 0.0, 0.0, 0.0, 0.0, 0.0, 0.0, 0.0, 0.0, 0.0, 0.0, 0.0, 0.0, 1.0, 0.0, 0.0, 0.0, 0.0, 0.0, 0.0, 0.0, 0.0, 0.0, 0.0, 0.0, 0.0, 1.0, 0.0, 1.0, 0.0, 0.0, 0.0, 0.0, 0.0, 0.0, 0.0, 0.0, 0.0, 0.0, 0.0, 0.0, 0.0, 0.0, 0.0, 0.0, 0.0, 0.0, 0.0, 0.0, 0.0, 0.0, 0.0, 0.0, 0.0, 0.0, 0.0, 0.0, 0.0, 0.0, 0.0, 0.0, 0.0, 0.0, 0.0, 0.0, 0.0, 0.0, 0.0, 0.0, 0.0, 0.0, 0.0, 0.0, 0.0, 0.0, 0.0, 0.0, 0.0, 0.0, 0.0, 0.0, 0.0, 0.0, 0.0, 1.0, 0.0, 0.0, 0.0, 0.0, 0.0, 0.0, 0.0, 0.0, 0.0, 0.0, 0.0, 0.0, 0.0, 0.0, 0.0, 0.0, 0.0, 0.0, 0.0, 0.0, 0.0, 0.0, 0.0, 0.0, 0.0, 0.0, 0.0, 0.0, 0.0, 0.0, 0.0, 1.0, 0.0, 0.0, 0.0, 0.0, 0.0, 0.0, 0.0, 0.0, 0.0, 0.0, 0.0, 0.0, 0.0, 0.0, 0.0, 0.0, 0.0, 0.0, 0.0, 0.0, 0.0, 0.0, 0.0, 0.0, 0.0, 0.0, 0.0, 0.0, 0.0, 0.0, 0.0, 0.0, 0.0, 0.0, 0.0, 0.0, 1.0, 0.0, 0.0, 0.0, 0.0, 0.0, 0.0, 1.0, 0.0, 0.0, 0.0, 0.0, 0.0, 0.0, 0.0, 0.0, 0.0, 0.0, 0.0, 0.0, 0.0, 0.0, 0.0, 0.0, 0.0, 0.0, 0.0, 0.0, 0.0, 0.0, 0.0, 0.0, 0.0, 0.0, 0.0, 0.0, 0.0, 0.0, 0.0, 0.0, 0.0, 0.0, 0.0, 0.0, 0.0, 0.0, 0.0, 0.0, 0.0, 0.0, 0.0, 0.0, 0.0, 0.0, 0.0, 0.0, 0.0, 0.0, 0.0, 0.0, 0.0, 0.0, 0.0, 0.0, 0.0, 0.0, 0.0, 0.0, 0.0, 0.0, 1.0, 0.0, 0.0, 0.0, 0.0, 0.0, 0.0, 0.0, 0.0, 0.0, 0.0, 0.0, 0.0, 0.0, 0.0, 0.0, 0.0, 0.0, 0.0, 0.0, 0.0, 0.0, 0.0, 0.0, 0.0, 0.0, 0.0, 0.0, 0.0, 0.0, 0.0, 0.0, 0.0, 0.0, 0.0, 0.0, 0.0, 0.0, 0.0, 0.0, 0.0, 0.0, 0.0, 0.0, 0.0, 0.0, 0.0, 0.0, 0.0, 0.0, 0.0, 0.0, 0.0, 0.0, 0.0, 0.0, 0.0, 0.0, 0.0, 0.0, 0.0, 0.0, 0.0, 0.0, 0.0, 0.0, 0.0, 0.0, 0.0, 0.0, 0.0, 0.0, 0.0, 0.0, 0.0, 0.0, 0.0, 0.0, 0.0, 0.0, 0.0, 0.0, 0.0, 0.0, 0.0, 0.0, 0.0, 0.0, 1.0, 0.0, 0.0, 0.0, 0.0, 0.0, 0.0, 0.0, 0.0, 0.0, 0.0, 0.0, 0.0, 0.0, 0.0, 0.0, 0.0, 1.0, 0.0, 0.0, 0.0, 0.0, 0.0, 0.0, 0.0, 0.0, 0.0, 0.0, 0.0, 0.0, 1.0, 0.0, 0.0, 0.0, 0.0, 0.0, 0.0, 0.0, 0.0, 0.0, 0.0, 0.0, 0.0, 0.0, 0.0, 0.0, 0.0, 0.0, 0.0, 0.0, 0.0, 0.0, 0.0, 0.0, 0.0, 0.0, 0.0, 0.0, 0.0, 0.0, 0.0, 0.0, 0.0, 0.0, 0.0, 0.0, 0.0, 0.0, 0.0, 0.0, 0.0, 0.0, 0.0, 1.0, 0.0, 0.0, 0.0, 0.0, 0.0, 0.0, 0.0, 0.0, 0.0, 0.0, 0.0, 0.0, 0.0, 0.0, 0.0, 0.0, 0.0, 0.0, 0.0, 0.0, 0.0, 0.0, 0.0, 0.0, 0.0, 0.0, 0.0, 0.0, 0.0, 0.0, 0.0, 0.0, 0.0, 0.0, 0.0, 0.0, 0.0, 0.0, 0.0, 0.0, 0.0, 0.0, 0.0, 0.0, 1.0, 0.0, 0.0, 0.0, 0.0, 0.0, 0.0, 0.0, 0.0, 0.0, 0.0, 0.0, 0.0, 0.0, 0.0, 0.0, 0.0, 0.0, 0.0, 0.0, 0.0, 0.0, 0.0, 0.0, 0.0, 0.0, 0.0, 0.0, 0.0, 0.0, 0.0, 0.0, 0.0, 1.0, 0.0, 0.0, 0.0, 0.0, 0.0, 0.0, 0.0, 0.0, 0.0, 0.0, 0.0, 0.0, 0.0, 0.0, 0.0, 0.0, 0.0, 0.0, 0.0, 0.0, 0.0, 0.0, 0.0, 0.0, 0.0, 0.0, 1.0, 0.0, 0.0, 0.0, 0.0, 0.0, 0.0, 0.0, 0.0, 0.0, 0.0, 0.0, 0.0, 0.0, 0.0, 0.0, 0.0, 0.0, 0.0, 0.0, 0.0, 1.0, 0.0, 0.0, 0.0, 0.0, 0.0, 0.0, 0.0, 0.0, 0.0, 0.0, 0.0, 0.0, 0.0, 1.0, 0.0, 0.0, 0.0, 0.0, 0.0, 0.0, 0.0, 0.0, 0.0, 0.0, 0.0, 0.0, 0.0, 0.0, 0.0, 1.0, 0.0, 0.0, 0.0, 0.0, 0.0, 0.0, 0.0, 0.0, 0.0, 0.0, 0.0, 0.0, 0.0, 0.0, 0.0, 0.0, 0.0, 0.0, 0.0, 0.0, 0.0, 0.0, 0.0, 0.0, 0.0, 0.0, 0.0, 0.0, 0.0, 0.0, 0.0, 0.0, 0.0, 0.0, 0.0, 0.0, 0.0, 0.0, 0.0, 0.0, 0.0, 0.0, 0.0, 0.0, 0.0, 0.0, 0.0, 0.0, 0.0, 0.0, 0.0, 0.0, 0.0, 0.0, 0.0, 0.0, 0.0, 0.0, 0.0, 0.0, 0.0, 0.0, 0.0, 0.0, 0.0, 0.0, 0.0, 0.0, 0.0, 0.0, 0.0, 0.0, 0.0, 0.0, 0.0, 0.0, 0.0, 0.0, 1.0, 0.0, 1.0, 1.0, 0.0, 0.0, 0.0, 0.0, 0.0, 0.0, 0.0, 0.0, 0.0, 0.0, 0.0, 0.0, 0.0, 0.0, 0.0, 0.0, 0.0, 0.0, 0.0, 0.0, 0.0, 0.0, 0.0, 0.0, 0.0, 0.0, 0.0, 0.0, 0.0, 0.0, 0.0, 0.0, 0.0, 0.0, 0.0, 1.0, 0.0, 0.0, 0.0, 0.0, 0.0, 0.0, 0.0, 0.0, 0.0, 0.0, 0.0, 0.0, 0.0, 0.0, 0.0, 0.0, 0.0, 0.0, 0.0, 0.0, 0.0, 0.0, 0.0, 0.0, 0.0, 0.0, 0.0, 0.0, 0.0, 0.0, 0.0, 0.0, 0.0, 0.0, 0.0, 0.0, 0.0, 0.0, 0.0, 0.0, 0.0, 0.0, 0.0, 0.0, 0.0, 0.0, 0.0, 0.0, 0.0, 0.0, 0.0, 0.0, 0.0, 0.0, 0.0, 0.0, 0.0, 0.0, 0.0, 0.0, 0.0, 0.0, 0.0, 1.0, 1.0, 0.0, 0.0, 0.0, 0.0, 0.0, 0.0, 0.0, 0.0, 0.0, 0.0, 0.0, 0.0, 0.0, 0.0, 0.0, 0.0, 0.0, 0.0, 0.0, 0.0, 0.0, 0.0, 0.0, 0.0, 0.0, 0.0, 0.0, 0.0, 0.0, 0.0, 0.0, 0.0, 0.0, 0.0, 0.0, 0.0, 0.0, 0.0, 0.0, 0.0, 0.0, 0.0, 1.0, 0.0, 0.0, 0.0, 0.0, 0.0, 1.0, 0.0, 1.0, 0.0, 0.0, 0.0, 0.0, 0.0, 0.0, 0.0, 0.0, 0.0, 0.0, 0.0, 0.0, 0.0, 0.0, 1.0, 0.0, 0.0, 0.0, 0.0, 0.0, 0.0, 0.0, 0.0, 0.0, 0.0, 0.0, 0.0, 0.0, 0.0, 0.0, 0.0, 0.0, 0.0, 0.0, 0.0, 0.0, 0.0, 0.0, 0.0, 0.0, 0.0, 0.0, 0.0, 0.0, 0.0, 0.0, 0.0, 0.0, 0.0, 0.0, 0.0, 0.0, 0.0, 0.0, 0.0, 0.0, 0.0, 0.0, 0.0, 0.0, 0.0, 0.0, 0.0, 0.0, 0.0, 0.0, 0.0, 1.0, 0.0, 0.0, 0.0, 0.0, 0.0, 0.0, 0.0, 0.0, 0.0, 0.0, 0.0, 0.0, 0.0, 0.0, 0.0, 0.0, 0.0, 0.0, 0.0, 0.0, 0.0, 1.0, 0.0, 0.0, 0.0, 0.0, 0.0, 0.0, 0.0, 0.0, 0.0, 0.0, 0.0, 0.0, 0.0, 0.0, 0.0, 0.0, 0.0, 0.0, 0.0, 0.0, 0.0, 0.0, 0.0, 0.0, 0.0, 0.0, 0.0, 0.0, 0.0, 0.0, 0.0, 0.0, 0.0, 0.0, 0.0, 0.0, 0.0, 0.0, 0.0, 0.0, 0.0, 0.0, 0.0, 0.0, 0.0, 0.0, 0.0, 0.0, 0.0, 0.0, 0.0, 0.0, 0.0, 0.0, 0.0, 0.0, 0.0, 0.0, 0.0, 0.0, 0.0, 0.0, 0.0, 0.0, 1.0, 0.0, 0.0, 0.0, 0.0, 0.0, 0.0, 0.0, 0.0, 0.0, 0.0, 0.0, 0.0, 0.0, 0.0, 0.0, 0.0, 0.0, 0.0, 0.0, 0.0, 0.0, 0.0, 0.0, 0.0, 0.0, 0.0, 1.0, 0.0, 0.0, 0.0, 0.0, 0.0, 0.0, 0.0, 0.0, 0.0, 0.0, 0.0, 0.0, 0.0, 0.0, 0.0, 0.0, 0.0, 1.0, 0.0, 0.0, 0.0, 0.0, 0.0, 0.0, 0.0, 0.0, 0.0, 0.0, 0.0, 0.0, 0.0, 0.0, 0.0, 0.0, 0.0, 0.0, 0.0, 0.0, 0.0, 0.0, 0.0, 0.0, 0.0, 0.0, 1.0, 0.0, 1.0, 0.0, 0.0, 0.0, 0.0, 0.0, 0.0, 0.0, 0.0, 0.0, 0.0, 0.0, 0.0, 0.0, 0.0, 0.0, 0.0, 0.0, 0.0, 0.0, 0.0, 0.0, 0.0, 0.0, 0.0, 0.0, 0.0, 0.0, 0.0, 0.0, 0.0, 0.0, 0.0, 0.0, 0.0, 0.0, 0.0, 0.0, 0.0, 0.0, 0.0, 0.0, 0.0, 0.0, 0.0, 1.0, 0.0, 0.0, 0.0, 0.0, 0.0, 0.0, 0.0, 1.0, 0.0, 0.0, 0.0, 0.0, 0.0, 0.0, 0.0, 0.0, 0.0, 0.0, 0.0, 0.0, 0.0, 0.0, 0.0, 0.0, 0.0, 0.0, 0.0, 0.0, 0.0, 0.0, 0.0, 1.0, 0.0, 0.0, 0.0, 0.0, 0.0, 0.0, 0.0, 0.0, 0.0, 0.0, 0.0, 0.0, 0.0, 0.0, 0.0, 0.0, 0.0, 0.0, 0.0, 0.0, 0.0, 0.0, 0.0, 0.0, 0.0, 0.0, 0.0, 1.0, 0.0, 0.0, 0.0, 0.0, 0.0, 0.0, 0.0, 0.0, 0.0, 0.0, 0.0, 0.0]}, {\"label\": \"prevalentStroke\", \"values\": [0, 0, 0, 0, 0, 0, 0, 0, 0, 0, 0, 0, 0, 0, 0, 0, 0, 0, 0, 0, 0, 0, 0, 0, 0, 0, 0, 0, 0, 0, 0, 0, 0, 0, 0, 0, 0, 0, 0, 0, 0, 0, 0, 0, 0, 0, 0, 0, 0, 0, 0, 0, 0, 0, 0, 0, 0, 0, 0, 0, 0, 0, 0, 0, 0, 0, 0, 0, 0, 0, 0, 0, 0, 0, 0, 0, 0, 0, 0, 0, 0, 0, 0, 0, 0, 0, 0, 0, 0, 0, 0, 0, 0, 0, 0, 0, 0, 0, 0, 0, 0, 0, 0, 0, 0, 0, 0, 0, 0, 0, 0, 0, 0, 0, 0, 0, 0, 0, 0, 0, 0, 0, 0, 0, 0, 0, 0, 0, 0, 0, 0, 0, 0, 0, 0, 0, 0, 0, 0, 0, 0, 0, 0, 0, 0, 0, 0, 0, 0, 0, 0, 0, 0, 0, 0, 0, 0, 0, 0, 0, 0, 0, 0, 0, 0, 0, 0, 0, 0, 0, 0, 0, 0, 0, 0, 0, 0, 0, 0, 0, 0, 0, 0, 0, 0, 0, 0, 0, 0, 0, 0, 0, 0, 0, 0, 0, 0, 0, 0, 0, 0, 0, 0, 0, 0, 0, 0, 0, 0, 0, 0, 0, 0, 0, 0, 0, 0, 0, 0, 0, 0, 0, 0, 0, 0, 0, 0, 1, 0, 0, 0, 0, 0, 0, 0, 0, 0, 0, 0, 0, 0, 0, 0, 0, 0, 0, 0, 0, 0, 0, 0, 0, 0, 0, 0, 0, 0, 0, 0, 0, 0, 0, 0, 0, 0, 0, 0, 0, 0, 0, 0, 0, 0, 0, 0, 0, 0, 0, 0, 0, 0, 0, 0, 0, 0, 0, 0, 0, 0, 0, 0, 0, 0, 0, 0, 0, 0, 0, 0, 0, 0, 0, 0, 0, 0, 0, 0, 0, 0, 0, 0, 0, 0, 0, 0, 0, 0, 0, 0, 0, 0, 0, 0, 0, 0, 0, 0, 0, 0, 0, 0, 0, 0, 0, 0, 0, 0, 0, 0, 0, 0, 0, 0, 0, 0, 0, 0, 0, 0, 0, 0, 0, 0, 0, 0, 0, 0, 0, 0, 0, 0, 0, 0, 0, 0, 0, 0, 0, 0, 0, 0, 0, 0, 0, 0, 0, 0, 0, 0, 0, 0, 0, 0, 0, 0, 0, 0, 0, 0, 0, 0, 0, 0, 0, 0, 0, 0, 0, 0, 0, 0, 0, 0, 0, 0, 0, 0, 0, 1, 0, 0, 0, 0, 0, 0, 0, 0, 0, 0, 0, 0, 0, 0, 0, 0, 0, 0, 0, 0, 0, 0, 0, 0, 0, 0, 0, 0, 0, 0, 0, 0, 0, 0, 0, 0, 0, 0, 0, 0, 0, 0, 0, 0, 0, 0, 0, 0, 0, 0, 0, 0, 0, 0, 0, 0, 0, 0, 0, 0, 0, 0, 0, 0, 0, 0, 0, 0, 0, 0, 0, 0, 0, 0, 0, 0, 0, 0, 0, 0, 0, 0, 0, 0, 0, 0, 0, 0, 0, 0, 0, 0, 0, 0, 0, 0, 0, 0, 0, 0, 0, 0, 0, 0, 0, 0, 0, 0, 0, 0, 0, 0, 0, 0, 0, 0, 0, 0, 0, 0, 0, 0, 0, 0, 0, 0, 0, 0, 0, 0, 0, 0, 0, 0, 0, 0, 0, 0, 0, 0, 0, 0, 0, 0, 0, 0, 0, 0, 0, 0, 0, 0, 0, 0, 1, 0, 0, 0, 0, 0, 0, 0, 0, 0, 0, 0, 0, 0, 0, 0, 0, 0, 0, 0, 0, 0, 0, 0, 0, 0, 0, 0, 0, 0, 0, 0, 0, 0, 0, 0, 0, 0, 0, 0, 0, 0, 0, 0, 0, 0, 0, 0, 0, 0, 0, 0, 0, 0, 0, 0, 0, 0, 0, 0, 0, 0, 0, 0, 0, 0, 0, 0, 0, 0, 0, 0, 0, 0, 0, 0, 0, 0, 0, 0, 0, 0, 0, 0, 0, 0, 0, 0, 0, 0, 0, 0, 0, 0, 0, 0, 0, 0, 0, 0, 0, 0, 0, 1, 0, 0, 0, 0, 0, 0, 0, 0, 0, 0, 0, 0, 0, 0, 0, 0, 0, 0, 0, 0, 0, 0, 0, 0, 0, 0, 0, 0, 0, 0, 0, 0, 0, 0, 0, 0, 0, 0, 0, 0, 0, 0, 0, 0, 0, 0, 0, 0, 0, 0, 0, 0, 0, 0, 0, 0, 0, 0, 0, 0, 0, 0, 0, 0, 0, 0, 0, 0, 0, 0, 0, 0, 0, 0, 0, 0, 0, 0, 0, 0, 0, 0, 0, 0, 0, 0, 0, 0, 0, 0, 0, 0, 0, 0, 0, 0, 0, 0, 0, 0, 0, 0, 0, 0, 0, 0, 0, 0, 0, 0, 0, 0, 0, 0, 0, 0, 0, 0, 0, 0, 0, 0, 0, 0, 0, 0, 0, 0, 0, 0, 0, 0, 0, 0, 0, 0, 0, 0, 0, 0, 0, 0, 0, 0, 0, 0, 0, 0, 0, 0, 0, 0, 0, 0, 0, 0, 0, 0, 0, 0, 0, 0, 0, 0, 0, 0, 0, 0, 0, 0, 0, 0, 0, 0, 0, 0, 0, 0, 0, 0, 0, 0, 0, 0, 0, 0, 0, 0, 0, 0, 0, 0, 0, 0, 0, 0, 0, 0, 0, 0, 0, 0, 0, 0, 0, 0, 0, 0, 0, 0, 0, 0, 0, 0, 0, 0, 0, 0, 0, 0, 0, 0, 0, 0, 0, 0, 0, 0, 0, 0, 0, 0, 0, 0, 0, 0, 0, 0, 0, 0, 0, 0, 0, 0, 0, 0, 0, 0, 0, 0, 0, 0, 0, 0, 0, 0, 0, 0, 0, 0, 0, 0, 0, 0, 0, 0, 0, 0, 0, 0, 0, 0, 0, 0, 0, 0, 0, 0, 0, 0, 0, 0, 0, 0, 0, 0, 0, 0, 0, 0, 0, 0, 0, 0, 0, 0, 0, 0, 0, 0, 0, 0, 0, 0, 0, 0, 0, 0, 0, 0, 0, 0, 0, 0, 0, 0, 0, 0, 0, 0, 0, 0, 0, 0, 0, 0, 0, 0, 0, 0, 0, 0, 0, 0, 0, 0, 0, 0, 0, 0, 0, 0, 0, 0, 0, 0, 0, 0, 0, 0, 0, 0, 0, 0, 0, 0, 0, 0, 0, 0, 0, 0, 0, 0, 0, 0, 0, 0, 0, 0, 0, 0, 0, 0, 0, 0, 0, 0, 0, 0, 0, 0, 0, 0, 0, 0, 0, 0, 0, 0, 0, 0, 0, 0, 0, 0, 0, 0, 0, 0, 0, 0, 0, 0, 0, 0, 0, 0, 0, 0, 0, 0, 0, 0, 0, 0, 0, 0, 0, 0, 0, 0, 0, 0, 0, 0, 0, 0, 0, 0, 0, 0, 0, 0, 0, 0, 0, 0, 0, 0, 0, 0, 0, 0, 0, 0, 0, 0, 0, 0, 0, 0, 0, 0, 0, 0, 0, 0, 0, 0, 0, 0, 0, 0, 0, 0, 0, 0, 0, 0, 0, 0, 0, 0, 0, 0, 0, 0, 0, 0, 0, 0, 0, 0, 0, 0, 0, 0, 0, 0, 0, 0, 0, 0, 0, 0, 0, 0, 0, 0, 0, 0, 0, 0, 0, 0, 0, 0, 0, 0, 0, 0, 0, 0, 0, 0, 0, 0, 0, 0, 0, 0, 0, 0, 0, 0, 0, 0, 0, 0, 0, 0, 0, 0, 0, 0, 0, 0, 0, 0, 0, 0, 0, 0, 0, 0, 0, 0, 0, 0, 0, 0, 0, 0, 0, 0, 0, 0, 0, 0, 0, 0, 0, 0, 0, 0, 0, 0, 0, 0, 0, 0, 0, 0, 0, 0, 0, 0, 0, 0, 0, 0, 0, 0, 0, 0, 0, 0, 0, 0, 0, 0, 0, 0, 0, 0, 0, 0, 0, 0, 0, 0, 0, 0, 0, 0, 0, 0, 0, 0, 0, 0, 0, 0, 0, 0, 0, 0, 0, 0, 0, 0, 0, 0, 0, 0, 0, 0, 0, 0, 0, 0, 0, 0, 0, 0, 0, 0, 0, 0, 0, 0, 0, 0, 0, 0, 0, 0, 0, 0, 0, 0, 0, 0, 0, 0, 0, 0, 0, 0, 0, 0, 0, 0, 0, 0, 0, 0, 0, 0, 0, 0, 0, 0, 0, 0, 0, 0, 0, 0, 1, 0, 0, 0, 0, 0, 0, 0, 0, 0, 0, 0, 0, 0, 0, 0, 0, 0, 0, 0, 0, 0, 0, 0, 0, 0, 0, 0, 0, 0, 0, 0, 0, 0, 0, 0, 0, 0, 0, 0, 0, 0, 0, 0, 0, 0, 0, 0, 0, 0, 0, 0, 0, 0, 0, 0, 0, 0, 0, 0, 0, 0, 0, 0, 0, 0, 0, 0, 0, 0, 0, 0, 0, 0, 0, 0, 0, 0, 0, 0, 0, 0, 0, 0, 0, 0, 0, 0, 0, 0, 0, 0, 0, 0, 0, 0, 0, 0, 0, 0, 0, 0, 0, 0, 0, 0, 0, 0, 0, 0, 0, 0, 0, 0, 0, 0, 0, 0, 0, 0, 0, 0, 0, 0, 0, 0, 0, 0, 0, 0, 0, 0, 0, 0, 0, 0, 0, 0, 0, 0, 0, 0, 0, 0, 0, 0, 0, 0, 0, 0, 0, 0, 0, 0, 0, 0, 0, 0, 0, 0, 0, 0, 0, 0, 0, 0, 0, 0, 0, 0, 0, 0, 0, 0, 0, 0, 0, 0, 0, 0, 0, 0, 0, 0, 0, 0, 0, 0, 0, 0, 0, 0, 0, 0, 0, 0, 0, 0, 0, 0, 0, 0, 0, 0, 0, 0, 0, 0, 0, 0, 0, 0, 0, 0, 0, 0, 0, 0, 0, 0, 0, 0, 0, 0, 0, 0, 0, 0, 0, 0, 0, 0, 0, 0, 0, 0, 0, 0, 0, 0, 0, 0, 0, 0, 0, 0, 0, 0, 0, 0, 0, 0, 0, 0, 0, 0, 0, 0, 0, 0, 0, 0, 0, 0, 0, 0, 0, 0, 0, 0, 0, 0, 0, 0, 0, 0, 0, 0, 0, 0, 0, 0, 0, 0, 0, 0, 0, 0, 0, 0, 0, 0, 0, 0, 0, 0, 0, 0, 0, 0, 0, 0, 0, 0, 0, 0, 0, 0, 0, 0, 0, 0, 0, 0, 0, 0, 0, 0, 0, 0, 0, 0, 0, 0, 0, 0, 0, 0, 0, 0, 0, 0, 0, 0, 0, 0, 0, 0, 0, 0, 0, 0, 0, 0, 0, 0, 0, 0, 0, 0, 0, 0, 0, 0, 0, 0, 0, 0, 0, 0, 0, 0, 0, 0, 0, 0, 0, 0, 0, 0, 0, 0, 0, 0, 0, 0, 0, 0, 0, 0, 0, 0, 0, 0, 0, 0, 0, 0, 0, 0, 0, 0, 0, 0, 0, 0, 0, 0, 0, 0, 0, 1, 0, 0, 0, 0, 0, 0, 0, 0, 0, 0, 0, 0, 0, 0, 0, 0, 0, 0, 0, 0, 0, 0, 0, 0, 0, 0, 0, 0, 0, 0, 0, 0, 0, 0, 0, 0, 0, 0, 0, 0, 0, 0, 0, 0, 0, 0, 0, 0, 0, 0, 0, 0, 0, 0, 0, 0, 0, 0, 0, 0, 0, 0, 0, 0, 0, 0, 0, 0, 0, 0, 0, 0, 0, 0, 0, 0, 0, 0, 0, 0, 0, 0, 0, 0, 0, 0, 0, 0, 0, 0, 0, 0, 0, 0, 0, 0, 0, 0, 0, 0, 0, 0, 0, 0, 0, 0, 0, 0, 0, 0, 0, 0, 0, 0, 0, 0, 0, 0, 0, 0, 0, 0, 0, 0, 0, 0, 0, 0, 0, 0, 0, 0, 0, 0, 0, 0, 1, 0, 0, 0, 0, 0, 0, 0, 0, 0, 0, 0, 0, 0, 0, 0, 0, 0, 0, 0, 0, 0, 0, 0, 0, 0, 0, 0, 0, 0, 0, 0, 0, 0, 0, 0, 0, 0, 0, 0, 0, 0, 0, 0, 0, 0, 0, 0, 0, 0, 0, 0, 0, 0, 0, 0, 0, 0, 0, 0, 0, 0, 0, 0, 0, 0, 0, 0, 0, 0, 0, 0, 0, 0, 0, 0, 0, 0, 0, 0, 0, 0, 0, 0, 0, 0, 0, 0, 0, 0, 0, 0, 0, 0, 0, 0, 0, 0, 0, 0, 0, 0, 0, 0, 0, 0, 0, 0, 0, 0, 0, 0, 0, 0, 0, 0, 0, 0, 0, 0, 0, 0, 0, 0, 0, 0, 0, 0, 0, 0, 0, 0, 0, 0, 0, 0, 0, 0, 0, 0, 0, 0, 0, 0, 0, 0, 0, 0, 0, 0, 0, 0, 0, 0, 0, 0, 0, 0, 0, 0, 0, 0, 0, 0, 0, 0, 0, 0, 0, 0, 0, 0, 0, 0, 0, 0, 0, 0, 0, 0, 0, 0, 0, 0, 0, 0, 0, 0, 0, 0, 0, 0, 0, 0, 0, 0, 0, 0, 0, 0, 0, 0, 0, 0, 0, 0, 0, 0, 0, 0, 0, 0, 0, 0, 0, 0, 0, 0, 0, 0, 0, 0, 0, 0, 0, 0, 0, 0, 0, 0, 0, 1, 0, 0, 0, 0, 0, 0, 0, 1, 0, 0, 0, 0, 0, 0, 0, 0, 0, 0, 0, 0, 0, 0, 0, 0, 0, 0, 0, 0, 0, 0, 0, 0, 0, 0, 0, 0, 0, 0, 0, 0, 0, 0, 0, 0, 0, 0, 0, 0, 0, 0, 0, 0, 0, 0, 0, 0, 0, 0, 0, 0, 0, 0, 0, 0, 0, 0, 0, 0, 0, 0, 0, 0, 0, 0, 0, 0, 0, 0, 0, 0, 0, 0, 0, 0, 0, 0, 0, 0, 0, 0, 0, 0, 0, 0, 0, 0, 0, 0, 0, 0, 0, 0, 0, 0, 0, 0, 0, 0, 0, 0, 0, 0, 0, 0, 0, 0, 0, 0, 0, 0, 0, 0, 0, 0, 0, 0, 0, 0, 0, 0, 0, 0, 0, 0, 0, 0, 0, 0, 0, 0, 0, 0, 0, 0, 0, 0, 0, 0, 0, 0, 0, 0, 0, 0, 0, 0, 0, 0, 0, 0, 0, 0, 0, 0, 0, 0, 0, 0, 0, 0, 0, 0, 0, 0, 0, 0, 0, 0, 0, 0, 0, 0, 0, 0, 0, 0, 0, 0, 0, 0, 1, 0, 0, 0, 0, 0, 0, 0, 0, 0, 0, 0, 0, 0, 0, 0, 0, 0, 0, 0, 0, 0, 0, 0, 0, 0, 0, 0, 0, 0, 0, 0, 0, 0, 0, 0, 0, 0, 0, 0, 0, 0, 0, 0, 0, 0, 0, 0, 0, 0, 0, 0, 0, 0, 0, 0, 0, 0, 0, 0, 0, 0, 0, 0, 0, 0, 0, 0, 0, 0, 0, 0, 0, 0, 0, 0, 0, 0, 0, 0, 0, 0, 0, 0, 0, 0, 0, 0, 0, 0, 0, 0, 0, 0, 0, 0, 0, 0, 0, 0, 0, 0, 0, 0, 0, 0, 0, 0, 0, 0, 0, 0, 0, 0, 0, 0, 0, 0, 0, 0, 0, 0, 0, 0, 0, 0, 0, 0, 0, 0, 0, 0, 0, 0, 0, 0, 0, 0, 0, 0, 0, 0, 0, 0, 0, 0, 0, 0, 0, 0, 0, 0, 0, 0, 0, 0, 0, 0, 0, 0, 0, 0, 0, 0, 0, 0, 0, 0, 0, 0, 0, 0, 0, 0, 0, 0, 0, 0, 0, 0, 0, 0, 0, 0, 0, 0, 0, 0, 0, 0, 0, 0, 0, 0, 0, 0, 0, 0, 0, 0, 0, 0, 0, 0, 0, 0, 0, 0, 0, 0, 0, 0, 0, 0, 0, 0, 0, 0, 0, 0, 0, 0, 0, 0, 0, 0, 0, 0, 0, 0, 0, 0, 0, 0, 0, 0, 0, 0, 0, 0, 0, 0, 0, 0, 0, 0, 0, 0, 0, 0, 0, 0, 0, 0, 0, 0, 0, 0, 0, 0, 0, 0, 0, 0, 0, 0, 0, 0, 0, 0, 0, 0, 0, 0, 0, 0, 0, 0, 0, 0, 0, 0, 0, 0, 0, 0, 0, 0, 0, 0, 0, 0, 0, 0, 0, 0, 0, 0, 0, 0, 0, 0, 0, 0, 0, 0, 0, 0, 0, 0, 0, 0, 0, 0, 0, 0, 0, 0, 0, 0, 0, 0, 0, 0, 0, 0, 0, 0, 0, 0, 0, 0, 0, 0, 0, 0, 0, 0, 0, 0, 0, 0, 0, 0, 0, 0, 1, 0, 0, 0, 0, 0, 0, 0, 0, 0, 0, 0, 0, 0, 0, 0, 0, 0, 0, 0, 0, 0, 0, 0, 0, 0, 0, 0, 0, 0, 0, 0, 0, 0, 0, 0, 1, 0, 0, 0, 0, 0, 0, 0, 0, 0, 0, 0, 0, 0, 0, 0, 0, 0, 0, 0, 0, 0, 0, 0, 0, 0, 0, 0, 0, 0, 0, 0, 0, 0, 0, 0, 0, 0, 0, 0, 0, 0, 0, 0, 0, 0, 0, 0, 0, 0, 0, 0, 0, 0, 0, 0, 0, 0, 0, 0, 0, 0, 0, 0, 0, 0, 0, 0, 0, 0, 0, 0, 0, 0, 0, 0, 0, 0, 0, 0, 0, 0, 0, 0, 0, 0, 0, 0, 0, 0, 0, 0, 0, 0, 0, 0, 0, 0, 0, 0, 0, 0, 0, 0, 0, 0, 0, 0, 0, 0, 0, 0, 0, 0, 0, 0, 0, 0, 0, 0, 0, 0, 0, 0, 0, 0, 0, 0, 0, 0, 0, 0, 0, 0, 0, 0, 0, 0, 0, 0, 0, 0, 0, 0, 0, 0, 0, 0, 0, 0, 0, 0, 0, 0, 1, 0, 0, 0, 0, 0, 0, 0, 0, 0, 0, 0, 0, 0, 0, 0, 0, 0, 0, 0, 0, 0, 0, 0, 0, 0, 0, 0, 0, 0, 0, 0, 0, 0, 0, 0, 0, 0, 0, 0, 0, 0, 0, 0, 0, 0, 0, 0, 0, 0, 0, 0, 0, 0, 0, 0, 0, 0, 0, 0, 0, 0, 0, 0, 0, 0, 0, 0, 0, 0, 0, 0, 0, 0, 0, 0, 0, 0, 0, 0, 0, 0, 0, 0, 0, 0, 0, 0, 0, 0, 0, 0, 0, 0, 0, 0, 0, 0, 0, 0, 0, 0, 0, 0, 0, 0, 0, 0, 0, 0, 0, 0, 0, 0, 0, 0, 0, 0, 0, 0, 0, 0, 0, 0, 0, 0, 0, 0, 0, 0, 0, 0, 0, 0, 0, 0, 0, 0, 0, 0, 0, 0, 0, 0, 0, 0, 0, 0, 0, 0, 0, 0, 0, 0, 0, 0, 0, 0, 0, 0, 1, 0, 0, 0, 0, 0, 0, 0, 0, 0, 0, 0, 0, 0, 0, 0, 0, 0, 0, 0, 0, 0, 0, 0, 0, 0, 0, 0, 0, 0, 0, 0, 0, 0, 0, 0, 0, 0, 0, 0, 0, 0, 0, 0, 0, 0, 0, 0, 0, 0, 0, 0, 0, 0, 0, 0, 0, 0, 0, 0, 0, 0, 0, 0, 0, 0, 0, 0, 0, 0, 0, 0, 0, 0, 0, 0, 0, 0, 0, 0, 0, 0, 0, 0, 0, 0, 0, 0, 0, 0, 0, 0, 0, 0, 0, 0, 0, 0, 1, 0, 0, 0, 0, 0, 0, 0, 0, 0, 0, 0, 0, 0, 0, 0, 0, 0, 0, 0, 0, 0, 0, 0, 0, 0, 0, 0, 0, 0, 0, 0, 0, 0, 0, 0, 0, 0, 0, 0, 0, 0, 0, 0, 0, 0, 0, 0, 0, 0, 0, 0, 0, 0, 0, 1, 0, 0, 0, 0, 0, 0, 0, 0, 0, 0, 0, 0, 0, 0, 0, 0, 0, 0, 0, 0, 0, 0, 0, 0, 0, 0, 0, 0, 0, 0, 0, 0, 0, 0, 0, 0, 0, 0, 0, 0, 0, 0, 0, 0, 0, 0, 0, 0, 0, 0, 0, 0, 0, 0, 0, 0, 0, 0, 0, 0, 0, 0, 1, 0, 0, 0, 0, 0, 0, 0, 0, 0, 0, 0, 0, 0, 0, 0, 0, 0, 0, 0, 0, 0, 0, 0, 0, 0, 0, 0, 0, 0, 0, 0, 0, 0, 0, 0, 0, 0, 0, 0, 1, 0, 0, 0, 0, 0, 0, 0, 0, 0, 0, 0, 0, 0, 0, 0, 0, 0, 0, 0, 0, 0, 0, 0, 0, 0, 0, 0, 0, 0, 0, 0, 0, 0, 0, 0, 0, 0, 0, 0, 0, 0, 0, 0, 0, 0, 0, 0, 0, 0, 0, 0, 0, 0, 0, 0, 0, 0, 0, 0, 0, 0, 0, 0, 0, 0, 0, 0, 0, 0, 0, 0, 0, 0, 0, 0, 0, 0, 0, 0, 0, 0, 0, 0, 0, 0, 0, 0, 0, 0, 0, 0, 0, 0, 0, 0, 0, 0, 0, 0, 0, 0, 0, 0, 0, 0, 0, 0, 0, 0, 0, 0, 0, 0, 0, 0, 0, 0, 0, 0, 1, 0, 0, 0, 0, 0, 0, 0, 0, 0, 0, 0, 0, 0, 0, 0, 0, 0, 0, 0, 0, 0, 1, 0, 0, 0, 0, 0, 0, 0, 0, 0, 0, 0, 0, 0, 0, 0, 0, 0, 0, 0, 0, 0, 0, 0, 0, 0, 0, 0, 0, 0, 0, 0, 0, 0, 0, 0, 0, 0, 0, 0, 0, 0, 0, 0, 0, 0, 0, 0, 0, 0, 0, 0, 0, 0, 0, 0, 0, 0, 0, 0, 0, 0, 0, 0, 0, 0, 0, 0, 0, 0, 0, 1, 0, 0, 0, 0, 0, 0, 0, 0, 0, 0, 0, 0, 0, 0, 0, 0, 0, 0, 0, 0, 0, 0, 0, 0, 0, 0, 0, 0, 0, 0, 0, 0, 0, 0, 0, 0, 0, 0, 0, 0, 0, 0, 0, 0, 0, 0, 0, 0, 0, 0, 0, 0, 0, 0, 0, 0, 0, 0, 0, 0, 0, 0, 0, 0, 0, 0, 0, 0, 0, 0, 0, 0, 0, 0, 0, 0, 0, 0, 0, 0, 0, 0, 0, 0, 0, 0, 0, 0, 0, 0, 0, 0, 0, 0, 0, 0, 0, 0, 0, 0, 0, 0, 0, 0, 0, 0, 0, 0, 0, 0, 0, 0, 0, 0, 0, 0, 0, 0, 0, 0, 0, 0, 0, 0, 0, 0, 0, 0, 0, 0, 0, 0, 0, 0, 0, 0, 0, 0, 0, 0, 0, 0, 0, 0, 0, 0, 0, 0, 0, 0, 0, 0, 0, 0, 0, 0, 0, 0, 0, 0, 0, 0, 0, 0, 0, 0, 0, 0, 0, 0, 0, 0, 0, 0, 0, 0, 0, 0, 0, 0, 0, 0, 0, 0, 0]}, {\"label\": \"prevalentHyp\", \"values\": [0, 0, 0, 1, 0, 1, 0, 0, 1, 1, 0, 0, 1, 1, 1, 1, 0, 0, 0, 0, 0, 0, 1, 0, 1, 1, 0, 0, 0, 1, 1, 1, 1, 1, 0, 0, 0, 0, 1, 0, 1, 0, 0, 1, 0, 0, 0, 0, 0, 1, 0, 0, 0, 1, 0, 0, 0, 1, 1, 0, 0, 0, 0, 1, 0, 1, 0, 1, 1, 1, 1, 0, 0, 1, 0, 0, 1, 0, 0, 0, 0, 0, 1, 0, 0, 0, 1, 0, 0, 1, 0, 1, 0, 0, 0, 1, 1, 0, 1, 0, 1, 1, 1, 0, 0, 1, 0, 0, 0, 1, 1, 0, 0, 0, 0, 0, 0, 0, 0, 0, 0, 0, 0, 1, 0, 0, 0, 1, 1, 1, 1, 1, 0, 1, 0, 0, 0, 1, 0, 1, 1, 1, 0, 0, 1, 0, 0, 0, 1, 0, 0, 0, 1, 0, 0, 0, 0, 0, 1, 1, 0, 0, 0, 0, 0, 0, 0, 1, 0, 1, 0, 0, 1, 0, 0, 0, 0, 0, 0, 0, 0, 0, 0, 0, 0, 0, 1, 0, 0, 0, 0, 1, 0, 0, 0, 0, 0, 0, 0, 0, 0, 0, 0, 1, 0, 1, 1, 0, 0, 0, 0, 0, 1, 0, 0, 0, 0, 1, 0, 0, 0, 0, 0, 1, 0, 0, 0, 1, 1, 0, 0, 1, 1, 0, 0, 1, 0, 1, 1, 0, 0, 1, 1, 0, 0, 0, 0, 1, 0, 0, 0, 0, 1, 0, 0, 0, 0, 0, 0, 0, 0, 0, 0, 0, 1, 0, 0, 0, 0, 0, 0, 1, 0, 0, 0, 1, 0, 0, 1, 0, 0, 0, 0, 0, 0, 1, 0, 0, 0, 1, 1, 0, 0, 0, 1, 1, 0, 0, 0, 1, 0, 0, 0, 1, 0, 0, 0, 0, 1, 1, 0, 1, 0, 0, 0, 0, 0, 0, 0, 0, 0, 1, 0, 1, 0, 0, 1, 0, 0, 0, 0, 1, 0, 1, 1, 0, 0, 1, 1, 0, 0, 0, 0, 0, 0, 1, 0, 0, 0, 1, 0, 0, 0, 0, 0, 1, 0, 1, 0, 1, 1, 0, 0, 1, 0, 0, 0, 1, 0, 0, 0, 0, 1, 0, 1, 0, 0, 0, 0, 1, 0, 0, 0, 0, 1, 0, 0, 0, 0, 0, 0, 0, 0, 1, 0, 0, 0, 0, 1, 1, 1, 0, 0, 1, 0, 1, 0, 0, 0, 0, 0, 0, 1, 1, 1, 1, 0, 0, 0, 0, 1, 0, 0, 0, 1, 0, 0, 0, 1, 0, 0, 0, 0, 1, 0, 1, 0, 0, 0, 0, 1, 0, 0, 0, 0, 1, 0, 0, 0, 1, 0, 1, 0, 0, 0, 0, 0, 0, 1, 0, 0, 1, 0, 0, 1, 0, 0, 1, 0, 1, 0, 1, 0, 0, 0, 1, 0, 1, 1, 1, 0, 0, 1, 0, 0, 0, 0, 1, 0, 0, 0, 0, 0, 0, 1, 0, 1, 1, 0, 0, 0, 1, 0, 1, 0, 0, 1, 0, 0, 1, 0, 1, 0, 0, 0, 0, 0, 1, 0, 1, 0, 0, 0, 1, 1, 1, 0, 1, 0, 1, 0, 0, 0, 0, 0, 0, 1, 1, 0, 0, 0, 0, 1, 0, 0, 0, 0, 0, 1, 0, 0, 0, 0, 1, 0, 0, 0, 0, 0, 0, 0, 1, 0, 0, 0, 0, 1, 0, 0, 0, 1, 0, 0, 0, 0, 0, 0, 1, 1, 1, 1, 1, 0, 0, 0, 1, 0, 0, 0, 0, 0, 0, 0, 0, 1, 1, 1, 0, 1, 0, 0, 0, 0, 1, 1, 0, 0, 0, 0, 1, 0, 0, 0, 0, 0, 1, 0, 0, 0, 0, 1, 0, 0, 0, 1, 0, 0, 0, 1, 0, 1, 1, 0, 0, 0, 0, 0, 0, 1, 0, 0, 0, 1, 1, 1, 0, 1, 0, 1, 0, 0, 1, 1, 0, 1, 0, 1, 0, 0, 0, 0, 0, 0, 1, 0, 0, 1, 0, 1, 1, 0, 0, 1, 0, 0, 0, 1, 0, 0, 0, 1, 0, 0, 1, 0, 0, 1, 0, 1, 0, 0, 0, 1, 1, 0, 0, 0, 0, 1, 0, 1, 0, 0, 1, 0, 1, 0, 0, 1, 0, 0, 0, 0, 0, 1, 0, 0, 0, 0, 0, 0, 0, 1, 1, 0, 0, 1, 0, 0, 0, 0, 0, 0, 1, 0, 0, 0, 0, 0, 0, 0, 0, 0, 0, 0, 0, 0, 1, 0, 0, 0, 1, 1, 1, 0, 0, 0, 0, 0, 0, 0, 0, 0, 0, 1, 1, 0, 1, 0, 1, 0, 1, 1, 0, 1, 0, 1, 0, 0, 0, 1, 0, 0, 1, 1, 0, 0, 0, 1, 0, 0, 0, 0, 1, 0, 0, 1, 0, 1, 0, 1, 0, 0, 0, 1, 1, 0, 1, 1, 0, 0, 0, 1, 1, 1, 0, 0, 1, 0, 1, 1, 0, 0, 0, 0, 1, 0, 0, 0, 0, 1, 1, 0, 1, 0, 1, 0, 1, 0, 0, 0, 0, 0, 1, 1, 1, 0, 0, 0, 1, 1, 0, 1, 1, 0, 0, 0, 0, 0, 0, 0, 0, 1, 0, 0, 1, 0, 0, 0, 0, 0, 0, 1, 0, 0, 0, 0, 1, 0, 0, 0, 0, 0, 0, 0, 0, 0, 1, 0, 1, 1, 0, 0, 0, 0, 0, 0, 0, 1, 1, 1, 0, 0, 0, 0, 1, 1, 1, 0, 1, 1, 0, 0, 1, 1, 0, 1, 1, 0, 0, 1, 1, 0, 0, 0, 0, 0, 0, 0, 1, 0, 0, 0, 0, 0, 0, 1, 1, 0, 1, 0, 0, 0, 0, 0, 0, 1, 0, 0, 0, 0, 0, 0, 0, 0, 0, 0, 0, 0, 0, 1, 1, 0, 0, 1, 1, 1, 0, 1, 0, 0, 0, 0, 0, 0, 0, 1, 0, 0, 1, 1, 1, 1, 1, 0, 1, 0, 0, 1, 0, 1, 1, 1, 1, 0, 0, 0, 0, 0, 0, 0, 1, 1, 0, 0, 0, 0, 0, 0, 0, 0, 1, 1, 0, 1, 0, 1, 1, 0, 1, 1, 0, 0, 1, 1, 0, 0, 1, 0, 1, 1, 1, 0, 0, 1, 1, 0, 1, 0, 0, 1, 0, 1, 1, 0, 0, 0, 0, 0, 1, 0, 1, 0, 0, 0, 1, 0, 1, 0, 0, 0, 0, 0, 0, 0, 1, 0, 0, 0, 0, 0, 1, 0, 1, 1, 0, 0, 0, 1, 0, 0, 1, 1, 1, 1, 0, 0, 0, 1, 0, 1, 0, 1, 0, 0, 0, 0, 0, 0, 0, 0, 0, 1, 1, 0, 1, 1, 0, 0, 0, 0, 0, 0, 0, 0, 0, 0, 0, 0, 1, 0, 0, 1, 1, 0, 1, 1, 1, 0, 0, 0, 1, 0, 0, 0, 1, 0, 0, 0, 0, 0, 0, 0, 1, 0, 0, 0, 1, 1, 0, 0, 0, 0, 0, 0, 0, 0, 0, 0, 0, 0, 0, 0, 0, 0, 1, 0, 0, 0, 0, 0, 1, 0, 0, 1, 0, 0, 0, 0, 0, 0, 0, 1, 0, 0, 1, 0, 0, 0, 0, 0, 0, 1, 0, 0, 1, 0, 0, 0, 0, 1, 1, 0, 0, 0, 0, 1, 0, 1, 0, 1, 0, 1, 0, 1, 0, 0, 0, 0, 0, 0, 0, 0, 0, 1, 0, 0, 0, 1, 1, 0, 0, 0, 0, 0, 1, 0, 0, 0, 0, 0, 1, 0, 0, 0, 0, 0, 1, 1, 0, 0, 1, 0, 0, 0, 0, 0, 1, 0, 0, 0, 0, 0, 0, 0, 0, 0, 0, 1, 0, 0, 1, 1, 0, 1, 1, 0, 0, 1, 0, 1, 0, 0, 0, 0, 0, 0, 0, 1, 0, 0, 1, 0, 0, 0, 0, 0, 0, 0, 0, 0, 0, 0, 1, 0, 0, 0, 0, 1, 0, 0, 0, 0, 0, 0, 0, 1, 1, 1, 1, 0, 1, 0, 1, 0, 0, 0, 0, 1, 0, 0, 0, 0, 0, 0, 0, 1, 1, 0, 0, 0, 0, 0, 1, 1, 0, 0, 1, 1, 0, 0, 1, 1, 0, 1, 1, 0, 1, 0, 0, 1, 0, 0, 0, 0, 1, 0, 0, 0, 1, 0, 0, 0, 0, 0, 0, 1, 1, 0, 1, 0, 0, 1, 1, 0, 1, 0, 0, 1, 1, 0, 0, 0, 0, 1, 1, 0, 0, 0, 1, 0, 0, 1, 1, 0, 0, 0, 0, 0, 0, 0, 1, 1, 0, 0, 0, 0, 0, 1, 1, 0, 0, 0, 0, 1, 0, 1, 0, 0, 0, 0, 0, 0, 0, 1, 1, 0, 1, 1, 0, 0, 0, 1, 0, 1, 0, 1, 0, 0, 1, 1, 0, 0, 1, 0, 0, 0, 0, 0, 0, 0, 0, 1, 1, 0, 0, 0, 1, 1, 0, 0, 0, 1, 1, 0, 0, 0, 0, 1, 0, 0, 0, 0, 1, 1, 0, 0, 1, 0, 0, 0, 1, 1, 1, 1, 0, 0, 0, 1, 0, 0, 0, 0, 0, 0, 0, 1, 0, 0, 1, 0, 0, 1, 0, 0, 0, 0, 0, 0, 1, 1, 0, 1, 0, 1, 1, 1, 0, 1, 0, 0, 1, 0, 0, 0, 0, 0, 0, 1, 1, 0, 0, 0, 0, 1, 1, 1, 0, 0, 0, 1, 1, 0, 0, 0, 0, 0, 1, 0, 0, 0, 0, 0, 1, 0, 1, 0, 0, 1, 0, 1, 0, 1, 0, 0, 0, 1, 0, 1, 1, 0, 0, 1, 0, 0, 0, 1, 1, 1, 0, 0, 0, 0, 1, 0, 0, 0, 0, 0, 1, 0, 0, 0, 1, 1, 1, 0, 1, 0, 0, 0, 0, 0, 0, 0, 0, 0, 1, 0, 0, 1, 1, 1, 0, 0, 0, 0, 0, 1, 0, 0, 0, 1, 1, 0, 1, 0, 0, 0, 0, 0, 1, 1, 0, 0, 1, 0, 0, 0, 0, 0, 0, 0, 0, 0, 0, 0, 1, 0, 0, 1, 0, 0, 0, 0, 0, 1, 1, 0, 0, 0, 0, 1, 0, 0, 0, 1, 0, 1, 0, 0, 1, 1, 0, 1, 0, 0, 0, 0, 1, 0, 0, 0, 0, 0, 0, 0, 1, 0, 0, 1, 0, 0, 0, 0, 0, 0, 0, 0, 0, 1, 0, 0, 0, 0, 1, 1, 0, 0, 0, 0, 0, 0, 0, 1, 0, 1, 1, 0, 0, 0, 0, 0, 1, 0, 0, 1, 1, 1, 0, 0, 0, 1, 1, 0, 0, 0, 0, 0, 0, 0, 0, 1, 1, 0, 0, 0, 0, 0, 0, 0, 0, 0, 0, 0, 0, 0, 0, 0, 0, 0, 1, 0, 0, 0, 0, 0, 0, 0, 0, 1, 0, 0, 0, 1, 0, 1, 0, 1, 0, 0, 0, 1, 0, 0, 1, 0, 1, 0, 0, 1, 0, 0, 0, 0, 0, 0, 0, 0, 0, 1, 0, 0, 0, 1, 0, 1, 1, 0, 1, 0, 0, 1, 0, 0, 1, 0, 0, 1, 0, 0, 0, 0, 0, 0, 0, 1, 0, 0, 0, 0, 0, 0, 0, 0, 0, 0, 0, 1, 0, 0, 0, 1, 0, 0, 0, 1, 0, 0, 0, 0, 0, 1, 0, 0, 0, 0, 1, 1, 0, 0, 1, 0, 0, 0, 1, 0, 0, 1, 0, 0, 1, 0, 0, 0, 1, 0, 1, 0, 0, 0, 1, 1, 0, 1, 0, 0, 0, 0, 0, 1, 0, 0, 0, 0, 1, 0, 0, 0, 0, 0, 0, 0, 0, 0, 1, 0, 0, 0, 0, 0, 0, 0, 1, 1, 1, 0, 0, 0, 1, 1, 0, 1, 0, 0, 0, 0, 0, 1, 0, 0, 1, 0, 0, 0, 1, 0, 0, 1, 0, 0, 1, 1, 0, 0, 1, 0, 0, 0, 1, 1, 0, 0, 1, 0, 1, 0, 1, 1, 0, 0, 1, 0, 1, 1, 1, 1, 1, 0, 0, 0, 0, 0, 1, 0, 0, 0, 0, 0, 1, 1, 0, 0, 0, 1, 1, 0, 0, 1, 1, 0, 0, 1, 0, 0, 0, 0, 0, 0, 0, 0, 0, 1, 1, 0, 0, 1, 0, 0, 1, 0, 0, 0, 0, 1, 0, 0, 0, 0, 0, 1, 1, 1, 1, 0, 0, 1, 0, 0, 1, 0, 0, 0, 0, 1, 0, 0, 0, 0, 0, 0, 1, 0, 0, 0, 1, 0, 0, 1, 0, 0, 0, 0, 1, 0, 0, 0, 0, 0, 0, 0, 0, 0, 1, 1, 1, 0, 1, 0, 0, 1, 1, 0, 0, 0, 0, 0, 0, 0, 0, 0, 1, 1, 0, 0, 0, 1, 0, 1, 0, 0, 1, 1, 1, 1, 0, 1, 0, 0, 0, 0, 0, 0, 1, 1, 0, 1, 1, 0, 0, 1, 1, 1, 0, 0, 0, 1, 1, 1, 0, 0, 0, 0, 0, 0, 0, 0, 0, 0, 1, 0, 1, 0, 0, 0, 1, 1, 0, 0, 0, 1, 0, 0, 1, 1, 1, 0, 0, 1, 0, 1, 0, 1, 0, 1, 0, 0, 0, 0, 0, 0, 1, 0, 0, 0, 0, 0, 0, 1, 0, 1, 0, 0, 0, 0, 0, 0, 1, 1, 0, 0, 0, 1, 0, 1, 0, 1, 0, 0, 1, 1, 1, 0, 0, 1, 0, 1, 0, 1, 1, 0, 0, 1, 0, 1, 1, 1, 0, 0, 0, 0, 0, 0, 0, 0, 1, 0, 0, 0, 0, 0, 0, 0, 1, 0, 1, 1, 1, 0, 1, 0, 1, 1, 1, 0, 0, 0, 1, 0, 1, 0, 0, 1, 0, 0, 0, 0, 1, 0, 1, 0, 0, 0, 0, 0, 1, 0, 0, 0, 0, 0, 1, 0, 0, 1, 0, 0, 1, 1, 0, 0, 0, 0, 0, 1, 0, 0, 0, 1, 0, 0, 0, 0, 1, 1, 1, 0, 0, 0, 1, 0, 0, 0, 0, 0, 0, 0, 1, 1, 0, 0, 1, 1, 0, 0, 0, 0, 0, 0, 1, 0, 0, 0, 0, 0, 0, 1, 1, 0, 0, 0, 0, 1, 0, 0, 1, 0, 1, 0, 0, 0, 0, 1, 0, 0, 1, 0, 0, 1, 1, 1, 1, 1, 0, 0, 0, 0, 0, 0, 0, 0, 0, 0, 0, 0, 0, 0, 0, 1, 0, 0, 0, 0, 0, 0, 0, 0, 1, 0, 0, 0, 0, 0, 0, 1, 0, 0, 0, 1, 1, 0, 1, 0, 0, 0, 0, 1, 1, 1, 1, 1, 1, 1, 1, 1, 0, 1, 1, 1, 1, 0, 0, 0, 0, 0, 1, 0, 0, 0, 0, 0, 0, 0, 0, 1, 1, 1, 1, 0, 0, 0, 0, 0, 1, 0, 0, 0, 0, 1, 1, 0, 1, 0, 1, 0, 0, 0, 0, 0, 0, 0, 0, 1, 0, 0, 1, 0, 1, 0, 0, 0, 0, 0, 0, 1, 0, 1, 0, 0, 0, 1, 0, 1, 0, 0, 1, 1, 0, 0, 0, 1, 1, 1, 0, 0, 1, 0, 0, 0, 0, 0, 0, 0, 0, 0, 1, 0, 0, 0, 1, 0, 1, 0, 0, 0, 0, 0, 0, 1, 0, 0, 1, 0, 0, 0, 0, 0, 1, 1, 0, 0, 0, 0, 1, 0, 0, 1, 0, 0, 0, 1, 0, 0, 0, 0, 1, 0, 0, 0, 0, 1, 1, 1, 1, 0, 0, 0, 0, 1, 0, 1, 0, 0, 0, 1, 0, 0, 0, 0, 1, 0, 1, 0, 1, 1, 1, 0, 0, 1, 1, 0, 1, 0, 0, 0, 0, 1, 0, 0, 1, 0, 1, 0, 1, 0, 0, 0, 0, 1, 0, 0, 0, 0, 0, 0, 1, 0, 0, 0, 1, 1, 0, 0, 0, 1, 0, 0, 0, 0, 0, 0, 1, 0, 0, 0, 0, 1, 0, 1, 0, 0, 1, 0, 1, 1, 0, 1, 1, 0, 0, 1, 0, 0, 0, 1, 0, 0, 0, 0, 1, 0, 0, 0, 0, 1, 1, 0, 0, 1, 0, 1, 0, 0, 1, 1, 1, 1, 0, 1, 0, 0, 1, 1, 1, 0, 0, 1, 0, 1, 0, 0, 0, 1, 0, 0, 1, 0, 1, 0, 0, 0, 0, 0, 0, 1, 1, 0, 0, 0, 1, 1, 0, 1, 0, 0, 0, 1, 1, 0, 0, 1, 1, 0, 0, 0, 0, 0, 1, 0, 1, 0, 0, 1, 0, 0, 0, 0, 1, 0, 0, 0, 0, 0, 0, 0, 1, 1, 0, 0, 1, 0, 0, 1, 0, 0, 0, 0, 1, 0, 0, 0, 0, 1, 0, 1, 1, 0, 0, 0, 0, 0, 0, 1, 0, 0, 0, 1, 1, 0, 0, 1, 0, 0, 0, 0, 1, 0, 0, 0, 0, 1, 0, 1, 0, 0, 0, 1, 0, 0, 1, 1, 0, 0, 0, 0, 0, 0, 0, 0, 0, 0, 0, 0, 1, 1, 1, 0, 0, 0, 0, 0, 0, 0, 0, 1, 0, 0, 0, 1, 0, 0, 0, 0, 0, 0, 1, 0, 0, 0, 0, 0, 0, 1, 0, 0, 1, 0, 0, 0, 0, 0, 0, 0, 0, 0, 0, 0, 0, 0, 0, 0, 0, 0, 0, 1, 0, 0, 0, 1, 1, 1, 0, 0, 1, 0, 0, 0, 0, 0, 0, 1, 1, 0, 1, 0, 1, 1, 0, 0, 1, 0, 0, 0, 1, 0, 0, 1, 0, 1, 0, 1, 0, 0, 0, 0, 1, 1, 0, 1, 0, 1, 0, 0, 0, 0, 1, 0, 0, 1, 0, 0, 0, 1, 1, 0, 0, 0, 0, 0, 0, 1, 0, 0, 0, 0, 0, 1, 0, 0, 1, 0, 1, 0, 1, 0, 0, 0, 1, 0, 0, 0, 1, 0, 0, 0, 0, 1, 0, 0, 0, 1, 1, 0, 1, 0, 1, 1, 1, 1, 0, 0, 0, 0, 0, 0, 0, 0, 0, 0, 0, 1, 1, 0, 1, 1, 0, 1, 1, 0, 0, 1, 1, 0, 0, 0, 1, 1, 0, 0, 0, 0, 0, 0, 0, 0, 0, 1, 1, 0, 0, 0, 1, 1, 1, 1, 0, 1, 0, 0, 1, 0, 0, 0, 1, 0, 0, 1, 0, 1, 0, 0, 0, 0, 1, 0, 1, 0, 0, 0, 1, 1, 0, 0, 0, 0, 0, 1, 0, 0, 0, 0, 1, 0, 0, 0, 0, 0, 0, 0, 0, 1, 0, 0, 0, 1, 0, 0, 1, 0, 0, 0, 0, 0, 0, 1, 0, 0, 0, 0, 0, 1, 1, 1, 1, 1, 0, 0, 0, 0, 0, 0, 0, 0, 0, 0, 1, 0, 1, 0, 1, 0, 0, 0, 0, 0, 0, 0, 1, 1, 1, 0, 1, 0, 1, 1, 0, 0, 1, 1, 1, 0, 0, 0, 0, 0, 0, 0, 0, 0, 1, 0, 1, 0, 0, 0, 1, 1, 0, 0, 0, 0, 0, 0, 1, 1, 0, 1, 1, 0, 0, 0, 0, 0, 0, 0, 0, 0, 0, 1, 0, 0, 1, 0, 1, 1, 1, 1, 0, 0, 0, 1, 0, 1, 0, 0, 0, 1, 0, 1, 1, 1, 0, 0, 0, 1, 0, 0, 0, 0, 0, 0, 0, 1, 0, 1, 0, 0, 0, 0, 0, 1, 0, 0, 0, 0, 0, 0, 1, 1, 1, 1, 1, 1, 1, 1, 1, 1, 0, 0, 0, 1, 0, 1, 1, 1, 1, 1, 0, 1, 0, 1, 1, 0, 0, 0, 0, 1, 1, 0, 1, 1, 1, 1, 1, 0, 0, 1, 0, 0, 0, 1, 0, 0, 1, 0, 1, 0, 0, 0, 0, 0, 1, 0, 0, 0, 0, 0, 0, 0, 0, 0, 0, 0, 0, 0, 0, 1, 1, 0, 1, 1, 1, 0, 0, 0, 1, 0, 0, 0, 1, 1, 1, 0, 0, 1, 1, 0, 0, 0, 0, 0, 0, 1, 0, 1, 0, 0, 0, 1, 0, 0, 0, 0, 0, 0, 0, 0, 0, 1, 0, 0, 1, 0, 1, 1, 0, 0, 0, 0, 1, 0, 1, 0, 0, 1, 0, 0, 1, 0, 0, 0, 0, 0, 0, 0, 1, 1, 1, 0, 1, 0, 1, 1, 1, 0, 1, 1, 1, 0, 0, 0, 0, 1, 0, 0, 0, 0, 1, 0, 1, 0, 0, 1, 0, 1, 0, 1, 0, 1, 0, 1, 0, 0, 1, 0, 0, 0, 0, 1, 1, 0, 0, 0, 1, 0, 0, 0, 1, 0, 1, 1, 0, 1, 1, 1, 0, 0, 0, 1, 0, 1, 0, 0, 0, 1, 0, 1, 0, 0, 0, 0, 1, 1, 0, 1, 0, 1, 0, 0, 0, 0, 1, 0, 1, 0, 0, 0, 1, 0, 1, 1, 0, 1, 0, 0, 0, 1, 0, 1, 0, 0, 0, 0, 0, 0, 0, 1, 0, 0, 0, 0, 1, 0, 1, 0, 0, 0, 0, 1, 1, 0, 0, 0, 1, 0, 0, 0, 1, 0, 0, 1, 1, 1, 1, 0, 1, 1, 0, 0, 0, 0, 0, 1, 1, 0, 0, 0, 1, 1, 1, 0, 0, 0, 0, 0, 0, 0, 0, 0, 0, 0, 0, 0, 1, 1, 1, 0, 0, 1, 0, 0, 0, 0, 0, 0, 1, 1, 0, 0, 0, 1, 1, 0, 0, 0, 0, 0, 0, 1, 1, 0, 1, 1, 1, 0, 0, 0, 0, 1, 1, 0, 0, 0, 0, 0, 1, 0, 0, 1, 0, 1, 1, 0, 0, 0, 0, 0, 1, 0, 1, 0, 0, 0, 1, 0, 1, 1, 0, 0, 0, 0, 0, 1, 0, 0, 0, 0, 0, 0, 0, 1, 0, 0, 1, 0, 0, 0, 1, 0, 0, 1, 1, 0, 0, 0, 1, 1, 0, 0, 0, 0, 0, 0, 1, 0, 0, 1, 1, 0, 0, 0, 0, 0, 0, 1, 0, 1, 0, 0, 0, 1, 0, 0, 1, 0, 0, 1, 1, 0, 0, 1, 1, 0, 0, 0, 1, 0, 0, 0, 0, 0, 0, 0, 0, 1, 0, 0, 1, 0, 1, 0, 0, 0, 0, 1, 1, 0, 0, 0, 0, 1, 1, 1, 1, 0, 0, 1, 0]}, {\"label\": \"diabetes\", \"values\": [0, 0, 0, 0, 0, 0, 0, 0, 0, 0, 0, 0, 0, 0, 0, 0, 0, 0, 0, 0, 0, 0, 0, 0, 0, 0, 0, 0, 0, 0, 0, 0, 1, 0, 0, 0, 0, 0, 1, 0, 0, 0, 0, 0, 0, 0, 0, 0, 1, 0, 0, 0, 0, 0, 0, 0, 0, 0, 1, 0, 0, 0, 0, 0, 0, 0, 0, 0, 0, 0, 0, 0, 0, 0, 0, 0, 0, 0, 0, 0, 0, 0, 0, 0, 0, 1, 0, 0, 0, 0, 0, 0, 0, 0, 0, 0, 0, 0, 0, 0, 0, 0, 0, 0, 0, 0, 0, 0, 0, 0, 0, 0, 0, 0, 0, 0, 0, 0, 0, 0, 0, 0, 0, 0, 0, 0, 0, 0, 0, 0, 0, 0, 0, 0, 0, 0, 0, 0, 0, 0, 0, 0, 0, 0, 0, 0, 0, 0, 0, 0, 0, 0, 0, 0, 0, 0, 0, 0, 0, 0, 0, 0, 0, 0, 0, 0, 0, 0, 0, 0, 0, 0, 0, 0, 0, 0, 0, 0, 0, 0, 0, 0, 0, 0, 0, 0, 0, 0, 0, 0, 0, 0, 0, 0, 0, 0, 0, 0, 0, 0, 0, 0, 0, 0, 0, 0, 0, 0, 0, 0, 0, 0, 0, 0, 0, 0, 0, 0, 0, 0, 0, 0, 1, 0, 0, 0, 0, 0, 0, 0, 0, 0, 1, 0, 0, 0, 0, 0, 0, 0, 0, 0, 0, 0, 0, 0, 0, 0, 0, 0, 0, 0, 1, 0, 0, 0, 0, 0, 0, 0, 0, 0, 0, 0, 0, 0, 0, 0, 0, 0, 0, 1, 0, 0, 0, 0, 0, 0, 0, 0, 0, 0, 0, 0, 0, 0, 0, 0, 0, 0, 0, 0, 0, 0, 0, 0, 0, 0, 0, 0, 0, 0, 0, 0, 0, 0, 0, 0, 0, 1, 0, 0, 0, 0, 0, 0, 0, 0, 0, 0, 0, 0, 0, 0, 0, 0, 0, 0, 0, 0, 0, 0, 0, 0, 0, 0, 0, 0, 0, 0, 0, 0, 0, 0, 0, 0, 0, 0, 0, 0, 0, 0, 0, 0, 0, 0, 0, 0, 0, 0, 0, 0, 0, 0, 0, 0, 0, 0, 0, 0, 0, 0, 0, 0, 0, 0, 0, 0, 0, 0, 0, 1, 0, 0, 0, 0, 0, 0, 1, 0, 0, 0, 0, 0, 0, 0, 0, 0, 0, 0, 0, 0, 0, 0, 0, 1, 0, 0, 0, 0, 0, 0, 0, 0, 0, 0, 0, 0, 0, 0, 0, 0, 0, 0, 0, 0, 0, 0, 0, 0, 0, 0, 0, 0, 0, 0, 0, 0, 0, 0, 0, 0, 0, 0, 0, 0, 0, 0, 0, 0, 0, 0, 0, 0, 0, 0, 0, 0, 0, 0, 0, 0, 0, 0, 0, 0, 0, 0, 0, 0, 0, 0, 0, 0, 0, 0, 0, 0, 0, 0, 0, 0, 0, 0, 0, 0, 0, 0, 0, 0, 0, 0, 0, 0, 0, 0, 0, 0, 0, 0, 0, 0, 0, 0, 0, 0, 1, 0, 0, 0, 0, 0, 0, 0, 0, 0, 0, 0, 0, 0, 0, 0, 0, 0, 0, 0, 0, 0, 0, 0, 0, 0, 0, 0, 0, 0, 0, 0, 0, 0, 0, 0, 0, 0, 0, 0, 0, 0, 0, 0, 0, 0, 0, 0, 0, 0, 0, 0, 0, 0, 0, 0, 0, 0, 0, 0, 0, 0, 0, 0, 0, 0, 0, 0, 0, 0, 0, 0, 0, 0, 0, 0, 0, 0, 0, 0, 0, 0, 0, 0, 0, 0, 0, 0, 0, 0, 0, 0, 0, 0, 0, 0, 0, 0, 0, 0, 0, 0, 0, 0, 0, 0, 0, 0, 0, 0, 0, 0, 0, 0, 0, 0, 0, 0, 0, 0, 0, 0, 0, 0, 0, 0, 0, 0, 0, 0, 0, 0, 0, 0, 0, 0, 0, 0, 0, 0, 0, 0, 0, 0, 0, 0, 0, 0, 0, 0, 0, 0, 0, 0, 0, 0, 0, 0, 0, 0, 1, 0, 0, 0, 0, 0, 0, 0, 0, 0, 0, 0, 0, 0, 0, 0, 0, 0, 0, 0, 0, 0, 0, 0, 0, 0, 0, 0, 0, 0, 0, 0, 0, 0, 0, 0, 0, 0, 0, 0, 0, 0, 0, 0, 0, 0, 0, 0, 0, 0, 0, 0, 0, 0, 0, 0, 0, 1, 0, 0, 0, 0, 0, 0, 0, 0, 0, 0, 0, 0, 0, 0, 0, 0, 0, 0, 0, 0, 0, 0, 0, 0, 0, 0, 0, 0, 0, 0, 0, 0, 0, 0, 0, 0, 0, 0, 0, 0, 0, 0, 0, 0, 0, 0, 0, 0, 0, 0, 0, 0, 0, 0, 0, 0, 0, 0, 0, 0, 0, 0, 0, 0, 1, 0, 0, 0, 0, 0, 0, 0, 0, 0, 0, 0, 0, 0, 0, 0, 0, 0, 0, 0, 0, 0, 0, 0, 0, 0, 0, 0, 0, 0, 0, 0, 0, 0, 0, 0, 0, 0, 0, 0, 1, 0, 0, 0, 0, 0, 0, 0, 0, 0, 0, 0, 0, 0, 0, 0, 0, 0, 0, 0, 0, 0, 0, 0, 0, 0, 0, 0, 0, 0, 0, 0, 0, 0, 0, 0, 0, 0, 0, 0, 0, 0, 0, 0, 0, 0, 0, 0, 0, 0, 0, 0, 0, 0, 0, 0, 0, 0, 0, 0, 0, 0, 0, 0, 0, 0, 0, 0, 1, 0, 0, 0, 0, 0, 0, 0, 0, 0, 0, 0, 0, 0, 0, 0, 0, 0, 0, 0, 0, 0, 0, 0, 0, 0, 0, 0, 0, 0, 0, 0, 0, 1, 0, 0, 0, 0, 0, 0, 0, 0, 0, 0, 0, 0, 0, 0, 0, 0, 0, 0, 0, 0, 0, 0, 0, 0, 0, 0, 0, 0, 0, 0, 0, 0, 0, 0, 0, 0, 1, 0, 0, 0, 0, 0, 0, 0, 1, 0, 0, 0, 0, 0, 0, 0, 0, 0, 0, 0, 0, 0, 0, 0, 0, 0, 0, 0, 0, 0, 0, 0, 0, 0, 0, 0, 0, 0, 0, 0, 0, 0, 0, 0, 0, 1, 0, 0, 0, 0, 0, 0, 0, 0, 0, 0, 0, 0, 0, 0, 0, 0, 0, 0, 0, 0, 0, 0, 0, 0, 0, 0, 0, 0, 0, 0, 0, 0, 0, 0, 0, 0, 0, 0, 0, 0, 0, 0, 0, 0, 0, 0, 0, 0, 0, 0, 0, 0, 0, 0, 0, 0, 0, 0, 0, 0, 1, 0, 0, 0, 0, 0, 0, 0, 0, 0, 0, 0, 0, 0, 0, 0, 0, 0, 0, 0, 0, 0, 0, 0, 0, 0, 1, 0, 0, 0, 0, 0, 0, 0, 0, 0, 0, 0, 0, 0, 0, 0, 0, 0, 0, 0, 0, 0, 0, 0, 0, 0, 0, 0, 1, 0, 0, 0, 0, 0, 0, 0, 0, 0, 0, 0, 0, 0, 0, 0, 0, 0, 0, 0, 0, 0, 0, 0, 0, 0, 0, 1, 0, 0, 0, 0, 0, 1, 0, 0, 0, 0, 0, 0, 0, 0, 0, 0, 0, 0, 0, 0, 0, 0, 0, 0, 1, 0, 0, 0, 0, 0, 0, 0, 0, 0, 0, 0, 0, 0, 0, 0, 0, 0, 0, 0, 0, 0, 0, 0, 0, 0, 0, 0, 0, 0, 0, 0, 0, 0, 0, 0, 0, 0, 0, 0, 0, 0, 0, 0, 0, 0, 0, 0, 0, 0, 0, 0, 0, 0, 0, 0, 0, 0, 0, 0, 0, 0, 0, 0, 0, 0, 0, 0, 0, 0, 0, 0, 0, 0, 0, 0, 0, 0, 0, 0, 0, 0, 0, 0, 0, 0, 0, 0, 0, 0, 0, 0, 0, 0, 0, 0, 0, 0, 0, 0, 0, 0, 0, 0, 0, 0, 0, 0, 1, 0, 0, 0, 0, 0, 0, 0, 0, 0, 0, 0, 0, 0, 0, 0, 0, 0, 0, 0, 0, 0, 0, 0, 0, 0, 0, 0, 0, 0, 0, 0, 0, 0, 0, 0, 0, 0, 0, 0, 0, 0, 0, 0, 0, 0, 0, 0, 0, 0, 0, 0, 0, 0, 0, 0, 0, 0, 0, 0, 0, 0, 0, 0, 0, 0, 0, 0, 0, 0, 0, 0, 0, 0, 0, 0, 0, 0, 0, 0, 0, 0, 0, 0, 0, 0, 0, 0, 0, 0, 0, 0, 0, 0, 0, 0, 0, 0, 0, 0, 0, 0, 0, 0, 0, 0, 0, 0, 0, 0, 0, 0, 0, 0, 0, 0, 0, 0, 0, 0, 0, 0, 0, 0, 0, 0, 0, 0, 0, 0, 0, 0, 0, 0, 0, 0, 0, 0, 0, 0, 1, 0, 0, 0, 0, 0, 0, 0, 0, 0, 0, 0, 0, 0, 0, 0, 0, 0, 0, 0, 0, 0, 1, 0, 0, 0, 0, 0, 0, 0, 0, 0, 0, 0, 0, 0, 0, 0, 0, 0, 0, 0, 0, 0, 0, 0, 0, 0, 0, 0, 0, 0, 0, 0, 0, 0, 0, 0, 0, 0, 0, 0, 0, 0, 0, 0, 0, 0, 0, 0, 0, 0, 0, 0, 0, 0, 0, 0, 0, 0, 0, 0, 0, 0, 0, 0, 0, 0, 0, 0, 0, 0, 0, 0, 0, 0, 0, 0, 0, 0, 0, 0, 0, 0, 0, 0, 0, 0, 0, 0, 0, 0, 0, 0, 0, 0, 0, 0, 0, 0, 0, 0, 0, 0, 0, 0, 0, 0, 0, 0, 0, 0, 0, 0, 0, 0, 0, 0, 0, 0, 0, 0, 0, 0, 0, 0, 0, 0, 0, 0, 0, 0, 0, 0, 0, 0, 0, 0, 0, 0, 0, 0, 0, 0, 0, 0, 0, 0, 0, 0, 0, 0, 0, 0, 0, 0, 0, 1, 0, 0, 0, 0, 0, 0, 0, 0, 0, 0, 0, 0, 0, 0, 0, 0, 0, 0, 0, 0, 0, 0, 0, 0, 0, 0, 0, 0, 0, 0, 0, 1, 0, 0, 0, 0, 0, 0, 0, 0, 0, 0, 0, 1, 0, 0, 0, 0, 0, 0, 0, 0, 0, 0, 0, 0, 0, 0, 0, 0, 0, 0, 0, 1, 0, 0, 0, 0, 0, 0, 0, 0, 0, 0, 0, 0, 0, 0, 0, 0, 0, 0, 0, 0, 0, 0, 0, 0, 0, 0, 0, 0, 0, 0, 0, 0, 0, 0, 0, 0, 0, 0, 0, 0, 0, 0, 0, 0, 0, 0, 0, 0, 0, 0, 1, 0, 0, 0, 0, 0, 0, 0, 0, 0, 0, 0, 0, 0, 0, 0, 0, 0, 0, 1, 0, 0, 0, 0, 0, 0, 0, 0, 0, 0, 0, 0, 0, 0, 1, 0, 0, 0, 0, 0, 0, 0, 0, 0, 0, 0, 0, 0, 0, 0, 0, 0, 0, 0, 0, 0, 0, 0, 0, 0, 0, 0, 0, 0, 0, 0, 0, 0, 0, 0, 0, 0, 0, 0, 0, 0, 0, 0, 1, 0, 0, 0, 0, 0, 0, 0, 0, 0, 0, 0, 0, 0, 0, 0, 0, 0, 0, 0, 0, 0, 0, 0, 0, 0, 0, 0, 0, 0, 0, 0, 0, 0, 0, 0, 0, 0, 0, 0, 0, 0, 0, 0, 0, 0, 0, 0, 0, 0, 0, 0, 0, 0, 0, 0, 0, 0, 0, 0, 0, 0, 0, 0, 0, 0, 0, 1, 0, 0, 0, 0, 0, 0, 0, 0, 0, 0, 0, 0, 0, 0, 0, 0, 0, 0, 0, 0, 0, 0, 0, 0, 0, 0, 0, 0, 0, 0, 0, 0, 1, 0, 0, 0, 0, 0, 0, 0, 0, 0, 0, 0, 0, 0, 0, 0, 1, 0, 0, 0, 0, 0, 0, 0, 0, 0, 0, 0, 0, 0, 0, 0, 0, 0, 0, 0, 0, 0, 0, 0, 0, 0, 0, 0, 0, 0, 0, 0, 0, 0, 0, 0, 0, 0, 0, 0, 0, 0, 0, 0, 0, 0, 0, 0, 0, 0, 0, 0, 0, 0, 0, 0, 0, 0, 0, 0, 0, 0, 0, 0, 0, 0, 0, 0, 0, 0, 0, 0, 0, 0, 0, 0, 0, 0, 0, 0, 0, 0, 0, 0, 0, 0, 0, 0, 0, 0, 0, 0, 0, 0, 0, 0, 0, 0, 0, 0, 0, 0, 0, 0, 0, 0, 0, 0, 0, 0, 0, 0, 0, 0, 0, 0, 0, 0, 0, 0, 0, 0, 0, 0, 0, 0, 0, 1, 0, 0, 0, 0, 0, 0, 0, 0, 0, 0, 0, 0, 0, 0, 1, 0, 0, 0, 0, 0, 0, 0, 0, 0, 0, 1, 0, 0, 0, 0, 0, 0, 0, 0, 0, 0, 0, 0, 0, 0, 0, 0, 0, 0, 0, 0, 0, 0, 0, 0, 0, 0, 0, 0, 0, 0, 0, 0, 0, 0, 0, 0, 0, 0, 0, 0, 0, 0, 0, 0, 0, 0, 0, 0, 0, 0, 0, 0, 0, 0, 0, 0, 0, 0, 0, 0, 0, 0, 0, 0, 0, 0, 0, 0, 0, 0, 0, 0, 0, 0, 0, 0, 0, 0, 0, 0, 0, 0, 0, 0, 0, 1, 0, 0, 0, 0, 1, 0, 0, 0, 0, 0, 0, 0, 0, 0, 0, 0, 0, 0, 0, 0, 0, 0, 0, 0, 1, 0, 0, 0, 0, 0, 0, 0, 0, 0, 0, 0, 0, 0, 0, 0, 0, 0, 0, 0, 0, 0, 0, 0, 0, 0, 0, 0, 0, 0, 0, 0, 0, 0, 0, 0, 0, 0, 0, 0, 0, 0, 0, 0, 0, 0, 0, 0, 0, 0, 0, 0, 0, 0, 0, 0, 0, 0, 0, 0, 1, 0, 0, 0, 0, 0, 0, 0, 0, 0, 0, 0, 0, 0, 0, 0, 0, 0, 0, 0, 0, 0, 0, 0, 0, 0, 0, 0, 0, 0, 0, 0, 0, 0, 0, 0, 0, 0, 0, 0, 0, 1, 0, 0, 0, 0, 0, 0, 0, 0, 0, 0, 0, 0, 0, 0, 0, 0, 1, 0, 0, 0, 0, 0, 0, 0, 0, 0, 0, 0, 0, 0, 0, 0, 0, 0, 0, 0, 0, 0, 0, 0, 0, 0, 0, 0, 0, 0, 0, 0, 0, 0, 0, 0, 0, 0, 0, 0, 0, 0, 0, 0, 0, 0, 0, 0, 0, 0, 0, 0, 0, 0, 0, 0, 0, 0, 0, 0, 0, 0, 0, 0, 0, 0, 0, 0, 0, 0, 0, 0, 0, 0, 0, 0, 0, 0, 0, 0, 0, 0, 0, 0, 0, 0, 0, 0, 0, 0, 0, 0, 0, 0, 0, 0, 0, 0, 0, 0, 0, 0, 0, 0, 0, 0, 0, 0, 0, 0, 0, 0, 0, 1, 1, 0, 0, 0, 0, 0, 0, 0, 0, 0, 0, 0, 0, 0, 0, 0, 0, 0, 0, 0, 0, 0, 0, 0, 0, 0, 0, 0, 0, 0, 0, 0, 0, 0, 0, 0, 0, 0, 0, 0, 0, 0, 1, 0, 0, 0, 0, 0, 1, 0, 0, 0, 0, 0, 0, 0, 0, 0, 0, 0, 0, 0, 0, 0, 0, 0, 0, 0, 0, 0, 0, 0, 0, 0, 0, 0, 0, 0, 0, 0, 1, 0, 1, 0, 0, 0, 0, 0, 0, 0, 0, 0, 0, 1, 0, 0, 0, 0, 0, 0, 0, 0, 0, 0, 0, 0, 0, 0, 1, 0, 0, 0, 0, 0, 0, 0, 0, 0, 0, 0, 0, 0, 0, 0, 0, 0, 0, 0, 0, 0, 0, 0, 0, 0, 0, 1, 0, 0, 0, 0, 0, 0, 0, 0, 0, 0, 0, 0, 0, 0, 0, 0, 0, 0, 0, 0, 0, 0, 0, 0, 0, 0, 0, 0, 0, 0, 0, 0, 0, 0, 1, 0, 0, 0, 0, 0, 0, 0, 0, 0, 0, 0, 0, 0, 0, 0, 0, 0, 0, 0, 0, 0, 0, 0, 0, 0, 0, 0, 0, 0, 0, 0, 0, 0, 0, 0, 0, 0, 0, 0, 0, 0, 0, 0, 0, 0, 0, 0, 0, 0, 0, 0, 0, 0, 0, 0, 0, 0, 0, 0, 0, 0, 0, 0, 0, 0, 0, 0, 0, 0, 0, 0, 0, 0, 0, 0, 0, 0, 0, 0, 0, 0, 0, 0, 0, 0, 0, 0, 0, 0, 1, 0, 0, 0, 0, 0, 0, 0, 0, 0, 0, 0, 0, 0, 0, 0, 0, 0, 0, 0, 0, 0, 0, 0, 0, 1, 0, 0, 0, 0, 0, 0, 0, 0, 0, 0, 0, 0, 0, 0, 0, 0, 0, 0, 0, 0, 0, 0, 0, 0, 0, 0, 0, 0, 0, 0, 0, 0, 0, 0, 0, 0, 0, 0, 0, 0, 0, 0, 0, 0, 0, 0, 0, 0, 0, 0, 0, 1, 0, 0, 0, 0, 0, 0, 0, 0, 0, 0, 0, 0, 0, 0, 0, 0, 0, 0, 0, 0, 0, 0, 0, 0, 0, 0, 0, 0, 0, 0, 0, 0, 0, 0, 1, 0, 0, 0, 0, 0, 0, 0, 0, 0, 0, 0, 0, 0, 1, 0, 0, 0, 0, 0, 0, 0, 0, 0, 0, 0, 0, 0, 0, 0, 0, 0, 0, 0, 0, 0, 0, 0, 0, 0, 0, 0, 0, 0, 0, 0, 0, 0, 0, 0, 0, 0, 0, 1, 0, 0, 0, 0, 0, 0, 0, 0, 0, 0, 0, 0, 0, 0, 0, 1, 0, 0, 0, 0, 0, 1, 0, 0, 0, 0, 0, 0, 0, 0, 0, 0, 0, 0, 0, 0, 0, 0, 0, 0, 0, 0, 0, 0, 0, 0, 0, 0, 0, 0, 0, 0, 0, 0, 0, 0, 0, 0, 0, 0, 0, 0, 0, 0, 0, 0, 0, 0, 0, 0, 0, 0, 0, 0, 0, 0, 0, 0, 0, 0, 0, 0, 0, 0, 0, 0, 0, 0, 0, 0, 0, 0, 0, 0, 0, 0, 0, 0, 0, 0, 0, 0, 0, 0, 0, 0, 0, 0, 0, 0, 0, 0, 0, 0, 0, 0, 0, 0, 0, 0, 0, 0, 0, 0, 0, 0, 0, 0, 0, 0, 0, 0, 1, 0, 0, 0, 0, 0, 0, 1, 0, 0, 0, 0, 0, 0, 0, 0, 0, 0, 0, 0, 0, 0, 0, 0, 0, 0, 0, 0, 0, 0, 0, 0, 0, 0, 0, 0, 0, 0, 0, 0, 0, 0, 0, 0, 0, 0, 0, 0, 0, 0, 0, 0, 0, 0, 0, 0, 0, 0, 0, 0, 0, 0, 0, 0, 0, 0, 0, 0, 0, 0, 0, 0, 0, 0, 0, 0, 0, 0, 0, 0, 0, 0, 0, 0, 0, 0, 0, 0, 0, 0, 0, 0, 0, 1, 0, 0, 0, 0, 0, 0, 0, 0, 0, 0, 0, 0, 0, 0, 0, 0, 0, 0, 0, 0, 0, 0, 0, 0, 0, 0, 0, 0, 0, 0, 0, 0, 0, 0, 0, 0, 0, 0, 0, 0, 0, 0, 0, 1, 0, 0, 0, 0, 0, 0, 0, 0, 0, 0, 1, 0, 0, 0, 0, 0, 0, 0, 0, 0, 0, 0, 0, 0, 0, 0, 0, 0, 0, 0, 0, 0, 0, 0, 0, 0, 0, 0, 0, 0, 0, 0, 0, 0, 0, 0, 0, 0, 0, 0, 0, 0, 0, 0, 0, 0, 0, 0, 0, 0, 1, 1, 0, 0, 0, 0, 0, 0, 0, 0, 0, 0, 0, 0, 0, 0, 0, 0, 0, 0, 0, 0, 0, 0, 0, 0, 0, 0, 0, 0, 0, 0, 0, 0, 0, 0, 1, 0, 0, 0, 0, 0, 0, 0, 0, 0, 0, 0, 0, 0, 0, 0, 0, 1, 0, 0, 0, 0, 0, 0, 0, 1, 0, 0, 0, 0, 0, 0, 0, 0, 0, 0, 0, 0, 0, 0, 0, 0, 0, 0, 0, 0, 0, 1, 0, 0, 0, 0, 0, 0, 0, 0, 0, 0, 0, 0, 0, 0, 0, 1, 0, 0, 0, 0, 0, 0, 0, 0, 0, 0, 0, 1, 0, 0, 0, 0, 0, 0, 1, 0, 0, 0, 0, 0, 0, 0, 0, 0, 0, 0, 0, 0, 0, 0, 0, 0, 0, 0, 0, 0, 1, 0, 0, 0, 0, 1, 0, 0, 0, 1, 0, 0, 0, 0, 0, 0, 0, 0, 0, 0, 0, 0, 0, 0, 0, 0, 0, 0, 0, 0, 0, 0, 0, 0, 0, 0, 0, 0, 0, 0, 0, 0, 0, 0, 0, 0, 0, 0, 1, 0, 0, 0, 0, 0, 0, 0, 0, 0, 0, 0, 0, 0, 0, 0, 0, 0, 0, 0, 0, 0, 0, 0, 0, 0, 0, 0, 0, 0, 0, 0, 0, 0, 0, 0, 0, 0, 0, 0, 0, 0, 0, 0, 0, 0, 0, 0, 0, 0, 0, 0, 0, 0, 0, 0, 0, 0, 0, 0, 0, 0, 0, 0, 0, 1, 0, 0, 1, 0, 0, 0, 0, 0, 0, 0, 0, 0, 0, 0, 0, 0, 0, 0, 0, 0, 0, 0, 0, 0, 0, 0, 0, 0, 0, 0, 0, 0, 0, 0, 0, 0, 0, 0, 0, 0, 0, 0, 0, 0, 0, 0, 0, 0, 0, 0, 0, 0, 0, 0, 0, 0, 0, 0, 0, 0, 0, 1, 0, 0, 0, 0, 0, 0, 0, 0, 0, 0, 0, 0, 0, 0, 0, 0, 0, 0, 0, 1, 0, 0, 0, 0, 0, 0, 0, 0, 0, 0, 0, 1, 0, 0, 0, 0, 0, 0, 1, 0, 0, 0, 0, 0, 0, 0, 0, 0, 0, 1, 0, 0, 0, 0, 0, 0, 0, 0, 0, 0, 0, 0, 0, 0, 0, 0, 0, 0, 0, 0, 0, 0, 0, 0, 0, 0, 0, 0, 0, 0, 0, 0, 0, 0, 0, 0, 0, 0, 0, 0, 0, 0, 0, 0, 0, 0, 0, 0, 0, 0, 0, 1, 0, 0, 0, 0, 0, 0, 0, 0, 0, 0, 0, 0, 0, 0, 0, 0, 0, 0, 0, 0, 0, 0, 0, 0, 0, 0, 0, 0, 0, 0, 0, 0, 0, 0, 0, 0, 0, 0, 0, 0, 0, 0, 0, 0, 1, 0, 0, 0, 0, 0, 0, 0, 0, 0, 0, 1, 0, 0, 0, 0, 0, 0, 0, 0, 0, 0, 0, 0, 1, 0, 0, 0, 0, 0, 0, 0]}, {\"label\": \"totChol\", \"values\": [195.0, 250.0, 245.0, 225.0, 285.0, 228.0, 205.0, 313.0, 260.0, 225.0, 254.0, 247.0, 294.0, 332.0, 221.0, 232.0, 291.0, 195.0, 195.0, 190.0, 234.0, 215.0, 270.0, 294.0, 225.0, 272.0, 247.0, 295.0, 226.0, 209.0, 214.0, 225.0, 178.0, 233.0, 180.0, 243.0, 237.0, 195.0, 311.0, 208.0, 252.0, 261.0, 179.0, 267.0, 216.0, 237.0, 240.0, 250.0, 266.0, 255.0, 185.0, 205.0, 270.0, 254.0, 220.0, 235.0, 220.0, 252.0, 212.0, 223.0, 300.0, 302.0, 175.0, 189.0, 221.0, 258.0, 202.0, 183.0, 274.0, 170.0, 285.0, 210.0, 170.0, 210.0, 197.0, 261.0, 326.0, 252.0, 274.0, 188.0, 256.0, 244.0, 311.0, 243.0, 193.0, 239.0, 296.0, 269.0, 220.0, 275.0, 268.0, 265.0, 173.0, 273.0, 250.0, 290.0, 278.0, 197.0, 264.0, 233.0, 282.0, 257.0, 278.0, 185.0, 210.0, 175.0, 241.0, 237.0, 288.0, 200.0, 183.0, 223.0, 244.0, 235.0, 210.0, 213.0, 244.0, 303.0, 246.0, 150.0, 270.0, 266.0, 246.0, 187.0, 286.0, 240.0, 154.0, 266.0, 279.0, 293.0, 259.0, 219.0, 210.0, 230.0, 320.0, 220.0, 312.0, 214.0, 209.0, 195.0, 265.0, 254.0, 165.0, 159.0, 244.0, 174.0, 242.0, 301.0, 266.0, 167.0, 205.0, 210.0, 197.0, 235.0, 220.0, 265.0, 200.0, 308.0, 245.0, 325.0, 229.0, 236.0, 214.0, 300.0, 225.0, 215.0, 225.0, 216.0, 224.0, 215.0, 216.0, 245.0, 253.0, 241.0, 235.0, 464.0, 226.0, 308.0, 248.0, 215.0, 240.0, 171.0, 189.0, 240.0, 186.0, 227.0, 273.0, 212.0, 249.0, 185.0, 176.0, 285.0, 254.0, 237.0, 175.0, 196.0, 150.0, 180.0, 242.0, 173.0, 257.0, 193.0, 243.0, 239.0, 273.0, 220.0, 303.0, 310.0, 232.0, 164.0, 245.0, 135.0, 265.0, 291.0, 273.0, 238.0, 207.0, 219.0, 246.0, 197.0, 260.0, 342.0, 180.0, 287.0, 182.0, 224.0, 238.0, 252.0, 212.0, 300.0, 165.0, 352.0, 240.0, 284.0, 219.0, 176.0, 203.0, 265.0, 219.0, 245.0, 312.0, 273.0, 254.0, 273.0, 254.0, 262.0, 215.0, 302.0, 185.0, 284.0, 325.0, 260.0, 164.0, 270.0, 186.0, 258.0, 228.0, 155.0, 270.0, 323.0, 242.0, 310.0, 206.0, 173.0, 283.0, 319.0, 282.0, 188.0, 221.0, 269.0, 250.0, 194.0, 258.0, 272.0, 260.0, 270.0, 340.0, 197.0, 240.0, 240.0, 220.0, 200.0, 328.0, 222.0, 246.0, 246.0, 186.0, 197.0, 311.0, 368.0, 220.0, 218.0, 241.0, 219.0, 312.0, 200.0, 237.0, 207.0, 238.0, 250.0, 238.0, 276.0, 339.0, 231.0, 187.0, 198.0, 196.0, 225.0, 202.0, 231.0, 210.0, 230.0, 283.0, 203.0, 200.0, 244.0, 212.0, 218.0, 185.0, 282.0, 198.0, 248.0, 290.0, 239.0, 245.0, 200.0, 201.0, 290.0, 285.0, 203.0, 250.0, 290.0, 258.0, 246.0, 220.0, 195.0, 235.0, 223.0, 308.0, 167.0, 185.0, 240.0, 245.0, 310.0, 300.0, 256.0, 202.0, 155.0, 207.0, 276.0, 215.0, 277.0, 179.0, 226.0, 245.0, 240.0, 218.0, 229.0, 174.0, 285.0, 323.0, 206.0, 246.0, 304.0, 235.0, 232.0, 177.0, 188.0, 176.0, 268.0, 195.0, 197.0, 268.0, 212.0, 220.0, 240.0, 226.0, 237.0, 199.0, 206.0, 265.0, 260.0, 243.0, 258.0, 182.0, 209.0, 266.0, 210.0, 292.0, 190.0, 234.0, 173.0, 227.0, 186.0, 195.0, 284.0, 177.0, 305.0, 195.0, 227.0, 245.0, 250.0, 152.0, 222.0, 243.0, 270.0, 252.0, 235.0, 161.0, 168.0, 247.0, 250.0, 219.0, 320.0, 253.0, 319.0, 176.0, 239.0, 230.0, 190.0, 181.0, 220.0, 207.0, 269.0, 258.0, 340.0, 277.0, 245.0, 233.0, 258.0, 210.0, 248.0, 251.0, 258.0, 201.0, 303.0, 248.0, 296.0, 218.0, 235.0, 240.0, 234.0, 278.0, 269.0, 203.0, 243.0, 231.0, 271.0, 261.0, 203.0, 210.0, 206.0, 301.0, 241.0, 215.0, 261.0, 266.0, 237.0, 217.0, 176.0, 370.0, 182.0, 245.0, 292.0, 246.0, 193.0, 247.0, 300.0, 213.0, 439.0, 171.0, 227.0, 207.0, 145.0, 210.0, 245.0, 258.0, 233.0, 240.0, 213.0, 242.0, 214.0, 241.0, 250.0, 240.0, 188.0, 275.0, 252.0, 253.0, 278.0, 232.0, 189.0, 242.0, 247.0, 230.0, 223.0, 263.0, 277.0, 215.0, 210.0, 300.0, 287.0, 234.0, 176.0, 240.0, 300.0, 258.0, 215.0, 197.0, 210.0, 220.0, 294.0, 232.0, 220.0, 205.0, 198.0, 208.0, 276.0, 216.0, 254.0, 246.0, 330.0, 170.0, 245.0, 286.0, 250.0, 270.0, 287.0, 218.0, 222.0, 170.0, 197.0, 157.0, 244.0, 252.0, 203.0, 398.0, 207.0, 264.0, 214.0, 272.0, 200.0, 269.0, 250.0, 219.0, 187.0, 243.0, 190.0, 267.0, 218.0, 195.0, 266.0, 229.0, 264.0, 273.0, 162.0, 250.0, 314.0, 219.0, 250.0, 230.0, 195.0, 194.0, 224.0, 166.0, 160.0, 238.0, 281.0, 292.0, 203.0, 250.0, 240.0, 193.0, 243.0, 292.0, 200.0, 295.0, 255.0, 285.0, 206.0, 300.0, 289.0, 287.0, 253.0, 199.0, 262.0, 355.0, 223.0, 307.0, 220.0, 240.0, 234.0, 239.0, 225.0, 267.0, 227.0, 300.0, 248.0, 215.0, 215.0, 156.0, 289.0, 329.0, 270.0, 267.0, 272.0, 195.0, 203.0, 212.0, 190.0, 222.0, 206.0, 262.0, 294.0, 251.0, 160.0, 143.0, 245.0, 200.0, 215.0, 185.0, 212.0, 255.0, 211.0, 212.0, 200.0, 278.0, 240.0, 298.0, 271.0, 283.0, 241.0, 251.0, 292.0, 245.0, 168.0, 197.0, 152.0, 225.0, 296.0, 211.0, 334.0, 241.0, 196.0, 215.0, 188.0, 290.0, 229.0, 196.0, 249.0, 210.0, 232.0, 205.0, 245.0, 249.0, 160.0, 251.0, 207.0, 214.0, 296.0, 250.0, 193.0, 278.0, 254.0, 192.0, 184.0, 267.0, 162.0, 220.0, 204.0, 280.0, 180.0, 210.0, 246.0, 262.0, 193.0, 218.0, 152.0, 253.0, 175.0, 177.0, 199.0, 211.0, 258.0, 256.0, 207.0, 260.0, 272.0, 208.0, 222.0, 219.0, 228.0, 230.0, 167.0, 175.0, 280.0, 242.0, 231.0, 238.0, 314.0, 219.0, 219.0, 326.0, 255.0, 191.0, 239.0, 292.0, 233.0, 237.0, 231.0, 260.0, 225.0, 210.0, 205.0, 305.0, 178.0, 217.0, 328.0, 232.0, 261.0, 217.0, 197.0, 173.0, 248.0, 205.0, 234.0, 240.0, 266.0, 244.0, 241.0, 207.0, 214.0, 225.0, 214.0, 304.0, 238.0, 241.0, 255.0, 212.0, 207.0, 222.0, 220.0, 240.0, 231.0, 268.0, 256.0, 195.0, 247.0, 166.0, 248.0, 165.0, 283.0, 261.0, 264.0, 273.0, 234.0, 197.0, 202.0, 163.0, 247.0, 251.0, 205.0, 225.0, 250.0, 255.0, 239.0, 264.0, 232.0, 232.0, 225.0, 221.0, 242.0, 194.0, 238.0, 206.0, 273.0, 290.0, 290.0, 180.0, 233.0, 199.0, 255.0, 200.0, 244.0, 255.0, 257.0, 176.0, 217.0, 282.0, 318.0, 220.0, 201.0, 206.0, 259.0, 224.0, 154.0, 273.0, 303.0, 229.0, 253.0, 152.0, 194.0, 353.0, 298.0, 253.0, 318.0, 196.0, 360.0, 230.0, 243.0, 247.0, 229.0, 280.0, 335.0, 219.0, 168.0, 250.0, 260.0, 232.0, 284.0, 247.0, 150.0, 202.0, 215.0, 229.0, 285.0, 220.0, 274.0, 234.0, 170.0, 268.0, 257.0, 252.0, 285.0, 209.0, 262.0, 261.0, 202.0, 160.0, 218.0, 284.0, 265.0, 210.0, 266.0, 256.0, 199.0, 171.0, 205.0, 225.0, 272.0, 269.0, 160.0, 158.0, 239.0, 258.0, 201.0, 340.0, 192.0, 300.0, 177.0, 194.0, 266.0, 287.0, 247.0, 199.0, 205.0, 310.0, 270.0, 199.0, 255.0, 168.0, 216.0, 263.0, 175.0, 240.0, 220.0, 310.0, 186.0, 220.0, 232.0, 240.0, 187.0, 213.0, 210.0, 267.0, 332.0, 236.0, 232.0, 242.0, 224.0, 167.0, 277.0, 227.0, 217.0, 200.0, 197.0, 279.0, 236.0, 218.0, 187.0, 222.0, 183.0, 264.0, 270.0, 207.0, 192.0, 285.0, 250.0, 211.0, 201.0, 164.0, 220.0, 270.0, 346.0, 266.0, 169.0, 237.0, 250.0, 245.0, 271.0, 176.0, 240.0, 187.0, 252.0, 140.0, 185.0, 324.0, 273.0, 245.0, 229.0, 200.0, 276.0, 181.0, 170.0, 190.0, 225.0, 273.0, 263.0, 290.0, 273.0, 265.0, 279.0, 232.0, 346.0, 253.0, 216.0, 220.0, 239.0, 261.0, 210.0, 253.0, 263.0, 265.0, 219.0, 246.0, 200.0, 220.0, 279.0, 274.0, 229.0, 352.0, 230.0, 209.0, 227.0, 159.0, 201.0, 600.0, 241.0, 238.0, 220.0, 175.0, 272.0, 267.0, 241.0, 251.0, 210.0, 259.0, 202.0, 253.0, 236.0, 292.0, 215.0, 206.0, 293.0, 262.0, 282.0, 245.0, 192.0, 217.0, 249.0, 256.0, 315.0, 224.0, 196.0, 225.0, 270.0, 265.0, 193.0, 392.0, 239.0, 261.0, 242.0, 222.0, 242.0, 257.0, 291.0, 229.0, 223.0, 214.0, 239.0, 250.0, 334.0, 322.0, 291.0, 214.0, 200.0, 256.0, 221.0, 185.0, 304.0, 248.0, 221.0, 242.0, 170.0, 233.0, 315.0, 205.0, 267.0, 261.0, 306.0, 169.0, 260.0, 242.0, 280.0, 231.0, 270.0, 216.0, 320.0, 214.0, 304.0, 248.0, 246.0, 253.0, 256.0, 245.0, 205.0, 199.0, 304.0, 206.0, 309.0, 234.0, 305.0, 208.0, 210.0, 271.0, 264.0, 209.0, 248.0, 155.0, 149.0, 255.0, 137.0, 160.0, 226.0, 197.0, 279.0, 195.0, 231.0, 229.0, 242.0, 230.0, 183.0, 208.0, 261.0, 246.0, 172.0, 216.0, 222.0, 298.0, 208.0, 213.0, 266.0, 220.0, 210.0, 252.0, 285.0, 175.0, 225.0, 213.0, 252.0, 318.0, 230.0, 248.0, 270.0, 245.0, 196.0, 220.0, 190.0, 218.0, 184.0, 205.0, 272.0, 186.0, 218.0, 234.0, 270.0, 154.0, 253.0, 214.0, 226.0, 187.0, 241.0, 195.0, 233.0, 218.0, 238.0, 244.0, 222.0, 197.0, 240.0, 222.0, 310.0, 175.0, 312.0, 253.0, 226.0, 180.0, 259.0, 216.0, 260.0, 233.0, 280.0, 170.0, 212.0, 206.0, 230.0, 158.0, 183.0, 211.0, 238.0, 186.0, 239.0, 277.0, 235.0, 207.0, 256.0, 230.0, 199.0, 271.0, 250.0, 152.0, 300.0, 287.0, 237.0, 214.0, 201.0, 180.0, 248.0, 240.0, 304.0, 271.0, 250.0, 200.0, 272.0, 211.0, 230.0, 225.0, 185.0, 260.0, 292.0, 246.0, 165.0, 198.0, 204.0, 253.0, 210.0, 217.0, 190.0, 205.0, 235.0, 259.0, 289.0, 272.0, 249.0, 194.0, 340.0, 314.0, 226.0, 225.0, 232.0, 278.0, 305.0, 317.0, 292.0, 175.0, 295.0, 262.0, 234.0, 240.0, 251.0, 358.0, 239.0, 185.0, 217.0, 220.0, 272.0, 211.0, 155.0, 252.0, 172.0, 244.0, 246.0, 276.0, 229.0, 204.0, 170.0, 192.0, 234.0, 161.0, 251.0, 255.0, 345.0, 212.0, 210.0, 245.0, 231.0, 187.0, 190.0, 174.0, 243.0, 160.0, 250.0, 263.0, 221.0, 271.0, 260.0, 213.0, 239.0, 252.0, 201.0, 261.0, 329.0, 229.0, 254.0, 293.0, 250.0, 262.0, 256.0, 239.0, 186.0, 232.0, 260.0, 391.0, 275.0, 231.0, 215.0, 279.0, 249.0, 198.0, 246.0, 246.0, 310.0, 219.0, 215.0, 214.0, 318.0, 335.0, 206.0, 325.0, 237.0, 234.0, 340.0, 258.0, 260.0, 176.0, 206.0, 278.0, 214.0, 334.0, 290.0, 172.0, 194.0, 295.0, 185.0, 255.0, 179.0, 258.0, 206.0, 215.0, 254.0, 230.0, 326.0, 232.0, 306.0, 242.0, 160.0, 304.0, 232.0, 165.0, 262.0, 234.0, 217.0, 275.0, 230.0, 241.0, 265.0, 220.0, 217.0, 320.0, 255.0, 222.0, 235.0, 220.0, 252.0, 219.0, 248.0, 253.0, 273.0, 306.0, 269.0, 190.0, 169.0, 220.0, 210.0, 326.0, 195.0, 205.0, 169.0, 264.0, 218.0, 211.0, 239.0, 185.0, 220.0, 183.0, 214.0, 293.0, 238.0, 410.0, 193.0, 212.0, 182.0, 276.0, 213.0, 213.0, 274.0, 182.0, 285.0, 297.0, 209.0, 213.0, 294.0, 250.0, 167.0, 258.0, 222.0, 190.0, 302.0, 179.0, 219.0, 312.0, 233.0, 187.0, 219.0, 323.0, 271.0, 226.0, 255.0, 204.0, 286.0, 272.0, 242.0, 203.0, 234.0, 246.0, 212.0, 259.0, 235.0, 309.0, 170.0, 157.0, 186.0, 249.0, 270.0, 168.0, 289.0, 272.0, 235.0, 274.0, 246.0, 200.0, 249.0, 271.0, 286.0, 237.0, 234.0, 255.0, 190.0, 219.0, 254.0, 170.0, 180.0, 178.0, 338.0, 241.0, 221.0, 247.0, 244.0, 229.0, 197.0, 200.0, 312.0, 313.0, 240.0, 204.0, 246.0, 211.0, 200.0, 265.0, 298.0, 325.0, 271.0, 229.0, 159.0, 216.0, 268.0, 231.0, 231.0, 246.0, 195.0, 148.0, 222.0, 174.0, 180.0, 248.0, 222.0, 173.0, 209.0, 320.0, 246.0, 258.0, 240.0, 285.0, 202.0, 305.0, 272.0, 233.0, 192.0, 214.0, 229.0, 187.0, 270.0, 175.0, 268.0, 165.0, 164.0, 240.0, 225.0, 215.0, 155.0, 169.0, 259.0, 372.0, 170.0, 225.0, 226.0, 250.0, 229.0, 201.0, 170.0, 246.0, 246.0, 265.0, 223.0, 203.0, 234.0, 206.0, 269.0, 366.0, 262.0, 208.0, 227.0, 257.0, 277.0, 201.0, 270.0, 268.0, 260.0, 247.0, 222.0, 286.0, 281.0, 239.0, 248.0, 241.0, 221.0, 191.0, 190.0, 226.0, 279.0, 293.0, 289.0, 294.0, 150.0, 333.0, 255.0, 225.0, 296.0, 192.0, 208.0, 280.0, 197.0, 215.0, 285.0, 250.0, 164.0, 234.0, 212.0, 195.0, 274.0, 250.0, 207.0, 283.0, 327.0, 270.0, 260.0, 320.0, 285.0, 281.0, 249.0, 193.0, 180.0, 235.0, 295.0, 158.0, 253.0, 226.0, 230.0, 235.0, 245.0, 157.0, 204.0, 184.0, 215.0, 264.0, 176.0, 170.0, 209.0, 189.0, 202.0, 211.0, 240.0, 188.0, 275.0, 205.0, 160.0, 224.0, 285.0, 275.0, 238.0, 236.0, 212.0, 195.0, 238.0, 180.0, 256.0, 225.0, 180.0, 206.0, 342.0, 234.0, 233.0, 280.0, 188.0, 244.0, 245.0, 200.0, 167.0, 196.0, 246.0, 265.0, 203.0, 235.0, 256.0, 210.0, 233.0, 183.0, 344.0, 201.0, 340.0, 227.0, 256.0, 252.0, 194.0, 196.0, 190.0, 232.0, 289.0, 252.0, 196.0, 211.0, 229.0, 214.0, 294.0, 182.0, 204.0, 241.0, 326.0, 283.0, 235.0, 227.0, 249.0, 235.0, 344.0, 310.0, 213.0, 233.0, 298.0, 229.0, 200.0, 301.0, 217.0, 287.0, 310.0, 251.0, 221.0, 219.0, 290.0, 225.0, 288.0, 225.0, 215.0, 280.0, 235.0, 239.0, 230.0, 300.0, 283.0, 230.0, 238.0, 225.0, 261.0, 161.0, 186.0, 232.0, 229.0, 286.0, 245.0, 210.0, 220.0, 175.0, 219.0, 228.0, 300.0, 261.0, 184.0, 215.0, 188.0, 256.0, 223.0, 292.0, 211.0, 167.0, 286.0, 193.0, 222.0, 288.0, 240.0, 224.0, 246.0, 202.0, 307.0, 410.0, 243.0, 296.0, 237.0, 237.0, 227.0, 220.0, 161.0, 232.0, 213.0, 250.0, 295.0, 232.0, 210.0, 222.0, 216.0, 190.0, 262.0, 260.0, 229.0, 289.0, 192.0, 229.0, 238.0, 244.0, 226.0, 250.0, 249.0, 266.0, 212.0, 176.0, 236.0, 224.0, 330.0, 238.0, 319.0, 162.0, 174.0, 238.0, 279.0, 198.0, 144.0, 193.0, 234.0, 241.0, 224.0, 260.0, 195.0, 228.0, 260.0, 192.0, 300.0, 266.0, 261.0, 227.0, 279.0, 190.0, 150.0, 280.0, 225.0, 260.0, 240.0, 280.0, 233.0, 273.0, 390.0, 207.0, 226.0, 245.0, 282.0, 287.0, 173.0, 196.0, 244.0, 165.0, 221.0, 321.0, 192.0, 262.0, 216.0, 184.0, 225.0, 224.0, 237.0, 229.0, 253.0, 234.0, 281.0, 273.0, 163.0, 229.0, 210.0, 163.0, 251.0, 305.0, 165.0, 257.0, 203.0, 220.0, 255.0, 274.0, 210.0, 165.0, 288.0, 245.0, 216.0, 166.0, 287.0, 220.0, 182.0, 266.0, 237.0, 308.0, 270.0, 263.0, 213.0, 259.0, 236.0, 232.0, 185.0, 228.0, 177.0, 265.0, 206.0, 209.0, 243.0, 305.0, 200.0, 264.0, 309.0, 250.0, 275.0, 260.0, 217.0, 217.0, 258.0, 180.0, 177.0, 258.0, 195.0, 160.0, 266.0, 254.0, 200.0, 195.0, 234.0, 225.0, 225.0, 276.0, 179.0, 216.0, 298.0, 143.0, 290.0, 195.0, 164.0, 259.0, 206.0, 298.0, 283.0, 234.0, 202.0, 258.0, 293.0, 245.0, 154.0, 310.0, 186.0, 170.0, 271.0, 200.0, 305.0, 265.0, 260.0, 162.0, 212.0, 212.0, 274.0, 274.0, 328.0, 165.0, 240.0, 255.0, 210.0, 249.0, 205.0, 203.0, 247.0, 205.0, 229.0, 273.0, 229.0, 300.0, 279.0, 250.0, 293.0, 238.0, 297.0, 232.0, 165.0, 232.0, 209.0, 339.0, 272.0, 288.0, 190.0, 293.0, 190.0, 260.0, 230.0, 258.0, 209.0, 232.0, 260.0, 260.0, 405.0, 197.0, 359.0, 234.0, 230.0, 174.0, 295.0, 243.0, 260.0, 195.0, 226.0, 182.0, 288.0, 322.0, 230.0, 309.0, 240.0, 205.0, 232.0, 193.0, 167.0, 238.0, 285.0, 239.0, 235.0, 219.0, 207.0, 260.0, 246.0, 288.0, 255.0, 270.0, 239.0, 202.0, 233.0, 200.0, 243.0, 250.0, 235.0, 178.0, 207.0, 220.0, 205.0, 197.0, 213.0, 232.0, 238.0, 258.0, 208.0, 268.0, 314.0, 260.0, 148.0, 199.0, 275.0, 346.0, 237.0, 193.0, 350.0, 166.0, 219.0, 281.0, 272.0, 243.0, 208.0, 240.0, 240.0, 206.0, 251.0, 270.0, 292.0, 235.0, 212.0, 200.0, 238.0, 227.0, 254.0, 213.0, 190.0, 195.0, 230.0, 336.0, 204.0, 180.0, 230.0, 175.0, 235.0, 199.0, 202.0, 274.0, 246.0, 275.0, 203.0, 245.0, 205.0, 213.0, 233.0, 200.0, 195.0, 312.0, 192.0, 176.0, 157.0, 183.0, 249.0, 233.0, 259.0, 252.0, 273.0, 193.0, 199.0, 229.0, 181.0, 168.0, 267.0, 261.0, 235.0, 281.0, 201.0, 215.0, 218.0, 266.0, 217.0, 241.0, 226.0, 216.0, 380.0, 233.0, 270.0, 281.0, 299.0, 243.0, 293.0, 270.0, 262.0, 212.0, 232.0, 254.0, 200.0, 355.0, 210.0, 242.0, 240.0, 390.0, 190.0, 212.0, 315.0, 230.0, 189.0, 218.0, 264.0, 279.0, 287.0, 186.0, 235.0, 156.0, 275.0, 310.0, 259.0, 240.0, 332.0, 228.0, 280.0, 254.0, 205.0, 265.0, 227.0, 342.0, 302.0, 152.0, 193.0, 196.0, 326.0, 135.0, 156.0, 230.0, 303.0, 220.0, 233.0, 323.0, 288.0, 190.0, 255.0, 218.0, 179.0, 212.0, 216.0, 205.0, 188.0, 260.0, 180.0, 221.0, 159.0, 216.0, 193.0, 229.0, 268.0, 205.0, 214.0, 193.0, 189.0, 248.0, 185.0, 155.0, 161.0, 266.0, 275.0, 224.0, 223.0, 325.0, 278.0, 124.0, 253.0, 250.0, 213.0, 264.0, 214.0, 205.0, 243.0, 295.0, 187.0, 189.0, 242.0, 236.0, 185.0, 270.0, 285.0, 185.0, 299.0, 266.0, 290.0, 261.0, 237.0, 189.0, 208.0, 259.0, 212.0, 202.0, 227.0, 261.0, 239.0, 165.0, 198.0, 232.0, 252.0, 260.0, 230.0, 260.0, 271.0, 220.0, 200.0, 273.0, 235.0, 201.0, 371.0, 201.0, 309.0, 190.0, 312.0, 300.0, 227.0, 215.0, 235.0, 270.0, 300.0, 232.0, 277.0, 270.0, 219.0, 309.0, 199.0, 258.0, 199.0, 199.0, 223.0, 212.0, 206.0, 172.0, 211.0, 334.0, 197.0, 280.0, 181.0, 224.0, 216.0, 222.0, 113.0, 212.0, 309.0, 238.0, 180.0, 317.0, 201.0, 167.0, 302.0, 228.0, 226.0, 232.0, 215.0, 214.0, 266.0, 234.0, 155.0, 240.0, 178.0, 254.0, 274.0, 266.0, 237.0, 260.0, 190.0, 188.0, 200.0, 167.0, 248.0, 176.0, 226.0, 233.0, 253.0, 170.0, 273.0, 207.0, 227.0, 150.0, 204.0, 215.0, 226.0, 333.0, 304.0, 350.0, 275.0, 315.0, 290.0, 251.0, 248.0, 231.0, 180.0, 256.0, 168.0, 207.0, 246.0, 295.0, 216.0, 249.0, 221.0, 214.0, 214.0, 213.0, 240.0, 230.0, 252.0, 354.0, 320.0, 193.0, 243.0, 268.0, 382.0, 231.0, 288.0, 211.0, 240.0, 210.0, 287.0, 205.0, 195.0, 188.0, 240.0, 241.0, 308.0, 213.0, 232.0, 225.0, 312.0, 280.0, 288.0, 222.0, 267.0, 202.0, 345.0, 295.0, 173.0, 215.0, 260.0, 243.0, 246.0, 205.0, 219.0, 262.0, 155.0, 254.0, 150.0, 255.0, 279.0, 210.0, 226.0, 171.0, 220.0, 208.0, 211.0, 248.0, 344.0, 285.0, 158.0, 272.0, 175.0, 209.0, 292.0, 318.0, 230.0, 364.0, 339.0, 242.0, 230.0, 179.0, 215.0, 210.0, 250.0, 307.0, 253.0, 242.0, 291.0, 295.0, 173.0, 248.0, 194.0, 204.0, 220.0, 246.0, 207.0, 177.0, 208.0, 259.0, 262.0, 322.0, 219.0, 288.0, 335.0, 192.0, 198.0, 274.0, 228.0, 215.0, 263.0, 285.0, 309.0, 341.0, 265.0, 195.0, 240.0, 282.0, 216.0, 260.0, 205.0, 286.0, 225.0, 275.0, 231.0, 212.0, 238.0, 211.0, 300.0, 232.0, 190.0, 180.0, 236.0, 211.0, 212.0, 249.0, 200.0, 159.0, 228.0, 187.0, 275.0, 264.0, 210.0, 232.0, 305.0, 229.0, 285.0, 205.0, 175.0, 238.0, 293.0, 208.0, 170.0, 244.0, 205.0, 234.0, 197.0, 209.0, 231.0, 253.0, 226.0, 228.0, 261.0, 240.0, 280.0, 260.0, 235.0, 278.0, 238.0, 210.0, 239.0, 344.0, 193.0, 281.0, 189.0, 179.0, 243.0, 230.0, 274.0, 268.0, 220.0, 286.0, 133.0, 295.0, 280.0, 367.0, 207.0, 224.0, 160.0, 313.0, 191.0, 219.0, 212.0, 241.0, 215.0, 188.0, 214.0, 193.0, 201.0, 214.0, 208.0, 194.0, 230.0, 265.0, 263.0, 279.0, 304.0, 218.0, 272.0, 285.0, 240.0, 232.0, 252.0, 237.0, 220.0, 177.0, 230.0, 219.0, 185.0, 230.0, 297.0, 203.0, 173.0, 282.0, 220.0, 264.0, 257.0, 208.0, 184.0, 237.0, 262.0, 172.0, 240.0, 263.0, 280.0, 165.0, 188.0, 314.0, 320.0, 153.0, 255.0, 205.0, 163.0, 281.0, 194.0, 226.0, 163.0, 214.0, 215.0, 212.0, 152.0, 253.0, 280.0, 240.0, 228.0, 264.0, 247.0, 291.0, 175.0, 280.0, 211.0, 260.0, 234.0, 238.0, 205.0, 201.0, 292.0, 189.0, 241.0, 248.0, 144.0, 346.0, 224.0, 250.0, 290.0, 178.0, 231.0, 203.0, 174.0, 206.0, 179.0, 229.0, 303.0, 223.0, 252.0, 183.0, 230.0, 263.0, 210.0, 243.0, 192.0, 296.0, 228.0, 345.0, 273.0, 252.0, 206.0, 258.0, 230.0, 283.0, 218.0, 280.0, 240.0, 163.0, 254.0, 295.0, 276.0, 225.0, 176.0, 217.0, 220.0, 287.0, 279.0, 217.0, 254.0, 328.0, 306.0, 281.0, 260.0, 237.0, 160.0, 180.0, 180.0, 260.0, 258.0, 274.0, 228.0, 193.0, 202.0, 248.0, 237.0, 262.0, 229.0, 352.0, 280.0, 270.0, 220.0, 252.0, 225.0, 234.0, 258.0, 280.0, 233.0, 265.0, 258.0, 241.0, 432.0, 189.0, 230.0, 240.0, 252.0, 172.0, 239.0, 317.0, 229.0, 200.0, 234.0, 260.0, 232.0, 216.0, 258.0, 185.0, 181.0, 217.0, 210.0, 264.0, 188.0, 204.0, 191.0, 200.0, 165.0, 216.0, 195.0, 240.0, 273.0, 273.0, 250.0, 300.0, 266.0, 239.0, 273.0, 261.0, 282.0, 290.0, 232.0, 313.0, 310.0, 225.0, 226.0, 226.0, 195.0, 271.0, 287.0, 257.0, 177.0, 235.0, 266.0, 239.0, 270.0, 241.0, 243.0, 278.0, 315.0, 351.0, 174.0, 196.0, 275.0, 254.0, 239.0, 280.0, 165.0, 328.0, 243.0, 217.0, 196.0, 256.0, 192.0, 193.0, 214.0, 297.0, 184.0, 257.0, 269.0, 223.0, 245.0, 177.0, 289.0, 163.0, 260.0, 177.0, 220.0, 278.0, 167.0, 216.0, 274.0, 204.0, 298.0, 192.0, 254.0, 249.0, 303.0, 230.0, 252.0, 262.0, 177.0, 236.0, 337.0, 248.0, 256.0, 210.0, 275.0, 238.0, 195.0, 268.0, 260.0, 248.0, 267.0, 240.0, 198.0, 221.0, 182.0, 213.0, 274.0, 260.0, 222.0, 326.0, 279.0, 280.0, 272.0, 286.0, 254.0, 231.0, 273.0, 226.0, 221.0, 243.0, 257.0, 275.0, 295.0, 310.0, 246.0, 305.0, 293.0, 193.0, 219.0, 200.0, 270.0, 234.0, 240.0, 234.0, 292.0, 363.0, 226.0, 217.0, 265.0, 189.0, 253.0, 201.0, 279.0, 209.0, 311.0, 256.0, 195.0, 278.0, 223.0, 331.0, 271.0, 267.0, 188.0, 226.0, 252.0, 235.0, 164.0, 190.0, 165.0, 207.0, 155.0, 220.0, 187.0, 195.0, 218.0, 225.0, 237.0, 297.0, 277.0, 165.0, 214.0, 275.0, 224.0, 253.0, 184.0, 216.0, 206.0, 313.0, 208.0, 210.0, 194.0, 226.0, 219.0, 196.0, 225.0, 279.0, 195.0, 200.0, 258.0, 202.0, 236.0, 300.0, 172.0, 290.0, 187.0, 315.0, 201.0, 263.0, 204.0, 255.0, 200.0, 327.0, 272.0, 230.0, 285.0, 281.0, 258.0, 235.0, 265.0, 230.0, 212.0, 272.0, 275.0, 281.0, 259.0, 205.0, 202.0, 342.0, 239.0, 254.0, 239.0, 165.0, 265.0, 227.0, 286.0, 226.0, 261.0, 224.0, 225.0, 316.0, 216.0, 197.0, 305.0, 185.0, 194.0, 167.0, 270.0, 159.0, 260.0, 218.0, 232.0, 307.0, 241.0, 229.0, 200.0, 200.0, 194.0, 290.0, 175.0, 239.0, 242.0, 205.0, 283.0, 193.0, 250.0, 215.0, 267.0, 253.0, 213.0, 165.0, 262.0, 259.0, 229.0, 200.0, 193.0, 225.0, 177.0, 259.0, 220.0, 243.0, 235.0, 254.0, 215.0, 264.0, 265.0, 225.0, 198.0, 226.0, 243.0, 235.0, 241.0, 175.0, 194.0, 186.0, 173.0, 228.0, 200.0, 240.0, 253.0, 198.0, 285.0, 254.0, 297.0, 326.0, 190.0, 150.0, 288.0, 195.0, 290.0, 257.0, 197.0, 259.0, 232.0, 223.0, 240.0, 306.0, 291.0, 275.0, 231.0, 274.0, 272.0, 261.0, 250.0, 312.0, 233.0, 320.0, 231.0, 181.0, 260.0, 274.0, 234.0, 215.0, 210.0, 253.0, 205.0, 184.0, 221.0, 227.0, 254.0, 245.0, 206.0, 249.0, 163.0, 265.0, 178.0, 217.0, 214.0, 157.0, 382.0, 228.0, 179.0, 270.0, 239.0, 288.0, 281.0, 229.0, 228.0, 250.0, 258.0, 225.0, 212.0, 158.0, 241.0, 240.0, 188.0, 204.0, 229.0, 286.0, 346.0, 219.0, 250.0, 361.0, 197.0, 238.0, 232.0, 260.0, 220.0, 281.0, 256.0, 333.0, 208.0, 215.0, 230.0, 232.0, 210.0, 266.0, 255.0, 240.0, 285.0, 203.0, 236.0, 170.0, 271.0, 180.0, 263.0, 194.0, 222.0, 271.0, 310.0, 221.0, 241.0, 241.0, 231.0, 242.0, 195.0, 206.0, 254.0, 216.0, 245.0, 219.0, 312.0, 214.0, 178.0, 248.0, 259.0, 248.0, 230.0, 253.0, 249.0, 230.0, 258.0, 245.0, 453.0, 156.0, 165.0, 232.0, 232.0, 222.0, 238.0, 256.0, 194.0, 254.0, 185.0, 168.0, 298.0, 233.0, 173.0, 281.0, 273.0, 259.0, 185.0, 325.0, 204.0, 237.0, 235.0, 221.0, 242.0, 183.0, 256.0, 231.0, 149.0, 210.0, 214.0, 252.0, 306.0, 251.0, 267.0, 294.0, 240.0, 205.0, 211.0, 186.0, 197.0, 218.0, 246.0, 190.0, 258.0, 285.0, 195.0, 217.0, 175.0, 217.0, 224.0, 309.0, 201.0, 352.0, 223.0, 260.0, 185.0, 320.0, 246.0, 302.0, 237.0, 216.0, 275.0, 192.0, 242.0, 202.0, 241.0, 309.0, 262.0, 197.0, 209.0, 235.0, 217.0, 241.0, 280.0, 260.0, 265.0, 186.0, 210.0, 222.0, 292.0, 221.0, 161.0, 273.0, 291.0, 212.0, 276.0, 165.0, 276.0, 310.0, 184.0, 186.0, 207.0, 190.0, 217.0, 209.0, 199.0, 202.0, 235.0, 193.0, 207.0, 206.0, 246.0, 140.0, 246.0, 244.0, 268.0, 252.0, 200.0, 175.0, 270.0, 226.0, 238.0, 275.0, 206.0, 250.0, 189.0, 238.0, 167.0, 220.0, 193.0, 308.0, 212.0, 270.0, 262.0, 180.0, 235.0, 189.0, 178.0, 170.0, 202.0, 208.0, 182.0, 215.0, 196.0, 244.0, 190.0, 285.0, 231.0, 286.0, 202.0, 226.0, 297.0, 193.0, 270.0, 216.0, 240.0, 240.0, 188.0, 157.0, 275.0, 204.0, 211.0, 178.0, 268.0, 164.0, 270.0, 207.0, 190.0, 226.0, 257.0, 200.0, 227.0, 273.0, 220.0, 226.0, 155.0, 243.0, 175.0, 208.0, 240.0, 203.0, 223.0, 192.0, 194.0, 263.0, 230.0, 211.0, 282.0, 260.0, 163.0, 315.0, 186.0, 250.0, 155.0, 185.0, 205.0, 252.0, 225.0, 235.0, 240.0, 242.0, 180.0, 195.0, 210.0, 212.0, 254.0, 248.0, 283.0, 186.0, 212.0, 309.0, 308.0, 225.0, 275.0, 154.0, 246.0, 198.0, 208.0, 286.0, 236.0, 214.0, 175.0, 271.0, 208.0, 265.0, 240.0, 212.0, 260.0, 330.0, 185.0, 161.0, 259.0, 220.0, 340.0, 165.0, 220.0, 257.0, 237.0, 254.0, 193.0, 230.0, 203.0, 284.0, 244.0, 240.0, 233.0, 275.0, 223.0, 232.0, 225.0, 190.0, 185.0, 274.0, 212.0, 261.0, 262.0, 231.0, 246.0, 318.0, 176.0, 239.0, 227.0, 262.0, 201.0, 290.0, 215.0, 295.0, 228.0, 286.0, 186.0, 281.0, 204.0, 252.0, 247.0, 220.0, 214.0, 277.0, 238.0, 232.0, 246.0, 227.0, 241.0, 325.0, 224.0, 254.0, 234.0, 210.0, 267.0, 274.0, 262.0, 205.0, 188.0, 263.0, 227.0, 410.0, 223.0, 238.0, 232.0, 350.0, 223.0, 252.0, 257.0, 289.0, 266.0, 296.0, 235.0, 230.0, 231.0, 206.0, 185.0, 223.0, 192.0, 185.0, 181.0, 190.0, 188.0, 232.0, 252.0, 288.0, 222.0, 276.0, 207.0, 266.0, 279.0, 215.0, 342.0, 260.0, 267.0, 209.0, 219.0, 218.0, 358.0, 190.0, 321.0, 170.0, 233.0, 266.0, 228.0, 242.0, 260.0, 237.0, 213.0, 290.0, 199.0, 163.0, 204.0, 254.0, 200.0, 245.0, 255.0, 347.0, 259.0, 228.0, 279.0, 277.0, 256.0, 248.0, 214.0, 244.0, 205.0, 334.0, 246.0, 285.0, 162.0, 270.0, 181.0, 205.0, 189.0, 192.0, 272.0, 167.0, 236.0, 143.0, 200.0, 304.0, 263.0, 230.0, 258.0, 240.0, 210.0, 232.0, 260.0, 212.0, 230.0, 205.0, 206.0, 243.0, 202.0, 200.0, 184.0, 233.0, 203.0, 373.0, 222.0, 316.0, 155.0, 305.0, 164.0, 155.0, 248.0, 185.0, 225.0, 261.0, 273.0, 237.0, 249.0, 275.0, 214.0, 191.0, 212.0, 208.0, 175.0, 227.0, 239.0, 260.0, 202.0, 346.0, 250.0, 250.0, 179.0, 260.0, 202.0, 200.0, 291.0, 174.0, 217.0, 313.0, 240.0, 291.0, 211.0, 304.0, 292.0, 213.0, 223.0, 263.0, 270.0, 172.0, 205.0, 250.0, 195.0, 306.0, 309.0, 262.0, 240.0, 287.0, 202.0, 180.0, 273.0, 235.0, 238.0, 188.0, 199.0, 185.0, 203.0, 266.0, 163.0, 179.0, 190.0, 246.0, 200.0, 325.0, 205.0, 205.0, 298.0, 200.0, 385.0, 277.0, 186.0, 309.0, 242.0, 254.0, 240.0, 245.0, 254.0, 271.0, 268.0, 159.0, 264.0, 217.0, 310.0, 266.0, 232.0, 250.0, 233.0, 215.0, 332.0, 242.0, 153.0, 232.0, 196.0, 193.0, 325.0, 233.0, 213.0, 205.0, 166.0, 259.0, 181.0, 225.0, 226.0, 199.0, 208.0, 296.0, 195.0, 177.0, 214.0, 315.0, 345.0, 262.0, 206.0, 253.0, 160.0, 193.0, 311.0, 254.0, 272.0, 224.0, 198.0, 197.0, 210.0, 246.0, 155.0, 232.0, 119.0, 209.0, 240.0, 264.0, 202.0, 296.0, 275.0, 241.0, 220.0, 203.0, 265.0, 222.0, 214.0, 260.0, 195.0, 253.0, 247.0, 326.0, 239.0, 262.0, 290.0, 232.0, 220.0, 198.0, 221.0, 229.0, 180.0, 213.0, 273.0, 245.0, 271.0, 245.0, 217.0, 256.0, 238.0, 175.0, 171.0, 282.0, 199.0, 260.0, 299.0, 220.0, 257.0, 230.0, 270.0, 280.0, 250.0, 213.0, 283.0, 160.0, 195.0, 169.0, 268.0, 201.0, 232.0, 216.0, 287.0, 228.0, 176.0, 291.0, 210.0, 259.0, 195.0, 247.0, 179.0, 235.0, 238.0, 305.0, 206.0, 234.0, 231.0, 237.0, 239.0, 235.0, 202.0, 226.0, 198.0, 207.0, 257.0, 212.0, 269.0, 227.0, 227.0, 325.0, 220.0, 241.0, 224.0, 236.0, 287.0, 230.0, 194.0, 235.0, 325.0, 214.0, 249.0, 223.0, 302.0, 267.0, 266.0, 199.0, 218.0, 210.0, 207.0, 285.0, 235.0, 196.0, 208.0, 232.0, 215.0, 199.0, 180.0, 261.0, 229.0, 173.0, 241.0, 306.0, 246.0, 207.0, 222.0, 257.0, 240.0, 271.0, 169.0, 214.0, 236.0, 240.0, 216.0, 213.0, 190.0, 261.0, 286.0, 282.0, 245.0, 209.0, 193.0, 230.0, 236.0, 251.0, 266.0, 265.0, 204.0, 252.0, 260.0, 289.0, 287.0, 198.0, 216.0, 233.0, 187.0, 260.0, 187.0, 176.0, 313.0, 207.0, 269.0, 185.0, 196.0]}, {\"label\": \"sysBP\", \"values\": [106.0, 121.0, 127.5, 150.0, 130.0, 180.0, 138.0, 100.0, 141.5, 162.0, 133.0, 131.0, 142.0, 124.0, 140.0, 138.0, 112.0, 122.0, 139.0, 108.0, 148.0, 132.0, 137.5, 102.0, 132.0, 182.0, 130.0, 102.0, 115.0, 150.0, 147.0, 124.5, 160.0, 153.0, 111.0, 116.5, 122.0, 132.0, 206.0, 96.0, 179.5, 119.0, 116.0, 156.5, 112.0, 130.0, 145.0, 116.0, 114.0, 143.5, 115.0, 158.0, 121.0, 157.0, 123.5, 126.5, 136.0, 154.0, 190.0, 107.0, 112.5, 110.0, 116.0, 150.0, 110.0, 138.5, 155.0, 151.0, 152.0, 179.0, 155.0, 138.0, 124.0, 182.0, 113.0, 138.0, 200.0, 124.0, 121.0, 138.0, 132.5, 102.0, 154.0, 126.0, 123.0, 134.0, 180.0, 121.0, 132.5, 141.0, 110.0, 145.0, 100.0, 135.0, 115.0, 138.0, 187.0, 123.0, 139.0, 138.0, 158.0, 127.0, 160.5, 100.0, 112.0, 157.0, 105.0, 112.0, 109.0, 135.0, 158.0, 112.5, 128.0, 118.0, 115.0, 112.0, 106.0, 134.0, 128.0, 121.0, 131.0, 131.0, 124.0, 154.0, 138.0, 100.0, 117.5, 151.0, 136.0, 149.0, 141.0, 153.0, 123.0, 180.5, 130.0, 142.0, 136.5, 212.0, 134.0, 153.0, 150.0, 191.0, 108.0, 121.5, 139.0, 118.0, 102.0, 117.5, 173.0, 109.0, 110.0, 109.0, 144.0, 129.5, 122.0, 110.0, 111.0, 124.0, 158.0, 182.0, 122.0, 117.5, 110.0, 112.0, 128.0, 118.0, 128.0, 158.0, 117.0, 138.0, 125.0, 144.5, 133.0, 109.0, 127.0, 128.0, 106.0, 117.0, 157.0, 170.0, 137.0, 111.0, 110.0, 94.0, 135.0, 144.0, 155.0, 117.5, 128.0, 125.0, 124.0, 166.0, 126.5, 114.0, 123.0, 96.0, 117.5, 124.0, 130.0, 106.0, 160.0, 142.0, 135.0, 177.5, 131.0, 136.5, 128.0, 129.0, 112.5, 159.0, 128.0, 108.0, 155.0, 124.0, 122.0, 129.0, 139.0, 148.0, 134.0, 124.0, 130.5, 107.5, 200.0, 144.0, 109.0, 124.0, 125.0, 189.0, 168.0, 139.0, 108.0, 197.5, 146.0, 137.0, 150.0, 134.0, 107.5, 156.5, 140.0, 134.0, 125.0, 139.0, 174.0, 129.0, 136.0, 127.5, 129.0, 147.0, 127.5, 132.0, 123.0, 100.0, 142.0, 98.0, 105.0, 105.0, 111.0, 126.0, 131.5, 116.0, 125.0, 117.5, 101.0, 130.0, 130.0, 121.0, 158.5, 97.0, 101.0, 97.0, 114.0, 151.5, 110.0, 140.0, 168.0, 157.0, 125.0, 118.0, 148.0, 131.0, 112.0, 133.0, 127.0, 97.5, 125.0, 189.0, 120.0, 101.0, 110.0, 204.0, 145.0, 126.0, 126.5, 143.5, 160.0, 158.0, 105.0, 111.0, 136.0, 144.0, 128.0, 130.0, 110.0, 157.5, 110.0, 106.0, 121.0, 137.0, 140.5, 127.5, 118.0, 171.0, 146.0, 100.0, 118.0, 98.0, 106.0, 130.0, 133.0, 114.0, 128.0, 215.0, 122.0, 159.0, 145.0, 95.0, 156.0, 155.0, 116.0, 122.0, 109.0, 170.0, 123.0, 125.0, 135.0, 122.5, 120.0, 178.0, 124.0, 127.5, 111.0, 146.5, 117.0, 124.0, 134.0, 149.0, 136.5, 122.5, 132.5, 159.0, 113.0, 113.5, 116.0, 119.0, 138.0, 141.0, 137.0, 177.5, 131.0, 156.0, 197.0, 130.0, 111.0, 148.0, 119.0, 90.0, 112.5, 160.0, 110.0, 135.0, 109.5, 96.0, 117.5, 120.0, 165.0, 141.0, 124.0, 113.0, 116.0, 140.0, 107.0, 95.5, 146.0, 130.0, 209.0, 112.5, 115.0, 112.0, 132.0, 107.5, 127.5, 136.5, 129.0, 150.0, 109.0, 124.0, 110.0, 135.0, 146.0, 152.0, 154.0, 125.0, 110.0, 162.5, 134.0, 177.5, 107.0, 150.0, 116.0, 127.0, 125.0, 138.0, 145.0, 145.0, 295.0, 158.0, 125.0, 126.0, 145.0, 120.0, 150.0, 98.0, 130.0, 134.0, 135.0, 134.0, 114.0, 137.0, 151.0, 111.0, 103.0, 155.0, 132.0, 144.0, 108.0, 160.5, 139.0, 134.5, 115.5, 132.0, 155.0, 137.5, 133.0, 135.0, 130.0, 155.0, 122.0, 117.5, 129.0, 148.0, 132.0, 173.0, 119.0, 130.0, 122.5, 105.0, 120.0, 125.0, 189.0, 113.0, 123.0, 145.0, 105.0, 130.0, 171.0, 114.0, 125.0, 131.0, 115.0, 145.0, 110.0, 132.0, 117.0, 112.0, 121.5, 144.0, 114.0, 128.0, 174.5, 140.0, 110.0, 129.0, 130.0, 136.5, 120.0, 122.5, 113.5, 128.0, 116.0, 125.0, 165.0, 108.0, 135.0, 121.0, 133.0, 120.0, 150.0, 148.0, 122.0, 121.5, 163.0, 139.0, 117.0, 146.0, 125.0, 118.5, 142.0, 98.0, 116.0, 185.0, 126.0, 220.0, 115.0, 123.0, 125.0, 119.0, 121.5, 144.0, 120.0, 123.0, 113.0, 103.0, 132.0, 140.0, 164.0, 145.0, 120.5, 145.0, 116.0, 155.0, 98.5, 107.0, 108.0, 127.5, 120.5, 117.5, 161.0, 148.0, 139.5, 127.5, 127.5, 105.0, 180.0, 123.0, 115.0, 96.0, 130.5, 117.0, 168.5, 129.5, 148.0, 134.5, 117.5, 176.0, 111.0, 109.0, 125.0, 141.0, 131.0, 119.0, 123.5, 163.5, 117.0, 127.5, 128.5, 128.5, 134.0, 134.0, 111.0, 128.5, 148.0, 107.0, 129.0, 130.0, 121.0, 112.0, 127.0, 126.5, 138.0, 167.0, 205.5, 150.0, 136.0, 118.5, 112.0, 145.0, 138.0, 115.0, 110.0, 119.5, 119.0, 167.5, 130.0, 136.5, 148.0, 166.0, 144.0, 137.0, 152.5, 127.0, 119.0, 125.0, 126.0, 145.0, 146.0, 132.5, 105.0, 117.0, 186.0, 183.0, 118.0, 110.0, 136.0, 109.0, 135.0, 140.5, 114.0, 148.0, 120.0, 134.0, 134.0, 107.5, 126.0, 127.5, 141.0, 124.0, 141.0, 120.0, 153.5, 134.0, 152.0, 163.5, 135.0, 130.0, 103.0, 117.0, 107.0, 122.0, 155.0, 117.0, 120.0, 131.0, 144.0, 147.5, 183.0, 120.0, 178.0, 128.0, 126.0, 132.0, 127.0, 175.0, 160.0, 119.0, 142.5, 100.0, 192.0, 127.0, 110.0, 129.0, 117.5, 134.5, 131.0, 160.0, 96.5, 107.0, 157.0, 125.0, 180.0, 185.0, 147.0, 123.0, 148.0, 141.0, 133.0, 118.0, 160.0, 114.0, 118.0, 112.0, 150.0, 137.0, 118.5, 126.0, 121.5, 133.0, 159.5, 118.5, 164.0, 118.5, 129.0, 130.0, 177.0, 156.0, 116.0, 117.0, 127.0, 150.0, 162.0, 124.0, 132.0, 130.0, 120.0, 142.0, 125.0, 164.0, 112.5, 108.0, 142.0, 135.0, 111.0, 128.0, 124.0, 129.0, 168.0, 102.5, 110.0, 134.0, 127.5, 122.0, 126.0, 105.0, 147.0, 200.0, 127.0, 128.0, 137.0, 138.0, 133.0, 120.0, 122.0, 121.5, 116.0, 132.0, 131.5, 118.0, 118.5, 114.0, 102.0, 131.0, 119.0, 107.0, 122.5, 131.0, 114.0, 111.0, 118.0, 146.0, 141.0, 107.0, 128.0, 163.0, 136.0, 244.0, 134.0, 113.0, 113.5, 104.0, 135.0, 131.0, 127.5, 122.0, 128.0, 127.5, 153.0, 168.0, 127.5, 134.0, 113.5, 156.0, 112.0, 164.0, 176.0, 121.0, 141.0, 123.0, 152.5, 108.0, 111.0, 126.0, 141.0, 130.0, 108.0, 168.0, 146.0, 128.0, 134.5, 124.5, 213.0, 115.0, 127.0, 129.0, 126.0, 167.5, 108.0, 125.0, 153.0, 117.0, 152.0, 118.0, 120.0, 111.0, 116.0, 115.0, 159.0, 206.0, 123.0, 157.0, 142.0, 106.0, 139.0, 111.0, 151.0, 199.0, 184.0, 129.5, 127.5, 129.0, 133.0, 167.5, 160.0, 127.5, 115.5, 128.0, 118.0, 198.0, 117.5, 127.0, 114.5, 137.5, 151.0, 158.5, 118.0, 160.0, 137.0, 131.5, 123.5, 140.0, 98.0, 109.5, 115.5, 106.0, 122.0, 137.0, 160.0, 134.0, 125.5, 120.5, 131.0, 159.0, 170.0, 124.0, 154.0, 132.0, 111.0, 110.0, 149.0, 135.0, 127.0, 121.0, 115.0, 139.0, 122.0, 113.0, 124.0, 139.0, 118.0, 122.0, 107.5, 125.0, 102.0, 124.0, 206.0, 117.0, 145.0, 107.0, 142.0, 167.0, 142.0, 111.5, 148.0, 133.0, 100.0, 132.0, 139.0, 119.5, 127.0, 147.0, 136.5, 149.0, 155.0, 133.0, 131.5, 117.5, 131.0, 105.5, 138.0, 126.0, 145.0, 122.0, 141.5, 111.0, 142.0, 131.0, 117.0, 143.0, 165.0, 161.5, 122.0, 164.5, 141.5, 124.0, 112.0, 137.0, 163.0, 116.0, 171.5, 150.0, 126.0, 132.5, 146.0, 177.0, 105.0, 108.5, 110.0, 102.0, 129.5, 132.0, 131.0, 146.5, 114.0, 124.0, 153.0, 109.5, 132.0, 131.0, 125.0, 201.0, 120.5, 145.0, 144.0, 127.0, 122.5, 131.0, 118.0, 112.5, 135.0, 118.0, 123.0, 112.0, 137.0, 114.0, 137.0, 125.0, 113.5, 113.0, 114.0, 110.0, 125.0, 131.0, 149.0, 137.0, 105.0, 130.0, 145.0, 148.5, 159.5, 143.5, 140.0, 119.0, 105.5, 127.5, 114.0, 101.0, 133.0, 138.0, 173.0, 112.5, 109.0, 189.0, 141.5, 159.0, 146.0, 140.0, 122.0, 130.0, 125.0, 132.0, 144.0, 133.0, 147.0, 156.0, 174.0, 150.0, 140.0, 129.0, 130.0, 100.0, 113.0, 128.0, 145.0, 172.0, 167.0, 116.0, 122.0, 107.5, 144.0, 119.0, 100.0, 130.0, 116.0, 147.0, 140.0, 114.0, 153.5, 126.0, 138.0, 175.0, 123.0, 165.0, 135.0, 131.0, 145.0, 130.0, 184.0, 135.0, 118.0, 160.5, 114.0, 177.0, 243.0, 178.0, 139.0, 127.0, 184.0, 145.5, 133.0, 187.5, 119.0, 125.0, 165.0, 138.0, 178.0, 138.0, 123.0, 110.0, 122.0, 119.0, 110.0, 155.0, 111.0, 150.0, 116.0, 99.0, 115.0, 181.0, 115.0, 174.0, 96.0, 122.0, 120.5, 127.0, 102.5, 130.0, 124.0, 180.0, 112.0, 133.5, 100.5, 120.0, 124.0, 156.0, 156.5, 140.0, 128.0, 119.0, 130.0, 118.0, 156.0, 148.0, 113.0, 159.0, 127.0, 143.0, 125.0, 122.0, 129.0, 108.5, 162.0, 135.5, 144.0, 123.0, 128.0, 126.5, 131.5, 120.0, 143.0, 128.0, 160.0, 122.0, 97.0, 146.0, 155.0, 128.0, 114.0, 175.0, 125.0, 121.0, 116.0, 117.5, 108.0, 132.5, 108.0, 108.5, 110.0, 140.0, 110.0, 103.0, 115.0, 163.0, 95.0, 134.0, 173.0, 148.0, 131.0, 172.5, 174.0, 125.0, 126.0, 120.0, 137.0, 164.0, 121.0, 132.0, 115.0, 128.0, 108.0, 114.0, 136.0, 127.5, 106.0, 127.0, 126.0, 154.0, 130.0, 124.0, 112.5, 135.0, 140.0, 133.5, 122.0, 120.0, 113.0, 114.0, 128.0, 151.0, 124.0, 115.0, 120.0, 102.0, 121.0, 127.5, 111.0, 112.5, 103.5, 142.5, 110.0, 114.0, 123.0, 114.0, 124.0, 141.5, 119.0, 115.0, 163.0, 120.0, 145.0, 137.0, 127.0, 144.0, 138.0, 149.5, 146.0, 101.0, 133.0, 140.0, 128.0, 106.0, 113.5, 138.0, 135.0, 138.0, 182.5, 109.0, 132.0, 172.5, 121.0, 126.0, 112.0, 121.0, 134.0, 154.0, 125.0, 109.0, 105.0, 115.0, 149.0, 123.0, 149.0, 122.5, 162.0, 129.0, 144.0, 137.0, 122.0, 113.0, 143.0, 133.0, 100.0, 115.0, 142.0, 142.0, 139.0, 131.0, 146.0, 123.0, 118.0, 95.0, 158.5, 142.0, 95.0, 115.0, 115.0, 131.0, 136.0, 123.0, 130.0, 127.5, 130.0, 121.0, 135.0, 145.0, 125.0, 136.5, 115.0, 117.0, 116.0, 165.0, 141.0, 120.0, 110.0, 162.5, 114.0, 127.0, 115.0, 112.0, 118.0, 151.0, 109.0, 119.0, 135.0, 135.0, 100.0, 117.5, 139.0, 132.0, 125.5, 121.0, 160.0, 111.0, 127.0, 134.0, 148.0, 107.5, 125.0, 124.0, 156.0, 128.0, 132.0, 137.5, 137.0, 115.0, 131.5, 117.5, 129.0, 112.0, 132.0, 141.0, 130.5, 122.5, 109.0, 141.0, 126.0, 135.0, 123.0, 105.0, 121.0, 122.0, 127.5, 100.0, 126.0, 129.0, 111.0, 142.5, 122.5, 143.0, 112.5, 107.0, 142.5, 125.0, 146.0, 143.5, 129.0, 132.5, 121.0, 112.5, 129.0, 142.0, 199.0, 134.0, 112.0, 179.0, 125.0, 179.0, 101.0, 104.0, 112.0, 104.0, 138.0, 130.0, 120.0, 124.0, 133.0, 108.0, 129.0, 118.0, 186.5, 131.0, 116.0, 138.5, 120.0, 138.0, 127.5, 145.0, 150.0, 120.0, 117.0, 155.0, 164.0, 122.5, 96.0, 170.0, 173.0, 134.0, 186.0, 154.0, 102.0, 160.0, 103.0, 115.0, 204.0, 114.0, 127.5, 116.0, 131.5, 158.0, 130.0, 123.5, 120.0, 111.0, 112.5, 118.5, 112.5, 140.0, 139.0, 110.0, 217.0, 196.0, 130.0, 146.0, 123.0, 114.0, 176.0, 140.0, 111.0, 156.5, 113.0, 142.0, 167.0, 193.0, 187.0, 107.5, 147.0, 112.5, 196.0, 189.0, 130.0, 126.5, 136.0, 196.0, 112.0, 116.0, 170.0, 190.0, 120.0, 125.0, 104.0, 107.5, 114.0, 125.5, 117.5, 161.0, 114.0, 110.5, 132.5, 122.0, 130.0, 121.5, 129.0, 151.5, 122.0, 110.0, 113.5, 119.0, 154.0, 123.0, 155.5, 122.0, 111.5, 119.0, 101.0, 131.0, 130.0, 127.0, 143.5, 159.0, 121.5, 139.0, 155.0, 115.0, 124.0, 109.0, 145.0, 104.0, 128.0, 114.5, 130.0, 122.0, 115.0, 126.5, 144.0, 120.0, 117.5, 143.5, 115.0, 112.0, 146.0, 92.0, 133.0, 121.0, 119.0, 120.0, 169.0, 134.0, 110.0, 131.0, 117.5, 140.0, 147.5, 110.0, 120.0, 120.0, 133.5, 146.5, 110.0, 120.0, 107.0, 130.0, 146.5, 102.0, 126.5, 146.5, 118.0, 138.5, 166.0, 145.5, 116.5, 142.0, 122.0, 110.0, 119.0, 153.0, 166.5, 135.0, 151.0, 124.0, 119.0, 106.0, 148.0, 124.0, 124.0, 141.0, 122.0, 105.5, 127.0, 120.0, 159.0, 123.0, 130.0, 166.5, 123.0, 104.0, 202.0, 131.5, 110.0, 100.0, 116.0, 132.0, 111.0, 173.0, 177.0, 161.0, 159.0, 117.0, 154.0, 148.0, 123.0, 136.5, 135.0, 109.0, 104.0, 170.0, 150.5, 138.0, 129.0, 124.0, 103.5, 134.0, 158.0, 171.0, 134.0, 110.0, 147.0, 119.5, 150.0, 140.0, 132.0, 123.5, 120.0, 119.0, 138.0, 155.5, 105.0, 132.0, 129.0, 123.0, 97.0, 158.0, 155.0, 112.5, 135.0, 107.0, 135.0, 141.0, 131.0, 135.0, 125.0, 136.5, 158.0, 128.0, 130.0, 100.0, 144.0, 120.0, 129.0, 122.0, 141.0, 102.5, 124.5, 163.0, 115.0, 128.0, 154.0, 129.0, 102.0, 115.0, 150.0, 154.0, 142.5, 121.0, 140.0, 107.0, 156.0, 127.0, 107.5, 121.5, 120.0, 126.5, 104.0, 145.0, 134.0, 105.0, 123.0, 195.0, 151.0, 120.0, 119.5, 157.5, 137.0, 121.0, 114.0, 155.0, 124.0, 119.0, 128.5, 126.0, 130.0, 137.0, 119.0, 124.0, 127.5, 200.0, 147.5, 135.0, 126.0, 144.0, 113.0, 125.0, 146.0, 146.0, 132.0, 120.0, 152.0, 136.5, 112.5, 135.5, 128.0, 113.0, 127.0, 137.5, 112.0, 141.0, 180.0, 107.0, 113.5, 145.0, 110.0, 133.0, 113.0, 119.0, 107.5, 126.0, 118.0, 108.0, 111.5, 127.5, 147.0, 170.0, 130.0, 132.0, 143.0, 116.5, 105.0, 133.5, 129.0, 112.0, 158.0, 150.0, 114.0, 135.0, 111.0, 112.5, 142.0, 129.0, 142.0, 118.0, 155.0, 108.0, 137.5, 122.0, 119.0, 182.0, 150.0, 145.0, 145.0, 134.0, 120.5, 128.0, 121.0, 175.0, 111.0, 111.0, 142.0, 119.5, 105.0, 97.0, 119.0, 139.0, 126.0, 112.0, 171.0, 132.0, 116.0, 112.5, 126.0, 108.0, 126.0, 116.0, 105.0, 115.5, 232.0, 128.5, 119.0, 122.5, 134.0, 173.0, 132.0, 111.5, 85.5, 132.0, 110.0, 134.0, 112.0, 102.0, 191.0, 133.0, 168.0, 148.0, 118.0, 108.0, 128.0, 110.0, 126.0, 141.5, 142.0, 132.0, 150.5, 184.5, 175.0, 95.0, 122.0, 135.0, 145.0, 144.0, 100.0, 118.5, 113.0, 130.0, 150.0, 103.0, 126.0, 100.0, 157.0, 134.5, 130.0, 112.5, 116.0, 105.0, 122.0, 107.5, 120.0, 105.0, 130.0, 146.5, 126.0, 114.0, 112.5, 117.0, 138.5, 120.0, 122.0, 149.0, 120.0, 117.0, 117.5, 124.0, 127.0, 116.0, 112.0, 121.0, 145.0, 95.5, 117.0, 130.0, 152.0, 134.0, 155.0, 141.0, 171.0, 102.0, 113.0, 123.0, 188.0, 107.0, 124.0, 162.5, 104.0, 157.0, 114.0, 119.0, 123.0, 130.0, 120.0, 144.5, 126.5, 119.0, 107.5, 146.0, 113.0, 127.0, 146.0, 137.0, 104.0, 135.0, 167.5, 136.0, 154.0, 141.0, 146.0, 133.0, 134.0, 125.0, 205.0, 169.5, 125.5, 185.0, 120.5, 96.5, 152.0, 130.0, 132.0, 127.0, 129.0, 149.5, 110.0, 124.0, 148.0, 106.0, 126.0, 121.0, 110.5, 146.5, 116.0, 130.0, 110.0, 116.0, 129.0, 115.0, 220.0, 116.0, 116.0, 124.0, 146.0, 127.0, 111.0, 134.0, 182.0, 118.0, 124.0, 150.0, 107.5, 124.0, 210.0, 109.0, 120.0, 132.0, 130.0, 151.0, 184.0, 105.0, 130.0, 134.5, 115.0, 127.0, 97.0, 128.0, 124.0, 114.0, 193.0, 121.5, 120.0, 154.0, 128.0, 115.0, 120.0, 158.0, 120.0, 181.5, 109.0, 115.0, 130.0, 150.0, 154.0, 139.0, 188.5, 127.5, 106.0, 132.5, 120.0, 122.5, 165.0, 116.0, 113.0, 122.5, 142.5, 170.0, 132.5, 118.0, 119.0, 110.0, 112.0, 107.5, 125.0, 111.5, 139.0, 165.0, 145.0, 108.0, 138.0, 116.0, 138.0, 108.0, 108.0, 164.0, 148.0, 131.5, 96.0, 120.0, 114.0, 148.0, 140.0, 120.0, 130.5, 128.5, 116.0, 120.0, 100.0, 109.5, 132.0, 115.0, 139.0, 148.0, 133.0, 124.5, 134.0, 174.0, 110.0, 120.0, 192.0, 109.0, 138.0, 146.0, 176.5, 110.0, 101.0, 148.0, 110.0, 137.0, 110.5, 153.0, 177.0, 127.5, 119.0, 132.0, 133.0, 160.0, 113.5, 149.0, 183.0, 129.0, 116.0, 123.0, 114.0, 199.0, 159.0, 171.0, 197.5, 190.0, 116.0, 116.0, 112.5, 120.0, 116.0, 174.0, 133.0, 107.5, 110.0, 133.0, 116.0, 195.0, 140.0, 145.0, 135.0, 101.0, 143.0, 145.0, 122.0, 111.0, 146.0, 122.0, 120.0, 150.0, 180.0, 109.0, 115.5, 121.0, 132.0, 102.0, 110.0, 115.0, 136.5, 118.0, 144.0, 175.0, 120.0, 146.0, 150.0, 132.0, 125.0, 165.0, 126.0, 105.0, 128.0, 129.0, 132.0, 128.0, 113.0, 134.5, 111.0, 118.0, 150.0, 148.0, 146.0, 176.0, 115.0, 144.0, 133.0, 137.0, 135.0, 145.0, 166.0, 136.0, 121.0, 137.0, 146.0, 132.5, 142.0, 114.0, 108.0, 129.0, 113.0, 137.0, 137.5, 102.0, 137.0, 122.0, 118.5, 110.0, 136.0, 124.0, 105.0, 120.0, 130.0, 136.5, 125.0, 130.0, 123.5, 150.0, 118.0, 102.5, 113.0, 129.0, 94.0, 163.0, 210.0, 132.0, 112.5, 184.5, 141.0, 92.5, 126.0, 172.0, 120.0, 128.0, 110.0, 102.0, 115.0, 132.0, 128.0, 125.0, 127.5, 145.0, 165.0, 127.0, 126.0, 117.5, 160.0, 136.5, 138.0, 127.0, 103.0, 172.0, 129.5, 176.0, 125.0, 116.0, 162.0, 102.0, 136.0, 124.0, 127.0, 115.0, 109.0, 128.0, 202.5, 120.5, 140.0, 145.0, 112.0, 102.0, 156.0, 140.0, 135.0, 120.0, 136.0, 139.0, 154.0, 142.5, 166.0, 128.0, 122.5, 146.0, 136.5, 112.0, 98.0, 130.0, 122.0, 112.5, 131.0, 150.0, 141.0, 166.0, 120.0, 141.0, 120.0, 175.0, 146.0, 138.0, 104.0, 130.0, 137.5, 121.0, 115.0, 140.0, 145.0, 141.0, 124.0, 124.0, 158.0, 117.0, 159.0, 96.0, 169.0, 102.5, 149.0, 100.0, 133.5, 113.0, 114.0, 125.0, 128.0, 110.0, 110.0, 120.0, 110.0, 107.5, 122.0, 112.5, 149.5, 117.5, 159.0, 121.0, 113.0, 140.0, 126.0, 122.0, 110.0, 155.0, 144.0, 122.0, 123.0, 119.0, 182.5, 132.5, 166.0, 126.0, 137.5, 131.5, 123.0, 141.0, 147.5, 154.5, 125.0, 105.0, 122.0, 135.0, 142.5, 119.0, 146.0, 160.0, 109.0, 112.0, 180.0, 115.0, 139.0, 147.0, 175.0, 112.5, 123.0, 116.5, 112.0, 131.0, 122.0, 115.0, 129.0, 165.0, 102.5, 142.0, 114.0, 119.0, 108.0, 105.0, 107.5, 155.0, 144.0, 135.0, 182.0, 129.0, 130.0, 125.0, 137.5, 162.0, 170.0, 133.0, 110.0, 128.0, 129.0, 166.0, 103.0, 141.0, 139.5, 116.0, 191.0, 134.0, 113.0, 110.0, 133.0, 152.5, 132.0, 165.0, 116.0, 123.0, 139.0, 131.0, 121.5, 182.5, 118.0, 105.0, 114.0, 127.0, 121.0, 147.0, 125.0, 118.0, 160.0, 120.0, 114.0, 152.0, 147.5, 143.5, 131.0, 122.5, 111.0, 119.0, 190.0, 145.0, 119.0, 120.0, 151.5, 127.5, 125.5, 83.5, 96.0, 152.0, 161.0, 159.0, 142.0, 137.5, 115.0, 152.5, 131.5, 115.0, 128.0, 98.0, 118.0, 127.0, 146.5, 150.0, 210.0, 117.5, 131.5, 171.0, 158.0, 121.0, 116.0, 110.0, 115.0, 122.0, 115.0, 150.0, 148.0, 124.0, 99.0, 136.5, 122.0, 128.0, 150.0, 144.0, 106.5, 132.0, 121.0, 113.0, 155.0, 130.0, 121.0, 152.0, 143.0, 148.0, 101.0, 142.0, 123.0, 130.0, 177.0, 103.0, 116.0, 140.5, 120.0, 165.0, 140.0, 141.0, 170.5, 127.0, 142.0, 119.0, 108.0, 117.5, 132.0, 131.0, 107.0, 111.0, 156.0, 121.0, 108.0, 126.5, 132.0, 120.0, 107.0, 114.0, 175.0, 150.0, 138.0, 113.5, 132.5, 109.0, 126.0, 134.0, 107.0, 165.0, 111.0, 123.0, 93.0, 123.5, 115.0, 101.0, 171.0, 132.0, 118.5, 133.0, 181.0, 143.0, 102.5, 142.5, 126.0, 113.5, 116.5, 128.0, 138.0, 148.0, 156.0, 142.5, 148.0, 138.0, 149.0, 166.0, 141.0, 111.0, 155.0, 197.0, 164.0, 156.0, 116.0, 146.0, 118.0, 110.0, 122.5, 144.0, 105.0, 121.5, 114.0, 119.0, 102.5, 116.0, 123.0, 114.0, 181.0, 132.0, 129.0, 145.0, 116.0, 107.5, 117.5, 139.0, 135.0, 131.0, 108.0, 138.0, 102.0, 125.0, 126.0, 198.0, 123.0, 135.0, 134.0, 163.0, 119.0, 115.0, 141.0, 114.5, 124.0, 113.5, 131.0, 135.0, 150.0, 126.0, 107.0, 111.0, 135.0, 190.0, 107.0, 136.0, 106.0, 112.0, 125.0, 122.5, 175.5, 96.5, 132.0, 114.0, 130.0, 119.0, 172.0, 118.0, 149.0, 122.0, 126.5, 142.5, 160.0, 103.0, 135.0, 128.0, 140.0, 181.0, 163.5, 122.0, 124.0, 166.0, 102.0, 103.0, 130.5, 113.0, 102.5, 90.0, 109.0, 124.0, 132.5, 171.0, 112.5, 120.0, 133.5, 149.0, 127.5, 204.0, 129.0, 125.0, 120.0, 118.0, 132.5, 120.0, 142.0, 122.0, 137.0, 151.5, 134.0, 132.5, 112.0, 107.5, 127.0, 140.5, 207.5, 115.0, 115.0, 127.0, 102.0, 181.0, 191.0, 138.0, 145.0, 136.0, 110.0, 113.0, 150.5, 132.0, 116.0, 104.0, 121.0, 195.0, 130.5, 137.5, 110.0, 131.0, 147.5, 165.0, 142.0, 177.0, 108.0, 124.0, 145.0, 108.0, 155.0, 105.0, 147.5, 127.5, 136.5, 134.0, 174.5, 126.0, 126.0, 133.5, 125.0, 148.5, 105.0, 158.0, 130.0, 198.0, 152.5, 153.0, 130.0, 107.5, 150.0, 160.0, 98.0, 122.0, 126.0, 121.0, 103.0, 135.0, 127.0, 125.0, 125.0, 150.0, 94.0, 163.5, 126.0, 132.0, 118.5, 105.0, 131.0, 118.0, 131.0, 106.0, 126.0, 122.0, 125.0, 147.0, 148.0, 120.5, 137.0, 109.0, 122.0, 197.0, 147.5, 115.0, 131.0, 125.0, 186.5, 141.0, 108.5, 112.5, 142.0, 114.0, 121.0, 149.0, 124.5, 126.0, 123.0, 107.0, 147.0, 130.0, 153.0, 128.5, 127.5, 193.0, 106.0, 164.0, 154.0, 123.0, 131.0, 148.5, 127.5, 136.0, 130.0, 116.0, 130.0, 114.0, 138.5, 123.0, 127.0, 98.0, 133.0, 196.0, 105.0, 139.0, 111.0, 117.5, 141.0, 158.0, 111.0, 127.5, 147.5, 131.5, 152.0, 127.0, 122.5, 159.0, 152.0, 133.0, 141.5, 114.0, 139.0, 115.0, 127.0, 146.0, 150.5, 162.5, 115.0, 120.0, 130.0, 124.0, 163.5, 117.5, 132.0, 129.5, 163.0, 116.0, 114.5, 179.5, 125.0, 142.5, 126.0, 120.0, 126.0, 134.0, 118.5, 125.0, 160.0, 155.0, 133.0, 137.0, 144.0, 177.0, 136.0, 114.0, 138.0, 140.0, 116.0, 133.0, 140.0, 170.0, 124.0, 136.0, 151.0, 132.0, 107.0, 125.0, 131.0, 122.0, 122.5, 154.0, 103.0, 153.0, 140.0, 108.0, 167.0, 132.0, 115.0, 115.0, 122.0, 140.5, 107.0, 117.5, 136.5, 113.0, 131.0, 119.5, 128.0, 164.0, 152.0, 113.0, 117.5, 151.5, 120.0, 126.0, 148.0, 120.0, 95.5, 116.0, 105.0, 140.0, 124.0, 130.0, 132.0, 104.0, 142.0, 120.0, 128.0, 144.0, 105.0, 140.0, 122.0, 137.5, 127.5, 124.0, 170.0, 138.5, 154.0, 199.5, 141.0, 161.0, 126.0, 111.0, 152.0, 109.0, 128.0, 123.0, 124.0, 152.0, 120.0, 108.0, 132.0, 136.5, 165.0, 128.5, 193.0, 119.0, 117.0, 115.0, 134.0, 131.0, 134.0, 132.5, 133.0, 129.0, 146.0, 135.0, 115.5, 122.5, 123.0, 131.0, 119.0, 129.0, 131.0, 114.0, 110.0, 168.0, 145.0, 143.0, 108.0, 121.0, 122.0, 117.0, 124.5, 127.0, 106.0, 105.5, 135.0, 113.5, 102.0, 118.5, 121.0, 117.0, 115.0, 116.5, 99.0, 115.0, 122.0, 151.0, 142.0, 112.0, 117.0, 123.0, 112.0, 112.5, 164.5, 130.0, 127.0, 142.5, 120.0, 137.0, 124.5, 112.5, 128.0, 119.0, 120.0, 136.5, 101.0, 129.0, 139.0, 127.0, 119.0, 114.0, 110.0, 119.0, 134.5, 124.0, 159.0, 108.5, 119.0, 110.0, 181.0, 143.5, 177.5, 119.0, 125.0, 157.0, 102.0, 111.0, 131.0, 122.0, 124.0, 125.0, 141.0, 141.0, 107.5, 159.0, 143.0, 160.0, 154.5, 133.5, 112.0, 147.5, 123.0, 135.0, 113.0, 168.0, 117.5, 138.0, 195.0, 125.0, 159.0, 126.0, 140.0, 134.5, 115.0, 110.0, 144.5, 149.5, 142.0, 114.0, 150.0, 128.0, 165.0, 102.5, 112.0, 127.5, 143.5, 143.0, 121.5, 120.0, 141.0, 133.0, 102.0, 116.5, 158.0, 168.0, 139.0, 125.0, 112.0, 138.0, 110.0, 113.0, 182.0, 121.0, 130.0, 140.0, 122.5, 111.0, 160.5, 103.0, 118.5, 165.0, 140.0, 132.5, 123.0, 162.0, 132.0, 112.0, 150.5, 153.0, 112.0, 113.0, 108.0, 142.0, 153.0, 130.0, 108.0, 123.0, 167.0, 113.0, 125.0, 129.0, 167.0, 151.0, 127.0, 128.0, 122.0, 119.0, 145.5, 168.5, 165.0, 133.0, 114.0, 115.0, 132.0, 135.0, 101.5, 124.0, 122.0, 112.5, 118.0, 112.0, 148.0, 147.0, 146.0, 147.5, 136.0, 129.0, 174.0, 128.0, 108.0, 126.0, 159.5, 138.0, 125.0, 132.0, 120.0, 156.0, 142.0, 123.0, 135.0, 108.0, 128.0, 135.0, 118.0, 138.0, 128.5, 112.0, 144.5, 158.0, 110.0, 115.0, 127.0, 151.5, 159.0, 158.0, 123.0, 100.5, 166.0, 111.0, 83.5, 248.0, 126.0, 121.0, 111.0, 152.0, 155.0, 108.0, 172.5, 122.0, 163.0, 123.0, 108.0, 112.5, 107.5, 143.0, 129.0, 98.0, 116.0, 114.0, 124.0, 196.0, 160.0, 122.5, 156.0, 126.5, 108.0, 122.0, 176.5, 115.0, 121.0, 131.0, 127.0, 161.5, 100.5, 131.5, 131.5, 125.0, 131.0, 143.5, 136.0, 123.5, 164.0, 133.0, 139.0, 124.0, 139.0, 113.0, 116.0, 182.0, 113.0, 126.0, 112.0, 130.0, 104.0, 106.0, 177.5, 121.0, 134.0, 110.0, 128.5, 115.0, 154.0, 202.0, 151.0, 154.0, 162.0, 117.0, 123.0, 110.0, 117.0, 122.0, 154.0, 106.0, 114.5, 99.0, 99.5, 185.0, 108.0, 121.0, 116.0, 158.0, 85.0, 169.0, 130.0, 117.0, 105.5, 135.0, 146.0, 165.0, 143.0, 176.0, 118.0, 136.0, 117.0, 130.0, 135.0, 122.5, 107.0, 167.5, 122.5, 133.0, 138.0, 101.0, 109.0, 132.0, 123.0, 119.0, 137.0, 130.0, 128.0, 161.0, 120.0, 230.0, 118.0, 143.0, 140.0, 155.0, 153.0, 146.5, 137.5, 138.0, 147.5, 129.0, 101.0, 162.0, 197.0, 133.0, 164.0, 189.0, 125.5, 134.0, 118.0, 142.5, 124.0, 126.0, 136.0, 112.0, 106.0, 118.0, 147.0, 128.0, 142.0, 140.0, 113.0, 151.0, 144.0, 153.0, 146.0, 141.0, 112.5, 100.0, 140.0, 114.0, 155.0, 128.0, 97.0, 112.0, 167.0, 113.0, 166.0, 214.0, 143.0, 134.5, 132.0, 124.0, 159.5, 125.0, 123.0, 117.5, 119.0, 131.0, 123.0, 117.5, 140.0, 116.0, 114.0, 119.0, 125.0, 147.5, 124.5, 111.0, 141.0, 105.0, 127.0, 126.5, 136.5, 145.0, 134.0, 135.0, 145.0, 138.0, 149.0, 170.0, 141.0, 141.0, 142.5, 142.0, 172.5, 128.0, 109.5, 104.0, 144.5, 118.0, 150.0, 158.0, 148.0, 120.0, 155.0, 108.0, 196.0, 116.0, 167.5, 143.0, 96.5, 133.5, 132.0, 124.0, 146.5, 153.0, 122.0, 140.0, 143.0, 145.5, 163.0, 149.0, 134.0, 110.0, 163.0, 113.0, 115.0, 100.5, 158.0, 118.0, 110.0, 122.5, 130.0, 160.0, 118.0, 99.0, 125.0, 106.0, 115.0, 126.0, 120.0, 102.0, 131.0, 113.0, 141.0, 139.0, 101.0, 100.5, 133.0, 131.0, 129.0, 115.0, 137.0, 119.0, 154.0, 136.0, 102.0, 164.0, 170.0, 152.5, 116.0, 113.0, 127.5, 141.5, 110.0, 125.0, 115.0, 137.0, 173.0, 162.5, 105.0, 100.0, 146.0, 148.5, 135.0, 128.0, 119.0, 129.0, 109.0, 115.5, 141.0, 129.0, 170.0, 121.0, 124.0, 100.0, 158.0, 109.0, 99.0, 120.5, 133.0, 130.0, 132.5, 156.5, 131.0, 108.0, 127.0, 111.0, 124.0, 167.0, 111.0, 168.5, 155.5, 107.0, 111.0, 123.5, 120.0, 215.0, 110.0, 192.5, 111.0, 106.0, 149.0, 110.0, 137.0, 172.5, 130.0, 130.0, 124.0, 102.0, 104.5, 133.0, 120.5, 151.0, 169.0, 111.0, 157.0, 147.5, 123.0, 172.0, 148.0, 144.0, 110.0, 147.0, 160.0, 140.0, 120.0, 111.5, 120.0, 117.0, 152.5, 112.0, 106.0, 127.0, 128.0, 165.0, 105.0, 164.0, 119.0, 110.0, 139.0, 110.0, 128.0, 128.0, 150.0, 116.5, 155.0, 173.0, 130.0, 137.0, 112.0, 187.0, 116.0, 139.0, 141.0, 127.5, 173.0, 129.0, 138.5, 130.0, 92.5, 143.0, 114.0, 110.0, 131.5, 151.5, 131.5, 194.0, 170.0, 130.5, 153.0, 132.0, 150.0, 133.0, 130.5, 118.0, 144.0, 121.5, 150.0, 116.0, 126.5, 93.5, 152.0, 132.0, 152.5, 111.0, 124.5, 111.5, 126.0, 137.0, 174.0, 110.0, 150.0, 118.0, 177.5, 117.0, 161.0, 125.0, 125.0, 144.0, 102.5, 129.5, 120.5, 96.0, 112.5, 176.0, 120.0, 146.0, 147.0, 126.0, 169.0, 157.0, 110.0, 125.0, 207.0, 136.5, 145.0, 113.0, 100.0, 129.0, 131.0, 129.0, 101.0, 122.0, 153.0, 118.0, 119.0, 132.5, 111.0, 133.0, 110.0, 165.0, 122.5, 126.0, 142.0, 115.0, 135.0, 141.0, 118.0, 123.0, 118.0, 140.0, 108.0, 129.0, 125.0, 140.0, 107.0, 136.0, 157.0, 147.0, 133.0, 162.5, 130.0, 143.0, 173.0, 108.5, 130.0, 112.0, 112.5, 130.0, 159.0, 185.5, 129.0, 103.0, 126.0, 213.0, 160.0, 175.0, 111.5, 129.5, 124.0, 110.0, 118.0, 148.0, 97.5, 124.0, 104.0, 107.0, 127.0, 115.0, 130.0, 157.0, 192.5, 176.0, 121.0, 112.0, 142.5, 107.0, 116.0, 117.0, 130.0, 133.5, 135.0, 158.0, 140.0, 109.0, 118.0, 136.0, 192.5, 200.0, 115.0, 120.0, 104.0, 116.0, 128.0, 115.0, 187.0, 121.0, 126.0, 143.0, 149.5, 151.0, 116.0, 93.0, 125.0, 121.0, 140.5, 136.0, 152.0, 122.0, 123.0, 134.0, 130.0, 123.0, 142.0, 110.0, 176.0, 104.0, 158.0, 146.5, 139.0, 141.0, 108.0, 142.0, 115.0, 190.0, 149.0, 146.5, 137.0, 122.0, 127.0, 206.0, 108.5, 164.0, 124.0, 155.0, 114.0, 147.5, 125.0, 120.0, 170.0, 97.5, 134.0, 115.0, 128.0, 118.0, 135.0, 118.0, 162.0, 105.0, 131.5, 144.0, 103.0, 128.0, 108.0, 136.0, 127.5, 103.0, 147.0, 157.5, 126.0, 99.0, 125.5, 143.0, 135.0, 109.0, 118.5, 136.0, 130.0, 133.0, 106.0, 180.0, 101.0, 125.0, 154.5, 210.0, 129.5, 107.0, 111.0, 121.5, 132.5, 137.5, 129.0, 121.0, 157.0, 118.5, 137.5, 106.0, 143.0, 110.0, 117.0, 150.0, 101.0, 129.0, 195.0, 179.0, 124.0, 116.0, 170.0, 157.5, 133.0, 115.0, 130.0, 160.5, 146.0, 142.0, 136.0, 103.0, 124.0, 135.0, 126.5, 105.0, 144.0, 141.0, 123.0, 155.0, 125.0, 167.0, 137.5, 125.0, 128.0, 119.0, 188.0, 149.0, 120.0, 137.5, 125.5, 129.5, 190.0, 141.0, 168.0, 179.0, 126.5, 133.5, 141.0, 133.0]}, {\"label\": \"diaBP\", \"values\": [70.0, 81.0, 80.0, 95.0, 84.0, 110.0, 71.0, 71.0, 89.0, 107.0, 76.0, 88.0, 94.0, 88.0, 90.0, 90.0, 78.0, 84.5, 88.0, 70.5, 78.0, 82.0, 90.0, 68.0, 91.0, 121.0, 88.0, 68.0, 85.5, 85.0, 74.0, 92.5, 98.0, 101.0, 73.0, 80.0, 78.0, 83.5, 92.0, 63.0, 114.0, 77.5, 69.0, 92.5, 66.0, 78.0, 82.5, 71.0, 76.0, 81.0, 69.0, 102.0, 79.0, 89.0, 75.0, 80.0, 84.0, 87.0, 99.0, 73.0, 60.0, 67.5, 72.5, 106.0, 76.0, 85.0, 85.0, 101.0, 90.0, 94.0, 110.0, 86.5, 78.0, 101.0, 72.5, 82.0, 104.0, 86.0, 61.5, 89.0, 80.0, 71.5, 80.0, 79.0, 76.5, 80.0, 90.0, 75.0, 87.0, 84.0, 64.0, 77.0, 63.0, 82.0, 79.0, 90.0, 88.0, 69.0, 80.0, 88.5, 105.0, 82.0, 96.0, 68.0, 85.5, 88.0, 75.0, 70.0, 71.0, 97.0, 86.0, 80.0, 77.0, 77.0, 77.5, 73.0, 67.5, 89.0, 64.0, 84.0, 81.0, 81.0, 70.0, 100.0, 82.0, 72.5, 72.5, 95.0, 94.0, 100.0, 86.0, 98.0, 81.0, 106.5, 77.0, 93.0, 76.0, 104.0, 82.0, 80.5, 77.5, 124.5, 81.0, 73.0, 86.0, 86.5, 61.0, 80.0, 89.0, 78.0, 78.0, 77.0, 78.0, 83.0, 80.5, 74.0, 64.0, 76.0, 86.5, 106.0, 83.0, 71.0, 67.0, 60.0, 82.0, 76.0, 77.0, 98.0, 74.5, 97.0, 86.5, 83.5, 92.0, 70.0, 81.0, 87.0, 71.0, 76.0, 82.5, 86.0, 84.0, 68.0, 67.5, 66.5, 91.0, 78.0, 86.0, 72.5, 68.0, 65.0, 84.0, 98.0, 93.0, 85.5, 72.0, 70.0, 77.5, 66.0, 70.0, 82.0, 85.0, 89.0, 92.0, 98.0, 93.0, 99.5, 91.0, 70.0, 79.0, 90.0, 74.0, 74.0, 85.0, 85.0, 84.0, 88.0, 88.0, 90.0, 81.0, 76.0, 82.0, 73.0, 122.5, 84.0, 70.0, 74.0, 80.0, 110.0, 98.0, 90.0, 72.5, 105.0, 89.0, 91.0, 81.0, 97.0, 72.5, 86.0, 93.0, 98.0, 85.0, 98.0, 84.5, 83.0, 87.0, 86.0, 80.0, 92.0, 91.0, 78.0, 79.0, 74.5, 85.0, 64.0, 57.0, 69.0, 68.0, 72.0, 76.0, 72.0, 76.0, 80.0, 63.0, 80.0, 80.0, 86.0, 81.0, 65.0, 61.0, 64.0, 77.0, 88.0, 65.0, 94.0, 98.0, 101.0, 78.0, 81.0, 85.0, 82.0, 74.0, 78.0, 70.0, 57.5, 79.0, 111.0, 72.0, 67.0, 78.5, 94.0, 99.0, 87.0, 78.5, 89.0, 82.0, 101.0, 75.0, 60.0, 66.0, 98.0, 86.0, 86.0, 69.0, 104.5, 67.0, 71.0, 83.0, 89.5, 90.0, 83.0, 79.0, 112.0, 95.0, 70.0, 78.0, 57.0, 66.0, 89.0, 80.0, 67.0, 85.0, 105.0, 85.0, 102.0, 89.0, 55.0, 93.0, 82.5, 87.0, 74.0, 73.0, 98.0, 89.0, 80.0, 85.0, 66.5, 80.0, 88.5, 87.0, 86.5, 67.0, 83.0, 76.0, 74.0, 86.5, 96.0, 79.0, 77.5, 66.0, 82.0, 68.0, 75.0, 67.0, 75.0, 84.0, 91.0, 86.0, 120.0, 86.0, 100.0, 118.0, 80.0, 72.0, 106.0, 82.0, 60.0, 70.0, 120.0, 80.0, 74.0, 72.0, 64.0, 80.0, 80.0, 105.0, 89.0, 76.0, 80.0, 81.0, 87.0, 68.0, 59.0, 91.0, 70.0, 133.0, 65.0, 75.0, 76.0, 82.0, 80.0, 83.5, 77.5, 81.0, 85.0, 71.0, 83.0, 70.0, 89.0, 104.0, 99.0, 95.5, 74.0, 64.0, 92.5, 86.0, 95.0, 66.0, 96.5, 74.5, 74.0, 80.0, 90.0, 100.0, 85.0, 135.0, 90.0, 80.0, 81.0, 90.0, 80.0, 101.0, 64.5, 72.0, 78.0, 93.0, 89.5, 81.0, 76.0, 95.0, 68.5, 71.0, 93.0, 82.0, 88.0, 71.0, 98.5, 81.0, 89.0, 62.0, 84.0, 84.0, 89.5, 84.0, 95.0, 78.0, 100.0, 72.5, 65.0, 80.0, 96.0, 84.5, 117.0, 80.0, 82.0, 76.0, 74.0, 73.0, 83.0, 121.0, 75.0, 83.0, 102.0, 59.5, 85.0, 101.0, 79.0, 83.0, 88.0, 72.5, 74.0, 71.0, 92.0, 65.0, 83.0, 78.0, 96.5, 80.0, 94.0, 103.0, 82.0, 75.0, 76.0, 85.0, 83.5, 79.0, 75.0, 75.5, 93.0, 72.0, 80.0, 77.0, 66.0, 89.0, 82.0, 91.0, 74.0, 96.5, 100.0, 76.0, 82.5, 78.0, 92.0, 80.0, 94.0, 74.0, 85.5, 87.0, 65.0, 73.0, 114.0, 82.0, 118.0, 72.5, 88.0, 73.5, 82.0, 74.0, 78.0, 70.0, 90.0, 75.0, 73.0, 91.0, 73.0, 88.0, 79.0, 78.0, 91.0, 86.0, 92.5, 69.5, 61.0, 70.0, 72.5, 75.0, 77.5, 96.0, 98.0, 89.0, 80.0, 87.5, 68.0, 101.0, 92.5, 71.0, 67.0, 85.5, 75.0, 108.0, 93.0, 108.0, 78.5, 67.5, 99.0, 73.0, 71.0, 80.0, 93.0, 85.5, 77.0, 81.0, 103.0, 90.0, 81.0, 83.0, 74.5, 84.0, 81.0, 70.0, 82.0, 91.0, 68.5, 73.0, 86.5, 75.0, 76.0, 78.0, 92.5, 91.0, 89.5, 104.5, 92.0, 92.0, 73.0, 68.5, 81.0, 79.0, 70.0, 78.0, 85.5, 80.0, 95.0, 78.0, 85.5, 92.5, 102.0, 80.0, 79.0, 82.0, 81.0, 83.0, 74.0, 84.0, 95.0, 93.5, 91.0, 70.0, 68.0, 102.0, 93.0, 73.0, 67.5, 86.0, 72.5, 85.5, 84.0, 79.0, 84.0, 80.0, 80.0, 90.5, 67.5, 78.0, 80.0, 99.0, 84.0, 79.0, 80.0, 105.0, 79.0, 99.0, 93.0, 87.0, 77.5, 68.0, 74.0, 73.0, 78.0, 92.5, 73.0, 75.0, 74.0, 84.0, 92.5, 114.5, 74.0, 91.0, 76.0, 80.0, 78.0, 76.5, 94.0, 108.0, 82.0, 90.0, 73.0, 102.0, 75.0, 62.5, 85.0, 75.0, 83.0, 87.0, 92.0, 71.0, 66.5, 94.0, 89.0, 108.0, 100.0, 94.0, 69.0, 85.5, 102.0, 83.0, 84.0, 100.0, 66.5, 82.0, 62.5, 101.0, 81.0, 82.5, 82.0, 74.0, 76.0, 91.0, 69.0, 107.0, 82.0, 90.0, 92.0, 110.0, 104.0, 78.5, 80.0, 79.0, 90.0, 87.5, 86.5, 91.0, 82.0, 70.0, 93.0, 72.5, 94.5, 82.5, 66.0, 82.0, 79.0, 70.0, 82.0, 79.0, 86.0, 82.0, 65.0, 78.5, 87.0, 85.0, 70.0, 85.0, 84.0, 90.0, 140.0, 75.0, 91.0, 96.5, 83.0, 80.0, 73.0, 82.0, 78.0, 79.0, 84.0, 78.5, 66.0, 80.5, 70.5, 69.0, 82.0, 85.0, 76.5, 67.5, 80.0, 83.0, 62.0, 86.0, 88.0, 81.0, 73.0, 83.0, 85.0, 99.0, 124.0, 92.0, 77.0, 74.0, 76.0, 82.0, 79.0, 75.0, 73.0, 86.5, 83.5, 75.0, 102.0, 81.0, 91.0, 73.0, 98.0, 69.0, 85.5, 97.0, 80.0, 83.0, 73.5, 90.0, 72.0, 61.0, 85.0, 92.0, 82.5, 77.0, 102.0, 89.0, 77.0, 87.0, 82.0, 94.5, 81.0, 76.0, 92.0, 82.0, 91.5, 66.0, 75.0, 94.0, 71.0, 103.0, 74.0, 90.0, 67.5, 82.0, 80.0, 115.0, 98.0, 71.0, 99.0, 74.0, 70.5, 88.0, 70.0, 96.0, 83.0, 109.0, 87.0, 80.0, 90.0, 86.0, 102.5, 85.0, 75.0, 68.0, 85.0, 77.0, 107.0, 67.5, 86.0, 62.5, 77.5, 98.0, 107.0, 84.0, 97.0, 82.5, 92.0, 84.0, 82.0, 66.0, 67.0, 65.5, 79.0, 81.0, 88.0, 109.0, 98.0, 86.0, 67.5, 74.0, 109.0, 100.0, 90.0, 100.0, 75.0, 72.0, 77.0, 81.0, 82.5, 89.0, 67.0, 82.0, 88.0, 80.0, 80.0, 86.0, 92.0, 77.5, 76.0, 71.0, 85.0, 64.0, 85.0, 104.0, 67.0, 94.0, 73.5, 94.0, 96.5, 82.5, 70.0, 81.0, 88.0, 71.0, 86.0, 84.0, 74.0, 83.0, 71.5, 95.0, 90.0, 74.0, 84.0, 84.0, 77.5, 88.0, 67.0, 86.0, 84.0, 90.0, 83.0, 91.0, 71.0, 90.0, 88.0, 80.0, 98.0, 115.0, 95.0, 66.5, 93.5, 98.0, 82.0, 77.0, 97.0, 105.0, 62.0, 105.5, 97.0, 68.0, 90.0, 88.0, 103.5, 74.0, 63.5, 60.0, 72.0, 92.5, 85.0, 80.0, 82.0, 77.0, 70.0, 93.0, 69.0, 67.0, 79.0, 83.0, 93.0, 84.0, 90.0, 86.0, 70.0, 82.5, 81.0, 79.0, 76.5, 91.0, 78.0, 75.0, 66.0, 87.0, 81.0, 76.0, 71.0, 66.5, 76.5, 78.0, 72.5, 87.0, 87.0, 73.0, 99.0, 65.0, 77.5, 90.0, 90.0, 94.0, 89.0, 80.0, 75.0, 64.5, 79.5, 71.0, 72.0, 72.5, 92.0, 102.0, 64.5, 74.0, 103.0, 88.5, 64.0, 77.0, 84.0, 87.5, 80.0, 80.5, 79.0, 99.0, 88.0, 96.0, 90.0, 112.0, 84.0, 88.0, 82.0, 84.0, 60.0, 68.0, 84.5, 77.0, 84.0, 107.0, 69.0, 73.0, 65.0, 91.0, 73.0, 65.0, 80.0, 79.0, 86.0, 90.0, 81.0, 103.5, 86.0, 76.0, 107.5, 69.0, 91.0, 94.5, 84.0, 87.5, 94.0, 106.0, 80.0, 76.5, 109.0, 64.0, 96.0, 142.5, 103.0, 80.0, 77.0, 90.0, 87.5, 87.0, 85.5, 76.0, 86.0, 96.0, 92.0, 106.0, 105.0, 85.5, 69.0, 82.0, 76.0, 78.0, 85.0, 81.0, 88.0, 75.0, 67.0, 77.0, 90.0, 75.0, 110.0, 61.0, 72.0, 85.5, 82.0, 67.5, 80.0, 81.0, 109.5, 74.5, 76.0, 66.0, 86.0, 70.0, 92.0, 105.0, 88.0, 69.0, 84.0, 68.0, 78.0, 90.0, 100.0, 77.0, 88.0, 93.0, 101.0, 92.0, 70.0, 89.0, 71.5, 99.0, 80.0, 85.0, 71.0, 76.0, 67.5, 89.0, 74.0, 104.0, 74.0, 96.0, 74.0, 63.0, 95.0, 102.0, 90.0, 85.0, 95.0, 94.0, 85.5, 77.0, 80.0, 64.0, 87.5, 70.0, 75.0, 70.0, 85.0, 73.0, 61.0, 81.0, 105.0, 58.0, 90.0, 59.0, 99.0, 87.0, 98.0, 100.0, 89.0, 82.0, 72.5, 75.0, 81.0, 74.0, 87.0, 70.0, 87.0, 67.0, 70.0, 70.0, 85.0, 78.0, 81.0, 70.0, 98.0, 86.0, 78.0, 73.5, 90.0, 108.0, 87.5, 76.0, 84.0, 80.0, 72.0, 94.0, 94.0, 83.0, 82.0, 77.0, 66.5, 73.0, 80.0, 79.0, 70.0, 66.5, 97.5, 73.0, 73.0, 80.0, 84.0, 83.0, 95.0, 73.0, 83.0, 86.0, 68.0, 89.0, 81.0, 76.0, 88.0, 87.0, 78.0, 89.0, 70.0, 83.0, 83.0, 77.0, 67.5, 74.0, 88.0, 76.0, 86.0, 88.0, 73.0, 86.0, 116.5, 79.0, 73.0, 82.0, 81.0, 87.0, 90.0, 85.0, 72.0, 70.0, 76.0, 100.0, 78.0, 90.0, 82.5, 98.0, 86.0, 90.0, 85.0, 94.0, 79.0, 87.0, 88.0, 64.0, 77.0, 85.5, 88.0, 86.0, 85.0, 86.0, 87.0, 78.0, 57.0, 100.5, 92.0, 65.0, 74.0, 76.0, 89.0, 90.0, 72.0, 72.0, 77.5, 82.0, 82.0, 80.0, 82.0, 80.0, 83.0, 77.5, 81.0, 66.0, 80.0, 98.0, 74.0, 70.0, 105.0, 64.0, 80.0, 69.0, 65.0, 82.0, 97.5, 81.0, 76.0, 70.0, 89.0, 60.0, 70.5, 93.0, 75.5, 94.0, 81.0, 95.0, 80.0, 79.0, 95.0, 93.0, 70.0, 82.0, 90.0, 96.0, 71.0, 94.0, 92.0, 92.5, 70.0, 85.0, 72.0, 78.0, 66.5, 80.0, 92.0, 98.0, 82.5, 70.0, 75.0, 66.0, 88.0, 69.0, 70.0, 88.0, 70.0, 87.0, 68.0, 85.0, 61.0, 63.0, 79.0, 77.0, 94.5, 80.0, 73.0, 93.5, 85.0, 78.0, 90.0, 82.0, 85.0, 66.0, 60.0, 81.0, 108.0, 106.0, 92.0, 80.0, 107.0, 85.0, 100.0, 67.0, 57.0, 71.0, 66.0, 92.0, 85.0, 72.0, 72.0, 69.0, 81.0, 80.0, 82.0, 97.0, 99.0, 83.0, 87.5, 72.0, 91.0, 85.5, 100.5, 90.0, 80.0, 78.0, 90.0, 102.0, 76.5, 62.0, 103.0, 89.0, 80.0, 101.0, 106.0, 65.0, 94.0, 73.0, 84.0, 118.0, 78.0, 90.0, 82.0, 85.0, 94.0, 80.0, 84.5, 80.0, 95.5, 75.5, 84.5, 70.0, 93.0, 90.0, 65.0, 112.0, 116.0, 75.5, 89.0, 83.0, 77.0, 89.0, 94.0, 78.0, 85.0, 66.5, 76.0, 94.0, 104.0, 95.5, 75.0, 97.0, 72.5, 120.0, 87.0, 85.0, 85.0, 76.0, 119.0, 79.0, 82.0, 118.0, 97.0, 70.5, 88.0, 73.0, 70.0, 68.0, 82.5, 80.0, 100.5, 79.0, 66.0, 82.5, 81.0, 85.5, 72.5, 85.0, 96.5, 82.0, 74.0, 72.5, 76.0, 98.0, 82.0, 99.5, 84.0, 74.0, 84.0, 62.0, 80.0, 86.0, 86.0, 109.0, 91.5, 69.0, 75.0, 81.0, 61.0, 78.0, 71.0, 100.0, 69.0, 92.5, 80.0, 94.0, 82.0, 80.0, 90.0, 90.0, 76.0, 73.5, 90.0, 71.0, 63.0, 91.0, 69.0, 86.0, 86.0, 72.0, 87.0, 85.0, 90.0, 76.0, 87.0, 71.0, 93.0, 95.0, 69.0, 70.0, 78.0, 81.5, 77.5, 71.5, 81.0, 74.0, 85.0, 80.0, 64.0, 84.0, 97.0, 76.0, 99.0, 93.0, 82.0, 82.0, 54.0, 70.0, 71.0, 85.5, 75.0, 107.0, 80.0, 102.0, 69.0, 78.0, 72.0, 89.0, 87.0, 78.0, 83.5, 70.0, 57.5, 74.0, 77.5, 95.0, 86.0, 80.0, 106.5, 75.0, 65.0, 132.0, 82.0, 70.0, 64.0, 79.5, 82.0, 79.0, 102.0, 124.0, 97.0, 105.0, 70.0, 82.0, 74.0, 90.0, 86.5, 83.0, 66.5, 64.0, 105.0, 98.0, 78.0, 87.0, 77.0, 60.0, 84.0, 93.0, 89.0, 84.0, 73.0, 88.0, 73.0, 99.0, 88.0, 94.0, 83.0, 70.0, 80.0, 90.0, 100.5, 65.0, 82.0, 83.5, 79.0, 64.0, 98.0, 89.0, 75.5, 83.0, 67.5, 80.0, 87.0, 92.0, 88.0, 79.0, 89.0, 70.0, 71.0, 83.0, 70.0, 79.0, 82.5, 72.0, 69.0, 92.0, 60.0, 99.0, 82.0, 79.5, 72.0, 94.0, 85.5, 60.0, 70.0, 86.0, 110.0, 104.5, 78.0, 88.0, 73.0, 91.0, 83.0, 66.5, 74.5, 67.5, 84.0, 73.5, 87.0, 82.0, 72.5, 78.0, 90.0, 88.0, 67.0, 79.0, 78.0, 91.0, 78.0, 87.0, 93.5, 77.0, 82.0, 82.0, 80.0, 81.0, 85.0, 75.5, 76.0, 91.5, 120.0, 87.5, 76.5, 76.0, 91.0, 70.0, 90.0, 82.0, 94.5, 81.0, 85.0, 104.0, 92.0, 67.0, 90.0, 78.0, 77.0, 82.0, 87.0, 74.0, 78.0, 114.0, 76.0, 70.0, 85.0, 74.0, 78.0, 65.0, 73.5, 65.0, 73.0, 84.0, 73.0, 72.5, 70.0, 96.0, 110.0, 75.0, 82.0, 95.0, 77.5, 67.5, 80.0, 91.5, 82.0, 90.0, 80.0, 68.0, 82.0, 79.5, 70.0, 79.0, 88.0, 84.0, 84.0, 92.5, 65.5, 101.5, 82.0, 81.0, 92.0, 92.0, 90.0, 94.0, 84.0, 73.5, 83.5, 85.5, 85.0, 70.0, 85.0, 83.0, 69.5, 72.5, 67.0, 73.0, 80.0, 89.5, 75.0, 87.0, 82.0, 86.0, 75.0, 79.0, 82.0, 72.0, 74.0, 70.0, 65.0, 136.0, 73.5, 80.0, 80.0, 88.0, 96.0, 85.0, 77.0, 51.0, 81.0, 80.0, 80.0, 62.0, 66.5, 81.0, 77.0, 94.0, 99.0, 80.0, 70.5, 82.0, 80.0, 91.0, 93.0, 91.0, 82.0, 97.0, 83.0, 80.0, 59.0, 74.5, 80.0, 92.0, 82.0, 80.0, 88.0, 79.0, 87.0, 93.0, 72.5, 91.0, 70.0, 97.0, 92.5, 87.0, 77.5, 70.0, 59.0, 81.5, 74.0, 80.0, 72.5, 80.0, 82.0, 78.0, 75.0, 75.0, 77.0, 90.0, 73.0, 74.0, 86.0, 83.5, 84.0, 72.5, 77.0, 79.0, 72.0, 73.5, 70.0, 86.0, 64.0, 78.0, 72.0, 98.0, 87.0, 84.0, 90.0, 120.0, 69.0, 69.0, 74.0, 128.0, 76.0, 81.0, 93.5, 72.0, 98.0, 80.0, 74.0, 94.5, 86.0, 83.0, 88.5, 76.0, 85.0, 75.0, 76.0, 73.0, 79.0, 98.5, 93.0, 61.0, 87.0, 102.5, 88.0, 96.0, 98.0, 77.0, 83.0, 85.0, 82.0, 92.5, 104.5, 80.0, 107.5, 76.0, 67.0, 97.0, 88.0, 85.5, 86.0, 94.0, 85.0, 69.0, 74.0, 92.0, 59.5, 87.0, 79.5, 69.0, 80.0, 69.0, 95.0, 78.0, 77.0, 76.5, 72.0, 96.0, 79.0, 83.0, 82.0, 90.0, 90.0, 72.0, 83.0, 111.0, 79.5, 86.0, 88.0, 67.5, 79.0, 120.0, 75.0, 74.0, 81.0, 80.0, 92.0, 102.0, 73.0, 91.0, 91.0, 80.0, 86.0, 62.0, 83.0, 81.0, 70.0, 63.0, 79.0, 80.0, 98.0, 79.0, 69.0, 75.0, 96.0, 80.0, 102.5, 73.0, 71.0, 75.0, 101.0, 84.0, 80.0, 106.5, 72.5, 80.0, 85.0, 83.0, 68.5, 95.0, 75.0, 68.0, 80.0, 74.5, 92.0, 80.0, 76.0, 83.5, 79.0, 70.0, 68.0, 82.0, 67.0, 80.0, 84.0, 92.5, 75.0, 97.0, 68.0, 72.0, 74.0, 62.0, 111.0, 108.0, 91.0, 67.0, 60.0, 73.5, 103.0, 86.0, 78.0, 90.0, 87.5, 67.0, 80.0, 70.0, 72.0, 86.0, 75.0, 80.0, 75.0, 96.0, 66.5, 88.0, 90.0, 70.0, 70.0, 105.0, 77.0, 79.0, 92.0, 115.0, 71.0, 69.0, 91.0, 78.0, 84.0, 69.0, 100.0, 97.0, 83.5, 76.0, 92.0, 77.5, 96.0, 72.0, 95.0, 108.0, 86.0, 85.5, 92.0, 68.0, 114.0, 92.0, 97.0, 125.0, 100.0, 88.5, 81.0, 80.0, 83.5, 77.5, 100.0, 84.0, 72.0, 66.0, 87.0, 83.0, 108.0, 85.0, 85.0, 75.0, 71.0, 81.0, 88.0, 78.0, 71.0, 78.0, 87.5, 80.0, 93.0, 100.0, 70.0, 79.0, 78.5, 85.0, 67.0, 72.5, 80.0, 85.0, 72.0, 79.0, 78.0, 81.0, 106.0, 101.0, 81.0, 75.0, 106.0, 86.0, 72.5, 81.5, 74.0, 96.0, 83.0, 81.0, 84.0, 70.0, 84.0, 94.0, 92.5, 80.0, 87.0, 75.0, 88.0, 87.0, 80.0, 86.0, 72.5, 96.0, 96.0, 88.0, 88.0, 91.0, 92.0, 85.0, 76.0, 62.0, 89.0, 61.0, 95.0, 88.5, 61.0, 83.5, 95.0, 76.0, 68.0, 88.0, 78.0, 69.0, 87.0, 85.0, 97.0, 82.0, 87.0, 78.0, 89.0, 70.0, 64.5, 79.0, 81.0, 62.0, 102.0, 130.0, 91.0, 75.0, 110.5, 82.5, 70.0, 85.0, 105.0, 82.0, 87.0, 73.0, 68.0, 79.0, 76.0, 74.0, 88.0, 77.5, 89.0, 99.0, 82.5, 82.5, 77.5, 97.5, 87.0, 91.0, 68.5, 76.5, 95.0, 82.5, 113.0, 94.0, 82.0, 85.0, 69.0, 86.0, 72.5, 78.0, 76.0, 75.0, 91.0, 85.0, 78.0, 100.0, 88.0, 67.0, 72.0, 69.0, 97.5, 90.0, 72.0, 94.0, 74.0, 97.0, 83.5, 101.0, 85.0, 78.5, 92.0, 87.5, 66.0, 74.0, 84.0, 80.0, 68.0, 84.0, 95.5, 84.5, 85.0, 81.0, 77.5, 81.0, 82.0, 98.5, 89.0, 72.0, 80.0, 72.5, 74.0, 70.0, 84.0, 81.0, 105.0, 85.0, 78.0, 94.0, 83.0, 102.0, 59.0, 117.0, 65.0, 82.0, 61.5, 80.0, 70.0, 82.0, 79.0, 82.0, 79.0, 71.0, 83.5, 70.0, 80.0, 81.0, 85.0, 93.0, 80.0, 95.0, 83.0, 82.5, 86.0, 73.0, 86.0, 71.0, 100.0, 90.0, 81.0, 80.0, 78.5, 97.0, 85.5, 90.0, 84.0, 94.0, 89.0, 76.5, 81.5, 87.5, 104.0, 85.0, 71.0, 87.0, 85.0, 95.0, 72.0, 98.0, 90.0, 75.0, 78.0, 108.0, 80.0, 96.0, 102.0, 85.0, 85.0, 77.5, 83.0, 77.0, 71.0, 78.0, 84.0, 86.0, 99.0, 72.5, 92.0, 85.0, 75.0, 74.0, 70.0, 66.0, 99.0, 82.0, 95.0, 102.0, 84.0, 82.5, 72.5, 82.5, 91.0, 104.0, 77.0, 72.0, 89.0, 73.0, 71.0, 78.0, 86.0, 87.0, 72.0, 106.0, 88.0, 84.0, 70.0, 89.0, 85.0, 80.0, 90.0, 69.0, 70.0, 67.0, 79.0, 86.5, 103.0, 83.0, 70.0, 72.5, 79.5, 61.0, 86.5, 85.0, 79.0, 82.0, 73.5, 78.0, 88.0, 93.0, 90.0, 74.0, 77.5, 81.0, 80.0, 130.0, 88.0, 82.0, 75.0, 79.0, 90.0, 80.5, 58.0, 67.0, 73.0, 90.0, 87.0, 84.0, 81.0, 75.0, 88.0, 81.0, 69.0, 87.0, 73.0, 80.0, 68.0, 71.0, 94.0, 135.0, 77.5, 83.0, 84.0, 109.0, 75.0, 69.0, 80.0, 63.5, 76.0, 81.0, 89.0, 95.0, 75.0, 60.0, 84.0, 83.0, 90.0, 95.0, 85.0, 75.0, 90.0, 82.0, 74.0, 105.0, 80.0, 78.0, 95.0, 76.0, 70.0, 68.0, 80.0, 77.0, 77.5, 101.0, 73.0, 68.0, 92.5, 84.0, 112.0, 92.0, 115.0, 100.5, 84.0, 82.5, 72.0, 76.0, 83.5, 85.0, 80.0, 74.0, 76.0, 86.0, 82.0, 73.0, 67.0, 94.0, 77.5, 68.0, 74.0, 114.0, 85.0, 78.0, 65.5, 87.0, 73.0, 80.0, 87.0, 65.0, 94.5, 60.0, 82.0, 71.0, 79.0, 72.0, 71.0, 118.0, 87.0, 72.0, 88.0, 97.5, 93.0, 71.0, 100.0, 85.5, 61.0, 72.5, 76.0, 98.0, 94.0, 100.0, 83.5, 98.0, 78.0, 103.5, 98.0, 82.5, 80.0, 71.0, 109.0, 94.0, 91.0, 74.0, 89.0, 85.0, 70.0, 67.5, 79.0, 60.0, 76.5, 80.0, 69.0, 69.0, 86.0, 86.0, 80.0, 74.0, 80.0, 90.0, 88.0, 81.0, 70.0, 77.5, 82.0, 87.5, 90.0, 73.0, 85.0, 59.0, 84.0, 93.0, 108.0, 82.0, 97.5, 79.0, 87.0, 82.0, 75.0, 85.0, 76.0, 83.0, 80.0, 79.0, 82.0, 88.0, 76.0, 82.0, 72.0, 77.5, 110.0, 82.0, 85.5, 75.0, 71.0, 80.0, 82.0, 113.0, 72.5, 95.0, 64.0, 79.0, 86.0, 82.0, 71.0, 88.0, 85.0, 82.0, 86.5, 99.0, 64.5, 87.0, 89.0, 88.0, 107.0, 102.0, 78.0, 73.0, 89.0, 66.5, 66.0, 82.0, 62.0, 66.5, 70.0, 70.0, 72.5, 73.0, 95.0, 73.5, 62.0, 89.5, 89.0, 76.0, 96.0, 79.0, 86.0, 76.0, 70.5, 87.0, 72.0, 89.0, 82.5, 90.0, 103.0, 89.0, 69.0, 78.0, 73.5, 80.0, 89.0, 118.0, 75.0, 81.0, 80.0, 59.5, 101.0, 97.0, 88.0, 91.0, 87.0, 79.0, 83.0, 94.0, 88.0, 72.0, 73.0, 70.0, 110.0, 86.0, 80.0, 77.0, 81.5, 100.0, 88.0, 88.0, 111.0, 75.0, 72.0, 67.0, 74.0, 92.5, 72.5, 97.5, 80.0, 87.0, 85.5, 101.5, 88.0, 77.0, 86.0, 86.0, 88.0, 85.0, 88.0, 84.0, 106.0, 105.0, 85.0, 90.0, 75.0, 84.0, 105.0, 53.0, 83.0, 75.0, 85.5, 67.5, 88.0, 80.0, 86.0, 80.0, 105.0, 62.0, 87.0, 80.0, 86.0, 81.0, 65.0, 87.0, 80.0, 94.0, 64.0, 86.0, 88.5, 79.0, 89.0, 103.0, 80.5, 79.0, 70.0, 82.0, 91.0, 97.0, 71.0, 84.0, 80.0, 99.0, 76.0, 73.0, 77.5, 93.0, 79.0, 77.0, 86.0, 80.0, 80.0, 78.0, 77.0, 98.0, 72.5, 89.0, 75.0, 83.0, 109.0, 65.0, 113.0, 99.0, 83.0, 92.0, 100.0, 81.5, 75.0, 86.5, 64.0, 82.0, 75.0, 77.5, 72.0, 83.0, 67.0, 92.0, 101.0, 70.0, 96.0, 73.0, 90.0, 92.0, 80.0, 73.0, 92.0, 92.0, 82.5, 93.0, 69.0, 77.0, 90.0, 74.0, 89.0, 108.5, 80.0, 83.0, 78.0, 72.0, 87.0, 95.0, 99.5, 71.0, 79.5, 73.5, 79.0, 97.0, 85.0, 86.0, 83.0, 97.0, 86.0, 70.0, 97.0, 87.0, 80.0, 80.0, 78.0, 76.0, 84.0, 74.5, 76.0, 90.0, 105.0, 82.0, 81.0, 91.0, 101.0, 84.0, 83.0, 99.0, 94.0, 79.0, 94.0, 78.0, 89.0, 72.5, 84.0, 106.5, 86.0, 73.0, 83.0, 87.0, 82.0, 76.5, 92.0, 71.0, 100.0, 87.0, 72.0, 109.0, 80.0, 81.0, 81.0, 76.5, 89.0, 73.5, 76.0, 81.0, 81.0, 93.0, 87.0, 84.0, 98.0, 89.0, 81.0, 72.0, 95.0, 81.0, 79.0, 90.0, 66.5, 70.0, 81.5, 69.0, 94.0, 80.0, 87.0, 80.0, 74.0, 91.0, 80.0, 80.0, 92.0, 86.0, 88.0, 81.0, 88.5, 82.5, 80.0, 107.0, 85.5, 91.0, 107.0, 84.0, 103.0, 85.0, 71.0, 102.0, 69.0, 82.0, 70.0, 92.0, 92.0, 78.0, 73.0, 81.0, 84.0, 85.0, 73.0, 95.0, 80.0, 77.0, 80.0, 93.0, 85.0, 92.0, 97.5, 93.0, 84.0, 92.0, 80.0, 85.0, 73.0, 75.0, 80.0, 81.0, 81.0, 81.0, 78.0, 70.0, 100.0, 85.0, 84.0, 75.0, 82.0, 80.0, 73.0, 84.5, 81.0, 72.0, 74.0, 95.0, 77.0, 70.5, 73.0, 85.0, 78.0, 70.0, 87.0, 62.0, 79.0, 75.0, 74.0, 94.0, 66.0, 78.0, 85.0, 74.5, 77.5, 102.0, 80.0, 88.5, 85.0, 80.0, 82.0, 72.0, 60.0, 86.5, 65.0, 77.5, 87.0, 59.0, 85.0, 79.0, 76.5, 75.0, 80.0, 60.0, 82.5, 87.0, 75.5, 100.0, 73.5, 62.5, 67.0, 112.5, 85.0, 120.0, 80.0, 75.0, 96.0, 74.5, 78.0, 52.0, 68.0, 80.0, 75.0, 82.0, 87.0, 70.0, 100.0, 87.0, 87.0, 93.0, 92.0, 83.0, 92.5, 76.0, 88.0, 77.0, 103.0, 82.5, 80.0, 110.0, 83.0, 102.0, 84.0, 94.0, 80.0, 78.0, 80.0, 91.5, 86.0, 90.0, 82.0, 74.0, 86.5, 84.0, 66.0, 75.5, 75.0, 93.0, 90.0, 81.5, 72.0, 92.0, 93.0, 73.0, 81.0, 105.0, 92.0, 84.0, 72.0, 70.0, 80.0, 65.0, 78.0, 86.0, 84.0, 87.0, 94.0, 87.0, 80.0, 106.5, 67.0, 71.0, 108.0, 89.5, 55.0, 76.0, 97.5, 88.0, 63.5, 87.0, 106.0, 83.0, 82.0, 70.5, 92.0, 87.0, 80.0, 65.0, 75.0, 100.0, 70.0, 77.5, 83.0, 96.0, 102.0, 79.5, 90.0, 80.0, 66.0, 92.5, 97.0, 86.0, 85.5, 72.0, 67.0, 89.5, 86.0, 67.0, 80.0, 70.0, 60.0, 80.0, 61.0, 89.0, 94.0, 92.0, 90.0, 90.0, 86.0, 97.0, 87.0, 77.0, 81.0, 93.5, 96.0, 72.0, 77.0, 72.5, 105.0, 66.0, 79.0, 85.0, 81.0, 83.5, 85.0, 68.0, 72.0, 87.5, 78.0, 95.0, 108.0, 74.0, 80.0, 79.0, 110.0, 90.0, 74.0, 92.0, 69.0, 107.0, 79.0, 55.0, 130.0, 73.0, 79.0, 72.5, 70.0, 90.0, 70.0, 112.5, 81.0, 94.0, 81.0, 73.0, 62.5, 71.0, 82.5, 87.0, 60.0, 76.0, 72.0, 89.0, 109.0, 98.0, 85.0, 95.0, 75.5, 75.0, 81.0, 92.0, 65.0, 69.0, 79.0, 77.0, 96.0, 66.0, 83.0, 77.0, 76.0, 83.0, 77.5, 90.0, 78.0, 119.0, 82.0, 81.0, 84.0, 81.5, 87.0, 77.0, 110.0, 74.0, 71.0, 67.0, 74.0, 76.0, 77.0, 110.0, 78.0, 78.0, 77.5, 80.0, 72.0, 96.0, 124.0, 85.0, 87.0, 109.0, 78.5, 82.0, 83.0, 72.0, 85.0, 80.0, 65.0, 77.0, 62.0, 66.0, 95.0, 70.0, 82.0, 67.0, 89.0, 70.0, 111.0, 84.5, 86.0, 67.0, 88.0, 89.0, 100.0, 96.0, 109.0, 74.0, 94.0, 81.5, 94.0, 84.0, 75.0, 69.0, 92.5, 80.0, 72.0, 87.0, 75.0, 78.5, 78.0, 66.0, 67.0, 79.0, 89.0, 78.0, 85.0, 75.0, 110.0, 86.5, 75.0, 71.0, 79.0, 102.5, 79.0, 82.5, 72.0, 95.0, 80.0, 66.0, 85.0, 72.0, 89.0, 89.0, 121.0, 82.0, 93.0, 92.0, 85.0, 82.0, 52.0, 95.5, 78.0, 48.0, 71.0, 100.0, 78.0, 84.0, 92.5, 68.0, 89.0, 88.0, 102.5, 86.0, 93.0, 71.0, 76.0, 90.0, 82.0, 92.5, 82.0, 63.0, 73.0, 92.0, 73.0, 90.0, 94.0, 88.0, 90.5, 91.0, 80.0, 82.5, 75.0, 73.0, 75.0, 75.0, 81.0, 74.0, 72.5, 84.0, 70.0, 75.0, 65.0, 79.0, 88.0, 86.5, 56.0, 84.0, 77.0, 83.0, 79.0, 78.0, 95.0, 86.5, 86.0, 92.0, 94.0, 96.0, 118.0, 90.0, 92.0, 82.0, 88.0, 85.0, 81.0, 69.0, 78.0, 88.0, 73.0, 84.0, 102.0, 91.5, 84.0, 90.0, 70.0, 102.0, 83.0, 110.0, 93.0, 62.5, 85.5, 81.0, 84.0, 81.0, 100.0, 78.0, 95.0, 92.0, 94.0, 112.5, 85.0, 74.0, 67.5, 101.0, 75.5, 77.0, 66.0, 97.0, 71.0, 76.0, 84.0, 71.5, 92.0, 75.5, 59.0, 88.0, 73.0, 83.0, 82.0, 89.0, 64.5, 87.0, 83.0, 81.0, 85.0, 59.0, 62.0, 90.0, 81.0, 81.0, 90.0, 86.0, 78.0, 92.0, 87.0, 68.0, 97.0, 107.0, 90.0, 71.0, 68.0, 82.5, 91.0, 84.0, 80.0, 75.0, 87.0, 89.0, 104.0, 67.5, 70.0, 86.0, 94.0, 86.5, 82.0, 77.0, 93.0, 74.0, 82.5, 93.0, 94.0, 113.0, 81.0, 78.0, 72.0, 90.0, 61.0, 59.0, 80.0, 87.0, 71.0, 87.0, 93.0, 81.0, 70.0, 66.5, 72.0, 69.0, 101.0, 72.0, 98.5, 98.0, 74.0, 79.0, 80.5, 80.0, 110.0, 70.0, 113.0, 74.0, 60.0, 91.0, 70.0, 75.0, 100.5, 62.0, 80.0, 76.0, 56.0, 65.0, 86.5, 76.0, 90.0, 82.0, 80.0, 98.0, 87.5, 88.0, 87.0, 89.5, 96.0, 61.0, 65.0, 85.0, 99.0, 77.0, 67.0, 80.0, 73.0, 108.0, 71.0, 73.0, 85.0, 81.0, 95.0, 70.0, 100.0, 73.0, 68.0, 75.0, 65.0, 88.0, 79.0, 98.0, 74.0, 80.5, 88.0, 94.0, 79.0, 65.0, 97.0, 72.0, 85.0, 89.0, 81.0, 98.5, 97.0, 85.0, 86.0, 66.5, 96.0, 80.0, 76.0, 77.5, 71.0, 84.0, 111.0, 100.0, 82.0, 80.0, 95.0, 99.0, 86.0, 63.0, 79.0, 80.0, 74.5, 91.0, 84.0, 81.0, 58.0, 96.5, 88.0, 92.5, 79.0, 75.5, 72.0, 86.0, 83.0, 130.0, 68.0, 82.0, 81.0, 100.0, 76.0, 90.0, 87.0, 87.0, 87.0, 63.5, 100.0, 80.0, 66.0, 76.5, 78.0, 87.0, 82.5, 90.0, 79.0, 91.0, 94.0, 80.0, 80.0, 122.5, 85.0, 99.0, 68.0, 66.5, 77.0, 76.0, 84.0, 68.5, 78.0, 80.0, 87.0, 86.0, 82.5, 60.5, 84.0, 72.0, 95.0, 77.5, 67.0, 87.0, 74.0, 100.0, 76.0, 73.0, 82.0, 74.0, 88.0, 72.0, 85.0, 71.0, 92.0, 70.0, 73.0, 94.0, 101.0, 90.0, 92.5, 85.0, 87.0, 106.0, 68.0, 86.5, 67.0, 80.0, 80.0, 110.0, 115.5, 83.0, 62.0, 75.0, 133.0, 105.0, 101.0, 74.0, 93.5, 77.0, 73.0, 79.5, 95.0, 62.5, 89.0, 64.0, 69.0, 81.0, 80.0, 80.0, 80.0, 115.0, 109.0, 82.0, 72.0, 95.0, 81.0, 71.5, 78.5, 86.0, 97.5, 83.0, 103.0, 93.0, 79.0, 79.0, 80.5, 125.0, 125.0, 72.5, 81.0, 69.0, 76.0, 81.0, 71.0, 95.0, 81.0, 74.0, 88.0, 84.0, 87.5, 74.0, 62.5, 80.0, 79.0, 83.0, 80.0, 82.0, 67.5, 77.0, 75.0, 84.0, 80.0, 86.0, 74.5, 98.0, 79.0, 102.5, 92.0, 74.0, 80.0, 68.0, 68.0, 73.0, 88.0, 83.0, 97.5, 82.0, 72.0, 81.0, 116.0, 70.5, 102.0, 84.0, 80.0, 80.0, 87.5, 82.0, 77.5, 101.0, 60.0, 96.0, 78.0, 86.0, 80.0, 82.0, 81.0, 110.0, 82.0, 84.0, 96.5, 70.0, 74.0, 78.0, 93.0, 75.0, 72.5, 85.0, 83.0, 84.0, 62.0, 85.5, 81.0, 97.5, 72.0, 77.5, 86.0, 81.5, 78.0, 58.0, 108.0, 70.0, 87.0, 88.0, 127.5, 80.0, 75.0, 70.0, 57.0, 85.0, 89.0, 95.0, 83.0, 86.0, 70.0, 87.5, 63.0, 79.0, 70.0, 74.0, 89.0, 69.0, 80.0, 105.0, 96.0, 78.0, 80.0, 105.0, 105.0, 83.0, 60.0, 80.0, 100.0, 84.0, 72.0, 77.0, 67.5, 76.5, 80.0, 88.0, 70.0, 88.0, 95.0, 78.5, 82.0, 80.0, 94.0, 84.5, 84.5, 82.0, 74.0, 110.0, 98.0, 80.0, 85.0, 84.0, 88.0, 130.0, 81.0, 97.0, 92.0, 80.0, 83.0, 98.0, 86.0]}, {\"label\": \"BMI\", \"values\": [26.97, 28.73, 25.34, 28.58, 23.1, 30.3, 33.11, 21.68, 26.36, 23.61, 22.91, 27.64, 26.31, 31.31, 21.35, 22.37, 23.38, 23.24, 26.88, 21.59, 34.17, 25.11, 21.96, 24.18, 26.09, 32.8, 30.36, 28.15, 27.57, 20.77, 24.71, 38.53, 40.11, 28.93, 27.78, 26.87, 23.28, 26.21, 21.51, 20.68, 30.47, 23.59, 22.15, 27.1, 23.47, 19.66, 28.27, 20.35, 17.61, 25.65, 22.29, 25.45, 23.58, 24.25, 19.64, 24.88, 26.84, 28.6, 29.64, 23.01, 20.13, 23.51, 28.61, 33.8, 22.16, 34.55, 24.04, 45.8, 30.58, 26.52, 32.51, 22.49, 26.03, 29.35, 22.73, 23.89, 38.46, 28.56, 25.42, 18.23, 24.8, 27.38, 28.55, 28.57, 29.33, 26.64, 23.72, 22.36, 27.98, 29.66, 20.68, 24.23, 23.25, 26.76, 26.93, 27.54, 40.52, 29.62, 25.75, 23.62, 24.37, 32.23, 26.4, 18.38, 21.93, 25.09, 26.12, 20.2, 29.29, 36.81, 24.45, 29.44, 25.95, 25.87, 25.1, 24.81, 21.84, 24.07, 25.54, 28.69, 26.4, 24.03, 25.63, 20.5, 24.27, 24.3, 26.82, 38.39, 32.99, 31.61, 25.97, 22.02, 26.49, 28.92, 26.24, 23.37, 31.13, 25.32, 28.34, 23.36, 21.83, 28.35, 24.19, 20.41, 30.77, 26.15, 23.5, 28.04, 42.0, 21.19, 24.43, 24.12, 22.51, 28.86, 21.66, 25.26, 19.24, 27.23, 26.51, 27.61, 25.45, 27.27, 22.54, 23.67, 26.79, 18.99, 23.95, 24.53, 16.75, 30.76, 23.25, 28.96, 28.82, 20.12, 28.63, 22.9, 22.89, 30.85, 22.91, 29.06, 29.51, 18.76, 23.59, 22.93, 21.48, 23.75, 27.53, 27.3, 25.81, 20.65, 20.27, 26.04, 26.79, 28.57, 22.37, 22.72, 23.71, 29.29, 29.17, 23.05, 21.95, 29.56, 31.3, 29.44, 27.61, 27.78, 27.35, 23.29, 28.62, 26.73, 24.85, 22.53, 27.06, 26.89, 27.15, 26.32, 24.04, 29.35, 21.99, 18.06, 20.12, 21.97, 44.27, 21.81, 20.59, 21.9, 19.36, 28.77, 29.77, 30.96, 24.85, 36.29, 24.59, 27.33, 25.43, 38.14, 22.32, 24.15, 27.78, 24.26, 27.07, 29.06, 24.22, 25.49, 31.24, 24.11, 29.29, 25.23, 23.78, 21.94, 25.82, 20.51, 30.28, 22.02, 21.1, 24.1, 23.86, 25.14, 22.19, 26.22, 22.16, 26.74, 21.5, 28.39, 35.2, 29.77, 30.24, 21.17, 23.94, 23.09, 24.16, 21.61, 19.97, 27.87, 21.05, 33.11, 26.41, 17.44, 29.69, 24.22, 31.23, 26.72, 22.36, 23.22, 29.64, 19.88, 24.33, 21.35, 29.04, 25.2, 26.5, 22.5, 29.91, 28.47, 27.59, 23.06, 23.85, 18.48, 20.2, 28.78, 26.09, 27.09, 26.89, 22.86, 19.26, 21.51, 25.38, 25.77, 25.82, 21.31, 21.21, 25.08, 23.27, 22.73, 24.53, 24.01, 26.46, 22.7, 21.86, 28.04, 29.0, 22.91, 24.06, 32.35, 25.02, 23.68, 27.91, 29.5, 23.85, 15.54, 24.68, 26.98, 31.35, 29.02, 27.17, 19.98, 27.23, 27.18, 31.82, 28.28, 23.87, 25.62, 26.64, 25.94, 24.76, 29.75, 24.35, 21.34, 26.84, 31.42, 25.13, 29.73, 18.58, 25.34, 27.45, 29.25, 25.52, 39.88, 26.23, 23.02, 27.51, 21.93, 21.79, 22.98, 24.25, 19.2, 20.62, 35.58, 24.03, 30.18, 22.36, 18.59, 36.11, 24.01, 31.07, 25.01, 25.84, 27.61, 21.61, 27.72, 21.08, 25.94, 26.72, 24.35, 30.77, 27.48, 31.16, 20.53, 22.54, 25.13, 27.65, 26.62, 26.57, 22.53, 21.1, 27.9, 25.71, 25.04, 29.6, 29.46, 30.02, 21.08, 25.71, 23.45, 25.94, 28.15, 25.11, 27.22, 19.82, 27.38, 21.51, 19.56, 26.26, 24.03, 38.82, 29.15, 26.75, 29.35, 25.72, 27.16, 23.74, 21.14, 26.76, 26.8, 31.69, 21.91, 27.51, 22.26, 29.17, 24.04, 24.4, 23.09, 28.87, 24.19, 20.47, 25.84, 31.16, 24.91, 23.48, 30.1, 29.93, 24.25, 22.67, 26.55, 28.66, 24.89, 22.78, 19.77, 23.06, 30.84, 27.08, 29.63, 24.79, 34.84, 27.17, 20.57, 24.33, 24.56, 37.41, 22.29, 24.64, 30.92, 30.55, 28.07, 23.88, 16.59, 22.55, 26.85, 19.98, 22.42, 21.8, 26.47, 24.42, 22.36, 26.29, 32.58, 26.6, 36.62, 29.82, 22.18, 16.69, 26.39, 25.79, 21.33, 23.09, 24.56, 19.63, 30.36, 21.96, 26.27, 29.23, 20.81, 23.29, 29.07, 25.74, 20.27, 24.85, 24.12, 26.84, 23.27, 28.83, 37.48, 26.97, 27.42, 22.89, 25.83, 32.53, 20.87, 24.01, 27.01, 23.87, 24.22, 30.22, 32.49, 20.68, 28.04, 27.05, 26.98, 21.93, 24.44, 21.66, 24.5, 27.61, 30.74, 19.53, 25.16, 22.54, 23.81, 17.81, 28.35, 19.64, 23.65, 20.56, 24.29, 24.3, 27.29, 23.63, 25.63, 29.38, 22.11, 22.35, 23.3, 24.42, 29.23, 24.58, 24.23, 19.53, 21.48, 26.67, 27.8, 18.21, 30.78, 23.47, 23.62, 19.27, 20.99, 26.98, 25.23, 31.96, 29.04, 27.91, 26.89, 27.08, 20.39, 26.81, 20.56, 27.49, 22.54, 23.17, 18.99, 27.6, 23.47, 19.11, 29.86, 21.73, 26.03, 22.89, 25.35, 25.94, 25.83, 32.19, 25.68, 26.24, 26.25, 23.88, 23.1, 28.38, 24.58, 28.57, 31.39, 31.67, 27.73, 28.36, 20.56, 26.58, 29.32, 25.81, 21.6, 25.92, 24.87, 22.02, 18.64, 21.45, 23.17, 27.47, 23.09, 26.97, 21.5, 23.06, 28.96, 24.48, 25.88, 23.28, 28.59, 21.24, 26.28, 26.59, 23.74, 31.44, 29.98, 27.77, 27.43, 25.48, 27.05, 25.94, 20.67, 26.45, 24.79, 25.05, 24.95, 31.63, 31.68, 31.6, 24.75, 21.8, 21.51, 19.78, 18.92, 23.84, 24.59, 18.7, 28.82, 30.93, 22.72, 29.25, 26.48, 28.87, 32.49, 22.32, 23.1, 21.67, 29.84, 22.92, 28.56, 26.14, 22.56, 44.09, 22.26, 23.8, 25.86, 25.88, 22.28, 33.38, 25.61, 26.03, 16.87, 33.32, 27.98, 23.59, 22.69, 28.3, 22.7, 24.01, 26.17, 22.19, 24.9, 20.5, 24.56, 19.7, 21.03, 28.96, 21.85, 24.83, 27.18, 23.59, 23.42, 27.01, 18.98, 20.63, 28.47, 33.47, 24.86, 28.91, 15.96, 25.82, 26.56, 19.64, 23.09, 26.95, 26.79, 27.93, 24.35, 24.69, 22.17, 23.81, 25.01, 25.04, 25.16, 27.5, 28.46, 24.24, 26.79, 25.26, 27.27, 26.45, 20.87, 32.26, 22.34, 25.09, 26.37, 28.49, 25.75, 24.06, 43.3, 20.55, 25.59, 23.38, 30.64, 25.01, 23.76, 24.15, 26.11, 29.21, 26.77, 21.02, 26.91, 32.36, 24.79, 33.36, 24.25, 30.46, 22.45, 25.4, 21.14, 31.16, 21.67, 23.09, 27.26, 19.42, 20.64, 24.71, 21.17, 21.02, 19.61, 32.17, 20.68, 21.03, 19.93, 25.75, 22.12, 26.46, 22.73, 25.13, 30.61, 23.39, 30.38, 25.16, 25.13, 28.78, 30.93, 24.07, 18.84, 33.19, 28.95, 27.98, 22.3, 23.63, 22.91, 21.51, 22.89, 43.69, 28.56, 18.55, 26.39, 27.47, 24.94, 31.76, 22.36, 28.58, 25.84, 24.27, 24.54, 24.35, 29.53, 28.57, 23.1, 25.27, 22.01, 32.73, 26.42, 23.03, 21.34, 22.66, 31.11, 32.66, 27.23, 20.56, 28.74, 23.65, 23.72, 23.71, 20.24, 25.35, 24.61, 22.73, 20.56, 29.16, 25.29, 20.15, 31.5, 27.05, 26.6, 23.33, 20.89, 25.32, 24.87, 20.79, 21.93, 28.62, 27.35, 20.34, 27.1, 25.31, 31.31, 26.69, 28.3, 20.94, 22.88, 25.07, 23.48, 20.39, 26.48, 22.48, 29.76, 42.53, 27.78, 26.57, 22.89, 24.54, 31.27, 29.59, 26.82, 24.07, 20.67, 26.24, 24.53, 28.46, 32.67, 25.46, 22.02, 28.23, 23.61, 26.26, 28.59, 23.39, 32.32, 24.03, 21.35, 26.62, 22.89, 23.64, 29.91, 26.15, 22.36, 28.86, 23.09, 31.1, 25.09, 21.02, 28.3, 25.67, 31.82, 23.85, 28.92, 28.76, 28.5, 26.53, 25.45, 24.43, 29.94, 19.42, 36.21, 25.41, 32.4, 25.09, 23.14, 30.63, 20.34, 26.65, 30.4, 27.06, 19.78, 31.78, 27.13, 20.17, 29.01, 24.25, 27.76, 20.19, 27.73, 32.52, 24.54, 24.77, 29.11, 28.04, 19.44, 34.25, 32.0, 29.04, 24.06, 24.04, 24.39, 23.26, 25.23, 23.38, 24.08, 34.99, 26.03, 32.04, 27.8, 28.28, 25.61, 29.34, 17.38, 23.08, 25.91, 24.48, 30.04, 25.05, 23.94, 25.57, 23.48, 27.55, 22.69, 26.61, 27.22, 27.23, 23.48, 26.72, 24.58, 24.5, 25.68, 25.46, 21.19, 19.47, 27.22, 26.26, 24.89, 21.67, 23.31, 25.96, 25.77, 23.8, 26.18, 20.33, 25.85, 28.27, 26.45, 26.69, 26.28, 25.83, 26.37, 24.81, 28.35, 24.28, 23.13, 27.22, 22.85, 24.38, 27.91, 23.95, 24.56, 23.58, 34.56, 24.77, 23.9, 24.58, 24.53, 25.16, 28.5, 30.42, 25.92, 22.73, 25.98, 24.71, 27.63, 29.66, 29.69, 23.35, 33.49, 26.67, 19.81, 25.56, 21.65, 24.17, 24.1, 24.96, 24.22, 30.18, 23.25, 28.59, 29.01, 29.47, 26.21, 23.45, 26.84, 22.81, 25.97, 18.98, 26.97, 36.52, 28.58, 22.01, 23.9, 38.88, 25.23, 23.48, 28.33, 22.32, 32.51, 28.49, 24.62, 19.68, 30.39, 26.03, 23.88, 30.06, 25.33, 21.67, 30.07, 24.45, 28.23, 24.68, 26.97, 24.49, 25.99, 22.16, 32.52, 33.03, 23.06, 22.35, 26.82, 18.52, 22.39, 28.68, 24.49, 27.99, 31.74, 24.19, 21.3, 30.85, 27.04, 21.16, 25.25, 21.5, 26.04, 23.37, 25.77, 25.18, 26.77, 22.85, 24.69, 33.82, 21.44, 27.57, 28.25, 25.94, 21.18, 24.24, 32.84, 29.34, 20.66, 30.7, 31.34, 24.72, 23.48, 22.16, 25.74, 28.3, 28.78, 27.66, 26.98, 28.87, 26.56, 26.33, 20.12, 29.85, 23.01, 28.89, 24.66, 26.56, 23.66, 24.38, 32.15, 28.68, 29.69, 29.29, 28.52, 22.48, 26.18, 23.63, 32.02, 22.92, 28.3, 20.24, 28.41, 21.84, 23.18, 22.41, 31.37, 21.68, 35.11, 27.99, 26.73, 26.54, 26.47, 26.83, 24.8, 21.18, 26.36, 20.55, 29.76, 20.82, 25.9, 24.79, 26.02, 19.84, 23.56, 34.4, 27.82, 24.73, 21.85, 25.13, 26.91, 24.96, 26.67, 22.36, 32.19, 27.66, 29.45, 21.26, 24.69, 24.56, 25.65, 23.51, 31.48, 22.91, 28.92, 32.27, 28.9, 21.85, 29.38, 27.29, 23.08, 24.17, 29.94, 27.67, 34.53, 23.1, 27.39, 30.93, 26.74, 30.27, 25.05, 24.35, 24.77, 28.88, 19.57, 22.24, 24.16, 30.73, 25.37, 25.5, 21.74, 20.41, 26.18, 24.74, 23.88, 25.63, 22.53, 29.03, 20.74, 20.52, 22.87, 20.53, 27.18, 24.01, 27.6, 24.39, 23.05, 29.36, 28.56, 29.43, 33.65, 21.01, 24.16, 30.91, 22.05, 33.49, 28.53, 24.5, 25.04, 21.35, 35.2, 29.86, 21.31, 23.64, 26.78, 20.66, 24.01, 24.89, 19.05, 20.27, 26.59, 24.5, 21.48, 30.06, 20.0, 35.99, 30.24, 21.99, 22.7, 24.94, 24.09, 25.24, 26.83, 22.32, 26.65, 29.17, 23.84, 21.8, 23.43, 24.1, 20.55, 26.26, 27.04, 21.56, 24.12, 27.8, 19.39, 25.86, 24.39, 24.57, 27.22, 25.48, 23.6, 22.78, 22.88, 23.28, 19.83, 18.43, 29.51, 19.78, 26.77, 29.8, 18.87, 27.77, 24.12, 32.07, 29.77, 26.56, 30.46, 20.51, 23.53, 29.82, 30.69, 27.86, 21.82, 25.38, 24.46, 30.35, 25.73, 27.33, 21.12, 26.36, 24.38, 27.52, 35.85, 24.94, 23.87, 28.27, 26.11, 22.62, 28.36, 23.38, 27.01, 22.52, 23.09, 23.29, 18.65, 26.36, 21.85, 22.68, 25.15, 22.18, 26.0, 29.0, 23.98, 33.66, 23.05, 16.92, 26.22, 26.33, 20.05, 20.86, 22.69, 22.18, 23.19, 38.75, 30.39, 26.13, 44.55, 21.34, 21.64, 22.73, 20.86, 17.11, 20.84, 28.32, 20.55, 25.13, 19.34, 22.34, 25.68, 26.51, 29.41, 30.47, 31.19, 21.68, 25.1, 22.01, 20.02, 22.91, 27.34, 22.35, 25.17, 22.15, 30.42, 24.5, 24.51, 19.38, 31.6, 29.25, 29.77, 28.9, 26.71, 20.68, 29.4, 21.03, 26.08, 24.83, 22.81, 24.63, 24.05, 24.79, 25.17, 23.24, 25.33, 25.71, 29.42, 22.69, 24.04, 22.71, 28.69, 29.0, 23.64, 29.6, 29.7, 25.99, 32.41, 19.94, 21.01, 24.49, 30.39, 20.82, 25.46, 20.69, 26.37, 28.18, 23.08, 21.57, 23.69, 24.99, 24.72, 31.64, 23.1, 29.56, 19.03, 24.49, 35.22, 21.0, 30.11, 33.45, 26.1, 23.29, 24.81, 23.7, 22.72, 23.2, 25.13, 25.41, 21.51, 25.63, 24.09, 21.27, 27.61, 26.98, 23.09, 31.61, 30.29, 26.04, 21.79, 22.33, 27.49, 32.35, 29.47, 34.95, 27.63, 25.09, 24.6, 24.47, 25.46, 25.05, 20.72, 32.43, 27.12, 23.72, 25.82, 31.71, 25.96, 24.33, 23.75, 30.14, 25.82, 27.64, 27.6, 30.63, 25.03, 25.09, 26.0, 22.17, 19.09, 22.15, 29.64, 21.27, 22.01, 24.41, 24.17, 28.7, 23.16, 19.78, 19.88, 26.01, 32.93, 18.23, 24.36, 23.84, 33.97, 22.34, 23.48, 19.42, 24.71, 23.78, 21.47, 24.56, 23.22, 20.23, 21.05, 24.19, 28.06, 22.01, 26.92, 22.92, 39.64, 28.16, 21.1, 21.34, 25.4, 18.7, 29.82, 22.29, 26.59, 19.27, 23.06, 26.0, 23.37, 20.93, 25.64, 34.13, 26.68, 23.66, 24.99, 23.76, 23.21, 27.97, 28.6, 30.18, 25.59, 27.51, 29.13, 27.82, 22.9, 20.49, 27.87, 21.14, 19.87, 24.77, 28.72, 23.22, 27.26, 26.4, 36.46, 30.06, 18.52, 27.82, 26.84, 24.44, 24.81, 24.91, 24.79, 26.0, 26.79, 32.4, 23.45, 24.66, 20.27, 26.11, 23.54, 22.18, 23.07, 25.95, 23.72, 23.48, 29.86, 26.67, 27.56, 22.16, 28.06, 21.41, 23.98, 25.49, 33.54, 21.15, 23.53, 28.82, 21.19, 23.05, 30.23, 25.01, 26.42, 23.48, 20.4, 32.91, 26.46, 27.18, 29.51, 26.23, 17.61, 28.34, 20.52, 27.78, 22.9, 19.5, 31.67, 22.67, 24.17, 23.48, 22.58, 28.41, 24.38, 30.0, 24.87, 22.91, 31.84, 26.98, 25.03, 25.05, 35.11, 34.59, 23.33, 24.59, 26.38, 25.35, 26.05, 22.64, 29.35, 23.24, 21.71, 23.03, 29.65, 20.93, 26.25, 38.06, 27.73, 25.22, 24.84, 24.66, 24.63, 25.41, 23.01, 33.1, 21.99, 24.19, 26.82, 25.36, 19.53, 25.82, 26.73, 25.09, 24.2, 25.39, 33.71, 30.36, 26.31, 29.19, 35.78, 20.41, 32.81, 27.17, 26.54, 23.62, 29.93, 24.22, 22.92, 25.63, 25.34, 26.69, 22.73, 19.97, 26.89, 27.26, 25.32, 32.52, 26.39, 21.03, 29.67, 26.28, 29.05, 21.33, 23.31, 20.17, 22.65, 18.67, 20.87, 26.48, 25.62, 28.59, 26.03, 28.76, 26.06, 31.11, 24.5, 27.28, 26.25, 27.78, 23.71, 32.84, 26.45, 21.42, 24.67, 27.91, 23.86, 25.58, 30.85, 27.01, 22.53, 31.5, 25.45, 22.85, 26.09, 30.0, 26.87, 33.29, 25.87, 26.38, 25.64, 27.23, 24.41, 22.19, 30.91, 23.46, 24.1, 35.17, 24.67, 26.76, 23.17, 26.51, 23.62, 28.68, 22.54, 32.77, 34.52, 21.45, 30.43, 22.94, 23.09, 23.4, 26.62, 21.35, 29.84, 24.83, 27.49, 30.05, 27.46, 25.77, 27.99, 23.81, 24.08, 20.76, 24.26, 19.74, 22.25, 30.47, 25.68, 25.33, 27.96, 22.7, 26.64, 24.47, 20.42, 29.17, 22.51, 27.01, 38.43, 28.09, 26.81, 22.01, 18.99, 20.86, 22.88, 24.27, 29.14, 36.04, 22.54, 22.9, 28.68, 28.96, 26.43, 22.5, 22.72, 31.38, 23.88, 33.16, 30.62, 29.01, 23.58, 26.65, 19.42, 29.64, 23.44, 29.89, 21.02, 21.72, 32.27, 26.56, 26.35, 22.7, 21.71, 25.14, 27.08, 25.66, 20.12, 23.95, 28.35, 27.86, 29.88, 23.5, 24.25, 21.64, 23.64, 25.9, 25.21, 27.39, 23.54, 35.42, 24.91, 27.87, 30.77, 29.38, 21.98, 21.29, 24.41, 29.58, 22.37, 28.18, 29.01, 23.96, 23.82, 24.33, 23.8, 28.59, 22.37, 22.36, 27.05, 25.14, 23.32, 26.21, 24.94, 17.65, 20.12, 26.05, 26.39, 20.22, 26.72, 27.15, 26.25, 28.38, 21.06, 24.6, 22.18, 23.64, 19.53, 25.86, 27.51, 21.99, 26.45, 22.91, 24.99, 33.68, 22.25, 31.06, 23.68, 23.9, 25.42, 26.25, 25.56, 22.7, 22.71, 28.09, 27.08, 22.19, 20.69, 23.9, 23.1, 20.88, 28.56, 24.12, 23.72, 44.71, 24.77, 25.77, 29.08, 28.78, 38.54, 17.32, 25.08, 39.04, 30.21, 28.25, 27.92, 20.26, 30.28, 25.11, 38.42, 28.74, 26.18, 20.24, 30.67, 28.88, 27.15, 25.77, 27.97, 28.79, 26.41, 22.19, 33.26, 27.94, 27.8, 30.0, 24.2, 28.89, 28.23, 32.03, 24.66, 23.88, 21.17, 29.35, 26.33, 26.38, 24.46, 28.35, 28.54, 31.76, 21.28, 29.82, 25.06, 23.57, 26.64, 27.26, 22.13, 22.84, 21.35, 21.35, 23.97, 25.63, 26.09, 27.2, 19.61, 24.18, 23.41, 23.48, 21.1, 24.06, 20.12, 20.31, 27.6, 26.2, 23.9, 33.79, 26.0, 25.03, 23.97, 20.79, 39.53, 24.0, 24.69, 20.4, 22.89, 27.06, 28.31, 25.16, 28.78, 29.07, 25.38, 28.3, 25.98, 23.45, 25.62, 29.76, 26.49, 25.51, 28.87, 25.95, 33.29, 23.77, 18.44, 19.97, 24.1, 27.04, 25.57, 21.93, 25.91, 27.71, 22.02, 28.4, 25.79, 22.0, 24.96, 21.8, 27.03, 28.4, 27.73, 24.8, 23.45, 35.62, 28.02, 21.78, 26.68, 28.11, 20.72, 26.32, 28.61, 24.2, 29.76, 26.35, 32.67, 43.48, 32.68, 28.04, 30.19, 23.43, 24.3, 26.09, 26.72, 26.15, 26.53, 26.28, 20.72, 27.8, 25.08, 24.39, 28.77, 22.17, 20.1, 24.0, 25.41, 28.4, 27.23, 25.25, 29.15, 25.26, 31.77, 25.9, 28.66, 22.9, 24.26, 33.14, 19.23, 26.09, 28.82, 26.42, 24.75, 25.09, 20.15, 28.25, 27.96, 36.91, 24.35, 29.19, 24.71, 23.98, 28.36, 27.51, 24.46, 29.35, 29.63, 26.17, 27.97, 29.84, 25.57, 27.34, 22.99, 28.53, 29.23, 22.9, 39.08, 31.9, 29.99, 27.02, 26.27, 33.14, 28.61, 23.57, 29.28, 29.3, 30.41, 22.55, 26.51, 23.92, 39.69, 25.5, 25.29, 23.75, 23.29, 25.18, 23.81, 25.38, 22.19, 34.55, 25.27, 22.88, 21.8, 30.16, 26.64, 24.1, 21.34, 22.86, 21.11, 23.57, 24.14, 27.33, 19.05, 25.83, 30.12, 25.49, 28.04, 21.97, 27.49, 29.48, 22.15, 30.1, 19.7, 25.58, 28.57, 22.4, 32.82, 21.86, 20.26, 21.84, 24.88, 30.2, 20.3, 29.07, 27.43, 27.49, 27.78, 23.4, 29.84, 32.33, 22.54, 23.25, 27.68, 24.91, 22.17, 29.11, 26.09, 32.76, 24.24, 23.97, 23.07, 17.51, 23.55, 24.58, 28.23, 24.65, 25.45, 29.36, 36.65, 21.83, 19.68, 21.68, 27.27, 20.72, 23.51, 29.93, 29.29, 32.6, 30.47, 24.8, 28.18, 26.11, 27.88, 25.41, 25.31, 19.16, 21.97, 24.22, 25.87, 22.99, 27.56, 26.58, 25.35, 26.49, 25.97, 24.54, 39.82, 30.41, 26.74, 30.34, 28.15, 35.01, 28.09, 25.18, 28.74, 29.37, 26.86, 26.91, 21.94, 31.64, 24.76, 22.91, 23.82, 27.08, 19.8, 22.35, 22.19, 23.4, 23.78, 23.96, 19.09, 23.96, 24.76, 18.3, 30.34, 22.98, 25.23, 23.95, 25.31, 35.42, 23.68, 25.2, 30.12, 25.67, 31.93, 20.43, 30.61, 24.24, 27.86, 29.34, 27.14, 24.57, 23.28, 27.38, 24.87, 23.33, 27.04, 32.37, 23.66, 28.0, 26.56, 32.52, 19.88, 25.88, 27.73, 24.91, 24.35, 36.79, 24.59, 23.63, 23.48, 21.43, 28.74, 37.02, 25.19, 28.38, 31.67, 30.99, 28.04, 26.21, 23.27, 30.28, 24.89, 28.09, 20.11, 25.89, 27.1, 26.5, 23.85, 23.1, 27.01, 23.28, 23.95, 22.02, 22.46, 29.45, 28.69, 25.91, 23.55, 26.76, 25.27, 30.55, 33.0, 24.51, 24.27, 21.19, 35.96, 29.09, 35.53, 34.89, 27.42, 20.7, 24.45, 37.38, 31.62, 28.27, 24.83, 17.89, 23.03, 21.35, 30.47, 26.45, 18.62, 22.01, 30.32, 20.82, 31.52, 29.01, 21.98, 25.86, 26.01, 20.32, 24.8, 28.03, 24.17, 21.11, 21.32, 33.88, 36.54, 25.16, 21.07, 18.88, 27.93, 29.47, 25.86, 56.8, 23.39, 26.55, 25.41, 26.91, 31.75, 25.35, 29.66, 23.46, 25.21, 38.11, 22.91, 26.24, 24.22, 25.64, 24.1, 24.99, 25.7, 26.25, 24.39, 29.67, 23.29, 25.21, 28.68, 24.73, 20.23, 26.84, 21.64, 28.4, 25.33, 23.44, 23.55, 22.54, 18.4, 20.09, 40.21, 20.98, 28.57, 22.19, 23.6, 23.99, 26.32, 25.46, 27.59, 23.82, 28.85, 27.62, 25.4, 27.01, 26.58, 26.27, 25.37, 27.87, 32.63, 22.49, 27.93, 20.56, 21.19, 25.22, 22.02, 21.49, 26.97, 22.53, 23.68, 26.56, 21.01, 27.69, 31.12, 19.81, 22.33, 27.49, 23.68, 28.21, 26.77, 22.37, 23.95, 26.05, 23.08, 24.92, 25.77, 34.39, 28.33, 23.29, 30.53, 31.14, 26.09, 30.47, 31.71, 24.17, 17.48, 23.14, 25.48, 27.27, 27.02, 24.12, 24.67, 31.57, 29.28, 18.82, 28.22, 28.33, 26.13, 21.99, 28.84, 21.83, 28.38, 27.73, 24.15, 23.29, 23.08, 21.49, 25.65, 25.12, 28.55, 26.73, 25.09, 29.98, 16.98, 22.69, 23.03, 25.62, 37.15, 25.98, 34.91, 27.4, 31.2, 21.63, 24.49, 30.03, 19.64, 23.13, 23.62, 22.54, 29.38, 26.27, 19.48, 18.55, 27.78, 28.88, 25.14, 22.49, 25.15, 23.22, 28.12, 23.1, 18.06, 20.62, 26.36, 24.87, 24.21, 24.73, 22.54, 18.14, 23.18, 25.36, 28.06, 24.74, 30.71, 26.87, 25.12, 28.55, 25.61, 24.85, 29.89, 27.17, 26.42, 35.12, 27.73, 23.68, 21.82, 24.67, 21.48, 22.17, 25.45, 20.99, 25.33, 23.44, 22.66, 21.35, 35.16, 30.77, 20.72, 24.23, 21.51, 27.73, 23.35, 24.19, 21.84, 27.48, 23.99, 23.96, 24.87, 29.91, 17.81, 27.17, 31.07, 24.67, 39.4, 28.65, 23.78, 25.25, 27.51, 23.88, 22.73, 27.29, 22.9, 17.17, 18.18, 20.74, 24.24, 24.67, 26.11, 24.47, 25.13, 21.73, 40.81, 23.65, 27.86, 28.04, 20.74, 21.12, 26.24, 30.42, 22.01, 27.3, 28.61, 23.97, 23.58, 27.38, 26.83, 24.25, 24.17, 24.1, 23.34, 38.61, 25.62, 21.32, 28.85, 22.27, 24.67, 31.27, 20.4, 29.8, 30.91, 21.27, 25.12, 26.01, 26.48, 22.49, 19.46, 30.75, 32.1, 25.11, 26.89, 25.62, 25.71, 25.11, 22.57, 23.65, 30.38, 23.6, 21.18, 23.13, 25.51, 29.86, 33.49, 24.96, 22.34, 25.79, 29.86, 29.87, 24.46, 25.23, 29.38, 28.09, 23.46, 25.5, 28.26, 27.09, 26.73, 25.18, 26.13, 22.33, 26.38, 26.85, 31.72, 22.18, 28.85, 23.29, 23.09, 30.82, 25.65, 31.69, 23.23, 27.18, 25.94, 26.11, 34.69, 25.91, 31.57, 26.35, 22.85, 24.68, 24.98, 26.77, 19.14, 22.72, 24.11, 27.38, 24.26, 28.62, 27.59, 25.4, 23.72, 29.4, 23.22, 31.65, 22.54, 18.28, 25.38, 25.65, 20.52, 26.55, 24.99, 29.76, 25.01, 23.96, 26.33, 23.84, 23.84, 28.53, 30.61, 26.51, 20.84, 32.57, 27.68, 23.08, 27.99, 25.34, 18.64, 23.46, 24.29, 29.22, 27.83, 33.9, 24.95, 27.17, 23.78, 26.95, 21.01, 28.85, 19.16, 21.49, 23.43, 25.98, 28.27, 31.47, 24.38, 27.89, 22.65, 29.64, 32.66, 30.18, 32.98, 24.81, 24.35, 29.76, 28.13, 24.06, 28.4, 24.8, 25.09, 36.01, 16.59, 23.81, 22.5, 29.62, 33.11, 30.79, 22.97, 23.48, 23.07, 23.5, 24.23, 28.24, 28.94, 27.22, 25.74, 27.88, 24.05, 27.69, 20.44, 28.76, 23.86, 23.9, 20.23, 19.05, 31.78, 22.19, 25.23, 33.7, 26.47, 28.92, 25.74, 29.35, 23.27, 31.78, 27.33, 35.02, 28.84, 22.44, 17.71, 19.18, 35.35, 22.32, 20.15, 25.38, 24.62, 20.73, 23.22, 23.93, 30.31, 25.16, 29.49, 21.88, 28.09, 26.44, 24.87, 24.86, 26.25, 22.73, 28.09, 23.81, 22.43, 21.59, 26.27, 23.07, 34.32, 31.4, 23.56, 21.18, 26.05, 28.49, 26.44, 20.71, 25.74, 23.36, 27.89, 27.13, 21.45, 19.78, 25.56, 24.69, 24.3, 23.96, 24.1, 28.41, 23.02, 35.02, 19.72, 25.62, 22.73, 32.92, 23.79, 27.98, 16.48, 27.15, 23.04, 27.78, 23.85, 26.25, 26.84, 27.6, 29.06, 22.81, 23.43, 30.43, 23.24, 23.24, 19.72, 21.26, 24.47, 28.18, 22.5, 27.86, 25.08, 32.89, 24.56, 27.07, 24.03, 26.35, 26.66, 25.14, 21.82, 28.44, 24.74, 32.27, 24.56, 26.85, 27.94, 30.75, 22.34, 23.08, 25.79, 23.72, 21.08, 23.74, 26.61, 28.86, 27.87, 21.27, 20.06, 21.84, 23.52, 25.64, 20.92, 21.63, 20.24, 23.59, 25.68, 25.48, 28.23, 24.68, 20.99, 31.31, 24.94, 22.71, 28.53, 19.09, 23.65, 18.11, 24.14, 25.7, 23.36, 22.79, 25.63, 23.37, 21.51, 30.33, 19.18, 27.2, 28.25, 20.67, 28.49, 26.84, 22.72, 22.72, 29.15, 24.53, 25.51, 23.06, 21.77, 29.34, 23.48, 22.91, 28.41, 25.54, 21.18, 22.91, 24.71, 27.78, 21.76, 28.78, 23.1, 24.8, 21.68, 25.48, 22.18, 24.0, 28.83, 19.22, 27.78, 24.95, 26.08, 29.7, 25.67, 25.84, 24.04, 26.76, 27.31, 20.86, 29.97, 21.82, 25.09, 20.82, 31.31, 20.39, 25.23, 25.51, 29.11, 24.62, 31.82, 20.09, 22.17, 28.3, 25.82, 23.95, 22.49, 28.52, 19.12, 26.08, 26.91, 28.58, 24.39, 25.59, 35.31, 38.31, 23.4, 25.14, 25.35, 26.82, 29.36, 28.45, 23.8, 24.1, 27.82, 25.69, 25.85, 27.22, 31.63, 28.76, 21.14, 22.79, 31.08, 24.45, 31.93, 26.98, 24.68, 28.73, 21.2, 31.6, 20.87, 30.33, 26.58, 26.18, 24.14, 25.96, 19.97, 21.66, 30.53, 23.35, 25.2, 21.44, 26.94, 24.1, 29.01, 27.71, 25.21, 27.64, 22.54, 22.19, 25.91, 27.31, 23.72, 22.9, 28.08, 29.04, 25.82, 22.83, 23.65, 24.39, 28.09, 28.35, 26.36, 23.86, 25.14, 22.64, 26.97, 29.35, 27.78, 24.43, 21.5, 23.62, 23.29, 29.59, 24.46, 23.48, 26.79, 23.07, 32.09, 28.3, 20.41, 29.22, 26.3, 22.91, 22.26, 18.53, 29.73, 24.98, 23.01, 22.35, 22.35, 24.47, 26.36, 23.06, 22.81, 25.88, 19.18, 22.72, 25.02, 23.75, 28.57, 27.15, 28.89, 20.79, 26.79, 30.79, 26.89, 21.9, 35.68, 25.42, 17.92, 21.97, 22.9, 16.71, 37.1, 23.16, 26.21, 27.22, 19.69, 27.94, 20.13, 28.47, 32.22, 25.62, 31.44, 20.06, 27.65, 23.74, 23.81, 23.29, 24.73, 28.86, 22.93, 22.82, 27.72, 24.63, 24.22, 26.05, 24.38, 17.5, 30.55, 22.53, 20.42, 24.21, 27.69, 28.47, 38.96, 22.05, 24.61, 20.25, 24.92, 26.46, 26.13, 26.83, 27.14, 28.92, 21.18, 24.68, 24.53, 23.65, 18.01, 22.67, 28.88, 22.19, 24.91, 24.61, 28.9, 31.68, 27.64, 22.89, 24.24, 30.36, 17.93, 18.83, 21.34, 30.12, 28.06, 33.08, 20.92, 29.72, 22.54, 25.52, 26.98, 25.51, 30.8, 20.26, 23.83, 31.22, 22.17, 21.67, 26.21, 30.23, 21.14, 24.62, 31.44, 22.43, 32.54, 39.94, 34.54, 22.66, 27.61, 25.37, 21.33, 27.04, 32.32, 26.51, 24.56, 28.96, 34.27, 28.24, 20.25, 23.64, 21.28, 24.62, 18.09, 29.64, 18.73, 25.26, 28.4, 28.6, 25.83, 21.66, 28.32, 24.82, 28.26, 23.76, 24.76, 22.69, 32.99, 27.56, 25.9, 29.35, 22.19, 25.58, 21.67, 29.08, 26.32, 25.38, 30.59, 23.41, 29.29, 24.44, 33.81, 23.8, 28.81, 21.14, 21.86, 28.74, 25.66, 26.36, 22.54, 26.73, 23.1, 39.94, 27.99, 34.46, 24.71, 25.75, 26.76, 23.65, 39.22, 24.41, 41.29, 18.68, 29.45, 27.48, 24.68, 30.85, 23.58, 22.53, 19.49, 24.66, 24.21, 25.4, 25.86, 27.94, 25.68, 40.08, 24.87, 34.08, 29.88, 27.51, 28.3, 25.79, 22.14, 26.01, 23.51, 25.94, 21.99, 30.89, 26.89, 24.38, 25.6, 28.8, 21.51, 25.66, 23.96, 26.82, 25.92, 24.6, 27.53, 25.71, 30.22, 32.13, 24.33, 27.73, 36.12, 22.76, 27.92, 23.84, 31.29, 22.0, 27.42, 20.32, 26.26, 32.41, 24.16, 28.66, 23.68, 26.22, 36.18, 23.94, 20.5, 28.43, 27.93, 30.41, 23.08, 23.48, 25.38, 27.49, 28.18, 41.61, 32.0, 26.53, 28.04, 21.19, 28.86, 26.8, 24.67, 19.91, 21.22, 23.26, 27.51, 23.95, 24.42, 22.83, 21.03, 23.31, 28.68, 25.23, 26.38, 27.52, 22.13, 23.86, 29.27, 22.86, 29.48, 27.99, 24.5, 24.41, 24.81, 23.61, 27.9, 23.1, 29.44, 26.83, 22.19, 19.74, 25.69, 26.25, 25.36, 26.51, 26.21, 24.96, 32.18, 25.07, 29.8, 25.48, 24.8, 27.94, 25.36, 22.51, 25.23, 19.48, 26.28, 23.03, 34.97, 27.33, 22.73, 29.47, 25.78, 25.56, 19.99, 23.2, 27.56, 25.8, 23.68, 28.5, 23.71, 29.55, 27.56, 19.98, 22.15, 27.26, 23.36, 22.52, 26.29, 32.09, 23.88, 20.72, 28.65, 25.94, 23.09, 25.78, 21.49, 22.9, 30.85, 25.38, 23.87, 30.08, 27.8, 23.63, 24.45, 29.87, 37.62, 24.63, 25.94, 26.0, 20.84, 31.08, 21.47, 30.51, 32.27, 33.52, 27.25, 21.65, 21.96, 17.84, 26.01, 22.73, 21.99, 26.05, 30.92, 26.63, 25.1, 26.88, 24.01, 31.82, 26.6, 22.17, 17.68, 29.41, 24.41, 22.66, 18.76, 27.45, 25.01, 26.09, 21.8, 23.14, 32.35, 25.41, 28.92, 19.76, 25.45, 22.04, 20.24, 25.12, 27.27, 25.98, 29.54, 40.38, 21.19, 29.6, 27.2, 26.97, 27.13, 27.35, 26.0, 24.73, 22.01, 26.59, 28.31, 21.88, 37.58, 23.35, 27.42, 23.1, 31.01, 28.61, 23.85, 25.94, 27.14, 20.32, 51.28, 22.71, 25.48, 28.9, 29.79, 23.17, 22.72, 23.92, 26.83, 31.42, 20.86, 24.3, 31.47, 26.58, 21.25, 25.29, 22.62, 32.31, 25.87, 20.42, 26.18, 26.32, 38.94, 33.99, 21.99, 27.27, 25.48, 25.74, 25.74, 23.48, 31.92, 16.73, 21.75, 28.82, 30.13, 19.93, 23.26, 25.23, 24.9, 25.38, 28.55, 26.51, 21.38, 26.36, 19.37, 20.72, 23.05, 31.64, 24.96, 28.6, 22.46, 24.08, 29.29, 26.45, 21.01, 19.83, 28.18, 37.3, 21.28, 35.13, 30.98, 21.8, 25.59, 28.61, 41.66, 27.42, 22.04, 24.22, 23.09, 27.86, 24.94, 21.84, 24.56, 22.66, 26.99, 27.68, 26.15, 25.91, 26.0, 24.51, 22.26, 29.89, 24.32, 27.24, 26.13, 26.79, 28.3, 28.63, 25.67, 23.48, 25.09, 27.87, 19.98, 28.18, 27.97, 22.91, 20.68, 22.18, 25.29, 25.71, 27.93, 23.38, 34.84, 27.81, 18.1, 22.52, 23.72, 21.55, 27.63, 27.48, 18.63, 25.85, 25.43, 28.15, 25.15, 23.03, 28.45, 24.57, 24.69, 24.28, 20.96, 21.31, 26.4, 24.01, 28.94, 26.68, 28.35, 26.81, 27.75, 20.09, 22.72, 26.18, 29.5, 25.46, 28.47, 24.02, 22.16, 26.92, 27.72, 29.94, 35.19, 27.35, 27.4, 20.49, 22.01, 23.99, 18.84, 27.27, 20.45, 28.59, 27.73, 23.71, 22.02, 26.58, 29.59, 28.67, 22.19, 22.01, 25.09, 33.02, 20.12, 26.89, 26.38, 27.34, 33.9, 26.17, 21.32, 19.76, 24.16, 26.68, 26.25, 21.03, 21.51, 25.82, 26.35, 22.9, 33.37, 28.12, 28.54, 20.54, 24.15, 21.26, 27.14, 38.17, 20.62, 32.47, 25.75, 24.05, 33.19, 26.29, 28.13, 27.51, 27.73, 24.17, 28.82, 21.48, 25.11, 22.54, 22.54, 22.91, 27.86, 35.19, 26.6, 19.14, 27.16, 24.4, 26.27, 24.88, 22.81, 24.3, 19.0, 25.74, 29.02, 26.79, 35.16, 21.83, 27.13, 27.91, 31.98, 25.98, 25.64, 21.99, 20.78, 28.62, 25.43, 26.64, 25.85, 26.36, 25.09, 30.03, 19.22, 18.68, 23.98, 20.88, 36.07, 20.02, 27.11, 27.96, 19.34, 22.9, 24.62, 25.49, 29.64, 25.31, 26.87, 24.35, 27.01, 30.48, 22.01, 31.02, 24.08, 23.06, 28.06, 27.3, 22.41, 29.11, 27.89, 24.71, 39.17, 22.18, 25.23, 26.91, 22.37, 21.18, 21.85, 26.7, 21.68, 25.23, 24.24, 26.05, 25.62, 43.67, 24.96, 23.14, 25.97, 19.71, 21.47, 25.6, 20.91]}, {\"label\": \"heartRate\", \"values\": [80.0, 95.0, 75.0, 65.0, 85.0, 77.0, 60.0, 79.0, 76.0, 93.0, 75.0, 72.0, 98.0, 65.0, 95.0, 64.0, 80.0, 75.0, 85.0, 72.0, 70.0, 71.0, 75.0, 62.0, 73.0, 85.0, 72.0, 60.0, 75.0, 90.0, 96.0, 95.0, 75.0, 60.0, 71.0, 68.0, 75.0, 75.0, 76.0, 65.0, 90.0, 75.0, 95.0, 60.0, 90.0, 80.0, 63.0, 88.0, 88.0, 75.0, 65.0, 75.0, 95.0, 60.0, 78.0, 83.0, 75.0, 72.0, 100.0, 65.0, 76.0, 63.0, 63.0, 85.0, 64.0, 65.0, 83.0, 80.0, 85.0, 90.0, 84.0, 88.0, 75.0, 70.0, 70.0, 65.0, 57.0, 100.0, 80.0, 60.0, 75.0, 71.0, 60.0, 80.0, 60.0, 88.0, 75.0, 50.0, 65.0, 75.0, 63.0, 74.0, 65.0, 85.0, 65.0, 85.0, 90.0, 76.0, 75.0, 86.0, 75.0, 75.0, 55.0, 70.0, 71.0, 88.0, 68.0, 75.0, 80.0, 100.0, 70.0, 75.0, 75.0, 60.0, 70.0, 62.0, 88.0, 78.0, 92.0, 75.0, 75.0, 100.0, 55.0, 66.0, 80.0, 70.0, 80.0, 96.0, 50.0, 87.0, 70.0, 80.0, 60.0, 72.0, 70.0, 80.0, 71.0, 57.0, 70.0, 60.0, 96.0, 78.0, 80.0, 72.0, 60.0, 110.0, 70.0, 60.0, 62.0, 68.0, 80.0, 73.0, 72.0, 65.0, 73.0, 80.0, 68.0, 75.0, 90.0, 80.0, 78.0, 77.0, 80.0, 81.0, 70.0, 96.0, 80.0, 70.0, 68.0, 68.0, 65.0, 72.0, 80.0, 62.0, 56.0, 72.0, 85.0, 65.0, 89.0, 75.0, 82.0, 90.0, 60.0, 70.0, 66.0, 62.0, 100.0, 75.0, 70.0, 96.0, 77.0, 95.0, 75.0, 88.0, 77.0, 60.0, 50.0, 85.0, 65.0, 85.0, 100.0, 70.0, 90.0, 82.0, 80.0, 80.0, 60.0, 80.0, 85.0, 80.0, 72.0, 73.0, 88.0, 75.0, 75.0, 95.0, 80.0, 77.0, 85.0, 90.0, 65.0, 54.0, 88.0, 69.0, 72.0, 55.0, 60.0, 54.0, 72.0, 73.0, 82.0, 75.0, 64.0, 73.0, 69.0, 68.0, 75.0, 75.0, 75.0, 85.0, 88.0, 110.0, 90.0, 63.0, 88.0, 87.0, 70.0, 80.0, 67.0, 68.0, 63.0, 96.0, 70.0, 67.0, 85.0, 52.0, 88.0, 50.0, 68.0, 69.0, 70.0, 80.0, 75.0, 65.0, 75.0, 72.0, 54.0, 68.0, 75.0, 82.0, 80.0, 75.0, 65.0, 61.0, 85.0, 75.0, 56.0, 70.0, 65.0, 66.0, 88.0, 55.0, 75.0, 73.0, 70.0, 90.0, 80.0, 88.0, 71.0, 100.0, 73.0, 75.0, 85.0, 73.0, 140.0, 85.0, 70.0, 60.0, 60.0, 90.0, 80.0, 75.0, 75.0, 75.0, 78.0, 85.0, 90.0, 70.0, 85.0, 70.0, 130.0, 95.0, 80.0, 63.0, 63.0, 84.0, 85.0, 77.0, 63.0, 58.0, 75.0, 90.0, 87.0, 75.0, 90.0, 60.0, 80.0, 85.0, 65.0, 96.0, 72.0, 80.0, 85.0, 100.0, 70.0, 60.0, 62.0, 85.0, 75.0, 72.0, 70.0, 83.0, 65.0, 70.0, 90.0, 90.0, 73.0, 65.0, 65.0, 90.0, 65.0, 63.0, 73.0, 70.0, 67.0, 78.0, 60.0, 104.0, 75.0, 80.0, 80.0, 72.0, 75.0, 98.0, 77.0, 60.0, 86.0, 88.0, 100.0, 76.0, 70.0, 60.0, 72.0, 65.0, 75.0, 95.0, 75.0, 90.0, 75.0, 60.0, 90.0, 90.0, 80.0, 67.0, 65.0, 75.0, 75.0, 71.0, 80.0, 72.0, 85.0, 66.0, 55.0, 62.0, 73.0, 75.0, 65.0, 62.0, 75.0, 78.0, 92.0, 80.0, 75.0, 78.0, 81.0, 62.0, 60.0, 94.0, 80.0, 63.0, 60.0, 96.0, 78.0, 75.0, 92.0, 89.0, 72.0, 95.0, 75.0, 70.0, 95.0, 80.0, 68.0, 105.0, 75.0, 50.0, 62.0, 83.0, 78.0, 60.0, 73.0, 75.0, 70.0, 100.0, 76.0, 81.0, 68.0, 63.0, 65.0, 80.0, 92.0, 58.0, 85.0, 75.0, 72.0, 80.0, 72.0, 70.0, 85.0, 70.0, 110.0, 75.0, 58.0, 62.0, 58.0, 85.0, 63.0, 73.0, 85.0, 80.0, 63.0, 72.0, 85.0, 91.0, 75.0, 75.0, 85.0, 70.0, 80.0, 100.0, 82.0, 63.0, 60.0, 90.0, 88.0, 75.0, 80.0, 80.0, 81.0, 64.0, 58.0, 80.0, 68.0, 70.0, 75.0, 89.0, 66.0, 105.0, 60.0, 64.0, 69.0, 78.0, 70.0, 72.0, 72.0, 80.0, 72.0, 85.0, 85.0, 78.0, 53.0, 75.0, 78.0, 80.0, 87.0, 68.0, 82.0, 68.0, 80.0, 70.0, 79.0, 90.0, 90.0, 94.0, 83.0, 75.0, 53.0, 60.0, 88.0, 66.0, 68.0, 85.0, 78.0, 90.0, 85.0, 73.0, 83.0, 68.0, 85.0, 67.0, 71.0, 80.0, 60.0, 67.0, 78.0, 88.0, 77.0, 80.0, 70.0, 69.0, 80.0, 65.0, 72.0, 90.0, 65.0, 72.0, 85.0, 67.0, 108.0, 58.0, 76.0, 79.0, 78.0, 65.0, 60.0, 66.0, 67.0, 105.0, 77.0, 63.0, 95.0, 56.0, 73.0, 80.0, 58.0, 60.0, 80.0, 58.0, 72.0, 55.0, 88.0, 65.0, 76.0, 85.0, 84.0, 75.0, 67.0, 90.0, 83.0, 72.0, 94.0, 85.0, 65.0, 69.0, 85.0, 75.0, 75.0, 72.0, 68.0, 70.0, 60.0, 71.0, 60.0, 60.0, 75.0, 58.0, 75.0, 85.0, 100.0, 76.0, 68.0, 66.0, 65.0, 77.0, 87.0, 70.0, 80.0, 110.0, 80.0, 90.0, 75.0, 62.0, 75.0, 82.0, 88.0, 76.0, 69.0, 60.0, 68.0, 67.0, 87.0, 87.0, 80.0, 72.0, 60.0, 80.0, 70.0, 81.0, 70.0, 106.0, 62.0, 80.0, 75.0, 72.0, 60.0, 67.0, 63.0, 65.0, 72.0, 70.0, 52.0, 80.0, 80.0, 75.0, 85.0, 65.0, 110.0, 68.0, 104.0, 70.0, 83.0, 95.0, 83.0, 70.0, 59.0, 64.0, 55.0, 70.0, 77.0, 56.0, 75.0, 85.0, 63.0, 60.0, 61.0, 65.0, 92.0, 85.0, 82.0, 75.0, 63.0, 72.0, 76.0, 85.0, 76.0, 70.0, 88.0, 70.0, 100.0, 73.0, 75.0, 70.0, 76.0, 72.0, 70.0, 62.0, 68.0, 70.0, 63.0, 88.0, 88.0, 85.0, 90.0, 72.0, 94.0, 75.0, 70.0, 83.0, 100.0, 70.0, 75.0, 60.0, 63.0, 75.0, 75.0, 92.0, 67.0, 75.0, 53.0, 73.0, 75.0, 82.0, 85.0, 60.0, 72.0, 75.0, 110.0, 92.0, 75.0, 96.0, 65.0, 70.0, 63.0, 107.0, 80.0, 80.0, 75.0, 95.0, 75.0, 60.0, 77.0, 90.0, 60.0, 65.0, 68.0, 90.0, 95.0, 83.0, 55.0, 73.0, 77.0, 66.0, 88.0, 70.0, 75.0, 74.0, 70.0, 69.0, 67.0, 90.0, 69.0, 72.0, 85.0, 76.0, 75.0, 72.0, 90.0, 70.0, 65.0, 78.0, 60.0, 70.0, 74.0, 72.0, 60.0, 82.0, 76.0, 54.0, 75.0, 80.0, 80.0, 76.0, 68.0, 70.0, 63.0, 75.0, 80.0, 55.0, 66.0, 80.0, 80.0, 82.0, 70.0, 76.0, 75.0, 68.0, 80.0, 87.0, 71.0, 95.0, 75.0, 88.0, 95.0, 108.0, 90.0, 110.0, 80.0, 108.0, 85.0, 75.0, 77.0, 73.0, 85.0, 75.0, 110.0, 84.0, 80.0, 95.0, 72.0, 60.0, 60.0, 80.0, 78.0, 80.0, 80.0, 65.0, 92.0, 70.0, 72.0, 88.0, 75.0, 75.0, 76.0, 75.0, 78.0, 80.0, 63.0, 90.0, 75.0, 67.0, 72.0, 66.0, 98.0, 75.0, 62.0, 70.0, 75.0, 75.0, 68.0, 65.0, 64.0, 80.0, 68.0, 80.0, 81.0, 75.0, 75.0, 75.0, 65.0, 80.0, 60.0, 50.0, 92.0, 86.0, 70.0, 65.0, 110.0, 67.0, 75.0, 71.0, 48.0, 75.0, 77.0, 80.0, 76.0, 70.0, 90.0, 77.0, 70.0, 65.0, 60.0, 100.0, 70.0, 58.0, 60.0, 61.0, 83.0, 112.0, 56.0, 90.0, 90.0, 75.0, 77.0, 94.0, 75.0, 68.0, 57.0, 85.0, 75.0, 100.0, 125.0, 62.0, 60.0, 55.0, 81.0, 60.0, 80.0, 71.0, 76.0, 85.0, 63.0, 66.0, 95.0, 63.0, 75.0, 90.0, 72.0, 67.0, 62.0, 78.0, 72.0, 54.0, 73.0, 75.0, 90.0, 53.0, 91.0, 75.0, 70.0, 94.0, 78.0, 86.0, 80.0, 80.0, 65.0, 63.0, 79.0, 70.0, 80.0, 60.0, 66.0, 76.0, 103.0, 88.0, 65.0, 67.0, 65.0, 75.0, 80.0, 78.0, 82.0, 92.0, 74.0, 75.0, 85.0, 75.0, 70.0, 85.0, 90.0, 70.0, 80.0, 70.0, 85.0, 77.0, 85.0, 72.0, 79.0, 67.0, 75.0, 80.0, 80.0, 83.0, 69.0, 63.0, 82.0, 65.0, 78.0, 69.0, 69.0, 82.0, 72.0, 78.0, 78.0, 69.0, 65.0, 70.0, 85.0, 69.0, 88.0, 60.0, 86.0, 58.0, 87.0, 83.0, 95.0, 66.0, 64.0, 68.0, 68.0, 75.0, 72.0, 64.0, 63.0, 60.0, 80.0, 88.0, 76.0, 60.0, 70.0, 75.0, 73.0, 70.0, 82.0, 75.0, 96.0, 82.0, 70.0, 72.0, 60.0, 64.0, 93.0, 80.0, 58.0, 70.0, 70.0, 80.0, 65.0, 63.0, 79.0, 80.0, 65.0, 85.0, 58.0, 110.0, 66.0, 103.0, 75.0, 70.0, 85.0, 90.0, 85.0, 72.0, 72.0, 56.0, 70.0, 81.0, 68.0, 75.0, 67.0, 80.0, 100.0, 72.0, 100.0, 98.0, 68.0, 75.0, 85.0, 64.0, 65.0, 70.0, 70.0, 75.0, 80.0, 57.0, 66.0, 75.0, 80.0, 75.0, 60.0, 85.0, 100.0, 60.0, 90.0, 75.0, 80.0, 75.0, 58.0, 75.0, 44.0, 55.0, 70.0, 75.0, 95.0, 70.0, 80.0, 58.0, 75.0, 70.0, 75.0, 85.0, 100.0, 76.0, 82.0, 85.0, 60.0, 83.0, 65.0, 72.0, 60.0, 60.0, 78.0, 83.0, 80.0, 70.0, 100.0, 75.0, 75.0, 95.0, 75.0, 78.0, 83.0, 72.0, 81.0, 80.0, 72.0, 95.0, 73.0, 80.0, 72.0, 60.0, 72.0, 63.0, 75.0, 60.0, 80.0, 80.0, 88.0, 68.0, 50.0, 89.0, 75.0, 69.0, 70.0, 75.0, 90.0, 87.0, 71.0, 100.0, 69.0, 73.0, 100.0, 80.0, 67.0, 75.0, 84.0, 70.0, 86.0, 75.0, 75.0, 80.0, 60.0, 75.0, 60.0, 80.0, 75.0, 60.0, 63.0, 67.0, 82.0, 83.0, 85.0, 75.0, 100.0, 62.0, 72.0, 80.0, 66.0, 93.0, 80.0, 100.0, 70.0, 80.0, 95.0, 73.0, 75.0, 75.0, 65.0, 75.0, 63.0, 68.0, 60.0, 54.0, 68.0, 75.0, 70.0, 80.0, 82.0, 80.0, 90.0, 95.0, 60.0, 70.0, 73.0, 94.0, 55.0, 75.0, 60.0, 60.0, 70.0, 70.0, 82.0, 75.0, 75.0, 90.0, 80.0, 70.0, 85.0, 75.0, 66.0, 75.0, 75.0, 72.0, 56.0, 75.0, 58.0, 80.0, 78.0, 67.0, 82.0, 82.0, 70.0, 80.0, 70.0, 66.0, 87.0, 70.0, 75.0, 58.0, 75.0, 65.0, 100.0, 80.0, 66.0, 70.0, 80.0, 75.0, 64.0, 75.0, 82.0, 70.0, 72.0, 100.0, 68.0, 90.0, 80.0, 65.0, 80.0, 70.0, 78.0, 70.0, 72.0, 70.0, 75.0, 88.0, 85.0, 80.0, 66.0, 75.0, 90.0, 80.0, 76.0, 75.0, 82.0, 85.0, 90.0, 59.0, 58.0, 75.0, 62.0, 75.0, 80.0, 64.0, 72.0, 60.0, 67.0, 105.0, 80.0, 64.0, 95.0, 65.0, 60.0, 85.0, 74.0, 80.0, 70.0, 75.0, 80.0, 63.0, 80.0, 80.0, 90.0, 70.0, 80.0, 70.0, 69.0, 60.0, 90.0, 75.0, 68.0, 88.0, 72.0, 60.0, 55.0, 80.0, 74.0, 52.0, 60.0, 67.0, 70.0, 70.0, 72.0, 68.0, 75.0, 82.0, 90.0, 50.0, 60.0, 73.0, 65.0, 72.0, 65.0, 70.0, 72.0, 72.0, 74.0, 75.0, 70.0, 95.0, 100.0, 85.0, 93.0, 70.0, 95.0, 78.0, 69.0, 75.0, 73.0, 70.0, 63.0, 72.0, 77.0, 80.0, 70.0, 75.0, 78.0, 66.0, 60.0, 96.0, 90.0, 64.0, 72.0, 90.0, 78.0, 95.0, 65.0, 80.0, 72.0, 70.0, 75.0, 90.0, 74.0, 66.0, 90.0, 72.0, 80.0, 85.0, 89.0, 75.0, 60.0, 88.0, 67.0, 50.0, 110.0, 58.0, 68.0, 78.0, 60.0, 77.0, 80.0, 70.0, 90.0, 78.0, 75.0, 60.0, 87.0, 53.0, 63.0, 73.0, 96.0, 68.0, 75.0, 80.0, 75.0, 75.0, 65.0, 100.0, 67.0, 57.0, 100.0, 80.0, 58.0, 83.0, 90.0, 85.0, 58.0, 96.0, 80.0, 80.0, 52.0, 100.0, 60.0, 80.0, 79.0, 75.0, 87.0, 72.0, 68.0, 47.0, 90.0, 79.0, 65.0, 75.0, 60.0, 67.0, 70.0, 90.0, 60.0, 75.0, 68.0, 64.0, 58.0, 56.0, 84.0, 55.0, 75.0, 80.0, 68.0, 66.0, 78.0, 65.0, 70.0, 72.0, 80.0, 73.0, 76.0, 70.0, 75.0, 72.0, 64.0, 80.0, 72.0, 70.0, 80.0, 59.0, 75.0, 63.0, 75.0, 83.0, 70.0, 68.0, 90.0, 64.0, 65.0, 88.0, 64.0, 60.0, 82.0, 56.0, 86.0, 70.0, 60.0, 86.0, 75.0, 95.0, 83.0, 75.0, 50.0, 80.0, 100.0, 75.0, 72.0, 63.0, 75.0, 75.0, 96.0, 67.0, 65.0, 72.0, 85.0, 80.0, 75.0, 80.0, 73.0, 85.0, 54.0, 80.0, 60.0, 67.0, 70.0, 66.0, 60.0, 60.0, 110.0, 78.0, 65.0, 58.0, 65.0, 75.0, 68.0, 76.0, 78.0, 76.0, 72.0, 70.0, 90.0, 75.0, 71.0, 70.0, 75.0, 85.0, 68.0, 57.0, 100.0, 60.0, 64.0, 85.0, 62.0, 75.0, 86.0, 69.0, 75.0, 75.0, 80.0, 90.0, 93.0, 66.0, 85.0, 70.0, 63.0, 94.0, 62.0, 50.0, 75.0, 70.0, 62.0, 65.0, 90.0, 80.0, 78.0, 82.0, 105.0, 60.0, 66.0, 67.0, 80.0, 110.0, 53.0, 72.0, 70.0, 64.0, 69.0, 72.0, 58.0, 75.0, 56.0, 85.0, 75.0, 70.0, 74.0, 58.0, 95.0, 110.0, 100.0, 54.0, 65.0, 60.0, 70.0, 84.0, 60.0, 60.0, 75.0, 75.0, 79.0, 80.0, 60.0, 65.0, 65.0, 60.0, 83.0, 64.0, 50.0, 75.0, 70.0, 95.0, 71.0, 68.0, 66.0, 85.0, 67.0, 65.0, 95.0, 60.0, 70.0, 80.0, 45.0, 73.0, 60.0, 69.0, 70.0, 97.0, 75.0, 90.0, 66.0, 72.0, 85.0, 63.0, 60.0, 85.0, 75.0, 52.0, 92.0, 85.0, 100.0, 80.0, 70.0, 95.0, 80.0, 76.0, 70.0, 80.0, 80.0, 68.0, 64.0, 110.0, 60.0, 85.0, 80.0, 85.0, 70.0, 80.0, 74.0, 62.0, 90.0, 68.0, 77.0, 95.0, 65.0, 75.0, 70.0, 67.0, 85.0, 68.0, 105.0, 65.0, 80.0, 70.0, 65.0, 73.0, 66.0, 67.0, 68.0, 80.0, 75.0, 60.0, 73.0, 50.0, 65.0, 90.0, 60.0, 75.0, 90.0, 68.0, 88.0, 75.0, 95.0, 77.0, 70.0, 66.0, 66.0, 70.0, 80.0, 60.0, 78.0, 90.0, 52.0, 68.0, 62.0, 85.0, 60.0, 65.0, 60.0, 52.0, 85.0, 90.0, 66.0, 58.0, 77.0, 72.0, 87.0, 68.0, 66.0, 75.0, 68.0, 90.0, 84.0, 75.0, 80.0, 72.0, 75.0, 72.0, 80.0, 80.0, 62.0, 72.0, 53.0, 85.0, 62.0, 83.0, 72.0, 73.0, 75.0, 72.0, 70.0, 72.0, 69.0, 100.0, 55.0, 63.0, 87.0, 80.0, 90.0, 87.0, 75.0, 100.0, 95.0, 87.0, 75.0, 86.0, 50.0, 72.0, 60.0, 65.0, 75.0, 72.0, 85.0, 69.0, 76.0, 87.0, 83.0, 80.0, 79.0, 75.0, 80.0, 60.0, 78.0, 77.0, 75.0, 72.0, 75.0, 61.0, 72.0, 70.0, 110.0, 78.0, 75.0, 75.0, 77.0, 62.0, 64.0, 85.0, 76.0, 67.0, 75.0, 85.0, 63.0, 80.0, 75.0, 50.0, 87.0, 92.0, 71.0, 98.0, 80.0, 75.0, 63.0, 79.0, 72.0, 76.0, 75.0, 68.0, 90.0, 60.0, 70.0, 75.0, 75.0, 75.0, 68.0, 60.0, 72.0, 70.0, 68.0, 83.0, 84.0, 75.0, 73.0, 90.0, 90.0, 70.0, 55.0, 75.0, 75.0, 82.0, 65.0, 72.0, 58.0, 66.0, 80.0, 63.0, 70.0, 70.0, 60.0, 88.0, 85.0, 75.0, 75.0, 75.0, 75.0, 53.0, 96.0, 80.0, 70.0, 60.0, 66.0, 76.0, 71.0, 82.0, 75.0, 68.0, 75.0, 85.0, 58.0, 95.0, 65.0, 65.0, 60.0, 72.0, 70.0, 72.0, 78.0, 56.0, 60.0, 100.0, 75.0, 65.0, 60.0, 57.0, 70.0, 73.0, 110.0, 72.0, 70.0, 82.0, 60.0, 75.0, 88.0, 75.0, 90.0, 82.0, 83.0, 75.0, 75.0, 72.0, 88.0, 110.0, 70.0, 67.0, 90.0, 80.0, 90.0, 67.0, 72.0, 86.0, 72.0, 85.0, 90.0, 80.0, 69.0, 60.0, 70.0, 92.0, 60.0, 75.0, 70.0, 72.0, 60.0, 74.0, 64.0, 98.0, 71.0, 75.0, 82.0, 75.0, 72.0, 63.0, 68.0, 65.0, 85.0, 72.0, 85.0, 80.0, 80.0, 92.0, 60.0, 60.0, 85.0, 96.0, 70.0, 65.0, 68.0, 67.0, 68.0, 80.0, 73.0, 55.0, 72.0, 122.0, 72.0, 67.0, 90.0, 78.0, 110.0, 85.0, 75.0, 100.0, 80.0, 80.0, 65.0, 75.0, 68.0, 75.0, 90.0, 80.0, 85.0, 80.0, 75.0, 75.0, 73.0, 72.0, 75.0, 75.0, 62.0, 70.0, 65.0, 80.0, 75.0, 110.0, 75.0, 57.0, 64.0, 75.0, 75.0, 69.0, 70.0, 73.0, 85.0, 75.0, 75.0, 60.0, 70.0, 52.0, 86.0, 90.0, 71.0, 75.0, 77.0, 94.0, 65.0, 67.0, 106.0, 60.0, 95.0, 71.0, 80.0, 95.0, 66.0, 95.0, 68.0, 92.0, 70.0, 62.0, 90.0, 67.0, 75.0, 85.0, 70.0, 70.0, 68.0, 78.0, 65.0, 75.0, 67.0, 75.0, 75.0, 80.0, 85.0, 69.0, 70.0, 67.0, 69.0, 80.0, 96.0, 93.0, 92.0, 74.0, 80.0, 67.0, 81.0, 78.0, 77.0, 52.0, 70.0, 87.0, 67.0, 68.0, 80.0, 75.0, 72.0, 75.0, 60.0, 90.0, 80.0, 82.0, 80.0, 86.0, 90.0, 68.0, 90.0, 65.0, 80.0, 80.0, 75.0, 80.0, 95.0, 82.0, 58.0, 60.0, 88.0, 65.0, 100.0, 88.0, 75.0, 54.0, 70.0, 110.0, 75.0, 68.0, 80.0, 70.0, 63.0, 110.0, 79.0, 100.0, 83.0, 70.0, 86.0, 80.0, 74.0, 68.0, 75.0, 88.0, 70.0, 66.0, 72.0, 93.0, 60.0, 85.0, 92.0, 90.0, 64.0, 65.0, 62.0, 63.0, 80.0, 91.0, 95.0, 70.0, 60.0, 62.0, 80.0, 65.0, 80.0, 90.0, 78.0, 70.0, 61.0, 88.0, 48.0, 75.0, 65.0, 107.0, 56.0, 66.0, 96.0, 77.0, 100.0, 68.0, 85.0, 91.0, 75.0, 70.0, 72.0, 50.0, 88.0, 68.0, 72.0, 80.0, 75.0, 68.0, 71.0, 67.0, 75.0, 85.0, 67.0, 70.0, 107.0, 60.0, 80.0, 60.0, 75.0, 67.0, 66.0, 70.0, 102.0, 75.0, 83.0, 80.0, 70.0, 83.0, 65.0, 85.0, 80.0, 68.0, 75.0, 80.0, 73.0, 120.0, 75.0, 65.0, 90.0, 78.0, 90.0, 100.0, 70.0, 70.0, 60.0, 120.0, 60.0, 95.0, 70.0, 84.0, 85.0, 80.0, 75.0, 69.0, 75.0, 62.0, 70.0, 85.0, 80.0, 95.0, 66.0, 67.0, 100.0, 80.0, 60.0, 60.0, 85.0, 65.0, 70.0, 60.0, 70.0, 75.0, 80.0, 78.0, 85.0, 65.0, 67.0, 75.0, 68.0, 66.0, 75.0, 75.0, 67.0, 85.0, 72.0, 79.0, 75.0, 75.0, 72.0, 64.0, 66.0, 72.0, 77.0, 100.0, 82.0, 66.0, 78.0, 92.0, 58.0, 70.0, 75.0, 75.0, 70.0, 68.0, 65.0, 78.0, 100.0, 90.0, 65.0, 88.0, 64.0, 85.0, 60.0, 72.0, 75.0, 70.0, 92.0, 73.0, 75.0, 75.0, 80.0, 80.0, 80.0, 75.0, 96.0, 73.0, 72.0, 76.0, 85.0, 70.0, 82.0, 52.0, 80.0, 75.0, 63.0, 75.0, 66.0, 80.0, 65.0, 83.0, 63.0, 85.0, 70.0, 75.0, 75.0, 73.0, 62.0, 90.0, 62.0, 80.0, 67.0, 75.0, 82.0, 70.0, 62.0, 55.0, 75.0, 85.0, 60.0, 72.0, 99.0, 72.0, 92.0, 70.0, 92.0, 83.0, 75.0, 60.0, 65.0, 63.0, 84.0, 75.0, 60.0, 70.0, 108.0, 65.0, 94.0, 72.0, 95.0, 90.0, 60.0, 92.0, 75.0, 75.0, 90.0, 60.0, 65.0, 87.0, 84.0, 120.0, 66.0, 95.0, 52.0, 75.0, 68.0, 70.0, 67.0, 80.0, 83.0, 72.0, 64.0, 68.0, 67.0, 60.0, 60.0, 85.0, 100.0, 67.0, 72.0, 68.0, 67.0, 75.0, 75.0, 73.0, 65.0, 78.0, 71.0, 75.0, 72.0, 75.0, 95.0, 66.0, 77.0, 85.0, 78.0, 70.0, 75.0, 65.0, 60.0, 72.0, 70.0, 75.0, 63.0, 84.0, 75.0, 63.0, 79.0, 90.0, 80.0, 100.0, 59.0, 92.0, 75.0, 72.0, 72.0, 75.0, 94.0, 86.0, 75.0, 115.0, 86.0, 80.0, 90.0, 60.0, 80.0, 77.0, 69.0, 64.0, 60.0, 68.0, 92.0, 85.0, 65.0, 67.0, 110.0, 95.0, 90.0, 72.0, 78.0, 67.0, 67.0, 73.0, 58.0, 75.0, 72.0, 75.0, 84.0, 100.0, 60.0, 72.0, 50.0, 70.0, 80.0, 79.0, 69.0, 65.0, 72.0, 80.0, 75.0, 75.0, 65.0, 82.0, 65.0, 55.0, 70.0, 69.0, 75.0, 62.0, 85.0, 72.0, 80.0, 80.0, 80.0, 70.0, 92.0, 63.0, 75.0, 82.0, 70.0, 68.0, 75.0, 100.0, 68.0, 70.0, 94.0, 96.0, 75.0, 74.0, 95.0, 67.0, 79.0, 62.0, 85.0, 80.0, 66.0, 85.0, 70.0, 103.0, 100.0, 71.0, 53.0, 84.0, 65.0, 62.0, 80.0, 66.0, 72.0, 75.0, 80.0, 85.0, 75.0, 63.0, 67.0, 100.0, 85.0, 72.0, 75.0, 66.0, 70.0, 75.0, 75.0, 100.0, 96.0, 65.0, 60.0, 75.0, 75.0, 90.0, 75.0, 82.0, 75.0, 70.0, 75.0, 75.0, 60.0, 75.0, 70.0, 74.0, 64.0, 75.0, 66.0, 96.0, 80.0, 69.0, 75.0, 53.0, 85.0, 86.0, 80.0, 75.0, 55.0, 80.0, 73.0, 67.0, 95.0, 68.0, 70.0, 85.0, 52.0, 58.0, 80.0, 75.0, 75.0, 92.0, 80.0, 85.0, 70.0, 95.0, 86.0, 92.0, 74.0, 75.0, 98.0, 75.0, 100.0, 100.0, 75.0, 75.0, 65.0, 68.0, 72.0, 65.0, 72.0, 120.0, 90.0, 60.0, 75.0, 66.0, 100.0, 82.0, 62.0, 70.0, 67.0, 76.0, 62.0, 82.0, 80.0, 80.0, 100.0, 58.0, 75.0, 78.0, 80.0, 60.0, 90.0, 72.0, 80.0, 75.0, 100.0, 75.0, 70.0, 68.0, 96.0, 80.0, 70.0, 74.0, 75.0, 64.0, 85.0, 67.0, 60.0, 84.0, 73.0, 80.0, 80.0, 77.0, 75.0, 79.0, 70.0, 85.0, 85.0, 68.0, 63.0, 102.0, 92.0, 98.0, 90.0, 75.0, 75.0, 65.0, 68.0, 62.0, 71.0, 63.0, 67.0, 52.0, 69.0, 72.0, 86.0, 83.0, 70.0, 80.0, 75.0, 98.0, 75.0, 63.0, 63.0, 62.0, 70.0, 68.0, 90.0, 76.0, 80.0, 85.0, 75.0, 80.0, 86.0, 75.0, 70.0, 95.0, 75.0, 60.0, 75.0, 72.0, 72.0, 52.0, 54.0, 100.0, 105.0, 60.0, 68.0, 62.0, 64.0, 90.0, 60.0, 75.0, 65.0, 75.0, 65.0, 80.0, 63.0, 70.0, 95.0, 65.0, 82.0, 90.0, 75.0, 80.0, 82.0, 88.0, 65.0, 69.0, 50.0, 60.0, 80.0, 62.0, 60.0, 68.0, 69.0, 86.0, 75.0, 77.0, 90.0, 85.0, 72.0, 75.0, 70.0, 56.0, 64.0, 80.0, 64.0, 83.0, 60.0, 72.0, 78.0, 83.0, 76.0, 75.0, 85.0, 70.0, 85.0, 90.0, 75.0, 65.0, 80.0, 68.0, 98.0, 80.0, 105.0, 72.0, 75.0, 77.0, 80.0, 85.0, 95.0, 76.0, 76.0, 76.0, 64.0, 75.0, 85.0, 85.0, 60.0, 60.0, 72.0, 78.0, 54.0, 90.0, 65.0, 92.0, 60.0, 70.0, 95.0, 80.0, 85.0, 143.0, 78.0, 66.0, 96.0, 101.0, 100.0, 65.0, 85.0, 65.0, 71.0, 72.0, 75.0, 55.0, 68.0, 110.0, 95.0, 55.0, 95.0, 67.0, 80.0, 70.0, 70.0, 80.0, 75.0, 68.0, 75.0, 70.0, 80.0, 70.0, 70.0, 94.0, 94.0, 85.0, 72.0, 78.0, 86.0, 66.0, 72.0, 71.0, 93.0, 72.0, 110.0, 100.0, 52.0, 72.0, 58.0, 60.0, 87.0, 60.0, 90.0, 72.0, 75.0, 80.0, 75.0, 100.0, 70.0, 66.0, 95.0, 82.0, 88.0, 60.0, 69.0, 94.0, 73.0, 95.0, 95.0, 70.0, 80.0, 80.0, 75.0, 120.0, 75.0, 85.0, 85.0, 63.0, 110.0, 85.0, 115.0, 85.0, 90.0, 60.0, 70.0, 70.0, 75.0, 98.0, 115.0, 80.0, 80.0, 50.0, 48.0, 75.0, 80.0, 94.0, 80.0, 75.0, 66.0, 82.0, 72.0, 65.0, 75.0, 55.0, 75.0, 60.0, 58.0, 85.0, 68.0, 75.0, 82.0, 50.0, 75.0, 64.0, 83.0, 70.0, 80.0, 65.0, 75.0, 75.0, 80.0, 56.0, 100.0, 75.0, 85.0, 75.0, 85.0, 90.0, 75.0, 67.0, 70.0, 75.0, 90.0, 75.0, 86.0, 75.0, 75.0, 82.0, 89.0, 83.0, 70.0, 58.0, 60.0, 80.0, 70.0, 65.0, 57.0, 60.0, 75.0, 60.0, 70.0, 65.0, 78.0, 65.0, 70.0, 63.0, 74.0, 91.0, 72.0, 78.0, 75.0, 75.0, 67.0, 85.0, 75.0, 60.0, 75.0, 65.0, 82.0, 75.0, 67.0, 64.0, 85.0, 65.0, 85.0, 80.0, 104.0, 77.0, 60.0, 85.0, 80.0, 80.0, 58.0, 72.0, 75.0, 70.0, 62.0, 73.0, 65.0, 77.0, 73.0, 78.0, 67.0, 85.0, 95.0, 65.0, 72.0, 83.0, 80.0, 70.0, 72.0, 65.0, 79.0, 70.0, 71.0, 75.0, 75.0, 68.0, 86.0, 65.0, 60.0, 80.0, 95.0, 80.0, 56.0, 70.0, 69.0, 64.0, 105.0, 80.0, 72.0, 98.0, 100.0, 72.0, 75.0, 66.0, 68.0, 75.0, 80.0, 90.0, 55.0, 76.0, 72.0, 80.0, 75.0, 98.0, 75.0, 74.0, 75.0, 72.0, 75.0, 83.0, 70.0, 65.0, 85.0, 67.0, 95.0, 75.0, 65.0, 95.0, 84.0, 105.0, 75.0, 75.0, 75.0, 57.0, 78.0, 75.0, 65.0, 83.0, 75.0, 88.0, 65.0, 65.0, 90.0, 60.0, 75.0, 68.0, 100.0, 76.0, 75.0, 67.0, 100.0, 65.0, 90.0, 82.0, 68.0, 84.0, 75.0, 63.0, 75.0, 76.0, 76.0, 77.0, 95.0, 74.0, 80.0, 80.0, 68.0, 86.0, 68.0, 60.0, 82.0, 80.0, 70.0, 90.0, 56.0, 75.0, 75.0, 68.0, 80.0, 69.0, 62.0, 75.0, 75.0, 75.0, 79.0, 96.0, 74.0, 75.0, 95.0, 80.0, 68.0, 107.0, 75.0, 63.0, 85.0, 75.0, 73.0, 75.0, 57.0, 90.0, 89.0, 105.0, 65.0, 66.0, 82.0, 102.0, 98.0, 92.0, 94.0, 71.0, 63.0, 75.0, 79.0, 68.0, 65.0, 90.0, 80.0, 88.0, 65.0, 75.0, 65.0, 80.0, 62.0, 65.0, 70.0, 79.0, 73.0, 66.0, 74.0, 66.0, 80.0, 60.0, 75.0, 72.0, 80.0, 80.0, 80.0, 60.0, 62.0, 78.0, 63.0, 75.0, 100.0, 77.0, 90.0, 90.0, 103.0, 66.0, 95.0, 96.0, 90.0, 72.0, 72.0, 65.0, 75.0, 75.0, 75.0, 68.0, 87.0, 60.0, 72.0, 80.0, 60.0, 60.0, 70.0, 67.0, 88.0, 65.0, 77.0, 72.0, 90.0, 92.0, 115.0, 72.0, 70.0, 72.0, 80.0, 85.0, 67.0, 85.0, 85.0, 60.0, 92.0, 85.0, 72.0, 100.0, 85.0, 55.0, 90.0, 75.0, 70.0, 79.0, 80.0, 96.0, 80.0, 66.0, 83.0, 93.0, 89.0, 85.0, 70.0, 55.0, 91.0, 82.0, 75.0, 85.0, 82.0, 75.0, 85.0, 65.0, 68.0, 70.0, 75.0, 65.0, 67.0, 92.0, 75.0, 72.0, 70.0, 75.0, 75.0, 63.0, 65.0, 64.0, 85.0, 56.0, 88.0, 75.0, 70.0, 75.0, 85.0, 100.0, 85.0, 80.0, 80.0, 75.0, 67.0, 69.0, 80.0, 69.0, 76.0, 70.0, 60.0, 80.0, 77.0, 80.0, 75.0, 60.0, 90.0, 90.0, 86.0, 75.0, 65.0, 75.0, 75.0, 86.0, 75.0, 85.0, 78.0, 68.0, 60.0, 62.0, 96.0, 65.0, 87.0, 91.0, 83.0, 60.0, 75.0, 60.0, 90.0, 75.0, 88.0, 100.0, 60.0, 70.0, 80.0, 82.0, 65.0, 75.0, 57.0, 69.0, 72.0, 60.0, 80.0, 55.0, 82.0, 75.0, 65.0, 75.0, 62.0, 80.0, 75.0, 60.0, 56.0, 80.0, 90.0, 85.0, 87.0, 65.0, 60.0, 63.0, 72.0, 75.0, 45.0, 60.0, 84.0, 62.0, 75.0, 120.0, 66.0, 78.0, 100.0, 86.0, 70.0, 70.0, 92.0, 66.0, 75.0, 66.0, 75.0, 80.0, 65.0, 65.0, 67.0, 70.0, 65.0, 76.0, 80.0, 68.0, 85.0, 58.0, 80.0, 80.0, 63.0, 82.0, 83.0, 95.0, 80.0, 80.0, 75.0, 80.0, 90.0, 80.0, 80.0, 65.0, 90.0, 67.0, 75.0, 76.0, 78.0, 92.0, 110.0, 85.0, 55.0, 75.0, 65.0, 90.0, 75.0, 63.0, 75.0, 80.0, 75.0, 80.0, 65.0, 75.0, 70.0, 82.0, 68.0, 102.0, 115.0, 70.0, 69.0, 85.0, 85.0, 64.0, 70.0, 71.0, 56.0, 80.0, 72.0, 88.0, 90.0, 72.0, 75.0, 67.0, 66.0, 90.0, 77.0, 75.0, 67.0, 65.0, 96.0, 65.0, 90.0, 110.0, 60.0, 63.0, 80.0, 75.0, 69.0, 70.0, 60.0, 58.0, 60.0, 68.0, 63.0, 80.0, 75.0, 100.0, 75.0, 70.0, 122.0, 72.0, 88.0, 65.0, 95.0, 80.0, 86.0, 75.0, 85.0, 110.0, 72.0, 100.0, 82.0, 65.0, 84.0, 96.0, 90.0, 77.0, 66.0, 88.0, 75.0, 100.0, 80.0, 90.0, 60.0, 79.0, 82.0, 84.0, 75.0, 85.0, 70.0, 65.0, 72.0, 73.0, 80.0, 75.0, 79.0, 100.0, 95.0, 85.0, 80.0, 108.0, 62.0, 90.0, 80.0, 100.0, 62.0, 63.0, 75.0, 68.0, 74.0, 75.0, 64.0, 80.0, 72.0, 90.0, 74.0, 90.0, 75.0, 74.0, 79.0, 70.0, 75.0, 92.0, 88.0, 88.0, 90.0, 60.0, 102.0, 78.0, 75.0, 85.0, 68.0, 74.0, 73.0, 75.0, 80.0, 72.0, 62.0, 80.0, 67.0, 70.0, 80.0, 75.0, 110.0, 72.0, 64.0, 82.0, 80.0, 85.0, 66.0, 95.0, 82.0, 64.0, 85.0, 88.0, 94.0, 88.0, 77.0, 85.0, 80.0, 80.0, 85.0, 58.0, 55.0, 102.0, 72.0, 60.0, 79.0, 86.0, 92.0, 73.0, 68.0, 72.0, 65.0, 90.0, 70.0, 82.0, 63.0, 63.0, 86.0, 68.0, 83.0, 75.0, 75.0, 87.0, 79.0, 85.0, 70.0, 73.0, 75.0, 90.0, 72.0, 73.0, 63.0, 75.0, 75.0, 67.0, 80.0, 63.0, 85.0, 60.0, 88.0, 78.0, 96.0, 96.0, 75.0, 100.0, 66.0, 70.0, 85.0, 100.0, 75.0, 95.0, 80.0, 85.0, 60.0, 60.0, 82.0, 79.0, 80.0, 80.0, 65.0, 125.0, 58.0, 68.0, 80.0, 70.0, 67.0, 60.0, 60.0, 80.0, 88.0, 90.0, 73.0, 75.0, 60.0, 86.0, 60.0, 125.0, 88.0, 67.0, 70.0, 80.0, 80.0, 68.0, 75.0, 78.0, 70.0, 88.0, 80.0, 82.0, 67.0, 58.0, 90.0, 96.0, 68.0, 80.0, 75.0, 64.0, 66.0, 77.0, 80.0, 90.0, 75.0, 73.0, 70.0, 55.0, 70.0, 80.0, 82.0, 70.0, 85.0, 72.0, 90.0, 100.0, 70.0, 85.0, 68.0, 76.0, 65.0, 94.0, 69.0, 66.0, 94.0, 82.0, 80.0, 98.0, 50.0, 68.0, 63.0, 75.0, 55.0, 85.0, 75.0, 77.0, 85.0, 64.0, 80.0, 80.0, 66.0, 75.0, 84.0, 72.0, 80.0, 75.0, 90.0, 70.0, 67.0, 80.0, 85.0, 85.0, 58.0, 80.0, 65.0, 70.0, 68.0, 75.0, 68.0, 60.0, 85.0, 77.0, 52.0, 112.0, 88.0, 72.0, 75.0, 75.0, 75.0, 75.0, 69.0, 68.0, 70.0, 82.0, 65.0, 79.0, 68.0, 63.0, 60.0, 92.0, 70.0, 70.0, 88.0, 60.0, 92.0, 92.0, 80.0, 75.0, 63.0, 65.0, 75.0, 95.0, 46.0, 75.0, 79.0, 72.0, 90.0, 65.0, 75.0, 85.0, 75.0, 63.0, 75.0, 89.0, 55.0, 70.0, 85.0, 65.0, 84.0, 75.0, 76.0, 78.0, 70.0, 95.0, 72.0, 65.0, 75.0, 80.0, 70.0, 90.0, 75.0, 83.0, 67.0, 80.0, 85.0, 80.0, 60.0, 66.0, 65.0, 80.0, 67.0, 85.0]}, {\"label\": \"glucose\", \"values\": [77.0, 76.0, 70.0, 103.0, 85.0, 99.0, 85.0, 78.0, 79.0, 88.0, 76.0, 61.0, 64.0, 84.0, 70.0, 72.0, 89.0, 78.0, 65.0, 85.0, 113.0, 75.0, 83.0, 66.0, 83.0, 65.0, 74.0, 63.0, 75.0, 88.0, 87.0, 83.0, 225.0, 90.0, 80.0, 78.0, 74.0, 100.0, 215.0, 98.0, 87.0, 74.0, 75.0, 79.0, 95.0, 75.0, 75.0, 94.0, 55.0, 80.0, 82.0, 87.0, 93.0, 74.0, 73.0, 72.0, 64.0, 45.0, 202.0, 78.0, 83.0, 87.0, 95.0, 75.0, 83.0, 103.0, 68.0, 63.0, 65.0, 83.0, 70.0, 87.0, 82.0, 83.0, 65.0, 77.0, 78.0, 70.0, 76.0, 75.0, 97.0, 77.0, 104.0, 65.0, 96.0, 126.0, 120.0, 66.0, 75.0, 105.0, 71.0, 64.0, 99.0, 56.0, 79.0, 73.0, 84.0, 60.0, 87.0, 68.0, 71.0, 117.0, 75.0, 72.0, 77.0, 85.0, 87.0, 62.0, 80.0, 97.0, 102.0, 58.0, 90.0, 82.0, 68.0, 74.0, 65.0, 75.0, 92.0, 88.0, 83.0, 94.0, 78.0, 78.0, 90.0, 65.0, 87.0, 109.0, 102.0, 76.0, 86.0, 92.0, 75.0, 64.0, 74.0, 79.0, 85.0, 84.0, 75.0, 73.0, 107.0, 54.0, 72.0, 75.0, 67.0, 86.0, 82.0, 72.0, 75.0, 71.0, 75.0, 79.0, 60.0, 79.0, 77.0, 88.0, 60.0, 68.0, 74.0, 77.0, 61.0, 74.0, 75.0, 75.0, 85.0, 97.0, 78.0, 86.0, 87.0, 69.0, 57.0, 65.0, 63.0, 87.0, 90.0, 72.0, 57.0, 54.0, 83.0, 98.0, 88.0, 83.0, 63.0, 88.0, 84.0, 97.0, 91.0, 75.0, 87.0, 76.0, 75.0, 132.0, 65.0, 92.0, 74.0, 68.0, 74.0, 68.0, 84.0, 83.0, 84.0, 78.0, 65.0, 105.0, 94.0, 70.0, 77.0, 70.0, 100.0, 63.0, 75.0, 75.0, 75.0, 80.0, 97.0, 60.0, 73.0, 97.0, 76.0, 69.0, 72.0, 74.0, 150.0, 68.0, 66.0, 75.0, 66.0, 70.0, 75.0, 107.0, 87.0, 95.0, 73.0, 61.0, 93.0, 94.0, 83.0, 76.0, 70.0, 78.0, 94.0, 73.0, 76.0, 70.0, 80.0, 73.0, 87.0, 87.0, 59.0, 94.0, 85.0, 66.0, 120.0, 75.0, 68.0, 79.0, 68.0, 70.0, 113.0, 99.0, 87.0, 78.0, 66.0, 61.0, 83.0, 77.0, 70.0, 60.0, 79.0, 67.0, 93.0, 105.0, 85.0, 79.0, 73.0, 75.0, 90.0, 75.0, 68.0, 80.0, 66.0, 71.0, 63.0, 64.0, 85.0, 85.0, 86.0, 100.0, 77.0, 81.0, 90.0, 73.0, 70.0, 96.0, 94.0, 77.0, 87.0, 76.0, 92.0, 78.0, 72.0, 56.0, 73.0, 92.0, 85.0, 84.0, 68.0, 91.0, 74.0, 115.0, 84.0, 88.0, 64.0, 80.0, 98.0, 95.0, 117.0, 88.0, 58.0, 79.0, 77.0, 97.0, 70.0, 71.0, 80.0, 83.0, 70.0, 113.0, 55.0, 79.0, 66.0, 84.0, 84.0, 98.0, 81.0, 72.0, 87.0, 91.0, 84.0, 82.0, 87.0, 140.0, 76.0, 73.0, 81.0, 80.0, 60.0, 78.0, 76.0, 65.0, 87.0, 90.0, 68.0, 66.0, 76.0, 65.0, 88.0, 78.0, 64.0, 85.0, 112.0, 82.0, 118.0, 72.0, 79.0, 82.0, 83.0, 85.0, 113.0, 83.0, 85.0, 77.0, 67.0, 57.0, 114.0, 76.0, 70.0, 71.0, 93.0, 85.0, 95.0, 160.0, 104.0, 78.0, 75.0, 78.0, 90.0, 65.0, 110.0, 75.0, 89.0, 72.0, 74.0, 93.0, 65.0, 71.0, 84.0, 117.0, 80.0, 115.0, 87.0, 72.0, 83.0, 80.0, 66.0, 123.0, 72.0, 78.0, 90.0, 85.0, 80.0, 74.0, 108.0, 98.0, 70.0, 100.0, 65.0, 70.0, 85.0, 85.0, 86.0, 79.0, 81.0, 104.0, 57.0, 72.0, 76.0, 73.0, 95.0, 70.0, 68.0, 70.0, 82.0, 83.0, 75.0, 100.0, 95.0, 76.0, 77.0, 63.0, 91.0, 72.0, 96.0, 92.0, 70.0, 63.0, 93.0, 89.0, 90.0, 95.0, 84.0, 77.0, 73.0, 93.0, 61.0, 75.0, 69.0, 61.0, 100.0, 55.0, 74.0, 70.0, 77.0, 81.0, 78.0, 64.0, 80.0, 73.0, 107.0, 90.0, 78.0, 74.0, 100.0, 70.0, 77.0, 77.0, 68.0, 95.0, 74.0, 72.0, 68.0, 75.0, 78.0, 95.0, 80.0, 68.0, 78.0, 63.0, 88.0, 78.0, 57.0, 88.0, 77.0, 69.0, 70.0, 76.0, 75.0, 72.0, 74.0, 89.0, 95.0, 74.0, 67.0, 85.0, 76.0, 82.0, 145.0, 76.0, 83.0, 83.0, 90.0, 59.0, 105.0, 79.0, 99.0, 66.0, 90.0, 88.0, 88.0, 72.0, 68.0, 67.0, 57.0, 91.0, 126.0, 86.0, 83.0, 83.0, 69.0, 68.0, 77.0, 80.0, 82.0, 118.0, 77.0, 60.0, 83.0, 93.0, 76.0, 84.0, 72.0, 68.0, 84.0, 71.0, 93.0, 84.0, 79.0, 67.0, 83.0, 83.0, 69.0, 84.0, 80.0, 65.0, 89.0, 85.0, 108.0, 94.0, 74.0, 80.0, 65.0, 80.0, 87.0, 90.0, 108.0, 83.0, 66.0, 74.0, 74.0, 84.0, 103.0, 83.0, 80.0, 74.0, 82.0, 62.0, 73.0, 74.0, 84.0, 75.0, 117.0, 84.0, 71.0, 70.0, 67.0, 83.0, 108.0, 81.0, 69.0, 85.0, 79.0, 66.0, 99.0, 90.0, 98.0, 85.0, 102.0, 74.0, 75.0, 76.0, 78.0, 69.0, 65.0, 120.0, 89.0, 78.0, 64.0, 85.0, 60.0, 77.0, 90.0, 80.0, 69.0, 77.0, 103.0, 122.0, 72.0, 73.0, 74.0, 75.0, 103.0, 77.0, 76.0, 68.0, 70.0, 75.0, 94.0, 75.0, 84.0, 90.0, 73.0, 67.0, 80.0, 72.0, 63.0, 77.0, 76.0, 80.0, 63.0, 78.0, 61.0, 77.0, 66.0, 71.0, 90.0, 80.0, 80.0, 75.0, 74.0, 137.0, 72.0, 67.0, 76.0, 89.0, 82.0, 93.0, 62.0, 77.0, 95.0, 106.0, 91.0, 127.0, 74.0, 80.0, 68.0, 70.0, 205.0, 83.0, 90.0, 114.0, 85.0, 70.0, 88.0, 67.0, 92.0, 82.0, 71.0, 71.0, 70.0, 69.0, 60.0, 72.0, 80.0, 70.0, 115.0, 85.0, 66.0, 75.0, 70.0, 87.0, 73.0, 76.0, 113.0, 45.0, 67.0, 60.0, 74.0, 72.0, 93.0, 66.0, 80.0, 65.0, 68.0, 118.0, 85.0, 89.0, 82.0, 72.0, 87.0, 67.0, 87.0, 85.0, 91.0, 76.0, 78.0, 94.0, 84.0, 99.0, 79.0, 60.0, 68.0, 67.0, 85.0, 130.0, 65.0, 93.0, 118.0, 100.0, 70.0, 88.0, 74.0, 82.0, 70.0, 102.0, 112.0, 82.0, 75.0, 107.0, 71.0, 83.0, 80.0, 78.0, 81.0, 85.0, 76.0, 74.0, 75.0, 63.0, 101.0, 80.0, 60.0, 68.0, 94.0, 120.0, 67.0, 67.0, 81.0, 62.0, 77.0, 83.0, 74.0, 85.0, 100.0, 73.0, 74.0, 68.0, 70.0, 75.0, 77.0, 100.0, 79.0, 106.0, 89.0, 67.0, 69.0, 84.0, 76.0, 84.0, 75.0, 87.0, 60.0, 94.0, 87.0, 105.0, 73.0, 88.0, 93.0, 68.0, 78.0, 76.0, 74.0, 63.0, 97.0, 85.0, 97.0, 75.0, 76.0, 85.0, 72.0, 64.0, 93.0, 47.0, 71.0, 77.0, 74.0, 87.0, 76.0, 73.0, 82.0, 80.0, 53.0, 70.0, 94.0, 90.0, 73.0, 80.0, 108.0, 62.0, 74.0, 87.0, 77.0, 112.0, 73.0, 90.0, 103.0, 97.0, 86.0, 83.0, 216.0, 70.0, 60.0, 67.0, 82.0, 65.0, 84.0, 78.0, 75.0, 95.0, 73.0, 71.0, 78.0, 163.0, 97.0, 80.0, 79.0, 89.0, 71.0, 113.0, 77.0, 68.0, 83.0, 67.0, 70.0, 80.0, 65.0, 77.0, 99.0, 69.0, 70.0, 77.0, 76.0, 78.0, 85.0, 82.0, 72.0, 90.0, 70.0, 88.0, 68.0, 81.0, 75.0, 103.0, 91.0, 70.0, 68.0, 80.0, 65.0, 113.0, 78.0, 80.0, 78.0, 77.0, 75.0, 74.0, 112.0, 92.0, 86.0, 74.0, 88.0, 85.0, 81.0, 74.0, 87.0, 83.0, 88.0, 69.0, 144.0, 76.0, 70.0, 75.0, 73.0, 81.0, 97.0, 55.0, 59.0, 68.0, 116.0, 83.0, 57.0, 95.0, 76.0, 83.0, 85.0, 82.0, 79.0, 87.0, 104.0, 65.0, 94.0, 95.0, 83.0, 75.0, 69.0, 121.0, 82.0, 83.0, 103.0, 78.0, 81.0, 172.0, 84.0, 75.0, 88.0, 66.0, 70.0, 62.0, 66.0, 78.0, 90.0, 82.0, 68.0, 79.0, 59.0, 77.0, 83.0, 77.0, 88.0, 75.0, 85.0, 84.0, 81.0, 74.0, 84.0, 75.0, 60.0, 73.0, 83.0, 70.0, 73.0, 74.0, 79.0, 79.0, 64.0, 91.0, 83.0, 83.0, 140.0, 80.0, 83.0, 67.0, 72.0, 66.0, 90.0, 70.0, 86.0, 92.0, 75.0, 103.0, 60.0, 74.0, 70.0, 124.0, 90.0, 76.0, 85.0, 68.0, 80.0, 112.0, 60.0, 75.0, 75.0, 74.0, 82.0, 93.0, 78.0, 60.0, 69.0, 69.0, 63.0, 80.0, 95.0, 111.0, 88.0, 73.0, 104.0, 78.0, 82.0, 77.0, 66.0, 95.0, 87.0, 63.0, 64.0, 79.0, 71.0, 96.0, 100.0, 78.0, 75.0, 81.0, 85.0, 72.0, 73.0, 75.0, 40.0, 89.0, 77.0, 75.0, 71.0, 126.0, 77.0, 79.0, 60.0, 78.0, 75.0, 67.0, 91.0, 68.0, 75.0, 84.0, 71.0, 91.0, 76.0, 100.0, 76.0, 67.0, 77.0, 80.0, 62.0, 63.0, 77.0, 75.0, 82.0, 75.0, 82.0, 71.0, 90.0, 100.0, 68.0, 75.0, 79.0, 71.0, 68.0, 73.0, 63.0, 82.0, 110.0, 73.0, 81.0, 73.0, 60.0, 79.0, 186.0, 78.0, 72.0, 98.0, 90.0, 73.0, 100.0, 102.0, 73.0, 84.0, 57.0, 80.0, 69.0, 82.0, 75.0, 80.0, 70.0, 79.0, 64.0, 73.0, 77.0, 77.0, 62.0, 73.0, 87.0, 78.0, 223.0, 67.0, 80.0, 80.0, 75.0, 77.0, 84.0, 76.0, 84.0, 68.0, 71.0, 66.0, 70.0, 83.0, 117.0, 73.0, 78.0, 88.0, 67.0, 75.0, 66.0, 75.0, 77.0, 88.0, 75.0, 65.0, 76.0, 81.0, 78.0, 57.0, 69.0, 88.0, 107.0, 68.0, 83.0, 83.0, 76.0, 73.0, 69.0, 59.0, 83.0, 69.0, 70.0, 87.0, 100.0, 65.0, 103.0, 80.0, 65.0, 85.0, 77.0, 84.0, 78.0, 99.0, 75.0, 89.0, 66.0, 74.0, 77.0, 100.0, 62.0, 66.0, 86.0, 80.0, 74.0, 58.0, 87.0, 75.0, 65.0, 97.0, 65.0, 72.0, 85.0, 77.0, 70.0, 76.0, 91.0, 77.0, 75.0, 85.0, 325.0, 82.0, 75.0, 86.0, 67.0, 60.0, 76.0, 83.0, 78.0, 87.0, 80.0, 96.0, 75.0, 62.0, 79.0, 93.0, 88.0, 77.0, 87.0, 90.0, 62.0, 84.0, 87.0, 90.0, 72.0, 68.0, 68.0, 77.0, 62.0, 78.0, 83.0, 75.0, 82.0, 87.0, 78.0, 55.0, 82.0, 65.0, 100.0, 100.0, 60.0, 98.0, 108.0, 73.0, 62.0, 77.0, 72.0, 44.0, 63.0, 77.0, 88.0, 85.0, 77.0, 69.0, 78.0, 95.0, 64.0, 65.0, 78.0, 79.0, 85.0, 91.0, 93.0, 95.0, 58.0, 95.0, 57.0, 65.0, 76.0, 97.0, 85.0, 69.0, 82.0, 72.0, 83.0, 93.0, 77.0, 78.0, 74.0, 84.0, 85.0, 156.0, 107.0, 74.0, 60.0, 75.0, 82.0, 82.0, 67.0, 77.0, 87.0, 72.0, 92.0, 86.0, 95.0, 67.0, 75.0, 83.0, 70.0, 66.0, 98.0, 74.0, 83.0, 54.0, 83.0, 79.0, 79.0, 100.0, 268.0, 120.0, 100.0, 83.0, 73.0, 72.0, 79.0, 70.0, 72.0, 61.0, 80.0, 77.0, 75.0, 74.0, 96.0, 81.0, 78.0, 99.0, 78.0, 75.0, 60.0, 67.0, 80.0, 73.0, 74.0, 83.0, 80.0, 80.0, 76.0, 92.0, 122.0, 72.0, 75.0, 81.0, 78.0, 77.0, 82.0, 95.0, 87.0, 78.0, 75.0, 72.0, 67.0, 85.0, 60.0, 70.0, 76.0, 70.0, 80.0, 94.0, 96.0, 86.0, 83.0, 90.0, 77.0, 74.0, 60.0, 117.0, 72.0, 68.0, 59.0, 77.0, 95.0, 73.0, 80.0, 70.0, 87.0, 102.0, 70.0, 74.0, 87.0, 75.0, 84.0, 93.0, 86.0, 73.0, 72.0, 87.0, 93.0, 71.0, 63.0, 88.0, 83.0, 89.0, 83.0, 103.0, 72.0, 87.0, 100.0, 63.0, 77.0, 87.0, 75.0, 81.0, 88.0, 85.0, 81.0, 80.0, 74.0, 86.0, 59.0, 93.0, 80.0, 73.0, 64.0, 78.0, 78.0, 76.0, 60.0, 90.0, 78.0, 75.0, 73.0, 79.0, 80.0, 92.0, 81.0, 83.0, 84.0, 87.0, 68.0, 88.0, 70.0, 50.0, 80.0, 64.0, 93.0, 80.0, 84.0, 98.0, 82.0, 75.0, 68.0, 77.0, 93.0, 67.0, 82.0, 70.0, 103.0, 85.0, 274.0, 72.0, 78.0, 73.0, 81.0, 72.0, 83.0, 63.0, 66.0, 80.0, 77.0, 95.0, 80.0, 60.0, 83.0, 83.0, 86.0, 63.0, 62.0, 57.0, 75.0, 66.0, 292.0, 58.0, 93.0, 98.0, 75.0, 83.0, 86.0, 85.0, 70.0, 68.0, 84.0, 59.0, 74.0, 71.0, 79.0, 73.0, 85.0, 73.0, 75.0, 111.0, 67.0, 83.0, 78.0, 75.0, 84.0, 85.0, 65.0, 83.0, 83.0, 74.0, 73.0, 66.0, 79.0, 67.0, 76.0, 81.0, 91.0, 87.0, 82.0, 95.0, 65.0, 104.0, 72.0, 78.0, 70.0, 118.0, 90.0, 81.0, 73.0, 75.0, 92.0, 75.0, 76.0, 76.0, 100.0, 87.0, 62.0, 75.0, 114.0, 63.0, 90.0, 84.0, 112.0, 97.0, 77.0, 103.0, 85.0, 65.0, 87.0, 73.0, 85.0, 75.0, 69.0, 67.0, 76.0, 76.0, 90.0, 91.0, 69.0, 83.0, 68.0, 85.0, 87.0, 90.0, 92.0, 81.0, 67.0, 72.0, 67.0, 78.0, 70.0, 93.0, 76.0, 75.0, 76.0, 93.0, 102.0, 83.0, 82.0, 63.0, 70.0, 78.0, 73.0, 116.0, 70.0, 62.0, 64.0, 93.0, 68.0, 88.0, 85.0, 67.0, 90.0, 87.0, 75.0, 68.0, 85.0, 75.0, 74.0, 77.0, 88.0, 62.0, 74.0, 78.0, 75.0, 68.0, 80.0, 92.0, 84.0, 57.0, 73.0, 108.0, 61.0, 82.0, 66.0, 74.0, 90.0, 97.0, 70.0, 76.0, 67.0, 73.0, 78.0, 65.0, 114.0, 73.0, 79.0, 93.0, 62.0, 70.0, 77.0, 60.0, 80.0, 79.0, 62.0, 127.0, 80.0, 75.0, 78.0, 77.0, 67.0, 78.0, 120.0, 115.0, 86.0, 105.0, 85.0, 79.0, 81.0, 87.0, 88.0, 86.0, 74.0, 72.0, 72.0, 74.0, 66.0, 66.0, 53.0, 87.0, 85.0, 74.0, 103.0, 75.0, 82.0, 89.0, 74.0, 91.0, 97.0, 67.0, 67.0, 107.0, 85.0, 76.0, 104.0, 90.0, 58.0, 74.0, 90.0, 115.0, 62.0, 63.0, 79.0, 65.0, 90.0, 80.0, 74.0, 80.0, 100.0, 118.0, 83.0, 63.0, 77.0, 78.0, 86.0, 65.0, 74.0, 85.0, 87.0, 255.0, 107.0, 77.0, 100.0, 72.0, 90.0, 83.0, 83.0, 78.0, 83.0, 110.0, 88.0, 91.0, 100.0, 63.0, 85.0, 79.0, 80.0, 77.0, 60.0, 75.0, 85.0, 72.0, 71.0, 74.0, 72.0, 83.0, 77.0, 77.0, 80.0, 69.0, 92.0, 71.0, 123.0, 72.0, 76.0, 67.0, 68.0, 80.0, 73.0, 136.0, 71.0, 80.0, 79.0, 77.0, 79.0, 123.0, 76.0, 76.0, 84.0, 74.0, 206.0, 86.0, 127.0, 81.0, 82.0, 100.0, 78.0, 105.0, 70.0, 85.0, 88.0, 88.0, 62.0, 77.0, 84.0, 77.0, 65.0, 71.0, 74.0, 47.0, 75.0, 83.0, 85.0, 89.0, 77.0, 77.0, 74.0, 65.0, 72.0, 55.0, 131.0, 70.0, 84.0, 73.0, 148.0, 69.0, 73.0, 84.0, 71.0, 83.0, 76.0, 79.0, 87.0, 62.0, 77.0, 72.0, 78.0, 72.0, 98.0, 66.0, 101.0, 81.0, 93.0, 65.0, 79.0, 96.0, 67.0, 92.0, 73.0, 71.0, 93.0, 75.0, 77.0, 72.0, 88.0, 80.0, 76.0, 77.0, 60.0, 77.0, 85.0, 73.0, 70.0, 92.0, 67.0, 65.0, 100.0, 77.0, 103.0, 78.0, 80.0, 74.0, 70.0, 80.0, 78.0, 79.0, 70.0, 96.0, 66.0, 87.0, 73.0, 88.0, 68.0, 75.0, 100.0, 82.0, 83.0, 73.0, 75.0, 82.0, 53.0, 65.0, 86.0, 70.0, 84.0, 78.0, 95.0, 84.0, 70.0, 67.0, 76.0, 79.0, 90.0, 78.0, 96.0, 80.0, 73.0, 77.0, 60.0, 50.0, 78.0, 65.0, 103.0, 89.0, 78.0, 78.0, 68.0, 61.0, 73.0, 100.0, 95.0, 65.0, 83.0, 69.0, 74.0, 69.0, 65.0, 107.0, 67.0, 75.0, 80.0, 74.0, 88.0, 77.0, 83.0, 120.0, 78.0, 77.0, 86.0, 77.0, 94.0, 88.0, 70.0, 80.0, 68.0, 88.0, 85.0, 63.0, 118.0, 80.0, 76.0, 77.0, 68.0, 90.0, 75.0, 77.0, 74.0, 82.0, 73.0, 97.0, 95.0, 68.0, 72.0, 65.0, 90.0, 97.0, 70.0, 75.0, 132.0, 58.0, 87.0, 88.0, 81.0, 77.0, 75.0, 43.0, 83.0, 74.0, 78.0, 67.0, 71.0, 65.0, 95.0, 113.0, 173.0, 84.0, 76.0, 73.0, 98.0, 70.0, 65.0, 79.0, 98.0, 82.0, 69.0, 70.0, 86.0, 68.0, 82.0, 71.0, 67.0, 60.0, 71.0, 70.0, 118.0, 89.0, 79.0, 66.0, 87.0, 71.0, 66.0, 74.0, 62.0, 83.0, 126.0, 91.0, 77.0, 78.0, 69.0, 73.0, 75.0, 89.0, 95.0, 74.0, 83.0, 84.0, 82.0, 83.0, 68.0, 94.0, 86.0, 82.0, 73.0, 78.0, 92.0, 62.0, 74.0, 64.0, 67.0, 92.0, 96.0, 70.0, 81.0, 80.0, 93.0, 84.0, 74.0, 78.0, 94.0, 102.0, 70.0, 80.0, 77.0, 77.0, 83.0, 73.0, 83.0, 80.0, 96.0, 77.0, 75.0, 78.0, 84.0, 100.0, 60.0, 73.0, 101.0, 74.0, 93.0, 107.0, 75.0, 83.0, 60.0, 74.0, 66.0, 73.0, 71.0, 90.0, 75.0, 78.0, 73.0, 70.0, 77.0, 79.0, 85.0, 95.0, 75.0, 77.0, 97.0, 70.0, 78.0, 79.0, 77.0, 70.0, 87.0, 88.0, 67.0, 80.0, 71.0, 87.0, 88.0, 75.0, 71.0, 90.0, 72.0, 72.0, 79.0, 87.0, 115.0, 58.0, 72.0, 206.0, 75.0, 85.0, 86.0, 88.0, 72.0, 75.0, 77.0, 90.0, 99.0, 65.0, 87.0, 74.0, 90.0, 81.0, 140.0, 82.0, 68.0, 65.0, 78.0, 67.0, 76.0, 89.0, 108.0, 106.0, 73.0, 386.0, 63.0, 97.0, 69.0, 71.0, 73.0, 77.0, 88.0, 73.0, 127.0, 77.0, 74.0, 74.0, 93.0, 68.0, 70.0, 77.0, 73.0, 87.0, 66.0, 80.0, 88.0, 60.0, 79.0, 75.0, 61.0, 81.0, 82.0, 76.0, 67.0, 97.0, 86.0, 75.0, 96.0, 76.0, 66.0, 67.0, 83.0, 71.0, 90.0, 85.0, 71.0, 72.0, 60.0, 83.0, 76.0, 80.0, 64.0, 80.0, 104.0, 100.0, 77.0, 86.0, 61.0, 83.0, 100.0, 121.0, 81.0, 80.0, 67.0, 67.0, 81.0, 84.0, 90.0, 99.0, 73.0, 80.0, 60.0, 69.0, 76.0, 85.0, 72.0, 67.0, 76.0, 73.0, 97.0, 86.0, 78.0, 79.0, 73.0, 85.0, 79.0, 60.0, 79.0, 78.0, 73.0, 155.0, 59.0, 74.0, 73.0, 60.0, 215.0, 78.0, 84.0, 82.0, 93.0, 87.0, 68.0, 85.0, 64.0, 73.0, 77.0, 90.0, 84.0, 70.0, 68.0, 74.0, 67.0, 85.0, 85.0, 84.0, 150.0, 58.0, 87.0, 85.0, 87.0, 64.0, 70.0, 72.0, 75.0, 87.0, 72.0, 84.0, 70.0, 70.0, 74.0, 75.0, 72.0, 70.0, 87.0, 88.0, 78.0, 100.0, 76.0, 85.0, 80.0, 87.0, 83.0, 79.0, 69.0, 84.0, 62.0, 75.0, 91.0, 57.0, 67.0, 82.0, 89.0, 74.0, 78.0, 77.0, 63.0, 71.0, 84.0, 85.0, 88.0, 73.0, 67.0, 64.0, 72.0, 86.0, 95.0, 65.0, 84.0, 73.0, 66.0, 83.0, 103.0, 82.0, 72.0, 108.0, 147.0, 72.0, 79.0, 82.0, 69.0, 81.0, 75.0, 81.0, 81.0, 75.0, 117.0, 57.0, 77.0, 94.0, 85.0, 90.0, 84.0, 61.0, 73.0, 83.0, 73.0, 123.0, 74.0, 83.0, 92.0, 96.0, 72.0, 79.0, 77.0, 76.0, 75.0, 79.0, 61.0, 77.0, 110.0, 76.0, 84.0, 90.0, 90.0, 78.0, 84.0, 170.0, 84.0, 87.0, 86.0, 71.0, 77.0, 95.0, 86.0, 79.0, 100.0, 98.0, 76.0, 92.0, 71.0, 115.0, 70.0, 112.0, 112.0, 65.0, 70.0, 85.0, 83.0, 74.0, 68.0, 77.0, 61.0, 88.0, 70.0, 75.0, 96.0, 74.0, 93.0, 75.0, 63.0, 88.0, 71.0, 76.0, 78.0, 78.0, 73.0, 70.0, 78.0, 86.0, 72.0, 76.0, 76.0, 76.0, 106.0, 75.0, 70.0, 75.0, 67.0, 71.0, 79.0, 64.0, 62.0, 63.0, 80.0, 70.0, 92.0, 103.0, 77.0, 103.0, 86.0, 82.0, 82.0, 83.0, 79.0, 83.0, 87.0, 78.0, 73.0, 86.0, 63.0, 83.0, 70.0, 91.0, 76.0, 73.0, 76.0, 74.0, 67.0, 65.0, 103.0, 71.0, 81.0, 66.0, 80.0, 79.0, 108.0, 105.0, 70.0, 68.0, 73.0, 93.0, 86.0, 57.0, 88.0, 75.0, 87.0, 80.0, 69.0, 70.0, 85.0, 103.0, 68.0, 67.0, 80.0, 75.0, 78.0, 58.0, 55.0, 87.0, 80.0, 69.0, 63.0, 73.0, 76.0, 80.0, 93.0, 65.0, 69.0, 84.0, 93.0, 65.0, 52.0, 72.0, 90.0, 70.0, 86.0, 320.0, 81.0, 75.0, 68.0, 132.0, 74.0, 87.0, 85.0, 80.0, 85.0, 94.0, 99.0, 73.0, 83.0, 78.0, 80.0, 77.0, 65.0, 106.0, 73.0, 65.0, 58.0, 140.0, 75.0, 70.0, 63.0, 79.0, 72.0, 67.0, 62.0, 55.0, 84.0, 109.0, 78.0, 86.0, 78.0, 94.0, 63.0, 74.0, 68.0, 59.0, 88.0, 67.0, 108.0, 87.0, 78.0, 74.0, 77.0, 44.0, 170.0, 71.0, 82.0, 62.0, 97.0, 78.0, 99.0, 80.0, 70.0, 77.0, 77.0, 64.0, 100.0, 66.0, 137.0, 62.0, 82.0, 68.0, 78.0, 68.0, 88.0, 78.0, 80.0, 76.0, 65.0, 90.0, 100.0, 83.0, 100.0, 88.0, 70.0, 66.0, 254.0, 69.0, 394.0, 57.0, 77.0, 87.0, 70.0, 77.0, 73.0, 77.0, 89.0, 77.0, 70.0, 394.0, 100.0, 93.0, 72.0, 67.0, 64.0, 93.0, 67.0, 58.0, 97.0, 66.0, 60.0, 88.0, 65.0, 71.0, 124.0, 80.0, 83.0, 62.0, 84.0, 67.0, 82.0, 68.0, 90.0, 70.0, 83.0, 73.0, 95.0, 86.0, 99.0, 88.0, 77.0, 77.0, 77.0, 68.0, 83.0, 55.0, 83.0, 70.0, 70.0, 77.0, 77.0, 270.0, 68.0, 88.0, 72.0, 104.0, 66.0, 79.0, 67.0, 77.0, 67.0, 75.0, 76.0, 74.0, 63.0, 106.0, 70.0, 90.0, 79.0, 94.0, 69.0, 73.0, 85.0, 75.0, 64.0, 76.0, 94.0, 83.0, 82.0, 94.0, 86.0, 75.0, 72.0, 83.0, 73.0, 80.0, 244.0, 60.0, 68.0, 71.0, 62.0, 80.0, 90.0, 76.0, 70.0, 63.0, 82.0, 70.0, 70.0, 67.0, 82.0, 62.0, 74.0, 75.0, 73.0, 71.0, 84.0, 80.0, 73.0, 96.0, 68.0, 79.0, 84.0, 90.0, 73.0, 72.0, 63.0, 76.0, 82.0, 65.0, 76.0, 79.0, 74.0, 64.0, 68.0, 102.0, 75.0, 89.0, 78.0, 74.0, 69.0, 93.0, 56.0, 64.0, 65.0, 90.0, 70.0, 90.0, 82.0, 70.0, 85.0, 69.0, 84.0, 90.0, 80.0, 90.0, 64.0, 82.0, 80.0, 71.0, 63.0, 96.0, 130.0, 84.0, 90.0, 93.0, 90.0, 78.0, 63.0, 107.0, 67.0, 81.0, 89.0, 81.0, 78.0, 74.0, 76.0, 67.0, 70.0, 100.0, 77.0, 93.0, 84.0, 77.0, 83.0, 81.0, 183.0, 74.0, 85.0, 74.0, 65.0, 85.0, 75.0, 67.0, 76.0, 100.0, 80.0, 85.0, 84.0, 80.0, 75.0, 77.0, 84.0, 66.0, 65.0, 97.0, 67.0, 79.0, 95.0, 65.0, 73.0, 85.0, 82.0, 75.0, 74.0, 63.0, 74.0, 86.0, 75.0, 75.0, 72.0, 115.0, 70.0, 142.0, 85.0, 67.0, 82.0, 69.0, 79.0, 86.0, 72.0, 76.0, 103.0, 84.0, 73.0, 69.0, 73.0, 67.0, 78.0, 87.0, 66.0, 73.0, 76.0, 81.0, 103.0, 87.0, 73.0, 73.0, 80.0, 69.0, 86.0, 74.0, 79.0, 82.0, 87.0, 67.0, 73.0, 64.0, 88.0, 77.0, 86.0, 75.0, 85.0, 57.0, 92.0, 86.0, 93.0, 68.0, 67.0, 60.0, 62.0, 64.0, 82.0, 69.0, 73.0, 106.0, 96.0, 85.0, 78.0, 70.0, 73.0, 71.0, 74.0, 67.0, 106.0, 73.0, 92.0, 68.0, 91.0, 82.0, 94.0, 87.0, 76.0, 81.0, 72.0, 80.0, 56.0, 77.0, 80.0, 75.0, 108.0, 80.0, 85.0, 74.0, 63.0, 84.0, 65.0, 65.0, 87.0, 87.0, 87.0, 96.0, 137.0, 73.0, 83.0, 67.0, 80.0, 103.0, 74.0, 96.0, 71.0, 93.0, 68.0, 77.0, 45.0, 84.0, 97.0, 79.0, 100.0, 71.0, 67.0, 78.0, 85.0, 62.0, 60.0, 74.0, 86.0, 84.0, 62.0, 84.0, 105.0, 117.0, 78.0, 73.0, 64.0, 85.0, 80.0, 74.0, 85.0, 75.0, 98.0, 119.0, 76.0, 74.0, 71.0, 64.0, 69.0, 88.0, 58.0, 88.0, 91.0, 68.0, 71.0, 102.0, 69.0, 84.0, 77.0, 107.0, 96.0, 79.0, 73.0, 71.0, 83.0, 167.0, 77.0, 73.0, 102.0, 102.0, 81.0, 70.0, 102.0, 70.0, 79.0, 87.0, 89.0, 74.0, 70.0, 82.0, 82.0, 79.0, 96.0, 64.0, 86.0, 73.0, 63.0, 77.0, 83.0, 60.0, 70.0, 70.0, 79.0, 70.0, 63.0, 62.0, 84.0, 62.0, 90.0, 76.0, 99.0, 78.0, 95.0, 103.0, 63.0, 86.0, 98.0, 97.0, 76.0, 60.0, 78.0, 75.0, 96.0, 90.0, 68.0, 74.0, 76.0, 70.0, 70.0, 74.0, 113.0, 74.0, 47.0, 70.0, 73.0, 76.0, 65.0, 73.0, 87.0, 66.0, 83.0, 83.0, 78.0, 87.0, 69.0, 76.0, 98.0, 84.0, 77.0, 93.0, 65.0, 76.0, 83.0, 77.0, 76.0, 71.0, 103.0, 67.0, 77.0, 68.0, 82.0, 85.0, 80.0, 102.0, 80.0, 66.0, 94.0, 77.0, 68.0, 90.0, 83.0, 58.0, 103.0, 93.0, 74.0, 60.0, 73.0, 61.0, 84.0, 95.0, 101.0, 71.0, 83.0, 73.0, 80.0, 67.0, 135.0, 93.0, 80.0, 77.0, 58.0, 69.0, 95.0, 207.0, 92.0, 82.0, 94.0, 78.0, 61.0, 72.0, 75.0, 89.0, 110.0, 70.0, 62.0, 70.0, 45.0, 110.0, 76.0, 78.0, 54.0, 69.0, 95.0, 98.0, 82.0, 73.0, 83.0, 81.0, 63.0, 77.0, 62.0, 68.0, 80.0, 79.0, 95.0, 58.0, 74.0, 73.0, 84.0, 78.0, 85.0, 70.0, 74.0, 90.0, 99.0, 71.0, 71.0, 83.0, 71.0, 87.0, 85.0, 100.0, 115.0, 64.0, 70.0, 91.0, 60.0, 77.0, 103.0, 65.0, 100.0, 84.0, 75.0, 78.0, 76.0, 95.0, 81.0, 81.0, 75.0, 77.0, 72.0, 77.0, 70.0, 70.0, 82.0, 63.0, 98.0, 83.0, 76.0, 71.0, 58.0, 53.0, 74.0, 74.0, 73.0, 72.0, 83.0, 80.0, 70.0, 73.0, 70.0, 63.0, 91.0, 66.0, 129.0, 115.0, 67.0, 73.0, 83.0, 85.0, 63.0, 82.0, 68.0, 80.0, 66.0, 110.0, 65.0, 78.0, 83.0, 112.0, 60.0, 78.0, 104.0, 84.0, 63.0, 137.0, 84.0, 77.0, 87.0, 59.0, 82.0, 86.0, 78.0, 93.0, 79.0, 67.0, 70.0, 77.0, 68.0, 115.0, 86.0, 84.0, 83.0, 177.0, 98.0, 83.0, 74.0, 84.0, 70.0, 63.0, 96.0, 97.0, 67.0, 102.0, 119.0, 61.0, 67.0, 95.0, 63.0, 108.0, 88.0, 89.0, 76.0, 80.0, 78.0, 83.0, 87.0, 72.0, 75.0, 74.0, 78.0, 75.0, 67.0, 63.0, 73.0, 73.0, 65.0, 95.0, 90.0, 83.0, 77.0, 90.0, 75.0, 75.0, 86.0, 69.0, 85.0, 58.0, 77.0, 67.0, 78.0, 60.0, 87.0, 77.0, 64.0, 71.0, 75.0, 77.0, 80.0, 87.0, 79.0, 72.0, 91.0, 77.0, 250.0, 136.0, 83.0, 70.0, 55.0, 87.0, 90.0, 65.0, 90.0, 85.0, 69.0, 74.0, 83.0, 113.0, 67.0, 78.0, 117.0, 86.0, 75.0, 77.0, 99.0, 84.0, 92.0, 75.0, 73.0, 90.0, 60.0, 84.0, 65.0, 76.0, 78.0, 77.0, 71.0, 93.0, 81.0, 82.0, 116.0, 75.0, 73.0, 81.0, 75.0, 76.0, 96.0, 87.0, 88.0, 83.0, 84.0, 83.0, 78.0, 73.0, 86.0, 97.0, 85.0, 107.0, 78.0, 83.0, 88.0, 72.0, 82.0, 72.0, 85.0, 294.0, 74.0, 104.0, 80.0, 115.0, 78.0, 83.0, 85.0, 76.0, 75.0, 73.0, 70.0, 78.0, 123.0, 79.0, 57.0, 92.0, 66.0, 62.0, 77.0, 73.0, 52.0, 125.0, 85.0, 88.0, 64.0, 94.0, 61.0, 65.0, 85.0, 75.0, 74.0, 72.0, 75.0, 54.0, 64.0, 85.0, 98.0, 108.0, 80.0, 87.0, 78.0, 72.0, 78.0, 73.0, 82.0, 65.0, 90.0, 68.0, 66.0, 88.0, 83.0, 67.0, 65.0, 76.0, 86.0, 83.0, 332.0, 81.0, 115.0, 85.0, 80.0, 83.0, 93.0, 84.0, 69.0, 67.0, 80.0, 89.0, 71.0, 97.0, 80.0, 61.0, 104.0, 87.0, 82.0, 87.0, 55.0, 60.0, 109.0, 75.0, 70.0, 83.0, 73.0, 368.0, 72.0, 90.0, 67.0, 348.0, 61.0, 76.0, 78.0, 72.0, 82.0, 75.0, 81.0, 84.0, 71.0, 79.0, 78.0, 87.0, 122.0, 80.0, 80.0, 73.0, 67.0, 70.0, 89.0, 83.0, 55.0, 87.0, 85.0, 92.0, 92.0, 60.0, 93.0, 87.0, 88.0, 67.0, 87.0, 84.0, 76.0, 100.0, 80.0, 67.0, 70.0, 62.0, 116.0, 73.0, 58.0, 86.0, 74.0, 89.0, 67.0, 87.0, 64.0, 76.0, 60.0, 69.0, 72.0, 64.0, 105.0, 75.0, 76.0, 77.0, 67.0, 84.0, 76.0, 88.0, 71.0, 83.0, 84.0, 110.0, 76.0, 103.0, 79.0, 91.0, 72.0, 53.0, 65.0, 77.0, 66.0, 72.0, 66.0, 93.0, 83.0, 76.0, 82.0, 60.0, 79.0, 70.0, 94.0, 82.0, 85.0, 77.0, 92.0, 73.0, 63.0, 68.0, 94.0, 80.0, 91.0, 79.0, 57.0, 67.0, 75.0, 92.0, 99.0, 88.0, 61.0, 75.0, 63.0, 370.0, 84.0, 71.0, 173.0, 40.0, 83.0, 65.0, 86.0, 67.0, 72.0, 71.0, 74.0, 68.0, 75.0, 97.0, 84.0, 120.0, 76.0, 87.0, 74.0, 71.0, 64.0, 66.0, 82.0, 94.0, 75.0, 91.0, 77.0, 72.0, 110.0, 80.0, 75.0, 60.0, 102.0, 68.0, 76.0, 117.0, 84.0, 63.0, 74.0, 88.0, 77.0, 73.0, 68.0, 99.0, 50.0, 67.0, 93.0, 82.0, 64.0, 82.0, 78.0, 94.0, 80.0, 76.0, 83.0, 85.0, 84.0, 69.0, 100.0, 67.0, 83.0, 193.0, 71.0, 85.0, 88.0, 60.0, 70.0, 60.0, 84.0, 70.0, 74.0, 78.0, 70.0, 90.0, 74.0, 95.0, 85.0, 85.0, 74.0, 77.0, 99.0, 191.0, 83.0, 78.0, 55.0, 73.0, 74.0, 80.0, 74.0, 104.0, 56.0, 70.0, 83.0, 256.0, 69.0, 77.0, 93.0, 77.0, 102.0, 69.0, 235.0, 70.0, 115.0, 77.0, 96.0, 86.0, 78.0, 73.0, 80.0, 92.0, 69.0, 210.0, 75.0, 73.0, 81.0, 92.0, 67.0, 100.0, 73.0, 85.0, 78.0, 64.0, 88.0, 71.0, 100.0, 60.0, 82.0, 80.0, 58.0, 118.0, 94.0, 73.0, 113.0, 64.0, 83.0, 70.0, 84.0, 73.0, 75.0, 75.0, 75.0, 100.0, 72.0, 71.0, 75.0, 68.0, 72.0, 77.0, 70.0, 76.0, 65.0, 87.0, 85.0, 66.0, 94.0, 102.0, 73.0, 75.0, 68.0, 83.0, 80.0, 65.0, 85.0, 80.0, 74.0, 90.0, 70.0, 77.0, 96.0, 93.0, 65.0, 83.0, 77.0, 92.0, 79.0, 81.0, 77.0, 81.0, 81.0, 79.0, 79.0, 98.0, 82.0, 85.0, 70.0, 72.0, 74.0, 75.0, 80.0, 85.0, 70.0, 66.0, 76.0, 67.0, 77.0, 92.0, 73.0, 65.0, 87.0, 76.0, 66.0, 87.0, 87.0, 80.0, 60.0, 60.0, 77.0, 74.0, 120.0, 75.0, 73.0, 69.0, 83.0, 116.0, 87.0, 69.0, 60.0, 84.0, 87.0, 79.0, 70.0, 94.0, 86.0, 75.0, 70.0, 72.0, 63.0, 75.0, 76.0, 105.0, 76.0, 75.0, 260.0, 81.0, 79.0, 86.0, 68.0, 107.0, 72.0, 80.0]}], \"marker\": {\"color\": [0, 0, 0, 1, 0, 0, 1, 0, 0, 0, 0, 0, 0, 0, 1, 0, 1, 0, 0, 0, 0, 0, 0, 1, 0, 1, 0, 0, 0, 1, 0, 0, 0, 0, 0, 0, 0, 0, 1, 0, 0, 0, 1, 1, 0, 0, 0, 0, 0, 0, 0, 1, 0, 0, 0, 0, 1, 0, 0, 0, 0, 0, 0, 0, 1, 1, 0, 0, 0, 0, 1, 0, 0, 0, 0, 0, 0, 0, 0, 0, 0, 0, 0, 1, 0, 0, 0, 0, 0, 0, 0, 0, 0, 0, 0, 1, 1, 0, 0, 0, 0, 1, 1, 0, 0, 0, 0, 0, 0, 0, 0, 0, 0, 0, 0, 0, 0, 0, 0, 0, 0, 0, 1, 1, 1, 0, 0, 1, 0, 1, 0, 0, 1, 0, 0, 0, 1, 1, 0, 0, 0, 0, 0, 0, 0, 0, 0, 0, 0, 0, 0, 1, 0, 1, 0, 0, 0, 0, 0, 1, 0, 0, 0, 0, 0, 0, 0, 0, 0, 1, 0, 0, 1, 1, 0, 1, 0, 1, 0, 0, 0, 0, 0, 0, 0, 1, 0, 0, 1, 0, 0, 0, 0, 0, 0, 0, 0, 0, 0, 0, 0, 0, 1, 1, 0, 0, 1, 0, 0, 0, 1, 0, 0, 0, 1, 0, 0, 1, 0, 0, 0, 0, 0, 0, 0, 0, 0, 0, 0, 0, 0, 1, 0, 0, 0, 0, 0, 1, 0, 0, 0, 1, 0, 0, 0, 0, 0, 1, 0, 1, 0, 0, 1, 0, 0, 0, 0, 0, 0, 0, 0, 0, 0, 0, 0, 0, 0, 0, 0, 0, 0, 1, 0, 0, 0, 0, 0, 0, 0, 0, 0, 0, 1, 0, 0, 1, 0, 0, 0, 0, 0, 0, 1, 0, 0, 1, 0, 0, 1, 0, 0, 0, 0, 0, 0, 0, 0, 0, 0, 0, 0, 1, 1, 0, 0, 1, 0, 0, 0, 1, 0, 1, 0, 1, 0, 0, 0, 1, 1, 0, 0, 0, 0, 0, 0, 0, 0, 0, 0, 0, 0, 0, 1, 0, 0, 1, 0, 0, 1, 0, 0, 0, 0, 0, 0, 0, 0, 0, 0, 0, 0, 0, 0, 0, 0, 0, 0, 0, 0, 0, 0, 0, 0, 0, 0, 0, 0, 0, 0, 0, 0, 0, 0, 0, 0, 0, 0, 0, 0, 0, 0, 0, 0, 0, 0, 0, 0, 0, 0, 0, 0, 0, 0, 0, 0, 1, 0, 0, 0, 0, 0, 0, 0, 0, 1, 1, 0, 0, 1, 0, 0, 0, 0, 0, 0, 1, 0, 0, 0, 0, 1, 0, 0, 0, 0, 0, 0, 0, 0, 0, 1, 0, 0, 0, 0, 0, 0, 1, 0, 1, 1, 1, 0, 0, 0, 0, 0, 0, 0, 0, 1, 0, 0, 0, 0, 0, 0, 1, 0, 1, 0, 0, 0, 0, 0, 0, 0, 1, 1, 0, 0, 0, 0, 1, 0, 0, 0, 0, 0, 0, 1, 0, 0, 0, 0, 0, 1, 0, 0, 0, 1, 1, 0, 0, 0, 0, 0, 0, 0, 0, 0, 0, 1, 1, 0, 0, 0, 0, 0, 0, 0, 0, 1, 1, 1, 0, 1, 0, 0, 1, 0, 0, 0, 0, 0, 0, 0, 0, 1, 1, 0, 0, 1, 0, 0, 0, 0, 0, 0, 0, 0, 0, 0, 0, 0, 0, 0, 0, 0, 0, 0, 0, 0, 0, 0, 0, 0, 0, 0, 0, 0, 0, 0, 1, 0, 0, 0, 0, 0, 1, 0, 0, 0, 0, 0, 0, 0, 0, 0, 0, 0, 0, 0, 0, 1, 0, 0, 0, 0, 0, 0, 0, 0, 0, 0, 1, 0, 0, 0, 0, 0, 0, 0, 0, 0, 0, 1, 0, 0, 0, 0, 0, 0, 1, 0, 0, 0, 0, 0, 0, 0, 0, 0, 0, 0, 0, 0, 0, 0, 0, 0, 1, 0, 0, 1, 0, 0, 0, 0, 0, 0, 1, 0, 0, 0, 0, 0, 0, 1, 1, 0, 0, 1, 0, 0, 0, 1, 0, 0, 1, 0, 0, 1, 0, 1, 0, 0, 0, 0, 1, 0, 1, 0, 0, 1, 0, 0, 0, 1, 0, 0, 0, 0, 1, 0, 0, 0, 0, 0, 0, 1, 0, 0, 0, 0, 0, 0, 0, 0, 0, 0, 0, 0, 0, 0, 0, 0, 0, 0, 0, 0, 0, 0, 1, 1, 0, 0, 1, 0, 1, 0, 0, 0, 1, 0, 0, 0, 0, 0, 0, 0, 0, 0, 0, 0, 0, 0, 0, 0, 0, 0, 0, 0, 1, 0, 0, 1, 1, 0, 0, 0, 0, 0, 0, 1, 1, 0, 0, 0, 1, 0, 0, 1, 0, 0, 1, 0, 0, 0, 0, 1, 0, 0, 1, 1, 0, 0, 0, 0, 0, 0, 0, 0, 0, 0, 0, 0, 0, 0, 1, 0, 0, 0, 0, 0, 0, 0, 0, 0, 0, 1, 0, 0, 0, 1, 0, 1, 0, 0, 0, 0, 0, 0, 0, 0, 1, 0, 0, 1, 0, 0, 0, 0, 0, 0, 0, 0, 0, 1, 0, 0, 1, 0, 0, 0, 1, 0, 0, 1, 0, 1, 0, 1, 0, 0, 0, 0, 0, 1, 0, 0, 0, 0, 0, 0, 0, 0, 0, 0, 0, 0, 0, 0, 0, 0, 0, 0, 0, 0, 0, 0, 0, 0, 0, 0, 0, 0, 0, 0, 0, 0, 0, 0, 0, 0, 0, 0, 0, 1, 0, 0, 0, 0, 0, 0, 0, 0, 0, 0, 1, 0, 0, 0, 0, 1, 0, 0, 0, 1, 0, 0, 1, 0, 0, 0, 0, 0, 0, 0, 0, 0, 1, 0, 0, 1, 0, 0, 1, 0, 0, 0, 0, 1, 0, 0, 0, 0, 1, 0, 1, 0, 1, 0, 1, 0, 0, 1, 0, 0, 0, 0, 0, 0, 0, 0, 1, 1, 0, 0, 0, 0, 1, 0, 0, 0, 0, 0, 0, 0, 0, 0, 1, 0, 0, 0, 0, 0, 0, 0, 1, 0, 0, 0, 0, 0, 0, 0, 0, 0, 0, 0, 0, 0, 0, 0, 0, 0, 0, 0, 0, 0, 0, 0, 0, 0, 0, 0, 0, 0, 0, 0, 0, 0, 0, 1, 0, 0, 1, 0, 1, 0, 0, 0, 1, 0, 1, 0, 0, 0, 0, 0, 0, 1, 0, 0, 0, 0, 0, 0, 0, 0, 0, 0, 0, 0, 0, 0, 0, 0, 0, 0, 0, 0, 0, 0, 1, 0, 0, 0, 0, 0, 0, 0, 0, 1, 0, 0, 0, 0, 0, 0, 0, 0, 0, 0, 0, 0, 0, 1, 0, 0, 0, 0, 0, 0, 0, 1, 0, 0, 0, 0, 0, 0, 0, 0, 0, 0, 0, 0, 0, 0, 0, 0, 0, 0, 0, 0, 1, 0, 0, 0, 0, 1, 0, 0, 0, 0, 0, 0, 0, 0, 0, 0, 0, 0, 0, 0, 0, 0, 0, 0, 0, 0, 0, 0, 0, 0, 0, 0, 0, 0, 0, 0, 0, 0, 0, 0, 0, 0, 1, 1, 0, 0, 0, 1, 0, 0, 0, 1, 0, 0, 0, 0, 0, 0, 1, 0, 1, 1, 0, 0, 0, 0, 0, 1, 0, 0, 0, 0, 0, 1, 1, 0, 0, 0, 0, 0, 0, 0, 0, 1, 1, 1, 0, 0, 0, 0, 0, 0, 0, 0, 0, 0, 0, 0, 1, 0, 0, 0, 0, 0, 0, 1, 0, 0, 0, 0, 0, 0, 0, 0, 0, 0, 0, 0, 1, 0, 0, 0, 0, 0, 0, 0, 0, 0, 0, 0, 0, 0, 0, 0, 0, 0, 0, 0, 0, 0, 0, 1, 0, 0, 1, 0, 0, 0, 0, 0, 0, 0, 0, 0, 0, 0, 0, 0, 0, 0, 0, 1, 0, 1, 0, 0, 0, 0, 0, 1, 0, 0, 0, 0, 0, 0, 0, 0, 0, 0, 0, 0, 0, 0, 0, 0, 0, 0, 0, 0, 0, 0, 0, 1, 0, 1, 0, 0, 0, 1, 0, 0, 0, 0, 0, 0, 0, 0, 0, 0, 0, 0, 0, 0, 0, 0, 0, 0, 0, 0, 0, 0, 0, 0, 0, 0, 0, 0, 0, 0, 1, 0, 0, 0, 0, 0, 0, 0, 0, 0, 0, 0, 0, 1, 0, 1, 0, 0, 0, 0, 0, 1, 0, 0, 1, 0, 0, 0, 0, 1, 1, 0, 1, 0, 0, 0, 0, 0, 0, 0, 0, 1, 0, 0, 0, 0, 0, 1, 0, 0, 0, 1, 0, 0, 0, 0, 0, 0, 0, 0, 0, 0, 0, 0, 1, 0, 0, 0, 0, 0, 0, 0, 0, 0, 0, 0, 0, 0, 0, 1, 0, 0, 0, 0, 0, 0, 0, 0, 1, 0, 0, 1, 0, 0, 0, 0, 0, 0, 0, 0, 0, 1, 0, 0, 1, 0, 0, 0, 0, 0, 0, 0, 0, 0, 0, 1, 0, 0, 0, 0, 0, 0, 0, 0, 0, 0, 0, 0, 0, 0, 0, 0, 0, 0, 0, 1, 1, 0, 0, 0, 1, 0, 0, 0, 0, 0, 1, 0, 0, 0, 0, 0, 0, 0, 0, 0, 0, 1, 0, 0, 0, 0, 1, 0, 0, 0, 0, 0, 0, 0, 0, 0, 0, 1, 0, 0, 1, 0, 0, 0, 0, 0, 0, 1, 0, 0, 0, 0, 0, 1, 0, 0, 0, 1, 0, 0, 1, 0, 0, 0, 0, 0, 0, 0, 1, 0, 0, 0, 0, 0, 0, 0, 1, 0, 0, 0, 0, 1, 0, 0, 0, 1, 0, 0, 0, 1, 0, 0, 0, 0, 0, 0, 0, 0, 0, 1, 0, 0, 0, 1, 0, 0, 0, 0, 0, 1, 0, 0, 0, 0, 0, 0, 0, 1, 0, 0, 0, 1, 0, 0, 0, 0, 0, 0, 0, 0, 0, 0, 0, 0, 0, 1, 0, 0, 1, 0, 0, 0, 0, 0, 0, 1, 0, 0, 0, 0, 0, 0, 0, 0, 0, 0, 0, 0, 0, 0, 0, 1, 1, 0, 0, 0, 0, 0, 1, 0, 0, 0, 0, 0, 0, 0, 0, 1, 1, 0, 0, 0, 0, 0, 1, 0, 0, 0, 0, 0, 0, 1, 0, 0, 0, 0, 0, 1, 0, 0, 0, 0, 1, 0, 0, 0, 0, 0, 0, 1, 0, 0, 0, 0, 0, 0, 1, 0, 0, 0, 0, 0, 0, 0, 0, 0, 0, 0, 0, 0, 1, 0, 0, 0, 0, 1, 0, 0, 0, 0, 0, 1, 0, 0, 0, 0, 0, 0, 1, 0, 0, 0, 0, 0, 0, 1, 0, 0, 0, 0, 1, 0, 1, 0, 0, 0, 0, 0, 0, 1, 0, 0, 0, 0, 0, 0, 0, 0, 0, 0, 0, 0, 0, 1, 0, 0, 0, 1, 0, 0, 0, 0, 0, 0, 0, 1, 0, 0, 0, 0, 0, 0, 0, 0, 1, 1, 0, 0, 0, 0, 0, 0, 0, 0, 1, 0, 0, 0, 0, 1, 1, 1, 0, 1, 0, 0, 0, 0, 0, 0, 0, 0, 1, 0, 0, 0, 0, 0, 1, 0, 0, 0, 1, 1, 0, 0, 0, 0, 0, 0, 0, 0, 0, 0, 0, 0, 0, 0, 0, 0, 1, 0, 0, 0, 0, 0, 0, 0, 0, 0, 0, 0, 0, 0, 0, 0, 1, 0, 0, 1, 0, 0, 0, 0, 0, 1, 0, 0, 0, 0, 0, 0, 1, 0, 0, 1, 0, 0, 0, 0, 0, 0, 0, 0, 1, 0, 0, 0, 0, 0, 0, 0, 1, 0, 0, 0, 0, 0, 0, 1, 0, 0, 1, 0, 0, 0, 0, 0, 0, 1, 0, 0, 0, 1, 0, 0, 0, 0, 0, 0, 0, 0, 0, 0, 0, 0, 0, 0, 0, 0, 0, 0, 0, 0, 0, 0, 0, 1, 1, 1, 0, 0, 0, 0, 0, 0, 0, 0, 0, 0, 0, 0, 0, 0, 0, 0, 0, 0, 0, 0, 0, 0, 0, 0, 1, 0, 0, 0, 0, 0, 0, 0, 0, 0, 0, 0, 1, 0, 0, 0, 0, 0, 0, 0, 0, 0, 0, 0, 0, 1, 0, 0, 1, 0, 0, 0, 0, 1, 0, 1, 1, 0, 0, 1, 0, 1, 0, 0, 0, 0, 1, 0, 0, 1, 0, 0, 0, 0, 0, 0, 0, 0, 1, 0, 0, 0, 0, 0, 0, 1, 0, 0, 1, 0, 0, 1, 1, 0, 0, 0, 0, 1, 0, 0, 0, 0, 0, 0, 1, 0, 0, 0, 0, 0, 0, 0, 0, 0, 0, 0, 0, 1, 0, 1, 0, 0, 0, 0, 0, 0, 0, 1, 0, 0, 0, 0, 0, 0, 1, 0, 0, 0, 0, 0, 0, 0, 0, 0, 0, 1, 0, 0, 0, 1, 0, 1, 0, 0, 0, 0, 0, 0, 0, 0, 0, 0, 0, 0, 0, 0, 0, 0, 1, 1, 0, 0, 0, 0, 0, 1, 0, 1, 0, 0, 0, 1, 0, 0, 1, 0, 0, 0, 0, 0, 0, 0, 0, 0, 0, 0, 0, 0, 1, 0, 0, 0, 1, 0, 1, 1, 0, 0, 0, 0, 0, 1, 0, 0, 0, 0, 0, 0, 0, 0, 0, 1, 0, 0, 0, 0, 0, 0, 0, 1, 0, 0, 0, 0, 0, 0, 0, 0, 0, 0, 0, 0, 0, 0, 0, 0, 0, 0, 1, 0, 0, 0, 0, 0, 0, 0, 0, 0, 0, 0, 0, 1, 0, 0, 0, 0, 0, 0, 0, 0, 1, 0, 0, 0, 0, 0, 0, 0, 0, 0, 1, 0, 0, 0, 0, 0, 0, 0, 0, 1, 0, 0, 0, 0, 1, 0, 0, 0, 0, 0, 0, 0, 0, 0, 0, 0, 0, 0, 0, 0, 1, 0, 0, 0, 0, 0, 0, 1, 1, 0, 0, 1, 0, 0, 0, 0, 0, 0, 0, 0, 0, 0, 0, 0, 0, 0, 0, 1, 0, 0, 0, 0, 0, 0, 0, 0, 0, 0, 1, 0, 1, 0, 0, 0, 0, 0, 0, 0, 0, 0, 0, 1, 0, 0, 0, 0, 0, 1, 0, 0, 0, 0, 0, 0, 0, 0, 0, 0, 0, 0, 1, 0, 0, 0, 0, 0, 0, 0, 1, 0, 1, 0, 0, 0, 0, 1, 0, 0, 0, 0, 1, 0, 1, 0, 1, 0, 0, 0, 0, 0, 0, 0, 0, 1, 1, 0, 1, 1, 0, 0, 0, 0, 1, 0, 0, 0, 0, 0, 0, 0, 0, 0, 0, 0, 0, 0, 0, 1, 0, 0, 0, 0, 0, 0, 0, 0, 0, 0, 0, 0, 0, 0, 0, 1, 1, 0, 1, 0, 0, 0, 1, 0, 1, 0, 1, 1, 0, 0, 0, 0, 0, 0, 0, 0, 0, 0, 0, 0, 0, 0, 0, 0, 0, 0, 1, 0, 0, 0, 0, 0, 0, 1, 0, 0, 0, 0, 0, 0, 0, 0, 0, 0, 0, 0, 0, 0, 0, 0, 0, 0, 0, 0, 0, 0, 0, 0, 0, 0, 0, 0, 0, 0, 0, 1, 0, 0, 0, 1, 0, 0, 0, 0, 1, 0, 1, 0, 0, 0, 0, 0, 0, 0, 0, 1, 0, 0, 0, 0, 1, 0, 1, 0, 0, 0, 1, 0, 0, 0, 0, 0, 0, 1, 0, 0, 0, 0, 0, 1, 1, 0, 1, 1, 0, 0, 1, 0, 0, 0, 0, 1, 0, 0, 0, 0, 0, 0, 0, 0, 0, 0, 1, 0, 0, 1, 1, 0, 1, 0, 0, 1, 0, 0, 0, 0, 0, 0, 0, 0, 0, 0, 1, 0, 0, 0, 1, 0, 0, 0, 1, 0, 0, 1, 0, 0, 0, 0, 0, 0, 0, 0, 0, 0, 0, 0, 0, 0, 0, 1, 0, 0, 0, 0, 0, 0, 0, 0, 0, 0, 1, 0, 0, 0, 0, 0, 0, 0, 0, 0, 0, 0, 0, 0, 0, 0, 0, 1, 0, 0, 0, 0, 0, 1, 0, 0, 0, 0, 1, 0, 0, 0, 0, 0, 0, 0, 0, 0, 0, 0, 1, 0, 0, 0, 1, 0, 0, 1, 0, 1, 0, 0, 0, 0, 0, 1, 0, 0, 0, 0, 0, 0, 0, 0, 0, 0, 0, 0, 1, 0, 0, 0, 0, 0, 0, 0, 0, 0, 0, 0, 0, 1, 0, 0, 0, 0, 0, 0, 0, 0, 0, 0, 0, 0, 1, 0, 0, 0, 0, 0, 0, 1, 0, 0, 0, 0, 0, 0, 0, 0, 0, 0, 0, 1, 1, 0, 0, 1, 1, 0, 0, 0, 0, 0, 1, 0, 0, 0, 0, 0, 1, 0, 0, 0, 0, 0, 0, 0, 0, 0, 0, 0, 1, 0, 0, 0, 0, 0, 0, 0, 0, 0, 0, 0, 0, 0, 0, 0, 0, 0, 1, 0, 0, 0, 0, 1, 0, 0, 0, 0, 1, 1, 0, 0, 0, 0, 0, 1, 0, 0, 0, 1, 0, 0, 0, 0, 0, 0, 0, 0, 0, 0, 0, 0, 0, 0, 0, 1, 1, 0, 0, 0, 0, 0, 0, 0, 0, 0, 0, 0, 0, 0, 0, 0, 0, 0, 0, 0, 0, 0, 0, 0, 0, 0, 0, 0, 0, 0, 0, 0, 0, 0, 0, 0, 0, 0, 1, 0, 0, 0, 0, 1, 0, 0, 0, 0, 0, 0, 0, 0, 0, 0, 0, 1, 0, 1, 0, 0, 0, 0, 1, 0, 0, 0, 0, 1, 0, 0, 0, 1, 0, 0, 0, 1, 0, 0, 0, 0, 1, 0, 0, 1, 0, 0, 0, 0, 0, 1, 0, 0, 0, 0, 0, 1, 0, 0, 0, 0, 1, 0, 1, 0, 0, 0, 0, 0, 0, 1, 0, 0, 0, 0, 0, 0, 0, 0, 0, 0, 0, 0, 0, 0, 0, 0, 0, 0, 1, 0, 0, 0, 1, 1, 0, 0, 0, 0, 0, 0, 0, 0, 0, 1, 0, 0, 0, 0, 0, 0, 0, 0, 0, 0, 0, 0, 0, 0, 0, 0, 0, 0, 0, 1, 0, 0, 0, 0, 0, 1, 1, 0, 0, 1, 0, 0, 0, 0, 0, 0, 0, 0, 0, 0, 1, 0, 0, 0, 0, 0, 0, 0, 0, 0, 0, 0, 0, 0, 0, 1, 0, 0, 0, 0, 0, 1, 1, 0, 0, 0, 1, 0, 0, 0, 0, 1, 0, 0, 0, 0, 0, 0, 1, 0, 0, 0, 0, 0, 0, 0, 0, 0, 0, 1, 0, 0, 0, 0, 0, 0, 0, 0, 0, 1, 0, 0, 0, 1, 0, 0, 0, 1, 0, 0, 0, 0, 0, 0, 0, 0, 0, 0, 0, 0, 0, 0, 0, 0, 1, 1, 0, 0, 0, 0, 0, 1, 1, 0, 0, 0, 0, 0, 1, 0, 1, 0, 0, 0, 0, 1, 0, 0, 0, 0, 0, 1, 0, 0, 0, 0, 0, 0, 0, 0, 0, 0, 0, 0, 0, 0, 0, 0, 0, 0, 0, 0, 1, 0, 0, 0, 0, 0, 0, 0, 0, 1, 0, 1, 0, 0, 0, 1, 0, 0, 1, 0, 0, 0, 0, 0, 0, 0, 0, 1, 0, 0, 1, 0, 0, 0, 0, 0, 0, 0, 0, 0, 1, 0, 0, 0, 0, 0, 0, 1, 0, 0, 1, 0, 0, 1, 0, 1, 0, 1, 0, 0, 0, 0, 0, 0, 0, 0, 0, 0, 0, 0, 0, 0, 0, 0, 0, 0, 0, 0, 0, 0, 0, 0, 0, 0, 0, 1, 0, 1, 0, 0, 0, 0, 0, 0, 0, 0, 0, 0, 0, 0, 0, 1, 0, 0, 0, 0, 0, 1, 0, 0, 0, 0, 0, 0, 0, 0, 0, 0, 0, 0, 0, 0, 0, 0, 1, 0, 0, 0, 0, 0, 0, 1, 0, 0, 0, 0, 0, 0, 0, 1, 0, 0, 1, 0, 0, 0, 0, 0, 1, 0, 0, 0, 0, 1, 1, 0, 1, 0, 0, 0, 0, 1, 1, 0, 0, 0, 1, 1, 0, 0, 0, 0, 1, 1, 0, 0, 0, 0, 0, 1, 0, 0, 0, 0, 0, 0, 1, 0, 0, 1, 0, 1, 0, 0, 0, 1, 0, 0, 0, 1, 1, 0, 1, 0, 0, 0, 0, 0, 1, 0, 0, 0, 0, 1, 0, 0, 0, 0, 0, 0, 1, 0, 0, 0, 0, 1, 1, 0, 0, 0, 0, 0, 0, 1, 0, 0, 0, 0, 0, 0, 0, 0, 0, 0, 0, 0, 0, 0, 0, 0, 0, 0, 1, 0, 0, 0, 0, 0, 0, 0, 0, 0, 0, 1, 0, 0, 0, 0, 0, 0, 0, 1, 0, 0, 0, 0, 0, 0, 0, 1, 0, 0, 0, 0, 0, 0, 0, 0, 0, 0, 0, 1, 0, 0, 1, 0, 0, 0, 0, 1, 0, 0, 0, 0, 1, 0, 0, 0, 0, 0, 1, 0, 0, 0, 0, 0, 0, 0, 0, 0, 0, 0, 0, 0, 0, 0, 0, 0, 0, 0, 0, 0, 0, 0, 0, 0, 0, 0, 0, 0, 0, 0, 0, 0, 0, 0, 0, 0, 0, 0, 0, 1, 0, 1, 0, 0, 0, 0, 0, 0, 0, 0, 0, 1, 0, 0, 0, 1, 0, 0, 0, 1, 0, 0, 0, 0, 0, 0, 0, 0, 0, 0, 0, 0, 1, 1, 0, 0, 0, 0, 0, 0, 0, 0, 1, 0, 0, 0, 0, 0, 0, 1, 1, 0, 0, 0, 0, 0, 0, 0, 0, 0, 0, 0, 0, 0, 0, 0, 1, 0, 1, 0, 0, 1, 0, 0, 0, 0, 0, 0, 0, 0, 1, 0, 1, 0, 0, 0, 1, 0, 0, 0, 1, 0, 1, 0, 1, 0, 0, 0, 0, 0, 0, 0, 0, 0, 0, 0, 0, 0, 0, 0, 0, 1, 0, 0, 0, 0, 0, 0, 0, 0, 0, 1, 0, 0, 0, 0, 0, 1, 0, 0, 0, 0, 0, 0, 1, 0, 0, 0, 0, 0, 0, 0, 0, 0, 0, 0, 0, 0, 0, 0, 1, 1, 0, 0, 1, 1, 1, 0, 0, 0, 0, 1, 0, 0, 0, 0, 0, 0, 0, 1, 0, 0, 0, 0, 1, 1, 0, 0, 0, 0, 0, 1, 1, 0, 1, 0, 0, 1, 0, 0, 0, 1, 1, 0, 0, 0, 0], \"colorscale\": [[0.0, \"rgb(0,0,255)\"], [1.0, \"rgb(255,0,0)\"]], \"line\": {\"color\": \"rgb(230,230,230)\", \"width\": 0.5}, \"size\": 5}, \"text\": [\"non-diabetic\", \"non-diabetic\", \"non-diabetic\", \"diabetic\", \"non-diabetic\", \"non-diabetic\", \"diabetic\", \"non-diabetic\", \"non-diabetic\", \"non-diabetic\", \"non-diabetic\", \"non-diabetic\", \"non-diabetic\", \"non-diabetic\", \"diabetic\", \"non-diabetic\", \"diabetic\", \"non-diabetic\", \"non-diabetic\", \"non-diabetic\", \"non-diabetic\", \"non-diabetic\", \"non-diabetic\", \"diabetic\", \"non-diabetic\", \"diabetic\", \"non-diabetic\", \"non-diabetic\", \"non-diabetic\", \"diabetic\", \"non-diabetic\", \"non-diabetic\", \"non-diabetic\", \"non-diabetic\", \"non-diabetic\", \"non-diabetic\", \"non-diabetic\", \"non-diabetic\", \"diabetic\", \"non-diabetic\", \"non-diabetic\", \"non-diabetic\", \"diabetic\", \"diabetic\", \"non-diabetic\", \"non-diabetic\", \"non-diabetic\", \"non-diabetic\", \"non-diabetic\", \"non-diabetic\", \"non-diabetic\", \"diabetic\", \"non-diabetic\", \"non-diabetic\", \"non-diabetic\", \"non-diabetic\", \"diabetic\", \"non-diabetic\", \"non-diabetic\", \"non-diabetic\", \"non-diabetic\", \"non-diabetic\", \"non-diabetic\", \"non-diabetic\", \"diabetic\", \"diabetic\", \"non-diabetic\", \"non-diabetic\", \"non-diabetic\", \"non-diabetic\", \"diabetic\", \"non-diabetic\", \"non-diabetic\", \"non-diabetic\", \"non-diabetic\", \"non-diabetic\", \"non-diabetic\", \"non-diabetic\", \"non-diabetic\", \"non-diabetic\", \"non-diabetic\", \"non-diabetic\", \"non-diabetic\", \"diabetic\", \"non-diabetic\", \"non-diabetic\", \"non-diabetic\", \"non-diabetic\", \"non-diabetic\", \"non-diabetic\", \"non-diabetic\", \"non-diabetic\", \"non-diabetic\", \"non-diabetic\", \"non-diabetic\", \"diabetic\", \"diabetic\", \"non-diabetic\", \"non-diabetic\", \"non-diabetic\", \"non-diabetic\", \"diabetic\", \"diabetic\", \"non-diabetic\", \"non-diabetic\", \"non-diabetic\", \"non-diabetic\", \"non-diabetic\", \"non-diabetic\", \"non-diabetic\", \"non-diabetic\", \"non-diabetic\", \"non-diabetic\", \"non-diabetic\", \"non-diabetic\", \"non-diabetic\", \"non-diabetic\", \"non-diabetic\", \"non-diabetic\", \"non-diabetic\", \"non-diabetic\", \"non-diabetic\", \"diabetic\", \"diabetic\", \"diabetic\", \"non-diabetic\", \"non-diabetic\", \"diabetic\", \"non-diabetic\", \"diabetic\", \"non-diabetic\", \"non-diabetic\", \"diabetic\", \"non-diabetic\", \"non-diabetic\", \"non-diabetic\", \"diabetic\", \"diabetic\", \"non-diabetic\", \"non-diabetic\", \"non-diabetic\", \"non-diabetic\", \"non-diabetic\", \"non-diabetic\", \"non-diabetic\", \"non-diabetic\", \"non-diabetic\", \"non-diabetic\", \"non-diabetic\", \"non-diabetic\", \"non-diabetic\", \"diabetic\", \"non-diabetic\", \"diabetic\", \"non-diabetic\", \"non-diabetic\", \"non-diabetic\", \"non-diabetic\", \"non-diabetic\", \"diabetic\", \"non-diabetic\", \"non-diabetic\", \"non-diabetic\", \"non-diabetic\", \"non-diabetic\", \"non-diabetic\", \"non-diabetic\", \"non-diabetic\", \"non-diabetic\", \"diabetic\", \"non-diabetic\", \"non-diabetic\", \"diabetic\", \"diabetic\", \"non-diabetic\", \"diabetic\", \"non-diabetic\", \"diabetic\", \"non-diabetic\", \"non-diabetic\", \"non-diabetic\", \"non-diabetic\", \"non-diabetic\", \"non-diabetic\", \"non-diabetic\", \"diabetic\", \"non-diabetic\", \"non-diabetic\", \"diabetic\", \"non-diabetic\", \"non-diabetic\", \"non-diabetic\", \"non-diabetic\", \"non-diabetic\", \"non-diabetic\", \"non-diabetic\", \"non-diabetic\", \"non-diabetic\", \"non-diabetic\", \"non-diabetic\", \"non-diabetic\", \"non-diabetic\", \"diabetic\", \"diabetic\", \"non-diabetic\", \"non-diabetic\", \"diabetic\", \"non-diabetic\", \"non-diabetic\", \"non-diabetic\", \"diabetic\", \"non-diabetic\", \"non-diabetic\", \"non-diabetic\", \"diabetic\", \"non-diabetic\", \"non-diabetic\", \"diabetic\", \"non-diabetic\", \"non-diabetic\", \"non-diabetic\", \"non-diabetic\", \"non-diabetic\", \"non-diabetic\", \"non-diabetic\", \"non-diabetic\", \"non-diabetic\", \"non-diabetic\", \"non-diabetic\", \"non-diabetic\", \"non-diabetic\", \"diabetic\", \"non-diabetic\", \"non-diabetic\", \"non-diabetic\", \"non-diabetic\", \"non-diabetic\", \"diabetic\", \"non-diabetic\", \"non-diabetic\", \"non-diabetic\", \"diabetic\", \"non-diabetic\", \"non-diabetic\", \"non-diabetic\", \"non-diabetic\", \"non-diabetic\", \"diabetic\", \"non-diabetic\", \"diabetic\", \"non-diabetic\", \"non-diabetic\", \"diabetic\", \"non-diabetic\", \"non-diabetic\", \"non-diabetic\", \"non-diabetic\", \"non-diabetic\", \"non-diabetic\", \"non-diabetic\", \"non-diabetic\", \"non-diabetic\", \"non-diabetic\", \"non-diabetic\", \"non-diabetic\", \"non-diabetic\", \"non-diabetic\", \"non-diabetic\", \"non-diabetic\", \"non-diabetic\", \"non-diabetic\", \"diabetic\", \"non-diabetic\", \"non-diabetic\", \"non-diabetic\", \"non-diabetic\", \"non-diabetic\", \"non-diabetic\", \"non-diabetic\", \"non-diabetic\", \"non-diabetic\", \"non-diabetic\", \"diabetic\", \"non-diabetic\", \"non-diabetic\", \"diabetic\", \"non-diabetic\", \"non-diabetic\", \"non-diabetic\", \"non-diabetic\", \"non-diabetic\", \"non-diabetic\", \"diabetic\", \"non-diabetic\", \"non-diabetic\", \"diabetic\", \"non-diabetic\", \"non-diabetic\", \"diabetic\", \"non-diabetic\", \"non-diabetic\", \"non-diabetic\", \"non-diabetic\", \"non-diabetic\", \"non-diabetic\", \"non-diabetic\", \"non-diabetic\", \"non-diabetic\", \"non-diabetic\", \"non-diabetic\", \"non-diabetic\", \"diabetic\", \"diabetic\", \"non-diabetic\", \"non-diabetic\", \"diabetic\", \"non-diabetic\", \"non-diabetic\", \"non-diabetic\", \"diabetic\", \"non-diabetic\", \"diabetic\", \"non-diabetic\", \"diabetic\", \"non-diabetic\", \"non-diabetic\", \"non-diabetic\", \"diabetic\", \"diabetic\", \"non-diabetic\", \"non-diabetic\", \"non-diabetic\", \"non-diabetic\", \"non-diabetic\", \"non-diabetic\", \"non-diabetic\", \"non-diabetic\", \"non-diabetic\", \"non-diabetic\", \"non-diabetic\", \"non-diabetic\", \"non-diabetic\", \"diabetic\", \"non-diabetic\", \"non-diabetic\", \"diabetic\", \"non-diabetic\", \"non-diabetic\", \"diabetic\", \"non-diabetic\", \"non-diabetic\", \"non-diabetic\", \"non-diabetic\", \"non-diabetic\", \"non-diabetic\", \"non-diabetic\", \"non-diabetic\", \"non-diabetic\", \"non-diabetic\", \"non-diabetic\", \"non-diabetic\", \"non-diabetic\", \"non-diabetic\", \"non-diabetic\", \"non-diabetic\", \"non-diabetic\", \"non-diabetic\", \"non-diabetic\", \"non-diabetic\", \"non-diabetic\", \"non-diabetic\", \"non-diabetic\", \"non-diabetic\", \"non-diabetic\", \"non-diabetic\", \"non-diabetic\", \"non-diabetic\", \"non-diabetic\", \"non-diabetic\", \"non-diabetic\", \"non-diabetic\", \"non-diabetic\", \"non-diabetic\", \"non-diabetic\", \"non-diabetic\", \"non-diabetic\", \"non-diabetic\", \"non-diabetic\", \"non-diabetic\", \"non-diabetic\", \"non-diabetic\", \"non-diabetic\", \"non-diabetic\", \"non-diabetic\", \"non-diabetic\", \"non-diabetic\", \"non-diabetic\", \"non-diabetic\", \"non-diabetic\", \"non-diabetic\", \"non-diabetic\", \"non-diabetic\", \"non-diabetic\", \"non-diabetic\", \"non-diabetic\", \"diabetic\", \"non-diabetic\", \"non-diabetic\", \"non-diabetic\", \"non-diabetic\", \"non-diabetic\", \"non-diabetic\", \"non-diabetic\", \"non-diabetic\", \"diabetic\", \"diabetic\", \"non-diabetic\", \"non-diabetic\", \"diabetic\", \"non-diabetic\", \"non-diabetic\", \"non-diabetic\", \"non-diabetic\", \"non-diabetic\", \"non-diabetic\", \"diabetic\", \"non-diabetic\", \"non-diabetic\", \"non-diabetic\", \"non-diabetic\", \"diabetic\", \"non-diabetic\", \"non-diabetic\", \"non-diabetic\", \"non-diabetic\", \"non-diabetic\", \"non-diabetic\", \"non-diabetic\", \"non-diabetic\", \"non-diabetic\", \"diabetic\", \"non-diabetic\", \"non-diabetic\", \"non-diabetic\", \"non-diabetic\", \"non-diabetic\", \"non-diabetic\", \"diabetic\", \"non-diabetic\", \"diabetic\", \"diabetic\", \"diabetic\", \"non-diabetic\", \"non-diabetic\", \"non-diabetic\", \"non-diabetic\", \"non-diabetic\", \"non-diabetic\", \"non-diabetic\", \"non-diabetic\", \"diabetic\", \"non-diabetic\", \"non-diabetic\", \"non-diabetic\", \"non-diabetic\", \"non-diabetic\", \"non-diabetic\", \"diabetic\", \"non-diabetic\", \"diabetic\", \"non-diabetic\", \"non-diabetic\", \"non-diabetic\", \"non-diabetic\", \"non-diabetic\", \"non-diabetic\", \"non-diabetic\", \"diabetic\", \"diabetic\", \"non-diabetic\", \"non-diabetic\", \"non-diabetic\", \"non-diabetic\", \"diabetic\", \"non-diabetic\", \"non-diabetic\", \"non-diabetic\", \"non-diabetic\", \"non-diabetic\", \"non-diabetic\", \"diabetic\", \"non-diabetic\", \"non-diabetic\", \"non-diabetic\", \"non-diabetic\", \"non-diabetic\", \"diabetic\", \"non-diabetic\", \"non-diabetic\", \"non-diabetic\", \"diabetic\", \"diabetic\", \"non-diabetic\", \"non-diabetic\", \"non-diabetic\", \"non-diabetic\", \"non-diabetic\", \"non-diabetic\", \"non-diabetic\", \"non-diabetic\", \"non-diabetic\", \"non-diabetic\", \"diabetic\", \"diabetic\", \"non-diabetic\", \"non-diabetic\", \"non-diabetic\", \"non-diabetic\", \"non-diabetic\", \"non-diabetic\", \"non-diabetic\", \"non-diabetic\", \"diabetic\", \"diabetic\", \"diabetic\", \"non-diabetic\", \"diabetic\", \"non-diabetic\", \"non-diabetic\", \"diabetic\", \"non-diabetic\", \"non-diabetic\", \"non-diabetic\", \"non-diabetic\", \"non-diabetic\", \"non-diabetic\", \"non-diabetic\", \"non-diabetic\", \"diabetic\", \"diabetic\", \"non-diabetic\", \"non-diabetic\", \"diabetic\", \"non-diabetic\", \"non-diabetic\", \"non-diabetic\", \"non-diabetic\", \"non-diabetic\", \"non-diabetic\", \"non-diabetic\", \"non-diabetic\", \"non-diabetic\", \"non-diabetic\", \"non-diabetic\", \"non-diabetic\", \"non-diabetic\", \"non-diabetic\", \"non-diabetic\", \"non-diabetic\", \"non-diabetic\", \"non-diabetic\", \"non-diabetic\", \"non-diabetic\", \"non-diabetic\", \"non-diabetic\", \"non-diabetic\", \"non-diabetic\", \"non-diabetic\", \"non-diabetic\", \"non-diabetic\", \"non-diabetic\", \"non-diabetic\", \"non-diabetic\", \"diabetic\", \"non-diabetic\", \"non-diabetic\", \"non-diabetic\", \"non-diabetic\", \"non-diabetic\", \"diabetic\", \"non-diabetic\", \"non-diabetic\", \"non-diabetic\", \"non-diabetic\", \"non-diabetic\", \"non-diabetic\", \"non-diabetic\", \"non-diabetic\", \"non-diabetic\", \"non-diabetic\", \"non-diabetic\", \"non-diabetic\", \"non-diabetic\", \"non-diabetic\", \"diabetic\", \"non-diabetic\", \"non-diabetic\", \"non-diabetic\", \"non-diabetic\", \"non-diabetic\", \"non-diabetic\", \"non-diabetic\", \"non-diabetic\", \"non-diabetic\", \"non-diabetic\", \"diabetic\", \"non-diabetic\", \"non-diabetic\", \"non-diabetic\", \"non-diabetic\", \"non-diabetic\", \"non-diabetic\", \"non-diabetic\", \"non-diabetic\", \"non-diabetic\", \"non-diabetic\", \"diabetic\", \"non-diabetic\", \"non-diabetic\", \"non-diabetic\", \"non-diabetic\", \"non-diabetic\", \"non-diabetic\", \"diabetic\", \"non-diabetic\", \"non-diabetic\", \"non-diabetic\", \"non-diabetic\", \"non-diabetic\", \"non-diabetic\", \"non-diabetic\", \"non-diabetic\", \"non-diabetic\", \"non-diabetic\", \"non-diabetic\", \"non-diabetic\", \"non-diabetic\", \"non-diabetic\", \"non-diabetic\", \"non-diabetic\", \"non-diabetic\", \"diabetic\", \"non-diabetic\", \"non-diabetic\", \"diabetic\", \"non-diabetic\", \"non-diabetic\", \"non-diabetic\", \"non-diabetic\", \"non-diabetic\", \"non-diabetic\", \"diabetic\", \"non-diabetic\", \"non-diabetic\", \"non-diabetic\", \"non-diabetic\", \"non-diabetic\", \"non-diabetic\", \"diabetic\", \"diabetic\", \"non-diabetic\", \"non-diabetic\", \"diabetic\", \"non-diabetic\", \"non-diabetic\", \"non-diabetic\", \"diabetic\", \"non-diabetic\", \"non-diabetic\", \"diabetic\", \"non-diabetic\", \"non-diabetic\", \"diabetic\", \"non-diabetic\", \"diabetic\", \"non-diabetic\", \"non-diabetic\", \"non-diabetic\", \"non-diabetic\", \"diabetic\", \"non-diabetic\", \"diabetic\", \"non-diabetic\", \"non-diabetic\", \"diabetic\", \"non-diabetic\", \"non-diabetic\", \"non-diabetic\", \"diabetic\", \"non-diabetic\", \"non-diabetic\", \"non-diabetic\", \"non-diabetic\", \"diabetic\", \"non-diabetic\", \"non-diabetic\", \"non-diabetic\", \"non-diabetic\", \"non-diabetic\", \"non-diabetic\", \"diabetic\", \"non-diabetic\", \"non-diabetic\", \"non-diabetic\", \"non-diabetic\", \"non-diabetic\", \"non-diabetic\", \"non-diabetic\", \"non-diabetic\", \"non-diabetic\", \"non-diabetic\", \"non-diabetic\", \"non-diabetic\", \"non-diabetic\", \"non-diabetic\", \"non-diabetic\", \"non-diabetic\", \"non-diabetic\", \"non-diabetic\", \"non-diabetic\", \"non-diabetic\", \"non-diabetic\", \"non-diabetic\", \"diabetic\", \"diabetic\", \"non-diabetic\", \"non-diabetic\", \"diabetic\", \"non-diabetic\", \"diabetic\", \"non-diabetic\", \"non-diabetic\", \"non-diabetic\", \"diabetic\", \"non-diabetic\", \"non-diabetic\", \"non-diabetic\", \"non-diabetic\", \"non-diabetic\", \"non-diabetic\", \"non-diabetic\", \"non-diabetic\", \"non-diabetic\", \"non-diabetic\", \"non-diabetic\", \"non-diabetic\", \"non-diabetic\", \"non-diabetic\", \"non-diabetic\", \"non-diabetic\", \"non-diabetic\", \"non-diabetic\", \"non-diabetic\", \"diabetic\", \"non-diabetic\", \"non-diabetic\", \"diabetic\", \"diabetic\", \"non-diabetic\", \"non-diabetic\", \"non-diabetic\", \"non-diabetic\", \"non-diabetic\", \"non-diabetic\", \"diabetic\", \"diabetic\", \"non-diabetic\", \"non-diabetic\", \"non-diabetic\", \"diabetic\", \"non-diabetic\", \"non-diabetic\", \"diabetic\", \"non-diabetic\", \"non-diabetic\", \"diabetic\", \"non-diabetic\", \"non-diabetic\", \"non-diabetic\", \"non-diabetic\", \"diabetic\", \"non-diabetic\", \"non-diabetic\", \"diabetic\", \"diabetic\", \"non-diabetic\", \"non-diabetic\", \"non-diabetic\", \"non-diabetic\", \"non-diabetic\", \"non-diabetic\", \"non-diabetic\", \"non-diabetic\", \"non-diabetic\", \"non-diabetic\", \"non-diabetic\", \"non-diabetic\", \"non-diabetic\", \"non-diabetic\", \"diabetic\", \"non-diabetic\", \"non-diabetic\", \"non-diabetic\", \"non-diabetic\", \"non-diabetic\", \"non-diabetic\", \"non-diabetic\", \"non-diabetic\", \"non-diabetic\", \"non-diabetic\", \"diabetic\", \"non-diabetic\", \"non-diabetic\", \"non-diabetic\", \"diabetic\", \"non-diabetic\", \"diabetic\", \"non-diabetic\", \"non-diabetic\", \"non-diabetic\", \"non-diabetic\", \"non-diabetic\", \"non-diabetic\", \"non-diabetic\", \"non-diabetic\", \"diabetic\", \"non-diabetic\", \"non-diabetic\", \"diabetic\", \"non-diabetic\", \"non-diabetic\", \"non-diabetic\", \"non-diabetic\", \"non-diabetic\", \"non-diabetic\", \"non-diabetic\", \"non-diabetic\", \"non-diabetic\", \"diabetic\", \"non-diabetic\", \"non-diabetic\", \"diabetic\", \"non-diabetic\", \"non-diabetic\", \"non-diabetic\", \"diabetic\", \"non-diabetic\", \"non-diabetic\", \"diabetic\", \"non-diabetic\", \"diabetic\", \"non-diabetic\", \"diabetic\", \"non-diabetic\", \"non-diabetic\", \"non-diabetic\", \"non-diabetic\", \"non-diabetic\", \"diabetic\", \"non-diabetic\", \"non-diabetic\", \"non-diabetic\", \"non-diabetic\", \"non-diabetic\", \"non-diabetic\", \"non-diabetic\", \"non-diabetic\", \"non-diabetic\", \"non-diabetic\", \"non-diabetic\", \"non-diabetic\", \"non-diabetic\", \"non-diabetic\", \"non-diabetic\", \"non-diabetic\", \"non-diabetic\", \"non-diabetic\", \"non-diabetic\", \"non-diabetic\", \"non-diabetic\", \"non-diabetic\", \"non-diabetic\", \"non-diabetic\", \"non-diabetic\", \"non-diabetic\", \"non-diabetic\", \"non-diabetic\", \"non-diabetic\", \"non-diabetic\", \"non-diabetic\", \"non-diabetic\", \"non-diabetic\", \"non-diabetic\", \"non-diabetic\", \"non-diabetic\", \"non-diabetic\", \"non-diabetic\", \"non-diabetic\", \"diabetic\", \"non-diabetic\", \"non-diabetic\", \"non-diabetic\", \"non-diabetic\", \"non-diabetic\", \"non-diabetic\", \"non-diabetic\", \"non-diabetic\", \"non-diabetic\", \"non-diabetic\", \"diabetic\", \"non-diabetic\", \"non-diabetic\", \"non-diabetic\", \"non-diabetic\", \"diabetic\", \"non-diabetic\", \"non-diabetic\", \"non-diabetic\", \"diabetic\", \"non-diabetic\", \"non-diabetic\", \"diabetic\", \"non-diabetic\", \"non-diabetic\", \"non-diabetic\", \"non-diabetic\", \"non-diabetic\", \"non-diabetic\", \"non-diabetic\", \"non-diabetic\", \"non-diabetic\", \"diabetic\", \"non-diabetic\", \"non-diabetic\", \"diabetic\", \"non-diabetic\", \"non-diabetic\", \"diabetic\", \"non-diabetic\", \"non-diabetic\", \"non-diabetic\", \"non-diabetic\", \"diabetic\", \"non-diabetic\", \"non-diabetic\", \"non-diabetic\", \"non-diabetic\", \"diabetic\", \"non-diabetic\", \"diabetic\", \"non-diabetic\", \"diabetic\", \"non-diabetic\", \"diabetic\", \"non-diabetic\", \"non-diabetic\", \"diabetic\", \"non-diabetic\", \"non-diabetic\", \"non-diabetic\", \"non-diabetic\", \"non-diabetic\", \"non-diabetic\", \"non-diabetic\", \"non-diabetic\", \"diabetic\", \"diabetic\", \"non-diabetic\", \"non-diabetic\", \"non-diabetic\", \"non-diabetic\", \"diabetic\", \"non-diabetic\", \"non-diabetic\", \"non-diabetic\", \"non-diabetic\", \"non-diabetic\", \"non-diabetic\", \"non-diabetic\", \"non-diabetic\", \"non-diabetic\", \"diabetic\", \"non-diabetic\", \"non-diabetic\", \"non-diabetic\", \"non-diabetic\", \"non-diabetic\", \"non-diabetic\", \"non-diabetic\", \"diabetic\", \"non-diabetic\", \"non-diabetic\", \"non-diabetic\", \"non-diabetic\", \"non-diabetic\", \"non-diabetic\", \"non-diabetic\", \"non-diabetic\", \"non-diabetic\", \"non-diabetic\", \"non-diabetic\", \"non-diabetic\", \"non-diabetic\", \"non-diabetic\", \"non-diabetic\", \"non-diabetic\", \"non-diabetic\", \"non-diabetic\", \"non-diabetic\", \"non-diabetic\", \"non-diabetic\", \"non-diabetic\", \"non-diabetic\", \"non-diabetic\", \"non-diabetic\", \"non-diabetic\", \"non-diabetic\", \"non-diabetic\", \"non-diabetic\", \"non-diabetic\", \"non-diabetic\", \"non-diabetic\", \"non-diabetic\", \"non-diabetic\", \"diabetic\", \"non-diabetic\", \"non-diabetic\", \"diabetic\", \"non-diabetic\", \"diabetic\", \"non-diabetic\", \"non-diabetic\", \"non-diabetic\", \"diabetic\", \"non-diabetic\", \"diabetic\", \"non-diabetic\", \"non-diabetic\", \"non-diabetic\", \"non-diabetic\", \"non-diabetic\", \"non-diabetic\", \"diabetic\", \"non-diabetic\", \"non-diabetic\", \"non-diabetic\", \"non-diabetic\", \"non-diabetic\", \"non-diabetic\", \"non-diabetic\", \"non-diabetic\", \"non-diabetic\", \"non-diabetic\", \"non-diabetic\", \"non-diabetic\", \"non-diabetic\", \"non-diabetic\", \"non-diabetic\", \"non-diabetic\", \"non-diabetic\", \"non-diabetic\", \"non-diabetic\", \"non-diabetic\", \"non-diabetic\", \"non-diabetic\", \"diabetic\", \"non-diabetic\", \"non-diabetic\", \"non-diabetic\", \"non-diabetic\", \"non-diabetic\", \"non-diabetic\", \"non-diabetic\", \"non-diabetic\", \"diabetic\", \"non-diabetic\", \"non-diabetic\", \"non-diabetic\", \"non-diabetic\", \"non-diabetic\", \"non-diabetic\", \"non-diabetic\", \"non-diabetic\", \"non-diabetic\", \"non-diabetic\", \"non-diabetic\", \"non-diabetic\", \"non-diabetic\", \"diabetic\", \"non-diabetic\", \"non-diabetic\", \"non-diabetic\", \"non-diabetic\", \"non-diabetic\", \"non-diabetic\", \"non-diabetic\", \"diabetic\", \"non-diabetic\", \"non-diabetic\", \"non-diabetic\", \"non-diabetic\", \"non-diabetic\", \"non-diabetic\", \"non-diabetic\", \"non-diabetic\", \"non-diabetic\", \"non-diabetic\", \"non-diabetic\", \"non-diabetic\", \"non-diabetic\", \"non-diabetic\", \"non-diabetic\", \"non-diabetic\", \"non-diabetic\", \"non-diabetic\", \"non-diabetic\", \"non-diabetic\", \"diabetic\", \"non-diabetic\", \"non-diabetic\", \"non-diabetic\", \"non-diabetic\", \"diabetic\", \"non-diabetic\", \"non-diabetic\", \"non-diabetic\", \"non-diabetic\", \"non-diabetic\", \"non-diabetic\", \"non-diabetic\", \"non-diabetic\", \"non-diabetic\", \"non-diabetic\", \"non-diabetic\", \"non-diabetic\", \"non-diabetic\", \"non-diabetic\", \"non-diabetic\", \"non-diabetic\", \"non-diabetic\", \"non-diabetic\", \"non-diabetic\", \"non-diabetic\", \"non-diabetic\", \"non-diabetic\", \"non-diabetic\", \"non-diabetic\", \"non-diabetic\", \"non-diabetic\", \"non-diabetic\", \"non-diabetic\", \"non-diabetic\", \"non-diabetic\", \"non-diabetic\", \"non-diabetic\", \"non-diabetic\", \"non-diabetic\", \"non-diabetic\", \"non-diabetic\", \"diabetic\", \"diabetic\", \"non-diabetic\", \"non-diabetic\", \"non-diabetic\", \"diabetic\", \"non-diabetic\", \"non-diabetic\", \"non-diabetic\", \"diabetic\", \"non-diabetic\", \"non-diabetic\", \"non-diabetic\", \"non-diabetic\", \"non-diabetic\", \"non-diabetic\", \"diabetic\", \"non-diabetic\", \"diabetic\", \"diabetic\", \"non-diabetic\", \"non-diabetic\", \"non-diabetic\", \"non-diabetic\", \"non-diabetic\", \"diabetic\", \"non-diabetic\", \"non-diabetic\", \"non-diabetic\", \"non-diabetic\", \"non-diabetic\", \"diabetic\", \"diabetic\", \"non-diabetic\", \"non-diabetic\", \"non-diabetic\", \"non-diabetic\", \"non-diabetic\", \"non-diabetic\", \"non-diabetic\", \"non-diabetic\", \"diabetic\", \"diabetic\", \"diabetic\", \"non-diabetic\", \"non-diabetic\", \"non-diabetic\", \"non-diabetic\", \"non-diabetic\", \"non-diabetic\", \"non-diabetic\", \"non-diabetic\", \"non-diabetic\", \"non-diabetic\", \"non-diabetic\", \"non-diabetic\", \"diabetic\", \"non-diabetic\", \"non-diabetic\", \"non-diabetic\", \"non-diabetic\", \"non-diabetic\", \"non-diabetic\", \"diabetic\", \"non-diabetic\", \"non-diabetic\", \"non-diabetic\", \"non-diabetic\", \"non-diabetic\", \"non-diabetic\", \"non-diabetic\", \"non-diabetic\", \"non-diabetic\", \"non-diabetic\", \"non-diabetic\", \"non-diabetic\", \"diabetic\", \"non-diabetic\", \"non-diabetic\", \"non-diabetic\", \"non-diabetic\", \"non-diabetic\", \"non-diabetic\", \"non-diabetic\", \"non-diabetic\", \"non-diabetic\", \"non-diabetic\", \"non-diabetic\", \"non-diabetic\", \"non-diabetic\", \"non-diabetic\", \"non-diabetic\", \"non-diabetic\", \"non-diabetic\", \"non-diabetic\", \"non-diabetic\", \"non-diabetic\", \"non-diabetic\", \"non-diabetic\", \"diabetic\", \"non-diabetic\", \"non-diabetic\", \"diabetic\", \"non-diabetic\", \"non-diabetic\", \"non-diabetic\", \"non-diabetic\", \"non-diabetic\", \"non-diabetic\", \"non-diabetic\", \"non-diabetic\", \"non-diabetic\", \"non-diabetic\", \"non-diabetic\", \"non-diabetic\", \"non-diabetic\", \"non-diabetic\", \"non-diabetic\", \"non-diabetic\", \"diabetic\", \"non-diabetic\", \"diabetic\", \"non-diabetic\", \"non-diabetic\", \"non-diabetic\", \"non-diabetic\", \"non-diabetic\", \"diabetic\", \"non-diabetic\", \"non-diabetic\", \"non-diabetic\", \"non-diabetic\", \"non-diabetic\", \"non-diabetic\", \"non-diabetic\", \"non-diabetic\", \"non-diabetic\", \"non-diabetic\", \"non-diabetic\", \"non-diabetic\", \"non-diabetic\", \"non-diabetic\", \"non-diabetic\", \"non-diabetic\", \"non-diabetic\", \"non-diabetic\", \"non-diabetic\", \"non-diabetic\", \"non-diabetic\", \"non-diabetic\", \"non-diabetic\", \"diabetic\", \"non-diabetic\", \"diabetic\", \"non-diabetic\", \"non-diabetic\", \"non-diabetic\", \"diabetic\", \"non-diabetic\", \"non-diabetic\", \"non-diabetic\", \"non-diabetic\", \"non-diabetic\", \"non-diabetic\", \"non-diabetic\", \"non-diabetic\", \"non-diabetic\", \"non-diabetic\", \"non-diabetic\", \"non-diabetic\", \"non-diabetic\", \"non-diabetic\", \"non-diabetic\", \"non-diabetic\", \"non-diabetic\", \"non-diabetic\", \"non-diabetic\", \"non-diabetic\", \"non-diabetic\", \"non-diabetic\", \"non-diabetic\", \"non-diabetic\", \"non-diabetic\", \"non-diabetic\", \"non-diabetic\", \"non-diabetic\", \"non-diabetic\", \"non-diabetic\", \"diabetic\", \"non-diabetic\", \"non-diabetic\", \"non-diabetic\", \"non-diabetic\", \"non-diabetic\", \"non-diabetic\", \"non-diabetic\", \"non-diabetic\", \"non-diabetic\", \"non-diabetic\", \"non-diabetic\", \"non-diabetic\", \"diabetic\", \"non-diabetic\", \"diabetic\", \"non-diabetic\", \"non-diabetic\", \"non-diabetic\", \"non-diabetic\", \"non-diabetic\", \"diabetic\", \"non-diabetic\", \"non-diabetic\", \"diabetic\", \"non-diabetic\", \"non-diabetic\", \"non-diabetic\", \"non-diabetic\", \"diabetic\", \"diabetic\", \"non-diabetic\", \"diabetic\", \"non-diabetic\", \"non-diabetic\", \"non-diabetic\", \"non-diabetic\", \"non-diabetic\", \"non-diabetic\", \"non-diabetic\", \"non-diabetic\", \"diabetic\", \"non-diabetic\", \"non-diabetic\", \"non-diabetic\", \"non-diabetic\", \"non-diabetic\", \"diabetic\", \"non-diabetic\", \"non-diabetic\", \"non-diabetic\", \"diabetic\", \"non-diabetic\", \"non-diabetic\", \"non-diabetic\", \"non-diabetic\", \"non-diabetic\", \"non-diabetic\", \"non-diabetic\", \"non-diabetic\", \"non-diabetic\", \"non-diabetic\", \"non-diabetic\", \"non-diabetic\", \"diabetic\", \"non-diabetic\", \"non-diabetic\", \"non-diabetic\", \"non-diabetic\", \"non-diabetic\", \"non-diabetic\", \"non-diabetic\", \"non-diabetic\", \"non-diabetic\", \"non-diabetic\", \"non-diabetic\", \"non-diabetic\", \"non-diabetic\", \"non-diabetic\", \"diabetic\", \"non-diabetic\", \"non-diabetic\", \"non-diabetic\", \"non-diabetic\", \"non-diabetic\", \"non-diabetic\", \"non-diabetic\", \"non-diabetic\", \"diabetic\", \"non-diabetic\", \"non-diabetic\", \"diabetic\", \"non-diabetic\", \"non-diabetic\", \"non-diabetic\", \"non-diabetic\", \"non-diabetic\", \"non-diabetic\", \"non-diabetic\", \"non-diabetic\", \"non-diabetic\", \"diabetic\", \"non-diabetic\", \"non-diabetic\", \"diabetic\", \"non-diabetic\", \"non-diabetic\", \"non-diabetic\", \"non-diabetic\", \"non-diabetic\", \"non-diabetic\", \"non-diabetic\", \"non-diabetic\", \"non-diabetic\", \"non-diabetic\", \"diabetic\", \"non-diabetic\", \"non-diabetic\", \"non-diabetic\", \"non-diabetic\", \"non-diabetic\", \"non-diabetic\", \"non-diabetic\", \"non-diabetic\", \"non-diabetic\", \"non-diabetic\", \"non-diabetic\", \"non-diabetic\", \"non-diabetic\", \"non-diabetic\", \"non-diabetic\", \"non-diabetic\", \"non-diabetic\", \"non-diabetic\", \"non-diabetic\", \"diabetic\", \"diabetic\", \"non-diabetic\", \"non-diabetic\", \"non-diabetic\", \"diabetic\", \"non-diabetic\", \"non-diabetic\", \"non-diabetic\", \"non-diabetic\", \"non-diabetic\", \"diabetic\", \"non-diabetic\", \"non-diabetic\", \"non-diabetic\", \"non-diabetic\", \"non-diabetic\", \"non-diabetic\", \"non-diabetic\", \"non-diabetic\", \"non-diabetic\", \"non-diabetic\", \"diabetic\", \"non-diabetic\", \"non-diabetic\", \"non-diabetic\", \"non-diabetic\", \"diabetic\", \"non-diabetic\", \"non-diabetic\", \"non-diabetic\", \"non-diabetic\", \"non-diabetic\", \"non-diabetic\", \"non-diabetic\", \"non-diabetic\", \"non-diabetic\", \"non-diabetic\", \"diabetic\", \"non-diabetic\", \"non-diabetic\", \"diabetic\", \"non-diabetic\", \"non-diabetic\", \"non-diabetic\", \"non-diabetic\", \"non-diabetic\", \"non-diabetic\", \"diabetic\", \"non-diabetic\", \"non-diabetic\", \"non-diabetic\", \"non-diabetic\", \"non-diabetic\", \"diabetic\", \"non-diabetic\", \"non-diabetic\", \"non-diabetic\", \"diabetic\", \"non-diabetic\", \"non-diabetic\", \"diabetic\", \"non-diabetic\", \"non-diabetic\", \"non-diabetic\", \"non-diabetic\", \"non-diabetic\", \"non-diabetic\", \"non-diabetic\", \"diabetic\", \"non-diabetic\", \"non-diabetic\", \"non-diabetic\", \"non-diabetic\", \"non-diabetic\", \"non-diabetic\", \"non-diabetic\", \"diabetic\", \"non-diabetic\", \"non-diabetic\", \"non-diabetic\", \"non-diabetic\", \"diabetic\", \"non-diabetic\", \"non-diabetic\", \"non-diabetic\", \"diabetic\", \"non-diabetic\", \"non-diabetic\", \"non-diabetic\", \"diabetic\", \"non-diabetic\", \"non-diabetic\", \"non-diabetic\", \"non-diabetic\", \"non-diabetic\", \"non-diabetic\", \"non-diabetic\", \"non-diabetic\", \"non-diabetic\", \"diabetic\", \"non-diabetic\", \"non-diabetic\", \"non-diabetic\", \"diabetic\", \"non-diabetic\", \"non-diabetic\", \"non-diabetic\", \"non-diabetic\", \"non-diabetic\", \"diabetic\", \"non-diabetic\", \"non-diabetic\", \"non-diabetic\", \"non-diabetic\", \"non-diabetic\", \"non-diabetic\", \"non-diabetic\", \"diabetic\", \"non-diabetic\", \"non-diabetic\", \"non-diabetic\", \"diabetic\", \"non-diabetic\", \"non-diabetic\", \"non-diabetic\", \"non-diabetic\", \"non-diabetic\", \"non-diabetic\", \"non-diabetic\", \"non-diabetic\", \"non-diabetic\", \"non-diabetic\", \"non-diabetic\", \"non-diabetic\", \"non-diabetic\", \"diabetic\", \"non-diabetic\", \"non-diabetic\", \"diabetic\", \"non-diabetic\", \"non-diabetic\", \"non-diabetic\", \"non-diabetic\", \"non-diabetic\", \"non-diabetic\", \"diabetic\", \"non-diabetic\", \"non-diabetic\", \"non-diabetic\", \"non-diabetic\", \"non-diabetic\", \"non-diabetic\", \"non-diabetic\", \"non-diabetic\", \"non-diabetic\", \"non-diabetic\", \"non-diabetic\", \"non-diabetic\", \"non-diabetic\", \"non-diabetic\", \"non-diabetic\", \"diabetic\", \"diabetic\", \"non-diabetic\", \"non-diabetic\", \"non-diabetic\", \"non-diabetic\", \"non-diabetic\", \"diabetic\", \"non-diabetic\", \"non-diabetic\", \"non-diabetic\", \"non-diabetic\", \"non-diabetic\", \"non-diabetic\", \"non-diabetic\", \"non-diabetic\", \"diabetic\", \"diabetic\", \"non-diabetic\", \"non-diabetic\", \"non-diabetic\", \"non-diabetic\", \"non-diabetic\", \"diabetic\", \"non-diabetic\", \"non-diabetic\", \"non-diabetic\", \"non-diabetic\", \"non-diabetic\", \"non-diabetic\", \"diabetic\", \"non-diabetic\", \"non-diabetic\", \"non-diabetic\", \"non-diabetic\", \"non-diabetic\", \"diabetic\", \"non-diabetic\", \"non-diabetic\", \"non-diabetic\", \"non-diabetic\", \"diabetic\", \"non-diabetic\", \"non-diabetic\", \"non-diabetic\", \"non-diabetic\", \"non-diabetic\", \"non-diabetic\", \"diabetic\", \"non-diabetic\", \"non-diabetic\", \"non-diabetic\", \"non-diabetic\", \"non-diabetic\", \"non-diabetic\", \"diabetic\", \"non-diabetic\", \"non-diabetic\", \"non-diabetic\", \"non-diabetic\", \"non-diabetic\", \"non-diabetic\", \"non-diabetic\", \"non-diabetic\", \"non-diabetic\", \"non-diabetic\", \"non-diabetic\", \"non-diabetic\", \"non-diabetic\", \"diabetic\", \"non-diabetic\", \"non-diabetic\", \"non-diabetic\", \"non-diabetic\", \"diabetic\", \"non-diabetic\", \"non-diabetic\", \"non-diabetic\", \"non-diabetic\", \"non-diabetic\", \"diabetic\", \"non-diabetic\", \"non-diabetic\", \"non-diabetic\", \"non-diabetic\", \"non-diabetic\", \"non-diabetic\", \"diabetic\", \"non-diabetic\", \"non-diabetic\", \"non-diabetic\", \"non-diabetic\", \"non-diabetic\", \"non-diabetic\", \"diabetic\", \"non-diabetic\", \"non-diabetic\", \"non-diabetic\", \"non-diabetic\", \"diabetic\", \"non-diabetic\", \"diabetic\", \"non-diabetic\", \"non-diabetic\", \"non-diabetic\", \"non-diabetic\", \"non-diabetic\", \"non-diabetic\", \"diabetic\", \"non-diabetic\", \"non-diabetic\", \"non-diabetic\", \"non-diabetic\", \"non-diabetic\", \"non-diabetic\", \"non-diabetic\", \"non-diabetic\", \"non-diabetic\", \"non-diabetic\", \"non-diabetic\", \"non-diabetic\", \"non-diabetic\", \"diabetic\", \"non-diabetic\", \"non-diabetic\", \"non-diabetic\", \"diabetic\", \"non-diabetic\", \"non-diabetic\", \"non-diabetic\", \"non-diabetic\", \"non-diabetic\", \"non-diabetic\", \"non-diabetic\", \"diabetic\", \"non-diabetic\", \"non-diabetic\", \"non-diabetic\", \"non-diabetic\", \"non-diabetic\", \"non-diabetic\", \"non-diabetic\", \"non-diabetic\", \"diabetic\", \"diabetic\", \"non-diabetic\", \"non-diabetic\", \"non-diabetic\", \"non-diabetic\", \"non-diabetic\", \"non-diabetic\", \"non-diabetic\", \"non-diabetic\", \"diabetic\", \"non-diabetic\", \"non-diabetic\", \"non-diabetic\", \"non-diabetic\", \"diabetic\", \"diabetic\", \"diabetic\", \"non-diabetic\", \"diabetic\", \"non-diabetic\", \"non-diabetic\", \"non-diabetic\", \"non-diabetic\", \"non-diabetic\", \"non-diabetic\", \"non-diabetic\", \"non-diabetic\", \"diabetic\", \"non-diabetic\", \"non-diabetic\", \"non-diabetic\", \"non-diabetic\", \"non-diabetic\", \"diabetic\", \"non-diabetic\", \"non-diabetic\", \"non-diabetic\", \"diabetic\", \"diabetic\", \"non-diabetic\", \"non-diabetic\", \"non-diabetic\", \"non-diabetic\", \"non-diabetic\", \"non-diabetic\", \"non-diabetic\", \"non-diabetic\", \"non-diabetic\", \"non-diabetic\", \"non-diabetic\", \"non-diabetic\", \"non-diabetic\", \"non-diabetic\", \"non-diabetic\", \"non-diabetic\", \"diabetic\", \"non-diabetic\", \"non-diabetic\", \"non-diabetic\", \"non-diabetic\", \"non-diabetic\", \"non-diabetic\", \"non-diabetic\", \"non-diabetic\", \"non-diabetic\", \"non-diabetic\", \"non-diabetic\", \"non-diabetic\", \"non-diabetic\", \"non-diabetic\", \"non-diabetic\", \"diabetic\", \"non-diabetic\", \"non-diabetic\", \"diabetic\", \"non-diabetic\", \"non-diabetic\", \"non-diabetic\", \"non-diabetic\", \"non-diabetic\", \"diabetic\", \"non-diabetic\", \"non-diabetic\", \"non-diabetic\", \"non-diabetic\", \"non-diabetic\", \"non-diabetic\", \"diabetic\", \"non-diabetic\", \"non-diabetic\", \"diabetic\", \"non-diabetic\", \"non-diabetic\", \"non-diabetic\", \"non-diabetic\", \"non-diabetic\", \"non-diabetic\", \"non-diabetic\", \"non-diabetic\", \"diabetic\", \"non-diabetic\", \"non-diabetic\", \"non-diabetic\", \"non-diabetic\", \"non-diabetic\", \"non-diabetic\", \"non-diabetic\", \"diabetic\", \"non-diabetic\", \"non-diabetic\", \"non-diabetic\", \"non-diabetic\", \"non-diabetic\", \"non-diabetic\", \"diabetic\", \"non-diabetic\", \"non-diabetic\", \"diabetic\", \"non-diabetic\", \"non-diabetic\", \"non-diabetic\", \"non-diabetic\", \"non-diabetic\", \"non-diabetic\", \"diabetic\", \"non-diabetic\", \"non-diabetic\", \"non-diabetic\", \"diabetic\", \"non-diabetic\", \"non-diabetic\", \"non-diabetic\", \"non-diabetic\", \"non-diabetic\", \"non-diabetic\", \"non-diabetic\", \"non-diabetic\", \"non-diabetic\", \"non-diabetic\", \"non-diabetic\", \"non-diabetic\", \"non-diabetic\", \"non-diabetic\", \"non-diabetic\", \"non-diabetic\", \"non-diabetic\", \"non-diabetic\", \"non-diabetic\", \"non-diabetic\", \"non-diabetic\", \"non-diabetic\", \"non-diabetic\", \"diabetic\", \"diabetic\", \"diabetic\", \"non-diabetic\", \"non-diabetic\", \"non-diabetic\", \"non-diabetic\", \"non-diabetic\", \"non-diabetic\", \"non-diabetic\", \"non-diabetic\", \"non-diabetic\", \"non-diabetic\", \"non-diabetic\", \"non-diabetic\", \"non-diabetic\", \"non-diabetic\", \"non-diabetic\", \"non-diabetic\", \"non-diabetic\", \"non-diabetic\", \"non-diabetic\", \"non-diabetic\", \"non-diabetic\", \"non-diabetic\", \"non-diabetic\", \"non-diabetic\", \"diabetic\", \"non-diabetic\", \"non-diabetic\", \"non-diabetic\", \"non-diabetic\", \"non-diabetic\", \"non-diabetic\", \"non-diabetic\", \"non-diabetic\", \"non-diabetic\", \"non-diabetic\", \"non-diabetic\", \"diabetic\", \"non-diabetic\", \"non-diabetic\", \"non-diabetic\", \"non-diabetic\", \"non-diabetic\", \"non-diabetic\", \"non-diabetic\", \"non-diabetic\", \"non-diabetic\", \"non-diabetic\", \"non-diabetic\", \"non-diabetic\", \"diabetic\", \"non-diabetic\", \"non-diabetic\", \"diabetic\", \"non-diabetic\", \"non-diabetic\", \"non-diabetic\", \"non-diabetic\", \"diabetic\", \"non-diabetic\", \"diabetic\", \"diabetic\", \"non-diabetic\", \"non-diabetic\", \"diabetic\", \"non-diabetic\", \"diabetic\", \"non-diabetic\", \"non-diabetic\", \"non-diabetic\", \"non-diabetic\", \"diabetic\", \"non-diabetic\", \"non-diabetic\", \"diabetic\", \"non-diabetic\", \"non-diabetic\", \"non-diabetic\", \"non-diabetic\", \"non-diabetic\", \"non-diabetic\", \"non-diabetic\", \"non-diabetic\", \"diabetic\", \"non-diabetic\", \"non-diabetic\", \"non-diabetic\", \"non-diabetic\", \"non-diabetic\", \"non-diabetic\", \"diabetic\", \"non-diabetic\", \"non-diabetic\", \"diabetic\", \"non-diabetic\", \"non-diabetic\", \"diabetic\", \"diabetic\", \"non-diabetic\", \"non-diabetic\", \"non-diabetic\", \"non-diabetic\", \"diabetic\", \"non-diabetic\", \"non-diabetic\", \"non-diabetic\", \"non-diabetic\", \"non-diabetic\", \"non-diabetic\", \"diabetic\", \"non-diabetic\", \"non-diabetic\", \"non-diabetic\", \"non-diabetic\", \"non-diabetic\", \"non-diabetic\", \"non-diabetic\", \"non-diabetic\", \"non-diabetic\", \"non-diabetic\", \"non-diabetic\", \"non-diabetic\", \"diabetic\", \"non-diabetic\", \"diabetic\", \"non-diabetic\", \"non-diabetic\", \"non-diabetic\", \"non-diabetic\", \"non-diabetic\", \"non-diabetic\", \"non-diabetic\", \"diabetic\", \"non-diabetic\", \"non-diabetic\", \"non-diabetic\", \"non-diabetic\", \"non-diabetic\", \"non-diabetic\", \"diabetic\", \"non-diabetic\", \"non-diabetic\", \"non-diabetic\", \"non-diabetic\", \"non-diabetic\", \"non-diabetic\", \"non-diabetic\", \"non-diabetic\", \"non-diabetic\", \"non-diabetic\", \"diabetic\", \"non-diabetic\", \"non-diabetic\", \"non-diabetic\", \"diabetic\", \"non-diabetic\", \"diabetic\", \"non-diabetic\", \"non-diabetic\", \"non-diabetic\", \"non-diabetic\", \"non-diabetic\", \"non-diabetic\", \"non-diabetic\", \"non-diabetic\", \"non-diabetic\", \"non-diabetic\", \"non-diabetic\", \"non-diabetic\", \"non-diabetic\", \"non-diabetic\", \"non-diabetic\", \"non-diabetic\", \"diabetic\", \"diabetic\", \"non-diabetic\", \"non-diabetic\", \"non-diabetic\", \"non-diabetic\", \"non-diabetic\", \"diabetic\", \"non-diabetic\", \"diabetic\", \"non-diabetic\", \"non-diabetic\", \"non-diabetic\", \"diabetic\", \"non-diabetic\", \"non-diabetic\", \"diabetic\", \"non-diabetic\", \"non-diabetic\", \"non-diabetic\", \"non-diabetic\", \"non-diabetic\", \"non-diabetic\", \"non-diabetic\", \"non-diabetic\", \"non-diabetic\", \"non-diabetic\", \"non-diabetic\", \"non-diabetic\", \"non-diabetic\", \"diabetic\", \"non-diabetic\", \"non-diabetic\", \"non-diabetic\", \"diabetic\", \"non-diabetic\", \"diabetic\", \"diabetic\", \"non-diabetic\", \"non-diabetic\", \"non-diabetic\", \"non-diabetic\", \"non-diabetic\", \"diabetic\", \"non-diabetic\", \"non-diabetic\", \"non-diabetic\", \"non-diabetic\", \"non-diabetic\", \"non-diabetic\", \"non-diabetic\", \"non-diabetic\", \"non-diabetic\", \"diabetic\", \"non-diabetic\", \"non-diabetic\", \"non-diabetic\", \"non-diabetic\", \"non-diabetic\", \"non-diabetic\", \"non-diabetic\", \"diabetic\", \"non-diabetic\", \"non-diabetic\", \"non-diabetic\", \"non-diabetic\", \"non-diabetic\", \"non-diabetic\", \"non-diabetic\", \"non-diabetic\", \"non-diabetic\", \"non-diabetic\", \"non-diabetic\", \"non-diabetic\", \"non-diabetic\", \"non-diabetic\", \"non-diabetic\", \"non-diabetic\", \"non-diabetic\", \"non-diabetic\", \"diabetic\", \"non-diabetic\", \"non-diabetic\", \"non-diabetic\", \"non-diabetic\", \"non-diabetic\", \"non-diabetic\", \"non-diabetic\", \"non-diabetic\", \"non-diabetic\", \"non-diabetic\", \"non-diabetic\", \"non-diabetic\", \"diabetic\", \"non-diabetic\", \"non-diabetic\", \"non-diabetic\", \"non-diabetic\", \"non-diabetic\", \"non-diabetic\", \"non-diabetic\", \"non-diabetic\", \"diabetic\", \"non-diabetic\", \"non-diabetic\", \"non-diabetic\", \"non-diabetic\", \"non-diabetic\", \"non-diabetic\", \"non-diabetic\", \"non-diabetic\", \"non-diabetic\", \"diabetic\", \"non-diabetic\", \"non-diabetic\", \"non-diabetic\", \"non-diabetic\", \"non-diabetic\", \"non-diabetic\", \"non-diabetic\", \"non-diabetic\", \"diabetic\", \"non-diabetic\", \"non-diabetic\", \"non-diabetic\", \"non-diabetic\", \"diabetic\", \"non-diabetic\", \"non-diabetic\", \"non-diabetic\", \"non-diabetic\", \"non-diabetic\", \"non-diabetic\", \"non-diabetic\", \"non-diabetic\", \"non-diabetic\", \"non-diabetic\", \"non-diabetic\", \"non-diabetic\", \"non-diabetic\", \"non-diabetic\", \"non-diabetic\", \"diabetic\", \"non-diabetic\", \"non-diabetic\", \"non-diabetic\", \"non-diabetic\", \"non-diabetic\", \"non-diabetic\", \"diabetic\", \"diabetic\", \"non-diabetic\", \"non-diabetic\", \"diabetic\", \"non-diabetic\", \"non-diabetic\", \"non-diabetic\", \"non-diabetic\", \"non-diabetic\", \"non-diabetic\", \"non-diabetic\", \"non-diabetic\", \"non-diabetic\", \"non-diabetic\", \"non-diabetic\", \"non-diabetic\", \"non-diabetic\", \"non-diabetic\", \"non-diabetic\", \"diabetic\", \"non-diabetic\", \"non-diabetic\", \"non-diabetic\", \"non-diabetic\", \"non-diabetic\", \"non-diabetic\", \"non-diabetic\", \"non-diabetic\", \"non-diabetic\", \"non-diabetic\", \"diabetic\", \"non-diabetic\", \"diabetic\", \"non-diabetic\", \"non-diabetic\", \"non-diabetic\", \"non-diabetic\", \"non-diabetic\", \"non-diabetic\", \"non-diabetic\", \"non-diabetic\", \"non-diabetic\", \"non-diabetic\", \"diabetic\", \"non-diabetic\", \"non-diabetic\", \"non-diabetic\", \"non-diabetic\", \"non-diabetic\", \"diabetic\", \"non-diabetic\", \"non-diabetic\", \"non-diabetic\", \"non-diabetic\", \"non-diabetic\", \"non-diabetic\", \"non-diabetic\", \"non-diabetic\", \"non-diabetic\", \"non-diabetic\", \"non-diabetic\", \"non-diabetic\", \"diabetic\", \"non-diabetic\", \"non-diabetic\", \"non-diabetic\", \"non-diabetic\", \"non-diabetic\", \"non-diabetic\", \"non-diabetic\", \"diabetic\", \"non-diabetic\", \"diabetic\", \"non-diabetic\", \"non-diabetic\", \"non-diabetic\", \"non-diabetic\", \"diabetic\", \"non-diabetic\", \"non-diabetic\", \"non-diabetic\", \"non-diabetic\", \"diabetic\", \"non-diabetic\", \"diabetic\", \"non-diabetic\", \"diabetic\", \"non-diabetic\", \"non-diabetic\", \"non-diabetic\", \"non-diabetic\", \"non-diabetic\", \"non-diabetic\", \"non-diabetic\", \"non-diabetic\", \"diabetic\", \"diabetic\", \"non-diabetic\", \"diabetic\", \"diabetic\", \"non-diabetic\", \"non-diabetic\", \"non-diabetic\", \"non-diabetic\", \"diabetic\", \"non-diabetic\", \"non-diabetic\", \"non-diabetic\", \"non-diabetic\", \"non-diabetic\", \"non-diabetic\", \"non-diabetic\", \"non-diabetic\", \"non-diabetic\", \"non-diabetic\", \"non-diabetic\", \"non-diabetic\", \"non-diabetic\", \"non-diabetic\", \"diabetic\", \"non-diabetic\", \"non-diabetic\", \"non-diabetic\", \"non-diabetic\", \"non-diabetic\", \"non-diabetic\", \"non-diabetic\", \"non-diabetic\", \"non-diabetic\", \"non-diabetic\", \"non-diabetic\", \"non-diabetic\", \"non-diabetic\", \"non-diabetic\", \"non-diabetic\", \"diabetic\", \"diabetic\", \"non-diabetic\", \"diabetic\", \"non-diabetic\", \"non-diabetic\", \"non-diabetic\", \"diabetic\", \"non-diabetic\", \"diabetic\", \"non-diabetic\", \"diabetic\", \"diabetic\", \"non-diabetic\", \"non-diabetic\", \"non-diabetic\", \"non-diabetic\", \"non-diabetic\", \"non-diabetic\", \"non-diabetic\", \"non-diabetic\", \"non-diabetic\", \"non-diabetic\", \"non-diabetic\", \"non-diabetic\", \"non-diabetic\", \"non-diabetic\", \"non-diabetic\", \"non-diabetic\", \"non-diabetic\", \"non-diabetic\", \"diabetic\", \"non-diabetic\", \"non-diabetic\", \"non-diabetic\", \"non-diabetic\", \"non-diabetic\", \"non-diabetic\", \"diabetic\", \"non-diabetic\", \"non-diabetic\", \"non-diabetic\", \"non-diabetic\", \"non-diabetic\", \"non-diabetic\", \"non-diabetic\", \"non-diabetic\", \"non-diabetic\", \"non-diabetic\", \"non-diabetic\", \"non-diabetic\", \"non-diabetic\", \"non-diabetic\", \"non-diabetic\", \"non-diabetic\", \"non-diabetic\", \"non-diabetic\", \"non-diabetic\", \"non-diabetic\", \"non-diabetic\", \"non-diabetic\", \"non-diabetic\", \"non-diabetic\", \"non-diabetic\", \"non-diabetic\", \"non-diabetic\", \"non-diabetic\", \"non-diabetic\", \"non-diabetic\", \"non-diabetic\", \"diabetic\", \"non-diabetic\", \"non-diabetic\", \"non-diabetic\", \"diabetic\", \"non-diabetic\", \"non-diabetic\", \"non-diabetic\", \"non-diabetic\", \"diabetic\", \"non-diabetic\", \"diabetic\", \"non-diabetic\", \"non-diabetic\", \"non-diabetic\", \"non-diabetic\", \"non-diabetic\", \"non-diabetic\", \"non-diabetic\", \"non-diabetic\", \"diabetic\", \"non-diabetic\", \"non-diabetic\", \"non-diabetic\", \"non-diabetic\", \"diabetic\", \"non-diabetic\", \"diabetic\", \"non-diabetic\", \"non-diabetic\", \"non-diabetic\", \"diabetic\", \"non-diabetic\", \"non-diabetic\", \"non-diabetic\", \"non-diabetic\", \"non-diabetic\", \"non-diabetic\", \"diabetic\", \"non-diabetic\", \"non-diabetic\", \"non-diabetic\", \"non-diabetic\", \"non-diabetic\", \"diabetic\", \"diabetic\", \"non-diabetic\", \"diabetic\", \"diabetic\", \"non-diabetic\", \"non-diabetic\", \"diabetic\", \"non-diabetic\", \"non-diabetic\", \"non-diabetic\", \"non-diabetic\", \"diabetic\", \"non-diabetic\", \"non-diabetic\", \"non-diabetic\", \"non-diabetic\", \"non-diabetic\", \"non-diabetic\", \"non-diabetic\", \"non-diabetic\", \"non-diabetic\", \"non-diabetic\", \"diabetic\", \"non-diabetic\", \"non-diabetic\", \"diabetic\", \"diabetic\", \"non-diabetic\", \"diabetic\", \"non-diabetic\", \"non-diabetic\", \"diabetic\", \"non-diabetic\", \"non-diabetic\", \"non-diabetic\", \"non-diabetic\", \"non-diabetic\", \"non-diabetic\", \"non-diabetic\", \"non-diabetic\", \"non-diabetic\", \"non-diabetic\", \"diabetic\", \"non-diabetic\", \"non-diabetic\", \"non-diabetic\", \"diabetic\", \"non-diabetic\", \"non-diabetic\", \"non-diabetic\", \"diabetic\", \"non-diabetic\", \"non-diabetic\", \"diabetic\", \"non-diabetic\", \"non-diabetic\", \"non-diabetic\", \"non-diabetic\", \"non-diabetic\", \"non-diabetic\", \"non-diabetic\", \"non-diabetic\", \"non-diabetic\", \"non-diabetic\", \"non-diabetic\", \"non-diabetic\", \"non-diabetic\", \"non-diabetic\", \"non-diabetic\", \"diabetic\", \"non-diabetic\", \"non-diabetic\", \"non-diabetic\", \"non-diabetic\", \"non-diabetic\", \"non-diabetic\", \"non-diabetic\", \"non-diabetic\", \"non-diabetic\", \"non-diabetic\", \"diabetic\", \"non-diabetic\", \"non-diabetic\", \"non-diabetic\", \"non-diabetic\", \"non-diabetic\", \"non-diabetic\", \"non-diabetic\", \"non-diabetic\", \"non-diabetic\", \"non-diabetic\", \"non-diabetic\", \"non-diabetic\", \"non-diabetic\", \"non-diabetic\", \"non-diabetic\", \"non-diabetic\", \"diabetic\", \"non-diabetic\", \"non-diabetic\", \"non-diabetic\", \"non-diabetic\", \"non-diabetic\", \"diabetic\", \"non-diabetic\", \"non-diabetic\", \"non-diabetic\", \"non-diabetic\", \"diabetic\", \"non-diabetic\", \"non-diabetic\", \"non-diabetic\", \"non-diabetic\", \"non-diabetic\", \"non-diabetic\", \"non-diabetic\", \"non-diabetic\", \"non-diabetic\", \"non-diabetic\", \"non-diabetic\", \"diabetic\", \"non-diabetic\", \"non-diabetic\", \"non-diabetic\", \"diabetic\", \"non-diabetic\", \"non-diabetic\", \"diabetic\", \"non-diabetic\", \"diabetic\", \"non-diabetic\", \"non-diabetic\", \"non-diabetic\", \"non-diabetic\", \"non-diabetic\", \"diabetic\", \"non-diabetic\", \"non-diabetic\", \"non-diabetic\", \"non-diabetic\", \"non-diabetic\", \"non-diabetic\", \"non-diabetic\", \"non-diabetic\", \"non-diabetic\", \"non-diabetic\", \"non-diabetic\", \"non-diabetic\", \"diabetic\", \"non-diabetic\", \"non-diabetic\", \"non-diabetic\", \"non-diabetic\", \"non-diabetic\", \"non-diabetic\", \"non-diabetic\", \"non-diabetic\", \"non-diabetic\", \"non-diabetic\", \"non-diabetic\", \"non-diabetic\", \"diabetic\", \"non-diabetic\", \"non-diabetic\", \"non-diabetic\", \"non-diabetic\", \"non-diabetic\", \"non-diabetic\", \"non-diabetic\", \"non-diabetic\", \"non-diabetic\", \"non-diabetic\", \"non-diabetic\", \"non-diabetic\", \"diabetic\", \"non-diabetic\", \"non-diabetic\", \"non-diabetic\", \"non-diabetic\", \"non-diabetic\", \"non-diabetic\", \"diabetic\", \"non-diabetic\", \"non-diabetic\", \"non-diabetic\", \"non-diabetic\", \"non-diabetic\", \"non-diabetic\", \"non-diabetic\", \"non-diabetic\", \"non-diabetic\", \"non-diabetic\", \"non-diabetic\", \"diabetic\", \"diabetic\", \"non-diabetic\", \"non-diabetic\", \"diabetic\", \"diabetic\", \"non-diabetic\", \"non-diabetic\", \"non-diabetic\", \"non-diabetic\", \"non-diabetic\", \"diabetic\", \"non-diabetic\", \"non-diabetic\", \"non-diabetic\", \"non-diabetic\", \"non-diabetic\", \"diabetic\", \"non-diabetic\", \"non-diabetic\", \"non-diabetic\", \"non-diabetic\", \"non-diabetic\", \"non-diabetic\", \"non-diabetic\", \"non-diabetic\", \"non-diabetic\", \"non-diabetic\", \"non-diabetic\", \"diabetic\", \"non-diabetic\", \"non-diabetic\", \"non-diabetic\", \"non-diabetic\", \"non-diabetic\", \"non-diabetic\", \"non-diabetic\", \"non-diabetic\", \"non-diabetic\", \"non-diabetic\", \"non-diabetic\", \"non-diabetic\", \"non-diabetic\", \"non-diabetic\", \"non-diabetic\", \"non-diabetic\", \"non-diabetic\", \"diabetic\", \"non-diabetic\", \"non-diabetic\", \"non-diabetic\", \"non-diabetic\", \"diabetic\", \"non-diabetic\", \"non-diabetic\", \"non-diabetic\", \"non-diabetic\", \"diabetic\", \"diabetic\", \"non-diabetic\", \"non-diabetic\", \"non-diabetic\", \"non-diabetic\", \"non-diabetic\", \"diabetic\", \"non-diabetic\", \"non-diabetic\", \"non-diabetic\", \"diabetic\", \"non-diabetic\", \"non-diabetic\", \"non-diabetic\", \"non-diabetic\", \"non-diabetic\", \"non-diabetic\", \"non-diabetic\", \"non-diabetic\", \"non-diabetic\", \"non-diabetic\", \"non-diabetic\", \"non-diabetic\", \"non-diabetic\", \"non-diabetic\", \"non-diabetic\", \"diabetic\", \"diabetic\", \"non-diabetic\", \"non-diabetic\", \"non-diabetic\", \"non-diabetic\", \"non-diabetic\", \"non-diabetic\", \"non-diabetic\", \"non-diabetic\", \"non-diabetic\", \"non-diabetic\", \"non-diabetic\", \"non-diabetic\", \"non-diabetic\", \"non-diabetic\", \"non-diabetic\", \"non-diabetic\", \"non-diabetic\", \"non-diabetic\", \"non-diabetic\", \"non-diabetic\", \"non-diabetic\", \"non-diabetic\", \"non-diabetic\", \"non-diabetic\", \"non-diabetic\", \"non-diabetic\", \"non-diabetic\", \"non-diabetic\", \"non-diabetic\", \"non-diabetic\", \"non-diabetic\", \"non-diabetic\", \"non-diabetic\", \"non-diabetic\", \"non-diabetic\", \"non-diabetic\", \"non-diabetic\", \"diabetic\", \"non-diabetic\", \"non-diabetic\", \"non-diabetic\", \"non-diabetic\", \"diabetic\", \"non-diabetic\", \"non-diabetic\", \"non-diabetic\", \"non-diabetic\", \"non-diabetic\", \"non-diabetic\", \"non-diabetic\", \"non-diabetic\", \"non-diabetic\", \"non-diabetic\", \"non-diabetic\", \"diabetic\", \"non-diabetic\", \"diabetic\", \"non-diabetic\", \"non-diabetic\", \"non-diabetic\", \"non-diabetic\", \"diabetic\", \"non-diabetic\", \"non-diabetic\", \"non-diabetic\", \"non-diabetic\", \"diabetic\", \"non-diabetic\", \"non-diabetic\", \"non-diabetic\", \"diabetic\", \"non-diabetic\", \"non-diabetic\", \"non-diabetic\", \"diabetic\", \"non-diabetic\", \"non-diabetic\", \"non-diabetic\", \"non-diabetic\", \"diabetic\", \"non-diabetic\", \"non-diabetic\", \"diabetic\", \"non-diabetic\", \"non-diabetic\", \"non-diabetic\", \"non-diabetic\", \"non-diabetic\", \"diabetic\", \"non-diabetic\", \"non-diabetic\", \"non-diabetic\", \"non-diabetic\", \"non-diabetic\", \"diabetic\", \"non-diabetic\", \"non-diabetic\", \"non-diabetic\", \"non-diabetic\", \"diabetic\", \"non-diabetic\", \"diabetic\", \"non-diabetic\", \"non-diabetic\", \"non-diabetic\", \"non-diabetic\", \"non-diabetic\", \"non-diabetic\", \"diabetic\", \"non-diabetic\", \"non-diabetic\", \"non-diabetic\", \"non-diabetic\", \"non-diabetic\", \"non-diabetic\", \"non-diabetic\", \"non-diabetic\", \"non-diabetic\", \"non-diabetic\", \"non-diabetic\", \"non-diabetic\", \"non-diabetic\", \"non-diabetic\", \"non-diabetic\", \"non-diabetic\", \"non-diabetic\", \"non-diabetic\", \"diabetic\", \"non-diabetic\", \"non-diabetic\", \"non-diabetic\", \"diabetic\", \"diabetic\", \"non-diabetic\", \"non-diabetic\", \"non-diabetic\", \"non-diabetic\", \"non-diabetic\", \"non-diabetic\", \"non-diabetic\", \"non-diabetic\", \"non-diabetic\", \"diabetic\", \"non-diabetic\", \"non-diabetic\", \"non-diabetic\", \"non-diabetic\", \"non-diabetic\", \"non-diabetic\", \"non-diabetic\", \"non-diabetic\", \"non-diabetic\", \"non-diabetic\", \"non-diabetic\", \"non-diabetic\", \"non-diabetic\", \"non-diabetic\", \"non-diabetic\", \"non-diabetic\", \"non-diabetic\", \"non-diabetic\", \"non-diabetic\", \"diabetic\", \"non-diabetic\", \"non-diabetic\", \"non-diabetic\", \"non-diabetic\", \"non-diabetic\", \"diabetic\", \"diabetic\", \"non-diabetic\", \"non-diabetic\", \"diabetic\", \"non-diabetic\", \"non-diabetic\", \"non-diabetic\", \"non-diabetic\", \"non-diabetic\", \"non-diabetic\", \"non-diabetic\", \"non-diabetic\", \"non-diabetic\", \"non-diabetic\", \"diabetic\", \"non-diabetic\", \"non-diabetic\", \"non-diabetic\", \"non-diabetic\", \"non-diabetic\", \"non-diabetic\", \"non-diabetic\", \"non-diabetic\", \"non-diabetic\", \"non-diabetic\", \"non-diabetic\", \"non-diabetic\", \"non-diabetic\", \"non-diabetic\", \"diabetic\", \"non-diabetic\", \"non-diabetic\", \"non-diabetic\", \"non-diabetic\", \"non-diabetic\", \"diabetic\", \"diabetic\", \"non-diabetic\", \"non-diabetic\", \"non-diabetic\", \"diabetic\", \"non-diabetic\", \"non-diabetic\", \"non-diabetic\", \"non-diabetic\", \"diabetic\", \"non-diabetic\", \"non-diabetic\", \"non-diabetic\", \"non-diabetic\", \"non-diabetic\", \"non-diabetic\", \"diabetic\", \"non-diabetic\", \"non-diabetic\", \"non-diabetic\", \"non-diabetic\", \"non-diabetic\", \"non-diabetic\", \"non-diabetic\", \"non-diabetic\", \"non-diabetic\", \"non-diabetic\", \"diabetic\", \"non-diabetic\", \"non-diabetic\", \"non-diabetic\", \"non-diabetic\", \"non-diabetic\", \"non-diabetic\", \"non-diabetic\", \"non-diabetic\", \"non-diabetic\", \"diabetic\", \"non-diabetic\", \"non-diabetic\", \"non-diabetic\", \"diabetic\", \"non-diabetic\", \"non-diabetic\", \"non-diabetic\", \"diabetic\", \"non-diabetic\", \"non-diabetic\", \"non-diabetic\", \"non-diabetic\", \"non-diabetic\", \"non-diabetic\", \"non-diabetic\", \"non-diabetic\", \"non-diabetic\", \"non-diabetic\", \"non-diabetic\", \"non-diabetic\", \"non-diabetic\", \"non-diabetic\", \"non-diabetic\", \"non-diabetic\", \"diabetic\", \"diabetic\", \"non-diabetic\", \"non-diabetic\", \"non-diabetic\", \"non-diabetic\", \"non-diabetic\", \"diabetic\", \"diabetic\", \"non-diabetic\", \"non-diabetic\", \"non-diabetic\", \"non-diabetic\", \"non-diabetic\", \"diabetic\", \"non-diabetic\", \"diabetic\", \"non-diabetic\", \"non-diabetic\", \"non-diabetic\", \"non-diabetic\", \"diabetic\", \"non-diabetic\", \"non-diabetic\", \"non-diabetic\", \"non-diabetic\", \"non-diabetic\", \"diabetic\", \"non-diabetic\", \"non-diabetic\", \"non-diabetic\", \"non-diabetic\", \"non-diabetic\", \"non-diabetic\", \"non-diabetic\", \"non-diabetic\", \"non-diabetic\", \"non-diabetic\", \"non-diabetic\", \"non-diabetic\", \"non-diabetic\", \"non-diabetic\", \"non-diabetic\", \"non-diabetic\", \"non-diabetic\", \"non-diabetic\", \"non-diabetic\", \"non-diabetic\", \"diabetic\", \"non-diabetic\", \"non-diabetic\", \"non-diabetic\", \"non-diabetic\", \"non-diabetic\", \"non-diabetic\", \"non-diabetic\", \"non-diabetic\", \"diabetic\", \"non-diabetic\", \"diabetic\", \"non-diabetic\", \"non-diabetic\", \"non-diabetic\", \"diabetic\", \"non-diabetic\", \"non-diabetic\", \"diabetic\", \"non-diabetic\", \"non-diabetic\", \"non-diabetic\", \"non-diabetic\", \"non-diabetic\", \"non-diabetic\", \"non-diabetic\", \"non-diabetic\", \"diabetic\", \"non-diabetic\", \"non-diabetic\", \"diabetic\", \"non-diabetic\", \"non-diabetic\", \"non-diabetic\", \"non-diabetic\", \"non-diabetic\", \"non-diabetic\", \"non-diabetic\", \"non-diabetic\", \"non-diabetic\", \"diabetic\", \"non-diabetic\", \"non-diabetic\", \"non-diabetic\", \"non-diabetic\", \"non-diabetic\", \"non-diabetic\", \"diabetic\", \"non-diabetic\", \"non-diabetic\", \"diabetic\", \"non-diabetic\", \"non-diabetic\", \"diabetic\", \"non-diabetic\", \"diabetic\", \"non-diabetic\", \"diabetic\", \"non-diabetic\", \"non-diabetic\", \"non-diabetic\", \"non-diabetic\", \"non-diabetic\", \"non-diabetic\", \"non-diabetic\", \"non-diabetic\", \"non-diabetic\", \"non-diabetic\", \"non-diabetic\", \"non-diabetic\", \"non-diabetic\", \"non-diabetic\", \"non-diabetic\", \"non-diabetic\", \"non-diabetic\", \"non-diabetic\", \"non-diabetic\", \"non-diabetic\", \"non-diabetic\", \"non-diabetic\", \"non-diabetic\", \"non-diabetic\", \"non-diabetic\", \"non-diabetic\", \"non-diabetic\", \"diabetic\", \"non-diabetic\", \"diabetic\", \"non-diabetic\", \"non-diabetic\", \"non-diabetic\", \"non-diabetic\", \"non-diabetic\", \"non-diabetic\", \"non-diabetic\", \"non-diabetic\", \"non-diabetic\", \"non-diabetic\", \"non-diabetic\", \"non-diabetic\", \"non-diabetic\", \"diabetic\", \"non-diabetic\", \"non-diabetic\", \"non-diabetic\", \"non-diabetic\", \"non-diabetic\", \"diabetic\", \"non-diabetic\", \"non-diabetic\", \"non-diabetic\", \"non-diabetic\", \"non-diabetic\", \"non-diabetic\", \"non-diabetic\", \"non-diabetic\", \"non-diabetic\", \"non-diabetic\", \"non-diabetic\", \"non-diabetic\", \"non-diabetic\", \"non-diabetic\", \"non-diabetic\", \"non-diabetic\", \"diabetic\", \"non-diabetic\", \"non-diabetic\", \"non-diabetic\", \"non-diabetic\", \"non-diabetic\", \"non-diabetic\", \"diabetic\", \"non-diabetic\", \"non-diabetic\", \"non-diabetic\", \"non-diabetic\", \"non-diabetic\", \"non-diabetic\", \"non-diabetic\", \"diabetic\", \"non-diabetic\", \"non-diabetic\", \"diabetic\", \"non-diabetic\", \"non-diabetic\", \"non-diabetic\", \"non-diabetic\", \"non-diabetic\", \"diabetic\", \"non-diabetic\", \"non-diabetic\", \"non-diabetic\", \"non-diabetic\", \"diabetic\", \"diabetic\", \"non-diabetic\", \"diabetic\", \"non-diabetic\", \"non-diabetic\", \"non-diabetic\", \"non-diabetic\", \"diabetic\", \"diabetic\", \"non-diabetic\", \"non-diabetic\", \"non-diabetic\", \"diabetic\", \"diabetic\", \"non-diabetic\", \"non-diabetic\", \"non-diabetic\", \"non-diabetic\", \"diabetic\", \"diabetic\", \"non-diabetic\", \"non-diabetic\", \"non-diabetic\", \"non-diabetic\", \"non-diabetic\", \"diabetic\", \"non-diabetic\", \"non-diabetic\", \"non-diabetic\", \"non-diabetic\", \"non-diabetic\", \"non-diabetic\", \"diabetic\", \"non-diabetic\", \"non-diabetic\", \"diabetic\", \"non-diabetic\", \"diabetic\", \"non-diabetic\", \"non-diabetic\", \"non-diabetic\", \"diabetic\", \"non-diabetic\", \"non-diabetic\", \"non-diabetic\", \"diabetic\", \"diabetic\", \"non-diabetic\", \"diabetic\", \"non-diabetic\", \"non-diabetic\", \"non-diabetic\", \"non-diabetic\", \"non-diabetic\", \"diabetic\", \"non-diabetic\", \"non-diabetic\", \"non-diabetic\", \"non-diabetic\", \"diabetic\", \"non-diabetic\", \"non-diabetic\", \"non-diabetic\", \"non-diabetic\", \"non-diabetic\", \"non-diabetic\", \"diabetic\", \"non-diabetic\", \"non-diabetic\", \"non-diabetic\", \"non-diabetic\", \"diabetic\", \"diabetic\", \"non-diabetic\", \"non-diabetic\", \"non-diabetic\", \"non-diabetic\", \"non-diabetic\", \"non-diabetic\", \"diabetic\", \"non-diabetic\", \"non-diabetic\", \"non-diabetic\", \"non-diabetic\", \"non-diabetic\", \"non-diabetic\", \"non-diabetic\", \"non-diabetic\", \"non-diabetic\", \"non-diabetic\", \"non-diabetic\", \"non-diabetic\", \"non-diabetic\", \"non-diabetic\", \"non-diabetic\", \"non-diabetic\", \"non-diabetic\", \"non-diabetic\", \"diabetic\", \"non-diabetic\", \"non-diabetic\", \"non-diabetic\", \"non-diabetic\", \"non-diabetic\", \"non-diabetic\", \"non-diabetic\", \"non-diabetic\", \"non-diabetic\", \"non-diabetic\", \"diabetic\", \"non-diabetic\", \"non-diabetic\", \"non-diabetic\", \"non-diabetic\", \"non-diabetic\", \"non-diabetic\", \"non-diabetic\", \"diabetic\", \"non-diabetic\", \"non-diabetic\", \"non-diabetic\", \"non-diabetic\", \"non-diabetic\", \"non-diabetic\", \"non-diabetic\", \"diabetic\", \"non-diabetic\", \"non-diabetic\", \"non-diabetic\", \"non-diabetic\", \"non-diabetic\", \"non-diabetic\", \"non-diabetic\", \"non-diabetic\", \"non-diabetic\", \"non-diabetic\", \"non-diabetic\", \"diabetic\", \"non-diabetic\", \"non-diabetic\", \"diabetic\", \"non-diabetic\", \"non-diabetic\", \"non-diabetic\", \"non-diabetic\", \"diabetic\", \"non-diabetic\", \"non-diabetic\", \"non-diabetic\", \"non-diabetic\", \"diabetic\", \"non-diabetic\", \"non-diabetic\", \"non-diabetic\", \"non-diabetic\", \"non-diabetic\", \"diabetic\", \"non-diabetic\", \"non-diabetic\", \"non-diabetic\", \"non-diabetic\", \"non-diabetic\", \"non-diabetic\", \"non-diabetic\", \"non-diabetic\", \"non-diabetic\", \"non-diabetic\", \"non-diabetic\", \"non-diabetic\", \"non-diabetic\", \"non-diabetic\", \"non-diabetic\", \"non-diabetic\", \"non-diabetic\", \"non-diabetic\", \"non-diabetic\", \"non-diabetic\", \"non-diabetic\", \"non-diabetic\", \"non-diabetic\", \"non-diabetic\", \"non-diabetic\", \"non-diabetic\", \"non-diabetic\", \"non-diabetic\", \"non-diabetic\", \"non-diabetic\", \"non-diabetic\", \"non-diabetic\", \"non-diabetic\", \"non-diabetic\", \"non-diabetic\", \"non-diabetic\", \"non-diabetic\", \"non-diabetic\", \"non-diabetic\", \"non-diabetic\", \"diabetic\", \"non-diabetic\", \"diabetic\", \"non-diabetic\", \"non-diabetic\", \"non-diabetic\", \"non-diabetic\", \"non-diabetic\", \"non-diabetic\", \"non-diabetic\", \"non-diabetic\", \"non-diabetic\", \"diabetic\", \"non-diabetic\", \"non-diabetic\", \"non-diabetic\", \"diabetic\", \"non-diabetic\", \"non-diabetic\", \"non-diabetic\", \"diabetic\", \"non-diabetic\", \"non-diabetic\", \"non-diabetic\", \"non-diabetic\", \"non-diabetic\", \"non-diabetic\", \"non-diabetic\", \"non-diabetic\", \"non-diabetic\", \"non-diabetic\", \"non-diabetic\", \"non-diabetic\", \"diabetic\", \"diabetic\", \"non-diabetic\", \"non-diabetic\", \"non-diabetic\", \"non-diabetic\", \"non-diabetic\", \"non-diabetic\", \"non-diabetic\", \"non-diabetic\", \"diabetic\", \"non-diabetic\", \"non-diabetic\", \"non-diabetic\", \"non-diabetic\", \"non-diabetic\", \"non-diabetic\", \"diabetic\", \"diabetic\", \"non-diabetic\", \"non-diabetic\", \"non-diabetic\", \"non-diabetic\", \"non-diabetic\", \"non-diabetic\", \"non-diabetic\", \"non-diabetic\", \"non-diabetic\", \"non-diabetic\", \"non-diabetic\", \"non-diabetic\", \"non-diabetic\", \"non-diabetic\", \"non-diabetic\", \"diabetic\", \"non-diabetic\", \"diabetic\", \"non-diabetic\", \"non-diabetic\", \"diabetic\", \"non-diabetic\", \"non-diabetic\", \"non-diabetic\", \"non-diabetic\", \"non-diabetic\", \"non-diabetic\", \"non-diabetic\", \"non-diabetic\", \"diabetic\", \"non-diabetic\", \"diabetic\", \"non-diabetic\", \"non-diabetic\", \"non-diabetic\", \"diabetic\", \"non-diabetic\", \"non-diabetic\", \"non-diabetic\", \"diabetic\", \"non-diabetic\", \"diabetic\", \"non-diabetic\", \"diabetic\", \"non-diabetic\", \"non-diabetic\", \"non-diabetic\", \"non-diabetic\", \"non-diabetic\", \"non-diabetic\", \"non-diabetic\", \"non-diabetic\", \"non-diabetic\", \"non-diabetic\", \"non-diabetic\", \"non-diabetic\", \"non-diabetic\", \"non-diabetic\", \"non-diabetic\", \"non-diabetic\", \"diabetic\", \"non-diabetic\", \"non-diabetic\", \"non-diabetic\", \"non-diabetic\", \"non-diabetic\", \"non-diabetic\", \"non-diabetic\", \"non-diabetic\", \"non-diabetic\", \"diabetic\", \"non-diabetic\", \"non-diabetic\", \"non-diabetic\", \"non-diabetic\", \"non-diabetic\", \"diabetic\", \"non-diabetic\", \"non-diabetic\", \"non-diabetic\", \"non-diabetic\", \"non-diabetic\", \"non-diabetic\", \"diabetic\", \"non-diabetic\", \"non-diabetic\", \"non-diabetic\", \"non-diabetic\", \"non-diabetic\", \"non-diabetic\", \"non-diabetic\", \"non-diabetic\", \"non-diabetic\", \"non-diabetic\", \"non-diabetic\", \"non-diabetic\", \"non-diabetic\", \"non-diabetic\", \"non-diabetic\", \"diabetic\", \"diabetic\", \"non-diabetic\", \"non-diabetic\", \"diabetic\", \"diabetic\", \"diabetic\", \"non-diabetic\", \"non-diabetic\", \"non-diabetic\", \"non-diabetic\", \"diabetic\", \"non-diabetic\", \"non-diabetic\", \"non-diabetic\", \"non-diabetic\", \"non-diabetic\", \"non-diabetic\", \"non-diabetic\", \"diabetic\", \"non-diabetic\", \"non-diabetic\", \"non-diabetic\", \"non-diabetic\", \"diabetic\", \"diabetic\", \"non-diabetic\", \"non-diabetic\", \"non-diabetic\", \"non-diabetic\", \"non-diabetic\", \"diabetic\", \"diabetic\", \"non-diabetic\", \"diabetic\", \"non-diabetic\", \"non-diabetic\", \"diabetic\", \"non-diabetic\", \"non-diabetic\", \"non-diabetic\", \"diabetic\", \"diabetic\", \"non-diabetic\", \"non-diabetic\", \"non-diabetic\", \"non-diabetic\"], \"type\": \"splom\"}],\n",
              "                        {\"font\": {\"color\": \"RebeccaPurple\", \"family\": \"monospace\", \"size\": 8}, \"height\": 900, \"template\": {\"data\": {\"bar\": [{\"error_x\": {\"color\": \"#2a3f5f\"}, \"error_y\": {\"color\": \"#2a3f5f\"}, \"marker\": {\"line\": {\"color\": \"#E5ECF6\", \"width\": 0.5}}, \"type\": \"bar\"}], \"barpolar\": [{\"marker\": {\"line\": {\"color\": \"#E5ECF6\", \"width\": 0.5}}, \"type\": \"barpolar\"}], \"carpet\": [{\"aaxis\": {\"endlinecolor\": \"#2a3f5f\", \"gridcolor\": \"white\", \"linecolor\": \"white\", \"minorgridcolor\": \"white\", \"startlinecolor\": \"#2a3f5f\"}, \"baxis\": {\"endlinecolor\": \"#2a3f5f\", \"gridcolor\": \"white\", \"linecolor\": \"white\", \"minorgridcolor\": \"white\", \"startlinecolor\": \"#2a3f5f\"}, \"type\": \"carpet\"}], \"choropleth\": [{\"colorbar\": {\"outlinewidth\": 0, \"ticks\": \"\"}, \"type\": \"choropleth\"}], \"contour\": [{\"colorbar\": {\"outlinewidth\": 0, \"ticks\": \"\"}, \"colorscale\": [[0.0, \"#0d0887\"], [0.1111111111111111, \"#46039f\"], [0.2222222222222222, \"#7201a8\"], [0.3333333333333333, \"#9c179e\"], [0.4444444444444444, \"#bd3786\"], [0.5555555555555556, \"#d8576b\"], [0.6666666666666666, \"#ed7953\"], [0.7777777777777778, \"#fb9f3a\"], [0.8888888888888888, \"#fdca26\"], [1.0, \"#f0f921\"]], \"type\": \"contour\"}], \"contourcarpet\": [{\"colorbar\": {\"outlinewidth\": 0, \"ticks\": \"\"}, \"type\": \"contourcarpet\"}], \"heatmap\": [{\"colorbar\": {\"outlinewidth\": 0, \"ticks\": \"\"}, \"colorscale\": [[0.0, \"#0d0887\"], [0.1111111111111111, \"#46039f\"], [0.2222222222222222, \"#7201a8\"], [0.3333333333333333, \"#9c179e\"], [0.4444444444444444, \"#bd3786\"], [0.5555555555555556, \"#d8576b\"], [0.6666666666666666, \"#ed7953\"], [0.7777777777777778, \"#fb9f3a\"], [0.8888888888888888, \"#fdca26\"], [1.0, \"#f0f921\"]], \"type\": \"heatmap\"}], \"heatmapgl\": [{\"colorbar\": {\"outlinewidth\": 0, \"ticks\": \"\"}, \"colorscale\": [[0.0, \"#0d0887\"], [0.1111111111111111, \"#46039f\"], [0.2222222222222222, \"#7201a8\"], [0.3333333333333333, \"#9c179e\"], [0.4444444444444444, \"#bd3786\"], [0.5555555555555556, \"#d8576b\"], [0.6666666666666666, \"#ed7953\"], [0.7777777777777778, \"#fb9f3a\"], [0.8888888888888888, \"#fdca26\"], [1.0, \"#f0f921\"]], \"type\": \"heatmapgl\"}], \"histogram\": [{\"marker\": {\"colorbar\": {\"outlinewidth\": 0, \"ticks\": \"\"}}, \"type\": \"histogram\"}], \"histogram2d\": [{\"colorbar\": {\"outlinewidth\": 0, \"ticks\": \"\"}, \"colorscale\": [[0.0, \"#0d0887\"], [0.1111111111111111, \"#46039f\"], [0.2222222222222222, \"#7201a8\"], [0.3333333333333333, \"#9c179e\"], [0.4444444444444444, \"#bd3786\"], [0.5555555555555556, \"#d8576b\"], [0.6666666666666666, \"#ed7953\"], [0.7777777777777778, \"#fb9f3a\"], [0.8888888888888888, \"#fdca26\"], [1.0, \"#f0f921\"]], \"type\": \"histogram2d\"}], \"histogram2dcontour\": [{\"colorbar\": {\"outlinewidth\": 0, \"ticks\": \"\"}, \"colorscale\": [[0.0, \"#0d0887\"], [0.1111111111111111, \"#46039f\"], [0.2222222222222222, \"#7201a8\"], [0.3333333333333333, \"#9c179e\"], [0.4444444444444444, \"#bd3786\"], [0.5555555555555556, \"#d8576b\"], [0.6666666666666666, \"#ed7953\"], [0.7777777777777778, \"#fb9f3a\"], [0.8888888888888888, \"#fdca26\"], [1.0, \"#f0f921\"]], \"type\": \"histogram2dcontour\"}], \"mesh3d\": [{\"colorbar\": {\"outlinewidth\": 0, \"ticks\": \"\"}, \"type\": \"mesh3d\"}], \"parcoords\": [{\"line\": {\"colorbar\": {\"outlinewidth\": 0, \"ticks\": \"\"}}, \"type\": \"parcoords\"}], \"pie\": [{\"automargin\": true, \"type\": \"pie\"}], \"scatter\": [{\"marker\": {\"colorbar\": {\"outlinewidth\": 0, \"ticks\": \"\"}}, \"type\": \"scatter\"}], \"scatter3d\": [{\"line\": {\"colorbar\": {\"outlinewidth\": 0, \"ticks\": \"\"}}, \"marker\": {\"colorbar\": {\"outlinewidth\": 0, \"ticks\": \"\"}}, \"type\": \"scatter3d\"}], \"scattercarpet\": [{\"marker\": {\"colorbar\": {\"outlinewidth\": 0, \"ticks\": \"\"}}, \"type\": \"scattercarpet\"}], \"scattergeo\": [{\"marker\": {\"colorbar\": {\"outlinewidth\": 0, \"ticks\": \"\"}}, \"type\": \"scattergeo\"}], \"scattergl\": [{\"marker\": {\"colorbar\": {\"outlinewidth\": 0, \"ticks\": \"\"}}, \"type\": \"scattergl\"}], \"scattermapbox\": [{\"marker\": {\"colorbar\": {\"outlinewidth\": 0, \"ticks\": \"\"}}, \"type\": \"scattermapbox\"}], \"scatterpolar\": [{\"marker\": {\"colorbar\": {\"outlinewidth\": 0, \"ticks\": \"\"}}, \"type\": \"scatterpolar\"}], \"scatterpolargl\": [{\"marker\": {\"colorbar\": {\"outlinewidth\": 0, \"ticks\": \"\"}}, \"type\": \"scatterpolargl\"}], \"scatterternary\": [{\"marker\": {\"colorbar\": {\"outlinewidth\": 0, \"ticks\": \"\"}}, \"type\": \"scatterternary\"}], \"surface\": [{\"colorbar\": {\"outlinewidth\": 0, \"ticks\": \"\"}, \"colorscale\": [[0.0, \"#0d0887\"], [0.1111111111111111, \"#46039f\"], [0.2222222222222222, \"#7201a8\"], [0.3333333333333333, \"#9c179e\"], [0.4444444444444444, \"#bd3786\"], [0.5555555555555556, \"#d8576b\"], [0.6666666666666666, \"#ed7953\"], [0.7777777777777778, \"#fb9f3a\"], [0.8888888888888888, \"#fdca26\"], [1.0, \"#f0f921\"]], \"type\": \"surface\"}], \"table\": [{\"cells\": {\"fill\": {\"color\": \"#EBF0F8\"}, \"line\": {\"color\": \"white\"}}, \"header\": {\"fill\": {\"color\": \"#C8D4E3\"}, \"line\": {\"color\": \"white\"}}, \"type\": \"table\"}]}, \"layout\": {\"annotationdefaults\": {\"arrowcolor\": \"#2a3f5f\", \"arrowhead\": 0, \"arrowwidth\": 1}, \"coloraxis\": {\"colorbar\": {\"outlinewidth\": 0, \"ticks\": \"\"}}, \"colorscale\": {\"diverging\": [[0, \"#8e0152\"], [0.1, \"#c51b7d\"], [0.2, \"#de77ae\"], [0.3, \"#f1b6da\"], [0.4, \"#fde0ef\"], [0.5, \"#f7f7f7\"], [0.6, \"#e6f5d0\"], [0.7, \"#b8e186\"], [0.8, \"#7fbc41\"], [0.9, \"#4d9221\"], [1, \"#276419\"]], \"sequential\": [[0.0, \"#0d0887\"], [0.1111111111111111, \"#46039f\"], [0.2222222222222222, \"#7201a8\"], [0.3333333333333333, \"#9c179e\"], [0.4444444444444444, \"#bd3786\"], [0.5555555555555556, \"#d8576b\"], [0.6666666666666666, \"#ed7953\"], [0.7777777777777778, \"#fb9f3a\"], [0.8888888888888888, \"#fdca26\"], [1.0, \"#f0f921\"]], \"sequentialminus\": [[0.0, \"#0d0887\"], [0.1111111111111111, \"#46039f\"], [0.2222222222222222, \"#7201a8\"], [0.3333333333333333, \"#9c179e\"], [0.4444444444444444, \"#bd3786\"], [0.5555555555555556, \"#d8576b\"], [0.6666666666666666, \"#ed7953\"], [0.7777777777777778, \"#fb9f3a\"], [0.8888888888888888, \"#fdca26\"], [1.0, \"#f0f921\"]]}, \"colorway\": [\"#636efa\", \"#EF553B\", \"#00cc96\", \"#ab63fa\", \"#FFA15A\", \"#19d3f3\", \"#FF6692\", \"#B6E880\", \"#FF97FF\", \"#FECB52\"], \"font\": {\"color\": \"#2a3f5f\"}, \"geo\": {\"bgcolor\": \"white\", \"lakecolor\": \"white\", \"landcolor\": \"#E5ECF6\", \"showlakes\": true, \"showland\": true, \"subunitcolor\": \"white\"}, \"hoverlabel\": {\"align\": \"left\"}, \"hovermode\": \"closest\", \"mapbox\": {\"style\": \"light\"}, \"paper_bgcolor\": \"white\", \"plot_bgcolor\": \"#E5ECF6\", \"polar\": {\"angularaxis\": {\"gridcolor\": \"white\", \"linecolor\": \"white\", \"ticks\": \"\"}, \"bgcolor\": \"#E5ECF6\", \"radialaxis\": {\"gridcolor\": \"white\", \"linecolor\": \"white\", \"ticks\": \"\"}}, \"scene\": {\"xaxis\": {\"backgroundcolor\": \"#E5ECF6\", \"gridcolor\": \"white\", \"gridwidth\": 2, \"linecolor\": \"white\", \"showbackground\": true, \"ticks\": \"\", \"zerolinecolor\": \"white\"}, \"yaxis\": {\"backgroundcolor\": \"#E5ECF6\", \"gridcolor\": \"white\", \"gridwidth\": 2, \"linecolor\": \"white\", \"showbackground\": true, \"ticks\": \"\", \"zerolinecolor\": \"white\"}, \"zaxis\": {\"backgroundcolor\": \"#E5ECF6\", \"gridcolor\": \"white\", \"gridwidth\": 2, \"linecolor\": \"white\", \"showbackground\": true, \"ticks\": \"\", \"zerolinecolor\": \"white\"}}, \"shapedefaults\": {\"line\": {\"color\": \"#2a3f5f\"}}, \"ternary\": {\"aaxis\": {\"gridcolor\": \"white\", \"linecolor\": \"white\", \"ticks\": \"\"}, \"baxis\": {\"gridcolor\": \"white\", \"linecolor\": \"white\", \"ticks\": \"\"}, \"bgcolor\": \"#E5ECF6\", \"caxis\": {\"gridcolor\": \"white\", \"linecolor\": \"white\", \"ticks\": \"\"}}, \"title\": {\"x\": 0.05}, \"xaxis\": {\"automargin\": true, \"gridcolor\": \"white\", \"linecolor\": \"white\", \"ticks\": \"\", \"title\": {\"standoff\": 15}, \"zerolinecolor\": \"white\", \"zerolinewidth\": 2}, \"yaxis\": {\"automargin\": true, \"gridcolor\": \"white\", \"linecolor\": \"white\", \"ticks\": \"\", \"title\": {\"standoff\": 15}, \"zerolinecolor\": \"white\", \"zerolinewidth\": 2}}}},\n",
              "                        {\"responsive\": true}\n",
              "                    ).then(function(){\n",
              "                            \n",
              "var gd = document.getElementById('20cdfa4b-6915-4b1d-acc1-ba3f36f18b5a');\n",
              "var x = new MutationObserver(function (mutations, observer) {{\n",
              "        var display = window.getComputedStyle(gd).display;\n",
              "        if (!display || display === 'none') {{\n",
              "            console.log([gd, 'removed!']);\n",
              "            Plotly.purge(gd);\n",
              "            observer.disconnect();\n",
              "        }}\n",
              "}});\n",
              "\n",
              "// Listen for the removal of the full notebook cells\n",
              "var notebookContainer = gd.closest('#notebook-container');\n",
              "if (notebookContainer) {{\n",
              "    x.observe(notebookContainer, {childList: true});\n",
              "}}\n",
              "\n",
              "// Listen for the clearing of the current output cell\n",
              "var outputEl = gd.closest('.output');\n",
              "if (outputEl) {{\n",
              "    x.observe(outputEl, {childList: true});\n",
              "}}\n",
              "\n",
              "                        })\n",
              "                };\n",
              "                \n",
              "            </script>\n",
              "        </div>\n",
              "</body>\n",
              "</html>"
            ]
          },
          "metadata": {
            "tags": []
          }
        }
      ]
    },
    {
      "cell_type": "markdown",
      "metadata": {
        "id": "LyA2zMfJUMpr"
      },
      "source": [
        "9. Show a correlation matrix and heatmap of the data frame"
      ]
    },
    {
      "cell_type": "code",
      "metadata": {
        "id": "eGj7Z2jbQrkn",
        "colab": {
          "base_uri": "https://localhost:8080/",
          "height": 565
        },
        "outputId": "0af33589-9f17-4e22-ade3-250a58455517"
      },
      "source": [
        "#pd.set_option(\"display.precision\", 3)\n",
        "#??????\n",
        "#corr_df\n",
        "corr_df = heart_df.corr()\n",
        "corr_df"
      ],
      "execution_count": null,
      "outputs": [
        {
          "output_type": "execute_result",
          "data": {
            "text/html": [
              "<div>\n",
              "<style scoped>\n",
              "    .dataframe tbody tr th:only-of-type {\n",
              "        vertical-align: middle;\n",
              "    }\n",
              "\n",
              "    .dataframe tbody tr th {\n",
              "        vertical-align: top;\n",
              "    }\n",
              "\n",
              "    .dataframe thead th {\n",
              "        text-align: right;\n",
              "    }\n",
              "</style>\n",
              "<table border=\"1\" class=\"dataframe\">\n",
              "  <thead>\n",
              "    <tr style=\"text-align: right;\">\n",
              "      <th></th>\n",
              "      <th>male</th>\n",
              "      <th>age</th>\n",
              "      <th>education</th>\n",
              "      <th>currentSmoker</th>\n",
              "      <th>cigsPerDay</th>\n",
              "      <th>BPMeds</th>\n",
              "      <th>prevalentStroke</th>\n",
              "      <th>prevalentHyp</th>\n",
              "      <th>diabetes</th>\n",
              "      <th>totChol</th>\n",
              "      <th>sysBP</th>\n",
              "      <th>diaBP</th>\n",
              "      <th>BMI</th>\n",
              "      <th>heartRate</th>\n",
              "      <th>glucose</th>\n",
              "      <th>TenYearCHD</th>\n",
              "    </tr>\n",
              "  </thead>\n",
              "  <tbody>\n",
              "    <tr>\n",
              "      <th>male</th>\n",
              "      <td>1.000000</td>\n",
              "      <td>-0.024412</td>\n",
              "      <td>0.017729</td>\n",
              "      <td>0.206114</td>\n",
              "      <td>0.330322</td>\n",
              "      <td>-0.052124</td>\n",
              "      <td>-0.002312</td>\n",
              "      <td>0.001424</td>\n",
              "      <td>0.013819</td>\n",
              "      <td>-0.070321</td>\n",
              "      <td>-0.045358</td>\n",
              "      <td>0.051872</td>\n",
              "      <td>0.073111</td>\n",
              "      <td>-0.115285</td>\n",
              "      <td>0.002940</td>\n",
              "      <td>0.091688</td>\n",
              "    </tr>\n",
              "    <tr>\n",
              "      <th>age</th>\n",
              "      <td>-0.024412</td>\n",
              "      <td>1.000000</td>\n",
              "      <td>-0.159499</td>\n",
              "      <td>-0.210771</td>\n",
              "      <td>-0.189295</td>\n",
              "      <td>0.134732</td>\n",
              "      <td>0.050893</td>\n",
              "      <td>0.306239</td>\n",
              "      <td>0.109092</td>\n",
              "      <td>0.268252</td>\n",
              "      <td>0.388267</td>\n",
              "      <td>0.208283</td>\n",
              "      <td>0.137511</td>\n",
              "      <td>-0.002722</td>\n",
              "      <td>0.118349</td>\n",
              "      <td>0.233983</td>\n",
              "    </tr>\n",
              "    <tr>\n",
              "      <th>education</th>\n",
              "      <td>0.017729</td>\n",
              "      <td>-0.159499</td>\n",
              "      <td>1.000000</td>\n",
              "      <td>0.025251</td>\n",
              "      <td>0.013790</td>\n",
              "      <td>-0.013739</td>\n",
              "      <td>-0.030386</td>\n",
              "      <td>-0.078828</td>\n",
              "      <td>-0.039627</td>\n",
              "      <td>-0.013522</td>\n",
              "      <td>-0.124360</td>\n",
              "      <td>-0.058059</td>\n",
              "      <td>-0.137555</td>\n",
              "      <td>-0.064214</td>\n",
              "      <td>-0.031998</td>\n",
              "      <td>-0.063279</td>\n",
              "    </tr>\n",
              "    <tr>\n",
              "      <th>currentSmoker</th>\n",
              "      <td>0.206114</td>\n",
              "      <td>-0.210771</td>\n",
              "      <td>0.025251</td>\n",
              "      <td>1.000000</td>\n",
              "      <td>0.773913</td>\n",
              "      <td>-0.051923</td>\n",
              "      <td>-0.038150</td>\n",
              "      <td>-0.108078</td>\n",
              "      <td>-0.041849</td>\n",
              "      <td>-0.051034</td>\n",
              "      <td>-0.134428</td>\n",
              "      <td>-0.115955</td>\n",
              "      <td>-0.159821</td>\n",
              "      <td>0.050841</td>\n",
              "      <td>-0.053242</td>\n",
              "      <td>0.019165</td>\n",
              "    </tr>\n",
              "    <tr>\n",
              "      <th>cigsPerDay</th>\n",
              "      <td>0.330322</td>\n",
              "      <td>-0.189295</td>\n",
              "      <td>0.013790</td>\n",
              "      <td>0.773913</td>\n",
              "      <td>1.000000</td>\n",
              "      <td>-0.046504</td>\n",
              "      <td>-0.036286</td>\n",
              "      <td>-0.070460</td>\n",
              "      <td>-0.036961</td>\n",
              "      <td>-0.030400</td>\n",
              "      <td>-0.094781</td>\n",
              "      <td>-0.056746</td>\n",
              "      <td>-0.087395</td>\n",
              "      <td>0.064030</td>\n",
              "      <td>-0.053726</td>\n",
              "      <td>0.052014</td>\n",
              "    </tr>\n",
              "    <tr>\n",
              "      <th>BPMeds</th>\n",
              "      <td>-0.052124</td>\n",
              "      <td>0.134732</td>\n",
              "      <td>-0.013739</td>\n",
              "      <td>-0.051923</td>\n",
              "      <td>-0.046504</td>\n",
              "      <td>1.000000</td>\n",
              "      <td>0.113125</td>\n",
              "      <td>0.262910</td>\n",
              "      <td>0.049066</td>\n",
              "      <td>0.094083</td>\n",
              "      <td>0.271263</td>\n",
              "      <td>0.199630</td>\n",
              "      <td>0.105642</td>\n",
              "      <td>0.012889</td>\n",
              "      <td>0.054232</td>\n",
              "      <td>0.089152</td>\n",
              "    </tr>\n",
              "    <tr>\n",
              "      <th>prevalentStroke</th>\n",
              "      <td>-0.002312</td>\n",
              "      <td>0.050893</td>\n",
              "      <td>-0.030386</td>\n",
              "      <td>-0.038150</td>\n",
              "      <td>-0.036286</td>\n",
              "      <td>0.113125</td>\n",
              "      <td>1.000000</td>\n",
              "      <td>0.066057</td>\n",
              "      <td>0.009625</td>\n",
              "      <td>0.012736</td>\n",
              "      <td>0.061070</td>\n",
              "      <td>0.055834</td>\n",
              "      <td>0.036496</td>\n",
              "      <td>-0.017019</td>\n",
              "      <td>0.016061</td>\n",
              "      <td>0.048366</td>\n",
              "    </tr>\n",
              "    <tr>\n",
              "      <th>prevalentHyp</th>\n",
              "      <td>0.001424</td>\n",
              "      <td>0.306239</td>\n",
              "      <td>-0.078828</td>\n",
              "      <td>-0.108078</td>\n",
              "      <td>-0.070460</td>\n",
              "      <td>0.262910</td>\n",
              "      <td>0.066057</td>\n",
              "      <td>1.000000</td>\n",
              "      <td>0.080556</td>\n",
              "      <td>0.166655</td>\n",
              "      <td>0.697675</td>\n",
              "      <td>0.617734</td>\n",
              "      <td>0.302949</td>\n",
              "      <td>0.146818</td>\n",
              "      <td>0.086942</td>\n",
              "      <td>0.181387</td>\n",
              "    </tr>\n",
              "    <tr>\n",
              "      <th>diabetes</th>\n",
              "      <td>0.013819</td>\n",
              "      <td>0.109092</td>\n",
              "      <td>-0.039627</td>\n",
              "      <td>-0.041849</td>\n",
              "      <td>-0.036961</td>\n",
              "      <td>0.049066</td>\n",
              "      <td>0.009625</td>\n",
              "      <td>0.080556</td>\n",
              "      <td>1.000000</td>\n",
              "      <td>0.048451</td>\n",
              "      <td>0.102552</td>\n",
              "      <td>0.050686</td>\n",
              "      <td>0.089009</td>\n",
              "      <td>0.060984</td>\n",
              "      <td>0.614820</td>\n",
              "      <td>0.093431</td>\n",
              "    </tr>\n",
              "    <tr>\n",
              "      <th>totChol</th>\n",
              "      <td>-0.070321</td>\n",
              "      <td>0.268252</td>\n",
              "      <td>-0.013522</td>\n",
              "      <td>-0.051034</td>\n",
              "      <td>-0.030400</td>\n",
              "      <td>0.094083</td>\n",
              "      <td>0.012736</td>\n",
              "      <td>0.166655</td>\n",
              "      <td>0.048451</td>\n",
              "      <td>1.000000</td>\n",
              "      <td>0.219925</td>\n",
              "      <td>0.174422</td>\n",
              "      <td>0.121056</td>\n",
              "      <td>0.093053</td>\n",
              "      <td>0.049884</td>\n",
              "      <td>0.091338</td>\n",
              "    </tr>\n",
              "    <tr>\n",
              "      <th>sysBP</th>\n",
              "      <td>-0.045358</td>\n",
              "      <td>0.388267</td>\n",
              "      <td>-0.124360</td>\n",
              "      <td>-0.134428</td>\n",
              "      <td>-0.094781</td>\n",
              "      <td>0.271263</td>\n",
              "      <td>0.061070</td>\n",
              "      <td>0.697675</td>\n",
              "      <td>0.102552</td>\n",
              "      <td>0.219925</td>\n",
              "      <td>1.000000</td>\n",
              "      <td>0.786669</td>\n",
              "      <td>0.330917</td>\n",
              "      <td>0.184797</td>\n",
              "      <td>0.134651</td>\n",
              "      <td>0.222821</td>\n",
              "    </tr>\n",
              "    <tr>\n",
              "      <th>diaBP</th>\n",
              "      <td>0.051872</td>\n",
              "      <td>0.208283</td>\n",
              "      <td>-0.058059</td>\n",
              "      <td>-0.115955</td>\n",
              "      <td>-0.056746</td>\n",
              "      <td>0.199630</td>\n",
              "      <td>0.055834</td>\n",
              "      <td>0.617734</td>\n",
              "      <td>0.050686</td>\n",
              "      <td>0.174422</td>\n",
              "      <td>0.786669</td>\n",
              "      <td>1.000000</td>\n",
              "      <td>0.385348</td>\n",
              "      <td>0.178744</td>\n",
              "      <td>0.063540</td>\n",
              "      <td>0.150124</td>\n",
              "    </tr>\n",
              "    <tr>\n",
              "      <th>BMI</th>\n",
              "      <td>0.073111</td>\n",
              "      <td>0.137511</td>\n",
              "      <td>-0.137555</td>\n",
              "      <td>-0.159821</td>\n",
              "      <td>-0.087395</td>\n",
              "      <td>0.105642</td>\n",
              "      <td>0.036496</td>\n",
              "      <td>0.302949</td>\n",
              "      <td>0.089009</td>\n",
              "      <td>0.121056</td>\n",
              "      <td>0.330917</td>\n",
              "      <td>0.385348</td>\n",
              "      <td>1.000000</td>\n",
              "      <td>0.074131</td>\n",
              "      <td>0.083683</td>\n",
              "      <td>0.082055</td>\n",
              "    </tr>\n",
              "    <tr>\n",
              "      <th>heartRate</th>\n",
              "      <td>-0.115285</td>\n",
              "      <td>-0.002722</td>\n",
              "      <td>-0.064214</td>\n",
              "      <td>0.050841</td>\n",
              "      <td>0.064030</td>\n",
              "      <td>0.012889</td>\n",
              "      <td>-0.017019</td>\n",
              "      <td>0.146818</td>\n",
              "      <td>0.060984</td>\n",
              "      <td>0.093053</td>\n",
              "      <td>0.184797</td>\n",
              "      <td>0.178744</td>\n",
              "      <td>0.074131</td>\n",
              "      <td>1.000000</td>\n",
              "      <td>0.097074</td>\n",
              "      <td>0.020514</td>\n",
              "    </tr>\n",
              "    <tr>\n",
              "      <th>glucose</th>\n",
              "      <td>0.002940</td>\n",
              "      <td>0.118349</td>\n",
              "      <td>-0.031998</td>\n",
              "      <td>-0.053242</td>\n",
              "      <td>-0.053726</td>\n",
              "      <td>0.054232</td>\n",
              "      <td>0.016061</td>\n",
              "      <td>0.086942</td>\n",
              "      <td>0.614820</td>\n",
              "      <td>0.049884</td>\n",
              "      <td>0.134651</td>\n",
              "      <td>0.063540</td>\n",
              "      <td>0.083683</td>\n",
              "      <td>0.097074</td>\n",
              "      <td>1.000000</td>\n",
              "      <td>0.121990</td>\n",
              "    </tr>\n",
              "    <tr>\n",
              "      <th>TenYearCHD</th>\n",
              "      <td>0.091688</td>\n",
              "      <td>0.233983</td>\n",
              "      <td>-0.063279</td>\n",
              "      <td>0.019165</td>\n",
              "      <td>0.052014</td>\n",
              "      <td>0.089152</td>\n",
              "      <td>0.048366</td>\n",
              "      <td>0.181387</td>\n",
              "      <td>0.093431</td>\n",
              "      <td>0.091338</td>\n",
              "      <td>0.222821</td>\n",
              "      <td>0.150124</td>\n",
              "      <td>0.082055</td>\n",
              "      <td>0.020514</td>\n",
              "      <td>0.121990</td>\n",
              "      <td>1.000000</td>\n",
              "    </tr>\n",
              "  </tbody>\n",
              "</table>\n",
              "</div>"
            ],
            "text/plain": [
              "                     male       age  education  ...  heartRate   glucose  TenYearCHD\n",
              "male             1.000000 -0.024412   0.017729  ...  -0.115285  0.002940    0.091688\n",
              "age             -0.024412  1.000000  -0.159499  ...  -0.002722  0.118349    0.233983\n",
              "education        0.017729 -0.159499   1.000000  ...  -0.064214 -0.031998   -0.063279\n",
              "currentSmoker    0.206114 -0.210771   0.025251  ...   0.050841 -0.053242    0.019165\n",
              "cigsPerDay       0.330322 -0.189295   0.013790  ...   0.064030 -0.053726    0.052014\n",
              "BPMeds          -0.052124  0.134732  -0.013739  ...   0.012889  0.054232    0.089152\n",
              "prevalentStroke -0.002312  0.050893  -0.030386  ...  -0.017019  0.016061    0.048366\n",
              "prevalentHyp     0.001424  0.306239  -0.078828  ...   0.146818  0.086942    0.181387\n",
              "diabetes         0.013819  0.109092  -0.039627  ...   0.060984  0.614820    0.093431\n",
              "totChol         -0.070321  0.268252  -0.013522  ...   0.093053  0.049884    0.091338\n",
              "sysBP           -0.045358  0.388267  -0.124360  ...   0.184797  0.134651    0.222821\n",
              "diaBP            0.051872  0.208283  -0.058059  ...   0.178744  0.063540    0.150124\n",
              "BMI              0.073111  0.137511  -0.137555  ...   0.074131  0.083683    0.082055\n",
              "heartRate       -0.115285 -0.002722  -0.064214  ...   1.000000  0.097074    0.020514\n",
              "glucose          0.002940  0.118349  -0.031998  ...   0.097074  1.000000    0.121990\n",
              "TenYearCHD       0.091688  0.233983  -0.063279  ...   0.020514  0.121990    1.000000\n",
              "\n",
              "[16 rows x 16 columns]"
            ]
          },
          "metadata": {
            "tags": []
          },
          "execution_count": 17
        }
      ]
    },
    {
      "cell_type": "code",
      "metadata": {
        "id": "33lfjVynQw-1",
        "colab": {
          "base_uri": "https://localhost:8080/",
          "height": 542
        },
        "outputId": "e2f995d6-9092-490f-f149-c7cdbbe02e18"
      },
      "source": [
        "fig = go.Figure()\n",
        "fig.add_traces(go.Heatmap(\n",
        "    z=corr_df, \n",
        "    x=corr_df.columns, \n",
        "    y=corr_df.columns,\n",
        "    zmax=1, \n",
        "    zmin=-1\n",
        "))\n",
        "fig.update_layout({\n",
        "    'title':\"Features Correlation Heatmap\"\n",
        "})"
      ],
      "execution_count": null,
      "outputs": [
        {
          "output_type": "display_data",
          "data": {
            "text/html": [
              "<html>\n",
              "<head><meta charset=\"utf-8\" /></head>\n",
              "<body>\n",
              "    <div>\n",
              "            <script src=\"https://cdnjs.cloudflare.com/ajax/libs/mathjax/2.7.5/MathJax.js?config=TeX-AMS-MML_SVG\"></script><script type=\"text/javascript\">if (window.MathJax) {MathJax.Hub.Config({SVG: {font: \"STIX-Web\"}});}</script>\n",
              "                <script type=\"text/javascript\">window.PlotlyConfig = {MathJaxConfig: 'local'};</script>\n",
              "        <script src=\"https://cdn.plot.ly/plotly-latest.min.js\"></script>    \n",
              "            <div id=\"7017b094-48e4-407d-8571-dec9bcfffd40\" class=\"plotly-graph-div\" style=\"height:525px; width:100%;\"></div>\n",
              "            <script type=\"text/javascript\">\n",
              "                \n",
              "                    window.PLOTLYENV=window.PLOTLYENV || {};\n",
              "                    \n",
              "                if (document.getElementById(\"7017b094-48e4-407d-8571-dec9bcfffd40\")) {\n",
              "                    Plotly.newPlot(\n",
              "                        '7017b094-48e4-407d-8571-dec9bcfffd40',\n",
              "                        [{\"type\": \"heatmap\", \"x\": [\"male\", \"age\", \"education\", \"currentSmoker\", \"cigsPerDay\", \"BPMeds\", \"prevalentStroke\", \"prevalentHyp\", \"diabetes\", \"totChol\", \"sysBP\", \"diaBP\", \"BMI\", \"heartRate\", \"glucose\", \"TenYearCHD\"], \"y\": [\"male\", \"age\", \"education\", \"currentSmoker\", \"cigsPerDay\", \"BPMeds\", \"prevalentStroke\", \"prevalentHyp\", \"diabetes\", \"totChol\", \"sysBP\", \"diaBP\", \"BMI\", \"heartRate\", \"glucose\", \"TenYearCHD\"], \"z\": [[1.0, -0.024411604947835515, 0.017728914621250213, 0.2061143439764927, 0.3303224512247317, -0.05212402494255428, -0.0023115828044592127, 0.0014244488931503272, 0.013818700157391658, -0.07032113220095924, -0.04535803682864105, 0.051871861170763804, 0.0731114232308676, -0.11528541252943239, 0.0029399773547817273, 0.09168836996788148], [-0.024411604947835515, 1.0, -0.1594985556216141, -0.21077094584577935, -0.18929528074495278, 0.13473172699035488, 0.05089336529583922, 0.3062387355345334, 0.109091586852726, 0.26825160462610187, 0.38826666609066757, 0.20828287593765682, 0.13751110430137323, -0.002722424030837224, 0.11834913050635071, 0.23398279044065617], [0.017728914621250213, -0.1594985556216141, 1.0, 0.025251006240388923, 0.013790077118235291, -0.013739466826650795, -0.030385945343276908, -0.07882751458030857, -0.03962675229501716, -0.013521580625972024, -0.12435977563855379, -0.058058505159867595, -0.13755494178396802, -0.06421429916793854, -0.03199834033436648, -0.06327867625279347], [0.2061143439764927, -0.21077094584577935, 0.025251006240388923, 1.0, 0.7739131970691031, -0.05192328326646902, -0.038149898292763565, -0.10807788752485877, -0.04184893419529307, -0.05103409819451591, -0.1344279324094279, -0.11595510696971233, -0.1598214362099753, 0.0508413413610633, -0.05324153161734304, 0.019164934723568013], [0.3303224512247317, -0.18929528074495278, 0.013790077118235291, 0.7739131970691031, 1.0, -0.04650398590186325, -0.036285654153505716, -0.07046031984756014, -0.03696097520554804, -0.030400357242152096, -0.09478131417926403, -0.0567456758785113, -0.08739478186066288, 0.06403043463579286, -0.05372643299530072, 0.05201378869067209], [-0.05212402494255428, 0.13473172699035488, -0.013739466826650795, -0.05192328326646902, -0.04650398590186325, 1.0, 0.11312516106672901, 0.2629095321705937, 0.049066345286357727, 0.0940826040302031, 0.2712628279805866, 0.19963001639167585, 0.10564165959686965, 0.012889347151871854, 0.054232299780694555, 0.08915157639207139], [-0.0023115828044592127, 0.05089336529583922, -0.030385945343276908, -0.038149898292763565, -0.036285654153505716, 0.11312516106672901, 1.0, 0.06605692202893022, 0.00962541007114453, 0.012736422566914592, 0.061069545533130445, 0.05583363807815047, 0.03649635245289221, -0.0170185843035287, 0.01606102008773618, 0.04836573841788698], [0.0014244488931503272, 0.3062387355345334, -0.07882751458030857, -0.10807788752485877, -0.07046031984756014, 0.2629095321705937, 0.06605692202893022, 1.0, 0.08055605611890719, 0.16665496758034756, 0.6976749398453799, 0.6177344355448932, 0.3029491680742887, 0.14681790118401356, 0.08694213043726809, 0.1813871352531669], [0.013818700157391658, 0.109091586852726, -0.03962675229501716, -0.04184893419529307, -0.03696097520554804, 0.049066345286357727, 0.00962541007114453, 0.08055605611890719, 1.0, 0.04845145709732672, 0.10255212593015939, 0.050686192143084, 0.08900859102002448, 0.06098359745722993, 0.614820316802165, 0.09343078616640745], [-0.07032113220095924, 0.26825160462610187, -0.013521580625972024, -0.05103409819451591, -0.030400357242152096, 0.0940826040302031, 0.012736422566914592, 0.16665496758034756, 0.04845145709732672, 1.0, 0.21992458755279498, 0.1744219728121573, 0.1210564538197354, 0.09305284474367155, 0.04988445100462991, 0.09133805457785163], [-0.04535803682864105, 0.38826666609066757, -0.12435977563855379, -0.1344279324094279, -0.09478131417926403, 0.2712628279805866, 0.061069545533130445, 0.6976749398453799, 0.10255212593015939, 0.21992458755279498, 1.0, 0.7866693577239631, 0.33091733315965777, 0.18479691385032176, 0.13465100779355563, 0.2228211113922973], [0.051871861170763804, 0.20828287593765682, -0.058058505159867595, -0.11595510696971233, -0.0567456758785113, 0.19963001639167585, 0.05583363807815047, 0.6177344355448932, 0.050686192143084, 0.1744219728121573, 0.7866693577239631, 1.0, 0.38534762383219306, 0.17874358560311499, 0.06354022265430315, 0.1501244620429896], [0.0731114232308676, 0.13751110430137323, -0.13755494178396802, -0.1598214362099753, -0.08739478186066288, 0.10564165959686965, 0.03649635245289221, 0.3029491680742887, 0.08900859102002448, 0.1210564538197354, 0.33091733315965777, 0.38534762383219306, 1.0, 0.07413051373380894, 0.08368314517371346, 0.08205520898186246], [-0.11528541252943239, -0.002722424030837224, -0.06421429916793854, 0.0508413413610633, 0.06403043463579286, 0.012889347151871854, -0.0170185843035287, 0.14681790118401356, 0.06098359745722993, 0.09305284474367155, 0.18479691385032176, 0.17874358560311499, 0.07413051373380894, 1.0, 0.09707426587134253, 0.020514034608523513], [0.0029399773547817273, 0.11834913050635071, -0.03199834033436648, -0.05324153161734304, -0.05372643299530072, 0.054232299780694555, 0.01606102008773618, 0.08694213043726809, 0.614820316802165, 0.04988445100462991, 0.13465100779355563, 0.06354022265430315, 0.08368314517371346, 0.09707426587134253, 1.0, 0.1219898929432069], [0.09168836996788148, 0.23398279044065617, -0.06327867625279347, 0.019164934723568013, 0.05201378869067209, 0.08915157639207139, 0.04836573841788698, 0.1813871352531669, 0.09343078616640745, 0.09133805457785163, 0.2228211113922973, 0.1501244620429896, 0.08205520898186246, 0.020514034608523513, 0.1219898929432069, 1.0]], \"zmax\": 1, \"zmin\": -1}],\n",
              "                        {\"template\": {\"data\": {\"bar\": [{\"error_x\": {\"color\": \"#2a3f5f\"}, \"error_y\": {\"color\": \"#2a3f5f\"}, \"marker\": {\"line\": {\"color\": \"#E5ECF6\", \"width\": 0.5}}, \"type\": \"bar\"}], \"barpolar\": [{\"marker\": {\"line\": {\"color\": \"#E5ECF6\", \"width\": 0.5}}, \"type\": \"barpolar\"}], \"carpet\": [{\"aaxis\": {\"endlinecolor\": \"#2a3f5f\", \"gridcolor\": \"white\", \"linecolor\": \"white\", \"minorgridcolor\": \"white\", \"startlinecolor\": \"#2a3f5f\"}, \"baxis\": {\"endlinecolor\": \"#2a3f5f\", \"gridcolor\": \"white\", \"linecolor\": \"white\", \"minorgridcolor\": \"white\", \"startlinecolor\": \"#2a3f5f\"}, \"type\": \"carpet\"}], \"choropleth\": [{\"colorbar\": {\"outlinewidth\": 0, \"ticks\": \"\"}, \"type\": \"choropleth\"}], \"contour\": [{\"colorbar\": {\"outlinewidth\": 0, \"ticks\": \"\"}, \"colorscale\": [[0.0, \"#0d0887\"], [0.1111111111111111, \"#46039f\"], [0.2222222222222222, \"#7201a8\"], [0.3333333333333333, \"#9c179e\"], [0.4444444444444444, \"#bd3786\"], [0.5555555555555556, \"#d8576b\"], [0.6666666666666666, \"#ed7953\"], [0.7777777777777778, \"#fb9f3a\"], [0.8888888888888888, \"#fdca26\"], [1.0, \"#f0f921\"]], \"type\": \"contour\"}], \"contourcarpet\": [{\"colorbar\": {\"outlinewidth\": 0, \"ticks\": \"\"}, \"type\": \"contourcarpet\"}], \"heatmap\": [{\"colorbar\": {\"outlinewidth\": 0, \"ticks\": \"\"}, \"colorscale\": [[0.0, \"#0d0887\"], [0.1111111111111111, \"#46039f\"], [0.2222222222222222, \"#7201a8\"], [0.3333333333333333, \"#9c179e\"], [0.4444444444444444, \"#bd3786\"], [0.5555555555555556, \"#d8576b\"], [0.6666666666666666, \"#ed7953\"], [0.7777777777777778, \"#fb9f3a\"], [0.8888888888888888, \"#fdca26\"], [1.0, \"#f0f921\"]], \"type\": \"heatmap\"}], \"heatmapgl\": [{\"colorbar\": {\"outlinewidth\": 0, \"ticks\": \"\"}, \"colorscale\": [[0.0, \"#0d0887\"], [0.1111111111111111, \"#46039f\"], [0.2222222222222222, \"#7201a8\"], [0.3333333333333333, \"#9c179e\"], [0.4444444444444444, \"#bd3786\"], [0.5555555555555556, \"#d8576b\"], [0.6666666666666666, \"#ed7953\"], [0.7777777777777778, \"#fb9f3a\"], [0.8888888888888888, \"#fdca26\"], [1.0, \"#f0f921\"]], \"type\": \"heatmapgl\"}], \"histogram\": [{\"marker\": {\"colorbar\": {\"outlinewidth\": 0, \"ticks\": \"\"}}, \"type\": \"histogram\"}], \"histogram2d\": [{\"colorbar\": {\"outlinewidth\": 0, \"ticks\": \"\"}, \"colorscale\": [[0.0, \"#0d0887\"], [0.1111111111111111, \"#46039f\"], [0.2222222222222222, \"#7201a8\"], [0.3333333333333333, \"#9c179e\"], [0.4444444444444444, \"#bd3786\"], [0.5555555555555556, \"#d8576b\"], [0.6666666666666666, \"#ed7953\"], [0.7777777777777778, \"#fb9f3a\"], [0.8888888888888888, \"#fdca26\"], [1.0, \"#f0f921\"]], \"type\": \"histogram2d\"}], \"histogram2dcontour\": [{\"colorbar\": {\"outlinewidth\": 0, \"ticks\": \"\"}, \"colorscale\": [[0.0, \"#0d0887\"], [0.1111111111111111, \"#46039f\"], [0.2222222222222222, \"#7201a8\"], [0.3333333333333333, \"#9c179e\"], [0.4444444444444444, \"#bd3786\"], [0.5555555555555556, \"#d8576b\"], [0.6666666666666666, \"#ed7953\"], [0.7777777777777778, \"#fb9f3a\"], [0.8888888888888888, \"#fdca26\"], [1.0, \"#f0f921\"]], \"type\": \"histogram2dcontour\"}], \"mesh3d\": [{\"colorbar\": {\"outlinewidth\": 0, \"ticks\": \"\"}, \"type\": \"mesh3d\"}], \"parcoords\": [{\"line\": {\"colorbar\": {\"outlinewidth\": 0, \"ticks\": \"\"}}, \"type\": \"parcoords\"}], \"pie\": [{\"automargin\": true, \"type\": \"pie\"}], \"scatter\": [{\"marker\": {\"colorbar\": {\"outlinewidth\": 0, \"ticks\": \"\"}}, \"type\": \"scatter\"}], \"scatter3d\": [{\"line\": {\"colorbar\": {\"outlinewidth\": 0, \"ticks\": \"\"}}, \"marker\": {\"colorbar\": {\"outlinewidth\": 0, \"ticks\": \"\"}}, \"type\": \"scatter3d\"}], \"scattercarpet\": [{\"marker\": {\"colorbar\": {\"outlinewidth\": 0, \"ticks\": \"\"}}, \"type\": \"scattercarpet\"}], \"scattergeo\": [{\"marker\": {\"colorbar\": {\"outlinewidth\": 0, \"ticks\": \"\"}}, \"type\": \"scattergeo\"}], \"scattergl\": [{\"marker\": {\"colorbar\": {\"outlinewidth\": 0, \"ticks\": \"\"}}, \"type\": \"scattergl\"}], \"scattermapbox\": [{\"marker\": {\"colorbar\": {\"outlinewidth\": 0, \"ticks\": \"\"}}, \"type\": \"scattermapbox\"}], \"scatterpolar\": [{\"marker\": {\"colorbar\": {\"outlinewidth\": 0, \"ticks\": \"\"}}, \"type\": \"scatterpolar\"}], \"scatterpolargl\": [{\"marker\": {\"colorbar\": {\"outlinewidth\": 0, \"ticks\": \"\"}}, \"type\": \"scatterpolargl\"}], \"scatterternary\": [{\"marker\": {\"colorbar\": {\"outlinewidth\": 0, \"ticks\": \"\"}}, \"type\": \"scatterternary\"}], \"surface\": [{\"colorbar\": {\"outlinewidth\": 0, \"ticks\": \"\"}, \"colorscale\": [[0.0, \"#0d0887\"], [0.1111111111111111, \"#46039f\"], [0.2222222222222222, \"#7201a8\"], [0.3333333333333333, \"#9c179e\"], [0.4444444444444444, \"#bd3786\"], [0.5555555555555556, \"#d8576b\"], [0.6666666666666666, \"#ed7953\"], [0.7777777777777778, \"#fb9f3a\"], [0.8888888888888888, \"#fdca26\"], [1.0, \"#f0f921\"]], \"type\": \"surface\"}], \"table\": [{\"cells\": {\"fill\": {\"color\": \"#EBF0F8\"}, \"line\": {\"color\": \"white\"}}, \"header\": {\"fill\": {\"color\": \"#C8D4E3\"}, \"line\": {\"color\": \"white\"}}, \"type\": \"table\"}]}, \"layout\": {\"annotationdefaults\": {\"arrowcolor\": \"#2a3f5f\", \"arrowhead\": 0, \"arrowwidth\": 1}, \"coloraxis\": {\"colorbar\": {\"outlinewidth\": 0, \"ticks\": \"\"}}, \"colorscale\": {\"diverging\": [[0, \"#8e0152\"], [0.1, \"#c51b7d\"], [0.2, \"#de77ae\"], [0.3, \"#f1b6da\"], [0.4, \"#fde0ef\"], [0.5, \"#f7f7f7\"], [0.6, \"#e6f5d0\"], [0.7, \"#b8e186\"], [0.8, \"#7fbc41\"], [0.9, \"#4d9221\"], [1, \"#276419\"]], \"sequential\": [[0.0, \"#0d0887\"], [0.1111111111111111, \"#46039f\"], [0.2222222222222222, \"#7201a8\"], [0.3333333333333333, \"#9c179e\"], [0.4444444444444444, \"#bd3786\"], [0.5555555555555556, \"#d8576b\"], [0.6666666666666666, \"#ed7953\"], [0.7777777777777778, \"#fb9f3a\"], [0.8888888888888888, \"#fdca26\"], [1.0, \"#f0f921\"]], \"sequentialminus\": [[0.0, \"#0d0887\"], [0.1111111111111111, \"#46039f\"], [0.2222222222222222, \"#7201a8\"], [0.3333333333333333, \"#9c179e\"], [0.4444444444444444, \"#bd3786\"], [0.5555555555555556, \"#d8576b\"], [0.6666666666666666, \"#ed7953\"], [0.7777777777777778, \"#fb9f3a\"], [0.8888888888888888, \"#fdca26\"], [1.0, \"#f0f921\"]]}, \"colorway\": [\"#636efa\", \"#EF553B\", \"#00cc96\", \"#ab63fa\", \"#FFA15A\", \"#19d3f3\", \"#FF6692\", \"#B6E880\", \"#FF97FF\", \"#FECB52\"], \"font\": {\"color\": \"#2a3f5f\"}, \"geo\": {\"bgcolor\": \"white\", \"lakecolor\": \"white\", \"landcolor\": \"#E5ECF6\", \"showlakes\": true, \"showland\": true, \"subunitcolor\": \"white\"}, \"hoverlabel\": {\"align\": \"left\"}, \"hovermode\": \"closest\", \"mapbox\": {\"style\": \"light\"}, \"paper_bgcolor\": \"white\", \"plot_bgcolor\": \"#E5ECF6\", \"polar\": {\"angularaxis\": {\"gridcolor\": \"white\", \"linecolor\": \"white\", \"ticks\": \"\"}, \"bgcolor\": \"#E5ECF6\", \"radialaxis\": {\"gridcolor\": \"white\", \"linecolor\": \"white\", \"ticks\": \"\"}}, \"scene\": {\"xaxis\": {\"backgroundcolor\": \"#E5ECF6\", \"gridcolor\": \"white\", \"gridwidth\": 2, \"linecolor\": \"white\", \"showbackground\": true, \"ticks\": \"\", \"zerolinecolor\": \"white\"}, \"yaxis\": {\"backgroundcolor\": \"#E5ECF6\", \"gridcolor\": \"white\", \"gridwidth\": 2, \"linecolor\": \"white\", \"showbackground\": true, \"ticks\": \"\", \"zerolinecolor\": \"white\"}, \"zaxis\": {\"backgroundcolor\": \"#E5ECF6\", \"gridcolor\": \"white\", \"gridwidth\": 2, \"linecolor\": \"white\", \"showbackground\": true, \"ticks\": \"\", \"zerolinecolor\": \"white\"}}, \"shapedefaults\": {\"line\": {\"color\": \"#2a3f5f\"}}, \"ternary\": {\"aaxis\": {\"gridcolor\": \"white\", \"linecolor\": \"white\", \"ticks\": \"\"}, \"baxis\": {\"gridcolor\": \"white\", \"linecolor\": \"white\", \"ticks\": \"\"}, \"bgcolor\": \"#E5ECF6\", \"caxis\": {\"gridcolor\": \"white\", \"linecolor\": \"white\", \"ticks\": \"\"}}, \"title\": {\"x\": 0.05}, \"xaxis\": {\"automargin\": true, \"gridcolor\": \"white\", \"linecolor\": \"white\", \"ticks\": \"\", \"title\": {\"standoff\": 15}, \"zerolinecolor\": \"white\", \"zerolinewidth\": 2}, \"yaxis\": {\"automargin\": true, \"gridcolor\": \"white\", \"linecolor\": \"white\", \"ticks\": \"\", \"title\": {\"standoff\": 15}, \"zerolinecolor\": \"white\", \"zerolinewidth\": 2}}}, \"title\": {\"text\": \"Features Correlation Heatmap\"}},\n",
              "                        {\"responsive\": true}\n",
              "                    ).then(function(){\n",
              "                            \n",
              "var gd = document.getElementById('7017b094-48e4-407d-8571-dec9bcfffd40');\n",
              "var x = new MutationObserver(function (mutations, observer) {{\n",
              "        var display = window.getComputedStyle(gd).display;\n",
              "        if (!display || display === 'none') {{\n",
              "            console.log([gd, 'removed!']);\n",
              "            Plotly.purge(gd);\n",
              "            observer.disconnect();\n",
              "        }}\n",
              "}});\n",
              "\n",
              "// Listen for the removal of the full notebook cells\n",
              "var notebookContainer = gd.closest('#notebook-container');\n",
              "if (notebookContainer) {{\n",
              "    x.observe(notebookContainer, {childList: true});\n",
              "}}\n",
              "\n",
              "// Listen for the clearing of the current output cell\n",
              "var outputEl = gd.closest('.output');\n",
              "if (outputEl) {{\n",
              "    x.observe(outputEl, {childList: true});\n",
              "}}\n",
              "\n",
              "                        })\n",
              "                };\n",
              "                \n",
              "            </script>\n",
              "        </div>\n",
              "</body>\n",
              "</html>"
            ]
          },
          "metadata": {
            "tags": []
          }
        }
      ]
    },
    {
      "cell_type": "markdown",
      "metadata": {
        "id": "5-tb20B_WlfL"
      },
      "source": [
        "10. Find features that highly correlate(+/- 0.85) to each other - keep one feature and drop the rest. "
      ]
    },
    {
      "cell_type": "code",
      "metadata": {
        "id": "uiS5kjrSSK4l",
        "colab": {
          "base_uri": "https://localhost:8080/"
        },
        "outputId": "61d5f7e7-043e-448f-89cb-581ef5e357bc"
      },
      "source": [
        "for i in range(len(corr_df.columns)-1):\n",
        "  print(corr_df.columns[i], 'is correlated to: ')\n",
        "  for j in range(len(corr_df.columns)-1):\n",
        "    if abs(corr_df.iloc[i,j])>=0.85 and i is not j:\n",
        "      print(corr_df.columns[j], end=', ')\n",
        "  print('\\n----------------------')"
      ],
      "execution_count": null,
      "outputs": [
        {
          "output_type": "stream",
          "text": [
            "male is correlated to: \n",
            "\n",
            "----------------------\n",
            "age is correlated to: \n",
            "\n",
            "----------------------\n",
            "education is correlated to: \n",
            "\n",
            "----------------------\n",
            "currentSmoker is correlated to: \n",
            "\n",
            "----------------------\n",
            "cigsPerDay is correlated to: \n",
            "\n",
            "----------------------\n",
            "BPMeds is correlated to: \n",
            "\n",
            "----------------------\n",
            "prevalentStroke is correlated to: \n",
            "\n",
            "----------------------\n",
            "prevalentHyp is correlated to: \n",
            "\n",
            "----------------------\n",
            "diabetes is correlated to: \n",
            "\n",
            "----------------------\n",
            "totChol is correlated to: \n",
            "\n",
            "----------------------\n",
            "sysBP is correlated to: \n",
            "\n",
            "----------------------\n",
            "diaBP is correlated to: \n",
            "\n",
            "----------------------\n",
            "BMI is correlated to: \n",
            "\n",
            "----------------------\n",
            "heartRate is correlated to: \n",
            "\n",
            "----------------------\n",
            "glucose is correlated to: \n",
            "\n",
            "----------------------\n"
          ],
          "name": "stdout"
        }
      ]
    },
    {
      "cell_type": "code",
      "metadata": {
        "id": "VeTicNnDJRSQ"
      },
      "source": [
        "X = heart_df.drop('TenYearCHD',axis=1)\n",
        "y = heart_df.TenYearCHD"
      ],
      "execution_count": null,
      "outputs": []
    },
    {
      "cell_type": "markdown",
      "metadata": {
        "id": "3a_gr3R5ReRP"
      },
      "source": [
        "11. Run the Univariate Selection Statistical Test using chi2.\n",
        "Create a X_chi dataframe by slicing the X dataframe to contain the top 6 features of the test result.  "
      ]
    },
    {
      "cell_type": "code",
      "metadata": {
        "id": "jfQurA-p8wIW"
      },
      "source": [
        "from sklearn.feature_selection import SelectKBest\n",
        "from sklearn.feature_selection import chi2"
      ],
      "execution_count": null,
      "outputs": []
    },
    {
      "cell_type": "code",
      "metadata": {
        "id": "TDTGNE248zY3",
        "colab": {
          "base_uri": "https://localhost:8080/"
        },
        "outputId": "83d5922f-0c01-4afd-9198-a8e88573afd4"
      },
      "source": [
        "chi_selector = SelectKBest(chi2, k=6)\n",
        "chi_selector.fit(X, y)\n",
        "chi_support = chi_selector.get_support()\n",
        "chi_feature = X.loc[:,chi_support].columns.to_list()\n",
        "print(\"The top 6 top scored features are \",chi_feature)"
      ],
      "execution_count": null,
      "outputs": [
        {
          "output_type": "stream",
          "text": [
            "The top 6 top scored features are  ['age', 'cigsPerDay', 'totChol', 'sysBP', 'diaBP', 'glucose']\n"
          ],
          "name": "stdout"
        }
      ]
    },
    {
      "cell_type": "code",
      "metadata": {
        "id": "0uz5Mi5b-9pK",
        "colab": {
          "base_uri": "https://localhost:8080/",
          "height": 514
        },
        "outputId": "64571965-3a79-4484-8891-baa71b4bfc8a"
      },
      "source": [
        "scores = pd.Series(chi_selector.scores_.tolist()) \n",
        "p_values = pd.Series(chi_selector.pvalues_.tolist()) \n",
        "selected_df = pd.DataFrame({'univariate_score':scores, 'p_values':p_values})\n",
        "selected_df.set_index(X.columns, inplace=True, drop=True)\n",
        "univariate = selected_df.sort_values(by='univariate_score', ascending=False)\n",
        "univariate"
      ],
      "execution_count": null,
      "outputs": [
        {
          "output_type": "execute_result",
          "data": {
            "text/html": [
              "<div>\n",
              "<style scoped>\n",
              "    .dataframe tbody tr th:only-of-type {\n",
              "        vertical-align: middle;\n",
              "    }\n",
              "\n",
              "    .dataframe tbody tr th {\n",
              "        vertical-align: top;\n",
              "    }\n",
              "\n",
              "    .dataframe thead th {\n",
              "        text-align: right;\n",
              "    }\n",
              "</style>\n",
              "<table border=\"1\" class=\"dataframe\">\n",
              "  <thead>\n",
              "    <tr style=\"text-align: right;\">\n",
              "      <th></th>\n",
              "      <th>univariate_score</th>\n",
              "      <th>p_values</th>\n",
              "    </tr>\n",
              "  </thead>\n",
              "  <tbody>\n",
              "    <tr>\n",
              "      <th>sysBP</th>\n",
              "      <td>669.136021</td>\n",
              "      <td>1.539910e-147</td>\n",
              "    </tr>\n",
              "    <tr>\n",
              "      <th>glucose</th>\n",
              "      <td>379.914235</td>\n",
              "      <td>1.299073e-84</td>\n",
              "    </tr>\n",
              "    <tr>\n",
              "      <th>age</th>\n",
              "      <td>296.200344</td>\n",
              "      <td>2.216184e-66</td>\n",
              "    </tr>\n",
              "    <tr>\n",
              "      <th>totChol</th>\n",
              "      <td>250.490205</td>\n",
              "      <td>2.030350e-56</td>\n",
              "    </tr>\n",
              "    <tr>\n",
              "      <th>cigsPerDay</th>\n",
              "      <td>155.798307</td>\n",
              "      <td>9.370050e-36</td>\n",
              "    </tr>\n",
              "    <tr>\n",
              "      <th>diaBP</th>\n",
              "      <td>142.521814</td>\n",
              "      <td>7.477994e-33</td>\n",
              "    </tr>\n",
              "    <tr>\n",
              "      <th>prevalentHyp</th>\n",
              "      <td>82.845455</td>\n",
              "      <td>8.872601e-20</td>\n",
              "    </tr>\n",
              "    <tr>\n",
              "      <th>diabetes</th>\n",
              "      <td>31.067621</td>\n",
              "      <td>2.491938e-08</td>\n",
              "    </tr>\n",
              "    <tr>\n",
              "      <th>BPMeds</th>\n",
              "      <td>28.191569</td>\n",
              "      <td>1.098822e-07</td>\n",
              "    </tr>\n",
              "    <tr>\n",
              "      <th>male</th>\n",
              "      <td>17.107751</td>\n",
              "      <td>3.531788e-05</td>\n",
              "    </tr>\n",
              "    <tr>\n",
              "      <th>BMI</th>\n",
              "      <td>15.785436</td>\n",
              "      <td>7.094652e-05</td>\n",
              "    </tr>\n",
              "    <tr>\n",
              "      <th>prevalentStroke</th>\n",
              "      <td>8.507833</td>\n",
              "      <td>3.536210e-03</td>\n",
              "    </tr>\n",
              "    <tr>\n",
              "      <th>education</th>\n",
              "      <td>7.733287</td>\n",
              "      <td>5.421198e-03</td>\n",
              "    </tr>\n",
              "    <tr>\n",
              "      <th>heartRate</th>\n",
              "      <td>2.917287</td>\n",
              "      <td>8.763507e-02</td>\n",
              "    </tr>\n",
              "    <tr>\n",
              "      <th>currentSmoker</th>\n",
              "      <td>0.686474</td>\n",
              "      <td>4.073664e-01</td>\n",
              "    </tr>\n",
              "  </tbody>\n",
              "</table>\n",
              "</div>"
            ],
            "text/plain": [
              "                 univariate_score       p_values\n",
              "sysBP                  669.136021  1.539910e-147\n",
              "glucose                379.914235   1.299073e-84\n",
              "age                    296.200344   2.216184e-66\n",
              "totChol                250.490205   2.030350e-56\n",
              "cigsPerDay             155.798307   9.370050e-36\n",
              "diaBP                  142.521814   7.477994e-33\n",
              "prevalentHyp            82.845455   8.872601e-20\n",
              "diabetes                31.067621   2.491938e-08\n",
              "BPMeds                  28.191569   1.098822e-07\n",
              "male                    17.107751   3.531788e-05\n",
              "BMI                     15.785436   7.094652e-05\n",
              "prevalentStroke          8.507833   3.536210e-03\n",
              "education                7.733287   5.421198e-03\n",
              "heartRate                2.917287   8.763507e-02\n",
              "currentSmoker            0.686474   4.073664e-01"
            ]
          },
          "metadata": {
            "tags": []
          },
          "execution_count": 23
        }
      ]
    },
    {
      "cell_type": "code",
      "metadata": {
        "colab": {
          "base_uri": "https://localhost:8080/",
          "height": 419
        },
        "id": "U38QlRGwMO4S",
        "outputId": "23d22ad8-b9cd-486c-ee48-368ece48f517"
      },
      "source": [
        "X_chi = X[chi_feature]\n",
        "X_chi"
      ],
      "execution_count": null,
      "outputs": [
        {
          "output_type": "execute_result",
          "data": {
            "text/html": [
              "<div>\n",
              "<style scoped>\n",
              "    .dataframe tbody tr th:only-of-type {\n",
              "        vertical-align: middle;\n",
              "    }\n",
              "\n",
              "    .dataframe tbody tr th {\n",
              "        vertical-align: top;\n",
              "    }\n",
              "\n",
              "    .dataframe thead th {\n",
              "        text-align: right;\n",
              "    }\n",
              "</style>\n",
              "<table border=\"1\" class=\"dataframe\">\n",
              "  <thead>\n",
              "    <tr style=\"text-align: right;\">\n",
              "      <th></th>\n",
              "      <th>age</th>\n",
              "      <th>cigsPerDay</th>\n",
              "      <th>totChol</th>\n",
              "      <th>sysBP</th>\n",
              "      <th>diaBP</th>\n",
              "      <th>glucose</th>\n",
              "    </tr>\n",
              "  </thead>\n",
              "  <tbody>\n",
              "    <tr>\n",
              "      <th>0</th>\n",
              "      <td>39</td>\n",
              "      <td>0.0</td>\n",
              "      <td>195.0</td>\n",
              "      <td>106.0</td>\n",
              "      <td>70.0</td>\n",
              "      <td>77.0</td>\n",
              "    </tr>\n",
              "    <tr>\n",
              "      <th>1</th>\n",
              "      <td>46</td>\n",
              "      <td>0.0</td>\n",
              "      <td>250.0</td>\n",
              "      <td>121.0</td>\n",
              "      <td>81.0</td>\n",
              "      <td>76.0</td>\n",
              "    </tr>\n",
              "    <tr>\n",
              "      <th>2</th>\n",
              "      <td>48</td>\n",
              "      <td>20.0</td>\n",
              "      <td>245.0</td>\n",
              "      <td>127.5</td>\n",
              "      <td>80.0</td>\n",
              "      <td>70.0</td>\n",
              "    </tr>\n",
              "    <tr>\n",
              "      <th>3</th>\n",
              "      <td>61</td>\n",
              "      <td>30.0</td>\n",
              "      <td>225.0</td>\n",
              "      <td>150.0</td>\n",
              "      <td>95.0</td>\n",
              "      <td>103.0</td>\n",
              "    </tr>\n",
              "    <tr>\n",
              "      <th>4</th>\n",
              "      <td>46</td>\n",
              "      <td>23.0</td>\n",
              "      <td>285.0</td>\n",
              "      <td>130.0</td>\n",
              "      <td>84.0</td>\n",
              "      <td>85.0</td>\n",
              "    </tr>\n",
              "    <tr>\n",
              "      <th>...</th>\n",
              "      <td>...</td>\n",
              "      <td>...</td>\n",
              "      <td>...</td>\n",
              "      <td>...</td>\n",
              "      <td>...</td>\n",
              "      <td>...</td>\n",
              "    </tr>\n",
              "    <tr>\n",
              "      <th>4233</th>\n",
              "      <td>50</td>\n",
              "      <td>1.0</td>\n",
              "      <td>313.0</td>\n",
              "      <td>179.0</td>\n",
              "      <td>92.0</td>\n",
              "      <td>86.0</td>\n",
              "    </tr>\n",
              "    <tr>\n",
              "      <th>4234</th>\n",
              "      <td>51</td>\n",
              "      <td>43.0</td>\n",
              "      <td>207.0</td>\n",
              "      <td>126.5</td>\n",
              "      <td>80.0</td>\n",
              "      <td>68.0</td>\n",
              "    </tr>\n",
              "    <tr>\n",
              "      <th>4237</th>\n",
              "      <td>52</td>\n",
              "      <td>0.0</td>\n",
              "      <td>269.0</td>\n",
              "      <td>133.5</td>\n",
              "      <td>83.0</td>\n",
              "      <td>107.0</td>\n",
              "    </tr>\n",
              "    <tr>\n",
              "      <th>4238</th>\n",
              "      <td>40</td>\n",
              "      <td>0.0</td>\n",
              "      <td>185.0</td>\n",
              "      <td>141.0</td>\n",
              "      <td>98.0</td>\n",
              "      <td>72.0</td>\n",
              "    </tr>\n",
              "    <tr>\n",
              "      <th>4239</th>\n",
              "      <td>39</td>\n",
              "      <td>30.0</td>\n",
              "      <td>196.0</td>\n",
              "      <td>133.0</td>\n",
              "      <td>86.0</td>\n",
              "      <td>80.0</td>\n",
              "    </tr>\n",
              "  </tbody>\n",
              "</table>\n",
              "<p>3658 rows × 6 columns</p>\n",
              "</div>"
            ],
            "text/plain": [
              "      age  cigsPerDay  totChol  sysBP  diaBP  glucose\n",
              "0      39         0.0    195.0  106.0   70.0     77.0\n",
              "1      46         0.0    250.0  121.0   81.0     76.0\n",
              "2      48        20.0    245.0  127.5   80.0     70.0\n",
              "3      61        30.0    225.0  150.0   95.0    103.0\n",
              "4      46        23.0    285.0  130.0   84.0     85.0\n",
              "...   ...         ...      ...    ...    ...      ...\n",
              "4233   50         1.0    313.0  179.0   92.0     86.0\n",
              "4234   51        43.0    207.0  126.5   80.0     68.0\n",
              "4237   52         0.0    269.0  133.5   83.0    107.0\n",
              "4238   40         0.0    185.0  141.0   98.0     72.0\n",
              "4239   39        30.0    196.0  133.0   86.0     80.0\n",
              "\n",
              "[3658 rows x 6 columns]"
            ]
          },
          "metadata": {
            "tags": []
          },
          "execution_count": 24
        }
      ]
    },
    {
      "cell_type": "markdown",
      "metadata": {
        "id": "o2FAmgXpOXmv"
      },
      "source": [
        "12. Run the Feature importance Statistical Test using XGBClassifier. Create a X_xgb dataframe by slicing the X dataframe to contain the top 6 features of the test result."
      ]
    },
    {
      "cell_type": "code",
      "metadata": {
        "id": "-no90EAqLGCZ"
      },
      "source": [
        "from xgboost import XGBClassifier\n"
      ],
      "execution_count": null,
      "outputs": []
    },
    {
      "cell_type": "code",
      "metadata": {
        "colab": {
          "base_uri": "https://localhost:8080/",
          "height": 514
        },
        "id": "QQbIJaIULF9F",
        "outputId": "d3eb5929-8fb7-414c-d6fe-05410542e9a9"
      },
      "source": [
        "model = XGBClassifier()\n",
        "model.fit(X,y)\n",
        "feat_importances_df = pd.DataFrame({'feature_importance':model.feature_importances_}, index=X.columns)\n",
        "feat_importances_df=feat_importances_df.sort_values(by='feature_importance', ascending=False)\n",
        "feat_importances_df"
      ],
      "execution_count": null,
      "outputs": [
        {
          "output_type": "execute_result",
          "data": {
            "text/html": [
              "<div>\n",
              "<style scoped>\n",
              "    .dataframe tbody tr th:only-of-type {\n",
              "        vertical-align: middle;\n",
              "    }\n",
              "\n",
              "    .dataframe tbody tr th {\n",
              "        vertical-align: top;\n",
              "    }\n",
              "\n",
              "    .dataframe thead th {\n",
              "        text-align: right;\n",
              "    }\n",
              "</style>\n",
              "<table border=\"1\" class=\"dataframe\">\n",
              "  <thead>\n",
              "    <tr style=\"text-align: right;\">\n",
              "      <th></th>\n",
              "      <th>feature_importance</th>\n",
              "    </tr>\n",
              "  </thead>\n",
              "  <tbody>\n",
              "    <tr>\n",
              "      <th>age</th>\n",
              "      <td>0.211789</td>\n",
              "    </tr>\n",
              "    <tr>\n",
              "      <th>prevalentHyp</th>\n",
              "      <td>0.134575</td>\n",
              "    </tr>\n",
              "    <tr>\n",
              "      <th>male</th>\n",
              "      <td>0.113777</td>\n",
              "    </tr>\n",
              "    <tr>\n",
              "      <th>sysBP</th>\n",
              "      <td>0.097731</td>\n",
              "    </tr>\n",
              "    <tr>\n",
              "      <th>glucose</th>\n",
              "      <td>0.069663</td>\n",
              "    </tr>\n",
              "    <tr>\n",
              "      <th>cigsPerDay</th>\n",
              "      <td>0.061386</td>\n",
              "    </tr>\n",
              "    <tr>\n",
              "      <th>diaBP</th>\n",
              "      <td>0.060623</td>\n",
              "    </tr>\n",
              "    <tr>\n",
              "      <th>education</th>\n",
              "      <td>0.056143</td>\n",
              "    </tr>\n",
              "    <tr>\n",
              "      <th>BPMeds</th>\n",
              "      <td>0.051929</td>\n",
              "    </tr>\n",
              "    <tr>\n",
              "      <th>totChol</th>\n",
              "      <td>0.044180</td>\n",
              "    </tr>\n",
              "    <tr>\n",
              "      <th>BMI</th>\n",
              "      <td>0.041936</td>\n",
              "    </tr>\n",
              "    <tr>\n",
              "      <th>heartRate</th>\n",
              "      <td>0.038077</td>\n",
              "    </tr>\n",
              "    <tr>\n",
              "      <th>prevalentStroke</th>\n",
              "      <td>0.018190</td>\n",
              "    </tr>\n",
              "    <tr>\n",
              "      <th>currentSmoker</th>\n",
              "      <td>0.000000</td>\n",
              "    </tr>\n",
              "    <tr>\n",
              "      <th>diabetes</th>\n",
              "      <td>0.000000</td>\n",
              "    </tr>\n",
              "  </tbody>\n",
              "</table>\n",
              "</div>"
            ],
            "text/plain": [
              "                 feature_importance\n",
              "age                        0.211789\n",
              "prevalentHyp               0.134575\n",
              "male                       0.113777\n",
              "sysBP                      0.097731\n",
              "glucose                    0.069663\n",
              "cigsPerDay                 0.061386\n",
              "diaBP                      0.060623\n",
              "education                  0.056143\n",
              "BPMeds                     0.051929\n",
              "totChol                    0.044180\n",
              "BMI                        0.041936\n",
              "heartRate                  0.038077\n",
              "prevalentStroke            0.018190\n",
              "currentSmoker              0.000000\n",
              "diabetes                   0.000000"
            ]
          },
          "metadata": {
            "tags": []
          },
          "execution_count": 26
        }
      ]
    },
    {
      "cell_type": "code",
      "metadata": {
        "colab": {
          "base_uri": "https://localhost:8080/",
          "height": 419
        },
        "id": "uJ2F6cu5LF6N",
        "outputId": "9c658b76-80bc-4a0a-a464-a79238d2ba60"
      },
      "source": [
        "X_xgb = X[feat_importances_df.index[:6]]\n",
        "X_xgb        "
      ],
      "execution_count": null,
      "outputs": [
        {
          "output_type": "execute_result",
          "data": {
            "text/html": [
              "<div>\n",
              "<style scoped>\n",
              "    .dataframe tbody tr th:only-of-type {\n",
              "        vertical-align: middle;\n",
              "    }\n",
              "\n",
              "    .dataframe tbody tr th {\n",
              "        vertical-align: top;\n",
              "    }\n",
              "\n",
              "    .dataframe thead th {\n",
              "        text-align: right;\n",
              "    }\n",
              "</style>\n",
              "<table border=\"1\" class=\"dataframe\">\n",
              "  <thead>\n",
              "    <tr style=\"text-align: right;\">\n",
              "      <th></th>\n",
              "      <th>age</th>\n",
              "      <th>prevalentHyp</th>\n",
              "      <th>male</th>\n",
              "      <th>sysBP</th>\n",
              "      <th>glucose</th>\n",
              "      <th>cigsPerDay</th>\n",
              "    </tr>\n",
              "  </thead>\n",
              "  <tbody>\n",
              "    <tr>\n",
              "      <th>0</th>\n",
              "      <td>39</td>\n",
              "      <td>0</td>\n",
              "      <td>1</td>\n",
              "      <td>106.0</td>\n",
              "      <td>77.0</td>\n",
              "      <td>0.0</td>\n",
              "    </tr>\n",
              "    <tr>\n",
              "      <th>1</th>\n",
              "      <td>46</td>\n",
              "      <td>0</td>\n",
              "      <td>0</td>\n",
              "      <td>121.0</td>\n",
              "      <td>76.0</td>\n",
              "      <td>0.0</td>\n",
              "    </tr>\n",
              "    <tr>\n",
              "      <th>2</th>\n",
              "      <td>48</td>\n",
              "      <td>0</td>\n",
              "      <td>1</td>\n",
              "      <td>127.5</td>\n",
              "      <td>70.0</td>\n",
              "      <td>20.0</td>\n",
              "    </tr>\n",
              "    <tr>\n",
              "      <th>3</th>\n",
              "      <td>61</td>\n",
              "      <td>1</td>\n",
              "      <td>0</td>\n",
              "      <td>150.0</td>\n",
              "      <td>103.0</td>\n",
              "      <td>30.0</td>\n",
              "    </tr>\n",
              "    <tr>\n",
              "      <th>4</th>\n",
              "      <td>46</td>\n",
              "      <td>0</td>\n",
              "      <td>0</td>\n",
              "      <td>130.0</td>\n",
              "      <td>85.0</td>\n",
              "      <td>23.0</td>\n",
              "    </tr>\n",
              "    <tr>\n",
              "      <th>...</th>\n",
              "      <td>...</td>\n",
              "      <td>...</td>\n",
              "      <td>...</td>\n",
              "      <td>...</td>\n",
              "      <td>...</td>\n",
              "      <td>...</td>\n",
              "    </tr>\n",
              "    <tr>\n",
              "      <th>4233</th>\n",
              "      <td>50</td>\n",
              "      <td>1</td>\n",
              "      <td>1</td>\n",
              "      <td>179.0</td>\n",
              "      <td>86.0</td>\n",
              "      <td>1.0</td>\n",
              "    </tr>\n",
              "    <tr>\n",
              "      <th>4234</th>\n",
              "      <td>51</td>\n",
              "      <td>0</td>\n",
              "      <td>1</td>\n",
              "      <td>126.5</td>\n",
              "      <td>68.0</td>\n",
              "      <td>43.0</td>\n",
              "    </tr>\n",
              "    <tr>\n",
              "      <th>4237</th>\n",
              "      <td>52</td>\n",
              "      <td>0</td>\n",
              "      <td>0</td>\n",
              "      <td>133.5</td>\n",
              "      <td>107.0</td>\n",
              "      <td>0.0</td>\n",
              "    </tr>\n",
              "    <tr>\n",
              "      <th>4238</th>\n",
              "      <td>40</td>\n",
              "      <td>1</td>\n",
              "      <td>1</td>\n",
              "      <td>141.0</td>\n",
              "      <td>72.0</td>\n",
              "      <td>0.0</td>\n",
              "    </tr>\n",
              "    <tr>\n",
              "      <th>4239</th>\n",
              "      <td>39</td>\n",
              "      <td>0</td>\n",
              "      <td>0</td>\n",
              "      <td>133.0</td>\n",
              "      <td>80.0</td>\n",
              "      <td>30.0</td>\n",
              "    </tr>\n",
              "  </tbody>\n",
              "</table>\n",
              "<p>3658 rows × 6 columns</p>\n",
              "</div>"
            ],
            "text/plain": [
              "      age  prevalentHyp  male  sysBP  glucose  cigsPerDay\n",
              "0      39             0     1  106.0     77.0         0.0\n",
              "1      46             0     0  121.0     76.0         0.0\n",
              "2      48             0     1  127.5     70.0        20.0\n",
              "3      61             1     0  150.0    103.0        30.0\n",
              "4      46             0     0  130.0     85.0        23.0\n",
              "...   ...           ...   ...    ...      ...         ...\n",
              "4233   50             1     1  179.0     86.0         1.0\n",
              "4234   51             0     1  126.5     68.0        43.0\n",
              "4237   52             0     0  133.5    107.0         0.0\n",
              "4238   40             1     1  141.0     72.0         0.0\n",
              "4239   39             0     0  133.0     80.0        30.0\n",
              "\n",
              "[3658 rows x 6 columns]"
            ]
          },
          "metadata": {
            "tags": []
          },
          "execution_count": 27
        }
      ]
    },
    {
      "cell_type": "markdown",
      "metadata": {
        "id": "6uoF8vMPtx2b"
      },
      "source": [
        "13. Split the X_chi and y to train and test sets\n",
        "\n"
      ]
    },
    {
      "cell_type": "code",
      "metadata": {
        "colab": {
          "base_uri": "https://localhost:8080/",
          "height": 204
        },
        "id": "-BVBKX6Kvbq1",
        "outputId": "b7590d73-e377-4540-d7c3-8547741eaa33"
      },
      "source": [
        "from sklearn.preprocessing import StandardScaler\n",
        "scaler = StandardScaler()\n",
        "scaled_X = pd.DataFrame(scaler.fit_transform(X), columns=heart_df.columns[0:-1])\n",
        "scaled_X.head()"
      ],
      "execution_count": null,
      "outputs": [
        {
          "output_type": "execute_result",
          "data": {
            "text/html": [
              "<div>\n",
              "<style scoped>\n",
              "    .dataframe tbody tr th:only-of-type {\n",
              "        vertical-align: middle;\n",
              "    }\n",
              "\n",
              "    .dataframe tbody tr th {\n",
              "        vertical-align: top;\n",
              "    }\n",
              "\n",
              "    .dataframe thead th {\n",
              "        text-align: right;\n",
              "    }\n",
              "</style>\n",
              "<table border=\"1\" class=\"dataframe\">\n",
              "  <thead>\n",
              "    <tr style=\"text-align: right;\">\n",
              "      <th></th>\n",
              "      <th>male</th>\n",
              "      <th>age</th>\n",
              "      <th>education</th>\n",
              "      <th>currentSmoker</th>\n",
              "      <th>cigsPerDay</th>\n",
              "      <th>BPMeds</th>\n",
              "      <th>prevalentStroke</th>\n",
              "      <th>prevalentHyp</th>\n",
              "      <th>diabetes</th>\n",
              "      <th>totChol</th>\n",
              "      <th>sysBP</th>\n",
              "      <th>diaBP</th>\n",
              "      <th>BMI</th>\n",
              "      <th>heartRate</th>\n",
              "      <th>glucose</th>\n",
              "    </tr>\n",
              "  </thead>\n",
              "  <tbody>\n",
              "    <tr>\n",
              "      <th>0</th>\n",
              "      <td>1.119755</td>\n",
              "      <td>-1.232580</td>\n",
              "      <td>1.975209</td>\n",
              "      <td>-0.978364</td>\n",
              "      <td>-0.757169</td>\n",
              "      <td>-0.176901</td>\n",
              "      <td>-0.075987</td>\n",
              "      <td>-0.672860</td>\n",
              "      <td>-0.166784</td>\n",
              "      <td>-0.949108</td>\n",
              "      <td>-1.194111</td>\n",
              "      <td>-1.078881</td>\n",
              "      <td>0.292050</td>\n",
              "      <td>0.356370</td>\n",
              "      <td>-0.203044</td>\n",
              "    </tr>\n",
              "    <tr>\n",
              "      <th>1</th>\n",
              "      <td>-0.893053</td>\n",
              "      <td>-0.414905</td>\n",
              "      <td>0.019249</td>\n",
              "      <td>-0.978364</td>\n",
              "      <td>-0.757169</td>\n",
              "      <td>-0.176901</td>\n",
              "      <td>-0.075987</td>\n",
              "      <td>-0.672860</td>\n",
              "      <td>-0.166784</td>\n",
              "      <td>0.298294</td>\n",
              "      <td>-0.514881</td>\n",
              "      <td>-0.160118</td>\n",
              "      <td>0.725010</td>\n",
              "      <td>1.608469</td>\n",
              "      <td>-0.244883</td>\n",
              "    </tr>\n",
              "    <tr>\n",
              "      <th>2</th>\n",
              "      <td>1.119755</td>\n",
              "      <td>-0.181283</td>\n",
              "      <td>-0.958730</td>\n",
              "      <td>1.022114</td>\n",
              "      <td>0.920689</td>\n",
              "      <td>-0.176901</td>\n",
              "      <td>-0.075987</td>\n",
              "      <td>-0.672860</td>\n",
              "      <td>-0.166784</td>\n",
              "      <td>0.184894</td>\n",
              "      <td>-0.220548</td>\n",
              "      <td>-0.243642</td>\n",
              "      <td>-0.108929</td>\n",
              "      <td>-0.060996</td>\n",
              "      <td>-0.495920</td>\n",
              "    </tr>\n",
              "    <tr>\n",
              "      <th>3</th>\n",
              "      <td>-0.893053</td>\n",
              "      <td>1.337256</td>\n",
              "      <td>0.997229</td>\n",
              "      <td>1.022114</td>\n",
              "      <td>1.759618</td>\n",
              "      <td>-0.176901</td>\n",
              "      <td>-0.075987</td>\n",
              "      <td>1.486194</td>\n",
              "      <td>-0.166784</td>\n",
              "      <td>-0.268707</td>\n",
              "      <td>0.798296</td>\n",
              "      <td>1.009217</td>\n",
              "      <td>0.688110</td>\n",
              "      <td>-0.895729</td>\n",
              "      <td>0.884782</td>\n",
              "    </tr>\n",
              "    <tr>\n",
              "      <th>4</th>\n",
              "      <td>-0.893053</td>\n",
              "      <td>-0.414905</td>\n",
              "      <td>0.997229</td>\n",
              "      <td>1.022114</td>\n",
              "      <td>1.172368</td>\n",
              "      <td>-0.176901</td>\n",
              "      <td>-0.075987</td>\n",
              "      <td>-0.672860</td>\n",
              "      <td>-0.166784</td>\n",
              "      <td>1.092095</td>\n",
              "      <td>-0.107344</td>\n",
              "      <td>0.090454</td>\n",
              "      <td>-0.659969</td>\n",
              "      <td>0.773736</td>\n",
              "      <td>0.131672</td>\n",
              "    </tr>\n",
              "  </tbody>\n",
              "</table>\n",
              "</div>"
            ],
            "text/plain": [
              "       male       age  education  ...       BMI  heartRate   glucose\n",
              "0  1.119755 -1.232580   1.975209  ...  0.292050   0.356370 -0.203044\n",
              "1 -0.893053 -0.414905   0.019249  ...  0.725010   1.608469 -0.244883\n",
              "2  1.119755 -0.181283  -0.958730  ... -0.108929  -0.060996 -0.495920\n",
              "3 -0.893053  1.337256   0.997229  ...  0.688110  -0.895729  0.884782\n",
              "4 -0.893053 -0.414905   0.997229  ... -0.659969   0.773736  0.131672\n",
              "\n",
              "[5 rows x 15 columns]"
            ]
          },
          "metadata": {
            "tags": []
          },
          "execution_count": 28
        }
      ]
    },
    {
      "cell_type": "code",
      "metadata": {
        "id": "8n5VP516NqZ2",
        "colab": {
          "base_uri": "https://localhost:8080/",
          "height": 359
        },
        "outputId": "c4ceb051-ff2e-4173-ed45-cc7d0a99e789"
      },
      "source": [
        "from sklearn.model_selection import train_test_split\n",
        "X_chi_train, X_chi_test, y_chi_train, y_chi_test = train_test_split(X_chi, y, test_size=0.3, random_state=1234)\n",
        "train_chi_df = pd.merge(left=X_chi_train, right=y_chi_train, left_index=True, right_index=True)\n",
        "test_chi_df = pd.merge(left=X_chi_test, right=y_chi_test, left_index=True, right_index=True)\n",
        "train_chi_df.head(10)"
      ],
      "execution_count": null,
      "outputs": [
        {
          "output_type": "execute_result",
          "data": {
            "text/html": [
              "<div>\n",
              "<style scoped>\n",
              "    .dataframe tbody tr th:only-of-type {\n",
              "        vertical-align: middle;\n",
              "    }\n",
              "\n",
              "    .dataframe tbody tr th {\n",
              "        vertical-align: top;\n",
              "    }\n",
              "\n",
              "    .dataframe thead th {\n",
              "        text-align: right;\n",
              "    }\n",
              "</style>\n",
              "<table border=\"1\" class=\"dataframe\">\n",
              "  <thead>\n",
              "    <tr style=\"text-align: right;\">\n",
              "      <th></th>\n",
              "      <th>age</th>\n",
              "      <th>cigsPerDay</th>\n",
              "      <th>totChol</th>\n",
              "      <th>sysBP</th>\n",
              "      <th>diaBP</th>\n",
              "      <th>glucose</th>\n",
              "      <th>TenYearCHD</th>\n",
              "    </tr>\n",
              "  </thead>\n",
              "  <tbody>\n",
              "    <tr>\n",
              "      <th>3304</th>\n",
              "      <td>47</td>\n",
              "      <td>11.0</td>\n",
              "      <td>229.0</td>\n",
              "      <td>127.0</td>\n",
              "      <td>76.5</td>\n",
              "      <td>64.0</td>\n",
              "      <td>0</td>\n",
              "    </tr>\n",
              "    <tr>\n",
              "      <th>104</th>\n",
              "      <td>42</td>\n",
              "      <td>20.0</td>\n",
              "      <td>173.0</td>\n",
              "      <td>100.0</td>\n",
              "      <td>63.0</td>\n",
              "      <td>99.0</td>\n",
              "      <td>0</td>\n",
              "    </tr>\n",
              "    <tr>\n",
              "      <th>3409</th>\n",
              "      <td>58</td>\n",
              "      <td>0.0</td>\n",
              "      <td>241.0</td>\n",
              "      <td>153.0</td>\n",
              "      <td>106.0</td>\n",
              "      <td>84.0</td>\n",
              "      <td>0</td>\n",
              "    </tr>\n",
              "    <tr>\n",
              "      <th>1078</th>\n",
              "      <td>56</td>\n",
              "      <td>0.0</td>\n",
              "      <td>273.0</td>\n",
              "      <td>125.0</td>\n",
              "      <td>83.0</td>\n",
              "      <td>66.0</td>\n",
              "      <td>0</td>\n",
              "    </tr>\n",
              "    <tr>\n",
              "      <th>2100</th>\n",
              "      <td>50</td>\n",
              "      <td>0.0</td>\n",
              "      <td>305.0</td>\n",
              "      <td>114.0</td>\n",
              "      <td>80.0</td>\n",
              "      <td>80.0</td>\n",
              "      <td>0</td>\n",
              "    </tr>\n",
              "    <tr>\n",
              "      <th>1349</th>\n",
              "      <td>64</td>\n",
              "      <td>30.0</td>\n",
              "      <td>185.0</td>\n",
              "      <td>114.0</td>\n",
              "      <td>73.0</td>\n",
              "      <td>97.0</td>\n",
              "      <td>0</td>\n",
              "    </tr>\n",
              "    <tr>\n",
              "      <th>23</th>\n",
              "      <td>52</td>\n",
              "      <td>20.0</td>\n",
              "      <td>215.0</td>\n",
              "      <td>132.0</td>\n",
              "      <td>82.0</td>\n",
              "      <td>75.0</td>\n",
              "      <td>0</td>\n",
              "    </tr>\n",
              "    <tr>\n",
              "      <th>3923</th>\n",
              "      <td>59</td>\n",
              "      <td>0.0</td>\n",
              "      <td>248.0</td>\n",
              "      <td>151.5</td>\n",
              "      <td>71.0</td>\n",
              "      <td>110.0</td>\n",
              "      <td>0</td>\n",
              "    </tr>\n",
              "    <tr>\n",
              "      <th>4200</th>\n",
              "      <td>38</td>\n",
              "      <td>0.0</td>\n",
              "      <td>169.0</td>\n",
              "      <td>115.0</td>\n",
              "      <td>60.0</td>\n",
              "      <td>60.0</td>\n",
              "      <td>0</td>\n",
              "    </tr>\n",
              "    <tr>\n",
              "      <th>3822</th>\n",
              "      <td>38</td>\n",
              "      <td>0.0</td>\n",
              "      <td>185.0</td>\n",
              "      <td>100.0</td>\n",
              "      <td>72.0</td>\n",
              "      <td>83.0</td>\n",
              "      <td>0</td>\n",
              "    </tr>\n",
              "  </tbody>\n",
              "</table>\n",
              "</div>"
            ],
            "text/plain": [
              "      age  cigsPerDay  totChol  sysBP  diaBP  glucose  TenYearCHD\n",
              "3304   47        11.0    229.0  127.0   76.5     64.0           0\n",
              "104    42        20.0    173.0  100.0   63.0     99.0           0\n",
              "3409   58         0.0    241.0  153.0  106.0     84.0           0\n",
              "1078   56         0.0    273.0  125.0   83.0     66.0           0\n",
              "2100   50         0.0    305.0  114.0   80.0     80.0           0\n",
              "1349   64        30.0    185.0  114.0   73.0     97.0           0\n",
              "23     52        20.0    215.0  132.0   82.0     75.0           0\n",
              "3923   59         0.0    248.0  151.5   71.0    110.0           0\n",
              "4200   38         0.0    169.0  115.0   60.0     60.0           0\n",
              "3822   38         0.0    185.0  100.0   72.0     83.0           0"
            ]
          },
          "metadata": {
            "tags": []
          },
          "execution_count": 29
        }
      ]
    },
    {
      "cell_type": "markdown",
      "metadata": {
        "id": "zOk3rRdYcbyu"
      },
      "source": [
        "14. Split the X_xgb and y to train and test sets"
      ]
    },
    {
      "cell_type": "code",
      "metadata": {
        "id": "WAO0btQojGGq",
        "colab": {
          "base_uri": "https://localhost:8080/",
          "height": 359
        },
        "outputId": "167edf71-3f38-4c3a-c3c2-aeba78897ec4"
      },
      "source": [
        "X_xgb_train, X_xgb_test, y_xgb_train, y_xgb_test = train_test_split(X_xgb, y, test_size=0.3, random_state=1234)\n",
        "train_xgb_df = pd.merge(left=X_xgb_train, right=y_xgb_train, left_index=True, right_index=True)\n",
        "test_xgb_df = pd.merge(left=X_xgb_train, right=y_xgb_train, left_index=True, right_index=True)\n",
        "test_xgb_df.head(10)"
      ],
      "execution_count": null,
      "outputs": [
        {
          "output_type": "execute_result",
          "data": {
            "text/html": [
              "<div>\n",
              "<style scoped>\n",
              "    .dataframe tbody tr th:only-of-type {\n",
              "        vertical-align: middle;\n",
              "    }\n",
              "\n",
              "    .dataframe tbody tr th {\n",
              "        vertical-align: top;\n",
              "    }\n",
              "\n",
              "    .dataframe thead th {\n",
              "        text-align: right;\n",
              "    }\n",
              "</style>\n",
              "<table border=\"1\" class=\"dataframe\">\n",
              "  <thead>\n",
              "    <tr style=\"text-align: right;\">\n",
              "      <th></th>\n",
              "      <th>age</th>\n",
              "      <th>prevalentHyp</th>\n",
              "      <th>male</th>\n",
              "      <th>sysBP</th>\n",
              "      <th>glucose</th>\n",
              "      <th>cigsPerDay</th>\n",
              "      <th>TenYearCHD</th>\n",
              "    </tr>\n",
              "  </thead>\n",
              "  <tbody>\n",
              "    <tr>\n",
              "      <th>3304</th>\n",
              "      <td>47</td>\n",
              "      <td>0</td>\n",
              "      <td>0</td>\n",
              "      <td>127.0</td>\n",
              "      <td>64.0</td>\n",
              "      <td>11.0</td>\n",
              "      <td>0</td>\n",
              "    </tr>\n",
              "    <tr>\n",
              "      <th>104</th>\n",
              "      <td>42</td>\n",
              "      <td>0</td>\n",
              "      <td>0</td>\n",
              "      <td>100.0</td>\n",
              "      <td>99.0</td>\n",
              "      <td>20.0</td>\n",
              "      <td>0</td>\n",
              "    </tr>\n",
              "    <tr>\n",
              "      <th>3409</th>\n",
              "      <td>58</td>\n",
              "      <td>1</td>\n",
              "      <td>0</td>\n",
              "      <td>153.0</td>\n",
              "      <td>84.0</td>\n",
              "      <td>0.0</td>\n",
              "      <td>0</td>\n",
              "    </tr>\n",
              "    <tr>\n",
              "      <th>1078</th>\n",
              "      <td>56</td>\n",
              "      <td>1</td>\n",
              "      <td>0</td>\n",
              "      <td>125.0</td>\n",
              "      <td>66.0</td>\n",
              "      <td>0.0</td>\n",
              "      <td>0</td>\n",
              "    </tr>\n",
              "    <tr>\n",
              "      <th>2100</th>\n",
              "      <td>50</td>\n",
              "      <td>0</td>\n",
              "      <td>0</td>\n",
              "      <td>114.0</td>\n",
              "      <td>80.0</td>\n",
              "      <td>0.0</td>\n",
              "      <td>0</td>\n",
              "    </tr>\n",
              "    <tr>\n",
              "      <th>1349</th>\n",
              "      <td>64</td>\n",
              "      <td>0</td>\n",
              "      <td>1</td>\n",
              "      <td>114.0</td>\n",
              "      <td>97.0</td>\n",
              "      <td>30.0</td>\n",
              "      <td>0</td>\n",
              "    </tr>\n",
              "    <tr>\n",
              "      <th>23</th>\n",
              "      <td>52</td>\n",
              "      <td>0</td>\n",
              "      <td>0</td>\n",
              "      <td>132.0</td>\n",
              "      <td>75.0</td>\n",
              "      <td>20.0</td>\n",
              "      <td>0</td>\n",
              "    </tr>\n",
              "    <tr>\n",
              "      <th>3923</th>\n",
              "      <td>59</td>\n",
              "      <td>1</td>\n",
              "      <td>1</td>\n",
              "      <td>151.5</td>\n",
              "      <td>110.0</td>\n",
              "      <td>0.0</td>\n",
              "      <td>0</td>\n",
              "    </tr>\n",
              "    <tr>\n",
              "      <th>4200</th>\n",
              "      <td>38</td>\n",
              "      <td>0</td>\n",
              "      <td>0</td>\n",
              "      <td>115.0</td>\n",
              "      <td>60.0</td>\n",
              "      <td>0.0</td>\n",
              "      <td>0</td>\n",
              "    </tr>\n",
              "    <tr>\n",
              "      <th>3822</th>\n",
              "      <td>38</td>\n",
              "      <td>0</td>\n",
              "      <td>0</td>\n",
              "      <td>100.0</td>\n",
              "      <td>83.0</td>\n",
              "      <td>0.0</td>\n",
              "      <td>0</td>\n",
              "    </tr>\n",
              "  </tbody>\n",
              "</table>\n",
              "</div>"
            ],
            "text/plain": [
              "      age  prevalentHyp  male  sysBP  glucose  cigsPerDay  TenYearCHD\n",
              "3304   47             0     0  127.0     64.0        11.0           0\n",
              "104    42             0     0  100.0     99.0        20.0           0\n",
              "3409   58             1     0  153.0     84.0         0.0           0\n",
              "1078   56             1     0  125.0     66.0         0.0           0\n",
              "2100   50             0     0  114.0     80.0         0.0           0\n",
              "1349   64             0     1  114.0     97.0        30.0           0\n",
              "23     52             0     0  132.0     75.0        20.0           0\n",
              "3923   59             1     1  151.5    110.0         0.0           0\n",
              "4200   38             0     0  115.0     60.0         0.0           0\n",
              "3822   38             0     0  100.0     83.0         0.0           0"
            ]
          },
          "metadata": {
            "tags": []
          },
          "execution_count": 30
        }
      ]
    },
    {
      "cell_type": "markdown",
      "metadata": {
        "id": "AYT0FEWvdIQM"
      },
      "source": [
        "15a. Standard scale the X_chi train and test subsets\n"
      ]
    },
    {
      "cell_type": "code",
      "metadata": {
        "id": "SAYQZ6wtliPG"
      },
      "source": [
        "x_chi_train_scaler = StandardScaler()\n",
        "x_chi_test_scaler = StandardScaler()\n",
        "X_chi_train_scaled =pd.DataFrame(x_chi_train_scaler.fit_transform(X_chi), columns=X_chi.columns[:])\n",
        "X_chi_test_scaled = pd.DataFrame(x_chi_test_scaler.fit_transform(X_chi), columns=X_chi.columns[:])"
      ],
      "execution_count": null,
      "outputs": []
    },
    {
      "cell_type": "markdown",
      "metadata": {
        "id": "HNNsSqpkS16I"
      },
      "source": [
        "15b. Standard scale the X_xgb train and test subsets\n"
      ]
    },
    {
      "cell_type": "code",
      "metadata": {
        "id": "qy26IfBsS16K"
      },
      "source": [
        "x_xgb_train_scaler = StandardScaler()\n",
        "x_xgb_test_scaler = StandardScaler()\n",
        "X_xgb_train_scaled = pd.DataFrame(x_xgb_train_scaler.fit_transform(X_xgb), columns=X_xgb.columns[:])\n",
        "X_xgb_test_scaled = pd.DataFrame(x_xgb_test_scaler.fit_transform(X_xgb), columns=X_xgb.columns[:])"
      ],
      "execution_count": null,
      "outputs": []
    },
    {
      "cell_type": "markdown",
      "metadata": {
        "id": "rZ5-lAg-dPeL"
      },
      "source": [
        "16a. Create a logistic model of the X_chi dataset.\n",
        "train , test it and display a dataframe with the probzbilities and prediction"
      ]
    },
    {
      "cell_type": "code",
      "metadata": {
        "id": "U9PYfwg7oJSt",
        "colab": {
          "base_uri": "https://localhost:8080/"
        },
        "outputId": "00ae896d-bd93-4cb5-bde8-f3ef08ae6995"
      },
      "source": [
        "from sklearn.linear_model import LogisticRegression\n",
        "logmodel_chi = LogisticRegression()\n",
        "logmodel_chi.fit(X_chi_train,y_chi_train)"
      ],
      "execution_count": null,
      "outputs": [
        {
          "output_type": "execute_result",
          "data": {
            "text/plain": [
              "LogisticRegression(C=1.0, class_weight=None, dual=False, fit_intercept=True,\n",
              "                   intercept_scaling=1, l1_ratio=None, max_iter=100,\n",
              "                   multi_class='auto', n_jobs=None, penalty='l2',\n",
              "                   random_state=None, solver='lbfgs', tol=0.0001, verbose=0,\n",
              "                   warm_start=False)"
            ]
          },
          "metadata": {
            "tags": []
          },
          "execution_count": 33
        }
      ]
    },
    {
      "cell_type": "code",
      "metadata": {
        "id": "06LzPB4XUkqY"
      },
      "source": [
        "probability_chi = logmodel_chi.predict_proba(X_chi_test)\n",
        "prediction_chi = logmodel_chi.predict(X_chi_test)"
      ],
      "execution_count": null,
      "outputs": []
    },
    {
      "cell_type": "code",
      "metadata": {
        "id": "fs2I-k-BmBDE",
        "colab": {
          "base_uri": "https://localhost:8080/",
          "height": 419
        },
        "outputId": "cc9a6be2-ddff-4ab6-9d69-c57846539a86"
      },
      "source": [
        "y_chi_test_prob_0 = pd.Series(probability_chi[:,0], name='probability_0', index=y_chi_test.index)\n",
        "y_chi_test_prob_1 = pd.Series(probability_chi[:,1], name='probability_1', index=y_chi_test.index)\n",
        "y_chi_test_pred = pd.Series(prediction_chi, name='prediction', index=y_chi_test.index)\n",
        "\n",
        "test_chi_results = pd.DataFrame(data={'probability_chi_0':y_chi_test_prob_0, 'probability_chi_1':y_chi_test_prob_1,'prediction_chi':y_chi_test_pred, 'actual_chi':y_chi_test})\n",
        "test_chi_results"
      ],
      "execution_count": null,
      "outputs": [
        {
          "output_type": "execute_result",
          "data": {
            "text/html": [
              "<div>\n",
              "<style scoped>\n",
              "    .dataframe tbody tr th:only-of-type {\n",
              "        vertical-align: middle;\n",
              "    }\n",
              "\n",
              "    .dataframe tbody tr th {\n",
              "        vertical-align: top;\n",
              "    }\n",
              "\n",
              "    .dataframe thead th {\n",
              "        text-align: right;\n",
              "    }\n",
              "</style>\n",
              "<table border=\"1\" class=\"dataframe\">\n",
              "  <thead>\n",
              "    <tr style=\"text-align: right;\">\n",
              "      <th></th>\n",
              "      <th>probability_chi_0</th>\n",
              "      <th>probability_chi_1</th>\n",
              "      <th>prediction_chi</th>\n",
              "      <th>actual_chi</th>\n",
              "    </tr>\n",
              "  </thead>\n",
              "  <tbody>\n",
              "    <tr>\n",
              "      <th>443</th>\n",
              "      <td>0.800766</td>\n",
              "      <td>0.199234</td>\n",
              "      <td>0</td>\n",
              "      <td>0</td>\n",
              "    </tr>\n",
              "    <tr>\n",
              "      <th>2176</th>\n",
              "      <td>0.910847</td>\n",
              "      <td>0.089153</td>\n",
              "      <td>0</td>\n",
              "      <td>0</td>\n",
              "    </tr>\n",
              "    <tr>\n",
              "      <th>2389</th>\n",
              "      <td>0.881117</td>\n",
              "      <td>0.118883</td>\n",
              "      <td>0</td>\n",
              "      <td>0</td>\n",
              "    </tr>\n",
              "    <tr>\n",
              "      <th>2184</th>\n",
              "      <td>0.864581</td>\n",
              "      <td>0.135419</td>\n",
              "      <td>0</td>\n",
              "      <td>0</td>\n",
              "    </tr>\n",
              "    <tr>\n",
              "      <th>4059</th>\n",
              "      <td>0.752994</td>\n",
              "      <td>0.247006</td>\n",
              "      <td>0</td>\n",
              "      <td>0</td>\n",
              "    </tr>\n",
              "    <tr>\n",
              "      <th>...</th>\n",
              "      <td>...</td>\n",
              "      <td>...</td>\n",
              "      <td>...</td>\n",
              "      <td>...</td>\n",
              "    </tr>\n",
              "    <tr>\n",
              "      <th>954</th>\n",
              "      <td>0.794870</td>\n",
              "      <td>0.205130</td>\n",
              "      <td>0</td>\n",
              "      <td>0</td>\n",
              "    </tr>\n",
              "    <tr>\n",
              "      <th>3565</th>\n",
              "      <td>0.871319</td>\n",
              "      <td>0.128681</td>\n",
              "      <td>0</td>\n",
              "      <td>0</td>\n",
              "    </tr>\n",
              "    <tr>\n",
              "      <th>1222</th>\n",
              "      <td>0.974009</td>\n",
              "      <td>0.025991</td>\n",
              "      <td>0</td>\n",
              "      <td>0</td>\n",
              "    </tr>\n",
              "    <tr>\n",
              "      <th>926</th>\n",
              "      <td>0.552992</td>\n",
              "      <td>0.447008</td>\n",
              "      <td>0</td>\n",
              "      <td>0</td>\n",
              "    </tr>\n",
              "    <tr>\n",
              "      <th>2402</th>\n",
              "      <td>0.708688</td>\n",
              "      <td>0.291312</td>\n",
              "      <td>0</td>\n",
              "      <td>0</td>\n",
              "    </tr>\n",
              "  </tbody>\n",
              "</table>\n",
              "<p>1098 rows × 4 columns</p>\n",
              "</div>"
            ],
            "text/plain": [
              "      probability_chi_0  probability_chi_1  prediction_chi  actual_chi\n",
              "443            0.800766           0.199234               0           0\n",
              "2176           0.910847           0.089153               0           0\n",
              "2389           0.881117           0.118883               0           0\n",
              "2184           0.864581           0.135419               0           0\n",
              "4059           0.752994           0.247006               0           0\n",
              "...                 ...                ...             ...         ...\n",
              "954            0.794870           0.205130               0           0\n",
              "3565           0.871319           0.128681               0           0\n",
              "1222           0.974009           0.025991               0           0\n",
              "926            0.552992           0.447008               0           0\n",
              "2402           0.708688           0.291312               0           0\n",
              "\n",
              "[1098 rows x 4 columns]"
            ]
          },
          "metadata": {
            "tags": []
          },
          "execution_count": 35
        }
      ]
    },
    {
      "cell_type": "markdown",
      "metadata": {
        "id": "F-kri6znVi2E"
      },
      "source": [
        "16a. Create a logistic model of the X_xgb dataset.\n",
        "train , test it and display a dataframe with the probzbilities and prediction"
      ]
    },
    {
      "cell_type": "code",
      "metadata": {
        "id": "_4oZH143qI9S",
        "colab": {
          "base_uri": "https://localhost:8080/"
        },
        "outputId": "e3f8edaf-9c8d-4c31-abc9-9a4b620e3f07"
      },
      "source": [
        "logmodel_xgb = LogisticRegression()\n",
        "logmodel_xgb.fit(X_xgb_train,y_xgb_train)"
      ],
      "execution_count": null,
      "outputs": [
        {
          "output_type": "execute_result",
          "data": {
            "text/plain": [
              "LogisticRegression(C=1.0, class_weight=None, dual=False, fit_intercept=True,\n",
              "                   intercept_scaling=1, l1_ratio=None, max_iter=100,\n",
              "                   multi_class='auto', n_jobs=None, penalty='l2',\n",
              "                   random_state=None, solver='lbfgs', tol=0.0001, verbose=0,\n",
              "                   warm_start=False)"
            ]
          },
          "metadata": {
            "tags": []
          },
          "execution_count": 36
        }
      ]
    },
    {
      "cell_type": "code",
      "metadata": {
        "id": "vo65gUmKVw7M"
      },
      "source": [
        "probability_xgb = logmodel_chi.predict_proba(X_xgb_test)\n",
        "prediction_xgb = logmodel_chi.predict(X_xgb_test)"
      ],
      "execution_count": null,
      "outputs": []
    },
    {
      "cell_type": "code",
      "metadata": {
        "colab": {
          "base_uri": "https://localhost:8080/",
          "height": 419
        },
        "id": "AHvfz3dQV70D",
        "outputId": "d6d26a22-146f-41cc-b833-8b7afd75a15f"
      },
      "source": [
        "y_xgb_test_prob_0 = pd.Series(probability_xgb[:,0], name='probability_0', index=y_xgb_test.index)\n",
        "y_xgb_test_prob_1 = pd.Series(probability_xgb[:,1], name='probability_1', index=y_xgb_test.index)\n",
        "y_xgb_test_pred = pd.Series(prediction_xgb, name='prediction', index=y_xgb_test.index)\n",
        "\n",
        "test_xgb_results = pd.DataFrame(data={'probability_xgb_0':y_xgb_test_prob_0, 'probability_xgb_1':y_xgb_test_prob_1,'prediction_xgb':y_xgb_test_pred, 'actual_xgb':y_xgb_test})\n",
        "test_xgb_results"
      ],
      "execution_count": null,
      "outputs": [
        {
          "output_type": "execute_result",
          "data": {
            "text/html": [
              "<div>\n",
              "<style scoped>\n",
              "    .dataframe tbody tr th:only-of-type {\n",
              "        vertical-align: middle;\n",
              "    }\n",
              "\n",
              "    .dataframe tbody tr th {\n",
              "        vertical-align: top;\n",
              "    }\n",
              "\n",
              "    .dataframe thead th {\n",
              "        text-align: right;\n",
              "    }\n",
              "</style>\n",
              "<table border=\"1\" class=\"dataframe\">\n",
              "  <thead>\n",
              "    <tr style=\"text-align: right;\">\n",
              "      <th></th>\n",
              "      <th>probability_xgb_0</th>\n",
              "      <th>probability_xgb_1</th>\n",
              "      <th>prediction_xgb</th>\n",
              "      <th>actual_xgb</th>\n",
              "    </tr>\n",
              "  </thead>\n",
              "  <tbody>\n",
              "    <tr>\n",
              "      <th>443</th>\n",
              "      <td>0.957788</td>\n",
              "      <td>0.042212</td>\n",
              "      <td>0</td>\n",
              "      <td>0</td>\n",
              "    </tr>\n",
              "    <tr>\n",
              "      <th>2176</th>\n",
              "      <td>0.972467</td>\n",
              "      <td>0.027533</td>\n",
              "      <td>0</td>\n",
              "      <td>0</td>\n",
              "    </tr>\n",
              "    <tr>\n",
              "      <th>2389</th>\n",
              "      <td>0.966220</td>\n",
              "      <td>0.033780</td>\n",
              "      <td>0</td>\n",
              "      <td>0</td>\n",
              "    </tr>\n",
              "    <tr>\n",
              "      <th>2184</th>\n",
              "      <td>0.964059</td>\n",
              "      <td>0.035941</td>\n",
              "      <td>0</td>\n",
              "      <td>0</td>\n",
              "    </tr>\n",
              "    <tr>\n",
              "      <th>4059</th>\n",
              "      <td>0.919100</td>\n",
              "      <td>0.080900</td>\n",
              "      <td>0</td>\n",
              "      <td>0</td>\n",
              "    </tr>\n",
              "    <tr>\n",
              "      <th>...</th>\n",
              "      <td>...</td>\n",
              "      <td>...</td>\n",
              "      <td>...</td>\n",
              "      <td>...</td>\n",
              "    </tr>\n",
              "    <tr>\n",
              "      <th>954</th>\n",
              "      <td>0.937312</td>\n",
              "      <td>0.062688</td>\n",
              "      <td>0</td>\n",
              "      <td>0</td>\n",
              "    </tr>\n",
              "    <tr>\n",
              "      <th>3565</th>\n",
              "      <td>0.962926</td>\n",
              "      <td>0.037074</td>\n",
              "      <td>0</td>\n",
              "      <td>0</td>\n",
              "    </tr>\n",
              "    <tr>\n",
              "      <th>1222</th>\n",
              "      <td>0.991519</td>\n",
              "      <td>0.008481</td>\n",
              "      <td>0</td>\n",
              "      <td>0</td>\n",
              "    </tr>\n",
              "    <tr>\n",
              "      <th>926</th>\n",
              "      <td>0.900692</td>\n",
              "      <td>0.099308</td>\n",
              "      <td>0</td>\n",
              "      <td>0</td>\n",
              "    </tr>\n",
              "    <tr>\n",
              "      <th>2402</th>\n",
              "      <td>0.944487</td>\n",
              "      <td>0.055513</td>\n",
              "      <td>0</td>\n",
              "      <td>0</td>\n",
              "    </tr>\n",
              "  </tbody>\n",
              "</table>\n",
              "<p>1098 rows × 4 columns</p>\n",
              "</div>"
            ],
            "text/plain": [
              "      probability_xgb_0  probability_xgb_1  prediction_xgb  actual_xgb\n",
              "443            0.957788           0.042212               0           0\n",
              "2176           0.972467           0.027533               0           0\n",
              "2389           0.966220           0.033780               0           0\n",
              "2184           0.964059           0.035941               0           0\n",
              "4059           0.919100           0.080900               0           0\n",
              "...                 ...                ...             ...         ...\n",
              "954            0.937312           0.062688               0           0\n",
              "3565           0.962926           0.037074               0           0\n",
              "1222           0.991519           0.008481               0           0\n",
              "926            0.900692           0.099308               0           0\n",
              "2402           0.944487           0.055513               0           0\n",
              "\n",
              "[1098 rows x 4 columns]"
            ]
          },
          "metadata": {
            "tags": []
          },
          "execution_count": 38
        }
      ]
    },
    {
      "cell_type": "markdown",
      "metadata": {
        "id": "si8I_THCdvAM"
      },
      "source": [
        "17. What is the accuracy of both models?"
      ]
    },
    {
      "cell_type": "code",
      "metadata": {
        "colab": {
          "base_uri": "https://localhost:8080/"
        },
        "id": "AyME0QYlWot0",
        "outputId": "026d6aec-c30e-4130-93a7-fbdc4984a6a7"
      },
      "source": [
        "correct_chi_rows = test_chi_results.loc[test_chi_results.prediction_chi == test_chi_results.actual_chi].any(axis=1).count()\n",
        "accuracy_chi = round(correct_chi_rows/len(test_chi_results),3)\n",
        "accuracy_chi"
      ],
      "execution_count": null,
      "outputs": [
        {
          "output_type": "execute_result",
          "data": {
            "text/plain": [
              "0.866"
            ]
          },
          "metadata": {
            "tags": []
          },
          "execution_count": 39
        }
      ]
    },
    {
      "cell_type": "markdown",
      "metadata": {
        "id": "KFbXvEgQXurP"
      },
      "source": [
        ""
      ]
    },
    {
      "cell_type": "code",
      "metadata": {
        "colab": {
          "base_uri": "https://localhost:8080/"
        },
        "id": "QcqCeQmgXwGC",
        "outputId": "9d095d60-6867-403c-8e9e-9d0201a8a227"
      },
      "source": [
        "correct_xgb_rows = test_xgb_results.loc[test_xgb_results.prediction_xgb == test_xgb_results.actual_xgb].any(axis=1).count()\n",
        "accuracy_xgb = round(correct_xgb_rows/len(test_xgb_results),3)\n",
        "accuracy_xgb"
      ],
      "execution_count": null,
      "outputs": [
        {
          "output_type": "execute_result",
          "data": {
            "text/plain": [
              "0.862"
            ]
          },
          "metadata": {
            "tags": []
          },
          "execution_count": 40
        }
      ]
    },
    {
      "cell_type": "markdown",
      "metadata": {
        "id": "jGOUVkLpdeo5"
      },
      "source": [
        "18. Plot the confusion matrix of the more accurate model"
      ]
    },
    {
      "cell_type": "code",
      "metadata": {
        "colab": {
          "base_uri": "https://localhost:8080/",
          "height": 296
        },
        "id": "nAed56EfYhIa",
        "outputId": "f2c8612c-3358-4858-847a-0b3ce0490a2e"
      },
      "source": [
        "from sklearn.metrics import plot_confusion_matrix\n",
        "plot_confusion_matrix(logmodel_chi, X_chi_test, y_chi_test, values_format='0.0f')"
      ],
      "execution_count": null,
      "outputs": [
        {
          "output_type": "execute_result",
          "data": {
            "text/plain": [
              "<sklearn.metrics._plot.confusion_matrix.ConfusionMatrixDisplay at 0x7ffbab501208>"
            ]
          },
          "metadata": {
            "tags": []
          },
          "execution_count": 41
        },
        {
          "output_type": "display_data",
          "data": {
            "image/png": "[encoded data removed]",
            "text/plain": [
              "<Figure size 432x288 with 2 Axes>"
            ]
          },
          "metadata": {
            "tags": [],
            "needs_background": "light"
          }
        }
      ]
    },
    {
      "cell_type": "markdown",
      "metadata": {
        "id": "pMSAzF50ecld"
      },
      "source": [
        "19. show the accuracy, precision, recall and F1 scores"
      ]
    },
    {
      "cell_type": "code",
      "metadata": {
        "id": "q0WfodYV47we",
        "colab": {
          "base_uri": "https://localhost:8080/"
        },
        "outputId": "e942201a-00a1-49ec-9b8e-6f1143124fb1"
      },
      "source": [
        "from sklearn import metrics\n",
        "y_test_pred = test_chi_results.prediction_chi\n",
        "print(\"accuarcy\",metrics.accuracy_score(y_chi_test, y_test_pred))"
      ],
      "execution_count": null,
      "outputs": [
        {
          "output_type": "stream",
          "text": [
            "accuarcy 0.8661202185792349\n"
          ],
          "name": "stdout"
        }
      ]
    },
    {
      "cell_type": "code",
      "metadata": {
        "colab": {
          "base_uri": "https://localhost:8080/"
        },
        "id": "onN0GwD3b3RK",
        "outputId": "ac4761b8-20cd-4a5a-c5bf-820f4bc1433b"
      },
      "source": [
        "print(\"precision\",metrics.precision_score(y_chi_test, y_test_pred))"
      ],
      "execution_count": null,
      "outputs": [
        {
          "output_type": "stream",
          "text": [
            "precision 0.6923076923076923\n"
          ],
          "name": "stdout"
        }
      ]
    },
    {
      "cell_type": "code",
      "metadata": {
        "colab": {
          "base_uri": "https://localhost:8080/"
        },
        "id": "kgV0tQJGcDbL",
        "outputId": "1e2cbe57-f968-4e0f-b06a-5ba868db887a"
      },
      "source": [
        "print(\"Recall\",metrics.recall_score(y_chi_test, y_test_pred))"
      ],
      "execution_count": null,
      "outputs": [
        {
          "output_type": "stream",
          "text": [
            "Recall 0.05921052631578947\n"
          ],
          "name": "stdout"
        }
      ]
    },
    {
      "cell_type": "code",
      "metadata": {
        "colab": {
          "base_uri": "https://localhost:8080/"
        },
        "id": "L8ni1XJWcUQo",
        "outputId": "476819a5-799d-41ba-e49f-3820b248bf15"
      },
      "source": [
        "print(\"F1\",metrics.f1_score(y_chi_test, y_test_pred))"
      ],
      "execution_count": null,
      "outputs": [
        {
          "output_type": "stream",
          "text": [
            "F1 0.10909090909090909\n"
          ],
          "name": "stdout"
        }
      ]
    },
    {
      "cell_type": "markdown",
      "metadata": {
        "id": "MCr90ICMe255"
      },
      "source": [
        "20. Try adjusting the probability threshold to 0.2 in order to improve the recall\n",
        "\n",
        "a. plot the current 1 prediction probability of the test set\n",
        "\n",
        "b. move the threshold to and show before and after classification report"
      ]
    },
    {
      "cell_type": "code",
      "metadata": {
        "colab": {
          "base_uri": "https://localhost:8080/",
          "height": 542
        },
        "id": "BU3z7P4reVHI",
        "outputId": "18fb4341-0727-4fb6-f146-0d2957360ba7"
      },
      "source": [
        "y_pred_prob = test_chi_results.probability_chi_1\n",
        "\n",
        "fig = go.Figure()\n",
        "trace = go.Histogram(\n",
        "    x = y_pred_prob,\n",
        ")\n",
        "fig.add_trace(trace)"
      ],
      "execution_count": null,
      "outputs": [
        {
          "output_type": "display_data",
          "data": {
            "text/html": [
              "<html>\n",
              "<head><meta charset=\"utf-8\" /></head>\n",
              "<body>\n",
              "    <div>\n",
              "            <script src=\"https://cdnjs.cloudflare.com/ajax/libs/mathjax/2.7.5/MathJax.js?config=TeX-AMS-MML_SVG\"></script><script type=\"text/javascript\">if (window.MathJax) {MathJax.Hub.Config({SVG: {font: \"STIX-Web\"}});}</script>\n",
              "                <script type=\"text/javascript\">window.PlotlyConfig = {MathJaxConfig: 'local'};</script>\n",
              "        <script src=\"https://cdn.plot.ly/plotly-latest.min.js\"></script>    \n",
              "            <div id=\"b1be805a-4341-4d1e-8fd5-6800e39866ce\" class=\"plotly-graph-div\" style=\"height:525px; width:100%;\"></div>\n",
              "            <script type=\"text/javascript\">\n",
              "                \n",
              "                    window.PLOTLYENV=window.PLOTLYENV || {};\n",
              "                    \n",
              "                if (document.getElementById(\"b1be805a-4341-4d1e-8fd5-6800e39866ce\")) {\n",
              "                    Plotly.newPlot(\n",
              "                        'b1be805a-4341-4d1e-8fd5-6800e39866ce',\n",
              "                        [{\"type\": \"histogram\", \"x\": [0.1992335994275525, 0.0891526975197419, 0.11888289591158906, 0.1354188657543486, 0.247005730765536, 0.39873509608417, 0.29797088579603703, 0.09198949582628875, 0.05556309600418726, 0.21859344328537889, 0.3732085117534261, 0.030971658505692407, 0.18664003704056917, 0.25128077160547546, 0.1557504453692088, 0.36474321248831254, 0.041465797152929314, 0.16227443089226948, 0.0883920131819154, 0.21304805367279392, 0.09074057527227944, 0.18630233669405824, 0.33440561397913837, 0.06649373790158032, 0.4092293452462952, 0.1018713741471115, 0.0493073596198006, 0.04062184511485472, 0.1877536349001501, 0.037205469646821324, 0.10856740164375399, 0.1981924826960772, 0.22303677397273786, 0.10614044926255058, 0.16296957181842497, 0.11698644749680635, 0.06533347755403872, 0.21586884247164653, 0.10258360945066282, 0.08997002252887025, 0.12614895248293242, 0.07214578691079579, 0.1795744969689355, 0.055958511147215895, 0.10994100574606398, 0.16061890202931886, 0.07578392468190316, 0.2749508270399871, 0.24232424776630038, 0.07350416287285608, 0.15685488948313522, 0.19062099392376203, 0.07882557301962648, 0.04769280946315155, 0.061035700606978514, 0.15336898158407317, 0.32987605965521044, 0.06427736740931807, 0.120587666546183, 0.10305149246288987, 0.4028511808852282, 0.7085352181070005, 0.14351626801690825, 0.03387334736854731, 0.14880680559002862, 0.10566702143859047, 0.07873478123563442, 0.0809019835661389, 0.08680998253542745, 0.16246348776342337, 0.06625509022577969, 0.09767923050666905, 0.29409752671746514, 0.042178736465297705, 0.057308158215896916, 0.1450077240488773, 0.11163058461338768, 0.19925254446607424, 0.08836877472055547, 0.1135969684532399, 0.053303308300228024, 0.27432197997454705, 0.04273711203068559, 0.09421450414237942, 0.06805348647477633, 0.04794139101092728, 0.18380864708743486, 0.06773145374080447, 0.16576126168777391, 0.07178957765698991, 0.03814167389284097, 0.10464086099110445, 0.4873042224422032, 0.049192825821064094, 0.05431954773213517, 0.09875501064386524, 0.134233907472836, 0.10786607166663602, 0.27478995010253926, 0.24308956108607396, 0.07570296233557335, 0.1852260373502852, 0.1820955760021153, 0.044712425578325034, 0.15792684474115318, 0.1665718716431565, 0.1495688538242673, 0.05215591935871886, 0.09666290215095284, 0.11558071794543182, 0.05815735498773853, 0.019916567047430653, 0.1653989173080071, 0.09605610978122482, 0.09899496198088016, 0.2002376660885965, 0.1922768101846121, 0.12624350049876548, 0.37319629935221693, 0.1274512613857993, 0.05962087333925111, 0.06641840915649774, 0.08586390355175691, 0.05457885577876005, 0.09076819673642744, 0.043811774912666954, 0.2953610342135667, 0.16754289309783477, 0.038438646126719725, 0.20276298462206224, 0.04282214859893128, 0.04815497572254038, 0.029664860013010583, 0.16711302930079214, 0.22032749250381076, 0.09741083058438726, 0.2054350296591648, 0.10160560535405501, 0.05619109792399282, 0.13760670204278888, 0.061012105288221624, 0.13658097907486053, 0.11192837823789399, 0.0898064952330523, 0.2215351081147478, 0.059910105376272574, 0.2046343630891002, 0.12632427659468368, 0.06771460760107313, 0.19243396740751828, 0.08347442976402297, 0.16892672457214708, 0.13263425306280363, 0.04076338653074496, 0.0942708307162687, 0.06416852851051923, 0.11478799911751882, 0.07564161777536947, 0.18076090154361535, 0.048327363305499506, 0.09257764358530317, 0.10128967312366682, 0.13491650066380065, 0.11792762886771105, 0.29335576738610075, 0.04205865238759167, 0.09104491973330263, 0.19871151875362686, 0.14075386067186624, 0.11458967151256207, 0.17931613062933713, 0.328364761258424, 0.1081542338362188, 0.0805800085915247, 0.1487437641746275, 0.10085116838399598, 0.3009929843269172, 0.1416940024849178, 0.09782331879269739, 0.25492612388723007, 0.12426048338828903, 0.04962276138743105, 0.07399332605090113, 0.2238971315150619, 0.34122465070707986, 0.5287251768751088, 0.23379434945998126, 0.17346161480578795, 0.6110210326007387, 0.098439121770513, 0.12952305236105383, 0.03562974065755882, 0.06583245241893672, 0.1115426421204004, 0.49916523130655027, 0.05721488026723961, 0.23631281527851092, 0.33994256490963226, 0.7645480182417296, 0.3103850261371392, 0.034309420224478845, 0.0315454356119751, 0.08958438698179798, 0.2748080134082651, 0.06269146558566285, 0.11802709493454576, 0.11201146521059095, 0.27081905173590487, 0.2534541577733124, 0.3630403826162911, 0.2081184329717861, 0.06507993483839462, 0.09365284563281022, 0.23898199765518596, 0.12053036100486555, 0.09166641073224197, 0.1601997351317279, 0.09606508904758262, 0.5985306313081573, 0.2602385524383903, 0.029296205553311517, 0.06145213473183077, 0.05073253249461565, 0.07567457836395361, 0.11647815775062353, 0.032169977327198174, 0.20730707022857095, 0.04699748646804686, 0.23504471799299165, 0.11854360551462491, 0.1363584235117183, 0.04355447562570508, 0.12423436172567207, 0.30114837017062984, 0.10304668667414034, 0.06569182483730082, 0.05910244787474732, 0.11106477947060305, 0.09038222690008606, 0.2406131971431906, 0.11734691544651805, 0.13082269250385342, 0.09391774070907419, 0.11367263680239095, 0.03564577061081504, 0.14848638526538593, 0.03731505772938172, 0.0665276553028891, 0.08965511777389575, 0.16289153722477706, 0.08289438566672583, 0.13313039576799898, 0.12261709833746727, 0.04483330895260039, 0.2936174105798672, 0.25569467360414305, 0.08211768618375039, 0.1477387712596952, 0.09937610078883337, 0.04767816469658628, 0.02500458288660038, 0.09080904700301533, 0.12172469402802469, 0.2921080058643504, 0.13239936332620406, 0.024717084468949553, 0.05334451855134656, 0.09923975390527164, 0.16361631000878454, 0.09362710478738664, 0.11833410860686988, 0.11705167942335087, 0.08336728345081837, 0.06280620859105172, 0.1804430721819013, 0.11634710112869394, 0.06366252655340564, 0.07776623228098746, 0.16923859704147254, 0.15109634514282186, 0.0825484197975898, 0.08311554793518798, 0.15032530931465501, 0.07856564110354643, 0.23541754462287628, 0.08871244020006014, 0.06546936293506467, 0.2501711252292536, 0.22073877063020544, 0.06677487080879625, 0.16754844378098843, 0.1870880651377279, 0.056288109395955944, 0.0584695949053343, 0.041222485783356556, 0.3126564422532726, 0.18592034658051637, 0.16896852874600046, 0.20223174184891077, 0.05737991186080109, 0.19868781433634997, 0.08931928924186924, 0.21756366811850864, 0.2052555298436312, 0.22937980745107947, 0.1645261464515288, 0.24220894281851585, 0.11471841462448785, 0.1132967743392976, 0.5261991431705431, 0.4180848159951522, 0.0883716133878229, 0.06262926074511947, 0.05606008733632801, 0.333077036404362, 0.16238294606092074, 0.07607034332404157, 0.12243931676217243, 0.06388378273892034, 0.0528835382075165, 0.25990398770842227, 0.03413724055699974, 0.4031091100881357, 0.4270861013061607, 0.053118894652929564, 0.27855495035729655, 0.15873657985017678, 0.21689796529502664, 0.17137503059521725, 0.18980272236094753, 0.29096530388327047, 0.035436476966999066, 0.13280340823018771, 0.07060579592632321, 0.13011956149944234, 0.058954175819232554, 0.09347163296293554, 0.30584792686820583, 0.07529906931298676, 0.11344848020306807, 0.13986500912573993, 0.19538973396616685, 0.10419641104650933, 0.23757760501352293, 0.20691886721932595, 0.31674535963731754, 0.04176016205525136, 0.4690816648060212, 0.10076742716455275, 0.2160252736369185, 0.04115835786943751, 0.11642169410076332, 0.11906154773415069, 0.11771237715484693, 0.07353633366854634, 0.08124093007275872, 0.1631078718577586, 0.1737913918164858, 0.11150705822042196, 0.3091660621983661, 0.038818732920112904, 0.08471513770275386, 0.047013545826032156, 0.07887364922776176, 0.04185421659486754, 0.22694421052302538, 0.1982664273680336, 0.27252984300571836, 0.3342686057174651, 0.1656492086336141, 0.10485431552062305, 0.21693265602283063, 0.07588865159827701, 0.21488915615064327, 0.13383144898233273, 0.04946139025887961, 0.2939289465655845, 0.1281309867932683, 0.09823392432027112, 0.05427465035942518, 0.0756889476120185, 0.212568719459458, 0.43509074094996236, 0.17142014552116655, 0.19267397127125133, 0.33449898860541444, 0.06898228018388364, 0.03625405463280575, 0.21252621420694395, 0.38736815547048997, 0.0612353187002952, 0.10632352758039679, 0.2737946179809908, 0.033922834588103294, 0.30628378632644004, 0.04498030890174835, 0.04563224070917459, 0.324851434913857, 0.19914552183996964, 0.39980733638113414, 0.4333490194132735, 0.05064284144323744, 0.10580425831543479, 0.12473199387201732, 0.140888219028199, 0.24052644161586845, 0.06405672238338236, 0.18226498026890792, 0.3566518637685083, 0.1281824751456305, 0.11124410930304135, 0.08205426694791866, 0.15606808558091956, 0.09558815778710646, 0.3834303332002671, 0.12874561982687183, 0.21551492685992982, 0.32377481045063383, 0.09953148408554276, 0.035724648135920856, 0.05222008708081487, 0.12048091972950645, 0.3392122535889752, 0.151190161124885, 0.11839801397604077, 0.19904828615950615, 0.1005855932512724, 0.08778714470511506, 0.21858618722339737, 0.1293557722941472, 0.2131765863620661, 0.05747799607366566, 0.05714600257943235, 0.12436530844523684, 0.3030118425426129, 0.4604005931365362, 0.271439274932362, 0.14771925006578618, 0.06044495841351973, 0.05882675848514557, 0.08921599856844682, 0.04751153136862071, 0.19280255775952868, 0.37765626563998567, 0.2362477547393131, 0.09647667311427205, 0.18862837436763696, 0.19406042756773986, 0.20676352939078915, 0.21390146310699218, 0.15500268464278502, 0.13737516691523793, 0.34068365784664406, 0.04158601441809465, 0.07096072950050476, 0.1263827818933858, 0.4038256918870688, 0.1391574208313893, 0.058821273453033396, 0.16473054195430412, 0.5287608965670924, 0.07242746384071387, 0.3110570325876926, 0.18142313423320702, 0.14728975699680436, 0.1977337406639941, 0.2845886994907244, 0.0598395776181323, 0.13699797514694498, 0.0758590743596289, 0.2881752943983919, 0.26557925435445917, 0.1279149158403845, 0.28180101985448874, 0.07134399859364643, 0.16255283512639432, 0.21364375830744492, 0.06628019238764775, 0.05187513737435598, 0.05531940810022901, 0.4391631149696372, 0.2650415080961085, 0.1429439322038452, 0.12759788434961375, 0.24632733040022384, 0.3496399969659679, 0.07520486624263464, 0.16109828821209396, 0.04174638868325185, 0.13333502567183098, 0.08304826675372562, 0.15746772412470125, 0.27371412386050575, 0.26335116886856974, 0.19890643298743746, 0.1600489951613083, 0.05543680209950624, 0.06642453998909535, 0.07902076220549091, 0.08149575253116931, 0.27577723686524536, 0.0772205321181592, 0.018516348705772078, 0.16155211023116128, 0.09073325023635806, 0.28358308345938893, 0.8038615214147715, 0.3445828331955109, 0.06270851412913962, 0.11761484574551563, 0.07809364709483987, 0.072349889435792, 0.06492076780481759, 0.11320522895783987, 0.23139806899898446, 0.1125674976068062, 0.04514242084942444, 0.051604461563150655, 0.04645650444724185, 0.2446190572817523, 0.041758126901743235, 0.15869838146444548, 0.224240162263149, 0.0685269279306952, 0.17367779268652048, 0.06104339330911594, 0.23377047556245936, 0.23323431519526508, 0.2539527496267464, 0.05172367869911008, 0.1805536853197262, 0.055094770862125574, 0.13354075616926384, 0.04198005702780802, 0.17914542960336613, 0.16360986488214613, 0.044054244452140935, 0.067156414061287, 0.29710679823494157, 0.15441958849946458, 0.10840395402698459, 0.05414875389869966, 0.06477473473255417, 0.3221927880519219, 0.0704921031075146, 0.08228858619884284, 0.05189666478944249, 0.16283857771197924, 0.1986989215395785, 0.08310715589799962, 0.17544625609017783, 0.04630611662618494, 0.09247673002276355, 0.0587112353788039, 0.12837703588550312, 0.06865247093263371, 0.1673432222726717, 0.2072861010773411, 0.3542792052410176, 0.2845121375845758, 0.09388257689723815, 0.10410807180917023, 0.04401471930848703, 0.06024231797062015, 0.04534504683856769, 0.07140852096215763, 0.06191889319112732, 0.10575495861423743, 0.14954948377373073, 0.08491570075428556, 0.06306524851782755, 0.05755096063148467, 0.3852530613960584, 0.04645573862058967, 0.07983337778249644, 0.10074792449537487, 0.36299951153248666, 0.3468936228067057, 0.06134748505942925, 0.049591885143029715, 0.26210856085842643, 0.07306527398505419, 0.23464452167835712, 0.16389597625482366, 0.05037167733629381, 0.09520836590781279, 0.04387958758545668, 0.1303607117137347, 0.1466656311132802, 0.07026344476429604, 0.0317352681403191, 0.0667747979470412, 0.040460928151546525, 0.05678341160978941, 0.19078911158942538, 0.1094420314591048, 0.06769550411951007, 0.07406702084153487, 0.1556774796961001, 0.14681297107933464, 0.1573795181075, 0.2849617410227717, 0.6055649671435079, 0.10680097261902916, 0.04328249201598906, 0.13442965658701375, 0.11138963749624993, 0.044184761321402255, 0.13998258130351285, 0.19911091741513415, 0.13641916768368495, 0.056627849008625386, 0.18843813430931627, 0.1915353916555475, 0.25697752140154084, 0.28902925031126636, 0.26153155994313804, 0.14280054558590094, 0.33462238841653275, 0.3401217831504198, 0.13804481837971466, 0.11433157756915284, 0.26662911876242124, 0.2557825477164053, 0.15515133206433165, 0.2320990127731857, 0.18686254594595514, 0.08391987893027886, 0.06742977931950722, 0.1344160978330988, 0.11218809400730413, 0.11366968153353872, 0.050909932994153216, 0.04772215022966284, 0.08673608381088346, 0.03377918350471317, 0.07052495280249559, 0.1337097908457065, 0.058155595448901566, 0.24632268895641113, 0.23278720601483457, 0.05694764179116628, 0.09492314801205985, 0.25909716042219133, 0.10897386717785275, 0.2726470872852627, 0.2929538126329953, 0.055046824357321764, 0.14803315460796884, 0.11024506559416485, 0.058169345320865026, 0.1411158904165872, 0.17212912936449462, 0.3566301678838802, 0.05125335610812804, 0.19437151619439055, 0.03815558819598344, 0.02338970495196154, 0.06921833608379842, 0.04963734286091242, 0.09125429327129567, 0.2668964591448391, 0.12100505051089364, 0.20444283919233186, 0.14218689448826127, 0.03366444523650707, 0.22866739505584135, 0.2665036789070895, 0.20433793196609, 0.3626732316468869, 0.3365641383055103, 0.1291467588784334, 0.24420973100530705, 0.06224436234351621, 0.25925105925081193, 0.18066591080553052, 0.042869610826081164, 0.277888490354411, 0.11745614184939235, 0.3069894397710721, 0.05877507635251244, 0.20190964400673814, 0.03974811731229259, 0.0514210394797873, 0.10220930310332033, 0.10528777398255669, 0.02891279712837453, 0.11555804526246426, 0.32036279360524406, 0.043558348201755914, 0.13026059067947815, 0.03557635490332352, 0.15736989839821736, 0.2739298290971763, 0.12457507088882121, 0.14994938127268498, 0.31013323547296817, 0.18065081808671113, 0.08094121962370691, 0.04127006611629801, 0.18533207473524252, 0.6398534244967763, 0.09077468009780619, 0.19363940166617935, 0.29220301105493934, 0.051267089268577766, 0.08649839442765422, 0.07538460924841554, 0.08617942332076892, 0.15564038171840874, 0.13340567432322448, 0.37289090997219304, 0.07515558697054048, 0.09659182162553122, 0.14755735231338138, 0.11922014837079119, 0.052750754818835295, 0.1386257854841776, 0.06718304015370043, 0.17128035885178583, 0.13560056134275192, 0.03889059965478073, 0.11514733682121517, 0.20973920304905297, 0.05756653550883445, 0.41736768692797394, 0.23107275413576148, 0.06130213756703133, 0.03515631200847042, 0.25580997915505904, 0.1544346672173971, 0.08691803285956806, 0.20324520409020852, 0.06050453303345158, 0.18820324044090153, 0.07211258713717665, 0.05838823523607547, 0.3259936997740923, 0.045816112699651544, 0.10316982612079664, 0.098868054042027, 0.305798078474705, 0.24998616392001355, 0.12376347970508492, 0.24636100767391153, 0.12279708103489363, 0.07652068393398241, 0.072679547499394, 0.08236135095535703, 0.08804813169521977, 0.1420214287309181, 0.041497104746374434, 0.07138661615779736, 0.08981284012910569, 0.22121317426817777, 0.033023335824923394, 0.33435513129316796, 0.08730959959928676, 0.27069583780416434, 0.2155768940851426, 0.10585792001478608, 0.10435920540709515, 0.06550795094476479, 0.0662926675234557, 0.1472889488651961, 0.07909673646515812, 0.05325194244101286, 0.08875404344006936, 0.31403427536019524, 0.03131352196550136, 0.1900673605350931, 0.05018451473792142, 0.266607035200653, 0.08282101510189757, 0.14736175143160696, 0.11506188141299868, 0.2205833257825374, 0.2222136548920263, 0.10735448948721114, 0.4428107842795208, 0.08954856064848146, 0.2009268235862965, 0.034637829213985546, 0.447594320386854, 0.07186628556229505, 0.11778519413027853, 0.18629783771504316, 0.15874961646179614, 0.08848775066391552, 0.05771636502879731, 0.12071132601551983, 0.12857369242940625, 0.3515718545157558, 0.20816158528429732, 0.3113721492574297, 0.05632919768956523, 0.20171074001616934, 0.26568442499896644, 0.09083521652769137, 0.21709611753486707, 0.2793354261241109, 0.16143428032457877, 0.12914375423813856, 0.07285996557861796, 0.09340859621684837, 0.17132722128982822, 0.046695522669974045, 0.0713488597231097, 0.18057978097257307, 0.06011232593764133, 0.1696858727299623, 0.07557092690277621, 0.5877476592437977, 0.06729538726952553, 0.190978624383975, 0.21101375472296374, 0.10211231917294933, 0.027638851748847414, 0.09142852485965042, 0.16035388281058816, 0.05453122541693466, 0.2634049851117303, 0.10509900842135747, 0.10028185464572065, 0.21790060641030481, 0.07998945005256251, 0.03190199180354776, 0.365493786431265, 0.1677828251209762, 0.32549058812438536, 0.09134155422437226, 0.11791381124147458, 0.13649472373969593, 0.4604293016310312, 0.05518116393141284, 0.15053366710700739, 0.21181506257612148, 0.13991494857322032, 0.0626762651193319, 0.03652136122750426, 0.3290558260798675, 0.23151936605105022, 0.15274941080463988, 0.08368960699123923, 0.2627197171667834, 0.21969339638338925, 0.10777368312261003, 0.07733603680795494, 0.17851026703812475, 0.07596528389903369, 0.06905667261693627, 0.09232951294163862, 0.04403537247134449, 0.142505961984767, 0.13949574196532552, 0.0585068768992794, 0.0943313878074918, 0.35043850976104923, 0.036587225338185786, 0.11864439760436049, 0.04105794862167385, 0.11745165764077203, 0.05902744559935992, 0.03834936541501325, 0.34635784943291265, 0.16779797079757466, 0.16391072645450477, 0.19519543010007442, 0.2491517527242597, 0.06928735631364451, 0.04747525280280555, 0.04136272609689686, 0.06896389939852594, 0.05675574834819965, 0.0408015795335108, 0.09262146708074621, 0.20514253649692585, 0.2104334098955591, 0.42998330972221793, 0.054411835953703074, 0.18544207395362491, 0.026333040999594347, 0.09699636488473992, 0.1411642599163566, 0.13910963591099246, 0.35350682724557014, 0.039501815195914954, 0.05061992579782035, 0.09846476381201333, 0.14925103365616113, 0.12051967103504527, 0.38921052713340243, 0.11879783319438628, 0.2957133970496012, 0.02187471000911258, 0.21910637354821805, 0.31254478737975444, 0.10907655936640838, 0.12881361160521598, 0.06468923849915714, 0.23880631332991137, 0.07396136731509605, 0.13742192104842257, 0.09958993902040825, 0.15325883964722312, 0.09922781024902488, 0.11284152240926407, 0.06719568325777253, 0.039940843415152305, 0.05388114378888915, 0.04850126054477417, 0.7552220189329142, 0.033805767383816944, 0.06693192987187561, 0.2202286636569294, 0.09438422433502287, 0.04875236392012464, 0.13302718722367096, 0.30274801446641053, 0.23764014556992297, 0.26213292515460507, 0.14052023497664723, 0.1035153735618524, 0.11054397831077399, 0.0579182268190012, 0.05350274752998088, 0.15004216149190747, 0.02675087653588271, 0.3350903838023746, 0.20840745667832414, 0.18913938885967357, 0.07691742377930821, 0.1185362983814415, 0.27435846461146807, 0.25312368381147027, 0.08716646648923554, 0.09115258202572524, 0.26663731512811506, 0.25195926128185, 0.06566789994372747, 0.08191690962769747, 0.2537004843077758, 0.12196185903346024, 0.058886627048870294, 0.5120043544630658, 0.21592108670175214, 0.13923396188775605, 0.30361561299904555, 0.14715066001343, 0.20893938265568554, 0.05873231630008618, 0.19438096570297858, 0.1563409997498688, 0.12171655687187564, 0.18429031665591716, 0.165714260603464, 0.21489611233320371, 0.19129091701943532, 0.04340957573761344, 0.07726970183419887, 0.14527813942574153, 0.13329919243128743, 0.09696303521090435, 0.09260161480139502, 0.04309012883316724, 0.19951792855967834, 0.0971495014343023, 0.02126912688583915, 0.03170944593764326, 0.11934172873471631, 0.2820731376073965, 0.17977527017512854, 0.23264263424477896, 0.23999122359790256, 0.15292524603806912, 0.2950761724635159, 0.15858502938014454, 0.037782323015351525, 0.12146583047117354, 0.07373642083923654, 0.09467399993979755, 0.3328248139183536, 0.177664805221761, 0.4448930123333791, 0.3059882682561018, 0.08144996995965936, 0.10570434643966481, 0.032311187731094745, 0.03167204225295267, 0.13492659950353256, 0.0950764482432871, 0.07492126238435017, 0.23813181079370246, 0.34346947682685014, 0.22906332800568974, 0.29174395974272505, 0.1986240488924856, 0.1285136581859957, 0.05627885163897691, 0.21899185180924274, 0.27182332387419145, 0.4461171821854069, 0.32793988280052583, 0.07924302398742247, 0.13428579098350218, 0.11230009872626606, 0.05086384806765538, 0.03493841636989933, 0.11626336123355575, 0.03994685692000978, 0.034223098285099764, 0.08587311555478462, 0.14709816161887435, 0.3886323369307998, 0.41604160252494143, 0.08505314130698267, 0.09716414744794333, 0.1312145335267205, 0.1518403912294932, 0.28761605707229687, 0.18139699658808275, 0.18590953238258467, 0.07488882485237093, 0.08186658622145772, 0.060809209400404254, 0.06825326413333438, 0.10412667923879337, 0.1079946848082942, 0.18809566279907958, 0.2293153360656675, 0.16913836614035352, 0.22754583431656158, 0.17019511994371986, 0.26988424194920707, 0.28088395327779253, 0.05530326412360426, 0.1807100123146896, 0.1962128501628729, 0.16334436555817117, 0.1641456285744748, 0.12650759801955402, 0.04602097834603847, 0.14121523004366127, 0.11658829879651553, 0.15529046641715055, 0.1101225926625058, 0.22207346727971863, 0.27063202461854874, 0.041203829374339425, 0.154538053424499, 0.16955350906356137, 0.03837206170103971, 0.0254981745823289, 0.1295569712234259, 0.10631383689352683, 0.0715825364631498, 0.07785835125648806, 0.0835117290562737, 0.429856451313625, 0.044926883546475, 0.17589825700256054, 0.14101537827287178, 0.05907184726225361, 0.09638021113891301, 0.23768226215090033, 0.2061517887809508, 0.49394213337628107, 0.0922630819607321, 0.1356209818780179, 0.06081126015917046, 0.05637677252081777, 0.2262727063473447, 0.09962827336142487, 0.08245693793377971, 0.04385120814234221, 0.2512723104564489, 0.054552099967816126, 0.06386106010979498, 0.1200412358306735, 0.14634790705019282, 0.1029062138345643, 0.05536004397709572, 0.22552858347709864, 0.19198858531575647, 0.07647733854885445, 0.23956249252386536, 0.04440649729587923, 0.025198355978011545, 0.047398749139928247, 0.15540931779440906, 0.07498291709231349, 0.05359817056148354, 0.03615462220128978, 0.20513000027584558, 0.12868101953610966, 0.025990872104364734, 0.4470078513471168, 0.29131227447546143]}],\n",
              "                        {\"template\": {\"data\": {\"bar\": [{\"error_x\": {\"color\": \"#2a3f5f\"}, \"error_y\": {\"color\": \"#2a3f5f\"}, \"marker\": {\"line\": {\"color\": \"#E5ECF6\", \"width\": 0.5}}, \"type\": \"bar\"}], \"barpolar\": [{\"marker\": {\"line\": {\"color\": \"#E5ECF6\", \"width\": 0.5}}, \"type\": \"barpolar\"}], \"carpet\": [{\"aaxis\": {\"endlinecolor\": \"#2a3f5f\", \"gridcolor\": \"white\", \"linecolor\": \"white\", \"minorgridcolor\": \"white\", \"startlinecolor\": \"#2a3f5f\"}, \"baxis\": {\"endlinecolor\": \"#2a3f5f\", \"gridcolor\": \"white\", \"linecolor\": \"white\", \"minorgridcolor\": \"white\", \"startlinecolor\": \"#2a3f5f\"}, \"type\": \"carpet\"}], \"choropleth\": [{\"colorbar\": {\"outlinewidth\": 0, \"ticks\": \"\"}, \"type\": \"choropleth\"}], \"contour\": [{\"colorbar\": {\"outlinewidth\": 0, \"ticks\": \"\"}, \"colorscale\": [[0.0, \"#0d0887\"], [0.1111111111111111, \"#46039f\"], [0.2222222222222222, \"#7201a8\"], [0.3333333333333333, \"#9c179e\"], [0.4444444444444444, \"#bd3786\"], [0.5555555555555556, \"#d8576b\"], [0.6666666666666666, \"#ed7953\"], [0.7777777777777778, \"#fb9f3a\"], [0.8888888888888888, \"#fdca26\"], [1.0, \"#f0f921\"]], \"type\": \"contour\"}], \"contourcarpet\": [{\"colorbar\": {\"outlinewidth\": 0, \"ticks\": \"\"}, \"type\": \"contourcarpet\"}], \"heatmap\": [{\"colorbar\": {\"outlinewidth\": 0, \"ticks\": \"\"}, \"colorscale\": [[0.0, \"#0d0887\"], [0.1111111111111111, \"#46039f\"], [0.2222222222222222, \"#7201a8\"], [0.3333333333333333, \"#9c179e\"], [0.4444444444444444, \"#bd3786\"], [0.5555555555555556, \"#d8576b\"], [0.6666666666666666, \"#ed7953\"], [0.7777777777777778, \"#fb9f3a\"], [0.8888888888888888, \"#fdca26\"], [1.0, \"#f0f921\"]], \"type\": \"heatmap\"}], \"heatmapgl\": [{\"colorbar\": {\"outlinewidth\": 0, \"ticks\": \"\"}, \"colorscale\": [[0.0, \"#0d0887\"], [0.1111111111111111, \"#46039f\"], [0.2222222222222222, \"#7201a8\"], [0.3333333333333333, \"#9c179e\"], [0.4444444444444444, \"#bd3786\"], [0.5555555555555556, \"#d8576b\"], [0.6666666666666666, \"#ed7953\"], [0.7777777777777778, \"#fb9f3a\"], [0.8888888888888888, \"#fdca26\"], [1.0, \"#f0f921\"]], \"type\": \"heatmapgl\"}], \"histogram\": [{\"marker\": {\"colorbar\": {\"outlinewidth\": 0, \"ticks\": \"\"}}, \"type\": \"histogram\"}], \"histogram2d\": [{\"colorbar\": {\"outlinewidth\": 0, \"ticks\": \"\"}, \"colorscale\": [[0.0, \"#0d0887\"], [0.1111111111111111, \"#46039f\"], [0.2222222222222222, \"#7201a8\"], [0.3333333333333333, \"#9c179e\"], [0.4444444444444444, \"#bd3786\"], [0.5555555555555556, \"#d8576b\"], [0.6666666666666666, \"#ed7953\"], [0.7777777777777778, \"#fb9f3a\"], [0.8888888888888888, \"#fdca26\"], [1.0, \"#f0f921\"]], \"type\": \"histogram2d\"}], \"histogram2dcontour\": [{\"colorbar\": {\"outlinewidth\": 0, \"ticks\": \"\"}, \"colorscale\": [[0.0, \"#0d0887\"], [0.1111111111111111, \"#46039f\"], [0.2222222222222222, \"#7201a8\"], [0.3333333333333333, \"#9c179e\"], [0.4444444444444444, \"#bd3786\"], [0.5555555555555556, \"#d8576b\"], [0.6666666666666666, \"#ed7953\"], [0.7777777777777778, \"#fb9f3a\"], [0.8888888888888888, \"#fdca26\"], [1.0, \"#f0f921\"]], \"type\": \"histogram2dcontour\"}], \"mesh3d\": [{\"colorbar\": {\"outlinewidth\": 0, \"ticks\": \"\"}, \"type\": \"mesh3d\"}], \"parcoords\": [{\"line\": {\"colorbar\": {\"outlinewidth\": 0, \"ticks\": \"\"}}, \"type\": \"parcoords\"}], \"pie\": [{\"automargin\": true, \"type\": \"pie\"}], \"scatter\": [{\"marker\": {\"colorbar\": {\"outlinewidth\": 0, \"ticks\": \"\"}}, \"type\": \"scatter\"}], \"scatter3d\": [{\"line\": {\"colorbar\": {\"outlinewidth\": 0, \"ticks\": \"\"}}, \"marker\": {\"colorbar\": {\"outlinewidth\": 0, \"ticks\": \"\"}}, \"type\": \"scatter3d\"}], \"scattercarpet\": [{\"marker\": {\"colorbar\": {\"outlinewidth\": 0, \"ticks\": \"\"}}, \"type\": \"scattercarpet\"}], \"scattergeo\": [{\"marker\": {\"colorbar\": {\"outlinewidth\": 0, \"ticks\": \"\"}}, \"type\": \"scattergeo\"}], \"scattergl\": [{\"marker\": {\"colorbar\": {\"outlinewidth\": 0, \"ticks\": \"\"}}, \"type\": \"scattergl\"}], \"scattermapbox\": [{\"marker\": {\"colorbar\": {\"outlinewidth\": 0, \"ticks\": \"\"}}, \"type\": \"scattermapbox\"}], \"scatterpolar\": [{\"marker\": {\"colorbar\": {\"outlinewidth\": 0, \"ticks\": \"\"}}, \"type\": \"scatterpolar\"}], \"scatterpolargl\": [{\"marker\": {\"colorbar\": {\"outlinewidth\": 0, \"ticks\": \"\"}}, \"type\": \"scatterpolargl\"}], \"scatterternary\": [{\"marker\": {\"colorbar\": {\"outlinewidth\": 0, \"ticks\": \"\"}}, \"type\": \"scatterternary\"}], \"surface\": [{\"colorbar\": {\"outlinewidth\": 0, \"ticks\": \"\"}, \"colorscale\": [[0.0, \"#0d0887\"], [0.1111111111111111, \"#46039f\"], [0.2222222222222222, \"#7201a8\"], [0.3333333333333333, \"#9c179e\"], [0.4444444444444444, \"#bd3786\"], [0.5555555555555556, \"#d8576b\"], [0.6666666666666666, \"#ed7953\"], [0.7777777777777778, \"#fb9f3a\"], [0.8888888888888888, \"#fdca26\"], [1.0, \"#f0f921\"]], \"type\": \"surface\"}], \"table\": [{\"cells\": {\"fill\": {\"color\": \"#EBF0F8\"}, \"line\": {\"color\": \"white\"}}, \"header\": {\"fill\": {\"color\": \"#C8D4E3\"}, \"line\": {\"color\": \"white\"}}, \"type\": \"table\"}]}, \"layout\": {\"annotationdefaults\": {\"arrowcolor\": \"#2a3f5f\", \"arrowhead\": 0, \"arrowwidth\": 1}, \"coloraxis\": {\"colorbar\": {\"outlinewidth\": 0, \"ticks\": \"\"}}, \"colorscale\": {\"diverging\": [[0, \"#8e0152\"], [0.1, \"#c51b7d\"], [0.2, \"#de77ae\"], [0.3, \"#f1b6da\"], [0.4, \"#fde0ef\"], [0.5, \"#f7f7f7\"], [0.6, \"#e6f5d0\"], [0.7, \"#b8e186\"], [0.8, \"#7fbc41\"], [0.9, \"#4d9221\"], [1, \"#276419\"]], \"sequential\": [[0.0, \"#0d0887\"], [0.1111111111111111, \"#46039f\"], [0.2222222222222222, \"#7201a8\"], [0.3333333333333333, \"#9c179e\"], [0.4444444444444444, \"#bd3786\"], [0.5555555555555556, \"#d8576b\"], [0.6666666666666666, \"#ed7953\"], [0.7777777777777778, \"#fb9f3a\"], [0.8888888888888888, \"#fdca26\"], [1.0, \"#f0f921\"]], \"sequentialminus\": [[0.0, \"#0d0887\"], [0.1111111111111111, \"#46039f\"], [0.2222222222222222, \"#7201a8\"], [0.3333333333333333, \"#9c179e\"], [0.4444444444444444, \"#bd3786\"], [0.5555555555555556, \"#d8576b\"], [0.6666666666666666, \"#ed7953\"], [0.7777777777777778, \"#fb9f3a\"], [0.8888888888888888, \"#fdca26\"], [1.0, \"#f0f921\"]]}, \"colorway\": [\"#636efa\", \"#EF553B\", \"#00cc96\", \"#ab63fa\", \"#FFA15A\", \"#19d3f3\", \"#FF6692\", \"#B6E880\", \"#FF97FF\", \"#FECB52\"], \"font\": {\"color\": \"#2a3f5f\"}, \"geo\": {\"bgcolor\": \"white\", \"lakecolor\": \"white\", \"landcolor\": \"#E5ECF6\", \"showlakes\": true, \"showland\": true, \"subunitcolor\": \"white\"}, \"hoverlabel\": {\"align\": \"left\"}, \"hovermode\": \"closest\", \"mapbox\": {\"style\": \"light\"}, \"paper_bgcolor\": \"white\", \"plot_bgcolor\": \"#E5ECF6\", \"polar\": {\"angularaxis\": {\"gridcolor\": \"white\", \"linecolor\": \"white\", \"ticks\": \"\"}, \"bgcolor\": \"#E5ECF6\", \"radialaxis\": {\"gridcolor\": \"white\", \"linecolor\": \"white\", \"ticks\": \"\"}}, \"scene\": {\"xaxis\": {\"backgroundcolor\": \"#E5ECF6\", \"gridcolor\": \"white\", \"gridwidth\": 2, \"linecolor\": \"white\", \"showbackground\": true, \"ticks\": \"\", \"zerolinecolor\": \"white\"}, \"yaxis\": {\"backgroundcolor\": \"#E5ECF6\", \"gridcolor\": \"white\", \"gridwidth\": 2, \"linecolor\": \"white\", \"showbackground\": true, \"ticks\": \"\", \"zerolinecolor\": \"white\"}, \"zaxis\": {\"backgroundcolor\": \"#E5ECF6\", \"gridcolor\": \"white\", \"gridwidth\": 2, \"linecolor\": \"white\", \"showbackground\": true, \"ticks\": \"\", \"zerolinecolor\": \"white\"}}, \"shapedefaults\": {\"line\": {\"color\": \"#2a3f5f\"}}, \"ternary\": {\"aaxis\": {\"gridcolor\": \"white\", \"linecolor\": \"white\", \"ticks\": \"\"}, \"baxis\": {\"gridcolor\": \"white\", \"linecolor\": \"white\", \"ticks\": \"\"}, \"bgcolor\": \"#E5ECF6\", \"caxis\": {\"gridcolor\": \"white\", \"linecolor\": \"white\", \"ticks\": \"\"}}, \"title\": {\"x\": 0.05}, \"xaxis\": {\"automargin\": true, \"gridcolor\": \"white\", \"linecolor\": \"white\", \"ticks\": \"\", \"title\": {\"standoff\": 15}, \"zerolinecolor\": \"white\", \"zerolinewidth\": 2}, \"yaxis\": {\"automargin\": true, \"gridcolor\": \"white\", \"linecolor\": \"white\", \"ticks\": \"\", \"title\": {\"standoff\": 15}, \"zerolinecolor\": \"white\", \"zerolinewidth\": 2}}}},\n",
              "                        {\"responsive\": true}\n",
              "                    ).then(function(){\n",
              "                            \n",
              "var gd = document.getElementById('b1be805a-4341-4d1e-8fd5-6800e39866ce');\n",
              "var x = new MutationObserver(function (mutations, observer) {{\n",
              "        var display = window.getComputedStyle(gd).display;\n",
              "        if (!display || display === 'none') {{\n",
              "            console.log([gd, 'removed!']);\n",
              "            Plotly.purge(gd);\n",
              "            observer.disconnect();\n",
              "        }}\n",
              "}});\n",
              "\n",
              "// Listen for the removal of the full notebook cells\n",
              "var notebookContainer = gd.closest('#notebook-container');\n",
              "if (notebookContainer) {{\n",
              "    x.observe(notebookContainer, {childList: true});\n",
              "}}\n",
              "\n",
              "// Listen for the clearing of the current output cell\n",
              "var outputEl = gd.closest('.output');\n",
              "if (outputEl) {{\n",
              "    x.observe(outputEl, {childList: true});\n",
              "}}\n",
              "\n",
              "                        })\n",
              "                };\n",
              "                \n",
              "            </script>\n",
              "        </div>\n",
              "</body>\n",
              "</html>"
            ]
          },
          "metadata": {
            "tags": []
          }
        }
      ]
    },
    {
      "cell_type": "code",
      "metadata": {
        "id": "Iv7ECDBm5iOS"
      },
      "source": [
        "from sklearn.preprocessing import binarize\n",
        "y_pred_02 = binarize(X=[y_pred_prob], threshold=0.2)[0]\n",
        "y_pred_02 = pd.Series(y_pred_02)"
      ],
      "execution_count": null,
      "outputs": []
    },
    {
      "cell_type": "code",
      "metadata": {
        "colab": {
          "base_uri": "https://localhost:8080/"
        },
        "id": "tOxEMdrOe6Yx",
        "outputId": "994d20fb-f866-45b9-aef9-f81795f2272b"
      },
      "source": [
        "from sklearn.metrics import classification_report\n",
        "\n",
        "print(classification_report(y_chi_test,y_test_pred))\n",
        "print('-----------------------------------------------------------------------')\n",
        "print(classification_report(y_chi_test,y_pred_02))"
      ],
      "execution_count": null,
      "outputs": [
        {
          "output_type": "stream",
          "text": [
            "              precision    recall  f1-score   support\n",
            "\n",
            "           0       0.87      1.00      0.93       946\n",
            "           1       0.69      0.06      0.11       152\n",
            "\n",
            "    accuracy                           0.87      1098\n",
            "   macro avg       0.78      0.53      0.52      1098\n",
            "weighted avg       0.84      0.87      0.81      1098\n",
            "\n",
            "-----------------------------------------------------------------------\n",
            "              precision    recall  f1-score   support\n",
            "\n",
            "           0       0.90      0.77      0.83       946\n",
            "           1       0.25      0.48      0.33       152\n",
            "\n",
            "    accuracy                           0.73      1098\n",
            "   macro avg       0.58      0.63      0.58      1098\n",
            "weighted avg       0.81      0.73      0.76      1098\n",
            "\n"
          ],
          "name": "stdout"
        }
      ]
    },
    {
      "cell_type": "markdown",
      "metadata": {
        "id": "9LwWYKb6fLZ7"
      },
      "source": [
        "21. Calculate the AUC and draw its graph using the origonal predictions\n",
        "\n"
      ]
    },
    {
      "cell_type": "code",
      "metadata": {
        "id": "s-v9H2HsgUhd"
      },
      "source": [
        "fp_rate, tp_rate, thresholds = metrics.roc_curve(y_chi_test, y_pred_prob)"
      ],
      "execution_count": null,
      "outputs": []
    },
    {
      "cell_type": "code",
      "metadata": {
        "id": "18OaN9385pax",
        "colab": {
          "base_uri": "https://localhost:8080/",
          "height": 542
        },
        "outputId": "a527f63b-e509-46ab-f502-9ed0881b16c9"
      },
      "source": [
        "fig=go.Figure()\n",
        "trace=go.Scatter(x=fp_rate, y=tp_rate, mode='lines', hoverinfo='x+y+text', text=thresholds)\n",
        "fig.add_trace(trace)\n",
        "fig.update_layout(\n",
        "    title=\"ROC curve for diabetes classifier\",\n",
        "    xaxis_title=\"False Positive Rate (1 - Specificity)\",\n",
        "    yaxis_title=\"True Positive Rate (Sensitivity/Recall)\",\n",
        "    \n",
        ")\n",
        "fig.show()"
      ],
      "execution_count": null,
      "outputs": [
        {
          "output_type": "display_data",
          "data": {
            "text/html": [
              "<html>\n",
              "<head><meta charset=\"utf-8\" /></head>\n",
              "<body>\n",
              "    <div>\n",
              "            <script src=\"https://cdnjs.cloudflare.com/ajax/libs/mathjax/2.7.5/MathJax.js?config=TeX-AMS-MML_SVG\"></script><script type=\"text/javascript\">if (window.MathJax) {MathJax.Hub.Config({SVG: {font: \"STIX-Web\"}});}</script>\n",
              "                <script type=\"text/javascript\">window.PlotlyConfig = {MathJaxConfig: 'local'};</script>\n",
              "        <script src=\"https://cdn.plot.ly/plotly-latest.min.js\"></script>    \n",
              "            <div id=\"d90fa40d-f9ef-4c32-9155-f4e35619cc97\" class=\"plotly-graph-div\" style=\"height:525px; width:100%;\"></div>\n",
              "            <script type=\"text/javascript\">\n",
              "                \n",
              "                    window.PLOTLYENV=window.PLOTLYENV || {};\n",
              "                    \n",
              "                if (document.getElementById(\"d90fa40d-f9ef-4c32-9155-f4e35619cc97\")) {\n",
              "                    Plotly.newPlot(\n",
              "                        'd90fa40d-f9ef-4c32-9155-f4e35619cc97',\n",
              "                        [{\"hoverinfo\": \"x+y+text\", \"mode\": \"lines\", \"text\": [1.8038615214147715, 0.8038615214147715, 0.7645480182417296, 0.6398534244967763, 0.6110210326007387, 0.5985306313081573, 0.5287608965670924, 0.5120043544630658, 0.4690816648060212, 0.4604293016310312, 0.4461171821854069, 0.43509074094996236, 0.4270861013061607, 0.41736768692797394, 0.4028511808852282, 0.39980733638113414, 0.365493786431265, 0.36474321248831254, 0.3542792052410176, 0.35350682724557014, 0.3496399969659679, 0.3468936228067057, 0.3401217831504198, 0.33994256490963226, 0.3365641383055103, 0.3350903838023746, 0.333077036404362, 0.3328248139183536, 0.32987605965521044, 0.3290558260798675, 0.31674535963731754, 0.31254478737975444, 0.3113721492574297, 0.3110570325876926, 0.3091660621983661, 0.30628378632644004, 0.305798078474705, 0.30361561299904555, 0.29797088579603703, 0.29710679823494157, 0.2939289465655845, 0.29335576738610075, 0.29220301105493934, 0.2921080058643504, 0.2881752943983919, 0.28761605707229687, 0.28358308345938893, 0.2820731376073965, 0.28180101985448874, 0.28088395327779253, 0.27855495035729655, 0.2749508270399871, 0.27435846461146807, 0.27432197997454705, 0.2665036789070895, 0.26568442499896644, 0.26213292515460507, 0.25925105925081193, 0.25909716042219133, 0.25697752140154084, 0.25128077160547546, 0.2512723104564489, 0.24998616392001355, 0.2491517527242597, 0.247005730765536, 0.24636100767391153, 0.24232424776630038, 0.24220894281851585, 0.23956249252386536, 0.23898199765518596, 0.23757760501352293, 0.2362477547393131, 0.23464452167835712, 0.23379434945998126, 0.23151936605105022, 0.23107275413576148, 0.22937980745107947, 0.2293153360656675, 0.2262727063473447, 0.22552858347709864, 0.2238971315150619, 0.22303677397273786, 0.22121317426817777, 0.2205833257825374, 0.22032749250381076, 0.2202286636569294, 0.21858618722339737, 0.21790060641030481, 0.21689796529502664, 0.2160252736369185, 0.21364375830744492, 0.2131765863620661, 0.21304805367279392, 0.212568719459458, 0.21101375472296374, 0.2104334098955591, 0.20893938265568554, 0.20840745667832414, 0.20730707022857095, 0.2072861010773411, 0.20691886721932595, 0.20676352939078915, 0.19538973396616685, 0.19519543010007442, 0.19438096570297858, 0.19406042756773986, 0.19363940166617935, 0.19280255775952868, 0.1922768101846121, 0.19198858531575647, 0.1915353916555475, 0.19129091701943532, 0.19062099392376203, 0.1900673605350931, 0.18980272236094753, 0.18913938885967357, 0.18809566279907958, 0.1877536349001501, 0.18544207395362491, 0.18533207473524252, 0.1852260373502852, 0.18429031665591716, 0.18226498026890792, 0.1820955760021153, 0.18139699658808275, 0.18076090154361535, 0.17914542960336613, 0.17851026703812475, 0.1737913918164858, 0.17346161480578795, 0.16923859704147254, 0.16913836614035352, 0.16896852874600046, 0.16779797079757466, 0.1673432222726717, 0.16711302930079214, 0.16576126168777391, 0.165714260603464, 0.16296957181842497, 0.16283857771197924, 0.16155211023116128, 0.16143428032457877, 0.15874961646179614, 0.15873657985017678, 0.1573795181075, 0.15736989839821736, 0.15564038171840874, 0.15540931779440906, 0.15500268464278502, 0.154538053424499, 0.1544346672173971, 0.15441958849946458, 0.15325883964722312, 0.15274941080463988, 0.15053366710700739, 0.15032530931465501, 0.14954948377373073, 0.14925103365616113, 0.1487437641746275, 0.14803315460796884, 0.14736175143160696, 0.14728975699680436, 0.1472889488651961, 0.14715066001343, 0.14634790705019282, 0.14527813942574153, 0.14351626801690825, 0.1429439322038452, 0.14101537827287178, 0.140888219028199, 0.14052023497664723, 0.13998258130351285, 0.13949574196532552, 0.13923396188775605, 0.13742192104842257, 0.13737516691523793, 0.13340567432322448, 0.13333502567183098, 0.13026059067947815, 0.13011956149944234, 0.12952305236105383, 0.1293557722941472, 0.1291467588784334, 0.12914375423813856, 0.1281309867932683, 0.1279149158403845, 0.12146583047117354, 0.12100505051089364, 0.11888289591158906, 0.11879783319438628, 0.11792762886771105, 0.11791381124147458, 0.11647815775062353, 0.11642169410076332, 0.11458967151256207, 0.11433157756915284, 0.10907655936640838, 0.10897386717785275, 0.10840395402698459, 0.1081542338362188, 0.1079946848082942, 0.10786607166663602, 0.10575495861423743, 0.10570434643966481, 0.09953148408554276, 0.09937610078883337, 0.09558815778710646, 0.09520836590781279, 0.09347163296293554, 0.09340859621684837, 0.0898064952330523, 0.08965511777389575, 0.0883920131819154, 0.0883716133878229, 0.08491570075428556, 0.08391987893027886, 0.08282101510189757, 0.0825484197975898, 0.08228858619884284, 0.08211768618375039, 0.07373642083923654, 0.07350416287285608, 0.06642453998909535, 0.06641840915649774, 0.06366252655340564, 0.06280620859105172, 0.06270851412913962, 0.06269146558566285, 0.05771636502879731, 0.05756653550883445, 0.05427465035942518, 0.05414875389869966, 0.051604461563150655, 0.0514210394797873, 0.051267089268577766, 0.05125335610812804, 0.04105794862167385, 0.0408015795335108, 0.03889059965478073, 0.038818732920112904, 0.03493841636989933, 0.034637829213985546, 0.018516348705772078], \"type\": \"scatter\", \"x\": [0.0, 0.0, 0.0010570824524312897, 0.0010570824524312897, 0.0021141649048625794, 0.0021141649048625794, 0.004228329809725159, 0.004228329809725159, 0.008456659619450317, 0.008456659619450317, 0.012684989429175475, 0.012684989429175475, 0.016913319238900635, 0.016913319238900635, 0.022198731501057084, 0.022198731501057084, 0.03382663847780127, 0.03382663847780127, 0.040169133192389, 0.040169133192389, 0.04334038054968287, 0.04334038054968287, 0.049682875264270614, 0.049682875264270614, 0.05179704016913319, 0.05179704016913319, 0.05813953488372093, 0.05813953488372093, 0.05919661733615222, 0.05919661733615222, 0.06871035940803383, 0.06871035940803383, 0.06976744186046512, 0.06976744186046512, 0.07293868921775898, 0.07293868921775898, 0.07610993657505286, 0.07610993657505286, 0.08139534883720931, 0.08139534883720931, 0.08668076109936575, 0.08668076109936575, 0.08879492600422834, 0.08879492600422834, 0.09408033826638477, 0.09408033826638477, 0.09830866807610994, 0.09830866807610994, 0.09936575052854123, 0.09936575052854123, 0.1014799154334038, 0.1014799154334038, 0.10465116279069768, 0.10465116279069768, 0.12156448202959831, 0.12156448202959831, 0.12790697674418605, 0.12790697674418605, 0.12896405919661733, 0.12896405919661733, 0.13953488372093023, 0.13953488372093023, 0.1416490486257928, 0.1416490486257928, 0.1427061310782241, 0.1427061310782241, 0.14904862579281183, 0.14904862579281183, 0.15327695560253699, 0.15327695560253699, 0.15856236786469344, 0.15856236786469344, 0.16173361522198731, 0.16173361522198731, 0.16807610993657504, 0.16807610993657504, 0.16913319238900634, 0.16913319238900634, 0.1744186046511628, 0.1744186046511628, 0.17653276955602537, 0.17653276955602537, 0.18076109936575052, 0.18076109936575052, 0.18181818181818182, 0.18181818181818182, 0.18710359408033828, 0.18710359408033828, 0.19133192389006343, 0.19133192389006343, 0.19978858350951373, 0.19978858350951373, 0.20084566596194503, 0.20084566596194503, 0.2040169133192389, 0.2040169133192389, 0.20613107822410148, 0.20613107822410148, 0.20930232558139536, 0.20930232558139536, 0.21035940803382663, 0.21035940803382663, 0.24312896405919662, 0.24312896405919662, 0.2441860465116279, 0.2441860465116279, 0.2452431289640592, 0.2452431289640592, 0.24841437632135308, 0.24841437632135308, 0.24947145877378435, 0.24947145877378435, 0.2526427061310782, 0.2526427061310782, 0.2536997885835095, 0.2536997885835095, 0.25792811839323465, 0.25792811839323465, 0.266384778012685, 0.266384778012685, 0.26744186046511625, 0.26744186046511625, 0.26955602536997886, 0.26955602536997886, 0.27167019027484146, 0.27167019027484146, 0.2822410147991543, 0.2822410147991543, 0.2864693446088795, 0.2864693446088795, 0.2959830866807611, 0.2959830866807611, 0.29704016913319237, 0.29704016913319237, 0.3012684989429176, 0.3012684989429176, 0.3033826638477801, 0.3033826638477801, 0.31606765327695563, 0.31606765327695563, 0.321353065539112, 0.321353065539112, 0.3276955602536998, 0.3276955602536998, 0.33298097251585623, 0.33298097251585623, 0.339323467230444, 0.339323467230444, 0.34249471458773784, 0.34249471458773784, 0.34355179704016914, 0.34355179704016914, 0.3456659619450317, 0.3456659619450317, 0.3498942917547569, 0.3498942917547569, 0.35412262156448204, 0.35412262156448204, 0.3562367864693446, 0.3562367864693446, 0.36046511627906974, 0.36046511627906974, 0.36152219873150104, 0.36152219873150104, 0.3657505285412262, 0.3657505285412262, 0.3678646934460888, 0.3678646934460888, 0.3773784355179704, 0.3773784355179704, 0.379492600422833, 0.379492600422833, 0.38266384778012685, 0.38266384778012685, 0.3890063424947146, 0.3890063424947146, 0.4080338266384778, 0.4080338266384778, 0.4186046511627907, 0.4186046511627907, 0.42071881606765327, 0.42071881606765327, 0.42177589852008457, 0.42177589852008457, 0.43023255813953487, 0.43023255813953487, 0.4513742071881607, 0.4513742071881607, 0.4619450317124736, 0.4619450317124736, 0.4693446088794926, 0.4693446088794926, 0.4799154334038055, 0.4799154334038055, 0.4894291754756871, 0.4894291754756871, 0.514799154334038, 0.514799154334038, 0.5169133192389006, 0.5169133192389006, 0.5179704016913319, 0.5179704016913319, 0.5274841437632135, 0.5274841437632135, 0.5570824524312896, 0.5570824524312896, 0.580338266384778, 0.580338266384778, 0.5930232558139535, 0.5930232558139535, 0.6173361522198731, 0.6173361522198731, 0.6268498942917548, 0.6268498942917548, 0.6416490486257929, 0.6416490486257929, 0.6511627906976745, 0.6511627906976745, 0.6543340380549683, 0.6543340380549683, 0.7050739957716702, 0.7050739957716702, 0.7494714587737844, 0.7494714587737844, 0.7695560253699789, 0.7695560253699789, 0.7706131078224101, 0.7706131078224101, 0.8107822410147991, 0.8107822410147991, 0.8435517970401691, 0.8435517970401691, 0.8594080338266384, 0.8594080338266384, 0.8604651162790697, 0.8604651162790697, 0.9355179704016914, 0.9355179704016914, 0.9439746300211417, 0.9439746300211417, 0.9640591966173362, 0.9640591966173362, 1.0], \"y\": [0.0, 0.006578947368421052, 0.006578947368421052, 0.02631578947368421, 0.02631578947368421, 0.039473684210526314, 0.039473684210526314, 0.05921052631578947, 0.05921052631578947, 0.06578947368421052, 0.06578947368421052, 0.09210526315789473, 0.09210526315789473, 0.10526315789473684, 0.10526315789473684, 0.1118421052631579, 0.1118421052631579, 0.11842105263157894, 0.11842105263157894, 0.125, 0.125, 0.13157894736842105, 0.13157894736842105, 0.13815789473684212, 0.13815789473684212, 0.14473684210526316, 0.14473684210526316, 0.1513157894736842, 0.1513157894736842, 0.15789473684210525, 0.15789473684210525, 0.17763157894736842, 0.17763157894736842, 0.18421052631578946, 0.18421052631578946, 0.19736842105263158, 0.19736842105263158, 0.20394736842105263, 0.20394736842105263, 0.21052631578947367, 0.21052631578947367, 0.2236842105263158, 0.2236842105263158, 0.23026315789473684, 0.23026315789473684, 0.23684210526315788, 0.23684210526315788, 0.24342105263157895, 0.24342105263157895, 0.25, 0.25, 0.26973684210526316, 0.26973684210526316, 0.27631578947368424, 0.27631578947368424, 0.28289473684210525, 0.28289473684210525, 0.3157894736842105, 0.3157894736842105, 0.3223684210526316, 0.3223684210526316, 0.32894736842105265, 0.32894736842105265, 0.3355263157894737, 0.3355263157894737, 0.34210526315789475, 0.34210526315789475, 0.34868421052631576, 0.34868421052631576, 0.35526315789473684, 0.35526315789473684, 0.3684210526315789, 0.3684210526315789, 0.375, 0.375, 0.3881578947368421, 0.3881578947368421, 0.39473684210526316, 0.39473684210526316, 0.40131578947368424, 0.40131578947368424, 0.40789473684210525, 0.40789473684210525, 0.42105263157894735, 0.42105263157894735, 0.4276315789473684, 0.4276315789473684, 0.4342105263157895, 0.4342105263157895, 0.4407894736842105, 0.4407894736842105, 0.4473684210526316, 0.4473684210526316, 0.45394736842105265, 0.45394736842105265, 0.4605263157894737, 0.4605263157894737, 0.46710526315789475, 0.46710526315789475, 0.47368421052631576, 0.47368421052631576, 0.48026315789473684, 0.48026315789473684, 0.4868421052631579, 0.4868421052631579, 0.5, 0.5, 0.506578947368421, 0.506578947368421, 0.5131578947368421, 0.5131578947368421, 0.5197368421052632, 0.5197368421052632, 0.5263157894736842, 0.5263157894736842, 0.5328947368421053, 0.5328947368421053, 0.5394736842105263, 0.5394736842105263, 0.5460526315789473, 0.5460526315789473, 0.5526315789473685, 0.5526315789473685, 0.5592105263157895, 0.5592105263157895, 0.5657894736842105, 0.5657894736842105, 0.5723684210526315, 0.5723684210526315, 0.5855263157894737, 0.5855263157894737, 0.5921052631578947, 0.5921052631578947, 0.6052631578947368, 0.6052631578947368, 0.6118421052631579, 0.6118421052631579, 0.618421052631579, 0.618421052631579, 0.631578947368421, 0.631578947368421, 0.6381578947368421, 0.6381578947368421, 0.6447368421052632, 0.6447368421052632, 0.6513157894736842, 0.6513157894736842, 0.6578947368421053, 0.6578947368421053, 0.6644736842105263, 0.6644736842105263, 0.6710526315789473, 0.6710526315789473, 0.6842105263157895, 0.6842105263157895, 0.6907894736842105, 0.6907894736842105, 0.6973684210526315, 0.6973684210526315, 0.7105263157894737, 0.7105263157894737, 0.7171052631578947, 0.7171052631578947, 0.7236842105263158, 0.7236842105263158, 0.7302631578947368, 0.7302631578947368, 0.7368421052631579, 0.7368421052631579, 0.743421052631579, 0.743421052631579, 0.75, 0.75, 0.756578947368421, 0.756578947368421, 0.7631578947368421, 0.7631578947368421, 0.7697368421052632, 0.7697368421052632, 0.7763157894736842, 0.7763157894736842, 0.7828947368421053, 0.7828947368421053, 0.7894736842105263, 0.7894736842105263, 0.7960526315789473, 0.7960526315789473, 0.8026315789473685, 0.8026315789473685, 0.8092105263157895, 0.8092105263157895, 0.8157894736842105, 0.8157894736842105, 0.8223684210526315, 0.8223684210526315, 0.8289473684210527, 0.8289473684210527, 0.8355263157894737, 0.8355263157894737, 0.8421052631578947, 0.8421052631578947, 0.8486842105263158, 0.8486842105263158, 0.8552631578947368, 0.8552631578947368, 0.8618421052631579, 0.8618421052631579, 0.868421052631579, 0.868421052631579, 0.875, 0.875, 0.881578947368421, 0.881578947368421, 0.8881578947368421, 0.8881578947368421, 0.9013157894736842, 0.9013157894736842, 0.9078947368421053, 0.9078947368421053, 0.9144736842105263, 0.9144736842105263, 0.9276315789473685, 0.9276315789473685, 0.9342105263157895, 0.9342105263157895, 0.9473684210526315, 0.9473684210526315, 0.9539473684210527, 0.9539473684210527, 0.9605263157894737, 0.9605263157894737, 0.9671052631578947, 0.9671052631578947, 0.9736842105263158, 0.9736842105263158, 0.9802631578947368, 0.9802631578947368, 0.9868421052631579, 0.9868421052631579, 0.993421052631579, 0.993421052631579, 1.0, 1.0]}],\n",
              "                        {\"template\": {\"data\": {\"bar\": [{\"error_x\": {\"color\": \"#2a3f5f\"}, \"error_y\": {\"color\": \"#2a3f5f\"}, \"marker\": {\"line\": {\"color\": \"#E5ECF6\", \"width\": 0.5}}, \"type\": \"bar\"}], \"barpolar\": [{\"marker\": {\"line\": {\"color\": \"#E5ECF6\", \"width\": 0.5}}, \"type\": \"barpolar\"}], \"carpet\": [{\"aaxis\": {\"endlinecolor\": \"#2a3f5f\", \"gridcolor\": \"white\", \"linecolor\": \"white\", \"minorgridcolor\": \"white\", \"startlinecolor\": \"#2a3f5f\"}, \"baxis\": {\"endlinecolor\": \"#2a3f5f\", \"gridcolor\": \"white\", \"linecolor\": \"white\", \"minorgridcolor\": \"white\", \"startlinecolor\": \"#2a3f5f\"}, \"type\": \"carpet\"}], \"choropleth\": [{\"colorbar\": {\"outlinewidth\": 0, \"ticks\": \"\"}, \"type\": \"choropleth\"}], \"contour\": [{\"colorbar\": {\"outlinewidth\": 0, \"ticks\": \"\"}, \"colorscale\": [[0.0, \"#0d0887\"], [0.1111111111111111, \"#46039f\"], [0.2222222222222222, \"#7201a8\"], [0.3333333333333333, \"#9c179e\"], [0.4444444444444444, \"#bd3786\"], [0.5555555555555556, \"#d8576b\"], [0.6666666666666666, \"#ed7953\"], [0.7777777777777778, \"#fb9f3a\"], [0.8888888888888888, \"#fdca26\"], [1.0, \"#f0f921\"]], \"type\": \"contour\"}], \"contourcarpet\": [{\"colorbar\": {\"outlinewidth\": 0, \"ticks\": \"\"}, \"type\": \"contourcarpet\"}], \"heatmap\": [{\"colorbar\": {\"outlinewidth\": 0, \"ticks\": \"\"}, \"colorscale\": [[0.0, \"#0d0887\"], [0.1111111111111111, \"#46039f\"], [0.2222222222222222, \"#7201a8\"], [0.3333333333333333, \"#9c179e\"], [0.4444444444444444, \"#bd3786\"], [0.5555555555555556, \"#d8576b\"], [0.6666666666666666, \"#ed7953\"], [0.7777777777777778, \"#fb9f3a\"], [0.8888888888888888, \"#fdca26\"], [1.0, \"#f0f921\"]], \"type\": \"heatmap\"}], \"heatmapgl\": [{\"colorbar\": {\"outlinewidth\": 0, \"ticks\": \"\"}, \"colorscale\": [[0.0, \"#0d0887\"], [0.1111111111111111, \"#46039f\"], [0.2222222222222222, \"#7201a8\"], [0.3333333333333333, \"#9c179e\"], [0.4444444444444444, \"#bd3786\"], [0.5555555555555556, \"#d8576b\"], [0.6666666666666666, \"#ed7953\"], [0.7777777777777778, \"#fb9f3a\"], [0.8888888888888888, \"#fdca26\"], [1.0, \"#f0f921\"]], \"type\": \"heatmapgl\"}], \"histogram\": [{\"marker\": {\"colorbar\": {\"outlinewidth\": 0, \"ticks\": \"\"}}, \"type\": \"histogram\"}], \"histogram2d\": [{\"colorbar\": {\"outlinewidth\": 0, \"ticks\": \"\"}, \"colorscale\": [[0.0, \"#0d0887\"], [0.1111111111111111, \"#46039f\"], [0.2222222222222222, \"#7201a8\"], [0.3333333333333333, \"#9c179e\"], [0.4444444444444444, \"#bd3786\"], [0.5555555555555556, \"#d8576b\"], [0.6666666666666666, \"#ed7953\"], [0.7777777777777778, \"#fb9f3a\"], [0.8888888888888888, \"#fdca26\"], [1.0, \"#f0f921\"]], \"type\": \"histogram2d\"}], \"histogram2dcontour\": [{\"colorbar\": {\"outlinewidth\": 0, \"ticks\": \"\"}, \"colorscale\": [[0.0, \"#0d0887\"], [0.1111111111111111, \"#46039f\"], [0.2222222222222222, \"#7201a8\"], [0.3333333333333333, \"#9c179e\"], [0.4444444444444444, \"#bd3786\"], [0.5555555555555556, \"#d8576b\"], [0.6666666666666666, \"#ed7953\"], [0.7777777777777778, \"#fb9f3a\"], [0.8888888888888888, \"#fdca26\"], [1.0, \"#f0f921\"]], \"type\": \"histogram2dcontour\"}], \"mesh3d\": [{\"colorbar\": {\"outlinewidth\": 0, \"ticks\": \"\"}, \"type\": \"mesh3d\"}], \"parcoords\": [{\"line\": {\"colorbar\": {\"outlinewidth\": 0, \"ticks\": \"\"}}, \"type\": \"parcoords\"}], \"pie\": [{\"automargin\": true, \"type\": \"pie\"}], \"scatter\": [{\"marker\": {\"colorbar\": {\"outlinewidth\": 0, \"ticks\": \"\"}}, \"type\": \"scatter\"}], \"scatter3d\": [{\"line\": {\"colorbar\": {\"outlinewidth\": 0, \"ticks\": \"\"}}, \"marker\": {\"colorbar\": {\"outlinewidth\": 0, \"ticks\": \"\"}}, \"type\": \"scatter3d\"}], \"scattercarpet\": [{\"marker\": {\"colorbar\": {\"outlinewidth\": 0, \"ticks\": \"\"}}, \"type\": \"scattercarpet\"}], \"scattergeo\": [{\"marker\": {\"colorbar\": {\"outlinewidth\": 0, \"ticks\": \"\"}}, \"type\": \"scattergeo\"}], \"scattergl\": [{\"marker\": {\"colorbar\": {\"outlinewidth\": 0, \"ticks\": \"\"}}, \"type\": \"scattergl\"}], \"scattermapbox\": [{\"marker\": {\"colorbar\": {\"outlinewidth\": 0, \"ticks\": \"\"}}, \"type\": \"scattermapbox\"}], \"scatterpolar\": [{\"marker\": {\"colorbar\": {\"outlinewidth\": 0, \"ticks\": \"\"}}, \"type\": \"scatterpolar\"}], \"scatterpolargl\": [{\"marker\": {\"colorbar\": {\"outlinewidth\": 0, \"ticks\": \"\"}}, \"type\": \"scatterpolargl\"}], \"scatterternary\": [{\"marker\": {\"colorbar\": {\"outlinewidth\": 0, \"ticks\": \"\"}}, \"type\": \"scatterternary\"}], \"surface\": [{\"colorbar\": {\"outlinewidth\": 0, \"ticks\": \"\"}, \"colorscale\": [[0.0, \"#0d0887\"], [0.1111111111111111, \"#46039f\"], [0.2222222222222222, \"#7201a8\"], [0.3333333333333333, \"#9c179e\"], [0.4444444444444444, \"#bd3786\"], [0.5555555555555556, \"#d8576b\"], [0.6666666666666666, \"#ed7953\"], [0.7777777777777778, \"#fb9f3a\"], [0.8888888888888888, \"#fdca26\"], [1.0, \"#f0f921\"]], \"type\": \"surface\"}], \"table\": [{\"cells\": {\"fill\": {\"color\": \"#EBF0F8\"}, \"line\": {\"color\": \"white\"}}, \"header\": {\"fill\": {\"color\": \"#C8D4E3\"}, \"line\": {\"color\": \"white\"}}, \"type\": \"table\"}]}, \"layout\": {\"annotationdefaults\": {\"arrowcolor\": \"#2a3f5f\", \"arrowhead\": 0, \"arrowwidth\": 1}, \"coloraxis\": {\"colorbar\": {\"outlinewidth\": 0, \"ticks\": \"\"}}, \"colorscale\": {\"diverging\": [[0, \"#8e0152\"], [0.1, \"#c51b7d\"], [0.2, \"#de77ae\"], [0.3, \"#f1b6da\"], [0.4, \"#fde0ef\"], [0.5, \"#f7f7f7\"], [0.6, \"#e6f5d0\"], [0.7, \"#b8e186\"], [0.8, \"#7fbc41\"], [0.9, \"#4d9221\"], [1, \"#276419\"]], \"sequential\": [[0.0, \"#0d0887\"], [0.1111111111111111, \"#46039f\"], [0.2222222222222222, \"#7201a8\"], [0.3333333333333333, \"#9c179e\"], [0.4444444444444444, \"#bd3786\"], [0.5555555555555556, \"#d8576b\"], [0.6666666666666666, \"#ed7953\"], [0.7777777777777778, \"#fb9f3a\"], [0.8888888888888888, \"#fdca26\"], [1.0, \"#f0f921\"]], \"sequentialminus\": [[0.0, \"#0d0887\"], [0.1111111111111111, \"#46039f\"], [0.2222222222222222, \"#7201a8\"], [0.3333333333333333, \"#9c179e\"], [0.4444444444444444, \"#bd3786\"], [0.5555555555555556, \"#d8576b\"], [0.6666666666666666, \"#ed7953\"], [0.7777777777777778, \"#fb9f3a\"], [0.8888888888888888, \"#fdca26\"], [1.0, \"#f0f921\"]]}, \"colorway\": [\"#636efa\", \"#EF553B\", \"#00cc96\", \"#ab63fa\", \"#FFA15A\", \"#19d3f3\", \"#FF6692\", \"#B6E880\", \"#FF97FF\", \"#FECB52\"], \"font\": {\"color\": \"#2a3f5f\"}, \"geo\": {\"bgcolor\": \"white\", \"lakecolor\": \"white\", \"landcolor\": \"#E5ECF6\", \"showlakes\": true, \"showland\": true, \"subunitcolor\": \"white\"}, \"hoverlabel\": {\"align\": \"left\"}, \"hovermode\": \"closest\", \"mapbox\": {\"style\": \"light\"}, \"paper_bgcolor\": \"white\", \"plot_bgcolor\": \"#E5ECF6\", \"polar\": {\"angularaxis\": {\"gridcolor\": \"white\", \"linecolor\": \"white\", \"ticks\": \"\"}, \"bgcolor\": \"#E5ECF6\", \"radialaxis\": {\"gridcolor\": \"white\", \"linecolor\": \"white\", \"ticks\": \"\"}}, \"scene\": {\"xaxis\": {\"backgroundcolor\": \"#E5ECF6\", \"gridcolor\": \"white\", \"gridwidth\": 2, \"linecolor\": \"white\", \"showbackground\": true, \"ticks\": \"\", \"zerolinecolor\": \"white\"}, \"yaxis\": {\"backgroundcolor\": \"#E5ECF6\", \"gridcolor\": \"white\", \"gridwidth\": 2, \"linecolor\": \"white\", \"showbackground\": true, \"ticks\": \"\", \"zerolinecolor\": \"white\"}, \"zaxis\": {\"backgroundcolor\": \"#E5ECF6\", \"gridcolor\": \"white\", \"gridwidth\": 2, \"linecolor\": \"white\", \"showbackground\": true, \"ticks\": \"\", \"zerolinecolor\": \"white\"}}, \"shapedefaults\": {\"line\": {\"color\": \"#2a3f5f\"}}, \"ternary\": {\"aaxis\": {\"gridcolor\": \"white\", \"linecolor\": \"white\", \"ticks\": \"\"}, \"baxis\": {\"gridcolor\": \"white\", \"linecolor\": \"white\", \"ticks\": \"\"}, \"bgcolor\": \"#E5ECF6\", \"caxis\": {\"gridcolor\": \"white\", \"linecolor\": \"white\", \"ticks\": \"\"}}, \"title\": {\"x\": 0.05}, \"xaxis\": {\"automargin\": true, \"gridcolor\": \"white\", \"linecolor\": \"white\", \"ticks\": \"\", \"title\": {\"standoff\": 15}, \"zerolinecolor\": \"white\", \"zerolinewidth\": 2}, \"yaxis\": {\"automargin\": true, \"gridcolor\": \"white\", \"linecolor\": \"white\", \"ticks\": \"\", \"title\": {\"standoff\": 15}, \"zerolinecolor\": \"white\", \"zerolinewidth\": 2}}}, \"title\": {\"text\": \"ROC curve for diabetes classifier\"}, \"xaxis\": {\"title\": {\"text\": \"False Positive Rate (1 - Specificity)\"}}, \"yaxis\": {\"title\": {\"text\": \"True Positive Rate (Sensitivity/Recall)\"}}},\n",
              "                        {\"responsive\": true}\n",
              "                    ).then(function(){\n",
              "                            \n",
              "var gd = document.getElementById('d90fa40d-f9ef-4c32-9155-f4e35619cc97');\n",
              "var x = new MutationObserver(function (mutations, observer) {{\n",
              "        var display = window.getComputedStyle(gd).display;\n",
              "        if (!display || display === 'none') {{\n",
              "            console.log([gd, 'removed!']);\n",
              "            Plotly.purge(gd);\n",
              "            observer.disconnect();\n",
              "        }}\n",
              "}});\n",
              "\n",
              "// Listen for the removal of the full notebook cells\n",
              "var notebookContainer = gd.closest('#notebook-container');\n",
              "if (notebookContainer) {{\n",
              "    x.observe(notebookContainer, {childList: true});\n",
              "}}\n",
              "\n",
              "// Listen for the clearing of the current output cell\n",
              "var outputEl = gd.closest('.output');\n",
              "if (outputEl) {{\n",
              "    x.observe(outputEl, {childList: true});\n",
              "}}\n",
              "\n",
              "                        })\n",
              "                };\n",
              "                \n",
              "            </script>\n",
              "        </div>\n",
              "</body>\n",
              "</html>"
            ]
          },
          "metadata": {
            "tags": []
          }
        }
      ]
    },
    {
      "cell_type": "code",
      "metadata": {
        "id": "nw2HDBYf5vmT",
        "colab": {
          "base_uri": "https://localhost:8080/"
        },
        "outputId": "31838d3d-4a2b-4103-cc8d-82ee81389824"
      },
      "source": [
        "AUC = metrics.roc_auc_score(y_chi_test, y_pred_prob)\n",
        "print('AUC',AUC)"
      ],
      "execution_count": null,
      "outputs": [
        {
          "output_type": "stream",
          "text": [
            "AUC 0.7151858239679537\n"
          ],
          "name": "stdout"
        }
      ]
    },
    {
      "cell_type": "markdown",
      "metadata": {
        "id": "rrKRMFH1HRcq"
      },
      "source": [
        "22. Use Cross validation and average the AUC and Accuracy scores"
      ]
    },
    {
      "cell_type": "code",
      "metadata": {
        "id": "ZqjK22wMHr96",
        "colab": {
          "base_uri": "https://localhost:8080/"
        },
        "outputId": "0757e1c8-2f82-434a-a97d-ecce0d1d6adb"
      },
      "source": [
        "from sklearn.model_selection import cross_val_score\n",
        "auc_scores =cross_val_score(logmodel_chi, X_chi_test_scaled, y, cv=10, scoring='roc_auc')\n",
        "auc_scores"
      ],
      "execution_count": null,
      "outputs": [
        {
          "output_type": "execute_result",
          "data": {
            "text/plain": [
              "array([0.71628179, 0.73732719, 0.68179724, 0.73006912, 0.70541475,\n",
              "       0.72603687, 0.75927419, 0.73490783, 0.72609971, 0.72281525])"
            ]
          },
          "metadata": {
            "tags": []
          },
          "execution_count": 52
        }
      ]
    },
    {
      "cell_type": "code",
      "metadata": {
        "id": "j2NzMbqD6XK-",
        "colab": {
          "base_uri": "https://localhost:8080/"
        },
        "outputId": "7ec1e6de-da65-4883-a45c-8951f3c80609"
      },
      "source": [
        "accuracy_scores = cross_val_score(logmodel_chi, X_chi_test_scaled, y, cv=10, scoring='accuracy')\n",
        "accuracy_scores"
      ],
      "execution_count": null,
      "outputs": [
        {
          "output_type": "execute_result",
          "data": {
            "text/plain": [
              "array([0.84972678, 0.85245902, 0.84972678, 0.8579235 , 0.8442623 ,\n",
              "       0.84153005, 0.86885246, 0.84972678, 0.85479452, 0.84931507])"
            ]
          },
          "metadata": {
            "tags": []
          },
          "execution_count": 53
        }
      ]
    },
    {
      "cell_type": "code",
      "metadata": {
        "id": "jZlUAkZC62zg",
        "colab": {
          "base_uri": "https://localhost:8080/"
        },
        "outputId": "ae97c123-b11a-4897-a879-22600a88cf1e"
      },
      "source": [
        "print('Mean values')\n",
        "print('auc:', auc_scores.mean())\n",
        "print('accuracy: ', accuracy_scores.mean())"
      ],
      "execution_count": null,
      "outputs": [
        {
          "output_type": "stream",
          "text": [
            "Mean values\n",
            "auc: 0.7240023933902422\n",
            "accuracy:  0.8518317239314321\n"
          ],
          "name": "stdout"
        }
      ]
    },
    {
      "cell_type": "markdown",
      "metadata": {
        "id": "mRT0gmbcfpkM"
      },
      "source": [
        "22. Conclusions:\n",
        "* How well does the model perform in predicting 0?\n",
        "* How well does the model perform in predicting 1?"
      ]
    },
    {
      "cell_type": "markdown",
      "metadata": {
        "id": "vI8scO3ryqe0"
      },
      "source": [
        "The model predicting 0 is performing good: the difference between the test and prediction values are small. For example Precision in test is 0.87 and in prediction 0.90"
      ]
    },
    {
      "cell_type": "markdown",
      "metadata": {
        "id": "UxEzIupvytU2"
      },
      "source": [
        "The model predicting 1 is performing bad: the difference between the test and prediction values are huge. For example Precision in test is 0.69 and in prediction 0.25."
      ]
    }
  ]
}
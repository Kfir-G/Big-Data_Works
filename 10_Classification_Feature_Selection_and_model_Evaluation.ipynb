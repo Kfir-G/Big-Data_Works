{
  "nbformat": 4,
  "nbformat_minor": 0,
  "metadata": {
    "colab": {
      "name": "Copy of Continue of 10. Classification - Feature Selection and model Evaluation.ipynb",
      "provenance": [],
      "collapsed_sections": [],
      "toc_visible": true
    },
    "kernelspec": {
      "name": "python3",
      "display_name": "Python 3"
    }
  },
  "cells": [
    {
      "cell_type": "markdown",
      "metadata": {
        "id": "SjLl2duyabVa"
      },
      "source": [
        "#Classfication Evaluation Metrics\n",
        "\n",
        "In this notebook we'll learn about a few common metrics by which we analyse and measure the classification model"
      ]
    },
    {
      "cell_type": "markdown",
      "metadata": {
        "id": "Un8TdPxlcSGN"
      },
      "source": [
        "\n",
        "But first, this is a good oportunity to summarize the feature selection topic\n"
      ]
    },
    {
      "cell_type": "markdown",
      "metadata": {
        "id": "xhKb3xPEck0c"
      },
      "source": [
        "#Feature Selection Techniques \n",
        "Feature Selection is one of the core concepts in machine learning which hugely impacts the performance of your model. The data features that you use to train your machine learning models have a huge influence on the performance you can achieve.\n",
        "\n",
        "Irrelevant or partially relevant features can negatively impact model performance.\n",
        "Having irrelevant features in your data can decrease the accuracy of the models and make your model learn based on irrelevant features.\n",
        "\n",
        "Feature selection and Data cleaning should be the first and most important step of your model designing.\n",
        "\n",
        "##Benefits of performing feature selection before modeling your data\n",
        "\n",
        "* Reduces Overfitting: Less redundant data means less opportunity to make decisions based on noise.\n",
        "* Improves Accuracy: Less misleading data means modeling accuracy improves.\n",
        "* Reduces Training Time: fewer data points reduce algorithm complexity and algorithms train faster.\n",
        "\n",
        "\n"
      ]
    },
    {
      "cell_type": "markdown",
      "metadata": {
        "id": "i6elEOURb-RC"
      },
      "source": [
        "## The Data set"
      ]
    },
    {
      "cell_type": "code",
      "metadata": {
        "id": "B84w1kf3vN73"
      },
      "source": [
        "import numpy as np\n",
        "import pandas as pd\n",
        "import plotly.graph_objects as go\n"
      ],
      "execution_count": null,
      "outputs": []
    },
    {
      "cell_type": "code",
      "metadata": {
        "id": "Lp-4LWx1vhy3"
      },
      "source": [
        "diabetes_df = pd.read_csv('https://raw.githubusercontent.com/Turgibot/BigData/master/DataSets/diabetes.csv')"
      ],
      "execution_count": null,
      "outputs": []
    },
    {
      "cell_type": "code",
      "metadata": {
        "id": "HDsZipVMgnRT",
        "colab": {
          "base_uri": "https://localhost:8080/"
        },
        "outputId": "b294651f-0129-4eba-cd1d-a0b1e00529f5"
      },
      "source": [
        "diabetes_df.info()"
      ],
      "execution_count": null,
      "outputs": [
        {
          "output_type": "stream",
          "text": [
            "<class 'pandas.core.frame.DataFrame'>\n",
            "RangeIndex: 768 entries, 0 to 767\n",
            "Data columns (total 11 columns):\n",
            " #   Column                    Non-Null Count  Dtype  \n",
            "---  ------                    --------------  -----  \n",
            " 0   Pregnancies               768 non-null    int64  \n",
            " 1   Glucose                   768 non-null    int64  \n",
            " 2   BloodPressure             768 non-null    int64  \n",
            " 3   appt                      768 non-null    float64\n",
            " 4   Insulin                   768 non-null    int64  \n",
            " 5   BMI                       768 non-null    float64\n",
            " 6   DiabetesPedigreeFunction  768 non-null    float64\n",
            " 7   SkinThickness             768 non-null    int64  \n",
            " 8   a1c                       768 non-null    float64\n",
            " 9   Age                       768 non-null    int64  \n",
            " 10  Outcome                   768 non-null    int64  \n",
            "dtypes: float64(4), int64(7)\n",
            "memory usage: 66.1 KB\n"
          ],
          "name": "stdout"
        }
      ]
    },
    {
      "cell_type": "code",
      "metadata": {
        "id": "h23mt9Wwgpfu",
        "colab": {
          "base_uri": "https://localhost:8080/",
          "height": 195
        },
        "outputId": "07b148cf-4d00-4904-a733-6e586cab6e03"
      },
      "source": [
        "diabetes_df.head()"
      ],
      "execution_count": null,
      "outputs": [
        {
          "output_type": "execute_result",
          "data": {
            "text/html": [
              "<div>\n",
              "<style scoped>\n",
              "    .dataframe tbody tr th:only-of-type {\n",
              "        vertical-align: middle;\n",
              "    }\n",
              "\n",
              "    .dataframe tbody tr th {\n",
              "        vertical-align: top;\n",
              "    }\n",
              "\n",
              "    .dataframe thead th {\n",
              "        text-align: right;\n",
              "    }\n",
              "</style>\n",
              "<table border=\"1\" class=\"dataframe\">\n",
              "  <thead>\n",
              "    <tr style=\"text-align: right;\">\n",
              "      <th></th>\n",
              "      <th>Pregnancies</th>\n",
              "      <th>Glucose</th>\n",
              "      <th>BloodPressure</th>\n",
              "      <th>appt</th>\n",
              "      <th>Insulin</th>\n",
              "      <th>BMI</th>\n",
              "      <th>DiabetesPedigreeFunction</th>\n",
              "      <th>SkinThickness</th>\n",
              "      <th>a1c</th>\n",
              "      <th>Age</th>\n",
              "      <th>Outcome</th>\n",
              "    </tr>\n",
              "  </thead>\n",
              "  <tbody>\n",
              "    <tr>\n",
              "      <th>0</th>\n",
              "      <td>6</td>\n",
              "      <td>148</td>\n",
              "      <td>72</td>\n",
              "      <td>0.016301</td>\n",
              "      <td>0</td>\n",
              "      <td>33.6</td>\n",
              "      <td>0.627</td>\n",
              "      <td>35</td>\n",
              "      <td>9.033109</td>\n",
              "      <td>50</td>\n",
              "      <td>1</td>\n",
              "    </tr>\n",
              "    <tr>\n",
              "      <th>1</th>\n",
              "      <td>1</td>\n",
              "      <td>85</td>\n",
              "      <td>66</td>\n",
              "      <td>0.344987</td>\n",
              "      <td>0</td>\n",
              "      <td>26.6</td>\n",
              "      <td>0.351</td>\n",
              "      <td>29</td>\n",
              "      <td>1.105190</td>\n",
              "      <td>31</td>\n",
              "      <td>0</td>\n",
              "    </tr>\n",
              "    <tr>\n",
              "      <th>2</th>\n",
              "      <td>8</td>\n",
              "      <td>183</td>\n",
              "      <td>64</td>\n",
              "      <td>0.378963</td>\n",
              "      <td>0</td>\n",
              "      <td>23.3</td>\n",
              "      <td>0.672</td>\n",
              "      <td>0</td>\n",
              "      <td>2.377655</td>\n",
              "      <td>32</td>\n",
              "      <td>1</td>\n",
              "    </tr>\n",
              "    <tr>\n",
              "      <th>3</th>\n",
              "      <td>1</td>\n",
              "      <td>89</td>\n",
              "      <td>66</td>\n",
              "      <td>0.783727</td>\n",
              "      <td>94</td>\n",
              "      <td>28.1</td>\n",
              "      <td>0.167</td>\n",
              "      <td>23</td>\n",
              "      <td>6.783883</td>\n",
              "      <td>21</td>\n",
              "      <td>0</td>\n",
              "    </tr>\n",
              "    <tr>\n",
              "      <th>4</th>\n",
              "      <td>0</td>\n",
              "      <td>137</td>\n",
              "      <td>40</td>\n",
              "      <td>0.370406</td>\n",
              "      <td>168</td>\n",
              "      <td>43.1</td>\n",
              "      <td>2.288</td>\n",
              "      <td>35</td>\n",
              "      <td>4.831895</td>\n",
              "      <td>33</td>\n",
              "      <td>1</td>\n",
              "    </tr>\n",
              "  </tbody>\n",
              "</table>\n",
              "</div>"
            ],
            "text/plain": [
              "   Pregnancies  Glucose  BloodPressure  ...       a1c  Age  Outcome\n",
              "0            6      148             72  ...  9.033109   50        1\n",
              "1            1       85             66  ...  1.105190   31        0\n",
              "2            8      183             64  ...  2.377655   32        1\n",
              "3            1       89             66  ...  6.783883   21        0\n",
              "4            0      137             40  ...  4.831895   33        1\n",
              "\n",
              "[5 rows x 11 columns]"
            ]
          },
          "metadata": {
            "tags": []
          },
          "execution_count": 4
        }
      ]
    },
    {
      "cell_type": "markdown",
      "metadata": {
        "id": "aRkoBhAhgsBO"
      },
      "source": [
        "##About the Dataset\n",
        "###Context\n",
        "This dataset is originally from the National Institute of Diabetes and Digestive and Kidney Diseases. The objective of the dataset is to diagnostically predict whether or not a patient has diabetes, based on certain diagnostic measurements included in the dataset. Several constraints were placed on the selection of these instances from a larger database. In particular, all patients here are females at least 21 years old of Pima Indian heritage.\n",
        "\n",
        "###Content\n",
        "The following features have been provided to help us predict whether a person is diabetic or not:\n",
        "* Pregnancies: Number of times pregnant\n",
        "* Glucose: Plasma glucose concentration over 2 hours in an oral glucose tolerance test\n",
        "* BloodPressure: Diastolic blood pressure (mm Hg)\n",
        "* SkinThickness: Triceps skin fold thickness (mm)\n",
        "* Insulin: 2-Hour serum insulin (mu U/ml)\n",
        "* BMI: Body mass index (weight in kg/(height in m)2)\n",
        "* DiabetesPedigreeFunction: Diabetes pedigree function (a function which scores likelihood of diabetes based on family history)\n",
        "* Age: Age (years)\n",
        "* Appt: fraction of doctor appointments attendence\n",
        "* Outcome: Class variable (0 if non-diabetic, 1 if diabetic)"
      ]
    },
    {
      "cell_type": "markdown",
      "metadata": {
        "id": "7F_XqZ83hTuO"
      },
      "source": [
        "##Data Preparation\n"
      ]
    },
    {
      "cell_type": "code",
      "metadata": {
        "id": "ClcN8SFEiNCe",
        "colab": {
          "base_uri": "https://localhost:8080/"
        },
        "outputId": "778bea3f-7754-4d3f-b783-05b65b952429"
      },
      "source": [
        "#what are the insulin possible values?\n",
        "diabetes_df.Insulin.value_counts()"
      ],
      "execution_count": null,
      "outputs": [
        {
          "output_type": "execute_result",
          "data": {
            "text/plain": [
              "0      374\n",
              "105     11\n",
              "140      9\n",
              "130      9\n",
              "120      8\n",
              "      ... \n",
              "271      1\n",
              "270      1\n",
              "108      1\n",
              "112      1\n",
              "846      1\n",
              "Name: Insulin, Length: 186, dtype: int64"
            ]
          },
          "metadata": {
            "tags": []
          },
          "execution_count": 5
        }
      ]
    },
    {
      "cell_type": "code",
      "metadata": {
        "id": "aHr7Yh3TiVb-",
        "colab": {
          "base_uri": "https://localhost:8080/"
        },
        "outputId": "f46756ad-5558-403c-a369-4f55ca861438"
      },
      "source": [
        "#replace 0 with mean for insulin level\n",
        "insu_mean = round(diabetes_df.Insulin.mean())\n",
        "\n",
        "diabetes_df.Insulin.loc[diabetes_df.Insulin==0] = insu_mean\n",
        "\n",
        "diabetes_df.Insulin.value_counts()"
      ],
      "execution_count": null,
      "outputs": [
        {
          "output_type": "stream",
          "text": [
            "/usr/local/lib/python3.6/dist-packages/pandas/core/indexing.py:670: SettingWithCopyWarning:\n",
            "\n",
            "\n",
            "A value is trying to be set on a copy of a slice from a DataFrame\n",
            "\n",
            "See the caveats in the documentation: https://pandas.pydata.org/pandas-docs/stable/user_guide/indexing.html#returning-a-view-versus-a-copy\n",
            "\n"
          ],
          "name": "stderr"
        },
        {
          "output_type": "execute_result",
          "data": {
            "text/plain": [
              "80     374\n",
              "105     11\n",
              "140      9\n",
              "130      9\n",
              "120      8\n",
              "      ... \n",
              "270      1\n",
              "271      1\n",
              "272      1\n",
              "274      1\n",
              "14       1\n",
              "Name: Insulin, Length: 186, dtype: int64"
            ]
          },
          "metadata": {
            "tags": []
          },
          "execution_count": 6
        }
      ]
    },
    {
      "cell_type": "code",
      "metadata": {
        "id": "aqcIDTSkQ4fc"
      },
      "source": [
        "diabetes_df.drop(['Insulin'], axis=1, inplace=True)"
      ],
      "execution_count": null,
      "outputs": []
    },
    {
      "cell_type": "code",
      "metadata": {
        "id": "qIGtF9CcjhZD",
        "colab": {
          "base_uri": "https://localhost:8080/"
        },
        "outputId": "ba0903bc-9490-4c6b-dce1-2ee7f0cda2df"
      },
      "source": [
        "#check for Nans\n",
        "diabetes_df.isna().sum()"
      ],
      "execution_count": null,
      "outputs": [
        {
          "output_type": "execute_result",
          "data": {
            "text/plain": [
              "Pregnancies                 0\n",
              "Glucose                     0\n",
              "BloodPressure               0\n",
              "appt                        0\n",
              "BMI                         0\n",
              "DiabetesPedigreeFunction    0\n",
              "SkinThickness               0\n",
              "a1c                         0\n",
              "Age                         0\n",
              "Outcome                     0\n",
              "dtype: int64"
            ]
          },
          "metadata": {
            "tags": []
          },
          "execution_count": 9
        }
      ]
    },
    {
      "cell_type": "markdown",
      "metadata": {
        "id": "KJCCr1Odj0kN"
      },
      "source": [
        "#EDA\n"
      ]
    },
    {
      "cell_type": "code",
      "metadata": {
        "id": "XvebZQpSrIvM",
        "colab": {
          "base_uri": "https://localhost:8080/",
          "height": 284
        },
        "outputId": "e4b38502-a447-4b46-9d90-6dcff5e14aa3"
      },
      "source": [
        "diabetes_df.describe()"
      ],
      "execution_count": null,
      "outputs": [
        {
          "output_type": "execute_result",
          "data": {
            "text/html": [
              "<div>\n",
              "<style scoped>\n",
              "    .dataframe tbody tr th:only-of-type {\n",
              "        vertical-align: middle;\n",
              "    }\n",
              "\n",
              "    .dataframe tbody tr th {\n",
              "        vertical-align: top;\n",
              "    }\n",
              "\n",
              "    .dataframe thead th {\n",
              "        text-align: right;\n",
              "    }\n",
              "</style>\n",
              "<table border=\"1\" class=\"dataframe\">\n",
              "  <thead>\n",
              "    <tr style=\"text-align: right;\">\n",
              "      <th></th>\n",
              "      <th>Pregnancies</th>\n",
              "      <th>Glucose</th>\n",
              "      <th>BloodPressure</th>\n",
              "      <th>appt</th>\n",
              "      <th>BMI</th>\n",
              "      <th>DiabetesPedigreeFunction</th>\n",
              "      <th>SkinThickness</th>\n",
              "      <th>a1c</th>\n",
              "      <th>Age</th>\n",
              "      <th>Outcome</th>\n",
              "    </tr>\n",
              "  </thead>\n",
              "  <tbody>\n",
              "    <tr>\n",
              "      <th>count</th>\n",
              "      <td>768.000000</td>\n",
              "      <td>768.000000</td>\n",
              "      <td>768.000000</td>\n",
              "      <td>768.000000</td>\n",
              "      <td>768.000000</td>\n",
              "      <td>768.000000</td>\n",
              "      <td>768.000000</td>\n",
              "      <td>768.000000</td>\n",
              "      <td>768.000000</td>\n",
              "      <td>768.000000</td>\n",
              "    </tr>\n",
              "    <tr>\n",
              "      <th>mean</th>\n",
              "      <td>3.845052</td>\n",
              "      <td>120.894531</td>\n",
              "      <td>69.105469</td>\n",
              "      <td>0.499944</td>\n",
              "      <td>31.992578</td>\n",
              "      <td>0.471876</td>\n",
              "      <td>20.536458</td>\n",
              "      <td>5.014949</td>\n",
              "      <td>33.240885</td>\n",
              "      <td>0.338542</td>\n",
              "    </tr>\n",
              "    <tr>\n",
              "      <th>std</th>\n",
              "      <td>3.369578</td>\n",
              "      <td>31.972618</td>\n",
              "      <td>19.355807</td>\n",
              "      <td>0.286516</td>\n",
              "      <td>7.884160</td>\n",
              "      <td>0.331329</td>\n",
              "      <td>15.952218</td>\n",
              "      <td>2.841433</td>\n",
              "      <td>11.760232</td>\n",
              "      <td>0.473522</td>\n",
              "    </tr>\n",
              "    <tr>\n",
              "      <th>min</th>\n",
              "      <td>0.000000</td>\n",
              "      <td>0.000000</td>\n",
              "      <td>0.000000</td>\n",
              "      <td>0.000098</td>\n",
              "      <td>0.000000</td>\n",
              "      <td>0.078000</td>\n",
              "      <td>0.000000</td>\n",
              "      <td>0.012376</td>\n",
              "      <td>21.000000</td>\n",
              "      <td>0.000000</td>\n",
              "    </tr>\n",
              "    <tr>\n",
              "      <th>25%</th>\n",
              "      <td>1.000000</td>\n",
              "      <td>99.000000</td>\n",
              "      <td>62.000000</td>\n",
              "      <td>0.255590</td>\n",
              "      <td>27.300000</td>\n",
              "      <td>0.243750</td>\n",
              "      <td>0.000000</td>\n",
              "      <td>2.517396</td>\n",
              "      <td>24.000000</td>\n",
              "      <td>0.000000</td>\n",
              "    </tr>\n",
              "    <tr>\n",
              "      <th>50%</th>\n",
              "      <td>3.000000</td>\n",
              "      <td>117.000000</td>\n",
              "      <td>72.000000</td>\n",
              "      <td>0.494833</td>\n",
              "      <td>32.000000</td>\n",
              "      <td>0.372500</td>\n",
              "      <td>23.000000</td>\n",
              "      <td>5.140862</td>\n",
              "      <td>29.000000</td>\n",
              "      <td>0.000000</td>\n",
              "    </tr>\n",
              "    <tr>\n",
              "      <th>75%</th>\n",
              "      <td>6.000000</td>\n",
              "      <td>140.250000</td>\n",
              "      <td>80.000000</td>\n",
              "      <td>0.733105</td>\n",
              "      <td>36.600000</td>\n",
              "      <td>0.626250</td>\n",
              "      <td>32.000000</td>\n",
              "      <td>7.464107</td>\n",
              "      <td>41.000000</td>\n",
              "      <td>1.000000</td>\n",
              "    </tr>\n",
              "    <tr>\n",
              "      <th>max</th>\n",
              "      <td>17.000000</td>\n",
              "      <td>199.000000</td>\n",
              "      <td>122.000000</td>\n",
              "      <td>0.999744</td>\n",
              "      <td>67.100000</td>\n",
              "      <td>2.420000</td>\n",
              "      <td>99.000000</td>\n",
              "      <td>9.982058</td>\n",
              "      <td>81.000000</td>\n",
              "      <td>1.000000</td>\n",
              "    </tr>\n",
              "  </tbody>\n",
              "</table>\n",
              "</div>"
            ],
            "text/plain": [
              "       Pregnancies     Glucose  ...         Age     Outcome\n",
              "count   768.000000  768.000000  ...  768.000000  768.000000\n",
              "mean      3.845052  120.894531  ...   33.240885    0.338542\n",
              "std       3.369578   31.972618  ...   11.760232    0.473522\n",
              "min       0.000000    0.000000  ...   21.000000    0.000000\n",
              "25%       1.000000   99.000000  ...   24.000000    0.000000\n",
              "50%       3.000000  117.000000  ...   29.000000    0.000000\n",
              "75%       6.000000  140.250000  ...   41.000000    1.000000\n",
              "max      17.000000  199.000000  ...   81.000000    1.000000\n",
              "\n",
              "[8 rows x 10 columns]"
            ]
          },
          "metadata": {
            "tags": []
          },
          "execution_count": 10
        }
      ]
    },
    {
      "cell_type": "markdown",
      "metadata": {
        "id": "8e8u4BUnj_eN"
      },
      "source": [
        "How many cases have diabetes?\n"
      ]
    },
    {
      "cell_type": "code",
      "metadata": {
        "id": "TvVp164ykEDt",
        "colab": {
          "base_uri": "https://localhost:8080/"
        },
        "outputId": "6c9262ae-d3dc-4127-f467-edf989d23391"
      },
      "source": [
        "diabetes_count = diabetes_df.Outcome.value_counts()\n",
        "diabetes_count"
      ],
      "execution_count": null,
      "outputs": [
        {
          "output_type": "execute_result",
          "data": {
            "text/plain": [
              "0    508\n",
              "1    260\n",
              "Name: Outcome, dtype: int64"
            ]
          },
          "metadata": {
            "tags": []
          },
          "execution_count": 11
        }
      ]
    },
    {
      "cell_type": "markdown",
      "metadata": {
        "id": "VBchTSLdt9jQ"
      },
      "source": [
        "Is this a valid data set? \n"
      ]
    },
    {
      "cell_type": "code",
      "metadata": {
        "id": "pCBsq0kjkN-t"
      },
      "source": [
        "#get precentage\n",
        "percentage = [str(round(dia/diabetes_count.sum(),2)*100)+'%' for dia in diabetes_count ]"
      ],
      "execution_count": null,
      "outputs": []
    },
    {
      "cell_type": "code",
      "metadata": {
        "id": "oEZqJzzrkjyd",
        "colab": {
          "base_uri": "https://localhost:8080/",
          "height": 542
        },
        "outputId": "c9111969-9889-45c2-d0be-71512655bc95"
      },
      "source": [
        "fig = go.Figure()\n",
        "fig.add_trace(go.Bar(\n",
        "    x=['No', 'Yes'],\n",
        "    y=diabetes_count,\n",
        "    marker_color=['blue','orange'],\n",
        "    text=percentage,\n",
        "    textposition='outside',\n",
        "))\n",
        "fig.update_layout(\n",
        "    title='Diabetes detection', \n",
        "    yaxis_title='Number of cases',\n",
        "    )\n",
        "fig.show()"
      ],
      "execution_count": null,
      "outputs": [
        {
          "output_type": "display_data",
          "data": {
            "text/html": [
              "<html>\n",
              "<head><meta charset=\"utf-8\" /></head>\n",
              "<body>\n",
              "    <div>\n",
              "            <script src=\"https://cdnjs.cloudflare.com/ajax/libs/mathjax/2.7.5/MathJax.js?config=TeX-AMS-MML_SVG\"></script><script type=\"text/javascript\">if (window.MathJax) {MathJax.Hub.Config({SVG: {font: \"STIX-Web\"}});}</script>\n",
              "                <script type=\"text/javascript\">window.PlotlyConfig = {MathJaxConfig: 'local'};</script>\n",
              "        <script src=\"https://cdn.plot.ly/plotly-latest.min.js\"></script>    \n",
              "            <div id=\"0263d533-a7c8-4af8-8249-948b2dc72fed\" class=\"plotly-graph-div\" style=\"height:525px; width:100%;\"></div>\n",
              "            <script type=\"text/javascript\">\n",
              "                \n",
              "                    window.PLOTLYENV=window.PLOTLYENV || {};\n",
              "                    \n",
              "                if (document.getElementById(\"0263d533-a7c8-4af8-8249-948b2dc72fed\")) {\n",
              "                    Plotly.newPlot(\n",
              "                        '0263d533-a7c8-4af8-8249-948b2dc72fed',\n",
              "                        [{\"marker\": {\"color\": [\"blue\", \"orange\"]}, \"text\": [\"66.0%\", \"34.0%\"], \"textposition\": \"outside\", \"type\": \"bar\", \"x\": [\"No\", \"Yes\"], \"y\": [508, 260]}],\n",
              "                        {\"template\": {\"data\": {\"bar\": [{\"error_x\": {\"color\": \"#2a3f5f\"}, \"error_y\": {\"color\": \"#2a3f5f\"}, \"marker\": {\"line\": {\"color\": \"#E5ECF6\", \"width\": 0.5}}, \"type\": \"bar\"}], \"barpolar\": [{\"marker\": {\"line\": {\"color\": \"#E5ECF6\", \"width\": 0.5}}, \"type\": \"barpolar\"}], \"carpet\": [{\"aaxis\": {\"endlinecolor\": \"#2a3f5f\", \"gridcolor\": \"white\", \"linecolor\": \"white\", \"minorgridcolor\": \"white\", \"startlinecolor\": \"#2a3f5f\"}, \"baxis\": {\"endlinecolor\": \"#2a3f5f\", \"gridcolor\": \"white\", \"linecolor\": \"white\", \"minorgridcolor\": \"white\", \"startlinecolor\": \"#2a3f5f\"}, \"type\": \"carpet\"}], \"choropleth\": [{\"colorbar\": {\"outlinewidth\": 0, \"ticks\": \"\"}, \"type\": \"choropleth\"}], \"contour\": [{\"colorbar\": {\"outlinewidth\": 0, \"ticks\": \"\"}, \"colorscale\": [[0.0, \"#0d0887\"], [0.1111111111111111, \"#46039f\"], [0.2222222222222222, \"#7201a8\"], [0.3333333333333333, \"#9c179e\"], [0.4444444444444444, \"#bd3786\"], [0.5555555555555556, \"#d8576b\"], [0.6666666666666666, \"#ed7953\"], [0.7777777777777778, \"#fb9f3a\"], [0.8888888888888888, \"#fdca26\"], [1.0, \"#f0f921\"]], \"type\": \"contour\"}], \"contourcarpet\": [{\"colorbar\": {\"outlinewidth\": 0, \"ticks\": \"\"}, \"type\": \"contourcarpet\"}], \"heatmap\": [{\"colorbar\": {\"outlinewidth\": 0, \"ticks\": \"\"}, \"colorscale\": [[0.0, \"#0d0887\"], [0.1111111111111111, \"#46039f\"], [0.2222222222222222, \"#7201a8\"], [0.3333333333333333, \"#9c179e\"], [0.4444444444444444, \"#bd3786\"], [0.5555555555555556, \"#d8576b\"], [0.6666666666666666, \"#ed7953\"], [0.7777777777777778, \"#fb9f3a\"], [0.8888888888888888, \"#fdca26\"], [1.0, \"#f0f921\"]], \"type\": \"heatmap\"}], \"heatmapgl\": [{\"colorbar\": {\"outlinewidth\": 0, \"ticks\": \"\"}, \"colorscale\": [[0.0, \"#0d0887\"], [0.1111111111111111, \"#46039f\"], [0.2222222222222222, \"#7201a8\"], [0.3333333333333333, \"#9c179e\"], [0.4444444444444444, \"#bd3786\"], [0.5555555555555556, \"#d8576b\"], [0.6666666666666666, \"#ed7953\"], [0.7777777777777778, \"#fb9f3a\"], [0.8888888888888888, \"#fdca26\"], [1.0, \"#f0f921\"]], \"type\": \"heatmapgl\"}], \"histogram\": [{\"marker\": {\"colorbar\": {\"outlinewidth\": 0, \"ticks\": \"\"}}, \"type\": \"histogram\"}], \"histogram2d\": [{\"colorbar\": {\"outlinewidth\": 0, \"ticks\": \"\"}, \"colorscale\": [[0.0, \"#0d0887\"], [0.1111111111111111, \"#46039f\"], [0.2222222222222222, \"#7201a8\"], [0.3333333333333333, \"#9c179e\"], [0.4444444444444444, \"#bd3786\"], [0.5555555555555556, \"#d8576b\"], [0.6666666666666666, \"#ed7953\"], [0.7777777777777778, \"#fb9f3a\"], [0.8888888888888888, \"#fdca26\"], [1.0, \"#f0f921\"]], \"type\": \"histogram2d\"}], \"histogram2dcontour\": [{\"colorbar\": {\"outlinewidth\": 0, \"ticks\": \"\"}, \"colorscale\": [[0.0, \"#0d0887\"], [0.1111111111111111, \"#46039f\"], [0.2222222222222222, \"#7201a8\"], [0.3333333333333333, \"#9c179e\"], [0.4444444444444444, \"#bd3786\"], [0.5555555555555556, \"#d8576b\"], [0.6666666666666666, \"#ed7953\"], [0.7777777777777778, \"#fb9f3a\"], [0.8888888888888888, \"#fdca26\"], [1.0, \"#f0f921\"]], \"type\": \"histogram2dcontour\"}], \"mesh3d\": [{\"colorbar\": {\"outlinewidth\": 0, \"ticks\": \"\"}, \"type\": \"mesh3d\"}], \"parcoords\": [{\"line\": {\"colorbar\": {\"outlinewidth\": 0, \"ticks\": \"\"}}, \"type\": \"parcoords\"}], \"pie\": [{\"automargin\": true, \"type\": \"pie\"}], \"scatter\": [{\"marker\": {\"colorbar\": {\"outlinewidth\": 0, \"ticks\": \"\"}}, \"type\": \"scatter\"}], \"scatter3d\": [{\"line\": {\"colorbar\": {\"outlinewidth\": 0, \"ticks\": \"\"}}, \"marker\": {\"colorbar\": {\"outlinewidth\": 0, \"ticks\": \"\"}}, \"type\": \"scatter3d\"}], \"scattercarpet\": [{\"marker\": {\"colorbar\": {\"outlinewidth\": 0, \"ticks\": \"\"}}, \"type\": \"scattercarpet\"}], \"scattergeo\": [{\"marker\": {\"colorbar\": {\"outlinewidth\": 0, \"ticks\": \"\"}}, \"type\": \"scattergeo\"}], \"scattergl\": [{\"marker\": {\"colorbar\": {\"outlinewidth\": 0, \"ticks\": \"\"}}, \"type\": \"scattergl\"}], \"scattermapbox\": [{\"marker\": {\"colorbar\": {\"outlinewidth\": 0, \"ticks\": \"\"}}, \"type\": \"scattermapbox\"}], \"scatterpolar\": [{\"marker\": {\"colorbar\": {\"outlinewidth\": 0, \"ticks\": \"\"}}, \"type\": \"scatterpolar\"}], \"scatterpolargl\": [{\"marker\": {\"colorbar\": {\"outlinewidth\": 0, \"ticks\": \"\"}}, \"type\": \"scatterpolargl\"}], \"scatterternary\": [{\"marker\": {\"colorbar\": {\"outlinewidth\": 0, \"ticks\": \"\"}}, \"type\": \"scatterternary\"}], \"surface\": [{\"colorbar\": {\"outlinewidth\": 0, \"ticks\": \"\"}, \"colorscale\": [[0.0, \"#0d0887\"], [0.1111111111111111, \"#46039f\"], [0.2222222222222222, \"#7201a8\"], [0.3333333333333333, \"#9c179e\"], [0.4444444444444444, \"#bd3786\"], [0.5555555555555556, \"#d8576b\"], [0.6666666666666666, \"#ed7953\"], [0.7777777777777778, \"#fb9f3a\"], [0.8888888888888888, \"#fdca26\"], [1.0, \"#f0f921\"]], \"type\": \"surface\"}], \"table\": [{\"cells\": {\"fill\": {\"color\": \"#EBF0F8\"}, \"line\": {\"color\": \"white\"}}, \"header\": {\"fill\": {\"color\": \"#C8D4E3\"}, \"line\": {\"color\": \"white\"}}, \"type\": \"table\"}]}, \"layout\": {\"annotationdefaults\": {\"arrowcolor\": \"#2a3f5f\", \"arrowhead\": 0, \"arrowwidth\": 1}, \"coloraxis\": {\"colorbar\": {\"outlinewidth\": 0, \"ticks\": \"\"}}, \"colorscale\": {\"diverging\": [[0, \"#8e0152\"], [0.1, \"#c51b7d\"], [0.2, \"#de77ae\"], [0.3, \"#f1b6da\"], [0.4, \"#fde0ef\"], [0.5, \"#f7f7f7\"], [0.6, \"#e6f5d0\"], [0.7, \"#b8e186\"], [0.8, \"#7fbc41\"], [0.9, \"#4d9221\"], [1, \"#276419\"]], \"sequential\": [[0.0, \"#0d0887\"], [0.1111111111111111, \"#46039f\"], [0.2222222222222222, \"#7201a8\"], [0.3333333333333333, \"#9c179e\"], [0.4444444444444444, \"#bd3786\"], [0.5555555555555556, \"#d8576b\"], [0.6666666666666666, \"#ed7953\"], [0.7777777777777778, \"#fb9f3a\"], [0.8888888888888888, \"#fdca26\"], [1.0, \"#f0f921\"]], \"sequentialminus\": [[0.0, \"#0d0887\"], [0.1111111111111111, \"#46039f\"], [0.2222222222222222, \"#7201a8\"], [0.3333333333333333, \"#9c179e\"], [0.4444444444444444, \"#bd3786\"], [0.5555555555555556, \"#d8576b\"], [0.6666666666666666, \"#ed7953\"], [0.7777777777777778, \"#fb9f3a\"], [0.8888888888888888, \"#fdca26\"], [1.0, \"#f0f921\"]]}, \"colorway\": [\"#636efa\", \"#EF553B\", \"#00cc96\", \"#ab63fa\", \"#FFA15A\", \"#19d3f3\", \"#FF6692\", \"#B6E880\", \"#FF97FF\", \"#FECB52\"], \"font\": {\"color\": \"#2a3f5f\"}, \"geo\": {\"bgcolor\": \"white\", \"lakecolor\": \"white\", \"landcolor\": \"#E5ECF6\", \"showlakes\": true, \"showland\": true, \"subunitcolor\": \"white\"}, \"hoverlabel\": {\"align\": \"left\"}, \"hovermode\": \"closest\", \"mapbox\": {\"style\": \"light\"}, \"paper_bgcolor\": \"white\", \"plot_bgcolor\": \"#E5ECF6\", \"polar\": {\"angularaxis\": {\"gridcolor\": \"white\", \"linecolor\": \"white\", \"ticks\": \"\"}, \"bgcolor\": \"#E5ECF6\", \"radialaxis\": {\"gridcolor\": \"white\", \"linecolor\": \"white\", \"ticks\": \"\"}}, \"scene\": {\"xaxis\": {\"backgroundcolor\": \"#E5ECF6\", \"gridcolor\": \"white\", \"gridwidth\": 2, \"linecolor\": \"white\", \"showbackground\": true, \"ticks\": \"\", \"zerolinecolor\": \"white\"}, \"yaxis\": {\"backgroundcolor\": \"#E5ECF6\", \"gridcolor\": \"white\", \"gridwidth\": 2, \"linecolor\": \"white\", \"showbackground\": true, \"ticks\": \"\", \"zerolinecolor\": \"white\"}, \"zaxis\": {\"backgroundcolor\": \"#E5ECF6\", \"gridcolor\": \"white\", \"gridwidth\": 2, \"linecolor\": \"white\", \"showbackground\": true, \"ticks\": \"\", \"zerolinecolor\": \"white\"}}, \"shapedefaults\": {\"line\": {\"color\": \"#2a3f5f\"}}, \"ternary\": {\"aaxis\": {\"gridcolor\": \"white\", \"linecolor\": \"white\", \"ticks\": \"\"}, \"baxis\": {\"gridcolor\": \"white\", \"linecolor\": \"white\", \"ticks\": \"\"}, \"bgcolor\": \"#E5ECF6\", \"caxis\": {\"gridcolor\": \"white\", \"linecolor\": \"white\", \"ticks\": \"\"}}, \"title\": {\"x\": 0.05}, \"xaxis\": {\"automargin\": true, \"gridcolor\": \"white\", \"linecolor\": \"white\", \"ticks\": \"\", \"title\": {\"standoff\": 15}, \"zerolinecolor\": \"white\", \"zerolinewidth\": 2}, \"yaxis\": {\"automargin\": true, \"gridcolor\": \"white\", \"linecolor\": \"white\", \"ticks\": \"\", \"title\": {\"standoff\": 15}, \"zerolinecolor\": \"white\", \"zerolinewidth\": 2}}}, \"title\": {\"text\": \"Diabetes detection\"}, \"yaxis\": {\"title\": {\"text\": \"Number of cases\"}}},\n",
              "                        {\"responsive\": true}\n",
              "                    ).then(function(){\n",
              "                            \n",
              "var gd = document.getElementById('0263d533-a7c8-4af8-8249-948b2dc72fed');\n",
              "var x = new MutationObserver(function (mutations, observer) {{\n",
              "        var display = window.getComputedStyle(gd).display;\n",
              "        if (!display || display === 'none') {{\n",
              "            console.log([gd, 'removed!']);\n",
              "            Plotly.purge(gd);\n",
              "            observer.disconnect();\n",
              "        }}\n",
              "}});\n",
              "\n",
              "// Listen for the removal of the full notebook cells\n",
              "var notebookContainer = gd.closest('#notebook-container');\n",
              "if (notebookContainer) {{\n",
              "    x.observe(notebookContainer, {childList: true});\n",
              "}}\n",
              "\n",
              "// Listen for the clearing of the current output cell\n",
              "var outputEl = gd.closest('.output');\n",
              "if (outputEl) {{\n",
              "    x.observe(outputEl, {childList: true});\n",
              "}}\n",
              "\n",
              "                        })\n",
              "                };\n",
              "                \n",
              "            </script>\n",
              "        </div>\n",
              "</body>\n",
              "</html>"
            ]
          },
          "metadata": {
            "tags": []
          }
        }
      ]
    },
    {
      "cell_type": "markdown",
      "metadata": {
        "id": "ydaYn6GvqXom"
      },
      "source": [
        "inference :\n",
        "\n",
        "66% of cases do not have diabetes\n",
        "\n",
        "---\n",
        "\n"
      ]
    },
    {
      "cell_type": "markdown",
      "metadata": {
        "id": "r5tAvCNUk4t9"
      },
      "source": [
        "Show bar chart of diabetes by Age distribuation "
      ]
    },
    {
      "cell_type": "code",
      "metadata": {
        "id": "oHkTv07ZmKze",
        "colab": {
          "base_uri": "https://localhost:8080/",
          "height": 225
        },
        "outputId": "a2c4f723-ad3d-4ae5-d1ce-2eb4a607d0cc"
      },
      "source": [
        "ages = diabetes_df.pivot_table(index='Age', values='Outcome', aggfunc='mean')\n",
        "ages['no'] = 1-ages.Outcome\n",
        "ages.columns = ['Yes', 'No']\n",
        "ages.head()"
      ],
      "execution_count": null,
      "outputs": [
        {
          "output_type": "execute_result",
          "data": {
            "text/html": [
              "<div>\n",
              "<style scoped>\n",
              "    .dataframe tbody tr th:only-of-type {\n",
              "        vertical-align: middle;\n",
              "    }\n",
              "\n",
              "    .dataframe tbody tr th {\n",
              "        vertical-align: top;\n",
              "    }\n",
              "\n",
              "    .dataframe thead th {\n",
              "        text-align: right;\n",
              "    }\n",
              "</style>\n",
              "<table border=\"1\" class=\"dataframe\">\n",
              "  <thead>\n",
              "    <tr style=\"text-align: right;\">\n",
              "      <th></th>\n",
              "      <th>BMI</th>\n",
              "      <th>BloodPressure</th>\n",
              "      <th>DiabetesPedigreeFunction</th>\n",
              "      <th>Glucose</th>\n",
              "      <th>Outcome</th>\n",
              "      <th>Pregnancies</th>\n",
              "      <th>SkinThickness</th>\n",
              "      <th>a1c</th>\n",
              "      <th>appt</th>\n",
              "    </tr>\n",
              "    <tr>\n",
              "      <th>Age</th>\n",
              "      <th></th>\n",
              "      <th></th>\n",
              "      <th></th>\n",
              "      <th></th>\n",
              "      <th></th>\n",
              "      <th></th>\n",
              "      <th></th>\n",
              "      <th></th>\n",
              "      <th></th>\n",
              "    </tr>\n",
              "  </thead>\n",
              "  <tbody>\n",
              "    <tr>\n",
              "      <th>21</th>\n",
              "      <td>27.817460</td>\n",
              "      <td>65.936508</td>\n",
              "      <td>0.433825</td>\n",
              "      <td>108.317460</td>\n",
              "      <td>0.079365</td>\n",
              "      <td>1.079365</td>\n",
              "      <td>19.349206</td>\n",
              "      <td>4.995794</td>\n",
              "      <td>0.454530</td>\n",
              "    </tr>\n",
              "    <tr>\n",
              "      <th>22</th>\n",
              "      <td>29.509722</td>\n",
              "      <td>63.722222</td>\n",
              "      <td>0.430625</td>\n",
              "      <td>108.208333</td>\n",
              "      <td>0.138889</td>\n",
              "      <td>1.555556</td>\n",
              "      <td>20.486111</td>\n",
              "      <td>5.153341</td>\n",
              "      <td>0.455676</td>\n",
              "    </tr>\n",
              "    <tr>\n",
              "      <th>23</th>\n",
              "      <td>31.502632</td>\n",
              "      <td>64.315789</td>\n",
              "      <td>0.438579</td>\n",
              "      <td>111.578947</td>\n",
              "      <td>0.157895</td>\n",
              "      <td>1.578947</td>\n",
              "      <td>22.368421</td>\n",
              "      <td>4.242351</td>\n",
              "      <td>0.504361</td>\n",
              "    </tr>\n",
              "    <tr>\n",
              "      <th>24</th>\n",
              "      <td>32.569565</td>\n",
              "      <td>64.956522</td>\n",
              "      <td>0.393565</td>\n",
              "      <td>117.891304</td>\n",
              "      <td>0.173913</td>\n",
              "      <td>1.891304</td>\n",
              "      <td>25.934783</td>\n",
              "      <td>5.648687</td>\n",
              "      <td>0.488084</td>\n",
              "    </tr>\n",
              "    <tr>\n",
              "      <th>25</th>\n",
              "      <td>31.943750</td>\n",
              "      <td>59.666667</td>\n",
              "      <td>0.600500</td>\n",
              "      <td>110.083333</td>\n",
              "      <td>0.250000</td>\n",
              "      <td>1.770833</td>\n",
              "      <td>23.958333</td>\n",
              "      <td>5.142493</td>\n",
              "      <td>0.525859</td>\n",
              "    </tr>\n",
              "  </tbody>\n",
              "</table>\n",
              "</div>"
            ],
            "text/plain": [
              "           BMI  BloodPressure  ...       a1c      appt\n",
              "Age                            ...                    \n",
              "21   27.817460      65.936508  ...  4.995794  0.454530\n",
              "22   29.509722      63.722222  ...  5.153341  0.455676\n",
              "23   31.502632      64.315789  ...  4.242351  0.504361\n",
              "24   32.569565      64.956522  ...  5.648687  0.488084\n",
              "25   31.943750      59.666667  ...  5.142493  0.525859\n",
              "\n",
              "[5 rows x 9 columns]"
            ]
          },
          "metadata": {
            "tags": []
          },
          "execution_count": 20
        }
      ]
    },
    {
      "cell_type": "code",
      "metadata": {
        "id": "43X79J52lJKd",
        "colab": {
          "base_uri": "https://localhost:8080/",
          "height": 542
        },
        "outputId": "43abaafa-dfad-415f-c190-e1922b054e41"
      },
      "source": [
        "fig = go.Figure()\n",
        "fig.add_trace(go.Bar(x=ages.index, y=ages.No, name='No Diabetes'))\n",
        "fig.add_trace(go.Bar(x=ages.index, y=ages.Yes, name='Diabetes'))\n",
        "fig.update_layout(\n",
        "    title_text='Distribution of ages', # title of plot\n",
        "    xaxis_title_text='Age', # xaxis label\n",
        "    yaxis_title_text='Count', # yaxis label\n",
        "    bargap=0.2, # gap between bars of adjacent location coordinates,\n",
        "    barmode='stack'\n",
        ")\n",
        "\n",
        "fig.show()"
      ],
      "execution_count": null,
      "outputs": [
        {
          "output_type": "display_data",
          "data": {
            "text/html": [
              "<html>\n",
              "<head><meta charset=\"utf-8\" /></head>\n",
              "<body>\n",
              "    <div>\n",
              "            <script src=\"https://cdnjs.cloudflare.com/ajax/libs/mathjax/2.7.5/MathJax.js?config=TeX-AMS-MML_SVG\"></script><script type=\"text/javascript\">if (window.MathJax) {MathJax.Hub.Config({SVG: {font: \"STIX-Web\"}});}</script>\n",
              "                <script type=\"text/javascript\">window.PlotlyConfig = {MathJaxConfig: 'local'};</script>\n",
              "        <script src=\"https://cdn.plot.ly/plotly-latest.min.js\"></script>    \n",
              "            <div id=\"ae3d5dbd-b2bf-4ffb-9b28-a6024c53148b\" class=\"plotly-graph-div\" style=\"height:525px; width:100%;\"></div>\n",
              "            <script type=\"text/javascript\">\n",
              "                \n",
              "                    window.PLOTLYENV=window.PLOTLYENV || {};\n",
              "                    \n",
              "                if (document.getElementById(\"ae3d5dbd-b2bf-4ffb-9b28-a6024c53148b\")) {\n",
              "                    Plotly.newPlot(\n",
              "                        'ae3d5dbd-b2bf-4ffb-9b28-a6024c53148b',\n",
              "                        [{\"name\": \"No Diabetes\", \"type\": \"bar\", \"x\": [21, 22, 23, 24, 25, 26, 27, 28, 29, 30, 31, 32, 33, 34, 35, 36, 37, 38, 39, 40, 41, 42, 43, 44, 45, 46, 47, 48, 49, 50, 51, 52, 53, 54, 55, 56, 57, 58, 59, 60, 61, 62, 63, 64, 65, 66, 67, 68, 69, 70, 72, 81], \"y\": [0.9206349206349207, 0.8611111111111112, 0.8421052631578947, 0.8260869565217391, 0.75, 0.7575757575757576, 0.75, 0.7142857142857143, 0.5517241379310345, 0.7619047619047619, 0.45833333333333337, 0.4375, 0.4117647058823529, 0.7142857142857143, 0.5, 0.375, 0.6842105263157895, 0.375, 0.75, 0.5384615384615384, 0.40909090909090906, 0.6111111111111112, 0.15384615384615385, 0.375, 0.4666666666666667, 0.46153846153846156, 0.5, 0.8, 0.4, 0.25, 0.375, 0.125, 0.4, 0.5, 0.75, 0.33333333333333337, 0.8, 0.5714285714285714, 0.33333333333333337, 0.8, 0.5, 0.5, 1.0, 1.0, 1.0, 0.5, 0.6666666666666667, 1.0, 1.0, 0.0, 1.0, 1.0]}, {\"name\": \"Diabetes\", \"type\": \"bar\", \"x\": [21, 22, 23, 24, 25, 26, 27, 28, 29, 30, 31, 32, 33, 34, 35, 36, 37, 38, 39, 40, 41, 42, 43, 44, 45, 46, 47, 48, 49, 50, 51, 52, 53, 54, 55, 56, 57, 58, 59, 60, 61, 62, 63, 64, 65, 66, 67, 68, 69, 70, 72, 81], \"y\": [0.07936507936507936, 0.1388888888888889, 0.15789473684210525, 0.17391304347826086, 0.25, 0.24242424242424243, 0.25, 0.2857142857142857, 0.4482758620689655, 0.23809523809523808, 0.5416666666666666, 0.5625, 0.5882352941176471, 0.2857142857142857, 0.5, 0.625, 0.3157894736842105, 0.625, 0.25, 0.46153846153846156, 0.5909090909090909, 0.3888888888888889, 0.8461538461538461, 0.625, 0.5333333333333333, 0.5384615384615384, 0.5, 0.2, 0.6, 0.75, 0.625, 0.875, 0.6, 0.5, 0.25, 0.6666666666666666, 0.2, 0.42857142857142855, 0.6666666666666666, 0.2, 0.5, 0.5, 0.0, 0.0, 0.0, 0.5, 0.3333333333333333, 0.0, 0.0, 1.0, 0.0, 0.0]}],\n",
              "                        {\"bargap\": 0.2, \"barmode\": \"stack\", \"template\": {\"data\": {\"bar\": [{\"error_x\": {\"color\": \"#2a3f5f\"}, \"error_y\": {\"color\": \"#2a3f5f\"}, \"marker\": {\"line\": {\"color\": \"#E5ECF6\", \"width\": 0.5}}, \"type\": \"bar\"}], \"barpolar\": [{\"marker\": {\"line\": {\"color\": \"#E5ECF6\", \"width\": 0.5}}, \"type\": \"barpolar\"}], \"carpet\": [{\"aaxis\": {\"endlinecolor\": \"#2a3f5f\", \"gridcolor\": \"white\", \"linecolor\": \"white\", \"minorgridcolor\": \"white\", \"startlinecolor\": \"#2a3f5f\"}, \"baxis\": {\"endlinecolor\": \"#2a3f5f\", \"gridcolor\": \"white\", \"linecolor\": \"white\", \"minorgridcolor\": \"white\", \"startlinecolor\": \"#2a3f5f\"}, \"type\": \"carpet\"}], \"choropleth\": [{\"colorbar\": {\"outlinewidth\": 0, \"ticks\": \"\"}, \"type\": \"choropleth\"}], \"contour\": [{\"colorbar\": {\"outlinewidth\": 0, \"ticks\": \"\"}, \"colorscale\": [[0.0, \"#0d0887\"], [0.1111111111111111, \"#46039f\"], [0.2222222222222222, \"#7201a8\"], [0.3333333333333333, \"#9c179e\"], [0.4444444444444444, \"#bd3786\"], [0.5555555555555556, \"#d8576b\"], [0.6666666666666666, \"#ed7953\"], [0.7777777777777778, \"#fb9f3a\"], [0.8888888888888888, \"#fdca26\"], [1.0, \"#f0f921\"]], \"type\": \"contour\"}], \"contourcarpet\": [{\"colorbar\": {\"outlinewidth\": 0, \"ticks\": \"\"}, \"type\": \"contourcarpet\"}], \"heatmap\": [{\"colorbar\": {\"outlinewidth\": 0, \"ticks\": \"\"}, \"colorscale\": [[0.0, \"#0d0887\"], [0.1111111111111111, \"#46039f\"], [0.2222222222222222, \"#7201a8\"], [0.3333333333333333, \"#9c179e\"], [0.4444444444444444, \"#bd3786\"], [0.5555555555555556, \"#d8576b\"], [0.6666666666666666, \"#ed7953\"], [0.7777777777777778, \"#fb9f3a\"], [0.8888888888888888, \"#fdca26\"], [1.0, \"#f0f921\"]], \"type\": \"heatmap\"}], \"heatmapgl\": [{\"colorbar\": {\"outlinewidth\": 0, \"ticks\": \"\"}, \"colorscale\": [[0.0, \"#0d0887\"], [0.1111111111111111, \"#46039f\"], [0.2222222222222222, \"#7201a8\"], [0.3333333333333333, \"#9c179e\"], [0.4444444444444444, \"#bd3786\"], [0.5555555555555556, \"#d8576b\"], [0.6666666666666666, \"#ed7953\"], [0.7777777777777778, \"#fb9f3a\"], [0.8888888888888888, \"#fdca26\"], [1.0, \"#f0f921\"]], \"type\": \"heatmapgl\"}], \"histogram\": [{\"marker\": {\"colorbar\": {\"outlinewidth\": 0, \"ticks\": \"\"}}, \"type\": \"histogram\"}], \"histogram2d\": [{\"colorbar\": {\"outlinewidth\": 0, \"ticks\": \"\"}, \"colorscale\": [[0.0, \"#0d0887\"], [0.1111111111111111, \"#46039f\"], [0.2222222222222222, \"#7201a8\"], [0.3333333333333333, \"#9c179e\"], [0.4444444444444444, \"#bd3786\"], [0.5555555555555556, \"#d8576b\"], [0.6666666666666666, \"#ed7953\"], [0.7777777777777778, \"#fb9f3a\"], [0.8888888888888888, \"#fdca26\"], [1.0, \"#f0f921\"]], \"type\": \"histogram2d\"}], \"histogram2dcontour\": [{\"colorbar\": {\"outlinewidth\": 0, \"ticks\": \"\"}, \"colorscale\": [[0.0, \"#0d0887\"], [0.1111111111111111, \"#46039f\"], [0.2222222222222222, \"#7201a8\"], [0.3333333333333333, \"#9c179e\"], [0.4444444444444444, \"#bd3786\"], [0.5555555555555556, \"#d8576b\"], [0.6666666666666666, \"#ed7953\"], [0.7777777777777778, \"#fb9f3a\"], [0.8888888888888888, \"#fdca26\"], [1.0, \"#f0f921\"]], \"type\": \"histogram2dcontour\"}], \"mesh3d\": [{\"colorbar\": {\"outlinewidth\": 0, \"ticks\": \"\"}, \"type\": \"mesh3d\"}], \"parcoords\": [{\"line\": {\"colorbar\": {\"outlinewidth\": 0, \"ticks\": \"\"}}, \"type\": \"parcoords\"}], \"pie\": [{\"automargin\": true, \"type\": \"pie\"}], \"scatter\": [{\"marker\": {\"colorbar\": {\"outlinewidth\": 0, \"ticks\": \"\"}}, \"type\": \"scatter\"}], \"scatter3d\": [{\"line\": {\"colorbar\": {\"outlinewidth\": 0, \"ticks\": \"\"}}, \"marker\": {\"colorbar\": {\"outlinewidth\": 0, \"ticks\": \"\"}}, \"type\": \"scatter3d\"}], \"scattercarpet\": [{\"marker\": {\"colorbar\": {\"outlinewidth\": 0, \"ticks\": \"\"}}, \"type\": \"scattercarpet\"}], \"scattergeo\": [{\"marker\": {\"colorbar\": {\"outlinewidth\": 0, \"ticks\": \"\"}}, \"type\": \"scattergeo\"}], \"scattergl\": [{\"marker\": {\"colorbar\": {\"outlinewidth\": 0, \"ticks\": \"\"}}, \"type\": \"scattergl\"}], \"scattermapbox\": [{\"marker\": {\"colorbar\": {\"outlinewidth\": 0, \"ticks\": \"\"}}, \"type\": \"scattermapbox\"}], \"scatterpolar\": [{\"marker\": {\"colorbar\": {\"outlinewidth\": 0, \"ticks\": \"\"}}, \"type\": \"scatterpolar\"}], \"scatterpolargl\": [{\"marker\": {\"colorbar\": {\"outlinewidth\": 0, \"ticks\": \"\"}}, \"type\": \"scatterpolargl\"}], \"scatterternary\": [{\"marker\": {\"colorbar\": {\"outlinewidth\": 0, \"ticks\": \"\"}}, \"type\": \"scatterternary\"}], \"surface\": [{\"colorbar\": {\"outlinewidth\": 0, \"ticks\": \"\"}, \"colorscale\": [[0.0, \"#0d0887\"], [0.1111111111111111, \"#46039f\"], [0.2222222222222222, \"#7201a8\"], [0.3333333333333333, \"#9c179e\"], [0.4444444444444444, \"#bd3786\"], [0.5555555555555556, \"#d8576b\"], [0.6666666666666666, \"#ed7953\"], [0.7777777777777778, \"#fb9f3a\"], [0.8888888888888888, \"#fdca26\"], [1.0, \"#f0f921\"]], \"type\": \"surface\"}], \"table\": [{\"cells\": {\"fill\": {\"color\": \"#EBF0F8\"}, \"line\": {\"color\": \"white\"}}, \"header\": {\"fill\": {\"color\": \"#C8D4E3\"}, \"line\": {\"color\": \"white\"}}, \"type\": \"table\"}]}, \"layout\": {\"annotationdefaults\": {\"arrowcolor\": \"#2a3f5f\", \"arrowhead\": 0, \"arrowwidth\": 1}, \"coloraxis\": {\"colorbar\": {\"outlinewidth\": 0, \"ticks\": \"\"}}, \"colorscale\": {\"diverging\": [[0, \"#8e0152\"], [0.1, \"#c51b7d\"], [0.2, \"#de77ae\"], [0.3, \"#f1b6da\"], [0.4, \"#fde0ef\"], [0.5, \"#f7f7f7\"], [0.6, \"#e6f5d0\"], [0.7, \"#b8e186\"], [0.8, \"#7fbc41\"], [0.9, \"#4d9221\"], [1, \"#276419\"]], \"sequential\": [[0.0, \"#0d0887\"], [0.1111111111111111, \"#46039f\"], [0.2222222222222222, \"#7201a8\"], [0.3333333333333333, \"#9c179e\"], [0.4444444444444444, \"#bd3786\"], [0.5555555555555556, \"#d8576b\"], [0.6666666666666666, \"#ed7953\"], [0.7777777777777778, \"#fb9f3a\"], [0.8888888888888888, \"#fdca26\"], [1.0, \"#f0f921\"]], \"sequentialminus\": [[0.0, \"#0d0887\"], [0.1111111111111111, \"#46039f\"], [0.2222222222222222, \"#7201a8\"], [0.3333333333333333, \"#9c179e\"], [0.4444444444444444, \"#bd3786\"], [0.5555555555555556, \"#d8576b\"], [0.6666666666666666, \"#ed7953\"], [0.7777777777777778, \"#fb9f3a\"], [0.8888888888888888, \"#fdca26\"], [1.0, \"#f0f921\"]]}, \"colorway\": [\"#636efa\", \"#EF553B\", \"#00cc96\", \"#ab63fa\", \"#FFA15A\", \"#19d3f3\", \"#FF6692\", \"#B6E880\", \"#FF97FF\", \"#FECB52\"], \"font\": {\"color\": \"#2a3f5f\"}, \"geo\": {\"bgcolor\": \"white\", \"lakecolor\": \"white\", \"landcolor\": \"#E5ECF6\", \"showlakes\": true, \"showland\": true, \"subunitcolor\": \"white\"}, \"hoverlabel\": {\"align\": \"left\"}, \"hovermode\": \"closest\", \"mapbox\": {\"style\": \"light\"}, \"paper_bgcolor\": \"white\", \"plot_bgcolor\": \"#E5ECF6\", \"polar\": {\"angularaxis\": {\"gridcolor\": \"white\", \"linecolor\": \"white\", \"ticks\": \"\"}, \"bgcolor\": \"#E5ECF6\", \"radialaxis\": {\"gridcolor\": \"white\", \"linecolor\": \"white\", \"ticks\": \"\"}}, \"scene\": {\"xaxis\": {\"backgroundcolor\": \"#E5ECF6\", \"gridcolor\": \"white\", \"gridwidth\": 2, \"linecolor\": \"white\", \"showbackground\": true, \"ticks\": \"\", \"zerolinecolor\": \"white\"}, \"yaxis\": {\"backgroundcolor\": \"#E5ECF6\", \"gridcolor\": \"white\", \"gridwidth\": 2, \"linecolor\": \"white\", \"showbackground\": true, \"ticks\": \"\", \"zerolinecolor\": \"white\"}, \"zaxis\": {\"backgroundcolor\": \"#E5ECF6\", \"gridcolor\": \"white\", \"gridwidth\": 2, \"linecolor\": \"white\", \"showbackground\": true, \"ticks\": \"\", \"zerolinecolor\": \"white\"}}, \"shapedefaults\": {\"line\": {\"color\": \"#2a3f5f\"}}, \"ternary\": {\"aaxis\": {\"gridcolor\": \"white\", \"linecolor\": \"white\", \"ticks\": \"\"}, \"baxis\": {\"gridcolor\": \"white\", \"linecolor\": \"white\", \"ticks\": \"\"}, \"bgcolor\": \"#E5ECF6\", \"caxis\": {\"gridcolor\": \"white\", \"linecolor\": \"white\", \"ticks\": \"\"}}, \"title\": {\"x\": 0.05}, \"xaxis\": {\"automargin\": true, \"gridcolor\": \"white\", \"linecolor\": \"white\", \"ticks\": \"\", \"title\": {\"standoff\": 15}, \"zerolinecolor\": \"white\", \"zerolinewidth\": 2}, \"yaxis\": {\"automargin\": true, \"gridcolor\": \"white\", \"linecolor\": \"white\", \"ticks\": \"\", \"title\": {\"standoff\": 15}, \"zerolinecolor\": \"white\", \"zerolinewidth\": 2}}}, \"title\": {\"text\": \"Distribution of ages\"}, \"xaxis\": {\"title\": {\"text\": \"Age\"}}, \"yaxis\": {\"title\": {\"text\": \"Count\"}}},\n",
              "                        {\"responsive\": true}\n",
              "                    ).then(function(){\n",
              "                            \n",
              "var gd = document.getElementById('ae3d5dbd-b2bf-4ffb-9b28-a6024c53148b');\n",
              "var x = new MutationObserver(function (mutations, observer) {{\n",
              "        var display = window.getComputedStyle(gd).display;\n",
              "        if (!display || display === 'none') {{\n",
              "            console.log([gd, 'removed!']);\n",
              "            Plotly.purge(gd);\n",
              "            observer.disconnect();\n",
              "        }}\n",
              "}});\n",
              "\n",
              "// Listen for the removal of the full notebook cells\n",
              "var notebookContainer = gd.closest('#notebook-container');\n",
              "if (notebookContainer) {{\n",
              "    x.observe(notebookContainer, {childList: true});\n",
              "}}\n",
              "\n",
              "// Listen for the clearing of the current output cell\n",
              "var outputEl = gd.closest('.output');\n",
              "if (outputEl) {{\n",
              "    x.observe(outputEl, {childList: true});\n",
              "}}\n",
              "\n",
              "                        })\n",
              "                };\n",
              "                \n",
              "            </script>\n",
              "        </div>\n",
              "</body>\n",
              "</html>"
            ]
          },
          "metadata": {
            "tags": []
          }
        }
      ]
    },
    {
      "cell_type": "markdown",
      "metadata": {
        "id": "KWRnt4qYlOZ9"
      },
      "source": [
        "Inference:\n",
        "Dibetes manifests more often in cases of age 40 to 60"
      ]
    },
    {
      "cell_type": "markdown",
      "metadata": {
        "id": "2STqnr14b3Hc"
      },
      "source": [
        "Pair plot\n"
      ]
    },
    {
      "cell_type": "code",
      "metadata": {
        "id": "Mr7csowjb5yD",
        "colab": {
          "base_uri": "https://localhost:8080/",
          "height": 917
        },
        "outputId": "3f21a1d3-dd20-457b-c7d5-7c04a3a6a256"
      },
      "source": [
        "dimensions = [dict(label=x, values=diabetes_df[x]) for x in diabetes_df.columns if x != 'Outcome']\n",
        "fig = go.Figure()\n",
        "fig.add_trace(go.Splom(dimensions=dimensions))\n",
        "fig.update_traces(\n",
        "    marker=dict(color=diabetes_df['Outcome'],\n",
        "                size=5,\n",
        "                colorscale='Bluered',\n",
        "                line=dict(width=0.5,\n",
        "                color='rgb(230,230,230)')),\n",
        "    text=['non-diabetic' if outcome==0 else 'diabetic' for outcome in diabetes_df['Outcome']],\n",
        "    diagonal=dict(visible=True)\n",
        ")\n",
        "fig.update_layout(\n",
        "    font=dict(\n",
        "        family=\"monospace\",\n",
        "        size=8,\n",
        "        color=\"RebeccaPurple\"\n",
        "    ),\n",
        "\n",
        "    height=900\n",
        ")\n",
        "fig.show()\n"
      ],
      "execution_count": null,
      "outputs": [
        {
          "output_type": "display_data",
          "data": {
            "text/html": [
              "<html>\n",
              "<head><meta charset=\"utf-8\" /></head>\n",
              "<body>\n",
              "    <div>\n",
              "            <script src=\"https://cdnjs.cloudflare.com/ajax/libs/mathjax/2.7.5/MathJax.js?config=TeX-AMS-MML_SVG\"></script><script type=\"text/javascript\">if (window.MathJax) {MathJax.Hub.Config({SVG: {font: \"STIX-Web\"}});}</script>\n",
              "                <script type=\"text/javascript\">window.PlotlyConfig = {MathJaxConfig: 'local'};</script>\n",
              "        <script src=\"https://cdn.plot.ly/plotly-latest.min.js\"></script>    \n",
              "            <div id=\"81022e35-600e-4cab-b63d-746fd91a2df9\" class=\"plotly-graph-div\" style=\"height:900px; width:100%;\"></div>\n",
              "            <script type=\"text/javascript\">\n",
              "                \n",
              "                    window.PLOTLYENV=window.PLOTLYENV || {};\n",
              "                    \n",
              "                if (document.getElementById(\"81022e35-600e-4cab-b63d-746fd91a2df9\")) {\n",
              "                    Plotly.newPlot(\n",
              "                        '81022e35-600e-4cab-b63d-746fd91a2df9',\n",
              "                        [{\"diagonal\": {\"visible\": true}, \"dimensions\": [{\"label\": \"Pregnancies\", \"values\": [6, 1, 8, 1, 0, 5, 3, 10, 2, 8, 4, 10, 10, 1, 5, 7, 0, 7, 1, 1, 3, 8, 7, 9, 11, 10, 7, 1, 13, 5, 5, 3, 3, 6, 10, 4, 11, 9, 2, 4, 3, 7, 7, 9, 7, 0, 1, 2, 7, 7, 1, 1, 5, 8, 7, 1, 7, 0, 0, 0, 2, 8, 5, 2, 7, 5, 0, 2, 1, 4, 2, 5, 13, 4, 1, 1, 7, 5, 0, 2, 3, 2, 7, 0, 5, 2, 13, 2, 15, 1, 1, 4, 7, 4, 2, 6, 2, 1, 6, 1, 1, 1, 0, 1, 2, 1, 1, 4, 3, 0, 3, 8, 1, 4, 7, 4, 5, 5, 4, 4, 0, 6, 2, 5, 0, 1, 3, 1, 1, 0, 4, 9, 3, 8, 2, 2, 0, 0, 0, 5, 3, 5, 2, 10, 4, 0, 9, 2, 5, 2, 1, 4, 9, 1, 8, 7, 2, 1, 2, 17, 4, 7, 0, 2, 0, 6, 3, 4, 4, 3, 6, 6, 2, 1, 2, 8, 6, 0, 5, 5, 6, 0, 1, 5, 4, 7, 8, 1, 8, 5, 3, 9, 7, 11, 8, 5, 1, 3, 4, 4, 0, 1, 0, 2, 6, 5, 8, 5, 1, 7, 2, 0, 7, 0, 9, 12, 5, 6, 5, 5, 0, 2, 7, 7, 1, 1, 0, 3, 4, 0, 4, 6, 1, 4, 3, 4, 7, 0, 9, 0, 1, 4, 3, 6, 2, 9, 10, 0, 9, 1, 9, 2, 2, 0, 12, 1, 3, 2, 1, 11, 3, 3, 4, 3, 4, 5, 0, 2, 0, 2, 10, 2, 3, 1, 13, 2, 7, 0, 5, 2, 0, 10, 7, 7, 2, 7, 5, 1, 4, 5, 0, 0, 2, 1, 0, 6, 2, 0, 14, 8, 0, 2, 5, 5, 3, 2, 10, 0, 0, 2, 6, 0, 2, 3, 7, 2, 3, 3, 3, 6, 4, 3, 0, 13, 2, 1, 1, 10, 2, 6, 8, 2, 1, 12, 1, 0, 0, 5, 9, 7, 1, 1, 1, 5, 8, 8, 1, 3, 3, 5, 4, 4, 3, 1, 3, 9, 1, 13, 12, 1, 5, 5, 5, 4, 4, 5, 6, 0, 3, 1, 3, 0, 0, 2, 2, 12, 0, 1, 4, 0, 1, 0, 1, 1, 1, 1, 5, 8, 5, 3, 1, 5, 1, 4, 4, 2, 3, 0, 3, 3, 4, 6, 5, 9, 5, 2, 4, 0, 8, 1, 6, 1, 1, 1, 0, 3, 1, 4, 1, 3, 1, 2, 0, 2, 8, 4, 0, 1, 0, 1, 2, 3, 1, 2, 1, 0, 12, 5, 1, 6, 0, 2, 4, 8, 4, 0, 1, 0, 0, 0, 1, 2, 0, 2, 2, 14, 1, 5, 10, 9, 9, 1, 8, 5, 10, 0, 0, 0, 8, 6, 1, 0, 0, 7, 4, 0, 2, 7, 8, 4, 3, 0, 4, 0, 0, 0, 1, 0, 4, 8, 2, 2, 4, 4, 3, 6, 5, 2, 7, 6, 2, 3, 6, 7, 3, 10, 0, 1, 2, 8, 12, 0, 9, 2, 3, 3, 9, 7, 13, 6, 2, 3, 6, 9, 3, 3, 1, 3, 0, 0, 2, 0, 1, 6, 1, 4, 0, 0, 0, 3, 8, 3, 10, 4, 1, 8, 5, 4, 1, 4, 1, 3, 6, 1, 1, 7, 1, 8, 11, 11, 6, 0, 1, 6, 0, 2, 1, 6, 4, 0, 3, 2, 3, 2, 1, 1, 6, 2, 10, 2, 0, 6, 12, 8, 8, 1, 8, 6, 3, 0, 11, 2, 3, 2, 6, 0, 0, 1, 1, 1, 1, 6, 1, 7, 4, 1, 1, 1, 0, 1, 3, 3, 7, 6, 11, 3, 6, 2, 9, 0, 2, 2, 6, 0, 2, 4, 0, 0, 5, 4, 7, 0, 2, 1, 10, 13, 5, 2, 7, 1, 0, 4, 6, 4, 3, 2, 1, 0, 11, 0, 1, 1, 5, 2, 1, 2, 2, 1, 11, 3, 10, 1, 8, 9, 6, 1, 4, 10, 6, 9, 6, 1, 10, 3, 8, 6, 9, 0, 3, 2, 2, 0, 0, 4, 5, 2, 3, 1, 1, 1, 8, 13, 2, 7, 2, 7, 3, 0, 4, 4, 2, 6, 1, 2, 4, 6, 10, 2, 9, 2, 3, 5, 10, 0, 3, 7, 3, 10, 1, 5, 4, 1, 1, 5, 1, 4, 1, 0, 2, 2, 3, 8, 2, 2, 2, 4, 0, 8, 2, 1, 11, 3, 1, 9, 13, 12, 1, 1, 3, 6, 4, 1, 3, 0, 8, 1, 7, 0, 1, 6, 2, 9, 9, 10, 2, 5, 1, 1]}, {\"label\": \"Glucose\", \"values\": [148, 85, 183, 89, 137, 116, 78, 115, 197, 125, 110, 168, 139, 189, 166, 100, 118, 107, 103, 115, 126, 99, 196, 119, 143, 125, 147, 97, 145, 117, 109, 158, 88, 92, 122, 103, 138, 102, 90, 111, 180, 133, 106, 171, 159, 180, 146, 71, 103, 105, 103, 101, 88, 176, 150, 73, 187, 100, 146, 105, 84, 133, 44, 141, 114, 99, 109, 109, 95, 146, 100, 139, 126, 129, 79, 0, 62, 95, 131, 112, 113, 74, 83, 101, 137, 110, 106, 100, 136, 107, 80, 123, 81, 134, 142, 144, 92, 71, 93, 122, 163, 151, 125, 81, 85, 126, 96, 144, 83, 95, 171, 155, 89, 76, 160, 146, 124, 78, 97, 99, 162, 111, 107, 132, 113, 88, 120, 118, 117, 105, 173, 122, 170, 84, 96, 125, 100, 93, 129, 105, 128, 106, 108, 108, 154, 102, 57, 106, 147, 90, 136, 114, 156, 153, 188, 152, 99, 109, 88, 163, 151, 102, 114, 100, 131, 104, 148, 120, 110, 111, 102, 134, 87, 79, 75, 179, 85, 129, 143, 130, 87, 119, 0, 73, 141, 194, 181, 128, 109, 139, 111, 123, 159, 135, 85, 158, 105, 107, 109, 148, 113, 138, 108, 99, 103, 111, 196, 162, 96, 184, 81, 147, 179, 140, 112, 151, 109, 125, 85, 112, 177, 158, 119, 142, 100, 87, 101, 162, 197, 117, 142, 134, 79, 122, 74, 171, 181, 179, 164, 104, 91, 91, 139, 119, 146, 184, 122, 165, 124, 111, 106, 129, 90, 86, 92, 113, 111, 114, 193, 155, 191, 141, 95, 142, 123, 96, 138, 128, 102, 146, 101, 108, 122, 71, 106, 100, 106, 104, 114, 108, 146, 129, 133, 161, 108, 136, 155, 119, 96, 108, 78, 107, 128, 128, 161, 151, 146, 126, 100, 112, 167, 144, 77, 115, 150, 120, 161, 137, 128, 124, 80, 106, 155, 113, 109, 112, 99, 182, 115, 194, 129, 112, 124, 152, 112, 157, 122, 179, 102, 105, 118, 87, 180, 106, 95, 165, 117, 115, 152, 178, 130, 95, 0, 122, 95, 126, 139, 116, 99, 0, 92, 137, 61, 90, 90, 165, 125, 129, 88, 196, 189, 158, 103, 146, 147, 99, 124, 101, 81, 133, 173, 118, 84, 105, 122, 140, 98, 87, 156, 93, 107, 105, 109, 90, 125, 119, 116, 105, 144, 100, 100, 166, 131, 116, 158, 127, 96, 131, 82, 193, 95, 137, 136, 72, 168, 123, 115, 101, 197, 172, 102, 112, 143, 143, 138, 173, 97, 144, 83, 129, 119, 94, 102, 115, 151, 184, 94, 181, 135, 95, 99, 89, 80, 139, 90, 141, 140, 147, 97, 107, 189, 83, 117, 108, 117, 180, 100, 95, 104, 120, 82, 134, 91, 119, 100, 175, 135, 86, 148, 134, 120, 71, 74, 88, 115, 124, 74, 97, 120, 154, 144, 137, 119, 136, 114, 137, 105, 114, 126, 132, 158, 123, 85, 84, 145, 135, 139, 173, 99, 194, 83, 89, 99, 125, 80, 166, 110, 81, 195, 154, 117, 84, 0, 94, 96, 75, 180, 130, 84, 120, 84, 139, 91, 91, 99, 163, 145, 125, 76, 129, 68, 124, 114, 130, 125, 87, 97, 116, 117, 111, 122, 107, 86, 91, 77, 132, 105, 57, 127, 129, 100, 128, 90, 84, 88, 186, 187, 131, 164, 189, 116, 84, 114, 88, 84, 124, 97, 110, 103, 85, 125, 198, 87, 99, 91, 95, 99, 92, 154, 121, 78, 130, 111, 98, 143, 119, 108, 118, 133, 197, 151, 109, 121, 100, 124, 93, 143, 103, 176, 73, 111, 112, 132, 82, 123, 188, 67, 89, 173, 109, 108, 96, 124, 150, 183, 124, 181, 92, 152, 111, 106, 174, 168, 105, 138, 106, 117, 68, 112, 119, 112, 92, 183, 94, 108, 90, 125, 132, 128, 94, 114, 102, 111, 128, 92, 104, 104, 94, 97, 100, 102, 128, 147, 90, 103, 157, 167, 179, 136, 107, 91, 117, 123, 120, 106, 155, 101, 120, 127, 80, 162, 199, 167, 145, 115, 112, 145, 111, 98, 154, 165, 99, 68, 123, 91, 195, 156, 93, 121, 101, 56, 162, 95, 125, 136, 129, 130, 107, 140, 144, 107, 158, 121, 129, 90, 142, 169, 99, 127, 118, 122, 125, 168, 129, 110, 80, 115, 127, 164, 93, 158, 126, 129, 134, 102, 187, 173, 94, 108, 97, 83, 114, 149, 117, 111, 112, 116, 141, 175, 92, 130, 120, 174, 106, 105, 95, 126, 65, 99, 102, 120, 102, 109, 140, 153, 100, 147, 81, 187, 162, 136, 121, 108, 181, 154, 128, 137, 123, 106, 190, 88, 170, 89, 101, 122, 121, 126, 93]}, {\"label\": \"BloodPressure\", \"values\": [72, 66, 64, 66, 40, 74, 50, 0, 70, 96, 92, 74, 80, 60, 72, 0, 84, 74, 30, 70, 88, 84, 90, 80, 94, 70, 76, 66, 82, 92, 75, 76, 58, 92, 78, 60, 76, 76, 68, 72, 64, 84, 92, 110, 64, 66, 56, 70, 66, 0, 80, 50, 66, 90, 66, 50, 68, 88, 82, 64, 0, 72, 62, 58, 66, 74, 88, 92, 66, 85, 66, 64, 90, 86, 75, 48, 78, 72, 0, 66, 44, 0, 78, 65, 108, 74, 72, 68, 70, 68, 55, 80, 78, 72, 82, 72, 62, 48, 50, 90, 72, 60, 96, 72, 65, 56, 122, 58, 58, 85, 72, 62, 76, 62, 54, 92, 74, 48, 60, 76, 76, 64, 74, 80, 76, 30, 70, 58, 88, 84, 70, 56, 64, 74, 68, 60, 70, 60, 80, 72, 78, 82, 52, 66, 62, 75, 80, 64, 78, 70, 74, 65, 86, 82, 78, 88, 52, 56, 74, 72, 90, 74, 80, 64, 88, 74, 66, 68, 66, 90, 82, 70, 0, 60, 64, 72, 78, 110, 78, 82, 80, 64, 74, 60, 74, 68, 68, 98, 76, 80, 62, 70, 66, 0, 55, 84, 58, 62, 64, 60, 80, 82, 68, 70, 72, 72, 76, 104, 64, 84, 60, 85, 95, 65, 82, 70, 62, 68, 74, 66, 60, 90, 0, 60, 66, 78, 76, 52, 70, 80, 86, 80, 80, 68, 68, 72, 84, 90, 84, 76, 64, 70, 54, 50, 76, 85, 68, 90, 70, 86, 52, 84, 80, 68, 62, 64, 56, 68, 50, 76, 68, 0, 70, 80, 62, 74, 0, 64, 52, 0, 86, 62, 78, 78, 70, 70, 60, 64, 74, 62, 70, 76, 88, 86, 80, 74, 84, 86, 56, 72, 88, 62, 78, 48, 50, 62, 70, 84, 78, 72, 0, 58, 82, 98, 76, 76, 68, 68, 68, 68, 66, 70, 74, 50, 80, 68, 80, 74, 66, 78, 60, 74, 70, 90, 75, 72, 64, 70, 86, 70, 72, 58, 0, 80, 60, 76, 0, 76, 78, 84, 70, 74, 68, 86, 72, 88, 46, 0, 62, 80, 80, 84, 82, 62, 78, 88, 50, 0, 74, 76, 64, 70, 108, 78, 74, 54, 72, 64, 86, 102, 82, 64, 64, 58, 52, 82, 82, 60, 75, 100, 72, 68, 60, 62, 70, 54, 74, 100, 82, 68, 66, 76, 64, 72, 78, 58, 56, 66, 70, 70, 64, 61, 84, 78, 64, 48, 72, 62, 74, 68, 90, 72, 84, 74, 60, 84, 68, 82, 68, 64, 88, 68, 64, 64, 78, 78, 0, 64, 94, 82, 0, 74, 74, 75, 68, 0, 85, 75, 70, 88, 104, 66, 64, 70, 62, 78, 72, 80, 64, 74, 64, 70, 68, 0, 54, 62, 54, 68, 84, 74, 72, 62, 70, 78, 98, 56, 52, 64, 0, 78, 82, 70, 66, 90, 64, 84, 80, 76, 74, 86, 70, 88, 58, 82, 0, 68, 62, 78, 72, 80, 65, 90, 68, 70, 0, 74, 68, 72, 70, 74, 90, 72, 68, 64, 78, 82, 90, 60, 50, 78, 72, 62, 68, 62, 54, 70, 88, 86, 60, 90, 70, 80, 0, 70, 58, 60, 64, 74, 66, 65, 60, 76, 66, 0, 56, 0, 90, 60, 80, 92, 74, 72, 85, 90, 78, 90, 76, 68, 82, 110, 70, 68, 88, 62, 64, 70, 70, 76, 68, 74, 76, 66, 68, 60, 80, 54, 72, 62, 72, 66, 70, 96, 58, 60, 86, 44, 44, 80, 68, 70, 90, 60, 78, 76, 76, 56, 66, 66, 86, 0, 84, 78, 80, 52, 72, 82, 76, 24, 74, 38, 88, 0, 74, 78, 0, 60, 78, 62, 82, 62, 54, 58, 88, 80, 74, 72, 96, 62, 82, 0, 86, 76, 94, 70, 64, 88, 68, 78, 80, 65, 64, 78, 60, 82, 62, 72, 74, 76, 76, 74, 86, 70, 80, 0, 72, 74, 74, 50, 84, 60, 54, 60, 74, 54, 70, 52, 58, 80, 106, 82, 84, 76, 106, 80, 60, 80, 82, 70, 58, 78, 68, 58, 106, 100, 82, 70, 86, 60, 52, 58, 56, 76, 64, 80, 82, 74, 64, 50, 74, 82, 80, 114, 70, 68, 60, 90, 74, 0, 88, 70, 76, 78, 88, 0, 76, 80, 0, 46, 78, 64, 64, 78, 62, 58, 74, 50, 78, 72, 60, 76, 86, 66, 68, 86, 94, 78, 78, 84, 88, 52, 78, 86, 88, 56, 75, 60, 86, 72, 60, 74, 80, 44, 58, 94, 88, 84, 94, 74, 70, 62, 70, 78, 62, 88, 78, 88, 90, 72, 76, 92, 58, 74, 62, 76, 70, 72, 60, 70]}, {\"label\": \"appt\", \"values\": [0.016301198, 0.34498705399999996, 0.37896290899999996, 0.783727292, 0.370406245, 0.671174182, 0.8019104220000001, 0.449512475, 0.11243325400000001, 0.836672578, 0.12135401300000001, 0.20488135600000001, 0.401561609, 0.424997154, 0.385213181, 0.595873793, 0.46966548799999996, 0.61022159, 0.365447405, 0.456704844, 0.501303952, 0.624209448, 0.191547224, 0.64472635, 0.10730753900000001, 0.23605299600000001, 0.176059212, 0.25336595100000003, 0.18467936699999998, 0.573702571, 0.86682858, 0.907671179, 0.677319205, 0.6984506090000001, 0.249372549, 0.978136054, 0.11881109699999999, 0.47085879999999997, 0.094680129, 0.023042583, 0.058152498, 0.981288323, 0.62903352, 0.550836576, 0.158839481, 0.802091579, 0.785437645, 0.22023077100000002, 0.640301379, 0.499861919, 0.20476843100000003, 0.357812325, 0.9909106529999999, 0.445476711, 0.14217691699999999, 0.347423425, 0.690111795, 0.965154581, 0.98809041, 0.414818545, 0.266866697, 0.57487785, 0.536842839, 0.75465271, 0.543925773, 0.7342963459999999, 0.411448899, 0.309627875, 0.56139723, 0.261044597, 0.210041325, 0.926002215, 0.684714523, 0.608970654, 0.291505965, 0.378051074, 0.652340084, 0.5256682229999999, 0.504289541, 0.671073545, 0.030026172, 0.684820535, 0.395003061, 0.374538483, 0.8496211379999999, 0.198026575, 0.605619971, 0.9081609429999999, 0.861327431, 0.853890418, 0.145450504, 0.993601902, 0.101409001, 0.462455926, 0.10889489699999999, 0.090075782, 0.469614005, 0.017765634, 0.7559286129999999, 0.8006067790000001, 0.568222862, 0.415512294, 0.004457223, 0.8884845929999999, 0.240911662, 0.895083345, 0.08345487, 0.455241599, 0.857142031, 0.728861839, 0.9160017690000001, 0.6747271770000001, 0.15337859, 0.149586757, 0.657424965, 0.094340583, 0.9093244290000001, 0.079614833, 0.064469151, 0.261331866, 0.439238846, 0.065713965, 0.35733148200000003, 0.150290241, 0.19647053, 0.310814378, 0.723266443, 0.826687133, 0.79399572, 0.338673028, 0.7080603520000001, 0.636990459, 0.670152405, 0.03424903, 0.981655776, 0.999744422, 0.9862081840000001, 0.15721849599999999, 0.95315055, 0.8544474190000001, 0.906136937, 0.929084615, 0.00074929, 0.058358765, 0.483994549, 0.203879671, 0.894390267, 0.670877709, 0.425278118, 0.59469871, 0.178149542, 0.682295111, 0.764834151, 0.43623534700000005, 0.6666059639999999, 0.31304576300000003, 0.520161456, 0.507305651, 0.528112392, 0.818470107, 0.884253194, 0.796804052, 0.619508951, 0.373301327, 0.39594335399999997, 0.966941266, 0.6863910740000001, 0.32835054399999997, 0.933104816, 0.44150224600000004, 0.154588621, 0.13941665, 0.411494441, 0.298180231, 0.725087753, 0.887049981, 0.9244479309999999, 0.175804565, 0.298652762, 0.972118433, 0.579940694, 0.729170883, 0.444511705, 0.645242475, 0.43481924, 0.083599298, 0.659879298, 0.326719742, 0.145482485, 0.258053502, 0.10569138800000001, 0.471539919, 0.327647081, 0.60430521, 0.569586895, 0.979392465, 0.181143616, 0.6688009429999999, 0.631715056, 0.945235425, 0.6586113920000001, 0.728699801, 0.9215103240000001, 0.057481365, 0.38261518899999997, 0.979591888, 0.715992361, 0.7401766320000001, 0.328634085, 0.523703224, 0.94147955, 0.18710183800000002, 0.9105374620000001, 0.008085009, 0.328419362, 0.8072189240000001, 0.029420292, 0.625261296, 0.406093415, 0.615461409, 0.13170221699999998, 0.10424577800000001, 0.84356633, 0.45304266200000004, 0.832568175, 0.999506615, 0.31920904699999997, 0.236772829, 0.74907145, 0.943762115, 0.125821093, 0.698139877, 0.48865098700000004, 0.606847563, 0.9036204409999999, 0.44634608299999995, 0.058036734000000006, 0.960717545, 0.137059855, 0.9449593959999999, 0.882627597, 0.444458315, 0.55256943, 0.7894805840000001, 0.761568239, 0.8231393659999999, 0.8305456809999999, 0.9577906709999999, 0.507805265, 0.820401302, 0.29945667, 0.3551438, 0.910533487, 0.678933797, 0.24178043300000002, 0.35325165700000005, 0.395184174, 0.6975553090000001, 0.70745195, 0.08243974700000001, 0.236876525, 0.386695112, 0.7329505009999999, 0.612815642, 0.612033368, 0.070119674, 0.655805721, 0.308105103, 0.755227337, 0.397301261, 0.32663623, 0.6768216779999999, 0.955515528, 0.229309667, 0.061366295999999994, 0.318415787, 0.9518723020000001, 0.571403484, 0.154394934, 0.64489561, 0.9251569890000001, 0.948251744, 0.575914374, 0.41555373, 0.050254303, 0.690565002, 0.42398711200000005, 0.159535986, 0.143982677, 0.80063859, 0.854649764, 0.827946045, 0.252426826, 0.919292308, 0.96100852, 0.22368557600000002, 0.29778246199999997, 0.8026195770000001, 0.629981626, 0.499238777, 0.484655316, 0.627370216, 0.587463981, 0.704528587, 0.571877609, 0.21005658100000002, 0.852484355, 0.8211528990000001, 0.6511143779999999, 0.5244009270000001, 0.132191789, 0.563606873, 0.374485833, 0.11134826699999999, 0.47897880299999995, 0.290681977, 0.990718465, 0.204172159, 0.8430692879999999, 0.624652509, 0.418562571, 0.8662211879999999, 0.8025564140000001, 0.593399053, 0.41614771799999994, 0.41750274600000004, 0.248683254, 0.039972562, 0.065730312, 0.931524199, 0.035304443, 0.545737304, 0.11328374699999999, 0.661567572, 0.177998495, 0.346598256, 0.939287742, 0.511421321, 0.496717869, 0.923804796, 0.656130859, 0.916789592, 0.49102954600000004, 0.051994939000000004, 0.922355652, 0.16874902600000002, 0.73975391, 0.632223688, 0.452851066, 0.41833517, 0.857974, 0.516631634, 0.373460046, 0.591624169, 0.637573528, 0.8819837840000001, 0.674780203, 0.152448156, 0.342474172, 0.34197814200000004, 0.940558668, 0.058816911, 0.782622479, 0.564034499, 0.592393398, 0.817812036, 0.762030997, 0.8371283709999999, 0.393623316, 0.040051146, 0.89042396, 0.813784905, 0.058407448, 0.56899526, 0.6313343260000001, 0.30062537, 0.32681129600000003, 0.410987119, 0.770937208, 0.7211369329999999, 0.06038102, 0.8677370870000001, 0.7401587940000001, 0.80197083, 0.6782960729999999, 0.5870192710000001, 0.502120054, 0.410825958, 0.302426213, 0.21252968100000003, 0.943256677, 0.6837395390000001, 0.361163059, 0.341870441, 0.590300092, 0.615424545, 0.33277137100000004, 0.30017515, 0.690636971, 0.687659045, 0.45908418, 0.06514151, 0.426174194, 0.775156805, 0.639241933, 0.023350657, 0.743491772, 0.692514799, 0.276542565, 0.7928318240000001, 0.115390626, 0.364370122, 0.229041861, 0.116697354, 0.345184502, 0.14968056300000002, 0.710334765, 0.914115302, 0.18052977, 0.079938081, 0.470955478, 0.346803425, 0.20093546899999998, 0.624099296, 0.7764720909999999, 0.589307824, 0.614873359, 0.181801673, 0.775201677, 0.564222311, 0.914206023, 0.40924608, 0.02988284, 0.100082782, 0.7250706990000001, 0.20179836199999998, 0.11502757300000001, 0.995775295, 0.397228476, 0.270553738, 0.38744976299999995, 0.39314138, 0.083148196, 0.604984045, 0.356555756, 0.18379965199999998, 0.40191109999999997, 0.39337822, 0.013198831999999999, 0.86535977, 0.169061132, 0.716450472, 0.793297668, 0.938498305, 0.29344021, 0.990823893, 0.829154475, 0.7689451359999999, 0.39822265, 0.505056796, 0.722184643, 0.60412687, 0.237800418, 0.7841058740000001, 0.053534842, 0.375968986, 0.913191512, 0.279954176, 0.946888587, 0.274208473, 0.155110144, 0.839737025, 0.05094019599999999, 0.42690166399999996, 0.12332038199999999, 0.6879708290000001, 0.022048132999999998, 0.44343347200000005, 0.40732770100000004, 0.605051131, 0.489869554, 0.558321695, 0.403465509, 0.082075304, 0.6406853379999999, 0.609955184, 0.009807509, 0.484639617, 0.658026149, 0.308447259, 0.898466263, 0.044351389000000005, 0.713258506, 0.280550229, 0.954246582, 0.365974851, 0.569930006, 0.788107075, 0.460756189, 0.178788526, 0.48594212299999995, 0.9721476659999999, 0.393972631, 0.7663128929999999, 0.241363307, 0.372949737, 0.023264798, 0.33780605399999997, 0.37383914799999995, 0.310095024, 0.618663263, 0.661988272, 0.055162443, 0.38604827799999997, 0.735300724, 0.6958207390000001, 0.110619799, 0.212380585, 0.43865740700000005, 0.761273222, 0.19729865800000002, 0.361845359, 0.079170002, 0.11351750199999999, 0.040887325, 0.018314965, 0.21215117600000002, 0.167357497, 0.989716239, 0.606512016, 0.891879167, 0.48308170100000003, 0.7654482640000001, 0.066071244, 0.577535992, 0.007254779, 0.056897996, 0.15080827800000002, 0.9183239129999999, 0.261279545, 0.9905970140000001, 0.214588451, 0.907176289, 0.10937886599999999, 0.544824298, 0.82331834, 0.47909124700000005, 0.8284605159999999, 0.76959992, 0.32474202399999996, 0.9604128259999999, 0.6876877259999999, 0.796339694, 0.254518466, 0.7398984040000001, 0.120422115, 0.357964204, 0.604785944, 0.85345049, 0.598244185, 0.844042305, 0.7736177879999999, 0.674163911, 0.869013403, 0.489523097, 0.36379903399999997, 0.761380455, 0.7200314290000001, 0.34603316, 0.543372327, 0.600243828, 0.39879085700000005, 0.9710538000000001, 0.124111527, 0.034729745, 0.611225468, 0.886502285, 0.642949566, 0.26663750199999997, 0.7554128440000001, 0.966656387, 0.240519252, 0.577184232, 0.262590386, 0.7131291209999999, 0.7912739540000001, 0.33912375899999997, 0.09456290699999999, 0.78961384, 0.485712263, 0.895468962, 0.308379539, 0.198793563, 0.448468816, 0.959692615, 0.159532812, 0.242860502, 0.051406147, 0.9436643140000001, 0.8275288000000001, 0.636936659, 0.588222928, 0.903664377, 0.876319333, 0.679752294, 0.318251028, 0.5875957589999999, 0.05610557099999999, 0.647516283, 0.869768138, 0.043557284, 0.34252216399999996, 0.16361788300000002, 0.42713834100000003, 0.623716742, 0.36525184200000005, 0.655730319, 0.9415947020000001, 0.691361983, 0.085063708, 0.9596624690000001, 0.579752304, 0.109913259, 0.174961686, 0.8321491940000001, 0.6816780640000001, 0.587957807, 0.19977499399999998, 0.5751073520000001, 0.970508425, 0.46743964299999996, 0.492948712, 0.13459928599999998, 0.36409832200000003, 0.9387230670000001, 0.784240395, 0.094265524, 0.090518305, 0.882776507, 0.011887565, 0.097041074, 0.5068359579999999, 0.993948134, 0.699534627, 0.352162511, 0.413099399, 0.087524213, 0.291960829, 0.37856528700000003, 0.771147085, 0.169977193, 0.396369731, 0.638525104, 0.21893123899999997, 0.416333832, 0.661537067, 0.941095742, 0.221056418, 0.444343599, 0.7500356890000001, 0.3157087, 9.790000000000001e-05, 0.853876767, 0.439178095, 0.626634189, 0.36422794799999997, 0.222986935, 0.825973492, 0.102044712, 0.565960027, 0.587488943, 0.397062284, 0.531530391, 0.34977396200000005, 0.563277392, 0.8652883570000001, 0.059474544000000004, 0.117011741, 0.697965918, 0.000475604, 0.603056766, 0.120170118, 0.724877828, 0.998942965, 0.061099031, 0.24416428399999998, 0.8780712409999999, 0.867334685, 0.66151297, 0.80313742, 0.651371283, 0.364179377, 0.671070125, 0.9797506429999999, 0.47080741600000003, 0.153131813, 0.733568164, 0.016899741, 0.558459071, 0.373962805, 0.8225955540000001, 0.6844460040000001, 0.034456997, 0.481873558, 0.575163281, 0.064519236, 0.33723309799999995, 0.477583981, 0.25594653, 0.33764584, 0.356127106, 0.9721575109999999, 0.387063673, 0.05821456, 0.097224651, 0.463512039, 0.642024322, 0.7966311979999999, 0.727461102, 0.8601372070000001, 0.646915851, 0.613551571, 0.14862808800000002, 0.9906379000000001, 0.33595785, 0.284741191, 0.994043048, 0.731271346, 0.34624890700000005, 0.132651179, 0.6182617579999999, 0.43616627700000005, 0.035194705, 0.733658246, 0.091855306, 0.568212869, 0.383467117, 0.192422178, 0.626646562, 0.285234586, 0.852681287, 0.504575997, 0.28563809100000004, 0.07649942900000001, 0.698144326, 0.42168496899999997, 0.516022105, 0.24169949899999998, 0.799819853, 0.11870692099999999, 0.907352086, 0.499981136, 0.299522542, 0.696239356, 0.580854878, 0.287628055, 0.016091855, 0.263407144, 0.124278039, 0.22787543600000001, 0.445298465, 0.365989585, 0.25083832699999997, 0.205848454, 0.219636815, 0.639698459, 0.70432628, 0.48646408799999996]}, {\"label\": \"BMI\", \"values\": [33.6, 26.6, 23.3, 28.1, 43.1, 25.6, 31.0, 35.3, 30.5, 0.0, 37.6, 38.0, 27.1, 30.1, 25.8, 30.0, 45.8, 29.6, 43.3, 34.6, 39.3, 35.4, 39.8, 29.0, 36.6, 31.1, 39.4, 23.2, 22.2, 34.1, 36.0, 31.6, 24.8, 19.9, 27.6, 24.0, 33.2, 32.9, 38.2, 37.1, 34.0, 40.2, 22.7, 45.4, 27.4, 42.0, 29.7, 28.0, 39.1, 0.0, 19.4, 24.2, 24.4, 33.7, 34.7, 23.0, 37.7, 46.8, 40.5, 41.5, 0.0, 32.9, 25.0, 25.4, 32.8, 29.0, 32.5, 42.7, 19.6, 28.9, 32.9, 28.6, 43.4, 35.1, 32.0, 24.7, 32.6, 37.7, 43.2, 25.0, 22.4, 0.0, 29.3, 24.6, 48.8, 32.4, 36.6, 38.5, 37.1, 26.5, 19.1, 32.0, 46.7, 23.8, 24.7, 33.9, 31.6, 20.4, 28.7, 49.7, 39.0, 26.1, 22.5, 26.6, 39.6, 28.7, 22.4, 29.5, 34.3, 37.4, 33.3, 34.0, 31.2, 34.0, 30.5, 31.2, 34.0, 33.7, 28.2, 23.2, 53.2, 34.2, 33.6, 26.8, 33.3, 55.0, 42.9, 33.3, 34.5, 27.9, 29.7, 33.3, 34.5, 38.3, 21.1, 33.8, 30.8, 28.7, 31.2, 36.9, 21.1, 39.5, 32.5, 32.4, 32.8, 0.0, 32.8, 30.5, 33.7, 27.3, 37.4, 21.9, 34.3, 40.6, 47.9, 50.0, 24.6, 25.2, 29.0, 40.9, 29.7, 37.2, 44.2, 29.7, 31.6, 29.9, 32.5, 29.6, 31.9, 28.4, 30.8, 35.4, 28.9, 43.5, 29.7, 32.7, 31.2, 67.1, 45.0, 39.1, 23.2, 34.9, 27.7, 26.8, 27.6, 35.9, 30.1, 32.0, 27.9, 31.6, 22.6, 33.1, 30.4, 52.3, 24.4, 39.4, 24.3, 22.9, 34.8, 30.9, 31.0, 40.1, 27.3, 20.4, 37.7, 23.9, 37.5, 37.7, 33.2, 35.5, 27.7, 42.8, 34.2, 42.6, 34.2, 41.8, 35.8, 30.0, 29.0, 37.8, 34.6, 31.6, 25.2, 28.8, 23.6, 34.6, 35.7, 37.2, 36.7, 45.2, 44.0, 46.2, 25.4, 35.0, 29.7, 43.6, 35.9, 44.1, 30.8, 18.4, 29.2, 33.1, 25.6, 27.1, 38.2, 30.0, 31.2, 52.3, 35.4, 30.1, 31.2, 28.0, 24.4, 35.8, 27.6, 33.6, 30.1, 28.7, 25.9, 33.3, 30.9, 30.0, 32.1, 32.4, 32.0, 33.6, 36.3, 40.0, 25.1, 27.5, 45.6, 25.2, 23.0, 33.2, 34.2, 40.5, 26.5, 27.8, 24.9, 25.3, 37.9, 35.9, 32.4, 30.4, 27.0, 26.0, 38.7, 45.6, 20.8, 36.1, 36.9, 36.6, 43.3, 40.5, 21.9, 35.5, 28.0, 30.7, 36.6, 23.6, 32.3, 31.6, 35.8, 52.9, 21.0, 39.7, 25.5, 24.8, 30.5, 32.9, 26.2, 39.4, 26.6, 29.5, 35.9, 34.1, 19.3, 30.5, 38.1, 23.5, 27.5, 31.6, 27.4, 26.8, 35.7, 25.6, 35.1, 35.1, 45.5, 30.8, 23.1, 32.7, 43.3, 23.6, 23.9, 47.9, 33.8, 31.2, 34.2, 39.9, 25.9, 25.9, 32.0, 34.7, 36.8, 38.5, 28.7, 23.5, 21.8, 41.0, 42.2, 31.2, 34.4, 27.2, 42.7, 30.4, 33.3, 39.9, 35.3, 36.5, 31.2, 29.8, 39.2, 38.5, 34.9, 34.0, 27.6, 21.0, 27.5, 32.8, 38.4, 0.0, 35.8, 34.9, 36.2, 39.2, 25.2, 37.2, 48.3, 43.4, 30.8, 20.0, 25.4, 25.1, 24.3, 22.3, 32.3, 43.3, 32.0, 31.6, 32.0, 45.7, 23.7, 22.1, 32.9, 27.7, 24.7, 34.3, 21.1, 34.9, 32.0, 24.2, 35.0, 31.6, 32.9, 42.1, 28.9, 21.9, 25.9, 42.4, 35.7, 34.4, 42.4, 26.2, 34.6, 35.7, 27.2, 38.5, 18.2, 26.4, 45.3, 26.0, 40.6, 30.8, 42.9, 37.0, 0.0, 34.1, 40.6, 35.0, 22.2, 30.4, 30.0, 25.6, 24.5, 42.4, 37.4, 29.9, 18.2, 36.8, 34.3, 32.2, 33.2, 30.5, 29.7, 59.4, 25.3, 36.5, 33.6, 30.5, 21.2, 28.9, 39.9, 19.6, 37.8, 33.6, 26.7, 30.2, 37.6, 25.9, 20.8, 21.8, 35.3, 27.6, 24.0, 21.8, 27.8, 36.8, 30.0, 46.1, 41.3, 33.2, 38.8, 29.9, 28.9, 27.3, 33.7, 23.8, 25.9, 28.0, 35.5, 35.2, 27.8, 38.2, 44.2, 42.3, 40.7, 46.5, 25.6, 26.1, 36.8, 33.5, 32.8, 28.9, 0.0, 26.6, 26.0, 30.1, 25.1, 29.3, 25.2, 37.2, 39.0, 33.3, 37.3, 33.3, 36.5, 28.6, 30.4, 25.0, 29.7, 22.1, 24.2, 27.3, 25.6, 31.6, 30.3, 37.6, 32.8, 19.6, 25.0, 33.2, 0.0, 34.2, 31.6, 21.8, 18.2, 26.3, 30.8, 24.6, 29.8, 45.3, 41.3, 29.8, 33.3, 32.9, 29.6, 21.7, 36.3, 36.4, 39.4, 32.4, 34.9, 39.5, 32.0, 34.5, 43.6, 33.1, 32.8, 28.5, 27.4, 31.9, 27.8, 29.9, 36.9, 25.5, 38.1, 27.8, 46.2, 30.1, 33.8, 41.3, 37.6, 26.9, 32.4, 26.1, 38.6, 32.0, 31.3, 34.3, 32.5, 22.6, 29.5, 34.7, 30.1, 35.5, 24.0, 42.9, 27.0, 34.7, 42.1, 25.0, 26.5, 38.7, 28.7, 22.5, 34.9, 24.3, 33.3, 21.1, 46.8, 39.4, 34.4, 28.5, 33.6, 32.0, 45.3, 27.8, 36.8, 23.1, 27.1, 23.7, 27.8, 35.2, 28.4, 35.8, 40.0, 19.5, 41.5, 24.0, 30.9, 32.9, 38.2, 32.5, 36.1, 25.8, 28.7, 20.1, 28.2, 32.4, 38.4, 24.2, 40.8, 43.5, 30.8, 37.7, 24.7, 32.4, 34.6, 24.7, 27.4, 34.5, 26.2, 27.5, 25.9, 31.2, 28.8, 31.6, 40.9, 19.5, 29.3, 34.3, 29.5, 28.0, 27.6, 39.4, 23.4, 37.8, 28.3, 26.4, 25.2, 33.8, 34.1, 26.8, 34.2, 38.7, 21.8, 38.9, 39.0, 34.2, 27.7, 42.9, 37.6, 37.9, 33.7, 34.8, 32.5, 27.5, 34.0, 30.9, 33.6, 25.4, 35.5, 57.3, 35.6, 30.9, 24.8, 35.3, 36.0, 24.2, 24.2, 49.6, 44.6, 32.3, 0.0, 33.2, 23.1, 28.3, 24.1, 46.1, 24.6, 42.3, 39.1, 38.5, 23.5, 30.4, 29.9, 25.0, 34.5, 44.5, 35.9, 27.6, 35.0, 38.5, 28.4, 39.8, 0.0, 34.4, 32.8, 38.0, 31.2, 29.6, 41.2, 26.4, 29.5, 33.9, 33.8, 23.1, 35.5, 35.6, 29.3, 38.1, 29.3, 39.1, 32.8, 39.4, 36.1, 32.4, 22.9, 30.1, 28.4, 28.4, 44.5, 29.0, 23.3, 35.4, 27.4, 32.0, 36.6, 39.5, 42.3, 30.8, 28.5, 32.7, 40.6, 30.0, 49.3, 46.3, 36.4, 24.3, 31.2, 39.0, 26.0, 43.3, 32.4, 36.5, 32.0, 36.3, 37.5, 35.5, 28.4, 44.0, 22.5, 32.9, 36.8, 26.2, 30.1, 30.4]}, {\"label\": \"DiabetesPedigreeFunction\", \"values\": [0.627, 0.35100000000000003, 0.672, 0.16699999999999998, 2.2880000000000003, 0.201, 0.248, 0.134, 0.158, 0.23199999999999998, 0.191, 0.537, 1.4409999999999998, 0.39799999999999996, 0.5870000000000001, 0.484, 0.551, 0.254, 0.183, 0.529, 0.7040000000000001, 0.38799999999999996, 0.451, 0.263, 0.254, 0.205, 0.257, 0.48700000000000004, 0.245, 0.337, 0.546, 0.851, 0.267, 0.188, 0.512, 0.966, 0.42, 0.665, 0.503, 1.39, 0.271, 0.696, 0.235, 0.721, 0.294, 1.893, 0.564, 0.586, 0.344, 0.305, 0.491, 0.526, 0.342, 0.467, 0.718, 0.248, 0.254, 0.9620000000000001, 1.781, 0.17300000000000001, 0.304, 0.27, 0.5870000000000001, 0.6990000000000001, 0.258, 0.203, 0.855, 0.845, 0.33399999999999996, 0.18899999999999997, 0.867, 0.41100000000000003, 0.583, 0.231, 0.396, 0.14, 0.391, 0.37, 0.27, 0.307, 0.14, 0.102, 0.767, 0.237, 0.22699999999999998, 0.698, 0.17800000000000002, 0.324, 0.153, 0.165, 0.258, 0.44299999999999995, 0.261, 0.27699999999999997, 0.7609999999999999, 0.255, 0.13, 0.32299999999999995, 0.35600000000000004, 0.325, 1.222, 0.179, 0.262, 0.28300000000000003, 0.93, 0.8009999999999999, 0.207, 0.287, 0.336, 0.247, 0.19899999999999998, 0.5429999999999999, 0.192, 0.391, 0.588, 0.539, 0.22, 0.654, 0.44299999999999995, 0.223, 0.759, 0.26, 0.40399999999999997, 0.18600000000000003, 0.278, 0.496, 0.452, 0.261, 0.40299999999999997, 0.741, 0.361, 1.114, 0.35600000000000004, 0.457, 0.647, 0.08800000000000001, 0.597, 0.532, 0.703, 0.159, 0.268, 0.28600000000000003, 0.318, 0.272, 0.237, 0.5720000000000001, 0.096, 1.4, 0.218, 0.085, 0.39899999999999997, 0.43200000000000005, 1.189, 0.687, 0.13699999999999998, 0.337, 0.637, 0.833, 0.22899999999999998, 0.8170000000000001, 0.294, 0.204, 0.16699999999999998, 0.368, 0.743, 0.722, 0.256, 0.7090000000000001, 0.47100000000000003, 0.495, 0.18, 0.542, 0.773, 0.6779999999999999, 0.37, 0.7190000000000001, 0.382, 0.319, 0.19, 0.956, 0.084, 0.725, 0.299, 0.268, 0.244, 0.745, 0.615, 1.321, 0.64, 0.361, 0.142, 0.374, 0.38299999999999995, 0.578, 0.136, 0.395, 0.187, 0.6779999999999999, 0.905, 0.15, 0.8740000000000001, 0.23600000000000002, 0.787, 0.235, 0.324, 0.40700000000000003, 0.605, 0.151, 0.289, 0.355, 0.29, 0.375, 0.16399999999999998, 0.431, 0.26, 0.742, 0.514, 0.46399999999999997, 1.224, 0.261, 1.072, 0.805, 0.209, 0.687, 0.6659999999999999, 0.10099999999999999, 0.198, 0.652, 2.329, 0.08900000000000001, 0.645, 0.23800000000000002, 0.583, 0.39399999999999996, 0.293, 0.479, 0.586, 0.6859999999999999, 0.831, 0.5820000000000001, 0.192, 0.446, 0.402, 1.318, 0.32899999999999996, 1.213, 0.258, 0.42700000000000005, 0.282, 0.14300000000000002, 0.38, 0.284, 0.249, 0.23800000000000002, 0.9259999999999999, 0.5429999999999999, 0.557, 0.092, 0.655, 1.3530000000000002, 0.299, 0.7609999999999999, 0.612, 0.2, 0.226, 0.997, 0.9329999999999999, 1.101, 0.078, 0.24, 1.136, 0.128, 0.254, 0.42200000000000004, 0.251, 0.677, 0.29600000000000004, 0.45399999999999996, 0.7440000000000001, 0.8809999999999999, 0.33399999999999996, 0.28, 0.262, 0.165, 0.259, 0.647, 0.619, 0.8079999999999999, 0.34, 0.263, 0.434, 0.757, 1.224, 0.613, 0.254, 0.6920000000000001, 0.337, 0.52, 0.41200000000000003, 0.84, 0.8390000000000001, 0.42200000000000004, 0.156, 0.209, 0.207, 0.215, 0.326, 0.14300000000000002, 1.391, 0.875, 0.313, 0.605, 0.433, 0.626, 1.127, 0.315, 0.284, 0.345, 0.15, 0.129, 0.527, 0.19699999999999998, 0.254, 0.731, 0.14800000000000002, 0.12300000000000001, 0.6920000000000001, 0.2, 0.127, 0.122, 1.476, 0.166, 0.282, 0.13699999999999998, 0.26, 0.259, 0.932, 0.34299999999999997, 0.893, 0.331, 0.47200000000000003, 0.6729999999999999, 0.389, 0.29, 0.485, 0.349, 0.654, 0.187, 0.27899999999999997, 0.34600000000000003, 0.237, 0.252, 0.243, 0.58, 0.5589999999999999, 0.302, 0.9620000000000001, 0.569, 0.37799999999999995, 0.875, 0.583, 0.207, 0.305, 0.52, 0.385, 0.499, 0.368, 0.252, 0.306, 0.23399999999999999, 2.137, 1.7309999999999999, 0.545, 0.225, 0.816, 0.528, 0.299, 0.509, 0.23800000000000002, 1.021, 0.821, 0.23600000000000002, 0.9470000000000001, 1.268, 0.221, 0.205, 0.66, 0.239, 0.452, 0.9490000000000001, 0.444, 0.34, 0.389, 0.46299999999999997, 0.8029999999999999, 1.6, 0.9440000000000001, 0.196, 0.389, 0.24100000000000002, 0.161, 0.151, 0.28600000000000003, 0.28, 0.135, 0.52, 0.376, 0.336, 1.1909999999999998, 0.7020000000000001, 0.674, 0.528, 1.0759999999999998, 0.256, 0.534, 0.258, 1.095, 0.5539999999999999, 0.624, 0.21899999999999997, 0.507, 0.561, 0.496, 0.42100000000000004, 0.516, 0.264, 0.256, 0.32799999999999996, 0.284, 0.233, 0.10800000000000001, 0.551, 0.527, 0.16699999999999998, 1.138, 0.205, 0.244, 0.434, 0.147, 0.727, 0.435, 0.49700000000000005, 0.23, 0.955, 0.38, 2.42, 0.6579999999999999, 0.33, 0.51, 0.285, 0.415, 0.542, 0.381, 0.8320000000000001, 0.498, 0.212, 0.687, 0.364, 1.001, 0.46, 0.733, 0.41600000000000004, 0.705, 0.258, 1.022, 0.452, 0.26899999999999996, 0.6, 0.183, 0.5710000000000001, 0.607, 0.17, 0.259, 0.21, 0.126, 0.231, 0.711, 0.466, 0.162, 0.419, 0.344, 0.19699999999999998, 0.306, 0.233, 0.63, 0.365, 0.536, 1.159, 0.294, 0.551, 0.629, 0.292, 0.145, 1.1440000000000001, 0.174, 0.304, 0.292, 0.547, 0.163, 0.8390000000000001, 0.313, 0.267, 0.727, 0.738, 0.23800000000000002, 0.263, 0.314, 0.6920000000000001, 0.968, 0.409, 0.297, 0.207, 0.2, 0.525, 0.154, 0.268, 0.7709999999999999, 0.304, 0.18, 0.5820000000000001, 0.187, 0.305, 0.18899999999999997, 0.652, 0.151, 0.444, 0.299, 0.107, 0.493, 0.66, 0.7170000000000001, 0.6859999999999999, 0.917, 0.501, 1.251, 0.302, 0.19699999999999998, 0.735, 0.804, 0.968, 0.6609999999999999, 0.5489999999999999, 0.825, 0.159, 0.365, 0.423, 1.034, 0.16, 0.341, 0.68, 0.204, 0.591, 0.247, 0.42200000000000004, 0.47100000000000003, 0.161, 0.218, 0.237, 0.126, 0.3, 0.121, 0.502, 0.401, 0.49700000000000005, 0.601, 0.748, 0.41200000000000003, 0.085, 0.33799999999999997, 0.203, 0.27, 0.268, 0.43, 0.198, 0.892, 0.28, 0.813, 0.693, 0.245, 0.575, 0.371, 0.20600000000000002, 0.259, 0.19, 0.687, 0.41700000000000004, 0.129, 0.249, 1.1540000000000001, 0.342, 0.925, 0.175, 0.402, 1.699, 0.733, 0.682, 0.19399999999999998, 0.5589999999999999, 0.08800000000000001, 0.40700000000000003, 0.4, 0.19, 0.1, 0.6920000000000001, 0.212, 0.514, 1.258, 0.48200000000000004, 0.27, 0.138, 0.292, 0.593, 0.787, 0.878, 0.557, 0.207, 0.157, 0.257, 1.2819999999999998, 0.141, 0.24600000000000002, 1.6980000000000002, 1.4609999999999999, 0.34700000000000003, 0.158, 0.36200000000000004, 0.20600000000000002, 0.39299999999999996, 0.14400000000000002, 0.14800000000000002, 0.732, 0.23800000000000002, 0.34299999999999997, 0.115, 0.16699999999999998, 0.465, 0.153, 0.649, 0.871, 0.149, 0.695, 0.303, 0.17800000000000002, 0.61, 0.73, 0.134, 0.447, 0.455, 0.26, 0.133, 0.23399999999999999, 0.466, 0.26899999999999996, 0.455, 0.142, 0.24, 0.155, 1.162, 0.19, 1.2919999999999998, 0.182, 1.3940000000000001, 0.165, 0.637, 0.245, 0.217, 0.235, 0.141, 0.43, 0.16399999999999998, 0.631, 0.551, 0.285, 0.88, 0.5870000000000001, 0.32799999999999996, 0.23, 0.263, 0.127, 0.614, 0.332, 0.364, 0.366, 0.536, 0.64, 0.591, 0.314, 0.18100000000000002, 0.828, 0.335, 0.856, 0.257, 0.8859999999999999, 0.439, 0.191, 0.128, 0.268, 0.253, 0.598, 0.904, 0.483, 0.565, 0.905, 0.304, 0.11800000000000001, 0.177, 0.261, 0.17600000000000002, 0.14800000000000002, 0.674, 0.295, 0.439, 0.441, 0.35200000000000004, 0.121, 0.826, 0.97, 0.595, 0.415, 0.37799999999999995, 0.317, 0.289, 0.349, 0.251, 0.265, 0.23600000000000002, 0.496, 0.433, 0.326, 0.141, 0.32299999999999995, 0.259, 0.6459999999999999, 0.426, 0.56, 0.284, 0.515, 0.6, 0.45299999999999996, 0.293, 0.785, 0.4, 0.21899999999999997, 0.7340000000000001, 1.1740000000000002, 0.488, 0.358, 1.0959999999999999, 0.408, 0.17800000000000002, 1.182, 0.261, 0.223, 0.222, 0.44299999999999995, 1.057, 0.391, 0.258, 0.19699999999999998, 0.278, 0.7659999999999999, 0.40299999999999997, 0.142, 0.171, 0.34, 0.245, 0.349, 0.315]}, {\"label\": \"SkinThickness\", \"values\": [35, 29, 0, 23, 35, 0, 32, 0, 45, 0, 0, 0, 0, 23, 19, 0, 47, 0, 38, 30, 41, 0, 0, 35, 33, 26, 0, 15, 19, 0, 26, 36, 11, 0, 31, 33, 0, 37, 42, 47, 25, 0, 18, 24, 0, 39, 0, 27, 32, 0, 11, 15, 21, 34, 42, 10, 39, 60, 0, 41, 0, 0, 0, 34, 0, 27, 30, 0, 13, 27, 20, 35, 0, 20, 30, 20, 0, 33, 0, 22, 13, 0, 26, 28, 0, 29, 54, 25, 32, 19, 0, 15, 40, 0, 18, 27, 28, 18, 30, 51, 0, 0, 0, 18, 0, 29, 0, 28, 31, 25, 33, 26, 34, 0, 32, 0, 0, 0, 23, 15, 56, 39, 30, 0, 0, 42, 30, 36, 24, 0, 14, 0, 37, 31, 13, 20, 26, 25, 0, 29, 0, 30, 26, 0, 31, 23, 37, 35, 0, 17, 50, 0, 28, 42, 0, 44, 15, 21, 19, 41, 38, 40, 34, 23, 0, 18, 25, 0, 0, 12, 0, 23, 23, 42, 24, 42, 0, 46, 0, 0, 0, 18, 20, 0, 0, 28, 36, 41, 39, 35, 0, 44, 0, 0, 20, 41, 0, 13, 44, 27, 16, 0, 20, 16, 32, 28, 29, 0, 27, 33, 22, 54, 31, 26, 32, 40, 41, 30, 22, 0, 29, 0, 0, 33, 15, 27, 0, 38, 39, 31, 0, 37, 25, 0, 28, 0, 21, 27, 21, 0, 24, 32, 0, 22, 35, 15, 0, 33, 33, 19, 0, 0, 14, 32, 7, 35, 39, 22, 16, 28, 15, 0, 32, 15, 0, 18, 0, 42, 0, 0, 37, 32, 0, 50, 0, 52, 24, 23, 0, 10, 0, 28, 15, 0, 0, 26, 44, 39, 17, 43, 29, 30, 37, 45, 0, 31, 38, 29, 25, 0, 0, 33, 41, 0, 0, 37, 23, 14, 19, 28, 30, 37, 17, 10, 31, 22, 11, 0, 39, 0, 12, 30, 20, 33, 32, 21, 32, 0, 36, 32, 19, 16, 0, 0, 18, 43, 0, 0, 34, 0, 13, 21, 35, 0, 0, 36, 19, 0, 19, 32, 0, 0, 28, 12, 0, 0, 40, 30, 40, 36, 33, 0, 37, 0, 25, 28, 0, 17, 16, 28, 48, 23, 22, 40, 43, 43, 15, 37, 0, 39, 30, 22, 8, 18, 24, 13, 29, 36, 26, 23, 29, 0, 14, 12, 0, 24, 34, 40, 0, 31, 0, 0, 41, 25, 0, 32, 0, 0, 0, 49, 39, 30, 23, 22, 35, 33, 21, 32, 0, 29, 41, 18, 46, 22, 32, 39, 0, 30, 46, 25, 0, 16, 11, 0, 8, 0, 33, 0, 15, 0, 25, 23, 27, 0, 12, 63, 12, 45, 37, 18, 13, 0, 32, 0, 28, 30, 0, 28, 48, 33, 22, 0, 40, 30, 0, 13, 10, 36, 0, 41, 40, 38, 27, 0, 0, 27, 45, 17, 38, 31, 30, 37, 22, 31, 0, 42, 41, 32, 17, 0, 28, 30, 38, 18, 0, 0, 0, 15, 33, 32, 19, 32, 41, 25, 39, 0, 26, 23, 23, 0, 31, 17, 0, 0, 19, 18, 34, 0, 0, 7, 32, 33, 0, 0, 0, 18, 19, 15, 31, 0, 18, 0, 52, 0, 30, 0, 0, 0, 37, 49, 40, 25, 32, 23, 29, 35, 27, 21, 43, 31, 28, 30, 0, 24, 23, 33, 40, 0, 40, 0, 0, 32, 34, 19, 0, 14, 30, 32, 29, 30, 0, 0, 31, 17, 30, 47, 20, 0, 0, 99, 46, 27, 17, 0, 24, 11, 0, 0, 27, 0, 40, 50, 0, 22, 45, 14, 0, 19, 0, 18, 19, 0, 36, 29, 0, 32, 42, 25, 39, 13, 21, 22, 42, 28, 26, 0, 0, 13, 24, 0, 42, 20, 0, 27, 0, 47, 0, 0, 0, 22, 0, 40, 0, 17, 0, 0, 0, 18, 32, 12, 17, 0, 0, 0, 30, 35, 17, 36, 35, 25, 25, 23, 40, 0, 28, 27, 35, 48, 0, 31, 0, 43, 46, 46, 39, 45, 18, 27, 33, 30, 26, 10, 23, 35, 0, 0, 0, 0, 0, 17, 28, 36, 39, 0, 0, 26, 0, 19, 26, 46, 0, 0, 32, 49, 0, 24, 19, 0, 11, 0, 27, 31, 29, 0, 20, 36, 0, 21, 0, 32, 13, 27, 36, 20, 0, 33, 39, 18, 46, 27, 19, 36, 29, 30, 0, 40, 29, 26, 0, 0, 23, 0, 37, 27, 0, 32, 27, 23, 17, 0, 37, 20, 18, 0, 37, 33, 41, 41, 22, 0, 0, 39, 24, 44, 32, 39, 41, 0, 0, 0, 26, 31, 0, 48, 27, 23, 0, 31]}, {\"label\": \"a1c\", \"values\": [9.033108998, 1.105189842, 2.377654656, 6.783882719, 4.831895062, 5.9944315260000005, 6.126524569, 1.4916518980000002, 1.733444529, 0.531125869, 2.9180254810000004, 6.669869652, 3.335713047, 7.553361332000001, 5.148369112, 8.244048224, 1.382288252, 8.460948972999999, 5.2956588, 1.4185559680000002, 6.7547695270000006, 0.9731152270000001, 9.340678854, 6.174047392, 2.972472287, 2.873336299, 4.560426286, 4.267962656, 2.183476286, 5.299150682, 1.906336901, 6.021356855, 8.790552463, 5.716057387999999, 2.552346875, 0.342081841, 5.876153251, 8.500977322, 7.970553869, 1.242886735, 8.980707536, 5.500369332000001, 7.758407694, 8.61896019, 2.150062054, 7.806223654, 0.829041845, 0.251501595, 6.252313963, 5.046914279, 6.371462782, 5.747005556, 7.718554572, 5.72534962, 4.103627851000001, 9.596064268, 2.391263668, 7.75114227, 2.102244497, 8.482605951, 7.671240611, 8.273178048, 7.5686227420000005, 9.802052397999999, 4.540849236000001, 3.66743855, 0.333037333, 4.184640773, 5.120955672, 3.958019198, 3.8634853510000005, 6.7937441860000005, 5.04162945, 1.358865428, 2.228256869, 4.21791235, 8.489900121, 7.31623373, 9.722243297, 2.92946478, 7.762925513, 0.047817381, 5.729442327, 7.247460591, 8.248316104, 2.040123122, 3.8999066410000003, 4.188962789, 3.317380429, 3.644783403, 1.253057693, 4.321984631, 5.262919515, 0.15638080699999998, 6.176492807000001, 1.613791775, 4.732549637, 7.055194532000001, 7.473556362999999, 3.3947331660000004, 0.25995660000000004, 6.558192927, 5.1763922010000005, 7.384124514, 7.592375361, 4.382200036, 3.8882472089999998, 8.962729837000001, 6.410844684, 7.658436592999999, 4.25469878, 5.005922339, 6.300504492000001, 5.209131043999999, 1.411228524, 6.556518507000001, 0.988333067, 7.722527038, 6.682283297000001, 5.779442766, 3.27185372, 8.506058254, 4.639442807, 6.929990119, 1.34264523, 4.8320615, 4.547285658, 3.167560773, 5.977035728, 8.239452715, 5.820934068, 5.706956837999999, 3.7867803, 4.783038769, 5.158496481999999, 2.82774824, 0.165978599, 5.466713552000001, 3.86871425, 8.467892742, 3.6943897139999997, 0.721759845, 6.7877089129999995, 9.680079994, 2.300178588, 7.493292912, 6.322730106, 9.959064684, 9.874896117, 2.8955858830000003, 7.097881823, 0.997028571, 9.519023974, 4.9444280769999995, 0.5689826920000001, 6.037882767999999, 8.669960967, 4.984528366, 2.204271747, 2.621853677, 5.948643972999999, 0.43891203100000004, 7.254324221, 0.21024483800000002, 1.732381033, 8.591892704, 2.649931581, 5.384946107999999, 8.237928636, 5.540212137, 1.9098866840000002, 7.110146307999999, 2.04720338, 9.269039464, 9.59690501, 9.42562742, 6.3879293189999995, 9.469254459, 0.974702924, 8.017408864, 2.049800143, 6.350897432999999, 3.7945917999999996, 3.6957873169999997, 1.633575134, 3.045388356, 6.718069282999999, 0.538039095, 8.593494044, 9.053331278, 5.271797428, 7.090793933, 6.145774899, 2.8623427460000004, 5.25549311, 6.3961203520000005, 3.299555282, 1.9524080169999998, 8.840815305, 5.598153798999999, 9.238924471, 3.807409696, 7.914332637999999, 8.733984432, 3.444527856, 5.053686008000001, 5.11994587, 9.289125338, 0.080586184, 7.194925722000001, 2.9007281330000003, 2.9081528739999998, 9.601148265, 8.634553101, 5.6724877010000005, 2.415469985, 3.398492365, 4.65439116, 5.845987298, 9.016139189, 7.870151114, 0.8980875909999999, 5.053215518, 8.66865536, 2.387172335, 7.51874054, 6.61233099, 8.362329613, 7.193285325, 6.008004958, 7.132605764, 7.5692043689999995, 8.837862297000001, 0.758388663, 2.325690374, 6.583465802, 5.822017314, 6.561275609, 6.968546795, 9.121730764, 1.836229286, 9.543417323, 4.957987248, 1.229516141, 6.274259917, 6.476588215, 9.797687544, 4.21934727, 9.370604273, 2.435989865, 3.06298458, 6.6483901229999995, 5.198945129, 4.464768801, 2.569255266, 7.2862231820000005, 0.9607245879999999, 1.254796587, 6.336277802000001, 5.9266415729999995, 1.7290348999999998, 3.446924995, 9.755379605, 5.133354294, 6.831058832999999, 4.93788855, 2.904693485, 7.42328607, 5.131692256, 2.81759867, 9.473743857, 5.343860401000001, 0.51531229, 8.214458432999999, 0.368243659, 3.701232089, 6.597506646, 3.532838172, 8.362865754, 9.688756777, 3.2446980310000004, 0.24834567100000002, 6.0596690970000004, 9.464375636, 6.23958883, 1.248664979, 7.637876063999999, 2.303017467, 9.010362033, 1.207354572, 4.0287202230000005, 5.469404247000001, 9.615365075, 2.304067468, 9.849550282000001, 0.264887413, 7.099774299, 6.930356682, 7.364076861, 2.320513547, 3.319349253, 7.4851621889999995, 7.423858097999999, 1.645453756, 0.7903292890000001, 3.3708409589999997, 8.26441568, 6.878584051, 3.4994717339999997, 4.740243144, 0.339500675, 7.58891998, 2.161378634, 8.288137941, 9.179669836, 8.753470717, 7.91256419, 0.669682523, 2.162493132, 3.798404477, 1.379460915, 0.26653552199999997, 6.73642891, 8.518923877, 0.256614601, 6.40563176, 0.654410919, 3.829948192, 4.2978283610000005, 1.91613153, 3.00576198, 9.220698563, 7.621801582000001, 2.990438352, 2.517811396, 7.856303193, 2.677723054, 4.358741671000001, 5.802225147000001, 2.998801133, 4.157393719, 7.333244871000001, 2.173991556, 1.8582393680000002, 9.418536353, 2.12883618, 8.053448859, 3.052089857, 3.406887476, 5.341922326000001, 6.281358834, 3.8768054210000003, 7.357842263999999, 4.917793595, 6.6830576420000005, 1.6042379930000001, 1.7784159769999999, 4.820544766, 0.185240953, 5.476457099, 8.149804461, 5.535830112999999, 8.546415043, 9.504904511, 7.64331705, 6.9348263260000005, 2.613837176, 9.015679768, 7.027528177000001, 9.143643655, 5.1652988539999996, 3.420537224, 9.75128055, 6.422399921, 8.764661121, 5.859718461, 4.378802267, 0.513271759, 5.774883166, 5.346615942, 2.734874641, 4.902388406, 7.442117194, 2.182052717, 3.41344524, 3.331336134, 1.313799584, 6.9611104610000005, 6.8628501029999995, 8.139827833, 3.404782102, 1.585192881, 8.010115669, 6.294005345, 6.519983477999999, 3.722769195, 9.62807502, 1.947723668, 2.159301057, 5.763414496, 1.021548904, 3.4204521810000004, 7.149841114, 3.239287688, 5.045042659, 4.3041460019999995, 9.026357247, 8.096747355, 2.261132438, 9.456280052, 8.016224089, 1.071852492, 0.951589823, 0.187845202, 2.364194608, 1.911258972, 4.654759683, 4.640725108, 2.360954189, 9.437668456, 0.741323243, 3.238479339, 5.162076418, 4.372459994, 0.648543574, 6.327293169, 5.7566568920000005, 3.524307793, 5.557965506, 3.31232256, 1.475126731, 8.903136367, 9.669961277, 6.370746369, 9.781359634, 8.262517893, 3.2957424289999997, 7.009365847000001, 3.203482386, 1.899379895, 1.291995532, 7.523135923, 5.976179538999999, 0.39929918600000003, 9.922033455, 2.272640897, 6.3954939060000005, 3.6344129560000002, 0.826841673, 9.875800254, 3.272097019, 2.325375201, 2.5964498, 0.369686545, 9.355842702999999, 5.206144776, 5.741642231, 0.35133316200000003, 6.312498139, 8.558249297, 2.79354573, 6.986119852000001, 2.7525579419999997, 6.774598645, 7.306668369, 4.5507836919999995, 9.825936421, 3.947348275, 1.030718352, 3.4356479510000004, 8.440802912, 8.125992445, 9.767527483, 9.012984122, 1.6754313980000002, 6.472152803999999, 9.600376695, 7.611416915, 5.332928712, 1.546413043, 3.13939298, 7.785359414, 3.6899571460000002, 9.673893061000001, 2.525701141, 1.940159699, 2.134834041, 6.954005854, 8.394788841, 0.47923559299999996, 8.650030487999999, 5.927303491, 4.651892655, 0.29564866100000003, 8.402211642000001, 7.503278212000001, 5.82791241, 5.745267623999999, 2.8088481219999997, 8.931962479, 2.655993937, 6.267742711, 3.565830877, 1.243094905, 5.345397082, 7.94377935, 2.1297529859999997, 6.4413633, 7.101061014, 8.881847553, 0.77607461, 2.7586078639999996, 8.222372521, 1.071704398, 5.284177085, 6.55027291, 3.9207532119999997, 3.3951518989999996, 5.4091625, 8.851938348, 9.291310992, 8.872906889, 6.54006698, 6.728205645, 6.323502851000001, 1.6805489340000002, 3.0503479660000004, 3.132705296, 5.951995433, 8.221833737999999, 6.820981841, 1.967077792, 1.6893225859999998, 2.5364236940000002, 7.3891801489999995, 5.72761155, 7.573251701, 1.487504877, 2.477017139, 8.914481055, 2.912464995, 7.767743488, 0.6866714970000001, 3.602986231, 2.2635761619999997, 2.00902815, 8.078301846, 7.2601052820000005, 2.279034314, 4.5491104810000005, 7.542292894, 6.230356402000001, 3.703023685, 2.031620981, 9.683309928, 1.079234281, 4.214502671, 9.390098827000001, 9.765143428, 8.352252125, 2.0290226319999998, 9.982057902000001, 2.714402686, 1.8542505280000001, 4.570428154, 2.275319561, 7.484817772, 3.524034556, 5.9568399460000006, 5.428684783, 6.617769435, 0.034336056000000004, 3.322802667, 7.5460739210000005, 3.438196053, 7.910123085, 9.893371976000001, 5.707476509, 1.235026534, 2.426055025, 6.4936227429999995, 4.802066657, 7.81938447, 4.6557975119999995, 6.533292668, 1.540588366, 6.956242291000001, 0.895504629, 0.120044889, 6.168056629, 4.697365691, 8.349581651, 1.420643058, 7.703755054, 3.165447475, 7.730793755, 7.313413099999999, 0.9815266009999999, 3.998304612, 9.813966803, 8.778340555, 4.474179258, 3.998399156, 6.032024101, 3.2605644560000004, 7.8034390920000005, 1.3455003380000001, 9.804550694, 8.165255224, 0.59722465, 5.067026374, 0.127410875, 7.263442172, 3.370360313, 1.843324604, 0.222887594, 3.936400846, 4.748801601, 1.0419722359999999, 6.068934056, 0.9128998009999999, 0.256435228, 7.298623462999999, 3.176180495, 0.475273118, 6.464513727000001, 4.967053573, 8.232529504, 4.1657431560000004, 6.155178809, 8.983635976, 8.467441994, 5.40114346, 7.534044488999999, 9.374679681, 1.104298244, 4.112535065, 6.1714477389999995, 7.429817172000001, 5.34848492, 9.750797798999999, 5.352729257, 9.539135155, 9.692728795, 8.429957189, 6.878021006, 8.613770673, 3.787932877, 5.186490538, 9.709122549, 8.278544135, 6.523757711, 1.070331237, 0.815491854, 3.754976107, 2.314132878, 7.91282455, 5.6990460689999995, 4.50761693, 3.87273668, 5.58731094, 3.417030023, 1.877294585, 1.436056433, 2.369600245, 6.495709636, 6.027440449, 4.058349593, 7.772063721, 3.950273152, 8.543275432, 9.634596368, 0.34711977899999996, 5.763364964, 1.7239773390000002, 7.488919647, 3.696252365, 4.230792489, 5.511713456, 1.6008003880000001, 0.801304144, 1.373956683, 2.1701022180000002, 2.295421954, 8.155901108, 4.824914442, 3.348739586, 1.826306907, 6.850934637000001, 7.403550513, 1.249688795, 1.1181956229999999, 0.347253894, 0.584077512, 3.024257885, 3.555608522, 3.361245321, 0.012376213999999998, 6.313076402999999, 9.37933881, 3.3610909589999998, 1.024813681, 6.805580814, 2.9733990489999997, 1.036194007, 5.071139063, 1.156489248, 4.098436317, 7.950195653, 1.7646422819999998, 6.1573705379999994, 8.780658134, 7.643223084, 3.978128219, 2.6538952730000003, 0.025317671, 2.2091767000000004, 0.641592588, 2.392426119, 0.157992408, 1.171606259, 2.993121023, 9.607203169, 7.69862196, 6.770141325, 1.604322096, 8.778529585, 5.856996787000001, 1.4311096909999999, 5.17806541, 5.529460157999999, 6.076398157000001, 5.642052876, 8.353470197, 7.952455292000001, 7.460957603, 8.109854059, 4.508688739, 5.85048876, 2.504134065, 4.648066378999999, 4.509667002, 3.4088415160000003, 3.846949678, 7.289356098, 9.888487125, 5.133057282, 3.052432529, 1.2405552309999999, 0.8878025740000001, 9.841732179, 2.5161490069999997, 9.632354795, 2.13475368, 5.508852869, 9.378764745, 2.5205877999999995, 4.749929133, 6.37458678, 2.047507136, 8.118854124, 8.990424339, 0.700472219, 0.255138896, 9.825770293, 0.589534672, 0.7185763709999999, 4.809362936]}, {\"label\": \"Age\", \"values\": [50, 31, 32, 21, 33, 30, 26, 29, 53, 54, 30, 34, 57, 59, 51, 32, 31, 31, 33, 32, 27, 50, 41, 29, 51, 41, 43, 22, 57, 38, 60, 28, 22, 28, 45, 33, 35, 46, 27, 56, 26, 37, 48, 54, 40, 25, 29, 22, 31, 24, 22, 26, 30, 58, 42, 21, 41, 31, 44, 22, 21, 39, 36, 24, 42, 32, 38, 54, 25, 27, 28, 26, 42, 23, 22, 22, 41, 27, 26, 24, 22, 22, 36, 22, 37, 27, 45, 26, 43, 24, 21, 34, 42, 60, 21, 40, 24, 22, 23, 31, 33, 22, 21, 24, 27, 21, 27, 37, 25, 24, 24, 46, 23, 25, 39, 61, 38, 25, 22, 21, 25, 24, 23, 69, 23, 26, 30, 23, 40, 62, 33, 33, 30, 39, 26, 31, 21, 22, 29, 28, 55, 38, 22, 42, 23, 21, 41, 34, 65, 22, 24, 37, 42, 23, 43, 36, 21, 23, 22, 47, 36, 45, 27, 21, 32, 41, 22, 34, 29, 29, 36, 29, 25, 23, 33, 36, 42, 26, 47, 37, 32, 23, 21, 27, 40, 41, 60, 33, 31, 25, 21, 40, 36, 40, 42, 29, 21, 23, 26, 29, 21, 28, 32, 27, 55, 27, 57, 52, 21, 41, 25, 24, 60, 24, 36, 38, 25, 32, 32, 41, 21, 66, 37, 61, 26, 22, 26, 24, 31, 24, 22, 46, 22, 29, 23, 26, 51, 23, 32, 27, 21, 22, 22, 33, 29, 49, 41, 23, 34, 23, 42, 27, 24, 25, 44, 21, 30, 25, 24, 51, 34, 27, 24, 63, 35, 43, 25, 24, 21, 28, 38, 21, 40, 21, 52, 25, 29, 23, 57, 22, 28, 39, 37, 47, 52, 51, 34, 29, 26, 33, 21, 25, 31, 24, 65, 28, 29, 24, 46, 58, 30, 25, 35, 28, 37, 29, 47, 21, 25, 30, 41, 22, 27, 25, 43, 26, 30, 29, 28, 59, 31, 25, 36, 43, 21, 24, 30, 37, 23, 37, 46, 25, 41, 44, 22, 26, 44, 44, 33, 41, 22, 36, 22, 33, 57, 49, 22, 23, 26, 37, 29, 30, 46, 24, 21, 49, 28, 44, 48, 29, 29, 63, 65, 67, 30, 30, 29, 21, 22, 45, 25, 21, 21, 25, 28, 58, 22, 22, 32, 35, 24, 22, 21, 25, 25, 24, 35, 45, 58, 28, 42, 27, 21, 37, 31, 25, 39, 22, 25, 25, 31, 55, 35, 38, 41, 26, 46, 25, 39, 28, 28, 25, 22, 21, 21, 22, 22, 37, 27, 28, 26, 21, 21, 21, 36, 31, 25, 38, 26, 43, 23, 38, 22, 29, 36, 29, 41, 28, 21, 31, 41, 22, 24, 33, 30, 25, 28, 26, 22, 26, 23, 23, 25, 72, 24, 38, 62, 24, 51, 81, 48, 26, 39, 37, 34, 21, 22, 25, 38, 27, 28, 22, 22, 50, 24, 59, 29, 31, 39, 63, 35, 29, 28, 23, 31, 24, 21, 58, 28, 67, 24, 42, 33, 45, 22, 66, 30, 25, 55, 39, 21, 28, 41, 41, 40, 38, 35, 21, 21, 64, 46, 21, 58, 22, 24, 28, 53, 51, 41, 60, 25, 26, 26, 45, 24, 21, 21, 24, 22, 31, 22, 24, 29, 31, 24, 23, 46, 67, 23, 32, 43, 27, 56, 25, 29, 37, 53, 28, 50, 37, 21, 25, 66, 23, 28, 37, 30, 58, 42, 35, 54, 28, 24, 32, 27, 22, 21, 46, 37, 33, 39, 21, 22, 22, 23, 25, 35, 21, 36, 62, 21, 27, 62, 42, 52, 22, 41, 29, 52, 25, 45, 24, 44, 25, 34, 22, 46, 21, 38, 26, 24, 28, 30, 54, 36, 21, 22, 25, 27, 23, 24, 36, 40, 26, 50, 27, 30, 23, 50, 24, 28, 28, 45, 21, 21, 29, 21, 21, 45, 21, 34, 24, 23, 22, 31, 38, 48, 23, 32, 28, 27, 24, 50, 31, 27, 30, 33, 22, 42, 23, 23, 27, 28, 27, 22, 25, 22, 41, 51, 27, 54, 22, 43, 40, 40, 24, 70, 40, 43, 45, 49, 21, 47, 22, 68, 31, 53, 25, 25, 23, 22, 26, 22, 27, 69, 25, 22, 29, 23, 46, 34, 44, 23, 43, 25, 43, 31, 22, 28, 26, 26, 49, 52, 41, 27, 28, 30, 22, 45, 23, 24, 40, 38, 21, 32, 34, 31, 56, 24, 52, 34, 21, 42, 42, 45, 38, 25, 22, 22, 22, 34, 22, 24, 22, 53, 28, 21, 42, 21, 42, 48, 26, 22, 45, 39, 46, 27, 32, 36, 50, 22, 28, 25, 26, 45, 37, 39, 52, 26, 66, 22, 43, 33, 63, 27, 30, 47, 23]}], \"marker\": {\"color\": [1, 0, 1, 0, 1, 0, 1, 0, 0, 0, 0, 1, 0, 1, 1, 1, 1, 1, 0, 1, 0, 0, 1, 1, 1, 1, 1, 0, 0, 0, 0, 1, 0, 0, 0, 0, 0, 1, 1, 1, 0, 0, 0, 1, 0, 1, 0, 0, 1, 0, 0, 0, 0, 1, 0, 0, 1, 0, 0, 0, 0, 1, 0, 0, 1, 0, 1, 0, 0, 0, 1, 0, 1, 0, 0, 0, 0, 0, 1, 0, 0, 0, 0, 0, 1, 0, 0, 0, 1, 0, 0, 0, 0, 0, 0, 0, 0, 0, 0, 1, 1, 0, 0, 0, 0, 0, 0, 0, 0, 1, 1, 1, 0, 0, 1, 1, 1, 0, 0, 0, 1, 0, 0, 0, 0, 1, 0, 0, 1, 1, 1, 1, 1, 0, 0, 0, 0, 0, 0, 0, 0, 0, 0, 1, 0, 0, 0, 0, 0, 0, 0, 0, 1, 0, 1, 1, 0, 0, 0, 1, 0, 0, 0, 0, 1, 1, 0, 0, 0, 0, 1, 1, 0, 0, 0, 1, 0, 1, 0, 1, 0, 0, 0, 0, 0, 1, 1, 1, 1, 1, 0, 0, 1, 1, 0, 1, 0, 1, 1, 1, 0, 0, 0, 0, 0, 0, 1, 1, 0, 1, 0, 0, 0, 1, 1, 1, 1, 0, 1, 1, 1, 1, 0, 0, 0, 0, 0, 1, 0, 0, 1, 1, 0, 0, 0, 1, 1, 1, 1, 0, 0, 0, 1, 1, 0, 1, 0, 0, 0, 0, 0, 0, 0, 0, 1, 1, 0, 0, 0, 1, 0, 1, 0, 0, 1, 0, 1, 0, 0, 1, 1, 0, 0, 0, 0, 0, 1, 0, 0, 0, 1, 0, 0, 1, 1, 0, 0, 1, 0, 0, 0, 1, 1, 1, 0, 0, 1, 0, 1, 0, 1, 0, 0, 1, 0, 0, 1, 0, 1, 1, 0, 0, 1, 0, 1, 0, 0, 1, 0, 1, 0, 1, 1, 1, 0, 0, 1, 0, 1, 0, 0, 0, 1, 0, 0, 0, 0, 1, 1, 1, 0, 0, 0, 0, 0, 0, 0, 0, 0, 1, 0, 0, 0, 0, 0, 1, 1, 1, 0, 1, 1, 0, 0, 1, 0, 0, 1, 0, 0, 1, 1, 0, 0, 0, 0, 1, 0, 0, 1, 0, 0, 0, 0, 0, 0, 0, 1, 1, 1, 0, 0, 1, 0, 0, 1, 0, 0, 0, 0, 1, 1, 0, 1, 0, 1, 0, 1, 0, 1, 1, 0, 0, 0, 0, 1, 1, 0, 1, 0, 1, 0, 0, 0, 0, 1, 1, 0, 1, 0, 1, 0, 0, 0, 0, 0, 1, 0, 0, 0, 0, 1, 0, 0, 1, 0, 1, 0, 0, 1, 0, 0, 1, 0, 0, 0, 1, 0, 0, 1, 0, 0, 0, 0, 0, 0, 0, 0, 0, 1, 0, 0, 0, 0, 0, 0, 0, 1, 0, 0, 0, 1, 0, 0, 0, 1, 1, 0, 0, 0, 0, 0, 0, 0, 1, 0, 0, 0, 0, 1, 0, 0, 0, 1, 0, 0, 0, 1, 0, 0, 0, 1, 0, 0, 0, 0, 1, 1, 0, 0, 0, 0, 0, 0, 1, 0, 0, 0, 0, 0, 0, 0, 0, 0, 0, 0, 1, 0, 0, 0, 1, 1, 1, 1, 0, 0, 1, 1, 0, 1, 0, 0, 0, 0, 0, 0, 0, 0, 0, 0, 0, 1, 1, 0, 0, 0, 0, 0, 0, 0, 1, 0, 0, 0, 0, 0, 0, 0, 1, 0, 1, 1, 0, 0, 0, 1, 0, 1, 0, 1, 0, 1, 0, 1, 0, 0, 1, 0, 0, 1, 0, 0, 0, 0, 1, 1, 0, 1, 0, 0, 0, 0, 1, 1, 0, 1, 0, 0, 0, 1, 1, 0, 0, 0, 0, 0, 0, 0, 0, 0, 0, 1, 0, 0, 0, 0, 1, 0, 0, 1, 0, 0, 0, 1, 0, 0, 0, 1, 1, 1, 0, 0, 0, 0, 0, 0, 1, 0, 0, 0, 1, 0, 1, 1, 1, 1, 0, 1, 1, 0, 0, 0, 0, 0, 0, 0, 1, 1, 0, 0, 0, 0, 1, 0, 1, 0, 0, 0, 0, 0, 1, 0, 1, 0, 1, 0, 1, 1, 0, 0, 0, 0, 1, 1, 0, 0, 0, 1, 0, 1, 1, 0, 0, 1, 0, 0, 1, 1, 0, 0, 1, 0, 0, 1, 0, 0, 0, 0, 0, 0, 0, 1, 1, 1, 0, 0, 0, 0, 0, 0, 1, 1, 0, 0, 1, 0, 0, 1, 0, 1, 1, 1, 0, 0, 1, 1, 1, 0, 1, 0, 1, 0, 1, 0, 0, 0, 0, 0, 0], \"colorscale\": [[0.0, \"rgb(0,0,255)\"], [1.0, \"rgb(255,0,0)\"]], \"line\": {\"color\": \"rgb(230,230,230)\", \"width\": 0.5}, \"size\": 5}, \"text\": [\"diabetic\", \"non-diabetic\", \"diabetic\", \"non-diabetic\", \"diabetic\", \"non-diabetic\", \"diabetic\", \"non-diabetic\", \"non-diabetic\", \"non-diabetic\", \"non-diabetic\", \"diabetic\", \"non-diabetic\", \"diabetic\", \"diabetic\", \"diabetic\", \"diabetic\", \"diabetic\", \"non-diabetic\", \"diabetic\", \"non-diabetic\", \"non-diabetic\", \"diabetic\", \"diabetic\", \"diabetic\", \"diabetic\", \"diabetic\", \"non-diabetic\", \"non-diabetic\", \"non-diabetic\", \"non-diabetic\", \"diabetic\", \"non-diabetic\", \"non-diabetic\", \"non-diabetic\", \"non-diabetic\", \"non-diabetic\", \"diabetic\", \"diabetic\", \"diabetic\", \"non-diabetic\", \"non-diabetic\", \"non-diabetic\", \"diabetic\", \"non-diabetic\", \"diabetic\", \"non-diabetic\", \"non-diabetic\", \"diabetic\", \"non-diabetic\", \"non-diabetic\", \"non-diabetic\", \"non-diabetic\", \"diabetic\", \"non-diabetic\", \"non-diabetic\", \"diabetic\", \"non-diabetic\", \"non-diabetic\", \"non-diabetic\", \"non-diabetic\", \"diabetic\", \"non-diabetic\", \"non-diabetic\", \"diabetic\", \"non-diabetic\", \"diabetic\", \"non-diabetic\", \"non-diabetic\", \"non-diabetic\", \"diabetic\", \"non-diabetic\", \"diabetic\", \"non-diabetic\", \"non-diabetic\", \"non-diabetic\", \"non-diabetic\", \"non-diabetic\", \"diabetic\", \"non-diabetic\", \"non-diabetic\", \"non-diabetic\", \"non-diabetic\", \"non-diabetic\", \"diabetic\", \"non-diabetic\", \"non-diabetic\", \"non-diabetic\", \"diabetic\", \"non-diabetic\", \"non-diabetic\", \"non-diabetic\", \"non-diabetic\", \"non-diabetic\", \"non-diabetic\", \"non-diabetic\", \"non-diabetic\", \"non-diabetic\", \"non-diabetic\", \"diabetic\", \"diabetic\", \"non-diabetic\", \"non-diabetic\", \"non-diabetic\", \"non-diabetic\", \"non-diabetic\", \"non-diabetic\", \"non-diabetic\", \"non-diabetic\", \"diabetic\", \"diabetic\", \"diabetic\", \"non-diabetic\", \"non-diabetic\", \"diabetic\", \"diabetic\", \"diabetic\", \"non-diabetic\", \"non-diabetic\", \"non-diabetic\", \"diabetic\", \"non-diabetic\", \"non-diabetic\", \"non-diabetic\", \"non-diabetic\", \"diabetic\", \"non-diabetic\", \"non-diabetic\", \"diabetic\", \"diabetic\", \"diabetic\", \"diabetic\", \"diabetic\", \"non-diabetic\", \"non-diabetic\", \"non-diabetic\", \"non-diabetic\", \"non-diabetic\", \"non-diabetic\", \"non-diabetic\", \"non-diabetic\", \"non-diabetic\", \"non-diabetic\", \"diabetic\", \"non-diabetic\", \"non-diabetic\", \"non-diabetic\", \"non-diabetic\", \"non-diabetic\", \"non-diabetic\", \"non-diabetic\", \"non-diabetic\", \"diabetic\", \"non-diabetic\", \"diabetic\", \"diabetic\", \"non-diabetic\", \"non-diabetic\", \"non-diabetic\", \"diabetic\", \"non-diabetic\", \"non-diabetic\", \"non-diabetic\", \"non-diabetic\", \"diabetic\", \"diabetic\", \"non-diabetic\", \"non-diabetic\", \"non-diabetic\", \"non-diabetic\", \"diabetic\", \"diabetic\", \"non-diabetic\", \"non-diabetic\", \"non-diabetic\", \"diabetic\", \"non-diabetic\", \"diabetic\", \"non-diabetic\", \"diabetic\", \"non-diabetic\", \"non-diabetic\", \"non-diabetic\", \"non-diabetic\", \"non-diabetic\", \"diabetic\", \"diabetic\", \"diabetic\", \"diabetic\", \"diabetic\", \"non-diabetic\", \"non-diabetic\", \"diabetic\", \"diabetic\", \"non-diabetic\", \"diabetic\", \"non-diabetic\", \"diabetic\", \"diabetic\", \"diabetic\", \"non-diabetic\", \"non-diabetic\", \"non-diabetic\", \"non-diabetic\", \"non-diabetic\", \"non-diabetic\", \"diabetic\", \"diabetic\", \"non-diabetic\", \"diabetic\", \"non-diabetic\", \"non-diabetic\", \"non-diabetic\", \"diabetic\", \"diabetic\", \"diabetic\", \"diabetic\", \"non-diabetic\", \"diabetic\", \"diabetic\", \"diabetic\", \"diabetic\", \"non-diabetic\", \"non-diabetic\", \"non-diabetic\", \"non-diabetic\", \"non-diabetic\", \"diabetic\", \"non-diabetic\", \"non-diabetic\", \"diabetic\", \"diabetic\", \"non-diabetic\", \"non-diabetic\", \"non-diabetic\", \"diabetic\", \"diabetic\", \"diabetic\", \"diabetic\", \"non-diabetic\", \"non-diabetic\", \"non-diabetic\", \"diabetic\", \"diabetic\", \"non-diabetic\", \"diabetic\", \"non-diabetic\", \"non-diabetic\", \"non-diabetic\", \"non-diabetic\", \"non-diabetic\", \"non-diabetic\", \"non-diabetic\", \"non-diabetic\", \"diabetic\", \"diabetic\", \"non-diabetic\", \"non-diabetic\", \"non-diabetic\", \"diabetic\", \"non-diabetic\", \"diabetic\", \"non-diabetic\", \"non-diabetic\", \"diabetic\", \"non-diabetic\", \"diabetic\", \"non-diabetic\", \"non-diabetic\", \"diabetic\", \"diabetic\", \"non-diabetic\", \"non-diabetic\", \"non-diabetic\", \"non-diabetic\", \"non-diabetic\", \"diabetic\", \"non-diabetic\", \"non-diabetic\", \"non-diabetic\", \"diabetic\", \"non-diabetic\", \"non-diabetic\", \"diabetic\", \"diabetic\", \"non-diabetic\", \"non-diabetic\", \"diabetic\", \"non-diabetic\", \"non-diabetic\", \"non-diabetic\", \"diabetic\", \"diabetic\", \"diabetic\", \"non-diabetic\", \"non-diabetic\", \"diabetic\", \"non-diabetic\", \"diabetic\", \"non-diabetic\", \"diabetic\", \"non-diabetic\", \"non-diabetic\", \"diabetic\", \"non-diabetic\", \"non-diabetic\", \"diabetic\", \"non-diabetic\", \"diabetic\", \"diabetic\", \"non-diabetic\", \"non-diabetic\", \"diabetic\", \"non-diabetic\", \"diabetic\", \"non-diabetic\", \"non-diabetic\", \"diabetic\", \"non-diabetic\", \"diabetic\", \"non-diabetic\", \"diabetic\", \"diabetic\", \"diabetic\", \"non-diabetic\", \"non-diabetic\", \"diabetic\", \"non-diabetic\", \"diabetic\", \"non-diabetic\", \"non-diabetic\", \"non-diabetic\", \"diabetic\", \"non-diabetic\", \"non-diabetic\", \"non-diabetic\", \"non-diabetic\", \"diabetic\", \"diabetic\", \"diabetic\", \"non-diabetic\", \"non-diabetic\", \"non-diabetic\", \"non-diabetic\", \"non-diabetic\", \"non-diabetic\", \"non-diabetic\", \"non-diabetic\", \"non-diabetic\", \"diabetic\", \"non-diabetic\", \"non-diabetic\", \"non-diabetic\", \"non-diabetic\", \"non-diabetic\", \"diabetic\", \"diabetic\", \"diabetic\", \"non-diabetic\", \"diabetic\", \"diabetic\", \"non-diabetic\", \"non-diabetic\", \"diabetic\", \"non-diabetic\", \"non-diabetic\", \"diabetic\", \"non-diabetic\", \"non-diabetic\", \"diabetic\", \"diabetic\", \"non-diabetic\", \"non-diabetic\", \"non-diabetic\", \"non-diabetic\", \"diabetic\", \"non-diabetic\", \"non-diabetic\", \"diabetic\", \"non-diabetic\", \"non-diabetic\", \"non-diabetic\", \"non-diabetic\", \"non-diabetic\", \"non-diabetic\", \"non-diabetic\", \"diabetic\", \"diabetic\", \"diabetic\", \"non-diabetic\", \"non-diabetic\", \"diabetic\", \"non-diabetic\", \"non-diabetic\", \"diabetic\", \"non-diabetic\", \"non-diabetic\", \"non-diabetic\", \"non-diabetic\", \"diabetic\", \"diabetic\", \"non-diabetic\", \"diabetic\", \"non-diabetic\", \"diabetic\", \"non-diabetic\", \"diabetic\", \"non-diabetic\", \"diabetic\", \"diabetic\", \"non-diabetic\", \"non-diabetic\", \"non-diabetic\", \"non-diabetic\", \"diabetic\", \"diabetic\", \"non-diabetic\", \"diabetic\", \"non-diabetic\", \"diabetic\", \"non-diabetic\", \"non-diabetic\", \"non-diabetic\", \"non-diabetic\", \"diabetic\", \"diabetic\", \"non-diabetic\", \"diabetic\", \"non-diabetic\", \"diabetic\", \"non-diabetic\", \"non-diabetic\", \"non-diabetic\", \"non-diabetic\", \"non-diabetic\", \"diabetic\", \"non-diabetic\", \"non-diabetic\", \"non-diabetic\", \"non-diabetic\", \"diabetic\", \"non-diabetic\", \"non-diabetic\", \"diabetic\", \"non-diabetic\", \"diabetic\", \"non-diabetic\", \"non-diabetic\", \"diabetic\", \"non-diabetic\", \"non-diabetic\", \"diabetic\", \"non-diabetic\", \"non-diabetic\", \"non-diabetic\", \"diabetic\", \"non-diabetic\", \"non-diabetic\", \"diabetic\", \"non-diabetic\", \"non-diabetic\", \"non-diabetic\", \"non-diabetic\", \"non-diabetic\", \"non-diabetic\", \"non-diabetic\", \"non-diabetic\", \"non-diabetic\", \"diabetic\", \"non-diabetic\", \"non-diabetic\", \"non-diabetic\", \"non-diabetic\", \"non-diabetic\", \"non-diabetic\", \"non-diabetic\", \"diabetic\", \"non-diabetic\", \"non-diabetic\", \"non-diabetic\", \"diabetic\", \"non-diabetic\", \"non-diabetic\", \"non-diabetic\", \"diabetic\", \"diabetic\", \"non-diabetic\", \"non-diabetic\", \"non-diabetic\", \"non-diabetic\", \"non-diabetic\", \"non-diabetic\", \"non-diabetic\", \"diabetic\", \"non-diabetic\", \"non-diabetic\", \"non-diabetic\", \"non-diabetic\", \"diabetic\", \"non-diabetic\", \"non-diabetic\", \"non-diabetic\", \"diabetic\", \"non-diabetic\", \"non-diabetic\", \"non-diabetic\", \"diabetic\", \"non-diabetic\", \"non-diabetic\", \"non-diabetic\", \"diabetic\", \"non-diabetic\", \"non-diabetic\", \"non-diabetic\", \"non-diabetic\", \"diabetic\", \"diabetic\", \"non-diabetic\", \"non-diabetic\", \"non-diabetic\", \"non-diabetic\", \"non-diabetic\", \"non-diabetic\", \"diabetic\", \"non-diabetic\", \"non-diabetic\", \"non-diabetic\", \"non-diabetic\", \"non-diabetic\", \"non-diabetic\", \"non-diabetic\", \"non-diabetic\", \"non-diabetic\", \"non-diabetic\", \"non-diabetic\", \"diabetic\", \"non-diabetic\", \"non-diabetic\", \"non-diabetic\", \"diabetic\", \"diabetic\", \"diabetic\", \"diabetic\", \"non-diabetic\", \"non-diabetic\", \"diabetic\", \"diabetic\", \"non-diabetic\", \"diabetic\", \"non-diabetic\", \"non-diabetic\", \"non-diabetic\", \"non-diabetic\", \"non-diabetic\", \"non-diabetic\", \"non-diabetic\", \"non-diabetic\", \"non-diabetic\", \"non-diabetic\", \"non-diabetic\", \"diabetic\", \"diabetic\", \"non-diabetic\", \"non-diabetic\", \"non-diabetic\", \"non-diabetic\", \"non-diabetic\", \"non-diabetic\", \"non-diabetic\", \"diabetic\", \"non-diabetic\", \"non-diabetic\", \"non-diabetic\", \"non-diabetic\", \"non-diabetic\", \"non-diabetic\", \"non-diabetic\", \"diabetic\", \"non-diabetic\", \"diabetic\", \"diabetic\", \"non-diabetic\", \"non-diabetic\", \"non-diabetic\", \"diabetic\", \"non-diabetic\", \"diabetic\", \"non-diabetic\", \"diabetic\", \"non-diabetic\", \"diabetic\", \"non-diabetic\", \"diabetic\", \"non-diabetic\", \"non-diabetic\", \"diabetic\", \"non-diabetic\", \"non-diabetic\", \"diabetic\", \"non-diabetic\", \"non-diabetic\", \"non-diabetic\", \"non-diabetic\", \"diabetic\", \"diabetic\", \"non-diabetic\", \"diabetic\", \"non-diabetic\", \"non-diabetic\", \"non-diabetic\", \"non-diabetic\", \"diabetic\", \"diabetic\", \"non-diabetic\", \"diabetic\", \"non-diabetic\", \"non-diabetic\", \"non-diabetic\", \"diabetic\", \"diabetic\", \"non-diabetic\", \"non-diabetic\", \"non-diabetic\", \"non-diabetic\", \"non-diabetic\", \"non-diabetic\", \"non-diabetic\", \"non-diabetic\", \"non-diabetic\", \"non-diabetic\", \"diabetic\", \"non-diabetic\", \"non-diabetic\", \"non-diabetic\", \"non-diabetic\", \"diabetic\", \"non-diabetic\", \"non-diabetic\", \"diabetic\", \"non-diabetic\", \"non-diabetic\", \"non-diabetic\", \"diabetic\", \"non-diabetic\", \"non-diabetic\", \"non-diabetic\", \"diabetic\", \"diabetic\", \"diabetic\", \"non-diabetic\", \"non-diabetic\", \"non-diabetic\", \"non-diabetic\", \"non-diabetic\", \"non-diabetic\", \"diabetic\", \"non-diabetic\", \"non-diabetic\", \"non-diabetic\", \"diabetic\", \"non-diabetic\", \"diabetic\", \"diabetic\", \"diabetic\", \"diabetic\", \"non-diabetic\", \"diabetic\", \"diabetic\", \"non-diabetic\", \"non-diabetic\", \"non-diabetic\", \"non-diabetic\", \"non-diabetic\", \"non-diabetic\", \"non-diabetic\", \"diabetic\", \"diabetic\", \"non-diabetic\", \"non-diabetic\", \"non-diabetic\", \"non-diabetic\", \"diabetic\", \"non-diabetic\", \"diabetic\", \"non-diabetic\", \"non-diabetic\", \"non-diabetic\", \"non-diabetic\", \"non-diabetic\", \"diabetic\", \"non-diabetic\", \"diabetic\", \"non-diabetic\", \"diabetic\", \"non-diabetic\", \"diabetic\", \"diabetic\", \"non-diabetic\", \"non-diabetic\", \"non-diabetic\", \"non-diabetic\", \"diabetic\", \"diabetic\", \"non-diabetic\", \"non-diabetic\", \"non-diabetic\", \"diabetic\", \"non-diabetic\", \"diabetic\", \"diabetic\", \"non-diabetic\", \"non-diabetic\", \"diabetic\", \"non-diabetic\", \"non-diabetic\", \"diabetic\", \"diabetic\", \"non-diabetic\", \"non-diabetic\", \"diabetic\", \"non-diabetic\", \"non-diabetic\", \"diabetic\", \"non-diabetic\", \"non-diabetic\", \"non-diabetic\", \"non-diabetic\", \"non-diabetic\", \"non-diabetic\", \"non-diabetic\", \"diabetic\", \"diabetic\", \"diabetic\", \"non-diabetic\", \"non-diabetic\", \"non-diabetic\", \"non-diabetic\", \"non-diabetic\", \"non-diabetic\", \"diabetic\", \"diabetic\", \"non-diabetic\", \"non-diabetic\", \"diabetic\", \"non-diabetic\", \"non-diabetic\", \"diabetic\", \"non-diabetic\", \"diabetic\", \"diabetic\", \"diabetic\", \"non-diabetic\", \"non-diabetic\", \"diabetic\", \"diabetic\", \"diabetic\", \"non-diabetic\", \"diabetic\", \"non-diabetic\", \"diabetic\", \"non-diabetic\", \"diabetic\", \"non-diabetic\", \"non-diabetic\", \"non-diabetic\", \"non-diabetic\", \"non-diabetic\", \"non-diabetic\"], \"type\": \"splom\"}],\n",
              "                        {\"font\": {\"color\": \"RebeccaPurple\", \"family\": \"monospace\", \"size\": 8}, \"height\": 900, \"template\": {\"data\": {\"bar\": [{\"error_x\": {\"color\": \"#2a3f5f\"}, \"error_y\": {\"color\": \"#2a3f5f\"}, \"marker\": {\"line\": {\"color\": \"#E5ECF6\", \"width\": 0.5}}, \"type\": \"bar\"}], \"barpolar\": [{\"marker\": {\"line\": {\"color\": \"#E5ECF6\", \"width\": 0.5}}, \"type\": \"barpolar\"}], \"carpet\": [{\"aaxis\": {\"endlinecolor\": \"#2a3f5f\", \"gridcolor\": \"white\", \"linecolor\": \"white\", \"minorgridcolor\": \"white\", \"startlinecolor\": \"#2a3f5f\"}, \"baxis\": {\"endlinecolor\": \"#2a3f5f\", \"gridcolor\": \"white\", \"linecolor\": \"white\", \"minorgridcolor\": \"white\", \"startlinecolor\": \"#2a3f5f\"}, \"type\": \"carpet\"}], \"choropleth\": [{\"colorbar\": {\"outlinewidth\": 0, \"ticks\": \"\"}, \"type\": \"choropleth\"}], \"contour\": [{\"colorbar\": {\"outlinewidth\": 0, \"ticks\": \"\"}, \"colorscale\": [[0.0, \"#0d0887\"], [0.1111111111111111, \"#46039f\"], [0.2222222222222222, \"#7201a8\"], [0.3333333333333333, \"#9c179e\"], [0.4444444444444444, \"#bd3786\"], [0.5555555555555556, \"#d8576b\"], [0.6666666666666666, \"#ed7953\"], [0.7777777777777778, \"#fb9f3a\"], [0.8888888888888888, \"#fdca26\"], [1.0, \"#f0f921\"]], \"type\": \"contour\"}], \"contourcarpet\": [{\"colorbar\": {\"outlinewidth\": 0, \"ticks\": \"\"}, \"type\": \"contourcarpet\"}], \"heatmap\": [{\"colorbar\": {\"outlinewidth\": 0, \"ticks\": \"\"}, \"colorscale\": [[0.0, \"#0d0887\"], [0.1111111111111111, \"#46039f\"], [0.2222222222222222, \"#7201a8\"], [0.3333333333333333, \"#9c179e\"], [0.4444444444444444, \"#bd3786\"], [0.5555555555555556, \"#d8576b\"], [0.6666666666666666, \"#ed7953\"], [0.7777777777777778, \"#fb9f3a\"], [0.8888888888888888, \"#fdca26\"], [1.0, \"#f0f921\"]], \"type\": \"heatmap\"}], \"heatmapgl\": [{\"colorbar\": {\"outlinewidth\": 0, \"ticks\": \"\"}, \"colorscale\": [[0.0, \"#0d0887\"], [0.1111111111111111, \"#46039f\"], [0.2222222222222222, \"#7201a8\"], [0.3333333333333333, \"#9c179e\"], [0.4444444444444444, \"#bd3786\"], [0.5555555555555556, \"#d8576b\"], [0.6666666666666666, \"#ed7953\"], [0.7777777777777778, \"#fb9f3a\"], [0.8888888888888888, \"#fdca26\"], [1.0, \"#f0f921\"]], \"type\": \"heatmapgl\"}], \"histogram\": [{\"marker\": {\"colorbar\": {\"outlinewidth\": 0, \"ticks\": \"\"}}, \"type\": \"histogram\"}], \"histogram2d\": [{\"colorbar\": {\"outlinewidth\": 0, \"ticks\": \"\"}, \"colorscale\": [[0.0, \"#0d0887\"], [0.1111111111111111, \"#46039f\"], [0.2222222222222222, \"#7201a8\"], [0.3333333333333333, \"#9c179e\"], [0.4444444444444444, \"#bd3786\"], [0.5555555555555556, \"#d8576b\"], [0.6666666666666666, \"#ed7953\"], [0.7777777777777778, \"#fb9f3a\"], [0.8888888888888888, \"#fdca26\"], [1.0, \"#f0f921\"]], \"type\": \"histogram2d\"}], \"histogram2dcontour\": [{\"colorbar\": {\"outlinewidth\": 0, \"ticks\": \"\"}, \"colorscale\": [[0.0, \"#0d0887\"], [0.1111111111111111, \"#46039f\"], [0.2222222222222222, \"#7201a8\"], [0.3333333333333333, \"#9c179e\"], [0.4444444444444444, \"#bd3786\"], [0.5555555555555556, \"#d8576b\"], [0.6666666666666666, \"#ed7953\"], [0.7777777777777778, \"#fb9f3a\"], [0.8888888888888888, \"#fdca26\"], [1.0, \"#f0f921\"]], \"type\": \"histogram2dcontour\"}], \"mesh3d\": [{\"colorbar\": {\"outlinewidth\": 0, \"ticks\": \"\"}, \"type\": \"mesh3d\"}], \"parcoords\": [{\"line\": {\"colorbar\": {\"outlinewidth\": 0, \"ticks\": \"\"}}, \"type\": \"parcoords\"}], \"pie\": [{\"automargin\": true, \"type\": \"pie\"}], \"scatter\": [{\"marker\": {\"colorbar\": {\"outlinewidth\": 0, \"ticks\": \"\"}}, \"type\": \"scatter\"}], \"scatter3d\": [{\"line\": {\"colorbar\": {\"outlinewidth\": 0, \"ticks\": \"\"}}, \"marker\": {\"colorbar\": {\"outlinewidth\": 0, \"ticks\": \"\"}}, \"type\": \"scatter3d\"}], \"scattercarpet\": [{\"marker\": {\"colorbar\": {\"outlinewidth\": 0, \"ticks\": \"\"}}, \"type\": \"scattercarpet\"}], \"scattergeo\": [{\"marker\": {\"colorbar\": {\"outlinewidth\": 0, \"ticks\": \"\"}}, \"type\": \"scattergeo\"}], \"scattergl\": [{\"marker\": {\"colorbar\": {\"outlinewidth\": 0, \"ticks\": \"\"}}, \"type\": \"scattergl\"}], \"scattermapbox\": [{\"marker\": {\"colorbar\": {\"outlinewidth\": 0, \"ticks\": \"\"}}, \"type\": \"scattermapbox\"}], \"scatterpolar\": [{\"marker\": {\"colorbar\": {\"outlinewidth\": 0, \"ticks\": \"\"}}, \"type\": \"scatterpolar\"}], \"scatterpolargl\": [{\"marker\": {\"colorbar\": {\"outlinewidth\": 0, \"ticks\": \"\"}}, \"type\": \"scatterpolargl\"}], \"scatterternary\": [{\"marker\": {\"colorbar\": {\"outlinewidth\": 0, \"ticks\": \"\"}}, \"type\": \"scatterternary\"}], \"surface\": [{\"colorbar\": {\"outlinewidth\": 0, \"ticks\": \"\"}, \"colorscale\": [[0.0, \"#0d0887\"], [0.1111111111111111, \"#46039f\"], [0.2222222222222222, \"#7201a8\"], [0.3333333333333333, \"#9c179e\"], [0.4444444444444444, \"#bd3786\"], [0.5555555555555556, \"#d8576b\"], [0.6666666666666666, \"#ed7953\"], [0.7777777777777778, \"#fb9f3a\"], [0.8888888888888888, \"#fdca26\"], [1.0, \"#f0f921\"]], \"type\": \"surface\"}], \"table\": [{\"cells\": {\"fill\": {\"color\": \"#EBF0F8\"}, \"line\": {\"color\": \"white\"}}, \"header\": {\"fill\": {\"color\": \"#C8D4E3\"}, \"line\": {\"color\": \"white\"}}, \"type\": \"table\"}]}, \"layout\": {\"annotationdefaults\": {\"arrowcolor\": \"#2a3f5f\", \"arrowhead\": 0, \"arrowwidth\": 1}, \"coloraxis\": {\"colorbar\": {\"outlinewidth\": 0, \"ticks\": \"\"}}, \"colorscale\": {\"diverging\": [[0, \"#8e0152\"], [0.1, \"#c51b7d\"], [0.2, \"#de77ae\"], [0.3, \"#f1b6da\"], [0.4, \"#fde0ef\"], [0.5, \"#f7f7f7\"], [0.6, \"#e6f5d0\"], [0.7, \"#b8e186\"], [0.8, \"#7fbc41\"], [0.9, \"#4d9221\"], [1, \"#276419\"]], \"sequential\": [[0.0, \"#0d0887\"], [0.1111111111111111, \"#46039f\"], [0.2222222222222222, \"#7201a8\"], [0.3333333333333333, \"#9c179e\"], [0.4444444444444444, \"#bd3786\"], [0.5555555555555556, \"#d8576b\"], [0.6666666666666666, \"#ed7953\"], [0.7777777777777778, \"#fb9f3a\"], [0.8888888888888888, \"#fdca26\"], [1.0, \"#f0f921\"]], \"sequentialminus\": [[0.0, \"#0d0887\"], [0.1111111111111111, \"#46039f\"], [0.2222222222222222, \"#7201a8\"], [0.3333333333333333, \"#9c179e\"], [0.4444444444444444, \"#bd3786\"], [0.5555555555555556, \"#d8576b\"], [0.6666666666666666, \"#ed7953\"], [0.7777777777777778, \"#fb9f3a\"], [0.8888888888888888, \"#fdca26\"], [1.0, \"#f0f921\"]]}, \"colorway\": [\"#636efa\", \"#EF553B\", \"#00cc96\", \"#ab63fa\", \"#FFA15A\", \"#19d3f3\", \"#FF6692\", \"#B6E880\", \"#FF97FF\", \"#FECB52\"], \"font\": {\"color\": \"#2a3f5f\"}, \"geo\": {\"bgcolor\": \"white\", \"lakecolor\": \"white\", \"landcolor\": \"#E5ECF6\", \"showlakes\": true, \"showland\": true, \"subunitcolor\": \"white\"}, \"hoverlabel\": {\"align\": \"left\"}, \"hovermode\": \"closest\", \"mapbox\": {\"style\": \"light\"}, \"paper_bgcolor\": \"white\", \"plot_bgcolor\": \"#E5ECF6\", \"polar\": {\"angularaxis\": {\"gridcolor\": \"white\", \"linecolor\": \"white\", \"ticks\": \"\"}, \"bgcolor\": \"#E5ECF6\", \"radialaxis\": {\"gridcolor\": \"white\", \"linecolor\": \"white\", \"ticks\": \"\"}}, \"scene\": {\"xaxis\": {\"backgroundcolor\": \"#E5ECF6\", \"gridcolor\": \"white\", \"gridwidth\": 2, \"linecolor\": \"white\", \"showbackground\": true, \"ticks\": \"\", \"zerolinecolor\": \"white\"}, \"yaxis\": {\"backgroundcolor\": \"#E5ECF6\", \"gridcolor\": \"white\", \"gridwidth\": 2, \"linecolor\": \"white\", \"showbackground\": true, \"ticks\": \"\", \"zerolinecolor\": \"white\"}, \"zaxis\": {\"backgroundcolor\": \"#E5ECF6\", \"gridcolor\": \"white\", \"gridwidth\": 2, \"linecolor\": \"white\", \"showbackground\": true, \"ticks\": \"\", \"zerolinecolor\": \"white\"}}, \"shapedefaults\": {\"line\": {\"color\": \"#2a3f5f\"}}, \"ternary\": {\"aaxis\": {\"gridcolor\": \"white\", \"linecolor\": \"white\", \"ticks\": \"\"}, \"baxis\": {\"gridcolor\": \"white\", \"linecolor\": \"white\", \"ticks\": \"\"}, \"bgcolor\": \"#E5ECF6\", \"caxis\": {\"gridcolor\": \"white\", \"linecolor\": \"white\", \"ticks\": \"\"}}, \"title\": {\"x\": 0.05}, \"xaxis\": {\"automargin\": true, \"gridcolor\": \"white\", \"linecolor\": \"white\", \"ticks\": \"\", \"title\": {\"standoff\": 15}, \"zerolinecolor\": \"white\", \"zerolinewidth\": 2}, \"yaxis\": {\"automargin\": true, \"gridcolor\": \"white\", \"linecolor\": \"white\", \"ticks\": \"\", \"title\": {\"standoff\": 15}, \"zerolinecolor\": \"white\", \"zerolinewidth\": 2}}}},\n",
              "                        {\"responsive\": true}\n",
              "                    ).then(function(){\n",
              "                            \n",
              "var gd = document.getElementById('81022e35-600e-4cab-b63d-746fd91a2df9');\n",
              "var x = new MutationObserver(function (mutations, observer) {{\n",
              "        var display = window.getComputedStyle(gd).display;\n",
              "        if (!display || display === 'none') {{\n",
              "            console.log([gd, 'removed!']);\n",
              "            Plotly.purge(gd);\n",
              "            observer.disconnect();\n",
              "        }}\n",
              "}});\n",
              "\n",
              "// Listen for the removal of the full notebook cells\n",
              "var notebookContainer = gd.closest('#notebook-container');\n",
              "if (notebookContainer) {{\n",
              "    x.observe(notebookContainer, {childList: true});\n",
              "}}\n",
              "\n",
              "// Listen for the clearing of the current output cell\n",
              "var outputEl = gd.closest('.output');\n",
              "if (outputEl) {{\n",
              "    x.observe(outputEl, {childList: true});\n",
              "}}\n",
              "\n",
              "                        })\n",
              "                };\n",
              "                \n",
              "            </script>\n",
              "        </div>\n",
              "</body>\n",
              "</html>"
            ]
          },
          "metadata": {
            "tags": []
          }
        }
      ]
    },
    {
      "cell_type": "markdown",
      "metadata": {
        "id": "lbrrtSmBbzko"
      },
      "source": [
        ""
      ]
    },
    {
      "cell_type": "markdown",
      "metadata": {
        "id": "XFY2nhyGq6tb"
      },
      "source": [
        "### We should do more EDA \n",
        "But the purpose of this notebook is to handle feature selection, So let's concentrate on that."
      ]
    },
    {
      "cell_type": "markdown",
      "metadata": {
        "id": "uXa5A_nJrjyb"
      },
      "source": [
        "#Feature Selection Methods:\n"
      ]
    },
    {
      "cell_type": "markdown",
      "metadata": {
        "id": "EgtagD62s-zf"
      },
      "source": [
        "###**1.Remove irrelevant features** \n",
        "\n",
        "Features like ID's , name, serial numbers, zero variance features,  etc... are irrelevant features. Having irrelevant features in your data can decrease the accuracy of the models and make your model learn based on irrelevant features."
      ]
    },
    {
      "cell_type": "code",
      "metadata": {
        "id": "XVZh1PUuuHF_"
      },
      "source": [
        "#1. remove irrelevant features\n"
      ],
      "execution_count": null,
      "outputs": []
    },
    {
      "cell_type": "markdown",
      "metadata": {
        "id": "A2E3M_L2Cm79"
      },
      "source": [
        "###**2.Remove highly correlated independent features** using Pearson correlation.\n",
        "\n",
        "\n",
        "Correlation states how the features are related to each other or the target variable.\n",
        "\n",
        "The correlation coefficient has values between -1 to 1.\n",
        "\n",
        "\n",
        "— A value closer to 0 implies weaker correlation (exact 0 implying no correlation)\n",
        "\n",
        "\n",
        "— A value closer to 1 implies stronger positive correlation\n",
        "\n",
        "\n",
        "— A value closer to -1 implies stronger negative correlation\n",
        "\n",
        "If some variables are correlated with each other, then we need to keep only one of them and drop the rest."
      ]
    },
    {
      "cell_type": "code",
      "metadata": {
        "id": "DNh4KSibD-64",
        "colab": {
          "base_uri": "https://localhost:8080/",
          "height": 363
        },
        "outputId": "de58583a-4c78-4f83-e0ea-bbbd96f9233e"
      },
      "source": [
        "corr_df = diabetes_df.corr()\n",
        "corr_df"
      ],
      "execution_count": null,
      "outputs": [
        {
          "output_type": "execute_result",
          "data": {
            "text/html": [
              "<div>\n",
              "<style scoped>\n",
              "    .dataframe tbody tr th:only-of-type {\n",
              "        vertical-align: middle;\n",
              "    }\n",
              "\n",
              "    .dataframe tbody tr th {\n",
              "        vertical-align: top;\n",
              "    }\n",
              "\n",
              "    .dataframe thead th {\n",
              "        text-align: right;\n",
              "    }\n",
              "</style>\n",
              "<table border=\"1\" class=\"dataframe\">\n",
              "  <thead>\n",
              "    <tr style=\"text-align: right;\">\n",
              "      <th></th>\n",
              "      <th>Pregnancies</th>\n",
              "      <th>Glucose</th>\n",
              "      <th>BloodPressure</th>\n",
              "      <th>appt</th>\n",
              "      <th>BMI</th>\n",
              "      <th>DiabetesPedigreeFunction</th>\n",
              "      <th>SkinThickness</th>\n",
              "      <th>a1c</th>\n",
              "      <th>Age</th>\n",
              "      <th>Outcome</th>\n",
              "    </tr>\n",
              "  </thead>\n",
              "  <tbody>\n",
              "    <tr>\n",
              "      <th>Pregnancies</th>\n",
              "      <td>1.000000</td>\n",
              "      <td>0.129459</td>\n",
              "      <td>0.141282</td>\n",
              "      <td>0.015947</td>\n",
              "      <td>0.017683</td>\n",
              "      <td>-0.033523</td>\n",
              "      <td>-0.081672</td>\n",
              "      <td>-0.048315</td>\n",
              "      <td>0.544341</td>\n",
              "      <td>0.229846</td>\n",
              "    </tr>\n",
              "    <tr>\n",
              "      <th>Glucose</th>\n",
              "      <td>0.129459</td>\n",
              "      <td>1.000000</td>\n",
              "      <td>0.152590</td>\n",
              "      <td>-0.005523</td>\n",
              "      <td>0.221071</td>\n",
              "      <td>0.137337</td>\n",
              "      <td>0.057328</td>\n",
              "      <td>-0.019358</td>\n",
              "      <td>0.263514</td>\n",
              "      <td>0.463343</td>\n",
              "    </tr>\n",
              "    <tr>\n",
              "      <th>BloodPressure</th>\n",
              "      <td>0.141282</td>\n",
              "      <td>0.152590</td>\n",
              "      <td>1.000000</td>\n",
              "      <td>-0.012474</td>\n",
              "      <td>0.281805</td>\n",
              "      <td>0.041265</td>\n",
              "      <td>0.207371</td>\n",
              "      <td>0.036198</td>\n",
              "      <td>0.239528</td>\n",
              "      <td>0.068789</td>\n",
              "    </tr>\n",
              "    <tr>\n",
              "      <th>appt</th>\n",
              "      <td>0.015947</td>\n",
              "      <td>-0.005523</td>\n",
              "      <td>-0.012474</td>\n",
              "      <td>1.000000</td>\n",
              "      <td>-0.003747</td>\n",
              "      <td>-0.005480</td>\n",
              "      <td>0.052175</td>\n",
              "      <td>-0.015742</td>\n",
              "      <td>-0.007974</td>\n",
              "      <td>0.011301</td>\n",
              "    </tr>\n",
              "    <tr>\n",
              "      <th>BMI</th>\n",
              "      <td>0.017683</td>\n",
              "      <td>0.221071</td>\n",
              "      <td>0.281805</td>\n",
              "      <td>-0.003747</td>\n",
              "      <td>1.000000</td>\n",
              "      <td>0.140647</td>\n",
              "      <td>0.392573</td>\n",
              "      <td>0.020999</td>\n",
              "      <td>0.036242</td>\n",
              "      <td>0.308588</td>\n",
              "    </tr>\n",
              "    <tr>\n",
              "      <th>DiabetesPedigreeFunction</th>\n",
              "      <td>-0.033523</td>\n",
              "      <td>0.137337</td>\n",
              "      <td>0.041265</td>\n",
              "      <td>-0.005480</td>\n",
              "      <td>0.140647</td>\n",
              "      <td>1.000000</td>\n",
              "      <td>0.183928</td>\n",
              "      <td>0.023907</td>\n",
              "      <td>0.033561</td>\n",
              "      <td>0.189205</td>\n",
              "    </tr>\n",
              "    <tr>\n",
              "      <th>SkinThickness</th>\n",
              "      <td>-0.081672</td>\n",
              "      <td>0.057328</td>\n",
              "      <td>0.207371</td>\n",
              "      <td>0.052175</td>\n",
              "      <td>0.392573</td>\n",
              "      <td>0.183928</td>\n",
              "      <td>1.000000</td>\n",
              "      <td>0.028821</td>\n",
              "      <td>-0.113970</td>\n",
              "      <td>0.088634</td>\n",
              "    </tr>\n",
              "    <tr>\n",
              "      <th>a1c</th>\n",
              "      <td>-0.048315</td>\n",
              "      <td>-0.019358</td>\n",
              "      <td>0.036198</td>\n",
              "      <td>-0.015742</td>\n",
              "      <td>0.020999</td>\n",
              "      <td>0.023907</td>\n",
              "      <td>0.028821</td>\n",
              "      <td>1.000000</td>\n",
              "      <td>-0.026813</td>\n",
              "      <td>-0.031190</td>\n",
              "    </tr>\n",
              "    <tr>\n",
              "      <th>Age</th>\n",
              "      <td>0.544341</td>\n",
              "      <td>0.263514</td>\n",
              "      <td>0.239528</td>\n",
              "      <td>-0.007974</td>\n",
              "      <td>0.036242</td>\n",
              "      <td>0.033561</td>\n",
              "      <td>-0.113970</td>\n",
              "      <td>-0.026813</td>\n",
              "      <td>1.000000</td>\n",
              "      <td>0.234680</td>\n",
              "    </tr>\n",
              "    <tr>\n",
              "      <th>Outcome</th>\n",
              "      <td>0.229846</td>\n",
              "      <td>0.463343</td>\n",
              "      <td>0.068789</td>\n",
              "      <td>0.011301</td>\n",
              "      <td>0.308588</td>\n",
              "      <td>0.189205</td>\n",
              "      <td>0.088634</td>\n",
              "      <td>-0.031190</td>\n",
              "      <td>0.234680</td>\n",
              "      <td>1.000000</td>\n",
              "    </tr>\n",
              "  </tbody>\n",
              "</table>\n",
              "</div>"
            ],
            "text/plain": [
              "                          Pregnancies   Glucose  ...       Age   Outcome\n",
              "Pregnancies                  1.000000  0.129459  ...  0.544341  0.229846\n",
              "Glucose                      0.129459  1.000000  ...  0.263514  0.463343\n",
              "BloodPressure                0.141282  0.152590  ...  0.239528  0.068789\n",
              "appt                         0.015947 -0.005523  ... -0.007974  0.011301\n",
              "BMI                          0.017683  0.221071  ...  0.036242  0.308588\n",
              "DiabetesPedigreeFunction    -0.033523  0.137337  ...  0.033561  0.189205\n",
              "SkinThickness               -0.081672  0.057328  ... -0.113970  0.088634\n",
              "a1c                         -0.048315 -0.019358  ... -0.026813 -0.031190\n",
              "Age                          0.544341  0.263514  ...  1.000000  0.234680\n",
              "Outcome                      0.229846  0.463343  ...  0.234680  1.000000\n",
              "\n",
              "[10 rows x 10 columns]"
            ]
          },
          "metadata": {
            "tags": []
          },
          "execution_count": 21
        }
      ]
    },
    {
      "cell_type": "code",
      "metadata": {
        "id": "qhCsUEWjEVqP",
        "colab": {
          "base_uri": "https://localhost:8080/",
          "height": 542
        },
        "outputId": "0e740c55-a4a4-4a9b-ff15-038a36070d35"
      },
      "source": [
        "fig = go.Figure()\n",
        "fig.add_traces(go.Heatmap(\n",
        "    z=corr_df, \n",
        "    x=corr_df.columns, \n",
        "    y=corr_df.columns,\n",
        "    zmax=1, \n",
        "    zmin=-1\n",
        "))\n",
        "fig.update_layout({\n",
        "    'title':\"Features Correlation Heatmap\"\n",
        "})"
      ],
      "execution_count": null,
      "outputs": [
        {
          "output_type": "display_data",
          "data": {
            "text/html": [
              "<html>\n",
              "<head><meta charset=\"utf-8\" /></head>\n",
              "<body>\n",
              "    <div>\n",
              "            <script src=\"https://cdnjs.cloudflare.com/ajax/libs/mathjax/2.7.5/MathJax.js?config=TeX-AMS-MML_SVG\"></script><script type=\"text/javascript\">if (window.MathJax) {MathJax.Hub.Config({SVG: {font: \"STIX-Web\"}});}</script>\n",
              "                <script type=\"text/javascript\">window.PlotlyConfig = {MathJaxConfig: 'local'};</script>\n",
              "        <script src=\"https://cdn.plot.ly/plotly-latest.min.js\"></script>    \n",
              "            <div id=\"59222ad2-bc42-440e-b8b5-ac464fac8d3e\" class=\"plotly-graph-div\" style=\"height:525px; width:100%;\"></div>\n",
              "            <script type=\"text/javascript\">\n",
              "                \n",
              "                    window.PLOTLYENV=window.PLOTLYENV || {};\n",
              "                    \n",
              "                if (document.getElementById(\"59222ad2-bc42-440e-b8b5-ac464fac8d3e\")) {\n",
              "                    Plotly.newPlot(\n",
              "                        '59222ad2-bc42-440e-b8b5-ac464fac8d3e',\n",
              "                        [{\"type\": \"heatmap\", \"x\": [\"Pregnancies\", \"Glucose\", \"BloodPressure\", \"appt\", \"BMI\", \"DiabetesPedigreeFunction\", \"SkinThickness\", \"a1c\", \"Age\", \"Outcome\"], \"y\": [\"Pregnancies\", \"Glucose\", \"BloodPressure\", \"appt\", \"BMI\", \"DiabetesPedigreeFunction\", \"SkinThickness\", \"a1c\", \"Age\", \"Outcome\"], \"z\": [[1.0, 0.129458671499273, 0.14128197740714024, 0.015947065695184608, 0.017683090727830673, -0.03352267296261325, -0.08167177444900703, -0.04831460096966969, 0.5443412284023388, 0.2298463972424534], [0.129458671499273, 1.0, 0.15258958656866448, -0.005523196889825257, 0.22107106945898305, 0.1373372998283708, 0.057327890738176825, -0.019358120523021563, 0.26351431982433376, 0.4633429144866164], [0.14128197740714024, 0.15258958656866448, 1.0, -0.012474207668121714, 0.28180528884991074, 0.04126494793009854, 0.2073705384030703, 0.0361976312393863, 0.23952794642136382, 0.06878912069480521], [0.015947065695184608, -0.005523196889825257, -0.012474207668121714, 1.0, -0.0037472384995480127, -0.0054802882803993746, 0.0521748342191959, -0.015741755983588318, -0.00797401995518379, 0.01130140094516829], [0.017683090727830673, 0.22107106945898305, 0.28180528884991074, -0.0037472384995480127, 1.0, 0.14064695254510545, 0.3925732041590375, 0.020999132740632344, 0.036241870092294085, 0.30858815337852], [-0.03352267296261325, 0.1373372998283708, 0.04126494793009854, -0.0054802882803993746, 0.14064695254510545, 1.0, 0.18392757295416273, 0.02390730708624202, 0.03356131243480559, 0.189205362685286], [-0.08167177444900703, 0.057327890738176825, 0.2073705384030703, 0.0521748342191959, 0.3925732041590375, 0.18392757295416273, 1.0, 0.028821396120777925, -0.11397026236774202, 0.08863421468604801], [-0.04831460096966969, -0.019358120523021563, 0.0361976312393863, -0.015741755983588318, 0.020999132740632344, 0.02390730708624202, 0.028821396120777925, 1.0, -0.026813190373870446, -0.03118981240833109], [0.5443412284023388, 0.26351431982433376, 0.23952794642136382, -0.00797401995518379, 0.036241870092294085, 0.03356131243480559, -0.11397026236774202, -0.026813190373870446, 1.0, 0.23468022471292946], [0.2298463972424534, 0.4633429144866164, 0.06878912069480521, 0.01130140094516829, 0.30858815337852, 0.189205362685286, 0.08863421468604801, -0.03118981240833109, 0.23468022471292946, 1.0]], \"zmax\": 1, \"zmin\": -1}],\n",
              "                        {\"template\": {\"data\": {\"bar\": [{\"error_x\": {\"color\": \"#2a3f5f\"}, \"error_y\": {\"color\": \"#2a3f5f\"}, \"marker\": {\"line\": {\"color\": \"#E5ECF6\", \"width\": 0.5}}, \"type\": \"bar\"}], \"barpolar\": [{\"marker\": {\"line\": {\"color\": \"#E5ECF6\", \"width\": 0.5}}, \"type\": \"barpolar\"}], \"carpet\": [{\"aaxis\": {\"endlinecolor\": \"#2a3f5f\", \"gridcolor\": \"white\", \"linecolor\": \"white\", \"minorgridcolor\": \"white\", \"startlinecolor\": \"#2a3f5f\"}, \"baxis\": {\"endlinecolor\": \"#2a3f5f\", \"gridcolor\": \"white\", \"linecolor\": \"white\", \"minorgridcolor\": \"white\", \"startlinecolor\": \"#2a3f5f\"}, \"type\": \"carpet\"}], \"choropleth\": [{\"colorbar\": {\"outlinewidth\": 0, \"ticks\": \"\"}, \"type\": \"choropleth\"}], \"contour\": [{\"colorbar\": {\"outlinewidth\": 0, \"ticks\": \"\"}, \"colorscale\": [[0.0, \"#0d0887\"], [0.1111111111111111, \"#46039f\"], [0.2222222222222222, \"#7201a8\"], [0.3333333333333333, \"#9c179e\"], [0.4444444444444444, \"#bd3786\"], [0.5555555555555556, \"#d8576b\"], [0.6666666666666666, \"#ed7953\"], [0.7777777777777778, \"#fb9f3a\"], [0.8888888888888888, \"#fdca26\"], [1.0, \"#f0f921\"]], \"type\": \"contour\"}], \"contourcarpet\": [{\"colorbar\": {\"outlinewidth\": 0, \"ticks\": \"\"}, \"type\": \"contourcarpet\"}], \"heatmap\": [{\"colorbar\": {\"outlinewidth\": 0, \"ticks\": \"\"}, \"colorscale\": [[0.0, \"#0d0887\"], [0.1111111111111111, \"#46039f\"], [0.2222222222222222, \"#7201a8\"], [0.3333333333333333, \"#9c179e\"], [0.4444444444444444, \"#bd3786\"], [0.5555555555555556, \"#d8576b\"], [0.6666666666666666, \"#ed7953\"], [0.7777777777777778, \"#fb9f3a\"], [0.8888888888888888, \"#fdca26\"], [1.0, \"#f0f921\"]], \"type\": \"heatmap\"}], \"heatmapgl\": [{\"colorbar\": {\"outlinewidth\": 0, \"ticks\": \"\"}, \"colorscale\": [[0.0, \"#0d0887\"], [0.1111111111111111, \"#46039f\"], [0.2222222222222222, \"#7201a8\"], [0.3333333333333333, \"#9c179e\"], [0.4444444444444444, \"#bd3786\"], [0.5555555555555556, \"#d8576b\"], [0.6666666666666666, \"#ed7953\"], [0.7777777777777778, \"#fb9f3a\"], [0.8888888888888888, \"#fdca26\"], [1.0, \"#f0f921\"]], \"type\": \"heatmapgl\"}], \"histogram\": [{\"marker\": {\"colorbar\": {\"outlinewidth\": 0, \"ticks\": \"\"}}, \"type\": \"histogram\"}], \"histogram2d\": [{\"colorbar\": {\"outlinewidth\": 0, \"ticks\": \"\"}, \"colorscale\": [[0.0, \"#0d0887\"], [0.1111111111111111, \"#46039f\"], [0.2222222222222222, \"#7201a8\"], [0.3333333333333333, \"#9c179e\"], [0.4444444444444444, \"#bd3786\"], [0.5555555555555556, \"#d8576b\"], [0.6666666666666666, \"#ed7953\"], [0.7777777777777778, \"#fb9f3a\"], [0.8888888888888888, \"#fdca26\"], [1.0, \"#f0f921\"]], \"type\": \"histogram2d\"}], \"histogram2dcontour\": [{\"colorbar\": {\"outlinewidth\": 0, \"ticks\": \"\"}, \"colorscale\": [[0.0, \"#0d0887\"], [0.1111111111111111, \"#46039f\"], [0.2222222222222222, \"#7201a8\"], [0.3333333333333333, \"#9c179e\"], [0.4444444444444444, \"#bd3786\"], [0.5555555555555556, \"#d8576b\"], [0.6666666666666666, \"#ed7953\"], [0.7777777777777778, \"#fb9f3a\"], [0.8888888888888888, \"#fdca26\"], [1.0, \"#f0f921\"]], \"type\": \"histogram2dcontour\"}], \"mesh3d\": [{\"colorbar\": {\"outlinewidth\": 0, \"ticks\": \"\"}, \"type\": \"mesh3d\"}], \"parcoords\": [{\"line\": {\"colorbar\": {\"outlinewidth\": 0, \"ticks\": \"\"}}, \"type\": \"parcoords\"}], \"pie\": [{\"automargin\": true, \"type\": \"pie\"}], \"scatter\": [{\"marker\": {\"colorbar\": {\"outlinewidth\": 0, \"ticks\": \"\"}}, \"type\": \"scatter\"}], \"scatter3d\": [{\"line\": {\"colorbar\": {\"outlinewidth\": 0, \"ticks\": \"\"}}, \"marker\": {\"colorbar\": {\"outlinewidth\": 0, \"ticks\": \"\"}}, \"type\": \"scatter3d\"}], \"scattercarpet\": [{\"marker\": {\"colorbar\": {\"outlinewidth\": 0, \"ticks\": \"\"}}, \"type\": \"scattercarpet\"}], \"scattergeo\": [{\"marker\": {\"colorbar\": {\"outlinewidth\": 0, \"ticks\": \"\"}}, \"type\": \"scattergeo\"}], \"scattergl\": [{\"marker\": {\"colorbar\": {\"outlinewidth\": 0, \"ticks\": \"\"}}, \"type\": \"scattergl\"}], \"scattermapbox\": [{\"marker\": {\"colorbar\": {\"outlinewidth\": 0, \"ticks\": \"\"}}, \"type\": \"scattermapbox\"}], \"scatterpolar\": [{\"marker\": {\"colorbar\": {\"outlinewidth\": 0, \"ticks\": \"\"}}, \"type\": \"scatterpolar\"}], \"scatterpolargl\": [{\"marker\": {\"colorbar\": {\"outlinewidth\": 0, \"ticks\": \"\"}}, \"type\": \"scatterpolargl\"}], \"scatterternary\": [{\"marker\": {\"colorbar\": {\"outlinewidth\": 0, \"ticks\": \"\"}}, \"type\": \"scatterternary\"}], \"surface\": [{\"colorbar\": {\"outlinewidth\": 0, \"ticks\": \"\"}, \"colorscale\": [[0.0, \"#0d0887\"], [0.1111111111111111, \"#46039f\"], [0.2222222222222222, \"#7201a8\"], [0.3333333333333333, \"#9c179e\"], [0.4444444444444444, \"#bd3786\"], [0.5555555555555556, \"#d8576b\"], [0.6666666666666666, \"#ed7953\"], [0.7777777777777778, \"#fb9f3a\"], [0.8888888888888888, \"#fdca26\"], [1.0, \"#f0f921\"]], \"type\": \"surface\"}], \"table\": [{\"cells\": {\"fill\": {\"color\": \"#EBF0F8\"}, \"line\": {\"color\": \"white\"}}, \"header\": {\"fill\": {\"color\": \"#C8D4E3\"}, \"line\": {\"color\": \"white\"}}, \"type\": \"table\"}]}, \"layout\": {\"annotationdefaults\": {\"arrowcolor\": \"#2a3f5f\", \"arrowhead\": 0, \"arrowwidth\": 1}, \"coloraxis\": {\"colorbar\": {\"outlinewidth\": 0, \"ticks\": \"\"}}, \"colorscale\": {\"diverging\": [[0, \"#8e0152\"], [0.1, \"#c51b7d\"], [0.2, \"#de77ae\"], [0.3, \"#f1b6da\"], [0.4, \"#fde0ef\"], [0.5, \"#f7f7f7\"], [0.6, \"#e6f5d0\"], [0.7, \"#b8e186\"], [0.8, \"#7fbc41\"], [0.9, \"#4d9221\"], [1, \"#276419\"]], \"sequential\": [[0.0, \"#0d0887\"], [0.1111111111111111, \"#46039f\"], [0.2222222222222222, \"#7201a8\"], [0.3333333333333333, \"#9c179e\"], [0.4444444444444444, \"#bd3786\"], [0.5555555555555556, \"#d8576b\"], [0.6666666666666666, \"#ed7953\"], [0.7777777777777778, \"#fb9f3a\"], [0.8888888888888888, \"#fdca26\"], [1.0, \"#f0f921\"]], \"sequentialminus\": [[0.0, \"#0d0887\"], [0.1111111111111111, \"#46039f\"], [0.2222222222222222, \"#7201a8\"], [0.3333333333333333, \"#9c179e\"], [0.4444444444444444, \"#bd3786\"], [0.5555555555555556, \"#d8576b\"], [0.6666666666666666, \"#ed7953\"], [0.7777777777777778, \"#fb9f3a\"], [0.8888888888888888, \"#fdca26\"], [1.0, \"#f0f921\"]]}, \"colorway\": [\"#636efa\", \"#EF553B\", \"#00cc96\", \"#ab63fa\", \"#FFA15A\", \"#19d3f3\", \"#FF6692\", \"#B6E880\", \"#FF97FF\", \"#FECB52\"], \"font\": {\"color\": \"#2a3f5f\"}, \"geo\": {\"bgcolor\": \"white\", \"lakecolor\": \"white\", \"landcolor\": \"#E5ECF6\", \"showlakes\": true, \"showland\": true, \"subunitcolor\": \"white\"}, \"hoverlabel\": {\"align\": \"left\"}, \"hovermode\": \"closest\", \"mapbox\": {\"style\": \"light\"}, \"paper_bgcolor\": \"white\", \"plot_bgcolor\": \"#E5ECF6\", \"polar\": {\"angularaxis\": {\"gridcolor\": \"white\", \"linecolor\": \"white\", \"ticks\": \"\"}, \"bgcolor\": \"#E5ECF6\", \"radialaxis\": {\"gridcolor\": \"white\", \"linecolor\": \"white\", \"ticks\": \"\"}}, \"scene\": {\"xaxis\": {\"backgroundcolor\": \"#E5ECF6\", \"gridcolor\": \"white\", \"gridwidth\": 2, \"linecolor\": \"white\", \"showbackground\": true, \"ticks\": \"\", \"zerolinecolor\": \"white\"}, \"yaxis\": {\"backgroundcolor\": \"#E5ECF6\", \"gridcolor\": \"white\", \"gridwidth\": 2, \"linecolor\": \"white\", \"showbackground\": true, \"ticks\": \"\", \"zerolinecolor\": \"white\"}, \"zaxis\": {\"backgroundcolor\": \"#E5ECF6\", \"gridcolor\": \"white\", \"gridwidth\": 2, \"linecolor\": \"white\", \"showbackground\": true, \"ticks\": \"\", \"zerolinecolor\": \"white\"}}, \"shapedefaults\": {\"line\": {\"color\": \"#2a3f5f\"}}, \"ternary\": {\"aaxis\": {\"gridcolor\": \"white\", \"linecolor\": \"white\", \"ticks\": \"\"}, \"baxis\": {\"gridcolor\": \"white\", \"linecolor\": \"white\", \"ticks\": \"\"}, \"bgcolor\": \"#E5ECF6\", \"caxis\": {\"gridcolor\": \"white\", \"linecolor\": \"white\", \"ticks\": \"\"}}, \"title\": {\"x\": 0.05}, \"xaxis\": {\"automargin\": true, \"gridcolor\": \"white\", \"linecolor\": \"white\", \"ticks\": \"\", \"title\": {\"standoff\": 15}, \"zerolinecolor\": \"white\", \"zerolinewidth\": 2}, \"yaxis\": {\"automargin\": true, \"gridcolor\": \"white\", \"linecolor\": \"white\", \"ticks\": \"\", \"title\": {\"standoff\": 15}, \"zerolinecolor\": \"white\", \"zerolinewidth\": 2}}}, \"title\": {\"text\": \"Features Correlation Heatmap\"}},\n",
              "                        {\"responsive\": true}\n",
              "                    ).then(function(){\n",
              "                            \n",
              "var gd = document.getElementById('59222ad2-bc42-440e-b8b5-ac464fac8d3e');\n",
              "var x = new MutationObserver(function (mutations, observer) {{\n",
              "        var display = window.getComputedStyle(gd).display;\n",
              "        if (!display || display === 'none') {{\n",
              "            console.log([gd, 'removed!']);\n",
              "            Plotly.purge(gd);\n",
              "            observer.disconnect();\n",
              "        }}\n",
              "}});\n",
              "\n",
              "// Listen for the removal of the full notebook cells\n",
              "var notebookContainer = gd.closest('#notebook-container');\n",
              "if (notebookContainer) {{\n",
              "    x.observe(notebookContainer, {childList: true});\n",
              "}}\n",
              "\n",
              "// Listen for the clearing of the current output cell\n",
              "var outputEl = gd.closest('.output');\n",
              "if (outputEl) {{\n",
              "    x.observe(outputEl, {childList: true});\n",
              "}}\n",
              "\n",
              "                        })\n",
              "                };\n",
              "                \n",
              "            </script>\n",
              "        </div>\n",
              "</body>\n",
              "</html>"
            ]
          },
          "metadata": {
            "tags": []
          }
        }
      ]
    },
    {
      "cell_type": "markdown",
      "metadata": {
        "id": "vrQc5Z3OEgX4"
      },
      "source": [
        "Inference:\n",
        "\n",
        "There are no highly correlated features in this DF."
      ]
    },
    {
      "cell_type": "markdown",
      "metadata": {
        "id": "16YEGwZdAxPp"
      },
      "source": [
        "###**3.For linear regression only - Select the features that are highly correlated to the target** using Pearson correlation.\n",
        "\n",
        "Use the same correlation matrix from the previous technique and only keep the variables with high correlation to the target"
      ]
    },
    {
      "cell_type": "code",
      "metadata": {
        "id": "dT4kt95wBm1c",
        "colab": {
          "base_uri": "https://localhost:8080/",
          "height": 314
        },
        "outputId": "9e62016d-e8a0-4c66-bef6-944dc98d274f"
      },
      "source": [
        "high_corr = corr_df.Outcome.iloc[0:-1].sort_values(ascending=False)\n",
        "high_corr_df = pd.DataFrame({'high_corr_to_target':high_corr}, index=high_corr.index)\n",
        "high_corr_df"
      ],
      "execution_count": null,
      "outputs": [
        {
          "output_type": "execute_result",
          "data": {
            "text/html": [
              "<div>\n",
              "<style scoped>\n",
              "    .dataframe tbody tr th:only-of-type {\n",
              "        vertical-align: middle;\n",
              "    }\n",
              "\n",
              "    .dataframe tbody tr th {\n",
              "        vertical-align: top;\n",
              "    }\n",
              "\n",
              "    .dataframe thead th {\n",
              "        text-align: right;\n",
              "    }\n",
              "</style>\n",
              "<table border=\"1\" class=\"dataframe\">\n",
              "  <thead>\n",
              "    <tr style=\"text-align: right;\">\n",
              "      <th></th>\n",
              "      <th>high_corr_to_target</th>\n",
              "    </tr>\n",
              "  </thead>\n",
              "  <tbody>\n",
              "    <tr>\n",
              "      <th>Glucose</th>\n",
              "      <td>0.463343</td>\n",
              "    </tr>\n",
              "    <tr>\n",
              "      <th>BMI</th>\n",
              "      <td>0.308588</td>\n",
              "    </tr>\n",
              "    <tr>\n",
              "      <th>Age</th>\n",
              "      <td>0.234680</td>\n",
              "    </tr>\n",
              "    <tr>\n",
              "      <th>Pregnancies</th>\n",
              "      <td>0.229846</td>\n",
              "    </tr>\n",
              "    <tr>\n",
              "      <th>DiabetesPedigreeFunction</th>\n",
              "      <td>0.189205</td>\n",
              "    </tr>\n",
              "    <tr>\n",
              "      <th>SkinThickness</th>\n",
              "      <td>0.088634</td>\n",
              "    </tr>\n",
              "    <tr>\n",
              "      <th>BloodPressure</th>\n",
              "      <td>0.068789</td>\n",
              "    </tr>\n",
              "    <tr>\n",
              "      <th>appt</th>\n",
              "      <td>0.011301</td>\n",
              "    </tr>\n",
              "    <tr>\n",
              "      <th>a1c</th>\n",
              "      <td>-0.031190</td>\n",
              "    </tr>\n",
              "  </tbody>\n",
              "</table>\n",
              "</div>"
            ],
            "text/plain": [
              "                          high_corr_to_target\n",
              "Glucose                              0.463343\n",
              "BMI                                  0.308588\n",
              "Age                                  0.234680\n",
              "Pregnancies                          0.229846\n",
              "DiabetesPedigreeFunction             0.189205\n",
              "SkinThickness                        0.088634\n",
              "BloodPressure                        0.068789\n",
              "appt                                 0.011301\n",
              "a1c                                 -0.031190"
            ]
          },
          "metadata": {
            "tags": []
          },
          "execution_count": 23
        }
      ]
    },
    {
      "cell_type": "markdown",
      "metadata": {
        "id": "j6vRo7qbucoP"
      },
      "source": [
        "###**4.Univariate Selection Statistical Test**\n",
        "\n",
        "Statistical tests can be used to select those features that have the strongest relationship with the output variable.\n",
        "\n",
        "The scikit-learn library provides the SelectKBest class that can be used with a suite of different statistical tests to select a specific number of features.\n",
        "\n",
        "* SelectKBest removes all but the k highest scoring features\n",
        "\n",
        "These objects take as input a scoring function that returns univariate f-scores\n",
        "* For regression use: f_regression\n",
        "\n",
        ">The F-test of overall significance indicates whether your linear regression model provides a better fit to the data than a model that contains no independent variables\n",
        "\n",
        "* For classification use: chi2\n",
        "\n",
        ">It determines if the association between two categorical variables of the sample would reflect their real association in the population.\n"
      ]
    },
    {
      "cell_type": "code",
      "metadata": {
        "id": "Ev1h6vWt9sA4"
      },
      "source": [
        "X = diabetes_df.drop('Outcome', axis=1)\n",
        "y = diabetes_df.Outcome"
      ],
      "execution_count": null,
      "outputs": []
    },
    {
      "cell_type": "code",
      "metadata": {
        "id": "jfQurA-p8wIW"
      },
      "source": [
        "from sklearn.feature_selection import SelectKBest\n",
        "from sklearn.feature_selection import chi2"
      ],
      "execution_count": null,
      "outputs": []
    },
    {
      "cell_type": "code",
      "metadata": {
        "id": "TDTGNE248zY3",
        "colab": {
          "base_uri": "https://localhost:8080/"
        },
        "outputId": "ae000c6b-c484-4c9f-d1dc-bc281c0fe359"
      },
      "source": [
        "chi_selector = SelectKBest(chi2, k=6)\n",
        "chi_selector.fit(X, y)\n",
        "chi_support = chi_selector.get_support()\n",
        "chi_feature = X.loc[:,chi_support].columns.to_list()\n",
        "print(\"The top 6 top scored features are \",chi_feature)"
      ],
      "execution_count": null,
      "outputs": [
        {
          "output_type": "stream",
          "text": [
            "The top 6 top scored features are  ['Pregnancies', 'Glucose', 'BloodPressure', 'BMI', 'SkinThickness', 'Age']\n"
          ],
          "name": "stdout"
        }
      ]
    },
    {
      "cell_type": "code",
      "metadata": {
        "id": "0uz5Mi5b-9pK",
        "colab": {
          "base_uri": "https://localhost:8080/",
          "height": 314
        },
        "outputId": "1c735f71-a691-4b74-ca09-be0eac1d2576"
      },
      "source": [
        "scores = pd.Series(chi_selector.scores_.tolist()) \n",
        "p_values = pd.Series(chi_selector.pvalues_.tolist()) \n",
        "selected_df = pd.DataFrame({'univariate_score':scores, 'p_values':p_values})\n",
        "selected_df.set_index(X.columns, inplace=True, drop=True)\n",
        "univariate = selected_df.sort_values(by='univariate_score', ascending=False)\n",
        "univariate"
      ],
      "execution_count": null,
      "outputs": [
        {
          "output_type": "execute_result",
          "data": {
            "text/html": [
              "<div>\n",
              "<style scoped>\n",
              "    .dataframe tbody tr th:only-of-type {\n",
              "        vertical-align: middle;\n",
              "    }\n",
              "\n",
              "    .dataframe tbody tr th {\n",
              "        vertical-align: top;\n",
              "    }\n",
              "\n",
              "    .dataframe thead th {\n",
              "        text-align: right;\n",
              "    }\n",
              "</style>\n",
              "<table border=\"1\" class=\"dataframe\">\n",
              "  <thead>\n",
              "    <tr style=\"text-align: right;\">\n",
              "      <th></th>\n",
              "      <th>univariate_score</th>\n",
              "      <th>p_values</th>\n",
              "    </tr>\n",
              "  </thead>\n",
              "  <tbody>\n",
              "    <tr>\n",
              "      <th>Glucose</th>\n",
              "      <td>1392.355592</td>\n",
              "      <td>9.628936e-305</td>\n",
              "    </tr>\n",
              "    <tr>\n",
              "      <th>Age</th>\n",
              "      <td>175.754930</td>\n",
              "      <td>4.095919e-40</td>\n",
              "    </tr>\n",
              "    <tr>\n",
              "      <th>BMI</th>\n",
              "      <td>141.910823</td>\n",
              "      <td>1.017139e-32</td>\n",
              "    </tr>\n",
              "    <tr>\n",
              "      <th>Pregnancies</th>\n",
              "      <td>119.651895</td>\n",
              "      <td>7.539535e-28</td>\n",
              "    </tr>\n",
              "    <tr>\n",
              "      <th>SkinThickness</th>\n",
              "      <td>74.664601</td>\n",
              "      <td>5.578752e-18</td>\n",
              "    </tr>\n",
              "    <tr>\n",
              "      <th>BloodPressure</th>\n",
              "      <td>19.676373</td>\n",
              "      <td>9.172854e-06</td>\n",
              "    </tr>\n",
              "    <tr>\n",
              "      <th>DiabetesPedigreeFunction</th>\n",
              "      <td>6.387809</td>\n",
              "      <td>1.149068e-02</td>\n",
              "    </tr>\n",
              "    <tr>\n",
              "      <th>a1c</th>\n",
              "      <td>1.201238</td>\n",
              "      <td>2.730743e-01</td>\n",
              "    </tr>\n",
              "    <tr>\n",
              "      <th>appt</th>\n",
              "      <td>0.016086</td>\n",
              "      <td>8.990757e-01</td>\n",
              "    </tr>\n",
              "  </tbody>\n",
              "</table>\n",
              "</div>"
            ],
            "text/plain": [
              "                          univariate_score       p_values\n",
              "Glucose                        1392.355592  9.628936e-305\n",
              "Age                             175.754930   4.095919e-40\n",
              "BMI                             141.910823   1.017139e-32\n",
              "Pregnancies                     119.651895   7.539535e-28\n",
              "SkinThickness                    74.664601   5.578752e-18\n",
              "BloodPressure                    19.676373   9.172854e-06\n",
              "DiabetesPedigreeFunction          6.387809   1.149068e-02\n",
              "a1c                               1.201238   2.730743e-01\n",
              "appt                              0.016086   8.990757e-01"
            ]
          },
          "metadata": {
            "tags": []
          },
          "execution_count": 27
        }
      ]
    },
    {
      "cell_type": "markdown",
      "metadata": {
        "id": "FhJss4TiCMpu"
      },
      "source": [
        "We can see that in this test results the p-value corresponds with the univaritate score. \n",
        "\n",
        "But this is not always the case. Although P-value can be used as an alternative to or in a addition to pre-selected confidence levels for hypothesis testing, it's recommended to look for other tests reinforcing results. "
      ]
    },
    {
      "cell_type": "markdown",
      "metadata": {
        "id": "QpQGAXGu_FkG"
      },
      "source": [
        "###**5. Feature importance**\n",
        "\n",
        "Feature importance gives you a score for each feature of your data, the higher the score more important or relevant is the feature towards your output variable.\n",
        "\n",
        "\n",
        "Feature importance is an inbuilt class that comes with Tree Based Classifiers(covered in the next lab), we will be using xgboost Tree Classifier for extracting the top features for the dataset."
      ]
    },
    {
      "cell_type": "code",
      "metadata": {
        "id": "8i8_VQo7GSt2"
      },
      "source": [
        "from xgboost import XGBClassifier\n"
      ],
      "execution_count": null,
      "outputs": []
    },
    {
      "cell_type": "code",
      "metadata": {
        "id": "lYYUM57RGPJa",
        "colab": {
          "base_uri": "https://localhost:8080/",
          "height": 314
        },
        "outputId": "6041dfad-9747-4a67-b406-b00e8c08f68b"
      },
      "source": [
        "model = XGBClassifier()\n",
        "model.fit(X,y)\n",
        "feat_importances_df = pd.DataFrame({'feature_importance':model.feature_importances_}, index=X.columns)\n",
        "feat_importances_df=feat_importances_df.sort_values(by='feature_importance', ascending=False)\n",
        "feat_importances_df"
      ],
      "execution_count": null,
      "outputs": [
        {
          "output_type": "execute_result",
          "data": {
            "text/html": [
              "<div>\n",
              "<style scoped>\n",
              "    .dataframe tbody tr th:only-of-type {\n",
              "        vertical-align: middle;\n",
              "    }\n",
              "\n",
              "    .dataframe tbody tr th {\n",
              "        vertical-align: top;\n",
              "    }\n",
              "\n",
              "    .dataframe thead th {\n",
              "        text-align: right;\n",
              "    }\n",
              "</style>\n",
              "<table border=\"1\" class=\"dataframe\">\n",
              "  <thead>\n",
              "    <tr style=\"text-align: right;\">\n",
              "      <th></th>\n",
              "      <th>feature_importance</th>\n",
              "    </tr>\n",
              "  </thead>\n",
              "  <tbody>\n",
              "    <tr>\n",
              "      <th>Glucose</th>\n",
              "      <td>0.279777</td>\n",
              "    </tr>\n",
              "    <tr>\n",
              "      <th>BMI</th>\n",
              "      <td>0.163531</td>\n",
              "    </tr>\n",
              "    <tr>\n",
              "      <th>Age</th>\n",
              "      <td>0.140218</td>\n",
              "    </tr>\n",
              "    <tr>\n",
              "      <th>Pregnancies</th>\n",
              "      <td>0.100896</td>\n",
              "    </tr>\n",
              "    <tr>\n",
              "      <th>SkinThickness</th>\n",
              "      <td>0.083467</td>\n",
              "    </tr>\n",
              "    <tr>\n",
              "      <th>DiabetesPedigreeFunction</th>\n",
              "      <td>0.082590</td>\n",
              "    </tr>\n",
              "    <tr>\n",
              "      <th>appt</th>\n",
              "      <td>0.055035</td>\n",
              "    </tr>\n",
              "    <tr>\n",
              "      <th>BloodPressure</th>\n",
              "      <td>0.048647</td>\n",
              "    </tr>\n",
              "    <tr>\n",
              "      <th>a1c</th>\n",
              "      <td>0.045840</td>\n",
              "    </tr>\n",
              "  </tbody>\n",
              "</table>\n",
              "</div>"
            ],
            "text/plain": [
              "                          feature_importance\n",
              "Glucose                             0.279777\n",
              "BMI                                 0.163531\n",
              "Age                                 0.140218\n",
              "Pregnancies                         0.100896\n",
              "SkinThickness                       0.083467\n",
              "DiabetesPedigreeFunction            0.082590\n",
              "appt                                0.055035\n",
              "BloodPressure                       0.048647\n",
              "a1c                                 0.045840"
            ]
          },
          "metadata": {
            "tags": []
          },
          "execution_count": 29
        }
      ]
    },
    {
      "cell_type": "markdown",
      "metadata": {
        "id": "9hkFi9Nd_iNY"
      },
      "source": [
        "###**6. Have Doubt**\n",
        "Always check the result and make sure you understand them before proceeding. Feel free to examine other permutations and statistical tests. \n"
      ]
    },
    {
      "cell_type": "markdown",
      "metadata": {
        "id": "tSiDalO0GkuK"
      },
      "source": [
        "##Results summary\n",
        "* Although all the technics provide similar results. We need to make sure we understand our data first or else the results might be misleading.\n"
      ]
    },
    {
      "cell_type": "markdown",
      "metadata": {
        "id": "ZHzGIJ1eTCip"
      },
      "source": [
        "---------------"
      ]
    },
    {
      "cell_type": "markdown",
      "metadata": {
        "id": "N-JTQmO69Toa"
      },
      "source": [
        "##Split and scale the DF"
      ]
    },
    {
      "cell_type": "code",
      "metadata": {
        "id": "gBR2FzlA9pl6",
        "colab": {
          "base_uri": "https://localhost:8080/",
          "height": 195
        },
        "outputId": "424b2012-55cc-4454-eac9-64b76c7f9926"
      },
      "source": [
        "#scale the DF\n",
        "from sklearn.preprocessing import StandardScaler\n",
        "scaler = StandardScaler()\n",
        "scaled_X = pd.DataFrame(scaler.fit_transform(X), columns=diabetes_df.columns[0:-1])\n",
        "scaled_X.head()"
      ],
      "execution_count": null,
      "outputs": [
        {
          "output_type": "execute_result",
          "data": {
            "text/html": [
              "<div>\n",
              "<style scoped>\n",
              "    .dataframe tbody tr th:only-of-type {\n",
              "        vertical-align: middle;\n",
              "    }\n",
              "\n",
              "    .dataframe tbody tr th {\n",
              "        vertical-align: top;\n",
              "    }\n",
              "\n",
              "    .dataframe thead th {\n",
              "        text-align: right;\n",
              "    }\n",
              "</style>\n",
              "<table border=\"1\" class=\"dataframe\">\n",
              "  <thead>\n",
              "    <tr style=\"text-align: right;\">\n",
              "      <th></th>\n",
              "      <th>Pregnancies</th>\n",
              "      <th>Glucose</th>\n",
              "      <th>BloodPressure</th>\n",
              "      <th>appt</th>\n",
              "      <th>BMI</th>\n",
              "      <th>DiabetesPedigreeFunction</th>\n",
              "      <th>SkinThickness</th>\n",
              "      <th>a1c</th>\n",
              "      <th>Age</th>\n",
              "    </tr>\n",
              "  </thead>\n",
              "  <tbody>\n",
              "    <tr>\n",
              "      <th>0</th>\n",
              "      <td>0.639947</td>\n",
              "      <td>0.848324</td>\n",
              "      <td>0.149641</td>\n",
              "      <td>-1.689112</td>\n",
              "      <td>0.204013</td>\n",
              "      <td>0.468492</td>\n",
              "      <td>0.907270</td>\n",
              "      <td>1.415053</td>\n",
              "      <td>1.425995</td>\n",
              "    </tr>\n",
              "    <tr>\n",
              "      <th>1</th>\n",
              "      <td>-0.844885</td>\n",
              "      <td>-1.123396</td>\n",
              "      <td>-0.160546</td>\n",
              "      <td>-0.541185</td>\n",
              "      <td>-0.684422</td>\n",
              "      <td>-0.365061</td>\n",
              "      <td>0.530902</td>\n",
              "      <td>-1.376878</td>\n",
              "      <td>-0.190672</td>\n",
              "    </tr>\n",
              "    <tr>\n",
              "      <th>2</th>\n",
              "      <td>1.233880</td>\n",
              "      <td>1.943724</td>\n",
              "      <td>-0.263941</td>\n",
              "      <td>-0.422525</td>\n",
              "      <td>-1.103255</td>\n",
              "      <td>0.604397</td>\n",
              "      <td>-1.288212</td>\n",
              "      <td>-0.928761</td>\n",
              "      <td>-0.105584</td>\n",
              "    </tr>\n",
              "    <tr>\n",
              "      <th>3</th>\n",
              "      <td>-0.844885</td>\n",
              "      <td>-0.998208</td>\n",
              "      <td>-0.160546</td>\n",
              "      <td>0.991104</td>\n",
              "      <td>-0.494043</td>\n",
              "      <td>-0.920763</td>\n",
              "      <td>0.154533</td>\n",
              "      <td>0.622956</td>\n",
              "      <td>-1.041549</td>\n",
              "    </tr>\n",
              "    <tr>\n",
              "      <th>4</th>\n",
              "      <td>-1.141852</td>\n",
              "      <td>0.504055</td>\n",
              "      <td>-1.504687</td>\n",
              "      <td>-0.452409</td>\n",
              "      <td>1.409746</td>\n",
              "      <td>5.484909</td>\n",
              "      <td>0.907270</td>\n",
              "      <td>-0.064465</td>\n",
              "      <td>-0.020496</td>\n",
              "    </tr>\n",
              "  </tbody>\n",
              "</table>\n",
              "</div>"
            ],
            "text/plain": [
              "   Pregnancies   Glucose  BloodPressure  ...  SkinThickness       a1c       Age\n",
              "0     0.639947  0.848324       0.149641  ...       0.907270  1.415053  1.425995\n",
              "1    -0.844885 -1.123396      -0.160546  ...       0.530902 -1.376878 -0.190672\n",
              "2     1.233880  1.943724      -0.263941  ...      -1.288212 -0.928761 -0.105584\n",
              "3    -0.844885 -0.998208      -0.160546  ...       0.154533  0.622956 -1.041549\n",
              "4    -1.141852  0.504055      -1.504687  ...       0.907270 -0.064465 -0.020496\n",
              "\n",
              "[5 rows x 9 columns]"
            ]
          },
          "metadata": {
            "tags": []
          },
          "execution_count": 30
        }
      ]
    },
    {
      "cell_type": "code",
      "metadata": {
        "id": "yaIdXerB6GKU",
        "colab": {
          "base_uri": "https://localhost:8080/",
          "height": 343
        },
        "outputId": "fbf02405-03ce-4944-93d6-71989ad73aa0"
      },
      "source": [
        "\n",
        "#split the data\n",
        "from sklearn.model_selection import train_test_split\n",
        "X_train, X_test, y_train, y_test = train_test_split(scaled_X, y, test_size=0.3, random_state=1234)\n",
        "train_df = pd.merge(left=X_train, right=y_train, left_index=True, right_index=True)\n",
        "test_df = pd.merge(left=X_test, right=y_test, left_index=True, right_index=True)\n",
        "train_df.head(10)\n",
        "\n",
        "\n"
      ],
      "execution_count": null,
      "outputs": [
        {
          "output_type": "execute_result",
          "data": {
            "text/html": [
              "<div>\n",
              "<style scoped>\n",
              "    .dataframe tbody tr th:only-of-type {\n",
              "        vertical-align: middle;\n",
              "    }\n",
              "\n",
              "    .dataframe tbody tr th {\n",
              "        vertical-align: top;\n",
              "    }\n",
              "\n",
              "    .dataframe thead th {\n",
              "        text-align: right;\n",
              "    }\n",
              "</style>\n",
              "<table border=\"1\" class=\"dataframe\">\n",
              "  <thead>\n",
              "    <tr style=\"text-align: right;\">\n",
              "      <th></th>\n",
              "      <th>Pregnancies</th>\n",
              "      <th>Glucose</th>\n",
              "      <th>BloodPressure</th>\n",
              "      <th>appt</th>\n",
              "      <th>BMI</th>\n",
              "      <th>DiabetesPedigreeFunction</th>\n",
              "      <th>SkinThickness</th>\n",
              "      <th>a1c</th>\n",
              "      <th>Age</th>\n",
              "      <th>Outcome</th>\n",
              "    </tr>\n",
              "  </thead>\n",
              "  <tbody>\n",
              "    <tr>\n",
              "      <th>113</th>\n",
              "      <td>0.046014</td>\n",
              "      <td>-1.405071</td>\n",
              "      <td>-0.367337</td>\n",
              "      <td>-1.223616</td>\n",
              "      <td>0.254780</td>\n",
              "      <td>-0.244256</td>\n",
              "      <td>-1.288212</td>\n",
              "      <td>0.068384</td>\n",
              "      <td>-0.701198</td>\n",
              "      <td>0</td>\n",
              "    </tr>\n",
              "    <tr>\n",
              "      <th>395</th>\n",
              "      <td>-0.547919</td>\n",
              "      <td>0.191084</td>\n",
              "      <td>-0.574128</td>\n",
              "      <td>0.403311</td>\n",
              "      <td>-0.544811</td>\n",
              "      <td>3.407067</td>\n",
              "      <td>0.217261</td>\n",
              "      <td>-0.455060</td>\n",
              "      <td>-0.701198</td>\n",
              "      <td>0</td>\n",
              "    </tr>\n",
              "    <tr>\n",
              "      <th>453</th>\n",
              "      <td>-0.547919</td>\n",
              "      <td>-0.059293</td>\n",
              "      <td>-3.572597</td>\n",
              "      <td>1.531638</td>\n",
              "      <td>-1.572857</td>\n",
              "      <td>1.087616</td>\n",
              "      <td>-1.288212</td>\n",
              "      <td>-1.635896</td>\n",
              "      <td>3.297926</td>\n",
              "      <td>0</td>\n",
              "    </tr>\n",
              "    <tr>\n",
              "      <th>401</th>\n",
              "      <td>0.639947</td>\n",
              "      <td>0.504055</td>\n",
              "      <td>-0.419034</td>\n",
              "      <td>-1.518539</td>\n",
              "      <td>-0.989028</td>\n",
              "      <td>-0.969085</td>\n",
              "      <td>-1.288212</td>\n",
              "      <td>-0.561525</td>\n",
              "      <td>1.851434</td>\n",
              "      <td>0</td>\n",
              "    </tr>\n",
              "    <tr>\n",
              "      <th>245</th>\n",
              "      <td>1.530847</td>\n",
              "      <td>1.975021</td>\n",
              "      <td>0.821712</td>\n",
              "      <td>1.128750</td>\n",
              "      <td>-0.252897</td>\n",
              "      <td>2.238282</td>\n",
              "      <td>-0.347291</td>\n",
              "      <td>0.514738</td>\n",
              "      <td>1.340908</td>\n",
              "      <td>1</td>\n",
              "    </tr>\n",
              "    <tr>\n",
              "      <th>378</th>\n",
              "      <td>0.046014</td>\n",
              "      <td>1.098701</td>\n",
              "      <td>0.304734</td>\n",
              "      <td>0.946435</td>\n",
              "      <td>2.069726</td>\n",
              "      <td>-0.706334</td>\n",
              "      <td>-1.288212</td>\n",
              "      <td>0.267622</td>\n",
              "      <td>-0.105584</td>\n",
              "      <td>1</td>\n",
              "    </tr>\n",
              "    <tr>\n",
              "      <th>605</th>\n",
              "      <td>-0.844885</td>\n",
              "      <td>0.097192</td>\n",
              "      <td>-0.470732</td>\n",
              "      <td>-0.634560</td>\n",
              "      <td>0.483235</td>\n",
              "      <td>0.127219</td>\n",
              "      <td>0.719086</td>\n",
              "      <td>0.982007</td>\n",
              "      <td>-1.041549</td>\n",
              "      <td>0</td>\n",
              "    </tr>\n",
              "    <tr>\n",
              "      <th>348</th>\n",
              "      <td>-0.250952</td>\n",
              "      <td>-0.685236</td>\n",
              "      <td>-0.367337</td>\n",
              "      <td>-0.164473</td>\n",
              "      <td>-1.293634</td>\n",
              "      <td>-0.582509</td>\n",
              "      <td>-0.096379</td>\n",
              "      <td>-0.566302</td>\n",
              "      <td>-0.616111</td>\n",
              "      <td>0</td>\n",
              "    </tr>\n",
              "    <tr>\n",
              "      <th>13</th>\n",
              "      <td>-0.844885</td>\n",
              "      <td>2.131507</td>\n",
              "      <td>-0.470732</td>\n",
              "      <td>-0.261752</td>\n",
              "      <td>-0.240205</td>\n",
              "      <td>-0.223115</td>\n",
              "      <td>0.154533</td>\n",
              "      <td>0.893939</td>\n",
              "      <td>2.191785</td>\n",
              "      <td>1</td>\n",
              "    </tr>\n",
              "    <tr>\n",
              "      <th>57</th>\n",
              "      <td>-1.141852</td>\n",
              "      <td>-0.653939</td>\n",
              "      <td>0.976805</td>\n",
              "      <td>1.624735</td>\n",
              "      <td>1.879347</td>\n",
              "      <td>1.480232</td>\n",
              "      <td>2.475471</td>\n",
              "      <td>0.963590</td>\n",
              "      <td>-0.190672</td>\n",
              "      <td>0</td>\n",
              "    </tr>\n",
              "  </tbody>\n",
              "</table>\n",
              "</div>"
            ],
            "text/plain": [
              "     Pregnancies   Glucose  BloodPressure  ...       a1c       Age  Outcome\n",
              "113     0.046014 -1.405071      -0.367337  ...  0.068384 -0.701198        0\n",
              "395    -0.547919  0.191084      -0.574128  ... -0.455060 -0.701198        0\n",
              "453    -0.547919 -0.059293      -3.572597  ... -1.635896  3.297926        0\n",
              "401     0.639947  0.504055      -0.419034  ... -0.561525  1.851434        0\n",
              "245     1.530847  1.975021       0.821712  ...  0.514738  1.340908        1\n",
              "378     0.046014  1.098701       0.304734  ...  0.267622 -0.105584        1\n",
              "605    -0.844885  0.097192      -0.470732  ...  0.982007 -1.041549        0\n",
              "348    -0.250952 -0.685236      -0.367337  ... -0.566302 -0.616111        0\n",
              "13     -0.844885  2.131507      -0.470732  ...  0.893939  2.191785        1\n",
              "57     -1.141852 -0.653939       0.976805  ...  0.963590 -0.190672        0\n",
              "\n",
              "[10 rows x 10 columns]"
            ]
          },
          "metadata": {
            "tags": []
          },
          "execution_count": 31
        }
      ]
    },
    {
      "cell_type": "markdown",
      "metadata": {
        "id": "ZNADd3NuTs9l"
      },
      "source": [
        "#Evaluation of the diabetes model\n"
      ]
    },
    {
      "cell_type": "markdown",
      "metadata": {
        "id": "btwYzNyEUsDp"
      },
      "source": [
        "#Excercise\n",
        "1. create a Train set that include the top 5 features of each test. \n",
        "2. create 2 logistic regression classifiers. One is for each of the tests\n",
        "3. Train the models\n",
        "4. Test the models by predicting on the test sets\n"
      ]
    },
    {
      "cell_type": "code",
      "metadata": {
        "id": "Qun5_6GgVZgK",
        "colab": {
          "base_uri": "https://localhost:8080/",
          "height": 402
        },
        "outputId": "c76b0a4b-0692-45cf-8e60-26011bbf9527"
      },
      "source": [
        "#1 \n",
        "uni_X_train = X_train[univariate.index.to_list()[:6]]\n",
        "imp_X_train = X_train[feat_importances_df.index.to_list()[:6]]\n",
        "\n",
        "\n",
        "uni_X_test = X_test[univariate.index.to_list()[:6]]\n",
        "imp_X_test = X_test[feat_importances_df.index.to_list()[:6]]\n",
        "\n",
        "imp_X_train"
      ],
      "execution_count": null,
      "outputs": [
        {
          "output_type": "execute_result",
          "data": {
            "text/html": [
              "<div>\n",
              "<style scoped>\n",
              "    .dataframe tbody tr th:only-of-type {\n",
              "        vertical-align: middle;\n",
              "    }\n",
              "\n",
              "    .dataframe tbody tr th {\n",
              "        vertical-align: top;\n",
              "    }\n",
              "\n",
              "    .dataframe thead th {\n",
              "        text-align: right;\n",
              "    }\n",
              "</style>\n",
              "<table border=\"1\" class=\"dataframe\">\n",
              "  <thead>\n",
              "    <tr style=\"text-align: right;\">\n",
              "      <th></th>\n",
              "      <th>Glucose</th>\n",
              "      <th>BMI</th>\n",
              "      <th>Age</th>\n",
              "      <th>Pregnancies</th>\n",
              "      <th>SkinThickness</th>\n",
              "      <th>DiabetesPedigreeFunction</th>\n",
              "    </tr>\n",
              "  </thead>\n",
              "  <tbody>\n",
              "    <tr>\n",
              "      <th>113</th>\n",
              "      <td>-1.405071</td>\n",
              "      <td>0.254780</td>\n",
              "      <td>-0.701198</td>\n",
              "      <td>0.046014</td>\n",
              "      <td>-1.288212</td>\n",
              "      <td>-0.244256</td>\n",
              "    </tr>\n",
              "    <tr>\n",
              "      <th>395</th>\n",
              "      <td>0.191084</td>\n",
              "      <td>-0.544811</td>\n",
              "      <td>-0.701198</td>\n",
              "      <td>-0.547919</td>\n",
              "      <td>0.217261</td>\n",
              "      <td>3.407067</td>\n",
              "    </tr>\n",
              "    <tr>\n",
              "      <th>453</th>\n",
              "      <td>-0.059293</td>\n",
              "      <td>-1.572857</td>\n",
              "      <td>3.297926</td>\n",
              "      <td>-0.547919</td>\n",
              "      <td>-1.288212</td>\n",
              "      <td>1.087616</td>\n",
              "    </tr>\n",
              "    <tr>\n",
              "      <th>401</th>\n",
              "      <td>0.504055</td>\n",
              "      <td>-0.989028</td>\n",
              "      <td>1.851434</td>\n",
              "      <td>0.639947</td>\n",
              "      <td>-1.288212</td>\n",
              "      <td>-0.969085</td>\n",
              "    </tr>\n",
              "    <tr>\n",
              "      <th>245</th>\n",
              "      <td>1.975021</td>\n",
              "      <td>-0.252897</td>\n",
              "      <td>1.340908</td>\n",
              "      <td>1.530847</td>\n",
              "      <td>-0.347291</td>\n",
              "      <td>2.238282</td>\n",
              "    </tr>\n",
              "    <tr>\n",
              "      <th>...</th>\n",
              "      <td>...</td>\n",
              "      <td>...</td>\n",
              "      <td>...</td>\n",
              "      <td>...</td>\n",
              "      <td>...</td>\n",
              "      <td>...</td>\n",
              "    </tr>\n",
              "    <tr>\n",
              "      <th>372</th>\n",
              "      <td>-1.154694</td>\n",
              "      <td>0.483235</td>\n",
              "      <td>-1.041549</td>\n",
              "      <td>-1.141852</td>\n",
              "      <td>0.091805</td>\n",
              "      <td>0.220842</td>\n",
              "    </tr>\n",
              "    <tr>\n",
              "      <th>204</th>\n",
              "      <td>-0.560048</td>\n",
              "      <td>0.724382</td>\n",
              "      <td>1.851434</td>\n",
              "      <td>0.639947</td>\n",
              "      <td>0.719086</td>\n",
              "      <td>-0.446604</td>\n",
              "    </tr>\n",
              "    <tr>\n",
              "      <th>53</th>\n",
              "      <td>1.724644</td>\n",
              "      <td>0.216705</td>\n",
              "      <td>2.106697</td>\n",
              "      <td>1.233880</td>\n",
              "      <td>0.844542</td>\n",
              "      <td>-0.014727</td>\n",
              "    </tr>\n",
              "    <tr>\n",
              "      <th>294</th>\n",
              "      <td>1.255187</td>\n",
              "      <td>-1.280942</td>\n",
              "      <td>2.702312</td>\n",
              "      <td>-1.141852</td>\n",
              "      <td>-1.288212</td>\n",
              "      <td>-0.658012</td>\n",
              "    </tr>\n",
              "    <tr>\n",
              "      <th>723</th>\n",
              "      <td>-0.121888</td>\n",
              "      <td>0.902069</td>\n",
              "      <td>0.745293</td>\n",
              "      <td>0.342981</td>\n",
              "      <td>0.593630</td>\n",
              "      <td>-0.667073</td>\n",
              "    </tr>\n",
              "  </tbody>\n",
              "</table>\n",
              "<p>537 rows × 6 columns</p>\n",
              "</div>"
            ],
            "text/plain": [
              "      Glucose       BMI  ...  SkinThickness  DiabetesPedigreeFunction\n",
              "113 -1.405071  0.254780  ...      -1.288212                 -0.244256\n",
              "395  0.191084 -0.544811  ...       0.217261                  3.407067\n",
              "453 -0.059293 -1.572857  ...      -1.288212                  1.087616\n",
              "401  0.504055 -0.989028  ...      -1.288212                 -0.969085\n",
              "245  1.975021 -0.252897  ...      -0.347291                  2.238282\n",
              "..        ...       ...  ...            ...                       ...\n",
              "372 -1.154694  0.483235  ...       0.091805                  0.220842\n",
              "204 -0.560048  0.724382  ...       0.719086                 -0.446604\n",
              "53   1.724644  0.216705  ...       0.844542                 -0.014727\n",
              "294  1.255187 -1.280942  ...      -1.288212                 -0.658012\n",
              "723 -0.121888  0.902069  ...       0.593630                 -0.667073\n",
              "\n",
              "[537 rows x 6 columns]"
            ]
          },
          "metadata": {
            "tags": []
          },
          "execution_count": 32
        }
      ]
    },
    {
      "cell_type": "code",
      "metadata": {
        "id": "0dMDfnPPVoEG",
        "colab": {
          "base_uri": "https://localhost:8080/"
        },
        "outputId": "c17849df-ad68-49f2-9002-71c9fcdab2e7"
      },
      "source": [
        "#2,#3\n",
        "from sklearn.linear_model import LogisticRegression\n",
        "\n",
        "#univariance model\n",
        "\n",
        "uni_logmodel = LogisticRegression()\n",
        "uni_logmodel.fit(uni_X_train, y_train)\n",
        "\n",
        "#top features model\n",
        "\n",
        "imp_logmodel = LogisticRegression()\n",
        "imp_logmodel.fit(imp_X_train, y_train)"
      ],
      "execution_count": null,
      "outputs": [
        {
          "output_type": "execute_result",
          "data": {
            "text/plain": [
              "LogisticRegression(C=1.0, class_weight=None, dual=False, fit_intercept=True,\n",
              "                   intercept_scaling=1, l1_ratio=None, max_iter=100,\n",
              "                   multi_class='auto', n_jobs=None, penalty='l2',\n",
              "                   random_state=None, solver='lbfgs', tol=0.0001, verbose=0,\n",
              "                   warm_start=False)"
            ]
          },
          "metadata": {
            "tags": []
          },
          "execution_count": 33
        }
      ]
    },
    {
      "cell_type": "code",
      "metadata": {
        "id": "i606-IqJWglm",
        "colab": {
          "base_uri": "https://localhost:8080/"
        },
        "outputId": "31aa3aa8-b40d-484a-f6c9-8d7d921293d5"
      },
      "source": [
        "#4\n",
        "uni_probability = uni_logmodel.predict_proba(uni_X_test)\n",
        "uni_prediction = uni_logmodel.predict(uni_X_test)\n",
        "uni_prediction"
      ],
      "execution_count": null,
      "outputs": [
        {
          "output_type": "execute_result",
          "data": {
            "text/plain": [
              "array([0, 1, 0, 0, 0, 0, 0, 0, 1, 0, 1, 0, 0, 0, 0, 0, 1, 1, 0, 0, 1, 1,\n",
              "       0, 1, 0, 0, 0, 1, 0, 0, 0, 0, 1, 0, 1, 1, 0, 0, 0, 0, 0, 0, 1, 0,\n",
              "       0, 0, 0, 0, 0, 0, 1, 1, 1, 0, 0, 0, 0, 0, 0, 0, 1, 0, 0, 0, 0, 0,\n",
              "       0, 0, 0, 0, 1, 0, 0, 0, 0, 1, 0, 0, 0, 0, 0, 1, 1, 0, 0, 1, 0, 0,\n",
              "       0, 0, 0, 1, 0, 0, 0, 1, 0, 0, 0, 1, 1, 1, 0, 1, 0, 0, 1, 1, 1, 1,\n",
              "       0, 0, 0, 0, 0, 0, 0, 1, 0, 0, 0, 1, 1, 0, 0, 0, 0, 0, 0, 0, 0, 0,\n",
              "       0, 0, 0, 0, 0, 0, 0, 0, 0, 0, 0, 0, 0, 0, 1, 1, 0, 0, 1, 0, 0, 1,\n",
              "       0, 1, 1, 0, 0, 1, 1, 1, 0, 1, 1, 1, 0, 0, 0, 1, 0, 0, 0, 0, 0, 0,\n",
              "       0, 0, 0, 0, 0, 0, 1, 1, 0, 0, 0, 0, 0, 0, 0, 0, 1, 0, 0, 0, 0, 0,\n",
              "       0, 0, 0, 0, 0, 0, 1, 0, 0, 0, 0, 0, 0, 1, 0, 1, 1, 0, 0, 1, 0, 0,\n",
              "       0, 0, 0, 1, 0, 0, 1, 0, 1, 0, 0])"
            ]
          },
          "metadata": {
            "tags": []
          },
          "execution_count": 40
        }
      ]
    },
    {
      "cell_type": "code",
      "metadata": {
        "id": "qcxAGZqmVIq3",
        "colab": {
          "base_uri": "https://localhost:8080/",
          "height": 402
        },
        "outputId": "530692e2-05b5-42df-9e2e-edb6d353f73c"
      },
      "source": [
        "y_test_prob_0 =pd.Series(uni_probability[:,0], name='probability_0', index=y_test.index)\n",
        "y_test_prob_1 =pd.Series(uni_probability[:,1], name='probability_1', index=y_test.index)\n",
        "y_test_pred = pd.Series(uni_prediction, name='prediction', index=y_test.index)\n",
        "\n",
        "uni_test_results = pd.DataFrame(data={'probability_0':y_test_prob_0, 'probability_1':y_test_prob_1,'prediction':y_test_pred, 'actual':y_test})\n",
        "uni_test_results"
      ],
      "execution_count": null,
      "outputs": [
        {
          "output_type": "execute_result",
          "data": {
            "text/html": [
              "<div>\n",
              "<style scoped>\n",
              "    .dataframe tbody tr th:only-of-type {\n",
              "        vertical-align: middle;\n",
              "    }\n",
              "\n",
              "    .dataframe tbody tr th {\n",
              "        vertical-align: top;\n",
              "    }\n",
              "\n",
              "    .dataframe thead th {\n",
              "        text-align: right;\n",
              "    }\n",
              "</style>\n",
              "<table border=\"1\" class=\"dataframe\">\n",
              "  <thead>\n",
              "    <tr style=\"text-align: right;\">\n",
              "      <th></th>\n",
              "      <th>probability_0</th>\n",
              "      <th>probability_1</th>\n",
              "      <th>prediction</th>\n",
              "      <th>actual</th>\n",
              "    </tr>\n",
              "  </thead>\n",
              "  <tbody>\n",
              "    <tr>\n",
              "      <th>200</th>\n",
              "      <td>0.888480</td>\n",
              "      <td>0.111520</td>\n",
              "      <td>0</td>\n",
              "      <td>0</td>\n",
              "    </tr>\n",
              "    <tr>\n",
              "      <th>40</th>\n",
              "      <td>0.246510</td>\n",
              "      <td>0.753490</td>\n",
              "      <td>1</td>\n",
              "      <td>0</td>\n",
              "    </tr>\n",
              "    <tr>\n",
              "      <th>630</th>\n",
              "      <td>0.742474</td>\n",
              "      <td>0.257526</td>\n",
              "      <td>0</td>\n",
              "      <td>1</td>\n",
              "    </tr>\n",
              "    <tr>\n",
              "      <th>356</th>\n",
              "      <td>0.713799</td>\n",
              "      <td>0.286201</td>\n",
              "      <td>0</td>\n",
              "      <td>1</td>\n",
              "    </tr>\n",
              "    <tr>\n",
              "      <th>305</th>\n",
              "      <td>0.664116</td>\n",
              "      <td>0.335884</td>\n",
              "      <td>0</td>\n",
              "      <td>0</td>\n",
              "    </tr>\n",
              "    <tr>\n",
              "      <th>...</th>\n",
              "      <td>...</td>\n",
              "      <td>...</td>\n",
              "      <td>...</td>\n",
              "      <td>...</td>\n",
              "    </tr>\n",
              "    <tr>\n",
              "      <th>44</th>\n",
              "      <td>0.372265</td>\n",
              "      <td>0.627735</td>\n",
              "      <td>1</td>\n",
              "      <td>0</td>\n",
              "    </tr>\n",
              "    <tr>\n",
              "      <th>226</th>\n",
              "      <td>0.866254</td>\n",
              "      <td>0.133746</td>\n",
              "      <td>0</td>\n",
              "      <td>0</td>\n",
              "    </tr>\n",
              "    <tr>\n",
              "      <th>220</th>\n",
              "      <td>0.337956</td>\n",
              "      <td>0.662044</td>\n",
              "      <td>1</td>\n",
              "      <td>1</td>\n",
              "    </tr>\n",
              "    <tr>\n",
              "      <th>160</th>\n",
              "      <td>0.613744</td>\n",
              "      <td>0.386256</td>\n",
              "      <td>0</td>\n",
              "      <td>0</td>\n",
              "    </tr>\n",
              "    <tr>\n",
              "      <th>653</th>\n",
              "      <td>0.817270</td>\n",
              "      <td>0.182730</td>\n",
              "      <td>0</td>\n",
              "      <td>0</td>\n",
              "    </tr>\n",
              "  </tbody>\n",
              "</table>\n",
              "<p>231 rows × 4 columns</p>\n",
              "</div>"
            ],
            "text/plain": [
              "     probability_0  probability_1  prediction  actual\n",
              "200       0.888480       0.111520           0       0\n",
              "40        0.246510       0.753490           1       0\n",
              "630       0.742474       0.257526           0       1\n",
              "356       0.713799       0.286201           0       1\n",
              "305       0.664116       0.335884           0       0\n",
              "..             ...            ...         ...     ...\n",
              "44        0.372265       0.627735           1       0\n",
              "226       0.866254       0.133746           0       0\n",
              "220       0.337956       0.662044           1       1\n",
              "160       0.613744       0.386256           0       0\n",
              "653       0.817270       0.182730           0       0\n",
              "\n",
              "[231 rows x 4 columns]"
            ]
          },
          "metadata": {
            "tags": []
          },
          "execution_count": 41
        }
      ]
    },
    {
      "cell_type": "code",
      "metadata": {
        "id": "jGWRpobtVJzY",
        "colab": {
          "base_uri": "https://localhost:8080/",
          "height": 402
        },
        "outputId": "9363eeab-7db8-4cf1-ec0a-e87ce8f4a930"
      },
      "source": [
        "imp_probability = imp_logmodel.predict_proba(imp_X_test)\n",
        "imp_prediction = imp_logmodel.predict(imp_X_test)\n",
        "\n",
        "\n",
        "y_test_prob_0 =pd.Series(imp_probability[:,0], name='probability_0', index=y_test.index)\n",
        "y_test_prob_1 =pd.Series(imp_probability[:,1], name='probability_1', index=y_test.index)\n",
        "y_test_pred = pd.Series(imp_prediction, name='prediction', index=y_test.index)\n",
        "\n",
        "imp_test_results = pd.DataFrame(data={'probability_0':y_test_prob_0, 'probability_1':y_test_prob_1,'prediction':y_test_pred, 'actual':y_test})\n",
        "imp_test_results"
      ],
      "execution_count": null,
      "outputs": [
        {
          "output_type": "execute_result",
          "data": {
            "text/html": [
              "<div>\n",
              "<style scoped>\n",
              "    .dataframe tbody tr th:only-of-type {\n",
              "        vertical-align: middle;\n",
              "    }\n",
              "\n",
              "    .dataframe tbody tr th {\n",
              "        vertical-align: top;\n",
              "    }\n",
              "\n",
              "    .dataframe thead th {\n",
              "        text-align: right;\n",
              "    }\n",
              "</style>\n",
              "<table border=\"1\" class=\"dataframe\">\n",
              "  <thead>\n",
              "    <tr style=\"text-align: right;\">\n",
              "      <th></th>\n",
              "      <th>probability_0</th>\n",
              "      <th>probability_1</th>\n",
              "      <th>prediction</th>\n",
              "      <th>actual</th>\n",
              "    </tr>\n",
              "  </thead>\n",
              "  <tbody>\n",
              "    <tr>\n",
              "      <th>200</th>\n",
              "      <td>0.787101</td>\n",
              "      <td>0.212899</td>\n",
              "      <td>0</td>\n",
              "      <td>0</td>\n",
              "    </tr>\n",
              "    <tr>\n",
              "      <th>40</th>\n",
              "      <td>0.316220</td>\n",
              "      <td>0.683780</td>\n",
              "      <td>1</td>\n",
              "      <td>0</td>\n",
              "    </tr>\n",
              "    <tr>\n",
              "      <th>630</th>\n",
              "      <td>0.659128</td>\n",
              "      <td>0.340872</td>\n",
              "      <td>0</td>\n",
              "      <td>1</td>\n",
              "    </tr>\n",
              "    <tr>\n",
              "      <th>356</th>\n",
              "      <td>0.663113</td>\n",
              "      <td>0.336887</td>\n",
              "      <td>0</td>\n",
              "      <td>1</td>\n",
              "    </tr>\n",
              "    <tr>\n",
              "      <th>305</th>\n",
              "      <td>0.730834</td>\n",
              "      <td>0.269166</td>\n",
              "      <td>0</td>\n",
              "      <td>0</td>\n",
              "    </tr>\n",
              "    <tr>\n",
              "      <th>...</th>\n",
              "      <td>...</td>\n",
              "      <td>...</td>\n",
              "      <td>...</td>\n",
              "      <td>...</td>\n",
              "    </tr>\n",
              "    <tr>\n",
              "      <th>44</th>\n",
              "      <td>0.417948</td>\n",
              "      <td>0.582052</td>\n",
              "      <td>1</td>\n",
              "      <td>0</td>\n",
              "    </tr>\n",
              "    <tr>\n",
              "      <th>226</th>\n",
              "      <td>0.870630</td>\n",
              "      <td>0.129370</td>\n",
              "      <td>0</td>\n",
              "      <td>0</td>\n",
              "    </tr>\n",
              "    <tr>\n",
              "      <th>220</th>\n",
              "      <td>0.223267</td>\n",
              "      <td>0.776733</td>\n",
              "      <td>1</td>\n",
              "      <td>1</td>\n",
              "    </tr>\n",
              "    <tr>\n",
              "      <th>160</th>\n",
              "      <td>0.624728</td>\n",
              "      <td>0.375272</td>\n",
              "      <td>0</td>\n",
              "      <td>0</td>\n",
              "    </tr>\n",
              "    <tr>\n",
              "      <th>653</th>\n",
              "      <td>0.820307</td>\n",
              "      <td>0.179693</td>\n",
              "      <td>0</td>\n",
              "      <td>0</td>\n",
              "    </tr>\n",
              "  </tbody>\n",
              "</table>\n",
              "<p>231 rows × 4 columns</p>\n",
              "</div>"
            ],
            "text/plain": [
              "     probability_0  probability_1  prediction  actual\n",
              "200       0.787101       0.212899           0       0\n",
              "40        0.316220       0.683780           1       0\n",
              "630       0.659128       0.340872           0       1\n",
              "356       0.663113       0.336887           0       1\n",
              "305       0.730834       0.269166           0       0\n",
              "..             ...            ...         ...     ...\n",
              "44        0.417948       0.582052           1       0\n",
              "226       0.870630       0.129370           0       0\n",
              "220       0.223267       0.776733           1       1\n",
              "160       0.624728       0.375272           0       0\n",
              "653       0.820307       0.179693           0       0\n",
              "\n",
              "[231 rows x 4 columns]"
            ]
          },
          "metadata": {
            "tags": []
          },
          "execution_count": 42
        }
      ]
    },
    {
      "cell_type": "code",
      "metadata": {
        "id": "kgOSxLatUgFT",
        "colab": {
          "base_uri": "https://localhost:8080/"
        },
        "outputId": "11a2f0e5-e539-45f6-882d-0ba2d223f443"
      },
      "source": [
        "uni_correct_rows = uni_test_results.loc[uni_test_results.actual==uni_test_results.prediction].any(axis=1).count()\n",
        "accuracy = round(uni_correct_rows/len(uni_test_results),3)\n",
        "accuracy"
      ],
      "execution_count": null,
      "outputs": [
        {
          "output_type": "execute_result",
          "data": {
            "text/plain": [
              "0.797"
            ]
          },
          "metadata": {
            "tags": []
          },
          "execution_count": 43
        }
      ]
    },
    {
      "cell_type": "code",
      "metadata": {
        "id": "A3Ibb7NpUvO0",
        "colab": {
          "base_uri": "https://localhost:8080/"
        },
        "outputId": "b286e9b5-40a1-4f32-87a1-1445e7030285"
      },
      "source": [
        "imp_correct_rows =  imp_test_results.loc[imp_test_results.prediction==imp_test_results.actual].any(axis=1).count()\n",
        "imp_accuracy = round(imp_correct_rows/len(imp_test_results),3)\n",
        "imp_accuracy"
      ],
      "execution_count": null,
      "outputs": [
        {
          "output_type": "execute_result",
          "data": {
            "text/plain": [
              "0.784"
            ]
          },
          "metadata": {
            "tags": []
          },
          "execution_count": 44
        }
      ]
    },
    {
      "cell_type": "markdown",
      "metadata": {
        "id": "ijhQKmJ1Rtbj"
      },
      "source": [
        "#Evaluation of a classification model \n",
        "We all have created classification models. A lot of time we try to increase evaluate our models on accuracy. But do we really want accuracy as a metric of our model performance?\n",
        "\n",
        "What if we are predicting the number of asteroids that will hit the earth.\n",
        "\n",
        "Just say zero all the time. And you will be 99% accurate. My model can be reasonably accurate, but not at all valuable. What should we do in such cases?\n",
        "\n",
        "The following cells are 3 out of many various evaluation metrics and how and when to use them."
      ]
    },
    {
      "cell_type": "markdown",
      "metadata": {
        "id": "Mjenfir-WkYc"
      },
      "source": [
        "##The Confusion Matrix"
      ]
    },
    {
      "cell_type": "markdown",
      "metadata": {
        "id": "TgN2pydzWdU-"
      },
      "source": [
        "![image.png](data:image/png;base64,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)"
      ]
    },
    {
      "cell_type": "markdown",
      "metadata": {
        "id": "_G0aLOUxWAE_"
      },
      "source": [
        "## 1. Accuracy, Precision, and Recall \n",
        "\n",
        "\n"
      ]
    },
    {
      "cell_type": "markdown",
      "metadata": {
        "id": "OL0Qa6IeW127"
      },
      "source": [
        "###A. Accuracy\n",
        "\n",
        "Accuracy is pretty easy to understand. And easily suited for binary as well as a multiclass classification problem.\n",
        "\n",
        "**Accuracy = (TP+TN)/(TP+FP+FN+TN)**\n",
        "\n",
        "Accuracy is the proportion of true results among the total number of cases examined.\n",
        "\n",
        "**When to use?**\n",
        "\n",
        "Accuracy is a valid choice of evaluation for classification problems which are well balanced and not skewed or No class imbalance.\n",
        "\n",
        "**Caveats**\n",
        "\n",
        "Let us say that our target class is very sparse. Do we want accuracy as a metric of our model performance? What if we are predicting if an asteroid will hit the earth? Just say No all the time. And you will be 99% accurate. My model can be reasonably accurate, but not at all valuable.\n"
      ]
    },
    {
      "cell_type": "markdown",
      "metadata": {
        "id": "GcVKd-olXG_t"
      },
      "source": [
        "###B. Precision\n",
        "Let’s start with precision, which answers the following question:\n",
        "\n",
        "what proportion of predicted Positives is truly Positive?\n",
        "\n",
        "**Precision = (TP)/(TP+FP)**\n",
        "\n",
        "In the asteroid prediction problem, we never predicted a true positive.\n",
        "And thus precision=0\n",
        "\n",
        "**When to use?**\n",
        "\n",
        "Precision is a valid choice of evaluation metric when we want to be very sure of our prediction. \n",
        "\n",
        "For example: If we are building a system to predict if we should decrease the credit limit on a particular account, we want to be very sure about our prediction or it may result in customer dissatisfaction.\n",
        "\n",
        "**Caveats**\n",
        "\n",
        "\n",
        "Being very precise means our model will leave a lot of credit defaulters untouched and hence lose money.\n",
        "\n"
      ]
    },
    {
      "cell_type": "markdown",
      "metadata": {
        "id": "Fb8-2w8VWLMe"
      },
      "source": [
        "###C. Recall\n",
        "Another very useful measure is recall, which answers a different question: what proportion of actual Positives is correctly classified?\n",
        "\n",
        "**Recall = (TP)/(TP+FN)**\n",
        "\n",
        "In the asteroid prediction problem, we never predicted a true positive.\n",
        "And thus recall is also equal to 0.\n",
        "\n",
        "When to use?\n",
        "\n",
        "Recall is a valid choice of evaluation metric when we want to capture as many positives as possible.\n",
        "\n",
        "For example: If we are building a system to predict if a person has cancer or not, we want to capture the disease even if we are not very sure.\n",
        "\n",
        "Caveats\n",
        "\n",
        "Recall is 1 if we predict 1 for all examples. And thus comes the idea of utilizing tradeoff of precision vs. recall — F1 Score."
      ]
    },
    {
      "cell_type": "markdown",
      "metadata": {
        "id": "1ICo6vAcWB3u"
      },
      "source": [
        "## 2. F1 Score\n",
        "The F1 score is a number between 0 and 1 and is the harmonic mean of precision and recall.\n",
        "\n",
        "![image.png](data:image/png;base64,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)\n",
        "\n",
        "Let us start with a binary prediction problem.\n",
        "\n",
        "We are predicting if an asteroid will hit the earth or not.\n",
        "\n",
        "\n",
        "So if we say “No” for the whole training set. Our precision here is 0.\n",
        " \n",
        "What is the recall of our positive class? It is zero. What is the accuracy? It is more than 99%.\n",
        "\n",
        "And hence the F1 score is also 0. \n",
        "And thus we get to know that the classifier that has an accuracy of 99% is basically worthless for our case.\n",
        "\n",
        "And hence it solves our problem.\n",
        "\n",
        "**When to use?**\n",
        "\n",
        "We want to have a model with both good precision and recall.\n",
        "\n",
        "\n",
        "![image.png](data:image/png;base64,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)\n",
        "\n",
        "Simply stated the F1 score sort of maintains a balance between the precision and recall for your classifier. If your precision is low, the F1 is low and if the recall is low again your F1 score is low."
      ]
    },
    {
      "cell_type": "markdown",
      "metadata": {
        "id": "SPAzo3zn6JO6"
      },
      "source": [
        "**Caveats**\n",
        "\n",
        "\n",
        "The main problem with the F1 score is that it gives equal weight to precision and recall. We might sometimes need to include domain knowledge in our evaluation where we want to have more recall or more precision."
      ]
    },
    {
      "cell_type": "markdown",
      "metadata": {
        "id": "ZUQXNr5f6Qeo"
      },
      "source": [
        ""
      ]
    },
    {
      "cell_type": "markdown",
      "metadata": {
        "id": "GrlCFF5D3fp-"
      },
      "source": [
        "##3. AUC\n",
        "AUC is the area under the ROC curve.\n",
        "\n",
        "AUC ROC indicates how well the probabilities from the positive classes are separated from the negative classes\n",
        "What is the ROC curve?\n"
      ]
    },
    {
      "cell_type": "markdown",
      "metadata": {
        "id": "nxeK1QNj6l0y"
      },
      "source": [
        "![image.png](data:image/png;base64,iVBORw0KGgoAAAANSUhEUgAAArwAAAD+CAYAAADYtdYNAAAgAElEQVR4AeydB5gUxdaGzTnn7L2m62+6ZsEIiphzAsxeUSRIEkEEERFFUMGAioiCSo4iOeecc84554znf94azmxP78zuzDK7O+HU88zOTHdVddVXPdtvnz516hCxZAqYAqaAKWAKmAKmgClgCqSwAoekcN+sa6aAKWAKmAKmgClgCpgCpoAY8NpJYAqYAqaAKWAKmAKmgCmQ0goY8Kb08FrnTAFTwBQwBUwBU8AUMAUMeO0cMAVMAVPAFDAFTAFTwBRIaQUMeFN6eK1zpoApYAqYAqaAKWAKmAIGvHYOmAKmgClgCpgCpoApYAqktAIGvCk9vNY5U8AUMAVMAVPAFDAFTAEDXjsHTAFTwBQwBUwBU8AUMAVSWgED3pQeXuucKWAKmAKmgClgCpgCpoABr50DpoApYAqYAqaAKWAKmAIprYABb0oPr3XOFDAFTAFTwBQwBUwBU8CA184BU8AUMAVMAVPAFDAFTIGUVsCAN6WH1zpnCpgCpoApYAqYAqaAKWDAa+eAKWAKmAKmgClgCpgCpkBKK2DAm9LDa50zBUwBU8AUMAVMAVPAFDDgtXPAFDAFTAFTwBQwBUwBUyClFTDgTenhtc6ZAqaAKWAKmAKmgClgChjw2jlgCpgCpoApYAqYAqaAKZDSChjwpvTwWudMAVPAFDAFTAFTwBQwBQx47RwwBUwBU8AUMAVMAVPAFEhpBQx4U3p4rXOmgClgCpgCpoApYAqYAga8dg6YAqaAKWAKmAKmgClgCqS0Aga8KT281jlTwBQwBUwBU8AUMAVMAQNeOwdMAVPAFDAFTAFTwBQwBVJaAQPelB5e65wpYAqYAqaAKWAKmAKmgAGvnQOmgCmQpQIVK1aUIkWKSNGiRe1lGtg5YOeAnQN2DsT9HChYsKCMHj06y2vRwe404D1YBa28KZDiCvzf//2fDB06VObOnWsv08DOATsH7BywcyCu58CKFSvkqaeekg4dOuTq1dSAN1fltcpNgeRXAOBdtmxZ8nfEemAKmAKmgCmQkAr873//M+BNyJGxRpkCaaSAAW8aDbZ11RQwBUyBfFDAgDcfRLdDmgKmQKgCBryhetg3U8AUMAVMgfgqYMAbXz2tNlPAFMiBAga8ORDNipgCpoApYApErYABb9RSWUZTwBTILQUMeHNLWavXFMhdBdauXSsdO3aUYcOG5e6BrHZT4CAVMOA9SAGtuClgChy8Aga8B6+h1ZC/CmzcuFE++eQT6dKlS/42JA+Ovm/fPpk9e7bUrVtXChUqJGeffbY0a9YsD45shzAFcq6AAW/OtbOSpoApECcFDHjjJKRVk28KzJgxQ4466ih56623ZMeOHfnWjrw48KBBg+Tqq692/T3kkEOE19ixY/Pi0HYMUyDHChjw5lg6K2gKmALxUsCAN15KWj35ocDu3bvl448/duD33//+V4Df3ExffvmlfP7557l5iCzr3r9/v9vfokULOeGEE1y/J02alGUZ22kK5LcCBrz5PQJ2fFPAFBADXjsJklmBDRs2yOWXX+7AD2vnN998Izz2z400depUOf744+Xnn3/OjepjqvOvv/6Sk046yYA3JtUsc34pYMCbX8rbcU0BUyCogAFvUAr7kIQKtG7dWg477DC59957HfzxzmSueKadO3c6y/H111/vjvH777/Hs/oc1WXAmyPZrFA+KWDAm0/C22FNAVMgQwED3gwt7FNyKbB9+3YBQh999FEZN26cnHfeeQ5IBwwYIP/8809UnSEfgDxq1Chp06aN/PHHH9K2bVsZPHiwW4Fw7969gvvAKaec4urGiowLRatWrdz2Hj16uEgJlOPVsmVLUReDXbt2Sa9evQRA1v2dO3cWtvvT+vXrXblu3bq5eqln4MCBggU7XDLgDaeKbUtUBQx4E3VkrF2mQBopYMCbRoOdYl0F+gDQnj17OsB9/fXX3fdnn31W9uzZk21vyUPZ9957T+rXry8fffSRlC5dWm644QY555xz5MUXX5TRo0dLu3btpGLFinLccce5+t9880358MMPpWrVqvLDDz9IzZo15b777gsCMd9JAHmTJk2kVKlScswxx7j9p556qqxcuTKkbRMnTnTHKl68uIPpKlWqyI033igXXHCB0Cfq8ScDXr8i9j2RFTDgTeTRsbaZAmmigAFvmgx0Cnbz5ptvlv/85z/BnmEVxRJ76KGHOotvcEeYD0z+wqJ70003yS+//CKbN28O5po2bZpcdNFFcu655zrgZceqVavkjDPOcNBKWDB/2rJlixx55JFy9NFHOwutf/8DDzzgyuJv7E9MhKPs8OHDRSelTZ48WS6++GJXBrj1JwNevyL2PZEVMOBN5NGxtpkCaaKAAW+aDHSKdXPEiBEObLGwagI677jjDgeJ5cqV081h3+fOnesAtlixYmH3A6HAqboULFy4UE4//XRXNzCqyes6AbRiycUlQpPur1Gjhit75ZVXul26nS/PP/+8NG7cWIsE32+77TZXBuuzPxnw+hWx74msgAFvIo+Otc0USBMFDHjTZKBTrJtPPfWUi1Kwbdu2kJ7Vrl3bWVlxdVixYkXIPu+XkiVLOjhl0hvJC6B8xkcXtwJNWH1PO+20TMCr+3lX4MVy7E9Ej6BNCrze/bhWaGQJjq1tKVCggAGvVyj7nLQKGPAm7dBZw02B1FHAgDd1xjJdejJnzhw58cQTpXz58q7LCoh8AUx18lr16tXDSoIlGPjEZYG6skpad6dOnYJxb70WXm/ZrID322+/jQi8WgfHIq4wsYTLlCkTPJ5ZeFUhe09WBQx4k3XkrN2mQAopYMCbQoOZJl1hkhnASgQEJnxNmDAh+Fq0aJHceeedbj/+vOvWrcukypgxY9x+wHjp0qWZ9ofbQHQFIJvj5gbwEqWBdjEhDv/hDz74QC677DJ3PAPecCNi25JJAQPeZBota6spkKIKGPCm6MCmaLfwpb300kuFVdUefPBBKVq0aKbX448/7mLzEp83nJV3/PjxDiSx8OLLG03KTeCdMmWKvPHGG87iXLZsWQHaSeqPbMAbzQhZnkRWwIA3kUfH2mYKpIkCBrxpMtAp0s169eo5X9mhQ4dm2aNbbrnFQS1wvHHjxpC8CrxYgMNFQAjJfODLwQIvvsXhfHiXL18utJXIEu3btw85tPnwhshhX5JYAQPeJB48a7opkCoKGPCmykimfj+WLVvm3BXuueeekDBi3p6rzy0LPQCYRE0Akr1p9erVbh8WYCavRZMOFnhZHCMc8NatW9dtxw1Dk/bBgFcVsfdkV8CAN9lH0NpvCqSAAga8KTCIadKFZs2aOThs3rx5MF5tpK6zQtqZZ57p8hcsWNCtmubNqwtFnH/++cJqaf60detWadSokQwbNszt8gJvnz59/Nndd+L0AtHvvPNOyP7FixfLySef7NpCbN01a9YE9xM+Devudddd57Yp7BIO7ZprrnFlzKUhKJd9SFIFDHiTdOCs2aZAKilgwJtKo5m6fWHhBxZvYKGJcAs/eHuu0PjFF184YMR1QUOF6T78ZgFNrK4XXnihANFESGABCkKVXXLJJfLqq6+Khj2bOnWqsEoa+R9++GG3PDCg3KBBA7coBccvUaKE249vMBPqdu7cKf379xeAm/ooywsoLly4sGBprlWrlhxxxBFy+OGHu1XbqIcoDY899liwfRyP0GUsaTxr1izXVW8c3uzcO7za2GdTID8UMODND9XtmKaAKRCigAFviBz2JcEUwFLLIhMsEKFwymIT8+bNC8ar9TcZOOzbt6+b1KaQSeQDXBtmzpzprMOAb5cuXeTYY48NgqXmJbzYzz//HFIt8Pqvf/0rJO+1114rkyZNCuYjWoRCtNbFO0D6xBNPyFFHHSVXX321NGzYUPDdJWH9PeussxwEe8uwUAVLFNM+trOCGxZu4vVibQaiAWf23Xrrrc4XWeE82CD7YAokiAIGvAkyENYMUyCdFTDgTefRT/y+jx492gEhll0e+wOMwCs+sbpYg78XVatWdRZVFnmgjJbDnQAr8Y4dO4JFiNuLCwLQyDEqVKjgYJoMag3Wd2L2Ynm94YYbHDwrYLJf87A88COPPOLqIloEE+RIL730knTs2DF4XG/9WHSLFy/uXBiefPJJ6devn8uHW8WLL77o2q8T2gYOHOiWQ6atADd94zeMvy83BpZMgURUwIA3EUfF2mQKpJkCBrxpNuBJ1F2FyFiavH///qiyZ1e3f7//ux7Eu937Wffz7t/u/e797C0T7nM0fYulvnDHsG2mQG4oYMCbG6panaaAKRCTAga8McllmU0BU8AUMAViVMCAN0bBLLspYArEXwED3vhrajWaAqaAKWAKZChgwJuhhX0yBUyBfFLAgDefhLfDmgKmgCmQJgoY8KbJQFs3TYFEVsCAN5FHx9pmCpgCpkDyK2DAm/xjaD0wBZJegauuusrFNd2yZYvYyzSwc8DOATsH7ByI5znARMqXX345U5SSeF88D4l3hVafKWAKpJYCxPMkDuh5551nL9PAzoEozgF+L8S/JTya/W7s/4adA1mfAxdccIH7vXTr1i1XL54GvLkqr1VuCiS/AsTz3L59e/J3xHpgCuSRArt27XKxb/PocHYYUyDpFShTpoxoLOnc6owBb24pa/WaAimigPnwpshAWjfyTIEVK1bIFVdckWfHswOZAsmugPnwJvsIWvtNgRRQwIA3BQbRupCnChjw5qncdrAUUMCANwUG0bpgCiS7Aga8yT6C1v68VsCAN68Vt+MluwIGvMk+gtZ+UyAFFDDgTYFBtC7kqQIGvHkqtx0sBRQw4E2BQbQumALJrkA6Ae+ePXtk27ZtUb2YyLd7927Zv3+/EFYnr9OcOXPk2GOPlWuuuUY2bNgQ8+Gff/55OfLII+Wvv/6KuawVyFqBVARezvMdO3bI1q1bQ34fO3fuzFIMflP+Mvob4ze0b9++LMsn+k768M4777goA927d0/05iZs+wx4E3ZorGGmQPookE7A26JFCzn55JPlqKOOchcwQkvxOvHEE+Wcc86Rc889170DmieddJIAjQAjMSnzGnp///13Oeyww1x7cxLOh7L0rUSJEulzMudRT1MReKdPny533nmnu8k64ogjgr+Pe++9VzZv3hxR2T/++EMOP/xwOfroo4NlOO/4fvvtt8u0adMilk2GHatXr5Zrr73W9e2DDz6Q7G4AkqFP+dFGA978UN2OaQqYAiEKpAvwKrCuX79e+vTpI8WLF3cXMUB3/PjxIZpwkS5fvryzkHLx/vzzz52lNyRTLn/Bqvvqq69KtWrVZO/evZmOtm7dOhk0aFCm7brh559/lpdeeklmzJihm+w9TgqkGvDqbwNr7cyZMwVL5q233up+H4ceeqhUqlTJPe0IJx+WYaBw6NChwiI2/F4qVKggkyZNcpZfymj94conwjasuKNHj3aWbX97eMrz559/uhtH/S0len/8fUiE7wa8iTAK1gZTIM0VSBfgZZi9F6revXu7izOLB8yePdudBd79fH7jjTdcnhNOOEGWLVuWZ2eKtx16UO82PteoUUPuuOMO3R3y7s3LDv/3kMz2JWYFUg14w50jX375pTv3AVieivzyyy8CEHuT/7x6++23XZlZs2YFs/nzBHckyAeAnac4BQoUkKVLl4a0Klzbw20LKWRfwipgwBtWFttoCpgCealAOgEvuuoFCysvF3OAF6uWN2keLDunnHKKyzdkyBBvlnz93LZtWwHCcbmwlPcKpCLw+lWsW7euYN1lJUZ+J+eff757MgIgRkpVq1Z1eSdOnBgpS8JtB85ZfOfGG28UnppYyh0FDHhzR1er1RQwBWJQIN2AV6XxWnj9wKt5Bg8e7ICYC/7AgQN1c769r127VqpXr+78jGlTrVq18q0t6XzgdAFe/Ng7dOggV199tQPZ//73v7Jw4cLgTaP/HGjatGnSAC++uNzQcsPLb6lIkSL+7tj3OCpgwBtHMa0qU8AUyJkCBryZLbyqZKtWreTUU091F0TvY1rdv2DBAuevCAgcf/zxzhpcuHBhwQLL8rP+hHVs2LBhzh/wjDPOkOOOO06uu+46qVmzpsydO9efXUaMGCHPPvtscF+VKlVcW7hA82LyHZZeojE89dRTAohpWrVqlav366+/dpsaNWokZ555pstPGdrLJD0mx2n617/+FdxPnfhiehOwQxvIx6Skf//731KxYkXZtGmTN1vKf04n4F2+fLl07do1+Dt49NFHIwLvb7/95s7LrCy8uA+VK1dOLrjgAncOYV1lMli43wu+67hSAKOcr5y33heTSy+++GLhRpCEvy2/mQ8//ND9rpiMym+sVKlSmZ7i6FMS/S0x8Y66qZPfBee6Jiy/uDe1bt3abcLH398e6vnmm2+Cbh8ff/yxm8xHndSNP773d8JEwIYNG8oNN9zgdOC3+cILL6Ssz70Br55N9m4KmAL5poABb2Tg1XBEDz/8cEh4MkIt/fTTT3LMMce4CT0aNmzcuHHByT6vvfZaSDgx3CQ6d+7sLsC1a9d2483MeHwHAVesTaQ1a9ZIy5Yt3XYuovhPAtbeBGiyj4lp/tS/f3956623XJ3Mtv/ss89cFiJNeC/yTNabP3++26cuHBs3bpRLL73UXYB5pO2FkC5durjIFcAEYafw5+Q4tIO6CGmVLimdgHfx4sVuWJm4CQwy3tzkhEvZAS/nNRBKXcAp58wzzzzj6uSc9ibg8PHHH3f7evbs6XbxJOaxxx5z23Cx8D6Z4TepFmbgilBpnNfqZnHhhRfKkiVLXD16vvPl008/dfU9+eST3sO7z9ycArpAK/2mfk39+vUTbnTZDry3b98+OLGV+vl96P8P2sNvi8Q+bm75vwvIK6wDvxo9huOmWjLgTbURtf6YAkmoQLoDLxerCRMmuJHjYoRVSeGQiyqWFyw63oskj3nxb2zQoEGmEWdy2z333OMuhFhDdaIPkARM3n///UKkCE0ALiChF3XKnH322cGLLBZmvVBrGSysXGh/+OEH3eTegV1CKJ133nluP/XWr18/JM9XX33l9mHF8k/SISOhqW655ZaQMsAux3v33XdDtgMtd999t9unluSQDCn6JR2Bl/O4WLFizlrphz8d5qyAlxs6ynHD5E1AL/+D2Kc3cMDr+++/77bxlIWkvz9gkd8s+Zs1axaM88u5iIsPkEx5b+KmkZtToNKfsMRSFyDtTVOnTnW/Q/0t6fHIo20hagPbTz/9dPGHDuT/CBP/sGB7b1j5zO8bWNZ69P3NN9909fl/f952JetnA95kHTlrtymQQgqkO/AyKQ2Xgr///ttZYLmI8igfVwMunv7Hs8AO8UUvueQSYXEIkl6w9B1LLhdZLobqqoBLBN9vuukmmTx5ckg5Hun6obZOnTouP64P/sRjXOryAq8em7xABPvpG1Zdb8JyxuNYAAD49SYAmHLEVtUEwLP4BdvVSsU+DZX24osvun1FixbVIin/no7Ay6DyJIO4vJwLWGr5zXhTJODlSQI3j9yAAaaa9GaQm0DqfPrpp90u3B7UeuqP48s5iHsA+QFKrYOnERxfraPe3wM3oLgV+G/+OBgATl1e4PWWxTXotNNOc9ZX/yIuhDPD5Yjy7733XvA3Qb1YmLl5xELsTWrRVvcIPRZPTdhGXdyMrly50lss6T8b8Cb9EFoHTIHkVyDdgRcL6ieffOL8CMuUKeOsmIDggAEDQi5gemFiOxclFnRQVwb/WQAk4qpAPrUqAbTAK9sA6VGjRmWyROkxqE/hAWsQSffh+6dWJy/wahs0H8fheEzO06T79FHrgw8+GHwMSx4s1tStEME2rG6ACnXx+BcQ50VYtNKlSzsfRGCCkFTpktIRePXcWbRokbtp4/wCYvGZ1aTnrP8mEbcafMIBuXr16rnzh3OJCZici8TvZX/lypVdVWPHjnXnG+e+122BndzMESOb4/NUwXuuaju0rfw+icaCRRh3gXBPZLBaU5cXeLUe3nkCc/nll7ubx759+3p3ud8OT3sof9ttt4VYcrH+Yvnl/4UmrLvkpa88LcFtiN8S7/x+8MNnP6BMbONUSga8qTSa1hdTIEkVSHfgxVqqvqzhhlAvnuzjUSmTaLgo4b+KhSdSUl9DfYSLBYpJLboi1ZVXXumsS5EubHocBV49DsDBNtoQDng1H/uB1F69eumm4DuPa9lP39UiRt+uuOIKdwEmo/Zb4QI/ZtqEBVxfAA7W4Hbt2mWpYfDAKfIhHYHXe05wzpx11lnuHMKlRZ9iRAJetWryTh49f3799Vf3HXcHwFH9hVm0Qt12iJTiTTyheP31192xsYiGC5MG6DZv3lw4ZwEtnrbwuwsHvMAlv4VIwIuFF1ck6gCeNenvg98jIc2oA9cf3Q7Mc9PrTTxtwa+epyv8ZlQH3tGFlSDJw1wAfYLiLZ/Mnw14k3n0rO2mQIookO7AGy4Ob6Sh5SIEZHJxw9+Ox5D+pBc8fdTpneBDKKSOHTsGlyrF6oT+fssRdUYCXqCASWK0IafAy2Pl++67z9WBOweJOMOEofL79ao1GN/i7JL2Pbt8yb4/XYFXx41xxuecc5AXj+2xvAKZfPdbePXmD2tmNInH+VqGJwneyZPANRZh/Fz9N6q0AQjG2oqbBDdjjBWrxgGa4YBX/e1jBV7tB78lXJLoN1Za/Z/Ak5ImTZq4bPq7ICIK7cAdJJqk5aLJm+h5DHgTfYSsfaZAGihgwBs5SoN/+KMBXi2jwMsFm6QXL96ZFMfFX2dlYy3r0aOHFnXvuQW8HB+rmD6Kxa0BUHjuuefCLmSB2wIXc3x0w1nTQhqdJl/SGXj1PMaV4Pvvv3fnBufHjz/+GIySEAl4eWQfbeImkMgK1I2vLombMeAamPTGxaZNgCeuSeTnnMUVQc9XViTMLeClXUwW5akLvvEcFx9+rLhen3fyKfASKg3LcTolA950Gm3rqymQoAoY8MYGvIQj46JaqFAh4XFmpES8UvLx2JbExRdLlQID27ioH3bYYS4f+b0pt4BXjwG0YSnmwoxljkl4xFv1J/ya6QcT4FLtMau/r9F+T2fg9WqE64BOWuQ81slkfuDV8GL48EaT9DeCtRY3G3xeiYoCUOLnq369mo86hw8f7s7Thx56yE0YY5vuz23gJU7vI4884o6PawKuG/gGe9vAZ1w31KUBSE6nZMCbTqNtfTUFElQBA97ogZchJMICAMjFe/To0WFHlWD9PFYlH3BEYrY5s73VZUAvxljGyHf99dcHY3KSPxrgxSc4UqLOSD68lMGqy8xy8tEugJcJcdourZfHshqHFAAJl3iMS5/TJaUT8HoXYPCOr54nRFTAZYDzSF9+4GVSFjdW7PdHdtA6iWqgvxX8yXGxwc/dH2VE8+vx9XulSpVc/UC3PxEZBWjOyqXBf8OpdUTy4dX92g6N56sxstU3XvPxDqgD7dwcMOk1XMJSjQ68p1Iy4E2l0bS+mAJJqkC6Ai8hhrgAx+LDyxBjzdGZ3R999FGIf6GeAvgOApvVqlULWkU1LJnGFdW8PJqlHf7A9wq8xAH2JgLVA9uU4aLJBRdQZVY4rhKa2E8EClwXIiUszERYIC++vOEussQM1li7WIRpr1qqOR7HRQdWs0qXlA7Ai+85NzpjxozJdliZrKWxcTmX/MALNGpoO4Bw5MiRLroC5y6T0KZMmeJ+KxrnmbjYRDigLuLx4iLA79X7ApyJdKI+s7gOkf+uu+4KPnnBpUB9jQFezlOeUhBOUP2C1fqMTzDjCmwTJYLfFIm2X3bZZW7SWyRYJx8TQbFG0wb+p/qTgnHx4sVdHrQlAgqgT6IfRHHgCdJLL70UvDH215Os3w14k3XkrN2mQAopkG7Ay4QYQinpKmFceBo3buwuuv5YuJGGmQs2F3Amn2ChVcsUF0l8cbEocWEDjjVhCeNiiCsEF3gSF2SsrECAhi/igkx9OhMdixCPSQFdLsYkYgRTF76AlOcxLz7BXJy1Dezn8enLL7/slknVCzzl9eKLFvjwkjecRUrzde/ePXgxx1cRCMFqh68kMMyqctFq5zqQ5H9SFXjxy+UcAiSBN3zMiTaA6w4TLv1Jzw+28xviXOVc8gKv5mnTpk3QJ5foINSLVZTfIZESmPClEUv4rfA74fylvkgvbsCw2nKMTp06uXyALTePX3zxhfsN4eKgsYP53TD58rvvvguCJrF5qZ+2A5rc+PHbY3IoLhvAvMbUZgInbdPfoV8PjUahk0m17958nDv4w3NM/n/Qf8K2cYNBWwFwf2QKb/lk/WzAm6wjZ+02BVJIgXQCXiyaLOd59dVXO1jUCynWWCC1cOHCIZNh/MPsvYAROgjgYxEKZoQDuIAfPq/E8fXCLvUwmYULIisvFSxY0E0Q4yLPBY92aSKMGBDKhdvbPvKpzzDwgAsE+7GsAQ64FGAt45GuWoDZTwxdgvgPGjRIDxHyzkQfwjcpbITs9MAxbcSiTCQH6sUyTKQHJuJoLFSvPv56Uul7qgIvLjLAIa4EavnH3QWXBc4T/yQsxtQ75kAs54YXeL15sJDyG1AwJlQYkEeILq1H3/kdEOeXsHgsSawv3GpY4pffKsfCtxf/eCylwKxamrkx4/eFCxIWW34TuBIAXoyfpnnz5rn/CdRFX/n9Yq0l8TvE1Yd9vLjBZCVDbgi8SdtMP3giw289XNJ8wHTZsmXd0yWtm3qJUez9HWr+cHUl2zYD3mQbMWuvKZCCCqQT8HIx4REtF8Dx48e7CzMXZz6zjX2RLlY69N6LEBdZwiRRDn9e4oey6IRO7iKv5ueiDASTn+Nx0eTCiuXWm2gj+3msqy/gGh9gjfuLhYnHn+ynPgVOXBJoA/m1LO9YpP0Aru1iO37FkaxWmo82kpd2UCdtxxqYjilVgZcwX5zH3vOHc5FtWDbDubww/nqO4BeO9dT7NMG7n8/8vjh3qJdzyf97oyBpSX4AACAASURBVC5+izfffLODU/95q+fb0KFDg7F6NRoDbgG4DtF+3BbU3YHfI9uBXy+0a7sZT85pfGz1N8ZxVAv+R+j/CX63WH7DJfqPiw9J6/bn0+3870BTdOCJDzez3v8b/nLJ/t2AN9lH0NpvCqSAAukCvHqhiWbIssub3X6O4c3j/Rzp+OSJNl+4OnJS1l/G/12PE2l7tPs1X6q8pyLwZjfGOnaR8un2SNCm+7Ue/7vu5+aLiCBYW72rBGp+zQcgYonG3UCBV/Nk904dWk+kvLHuzy5/pOP4t8erHn+9+f3dgDe/R8CObwqYAm6CBVZJS6aAKRCdAqkIvNH1PPdz4WLAY37cKLDKRkr4lQPGVatWzRZeI9Vh2/NOAQPevNPajmQKmAIRFEgXC2+E7ttmUyBmBQx4Y5Ys6gL4ouuCE0w8wy/dazXGTQFXCCa14Tcfyc0i6gNaxjxRwIA3T2S2g5gCpkBWChjwZqWO7TMFMitgwJtZk3ht4ZE+EUuYaMkEtJIlS0qLFi2kW7du0q9fP/n222/dxDciG6jfeaq6AcRL00Sox4A3EUbB2mAKpLkCBrxpfgJY92NWwIA3ZsmiKuAFVyIZEM+aBSU0mkmtWrVcXGnvRE9vmagOYpnyRYGUAV7uvAg1whKD9jIN7BxInnOAeJOEmWKNexu35Bk3G6v8Haunn37axVB944037HeTS9d9wusBSYTjA3h5Ye1Fc2JL228gf38DsejPWBIzOdzS5fGk70PiWVmkuljhhBVSCAVC+Bt7RacBehGLjx8woUlMt+h0M53ip9P06dNdaB/+EZmu8dPVtExtLTHy4GfK78fGOrXH2sb34MeXUInEW2ZxkNxMeQa833//fW72I2XrbtiwodSuXTtl+2cdS3wFcGlgooglU8AUiE4B4g+zEpklU8AUiE6BlHFpwMJLsGlLsSvw9ddfG/DGLpuViKMC5sMbRzGtqrRQwHx402KYrZNxVMCAN45iJmtVBrzJOnKp024D3tQZS+tJ3ihgwJs3OttRUkcBA97UGcsc98SAN8fSWcE4KWDAGychrZq0UcCAN22G2joaJwUMeOMkZDJXY8B7cKPH8pK407AEpcZkjLZG1ntv1aqV4H/uXV892vKpks+AN1VGMrQfW3dtkuHzu8nAOR1k4fqZsv+f/aEZovi2a+8Ombp8hPSb1VYmLB1sK1od0CxpgXflSpGOHUUGDxbZty+KM8CyOAV27xYZOFDkiy9E2rYV2bUrZ8LMnCny7bcizHnKYhW5nFWe2KUMeBN7fPKkdYkIvEBgsWLFXOgXwr9k9Xr//felffv2wiSO/EgEIWcZytNPP122bt0aUxOmTJkiF198sSvfsmXLmMqmUuacAO/EpYOlxejP5M+x9WN+NR9VV8YtGSD79u9NKhl7Tv9d/hjzRfb9HVNf2oxvKN2m/SpTV4yQ/f/kD1h0nPSDvNvhfnmn7d3y9YB3ZeXmRTHrPX3laPmg6zNSqs2d8n6XJ2TMor4x15GKBXIEvG++KfLyy7G/XnpJpE6dnMu4erVIz54in34q8vDDIieeKPLiizmHtpy3JKMkS5k//XR0WtDWKlVEGjcWWbEio468/DRpkshFF4kccojIsceK/Ppr7Edfty6gP3XwevxxkQ0bYq8nSUsY8CbpwMWz2YkIvLNnz5Yff/zRxTw89thjHRASq5Vto0ePlhEjRkiXLl2kTp06ct5558lpp50mhQsXdtvjqU00dXXs2FGOP/54eeSRR2Tnzp3RFAnmITLBLbfc4uLQjho1Krg93T7kBHj/mtJU3m59h5Rtf2/Mr7da3y7A2J59u5NK6uWbFkjHSY0dPJZrf5+UbReh7+3ulXLti0ilTg9J9b+fk06Tf8yXfn7W+39CO4HeKl0el1mrxsfcjqHzu8rbbe6UCh0fkDLtCkvLsQ1iriMVC+QIeLHqlSolcsMNAeBR8Inm/bbbci7jM8+InH22yNFHZxz3uefyF3i3bBH58UeRN94QOf30jHZF0uKww0ROOkmkQAGRCRNyrkVOS/buHdrG11+PvaYpU0TOPDOjnnPPFZk+PfZ6krSEAW+SDlw8m52IwEv/cA9gBZtq1ao54L3kkktkGXflBxL79uzZ4+JQAsNYWQkuHauVVevL6Ttt2LBhg7C+ergVd/r06SMffvihbN++PdMhyL9582ZXPlZ3iEyVJfGGnADv31ObyVut75AfhlaTzTs3yLbdm2X9tlXy+5jPpXS7Qg6QAMJmI2vLjj1bZfvuLbJqyxL5aVh1Kdn6duk8pUlSAa+eW3v373H9qN/vHSnb/j7XT4Bw0451ggvB7NUTpcnwGlK+Q9GQ1/ilg/L8DPmqf1kH3gBv9a7PyNw1k2Juw8iFPR3o0h9ubjpMtGg8iJgj4N27V4Sb8hkzAgCqcHfxxSKLF4tgAfS+duwQqVtX5IgjRO68M+axCxbAivjXXwHLrh6zXDkRHtPnV/rnnwyXig8/FDnqqAAIHnpowPKLVvPmiTRsKHLGGRmQSPsfeURkf+zuOQfV1f79Q9uAfrEm+nPeeRn1YDFesCDWWpI2vwFv0g5d/BqeqMCrPSROMDAL8PpjtQIBgGL9+vVdnosuuihfrLzaVv/7li1bXLBrFvbYwcXDUlgFcgK8Xaf+ImXaFZJ121YG69y5Z5u0GvellG57TxB4m4+u6/YrME5bMUre6/yYs3omm4VXO7ph+2r5sn8ZB4BYPrF0e/uyeed6+WnYh84CDCgCnL+M+FiL59n7yi1LpE7PV6VKl8ek3+x2sm9/ZteKNVuXyxf9Srkbk227t2RqGyDfYnRdB+8/Dqvu9utYZsqcRhtyBLyqz6JFoeBzySUiWDz9CSgkXX55AJL8+2P5Pn++CBZFBV58UYHKREjEofcCb/Hioa365ReRY47JaDs3CCNGhObJ7W+MT9WqgTY88IAI7nM6Pnps/HqffVbk//4vA+Z1n+Zt317krLNEzjlHRBdh0H2aN0XfDXhTdGBj6VaiAy/tiwS89JOL38CBA12es846SwYNyntLll/v/fv3O6vtxx9/7NrFkpSxujv460zl77EC7959e+T30Z876Nuya2NQmqyAVzOt2bpMsI5+M6iSMCEqGVNWwKswOGJBD6nU6eEDVt77peGA8nnaVW2H/6C6nXfG4ptBFeX1P2+WsYv7uay6ny/ez/560v17ngCvivz55/EBXiBLgbdeveQBXnTwuj3Qj7//VnVy/z07IGU/VnR8tNH31VfDW6DD1RNuW+73KF+OYMCbL7In1kGTHXhRc8KECQ4szz//fBk2bFiIwFw0sbSyBCdg3KtXL+nZs6dbhnrNmjUheb1f1q5dK2PGjBFcEshPvQsWLBAiK3gT9TNhbuLEiUE3jPnz50vRokVdm4B11mLv3r27OzZt2O15lIcrBMs64xZBIlrD33//7fLSVn0tWbLE7d+7d69MnjxZevToEdzHsb0Ja/LcuXOD/e3bt6/rfzi3Cm+5/PocK/DiwtBh4vcyfEF3AX41ZQe8ClCD53aWLlN+dlZRXB0ASCZULd4wW2avniDUg4vE/LXTZOaqcbJs4zzZuXeHsyav2LxIFqybLnM8j+d379sl67evktVblsiSDXNcHTv2bNNmhbxv2rnO5Zm1erzMXDXW5V26YY7s2Rd6XoUU8n3JCng1K64A73V+NAi8jQZW0F3B9117d8qyjfNl/tqpri30de6aybJs0/wQi3GwgIibAIdVHQ3Iz4sIDN4bD29+rLq4kpAfrUmALjpjpWZCGxb5LpObyJzVE119uGX4E5beeWunuLLs42YlkH9ssB3aHvqwZecGWbpxrsxYmbGfY/oT9azYvND1m/L4GdNWrOR6vvjLJML3XAde/jcOHy6CK9bChSJFi4Z2m+1z54qMHSuCf2mvXiJ9+gT8W8NZi7HwZge8lJs8WaRv30B9RHKgXCRL8LZtAR/UAQMCk+I4/rhxImvXhrY1u29ZWXgVCL2+r/Sje/fMteJyx1yMfv0C7cENYfRoESJTRErojIbaZ65frDoZyWWC6wR50J7EhMChQ0VKlMi4mbjvvsDxGRMiO/j14BqGWwtWap484uYycmRGGcrpiz5s3BjIr+Os9Ya7fjJe1MskRV6cQ5w/qmMkHfJguwFvHoic6IdIduDFpeGrr75ycHnvvffKYnzRDiQuWERCqFKliuBWUKpUKfd+9913OxeJ1157Tfrzg/YlJs29/vrr8txzz7n3QoUKuclxd9xxR9CtAmil7j///NNFlLj11luDfrysff7SSy/Jtdde69pVsGBB51/M8cqXL++glgsWocyqV68u5557brAds2bNkquvvjoIywDzgw8+KAP4p86FftcuadSokRxxxBEuD8uLfvnll8EerFy5Uj799FOpUKGC8APHr5n6rrzySqfT+vXrg3kT5UMswBsOQnRbdsBLfzUvnycvHyZtx3/jfF7r9y0lNbo979wEAEAmxVXu/Igwwe2Tnq9K58k/SeMhVaVe37ecS0S1v5528s1fN9XB849Dq8tXA8pJre4l3CQroNSfFqybJrhYfNS9hJRqc5eUbF1QSrct5Mr0nPFHRMj01xMN8A6d19VNWlOXhibDaoRUs3rLUuk+rbl80vMVYXLZr6PqSOMh70vVv56UOr1eFSJCMEnOq9fuvTtdaLBvB78nX/R9W1qO/VK+H1xFanYr5iaTAcrkB6QB/6krRsqA2e0d2H749/PBm4TvB78v73Yo4lwucMngBfSidclWBaV2z5ddWwFjbgyw/v426lPnmqET8IDuz3q/KW+2KuDKUZYXbi74bdP2dhO+dTprvVj2vYmblB7TW8jnfUq6uhkP/KHf7/K4Ox59+CcHodS8x8itz7kOvH/+GXj07b2ZVmjhfyyQeMcdoRCLdfGCCwJ+v0CSN2UFvNSLf2mlSiI33yzy6KMiTGr7z39E7rlHhLb4I+DglvH++yLXXZcBehz//PNFXnstAwi9bYj0OSvgpQztO+20jONceGEgrJrWBzDiHvDkk4H+034A9N//DkwSe/75wH6PocMVBQyxxl55pUixYiJM7rv0UpGnngrcPBC2jWMD0oBjmzaBSYdHHiny3nuBo3/2mcgpp2S0TS3o+n7qqSJTpwZuXBhLLNMffSRy/fWBti5dKsKNAxErtIz3/a67Ajcd33wTup+x8Z4baNCiRWC8mNyndRx/vIgCuOqVT+8GvPkkfCIdNtmBd86cOXL55ZfLCSecIL/6QrXMmDFDbrjhBgFwgVNNWFOBQmDyX//6l7OW6j6so+Q/++yzhRi7JLYBquTHAouVtVmzZvLf//7XHZft11xzTaaJaaVLl3ZlyOtN06ZNE+CZCBOU5TUYa8YBIMO6DHCz/ZhjjnEWat2n9TzwwANy5plnyiTC1RxIXARfeeUVAb6xJGsaO3asax/1NW/eXDcnzHsswJtVo6MBXm/5KcuHy9B5fznAA5SYFFXj7+el/cTvXFQBfF9xC/h5+EcuBBq+qEyEI/LAF31LuarmrZ0qLcd9KdW7PusmV73bvoiDLnZ6YRGLMGBFpAFgcdDcTtJ+4veufo4L8I1YEMZq5G3wgc/ZAS+W1D/G1HPtDEz2ui8knBfWbPxhOW7Fjg8GJ5Nt3bXZhTyjLbSTSWdbdmaACxZW4PZ/LW+VCQcmwTFRDms5YcMImUaot06Tf3JuIzW6veDaQH21e74iizfMcj0Yvai34HJR/e9nHWgyybD1uK8d2I5c2MtZnPG1JpQZ8EsbaQ83BwPmdHB1ENMXC3nd3m+4iXFAM31t0O+doKsKbftx6AeuDdyMAPmagF3C2jGWQH63qb/KkHl/Sc3uxZwu3JA0HVErWJeWS5T3XAXezZtF/ve/AEhNm5a5ywAoQMNj/ooVAyGyCHGlkMO75/+PqyAr4OV4RB2gHGHLsFqSqAOY8/vMYjEEKsmPXzDuER9/HBqBAICMNmUHvMQNPu64jP4VKRIaYYKQberywHF1gnLr1iInnBAox/6ffspoETcNt9wS2Of1GW7UKOAvfOutAesrFuNChQJ+uYQjU42/+ipQFxoxsY5Jhbrv9ttFuOZwPezaNRBK7d13A5BLtAzNB7RqAqoLFxZh0p7uv+KKgPWZPMA6E+XYh+YHrleu+J49Af3VD/qtt0SaNBGhD1oXNyI6rnrMPH434M1jwRPxcMkCvBdccIEMGTIkOPlr6dKl0qZNG7nppptcWDBClhExgaSgcc8997h9AJ8m3YeFtnLlyg4qCSkGZJI6d+7sthEuzJsUGrGw4qM7b9486devnzz++OMu//333x9sG+VwVShZsqTb17hxYwfJWh/QTGi1GjVqBIEZOPcm+sokPCDV75cMsF9//fVSqVIl1xbK0a569eq5/C240/YkrOBffPGF2wcQJ9oiF/kBvHoeIFPXqc0ccAJMlTs94lwBgF4swB/+/ZyMWtRb1m1bIQ0HlneAhHUSaNW0c892B3tAGZBcu0fAQqn7V25eLA0HVnBgRngunWi3dutyVyfgyYv6o0mRgJc+4XLRdnwjF7O2fIf7XXuxTKvrBzAMoBO2jGPiy+xNk5YNlWp/PeX6Ady3nfCN2411Fys3Nwa4IfSa8WdwIQlcOYiVy40B9eNKsHj9LGcpDbShiANTtnsTMEs7sKqOOeDDq/s3bF/j3At+G1nHRd1gbDj28AXdNIt7B66BVvbzwuJM0vGl/cAr7gqamODHpEfGin1D5nYJ6tN3Vhu3jX1AdCRXDa0rv97jCryEC7vppgCgAClY/4ArohOEA17CeQEy330XsA4iwpw5GXDHPgDU6/6VFfASKeDwwwN1FiwYsGiqsMAT1lXcBDRhCeUYtNELkYCjAhug7Hnap0XDvkcCXkCcSV5XX50Bblgvve4MPXpkwC7WTL9vr0It7b3sMhE1UKCdAiwAjYWURJQMgJW8WLVxG+DpXvnyGW2gLm+/cUvgBoXtvLAaexMWXKy8X38dGinjmmsCudRyT9g6rMdaz3//G3BH0Lq4rrCvTBndEngHrtWqizX7wHVYfvtNBAuz1ucz/IRWkvvfDHhzX+OEP0KyAO9xxx0n9913n1x11VUu7i4WXayc7733nsycOTO4yple6PC9BRZxK/AnzYP7A3moq9OBGatYiQ899FA58cQTg24ElAcaAUUtq3V+9NFHrg78dL3+vZs2bXILZlC/F3i95QFZQJ48WI39CUsz+955J/RRLH1jgh6+vJroC1Zp9MGCTOJYvMiH2wN1Pfroo/m2SIe21f+eH8CrbUCf3jNbOogDcIBWwA3rIPvw5cVqCWR+N/g9FwrMD7zU1W3abw6asfB+3udNrd69D5v/dyBqRPt7xetLi38rrhNYQAG/T3u9FlIu0hc/8AJ6WEuBc1wtdLIawPr9kCquL1oXfspYaWknFtOuU35xu+gricf4tJ/91Futa8B1Ax2aj/7MQSfbK3R80FnCKYN/Le4C3af95urQP7hKUA99wxLrBV405cZAgXfUwt5aLOQdqytQGhibQjLsAPBqewF0+k2beH3Q9emgVXb5pvlSt/f/nGUdYNdEO7A4q4WbsdaE33ZAv/td+Dp8eRMxxRV4FUj878zm9wMvEMhCFI89FoAxxOHc2bQpYInVOipXzrB0kicr4J09OwOKKI+1km3US4QE3CT4TsLX9eSTA/kBYR7JawIi1RILfOI/G03yAi/H5wYAn13q1/rYDtT98UdojbgxaJ/JD1ySFCIBVYVw6sIaS6pZMyMyBGHfqAeNSIA7+qqlmG34w+pxePcCL9qrhZx9LC6iPsDaDuoAtr0WXgVed1A3gSTURYUQZgC9JsCcvrBamybOBy/UM16aOB5WYm03OudjMuDNR/ET5dDJAryEJcM/NVLSC6DuZwU2AA/f3UgJf1YAkXzf4KMkTHbdIEceeaTbBggTFg3YjZQ0EgP+wd7JaAAoi2FQtxd4vfVgxb3wwgtdHqzGmrQvv/zyi7NQs7CFd8IZcX2B/XVYAw6ALZPYOFZWLxbxqFu3boglWo+Zn++JArwAExDIpCXVVXXhETjAG1hIIdTCSx78YQFXP/ACU7+O/MSBdAAUAz6rABwvHtfzAiBHLvBcXPTAYd79wMsxcT+gDuriET2W29ELewctl1oNbgC0k7a80/Ye6T+7ne5y72udJRtrdCDGL/kmLhvs6mkz/uugtZW2Y70FWqetzFg0Rc9dKlNwzgp4iSWMzywuDOESNwvhgFfzctNACDbayQsL/cA5Hd1uljWmH/RxvyckGqu3Mc7k13Hwvlfs9JC7scHlIVEjecQVeAlL5oUr/q888UQA8LzA64UnFNbvPEF78MEMsAFwYgFeJmApFOk7lsZwgERoLq8VUvPzDoxhKeZdjQTaRj1hwr37gRfLNhZWrRswrF49MJnM229gm32aD0j27uczrgcsWqF5sICScMPwhjpjPzD6++8ZFtJAzsBf/8ITWQEv4O+5ngSrwUASCXhVJyzz2lbeaxzw/WdSG+0FxEmanxsQb2xfb1k+a9+vuipgvQ42Ju8/GPDmveYJd8RkAl5/HN6sxHz22Wcd/GUFvEAkPwIgkYlgmpggdsoppwQnhuEagUsDQOu9oJM/K+BlEl1OgFfbgZuFujUwOY4ESBcoUECaNGkSbAtAjmWaYzFJLZrk70c0ZXIrT6IAL5ZbrIVELvCnnAIv/rK4PwBeWI9/H1PPX3XI92jGxQ+8TMrKKnnrBCzJD+ABvMTH9SfaiHU4ALUA7xCXhYUjsA4rXLKfR/98xwXE//jfC7yf9XnTRbvQY2HhZfIeukQLvPj6jl7UR6sInv+D53V2PtcKsN8OquyiXjQd/pEbz007MmbtA7BE+MAtAxBnkqFXn2DlCf4h7sCrkRUUZHh8ja8mj8L9CZjCkol/qboXYFHlpcATC/AywY3le7Ws950ndOoGQDuYAKX7aV9WSfuSVR72eYEXWMZCGil568TqjB+stkeB11sWy6y6a5DvhRcCe7Hm0jct633HDxh3DO+x/MD7q2dpYSI30Gat49tvowNeXFf8ieN6byhwdcFnmkly1H9g8nSwmNeqzv7s4hN7+xSsJG8+GPDGWWd8SGOBsjgfPkfVpSrwPv/889kCL362RE4AFD8n1uQBaynv+AjjpqAuB7g5sMCFP55ubgGvXoR18hqT3Ehdu3Z1E96mHrgQkQ/g/e2331w/AH0NceYKJMGfRAFerI0N+pcWfGv9KafAS7QAYA+w4xE61siDTX7g9S88kVX9WQGvnnPtJnzj4NwPvNQLcBLZQfcF3u93gNx6fEPxhmNT4KXfWMdZCU8TK8ZhZQWYowVeLL2EpPMn3BW4qdA2MfEMH13qxe/Y686Av3VrLNVY4zvcL1X/eiqkzf66E/V7rgGvdhirLcsQ+1fiAnbHjw8FrPvvF2Fi1yuvZEBXtMCrALRqVSA6gU58Unjj/V//CoQbo238H9R9AKaW13bn5N0PvN5JZFnVh98yERa87fHnHzIksFKd5lHgJR86ssyzWkE1D++AvTeijh94vW4FhKwkmoWWjwZ4AXt/P1VLJiJqXbhxNGgQiH6BfzVJ8/EZC7bXUs15kKDJgDfOA8Mj97JlyybcI+OsupnqwMtkskiJZYhLlCjhQBGLKYmLvl74+Y61Vy21gLE/jFluAa+2mTBlhCA76qij3KQ9Jtq9+OKLIeeYF3iJ0ECZZEqJArxAaf1+pYTVv/wpK+Dd/88+CUBioUwuDVh4CWVG3bgAMCHsYB+THwzwTl85xrkIYA11PrxTPT53BzpNqDas0QqQC9aHTqgkti0rt73f5YmgWwDWUqIyLFqf4d8XBN5297oloDd6LK0AL0tDo0m0wMvkNpL396mf+85q7dw56BduDUTNoD34JHvLoD3WaICX/mHtJvRZsqVcBV4v0ATEy5CHx/hEDVAgAoqZfwAIe/1ZowVeb/1M0OIROn6fAJkeg3d8XklEEtDtWJQ7BKJ2BHbm8G9OgZebAR7Va3vw4dXJZ9oUohngo6t5WByCpBrzv5qJeYQw0zz6TrxbTX7gJeKB1kE0ISa6ablogBfIxu83XKJNOqGOOrGkcyPinayn5TiW18+ZyXMJmgx44zwwLA7AJClvSKg4HyLu1aUq8NasWdOB7DnnnBOM3uAXj0loACLhvRRkCQ9GXF9vYhEH8gG8ALI35Tbwcqzbb7/dTaS76667pEiRIi72r7cNXPTVhxd/379Ytz6JUvIB7/3yaa+MiwV+r6wYhoXY78ML5BEaS10EiDQwZH7XTKMzbeVoGeN5XJ8pg2fDwQAvMYYJr4Z1kzb9MqKWp2aRHXu2urjE9AV4BBpJxNYdNLez4P9KYmGHiUsHy6e9X3d9Dlhqn3CLQ7gMHh9eLLw/DK0mG3dkLPQC8L7dBuAN+N5SV7jk9eEl9BnhyMIlokMQ61frQ2dcFzQ6hZYhri6LcqgfM/3UyA6ah/dVmxfLwLmdXL+92xPlc64Cb1adJB6sghWgQzgrEi4OxI/VfbEA74oVgUfmBxbfcZPNvJOwqFMjAwCH6iIAtOEK4U9YPwExP3z68+n3nAIv5b2W1RNPDCwKofXyjmuIthdAp12kdu1EmjYNfGaOCECrodZUw59/Duznrx94vfNZcEPwWr7xN87OhxftiFfsT0A0L9wqtB28Uz9RNxSytRyTvbG0a96LLsrwddY8+IczWQ+LeD4mA16f+MWKFXOTgQj3RNzVWF8sVAAUsdBBsqRUBV6snIwFvriscuZPQCILTJCHyAWsxkZq2rSpMLnLHzWBBSLIS6gxb4oGeOvUqRMyoU3LR5q0pvvVetW6dWt3bI4P9C47cJHR/eTHt1cXrCBUmn8VOSbFjRs3Tn766adM+/R4+fWe38DL428AKCsLL5EIHLi2v9dBFTP5xy3p7yI4dJ/e3C1GgbUS8AMSvTP/sT7iH6wwBpgRbQCILSfM+QAAIABJREFUxO+V/R91Ly5txh+YwZ3NQBwM8BKLlhXO6CtwXscXGYJV5eo5n+NA2LIukwMX3W27NjsQZgGLbZ6oBkR9IEIEUIt/bzgLL8ci5BoLSWjyAi/+tMTX/UcCkSI0D+9e4CXf0g2hoc3Io7+DDpMaO79cxoE2EWfZu1/z0UaNAcyYVOr0kHSY2Ni5sgDIk5cNddE0Pu/7VnB1OFdRAv3JN+Bl6XaFGwBOwYv/nywaoftiAV5CMuI36g09Rn1M8NL6PjzgCkRsW6+vMOHHatUKRIwgPBcWX9pRoEDmxSoijV9OgFfBD7hUn1ce7Xsnk3E8JtmpywLWYBbYIMEIWLK9kwWxrHot2N7rlh94cZXQ5AdeFu0IN9HaO2kNCzqAHS7RNyJcqPa8E50iXJ2sCucN20ZfH3lEROPeszgFbhxMBPStghru0Lm5zYDXp676QTJLn8fIsb4OO+wwByasrIVVMBlSogNvxYoVnaZEaYjVP7pMmTKuLJPO8Nf1Ji5+Tz75pFvlzBunV88B3kl6keQmBuD0w7MCL8dggQpN+NGqu8Rll13mFrFgaWIWvCAGL8kLvN6FMbQOfQdWsUJz/HcJIB4mAejfffedy0O+4sWLO9cG2g/YE6OXBTqIV+yNJhGmqjzflN/A2+xAFAUeyxOuCjeEcKnTpB9cWC591E9MXcCJBSUa9Ct9ALYCM/91OyGwmATnQnR1KBJ0E6jS+TE3oYp8QBeLHGA1jSYRxxcYAyRpC76tLKcbbWLRB112mDrGLQms4kf5GavGBlaca1fYgbH6vxKWjNXYsA4DuSTOLZZVJvQZ7gYsPOH14Q30jVjAhCX7X6awZIQQU0szQMxNQt+ZrYPhzYiXiw+uuh9gtR2xMHIkCybCEaWCOtGTtoVLtJGFLmiX3oRwA0MsYW5G0ObjHi85eNfff7h68nNbXIEXCx3hpaJJQIsXhIBFAIkYrt7trICGBVFBNauwZIAeZYFABUnaogtcsPCEF/BY/ct7LB63s7ADUMWjeCIsKFhG0yegVK2w1IvLRrSJCXdEudD23HtvqHVVAZZQZ96QZrhoUIbV07zpk08C24F2Xa0Ol5HGjTOOQTmv9ZcY8s8+m7EfHSZMCCwXjGVc4yFzQ6ELZFAHYxQpYW0HXMnHzQNQHSnVrx/qxwv0ciNCWDtCyOHSwY1KOGCOVGcubDfg9Yiq/9hY5vXoo48WlpN9+OGH3YsJQ8AsE5dYuQtrH4+9GzRo4N6BkKJFizrYYOWuhx56KGncGhIReJkYBhQSQuv00093unLzQRzetm3bulXTsoM2xhNQ1GgNWD2nT5/utmH9xRpP2LHRB2I16vgDuow1Vl6FW9pCtASgUUOUEXO3VatWcumllwYhEzcKjY3LsTU0GgDKi/NHw58x6YzzRPdxXuEvjF9xuFSuXDk5+eSTg64X3jzadtqki2lovfpO+72uNlrGW09+fY4H8I5b3N8tJYvvJsCjUAq8AKq6Mpi/j31mtnYz9SkD/FAOS+6ohb0yLStLHdU9MV/Jj2W218w/5Yt+pRyAEuWBVcwGzekkyz3RHnAHwOdV26XvHBefUiZTZZcYM1Zo+3l4zZB6NC4wy+RqRIWs6tq7f69bHU2hlxi5TK5bv22lC28GYGLl3b4741wMxOGt6+C6Ts9Xhfi3uAf0n9Pe6U0dat0F8FnwAQtyoJ/46T4hf45tEIzkQDixpiM+cm4VCp3ANzcGC9ZOEyzAhBOr1ePFYD3UR7g1dasI10dCib3X+bFgNAf/ea7fF62fdeAmJONcoa0cg5jCKzYvdNVr/nDHys9tOQJe/G9/+CHU1xag4YWrFosshIvK4O0o/qLeVb20PEvi+kGUJXiJUgB8+l0UiG7QpUugZo3Di+UW+MS6i9WXPIAik6ZICsPjxkVeTpdYsfo4X/MHSof+BSL53w+wA9TaD95x1cCw0LZt5sfz3lq0ftrDxDrKAng8vucGAnhV/1ZddEHLALxYhukfNwskYt7iy8vqbERDIC99ARa9vsIcB59drL4k8rG8vLcPfAY4D0T3cZEuWMXO60/MohAcG99pf6JOQqRRD5EYtN3+fHzHdcS/Spu2BcDWhZ+yqiNcvXHeZsAbRlAsYFfwqMGTsJwBQUBTVmnYsGHCCl0sd0tK1H+W3j4kIvASZ5Yldc844ww5//zzXaQEoiXgj3vaaac5SGSxiWhTz549nasK8MwCFljguVlRq693nIjNC5S+8MILbvEJXCJYAILoCJoP6P3jjz9cvF6WB6ZtxNPFCsviD5qw8laoUMH1AfDW1dRYGAL3A/pHWV7caPHOccIl+nvzzTcHV1bz59G28d6uXTsXyYH6rrvuOqlVq1bQjUHz+cvn5/eDBd4uU5q4BQdwJSDM1Mc9Xgy+ACa28/p7augSzywWAaB6y5CfR/MA2qhFGZNGVDegF5cA8gFfizbMcpbJlmMbuKWCATVvopyWJQbun2PrHzjeSw4uRy/uG8yu+YIbfB/wNQXoaR/H9/YT8MY6WbPbC9Jzhi84vqce7zFYSe7PMfWdHy4LTKBF4yHvO4jdc8A6qvnxkQXMOQbhxLDeEuEAOOw8pUkQEDkUSwKjt7d9tbq/6Mao2cjaLmQY+bAeA+8cFy37zWobbCkgjQXdOzbURz+xvrJUc7iEjzIRISL5+lJG+wTg484C3KNnnV6vuoVANIyZ5gt3nPzeliPgZfIR1j/+R7GYg/fFNiZdYR3Vx9H+TiqwAKg8Dif+KqGtPvsskBPwI4wV0AbQaf677w5YFgFgPSZl8XkFiIkyAOyy/CzWZraznxCLunKZ1qXvAGWFCoE4uOecE3hnJbFoE9cPoIzjcSxtF++0A1gEPB96KDropT1AJxZerJuUxYLKwhPqu6ptp43kxTLMsRgT+gw0k9+zoJBz0cBq7W8jY8l44WJCwlDy/vuBfjAmuFqoDzM3Mfjgchx/PwHyAxGKAhV5biyIwUw84+mBuOTB8Qxm9ORlGyvwcdPDeHADRNSOcDDtLZ+Hnw14w4jNY2ceB3sTFl4sZTwaJkX6R4hVj/BWzOpPltBQiQa8kbT1jod+zi5vdvv9Yxlrfm2H/53zIFJdkbZ76/Dnye67lvXn0+36nt1+zZfX7wcDvLH2SfPre3Z99ebzfs6qXLh84bZ56zjY/d66+ByP+rQOffcfw/+dfFh9o0nR1plVXf46svvurcuf17uPz9nt9+fP6+8xA69aPaNtqBfOvGXitd1bZ3af/cf0f/eXP9j9/vr4nlWdWe3Turx5vJ91f7j3eOTLaR3+cv7v/vZmtT+rff56cvG7Aa9PXO8/OaBFE5EXAF6SN4/u927v27evy8us+WRIiQa8yaCZtTG+ChwM8Ma3JVabKZAcCsQMvMnRLWulKZBrChjwRintO++84yBW/TMjFWPhCQASOG6mPjuRMifIdgPeBBmING6GAW8aD751PUcKGPDmSDYrlMYKGPBGOfj45BL4H99PlnsNl7D8Dh06VM466ywHvISSSoZkwJsMo5TabTTgTe3xtd7FXwED3vhrajWmtgIGvDGMb/PmzR3IMimtU6dOsm7dumDpCRMmyCeffOImLGHdZcY9E5OSIRnwJsMopXYbDXhTe3ytd/FXwIA3/ppajamtgAFvlOOrfru//vqrg16gNtKL6AKEr0qWZMCbLCOVuu004E3dsbWe5Y4CBry5o6vVmroKGPDGMLYKvb1793YB/ImJetJJJ7nQVbwTvooYvE2aNAnWqmWCGxLwgwFvAg5KmjXJgDfNBty6e9AKGPAetIRWQZopYMB7EAPOMq24NrRs2dK9s2iAdznaZIBdum/AexAngRWNiwIGvHGR0SpJIwUMeNNosK2rcVHAgDdGGYHY1atXu1c4oF21apUQqSGZkgFvMo1WarbVgDc1x9V6lXsKGPDmnrZWc2oqYMAbw7iy0lW1atXksccec6twDR48OKQ0q2+x5HCfPn1Ctif6FwPeRB+h1G+fAW/qj7H1ML4KGPDGV0+rLfUVMOCNcoyJyEDkBe9Etdqswe1JLFRBJId77rlHli1b5tmT2B8NeBN7fNKhdQa86TDK1sd4KmDAG081ra50UMCAN8pRJuQYsFukSBFp1KiRPPvss1KBdbx9af369fL0009L2bJlBYtvMiQD3mQYpdRuowFvao+v9S7+Chjwxl9TqzG1FTDgjXJ8se6+9tprLveuXbuca0O5cuUylWbSWsOGDV083jFjxmTan4gbDHgTcVTSq00GvOk13tbbg1fAgPfgNbQa0ksBA94ox/ucc85xE9U0e5s2bYTlhr1JJ7H16tXLWYPJkwzJgDcZRim122jAm9rja72LvwIGvPHX1GpMbQUMeKMc32uuuSbEL7dVq1aZgJeqcGP46aefHPA2bdo0ytrzN5sBb/7qb0cXMeC1s8AUiE0BA97Y9LLcpoABb5TnwHfffecAd9OmTa5EOODFwjtq1Kjg5Lb27dtHWXv+ZjPgzV/97egGvHYOmAKxKmDAG6tilj/dFTDgjfIM2Lhxo1x33XVSrFgx6dmzpzRo0MBNTKP4mjVrZOLEifLNN9/IjTfe6Ky7RGpYuHBhlLXnbzYD3vzV345uwGvngCkQqwIGvLEqZvnTXQED3ijOAPXNZWW1888/X/DnveCCC9zn++67T2655Ra58sor5fjjj3ewe9FFFwnLDydLMuBNlpFK3XaaS0Pqjq31LHcUMODNHV2t1tRVwIA3xrGdOnWqPPPMMw5svTF59fP1118vQ4YMCdaqsBzckIAfDHgTcFDSrEkGvGk24Nbdg1bAgPegJbQK0kwBA94oB1zBlXcmpk2fPl3w6/3888+lXr168tlnn0mPHj1cbd68UVafr9kMePNVfju4mEuDnQSmQKwKGPDGqpjlT3cFDHijPANYbGL37t2iMBup2Nq1ax38btmyJVKWhNtuwJtwQ5J2DTILb9oNuXX4IBUw4D1IAa142ilgwBvlkJ900kkSDcTu2LFDatasKVWqVImy5vzPZsCb/2OQ7i0w4E33M8D6H6sCBryxKmb5010BA94ozwAmqm3dujXb3FiAmzdvLmeccYaMHTs22/yJkMGANxFGIb3bYMCb3uNvvY9dAQPe2DWzEumtgAFvhPFftWqV1K1bV77//nvnm3vqqadK165dpW/fvhFfffr0kd9++00KFSrkJrXxORmSAW8yjFJqt9GAN7XH13oXfwUMeOOvqdWY2goY8EYY3/Xr10v58uVdCLKzzz5bDjvsMCHc2MUXX5zl67TTTnOwS4gyADkZkgFvMoxSarfRgDe1x9d6F38FDHjjr6nVmNoKGPBGGF9cE/DZZXlggFfDjkXzDhyXLFlSWKwiGZIBbzKMUmq30YA3tcfXehd/BQx446+p1ZjaChjwhhlffySG999/3wHv5s2bXUiyPXv2yLx582TAgAEyePDgkNeIESOCk9v89YQ5VEJsMuBNiGFI60YY8Kb18Fvnc6CAAW8ORLMiaa2AAW8Uw0+osUsvvVS2bduWbVgyrS5ZYJf2GvDqqNl7filgwJtfyttxk1UBA95kHTlrd34pYMCbjfJecJ00aZIsWLBA1qxZI4Qf8yfyzpkzR3bu3OnfldDfDXgTenjSonEGvGkxzNbJOCpgwBtHMa2qtFDAgDfKYSbEGBPRChQoICVKlHChx/xFWYHtrbfekl9++cW/K6G/G/Am9PCkReMMeNNimK2TcVTAgDeOYlpVaaGAAW+Uw1ytWjXnx/vII49IrVq1pH379plKYuEdNWqUXH/99YIvb7IkA95kGanUbacBb+qOrfUsdxQw4M0dXa3W1FXAgDfKsb3hhhvk7bffFuLzavK6O+i27du3uwgNjz/+uGzYsEE3J/S7AW9CD09aNM6ANy2G2ToZRwUMeOMoplWVFgoY8EY5zOeee67MmjUrmDsc7OrOLl26OGtwr169dFNCvxvwJvTwpEXjDHjTYpitk3FUwIA3jmJaVWmhgAFvlMP8n//8J9ulhRWCe/fu7YA3WXx5DXijPAksW64pYMCba9JaxSmqgAFvig6sdSvXFDDgjVLaypUrS79+/bLNTeiyihUrOuD99ddfs82fCBkMeBNhFNK7DQa86T3+1vvYFTDgjV0zK5HeChjwRjn+U6ZMkYIFC8qiRYuEhSfCJRamaNWqlYPdM888MypADldPXm8z4M1rxe14fgUMeP2K2HdTIGsFDHiz1sf2mgJ+BQx4/YqE+a6uCqy4duONN8p3330n/fv3l8mTJ8vUqVNlzJgx0rlz56Bll+WHX3jhBRevN0x1CbfJgDfhhiTtGmTAm3ZDbh0+SAUMeA9SQCuedgoY8MYw5CwoUb58eTnmmGMEC+7NN98st912m1x99dVy5JFHOssusHvnnXc6CI6h6nzNasCbr/LbwUXEgNdOA1MgNgUMeGPTy3KbAga8UZ4DauVlhbU+ffpIsWLF5Nhjjw1CLqDLxLaaNWvK/Pnzg7VqueCGBPxgwJuAg5JmTTLgTbMBt+4etAIGvActoVWQZgoY8MYw4F543bRpkyxevNgtNcxyw7z4B+RdctibP4bD5HlWA948l9wO6FPAgNcniH01BbJRwIA3G4FstyngU8CA1ydIdl+jgdjdu3e7xSe+//777KpLiP1NmzZ1luojjjhC7GUa5Mc5wBOSww8/3M4/+w3aORDlOcDvhd9Nfvxe7Zh2nUjGc4DfS/fu3XOVuw7J1doPVF6jRg03mexgj4WFdt26dbJr166Qqgg3RhQGXnwmX7gXfr4zZsyQ6667Tn744YeQOhL1Cxbezz//PFGbZ+1KAwXwg0+WlQnTYDisi0mgANci3OgsmQKmQHQKlCpVSjp06BBd5hzmSirgLV26tLtr/uKLL0K6Sxzea665xr2eeOIJeeutt+TNN9/M9Hr11Vfl0ksvdXXYwhMhEtoXUyCiAubSEFEa22EKhFXAXBrCymIbTYGICphLg0+aSy65xMHqQw89FLJn9OjRLjoDJvFoXwa8IRLaF1MgogIGvBGlsR2mQFgFDHjDymIbTYGIChjw+qQZOnSoNGjQQCZNmuTbI/LII4/IYYcdJrhPfPnll1K/fv1ML8piDSZM2c8//5ypjkTcYJPWEnFU0qtNBrzpNd7W24NXwID34DW0GtJLAQNez3j7J6Tpd31v3769A1lPkbAf8e19/PHH4+JTHPYAcd5owBtnQa26mBUw4I1ZMiuQ5goY8Kb5CWDdj1kBA94YJGNJ4WrVqrkSCsGRirMK2+zZsyPtTqjtBrwJNRyuMZw/d9xxh5QrV062bt2aeA2Mc4uSFngbNxZ58UWRYcPirIhVFzcFmIBcoYLIJZcExmrLlrhVnZ8VGfDmp/qpc+zlmxbIt4Mqyae9XpeRC3rI/v37Uqdzvp4Y8PoEifRVAXffvqxPhuXLl8s777wjmj9SfYm0PT+Bl4U6jj/+eGc5xw2EUDsXXnih9O7dO6JE69evl0KFCjn3Esp4X/hX43JCtIxkTs2aNQv6ihPjOdVTzMDbsqXIIYeIHHlkbK/DDxc54wyRPn1yJik3Hz16iLz9tsiZZ4oceqjI6aeLtG+fs/riUWrKFJELLsisA2276CKRSOfPa6+F1xBd77lHZPHieLQu/+uoX1/kuOMCfWX8y5TJ/zbFoQU5Bd53O9wvlTs9kqPXh38/J3PWZHb3i0N3cq2K8UsGSul2hTL1t1Knh6TZyE9k3/69mY69ccda+ah7canY8cFM5d7r/Jh0mNg4U5lk3LBl5wZpPOR9Kdv+Xinfoai826GI7NyzPRm7ElWbDXh9Mu3du1eyg1pfkZCvS5YskbvuuiusD3BIxgT6kl/AqzcFM2fOlJYtW0qZMmWCkFewYEGZM2dOJpW0zJo1a2TAgAFStmxZV+akk06SOnXqCJMLcSkhad5MlSTIBtoZCcwnTpwo1157rYsGYhbeMAO2fr1Ily4iH34octppAZgB1Hgdc4zIqaeKnHJK6OvkkwOAynuvXmEqjWJTkyaZj8fxcznUTcSW/fNPYBfQ+9tvIoULh2qBHkzA3bQpcxXcFI4eLfL664EyRxwh8tRTIl27imzYEMiv9WcunTxbPvpI5KijAn3kJuCll5Kn7Vm0NKfAW6ZdYanQ8QGp0uVx+aDrM+71fpcn3Da2Az4VOj4obPPuZ3u1v56SOWsmZtGqxNu1Y882mbp8pHSa/KNrf6B/gX4CvQPndAxptF43tu/eKgPndpTP+5SUd9sXcXr0mNZcpq0c5fJrvpDCSfZl04518vWAd6VsuwDwvtX6dgPegxzDpApL1qZNG2nVqpUAHOPGjYv5RVngiwltyZLyC3jRx/tPA5cR4hdrFIySJUsK1lxvHn8ZvpMfC6E3+ct49yXCZxYnefvtt+Xjjz/O1JxwbQ+3LVPBJN4Qk4XXD2FvvBEAWeAOsMkqpnSxYoG8f/8du1re4z7+eMYxzz1XZPjw2OuLVwlvu5YvD4DdYYcF3vUm4N13RbZtyziitwxbyQe4jxsXOU/GnsT6RL8mTxZZtYp/KJnb9uuvIuecE+jjSSeJfPpp5jxJuOVggLdmt2Iye/WEYK8XrJvmAFiBt2a3F2TW6vHB/YvWz5Sqfz0pVZMMeP3/N38Z8bEDeyy3zqLZvohU6/q0TFo2JOQ64y3Xf3Y7l7fpiI+Cenj3Bzcm4AfaCfAv2zRftu3enKmF23dvkT/G1HOaoAfjvmtvcj8dzdRJzwaz8HrE4GOFChWCwKXglZP3okWLyurVq321J+bX/AReryIs1wz4HHfccXL66ae7cfjkk09k+/asH7Gw4ssVV1zhrSqhP+/fv1+6desmRx99tOhqfMnyDzS3hI0JeP2NwGKH5U6BF4uePykITZgQyNe0qT9HdN+1nhIlMo6J28CMGdGVz81ctA2XC3S46iqR884LfFboJbb4/v3hW0AeXDMmJpf1Tnia8913gX62aBG5f4w3vtZJZIgIP1AZW3MCvDy+5/F181F1XUX6f2fGqrFSpctjQfCp0e15mbw84JeuedqMbyjvdX5UJi0fmtGIJPv026hPHbz+OPQD9w7kYfGu0+s1Afq1r95u9Z7RUsp3uF9+HVXHuzkpPm/btVm6TPlZKnV6WMYu7hfSZu3r5p0bpPPkJvLnmPoyd81k2f9PhP8RIaWT84sBr2/cWO3p/PPPl2OPPVYefPBBIR4v4chuueUWOfTQQ92rQIEC8vrrrztfXVbuwGe3RIkS8sADD8iJJ54o55xzjhQrVkzGjh3rqz0xvyYS8AKu3CwwWYsbDcLA/caj2izS9ddf7xb7yCJLwuxau3at/Pjjj24BE/r3559/Jkzb8rMhuQ682rmVK0Xuukvkp590S87e1VIMKAK806fnrJ54l9q8OQB/1auLfPVVwL1DgRdXjlatwh8R2MUNhBuCZEnAPQCL1ZY+LlqUueV6g+LfE2m7P18Cf88J8M5ZM9mBnh9+sgJelWDxhtmCC8CAObm7UpUeLzfeAd5y7e+TDdtXy5f9y7jPWLXLtiss3w6qLPju+tOguZ2kYqeH5NeRn/h3JfT39dtWSYeJ37sbnFo9SoR1RVHoTeiOxLFxBrweMXXwa9WqJRdffLFb6nTx4sWCv2jt2rUdfN1///3CJCKskVgeWWaYd5YjXrRokbDYBEDMes3qS+o5REJ+TCTgveyyy+Tll192SzgTpQAoPOuss2TQoEERtWMCGwuGREr4yXbu3NndmADTTz75pDDG8+fPD1uEiYcsC82qedzwPPzwwyEvtjVq1ChYliU+8SdmeebHHnvM3SBRtkuXLpl8dMuXL+8m6dEvLNM333yzPProo+5mybu8M1ZgXGo+++wz2bhxozvW77//LkWKFAlpyz333BM8BucpP2huvGhz4cKFZcyYMcF2Uid+0bjbPPXUU65v5G/RooXgu56fKdeBt25dkc8+C3QRqPPCEfCDS0K9eiJM5HrwwcALV4lOncLLEg3wMpGtdGmRokVFnnxSpHZtkblzwz92x5+WiZrly4s8/DBBv0VefVWEyXnqTxu+JaFbFXjrHLBGFS+eYYkGCv/9b5F+oZYeV8HNN4sAxJGAl8m6nEuANH1BI+rmd3Dg/AxpCJEQmjcXeeutQF58g9F3xYqQbCFf1q0T6dZN5IMPRJ59NqADriNVqohgPPBOGP7lF5HHHsuAXfpWqFCgDPq9915I1e4L/sqVKomodZ//Kc88E/Bxpoy+GK9atUSmTg20Hx9o9vEerl7+j3z5pcgLLwT6+vTTIjVrisybF36sM7csR1tyAryA3vSVo91jbu9BswNevTbOWDlGACkmNs1fO1XGLOoj/We3l7bjG0m7Cd+6Kkct7CW4DgCIq7YskZmrx8noRX2k54w/pMXoz2XysoyIJrNWT5CJS4fIgDmBOnAf2L13l7dp7jOP3kcu7Cmtx30tPw+vKU2GfShYnMct7p8pb1YbAF4s3KS5ayfLxz1eknLti7ibAEC46YhamYpzc4D1mwluWSXydZ78k/w0rLr8NOxDaTm2gQyf3012h3ERWLdtpdMNPZoMryG0C1/izTvXRzzE1l0bZci8v6TTpB+cvk2G1ZAmw2tKz+m/y5KNc4PlVm9ZIujYcEB554vNJEUm2uGr+/PwjwTrNvV4047dW52+zUd9Knv27XJWXvrTeEhV1z7aqC/0x+qN/y/tpq/s+3FodeHmwJ+Y5NhjeosD41bDnRf9ZrWVNVuX+bPm+ncD3jASM4nq+eefD9kDaAApo0YFHNZDdnq+ALmELnvhhRccDHt2JezHRANerOWkGTNmyOWXX+50v+iii9z3cCLefffdEYEXiypLQQN/w4YNE8a2atWqcvLJJ8sFF1wgE3wX+ClTpjjr62233SYjR46UqVOnCpEksPgz/rSNbVxsSCtXrnTbaOdPP/3k2sjNDpEmTjjhBAfB3jYzqZF6uaFif9OmTWX4zloXAAAgAElEQVTu3Lmu3LJlyxx4durUSV566SUH+oAgxyChh1q+aQtg27Nnz+AkS3yg8SE/++yz3ZMGAJobMxJA27ZtW+cjzfbp06cLi6wwMY52cDzK51fKdeDFCgtEeZNa+QBLIjcce2woHOImgdWzQQNvqcDnrIAXn1IAD59YoBBYo47zzxe5/PIA2HprZAIeYIiVlYljapHlnTaVKiVCnmiSAi/ARsKvtUCB0DqB22nTQmsjT1bA+/XXgf06+UvbePzxIrfdFjiO1sjNBFBMfUSyAOQBZSJqMA6XXRZ4oYXehGAhL1IkMMnQfwwiKwDq+OlqYpu2Idw7kxlJQC6WbmAVX+ujjxapXDmwj+gVWPv95XEHGXrgsT151V2Gsv6nTUzwo08aBULrog9Ezhif4QcbOGj8/sYKvAqt2gLv9+yAV8vwDsR+0fdtIWIDk9iY/IZPbIP+pWXh+pkOrpjkBWjV6l4imK9y50ddxAOAmDoaDazg9jExjjoAUYDRn4BdwIs8TKajbiCVY1K2y+Qm/iIRv3uBl0xTlg93Pry0FfcGXu0mBsBdKxm3pL87diTgxee1xejPXD24DgDOvLAc4wLCPm+oL8KANRxY3rX/y/5lZeXmxfL9kPelcudHpHaPl114sE97vSb4Wc9ZHXAxAi75zkRCjkF70YAX5bBWL9kQmOQ9fEF3qf73sy4P/VG/bC3DxLR5a6c6qB2xsIe0Gd/IjSd1V+z4kOzau8O5dqzcvEiwDOPyocdictu3gys7n2DGhZsatvH6oOvTbvxVt3379zmoJ9oFOui40Q7a3HBgBdd3zZ8X7wa8YVTmH4H/4s8FGciIJuGfiWsDQJEMKVGBF+0IT4YlFO2xnONy4k+RgBfLO64oWIgVGrVs8eLFXZ2U1YSFFIsrx1q6dKludu+lS5d220877TTZRVzPA2nWrFmCS0WTJk0ECyqJdxYpoR5Am6cEJL3AcBwAGeju5YsWUL16dVcO9xnKk0/bTnmsvfxo2ffaa68FgdYdQIhAtUBuuukmqVSpUtD3mXJAOOHbPvjgg2A7KIM1G7eRM844w1nBtZ68fs9V4G3WLAA1wGe4dOKJARjDGrtmTSCm7sUXZ4AQE578KSvgxZIJ3AE9gwdnlMTCy/8QQpppwhLKhDIFJeL6cn5VrZqxDbgbMUJLZP3uB15yc1N31lkZ9XGsl18OtRwDrZGA99tvA2WBcdqO3yz+wETDoC766p18iRVVwR3QJQGrTCzVfnI8omhgBSX99VcGIBMJAw2wEGt+3mvUENFwg+xnNUxvv4BmtvMiYWGnnBeO+Qy8ayK6hXesaTft96YbbwzUo1Zz3QfIc5PCMW69NfDUgHjMF16Y0W6svbmUYgXerJoRC/Dq/7FRi3o7yFFQ/Kp/WanX5y0HRw6MBlWWmSvHOquiAiXgg6WWhPsAcKn7SrctJF2n/uL26THwJ200qKIDqhrdXpDRi/s6K2jAehmItABQeSfYZdVPP/Du3b/XWZ6BSO0Hn4cv6BasJivg3bNvt7Na4/JAeaI4YNFtO6GRAzy2lW57TxBcmThGG4DIkq0KyvJNgaeMSzfOk1Jt7nR1APa1e7wkXw4oKzv3bJN//tkvQ+Z1kbdb3+F8jScuG+La9seYL4JtBiD7zW7rtu//Z5/7Hw/4Mg7oW6vHi8IYoyttJn3Rt5SDYW4cgGKg9qPuJUImrc1bM8VNVqSOgOvHvQIka8LN5bM+b7qwb3PXTgleW2jDsPndpErnx9y+30bWccelTarzO23vlt4zW8refXlnaDHg1ZHL5h0rIZBB1ICsEicUfpnktaWFs1Iq8z6skbg0qIVX/+mxjDN6EqMX8PQ/fo8EvMTjpZxGzND6OLICKQC7CiuYiJtAxjGwnAKt5NcyuESceeaZrj6vq8rgwYPdREcglqT5582b5/JiKfYvQEJe+ukHXi1LPYRYo+333Xdf8JzT/V27dnX7iAbCcbypX79+Qp+w/GoC/IH+q666ShYuXKibXVvREl91jsWEzfxKcQNeLyB5P2OliwS85OPGxzuhq2RJEY10ABCPHBkqTVbAq4BE+XLlMsrhNoHFmEf0mogHrO0k7+7Axci5MWAd1X2ffJIBclo23LsfeNWKjWuEF/yol2gW6soSCXixBGsbrr8+ALt6XC8o3n57YCsA6QXbNm0C23FXwMKudQH/3kQ+xgjg1zZzM4DVV8v4w6sxUdALvLiLaNI6+I6uaqVFg4YNA7k0z/33ZxwD4PX/Dm64IQD13smza9eKXHttRrklS/TIgeNpmzleLqX8Al7tDjP/P+39upvQFbAi3i8N+r0jWDC7T2/hQBC4Grukv7PeAjpe4KUeAFBjwLJv2PzQ6CkdJjUWQJj6gSNNuDIEjhmoM1q/Yi/w6v9TrKe4B2h9tJOIFAAiKSvgHTy3s7NoB9whMibLEtWids+XHfQCnW3GBc65VZsXOwst+bGort263B0D6MO6y3Zi4U5dnnGDC/R3n97c+RGPWdRXJXBuJbSVdgPQuHh408hFvUKA1xuVQ/uOm0Td3m8csEoXcRZ5b5QG2tdwwLtuP8eiL0CrpiUbZkudXq86ay1wrmnFpgVSs3sxN3b1+r4lhHgj7d23W74d/J6rh7q+G1RZtuwMuOxp2dx8N+CNUl1A4qijjnJQQEipcImTCL9QrHoARHMsFEmQEtnCqz9MfZSPtferr74KgiXyhgNefKsZL6yXrVu3FlwVcF/gndBzn376qRsjXAvUAqtWXKyjaq3V4WMCorpXKPBq2zSPfgfc+/bt6+rHKu0HXi5UuBGceuqpmSy8WgcT9TiHcDXAR9ib8BXHb5n9uDBoW3kqga85+3Dl0IRfOXlvvfVW5xZByL1JkyYJsI5lGp9k9r8Xzj9RK8nl97gBL2Bz9tkiQCeABqwomIUD3iFDAvn0ET9+orgkvPJKBiACvB5faCdFVsB79dUZIAT44KLDqotA0X33BayZVILvKz6qCkdAIGHBsMjydKhgwYx9WFTVcpnVWPiBl7wKdlg2/dCLzywpEvDil6rtAwxxA6B93Gh53QHw6SX17Rt4lK9lWKSDxPmIv6xuvzfgRxnYKSI//xyIoqBPcPgfC9CyAIaWwa/ZG0/YD7wRfPKdP666SXiBVw+OnzauGXoczh39zbVtG9BMIVi1/PHHjDJANzHD0WXmTBFW41QLNxbgXEr5DbxYJVmdiwgGComzw8ToHb24TwjUqoVX/9cBPpQHeIfO6xpUi4gSWDupHzjsNeNPARgB7fnrpgUBFTj1lgtWEOaDF3jZrW1Yu22FcwtQ6MWiWa9PSQek45YMCOvSgL/t94OrBOCt/b3Oqrti80JntZ26YqTU71sqCIpESiAt2zhP3mxVwEFt9b+fE3x5SdwYfNzjRWdlxfLZadKPQd9fgLf9xO+cn7TLLOJgl+N7gRc/am/yAu8nPV+ReWuneHe7z5t2rnfuFYwBFl5cULzASyZuJjJ0KeJ8gLWiwXO7ONgGxGknae/+PdJz+h/OIk29uKPg703fF62f5SKElGlXyB0Pf2AiSeRVMuCNQelXXnnFgQGPncePHy/4XGKtAy54tM1j46efftrlYRLViGgfQ8bQhtzImsjAq/3FSslEK8AMayUWV10gJBzw9ujRw/nd4hqAdZ7JavoC8JhchlsDfrcKsBUrVnT1E5VD69bjDxkyRPAjBrgjLRaBpZjjVq5c2S0+QlvDAS+AzT7cCPwuDXo8hVSs3X7gJQ/xe6mDSZTqYsHxudliops36Tn5n//8x01mUx10chu6ckMBBPv77a0nNz/HDXgBG38cXsAI/0s/8Cq8aMdwY2nXTuSJJzKABQiKFXiBRLUoKkThP/rNN6GxcImZi5+v5gFwH3ggMMmNdyyizCXAIqw3MP42a9v1PRzwsk/L4bahlmuOC6zhZxrOhxeLt4Y2oz/cODB5i0ldwC8Ai6b4QDPBi8REML3BoH5ChZH8wEt5Tdo2vmNxpq7vvxe55ZYMbagrK+DlmOgZLnkXnggHvJTx+jljhddoFpwL+FH7F8F5882MtpEf4FdduInhhgh3Bm4AciklGvB+0beU66lCpHY7EvDq/kjAi68vEAbU8ci+Qb/SboIUk66YGMaEL17dpv0mW3eFWVhFD+B59wMvu7S9C9ZOc9ZKjscL6CU/rgJAtd+Hd87/t3fusVZUWR42UaKJHaP+qYkBNdH4QjTxAZgBHUajUROV+UdjxweMBtQ4k9ZRR6GhHRTHHmkQdcTHDIMoDdo2TTOgou0TxREQGlF8gDI2D6ERhMb2sSffPnedu29R95wq7jn31K7z28mh6lbt2nvXb9e9fGfV2mttXOYBkXoekF8Y6cfF+FhUx7X477KYD39XCi4M//D0IF+fbHe2cCsEXmDw+fcfdd9+3+k6Z7fAYsF1W1e751dM8z69WYAXDe9fdIPb1GFNtrbYhoknksBruny57TPv44sPLv3h8oE7yp93bXL3LxrtXRq27Ky8JeUa4v5iFcZyj7UayzXQiy4sbHvsrZ97XVjUh0uE9ROOq1n7At4MytqEABZmaeSVNCAFkFx++eUecEiRC4QQRxZLW3eW4Axd9mqVogOv6c/iLrNsoj9RDChpwIsV94ADDvCAmlVMIjOwOA1fVxaXhQVLKNZioiwkXSqI0IEbC9ZYYJpFbuYy0WjgNS1YgNevXz//vLEAjUKkiKOOOsovzONnq0skB1w1kiAc3l+4b9eFx5q931DgBXCsGEwBNMOH29Gu2/XrnWPVPzCHX2rfvhVLrFkF8wIvgJ2ENYNaoI3X/hSspXacbbgoq+sIKz/ZvaSds2PdAa+dx/UGHcJ+sWgS5QRww0pphX38bKmb5ttq9cItVlYs69b+NddUzrLIE33teHLxF6BLDGD8ZE07/GJrWXjx4bU5YkEg85hWQuDlPqZP76xlms6c2Tk2xshCQeCdLyRY+ylWFxco4Nbuxdw5OlvtumfXdT3a45+KBrwATFrZW+B9/v3/8IAFZBEXmAgRtUqWv1tpwEubdu0HG5b4xWf0iWUZKAXkgbxkWDKiTWB5ph6pi99ZV//LzcbtX/jkHQDyiJkD3bL1r3kfXYCXBXjm6mDZ7GxcWE1Xb/hfny2OyBKMDzcM/JfZx6UhaeF9YfVMD52ALIvaNu7oui6F++4KvOc43A/SomRgcTY/Zay9WJzxz8b/F1eTMD0zcI8vMP1e/8zfuDnLptaaNn/O7rNuxR5WEPBmFNAmhFflgNHxxx/vYQPADT8ABz6ntjrersvYTUuqFR14Q1GIkmHas1iMRVwAXTIsGREJAF5Az8J6he2k7WOtJ2QZ84kVlAVgFKIqsJiNY/jAhnOKtZYwakR8wOpq6ZCpRzuNBt5w3DZWooLg1kBMaKy5yWIuNsSOLmppGvDaDWPFTIuLjasBfqJALQCDflgYCV1lr7nzAK/BDV9C8Dk1KAq3NkdJ4MWqaT61Nu6823rAS3sA+aBBXceG1ZfX7yHwopcBL+M3t4V6Y8JH1rQjUgEav/RSp7UYi7BZrGkLzZ57ruKGYpZxwJdxEm3CtEtaeInAYOeyAi8L7ADZZMGafdJJne0B7bhdUD+ZjAN4D/1+iQPcglI04MUqmVb2FnhJhlABz79zt/zmoj38e9P6qnesO+DlOvu7Tgg1gNT6ZosV+vHFXcOSAauEKwN4OZ8WYSI5HtwFWJhnkDr11Vvd1l2b3JufzfewiyV77orHq+4MlXH94MN94RMLRALGb346z/s/E+WBsaYB76z3Jvk2swIvsYinvvbP1UVtoSYk5cDdgXEDvEA3XwCIHEFkjrDuN99u9xnbsAgzLsKWmQ+vr9jCfwS8OcS3Xwhe+/LHBh9ILHuElmLLYiJW99srb6ufo4uWVI0BeEMt8Y0++OCDPVDifsDCrlrAWyuGb1JwsuMBiCwII7QYbgAANT6/BsB2DW4WwCZge99991VdCzgP+DYLeE0L4ucSDQRfZazMJEzBskyxOuyfffbZfizcR3jcVyzIP00FXoPQijBd7xj4MmgCcgzESEdroabyAG/YB5kW8fXEncH6sC31CN9lP7MF6Fio1ZMCXNKWhSUL2wp1IBYvob7C/pPAC3Bi9bU6Rx3l3OrVYYtd9619oB39gEWuBUaxIGOtZV0DC9goVh8dhg7t7IcIFfgrEyaP8GLWfxJ4CRFp57ICLxbhZPQcGwd+xNae+eDinsJiNavDuBk/Y7G6bInY0MulaMBrfqpJGWoBL36lWDUBqaQP77yVT1ShkzrE4O3p3y98Ri0Ob3Kc9jPWyrkrHvPWSfNdBQaTwIufLmHZAE4+WEezFCygwDxh2kjkweI2YBJ/YPyFLWqB3Sv+xViS0QCLKrF9reDm0R3wPv3eA7mAFzh96PXbugCv9cOW7Hz0z1zdNOdc72bybDdh5PAZZry4NADo21ISeoRt99a+gLcHSvNAYlkDgNna4iGatIe1B8332qUxAG+oKdreeOON3l3Bst8lUwuzQA0XE85fi79dnWLzRRa0/v37e5cGvrjg34srC24MVse2WHdxKyAqQjIEXTOB124FyGXRnYE1++aPbHXY4lNMHb4U1IsjHV7Xm/tNBd5aN2Kr/AEcwoNZIZTZ3gIv8WUtgx6gRPSAEOgAJAqvxqkbglNoYaUOLggko2DxVxhFotLCnv/iM0t7acBL7RDcgHGzbHNNEnipT8puGx/uHsS0TZapUyth1Ow4bg3E+iWVL/BLGDM+LERLuwcWBBIH2fqx5BSEIMsKvFzb8UbGhlHdhi4NacBrFYFss0zbWAgzllbwq7Y6bPHbTRZi9HbEFE+easTPMQIvr8Vf+6RzYdoLq5+uhu9KAi8uDMAc0Im1kPS/n23pmsKbyADT37nHLf0iCP9XQ9x/XXCttzp2V8X+trOQCjgGAuk/DXiJxMCiPfNtpV4y7fJfvtvpLaFLv+h8q4APLhbS36/8T+/vSqIHXBoIkUYIMoqNg/3XP/2dd5mgn3Hzf+o++6ozq2MW4EXD8fN/6heOJe87dGnwwPvansBrY8GnmgQW9iWAMHEWTcLq0D5xfPFhpj3gmLBsuD3Yojbq8KVi4QdPuf9ZNd3XT46rWT8LeHMoi08ufqNY+7DoJTN1Ab74SbKYLaZSJOAFIFlE1V2xX6zt27c7y8QGzGGJtWJ1Bg8e7EGP8F8vv/yynfZfTIhowCKt4cOHV6Mo3HXXXb4+Fl6AmT5YMBZ+OGaLxIiWYH60ZFWj0DfnWQzHuIiMwIJGng2L7Yx/MOeAcbKnUQBqLMZWbNEaKarTFq3ZPZLRDd9i2rKwYnbO2rIQafSJv3kYy5h+cb+ZNGmSd8mwa3p721DgJctV1hKG/goTUxCxwiyUQCFWQeDNXA5qRWnAEhq2xVh4/U7CBeDI4vqSGpe4tiE4cQ4rKOd4ZgFl4uPOm5cOi8n7xDeW9rJoAHxecUVn5IY04EUHczOgXcbCokgs4biJ4N/KcTLZUbDW2gIwQrvxTONmkfwQCcMSnQC89G06EJOXQsQG3D/sOC4VfEmw35PQpYE6hHgD6AHlMJIOWpivL19sbEFapZfOf9GDeMLWHy4N3f0tZ3FjCOloBOAD+2gAZNMXz0mTSquBl5X3LEjilT5gg9UyrQCuvPIHlLD6TXzxesdCqKXr/+ATT3iLYcdCsdlLH/Sv6glfRSFygUEvbUxYOMKt+HKxh6S31y7w4Ii/6IcdCRrS+g+P3b3gmprAS137+0niBSAb0EwD3t1/3eVhlnuye8Dia1nMPtjwro9LDMgbkJNkAr9b2iTqBIvtWIiW/BDL15JVEKoNH2F0INlH6MtciWKBy8VQN/PdypdR4JliLg1chw80FmmKb7sDrAFeFrRh9eY+7n3xulQfXtMEwLZ7ZeFgCLG+cR+H/nv3xifzHNEmrC5b0hwztq+++dJniiOJyO9WdnXfsDaatRXwZlQW6y2WQqDBPnfbH/mONqhD/FSAzR6QjM23tFqrgZcvEkAdAIq2gCqQCDim6WjHAEcDzhB4TUyyqh122GG+TSIiPPbYY2758uU+mgYhuIi68OCDD3oApk0WpOEeYPObtsUnGF9Y/IJxfzjrrLN8fZI9sGgMSy8LFsl2tv/++3vXCFwP8O+dO7cSY5LrsLbSPpESiOZBGDLzv8VKe8899/jzLM5buXJlquWW+yTMGv2wUJJ7SxbTaty4cd6fmT4vu+wy3yft4o6DbzJgzqJAil2TbKuZP+cGXuAEKOSDdc2gDF9UUgIDRZxLsyiGN4Il0gAHay8LmghTBbTacVb24+4AfBHGjMIrbeuTSAYkmDDrqcWhJUqLwRkL1WwxF9ZjK/j64udqfSW3ZPHCUmjF+rCfwy19EQmCNoBDgNIAPazHvrWDNZXFYVyTBryAbWjlTY4PH19CplkhOUSyTtrPxx7bmcGOkHB8YbV6LKLjWSbaBoBtx4mWgO8svtEUXC7MQk8dQr7hb3v99RWXCuqgAZEkrA3mEut3mKa40lrlX+7X4Bi3jO4K1mBgNox4YX2w5dmwBXumdXdt7eXxRgAvr8+xkuJ2AJiZ9Y7X0MRb3fXXHY6MWcnC3wiSM1DPoIa0tbSFxdKK/S1h8Rf1KtD7t45sX+w/896kKtDyih9fXV7zA4PAFOltyf5l1wKK1z19lr+e+LwkPUgu8LK+wy0WRT4ALD6tpDI2MAzrJffpn6xlWCtDlwa7L2L12iKyinbDvCsESSUYJz6ulkoZXR5+7faqqwQQiw7hZ8TMMz144h5B/GL6MUs3GgClpG3+4s9rfBQI05VzhDnD4ow7Bve6+LMFvj7n+GAJf+/zV9yvXvknt3HHeh8+bN2W1T4pBZrgfvAvc//e4ULBIrm0Anxzn4D9ex1WddMirE/ItMl/+FnV+k3/aMi9kkADUCfdsM1BWhthe43aF/BmVJJ4p8DCgAEDfKB+gCUtbik+vAMHDvSxYjM23fJqrQRe4I4EHcS+PeWUU7zGuCIQ7WDMmDHeip72y2DHAEzgkhi5YbHzhI8j25r5/DKHwCFWXAA7LLgIEHUDizCWX9JL2wdLK2BoQPyzjuQBs2bNqroV0Da+vywmI9athbHDAmsLyxgXCx95dojFa9dcdNFFHqCB+NGjR1eTXHAeH2WAtbvCIj4Wx9UqfBlDT/uCQLt8+vbt2+U5Nt1qtdWMc7mBlzBRWB9ZLQ/EhLCBRZaQWbfcUsnGVQt6SdDBs2PgglUOX1MWTZmP609+4hwr8QEg/EYBKupZn/TPebNMkpqWc6zw55U8FkWgC4i2zGMGQQAZVn4gj8VP1ibXAtWhi4Ndk5wA4vnyZeq22zoXXgGvZFMjkQOxYdM0sPYATqzPRKcAIq3YeSzNQDHWcIN8xnrqqZ1ht6wu0S7MFcTupdaWLwqMDWhmzNY+rgVEk8BSiv60gS80CwzNB5f7vvnmzoxv1OMeiGeMLzTPCBbocOEd7TCvGCvSkghhecYFit8ni9Ri95bUhfZJocyXEnsGCX/HFwR0b3LpKfBiVXzz09+7xxeP9z6kgEwF2ioRCvArffTNMY4Yq7xut0K4LGB4wsJrqyv3ARqAmRS5QFEypBaAiXXS+gASaZcFXEAuWdrYf2fdi3ukmyXsGK/yzZqJZZC2Hn9rvNvyTWc4LBtfcrt15ya/6ItsX7ySZ6wkWyB6ADC57S8dPuXBhfZ3EOgGzLhuxrv/FtTo3CWjGKmWCV1G2waEhOEiLq8VIJR7IeyY1TM9wi3ngGHaI8QXhaxq+PFireUDcD67bKqHXtxE8K3FckwYNBJ/UCw8GOfQjPmZ+OJ1XgvO4yrxy0U3+vbo049p9rluyqv4Er/k20j+wz38fP6Vfp6T55I/f7J5pa93+28vrT5XzCEWfnyVrZjW9nMztwLejOpiycMat2LFCm9tmzBhggeT5OW8usY6BxBjYYyhtBJ4eb2O9RMgJJwXFnIspHfccYf30wVYu/uFsOPTp093t7LQJVHsPOlzsbLiskAEDWL4Ap0Uq4O7ATF0+bJC/2kFS7TFAgZQKcw30H3vvfc6ngkynHGMggWV+yHxhR3zJ/zb2q3eqktfCxcurPp/83zhmoAmXMuHjHFpX65s7LhrYF2m2DHrJ3mMhZa449A+XzRw3bCSdq2da/Y2N/DyOh3fVoCSLwMAqn2YP8CSZAFEB+jOmmcgA3Txmh4IwsLL63cKll7afPjhTvgBeIEw+rD+6J9kA4Ar8EZ9zvF6nOeSL0cPPLBndADrn774W0FkiF/8onItvrgseqOE9SpHuv5L/Fnri7HRN+MDgMkyxrNRTwMiF9Bnx+9FtQPrmxjFgDsa0Rdj5dU9xeqwz1iAUKyxtUCXc3zJsJjJWKdnz67cP6mZO96G+MVrfNGgT9yGLLWw9YnbA3pz3+gfAjtfaHkGwrlCG+rSbzK2LuNn/ni2rH9/gyn/WP8kwiB5B2OmH5J7dIRL9FdZvZQmenqop8CLFY6kAlgE56+a7v0s8bW0D8eIGIC1ldfgVvBvfWXNc27eyierdbmGegAdr/TDuLj2d2XZ+lfdgg+ecgs/mFm1yn6xdY1fhPXl1x3PknWS+Fu2ZtNy3y59EG5rybqXvBWT6tZ+cGmXXayhc5Y96Me2YFXl/ub/8b/8fdPehu2V1O9dLgraJRscXww+3tT1DVrYL5ZSFpMtWPXf/v7wdyWLmRXq8iHRxKNv3FX9ohCCbnL/mqdO9/F7uY4oB4yBcS/68Nfuo00VYw3t8TO+0H/809t7WGYJg/bi6mcqY1q7wIchszEx98k5ZB5ZLJiWyMPuF/cMS2Jhx6xNtuExFqvxxYY5p22ejc+3flStHtatHmzijoA3o7hYEcOMWbwKJjNXWnn++ee99cxWzKfVKdKxVgFvox522jGAzaOr9c92xowZPuIBfsGhj6u1Z3WnTJni/WWvx8qXs9CGtZN2aa1z1E87Hx4L95Pt1zrXXfP8i3QAAA6LSURBVNvJNpr5cy7gbSRE5GkrT91aYoXthPtp1/T0fFqbyWPJPur9nLw+/JkIBkAmbh5AJZBKyDE+WMCBastEh1WU+Ld7W5LjtHY43t05q2PbsF64n3bejtk2rb6dY1vvfFh3L/Z7Arz1/h50N5w81+WpW5Hrxz26rddGT89bh921kzye/Lm7cae1y7Ubtn/unlg83vs+v7rmN27Fl2+69//vDf9hn1TFY3zGtXN87F9cSvIWG6Nt066vdc7qp9UJj4X7dk24rXW+1rmwjUbvC3gzKkoUACyFVnBxSIMeJpKFSLwuxmc0htIq4G2ENuEvTrifp22iMViWNfyyayUMYZEYcxsugsvTl+qmK5ALeNOb0NFWK4Df7eDBFcsub0CS1mIbH+4mWHhxBVDZawV6Arx73aku3GsFlq9/zS/CG/3rc3wmtbSGtu7c6H1sr3t6sJv25pg9XEPSrtGx7AoIeDNqxSt2FjhZ6Q54t2zZ4n0ugSJetcdQYgbeRuiLuwGuBczZ6aef7mPaprW7YMEC7/9LBAaVxiog4G2sni1pjRjQ5sbAwq/77nPOQozhU8urf/xyCW9GBAyiKlCabAltiRa90KmAtxdEbmAXT7/7S79wi4V3+DC/9OGsakguFga+vGaO+9Ur/+gjLhDHFncElcYqIODNqCdJB/bbb78q9GLFJbMVBf9PIgoQpuz888/34HTcccc5/E9jKO0MvGYVJnLChRde6OeOBA3z5s3zYcII2YVfLYvU8MsOw4/FMLexjFHAG8tM1RjnunXOnXtuBXptEaABcLhlgZ5gt4aQ2U4JeLPpVJRaf9q+rsviQCIuELmARWyEXGPRGFEX/v3lm6qL3ez/p6LcQ+zjEPBmmEF76IDcfffd16eRBYqGDRvmFyRhHSSkFBZCPkQBIB5vLKWdgZc5svklxi5zzII0kjgQ0oxU0aQOJpNecuFZLPMbwzgFvDHMUo0xmpWWRBmERiMqxYknVvx12RJdgcVsJNCwYtfYz9rmUkDAm0uulla2/2M27/jS/fb9aT6F770vXOezs92zcIQPNUYMYsKcWbFr7Gdte66AgDejhvbwsVgN6y2hpgxwwy3/cYchpOy6jN20pFq7Ay+iZ52nrPVaMpERdyrgjXjybOh5ADZPXWtf2y4KCHi7yFGqH/T/THOmU8CbQ1d7CEmKMHHiRDdy5EifhODqq6/2W0JrvfVWJZsJzVr9HF20pKqAtyWyq9NAAQFvIIZ2pUAGBQS8GURSFSkQKCDgDcSotUvEhdmzZ/sMVVaP1f07duyofuw421hgl7EKeMOZ034rFBDwtkJ19RmzAgLemGdPY2+FAgLejKqTBeyQQw5xo0aNqnlFTKBrNyLgNSW0bZUCAt5WKa9+Y1VAwBvrzGncrVJAwJtRebKs4atbxiLgLeOsxnVPAt645kujbb0CAt7Wz4FGEJcCAt6M80UM1j59+ri59VJOdrgzTJo0ybtAZGy+pdUEvC2VX5075wS8egykQD4FBLz59FJtKSDgzfEMTJgwwR100EEeekk/i//uzp07u3x27drlPv74Y3fGGWe4yZMn52i9dVUFvK3TXj1XFBDw6kmQAvkUEPDm00u1pYCAN+Mz8Mgjj7j777/f9e3b17s2XHzxxe7WW291Y8eOdWPGjOnyueKKK3wdQpjFUAS8McxSucco4C33/OruGq+AgLfxmqrFcisg4M04v2TYCuPtZtmfNm1axtZbW03A21r91btcGvQMSIG8Cgh48yqm+u2ugIA3xxNwzjnnuMMPP9w98cQT3j931qxZLu0zfvx4d+CBBzqswjEUAW8Ms1TuMcrCW+751d01XgEBb+M1VYvlVkDAm2F+LdQYaWdPO+20uld89dVX7rzzznNTpkypW7cIFQS8RZiF9h6DgLe95193n18BAW9+zXRFeysg4M0x/yxUA2QpBsHh5eGxRYsWucWLF4enC7sv4C3s1LTNwAS8bTPVutEGKSDgbZCQaqZtFBDwdjPVwOt3333ndu/eXf388MMPvnYItmmXh+fD/bS6RTgm4C3CLLT3GAS87T3/uvv8Cgh482umK9pbAQFvyvwDth999JG7/fbb3YABA9yJJ57o8N996qmnHO4KZSsC3rLNaHz3I+CNb8404tYqIOBtrf7qPT4FBLwpc7Zu3Tp35JFHpkZluOSSS9zGjRtTror3kIA33rkry8gFvGWZSd1Hbykg4O0tpdVPWRQQ8KbM5N133+1h95hjjnFXXXWVu+2229yoUaPcsGHD/PErr7wy5ap4Dwl44527soxcwFuWmdR99JYCAt7eUlr9lEUBAW/KTJ5wwgmuf//+ftEZmdQo33//vVu7dq0j29qhhx7qXn/99ZQr4zwk4I1z3so0agFvmWZT99IbCgh4e0Nl9VEmBQS8KbO57777umeffTbljHPffPONu/rqq924ceNSz8d4UMAb46yVa8wC3nLNp+6m+QoIeJuvsXoolwIC3pT5BHi3bdvmz4RRFthnQduMGTPc2WefnXJlnIcEvHHOW5lGLeAt02zqXnpDAQFvb6isPsqkgIA3ZTb79Onjj4awG1ZbsWKFGzRoUHioyz7uDyNHjnSAZAxFwBvDLJV7jALecs+v7q7xCgh4G6+pWiy3AgLelPk14E055Q8tXbq0poX366+/dpdddpmbPHlyd00U6riAt1DT0ZaDEfC25bTrpnuggIC3B+Lp0rZUQMCbMu24NACtW7Zs8XF3ib1rn82bN7tnnnnGjRgxwieksOO2JRvbkiVLXL9+/dxDDz2U0nrxDgl4izcn7TYiAW+7zbjut6cKCHh7qqCubzcFBLwpM77PPvs44u1ee+21foEai9TsQ5iyoUOH+mQUuC3Ycdsi6AUXXODDlz366KMprRfvkIC3eHPSbiMS8LbbjOt+e6qAgLenCur6dlNAwJsy4wBvIz7Tpk1Lab14hwS8xZuTdhuRgLfdZlz321MFBLw9VVDXt5sCAt6UGQd2jzjiCHfDDTe4m266Kddn9OjRbsiQIbLwpuiqQ1KgOwUEvN0po+NSIF0BAW+6LjoqBbpTQMCbogzAO2XKFH9m9+7d3lc36/bbb791q1atcvwHPnXq1JTWi3dIFt7izUm7jUjA224zrvvtqQIC3p4qqOvbTQEBb8qMA7zLly9POZPtEAveLr30UkVpyCaXakkB/wVx/fr1UkIKSIGMCgh4MwqlalKgQwEBb8qjcOyxx6YczXdo4sSJ7sknn8x3UYtqy8LbIuHVbVUBWXirUmhHCmRSQMCbSSZVkgJVBQS8VSkqO5Zsgq3tJ6rU/DF53d60UbODJpwU8DZBVDWZSwEBby65VFkKOAGvHgIpkE8BAW8+vUpZW8BbymmN6qYEvFFNlwZbAAUEvAWYBA0hKgUEvFFNV3MGK+Btjq5qNbsCAt7sWqmmFEABAa+eAymQTwEBbz69SllbwFvKaY3qpgS8UU2XBlsABQS8BZgEDSEqBQS8UU1XcwYr4G2Ormo1uwIC3uxaqaYUQAEBr54DKZBPAQFvPr1KWVvAW8ppjeqmBLxRTZcGWwAFBLwFmAQNISoFBLxRTVdzBivgbY6uajW7AgLe7FqpphRAAQGvngMpkE8BAW8+vUpZW8BbymmN6qYEvFFNlwZbAAUEvAWYBA0hKgUEvFFNV3MGK+Btjq5qNbsCAt7sWqmmFEABAa+eAymQTwEBbz69SllbwFvKaY3qpgS8UU2XBlsABQS8BZgEDSEqBQS8UU1XcwYr4G2Ormo1uwIC3uxaqaYUQAEBr54DKZBPAQFvPr1KWVvAW8ppjeqmBLxRTZcGWwAFBLwFmAQNISoFBLxRTVdzBivgbY6uajW7AgLe7FqpphRAAQGvngMpkE8BAW8+vUpZW8BbymmN6qYEvFFNlwZbAAUEvAWYBA0hKgUEvFFNV3MGK+Btjq5qNbsCAt7sWqmmFEABAa+eAymQTwEBbz69SllbwFvKaY3qpgS8UU2XBlsABQS8BZgEDSEqBQS8UU1XcwYr4G2Ormo1uwIC3uxaqaYUQAEBr54DKZBPAQFvPr1KWVvAW8ppjeqmBLxRTZcGWwAFBLwFmAQNISoFBLxRTVdzBivgbY6uajW7AgLe7FqpphRAAQGvngMpkE8BAW8+vUpZW8BbymmN6qYEvFFNlwZbAAUEvAWYBA0hKgVKA7x33nmnGzt2rP/Wu3btWqdPNg34o4l2N998s9uwYYN007PT68/Atm3b3NFHH+3efvvtXu9bfyey/Z2QTsXTacmSJa5fv36O3x/NT/HmR3NSrDnZvHmzGz58uJszZ05TIX2fprbe0fisWbNc//793cknn+wGDBigT0YN0OvMM890AwcOlHYZNdPz1djfL35vhwwZ4k499VT93uoZ1DOQ8Rk45ZRT3NChQ/3/e/qb1Ni/SdKzfHrCOieddJI3rDSTSZsOvD/++GMzx6+2pYAUkAJSQApIASkgBUqgQDOZsenAWwL9dQtSQApIASkgBaSAFJACESsg4I148jR0KSAFpIAUkAJSQApIgfoKCHjra6QaUkAKSAEpIAWkgBSQAhErIOCNePI0dCkgBaSAFJACUkAKSIH6Cgh462ukGlJACkgBKSAFpIAUkAIRKyDgjXjyNHQpIAWkgBSQAlJACkiB+goIeOtrpBpSQApIASkgBaSAFJACESsg4I148jR0KSAFpIAUkAJSQApIgfoKCHjra6QaUkAKSAEpIAWkgBSQAhErIOCNePI0dCkgBaSAFJACUkAKSIH6Cgh462ukGlJACkgBKSAFpIAUkAIRKyDgjXjyNHQpIAWkgBSQAlJACkiB+goIeOtrpBpSQApIASkgBaSAFJACESsg4I148jR0KSAFpIAUkAJSQApIgfoKCHjra6QaUkAKSAEpIAWkgBSQAhErIOCNePI0dCkgBaSAFJACUkAKSIH6Cgh462ukGlJACkgBKSAFpIAUkAIRK/D/VmUcP2gqMusAAAAASUVORK5CYII=)"
      ]
    },
    {
      "cell_type": "markdown",
      "metadata": {
        "id": "389E0q5I8IKr"
      },
      "source": [
        "We have got the probabilities from our classifier. \n",
        "\n",
        "We can use various threshold values to plot our sensitivity(TPR) and (1-specificity)(FPR) on the cure and we will have a ROC curve.\n",
        "\n",
        "\n",
        "Where True positive rate or TPR is just the proportion of trues we are capturing using our algorithm.\n",
        "\n",
        "**Sensitivty = TPR(True Positive Rate)= Recall = TP/(TP+FN)**\n",
        "\n",
        "and False positive rate or FPR is just the proportion of false we are capturing using our algorithm.\n",
        "\n",
        "**1- Specificity = FPR(False Positive Rate)= FP/(TN+FP)**\n"
      ]
    },
    {
      "cell_type": "markdown",
      "metadata": {
        "id": "vTlklv_W6t0I"
      },
      "source": [
        "\n",
        "![image.png](data:image/png;base64,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)"
      ]
    },
    {
      "cell_type": "markdown",
      "metadata": {
        "id": "cHGz_dIo72Sp"
      },
      "source": [
        "Here we can use the ROC curves to decide on a Threshold value.\n",
        "\n",
        "\n",
        "The choice of threshold value will also depend on how the classifier is intended to be used.\n",
        "\n",
        "If it is a cancer classification application you don’t want your threshold to be as big as 0.5. Even if a patient has a 0.3 probability of having cancer you would classify him to be 1.\n",
        "\n",
        "\n",
        "Otherwise, in an application for reducing the limits on the credit card, you don’t want your threshold to be as less as 0.5. You are here a little worried about the negative effect of decreasing limits on customer satisfaction.\n",
        "\n"
      ]
    },
    {
      "cell_type": "code",
      "metadata": {
        "id": "Ah1R4kBDAEfK"
      },
      "source": [
        ""
      ],
      "execution_count": null,
      "outputs": []
    },
    {
      "cell_type": "markdown",
      "metadata": {
        "id": "qTpUByUZAEo5"
      },
      "source": [
        "# How to get the evaluation metrics values of our model?\n",
        "\n"
      ]
    },
    {
      "cell_type": "code",
      "metadata": {
        "id": "juW7W1F-Csl3"
      },
      "source": [
        "from sklearn import metrics"
      ],
      "execution_count": null,
      "outputs": []
    },
    {
      "cell_type": "markdown",
      "metadata": {
        "id": "aKbmaT1PAaQI"
      },
      "source": [
        "### Confusion Matrix"
      ]
    },
    {
      "cell_type": "code",
      "metadata": {
        "id": "ASWg5dbSAgeo",
        "colab": {
          "base_uri": "https://localhost:8080/"
        },
        "outputId": "77add44d-9642-48f3-94f1-c5de44237182"
      },
      "source": [
        "# IMPORTANT: first argument is true values, second argument is predicted values\n",
        "y_test_pred = uni_test_results.prediction\n",
        "confusion = metrics.confusion_matrix(y_test, y_test_pred)\n",
        "#slice into four pieces\n",
        "TP = confusion[1, 1]\n",
        "TN = confusion[0, 0]\n",
        "FP = confusion[0, 1]\n",
        "FN = confusion[1, 0]\n",
        "\n",
        "confusion"
      ],
      "execution_count": null,
      "outputs": [
        {
          "output_type": "execute_result",
          "data": {
            "text/plain": [
              "array([[140,  15],\n",
              "       [ 32,  44]])"
            ]
          },
          "metadata": {
            "tags": []
          },
          "execution_count": 46
        }
      ]
    },
    {
      "cell_type": "code",
      "metadata": {
        "id": "shMXwQJZCjtt",
        "colab": {
          "base_uri": "https://localhost:8080/",
          "height": 300
        },
        "outputId": "21f89ba0-2902-4f86-98e6-5847dc9591cc"
      },
      "source": [
        "from sklearn.metrics import plot_confusion_matrix\n",
        "plot_confusion_matrix(uni_logmodel, uni_X_test, y_test, values_format='0.0f')"
      ],
      "execution_count": null,
      "outputs": [
        {
          "output_type": "execute_result",
          "data": {
            "text/plain": [
              "<sklearn.metrics._plot.confusion_matrix.ConfusionMatrixDisplay at 0x7fd343c6a710>"
            ]
          },
          "metadata": {
            "tags": []
          },
          "execution_count": 47
        },
        {
          "output_type": "display_data",
          "data": {
            "image/png": "[encoded data removed]",
            "text/plain": [
              "<Figure size 432x288 with 2 Axes>"
            ]
          },
          "metadata": {
            "tags": [],
            "needs_background": "light"
          }
        }
      ]
    },
    {
      "cell_type": "markdown",
      "metadata": {
        "id": "58d4ocp4DBzI"
      },
      "source": [
        "###**Accuracy:** \n",
        "Overall, how often is the classifier correct?"
      ]
    },
    {
      "cell_type": "code",
      "metadata": {
        "id": "AdFfEqfaEvt4",
        "colab": {
          "base_uri": "https://localhost:8080/"
        },
        "outputId": "3f53d1d1-ed3f-46d7-def6-127863a005f4"
      },
      "source": [
        "print((TP + TN) / float(TP + TN + FP + FN))\n",
        "print(metrics.accuracy_score(y_test, y_test_pred))"
      ],
      "execution_count": null,
      "outputs": [
        {
          "output_type": "stream",
          "text": [
            "0.7965367965367965\n",
            "0.7965367965367965\n"
          ],
          "name": "stdout"
        }
      ]
    },
    {
      "cell_type": "code",
      "metadata": {
        "id": "Kns4OAvUEyVo"
      },
      "source": [
        ""
      ],
      "execution_count": null,
      "outputs": []
    },
    {
      "cell_type": "markdown",
      "metadata": {
        "id": "hAJcD9VJMV7p"
      },
      "source": [
        "###**Precision:**\n",
        "\n",
        "When a positive value is predicted, how often is the prediction correct?\n",
        "\n",
        "How \"precise\" is the classifier when predicting positive instances?\n"
      ]
    },
    {
      "cell_type": "code",
      "metadata": {
        "id": "_klsW16FveE2",
        "colab": {
          "base_uri": "https://localhost:8080/"
        },
        "outputId": "cfe84144-bd86-4e3b-bf29-cc9dbf578089"
      },
      "source": [
        "print(TP / float(TP + FP))\n",
        "print(metrics.precision_score(y_test, y_test_pred))"
      ],
      "execution_count": null,
      "outputs": [
        {
          "output_type": "stream",
          "text": [
            "0.7457627118644068\n",
            "0.7457627118644068\n"
          ],
          "name": "stdout"
        }
      ]
    },
    {
      "cell_type": "markdown",
      "metadata": {
        "id": "2eDX9RUrFBgs"
      },
      "source": [
        "###**Sensitivity AKA Recall:**\n",
        " When the actual value is positive, how often is the prediction correct?\n",
        "\n",
        "- How \"sensitive\" is the classifier to detecting positive instances?\n",
        "- Also known as \"True Positive Rate\""
      ]
    },
    {
      "cell_type": "code",
      "metadata": {
        "id": "Bmnp0lPYFCa3",
        "colab": {
          "base_uri": "https://localhost:8080/"
        },
        "outputId": "2d6911d7-82bc-4e19-b25f-103c22569264"
      },
      "source": [
        "print(TP / float(TP + FN))\n",
        "print(metrics.recall_score(y_test, y_test_pred))"
      ],
      "execution_count": null,
      "outputs": [
        {
          "output_type": "stream",
          "text": [
            "0.5789473684210527\n",
            "0.5789473684210527\n"
          ],
          "name": "stdout"
        }
      ]
    },
    {
      "cell_type": "markdown",
      "metadata": {
        "id": "JcyAGe2uFJa3"
      },
      "source": [
        "###**Specificity:**\n",
        "\n",
        "When the actual value is negative, how often is the prediction correct?\n",
        "\n",
        "How \"specific\" (or \"selective\") is the classifier in predicting negative instances?"
      ]
    },
    {
      "cell_type": "code",
      "metadata": {
        "id": "XqRo8gfpFTmL",
        "colab": {
          "base_uri": "https://localhost:8080/"
        },
        "outputId": "a62d3408-859e-4fca-b4e0-4177f1e3633e"
      },
      "source": [
        "print(TN / float(TN + FP))"
      ],
      "execution_count": null,
      "outputs": [
        {
          "output_type": "stream",
          "text": [
            "0.9032258064516129\n"
          ],
          "name": "stdout"
        }
      ]
    },
    {
      "cell_type": "markdown",
      "metadata": {
        "id": "4firB0InyIWo"
      },
      "source": [
        "###**F1 score**\n",
        "\n",
        "In statistical analysis of binary classification, the F1 score (also F-score or F-measure) is a measure of a test's accuracy. It considers both the precision and the recall of the test to compute the score\n"
      ]
    },
    {
      "cell_type": "markdown",
      "metadata": {
        "id": "SNOUZfV5ygzJ"
      },
      "source": [
        "![image.png](data:image/png;base64,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)"
      ]
    },
    {
      "cell_type": "code",
      "metadata": {
        "id": "GjMLE11UveuW"
      },
      "source": [
        "def f1_score(precision, recall):\n",
        "    try:\n",
        "        return 2 * precision * recall / (precision + recall)\n",
        "    except:\n",
        "        return 0.0\n"
      ],
      "execution_count": null,
      "outputs": []
    },
    {
      "cell_type": "markdown",
      "metadata": {
        "id": "z72u1VoTyLU7"
      },
      "source": [
        "Lets try to calculate the f_score of diffrent precision and recall values"
      ]
    },
    {
      "cell_type": "code",
      "metadata": {
        "id": "vero-FClzW0p",
        "colab": {
          "base_uri": "https://localhost:8080/"
        },
        "outputId": "d0ae0e3c-de7a-4e01-a774-c75f461556ca"
      },
      "source": [
        "## playing with some values:\n",
        "precision = 0.5\n",
        "recall = 0.5\n",
        "f1_score(precision, recall)"
      ],
      "execution_count": null,
      "outputs": [
        {
          "output_type": "execute_result",
          "data": {
            "text/plain": [
              "0.5"
            ]
          },
          "metadata": {
            "tags": []
          },
          "execution_count": 53
        }
      ]
    },
    {
      "cell_type": "code",
      "metadata": {
        "id": "VIbDwp35zN_L",
        "colab": {
          "base_uri": "https://localhost:8080/"
        },
        "outputId": "8dff361c-d823-4b02-c85d-e2ec0f132401"
      },
      "source": [
        "precision = 0.1\n",
        "recall = 0.9\n",
        "f1_score(precision, recall)"
      ],
      "execution_count": null,
      "outputs": [
        {
          "output_type": "execute_result",
          "data": {
            "text/plain": [
              "0.18000000000000002"
            ]
          },
          "metadata": {
            "tags": []
          },
          "execution_count": 54
        }
      ]
    },
    {
      "cell_type": "code",
      "metadata": {
        "id": "_7cpT_5NzQ2W",
        "colab": {
          "base_uri": "https://localhost:8080/"
        },
        "outputId": "11ba0683-bb83-4e12-c26c-0490b3ea897d"
      },
      "source": [
        "precision = 0.89\n",
        "recall = 0.92\n",
        "f1_score(precision, recall)"
      ],
      "execution_count": null,
      "outputs": [
        {
          "output_type": "execute_result",
          "data": {
            "text/plain": [
              "0.9047513812154697"
            ]
          },
          "metadata": {
            "tags": []
          },
          "execution_count": 55
        }
      ]
    },
    {
      "cell_type": "markdown",
      "metadata": {
        "id": "DD_ApepTzZym"
      },
      "source": [
        "#### Calculating F1 score of our model "
      ]
    },
    {
      "cell_type": "code",
      "metadata": {
        "id": "bKRmzM8ozdlW",
        "colab": {
          "base_uri": "https://localhost:8080/"
        },
        "outputId": "0cc9603f-c485-43f4-b973-366b07d374e8"
      },
      "source": [
        "precision = metrics.precision_score(y_test, y_test_pred)\n",
        "recall = metrics.recall_score(y_test, y_test_pred)\n",
        "f1 = f1_score(precision, recall)\n",
        "f1"
      ],
      "execution_count": null,
      "outputs": [
        {
          "output_type": "execute_result",
          "data": {
            "text/plain": [
              "0.6518518518518519"
            ]
          },
          "metadata": {
            "tags": []
          },
          "execution_count": 56
        }
      ]
    },
    {
      "cell_type": "code",
      "metadata": {
        "id": "9HtVaVbezj_V",
        "colab": {
          "base_uri": "https://localhost:8080/"
        },
        "outputId": "4b70cfa7-b187-4f8c-fe91-74d492795147"
      },
      "source": [
        "metrics.f1_score(y_test, y_test_pred)"
      ],
      "execution_count": null,
      "outputs": [
        {
          "output_type": "execute_result",
          "data": {
            "text/plain": [
              "0.6518518518518519"
            ]
          },
          "metadata": {
            "tags": []
          },
          "execution_count": 57
        }
      ]
    },
    {
      "cell_type": "markdown",
      "metadata": {
        "id": "75y_E1GCK4LD"
      },
      "source": [
        "### Flipping the classified target\n",
        "\n",
        "What if we classified the 'no diabetes' as 1?\n",
        " "
      ]
    },
    {
      "cell_type": "code",
      "metadata": {
        "id": "fS7hJ1EiMCfd",
        "colab": {
          "base_uri": "https://localhost:8080/"
        },
        "outputId": "410e7c7b-5257-482b-82f7-fc8c2a133c37"
      },
      "source": [
        "#original recall\n",
        "print(metrics.recall_score(y_test, y_test_pred))"
      ],
      "execution_count": null,
      "outputs": [
        {
          "output_type": "stream",
          "text": [
            "0.5789473684210527\n"
          ],
          "name": "stdout"
        }
      ]
    },
    {
      "cell_type": "code",
      "metadata": {
        "id": "ewmg2dJgLxqw",
        "colab": {
          "base_uri": "https://localhost:8080/"
        },
        "outputId": "b0333782-4d5a-4d15-b46b-19de276fd65c"
      },
      "source": [
        "#flip 1 and zero will give us different results\n",
        "\n",
        "y_test_replace = y_test.replace({1:0,0:1})\n",
        "y_test_pred_replace = y_test_pred.replace({1:0,0:1})\n",
        "\n",
        "print(metrics.recall_score(y_test_replace, y_test_pred_replace))"
      ],
      "execution_count": null,
      "outputs": [
        {
          "output_type": "stream",
          "text": [
            "0.9032258064516129\n"
          ],
          "name": "stdout"
        }
      ]
    },
    {
      "cell_type": "markdown",
      "metadata": {
        "id": "wkHQh1jjzrg1"
      },
      "source": [
        "##Classification report\n",
        "We can run a function that give a complete report"
      ]
    },
    {
      "cell_type": "code",
      "metadata": {
        "id": "pUYoO98hKkMC",
        "colab": {
          "base_uri": "https://localhost:8080/"
        },
        "outputId": "1eb2c0dd-deb7-4a56-94ea-ff769990ef36"
      },
      "source": [
        "from sklearn.metrics import classification_report\n",
        "print(classification_report(y_test,y_test_pred))"
      ],
      "execution_count": null,
      "outputs": [
        {
          "output_type": "stream",
          "text": [
            "              precision    recall  f1-score   support\n",
            "\n",
            "           0       0.81      0.90      0.86       155\n",
            "           1       0.75      0.58      0.65        76\n",
            "\n",
            "    accuracy                           0.80       231\n",
            "   macro avg       0.78      0.74      0.75       231\n",
            "weighted avg       0.79      0.80      0.79       231\n",
            "\n"
          ],
          "name": "stdout"
        }
      ]
    },
    {
      "cell_type": "markdown",
      "metadata": {
        "id": "JtMSpAKWKpBz"
      },
      "source": [
        "# Adjusting the classification threshold\n",
        "\n",
        "We can adjust the threshold of the classification to increase or decrease the model sensitivity"
      ]
    },
    {
      "cell_type": "code",
      "metadata": {
        "id": "ZkBJNdUpb04d"
      },
      "source": [
        "# store the predicted probabilities for class 1\n",
        "y_pred_prob = uni_test_results.probability_1"
      ],
      "execution_count": null,
      "outputs": []
    },
    {
      "cell_type": "code",
      "metadata": {
        "id": "9WPEGA9lb9kb"
      },
      "source": [
        "#plot the frequency\n",
        "fig = go.Figure()\n",
        "trace = go.Histogram(\n",
        "    x=y_pred_prob,\n",
        ")\n",
        "fig.add_trace(trace)"
      ],
      "execution_count": null,
      "outputs": []
    },
    {
      "cell_type": "code",
      "metadata": {
        "id": "FMm1OLzcc2-a"
      },
      "source": [
        "#change the 1 treshold to be 0.3 using the binarize operation\n",
        "from sklearn.preprocessing import binarize\n",
        "y_pred_03 = binarize(X=[y_pred_prob], threshold=0.3)[0]\n",
        "y_pred_03 = pd.Series(y_pred_03)"
      ],
      "execution_count": null,
      "outputs": []
    },
    {
      "cell_type": "code",
      "metadata": {
        "id": "ELyaEbyydig6"
      },
      "source": [
        "# confusion matrix comparison\n",
        "print('before confusion matrix\\n', confusion)\n",
        "print('recall',recall)\n",
        "print('specificity', TN / float(TN + FP))\n",
        "\n",
        "print('--------------------------------------------------')\n",
        "confusion03 = metrics.confusion_matrix(y_test, y_pred_03)\n",
        "print('after confusion matrix\\n', confusion03)\n",
        "print('recall',metrics.recall_score(y_test, y_pred_03))\n",
        "print('specificity',TP / float(TP + FN))"
      ],
      "execution_count": null,
      "outputs": []
    },
    {
      "cell_type": "code",
      "metadata": {
        "id": "nnx9YY6TeI_a"
      },
      "source": [
        "#a full classification report comparison\n",
        "print(classification_report(y_test,y_test_pred))\n",
        "print('-----------------------------------------------------------------------')\n",
        "print(classification_report(y_test,y_pred_03))"
      ],
      "execution_count": null,
      "outputs": []
    },
    {
      "cell_type": "markdown",
      "metadata": {
        "id": "0CoQnF2yfA4r"
      },
      "source": [
        "\n",
        "- **Threshold of 0.5** is used by default to convert predicted probabilities into class predictions\n",
        "- Threshold can be **adjusted** to increase sensitivity or specificity\n",
        "- Sensitivity and specificity have an **inverse relationship**"
      ]
    },
    {
      "cell_type": "markdown",
      "metadata": {
        "id": "Rs0WZMjm03RZ"
      },
      "source": [
        "## ROC Curves and AUC(Area Under the Curve)\n",
        "\n",
        "We would like see how sensitivity and specificity are affected by various thresholds, without actually changing the threshold?\n",
        "\n",
        "This can be acomplished by calculation the ROC and AUC"
      ]
    },
    {
      "cell_type": "code",
      "metadata": {
        "id": "ludEpuT54Qq6"
      },
      "source": [
        "# IMPORTANT: first argument is true values, second argument is predicted probabilities\n",
        "fp_rate, tp_rate, thresholds = metrics.roc_curve(y_test, y_pred_prob)\n"
      ],
      "execution_count": null,
      "outputs": []
    },
    {
      "cell_type": "code",
      "metadata": {
        "id": "wnXThGcW44UF"
      },
      "source": [
        "fig=go.Figure()\n",
        "trace=go.Scatter(x=fp_rate, y=tp_rate, mode='lines', hoverinfo='x+y+text', text=thresholds)\n",
        "fig.add_trace(trace)\n",
        "fig.update_layout(\n",
        "    title=\"ROC curve for diabetes classifier\",\n",
        "    xaxis_title=\"False Positive Rate (1 - Specificity)\",\n",
        "    yaxis_title=\"True Positive Rate (Sensitivity/Recall)\",\n",
        "    \n",
        ")\n",
        "fig.show()"
      ],
      "execution_count": null,
      "outputs": []
    },
    {
      "cell_type": "markdown",
      "metadata": {
        "id": "00uTFtqV4-J1"
      },
      "source": [
        "- ROC curve can help you to **choose a threshold** that balances sensitivity and specificity in a way that makes sense for your particular context"
      ]
    },
    {
      "cell_type": "markdown",
      "metadata": {
        "id": "TWMhgHuu9KsE"
      },
      "source": [
        "### Calculate AUC\n",
        "AUC is the **percentage** of the ROC plot that is **underneath the curve**:\n",
        "\n",
        "The closer it is to 1 the less FP and FN the model has."
      ]
    },
    {
      "cell_type": "code",
      "metadata": {
        "id": "cbW94hr19n6m"
      },
      "source": [
        "# IMPORTANT: first argument is true values, second argument is predicted probabilities\n",
        "AUC = metrics.roc_auc_score(y_test, y_pred_prob)\n",
        "print('AUC',AUC)"
      ],
      "execution_count": null,
      "outputs": []
    },
    {
      "cell_type": "markdown",
      "metadata": {
        "id": "pdCTG4c19yEp"
      },
      "source": [
        "#Cross Validation\n",
        "Cross-validation is a resampling procedure used to evaluate machine learning models on a limited data sample.\n",
        "\n",
        "The general procedure is as follows:\n",
        "\n",
        "1. Shuffle the dataset randomly.\n",
        "2. Split the dataset into k groups\n",
        "3.  For each unique group:\n",
        ">1. Take the group as a hold out or test data set\n",
        ">2.Take the remaining groups as a training data set\n",
        ">3.Fit a model on the training set and evaluate it on the test set\n",
        ">4.Retain the evaluation score and discard the model\n",
        "4.Summarize the skill of the model using the sample of model evaluation scores"
      ]
    },
    {
      "cell_type": "markdown",
      "metadata": {
        "id": "RtdXIgiq_UK0"
      },
      "source": [
        "###Running the cross validation procedure and get the score.\n",
        "\n",
        "The score depends on the desired metrics and a full and long list can be found [here](https://scikit-learn.org/stable/modules/model_evaluation.html#the-scoring-parameter-defining-model-evaluation-rules).\n",
        "\n",
        "\n"
      ]
    },
    {
      "cell_type": "code",
      "metadata": {
        "id": "i2DkcBeQ_lgE"
      },
      "source": [
        "# calculate cross-validated AUC\n",
        "from sklearn.model_selection import cross_val_score\n",
        "auc_scores = cross_val_score(uni_logmodel, scaled_X, y, cv=10, scoring='roc_auc')\n",
        "auc_scores"
      ],
      "execution_count": null,
      "outputs": []
    },
    {
      "cell_type": "code",
      "metadata": {
        "id": "zuM2kOWt_qSE"
      },
      "source": [
        "accuracy_scores = cross_val_score(uni_logmodel, scaled_X, y, cv=10, scoring='accuracy')\n",
        "accuracy_scores"
      ],
      "execution_count": null,
      "outputs": []
    },
    {
      "cell_type": "code",
      "metadata": {
        "id": "CXaJCKR7A9gk"
      },
      "source": [
        "print('Mean values')\n",
        "print('auc:', auc_scores.mean())\n",
        "print('accuracy: ', accuracy_scores.mean())\n"
      ],
      "execution_count": null,
      "outputs": []
    },
    {
      "cell_type": "code",
      "metadata": {
        "id": "XMC7R_X9BNsE"
      },
      "source": [
        ""
      ],
      "execution_count": null,
      "outputs": []
    }
  ]
}
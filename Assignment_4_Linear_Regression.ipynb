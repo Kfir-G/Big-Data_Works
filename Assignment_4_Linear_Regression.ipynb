{
  "nbformat": 4,
  "nbformat_minor": 0,
  "metadata": {
    "colab": {
      "name": "Adam&Kfir_Assignment 4 - Linear Regression",
      "provenance": [],
      "collapsed_sections": []
    },
    "kernelspec": {
      "name": "python3",
      "display_name": "Python 3"
    }
  },
  "cells": [
    {
      "cell_type": "code",
      "metadata": {
        "id": "Kq23T99g4bvW",
        "cellView": "form"
      },
      "source": [
        "#@title ## Big Data Lab  - Assignment 4  - Linear Regression\n",
        "#@markdown ### Instructions\n",
        "#@markdown 1. The purpose of this assignment is to cover the built and use of a linear regression model.  \n",
        "#@markdown  \n",
        "#@markdown 2. You can choose to complete the assignment on your own or to colaborate with a partner. You are welcome to discuss your work with your fellow students but to maintain a healthy learning process - please keep all final answers to yourself! \n",
        "#@markdown 3. Complete the answers in the empty cells - Feel free to add as many extra cell as you require.\n",
        "#@markdown 4. Fill in your name and select the Year and Department.\n",
        "#@markdown 5. When done - Download the colab notebook by going to 'File -> Download .ipynb' and submit the file in the course's moodle page before the due date. \n",
        " \n",
        "#@markdown ---\n",
        "#@markdown ### Enter your information:\n",
        "Student1_Full_Name = \"Adam Vos\" #@param {type:\"string\"}\n",
        "Student2_Full_Name = \"Kfir Gisman\" #@param {type:\"string\"}\n",
        "Depatment = \"Computer Science\" #@param [\"Select\",\"Computer Science\", \"Industrial Engineering\", \"Economics and Management\"]\n",
        "Year = \"Second\" #@param [\"Select\",\"Second\", \"Third\", \"Fourth\"]\n",
        "\n",
        "#@markdown ---\n"
      ],
      "execution_count": null,
      "outputs": []
    },
    {
      "cell_type": "markdown",
      "metadata": {
        "id": "2qGKChsZFx2W"
      },
      "source": [
        "##In this assignment you are requested to predict the price of a vehicle given it's features."
      ]
    },
    {
      "cell_type": "markdown",
      "metadata": {
        "id": "4I5oydnL4tYr"
      },
      "source": [
        "\n",
        "1. Import the necessary libraries"
      ]
    },
    {
      "cell_type": "code",
      "metadata": {
        "id": "SB3GTVsP5W-6"
      },
      "source": [
        "import pandas as pd #for dataframe manipulations\n",
        "import numpy as np # for linear algebra operations\n",
        "import plotly.graph_objects as go # for visualization\n",
        "from sklearn.preprocessing import StandardScaler\n",
        "from sklearn import linear_model\n",
        "import matplotlib.pyplot as plt"
      ],
      "execution_count": null,
      "outputs": []
    },
    {
      "cell_type": "markdown",
      "metadata": {
        "id": "Rc_795F15cOH"
      },
      "source": [
        "2. Create a dataframe from the following link. Name it \"cars_df\".\n",
        ">'https://raw.githubusercontent.com/Turgibot/BigData/master/DataSets/cars.csv'"
      ]
    },
    {
      "cell_type": "code",
      "metadata": {
        "id": "to6ZJuagdbv0"
      },
      "source": [
        "cars_df = pd.read_csv('https://raw.githubusercontent.com/Turgibot/BigData/master/DataSets/cars.csv')"
      ],
      "execution_count": null,
      "outputs": []
    },
    {
      "cell_type": "markdown",
      "metadata": {
        "id": "jZamSdTTIzr8"
      },
      "source": [
        "><h3>DataSet Information:</h3>\t\t\t\t\t\t\n",
        "\t\t\t\t\t\t\n",
        "1.\tCar_ID:\t\t\tUnique id of each observation (Interger)\t\t\n",
        "2.\tSymboling:\t\t\tIts assigned insurance risk rating, A value of +3 indicates that the auto is risky, -3 that it is probably pretty safe.(Categorical) \t\t\n",
        "3.\tcarCompany:\t\t\tName of car company (Categorical)\t\t\n",
        "4.\tfueltype:\t\t\tCar fuel type i.e gas or diesel (Categorical)\t\t\n",
        "5.\taspiration:\t\t\tAspiration used in a car (Categorical)\t\t\n",
        "6.\tdoornumber:\t\t\tNumber of doors in a car (Categorical)\t\t\n",
        "7.\tcarbody:\t\t\tbody of car (Categorical)\t\t\n",
        "8.\tdrivewheel:\t\t\ttype of drive wheel (Categorical)\t\t\n",
        "9.\tenginelocation:\t\t\tLocation of car engine (Categorical)\t\t\n",
        "10.\twheelbase:\t\t\tWeelbase of car (Numeric)\t\t\n",
        "11.\tcarlength:\t\t\tLength of car (Numeric)\t\t\n",
        "12.\tcarwidth:\t\t\tWidth of car (Numeric)\t\t\n",
        "13.\tcarheight:\t\t\theight of car (Numeric)\t\t\n",
        "14.\tcurbweight:\t\t\tThe weight of a car without occupants or baggage. (Numeric)\t\t\n",
        "15.\tenginetype:\t\t\tType of engine. (Categorical)\t\t\n",
        "16.\tcylindernumber:\t\t\tcylinder placed in the car (Categorical)\t\t\n",
        "17.\tenginesize:\t\t\tSize of car (Numeric)\t\t\n",
        "18.\tfuelsystem:\t\t\tFuel system of car (Categorical)\t\t\n",
        "19.\tboreratio:\t\t\tBoreratio of car (Numeric)\t\t\n",
        "20.\tstroke:\t\t\tStroke or volume inside the engine (Numeric)\t\t\n",
        "21.\tcompressionratio:\t\t\tcompression ratio of car (Numeric)\t\t\n",
        "22.\thorsepower:\t\t\tHorsepower (Numeric)\t\t\n",
        "23.\tpeakrpm:\t\t\tcar peak rpm (Numeric)\t\t\n",
        "24.\tcitympg:\t\t\tMileage in city (Numeric)\t\t\n",
        "25.\thighwaympg:\t\t\tMileage on highway (Numeric)\t\t\n",
        "26.\tprice(Dependent variable):\t\t\tPrice of car (Numeric)\t\t"
      ]
    },
    {
      "cell_type": "markdown",
      "metadata": {
        "id": "lVuojjZ25vyG"
      },
      "source": [
        "3. Print the head and info of the dataframe"
      ]
    },
    {
      "cell_type": "code",
      "metadata": {
        "id": "WCp73PctDKUJ",
        "colab": {
          "base_uri": "https://localhost:8080/"
        },
        "outputId": "bb039042-299a-4c35-c0d5-cfff9a50913a"
      },
      "source": [
        "cars_df.info()"
      ],
      "execution_count": null,
      "outputs": [
        {
          "output_type": "stream",
          "text": [
            "<class 'pandas.core.frame.DataFrame'>\n",
            "RangeIndex: 205 entries, 0 to 204\n",
            "Data columns (total 26 columns):\n",
            " #   Column            Non-Null Count  Dtype  \n",
            "---  ------            --------------  -----  \n",
            " 0   car_ID            205 non-null    int64  \n",
            " 1   symboling         205 non-null    int64  \n",
            " 2   CarName           205 non-null    object \n",
            " 3   fueltype          205 non-null    object \n",
            " 4   aspiration        205 non-null    object \n",
            " 5   doornumber        205 non-null    object \n",
            " 6   carbody           205 non-null    object \n",
            " 7   drivewheel        205 non-null    object \n",
            " 8   enginelocation    205 non-null    object \n",
            " 9   wheelbase         205 non-null    float64\n",
            " 10  carlength         205 non-null    float64\n",
            " 11  carwidth          205 non-null    float64\n",
            " 12  carheight         205 non-null    float64\n",
            " 13  curbweight        205 non-null    int64  \n",
            " 14  enginetype        205 non-null    object \n",
            " 15  cylindernumber    205 non-null    object \n",
            " 16  enginesize        205 non-null    int64  \n",
            " 17  fuelsystem        205 non-null    object \n",
            " 18  boreratio         205 non-null    float64\n",
            " 19  stroke            205 non-null    float64\n",
            " 20  compressionratio  205 non-null    float64\n",
            " 21  horsepower        205 non-null    int64  \n",
            " 22  peakrpm           205 non-null    int64  \n",
            " 23  citympg           205 non-null    int64  \n",
            " 24  highwaympg        205 non-null    int64  \n",
            " 25  price             205 non-null    float64\n",
            "dtypes: float64(8), int64(8), object(10)\n",
            "memory usage: 41.8+ KB\n"
          ],
          "name": "stdout"
        }
      ]
    },
    {
      "cell_type": "code",
      "metadata": {
        "id": "W6GXWS4QX9n4",
        "colab": {
          "base_uri": "https://localhost:8080/"
        },
        "outputId": "8dcebea4-4b0f-48db-d005-73c042518c8f"
      },
      "source": [
        "#cars_df.head\n",
        "cars_df['enginesize']"
      ],
      "execution_count": null,
      "outputs": [
        {
          "output_type": "execute_result",
          "data": {
            "text/plain": [
              "0      130\n",
              "1      130\n",
              "2      152\n",
              "3      109\n",
              "4      136\n",
              "      ... \n",
              "200    141\n",
              "201    141\n",
              "202    173\n",
              "203    145\n",
              "204    141\n",
              "Name: enginesize, Length: 205, dtype: int64"
            ]
          },
          "metadata": {
            "tags": []
          },
          "execution_count": 194
        }
      ]
    },
    {
      "cell_type": "markdown",
      "metadata": {
        "id": "CsRmSQl5AxhL"
      },
      "source": [
        "4. What is the dataframe's shape?"
      ]
    },
    {
      "cell_type": "code",
      "metadata": {
        "id": "taoykc0SD_4r",
        "colab": {
          "base_uri": "https://localhost:8080/"
        },
        "outputId": "ef486bb1-3c57-45df-cbb7-efdc6bb5ca36"
      },
      "source": [
        "cars_df.shape"
      ],
      "execution_count": null,
      "outputs": [
        {
          "output_type": "execute_result",
          "data": {
            "text/plain": [
              "(205, 26)"
            ]
          },
          "metadata": {
            "tags": []
          },
          "execution_count": 195
        }
      ]
    },
    {
      "cell_type": "markdown",
      "metadata": {
        "id": "ee0O6fh2GRmD"
      },
      "source": [
        "##Data preparation"
      ]
    },
    {
      "cell_type": "markdown",
      "metadata": {
        "id": "4BVHOK5gMn_Y"
      },
      "source": [
        "5. Is there missing data in the DF?\n",
        "\n",
        "\n",
        "\n",
        "\n"
      ]
    },
    {
      "cell_type": "code",
      "metadata": {
        "id": "I5PoTEFUGg-z",
        "colab": {
          "base_uri": "https://localhost:8080/"
        },
        "outputId": "18a0ce0d-3c0b-478c-de2d-67357dd5cb3a"
      },
      "source": [
        "cars_df.isna().any().sum()\n"
      ],
      "execution_count": null,
      "outputs": [
        {
          "output_type": "execute_result",
          "data": {
            "text/plain": [
              "0"
            ]
          },
          "metadata": {
            "tags": []
          },
          "execution_count": 196
        }
      ]
    },
    {
      "cell_type": "markdown",
      "metadata": {
        "id": "k8e9evO5MyxE"
      },
      "source": [
        "6. Remove all zero variance or unnecessary features."
      ]
    },
    {
      "cell_type": "code",
      "metadata": {
        "id": "Tsabel8jHAZP",
        "colab": {
          "base_uri": "https://localhost:8080/"
        },
        "outputId": "97222fbe-daaa-479b-c01f-cab21cbae84f"
      },
      "source": [
        "cars_df.nunique()"
      ],
      "execution_count": null,
      "outputs": [
        {
          "output_type": "execute_result",
          "data": {
            "text/plain": [
              "car_ID              205\n",
              "symboling             6\n",
              "CarName             147\n",
              "fueltype              2\n",
              "aspiration            2\n",
              "doornumber            2\n",
              "carbody               5\n",
              "drivewheel            3\n",
              "enginelocation        2\n",
              "wheelbase            53\n",
              "carlength            75\n",
              "carwidth             44\n",
              "carheight            49\n",
              "curbweight          171\n",
              "enginetype            7\n",
              "cylindernumber        7\n",
              "enginesize           44\n",
              "fuelsystem            8\n",
              "boreratio            38\n",
              "stroke               37\n",
              "compressionratio     32\n",
              "horsepower           59\n",
              "peakrpm              23\n",
              "citympg              29\n",
              "highwaympg           30\n",
              "price               189\n",
              "dtype: int64"
            ]
          },
          "metadata": {
            "tags": []
          },
          "execution_count": 197
        }
      ]
    },
    {
      "cell_type": "markdown",
      "metadata": {
        "id": "pVYgvQR-Hzd_"
      },
      "source": [
        "7. Convert all categorical features with 2 unique string values to binary features. \n",
        "\n",
        ">For example:\n",
        "\n",
        ">>'doornumber' column name should be converted to 'is_four_door' and the values to 1 or 0. "
      ]
    },
    {
      "cell_type": "code",
      "metadata": {
        "id": "1KewjBgOJ3U0"
      },
      "source": [
        "cars_df['is_gas'] = np.multiply(cars_df['fueltype'] == 'gas', 1) \n",
        "cars_df['is_turbo'] = np.multiply(cars_df['aspiration'] == 'turbo', 1) \n",
        "cars_df['is_four_door'] = np.multiply(cars_df['doornumber'] == 'four', 1) \n",
        "cars_df['is_front_engine'] = np.multiply(cars_df['enginelocation'] == 'front', 1) \n",
        "cars_df.drop(['fueltype','aspiration', 'doornumber' ,'enginelocation','car_ID', 'symboling', 'CarName' ], axis=1, inplace=True)"
      ],
      "execution_count": null,
      "outputs": []
    },
    {
      "cell_type": "code",
      "metadata": {
        "id": "CK3QvDb-LPhC",
        "colab": {
          "base_uri": "https://localhost:8080/"
        },
        "outputId": "ea5aef06-1e99-46fa-f22f-6ca53e1d7784"
      },
      "source": [
        "cars_df.columns == [ 'carbody', 'drivewheel',\n",
        "        'wheelbase', 'carlength', 'carwidth', 'carheight',\n",
        "       'curbweight', 'enginetype', 'cylindernumber', 'enginesize',\n",
        "       'fuelsystem', 'boreratio', 'stroke', 'compressionratio', 'horsepower',\n",
        "       'peakrpm', 'citympg', 'highwaympg', 'price','is_gas', 'is_turbo', 'is_four_door','is_front_engine']\n",
        "     "
      ],
      "execution_count": null,
      "outputs": [
        {
          "output_type": "execute_result",
          "data": {
            "text/plain": [
              "array([ True,  True,  True,  True,  True,  True,  True,  True,  True,\n",
              "        True,  True,  True,  True,  True,  True,  True,  True,  True,\n",
              "        True,  True,  True,  True,  True])"
            ]
          },
          "metadata": {
            "tags": []
          },
          "execution_count": 199
        }
      ]
    },
    {
      "cell_type": "code",
      "metadata": {
        "colab": {
          "base_uri": "https://localhost:8080/",
          "height": 439
        },
        "id": "6L2bzkqWrgz_",
        "outputId": "a38280f7-79ae-498f-bb62-c3a6084dce19"
      },
      "source": [
        "cars_df"
      ],
      "execution_count": null,
      "outputs": [
        {
          "output_type": "execute_result",
          "data": {
            "text/html": [
              "<div>\n",
              "<style scoped>\n",
              "    .dataframe tbody tr th:only-of-type {\n",
              "        vertical-align: middle;\n",
              "    }\n",
              "\n",
              "    .dataframe tbody tr th {\n",
              "        vertical-align: top;\n",
              "    }\n",
              "\n",
              "    .dataframe thead th {\n",
              "        text-align: right;\n",
              "    }\n",
              "</style>\n",
              "<table border=\"1\" class=\"dataframe\">\n",
              "  <thead>\n",
              "    <tr style=\"text-align: right;\">\n",
              "      <th></th>\n",
              "      <th>carbody</th>\n",
              "      <th>drivewheel</th>\n",
              "      <th>wheelbase</th>\n",
              "      <th>carlength</th>\n",
              "      <th>carwidth</th>\n",
              "      <th>carheight</th>\n",
              "      <th>curbweight</th>\n",
              "      <th>enginetype</th>\n",
              "      <th>cylindernumber</th>\n",
              "      <th>enginesize</th>\n",
              "      <th>fuelsystem</th>\n",
              "      <th>boreratio</th>\n",
              "      <th>stroke</th>\n",
              "      <th>compressionratio</th>\n",
              "      <th>horsepower</th>\n",
              "      <th>peakrpm</th>\n",
              "      <th>citympg</th>\n",
              "      <th>highwaympg</th>\n",
              "      <th>price</th>\n",
              "      <th>is_gas</th>\n",
              "      <th>is_turbo</th>\n",
              "      <th>is_four_door</th>\n",
              "      <th>is_front_engine</th>\n",
              "    </tr>\n",
              "  </thead>\n",
              "  <tbody>\n",
              "    <tr>\n",
              "      <th>0</th>\n",
              "      <td>convertible</td>\n",
              "      <td>rwd</td>\n",
              "      <td>88.6</td>\n",
              "      <td>168.8</td>\n",
              "      <td>64.1</td>\n",
              "      <td>48.8</td>\n",
              "      <td>2548</td>\n",
              "      <td>dohc</td>\n",
              "      <td>four</td>\n",
              "      <td>130</td>\n",
              "      <td>mpfi</td>\n",
              "      <td>3.47</td>\n",
              "      <td>2.68</td>\n",
              "      <td>9.0</td>\n",
              "      <td>111</td>\n",
              "      <td>5000</td>\n",
              "      <td>21</td>\n",
              "      <td>27</td>\n",
              "      <td>13495.0</td>\n",
              "      <td>1</td>\n",
              "      <td>0</td>\n",
              "      <td>0</td>\n",
              "      <td>1</td>\n",
              "    </tr>\n",
              "    <tr>\n",
              "      <th>1</th>\n",
              "      <td>convertible</td>\n",
              "      <td>rwd</td>\n",
              "      <td>88.6</td>\n",
              "      <td>168.8</td>\n",
              "      <td>64.1</td>\n",
              "      <td>48.8</td>\n",
              "      <td>2548</td>\n",
              "      <td>dohc</td>\n",
              "      <td>four</td>\n",
              "      <td>130</td>\n",
              "      <td>mpfi</td>\n",
              "      <td>3.47</td>\n",
              "      <td>2.68</td>\n",
              "      <td>9.0</td>\n",
              "      <td>111</td>\n",
              "      <td>5000</td>\n",
              "      <td>21</td>\n",
              "      <td>27</td>\n",
              "      <td>16500.0</td>\n",
              "      <td>1</td>\n",
              "      <td>0</td>\n",
              "      <td>0</td>\n",
              "      <td>1</td>\n",
              "    </tr>\n",
              "    <tr>\n",
              "      <th>2</th>\n",
              "      <td>hatchback</td>\n",
              "      <td>rwd</td>\n",
              "      <td>94.5</td>\n",
              "      <td>171.2</td>\n",
              "      <td>65.5</td>\n",
              "      <td>52.4</td>\n",
              "      <td>2823</td>\n",
              "      <td>ohcv</td>\n",
              "      <td>six</td>\n",
              "      <td>152</td>\n",
              "      <td>mpfi</td>\n",
              "      <td>2.68</td>\n",
              "      <td>3.47</td>\n",
              "      <td>9.0</td>\n",
              "      <td>154</td>\n",
              "      <td>5000</td>\n",
              "      <td>19</td>\n",
              "      <td>26</td>\n",
              "      <td>16500.0</td>\n",
              "      <td>1</td>\n",
              "      <td>0</td>\n",
              "      <td>0</td>\n",
              "      <td>1</td>\n",
              "    </tr>\n",
              "    <tr>\n",
              "      <th>3</th>\n",
              "      <td>sedan</td>\n",
              "      <td>fwd</td>\n",
              "      <td>99.8</td>\n",
              "      <td>176.6</td>\n",
              "      <td>66.2</td>\n",
              "      <td>54.3</td>\n",
              "      <td>2337</td>\n",
              "      <td>ohc</td>\n",
              "      <td>four</td>\n",
              "      <td>109</td>\n",
              "      <td>mpfi</td>\n",
              "      <td>3.19</td>\n",
              "      <td>3.40</td>\n",
              "      <td>10.0</td>\n",
              "      <td>102</td>\n",
              "      <td>5500</td>\n",
              "      <td>24</td>\n",
              "      <td>30</td>\n",
              "      <td>13950.0</td>\n",
              "      <td>1</td>\n",
              "      <td>0</td>\n",
              "      <td>1</td>\n",
              "      <td>1</td>\n",
              "    </tr>\n",
              "    <tr>\n",
              "      <th>4</th>\n",
              "      <td>sedan</td>\n",
              "      <td>4wd</td>\n",
              "      <td>99.4</td>\n",
              "      <td>176.6</td>\n",
              "      <td>66.4</td>\n",
              "      <td>54.3</td>\n",
              "      <td>2824</td>\n",
              "      <td>ohc</td>\n",
              "      <td>five</td>\n",
              "      <td>136</td>\n",
              "      <td>mpfi</td>\n",
              "      <td>3.19</td>\n",
              "      <td>3.40</td>\n",
              "      <td>8.0</td>\n",
              "      <td>115</td>\n",
              "      <td>5500</td>\n",
              "      <td>18</td>\n",
              "      <td>22</td>\n",
              "      <td>17450.0</td>\n",
              "      <td>1</td>\n",
              "      <td>0</td>\n",
              "      <td>1</td>\n",
              "      <td>1</td>\n",
              "    </tr>\n",
              "    <tr>\n",
              "      <th>...</th>\n",
              "      <td>...</td>\n",
              "      <td>...</td>\n",
              "      <td>...</td>\n",
              "      <td>...</td>\n",
              "      <td>...</td>\n",
              "      <td>...</td>\n",
              "      <td>...</td>\n",
              "      <td>...</td>\n",
              "      <td>...</td>\n",
              "      <td>...</td>\n",
              "      <td>...</td>\n",
              "      <td>...</td>\n",
              "      <td>...</td>\n",
              "      <td>...</td>\n",
              "      <td>...</td>\n",
              "      <td>...</td>\n",
              "      <td>...</td>\n",
              "      <td>...</td>\n",
              "      <td>...</td>\n",
              "      <td>...</td>\n",
              "      <td>...</td>\n",
              "      <td>...</td>\n",
              "      <td>...</td>\n",
              "    </tr>\n",
              "    <tr>\n",
              "      <th>200</th>\n",
              "      <td>sedan</td>\n",
              "      <td>rwd</td>\n",
              "      <td>109.1</td>\n",
              "      <td>188.8</td>\n",
              "      <td>68.9</td>\n",
              "      <td>55.5</td>\n",
              "      <td>2952</td>\n",
              "      <td>ohc</td>\n",
              "      <td>four</td>\n",
              "      <td>141</td>\n",
              "      <td>mpfi</td>\n",
              "      <td>3.78</td>\n",
              "      <td>3.15</td>\n",
              "      <td>9.5</td>\n",
              "      <td>114</td>\n",
              "      <td>5400</td>\n",
              "      <td>23</td>\n",
              "      <td>28</td>\n",
              "      <td>16845.0</td>\n",
              "      <td>1</td>\n",
              "      <td>0</td>\n",
              "      <td>1</td>\n",
              "      <td>1</td>\n",
              "    </tr>\n",
              "    <tr>\n",
              "      <th>201</th>\n",
              "      <td>sedan</td>\n",
              "      <td>rwd</td>\n",
              "      <td>109.1</td>\n",
              "      <td>188.8</td>\n",
              "      <td>68.8</td>\n",
              "      <td>55.5</td>\n",
              "      <td>3049</td>\n",
              "      <td>ohc</td>\n",
              "      <td>four</td>\n",
              "      <td>141</td>\n",
              "      <td>mpfi</td>\n",
              "      <td>3.78</td>\n",
              "      <td>3.15</td>\n",
              "      <td>8.7</td>\n",
              "      <td>160</td>\n",
              "      <td>5300</td>\n",
              "      <td>19</td>\n",
              "      <td>25</td>\n",
              "      <td>19045.0</td>\n",
              "      <td>1</td>\n",
              "      <td>1</td>\n",
              "      <td>1</td>\n",
              "      <td>1</td>\n",
              "    </tr>\n",
              "    <tr>\n",
              "      <th>202</th>\n",
              "      <td>sedan</td>\n",
              "      <td>rwd</td>\n",
              "      <td>109.1</td>\n",
              "      <td>188.8</td>\n",
              "      <td>68.9</td>\n",
              "      <td>55.5</td>\n",
              "      <td>3012</td>\n",
              "      <td>ohcv</td>\n",
              "      <td>six</td>\n",
              "      <td>173</td>\n",
              "      <td>mpfi</td>\n",
              "      <td>3.58</td>\n",
              "      <td>2.87</td>\n",
              "      <td>8.8</td>\n",
              "      <td>134</td>\n",
              "      <td>5500</td>\n",
              "      <td>18</td>\n",
              "      <td>23</td>\n",
              "      <td>21485.0</td>\n",
              "      <td>1</td>\n",
              "      <td>0</td>\n",
              "      <td>1</td>\n",
              "      <td>1</td>\n",
              "    </tr>\n",
              "    <tr>\n",
              "      <th>203</th>\n",
              "      <td>sedan</td>\n",
              "      <td>rwd</td>\n",
              "      <td>109.1</td>\n",
              "      <td>188.8</td>\n",
              "      <td>68.9</td>\n",
              "      <td>55.5</td>\n",
              "      <td>3217</td>\n",
              "      <td>ohc</td>\n",
              "      <td>six</td>\n",
              "      <td>145</td>\n",
              "      <td>idi</td>\n",
              "      <td>3.01</td>\n",
              "      <td>3.40</td>\n",
              "      <td>23.0</td>\n",
              "      <td>106</td>\n",
              "      <td>4800</td>\n",
              "      <td>26</td>\n",
              "      <td>27</td>\n",
              "      <td>22470.0</td>\n",
              "      <td>0</td>\n",
              "      <td>1</td>\n",
              "      <td>1</td>\n",
              "      <td>1</td>\n",
              "    </tr>\n",
              "    <tr>\n",
              "      <th>204</th>\n",
              "      <td>sedan</td>\n",
              "      <td>rwd</td>\n",
              "      <td>109.1</td>\n",
              "      <td>188.8</td>\n",
              "      <td>68.9</td>\n",
              "      <td>55.5</td>\n",
              "      <td>3062</td>\n",
              "      <td>ohc</td>\n",
              "      <td>four</td>\n",
              "      <td>141</td>\n",
              "      <td>mpfi</td>\n",
              "      <td>3.78</td>\n",
              "      <td>3.15</td>\n",
              "      <td>9.5</td>\n",
              "      <td>114</td>\n",
              "      <td>5400</td>\n",
              "      <td>19</td>\n",
              "      <td>25</td>\n",
              "      <td>22625.0</td>\n",
              "      <td>1</td>\n",
              "      <td>1</td>\n",
              "      <td>1</td>\n",
              "      <td>1</td>\n",
              "    </tr>\n",
              "  </tbody>\n",
              "</table>\n",
              "<p>205 rows × 23 columns</p>\n",
              "</div>"
            ],
            "text/plain": [
              "         carbody drivewheel  wheelbase  ...  is_turbo  is_four_door  is_front_engine\n",
              "0    convertible        rwd       88.6  ...         0             0                1\n",
              "1    convertible        rwd       88.6  ...         0             0                1\n",
              "2      hatchback        rwd       94.5  ...         0             0                1\n",
              "3          sedan        fwd       99.8  ...         0             1                1\n",
              "4          sedan        4wd       99.4  ...         0             1                1\n",
              "..           ...        ...        ...  ...       ...           ...              ...\n",
              "200        sedan        rwd      109.1  ...         0             1                1\n",
              "201        sedan        rwd      109.1  ...         1             1                1\n",
              "202        sedan        rwd      109.1  ...         0             1                1\n",
              "203        sedan        rwd      109.1  ...         1             1                1\n",
              "204        sedan        rwd      109.1  ...         1             1                1\n",
              "\n",
              "[205 rows x 23 columns]"
            ]
          },
          "metadata": {
            "tags": []
          },
          "execution_count": 200
        }
      ]
    },
    {
      "cell_type": "markdown",
      "metadata": {
        "id": "GxXc8Y7LMR2y"
      },
      "source": [
        "8. Convert the cylindernumber feature from string to numerical values. Also, change the price column to show the price in thousands. (example 12345 becomes 12.345)\n",
        "\n",
        "\n",
        "---\n",
        "\n"
      ]
    },
    {
      "cell_type": "code",
      "metadata": {
        "id": "rV4CZbyYRDeh",
        "colab": {
          "base_uri": "https://localhost:8080/"
        },
        "outputId": "817b00dd-a493-41ce-bc6b-4a3660221120"
      },
      "source": [
        "def word2int(word):\n",
        "      return [\"zero\", \"one\", \"two\", \"three\", \"four\", \"five\", \"six\", \"seven\", \"eight\",\"nine\", \"ten\", \"eleven\", \"twelve\"].index(word)\n",
        "cars_df['cylindernumber'] = cars_df['cylindernumber'].apply(word2int)\n",
        "cars_df['cylindernumber']"
      ],
      "execution_count": null,
      "outputs": [
        {
          "output_type": "execute_result",
          "data": {
            "text/plain": [
              "0      4\n",
              "1      4\n",
              "2      6\n",
              "3      4\n",
              "4      5\n",
              "      ..\n",
              "200    4\n",
              "201    4\n",
              "202    6\n",
              "203    6\n",
              "204    4\n",
              "Name: cylindernumber, Length: 205, dtype: int64"
            ]
          },
          "metadata": {
            "tags": []
          },
          "execution_count": 201
        }
      ]
    },
    {
      "cell_type": "code",
      "metadata": {
        "id": "9Ig51v-QRIIM"
      },
      "source": [
        "cars_df['priceK'] = cars_df['price'].apply(lambda x: x/1000)\n",
        "cars_df.drop(['price'], axis=1, inplace=True)"
      ],
      "execution_count": null,
      "outputs": []
    },
    {
      "cell_type": "code",
      "metadata": {
        "id": "xPOEV0sJQWA1",
        "colab": {
          "base_uri": "https://localhost:8080/",
          "height": 224
        },
        "outputId": "90c69f8d-a8c2-4fe2-cc92-86724ecc8f0e"
      },
      "source": [
        "\n",
        "cars_df.head()"
      ],
      "execution_count": null,
      "outputs": [
        {
          "output_type": "execute_result",
          "data": {
            "text/html": [
              "<div>\n",
              "<style scoped>\n",
              "    .dataframe tbody tr th:only-of-type {\n",
              "        vertical-align: middle;\n",
              "    }\n",
              "\n",
              "    .dataframe tbody tr th {\n",
              "        vertical-align: top;\n",
              "    }\n",
              "\n",
              "    .dataframe thead th {\n",
              "        text-align: right;\n",
              "    }\n",
              "</style>\n",
              "<table border=\"1\" class=\"dataframe\">\n",
              "  <thead>\n",
              "    <tr style=\"text-align: right;\">\n",
              "      <th></th>\n",
              "      <th>carbody</th>\n",
              "      <th>drivewheel</th>\n",
              "      <th>wheelbase</th>\n",
              "      <th>carlength</th>\n",
              "      <th>carwidth</th>\n",
              "      <th>carheight</th>\n",
              "      <th>curbweight</th>\n",
              "      <th>enginetype</th>\n",
              "      <th>cylindernumber</th>\n",
              "      <th>enginesize</th>\n",
              "      <th>fuelsystem</th>\n",
              "      <th>boreratio</th>\n",
              "      <th>stroke</th>\n",
              "      <th>compressionratio</th>\n",
              "      <th>horsepower</th>\n",
              "      <th>peakrpm</th>\n",
              "      <th>citympg</th>\n",
              "      <th>highwaympg</th>\n",
              "      <th>is_gas</th>\n",
              "      <th>is_turbo</th>\n",
              "      <th>is_four_door</th>\n",
              "      <th>is_front_engine</th>\n",
              "      <th>priceK</th>\n",
              "    </tr>\n",
              "  </thead>\n",
              "  <tbody>\n",
              "    <tr>\n",
              "      <th>0</th>\n",
              "      <td>convertible</td>\n",
              "      <td>rwd</td>\n",
              "      <td>88.6</td>\n",
              "      <td>168.8</td>\n",
              "      <td>64.1</td>\n",
              "      <td>48.8</td>\n",
              "      <td>2548</td>\n",
              "      <td>dohc</td>\n",
              "      <td>4</td>\n",
              "      <td>130</td>\n",
              "      <td>mpfi</td>\n",
              "      <td>3.47</td>\n",
              "      <td>2.68</td>\n",
              "      <td>9.0</td>\n",
              "      <td>111</td>\n",
              "      <td>5000</td>\n",
              "      <td>21</td>\n",
              "      <td>27</td>\n",
              "      <td>1</td>\n",
              "      <td>0</td>\n",
              "      <td>0</td>\n",
              "      <td>1</td>\n",
              "      <td>13.495</td>\n",
              "    </tr>\n",
              "    <tr>\n",
              "      <th>1</th>\n",
              "      <td>convertible</td>\n",
              "      <td>rwd</td>\n",
              "      <td>88.6</td>\n",
              "      <td>168.8</td>\n",
              "      <td>64.1</td>\n",
              "      <td>48.8</td>\n",
              "      <td>2548</td>\n",
              "      <td>dohc</td>\n",
              "      <td>4</td>\n",
              "      <td>130</td>\n",
              "      <td>mpfi</td>\n",
              "      <td>3.47</td>\n",
              "      <td>2.68</td>\n",
              "      <td>9.0</td>\n",
              "      <td>111</td>\n",
              "      <td>5000</td>\n",
              "      <td>21</td>\n",
              "      <td>27</td>\n",
              "      <td>1</td>\n",
              "      <td>0</td>\n",
              "      <td>0</td>\n",
              "      <td>1</td>\n",
              "      <td>16.500</td>\n",
              "    </tr>\n",
              "    <tr>\n",
              "      <th>2</th>\n",
              "      <td>hatchback</td>\n",
              "      <td>rwd</td>\n",
              "      <td>94.5</td>\n",
              "      <td>171.2</td>\n",
              "      <td>65.5</td>\n",
              "      <td>52.4</td>\n",
              "      <td>2823</td>\n",
              "      <td>ohcv</td>\n",
              "      <td>6</td>\n",
              "      <td>152</td>\n",
              "      <td>mpfi</td>\n",
              "      <td>2.68</td>\n",
              "      <td>3.47</td>\n",
              "      <td>9.0</td>\n",
              "      <td>154</td>\n",
              "      <td>5000</td>\n",
              "      <td>19</td>\n",
              "      <td>26</td>\n",
              "      <td>1</td>\n",
              "      <td>0</td>\n",
              "      <td>0</td>\n",
              "      <td>1</td>\n",
              "      <td>16.500</td>\n",
              "    </tr>\n",
              "    <tr>\n",
              "      <th>3</th>\n",
              "      <td>sedan</td>\n",
              "      <td>fwd</td>\n",
              "      <td>99.8</td>\n",
              "      <td>176.6</td>\n",
              "      <td>66.2</td>\n",
              "      <td>54.3</td>\n",
              "      <td>2337</td>\n",
              "      <td>ohc</td>\n",
              "      <td>4</td>\n",
              "      <td>109</td>\n",
              "      <td>mpfi</td>\n",
              "      <td>3.19</td>\n",
              "      <td>3.40</td>\n",
              "      <td>10.0</td>\n",
              "      <td>102</td>\n",
              "      <td>5500</td>\n",
              "      <td>24</td>\n",
              "      <td>30</td>\n",
              "      <td>1</td>\n",
              "      <td>0</td>\n",
              "      <td>1</td>\n",
              "      <td>1</td>\n",
              "      <td>13.950</td>\n",
              "    </tr>\n",
              "    <tr>\n",
              "      <th>4</th>\n",
              "      <td>sedan</td>\n",
              "      <td>4wd</td>\n",
              "      <td>99.4</td>\n",
              "      <td>176.6</td>\n",
              "      <td>66.4</td>\n",
              "      <td>54.3</td>\n",
              "      <td>2824</td>\n",
              "      <td>ohc</td>\n",
              "      <td>5</td>\n",
              "      <td>136</td>\n",
              "      <td>mpfi</td>\n",
              "      <td>3.19</td>\n",
              "      <td>3.40</td>\n",
              "      <td>8.0</td>\n",
              "      <td>115</td>\n",
              "      <td>5500</td>\n",
              "      <td>18</td>\n",
              "      <td>22</td>\n",
              "      <td>1</td>\n",
              "      <td>0</td>\n",
              "      <td>1</td>\n",
              "      <td>1</td>\n",
              "      <td>17.450</td>\n",
              "    </tr>\n",
              "  </tbody>\n",
              "</table>\n",
              "</div>"
            ],
            "text/plain": [
              "       carbody drivewheel  wheelbase  ...  is_four_door  is_front_engine  priceK\n",
              "0  convertible        rwd       88.6  ...             0                1  13.495\n",
              "1  convertible        rwd       88.6  ...             0                1  16.500\n",
              "2    hatchback        rwd       94.5  ...             0                1  16.500\n",
              "3        sedan        fwd       99.8  ...             1                1  13.950\n",
              "4        sedan        4wd       99.4  ...             1                1  17.450\n",
              "\n",
              "[5 rows x 23 columns]"
            ]
          },
          "metadata": {
            "tags": []
          },
          "execution_count": 203
        }
      ]
    },
    {
      "cell_type": "markdown",
      "metadata": {
        "id": "3a_gr3R5ReRP"
      },
      "source": [
        "9. Drop all non-numeric categorical features ('carbody','drivewheel','enginetype','fuelsystem') "
      ]
    },
    {
      "cell_type": "code",
      "metadata": {
        "id": "2kWeQE4OT38L"
      },
      "source": [
        "cars_df.drop(['carbody','drivewheel', 'enginetype', 'fuelsystem'], axis=1, inplace=True)"
      ],
      "execution_count": null,
      "outputs": []
    },
    {
      "cell_type": "code",
      "metadata": {
        "id": "ecoK4MFwTlnh",
        "colab": {
          "base_uri": "https://localhost:8080/",
          "height": 204
        },
        "outputId": "14d93886-3bbe-4b07-d3f5-73dc3a1f38e3"
      },
      "source": [
        "cars_df.head()"
      ],
      "execution_count": null,
      "outputs": [
        {
          "output_type": "execute_result",
          "data": {
            "text/html": [
              "<div>\n",
              "<style scoped>\n",
              "    .dataframe tbody tr th:only-of-type {\n",
              "        vertical-align: middle;\n",
              "    }\n",
              "\n",
              "    .dataframe tbody tr th {\n",
              "        vertical-align: top;\n",
              "    }\n",
              "\n",
              "    .dataframe thead th {\n",
              "        text-align: right;\n",
              "    }\n",
              "</style>\n",
              "<table border=\"1\" class=\"dataframe\">\n",
              "  <thead>\n",
              "    <tr style=\"text-align: right;\">\n",
              "      <th></th>\n",
              "      <th>wheelbase</th>\n",
              "      <th>carlength</th>\n",
              "      <th>carwidth</th>\n",
              "      <th>carheight</th>\n",
              "      <th>curbweight</th>\n",
              "      <th>cylindernumber</th>\n",
              "      <th>enginesize</th>\n",
              "      <th>boreratio</th>\n",
              "      <th>stroke</th>\n",
              "      <th>compressionratio</th>\n",
              "      <th>horsepower</th>\n",
              "      <th>peakrpm</th>\n",
              "      <th>citympg</th>\n",
              "      <th>highwaympg</th>\n",
              "      <th>is_gas</th>\n",
              "      <th>is_turbo</th>\n",
              "      <th>is_four_door</th>\n",
              "      <th>is_front_engine</th>\n",
              "      <th>priceK</th>\n",
              "    </tr>\n",
              "  </thead>\n",
              "  <tbody>\n",
              "    <tr>\n",
              "      <th>0</th>\n",
              "      <td>88.6</td>\n",
              "      <td>168.8</td>\n",
              "      <td>64.1</td>\n",
              "      <td>48.8</td>\n",
              "      <td>2548</td>\n",
              "      <td>4</td>\n",
              "      <td>130</td>\n",
              "      <td>3.47</td>\n",
              "      <td>2.68</td>\n",
              "      <td>9.0</td>\n",
              "      <td>111</td>\n",
              "      <td>5000</td>\n",
              "      <td>21</td>\n",
              "      <td>27</td>\n",
              "      <td>1</td>\n",
              "      <td>0</td>\n",
              "      <td>0</td>\n",
              "      <td>1</td>\n",
              "      <td>13.495</td>\n",
              "    </tr>\n",
              "    <tr>\n",
              "      <th>1</th>\n",
              "      <td>88.6</td>\n",
              "      <td>168.8</td>\n",
              "      <td>64.1</td>\n",
              "      <td>48.8</td>\n",
              "      <td>2548</td>\n",
              "      <td>4</td>\n",
              "      <td>130</td>\n",
              "      <td>3.47</td>\n",
              "      <td>2.68</td>\n",
              "      <td>9.0</td>\n",
              "      <td>111</td>\n",
              "      <td>5000</td>\n",
              "      <td>21</td>\n",
              "      <td>27</td>\n",
              "      <td>1</td>\n",
              "      <td>0</td>\n",
              "      <td>0</td>\n",
              "      <td>1</td>\n",
              "      <td>16.500</td>\n",
              "    </tr>\n",
              "    <tr>\n",
              "      <th>2</th>\n",
              "      <td>94.5</td>\n",
              "      <td>171.2</td>\n",
              "      <td>65.5</td>\n",
              "      <td>52.4</td>\n",
              "      <td>2823</td>\n",
              "      <td>6</td>\n",
              "      <td>152</td>\n",
              "      <td>2.68</td>\n",
              "      <td>3.47</td>\n",
              "      <td>9.0</td>\n",
              "      <td>154</td>\n",
              "      <td>5000</td>\n",
              "      <td>19</td>\n",
              "      <td>26</td>\n",
              "      <td>1</td>\n",
              "      <td>0</td>\n",
              "      <td>0</td>\n",
              "      <td>1</td>\n",
              "      <td>16.500</td>\n",
              "    </tr>\n",
              "    <tr>\n",
              "      <th>3</th>\n",
              "      <td>99.8</td>\n",
              "      <td>176.6</td>\n",
              "      <td>66.2</td>\n",
              "      <td>54.3</td>\n",
              "      <td>2337</td>\n",
              "      <td>4</td>\n",
              "      <td>109</td>\n",
              "      <td>3.19</td>\n",
              "      <td>3.40</td>\n",
              "      <td>10.0</td>\n",
              "      <td>102</td>\n",
              "      <td>5500</td>\n",
              "      <td>24</td>\n",
              "      <td>30</td>\n",
              "      <td>1</td>\n",
              "      <td>0</td>\n",
              "      <td>1</td>\n",
              "      <td>1</td>\n",
              "      <td>13.950</td>\n",
              "    </tr>\n",
              "    <tr>\n",
              "      <th>4</th>\n",
              "      <td>99.4</td>\n",
              "      <td>176.6</td>\n",
              "      <td>66.4</td>\n",
              "      <td>54.3</td>\n",
              "      <td>2824</td>\n",
              "      <td>5</td>\n",
              "      <td>136</td>\n",
              "      <td>3.19</td>\n",
              "      <td>3.40</td>\n",
              "      <td>8.0</td>\n",
              "      <td>115</td>\n",
              "      <td>5500</td>\n",
              "      <td>18</td>\n",
              "      <td>22</td>\n",
              "      <td>1</td>\n",
              "      <td>0</td>\n",
              "      <td>1</td>\n",
              "      <td>1</td>\n",
              "      <td>17.450</td>\n",
              "    </tr>\n",
              "  </tbody>\n",
              "</table>\n",
              "</div>"
            ],
            "text/plain": [
              "   wheelbase  carlength  carwidth  ...  is_four_door  is_front_engine  priceK\n",
              "0       88.6      168.8      64.1  ...             0                1  13.495\n",
              "1       88.6      168.8      64.1  ...             0                1  16.500\n",
              "2       94.5      171.2      65.5  ...             0                1  16.500\n",
              "3       99.8      176.6      66.2  ...             1                1  13.950\n",
              "4       99.4      176.6      66.4  ...             1                1  17.450\n",
              "\n",
              "[5 rows x 19 columns]"
            ]
          },
          "metadata": {
            "tags": []
          },
          "execution_count": 205
        }
      ]
    },
    {
      "cell_type": "markdown",
      "metadata": {
        "id": "LyA2zMfJUMpr"
      },
      "source": [
        "10. Show a correlation matrix of the remaining features and plot the correlation heatmap."
      ]
    },
    {
      "cell_type": "code",
      "metadata": {
        "id": "eGj7Z2jbQrkn"
      },
      "source": [
        "pd.set_option(\"display.precision\", 3)\n",
        "corr_df = cars_df.corr()"
      ],
      "execution_count": null,
      "outputs": []
    },
    {
      "cell_type": "code",
      "metadata": {
        "id": "33lfjVynQw-1",
        "colab": {
          "base_uri": "https://localhost:8080/",
          "height": 542
        },
        "outputId": "610e9110-f2de-437c-ea46-15a4ef2cf8a1"
      },
      "source": [
        "fig = go.Figure(data=go.Heatmap(x=corr_df.columns,y=corr_df.columns,z=corr_df))\n",
        "fig.show()"
      ],
      "execution_count": null,
      "outputs": [
        {
          "output_type": "display_data",
          "data": {
            "text/html": [
              "<html>\n",
              "<head><meta charset=\"utf-8\" /></head>\n",
              "<body>\n",
              "    <div>\n",
              "            <script src=\"https://cdnjs.cloudflare.com/ajax/libs/mathjax/2.7.5/MathJax.js?config=TeX-AMS-MML_SVG\"></script><script type=\"text/javascript\">if (window.MathJax) {MathJax.Hub.Config({SVG: {font: \"STIX-Web\"}});}</script>\n",
              "                <script type=\"text/javascript\">window.PlotlyConfig = {MathJaxConfig: 'local'};</script>\n",
              "        <script src=\"https://cdn.plot.ly/plotly-latest.min.js\"></script>    \n",
              "            <div id=\"cd16afc5-65bf-4962-a768-3d1e35871c51\" class=\"plotly-graph-div\" style=\"height:525px; width:100%;\"></div>\n",
              "            <script type=\"text/javascript\">\n",
              "                \n",
              "                    window.PLOTLYENV=window.PLOTLYENV || {};\n",
              "                    \n",
              "                if (document.getElementById(\"cd16afc5-65bf-4962-a768-3d1e35871c51\")) {\n",
              "                    Plotly.newPlot(\n",
              "                        'cd16afc5-65bf-4962-a768-3d1e35871c51',\n",
              "                        [{\"type\": \"heatmap\", \"x\": [\"wheelbase\", \"carlength\", \"carwidth\", \"carheight\", \"curbweight\", \"cylindernumber\", \"enginesize\", \"boreratio\", \"stroke\", \"compressionratio\", \"horsepower\", \"peakrpm\", \"citympg\", \"highwaympg\", \"is_gas\", \"is_turbo\", \"is_four_door\", \"is_front_engine\", \"priceK\"], \"y\": [\"wheelbase\", \"carlength\", \"carwidth\", \"carheight\", \"curbweight\", \"cylindernumber\", \"enginesize\", \"boreratio\", \"stroke\", \"compressionratio\", \"horsepower\", \"peakrpm\", \"citympg\", \"highwaympg\", \"is_gas\", \"is_turbo\", \"is_four_door\", \"is_front_engine\", \"priceK\"], \"z\": [[1.0, 0.8745874759642641, 0.7951436436169699, 0.5894347616933496, 0.7763863277822105, 0.33950726209426235, 0.5693286815396983, 0.48874987527566616, 0.16095904729726274, 0.24978584518743435, 0.3532944782054001, -0.36046874776149135, -0.47041361340548404, -0.5440819234088289, -0.30834586183695867, 0.25761086421252066, 0.44735674020658556, 0.18779024405021924, 0.5778155982921498], [0.8745874759642641, 1.0, 0.8411182684818458, 0.49102945750421373, 0.8777284608306424, 0.4306719851681167, 0.6833598726519037, 0.6064543579849693, 0.12953261112791178, 0.15841370644020647, 0.5526229673941832, -0.287242202818439, -0.6709086615585713, -0.7046616035425506, -0.21267882217810216, 0.23453903295830358, 0.39856780380666496, 0.05098854138962502, 0.6829200156779619], [0.7951436436169699, 0.8411182684818458, 1.0, 0.2792103211097496, 0.8670324646791235, 0.5450074589517828, 0.7354334047796375, 0.5591499086023917, 0.18294169251421782, 0.18112862677079766, 0.6407320755722934, -0.220012303066137, -0.6427043407108983, -0.6772179173117145, -0.2338798130642619, 0.3005673693788304, 0.20716821862581847, 0.051697641819081264, 0.7593252997415125], [0.5894347616933496, 0.49102945750421373, 0.2792103211097496, 1.0, 0.2955717261948495, -0.013995424865186934, 0.06714874180270546, 0.17107092150966002, -0.05530667369878772, 0.26121422631993996, -0.10880205898413593, -0.3204107238101861, -0.04863962869509297, -0.10735762697679829, -0.28463105837522534, 0.08731109338446505, 0.5522079480069921, 0.1062342488113167, 0.11933622657049443], [0.7763863277822105, 0.8777284608306424, 0.8670324646791235, 0.2955717261948495, 1.0, 0.609726715369844, 0.8505940734262771, 0.6484797487010706, 0.16879003525191955, 0.15136174003093078, 0.7507392514434813, -0.26624318433673116, -0.7574137845056008, -0.7974647922811804, -0.2172753215180668, 0.3249018818653243, 0.19737941963692202, -0.050468195346992616, 0.8353048793372966], [0.33950726209426235, 0.4306719851681167, 0.5450074589517828, -0.013995424865186934, 0.609726715369844, 1.0, 0.8460306875095429, 0.23139902776063584, 0.008209527238238628, -0.020001848743340402, 0.6920162457155654, -0.12417224734795403, -0.44583718015156215, -0.46666592013738706, 0.024544496321272997, -0.04797244140305889, -0.01600933794616218, -0.1830476142359997, 0.7183049020002817], [0.5693286815396983, 0.6833598726519037, 0.7354334047796375, 0.06714874180270546, 0.8505940734262771, 0.8460306875095429, 1.0, 0.5837743274171004, 0.20312858790295585, 0.02897135970408322, 0.8097686545377305, -0.2446598253321753, -0.6536579163114202, -0.6774699078386548, -0.0695942855859046, 0.10821740368388502, 0.020741830272750977, -0.19682630364806533, 0.8741448025245127], [0.48874987527566616, 0.6064543579849693, 0.5591499086023917, 0.17107092150966002, 0.6484797487010706, 0.23139902776063584, 0.5837743274171004, 1.0, -0.05590898252008908, 0.005197338700589219, 0.5736768234657198, -0.25497552836873205, -0.5845317156694843, -0.5870117842417775, -0.05445102921373138, 0.2126141951013216, 0.11925822389712695, -0.18504194189420164, 0.5531732367984438], [0.16095904729726274, 0.12953261112791178, 0.18294169251421782, -0.05530667369878772, 0.16879003525191955, 0.008209527238238628, 0.20312858790295585, -0.05590898252008908, 1.0, 0.18611011028795457, 0.08093953574495318, -0.06796375316490937, -0.04214475404054861, -0.043930930446513465, -0.24182882129112154, 0.22298217703518874, -0.01108164388411453, 0.1384554886939627, 0.0794430838819309], [0.24978584518743435, 0.15841370644020647, 0.18112862677079766, 0.26121422631993996, 0.15136174003093078, -0.020001848743340402, 0.02897135970408322, 0.005197338700589219, 0.18611011028795457, 1.0, -0.2043262261886782, -0.4357405144561976, 0.32470142452073286, 0.2652013891633968, -0.9843560568767561, 0.29554077239620413, 0.17788830860598256, 0.01976200486543976, 0.0679835057994427], [0.3532944782054001, 0.5526229673941832, 0.6407320755722934, -0.10880205898413593, 0.7507392514434813, 0.6920162457155654, 0.8097686545377305, 0.5736768234657198, 0.08093953574495318, -0.2043262261886782, 1.0, 0.13107250535631115, -0.8014561756662699, -0.77054389137296, 0.1639261671699787, 0.24168524951319387, -0.12694694225409853, -0.31783935493956816, 0.8081388225362216], [-0.36046874776149135, -0.287242202818439, -0.220012303066137, -0.3204107238101861, -0.26624318433673116, -0.12417224734795403, -0.2446598253321753, -0.25497552836873205, -0.06796375316490937, -0.4357405144561976, 0.13107250535631115, 1.0, -0.11354438353910278, -0.054274808342345486, 0.4768826418297401, -0.18338283461888086, -0.24766817751257014, -0.19846084689286012, -0.08526715027785668], [-0.47041361340548404, -0.6709086615585713, -0.6427043407108983, -0.04863962869509297, -0.7574137845056008, -0.44583718015156215, -0.6536579163114202, -0.5845317156694843, -0.04214475404054861, 0.32470142452073286, -0.8014561756662699, -0.11354438353910278, 1.0, 0.9713370423425063, -0.2559625630472918, -0.2023618767954983, -0.012416653792617176, 0.15348745682146056, -0.6857513360270401], [-0.5440819234088289, -0.7046616035425506, -0.6772179173117145, -0.10735762697679829, -0.7974647922811804, -0.46666592013738706, -0.6774699078386548, -0.5870117842417775, -0.043930930446513465, 0.2652013891633968, -0.77054389137296, -0.054274808342345486, 0.9713370423425063, 1.0, -0.19139191125148558, -0.2544164697067272, -0.03632984787456224, 0.1020262132964896, -0.6975990916465568], [-0.30834586183695867, -0.21267882217810216, -0.2338798130642619, -0.28463105837522534, -0.2172753215180668, 0.024544496321272997, -0.0695942855859046, -0.05445102921373138, -0.24182882129112154, -0.9843560568767561, 0.1639261671699787, 0.4768826418297401, -0.2559625630472918, -0.19139191125148558, 1.0, -0.4013972279419278, -0.19149053539767, -0.04006951412235513, -0.10567948235973919], [0.25761086421252066, 0.23453903295830358, 0.3005673693788304, 0.08731109338446505, 0.3249018818653243, -0.04797244140305889, 0.10821740368388502, 0.2126141951013216, 0.22298217703518874, 0.29554077239620413, 0.24168524951319387, -0.18338283461888086, -0.2023618767954983, -0.2544164697067272, -0.4013972279419278, 1.0, 0.031791754978747665, 0.05719145740900291, 0.17792622463097815], [0.44735674020658556, 0.39856780380666496, 0.20716821862581847, 0.5522079480069921, 0.19737941963692202, -0.01600933794616218, 0.020741830272750977, 0.11925822389712695, -0.01108164388411453, 0.17788830860598256, -0.12694694225409853, -0.24766817751257014, -0.012416653792617176, -0.03632984787456224, -0.19149053539767, 0.031791754978747665, 1.0, 0.1377566611448216, 0.03183526584560978], [0.18779024405021924, 0.05098854138962502, 0.051697641819081264, 0.1062342488113167, -0.050468195346992616, -0.1830476142359997, -0.19682630364806533, -0.18504194189420164, 0.1384554886939627, 0.01976200486543976, -0.31783935493956816, -0.19846084689286012, 0.15348745682146056, 0.1020262132964896, -0.04006951412235513, 0.05719145740900291, 0.1377566611448216, 1.0, -0.3249733010809566], [0.5778155982921498, 0.6829200156779619, 0.7593252997415125, 0.11933622657049443, 0.8353048793372966, 0.7183049020002817, 0.8741448025245127, 0.5531732367984438, 0.0794430838819309, 0.0679835057994427, 0.8081388225362216, -0.08526715027785668, -0.6857513360270401, -0.6975990916465568, -0.10567948235973919, 0.17792622463097815, 0.03183526584560978, -0.3249733010809566, 1.0]]}],\n",
              "                        {\"template\": {\"data\": {\"bar\": [{\"error_x\": {\"color\": \"#2a3f5f\"}, \"error_y\": {\"color\": \"#2a3f5f\"}, \"marker\": {\"line\": {\"color\": \"#E5ECF6\", \"width\": 0.5}}, \"type\": \"bar\"}], \"barpolar\": [{\"marker\": {\"line\": {\"color\": \"#E5ECF6\", \"width\": 0.5}}, \"type\": \"barpolar\"}], \"carpet\": [{\"aaxis\": {\"endlinecolor\": \"#2a3f5f\", \"gridcolor\": \"white\", \"linecolor\": \"white\", \"minorgridcolor\": \"white\", \"startlinecolor\": \"#2a3f5f\"}, \"baxis\": {\"endlinecolor\": \"#2a3f5f\", \"gridcolor\": \"white\", \"linecolor\": \"white\", \"minorgridcolor\": \"white\", \"startlinecolor\": \"#2a3f5f\"}, \"type\": \"carpet\"}], \"choropleth\": [{\"colorbar\": {\"outlinewidth\": 0, \"ticks\": \"\"}, \"type\": \"choropleth\"}], \"contour\": [{\"colorbar\": {\"outlinewidth\": 0, \"ticks\": \"\"}, \"colorscale\": [[0.0, \"#0d0887\"], [0.1111111111111111, \"#46039f\"], [0.2222222222222222, \"#7201a8\"], [0.3333333333333333, \"#9c179e\"], [0.4444444444444444, \"#bd3786\"], [0.5555555555555556, \"#d8576b\"], [0.6666666666666666, \"#ed7953\"], [0.7777777777777778, \"#fb9f3a\"], [0.8888888888888888, \"#fdca26\"], [1.0, \"#f0f921\"]], \"type\": \"contour\"}], \"contourcarpet\": [{\"colorbar\": {\"outlinewidth\": 0, \"ticks\": \"\"}, \"type\": \"contourcarpet\"}], \"heatmap\": [{\"colorbar\": {\"outlinewidth\": 0, \"ticks\": \"\"}, \"colorscale\": [[0.0, \"#0d0887\"], [0.1111111111111111, \"#46039f\"], [0.2222222222222222, \"#7201a8\"], [0.3333333333333333, \"#9c179e\"], [0.4444444444444444, \"#bd3786\"], [0.5555555555555556, \"#d8576b\"], [0.6666666666666666, \"#ed7953\"], [0.7777777777777778, \"#fb9f3a\"], [0.8888888888888888, \"#fdca26\"], [1.0, \"#f0f921\"]], \"type\": \"heatmap\"}], \"heatmapgl\": [{\"colorbar\": {\"outlinewidth\": 0, \"ticks\": \"\"}, \"colorscale\": [[0.0, \"#0d0887\"], [0.1111111111111111, \"#46039f\"], [0.2222222222222222, \"#7201a8\"], [0.3333333333333333, \"#9c179e\"], [0.4444444444444444, \"#bd3786\"], [0.5555555555555556, \"#d8576b\"], [0.6666666666666666, \"#ed7953\"], [0.7777777777777778, \"#fb9f3a\"], [0.8888888888888888, \"#fdca26\"], [1.0, \"#f0f921\"]], \"type\": \"heatmapgl\"}], \"histogram\": [{\"marker\": {\"colorbar\": {\"outlinewidth\": 0, \"ticks\": \"\"}}, \"type\": \"histogram\"}], \"histogram2d\": [{\"colorbar\": {\"outlinewidth\": 0, \"ticks\": \"\"}, \"colorscale\": [[0.0, \"#0d0887\"], [0.1111111111111111, \"#46039f\"], [0.2222222222222222, \"#7201a8\"], [0.3333333333333333, \"#9c179e\"], [0.4444444444444444, \"#bd3786\"], [0.5555555555555556, \"#d8576b\"], [0.6666666666666666, \"#ed7953\"], [0.7777777777777778, \"#fb9f3a\"], [0.8888888888888888, \"#fdca26\"], [1.0, \"#f0f921\"]], \"type\": \"histogram2d\"}], \"histogram2dcontour\": [{\"colorbar\": {\"outlinewidth\": 0, \"ticks\": \"\"}, \"colorscale\": [[0.0, \"#0d0887\"], [0.1111111111111111, \"#46039f\"], [0.2222222222222222, \"#7201a8\"], [0.3333333333333333, \"#9c179e\"], [0.4444444444444444, \"#bd3786\"], [0.5555555555555556, \"#d8576b\"], [0.6666666666666666, \"#ed7953\"], [0.7777777777777778, \"#fb9f3a\"], [0.8888888888888888, \"#fdca26\"], [1.0, \"#f0f921\"]], \"type\": \"histogram2dcontour\"}], \"mesh3d\": [{\"colorbar\": {\"outlinewidth\": 0, \"ticks\": \"\"}, \"type\": \"mesh3d\"}], \"parcoords\": [{\"line\": {\"colorbar\": {\"outlinewidth\": 0, \"ticks\": \"\"}}, \"type\": \"parcoords\"}], \"pie\": [{\"automargin\": true, \"type\": \"pie\"}], \"scatter\": [{\"marker\": {\"colorbar\": {\"outlinewidth\": 0, \"ticks\": \"\"}}, \"type\": \"scatter\"}], \"scatter3d\": [{\"line\": {\"colorbar\": {\"outlinewidth\": 0, \"ticks\": \"\"}}, \"marker\": {\"colorbar\": {\"outlinewidth\": 0, \"ticks\": \"\"}}, \"type\": \"scatter3d\"}], \"scattercarpet\": [{\"marker\": {\"colorbar\": {\"outlinewidth\": 0, \"ticks\": \"\"}}, \"type\": \"scattercarpet\"}], \"scattergeo\": [{\"marker\": {\"colorbar\": {\"outlinewidth\": 0, \"ticks\": \"\"}}, \"type\": \"scattergeo\"}], \"scattergl\": [{\"marker\": {\"colorbar\": {\"outlinewidth\": 0, \"ticks\": \"\"}}, \"type\": \"scattergl\"}], \"scattermapbox\": [{\"marker\": {\"colorbar\": {\"outlinewidth\": 0, \"ticks\": \"\"}}, \"type\": \"scattermapbox\"}], \"scatterpolar\": [{\"marker\": {\"colorbar\": {\"outlinewidth\": 0, \"ticks\": \"\"}}, \"type\": \"scatterpolar\"}], \"scatterpolargl\": [{\"marker\": {\"colorbar\": {\"outlinewidth\": 0, \"ticks\": \"\"}}, \"type\": \"scatterpolargl\"}], \"scatterternary\": [{\"marker\": {\"colorbar\": {\"outlinewidth\": 0, \"ticks\": \"\"}}, \"type\": \"scatterternary\"}], \"surface\": [{\"colorbar\": {\"outlinewidth\": 0, \"ticks\": \"\"}, \"colorscale\": [[0.0, \"#0d0887\"], [0.1111111111111111, \"#46039f\"], [0.2222222222222222, \"#7201a8\"], [0.3333333333333333, \"#9c179e\"], [0.4444444444444444, \"#bd3786\"], [0.5555555555555556, \"#d8576b\"], [0.6666666666666666, \"#ed7953\"], [0.7777777777777778, \"#fb9f3a\"], [0.8888888888888888, \"#fdca26\"], [1.0, \"#f0f921\"]], \"type\": \"surface\"}], \"table\": [{\"cells\": {\"fill\": {\"color\": \"#EBF0F8\"}, \"line\": {\"color\": \"white\"}}, \"header\": {\"fill\": {\"color\": \"#C8D4E3\"}, \"line\": {\"color\": \"white\"}}, \"type\": \"table\"}]}, \"layout\": {\"annotationdefaults\": {\"arrowcolor\": \"#2a3f5f\", \"arrowhead\": 0, \"arrowwidth\": 1}, \"coloraxis\": {\"colorbar\": {\"outlinewidth\": 0, \"ticks\": \"\"}}, \"colorscale\": {\"diverging\": [[0, \"#8e0152\"], [0.1, \"#c51b7d\"], [0.2, \"#de77ae\"], [0.3, \"#f1b6da\"], [0.4, \"#fde0ef\"], [0.5, \"#f7f7f7\"], [0.6, \"#e6f5d0\"], [0.7, \"#b8e186\"], [0.8, \"#7fbc41\"], [0.9, \"#4d9221\"], [1, \"#276419\"]], \"sequential\": [[0.0, \"#0d0887\"], [0.1111111111111111, \"#46039f\"], [0.2222222222222222, \"#7201a8\"], [0.3333333333333333, \"#9c179e\"], [0.4444444444444444, \"#bd3786\"], [0.5555555555555556, \"#d8576b\"], [0.6666666666666666, \"#ed7953\"], [0.7777777777777778, \"#fb9f3a\"], [0.8888888888888888, \"#fdca26\"], [1.0, \"#f0f921\"]], \"sequentialminus\": [[0.0, \"#0d0887\"], [0.1111111111111111, \"#46039f\"], [0.2222222222222222, \"#7201a8\"], [0.3333333333333333, \"#9c179e\"], [0.4444444444444444, \"#bd3786\"], [0.5555555555555556, \"#d8576b\"], [0.6666666666666666, \"#ed7953\"], [0.7777777777777778, \"#fb9f3a\"], [0.8888888888888888, \"#fdca26\"], [1.0, \"#f0f921\"]]}, \"colorway\": [\"#636efa\", \"#EF553B\", \"#00cc96\", \"#ab63fa\", \"#FFA15A\", \"#19d3f3\", \"#FF6692\", \"#B6E880\", \"#FF97FF\", \"#FECB52\"], \"font\": {\"color\": \"#2a3f5f\"}, \"geo\": {\"bgcolor\": \"white\", \"lakecolor\": \"white\", \"landcolor\": \"#E5ECF6\", \"showlakes\": true, \"showland\": true, \"subunitcolor\": \"white\"}, \"hoverlabel\": {\"align\": \"left\"}, \"hovermode\": \"closest\", \"mapbox\": {\"style\": \"light\"}, \"paper_bgcolor\": \"white\", \"plot_bgcolor\": \"#E5ECF6\", \"polar\": {\"angularaxis\": {\"gridcolor\": \"white\", \"linecolor\": \"white\", \"ticks\": \"\"}, \"bgcolor\": \"#E5ECF6\", \"radialaxis\": {\"gridcolor\": \"white\", \"linecolor\": \"white\", \"ticks\": \"\"}}, \"scene\": {\"xaxis\": {\"backgroundcolor\": \"#E5ECF6\", \"gridcolor\": \"white\", \"gridwidth\": 2, \"linecolor\": \"white\", \"showbackground\": true, \"ticks\": \"\", \"zerolinecolor\": \"white\"}, \"yaxis\": {\"backgroundcolor\": \"#E5ECF6\", \"gridcolor\": \"white\", \"gridwidth\": 2, \"linecolor\": \"white\", \"showbackground\": true, \"ticks\": \"\", \"zerolinecolor\": \"white\"}, \"zaxis\": {\"backgroundcolor\": \"#E5ECF6\", \"gridcolor\": \"white\", \"gridwidth\": 2, \"linecolor\": \"white\", \"showbackground\": true, \"ticks\": \"\", \"zerolinecolor\": \"white\"}}, \"shapedefaults\": {\"line\": {\"color\": \"#2a3f5f\"}}, \"ternary\": {\"aaxis\": {\"gridcolor\": \"white\", \"linecolor\": \"white\", \"ticks\": \"\"}, \"baxis\": {\"gridcolor\": \"white\", \"linecolor\": \"white\", \"ticks\": \"\"}, \"bgcolor\": \"#E5ECF6\", \"caxis\": {\"gridcolor\": \"white\", \"linecolor\": \"white\", \"ticks\": \"\"}}, \"title\": {\"x\": 0.05}, \"xaxis\": {\"automargin\": true, \"gridcolor\": \"white\", \"linecolor\": \"white\", \"ticks\": \"\", \"title\": {\"standoff\": 15}, \"zerolinecolor\": \"white\", \"zerolinewidth\": 2}, \"yaxis\": {\"automargin\": true, \"gridcolor\": \"white\", \"linecolor\": \"white\", \"ticks\": \"\", \"title\": {\"standoff\": 15}, \"zerolinecolor\": \"white\", \"zerolinewidth\": 2}}}},\n",
              "                        {\"responsive\": true}\n",
              "                    ).then(function(){\n",
              "                            \n",
              "var gd = document.getElementById('cd16afc5-65bf-4962-a768-3d1e35871c51');\n",
              "var x = new MutationObserver(function (mutations, observer) {{\n",
              "        var display = window.getComputedStyle(gd).display;\n",
              "        if (!display || display === 'none') {{\n",
              "            console.log([gd, 'removed!']);\n",
              "            Plotly.purge(gd);\n",
              "            observer.disconnect();\n",
              "        }}\n",
              "}});\n",
              "\n",
              "// Listen for the removal of the full notebook cells\n",
              "var notebookContainer = gd.closest('#notebook-container');\n",
              "if (notebookContainer) {{\n",
              "    x.observe(notebookContainer, {childList: true});\n",
              "}}\n",
              "\n",
              "// Listen for the clearing of the current output cell\n",
              "var outputEl = gd.closest('.output');\n",
              "if (outputEl) {{\n",
              "    x.observe(outputEl, {childList: true});\n",
              "}}\n",
              "\n",
              "                        })\n",
              "                };\n",
              "                \n",
              "            </script>\n",
              "        </div>\n",
              "</body>\n",
              "</html>"
            ]
          },
          "metadata": {
            "tags": []
          }
        }
      ]
    },
    {
      "cell_type": "markdown",
      "metadata": {
        "id": "5-tb20B_WlfL"
      },
      "source": [
        "11. Find features that highly correlate(+/- 0.85) to each other - keep one feature and drop the rest. "
      ]
    },
    {
      "cell_type": "code",
      "metadata": {
        "id": "uiS5kjrSSK4l",
        "colab": {
          "base_uri": "https://localhost:8080/",
          "height": 419
        },
        "outputId": "acb1d986-c844-447c-f52b-6acd16f8cf5b"
      },
      "source": [
        "cars_df.drop(['wheelbase', 'carlength', 'carwidth', 'carheight', 'curbweight',\n",
        "       'cylindernumber', 'enginesize', 'boreratio', 'stroke',\n",
        "       'compressionratio', 'horsepower', 'peakrpm', 'is_gas', 'is_turbo', 'is_four_door', 'is_front_engine', 'priceK'], axis=1)"
      ],
      "execution_count": null,
      "outputs": [
        {
          "output_type": "execute_result",
          "data": {
            "text/html": [
              "<div>\n",
              "<style scoped>\n",
              "    .dataframe tbody tr th:only-of-type {\n",
              "        vertical-align: middle;\n",
              "    }\n",
              "\n",
              "    .dataframe tbody tr th {\n",
              "        vertical-align: top;\n",
              "    }\n",
              "\n",
              "    .dataframe thead th {\n",
              "        text-align: right;\n",
              "    }\n",
              "</style>\n",
              "<table border=\"1\" class=\"dataframe\">\n",
              "  <thead>\n",
              "    <tr style=\"text-align: right;\">\n",
              "      <th></th>\n",
              "      <th>citympg</th>\n",
              "      <th>highwaympg</th>\n",
              "    </tr>\n",
              "  </thead>\n",
              "  <tbody>\n",
              "    <tr>\n",
              "      <th>0</th>\n",
              "      <td>21</td>\n",
              "      <td>27</td>\n",
              "    </tr>\n",
              "    <tr>\n",
              "      <th>1</th>\n",
              "      <td>21</td>\n",
              "      <td>27</td>\n",
              "    </tr>\n",
              "    <tr>\n",
              "      <th>2</th>\n",
              "      <td>19</td>\n",
              "      <td>26</td>\n",
              "    </tr>\n",
              "    <tr>\n",
              "      <th>3</th>\n",
              "      <td>24</td>\n",
              "      <td>30</td>\n",
              "    </tr>\n",
              "    <tr>\n",
              "      <th>4</th>\n",
              "      <td>18</td>\n",
              "      <td>22</td>\n",
              "    </tr>\n",
              "    <tr>\n",
              "      <th>...</th>\n",
              "      <td>...</td>\n",
              "      <td>...</td>\n",
              "    </tr>\n",
              "    <tr>\n",
              "      <th>200</th>\n",
              "      <td>23</td>\n",
              "      <td>28</td>\n",
              "    </tr>\n",
              "    <tr>\n",
              "      <th>201</th>\n",
              "      <td>19</td>\n",
              "      <td>25</td>\n",
              "    </tr>\n",
              "    <tr>\n",
              "      <th>202</th>\n",
              "      <td>18</td>\n",
              "      <td>23</td>\n",
              "    </tr>\n",
              "    <tr>\n",
              "      <th>203</th>\n",
              "      <td>26</td>\n",
              "      <td>27</td>\n",
              "    </tr>\n",
              "    <tr>\n",
              "      <th>204</th>\n",
              "      <td>19</td>\n",
              "      <td>25</td>\n",
              "    </tr>\n",
              "  </tbody>\n",
              "</table>\n",
              "<p>205 rows × 2 columns</p>\n",
              "</div>"
            ],
            "text/plain": [
              "     citympg  highwaympg\n",
              "0         21          27\n",
              "1         21          27\n",
              "2         19          26\n",
              "3         24          30\n",
              "4         18          22\n",
              "..       ...         ...\n",
              "200       23          28\n",
              "201       19          25\n",
              "202       18          23\n",
              "203       26          27\n",
              "204       19          25\n",
              "\n",
              "[205 rows x 2 columns]"
            ]
          },
          "metadata": {
            "tags": []
          },
          "execution_count": 208
        }
      ]
    },
    {
      "cell_type": "markdown",
      "metadata": {
        "id": "q1EyARkcXJHM"
      },
      "source": [
        "12. Feature selection - Find features that highly correlate to the target(price) - keep them and drop the rest. (-0.66 > high correlation > 0.66) "
      ]
    },
    {
      "cell_type": "code",
      "metadata": {
        "id": "Hp7hxOXIMnTD",
        "colab": {
          "base_uri": "https://localhost:8080/",
          "height": 419
        },
        "outputId": "6798a4d9-eef8-4c9e-d1fe-5f3c0520215e"
      },
      "source": [
        "cars_df.drop(['wheelbase', 'carheight', 'boreratio', 'stroke',\n",
        "       'compressionratio', 'peakrpm', 'is_gas', 'is_turbo', 'is_four_door', 'is_front_engine'], axis=1,inplace=True)\n",
        "cars_df"
      ],
      "execution_count": null,
      "outputs": [
        {
          "output_type": "execute_result",
          "data": {
            "text/html": [
              "<div>\n",
              "<style scoped>\n",
              "    .dataframe tbody tr th:only-of-type {\n",
              "        vertical-align: middle;\n",
              "    }\n",
              "\n",
              "    .dataframe tbody tr th {\n",
              "        vertical-align: top;\n",
              "    }\n",
              "\n",
              "    .dataframe thead th {\n",
              "        text-align: right;\n",
              "    }\n",
              "</style>\n",
              "<table border=\"1\" class=\"dataframe\">\n",
              "  <thead>\n",
              "    <tr style=\"text-align: right;\">\n",
              "      <th></th>\n",
              "      <th>carlength</th>\n",
              "      <th>carwidth</th>\n",
              "      <th>curbweight</th>\n",
              "      <th>cylindernumber</th>\n",
              "      <th>enginesize</th>\n",
              "      <th>horsepower</th>\n",
              "      <th>citympg</th>\n",
              "      <th>highwaympg</th>\n",
              "      <th>priceK</th>\n",
              "    </tr>\n",
              "  </thead>\n",
              "  <tbody>\n",
              "    <tr>\n",
              "      <th>0</th>\n",
              "      <td>168.8</td>\n",
              "      <td>64.1</td>\n",
              "      <td>2548</td>\n",
              "      <td>4</td>\n",
              "      <td>130</td>\n",
              "      <td>111</td>\n",
              "      <td>21</td>\n",
              "      <td>27</td>\n",
              "      <td>13.495</td>\n",
              "    </tr>\n",
              "    <tr>\n",
              "      <th>1</th>\n",
              "      <td>168.8</td>\n",
              "      <td>64.1</td>\n",
              "      <td>2548</td>\n",
              "      <td>4</td>\n",
              "      <td>130</td>\n",
              "      <td>111</td>\n",
              "      <td>21</td>\n",
              "      <td>27</td>\n",
              "      <td>16.500</td>\n",
              "    </tr>\n",
              "    <tr>\n",
              "      <th>2</th>\n",
              "      <td>171.2</td>\n",
              "      <td>65.5</td>\n",
              "      <td>2823</td>\n",
              "      <td>6</td>\n",
              "      <td>152</td>\n",
              "      <td>154</td>\n",
              "      <td>19</td>\n",
              "      <td>26</td>\n",
              "      <td>16.500</td>\n",
              "    </tr>\n",
              "    <tr>\n",
              "      <th>3</th>\n",
              "      <td>176.6</td>\n",
              "      <td>66.2</td>\n",
              "      <td>2337</td>\n",
              "      <td>4</td>\n",
              "      <td>109</td>\n",
              "      <td>102</td>\n",
              "      <td>24</td>\n",
              "      <td>30</td>\n",
              "      <td>13.950</td>\n",
              "    </tr>\n",
              "    <tr>\n",
              "      <th>4</th>\n",
              "      <td>176.6</td>\n",
              "      <td>66.4</td>\n",
              "      <td>2824</td>\n",
              "      <td>5</td>\n",
              "      <td>136</td>\n",
              "      <td>115</td>\n",
              "      <td>18</td>\n",
              "      <td>22</td>\n",
              "      <td>17.450</td>\n",
              "    </tr>\n",
              "    <tr>\n",
              "      <th>...</th>\n",
              "      <td>...</td>\n",
              "      <td>...</td>\n",
              "      <td>...</td>\n",
              "      <td>...</td>\n",
              "      <td>...</td>\n",
              "      <td>...</td>\n",
              "      <td>...</td>\n",
              "      <td>...</td>\n",
              "      <td>...</td>\n",
              "    </tr>\n",
              "    <tr>\n",
              "      <th>200</th>\n",
              "      <td>188.8</td>\n",
              "      <td>68.9</td>\n",
              "      <td>2952</td>\n",
              "      <td>4</td>\n",
              "      <td>141</td>\n",
              "      <td>114</td>\n",
              "      <td>23</td>\n",
              "      <td>28</td>\n",
              "      <td>16.845</td>\n",
              "    </tr>\n",
              "    <tr>\n",
              "      <th>201</th>\n",
              "      <td>188.8</td>\n",
              "      <td>68.8</td>\n",
              "      <td>3049</td>\n",
              "      <td>4</td>\n",
              "      <td>141</td>\n",
              "      <td>160</td>\n",
              "      <td>19</td>\n",
              "      <td>25</td>\n",
              "      <td>19.045</td>\n",
              "    </tr>\n",
              "    <tr>\n",
              "      <th>202</th>\n",
              "      <td>188.8</td>\n",
              "      <td>68.9</td>\n",
              "      <td>3012</td>\n",
              "      <td>6</td>\n",
              "      <td>173</td>\n",
              "      <td>134</td>\n",
              "      <td>18</td>\n",
              "      <td>23</td>\n",
              "      <td>21.485</td>\n",
              "    </tr>\n",
              "    <tr>\n",
              "      <th>203</th>\n",
              "      <td>188.8</td>\n",
              "      <td>68.9</td>\n",
              "      <td>3217</td>\n",
              "      <td>6</td>\n",
              "      <td>145</td>\n",
              "      <td>106</td>\n",
              "      <td>26</td>\n",
              "      <td>27</td>\n",
              "      <td>22.470</td>\n",
              "    </tr>\n",
              "    <tr>\n",
              "      <th>204</th>\n",
              "      <td>188.8</td>\n",
              "      <td>68.9</td>\n",
              "      <td>3062</td>\n",
              "      <td>4</td>\n",
              "      <td>141</td>\n",
              "      <td>114</td>\n",
              "      <td>19</td>\n",
              "      <td>25</td>\n",
              "      <td>22.625</td>\n",
              "    </tr>\n",
              "  </tbody>\n",
              "</table>\n",
              "<p>205 rows × 9 columns</p>\n",
              "</div>"
            ],
            "text/plain": [
              "     carlength  carwidth  curbweight  ...  citympg  highwaympg  priceK\n",
              "0        168.8      64.1        2548  ...       21          27  13.495\n",
              "1        168.8      64.1        2548  ...       21          27  16.500\n",
              "2        171.2      65.5        2823  ...       19          26  16.500\n",
              "3        176.6      66.2        2337  ...       24          30  13.950\n",
              "4        176.6      66.4        2824  ...       18          22  17.450\n",
              "..         ...       ...         ...  ...      ...         ...     ...\n",
              "200      188.8      68.9        2952  ...       23          28  16.845\n",
              "201      188.8      68.8        3049  ...       19          25  19.045\n",
              "202      188.8      68.9        3012  ...       18          23  21.485\n",
              "203      188.8      68.9        3217  ...       26          27  22.470\n",
              "204      188.8      68.9        3062  ...       19          25  22.625\n",
              "\n",
              "[205 rows x 9 columns]"
            ]
          },
          "metadata": {
            "tags": []
          },
          "execution_count": 209
        }
      ]
    },
    {
      "cell_type": "markdown",
      "metadata": {
        "id": "6uoF8vMPtx2b"
      },
      "source": [
        "13. EDA plot a side by side bar chart of the mean price and mean enginesize for each number of cylinders"
      ]
    },
    {
      "cell_type": "code",
      "metadata": {
        "colab": {
          "base_uri": "https://localhost:8080/",
          "height": 297
        },
        "id": "dITsZR2K9wkQ",
        "outputId": "c09e4052-417e-4620-a20c-985d8f387deb"
      },
      "source": [
        "cylinders_df=cars_df[['priceK','enginesize','cylindernumber']].groupby(by=['cylindernumber']).mean()\n",
        "cylinders_df"
      ],
      "execution_count": null,
      "outputs": [
        {
          "output_type": "execute_result",
          "data": {
            "text/html": [
              "<div>\n",
              "<style scoped>\n",
              "    .dataframe tbody tr th:only-of-type {\n",
              "        vertical-align: middle;\n",
              "    }\n",
              "\n",
              "    .dataframe tbody tr th {\n",
              "        vertical-align: top;\n",
              "    }\n",
              "\n",
              "    .dataframe thead th {\n",
              "        text-align: right;\n",
              "    }\n",
              "</style>\n",
              "<table border=\"1\" class=\"dataframe\">\n",
              "  <thead>\n",
              "    <tr style=\"text-align: right;\">\n",
              "      <th></th>\n",
              "      <th>priceK</th>\n",
              "      <th>enginesize</th>\n",
              "    </tr>\n",
              "    <tr>\n",
              "      <th>cylindernumber</th>\n",
              "      <th></th>\n",
              "      <th></th>\n",
              "    </tr>\n",
              "  </thead>\n",
              "  <tbody>\n",
              "    <tr>\n",
              "      <th>2</th>\n",
              "      <td>13.020</td>\n",
              "      <td>72.500</td>\n",
              "    </tr>\n",
              "    <tr>\n",
              "      <th>3</th>\n",
              "      <td>5.151</td>\n",
              "      <td>61.000</td>\n",
              "    </tr>\n",
              "    <tr>\n",
              "      <th>4</th>\n",
              "      <td>10.286</td>\n",
              "      <td>112.799</td>\n",
              "    </tr>\n",
              "    <tr>\n",
              "      <th>5</th>\n",
              "      <td>21.630</td>\n",
              "      <td>152.182</td>\n",
              "    </tr>\n",
              "    <tr>\n",
              "      <th>6</th>\n",
              "      <td>23.672</td>\n",
              "      <td>185.292</td>\n",
              "    </tr>\n",
              "    <tr>\n",
              "      <th>8</th>\n",
              "      <td>37.400</td>\n",
              "      <td>256.600</td>\n",
              "    </tr>\n",
              "    <tr>\n",
              "      <th>12</th>\n",
              "      <td>36.000</td>\n",
              "      <td>326.000</td>\n",
              "    </tr>\n",
              "  </tbody>\n",
              "</table>\n",
              "</div>"
            ],
            "text/plain": [
              "                priceK  enginesize\n",
              "cylindernumber                    \n",
              "2               13.020      72.500\n",
              "3                5.151      61.000\n",
              "4               10.286     112.799\n",
              "5               21.630     152.182\n",
              "6               23.672     185.292\n",
              "8               37.400     256.600\n",
              "12              36.000     326.000"
            ]
          },
          "metadata": {
            "tags": []
          },
          "execution_count": 210
        }
      ]
    },
    {
      "cell_type": "code",
      "metadata": {
        "id": "Cnzes_O5OVG3",
        "colab": {
          "base_uri": "https://localhost:8080/",
          "height": 542
        },
        "outputId": "85236e0e-6e74-4443-be43-01f7f6a86e07"
      },
      "source": [
        "fig = go.Figure()\n",
        "fig.add_trace(go.Bar(name='enginesize', x=cylinders_df.index, y=cylinders_df['enginesize'], marker_color='blue'))\n",
        "fig.add_trace(go.Bar(name='priceK', x=cylinders_df.index, y=cylinders_df['priceK'], marker_color='green'))\n",
        "fig.update_layout(\n",
        "    barmode='group',\n",
        "    title='Price and Engine-size by number of cylinders', \n",
        "    xaxis_title='Number of cylinders')\n",
        "fig.show()"
      ],
      "execution_count": null,
      "outputs": [
        {
          "output_type": "display_data",
          "data": {
            "text/html": [
              "<html>\n",
              "<head><meta charset=\"utf-8\" /></head>\n",
              "<body>\n",
              "    <div>\n",
              "            <script src=\"https://cdnjs.cloudflare.com/ajax/libs/mathjax/2.7.5/MathJax.js?config=TeX-AMS-MML_SVG\"></script><script type=\"text/javascript\">if (window.MathJax) {MathJax.Hub.Config({SVG: {font: \"STIX-Web\"}});}</script>\n",
              "                <script type=\"text/javascript\">window.PlotlyConfig = {MathJaxConfig: 'local'};</script>\n",
              "        <script src=\"https://cdn.plot.ly/plotly-latest.min.js\"></script>    \n",
              "            <div id=\"6fdf1387-aaed-49e6-ac9a-5a80204f31d1\" class=\"plotly-graph-div\" style=\"height:525px; width:100%;\"></div>\n",
              "            <script type=\"text/javascript\">\n",
              "                \n",
              "                    window.PLOTLYENV=window.PLOTLYENV || {};\n",
              "                    \n",
              "                if (document.getElementById(\"6fdf1387-aaed-49e6-ac9a-5a80204f31d1\")) {\n",
              "                    Plotly.newPlot(\n",
              "                        '6fdf1387-aaed-49e6-ac9a-5a80204f31d1',\n",
              "                        [{\"marker\": {\"color\": \"blue\"}, \"name\": \"enginesize\", \"type\": \"bar\", \"x\": [2, 3, 4, 5, 6, 8, 12], \"y\": [72.5, 61.0, 112.79874213836477, 152.1818181818182, 185.29166666666666, 256.6, 326.0]}, {\"marker\": {\"color\": \"green\"}, \"name\": \"priceK\", \"type\": \"bar\", \"x\": [2, 3, 4, 5, 6, 8, 12], \"y\": [13.02, 5.151, 10.285754716981138, 21.630469727272725, 23.67183333333334, 37.400099999999995, 36.0]}],\n",
              "                        {\"barmode\": \"group\", \"template\": {\"data\": {\"bar\": [{\"error_x\": {\"color\": \"#2a3f5f\"}, \"error_y\": {\"color\": \"#2a3f5f\"}, \"marker\": {\"line\": {\"color\": \"#E5ECF6\", \"width\": 0.5}}, \"type\": \"bar\"}], \"barpolar\": [{\"marker\": {\"line\": {\"color\": \"#E5ECF6\", \"width\": 0.5}}, \"type\": \"barpolar\"}], \"carpet\": [{\"aaxis\": {\"endlinecolor\": \"#2a3f5f\", \"gridcolor\": \"white\", \"linecolor\": \"white\", \"minorgridcolor\": \"white\", \"startlinecolor\": \"#2a3f5f\"}, \"baxis\": {\"endlinecolor\": \"#2a3f5f\", \"gridcolor\": \"white\", \"linecolor\": \"white\", \"minorgridcolor\": \"white\", \"startlinecolor\": \"#2a3f5f\"}, \"type\": \"carpet\"}], \"choropleth\": [{\"colorbar\": {\"outlinewidth\": 0, \"ticks\": \"\"}, \"type\": \"choropleth\"}], \"contour\": [{\"colorbar\": {\"outlinewidth\": 0, \"ticks\": \"\"}, \"colorscale\": [[0.0, \"#0d0887\"], [0.1111111111111111, \"#46039f\"], [0.2222222222222222, \"#7201a8\"], [0.3333333333333333, \"#9c179e\"], [0.4444444444444444, \"#bd3786\"], [0.5555555555555556, \"#d8576b\"], [0.6666666666666666, \"#ed7953\"], [0.7777777777777778, \"#fb9f3a\"], [0.8888888888888888, \"#fdca26\"], [1.0, \"#f0f921\"]], \"type\": \"contour\"}], \"contourcarpet\": [{\"colorbar\": {\"outlinewidth\": 0, \"ticks\": \"\"}, \"type\": \"contourcarpet\"}], \"heatmap\": [{\"colorbar\": {\"outlinewidth\": 0, \"ticks\": \"\"}, \"colorscale\": [[0.0, \"#0d0887\"], [0.1111111111111111, \"#46039f\"], [0.2222222222222222, \"#7201a8\"], [0.3333333333333333, \"#9c179e\"], [0.4444444444444444, \"#bd3786\"], [0.5555555555555556, \"#d8576b\"], [0.6666666666666666, \"#ed7953\"], [0.7777777777777778, \"#fb9f3a\"], [0.8888888888888888, \"#fdca26\"], [1.0, \"#f0f921\"]], \"type\": \"heatmap\"}], \"heatmapgl\": [{\"colorbar\": {\"outlinewidth\": 0, \"ticks\": \"\"}, \"colorscale\": [[0.0, \"#0d0887\"], [0.1111111111111111, \"#46039f\"], [0.2222222222222222, \"#7201a8\"], [0.3333333333333333, \"#9c179e\"], [0.4444444444444444, \"#bd3786\"], [0.5555555555555556, \"#d8576b\"], [0.6666666666666666, \"#ed7953\"], [0.7777777777777778, \"#fb9f3a\"], [0.8888888888888888, \"#fdca26\"], [1.0, \"#f0f921\"]], \"type\": \"heatmapgl\"}], \"histogram\": [{\"marker\": {\"colorbar\": {\"outlinewidth\": 0, \"ticks\": \"\"}}, \"type\": \"histogram\"}], \"histogram2d\": [{\"colorbar\": {\"outlinewidth\": 0, \"ticks\": \"\"}, \"colorscale\": [[0.0, \"#0d0887\"], [0.1111111111111111, \"#46039f\"], [0.2222222222222222, \"#7201a8\"], [0.3333333333333333, \"#9c179e\"], [0.4444444444444444, \"#bd3786\"], [0.5555555555555556, \"#d8576b\"], [0.6666666666666666, \"#ed7953\"], [0.7777777777777778, \"#fb9f3a\"], [0.8888888888888888, \"#fdca26\"], [1.0, \"#f0f921\"]], \"type\": \"histogram2d\"}], \"histogram2dcontour\": [{\"colorbar\": {\"outlinewidth\": 0, \"ticks\": \"\"}, \"colorscale\": [[0.0, \"#0d0887\"], [0.1111111111111111, \"#46039f\"], [0.2222222222222222, \"#7201a8\"], [0.3333333333333333, \"#9c179e\"], [0.4444444444444444, \"#bd3786\"], [0.5555555555555556, \"#d8576b\"], [0.6666666666666666, \"#ed7953\"], [0.7777777777777778, \"#fb9f3a\"], [0.8888888888888888, \"#fdca26\"], [1.0, \"#f0f921\"]], \"type\": \"histogram2dcontour\"}], \"mesh3d\": [{\"colorbar\": {\"outlinewidth\": 0, \"ticks\": \"\"}, \"type\": \"mesh3d\"}], \"parcoords\": [{\"line\": {\"colorbar\": {\"outlinewidth\": 0, \"ticks\": \"\"}}, \"type\": \"parcoords\"}], \"pie\": [{\"automargin\": true, \"type\": \"pie\"}], \"scatter\": [{\"marker\": {\"colorbar\": {\"outlinewidth\": 0, \"ticks\": \"\"}}, \"type\": \"scatter\"}], \"scatter3d\": [{\"line\": {\"colorbar\": {\"outlinewidth\": 0, \"ticks\": \"\"}}, \"marker\": {\"colorbar\": {\"outlinewidth\": 0, \"ticks\": \"\"}}, \"type\": \"scatter3d\"}], \"scattercarpet\": [{\"marker\": {\"colorbar\": {\"outlinewidth\": 0, \"ticks\": \"\"}}, \"type\": \"scattercarpet\"}], \"scattergeo\": [{\"marker\": {\"colorbar\": {\"outlinewidth\": 0, \"ticks\": \"\"}}, \"type\": \"scattergeo\"}], \"scattergl\": [{\"marker\": {\"colorbar\": {\"outlinewidth\": 0, \"ticks\": \"\"}}, \"type\": \"scattergl\"}], \"scattermapbox\": [{\"marker\": {\"colorbar\": {\"outlinewidth\": 0, \"ticks\": \"\"}}, \"type\": \"scattermapbox\"}], \"scatterpolar\": [{\"marker\": {\"colorbar\": {\"outlinewidth\": 0, \"ticks\": \"\"}}, \"type\": \"scatterpolar\"}], \"scatterpolargl\": [{\"marker\": {\"colorbar\": {\"outlinewidth\": 0, \"ticks\": \"\"}}, \"type\": \"scatterpolargl\"}], \"scatterternary\": [{\"marker\": {\"colorbar\": {\"outlinewidth\": 0, \"ticks\": \"\"}}, \"type\": \"scatterternary\"}], \"surface\": [{\"colorbar\": {\"outlinewidth\": 0, \"ticks\": \"\"}, \"colorscale\": [[0.0, \"#0d0887\"], [0.1111111111111111, \"#46039f\"], [0.2222222222222222, \"#7201a8\"], [0.3333333333333333, \"#9c179e\"], [0.4444444444444444, \"#bd3786\"], [0.5555555555555556, \"#d8576b\"], [0.6666666666666666, \"#ed7953\"], [0.7777777777777778, \"#fb9f3a\"], [0.8888888888888888, \"#fdca26\"], [1.0, \"#f0f921\"]], \"type\": \"surface\"}], \"table\": [{\"cells\": {\"fill\": {\"color\": \"#EBF0F8\"}, \"line\": {\"color\": \"white\"}}, \"header\": {\"fill\": {\"color\": \"#C8D4E3\"}, \"line\": {\"color\": \"white\"}}, \"type\": \"table\"}]}, \"layout\": {\"annotationdefaults\": {\"arrowcolor\": \"#2a3f5f\", \"arrowhead\": 0, \"arrowwidth\": 1}, \"coloraxis\": {\"colorbar\": {\"outlinewidth\": 0, \"ticks\": \"\"}}, \"colorscale\": {\"diverging\": [[0, \"#8e0152\"], [0.1, \"#c51b7d\"], [0.2, \"#de77ae\"], [0.3, \"#f1b6da\"], [0.4, \"#fde0ef\"], [0.5, \"#f7f7f7\"], [0.6, \"#e6f5d0\"], [0.7, \"#b8e186\"], [0.8, \"#7fbc41\"], [0.9, \"#4d9221\"], [1, \"#276419\"]], \"sequential\": [[0.0, \"#0d0887\"], [0.1111111111111111, \"#46039f\"], [0.2222222222222222, \"#7201a8\"], [0.3333333333333333, \"#9c179e\"], [0.4444444444444444, \"#bd3786\"], [0.5555555555555556, \"#d8576b\"], [0.6666666666666666, \"#ed7953\"], [0.7777777777777778, \"#fb9f3a\"], [0.8888888888888888, \"#fdca26\"], [1.0, \"#f0f921\"]], \"sequentialminus\": [[0.0, \"#0d0887\"], [0.1111111111111111, \"#46039f\"], [0.2222222222222222, \"#7201a8\"], [0.3333333333333333, \"#9c179e\"], [0.4444444444444444, \"#bd3786\"], [0.5555555555555556, \"#d8576b\"], [0.6666666666666666, \"#ed7953\"], [0.7777777777777778, \"#fb9f3a\"], [0.8888888888888888, \"#fdca26\"], [1.0, \"#f0f921\"]]}, \"colorway\": [\"#636efa\", \"#EF553B\", \"#00cc96\", \"#ab63fa\", \"#FFA15A\", \"#19d3f3\", \"#FF6692\", \"#B6E880\", \"#FF97FF\", \"#FECB52\"], \"font\": {\"color\": \"#2a3f5f\"}, \"geo\": {\"bgcolor\": \"white\", \"lakecolor\": \"white\", \"landcolor\": \"#E5ECF6\", \"showlakes\": true, \"showland\": true, \"subunitcolor\": \"white\"}, \"hoverlabel\": {\"align\": \"left\"}, \"hovermode\": \"closest\", \"mapbox\": {\"style\": \"light\"}, \"paper_bgcolor\": \"white\", \"plot_bgcolor\": \"#E5ECF6\", \"polar\": {\"angularaxis\": {\"gridcolor\": \"white\", \"linecolor\": \"white\", \"ticks\": \"\"}, \"bgcolor\": \"#E5ECF6\", \"radialaxis\": {\"gridcolor\": \"white\", \"linecolor\": \"white\", \"ticks\": \"\"}}, \"scene\": {\"xaxis\": {\"backgroundcolor\": \"#E5ECF6\", \"gridcolor\": \"white\", \"gridwidth\": 2, \"linecolor\": \"white\", \"showbackground\": true, \"ticks\": \"\", \"zerolinecolor\": \"white\"}, \"yaxis\": {\"backgroundcolor\": \"#E5ECF6\", \"gridcolor\": \"white\", \"gridwidth\": 2, \"linecolor\": \"white\", \"showbackground\": true, \"ticks\": \"\", \"zerolinecolor\": \"white\"}, \"zaxis\": {\"backgroundcolor\": \"#E5ECF6\", \"gridcolor\": \"white\", \"gridwidth\": 2, \"linecolor\": \"white\", \"showbackground\": true, \"ticks\": \"\", \"zerolinecolor\": \"white\"}}, \"shapedefaults\": {\"line\": {\"color\": \"#2a3f5f\"}}, \"ternary\": {\"aaxis\": {\"gridcolor\": \"white\", \"linecolor\": \"white\", \"ticks\": \"\"}, \"baxis\": {\"gridcolor\": \"white\", \"linecolor\": \"white\", \"ticks\": \"\"}, \"bgcolor\": \"#E5ECF6\", \"caxis\": {\"gridcolor\": \"white\", \"linecolor\": \"white\", \"ticks\": \"\"}}, \"title\": {\"x\": 0.05}, \"xaxis\": {\"automargin\": true, \"gridcolor\": \"white\", \"linecolor\": \"white\", \"ticks\": \"\", \"title\": {\"standoff\": 15}, \"zerolinecolor\": \"white\", \"zerolinewidth\": 2}, \"yaxis\": {\"automargin\": true, \"gridcolor\": \"white\", \"linecolor\": \"white\", \"ticks\": \"\", \"title\": {\"standoff\": 15}, \"zerolinecolor\": \"white\", \"zerolinewidth\": 2}}}, \"title\": {\"text\": \"Price and Engine-size by number of cylinders\"}, \"xaxis\": {\"title\": {\"text\": \"Number of cylinders\"}}},\n",
              "                        {\"responsive\": true}\n",
              "                    ).then(function(){\n",
              "                            \n",
              "var gd = document.getElementById('6fdf1387-aaed-49e6-ac9a-5a80204f31d1');\n",
              "var x = new MutationObserver(function (mutations, observer) {{\n",
              "        var display = window.getComputedStyle(gd).display;\n",
              "        if (!display || display === 'none') {{\n",
              "            console.log([gd, 'removed!']);\n",
              "            Plotly.purge(gd);\n",
              "            observer.disconnect();\n",
              "        }}\n",
              "}});\n",
              "\n",
              "// Listen for the removal of the full notebook cells\n",
              "var notebookContainer = gd.closest('#notebook-container');\n",
              "if (notebookContainer) {{\n",
              "    x.observe(notebookContainer, {childList: true});\n",
              "}}\n",
              "\n",
              "// Listen for the clearing of the current output cell\n",
              "var outputEl = gd.closest('.output');\n",
              "if (outputEl) {{\n",
              "    x.observe(outputEl, {childList: true});\n",
              "}}\n",
              "\n",
              "                        })\n",
              "                };\n",
              "                \n",
              "            </script>\n",
              "        </div>\n",
              "</body>\n",
              "</html>"
            ]
          },
          "metadata": {
            "tags": []
          }
        }
      ]
    },
    {
      "cell_type": "markdown",
      "metadata": {
        "id": "zOk3rRdYcbyu"
      },
      "source": [
        "14. Set the X and y and divide the DF to train and test dataframes "
      ]
    },
    {
      "cell_type": "code",
      "metadata": {
        "colab": {
          "base_uri": "https://localhost:8080/",
          "height": 419
        },
        "id": "1nVCaOEORvnb",
        "outputId": "46ba413c-f44c-4f73-98f2-77068d8afc5f"
      },
      "source": [
        "cars_df"
      ],
      "execution_count": null,
      "outputs": [
        {
          "output_type": "execute_result",
          "data": {
            "text/html": [
              "<div>\n",
              "<style scoped>\n",
              "    .dataframe tbody tr th:only-of-type {\n",
              "        vertical-align: middle;\n",
              "    }\n",
              "\n",
              "    .dataframe tbody tr th {\n",
              "        vertical-align: top;\n",
              "    }\n",
              "\n",
              "    .dataframe thead th {\n",
              "        text-align: right;\n",
              "    }\n",
              "</style>\n",
              "<table border=\"1\" class=\"dataframe\">\n",
              "  <thead>\n",
              "    <tr style=\"text-align: right;\">\n",
              "      <th></th>\n",
              "      <th>carlength</th>\n",
              "      <th>carwidth</th>\n",
              "      <th>curbweight</th>\n",
              "      <th>cylindernumber</th>\n",
              "      <th>enginesize</th>\n",
              "      <th>horsepower</th>\n",
              "      <th>citympg</th>\n",
              "      <th>highwaympg</th>\n",
              "      <th>priceK</th>\n",
              "    </tr>\n",
              "  </thead>\n",
              "  <tbody>\n",
              "    <tr>\n",
              "      <th>0</th>\n",
              "      <td>168.8</td>\n",
              "      <td>64.1</td>\n",
              "      <td>2548</td>\n",
              "      <td>4</td>\n",
              "      <td>130</td>\n",
              "      <td>111</td>\n",
              "      <td>21</td>\n",
              "      <td>27</td>\n",
              "      <td>13.495</td>\n",
              "    </tr>\n",
              "    <tr>\n",
              "      <th>1</th>\n",
              "      <td>168.8</td>\n",
              "      <td>64.1</td>\n",
              "      <td>2548</td>\n",
              "      <td>4</td>\n",
              "      <td>130</td>\n",
              "      <td>111</td>\n",
              "      <td>21</td>\n",
              "      <td>27</td>\n",
              "      <td>16.500</td>\n",
              "    </tr>\n",
              "    <tr>\n",
              "      <th>2</th>\n",
              "      <td>171.2</td>\n",
              "      <td>65.5</td>\n",
              "      <td>2823</td>\n",
              "      <td>6</td>\n",
              "      <td>152</td>\n",
              "      <td>154</td>\n",
              "      <td>19</td>\n",
              "      <td>26</td>\n",
              "      <td>16.500</td>\n",
              "    </tr>\n",
              "    <tr>\n",
              "      <th>3</th>\n",
              "      <td>176.6</td>\n",
              "      <td>66.2</td>\n",
              "      <td>2337</td>\n",
              "      <td>4</td>\n",
              "      <td>109</td>\n",
              "      <td>102</td>\n",
              "      <td>24</td>\n",
              "      <td>30</td>\n",
              "      <td>13.950</td>\n",
              "    </tr>\n",
              "    <tr>\n",
              "      <th>4</th>\n",
              "      <td>176.6</td>\n",
              "      <td>66.4</td>\n",
              "      <td>2824</td>\n",
              "      <td>5</td>\n",
              "      <td>136</td>\n",
              "      <td>115</td>\n",
              "      <td>18</td>\n",
              "      <td>22</td>\n",
              "      <td>17.450</td>\n",
              "    </tr>\n",
              "    <tr>\n",
              "      <th>...</th>\n",
              "      <td>...</td>\n",
              "      <td>...</td>\n",
              "      <td>...</td>\n",
              "      <td>...</td>\n",
              "      <td>...</td>\n",
              "      <td>...</td>\n",
              "      <td>...</td>\n",
              "      <td>...</td>\n",
              "      <td>...</td>\n",
              "    </tr>\n",
              "    <tr>\n",
              "      <th>200</th>\n",
              "      <td>188.8</td>\n",
              "      <td>68.9</td>\n",
              "      <td>2952</td>\n",
              "      <td>4</td>\n",
              "      <td>141</td>\n",
              "      <td>114</td>\n",
              "      <td>23</td>\n",
              "      <td>28</td>\n",
              "      <td>16.845</td>\n",
              "    </tr>\n",
              "    <tr>\n",
              "      <th>201</th>\n",
              "      <td>188.8</td>\n",
              "      <td>68.8</td>\n",
              "      <td>3049</td>\n",
              "      <td>4</td>\n",
              "      <td>141</td>\n",
              "      <td>160</td>\n",
              "      <td>19</td>\n",
              "      <td>25</td>\n",
              "      <td>19.045</td>\n",
              "    </tr>\n",
              "    <tr>\n",
              "      <th>202</th>\n",
              "      <td>188.8</td>\n",
              "      <td>68.9</td>\n",
              "      <td>3012</td>\n",
              "      <td>6</td>\n",
              "      <td>173</td>\n",
              "      <td>134</td>\n",
              "      <td>18</td>\n",
              "      <td>23</td>\n",
              "      <td>21.485</td>\n",
              "    </tr>\n",
              "    <tr>\n",
              "      <th>203</th>\n",
              "      <td>188.8</td>\n",
              "      <td>68.9</td>\n",
              "      <td>3217</td>\n",
              "      <td>6</td>\n",
              "      <td>145</td>\n",
              "      <td>106</td>\n",
              "      <td>26</td>\n",
              "      <td>27</td>\n",
              "      <td>22.470</td>\n",
              "    </tr>\n",
              "    <tr>\n",
              "      <th>204</th>\n",
              "      <td>188.8</td>\n",
              "      <td>68.9</td>\n",
              "      <td>3062</td>\n",
              "      <td>4</td>\n",
              "      <td>141</td>\n",
              "      <td>114</td>\n",
              "      <td>19</td>\n",
              "      <td>25</td>\n",
              "      <td>22.625</td>\n",
              "    </tr>\n",
              "  </tbody>\n",
              "</table>\n",
              "<p>205 rows × 9 columns</p>\n",
              "</div>"
            ],
            "text/plain": [
              "     carlength  carwidth  curbweight  ...  citympg  highwaympg  priceK\n",
              "0        168.8      64.1        2548  ...       21          27  13.495\n",
              "1        168.8      64.1        2548  ...       21          27  16.500\n",
              "2        171.2      65.5        2823  ...       19          26  16.500\n",
              "3        176.6      66.2        2337  ...       24          30  13.950\n",
              "4        176.6      66.4        2824  ...       18          22  17.450\n",
              "..         ...       ...         ...  ...      ...         ...     ...\n",
              "200      188.8      68.9        2952  ...       23          28  16.845\n",
              "201      188.8      68.8        3049  ...       19          25  19.045\n",
              "202      188.8      68.9        3012  ...       18          23  21.485\n",
              "203      188.8      68.9        3217  ...       26          27  22.470\n",
              "204      188.8      68.9        3062  ...       19          25  22.625\n",
              "\n",
              "[205 rows x 9 columns]"
            ]
          },
          "metadata": {
            "tags": []
          },
          "execution_count": 212
        }
      ]
    },
    {
      "cell_type": "code",
      "metadata": {
        "id": "WAO0btQojGGq",
        "colab": {
          "base_uri": "https://localhost:8080/"
        },
        "outputId": "e5609216-6753-4701-bda5-a9d8dee98c7a"
      },
      "source": [
        "\n",
        "from sklearn.model_selection import train_test_split\n",
        "X=cars_df[['enginesize','highwaympg', 'carlength', 'curbweight','horsepower','cylindernumber']]\n",
        "y=cars_df['priceK']\n",
        "\n",
        "X_train, X_test, y_train, y_test = train_test_split(X, y)\n",
        "train_df = pd.merge(left=X_train, right=y_train, left_index=True, right_index=True)\n",
        "test_df = pd.merge(left=X_test, right=y_test, left_index=True, right_index=True)\n",
        "\n",
        "print(test_df.shape)\n",
        "print(train_df.shape)\n",
        "\n"
      ],
      "execution_count": null,
      "outputs": [
        {
          "output_type": "stream",
          "text": [
            "(52, 7)\n",
            "(153, 7)\n"
          ],
          "name": "stdout"
        }
      ]
    },
    {
      "cell_type": "markdown",
      "metadata": {
        "id": "AYT0FEWvdIQM"
      },
      "source": [
        "15. Standard scale the 4 subsets seperately\n"
      ]
    },
    {
      "cell_type": "code",
      "metadata": {
        "id": "SAYQZ6wtliPG"
      },
      "source": [
        "from sklearn.preprocessing import StandardScaler\n",
        "\n",
        "x_train_scaler = StandardScaler()\n",
        "x_test_scaler  = StandardScaler()\n",
        "y_train_scaler = StandardScaler()\n",
        "y_test_scaler  = StandardScaler()\n",
        "X_train_scaled = x_train_scaler.fit_transform(X_train.values).transpose()\n",
        "X_test_scaled  = x_test_scaler.fit_transform(X_test)\n",
        "y_train_scaled = y_train_scaler.fit_transform(np.asarray(y_train).reshape(-1, 1))\n",
        "y_test_scaled  = y_test_scaler.fit_transform(np.asarray(y_test).reshape(-1, 1))"
      ],
      "execution_count": null,
      "outputs": []
    },
    {
      "cell_type": "markdown",
      "metadata": {
        "id": "rZ5-lAg-dPeL"
      },
      "source": [
        "16. For the **scaled** training set only - Plot a scatter graph for each of the independent variable by the dependent price variable"
      ]
    },
    {
      "cell_type": "code",
      "metadata": {
        "id": "U9PYfwg7oJSt",
        "colab": {
          "base_uri": "https://localhost:8080/"
        },
        "outputId": "72570288-9800-46ab-904a-229510005732"
      },
      "source": [
        "y_train_scaled[:, 0]"
      ],
      "execution_count": null,
      "outputs": [
        {
          "output_type": "execute_result",
          "data": {
            "text/plain": [
              "array([-0.72671699, -0.61775515,  0.36717682,  1.26098151,  0.2073987 ,\n",
              "       -0.8376333 ,  0.37597195,  0.04859781,  0.26847596,  0.23915887,\n",
              "        0.10344519, -0.68347429,  0.40223517,  3.3913565 , -0.56229699,\n",
              "       -0.57500106,  2.84960116, -0.68347429, -0.43525628, -0.99716712,\n",
              "       -0.34864872,  0.7508642 , -0.56626701, -0.63449032,  0.36192418,\n",
              "       -0.76434058, -0.7027747 , -0.80171987,  2.20462525, -0.51966506,\n",
              "       -0.76385197, -0.56571732,  0.40895367, -0.77618957, -0.85791095,\n",
              "        0.56164683,  3.89035775,  0.59462855,  0.65937045, -0.65440151,\n",
              "       -0.75212513, -0.83799976, -0.58318542,  2.6267913 , -0.31847655,\n",
              "       -0.89944349,  0.44547787, -0.23907611,  0.24770969,  0.18174625,\n",
              "       -0.88649511, -0.2874493 ,  0.50789884, -0.67834379, -0.56571732,\n",
              "       -0.40972599, -0.52760511, -0.43452335, -0.56626701, -0.61726653,\n",
              "       -0.81808858,  0.59206331, -0.76434058, -0.48900427, -0.83799976,\n",
              "       -0.97481284,  3.34799164, -1.02086509,  0.0376039 ,  1.03414055,\n",
              "       -0.7041184 ,  0.96903219,  2.28402569,  0.25564974,  0.61905946,\n",
              "       -0.49034797, -0.24469522,  1.79516327,  0.1144391 ,  0.9061226 ,\n",
              "        1.46583466, -0.87647844, -0.44673881, -0.65513443,  0.41200753,\n",
              "        0.16085782, -0.01675486,  0.65570582,  0.36045832, -0.72598406,\n",
              "        0.36009186, -0.82541785, -1.02623989, -0.20853748, -0.36123064,\n",
              "       -0.43537844, -0.22698281, -0.07477827,  0.35154104, -0.11276832,\n",
              "        2.68713564, -0.28183019, -0.67883241, -0.15417871, -0.78828287,\n",
              "       -0.28012003, -0.6906814 , -0.43892092,  0.5028905 ,  1.0893544 ,\n",
              "       -0.07416749, -0.52455124, -0.75774424, -0.0069825 , -0.47801037,\n",
              "        0.01134068,  0.67097513,  0.26114669, -0.61775515, -0.91092602,\n",
              "       -1.00217545,  2.18025542, -0.28146373, -0.09627746,  2.31798465,\n",
              "       -0.86291929, -0.56241915,  0.47613866, -0.7162117 ,  0.43033071,\n",
              "        0.29877028, -0.81039284, -0.98373012, -0.62337426,  2.50121645,\n",
              "       -0.84080932, -0.70570641,  0.52612026, -0.99594557,  0.92261347,\n",
              "       -0.00649388,  0.03577158, -0.64780516, -0.43635567, -0.89455731,\n",
              "       -0.64914886, -0.71022613, -0.57500106, -0.78461824, -0.69104787,\n",
              "       -0.6812755 , -0.20181898,  2.86768003])"
            ]
          },
          "metadata": {
            "tags": []
          },
          "execution_count": 215
        }
      ]
    },
    {
      "cell_type": "code",
      "metadata": {
        "id": "fs2I-k-BmBDE",
        "colab": {
          "base_uri": "https://localhost:8080/",
          "height": 917
        },
        "outputId": "fcbd1179-5a04-467b-8658-3c341635f58d"
      },
      "source": [
        "from plotly.subplots import make_subplots\n",
        "rows = 2\n",
        "cols = 3\n",
        "c = ['blue', 'green', 'brown', 'red', 'orange', 'magenta','black', 'yellow']\n",
        "fig = make_subplots(rows=rows, cols=cols, shared_yaxes=True, )\n",
        "count=0\n",
        "for i in range(rows):\n",
        "  for j in range(cols):\n",
        "    if count < len(X_train.columns):\n",
        "      fig.add_trace(go.Scatter(\n",
        "        y=y_train_scaled.reshape(1, -1)[0],\n",
        "        x=X_train_scaled[count],\n",
        "        mode='markers',\n",
        "        marker_color=c[count],\n",
        "        marker_size=2.5,\n",
        "        name=X.columns[count]\n",
        "        ),row=i+1, col=j+1\n",
        "      )\n",
        "      fig.update_xaxes(title_text=X_train.columns[count], row=i+1, col=j+1)\n",
        "    count+=1\n",
        "\n",
        "fig.update_layout(height=900, width=1200,\n",
        "                  title_text=\"Price by features\")\n",
        "fig.show()"
      ],
      "execution_count": null,
      "outputs": [
        {
          "output_type": "display_data",
          "data": {
            "text/html": [
              "<html>\n",
              "<head><meta charset=\"utf-8\" /></head>\n",
              "<body>\n",
              "    <div>\n",
              "            <script src=\"https://cdnjs.cloudflare.com/ajax/libs/mathjax/2.7.5/MathJax.js?config=TeX-AMS-MML_SVG\"></script><script type=\"text/javascript\">if (window.MathJax) {MathJax.Hub.Config({SVG: {font: \"STIX-Web\"}});}</script>\n",
              "                <script type=\"text/javascript\">window.PlotlyConfig = {MathJaxConfig: 'local'};</script>\n",
              "        <script src=\"https://cdn.plot.ly/plotly-latest.min.js\"></script>    \n",
              "            <div id=\"ffb19e60-1cd3-4707-987d-28f7a26c5ec4\" class=\"plotly-graph-div\" style=\"height:900px; width:1200px;\"></div>\n",
              "            <script type=\"text/javascript\">\n",
              "                \n",
              "                    window.PLOTLYENV=window.PLOTLYENV || {};\n",
              "                    \n",
              "                if (document.getElementById(\"ffb19e60-1cd3-4707-987d-28f7a26c5ec4\")) {\n",
              "                    Plotly.newPlot(\n",
              "                        'ffb19e60-1cd3-4707-987d-28f7a26c5ec4',\n",
              "                        [{\"marker\": {\"color\": \"blue\", \"size\": 2.5}, \"mode\": \"markers\", \"name\": \"enginesize\", \"type\": \"scatter\", \"x\": [-0.4639393315511987, -0.4399262335378924, 1.0488858432870976, 0.08836192275484596, 0.20842741282137742, -0.8721619977774057, -0.17578215539152323, -0.4399262335378924, 0.8087548631540347, -0.15176905737821694, 1.2890168234201604, -0.7040703116842616, 0.3284929028879089, 1.9613835677927365, -0.17578215539152323, -0.41591313552458614, 1.9613835677927365, -0.7040703116842616, 0.44855839295444033, -0.8481488997640994, -0.41591313552458614, 1.2890168234201604, -0.896175095790712, -0.7040703116842616, 0.3284929028879089, -0.8481488997640994, -0.7280834096975679, -0.12775595936491066, 1.337043019446773, -0.7040703116842616, -0.7280834096975679, -0.12775595936491066, 0.5926369810342781, -0.7040703116842616, -0.8481488997640994, -0.15176905737821694, 4.242627879056834, 0.06434882474153968, 0.06434882474153968, -0.4399262335378924, -0.8721619977774057, -0.896175095790712, -0.8481488997640994, 2.561711018125394, -1.3764370560568377, -0.8481488997640994, 1.2890168234201604, -0.4399262335378924, -0.17578215539152323, -0.15176905737821694, -0.896175095790712, 0.44855839295444033, 0.20842741282137742, -0.7280834096975679, -0.12775595936491066, -0.4639393315511987, -0.4639393315511987, -0.4399262335378924, -0.896175095790712, -0.12775595936491066, -0.8481488997640994, 1.2890168234201604, -0.8481488997640994, -0.17578215539152323, -0.896175095790712, -0.896175095790712, 4.338680271110059, -0.8721619977774057, 0.5926369810342781, 0.5686238830209718, -0.41591313552458614, 1.0969120393137102, 3.138025370444745, -1.1363060759237749, -0.15176905737821694, -0.7040703116842616, 0.44855839295444033, 1.337043019446773, 0.6886893730875032, 0.8807941571939535, 1.337043019446773, -0.896175095790712, 0.11237502076815226, -0.12775595936491066, -0.4639393315511987, 0.6886893730875032, 0.3284929028879089, 0.20842741282137742, 0.3044798048746026, -0.7040703116842616, 0.5926369810342781, -0.8721619977774057, -1.5925549381765942, -1.3764370560568377, -0.12775595936491066, -0.12775595936491066, -0.4639393315511987, 0.3284929028879089, -0.4639393315511987, 0.6886893730875032, 3.138025370444745, -0.12775595936491066, -0.7280834096975679, -0.4399262335378924, -0.5840048216177302, -0.4639393315511987, -0.41591313552458614, -0.41591313552458614, 0.44855839295444033, 0.424545294941134, -0.41591313552458614, -0.7040703116842616, -0.7280834096975679, 0.06434882474153968, 0.44855839295444033, -1.3764370560568377, 0.3284929028879089, 1.0488858432870976, -0.12775595936491066, -0.8721619977774057, -0.8481488997640994, 1.8173049797128988, -0.12775595936491066, 0.6886893730875032, 1.6011870975931422, -0.8481488997640994, -0.12775595936491066, 0.20842741282137742, -0.7040703116842616, 0.5926369810342781, 1.0488858432870976, -0.8481488997640994, -0.7280834096975679, 0.44855839295444033, 1.6011870975931422, -0.8481488997640994, -0.7280834096975679, 0.08836192275484596, -1.160319173937081, 0.8807941571939535, 1.2890168234201604, -0.7280834096975679, -0.7280834096975679, -0.4399262335378924, -0.896175095790712, -0.7040703116842616, -0.7040703116842616, -0.12775595936491066, -0.8481488997640994, -0.41591313552458614, -0.4399262335378924, -0.17578215539152323, 1.6011870975931422], \"xaxis\": \"x\", \"y\": [-0.7267169883597376, -0.6177551482947027, 0.36717682081334385, 1.2609815111226055, 0.20739869659241805, -0.8376333008923069, 0.37597194691724795, 0.0485978086052593, 0.2684759612028637, 0.23915887418984977, 0.10344519222543946, -0.6834742850155422, 0.4022351706997395, 3.391356500734949, -0.562296992028418, -0.5750010630673906, 2.849601163640297, -0.6834742850155422, -0.4352562816386909, -0.997167116054791, -0.34864872042107903, 0.7508641970961636, -0.566267014228097, -0.6344903187979647, 0.3619241760568456, -0.7643405833597722, -0.7027747006324429, -0.801719869301365, 2.204625249353991, -0.5196650613303269, -0.7638519652428886, -0.565717318846603, 0.4089536698068885, -0.7761895726941985, -0.8579109527429749, 0.5616468313330026, 3.89035775260229, 0.5946285542226437, 0.6593704547097158, -0.65440150706097, -0.752125130437683, -0.8379997644799696, -0.5831854165251903, 2.6267913023413905, -0.3184765517035189, -0.8994434926780779, 0.4454778740439354, -0.23907610770993953, 0.2477096912353122, 0.1817462454560308, -0.8864951125806635, -0.28744930128141255, 0.5078988384758107, -0.6783437947882647, -0.565717318846603, -0.4097259850315247, -0.5276051057296848, -0.43452335446336576, -0.566267014228097, -0.617266530177819, -0.8180885762169643, 0.5920633091090048, -0.7643405833597722, -0.48900427449588324, -0.8379997644799696, -0.9748128372073679, 3.3479916428615333, -1.0208650947236437, 0.0376039009753791, 1.0341405503594103, -0.7041184004538728, 0.9690321862846752, 2.28402569334757, 0.2556497356346701, 0.6190594600668219, -0.490347974317313, -0.24469521605410066, 1.7951632674055633, 0.11443909985531989, 0.9061226037359161, 1.46583465662604, -0.8764784411845504, -0.44673880738545485, -0.6551344342362954, 0.41200753303741106, 0.16085782095925846, -0.016754864527917558, 0.6557058188330893, 0.36045832170619485, -0.7259840611844123, 0.36009185811853217, -0.8254178479702178, -1.026239894009363, -0.2085374754047167, -0.3612306369308308, -0.43537843616791194, -0.22698280931707127, -0.07477826590784088, 0.35154104107306977, -0.11276832449553806, 2.687135639776511, -0.28183019293725164, -0.6788324129051483, -0.15417870990142027, -0.7882828710870668, -0.28012002952815906, -0.6906814022395747, -0.4389209175153178, 0.5028905027777542, 1.089354397567253, -0.07416749326173633, -0.5245512424991626, -0.757744238781844, -0.006982502190246247, -0.47801036686600307, 0.01134067719288749, 0.6709751349857007, 0.26114668944961017, -0.6177551482947027, -0.9109260184248418, -1.0021754517528476, 2.180255420774423, -0.28146372934958896, -0.09627746305071777, 2.3179846524709777, -0.8629192884410314, -0.5624191465576388, 0.4761386608783788, -0.716211698846741, 0.4303307124205446, 0.29877028444964465, -0.8103928408760481, -0.983730117840493, -0.6233742566388636, 2.5012164463023145, -0.8408093186520501, -0.7057064093337443, 0.5261202631361037, -0.9959455707625819, 0.9226134651807366, -0.006493884073362519, 0.03577158303706588, -0.6478051624830418, -0.436355672401679, -0.8945573115092422, -0.6491488623044718, -0.7102261269149173, -0.5750010630673906, -0.7846182352104402, -0.6910478658272374, -0.6812755034895661, -0.20181897629756773, 2.8676800339649886], \"yaxis\": \"y\"}, {\"marker\": {\"color\": \"green\", \"size\": 2.5}, \"mode\": \"markers\", \"name\": \"highwaympg\", \"type\": \"scatter\", \"x\": [0.07225888716833301, 0.5086645346718194, -0.9460209570064686, -1.5278951536777838, -0.8005524078386398, 1.0905387313431345, -0.9460209570064686, -0.0732096619994958, -0.9460209570064686, -0.36414676033515336, -1.2369580553421262, -0.0732096619994958, -0.36414676033515336, -1.2369580553421262, 0.5086645346718194, 0.36319598550399057, -1.5278951536777838, -0.0732096619994958, -0.0732096619994958, 1.526944378846621, 0.36319598550399057, -1.0914895061742973, 1.8178814771822787, 0.5086645346718194, -0.36414676033515336, 0.5086645346718194, 0.9450701821753058, 0.2177274363361618, -0.8005524078386398, -0.21867821116732458, 0.9450701821753058, -0.0732096619994958, 0.36319598550399057, 0.9450701821753058, 0.5086645346718194, -0.655083858670811, -2.109769350349099, -1.2369580553421262, -1.2369580553421262, 0.5086645346718194, 1.0905387313431345, 1.0905387313431345, 0.2177274363361618, -1.8188322520134415, -1.0914895061742973, 1.0905387313431345, -0.8005524078386398, -0.21867821116732458, -0.9460209570064686, -0.36414676033515336, 1.8178814771822787, -0.0732096619994958, -0.8005524078386398, 0.9450701821753058, -0.0732096619994958, 0.07225888716833301, -0.8005524078386398, 0.2177274363361618, 1.8178814771822787, 0.2177274363361618, 1.0905387313431345, -0.8005524078386398, 0.5086645346718194, 0.5086645346718194, 1.0905387313431345, 1.526944378846621, -2.109769350349099, 0.07225888716833301, -0.8005524078386398, -0.5096153095029822, 2.3997556738535937, -1.0914895061742973, -1.6733637028456125, -1.0914895061742973, -0.655083858670811, -0.21867821116732458, -0.0732096619994958, -0.8005524078386398, -0.9460209570064686, -0.36414676033515336, -0.8005524078386398, 1.0905387313431345, 0.07225888716833301, 0.2177274363361618, -0.21867821116732458, -0.9460209570064686, -0.36414676033515336, -0.8005524078386398, -0.9460209570064686, 1.0905387313431345, -0.655083858670811, 1.0905387313431345, 3.2725669688605667, -1.0914895061742973, 0.2177274363361618, 0.2177274363361618, -1.0914895061742973, -0.36414676033515336, -0.21867821116732458, -0.9460209570064686, -1.6733637028456125, 0.2177274363361618, 2.254287124685765, 0.07225888716833301, 2.83616132135708, -0.21867821116732458, 0.799601633007477, -0.0732096619994958, -0.0732096619994958, -0.5096153095029822, -0.36414676033515336, 0.5086645346718194, 0.9450701821753058, -0.5096153095029822, -0.0732096619994958, -1.0914895061742973, -0.8005524078386398, -0.9460209570064686, 0.2177274363361618, 1.0905387313431345, 1.2360072805109634, -0.36414676033515336, 0.2177274363361618, -0.9460209570064686, -0.8005524078386398, 1.0905387313431345, 0.5086645346718194, -1.2369580553421262, -0.0732096619994958, -0.8005524078386398, -0.9460209570064686, 0.9450701821753058, 0.9450701821753058, -0.0732096619994958, -0.8005524078386398, 1.0905387313431345, 2.254287124685765, -1.2369580553421262, 1.6724129280144497, -0.36414676033515336, -0.8005524078386398, 1.0905387313431345, 0.9450701821753058, -0.21867821116732458, 1.0905387313431345, 0.5086645346718194, 2.3997556738535937, 0.2177274363361618, 0.5086645346718194, 0.36319598550399057, 0.5086645346718194, -0.9460209570064686, -0.8005524078386398], \"xaxis\": \"x2\", \"y\": [-0.7267169883597376, -0.6177551482947027, 0.36717682081334385, 1.2609815111226055, 0.20739869659241805, -0.8376333008923069, 0.37597194691724795, 0.0485978086052593, 0.2684759612028637, 0.23915887418984977, 0.10344519222543946, -0.6834742850155422, 0.4022351706997395, 3.391356500734949, -0.562296992028418, -0.5750010630673906, 2.849601163640297, -0.6834742850155422, -0.4352562816386909, -0.997167116054791, -0.34864872042107903, 0.7508641970961636, -0.566267014228097, -0.6344903187979647, 0.3619241760568456, -0.7643405833597722, -0.7027747006324429, -0.801719869301365, 2.204625249353991, -0.5196650613303269, -0.7638519652428886, -0.565717318846603, 0.4089536698068885, -0.7761895726941985, -0.8579109527429749, 0.5616468313330026, 3.89035775260229, 0.5946285542226437, 0.6593704547097158, -0.65440150706097, -0.752125130437683, -0.8379997644799696, -0.5831854165251903, 2.6267913023413905, -0.3184765517035189, -0.8994434926780779, 0.4454778740439354, -0.23907610770993953, 0.2477096912353122, 0.1817462454560308, -0.8864951125806635, -0.28744930128141255, 0.5078988384758107, -0.6783437947882647, -0.565717318846603, -0.4097259850315247, -0.5276051057296848, -0.43452335446336576, -0.566267014228097, -0.617266530177819, -0.8180885762169643, 0.5920633091090048, -0.7643405833597722, -0.48900427449588324, -0.8379997644799696, -0.9748128372073679, 3.3479916428615333, -1.0208650947236437, 0.0376039009753791, 1.0341405503594103, -0.7041184004538728, 0.9690321862846752, 2.28402569334757, 0.2556497356346701, 0.6190594600668219, -0.490347974317313, -0.24469521605410066, 1.7951632674055633, 0.11443909985531989, 0.9061226037359161, 1.46583465662604, -0.8764784411845504, -0.44673880738545485, -0.6551344342362954, 0.41200753303741106, 0.16085782095925846, -0.016754864527917558, 0.6557058188330893, 0.36045832170619485, -0.7259840611844123, 0.36009185811853217, -0.8254178479702178, -1.026239894009363, -0.2085374754047167, -0.3612306369308308, -0.43537843616791194, -0.22698280931707127, -0.07477826590784088, 0.35154104107306977, -0.11276832449553806, 2.687135639776511, -0.28183019293725164, -0.6788324129051483, -0.15417870990142027, -0.7882828710870668, -0.28012002952815906, -0.6906814022395747, -0.4389209175153178, 0.5028905027777542, 1.089354397567253, -0.07416749326173633, -0.5245512424991626, -0.757744238781844, -0.006982502190246247, -0.47801036686600307, 0.01134067719288749, 0.6709751349857007, 0.26114668944961017, -0.6177551482947027, -0.9109260184248418, -1.0021754517528476, 2.180255420774423, -0.28146372934958896, -0.09627746305071777, 2.3179846524709777, -0.8629192884410314, -0.5624191465576388, 0.4761386608783788, -0.716211698846741, 0.4303307124205446, 0.29877028444964465, -0.8103928408760481, -0.983730117840493, -0.6233742566388636, 2.5012164463023145, -0.8408093186520501, -0.7057064093337443, 0.5261202631361037, -0.9959455707625819, 0.9226134651807366, -0.006493884073362519, 0.03577158303706588, -0.6478051624830418, -0.436355672401679, -0.8945573115092422, -0.6491488623044718, -0.7102261269149173, -0.5750010630673906, -0.7846182352104402, -0.6910478658272374, -0.6812755034895661, -0.20181897629756773, 2.8676800339649886], \"yaxis\": \"y2\"}, {\"marker\": {\"color\": \"brown\", \"size\": 2.5}, \"mode\": \"markers\", \"name\": \"carlength\", \"type\": \"scatter\", \"x\": [-1.3475532986425534, -0.1770705753745575, 0.7820749895256082, 1.529883396057939, 0.2781171503407768, -0.5753598353754715, 1.0421822613629401, 0.22121868462635882, 1.131594136057025, 1.0340539091180239, 0.8714868642196908, -1.3475532986425534, 1.2128776585061916, 1.619295270752024, -0.03888858721097306, 0.12367845768735994, 1.879402542589356, -1.3475532986425534, 0.18870527564669176, -1.3475532986425534, 0.13993516217719232, -0.258354097823724, -1.4613502300713868, -0.6160015966000547, 1.2128776585061916, -1.3638100031323879, -0.6729000623144727, -0.12017210966013957, 2.3345902683046877, -0.420921142722057, -0.6972851190492213, 0.05865163972802582, 1.0421822613629401, -0.6160015966000547, -1.9409230125214696, 1.0340539091180239, 2.058226291977521, 1.2128776585061916, 1.2128776585061916, -0.1770705753745575, -0.5753598353754715, -0.5347180741508882, -0.3396376202728905, 0.5219677176882762, -0.3965360859873061, -1.3475532986425534, -0.258354097823724, -1.1849862537442202, 1.0421822613629401, 1.0340539091180239, -1.4613502300713868, 0.18870527564669176, 1.529883396057939, -0.2989958590483073, 0.05865163972802582, -0.030760234966056874, -0.15268551863980662, -0.1770705753745575, -1.4613502300713868, -0.07140199619064012, -2.379854033746969, 0.3756573772797756, -0.8517238117026381, -0.03888858721097306, -1.3475532986425534, -1.3475532986425534, 2.7816496417751035, -1.201242958234055, 2.0338412352427726, -0.4046644382322223, -0.6160015966000547, 1.2128776585061916, 2.0907397009571884, -0.3965360859873061, 1.0340539091180239, -0.420921142722057, 0.18870527564669176, 1.3835730556494408, -0.055145291700807744, 0.2374753891161935, 1.3835730556494408, -1.3475532986425534, 0.2374753891161935, -0.12017210966013957, 0.2374753891161935, -0.055145291700807744, 1.2128776585061916, 1.529883396057939, 0.36752902503485946, -0.5347180741508882, -0.21771233659914074, -1.201242958234055, -2.6643463623190518, -0.3965360859873061, 0.31875891156536, 0.13993516217719232, -0.022631882721140684, 1.2128776585061916, 0.2374753891161935, -0.055145291700807744, 2.0907397009571884, 0.31875891156536, -0.1770705753745575, 0.749561580545941, -0.6972851190492213, -0.15268551863980662, -0.6160015966000547, -0.07140199619064012, 0.18870527564669176, 1.2128776585061916, 0.12367845768735994, -0.6160015966000547, -0.2989958590483073, -0.4127927904771385, 0.18870527564669176, -0.3965360859873061, 1.2128776585061916, 1.131594136057025, 0.31875891156536, -1.201242958234055, -1.233756367213722, 0.1480635144221085, 0.13993516217719232, -0.055145291700807744, -0.4046644382322223, -1.233756367213722, 0.13993516217719232, 0.22121868462635882, -1.3475532986425534, 2.0338412352427726, 0.7820749895256082, -0.3396376202728905, -0.6972851190492213, 0.18870527564669176, -0.4046644382322223, -1.3475532986425534, -0.1770705753745575, 0.3512723205450248, -1.9409230125214696, 0.2374753891161935, 0.8714868642196908, 0.5138393654433577, -0.9330073341518046, -0.6647717100695565, -1.3475532986425534, -0.420921142722057, -0.6160015966000547, 0.31875891156536, -1.9409230125214696, -0.5184613696610558, -0.1770705753745575, 1.0421822613629401, -0.4046644382322223], \"xaxis\": \"x3\", \"y\": [-0.7267169883597376, -0.6177551482947027, 0.36717682081334385, 1.2609815111226055, 0.20739869659241805, -0.8376333008923069, 0.37597194691724795, 0.0485978086052593, 0.2684759612028637, 0.23915887418984977, 0.10344519222543946, -0.6834742850155422, 0.4022351706997395, 3.391356500734949, -0.562296992028418, -0.5750010630673906, 2.849601163640297, -0.6834742850155422, -0.4352562816386909, -0.997167116054791, -0.34864872042107903, 0.7508641970961636, -0.566267014228097, -0.6344903187979647, 0.3619241760568456, -0.7643405833597722, -0.7027747006324429, -0.801719869301365, 2.204625249353991, -0.5196650613303269, -0.7638519652428886, -0.565717318846603, 0.4089536698068885, -0.7761895726941985, -0.8579109527429749, 0.5616468313330026, 3.89035775260229, 0.5946285542226437, 0.6593704547097158, -0.65440150706097, -0.752125130437683, -0.8379997644799696, -0.5831854165251903, 2.6267913023413905, -0.3184765517035189, -0.8994434926780779, 0.4454778740439354, -0.23907610770993953, 0.2477096912353122, 0.1817462454560308, -0.8864951125806635, -0.28744930128141255, 0.5078988384758107, -0.6783437947882647, -0.565717318846603, -0.4097259850315247, -0.5276051057296848, -0.43452335446336576, -0.566267014228097, -0.617266530177819, -0.8180885762169643, 0.5920633091090048, -0.7643405833597722, -0.48900427449588324, -0.8379997644799696, -0.9748128372073679, 3.3479916428615333, -1.0208650947236437, 0.0376039009753791, 1.0341405503594103, -0.7041184004538728, 0.9690321862846752, 2.28402569334757, 0.2556497356346701, 0.6190594600668219, -0.490347974317313, -0.24469521605410066, 1.7951632674055633, 0.11443909985531989, 0.9061226037359161, 1.46583465662604, -0.8764784411845504, -0.44673880738545485, -0.6551344342362954, 0.41200753303741106, 0.16085782095925846, -0.016754864527917558, 0.6557058188330893, 0.36045832170619485, -0.7259840611844123, 0.36009185811853217, -0.8254178479702178, -1.026239894009363, -0.2085374754047167, -0.3612306369308308, -0.43537843616791194, -0.22698280931707127, -0.07477826590784088, 0.35154104107306977, -0.11276832449553806, 2.687135639776511, -0.28183019293725164, -0.6788324129051483, -0.15417870990142027, -0.7882828710870668, -0.28012002952815906, -0.6906814022395747, -0.4389209175153178, 0.5028905027777542, 1.089354397567253, -0.07416749326173633, -0.5245512424991626, -0.757744238781844, -0.006982502190246247, -0.47801036686600307, 0.01134067719288749, 0.6709751349857007, 0.26114668944961017, -0.6177551482947027, -0.9109260184248418, -1.0021754517528476, 2.180255420774423, -0.28146372934958896, -0.09627746305071777, 2.3179846524709777, -0.8629192884410314, -0.5624191465576388, 0.4761386608783788, -0.716211698846741, 0.4303307124205446, 0.29877028444964465, -0.8103928408760481, -0.983730117840493, -0.6233742566388636, 2.5012164463023145, -0.8408093186520501, -0.7057064093337443, 0.5261202631361037, -0.9959455707625819, 0.9226134651807366, -0.006493884073362519, 0.03577158303706588, -0.6478051624830418, -0.436355672401679, -0.8945573115092422, -0.6491488623044718, -0.7102261269149173, -0.5750010630673906, -0.7846182352104402, -0.6910478658272374, -0.6812755034895661, -0.20181897629756773, 2.8676800339649886], \"yaxis\": \"y3\"}, {\"marker\": {\"color\": \"red\", \"size\": 2.5}, \"mode\": \"markers\", \"name\": \"curbweight\", \"type\": \"scatter\", \"x\": [-0.6139151691342998, -0.5469964537493959, 0.7932898172453933, 1.0036057798836626, -0.10342096891231872, -1.177944341664204, 0.9825741836198357, -0.42845472935328044, 1.1278833941699127, 0.3764818185622777, 1.4051180721930858, -0.8280550583659922, 0.7474026981243164, 1.5657229891168551, -0.45331025221053045, -0.4915495181447612, 1.8047184012057977, -0.8280550583659922, -0.01929458385701099, -1.2295673506754154, -0.15504397792353028, 1.1049398346093742, -1.3136937357307232, -0.8395268381462614, 0.919479394828355, -1.0268992412239923, -1.019251388037146, -0.37491975704535735, 2.3113886748343555, -0.5661160867165113, -1.1664725618839347, -0.04988599660439562, 1.3209916871377783, -0.8643823610035114, -1.1875041581477617, 0.4720799833978547, 2.206230693515221, 0.9252152847184896, 1.139355173950182, -0.6674501414422229, -1.1683845251806462, -1.0938179566088961, 1.0494928990047396, 2.148871794613875, -0.3462403075946842, -1.1798563049609154, 0.9749263304329896, -0.5871476829803383, 0.9825741836198357, 0.27897169042998915, -1.3136937357307232, 0.22543671812206606, 0.54091066207947, -1.0020437183667423, -0.04988599660439562, -0.20284306034131877, -0.3366804911111265, -0.4991973713316074, -1.2467750203458194, -0.4456623990236843, -1.4188517170498578, 1.1049398346093742, -1.0536667273779539, -0.49537344473818434, -1.0938179566088961, -1.3098698091373002, 2.5599439034068556, -1.2831023229833385, 1.6613211539524322, 0.41472108449650846, -0.5469964537493959, 0.8621204959270087, 2.8773298106609713, -0.11680471198929951, 0.5466465519696047, -0.4991973713316074, 0.29235543350696996, 2.273149408900125, 0.6976916524098163, 0.2847075803201238, 1.823838034172913, -1.3098698091373002, -0.19328324385776108, -0.29844122517689575, -0.31756085814401114, 0.6881318359262586, 0.9041836884546626, 0.7512266247177394, 0.6671002396624317, -0.7076013706731652, 0.5007594328485278, -1.2544228735326655, -2.0517115682613776, -0.3462403075946842, -0.3366804911111265, -0.2812335555064919, 0.1699897825174314, 0.6709241662558547, -0.31756085814401114, 0.5198790658156431, 2.8773298106609713, -0.260201959242665, -0.5680280500132229, 0.003648975703527485, -1.040282984300973, -0.09768507902218411, -0.5469964537493959, -0.36535994056179966, 0.7913778539486818, 1.2540729717528742, -0.18372342737420339, -0.8051114988054537, -1.0268992412239923, -0.025030473747145607, -0.04797403330768408, -0.3366804911111265, 0.9328631379053357, 1.089644128235682, -0.28888140869333806, -1.2639826900162232, -1.1014658097957424, 1.5389555029628936, -0.19710717045118417, 0.49119961636497006, 0.3726578919688546, -1.0441069108943961, -0.4494863256171074, 0.5026713961452393, -0.795551682321896, 1.766479135271567, 0.8697683491138549, -0.5374366372658382, -1.2850142862800502, -0.040326180120837926, 0.3726578919688546, -1.0651385071582231, -0.5737639399033574, 0.9405109910921818, -1.3844363777090503, 0.38986556163925845, 0.9538947341691626, 0.03424038845091212, -1.0574906539713769, -0.650242471771819, -1.1358811491365501, -0.6827458478159152, -0.8930618104541845, -0.3366804911111265, -1.156912745400377, -0.6215630223211459, -0.6731860313323575, 0.877416202300701, 0.45678427702416236], \"xaxis\": \"x4\", \"y\": [-0.7267169883597376, -0.6177551482947027, 0.36717682081334385, 1.2609815111226055, 0.20739869659241805, -0.8376333008923069, 0.37597194691724795, 0.0485978086052593, 0.2684759612028637, 0.23915887418984977, 0.10344519222543946, -0.6834742850155422, 0.4022351706997395, 3.391356500734949, -0.562296992028418, -0.5750010630673906, 2.849601163640297, -0.6834742850155422, -0.4352562816386909, -0.997167116054791, -0.34864872042107903, 0.7508641970961636, -0.566267014228097, -0.6344903187979647, 0.3619241760568456, -0.7643405833597722, -0.7027747006324429, -0.801719869301365, 2.204625249353991, -0.5196650613303269, -0.7638519652428886, -0.565717318846603, 0.4089536698068885, -0.7761895726941985, -0.8579109527429749, 0.5616468313330026, 3.89035775260229, 0.5946285542226437, 0.6593704547097158, -0.65440150706097, -0.752125130437683, -0.8379997644799696, -0.5831854165251903, 2.6267913023413905, -0.3184765517035189, -0.8994434926780779, 0.4454778740439354, -0.23907610770993953, 0.2477096912353122, 0.1817462454560308, -0.8864951125806635, -0.28744930128141255, 0.5078988384758107, -0.6783437947882647, -0.565717318846603, -0.4097259850315247, -0.5276051057296848, -0.43452335446336576, -0.566267014228097, -0.617266530177819, -0.8180885762169643, 0.5920633091090048, -0.7643405833597722, -0.48900427449588324, -0.8379997644799696, -0.9748128372073679, 3.3479916428615333, -1.0208650947236437, 0.0376039009753791, 1.0341405503594103, -0.7041184004538728, 0.9690321862846752, 2.28402569334757, 0.2556497356346701, 0.6190594600668219, -0.490347974317313, -0.24469521605410066, 1.7951632674055633, 0.11443909985531989, 0.9061226037359161, 1.46583465662604, -0.8764784411845504, -0.44673880738545485, -0.6551344342362954, 0.41200753303741106, 0.16085782095925846, -0.016754864527917558, 0.6557058188330893, 0.36045832170619485, -0.7259840611844123, 0.36009185811853217, -0.8254178479702178, -1.026239894009363, -0.2085374754047167, -0.3612306369308308, -0.43537843616791194, -0.22698280931707127, -0.07477826590784088, 0.35154104107306977, -0.11276832449553806, 2.687135639776511, -0.28183019293725164, -0.6788324129051483, -0.15417870990142027, -0.7882828710870668, -0.28012002952815906, -0.6906814022395747, -0.4389209175153178, 0.5028905027777542, 1.089354397567253, -0.07416749326173633, -0.5245512424991626, -0.757744238781844, -0.006982502190246247, -0.47801036686600307, 0.01134067719288749, 0.6709751349857007, 0.26114668944961017, -0.6177551482947027, -0.9109260184248418, -1.0021754517528476, 2.180255420774423, -0.28146372934958896, -0.09627746305071777, 2.3179846524709777, -0.8629192884410314, -0.5624191465576388, 0.4761386608783788, -0.716211698846741, 0.4303307124205446, 0.29877028444964465, -0.8103928408760481, -0.983730117840493, -0.6233742566388636, 2.5012164463023145, -0.8408093186520501, -0.7057064093337443, 0.5261202631361037, -0.9959455707625819, 0.9226134651807366, -0.006493884073362519, 0.03577158303706588, -0.6478051624830418, -0.436355672401679, -0.8945573115092422, -0.6491488623044718, -0.7102261269149173, -0.5750010630673906, -0.7846182352104402, -0.6910478658272374, -0.6812755034895661, -0.20181897629756773, 2.8676800339649886], \"yaxis\": \"y4\"}, {\"marker\": {\"color\": \"orange\", \"size\": 2.5}, \"mode\": \"markers\", \"name\": \"horsepower\", \"type\": \"scatter\", \"x\": [-0.826229739073367, -0.529427195356149, 1.3503222481862323, 0.8309177966811007, 0.08891143738805539, -0.949897465622208, -0.2326246516389309, -0.10895692509009001, 1.2266545216373914, 0.08891143738805539, 1.1277203403983187, -0.10895692509009001, 0.1878456186271281, 1.869726699691364, -0.2326246516389309, -0.5046936500463808, 1.869726699691364, -0.10895692509009001, 0.23731270924666445, -0.949897465622208, -0.826229739073367, 2.314930515267191, -0.9004303750026716, -0.9004303750026716, 0.1878456186271281, -0.7520291031440626, -0.9251639203124398, -0.4552265594268445, 0.4104475264150417, 0.13837852800759173, -0.9251639203124398, -0.4552265594268445, -0.2820917422584672, -0.9004303750026716, -0.7520291031440626, 1.3255887028764641, 1.9191937903109004, 1.3750557934960006, 1.3750557934960006, -0.529427195356149, -0.949897465622208, -0.949897465622208, -1.098298737480817, 1.2019209763276233, -0.13369047039985818, -0.949897465622208, 1.3255887028764641, -0.4057594688073081, -0.2820917422584672, 0.08891143738805539, -0.9004303750026716, 0.23731270924666445, 0.08891143738805539, -0.9251639203124398, -0.4552265594268445, -0.3068252875682354, -0.6036278312854535, -0.15842401570962636, -0.9004303750026716, -0.4552265594268445, -0.7520291031440626, 1.3255887028764641, -0.7520291031440626, -0.2326246516389309, -0.949897465622208, -0.949897465622208, 1.9191937903109004, -0.949897465622208, -0.2820917422584672, 0.9051184326104051, -1.246700009339426, 0.6825165248224916, 1.721325427832755, 0.7072500701322598, 1.3255887028764641, 0.13837852800759173, 0.23731270924666445, 0.4104475264150417, 0.9545855232299415, 0.3609804357955053, 0.4104475264150417, -0.949897465622208, -0.4057594688073081, -0.4552265594268445, -0.13369047039985818, 0.9545855232299415, 0.1878456186271281, 0.08891143738805539, 1.6965918825229869, -0.949897465622208, 1.1771874310178552, -0.949897465622208, -1.4445683718175715, -0.13369047039985818, -0.5541607406659171, -0.35629237818777176, 0.11364498269782357, 0.1878456186271281, -0.13369047039985818, 0.9545855232299415, 1.721325427832755, -0.5541607406659171, -1.3456341905784988, -0.4552265594268445, -1.2714335546491942, 0.11364498269782357, -1.246700009339426, 0.23731270924666445, 0.23731270924666445, -0.01002274385101731, -0.13369047039985818, -0.9004303750026716, -0.9251639203124398, 0.11364498269782357, 0.23731270924666445, -0.13369047039985818, 1.3255887028764641, 1.2266545216373914, -0.5541607406659171, -0.949897465622208, -1.098298737480817, 4.491482502526791, -0.35629237818777176, 0.9545855232299415, 2.4880653324355686, -1.098298737480817, -0.35629237818777176, 0.21257916393689627, -0.10895692509009001, -0.2820917422584672, 1.3503222481862323, -1.098298737480817, -0.9251639203124398, 0.23731270924666445, 2.4880653324355686, -0.949897465622208, -1.3456341905784988, 1.3255887028764641, -1.1477658281003533, 0.3609804357955053, 1.1277203403983187, -0.949897465622208, -0.9251639203124398, -0.4057594688073081, -0.949897465622208, -0.9004303750026716, -0.9004303750026716, -0.5541607406659171, -0.7520291031440626, -0.5046936500463808, -0.529427195356149, -0.2326246516389309, 2.4880653324355686], \"xaxis\": \"x5\", \"y\": [-0.7267169883597376, -0.6177551482947027, 0.36717682081334385, 1.2609815111226055, 0.20739869659241805, -0.8376333008923069, 0.37597194691724795, 0.0485978086052593, 0.2684759612028637, 0.23915887418984977, 0.10344519222543946, -0.6834742850155422, 0.4022351706997395, 3.391356500734949, -0.562296992028418, -0.5750010630673906, 2.849601163640297, -0.6834742850155422, -0.4352562816386909, -0.997167116054791, -0.34864872042107903, 0.7508641970961636, -0.566267014228097, -0.6344903187979647, 0.3619241760568456, -0.7643405833597722, -0.7027747006324429, -0.801719869301365, 2.204625249353991, -0.5196650613303269, -0.7638519652428886, -0.565717318846603, 0.4089536698068885, -0.7761895726941985, -0.8579109527429749, 0.5616468313330026, 3.89035775260229, 0.5946285542226437, 0.6593704547097158, -0.65440150706097, -0.752125130437683, -0.8379997644799696, -0.5831854165251903, 2.6267913023413905, -0.3184765517035189, -0.8994434926780779, 0.4454778740439354, -0.23907610770993953, 0.2477096912353122, 0.1817462454560308, -0.8864951125806635, -0.28744930128141255, 0.5078988384758107, -0.6783437947882647, -0.565717318846603, -0.4097259850315247, -0.5276051057296848, -0.43452335446336576, -0.566267014228097, -0.617266530177819, -0.8180885762169643, 0.5920633091090048, -0.7643405833597722, -0.48900427449588324, -0.8379997644799696, -0.9748128372073679, 3.3479916428615333, -1.0208650947236437, 0.0376039009753791, 1.0341405503594103, -0.7041184004538728, 0.9690321862846752, 2.28402569334757, 0.2556497356346701, 0.6190594600668219, -0.490347974317313, -0.24469521605410066, 1.7951632674055633, 0.11443909985531989, 0.9061226037359161, 1.46583465662604, -0.8764784411845504, -0.44673880738545485, -0.6551344342362954, 0.41200753303741106, 0.16085782095925846, -0.016754864527917558, 0.6557058188330893, 0.36045832170619485, -0.7259840611844123, 0.36009185811853217, -0.8254178479702178, -1.026239894009363, -0.2085374754047167, -0.3612306369308308, -0.43537843616791194, -0.22698280931707127, -0.07477826590784088, 0.35154104107306977, -0.11276832449553806, 2.687135639776511, -0.28183019293725164, -0.6788324129051483, -0.15417870990142027, -0.7882828710870668, -0.28012002952815906, -0.6906814022395747, -0.4389209175153178, 0.5028905027777542, 1.089354397567253, -0.07416749326173633, -0.5245512424991626, -0.757744238781844, -0.006982502190246247, -0.47801036686600307, 0.01134067719288749, 0.6709751349857007, 0.26114668944961017, -0.6177551482947027, -0.9109260184248418, -1.0021754517528476, 2.180255420774423, -0.28146372934958896, -0.09627746305071777, 2.3179846524709777, -0.8629192884410314, -0.5624191465576388, 0.4761386608783788, -0.716211698846741, 0.4303307124205446, 0.29877028444964465, -0.8103928408760481, -0.983730117840493, -0.6233742566388636, 2.5012164463023145, -0.8408093186520501, -0.7057064093337443, 0.5261202631361037, -0.9959455707625819, 0.9226134651807366, -0.006493884073362519, 0.03577158303706588, -0.6478051624830418, -0.436355672401679, -0.8945573115092422, -0.6491488623044718, -0.7102261269149173, -0.5750010630673906, -0.7846182352104402, -0.6910478658272374, -0.6812755034895661, -0.20181897629756773, 2.8676800339649886], \"yaxis\": \"y5\"}, {\"marker\": {\"color\": \"magenta\", \"size\": 2.5}, \"mode\": \"markers\", \"name\": \"cylindernumber\", \"type\": \"scatter\", \"x\": [-0.3803135600922287, -0.3803135600922287, 1.6261683259115962, 0.6229273829096837, 0.6229273829096837, -0.3803135600922287, -0.3803135600922287, -0.3803135600922287, 1.6261683259115962, -0.3803135600922287, 1.6261683259115962, -0.3803135600922287, -0.3803135600922287, 1.6261683259115962, -0.3803135600922287, -0.3803135600922287, 1.6261683259115962, -0.3803135600922287, -0.3803135600922287, -0.3803135600922287, -0.3803135600922287, 1.6261683259115962, -0.3803135600922287, -0.3803135600922287, -0.3803135600922287, -0.3803135600922287, -0.3803135600922287, -0.3803135600922287, 0.6229273829096837, -0.3803135600922287, -0.3803135600922287, -0.3803135600922287, -0.3803135600922287, -0.3803135600922287, -0.3803135600922287, -0.3803135600922287, 3.632650211915421, -0.3803135600922287, -0.3803135600922287, -0.3803135600922287, -0.3803135600922287, -0.3803135600922287, -0.3803135600922287, 3.632650211915421, -2.3867954460960537, -0.3803135600922287, 1.6261683259115962, -0.3803135600922287, -0.3803135600922287, -0.3803135600922287, -0.3803135600922287, -0.3803135600922287, 0.6229273829096837, -0.3803135600922287, -0.3803135600922287, -0.3803135600922287, -0.3803135600922287, -0.3803135600922287, -0.3803135600922287, -0.3803135600922287, -0.3803135600922287, 1.6261683259115962, -0.3803135600922287, -0.3803135600922287, -0.3803135600922287, -0.3803135600922287, 3.632650211915421, -0.3803135600922287, -0.3803135600922287, -0.3803135600922287, -0.3803135600922287, 1.6261683259115962, 1.6261683259115962, -2.3867954460960537, -0.3803135600922287, -0.3803135600922287, -0.3803135600922287, 0.6229273829096837, -0.3803135600922287, 1.6261683259115962, 0.6229273829096837, -0.3803135600922287, -0.3803135600922287, -0.3803135600922287, -0.3803135600922287, -0.3803135600922287, -0.3803135600922287, 0.6229273829096837, -0.3803135600922287, -0.3803135600922287, 1.6261683259115962, -0.3803135600922287, -1.3835545030941412, -2.3867954460960537, -0.3803135600922287, -0.3803135600922287, -0.3803135600922287, -0.3803135600922287, -0.3803135600922287, -0.3803135600922287, 1.6261683259115962, -0.3803135600922287, -0.3803135600922287, -0.3803135600922287, -0.3803135600922287, -0.3803135600922287, -0.3803135600922287, -0.3803135600922287, -0.3803135600922287, 1.6261683259115962, -0.3803135600922287, -0.3803135600922287, -0.3803135600922287, -0.3803135600922287, -0.3803135600922287, -2.3867954460960537, -0.3803135600922287, 1.6261683259115962, -0.3803135600922287, -0.3803135600922287, -0.3803135600922287, 3.632650211915421, -0.3803135600922287, -0.3803135600922287, 1.6261683259115962, -0.3803135600922287, -0.3803135600922287, 0.6229273829096837, -0.3803135600922287, -0.3803135600922287, 1.6261683259115962, -0.3803135600922287, -0.3803135600922287, -0.3803135600922287, 1.6261683259115962, -0.3803135600922287, -0.3803135600922287, 0.6229273829096837, -0.3803135600922287, 1.6261683259115962, 1.6261683259115962, -0.3803135600922287, -0.3803135600922287, -0.3803135600922287, -0.3803135600922287, -0.3803135600922287, -0.3803135600922287, -0.3803135600922287, -0.3803135600922287, -0.3803135600922287, -0.3803135600922287, -0.3803135600922287, 1.6261683259115962], \"xaxis\": \"x6\", \"y\": [-0.7267169883597376, -0.6177551482947027, 0.36717682081334385, 1.2609815111226055, 0.20739869659241805, -0.8376333008923069, 0.37597194691724795, 0.0485978086052593, 0.2684759612028637, 0.23915887418984977, 0.10344519222543946, -0.6834742850155422, 0.4022351706997395, 3.391356500734949, -0.562296992028418, -0.5750010630673906, 2.849601163640297, -0.6834742850155422, -0.4352562816386909, -0.997167116054791, -0.34864872042107903, 0.7508641970961636, -0.566267014228097, -0.6344903187979647, 0.3619241760568456, -0.7643405833597722, -0.7027747006324429, -0.801719869301365, 2.204625249353991, -0.5196650613303269, -0.7638519652428886, -0.565717318846603, 0.4089536698068885, -0.7761895726941985, -0.8579109527429749, 0.5616468313330026, 3.89035775260229, 0.5946285542226437, 0.6593704547097158, -0.65440150706097, -0.752125130437683, -0.8379997644799696, -0.5831854165251903, 2.6267913023413905, -0.3184765517035189, -0.8994434926780779, 0.4454778740439354, -0.23907610770993953, 0.2477096912353122, 0.1817462454560308, -0.8864951125806635, -0.28744930128141255, 0.5078988384758107, -0.6783437947882647, -0.565717318846603, -0.4097259850315247, -0.5276051057296848, -0.43452335446336576, -0.566267014228097, -0.617266530177819, -0.8180885762169643, 0.5920633091090048, -0.7643405833597722, -0.48900427449588324, -0.8379997644799696, -0.9748128372073679, 3.3479916428615333, -1.0208650947236437, 0.0376039009753791, 1.0341405503594103, -0.7041184004538728, 0.9690321862846752, 2.28402569334757, 0.2556497356346701, 0.6190594600668219, -0.490347974317313, -0.24469521605410066, 1.7951632674055633, 0.11443909985531989, 0.9061226037359161, 1.46583465662604, -0.8764784411845504, -0.44673880738545485, -0.6551344342362954, 0.41200753303741106, 0.16085782095925846, -0.016754864527917558, 0.6557058188330893, 0.36045832170619485, -0.7259840611844123, 0.36009185811853217, -0.8254178479702178, -1.026239894009363, -0.2085374754047167, -0.3612306369308308, -0.43537843616791194, -0.22698280931707127, -0.07477826590784088, 0.35154104107306977, -0.11276832449553806, 2.687135639776511, -0.28183019293725164, -0.6788324129051483, -0.15417870990142027, -0.7882828710870668, -0.28012002952815906, -0.6906814022395747, -0.4389209175153178, 0.5028905027777542, 1.089354397567253, -0.07416749326173633, -0.5245512424991626, -0.757744238781844, -0.006982502190246247, -0.47801036686600307, 0.01134067719288749, 0.6709751349857007, 0.26114668944961017, -0.6177551482947027, -0.9109260184248418, -1.0021754517528476, 2.180255420774423, -0.28146372934958896, -0.09627746305071777, 2.3179846524709777, -0.8629192884410314, -0.5624191465576388, 0.4761386608783788, -0.716211698846741, 0.4303307124205446, 0.29877028444964465, -0.8103928408760481, -0.983730117840493, -0.6233742566388636, 2.5012164463023145, -0.8408093186520501, -0.7057064093337443, 0.5261202631361037, -0.9959455707625819, 0.9226134651807366, -0.006493884073362519, 0.03577158303706588, -0.6478051624830418, -0.436355672401679, -0.8945573115092422, -0.6491488623044718, -0.7102261269149173, -0.5750010630673906, -0.7846182352104402, -0.6910478658272374, -0.6812755034895661, -0.20181897629756773, 2.8676800339649886], \"yaxis\": \"y6\"}],\n",
              "                        {\"height\": 900, \"template\": {\"data\": {\"bar\": [{\"error_x\": {\"color\": \"#2a3f5f\"}, \"error_y\": {\"color\": \"#2a3f5f\"}, \"marker\": {\"line\": {\"color\": \"#E5ECF6\", \"width\": 0.5}}, \"type\": \"bar\"}], \"barpolar\": [{\"marker\": {\"line\": {\"color\": \"#E5ECF6\", \"width\": 0.5}}, \"type\": \"barpolar\"}], \"carpet\": [{\"aaxis\": {\"endlinecolor\": \"#2a3f5f\", \"gridcolor\": \"white\", \"linecolor\": \"white\", \"minorgridcolor\": \"white\", \"startlinecolor\": \"#2a3f5f\"}, \"baxis\": {\"endlinecolor\": \"#2a3f5f\", \"gridcolor\": \"white\", \"linecolor\": \"white\", \"minorgridcolor\": \"white\", \"startlinecolor\": \"#2a3f5f\"}, \"type\": \"carpet\"}], \"choropleth\": [{\"colorbar\": {\"outlinewidth\": 0, \"ticks\": \"\"}, \"type\": \"choropleth\"}], \"contour\": [{\"colorbar\": {\"outlinewidth\": 0, \"ticks\": \"\"}, \"colorscale\": [[0.0, \"#0d0887\"], [0.1111111111111111, \"#46039f\"], [0.2222222222222222, \"#7201a8\"], [0.3333333333333333, \"#9c179e\"], [0.4444444444444444, \"#bd3786\"], [0.5555555555555556, \"#d8576b\"], [0.6666666666666666, \"#ed7953\"], [0.7777777777777778, \"#fb9f3a\"], [0.8888888888888888, \"#fdca26\"], [1.0, \"#f0f921\"]], \"type\": \"contour\"}], \"contourcarpet\": [{\"colorbar\": {\"outlinewidth\": 0, \"ticks\": \"\"}, \"type\": \"contourcarpet\"}], \"heatmap\": [{\"colorbar\": {\"outlinewidth\": 0, \"ticks\": \"\"}, \"colorscale\": [[0.0, \"#0d0887\"], [0.1111111111111111, \"#46039f\"], [0.2222222222222222, \"#7201a8\"], [0.3333333333333333, \"#9c179e\"], [0.4444444444444444, \"#bd3786\"], [0.5555555555555556, \"#d8576b\"], [0.6666666666666666, \"#ed7953\"], [0.7777777777777778, \"#fb9f3a\"], [0.8888888888888888, \"#fdca26\"], [1.0, \"#f0f921\"]], \"type\": \"heatmap\"}], \"heatmapgl\": [{\"colorbar\": {\"outlinewidth\": 0, \"ticks\": \"\"}, \"colorscale\": [[0.0, \"#0d0887\"], [0.1111111111111111, \"#46039f\"], [0.2222222222222222, \"#7201a8\"], [0.3333333333333333, \"#9c179e\"], [0.4444444444444444, \"#bd3786\"], [0.5555555555555556, \"#d8576b\"], [0.6666666666666666, \"#ed7953\"], [0.7777777777777778, \"#fb9f3a\"], [0.8888888888888888, \"#fdca26\"], [1.0, \"#f0f921\"]], \"type\": \"heatmapgl\"}], \"histogram\": [{\"marker\": {\"colorbar\": {\"outlinewidth\": 0, \"ticks\": \"\"}}, \"type\": \"histogram\"}], \"histogram2d\": [{\"colorbar\": {\"outlinewidth\": 0, \"ticks\": \"\"}, \"colorscale\": [[0.0, \"#0d0887\"], [0.1111111111111111, \"#46039f\"], [0.2222222222222222, \"#7201a8\"], [0.3333333333333333, \"#9c179e\"], [0.4444444444444444, \"#bd3786\"], [0.5555555555555556, \"#d8576b\"], [0.6666666666666666, \"#ed7953\"], [0.7777777777777778, \"#fb9f3a\"], [0.8888888888888888, \"#fdca26\"], [1.0, \"#f0f921\"]], \"type\": \"histogram2d\"}], \"histogram2dcontour\": [{\"colorbar\": {\"outlinewidth\": 0, \"ticks\": \"\"}, \"colorscale\": [[0.0, \"#0d0887\"], [0.1111111111111111, \"#46039f\"], [0.2222222222222222, \"#7201a8\"], [0.3333333333333333, \"#9c179e\"], [0.4444444444444444, \"#bd3786\"], [0.5555555555555556, \"#d8576b\"], [0.6666666666666666, \"#ed7953\"], [0.7777777777777778, \"#fb9f3a\"], [0.8888888888888888, \"#fdca26\"], [1.0, \"#f0f921\"]], \"type\": \"histogram2dcontour\"}], \"mesh3d\": [{\"colorbar\": {\"outlinewidth\": 0, \"ticks\": \"\"}, \"type\": \"mesh3d\"}], \"parcoords\": [{\"line\": {\"colorbar\": {\"outlinewidth\": 0, \"ticks\": \"\"}}, \"type\": \"parcoords\"}], \"pie\": [{\"automargin\": true, \"type\": \"pie\"}], \"scatter\": [{\"marker\": {\"colorbar\": {\"outlinewidth\": 0, \"ticks\": \"\"}}, \"type\": \"scatter\"}], \"scatter3d\": [{\"line\": {\"colorbar\": {\"outlinewidth\": 0, \"ticks\": \"\"}}, \"marker\": {\"colorbar\": {\"outlinewidth\": 0, \"ticks\": \"\"}}, \"type\": \"scatter3d\"}], \"scattercarpet\": [{\"marker\": {\"colorbar\": {\"outlinewidth\": 0, \"ticks\": \"\"}}, \"type\": \"scattercarpet\"}], \"scattergeo\": [{\"marker\": {\"colorbar\": {\"outlinewidth\": 0, \"ticks\": \"\"}}, \"type\": \"scattergeo\"}], \"scattergl\": [{\"marker\": {\"colorbar\": {\"outlinewidth\": 0, \"ticks\": \"\"}}, \"type\": \"scattergl\"}], \"scattermapbox\": [{\"marker\": {\"colorbar\": {\"outlinewidth\": 0, \"ticks\": \"\"}}, \"type\": \"scattermapbox\"}], \"scatterpolar\": [{\"marker\": {\"colorbar\": {\"outlinewidth\": 0, \"ticks\": \"\"}}, \"type\": \"scatterpolar\"}], \"scatterpolargl\": [{\"marker\": {\"colorbar\": {\"outlinewidth\": 0, \"ticks\": \"\"}}, \"type\": \"scatterpolargl\"}], \"scatterternary\": [{\"marker\": {\"colorbar\": {\"outlinewidth\": 0, \"ticks\": \"\"}}, \"type\": \"scatterternary\"}], \"surface\": [{\"colorbar\": {\"outlinewidth\": 0, \"ticks\": \"\"}, \"colorscale\": [[0.0, \"#0d0887\"], [0.1111111111111111, \"#46039f\"], [0.2222222222222222, \"#7201a8\"], [0.3333333333333333, \"#9c179e\"], [0.4444444444444444, \"#bd3786\"], [0.5555555555555556, \"#d8576b\"], [0.6666666666666666, \"#ed7953\"], [0.7777777777777778, \"#fb9f3a\"], [0.8888888888888888, \"#fdca26\"], [1.0, \"#f0f921\"]], \"type\": \"surface\"}], \"table\": [{\"cells\": {\"fill\": {\"color\": \"#EBF0F8\"}, \"line\": {\"color\": \"white\"}}, \"header\": {\"fill\": {\"color\": \"#C8D4E3\"}, \"line\": {\"color\": \"white\"}}, \"type\": \"table\"}]}, \"layout\": {\"annotationdefaults\": {\"arrowcolor\": \"#2a3f5f\", \"arrowhead\": 0, \"arrowwidth\": 1}, \"coloraxis\": {\"colorbar\": {\"outlinewidth\": 0, \"ticks\": \"\"}}, \"colorscale\": {\"diverging\": [[0, \"#8e0152\"], [0.1, \"#c51b7d\"], [0.2, \"#de77ae\"], [0.3, \"#f1b6da\"], [0.4, \"#fde0ef\"], [0.5, \"#f7f7f7\"], [0.6, \"#e6f5d0\"], [0.7, \"#b8e186\"], [0.8, \"#7fbc41\"], [0.9, \"#4d9221\"], [1, \"#276419\"]], \"sequential\": [[0.0, \"#0d0887\"], [0.1111111111111111, \"#46039f\"], [0.2222222222222222, \"#7201a8\"], [0.3333333333333333, \"#9c179e\"], [0.4444444444444444, \"#bd3786\"], [0.5555555555555556, \"#d8576b\"], [0.6666666666666666, \"#ed7953\"], [0.7777777777777778, \"#fb9f3a\"], [0.8888888888888888, \"#fdca26\"], [1.0, \"#f0f921\"]], \"sequentialminus\": [[0.0, \"#0d0887\"], [0.1111111111111111, \"#46039f\"], [0.2222222222222222, \"#7201a8\"], [0.3333333333333333, \"#9c179e\"], [0.4444444444444444, \"#bd3786\"], [0.5555555555555556, \"#d8576b\"], [0.6666666666666666, \"#ed7953\"], [0.7777777777777778, \"#fb9f3a\"], [0.8888888888888888, \"#fdca26\"], [1.0, \"#f0f921\"]]}, \"colorway\": [\"#636efa\", \"#EF553B\", \"#00cc96\", \"#ab63fa\", \"#FFA15A\", \"#19d3f3\", \"#FF6692\", \"#B6E880\", \"#FF97FF\", \"#FECB52\"], \"font\": {\"color\": \"#2a3f5f\"}, \"geo\": {\"bgcolor\": \"white\", \"lakecolor\": \"white\", \"landcolor\": \"#E5ECF6\", \"showlakes\": true, \"showland\": true, \"subunitcolor\": \"white\"}, \"hoverlabel\": {\"align\": \"left\"}, \"hovermode\": \"closest\", \"mapbox\": {\"style\": \"light\"}, \"paper_bgcolor\": \"white\", \"plot_bgcolor\": \"#E5ECF6\", \"polar\": {\"angularaxis\": {\"gridcolor\": \"white\", \"linecolor\": \"white\", \"ticks\": \"\"}, \"bgcolor\": \"#E5ECF6\", \"radialaxis\": {\"gridcolor\": \"white\", \"linecolor\": \"white\", \"ticks\": \"\"}}, \"scene\": {\"xaxis\": {\"backgroundcolor\": \"#E5ECF6\", \"gridcolor\": \"white\", \"gridwidth\": 2, \"linecolor\": \"white\", \"showbackground\": true, \"ticks\": \"\", \"zerolinecolor\": \"white\"}, \"yaxis\": {\"backgroundcolor\": \"#E5ECF6\", \"gridcolor\": \"white\", \"gridwidth\": 2, \"linecolor\": \"white\", \"showbackground\": true, \"ticks\": \"\", \"zerolinecolor\": \"white\"}, \"zaxis\": {\"backgroundcolor\": \"#E5ECF6\", \"gridcolor\": \"white\", \"gridwidth\": 2, \"linecolor\": \"white\", \"showbackground\": true, \"ticks\": \"\", \"zerolinecolor\": \"white\"}}, \"shapedefaults\": {\"line\": {\"color\": \"#2a3f5f\"}}, \"ternary\": {\"aaxis\": {\"gridcolor\": \"white\", \"linecolor\": \"white\", \"ticks\": \"\"}, \"baxis\": {\"gridcolor\": \"white\", \"linecolor\": \"white\", \"ticks\": \"\"}, \"bgcolor\": \"#E5ECF6\", \"caxis\": {\"gridcolor\": \"white\", \"linecolor\": \"white\", \"ticks\": \"\"}}, \"title\": {\"x\": 0.05}, \"xaxis\": {\"automargin\": true, \"gridcolor\": \"white\", \"linecolor\": \"white\", \"ticks\": \"\", \"title\": {\"standoff\": 15}, \"zerolinecolor\": \"white\", \"zerolinewidth\": 2}, \"yaxis\": {\"automargin\": true, \"gridcolor\": \"white\", \"linecolor\": \"white\", \"ticks\": \"\", \"title\": {\"standoff\": 15}, \"zerolinecolor\": \"white\", \"zerolinewidth\": 2}}}, \"title\": {\"text\": \"Price by features\"}, \"width\": 1200, \"xaxis\": {\"anchor\": \"y\", \"domain\": [0.0, 0.2888888888888889], \"title\": {\"text\": \"enginesize\"}}, \"xaxis2\": {\"anchor\": \"y2\", \"domain\": [0.35555555555555557, 0.6444444444444445], \"title\": {\"text\": \"highwaympg\"}}, \"xaxis3\": {\"anchor\": \"y3\", \"domain\": [0.7111111111111111, 1.0], \"title\": {\"text\": \"carlength\"}}, \"xaxis4\": {\"anchor\": \"y4\", \"domain\": [0.0, 0.2888888888888889], \"title\": {\"text\": \"curbweight\"}}, \"xaxis5\": {\"anchor\": \"y5\", \"domain\": [0.35555555555555557, 0.6444444444444445], \"title\": {\"text\": \"horsepower\"}}, \"xaxis6\": {\"anchor\": \"y6\", \"domain\": [0.7111111111111111, 1.0], \"title\": {\"text\": \"cylindernumber\"}}, \"yaxis\": {\"anchor\": \"x\", \"domain\": [0.575, 1.0]}, \"yaxis2\": {\"anchor\": \"x2\", \"domain\": [0.575, 1.0], \"matches\": \"y\", \"showticklabels\": false}, \"yaxis3\": {\"anchor\": \"x3\", \"domain\": [0.575, 1.0], \"matches\": \"y\", \"showticklabels\": false}, \"yaxis4\": {\"anchor\": \"x4\", \"domain\": [0.0, 0.425]}, \"yaxis5\": {\"anchor\": \"x5\", \"domain\": [0.0, 0.425], \"matches\": \"y4\", \"showticklabels\": false}, \"yaxis6\": {\"anchor\": \"x6\", \"domain\": [0.0, 0.425], \"matches\": \"y4\", \"showticklabels\": false}},\n",
              "                        {\"responsive\": true}\n",
              "                    ).then(function(){\n",
              "                            \n",
              "var gd = document.getElementById('ffb19e60-1cd3-4707-987d-28f7a26c5ec4');\n",
              "var x = new MutationObserver(function (mutations, observer) {{\n",
              "        var display = window.getComputedStyle(gd).display;\n",
              "        if (!display || display === 'none') {{\n",
              "            console.log([gd, 'removed!']);\n",
              "            Plotly.purge(gd);\n",
              "            observer.disconnect();\n",
              "        }}\n",
              "}});\n",
              "\n",
              "// Listen for the removal of the full notebook cells\n",
              "var notebookContainer = gd.closest('#notebook-container');\n",
              "if (notebookContainer) {{\n",
              "    x.observe(notebookContainer, {childList: true});\n",
              "}}\n",
              "\n",
              "// Listen for the clearing of the current output cell\n",
              "var outputEl = gd.closest('.output');\n",
              "if (outputEl) {{\n",
              "    x.observe(outputEl, {childList: true});\n",
              "}}\n",
              "\n",
              "                        })\n",
              "                };\n",
              "                \n",
              "            </script>\n",
              "        </div>\n",
              "</body>\n",
              "</html>"
            ]
          },
          "metadata": {
            "tags": []
          }
        }
      ]
    },
    {
      "cell_type": "markdown",
      "metadata": {
        "id": "jGOUVkLpdeo5"
      },
      "source": [
        "17. Plot the outliers  - use the scaled training set."
      ]
    },
    {
      "cell_type": "code",
      "metadata": {
        "id": "_4oZH143qI9S",
        "colab": {
          "base_uri": "https://localhost:8080/",
          "height": 542
        },
        "outputId": "2a84e088-f98f-407e-da2d-2ecf71cb3de6"
      },
      "source": [
        "c = ['hsl('+str(h)+',50%'+',50%)' for h in np.linspace(0, 360, len(X_train.columns))]\n",
        "fig = go.Figure()\n",
        "fig.add_traces(\n",
        "    data=[\n",
        "        go.Box(\n",
        "            y=X_train_scaled[i],\n",
        "            marker_color=c[i],\n",
        "            name = cars_df.columns[i]\n",
        "        ) for i in range(6)\n",
        "    ]\n",
        ")"
      ],
      "execution_count": null,
      "outputs": [
        {
          "output_type": "display_data",
          "data": {
            "text/html": [
              "<html>\n",
              "<head><meta charset=\"utf-8\" /></head>\n",
              "<body>\n",
              "    <div>\n",
              "            <script src=\"https://cdnjs.cloudflare.com/ajax/libs/mathjax/2.7.5/MathJax.js?config=TeX-AMS-MML_SVG\"></script><script type=\"text/javascript\">if (window.MathJax) {MathJax.Hub.Config({SVG: {font: \"STIX-Web\"}});}</script>\n",
              "                <script type=\"text/javascript\">window.PlotlyConfig = {MathJaxConfig: 'local'};</script>\n",
              "        <script src=\"https://cdn.plot.ly/plotly-latest.min.js\"></script>    \n",
              "            <div id=\"3c74f6bc-14de-4502-bf6f-0e37d5395bf8\" class=\"plotly-graph-div\" style=\"height:525px; width:100%;\"></div>\n",
              "            <script type=\"text/javascript\">\n",
              "                \n",
              "                    window.PLOTLYENV=window.PLOTLYENV || {};\n",
              "                    \n",
              "                if (document.getElementById(\"3c74f6bc-14de-4502-bf6f-0e37d5395bf8\")) {\n",
              "                    Plotly.newPlot(\n",
              "                        '3c74f6bc-14de-4502-bf6f-0e37d5395bf8',\n",
              "                        [{\"marker\": {\"color\": \"hsl(0.0,50%,50%)\"}, \"name\": \"carlength\", \"type\": \"box\", \"y\": [-0.4639393315511987, -0.4399262335378924, 1.0488858432870976, 0.08836192275484596, 0.20842741282137742, -0.8721619977774057, -0.17578215539152323, -0.4399262335378924, 0.8087548631540347, -0.15176905737821694, 1.2890168234201604, -0.7040703116842616, 0.3284929028879089, 1.9613835677927365, -0.17578215539152323, -0.41591313552458614, 1.9613835677927365, -0.7040703116842616, 0.44855839295444033, -0.8481488997640994, -0.41591313552458614, 1.2890168234201604, -0.896175095790712, -0.7040703116842616, 0.3284929028879089, -0.8481488997640994, -0.7280834096975679, -0.12775595936491066, 1.337043019446773, -0.7040703116842616, -0.7280834096975679, -0.12775595936491066, 0.5926369810342781, -0.7040703116842616, -0.8481488997640994, -0.15176905737821694, 4.242627879056834, 0.06434882474153968, 0.06434882474153968, -0.4399262335378924, -0.8721619977774057, -0.896175095790712, -0.8481488997640994, 2.561711018125394, -1.3764370560568377, -0.8481488997640994, 1.2890168234201604, -0.4399262335378924, -0.17578215539152323, -0.15176905737821694, -0.896175095790712, 0.44855839295444033, 0.20842741282137742, -0.7280834096975679, -0.12775595936491066, -0.4639393315511987, -0.4639393315511987, -0.4399262335378924, -0.896175095790712, -0.12775595936491066, -0.8481488997640994, 1.2890168234201604, -0.8481488997640994, -0.17578215539152323, -0.896175095790712, -0.896175095790712, 4.338680271110059, -0.8721619977774057, 0.5926369810342781, 0.5686238830209718, -0.41591313552458614, 1.0969120393137102, 3.138025370444745, -1.1363060759237749, -0.15176905737821694, -0.7040703116842616, 0.44855839295444033, 1.337043019446773, 0.6886893730875032, 0.8807941571939535, 1.337043019446773, -0.896175095790712, 0.11237502076815226, -0.12775595936491066, -0.4639393315511987, 0.6886893730875032, 0.3284929028879089, 0.20842741282137742, 0.3044798048746026, -0.7040703116842616, 0.5926369810342781, -0.8721619977774057, -1.5925549381765942, -1.3764370560568377, -0.12775595936491066, -0.12775595936491066, -0.4639393315511987, 0.3284929028879089, -0.4639393315511987, 0.6886893730875032, 3.138025370444745, -0.12775595936491066, -0.7280834096975679, -0.4399262335378924, -0.5840048216177302, -0.4639393315511987, -0.41591313552458614, -0.41591313552458614, 0.44855839295444033, 0.424545294941134, -0.41591313552458614, -0.7040703116842616, -0.7280834096975679, 0.06434882474153968, 0.44855839295444033, -1.3764370560568377, 0.3284929028879089, 1.0488858432870976, -0.12775595936491066, -0.8721619977774057, -0.8481488997640994, 1.8173049797128988, -0.12775595936491066, 0.6886893730875032, 1.6011870975931422, -0.8481488997640994, -0.12775595936491066, 0.20842741282137742, -0.7040703116842616, 0.5926369810342781, 1.0488858432870976, -0.8481488997640994, -0.7280834096975679, 0.44855839295444033, 1.6011870975931422, -0.8481488997640994, -0.7280834096975679, 0.08836192275484596, -1.160319173937081, 0.8807941571939535, 1.2890168234201604, -0.7280834096975679, -0.7280834096975679, -0.4399262335378924, -0.896175095790712, -0.7040703116842616, -0.7040703116842616, -0.12775595936491066, -0.8481488997640994, -0.41591313552458614, -0.4399262335378924, -0.17578215539152323, 1.6011870975931422]}, {\"marker\": {\"color\": \"hsl(72.0,50%,50%)\"}, \"name\": \"carwidth\", \"type\": \"box\", \"y\": [0.07225888716833301, 0.5086645346718194, -0.9460209570064686, -1.5278951536777838, -0.8005524078386398, 1.0905387313431345, -0.9460209570064686, -0.0732096619994958, -0.9460209570064686, -0.36414676033515336, -1.2369580553421262, -0.0732096619994958, -0.36414676033515336, -1.2369580553421262, 0.5086645346718194, 0.36319598550399057, -1.5278951536777838, -0.0732096619994958, -0.0732096619994958, 1.526944378846621, 0.36319598550399057, -1.0914895061742973, 1.8178814771822787, 0.5086645346718194, -0.36414676033515336, 0.5086645346718194, 0.9450701821753058, 0.2177274363361618, -0.8005524078386398, -0.21867821116732458, 0.9450701821753058, -0.0732096619994958, 0.36319598550399057, 0.9450701821753058, 0.5086645346718194, -0.655083858670811, -2.109769350349099, -1.2369580553421262, -1.2369580553421262, 0.5086645346718194, 1.0905387313431345, 1.0905387313431345, 0.2177274363361618, -1.8188322520134415, -1.0914895061742973, 1.0905387313431345, -0.8005524078386398, -0.21867821116732458, -0.9460209570064686, -0.36414676033515336, 1.8178814771822787, -0.0732096619994958, -0.8005524078386398, 0.9450701821753058, -0.0732096619994958, 0.07225888716833301, -0.8005524078386398, 0.2177274363361618, 1.8178814771822787, 0.2177274363361618, 1.0905387313431345, -0.8005524078386398, 0.5086645346718194, 0.5086645346718194, 1.0905387313431345, 1.526944378846621, -2.109769350349099, 0.07225888716833301, -0.8005524078386398, -0.5096153095029822, 2.3997556738535937, -1.0914895061742973, -1.6733637028456125, -1.0914895061742973, -0.655083858670811, -0.21867821116732458, -0.0732096619994958, -0.8005524078386398, -0.9460209570064686, -0.36414676033515336, -0.8005524078386398, 1.0905387313431345, 0.07225888716833301, 0.2177274363361618, -0.21867821116732458, -0.9460209570064686, -0.36414676033515336, -0.8005524078386398, -0.9460209570064686, 1.0905387313431345, -0.655083858670811, 1.0905387313431345, 3.2725669688605667, -1.0914895061742973, 0.2177274363361618, 0.2177274363361618, -1.0914895061742973, -0.36414676033515336, -0.21867821116732458, -0.9460209570064686, -1.6733637028456125, 0.2177274363361618, 2.254287124685765, 0.07225888716833301, 2.83616132135708, -0.21867821116732458, 0.799601633007477, -0.0732096619994958, -0.0732096619994958, -0.5096153095029822, -0.36414676033515336, 0.5086645346718194, 0.9450701821753058, -0.5096153095029822, -0.0732096619994958, -1.0914895061742973, -0.8005524078386398, -0.9460209570064686, 0.2177274363361618, 1.0905387313431345, 1.2360072805109634, -0.36414676033515336, 0.2177274363361618, -0.9460209570064686, -0.8005524078386398, 1.0905387313431345, 0.5086645346718194, -1.2369580553421262, -0.0732096619994958, -0.8005524078386398, -0.9460209570064686, 0.9450701821753058, 0.9450701821753058, -0.0732096619994958, -0.8005524078386398, 1.0905387313431345, 2.254287124685765, -1.2369580553421262, 1.6724129280144497, -0.36414676033515336, -0.8005524078386398, 1.0905387313431345, 0.9450701821753058, -0.21867821116732458, 1.0905387313431345, 0.5086645346718194, 2.3997556738535937, 0.2177274363361618, 0.5086645346718194, 0.36319598550399057, 0.5086645346718194, -0.9460209570064686, -0.8005524078386398]}, {\"marker\": {\"color\": \"hsl(144.0,50%,50%)\"}, \"name\": \"curbweight\", \"type\": \"box\", \"y\": [-1.3475532986425534, -0.1770705753745575, 0.7820749895256082, 1.529883396057939, 0.2781171503407768, -0.5753598353754715, 1.0421822613629401, 0.22121868462635882, 1.131594136057025, 1.0340539091180239, 0.8714868642196908, -1.3475532986425534, 1.2128776585061916, 1.619295270752024, -0.03888858721097306, 0.12367845768735994, 1.879402542589356, -1.3475532986425534, 0.18870527564669176, -1.3475532986425534, 0.13993516217719232, -0.258354097823724, -1.4613502300713868, -0.6160015966000547, 1.2128776585061916, -1.3638100031323879, -0.6729000623144727, -0.12017210966013957, 2.3345902683046877, -0.420921142722057, -0.6972851190492213, 0.05865163972802582, 1.0421822613629401, -0.6160015966000547, -1.9409230125214696, 1.0340539091180239, 2.058226291977521, 1.2128776585061916, 1.2128776585061916, -0.1770705753745575, -0.5753598353754715, -0.5347180741508882, -0.3396376202728905, 0.5219677176882762, -0.3965360859873061, -1.3475532986425534, -0.258354097823724, -1.1849862537442202, 1.0421822613629401, 1.0340539091180239, -1.4613502300713868, 0.18870527564669176, 1.529883396057939, -0.2989958590483073, 0.05865163972802582, -0.030760234966056874, -0.15268551863980662, -0.1770705753745575, -1.4613502300713868, -0.07140199619064012, -2.379854033746969, 0.3756573772797756, -0.8517238117026381, -0.03888858721097306, -1.3475532986425534, -1.3475532986425534, 2.7816496417751035, -1.201242958234055, 2.0338412352427726, -0.4046644382322223, -0.6160015966000547, 1.2128776585061916, 2.0907397009571884, -0.3965360859873061, 1.0340539091180239, -0.420921142722057, 0.18870527564669176, 1.3835730556494408, -0.055145291700807744, 0.2374753891161935, 1.3835730556494408, -1.3475532986425534, 0.2374753891161935, -0.12017210966013957, 0.2374753891161935, -0.055145291700807744, 1.2128776585061916, 1.529883396057939, 0.36752902503485946, -0.5347180741508882, -0.21771233659914074, -1.201242958234055, -2.6643463623190518, -0.3965360859873061, 0.31875891156536, 0.13993516217719232, -0.022631882721140684, 1.2128776585061916, 0.2374753891161935, -0.055145291700807744, 2.0907397009571884, 0.31875891156536, -0.1770705753745575, 0.749561580545941, -0.6972851190492213, -0.15268551863980662, -0.6160015966000547, -0.07140199619064012, 0.18870527564669176, 1.2128776585061916, 0.12367845768735994, -0.6160015966000547, -0.2989958590483073, -0.4127927904771385, 0.18870527564669176, -0.3965360859873061, 1.2128776585061916, 1.131594136057025, 0.31875891156536, -1.201242958234055, -1.233756367213722, 0.1480635144221085, 0.13993516217719232, -0.055145291700807744, -0.4046644382322223, -1.233756367213722, 0.13993516217719232, 0.22121868462635882, -1.3475532986425534, 2.0338412352427726, 0.7820749895256082, -0.3396376202728905, -0.6972851190492213, 0.18870527564669176, -0.4046644382322223, -1.3475532986425534, -0.1770705753745575, 0.3512723205450248, -1.9409230125214696, 0.2374753891161935, 0.8714868642196908, 0.5138393654433577, -0.9330073341518046, -0.6647717100695565, -1.3475532986425534, -0.420921142722057, -0.6160015966000547, 0.31875891156536, -1.9409230125214696, -0.5184613696610558, -0.1770705753745575, 1.0421822613629401, -0.4046644382322223]}, {\"marker\": {\"color\": \"hsl(216.0,50%,50%)\"}, \"name\": \"cylindernumber\", \"type\": \"box\", \"y\": [-0.6139151691342998, -0.5469964537493959, 0.7932898172453933, 1.0036057798836626, -0.10342096891231872, -1.177944341664204, 0.9825741836198357, -0.42845472935328044, 1.1278833941699127, 0.3764818185622777, 1.4051180721930858, -0.8280550583659922, 0.7474026981243164, 1.5657229891168551, -0.45331025221053045, -0.4915495181447612, 1.8047184012057977, -0.8280550583659922, -0.01929458385701099, -1.2295673506754154, -0.15504397792353028, 1.1049398346093742, -1.3136937357307232, -0.8395268381462614, 0.919479394828355, -1.0268992412239923, -1.019251388037146, -0.37491975704535735, 2.3113886748343555, -0.5661160867165113, -1.1664725618839347, -0.04988599660439562, 1.3209916871377783, -0.8643823610035114, -1.1875041581477617, 0.4720799833978547, 2.206230693515221, 0.9252152847184896, 1.139355173950182, -0.6674501414422229, -1.1683845251806462, -1.0938179566088961, 1.0494928990047396, 2.148871794613875, -0.3462403075946842, -1.1798563049609154, 0.9749263304329896, -0.5871476829803383, 0.9825741836198357, 0.27897169042998915, -1.3136937357307232, 0.22543671812206606, 0.54091066207947, -1.0020437183667423, -0.04988599660439562, -0.20284306034131877, -0.3366804911111265, -0.4991973713316074, -1.2467750203458194, -0.4456623990236843, -1.4188517170498578, 1.1049398346093742, -1.0536667273779539, -0.49537344473818434, -1.0938179566088961, -1.3098698091373002, 2.5599439034068556, -1.2831023229833385, 1.6613211539524322, 0.41472108449650846, -0.5469964537493959, 0.8621204959270087, 2.8773298106609713, -0.11680471198929951, 0.5466465519696047, -0.4991973713316074, 0.29235543350696996, 2.273149408900125, 0.6976916524098163, 0.2847075803201238, 1.823838034172913, -1.3098698091373002, -0.19328324385776108, -0.29844122517689575, -0.31756085814401114, 0.6881318359262586, 0.9041836884546626, 0.7512266247177394, 0.6671002396624317, -0.7076013706731652, 0.5007594328485278, -1.2544228735326655, -2.0517115682613776, -0.3462403075946842, -0.3366804911111265, -0.2812335555064919, 0.1699897825174314, 0.6709241662558547, -0.31756085814401114, 0.5198790658156431, 2.8773298106609713, -0.260201959242665, -0.5680280500132229, 0.003648975703527485, -1.040282984300973, -0.09768507902218411, -0.5469964537493959, -0.36535994056179966, 0.7913778539486818, 1.2540729717528742, -0.18372342737420339, -0.8051114988054537, -1.0268992412239923, -0.025030473747145607, -0.04797403330768408, -0.3366804911111265, 0.9328631379053357, 1.089644128235682, -0.28888140869333806, -1.2639826900162232, -1.1014658097957424, 1.5389555029628936, -0.19710717045118417, 0.49119961636497006, 0.3726578919688546, -1.0441069108943961, -0.4494863256171074, 0.5026713961452393, -0.795551682321896, 1.766479135271567, 0.8697683491138549, -0.5374366372658382, -1.2850142862800502, -0.040326180120837926, 0.3726578919688546, -1.0651385071582231, -0.5737639399033574, 0.9405109910921818, -1.3844363777090503, 0.38986556163925845, 0.9538947341691626, 0.03424038845091212, -1.0574906539713769, -0.650242471771819, -1.1358811491365501, -0.6827458478159152, -0.8930618104541845, -0.3366804911111265, -1.156912745400377, -0.6215630223211459, -0.6731860313323575, 0.877416202300701, 0.45678427702416236]}, {\"marker\": {\"color\": \"hsl(288.0,50%,50%)\"}, \"name\": \"enginesize\", \"type\": \"box\", \"y\": [-0.826229739073367, -0.529427195356149, 1.3503222481862323, 0.8309177966811007, 0.08891143738805539, -0.949897465622208, -0.2326246516389309, -0.10895692509009001, 1.2266545216373914, 0.08891143738805539, 1.1277203403983187, -0.10895692509009001, 0.1878456186271281, 1.869726699691364, -0.2326246516389309, -0.5046936500463808, 1.869726699691364, -0.10895692509009001, 0.23731270924666445, -0.949897465622208, -0.826229739073367, 2.314930515267191, -0.9004303750026716, -0.9004303750026716, 0.1878456186271281, -0.7520291031440626, -0.9251639203124398, -0.4552265594268445, 0.4104475264150417, 0.13837852800759173, -0.9251639203124398, -0.4552265594268445, -0.2820917422584672, -0.9004303750026716, -0.7520291031440626, 1.3255887028764641, 1.9191937903109004, 1.3750557934960006, 1.3750557934960006, -0.529427195356149, -0.949897465622208, -0.949897465622208, -1.098298737480817, 1.2019209763276233, -0.13369047039985818, -0.949897465622208, 1.3255887028764641, -0.4057594688073081, -0.2820917422584672, 0.08891143738805539, -0.9004303750026716, 0.23731270924666445, 0.08891143738805539, -0.9251639203124398, -0.4552265594268445, -0.3068252875682354, -0.6036278312854535, -0.15842401570962636, -0.9004303750026716, -0.4552265594268445, -0.7520291031440626, 1.3255887028764641, -0.7520291031440626, -0.2326246516389309, -0.949897465622208, -0.949897465622208, 1.9191937903109004, -0.949897465622208, -0.2820917422584672, 0.9051184326104051, -1.246700009339426, 0.6825165248224916, 1.721325427832755, 0.7072500701322598, 1.3255887028764641, 0.13837852800759173, 0.23731270924666445, 0.4104475264150417, 0.9545855232299415, 0.3609804357955053, 0.4104475264150417, -0.949897465622208, -0.4057594688073081, -0.4552265594268445, -0.13369047039985818, 0.9545855232299415, 0.1878456186271281, 0.08891143738805539, 1.6965918825229869, -0.949897465622208, 1.1771874310178552, -0.949897465622208, -1.4445683718175715, -0.13369047039985818, -0.5541607406659171, -0.35629237818777176, 0.11364498269782357, 0.1878456186271281, -0.13369047039985818, 0.9545855232299415, 1.721325427832755, -0.5541607406659171, -1.3456341905784988, -0.4552265594268445, -1.2714335546491942, 0.11364498269782357, -1.246700009339426, 0.23731270924666445, 0.23731270924666445, -0.01002274385101731, -0.13369047039985818, -0.9004303750026716, -0.9251639203124398, 0.11364498269782357, 0.23731270924666445, -0.13369047039985818, 1.3255887028764641, 1.2266545216373914, -0.5541607406659171, -0.949897465622208, -1.098298737480817, 4.491482502526791, -0.35629237818777176, 0.9545855232299415, 2.4880653324355686, -1.098298737480817, -0.35629237818777176, 0.21257916393689627, -0.10895692509009001, -0.2820917422584672, 1.3503222481862323, -1.098298737480817, -0.9251639203124398, 0.23731270924666445, 2.4880653324355686, -0.949897465622208, -1.3456341905784988, 1.3255887028764641, -1.1477658281003533, 0.3609804357955053, 1.1277203403983187, -0.949897465622208, -0.9251639203124398, -0.4057594688073081, -0.949897465622208, -0.9004303750026716, -0.9004303750026716, -0.5541607406659171, -0.7520291031440626, -0.5046936500463808, -0.529427195356149, -0.2326246516389309, 2.4880653324355686]}, {\"marker\": {\"color\": \"hsl(360.0,50%,50%)\"}, \"name\": \"horsepower\", \"type\": \"box\", \"y\": [-0.3803135600922287, -0.3803135600922287, 1.6261683259115962, 0.6229273829096837, 0.6229273829096837, -0.3803135600922287, -0.3803135600922287, -0.3803135600922287, 1.6261683259115962, -0.3803135600922287, 1.6261683259115962, -0.3803135600922287, -0.3803135600922287, 1.6261683259115962, -0.3803135600922287, -0.3803135600922287, 1.6261683259115962, -0.3803135600922287, -0.3803135600922287, -0.3803135600922287, -0.3803135600922287, 1.6261683259115962, -0.3803135600922287, -0.3803135600922287, -0.3803135600922287, -0.3803135600922287, -0.3803135600922287, -0.3803135600922287, 0.6229273829096837, -0.3803135600922287, -0.3803135600922287, -0.3803135600922287, -0.3803135600922287, -0.3803135600922287, -0.3803135600922287, -0.3803135600922287, 3.632650211915421, -0.3803135600922287, -0.3803135600922287, -0.3803135600922287, -0.3803135600922287, -0.3803135600922287, -0.3803135600922287, 3.632650211915421, -2.3867954460960537, -0.3803135600922287, 1.6261683259115962, -0.3803135600922287, -0.3803135600922287, -0.3803135600922287, -0.3803135600922287, -0.3803135600922287, 0.6229273829096837, -0.3803135600922287, -0.3803135600922287, -0.3803135600922287, -0.3803135600922287, -0.3803135600922287, -0.3803135600922287, -0.3803135600922287, -0.3803135600922287, 1.6261683259115962, -0.3803135600922287, -0.3803135600922287, -0.3803135600922287, -0.3803135600922287, 3.632650211915421, -0.3803135600922287, -0.3803135600922287, -0.3803135600922287, -0.3803135600922287, 1.6261683259115962, 1.6261683259115962, -2.3867954460960537, -0.3803135600922287, -0.3803135600922287, -0.3803135600922287, 0.6229273829096837, -0.3803135600922287, 1.6261683259115962, 0.6229273829096837, -0.3803135600922287, -0.3803135600922287, -0.3803135600922287, -0.3803135600922287, -0.3803135600922287, -0.3803135600922287, 0.6229273829096837, -0.3803135600922287, -0.3803135600922287, 1.6261683259115962, -0.3803135600922287, -1.3835545030941412, -2.3867954460960537, -0.3803135600922287, -0.3803135600922287, -0.3803135600922287, -0.3803135600922287, -0.3803135600922287, -0.3803135600922287, 1.6261683259115962, -0.3803135600922287, -0.3803135600922287, -0.3803135600922287, -0.3803135600922287, -0.3803135600922287, -0.3803135600922287, -0.3803135600922287, -0.3803135600922287, 1.6261683259115962, -0.3803135600922287, -0.3803135600922287, -0.3803135600922287, -0.3803135600922287, -0.3803135600922287, -2.3867954460960537, -0.3803135600922287, 1.6261683259115962, -0.3803135600922287, -0.3803135600922287, -0.3803135600922287, 3.632650211915421, -0.3803135600922287, -0.3803135600922287, 1.6261683259115962, -0.3803135600922287, -0.3803135600922287, 0.6229273829096837, -0.3803135600922287, -0.3803135600922287, 1.6261683259115962, -0.3803135600922287, -0.3803135600922287, -0.3803135600922287, 1.6261683259115962, -0.3803135600922287, -0.3803135600922287, 0.6229273829096837, -0.3803135600922287, 1.6261683259115962, 1.6261683259115962, -0.3803135600922287, -0.3803135600922287, -0.3803135600922287, -0.3803135600922287, -0.3803135600922287, -0.3803135600922287, -0.3803135600922287, -0.3803135600922287, -0.3803135600922287, -0.3803135600922287, -0.3803135600922287, 1.6261683259115962]}],\n",
              "                        {\"template\": {\"data\": {\"bar\": [{\"error_x\": {\"color\": \"#2a3f5f\"}, \"error_y\": {\"color\": \"#2a3f5f\"}, \"marker\": {\"line\": {\"color\": \"#E5ECF6\", \"width\": 0.5}}, \"type\": \"bar\"}], \"barpolar\": [{\"marker\": {\"line\": {\"color\": \"#E5ECF6\", \"width\": 0.5}}, \"type\": \"barpolar\"}], \"carpet\": [{\"aaxis\": {\"endlinecolor\": \"#2a3f5f\", \"gridcolor\": \"white\", \"linecolor\": \"white\", \"minorgridcolor\": \"white\", \"startlinecolor\": \"#2a3f5f\"}, \"baxis\": {\"endlinecolor\": \"#2a3f5f\", \"gridcolor\": \"white\", \"linecolor\": \"white\", \"minorgridcolor\": \"white\", \"startlinecolor\": \"#2a3f5f\"}, \"type\": \"carpet\"}], \"choropleth\": [{\"colorbar\": {\"outlinewidth\": 0, \"ticks\": \"\"}, \"type\": \"choropleth\"}], \"contour\": [{\"colorbar\": {\"outlinewidth\": 0, \"ticks\": \"\"}, \"colorscale\": [[0.0, \"#0d0887\"], [0.1111111111111111, \"#46039f\"], [0.2222222222222222, \"#7201a8\"], [0.3333333333333333, \"#9c179e\"], [0.4444444444444444, \"#bd3786\"], [0.5555555555555556, \"#d8576b\"], [0.6666666666666666, \"#ed7953\"], [0.7777777777777778, \"#fb9f3a\"], [0.8888888888888888, \"#fdca26\"], [1.0, \"#f0f921\"]], \"type\": \"contour\"}], \"contourcarpet\": [{\"colorbar\": {\"outlinewidth\": 0, \"ticks\": \"\"}, \"type\": \"contourcarpet\"}], \"heatmap\": [{\"colorbar\": {\"outlinewidth\": 0, \"ticks\": \"\"}, \"colorscale\": [[0.0, \"#0d0887\"], [0.1111111111111111, \"#46039f\"], [0.2222222222222222, \"#7201a8\"], [0.3333333333333333, \"#9c179e\"], [0.4444444444444444, \"#bd3786\"], [0.5555555555555556, \"#d8576b\"], [0.6666666666666666, \"#ed7953\"], [0.7777777777777778, \"#fb9f3a\"], [0.8888888888888888, \"#fdca26\"], [1.0, \"#f0f921\"]], \"type\": \"heatmap\"}], \"heatmapgl\": [{\"colorbar\": {\"outlinewidth\": 0, \"ticks\": \"\"}, \"colorscale\": [[0.0, \"#0d0887\"], [0.1111111111111111, \"#46039f\"], [0.2222222222222222, \"#7201a8\"], [0.3333333333333333, \"#9c179e\"], [0.4444444444444444, \"#bd3786\"], [0.5555555555555556, \"#d8576b\"], [0.6666666666666666, \"#ed7953\"], [0.7777777777777778, \"#fb9f3a\"], [0.8888888888888888, \"#fdca26\"], [1.0, \"#f0f921\"]], \"type\": \"heatmapgl\"}], \"histogram\": [{\"marker\": {\"colorbar\": {\"outlinewidth\": 0, \"ticks\": \"\"}}, \"type\": \"histogram\"}], \"histogram2d\": [{\"colorbar\": {\"outlinewidth\": 0, \"ticks\": \"\"}, \"colorscale\": [[0.0, \"#0d0887\"], [0.1111111111111111, \"#46039f\"], [0.2222222222222222, \"#7201a8\"], [0.3333333333333333, \"#9c179e\"], [0.4444444444444444, \"#bd3786\"], [0.5555555555555556, \"#d8576b\"], [0.6666666666666666, \"#ed7953\"], [0.7777777777777778, \"#fb9f3a\"], [0.8888888888888888, \"#fdca26\"], [1.0, \"#f0f921\"]], \"type\": \"histogram2d\"}], \"histogram2dcontour\": [{\"colorbar\": {\"outlinewidth\": 0, \"ticks\": \"\"}, \"colorscale\": [[0.0, \"#0d0887\"], [0.1111111111111111, \"#46039f\"], [0.2222222222222222, \"#7201a8\"], [0.3333333333333333, \"#9c179e\"], [0.4444444444444444, \"#bd3786\"], [0.5555555555555556, \"#d8576b\"], [0.6666666666666666, \"#ed7953\"], [0.7777777777777778, \"#fb9f3a\"], [0.8888888888888888, \"#fdca26\"], [1.0, \"#f0f921\"]], \"type\": \"histogram2dcontour\"}], \"mesh3d\": [{\"colorbar\": {\"outlinewidth\": 0, \"ticks\": \"\"}, \"type\": \"mesh3d\"}], \"parcoords\": [{\"line\": {\"colorbar\": {\"outlinewidth\": 0, \"ticks\": \"\"}}, \"type\": \"parcoords\"}], \"pie\": [{\"automargin\": true, \"type\": \"pie\"}], \"scatter\": [{\"marker\": {\"colorbar\": {\"outlinewidth\": 0, \"ticks\": \"\"}}, \"type\": \"scatter\"}], \"scatter3d\": [{\"line\": {\"colorbar\": {\"outlinewidth\": 0, \"ticks\": \"\"}}, \"marker\": {\"colorbar\": {\"outlinewidth\": 0, \"ticks\": \"\"}}, \"type\": \"scatter3d\"}], \"scattercarpet\": [{\"marker\": {\"colorbar\": {\"outlinewidth\": 0, \"ticks\": \"\"}}, \"type\": \"scattercarpet\"}], \"scattergeo\": [{\"marker\": {\"colorbar\": {\"outlinewidth\": 0, \"ticks\": \"\"}}, \"type\": \"scattergeo\"}], \"scattergl\": [{\"marker\": {\"colorbar\": {\"outlinewidth\": 0, \"ticks\": \"\"}}, \"type\": \"scattergl\"}], \"scattermapbox\": [{\"marker\": {\"colorbar\": {\"outlinewidth\": 0, \"ticks\": \"\"}}, \"type\": \"scattermapbox\"}], \"scatterpolar\": [{\"marker\": {\"colorbar\": {\"outlinewidth\": 0, \"ticks\": \"\"}}, \"type\": \"scatterpolar\"}], \"scatterpolargl\": [{\"marker\": {\"colorbar\": {\"outlinewidth\": 0, \"ticks\": \"\"}}, \"type\": \"scatterpolargl\"}], \"scatterternary\": [{\"marker\": {\"colorbar\": {\"outlinewidth\": 0, \"ticks\": \"\"}}, \"type\": \"scatterternary\"}], \"surface\": [{\"colorbar\": {\"outlinewidth\": 0, \"ticks\": \"\"}, \"colorscale\": [[0.0, \"#0d0887\"], [0.1111111111111111, \"#46039f\"], [0.2222222222222222, \"#7201a8\"], [0.3333333333333333, \"#9c179e\"], [0.4444444444444444, \"#bd3786\"], [0.5555555555555556, \"#d8576b\"], [0.6666666666666666, \"#ed7953\"], [0.7777777777777778, \"#fb9f3a\"], [0.8888888888888888, \"#fdca26\"], [1.0, \"#f0f921\"]], \"type\": \"surface\"}], \"table\": [{\"cells\": {\"fill\": {\"color\": \"#EBF0F8\"}, \"line\": {\"color\": \"white\"}}, \"header\": {\"fill\": {\"color\": \"#C8D4E3\"}, \"line\": {\"color\": \"white\"}}, \"type\": \"table\"}]}, \"layout\": {\"annotationdefaults\": {\"arrowcolor\": \"#2a3f5f\", \"arrowhead\": 0, \"arrowwidth\": 1}, \"coloraxis\": {\"colorbar\": {\"outlinewidth\": 0, \"ticks\": \"\"}}, \"colorscale\": {\"diverging\": [[0, \"#8e0152\"], [0.1, \"#c51b7d\"], [0.2, \"#de77ae\"], [0.3, \"#f1b6da\"], [0.4, \"#fde0ef\"], [0.5, \"#f7f7f7\"], [0.6, \"#e6f5d0\"], [0.7, \"#b8e186\"], [0.8, \"#7fbc41\"], [0.9, \"#4d9221\"], [1, \"#276419\"]], \"sequential\": [[0.0, \"#0d0887\"], [0.1111111111111111, \"#46039f\"], [0.2222222222222222, \"#7201a8\"], [0.3333333333333333, \"#9c179e\"], [0.4444444444444444, \"#bd3786\"], [0.5555555555555556, \"#d8576b\"], [0.6666666666666666, \"#ed7953\"], [0.7777777777777778, \"#fb9f3a\"], [0.8888888888888888, \"#fdca26\"], [1.0, \"#f0f921\"]], \"sequentialminus\": [[0.0, \"#0d0887\"], [0.1111111111111111, \"#46039f\"], [0.2222222222222222, \"#7201a8\"], [0.3333333333333333, \"#9c179e\"], [0.4444444444444444, \"#bd3786\"], [0.5555555555555556, \"#d8576b\"], [0.6666666666666666, \"#ed7953\"], [0.7777777777777778, \"#fb9f3a\"], [0.8888888888888888, \"#fdca26\"], [1.0, \"#f0f921\"]]}, \"colorway\": [\"#636efa\", \"#EF553B\", \"#00cc96\", \"#ab63fa\", \"#FFA15A\", \"#19d3f3\", \"#FF6692\", \"#B6E880\", \"#FF97FF\", \"#FECB52\"], \"font\": {\"color\": \"#2a3f5f\"}, \"geo\": {\"bgcolor\": \"white\", \"lakecolor\": \"white\", \"landcolor\": \"#E5ECF6\", \"showlakes\": true, \"showland\": true, \"subunitcolor\": \"white\"}, \"hoverlabel\": {\"align\": \"left\"}, \"hovermode\": \"closest\", \"mapbox\": {\"style\": \"light\"}, \"paper_bgcolor\": \"white\", \"plot_bgcolor\": \"#E5ECF6\", \"polar\": {\"angularaxis\": {\"gridcolor\": \"white\", \"linecolor\": \"white\", \"ticks\": \"\"}, \"bgcolor\": \"#E5ECF6\", \"radialaxis\": {\"gridcolor\": \"white\", \"linecolor\": \"white\", \"ticks\": \"\"}}, \"scene\": {\"xaxis\": {\"backgroundcolor\": \"#E5ECF6\", \"gridcolor\": \"white\", \"gridwidth\": 2, \"linecolor\": \"white\", \"showbackground\": true, \"ticks\": \"\", \"zerolinecolor\": \"white\"}, \"yaxis\": {\"backgroundcolor\": \"#E5ECF6\", \"gridcolor\": \"white\", \"gridwidth\": 2, \"linecolor\": \"white\", \"showbackground\": true, \"ticks\": \"\", \"zerolinecolor\": \"white\"}, \"zaxis\": {\"backgroundcolor\": \"#E5ECF6\", \"gridcolor\": \"white\", \"gridwidth\": 2, \"linecolor\": \"white\", \"showbackground\": true, \"ticks\": \"\", \"zerolinecolor\": \"white\"}}, \"shapedefaults\": {\"line\": {\"color\": \"#2a3f5f\"}}, \"ternary\": {\"aaxis\": {\"gridcolor\": \"white\", \"linecolor\": \"white\", \"ticks\": \"\"}, \"baxis\": {\"gridcolor\": \"white\", \"linecolor\": \"white\", \"ticks\": \"\"}, \"bgcolor\": \"#E5ECF6\", \"caxis\": {\"gridcolor\": \"white\", \"linecolor\": \"white\", \"ticks\": \"\"}}, \"title\": {\"x\": 0.05}, \"xaxis\": {\"automargin\": true, \"gridcolor\": \"white\", \"linecolor\": \"white\", \"ticks\": \"\", \"title\": {\"standoff\": 15}, \"zerolinecolor\": \"white\", \"zerolinewidth\": 2}, \"yaxis\": {\"automargin\": true, \"gridcolor\": \"white\", \"linecolor\": \"white\", \"ticks\": \"\", \"title\": {\"standoff\": 15}, \"zerolinecolor\": \"white\", \"zerolinewidth\": 2}}}},\n",
              "                        {\"responsive\": true}\n",
              "                    ).then(function(){\n",
              "                            \n",
              "var gd = document.getElementById('3c74f6bc-14de-4502-bf6f-0e37d5395bf8');\n",
              "var x = new MutationObserver(function (mutations, observer) {{\n",
              "        var display = window.getComputedStyle(gd).display;\n",
              "        if (!display || display === 'none') {{\n",
              "            console.log([gd, 'removed!']);\n",
              "            Plotly.purge(gd);\n",
              "            observer.disconnect();\n",
              "        }}\n",
              "}});\n",
              "\n",
              "// Listen for the removal of the full notebook cells\n",
              "var notebookContainer = gd.closest('#notebook-container');\n",
              "if (notebookContainer) {{\n",
              "    x.observe(notebookContainer, {childList: true});\n",
              "}}\n",
              "\n",
              "// Listen for the clearing of the current output cell\n",
              "var outputEl = gd.closest('.output');\n",
              "if (outputEl) {{\n",
              "    x.observe(outputEl, {childList: true});\n",
              "}}\n",
              "\n",
              "                        })\n",
              "                };\n",
              "                \n",
              "            </script>\n",
              "        </div>\n",
              "</body>\n",
              "</html>"
            ]
          },
          "metadata": {
            "tags": []
          }
        }
      ]
    },
    {
      "cell_type": "markdown",
      "metadata": {
        "id": "si8I_THCdvAM"
      },
      "source": [
        "18. Create a linear model and train it. Display the model coeffiecients and formula. You can create all types of models (SLR, MLR and polynomial) but choose to use only one. Write down a short explanation why you decided to select the secific model type."
      ]
    },
    {
      "cell_type": "code",
      "metadata": {
        "id": "NqCh3Nmp2OgU",
        "colab": {
          "base_uri": "https://localhost:8080/"
        },
        "outputId": "d9811144-5272-4f82-8740-46d16bba6bc7"
      },
      "source": [
        "X=cars_df['enginesize']\n",
        "y=cars_df['priceK']\n",
        "X_train, X_test, y_train, y_test = train_test_split(X, y)\n",
        "x_train_scaler = StandardScaler()\n",
        "x_test_scaler  = StandardScaler()\n",
        "y_train_scaler = StandardScaler()\n",
        "y_test_scaler  = StandardScaler()\n",
        "X_train_scaled = x_train_scaler.fit_transform(np.asarray(X_train).reshape(-1, 1))\n",
        "X_test_scaled  = x_test_scaler.fit_transform(np.asarray(X_test).reshape(-1, 1))\n",
        "y_train_scaled = y_train_scaler.fit_transform(np.asarray(y_train).reshape(-1, 1))\n",
        "y_test_scaled  = y_test_scaler.fit_transform(np.asarray(y_test).reshape(-1, 1))\n",
        "reg = linear_model.LinearRegression()  # define model\n",
        "reg.fit(X_train_scaled, y_train_scaled)\n",
        "coef = reg.coef_[0][0]\n",
        "print(\"coeff:\" + str(coef))\n",
        "intercept = reg.intercept_[0]\n",
        "print(\"formula is : f(x)=\" + format(coef, '.3f') + \"*X + \" + format(intercept, '.2f'))\n",
        "#X_train_scaled"
      ],
      "execution_count": null,
      "outputs": [
        {
          "output_type": "stream",
          "text": [
            "coeff:0.8687747467801603\n",
            "formula is : f(x)=0.869*X + 0.00\n"
          ],
          "name": "stdout"
        }
      ]
    },
    {
      "cell_type": "markdown",
      "metadata": {
        "id": "pMSAzF50ecld"
      },
      "source": [
        "19. Use the model to predict the train prices. Inverse the scale and add the results to the train DF."
      ]
    },
    {
      "cell_type": "code",
      "metadata": {
        "id": "q0WfodYV47we",
        "colab": {
          "base_uri": "https://localhost:8080/",
          "height": 419
        },
        "outputId": "fccc38e3-19cc-487b-ea70-59d81570fe90"
      },
      "source": [
        "#use lm.predict(X_train) for all the X data from the train set\n",
        "train_pred = reg.predict(X_train_scaled)\n",
        "inversed_scale_preds = y_train_scaler.inverse_transform(train_pred)\n",
        "train_df = pd.merge(left=X_train, right=y_train, left_index=True, right_index=True)\n",
        "test_df = pd.merge(left=X_test, right=y_test, left_index=True, right_index=True)\n",
        "train_df['Predicted_train_price'] = inversed_scale_preds\n",
        "train_df"
      ],
      "execution_count": null,
      "outputs": [
        {
          "output_type": "execute_result",
          "data": {
            "text/html": [
              "<div>\n",
              "<style scoped>\n",
              "    .dataframe tbody tr th:only-of-type {\n",
              "        vertical-align: middle;\n",
              "    }\n",
              "\n",
              "    .dataframe tbody tr th {\n",
              "        vertical-align: top;\n",
              "    }\n",
              "\n",
              "    .dataframe thead th {\n",
              "        text-align: right;\n",
              "    }\n",
              "</style>\n",
              "<table border=\"1\" class=\"dataframe\">\n",
              "  <thead>\n",
              "    <tr style=\"text-align: right;\">\n",
              "      <th></th>\n",
              "      <th>enginesize</th>\n",
              "      <th>priceK</th>\n",
              "      <th>Predicted_train_price</th>\n",
              "    </tr>\n",
              "  </thead>\n",
              "  <tbody>\n",
              "    <tr>\n",
              "      <th>131</th>\n",
              "      <td>132</td>\n",
              "      <td>9.895</td>\n",
              "      <td>14.029</td>\n",
              "    </tr>\n",
              "    <tr>\n",
              "      <th>126</th>\n",
              "      <td>194</td>\n",
              "      <td>32.528</td>\n",
              "      <td>24.588</td>\n",
              "    </tr>\n",
              "    <tr>\n",
              "      <th>181</th>\n",
              "      <td>161</td>\n",
              "      <td>15.750</td>\n",
              "      <td>18.968</td>\n",
              "    </tr>\n",
              "    <tr>\n",
              "      <th>141</th>\n",
              "      <td>108</td>\n",
              "      <td>7.126</td>\n",
              "      <td>9.942</td>\n",
              "    </tr>\n",
              "    <tr>\n",
              "      <th>58</th>\n",
              "      <td>80</td>\n",
              "      <td>15.645</td>\n",
              "      <td>5.174</td>\n",
              "    </tr>\n",
              "    <tr>\n",
              "      <th>...</th>\n",
              "      <td>...</td>\n",
              "      <td>...</td>\n",
              "      <td>...</td>\n",
              "    </tr>\n",
              "    <tr>\n",
              "      <th>184</th>\n",
              "      <td>97</td>\n",
              "      <td>7.995</td>\n",
              "      <td>8.069</td>\n",
              "    </tr>\n",
              "    <tr>\n",
              "      <th>115</th>\n",
              "      <td>120</td>\n",
              "      <td>16.630</td>\n",
              "      <td>11.986</td>\n",
              "    </tr>\n",
              "    <tr>\n",
              "      <th>65</th>\n",
              "      <td>140</td>\n",
              "      <td>18.280</td>\n",
              "      <td>15.392</td>\n",
              "    </tr>\n",
              "    <tr>\n",
              "      <th>167</th>\n",
              "      <td>146</td>\n",
              "      <td>8.449</td>\n",
              "      <td>16.413</td>\n",
              "    </tr>\n",
              "    <tr>\n",
              "      <th>158</th>\n",
              "      <td>110</td>\n",
              "      <td>7.898</td>\n",
              "      <td>10.283</td>\n",
              "    </tr>\n",
              "  </tbody>\n",
              "</table>\n",
              "<p>153 rows × 3 columns</p>\n",
              "</div>"
            ],
            "text/plain": [
              "     enginesize  priceK  Predicted_train_price\n",
              "131         132   9.895                 14.029\n",
              "126         194  32.528                 24.588\n",
              "181         161  15.750                 18.968\n",
              "141         108   7.126                  9.942\n",
              "58           80  15.645                  5.174\n",
              "..          ...     ...                    ...\n",
              "184          97   7.995                  8.069\n",
              "115         120  16.630                 11.986\n",
              "65          140  18.280                 15.392\n",
              "167         146   8.449                 16.413\n",
              "158         110   7.898                 10.283\n",
              "\n",
              "[153 rows x 3 columns]"
            ]
          },
          "metadata": {
            "tags": []
          },
          "execution_count": 244
        }
      ]
    },
    {
      "cell_type": "markdown",
      "metadata": {
        "id": "MCr90ICMe255"
      },
      "source": [
        "20. Use the model to predict the test prices. Inverse the scale and add the results to the train DF."
      ]
    },
    {
      "cell_type": "code",
      "metadata": {
        "id": "Iv7ECDBm5iOS",
        "colab": {
          "base_uri": "https://localhost:8080/"
        },
        "outputId": "cb900038-1810-4089-c85f-6f6e63e1bc10"
      },
      "source": [
        "fitted_price = y_test_scaler.inverse_transform(reg.predict(X_test_scaled))\n",
        "test_df['Predicted_test_price'] = fitted_price.transpose()[0]\n",
        "print(test_df.head(10))\n"
      ],
      "execution_count": null,
      "outputs": [
        {
          "output_type": "stream",
          "text": [
            "     enginesize  priceK  Predicted_test_price\n",
            "75          140  16.503                10.231\n",
            "57           70  13.645                12.641\n",
            "204         141  22.625                 7.081\n",
            "102         181  14.399                10.046\n",
            "129         203  31.401                14.494\n",
            "85          122   6.989                 8.193\n",
            "63          122  10.795                18.201\n",
            "93           97   7.349                 6.710\n",
            "21           90   5.572                 7.081\n",
            "7           136  18.920                 6.710\n"
          ],
          "name": "stdout"
        }
      ]
    },
    {
      "cell_type": "code",
      "metadata": {
        "colab": {
          "base_uri": "https://localhost:8080/",
          "height": 265
        },
        "id": "2r3YxRJXj1ro",
        "outputId": "e33a5c40-7c57-4eb3-ac26-066d3ee68861"
      },
      "source": [
        "plt.scatter(X_test,  y_test,  color='black')\n",
        "plt.plot(X_test, test_df['Predicted_test_price'], color='blue', linewidth=1)\n",
        "plt.xticks()\n",
        "plt.yticks()\n",
        "plt.show()"
      ],
      "execution_count": null,
      "outputs": [
        {
          "output_type": "display_data",
          "data": {
            "image/png": "[encoded data removed]",
            "text/plain": [
              "<Figure size 432x288 with 1 Axes>"
            ]
          },
          "metadata": {
            "tags": [],
            "needs_background": "light"
          }
        }
      ]
    },
    {
      "cell_type": "markdown",
      "metadata": {
        "id": "9LwWYKb6fLZ7"
      },
      "source": [
        "21. Evaluate the regression model you created using the three methods:\n",
        "\n",
        ">1. Residual analysis\n",
        "2. Cost function\n",
        "3. R2\n",
        "\n",
        "\n"
      ]
    },
    {
      "cell_type": "code",
      "metadata": {
        "id": "18OaN9385pax"
      },
      "source": [
        "#1 Residual analysis\n",
        "\n",
        "train_df['residuals'] = train_df['priceK'] - train_df['Predicted_train_price']\n",
        "test_df['residuals'] = test_df['priceK'] - test_df['Predicted_test_price']\n"
      ],
      "execution_count": null,
      "outputs": []
    },
    {
      "cell_type": "code",
      "metadata": {
        "id": "nw2HDBYf5vmT",
        "colab": {
          "base_uri": "https://localhost:8080/",
          "height": 542
        },
        "outputId": "ad776d2a-6b27-46aa-82e9-2ded9019634f"
      },
      "source": [
        "#plot the residuals graph\n",
        "fig = go.Figure()\n",
        "fig.add_trace(go.Scatter(\n",
        "        x=train_df['priceK'],\n",
        "        y=train_df['residuals'],\n",
        "        mode='markers',\n",
        "        marker_color='blue',\n",
        "        marker_size=2.5,\n",
        "        name='train residuals'\n",
        "        ))\n",
        "fig.add_trace(go.Scatter(\n",
        "        x=test_df['priceK'],\n",
        "        y=test_df['residuals'],\n",
        "        mode='markers',\n",
        "        marker_color='red',\n",
        "        marker_size=2.5,\n",
        "        name='test residuals'\n",
        "        ))\n",
        "fig.add_trace(\n",
        "  go.Scatter(\n",
        "      x=train_df['priceK'],\n",
        "      y=0*train_df['residuals'],\n",
        "      mode='lines',\n",
        "      name='zero line',\n",
        "      marker_color='black',\n",
        "      marker_size=1.5,\n",
        "      marker_line_width=0,\n",
        "\n",
        "  )\n",
        ")\n",
        "fig.update_layout(\n",
        "    title=\"Residuals of Predicted prices\",\n",
        "    xaxis_title=\"Predicted Price\",\n",
        "    yaxis_title=\"Residuals\",\n",
        "    font=dict(\n",
        "        size=14,\n",
        "        color=\"RebeccaPurple\"\n",
        "    )\n",
        ")\n",
        "fig.show()"
      ],
      "execution_count": null,
      "outputs": [
        {
          "output_type": "display_data",
          "data": {
            "text/html": [
              "<html>\n",
              "<head><meta charset=\"utf-8\" /></head>\n",
              "<body>\n",
              "    <div>\n",
              "            <script src=\"https://cdnjs.cloudflare.com/ajax/libs/mathjax/2.7.5/MathJax.js?config=TeX-AMS-MML_SVG\"></script><script type=\"text/javascript\">if (window.MathJax) {MathJax.Hub.Config({SVG: {font: \"STIX-Web\"}});}</script>\n",
              "                <script type=\"text/javascript\">window.PlotlyConfig = {MathJaxConfig: 'local'};</script>\n",
              "        <script src=\"https://cdn.plot.ly/plotly-latest.min.js\"></script>    \n",
              "            <div id=\"6d6e8a33-4eae-419c-b0c0-9640806d4f2a\" class=\"plotly-graph-div\" style=\"height:525px; width:100%;\"></div>\n",
              "            <script type=\"text/javascript\">\n",
              "                \n",
              "                    window.PLOTLYENV=window.PLOTLYENV || {};\n",
              "                    \n",
              "                if (document.getElementById(\"6d6e8a33-4eae-419c-b0c0-9640806d4f2a\")) {\n",
              "                    Plotly.newPlot(\n",
              "                        '6d6e8a33-4eae-419c-b0c0-9640806d4f2a',\n",
              "                        [{\"marker\": {\"color\": \"blue\", \"size\": 2.5}, \"mode\": \"markers\", \"name\": \"train residuals\", \"type\": \"scatter\", \"x\": [9.895, 32.528, 15.75, 7.126, 15.645, 35.55, 18.399, 9.98, 22.018, 6.229, 8.495, 8.778, 16.5, 17.71, 6.669, 8.845, 8.189, 11.85, 7.198, 7.689, 8.499, 17.669, 7.895, 9.095, 34.028, 7.775, 6.479, 12.764, 16.558, 7.053, 13.415, 6.849, 12.17, 30.76, 6.295, 7.099, 41.315, 22.47, 6.692, 9.538, 6.695, 12.964, 8.9165, 28.176, 13.95, 13.86, 15.58, 12.945, 17.859167000000003, 13.295, 5.151, 9.995, 14.489, 10.595, 36.88, 10.698, 7.957, 6.229, 9.989, 9.295, 12.629, 7.775, 7.799, 18.95, 16.9, 28.248, 17.199, 16.5, 6.692, 15.25, 12.44, 19.699, 7.999, 19.045, 11.845, 6.377, 11.259, 6.488, 13.495, 32.25, 8.921, 8.949, 14.869, 5.348, 8.558, 8.495, 10.245, 7.499, 15.51, 12.29, 7.295, 17.95, 10.198, 11.199, 15.985, 6.938, 5.399, 18.15, 9.959, 8.013, 6.785, 5.389, 45.4, 10.898, 23.875, 15.69, 7.609, 8.948, 37.028, 8.921, 11.694, 40.96, 10.345, 6.575, 11.549, 7.129, 36.0, 7.463, 5.195, 13.2, 11.245, 15.04, 9.298, 9.279, 6.918, 8.845, 21.485, 24.565, 34.184, 6.189, 8.238, 18.344, 6.095, 7.738, 6.529, 7.395, 9.279, 7.957, 9.639, 16.515, 18.62, 16.695, 7.299, 10.295, 8.058, 7.295, 18.15, 9.988, 7.995, 16.63, 18.28, 8.449, 7.898], \"y\": [-4.134189303374185, 7.940263976817754, -3.217864381994083, -2.816009927964614, 10.471366010013218, 0.06311897572555836, -3.974847194835391, -0.1323090686066788, 4.753127024426572, -0.6476253964074363, -1.61730906860668, 1.560776322308433, 2.811408977909945, 2.9996141340575537, -0.5482236776915679, -3.48119789695353, -4.137197896953531, -0.3058987563114659, -1.0410185215439594, -0.5500185215439597, -3.82719789695353, 1.2556227276368972, -2.3876082092487465, -1.1876082092487454, 9.440263976817754, -2.167009927964614, -0.7382236776915674, -5.352368678783758, -4.112855788414741, -2.889009927964614, -2.146881569152775, -1.2197193809018927, 0.014101243688534382, 3.6177768671867767, -0.5816253964074365, -1.9915142247542867, 14.172776867186773, 6.226921868278964, -0.18462539640743625, 1.2989814784560405, -0.3519245370495021, -5.152368678783757, 2.039874603592563, 5.461554523880476, 3.83769093139332, -3.5751721162154944, 3.5944003843305996, 2.662391790751254, 4.000276837267883, -1.4153858659424472, 3.213049682212464, -0.11730906860668, -3.627368678783757, -1.73119789695353, 9.737776867186778, 0.4153917907512543, -0.2820185215439599, -0.6476253964074363, -6.4243772723631025, -4.734189303374185, -5.487368678783758, -0.29371938090189254, -0.2697193809018925, 5.261408977909944, -0.5351721162154952, 5.533554523880479, -5.17484719483539, -0.9351721162154938, -0.18462539640743625, 0.5396141340575529, 0.45440038433059904, -2.6748471948353902, -0.06971938090189322, 3.4831184308472274, 8.374357416433876, -0.49962539640743664, 1.3169900720353862, -0.729223677691567, -0.19359102209005563, -3.236881024274439, -3.4051978969535313, -3.0365996156694006, -3.247368678783758, -1.8692236776915676, 0.3189814784560401, -3.8311978969535314, -2.0811978969535314, -0.5697193809018932, 3.3541012436885342, 2.17769093139332, 0.07777632230843246, 0.5148278837845055, 0.25599007203538626, -5.214377272363103, 0.4231184308472251, -1.30101852154396, 0.39566515065528574, 3.7802124153416816, -0.32360820924874645, -1.9290099279646142, -3.667907349890811, -1.8282236776915672, 2.0793585061905517, -1.428197896953531, 10.01610983726788, -4.9808557884147415, -0.6300185215439598, -3.3781978969535302, 12.440263976817754, -3.4051978969535313, 1.7519900720353867, -3.0418380563777134, 0.06239179075125456, -0.30162539640743624, -4.864377272363104, -0.08822367769156791, -11.067222587934886, -2.479009927964614, -1.851924537049502, -4.2351721162154945, -1.0811978969535314, 2.8841012436885336, 1.0589814784560403, -1.0036082092487462, -0.2992236776915673, -1.4376082092487454, 0.47354593030112824, 5.086238196079723, 2.784298351135135, -1.0282236776915674, -0.0010185215439602047, 3.9742124153416842, -0.9519245370495026, -0.5010185215439593, -0.6882236776915676, 0.3480754629504972, -1.0036082092487462, -0.2820185215439599, -6.774377272363104, 0.9531184308472263, 6.4641012436885354, 4.7094003843306, -0.7697193809018925, 0.01239179075125385, -0.18101852154395992, 0.07777632230843246, 5.994101243688533, -2.338197896953531, -0.07371938090189278, 4.6444003843305985, 2.888417571489292, -7.964377272363103, -2.3846082092487464]}, {\"marker\": {\"color\": \"red\", \"size\": 2.5}, \"mode\": \"markers\", \"name\": \"test residuals\", \"type\": \"scatter\", \"x\": [16.503, 13.645, 22.625, 14.399, 31.4005, 6.989, 10.795, 7.349, 5.572, 18.92, 5.572, 21.105, 25.552, 9.96, 7.898, 17.075, 9.495, 13.499, 8.249, 8.195, 16.43, 8.9165, 13.845, 7.788, 10.945, 16.925, 35.056, 16.845, 5.499, 7.609, 31.6, 11.248, 13.499, 6.338, 11.9, 9.258, 7.975, 5.118, 15.998, 6.795, 8.358, 17.45, 9.233, 20.97, 18.42, 9.549, 6.649, 11.048, 6.855, 11.595, 7.603, 12.94], \"y\": [6.271648798334855, 1.0042906060592074, 15.544347972849163, 4.352984043894519, 16.906438150462556, -1.2036635005088288, -7.405766760730748, 0.6390184639684939, -1.5086520271508368, 12.210018463968495, -8.551391358418115, 10.68831355277519, 12.911290606059207, -5.275402831776104, -2.14801595610548, 10.365018463968493, -3.145709393940793, -5.443107742969408, -8.839755287372755, -11.673783970767733, 9.534683218408828, 0.9091717450508359, 3.798984043894521, -0.4046635005088284, -26.901302790055254, 4.654961097178539, 20.191267659343225, 8.837671745050836, -7.1417093939407925, 0.8990184639684937, 24.70468321840883, 0.8313135527751889, -15.265875757631663, -3.893351201665145, 3.892671745050837, -18.39486428427367, 0.8943479728491628, -9.005391358418114, 9.288018463968493, -0.28565202715083693, -7.8040790595744305, 7.4039840438945195, 2.1523479728491637, -2.605488881961037, 2.2579209404255707, 1.3563364994911709, -5.621038902821462, 3.967347972849163, -1.3376635005088282, 4.514347972849164, -12.821789707446731, 4.932671745050836]}, {\"marker\": {\"color\": \"black\", \"line\": {\"width\": 0}, \"size\": 1.5}, \"mode\": \"lines\", \"name\": \"zero line\", \"type\": \"scatter\", \"x\": [9.895, 32.528, 15.75, 7.126, 15.645, 35.55, 18.399, 9.98, 22.018, 6.229, 8.495, 8.778, 16.5, 17.71, 6.669, 8.845, 8.189, 11.85, 7.198, 7.689, 8.499, 17.669, 7.895, 9.095, 34.028, 7.775, 6.479, 12.764, 16.558, 7.053, 13.415, 6.849, 12.17, 30.76, 6.295, 7.099, 41.315, 22.47, 6.692, 9.538, 6.695, 12.964, 8.9165, 28.176, 13.95, 13.86, 15.58, 12.945, 17.859167000000003, 13.295, 5.151, 9.995, 14.489, 10.595, 36.88, 10.698, 7.957, 6.229, 9.989, 9.295, 12.629, 7.775, 7.799, 18.95, 16.9, 28.248, 17.199, 16.5, 6.692, 15.25, 12.44, 19.699, 7.999, 19.045, 11.845, 6.377, 11.259, 6.488, 13.495, 32.25, 8.921, 8.949, 14.869, 5.348, 8.558, 8.495, 10.245, 7.499, 15.51, 12.29, 7.295, 17.95, 10.198, 11.199, 15.985, 6.938, 5.399, 18.15, 9.959, 8.013, 6.785, 5.389, 45.4, 10.898, 23.875, 15.69, 7.609, 8.948, 37.028, 8.921, 11.694, 40.96, 10.345, 6.575, 11.549, 7.129, 36.0, 7.463, 5.195, 13.2, 11.245, 15.04, 9.298, 9.279, 6.918, 8.845, 21.485, 24.565, 34.184, 6.189, 8.238, 18.344, 6.095, 7.738, 6.529, 7.395, 9.279, 7.957, 9.639, 16.515, 18.62, 16.695, 7.299, 10.295, 8.058, 7.295, 18.15, 9.988, 7.995, 16.63, 18.28, 8.449, 7.898], \"y\": [-0.0, 0.0, -0.0, -0.0, 0.0, 0.0, -0.0, -0.0, 0.0, -0.0, -0.0, 0.0, 0.0, 0.0, -0.0, -0.0, -0.0, -0.0, -0.0, -0.0, -0.0, 0.0, -0.0, -0.0, 0.0, -0.0, -0.0, -0.0, -0.0, -0.0, -0.0, -0.0, 0.0, 0.0, -0.0, -0.0, 0.0, 0.0, -0.0, 0.0, -0.0, -0.0, 0.0, 0.0, 0.0, -0.0, 0.0, 0.0, 0.0, -0.0, 0.0, -0.0, -0.0, -0.0, 0.0, 0.0, -0.0, -0.0, -0.0, -0.0, -0.0, -0.0, -0.0, 0.0, -0.0, 0.0, -0.0, -0.0, -0.0, 0.0, 0.0, -0.0, -0.0, 0.0, 0.0, -0.0, 0.0, -0.0, -0.0, -0.0, -0.0, -0.0, -0.0, -0.0, 0.0, -0.0, -0.0, -0.0, 0.0, 0.0, 0.0, 0.0, 0.0, -0.0, 0.0, -0.0, 0.0, 0.0, -0.0, -0.0, -0.0, -0.0, 0.0, -0.0, 0.0, -0.0, -0.0, -0.0, 0.0, -0.0, 0.0, -0.0, 0.0, -0.0, -0.0, -0.0, -0.0, -0.0, -0.0, -0.0, -0.0, 0.0, 0.0, -0.0, -0.0, -0.0, 0.0, 0.0, 0.0, -0.0, -0.0, 0.0, -0.0, -0.0, -0.0, 0.0, -0.0, -0.0, -0.0, 0.0, 0.0, 0.0, -0.0, 0.0, -0.0, 0.0, 0.0, -0.0, -0.0, 0.0, 0.0, -0.0, -0.0]}],\n",
              "                        {\"font\": {\"color\": \"RebeccaPurple\", \"size\": 14}, \"template\": {\"data\": {\"bar\": [{\"error_x\": {\"color\": \"#2a3f5f\"}, \"error_y\": {\"color\": \"#2a3f5f\"}, \"marker\": {\"line\": {\"color\": \"#E5ECF6\", \"width\": 0.5}}, \"type\": \"bar\"}], \"barpolar\": [{\"marker\": {\"line\": {\"color\": \"#E5ECF6\", \"width\": 0.5}}, \"type\": \"barpolar\"}], \"carpet\": [{\"aaxis\": {\"endlinecolor\": \"#2a3f5f\", \"gridcolor\": \"white\", \"linecolor\": \"white\", \"minorgridcolor\": \"white\", \"startlinecolor\": \"#2a3f5f\"}, \"baxis\": {\"endlinecolor\": \"#2a3f5f\", \"gridcolor\": \"white\", \"linecolor\": \"white\", \"minorgridcolor\": \"white\", \"startlinecolor\": \"#2a3f5f\"}, \"type\": \"carpet\"}], \"choropleth\": [{\"colorbar\": {\"outlinewidth\": 0, \"ticks\": \"\"}, \"type\": \"choropleth\"}], \"contour\": [{\"colorbar\": {\"outlinewidth\": 0, \"ticks\": \"\"}, \"colorscale\": [[0.0, \"#0d0887\"], [0.1111111111111111, \"#46039f\"], [0.2222222222222222, \"#7201a8\"], [0.3333333333333333, \"#9c179e\"], [0.4444444444444444, \"#bd3786\"], [0.5555555555555556, \"#d8576b\"], [0.6666666666666666, \"#ed7953\"], [0.7777777777777778, \"#fb9f3a\"], [0.8888888888888888, \"#fdca26\"], [1.0, \"#f0f921\"]], \"type\": \"contour\"}], \"contourcarpet\": [{\"colorbar\": {\"outlinewidth\": 0, \"ticks\": \"\"}, \"type\": \"contourcarpet\"}], \"heatmap\": [{\"colorbar\": {\"outlinewidth\": 0, \"ticks\": \"\"}, \"colorscale\": [[0.0, \"#0d0887\"], [0.1111111111111111, \"#46039f\"], [0.2222222222222222, \"#7201a8\"], [0.3333333333333333, \"#9c179e\"], [0.4444444444444444, \"#bd3786\"], [0.5555555555555556, \"#d8576b\"], [0.6666666666666666, \"#ed7953\"], [0.7777777777777778, \"#fb9f3a\"], [0.8888888888888888, \"#fdca26\"], [1.0, \"#f0f921\"]], \"type\": \"heatmap\"}], \"heatmapgl\": [{\"colorbar\": {\"outlinewidth\": 0, \"ticks\": \"\"}, \"colorscale\": [[0.0, \"#0d0887\"], [0.1111111111111111, \"#46039f\"], [0.2222222222222222, \"#7201a8\"], [0.3333333333333333, \"#9c179e\"], [0.4444444444444444, \"#bd3786\"], [0.5555555555555556, \"#d8576b\"], [0.6666666666666666, \"#ed7953\"], [0.7777777777777778, \"#fb9f3a\"], [0.8888888888888888, \"#fdca26\"], [1.0, \"#f0f921\"]], \"type\": \"heatmapgl\"}], \"histogram\": [{\"marker\": {\"colorbar\": {\"outlinewidth\": 0, \"ticks\": \"\"}}, \"type\": \"histogram\"}], \"histogram2d\": [{\"colorbar\": {\"outlinewidth\": 0, \"ticks\": \"\"}, \"colorscale\": [[0.0, \"#0d0887\"], [0.1111111111111111, \"#46039f\"], [0.2222222222222222, \"#7201a8\"], [0.3333333333333333, \"#9c179e\"], [0.4444444444444444, \"#bd3786\"], [0.5555555555555556, \"#d8576b\"], [0.6666666666666666, \"#ed7953\"], [0.7777777777777778, \"#fb9f3a\"], [0.8888888888888888, \"#fdca26\"], [1.0, \"#f0f921\"]], \"type\": \"histogram2d\"}], \"histogram2dcontour\": [{\"colorbar\": {\"outlinewidth\": 0, \"ticks\": \"\"}, \"colorscale\": [[0.0, \"#0d0887\"], [0.1111111111111111, \"#46039f\"], [0.2222222222222222, \"#7201a8\"], [0.3333333333333333, \"#9c179e\"], [0.4444444444444444, \"#bd3786\"], [0.5555555555555556, \"#d8576b\"], [0.6666666666666666, \"#ed7953\"], [0.7777777777777778, \"#fb9f3a\"], [0.8888888888888888, \"#fdca26\"], [1.0, \"#f0f921\"]], \"type\": \"histogram2dcontour\"}], \"mesh3d\": [{\"colorbar\": {\"outlinewidth\": 0, \"ticks\": \"\"}, \"type\": \"mesh3d\"}], \"parcoords\": [{\"line\": {\"colorbar\": {\"outlinewidth\": 0, \"ticks\": \"\"}}, \"type\": \"parcoords\"}], \"pie\": [{\"automargin\": true, \"type\": \"pie\"}], \"scatter\": [{\"marker\": {\"colorbar\": {\"outlinewidth\": 0, \"ticks\": \"\"}}, \"type\": \"scatter\"}], \"scatter3d\": [{\"line\": {\"colorbar\": {\"outlinewidth\": 0, \"ticks\": \"\"}}, \"marker\": {\"colorbar\": {\"outlinewidth\": 0, \"ticks\": \"\"}}, \"type\": \"scatter3d\"}], \"scattercarpet\": [{\"marker\": {\"colorbar\": {\"outlinewidth\": 0, \"ticks\": \"\"}}, \"type\": \"scattercarpet\"}], \"scattergeo\": [{\"marker\": {\"colorbar\": {\"outlinewidth\": 0, \"ticks\": \"\"}}, \"type\": \"scattergeo\"}], \"scattergl\": [{\"marker\": {\"colorbar\": {\"outlinewidth\": 0, \"ticks\": \"\"}}, \"type\": \"scattergl\"}], \"scattermapbox\": [{\"marker\": {\"colorbar\": {\"outlinewidth\": 0, \"ticks\": \"\"}}, \"type\": \"scattermapbox\"}], \"scatterpolar\": [{\"marker\": {\"colorbar\": {\"outlinewidth\": 0, \"ticks\": \"\"}}, \"type\": \"scatterpolar\"}], \"scatterpolargl\": [{\"marker\": {\"colorbar\": {\"outlinewidth\": 0, \"ticks\": \"\"}}, \"type\": \"scatterpolargl\"}], \"scatterternary\": [{\"marker\": {\"colorbar\": {\"outlinewidth\": 0, \"ticks\": \"\"}}, \"type\": \"scatterternary\"}], \"surface\": [{\"colorbar\": {\"outlinewidth\": 0, \"ticks\": \"\"}, \"colorscale\": [[0.0, \"#0d0887\"], [0.1111111111111111, \"#46039f\"], [0.2222222222222222, \"#7201a8\"], [0.3333333333333333, \"#9c179e\"], [0.4444444444444444, \"#bd3786\"], [0.5555555555555556, \"#d8576b\"], [0.6666666666666666, \"#ed7953\"], [0.7777777777777778, \"#fb9f3a\"], [0.8888888888888888, \"#fdca26\"], [1.0, \"#f0f921\"]], \"type\": \"surface\"}], \"table\": [{\"cells\": {\"fill\": {\"color\": \"#EBF0F8\"}, \"line\": {\"color\": \"white\"}}, \"header\": {\"fill\": {\"color\": \"#C8D4E3\"}, \"line\": {\"color\": \"white\"}}, \"type\": \"table\"}]}, \"layout\": {\"annotationdefaults\": {\"arrowcolor\": \"#2a3f5f\", \"arrowhead\": 0, \"arrowwidth\": 1}, \"coloraxis\": {\"colorbar\": {\"outlinewidth\": 0, \"ticks\": \"\"}}, \"colorscale\": {\"diverging\": [[0, \"#8e0152\"], [0.1, \"#c51b7d\"], [0.2, \"#de77ae\"], [0.3, \"#f1b6da\"], [0.4, \"#fde0ef\"], [0.5, \"#f7f7f7\"], [0.6, \"#e6f5d0\"], [0.7, \"#b8e186\"], [0.8, \"#7fbc41\"], [0.9, \"#4d9221\"], [1, \"#276419\"]], \"sequential\": [[0.0, \"#0d0887\"], [0.1111111111111111, \"#46039f\"], [0.2222222222222222, \"#7201a8\"], [0.3333333333333333, \"#9c179e\"], [0.4444444444444444, \"#bd3786\"], [0.5555555555555556, \"#d8576b\"], [0.6666666666666666, \"#ed7953\"], [0.7777777777777778, \"#fb9f3a\"], [0.8888888888888888, \"#fdca26\"], [1.0, \"#f0f921\"]], \"sequentialminus\": [[0.0, \"#0d0887\"], [0.1111111111111111, \"#46039f\"], [0.2222222222222222, \"#7201a8\"], [0.3333333333333333, \"#9c179e\"], [0.4444444444444444, \"#bd3786\"], [0.5555555555555556, \"#d8576b\"], [0.6666666666666666, \"#ed7953\"], [0.7777777777777778, \"#fb9f3a\"], [0.8888888888888888, \"#fdca26\"], [1.0, \"#f0f921\"]]}, \"colorway\": [\"#636efa\", \"#EF553B\", \"#00cc96\", \"#ab63fa\", \"#FFA15A\", \"#19d3f3\", \"#FF6692\", \"#B6E880\", \"#FF97FF\", \"#FECB52\"], \"font\": {\"color\": \"#2a3f5f\"}, \"geo\": {\"bgcolor\": \"white\", \"lakecolor\": \"white\", \"landcolor\": \"#E5ECF6\", \"showlakes\": true, \"showland\": true, \"subunitcolor\": \"white\"}, \"hoverlabel\": {\"align\": \"left\"}, \"hovermode\": \"closest\", \"mapbox\": {\"style\": \"light\"}, \"paper_bgcolor\": \"white\", \"plot_bgcolor\": \"#E5ECF6\", \"polar\": {\"angularaxis\": {\"gridcolor\": \"white\", \"linecolor\": \"white\", \"ticks\": \"\"}, \"bgcolor\": \"#E5ECF6\", \"radialaxis\": {\"gridcolor\": \"white\", \"linecolor\": \"white\", \"ticks\": \"\"}}, \"scene\": {\"xaxis\": {\"backgroundcolor\": \"#E5ECF6\", \"gridcolor\": \"white\", \"gridwidth\": 2, \"linecolor\": \"white\", \"showbackground\": true, \"ticks\": \"\", \"zerolinecolor\": \"white\"}, \"yaxis\": {\"backgroundcolor\": \"#E5ECF6\", \"gridcolor\": \"white\", \"gridwidth\": 2, \"linecolor\": \"white\", \"showbackground\": true, \"ticks\": \"\", \"zerolinecolor\": \"white\"}, \"zaxis\": {\"backgroundcolor\": \"#E5ECF6\", \"gridcolor\": \"white\", \"gridwidth\": 2, \"linecolor\": \"white\", \"showbackground\": true, \"ticks\": \"\", \"zerolinecolor\": \"white\"}}, \"shapedefaults\": {\"line\": {\"color\": \"#2a3f5f\"}}, \"ternary\": {\"aaxis\": {\"gridcolor\": \"white\", \"linecolor\": \"white\", \"ticks\": \"\"}, \"baxis\": {\"gridcolor\": \"white\", \"linecolor\": \"white\", \"ticks\": \"\"}, \"bgcolor\": \"#E5ECF6\", \"caxis\": {\"gridcolor\": \"white\", \"linecolor\": \"white\", \"ticks\": \"\"}}, \"title\": {\"x\": 0.05}, \"xaxis\": {\"automargin\": true, \"gridcolor\": \"white\", \"linecolor\": \"white\", \"ticks\": \"\", \"title\": {\"standoff\": 15}, \"zerolinecolor\": \"white\", \"zerolinewidth\": 2}, \"yaxis\": {\"automargin\": true, \"gridcolor\": \"white\", \"linecolor\": \"white\", \"ticks\": \"\", \"title\": {\"standoff\": 15}, \"zerolinecolor\": \"white\", \"zerolinewidth\": 2}}}, \"title\": {\"text\": \"Residuals of Predicted prices\"}, \"xaxis\": {\"title\": {\"text\": \"Predicted Price\"}}, \"yaxis\": {\"title\": {\"text\": \"Residuals\"}}},\n",
              "                        {\"responsive\": true}\n",
              "                    ).then(function(){\n",
              "                            \n",
              "var gd = document.getElementById('6d6e8a33-4eae-419c-b0c0-9640806d4f2a');\n",
              "var x = new MutationObserver(function (mutations, observer) {{\n",
              "        var display = window.getComputedStyle(gd).display;\n",
              "        if (!display || display === 'none') {{\n",
              "            console.log([gd, 'removed!']);\n",
              "            Plotly.purge(gd);\n",
              "            observer.disconnect();\n",
              "        }}\n",
              "}});\n",
              "\n",
              "// Listen for the removal of the full notebook cells\n",
              "var notebookContainer = gd.closest('#notebook-container');\n",
              "if (notebookContainer) {{\n",
              "    x.observe(notebookContainer, {childList: true});\n",
              "}}\n",
              "\n",
              "// Listen for the clearing of the current output cell\n",
              "var outputEl = gd.closest('.output');\n",
              "if (outputEl) {{\n",
              "    x.observe(outputEl, {childList: true});\n",
              "}}\n",
              "\n",
              "                        })\n",
              "                };\n",
              "                \n",
              "            </script>\n",
              "        </div>\n",
              "</body>\n",
              "</html>"
            ]
          },
          "metadata": {
            "tags": []
          }
        }
      ]
    },
    {
      "cell_type": "markdown",
      "metadata": {
        "id": "rrKRMFH1HRcq"
      },
      "source": [
        "Write your inference here:\n",
        "\n",
        ".....\n"
      ]
    },
    {
      "cell_type": "code",
      "metadata": {
        "id": "ZqjK22wMHr96"
      },
      "source": [
        ""
      ],
      "execution_count": null,
      "outputs": []
    },
    {
      "cell_type": "code",
      "metadata": {
        "id": "j2NzMbqD6XK-",
        "colab": {
          "base_uri": "https://localhost:8080/"
        },
        "outputId": "7d288e5d-ec4f-4374-a1b9-24110b2716e7"
      },
      "source": [
        "#try to get similar or even better results\n",
        "from sklearn import metrics\n",
        "\n",
        "print(\"------ TRAIN DATA ------\")\n",
        "print(\"MSE:\",metrics.mean_squared_error(train_df.priceK, train_df.Predicted_train_price))\n",
        "print(\"RMSE:\",np.sqrt(metrics.mean_squared_error(train_df.priceK, train_df.Predicted_train_price)))\n",
        "print(\"MAE:\",metrics.mean_absolute_error(train_df.priceK, train_df.Predicted_train_price))\n",
        "\n",
        "print(\"------ TEST DATA ------\")\n",
        "print(\"MSE:\",metrics.mean_squared_error(test_df.priceK, test_df.Predicted_test_price))\n",
        "print(\"RMSE:\",np.sqrt(metrics.mean_squared_error(test_df.priceK, test_df.Predicted_test_price)))\n",
        "print(\"MAE:\",metrics.mean_absolute_error(test_df.priceK, test_df.Predicted_test_price))"
      ],
      "execution_count": null,
      "outputs": [
        {
          "output_type": "stream",
          "text": [
            "------ TRAIN DATA ------\n",
            "MSE: 13.313256019834858\n",
            "RMSE: 3.648733481611785\n",
            "MAE: 2.6687068128090603\n",
            "------ TEST DATA ------\n",
            "MSE: 19.33564885384586\n",
            "RMSE: 4.397231953609664\n",
            "MAE: 3.250738853031474\n"
          ],
          "name": "stdout"
        }
      ]
    },
    {
      "cell_type": "code",
      "metadata": {
        "id": "jZlUAkZC62zg",
        "colab": {
          "base_uri": "https://localhost:8080/"
        },
        "outputId": "aee695c7-b19e-444b-a4b6-6420203b7efa"
      },
      "source": [
        "#3\n",
        "# get R2 for train set\n",
        "from sklearn.metrics import r2_score\n",
        "r2_score(train_df.priceK, train_df.Predicted_train_price)\n"
      ],
      "execution_count": null,
      "outputs": [
        {
          "output_type": "execute_result",
          "data": {
            "text/plain": [
              "0.7750532615472773"
            ]
          },
          "metadata": {
            "tags": []
          },
          "execution_count": 225
        }
      ]
    },
    {
      "cell_type": "code",
      "metadata": {
        "id": "8VvNQAiV6_n-",
        "colab": {
          "base_uri": "https://localhost:8080/"
        },
        "outputId": "64988cca-2efb-4902-c159-46f854047a59"
      },
      "source": [
        "#get R2 for test set\n",
        "r2_score(test_df.priceK, test_df.Predicted_test_price)"
      ],
      "execution_count": null,
      "outputs": [
        {
          "output_type": "execute_result",
          "data": {
            "text/plain": [
              "0.7339353077649318"
            ]
          },
          "metadata": {
            "tags": []
          },
          "execution_count": 226
        }
      ]
    },
    {
      "cell_type": "markdown",
      "metadata": {
        "id": "mRT0gmbcfpkM"
      },
      "source": [
        "22. Conclusions:\n",
        "* How well does the model perform?\n",
        "* What can you do to increase the predictability of the model?"
      ]
    },
    {
      "cell_type": "code",
      "metadata": {
        "id": "nd9-Z-RV5ip5",
        "colab": {
          "base_uri": "https://localhost:8080/",
          "height": 52
        },
        "outputId": "9d65fbad-ec12-4b78-a8b2-9465d0d04bfd"
      },
      "source": [
        "\"\"\"The model did not perform well, error values were high compared to the actual values. \n",
        "\n",
        "We can improve the results by changing the model to a MLR and using more features from the data, such as curbweight, enginesize, horsepower, citympg, highwaympg.\n",
        "We can further improve the results by using additional features which are currently textual and need to be converted to numeric, e.g. carbody, drivewheel, enginetype.\n",
        "\"\"\""
      ],
      "execution_count": null,
      "outputs": [
        {
          "output_type": "execute_result",
          "data": {
            "application/vnd.google.colaboratory.intrinsic+json": {
              "type": "string"
            },
            "text/plain": [
              "'The model did not perform well, error values were high compared to the actual values. \\n\\nWe can improve the results by changing the model to a MLR and using more features from the data, such as curbweight, enginesize, horsepower, citympg, highwaympg.\\nWe can further improve the results by using additional features which are currently textual and need to be converted to numeric, e.g. carbody, drivewheel, enginetype.\\n'"
            ]
          },
          "metadata": {
            "tags": []
          },
          "execution_count": 229
        }
      ]
    }
  ]
}
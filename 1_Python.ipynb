{
  "nbformat": 4,
  "nbformat_minor": 0,
  "metadata": {
    "colab": {
      "name": "HW_Assignment 1  - Python.ipynb",
      "provenance": [],
      "collapsed_sections": []
    },
    "kernelspec": {
      "name": "python3",
      "display_name": "Python 3"
    }
  },
  "cells": [
    {
      "cell_type": "code",
      "metadata": {
        "id": "Kq23T99g4bvW",
        "cellView": "form"
      },
      "source": [
        "#@title ## Big Data Lab  - Assignment 1 - Python Basics\n",
        "#@markdown ### Instructions\n",
        "#@markdown 1. The purpose of this assignment is to cover the necessary python \n",
        "#@markdown fundamentals you need to dominate in order to handle the course material.\n",
        "#@markdown 2. Please complete the assignment on your own. You are welcome to discuss your work with your fellow students but to maintain a healthy learning process - please keep all final answers to yourself! \n",
        "#@markdown 3. Complete the answers in the empty cells - Feel free to add as many extra cell as you require.\n",
        "#@markdown 4. Fill in your name and select the Year and Department.\n",
        "#@markdown 5. When done - Download the colab notebook by going to 'File -> Download .ipynb' and submit the file in the course's moodle page before the due date. \n",
        " \n",
        "#@markdown ---\n",
        "#@markdown ### Enter your information:\n",
        "Full_Name = \"\" #@param {type:\"string\"}\n",
        "Department = \"Computer Science\" #@param [\"Select\",\"Computer Science\", \"Industrial Engineering\", \"Economics and Management\"]\n",
        "Year = \"Second\" #@param [\"Select\",\"Second\", \"Third\", \"Fourth\"]\n",
        "\n",
        "#@markdown ---\n"
      ],
      "execution_count": null,
      "outputs": []
    },
    {
      "cell_type": "markdown",
      "metadata": {
        "id": "4I5oydnL4tYr"
      },
      "source": [
        "1. Write a Python program to get the Python version you are using and print it."
      ]
    },
    {
      "cell_type": "code",
      "metadata": {
        "id": "SB3GTVsP5W-6",
        "colab": {
          "base_uri": "https://localhost:8080/",
          "height": 112
        },
        "outputId": "1be3cc71-e623-40f0-a534-a1d07d2fac92"
      },
      "source": [
        "import sys\n",
        "print(\"Python version\")\n",
        "print(sys.version)\n",
        "print(\"Version info.\")\n",
        "print(sys.version_info)"
      ],
      "execution_count": null,
      "outputs": [
        {
          "output_type": "stream",
          "text": [
            "Python version\n",
            "3.6.9 (default, Jul 17 2020, 12:50:27) \n",
            "[GCC 8.4.0]\n",
            "Version info.\n",
            "sys.version_info(major=3, minor=6, micro=9, releaselevel='final', serial=0)\n"
          ],
          "name": "stdout"
        }
      ]
    },
    {
      "cell_type": "markdown",
      "metadata": {
        "id": "Rc_795F15cOH"
      },
      "source": [
        "2. Write a Python program to display the current date and time."
      ]
    },
    {
      "cell_type": "code",
      "metadata": {
        "id": "b9ZQ_VcY5lVW",
        "colab": {
          "base_uri": "https://localhost:8080/",
          "height": 55
        },
        "outputId": "ffa656ac-44c3-46bd-f4c2-b043b0ff7df2"
      },
      "source": [
        "import datetime\n",
        "now = datetime.datetime.now()\n",
        "print (\"Current date and time : \")\n",
        "print (now.strftime(\"%Y-%m-%d %H:%M:%S\"))"
      ],
      "execution_count": null,
      "outputs": [
        {
          "output_type": "stream",
          "text": [
            "Current date and time : \n",
            "2020-10-20 05:03:28\n"
          ],
          "name": "stdout"
        }
      ]
    },
    {
      "cell_type": "markdown",
      "metadata": {
        "id": "lVuojjZ25vyG"
      },
      "source": [
        "3. Write a function that takes in a long text and returns a dictionary of words and their frequencies. You must use **list comprehension** and the **'zip()' function** in your solution.\n",
        "\n",
        "call the function with the text from the next cell."
      ]
    },
    {
      "cell_type": "code",
      "metadata": {
        "id": "WCp73PctDKUJ"
      },
      "source": [
        "str1 = '''Alice was beginning to get very tired of sitting by her sister on the bank, and of having nothing to do: once or twice she had peeped into the book her sister was reading, but it had no pictures or conversations in it, “and what is the use of a book, thought Alice without pictures or conversations\n",
        "\n",
        "So she was considering in her own mind as well as she could, for the hot day made her feel very sleepy and stupid, whether the pleasure of making a daisy-chain would be worth the trouble of getting up and picking the daisies, when suddenly a White Rabbit with pink eyes ran close by her.\n",
        "\n",
        "There was nothing so very remarkable in that; nor did Alice think it so very much out of the way to hear the Rabbit say to itself, Oh dear! Oh dear! I shall be late when she thought it over afterwards, it occurred to her that she ought to have wondered at this, but at the time it all seemed quite natural but when the Rabbit actually took a watch out of its waistcoat-pocket, and looked at it, and then hurried on, Alice started to her feet, for it flashed across her mind that she had never before seen a rabbit with either a waistcoat-pocket, or a watch to take out of it, and burning with curiosity, she ran across the field after it, and fortunately was just in time to see it pop down a large rabbit-hole under the hedge.\n",
        "\n",
        "In another moment down went Alice after it, never once considering how in the world she was to get out again.\n",
        "\n",
        "The rabbit hole went straight on like a tunnel for some way, and then dipped suddenly down, so suddenly that Alice had not a moment to think about stopping herself before she found herself falling down a very deep well.'''"
      ],
      "execution_count": null,
      "outputs": []
    },
    {
      "cell_type": "code",
      "metadata": {
        "id": "CsRmSQl5AxhL"
      },
      "source": [
        "def word_counter(story):\n",
        "  wordsplit = story.split(\" \")\n",
        "  wordfreq = [wordsplit.count(word) for word in wordsplit]\n",
        "  dictionary = dict(zip(wordsplit, wordfreq))\n",
        "  print(wordsplit)\n",
        "  return dictionary"
      ],
      "execution_count": null,
      "outputs": []
    },
    {
      "cell_type": "code",
      "metadata": {
        "id": "taoykc0SD_4r",
        "colab": {
          "base_uri": "https://localhost:8080/",
          "height": 75
        },
        "outputId": "86223c61-c534-4286-a732-efd9c93c1340"
      },
      "source": [
        "print(word_counter(str1)) "
      ],
      "execution_count": null,
      "outputs": [
        {
          "output_type": "stream",
          "text": [
            "['Alice', 'was', 'beginning', 'to', 'get', 'very', 'tired', 'of', 'sitting', 'by', 'her', 'sister', 'on', 'the', 'bank,', 'and', 'of', 'having', 'nothing', 'to', 'do:', 'once', 'or', 'twice', 'she', 'had', 'peeped', 'into', 'the', 'book', 'her', 'sister', 'was', 'reading,', 'but', 'it', 'had', 'no', 'pictures', 'or', 'conversations', 'in', 'it,', '“and', 'what', 'is', 'the', 'use', 'of', 'a', 'book,', 'thought', 'Alice', 'without', 'pictures', 'or', 'conversations\\n\\nSo', 'she', 'was', 'considering', 'in', 'her', 'own', 'mind', 'as', 'well', 'as', 'she', 'could,', 'for', 'the', 'hot', 'day', 'made', 'her', 'feel', 'very', 'sleepy', 'and', 'stupid,', 'whether', 'the', 'pleasure', 'of', 'making', 'a', 'daisy-chain', 'would', 'be', 'worth', 'the', 'trouble', 'of', 'getting', 'up', 'and', 'picking', 'the', 'daisies,', 'when', 'suddenly', 'a', 'White', 'Rabbit', 'with', 'pink', 'eyes', 'ran', 'close', 'by', 'her.\\n\\nThere', 'was', 'nothing', 'so', 'very', 'remarkable', 'in', 'that;', 'nor', 'did', 'Alice', 'think', 'it', 'so', 'very', 'much', 'out', 'of', 'the', 'way', 'to', 'hear', 'the', 'Rabbit', 'say', 'to', 'itself,', 'Oh', 'dear!', 'Oh', 'dear!', 'I', 'shall', 'be', 'late', 'when', 'she', 'thought', 'it', 'over', 'afterwards,', 'it', 'occurred', 'to', 'her', 'that', 'she', 'ought', 'to', 'have', 'wondered', 'at', 'this,', 'but', 'at', 'the', 'time', 'it', 'all', 'seemed', 'quite', 'natural', 'but', 'when', 'the', 'Rabbit', 'actually', 'took', 'a', 'watch', 'out', 'of', 'its', 'waistcoat-pocket,', 'and', 'looked', 'at', 'it,', 'and', 'then', 'hurried', 'on,', 'Alice', 'started', 'to', 'her', 'feet,', 'for', 'it', 'flashed', 'across', 'her', 'mind', 'that', 'she', 'had', 'never', 'before', 'seen', 'a', 'rabbit', 'with', 'either', 'a', 'waistcoat-pocket,', 'or', 'a', 'watch', 'to', 'take', 'out', 'of', 'it,', 'and', 'burning', 'with', 'curiosity,', 'she', 'ran', 'across', 'the', 'field', 'after', 'it,', 'and', 'fortunately', 'was', 'just', 'in', 'time', 'to', 'see', 'it', 'pop', 'down', 'a', 'large', 'rabbit-hole', 'under', 'the', 'hedge.\\n\\nIn', 'another', 'moment', 'down', 'went', 'Alice', 'after', 'it,', 'never', 'once', 'considering', 'how', 'in', 'the', 'world', 'she', 'was', 'to', 'get', 'out', 'again.\\n\\nThe', 'rabbit', 'hole', 'went', 'straight', 'on', 'like', 'a', 'tunnel', 'for', 'some', 'way,', 'and', 'then', 'dipped', 'suddenly', 'down,', 'so', 'suddenly', 'that', 'Alice', 'had', 'not', 'a', 'moment', 'to', 'think', 'about', 'stopping', 'herself', 'before', 'she', 'found', 'herself', 'falling', 'down', 'a', 'very', 'deep', 'well.']\n",
            "{'Alice': 6, 'was': 6, 'beginning': 1, 'to': 11, 'get': 2, 'very': 5, 'tired': 1, 'of': 8, 'sitting': 1, 'by': 2, 'her': 7, 'sister': 2, 'on': 2, 'the': 14, 'bank,': 1, 'and': 8, 'having': 1, 'nothing': 2, 'do:': 1, 'once': 2, 'or': 4, 'twice': 1, 'she': 9, 'had': 4, 'peeped': 1, 'into': 1, 'book': 1, 'reading,': 1, 'but': 3, 'it': 7, 'no': 1, 'pictures': 2, 'conversations': 1, 'in': 5, 'it,': 5, '“and': 1, 'what': 1, 'is': 1, 'use': 1, 'a': 11, 'book,': 1, 'thought': 2, 'without': 1, 'conversations\\n\\nSo': 1, 'considering': 2, 'own': 1, 'mind': 2, 'as': 2, 'well': 1, 'could,': 1, 'for': 3, 'hot': 1, 'day': 1, 'made': 1, 'feel': 1, 'sleepy': 1, 'stupid,': 1, 'whether': 1, 'pleasure': 1, 'making': 1, 'daisy-chain': 1, 'would': 1, 'be': 2, 'worth': 1, 'trouble': 1, 'getting': 1, 'up': 1, 'picking': 1, 'daisies,': 1, 'when': 3, 'suddenly': 3, 'White': 1, 'Rabbit': 3, 'with': 3, 'pink': 1, 'eyes': 1, 'ran': 2, 'close': 1, 'her.\\n\\nThere': 1, 'so': 3, 'remarkable': 1, 'that;': 1, 'nor': 1, 'did': 1, 'think': 2, 'much': 1, 'out': 4, 'way': 1, 'hear': 1, 'say': 1, 'itself,': 1, 'Oh': 2, 'dear!': 2, 'I': 1, 'shall': 1, 'late': 1, 'over': 1, 'afterwards,': 1, 'occurred': 1, 'that': 3, 'ought': 1, 'have': 1, 'wondered': 1, 'at': 3, 'this,': 1, 'time': 2, 'all': 1, 'seemed': 1, 'quite': 1, 'natural': 1, 'actually': 1, 'took': 1, 'watch': 2, 'its': 1, 'waistcoat-pocket,': 2, 'looked': 1, 'then': 2, 'hurried': 1, 'on,': 1, 'started': 1, 'feet,': 1, 'flashed': 1, 'across': 2, 'never': 2, 'before': 2, 'seen': 1, 'rabbit': 2, 'either': 1, 'take': 1, 'burning': 1, 'curiosity,': 1, 'field': 1, 'after': 2, 'fortunately': 1, 'just': 1, 'see': 1, 'pop': 1, 'down': 3, 'large': 1, 'rabbit-hole': 1, 'under': 1, 'hedge.\\n\\nIn': 1, 'another': 1, 'moment': 2, 'went': 2, 'how': 1, 'world': 1, 'again.\\n\\nThe': 1, 'hole': 1, 'straight': 1, 'like': 1, 'tunnel': 1, 'some': 1, 'way,': 1, 'dipped': 1, 'down,': 1, 'not': 1, 'about': 1, 'stopping': 1, 'herself': 2, 'found': 1, 'falling': 1, 'deep': 1, 'well.': 1}\n"
          ],
          "name": "stdout"
        }
      ]
    },
    {
      "cell_type": "markdown",
      "metadata": {
        "id": "xUA8hXRUEG7H"
      },
      "source": [
        "4. Write a Python function to create and return a matrix of all possible permutations from a given list of distinct numbers.\n",
        "\n",
        "\n",
        ">>For example:\n",
        "given the list [1,2,3]\n",
        "the function returns: \n",
        "\n",
        ">> [[3, 2, 1], [2, 3, 1], [2, 1, 3], [3, 1, 2], [1, 3, 2], [1, 2, 3]]"
      ]
    },
    {
      "cell_type": "code",
      "metadata": {
        "id": "d2w9OIKoHh_7",
        "colab": {
          "base_uri": "https://localhost:8080/",
          "height": 74
        },
        "outputId": "c2e23ea3-c72d-419f-b3a4-2cddb7c61bd7"
      },
      "source": [
        "def word_counter(story):\n",
        "  wordsplit = story.split(\" \")\n",
        "  wordfreq = [wordsplit.count(word) for word in wordsplit]\n",
        "  dictionary = dict(zip(wordsplit, wordfreq))\n",
        "  print(wordsplit)\n",
        "  return dictionary\n",
        "  \n",
        "from itertools import permutations\n",
        "def permute(nums):\n",
        "  tuples = list(permutations(nums))\n",
        "  listnums = [list(nums) for nums in tuples]\n",
        "  return listnums\n",
        "\n",
        "my_nums = [1,2,3]\n",
        "print(\"Original Cofllection: \",my_nums)\n",
        "print(\"Collection of distinct numbers:\\n\",permute(my_nums))"
      ],
      "execution_count": null,
      "outputs": [
        {
          "output_type": "stream",
          "text": [
            "Original Cofllection:  [1, 2, 3]\n",
            "Collection of distinct numbers:\n",
            " [[1, 2, 3], [1, 3, 2], [2, 1, 3], [2, 3, 1], [3, 1, 2], [3, 2, 1]]\n"
          ],
          "name": "stdout"
        }
      ]
    },
    {
      "cell_type": "markdown",
      "metadata": {
        "id": "BX6TumJ-Hkq3"
      },
      "source": [
        "5. Create and run a Python function that takes a list of non-empty tuples, and returns a list - sorted in increasing order by the last element in each tuple.\n",
        "\n",
        ">>Sample List : [(2, 5), (1, 2), (4, 4), (2, 3), (2, 1)]\n",
        "\n",
        ">>Expected Result : [(2, 1), (1, 2), (2, 3), (4, 4), (2, 5)]\n"
      ]
    },
    {
      "cell_type": "code",
      "metadata": {
        "id": "QYtLCBpuIxKX",
        "colab": {
          "base_uri": "https://localhost:8080/",
          "height": 36
        },
        "outputId": "2c6d0621-0659-4c75-8f56-cbaaa1153fdf"
      },
      "source": [
        "from operator import itemgetter\n",
        "def sort_list_last (lst):      \n",
        "    return sorted(lst, key = lambda x: int(x[1]))\n",
        "\n",
        "tup_list = [(2, 5), (1, 2), (4, 4), (2, 3), (2, 1)]\n",
        "print(sort_list_last(tup_list))"
      ],
      "execution_count": null,
      "outputs": [
        {
          "output_type": "stream",
          "text": [
            "[(2, 1), (1, 2), (2, 3), (4, 4), (2, 5)]\n"
          ],
          "name": "stdout"
        }
      ]
    },
    {
      "cell_type": "markdown",
      "metadata": {
        "id": "DynKrOD7JBmI"
      },
      "source": [
        "6. Create and run a function that takes a range of 2 positive numbers: begin, end. The functio should return a list of non-even square of numbers in the range begin to end(exclusively).\n",
        "\n"
      ]
    },
    {
      "cell_type": "code",
      "metadata": {
        "id": "KTPO8o_IKURL",
        "colab": {
          "base_uri": "https://localhost:8080/",
          "height": 36
        },
        "outputId": "ba85c215-df44-4e94-810b-244d15eae267"
      },
      "source": [
        "def non_even_sqrs(num1, num2):\n",
        "    return [ i**2 for i in range(num1, num2) if ((i**2) % 2 != 0)]\n",
        "\n",
        "non_even_sqrs(5,10)"
      ],
      "execution_count": null,
      "outputs": [
        {
          "output_type": "execute_result",
          "data": {
            "text/plain": [
              "[25, 49, 81]"
            ]
          },
          "metadata": {
            "tags": []
          },
          "execution_count": 81
        }
      ]
    },
    {
      "cell_type": "markdown",
      "metadata": {
        "id": "lni7UiaVK4u8"
      },
      "source": [
        "7. Write a function that returns a list of unique values from a given list."
      ]
    },
    {
      "cell_type": "code",
      "metadata": {
        "id": "HQ2HfPnqLv-I",
        "colab": {
          "base_uri": "https://localhost:8080/",
          "height": 74
        },
        "outputId": "b4e559e9-386c-42ad-cb4c-ddbc0738ee3e"
      },
      "source": [
        "import numpy as np \n",
        "\n",
        "def unique(list1): \n",
        "    x = np.array(list1) \n",
        "    print(np.unique(x)) \n",
        "      \n",
        "my_list = [10, 20, 30, 40, 20, 50, 60, 40]\n",
        "print(\"Original List :\",my_list)\n",
        "print(\"List of unique numbers: \" ) \n",
        "unique(my_list)"
      ],
      "execution_count": null,
      "outputs": [
        {
          "output_type": "stream",
          "text": [
            "Original List :  [10, 20, 30, 40, 20, 50, 60, 40]\n",
            "List of unique numbers: \n",
            "[10 20 30 40 50 60]\n"
          ],
          "name": "stdout"
        }
      ]
    },
    {
      "cell_type": "markdown",
      "metadata": {
        "id": "VnFBJJtkMLW3"
      },
      "source": [
        "8. Write and Run a program that creates a tuple and adds the number 5 if the tuple contains a list.\n"
      ]
    },
    {
      "cell_type": "code",
      "metadata": {
        "id": "vPRcRr-PNvSH",
        "colab": {
          "base_uri": "https://localhost:8080/",
          "height": 36
        },
        "outputId": "0a1192d9-39e9-495f-84a0-81e02ae8823f"
      },
      "source": [
        "#create a tuple\n",
        "tup = ('hello' ,[\"Python\"], 2)\n",
        "\n",
        "#continue your solution here\n",
        "for t in tup :\n",
        "    if type(t) is list:\n",
        "        t.append(\"5\")\n",
        "\n",
        "print(tup)"
      ],
      "execution_count": null,
      "outputs": [
        {
          "output_type": "stream",
          "text": [
            "('hello', ['Python', '5'], 2)\n"
          ],
          "name": "stdout"
        }
      ]
    },
    {
      "cell_type": "markdown",
      "metadata": {
        "id": "niGdnSjBRMI4"
      },
      "source": [
        "9. Write a function that takes a dictionary and a numeric variable x with default value 170. The function return a new dictionary by filtering out the values smaller than x from the original one.\n",
        "\n",
        ">>Your solution must use dictionary comprehension"
      ]
    },
    {
      "cell_type": "code",
      "metadata": {
        "id": "k__rcZ6yYXhO",
        "colab": {
          "base_uri": "https://localhost:8080/",
          "height": 36
        },
        "outputId": "38be62b0-21b8-450e-83a8-8e1b71a9076f"
      },
      "source": [
        "def filter_dict(dic1, x=170):\n",
        "    dic1 = {a:b for (a,b) in dic1.items() if b>x}\n",
        "    return dic1\n",
        "\n",
        "marks = {'Cierra Vega': 175, 'Alden Cantrell': 180, 'Kierra Gentry': 165, 'Pierre Cox': 190}\n",
        "marks = filter_dict(marks)\n",
        "print(marks)"
      ],
      "execution_count": null,
      "outputs": [
        {
          "output_type": "stream",
          "text": [
            "{'Cierra Vega': 175, 'Alden Cantrell': 180, 'Pierre Cox': 190}\n"
          ],
          "name": "stdout"
        }
      ]
    },
    {
      "cell_type": "markdown",
      "metadata": {
        "id": "6_rUCSE_dkL7"
      },
      "source": [
        "10. Write and then Run a function that takes a dictionary of types <string:int> and return a dictionary of types <string:bool> where the boolean value 'True' states that the numerical value is a prime number.\n"
      ]
    },
    {
      "cell_type": "code",
      "metadata": {
        "id": "c0QUohlmiAcr",
        "colab": {
          "base_uri": "https://localhost:8080/",
          "height": 36
        },
        "outputId": "39f84030-2b42-4077-8734-ad96654ddbcf"
      },
      "source": [
        "import math\n",
        "def is_prime(n):\n",
        "    for i in range(3,n):\n",
        "      if n%i == 0:\n",
        "        return False\n",
        "    return True\n",
        "\n",
        "def bool_dict(dict):\n",
        "    new_dir={a: True for (a,b) in dict.items() if is_prime(b)}\n",
        "    new_dir2={a: False for (a,b) in dict.items() if not is_prime(b)}\n",
        "    new_dir.update(new_dir2)\n",
        "    return new_dir\n",
        "    \n",
        "test_dict = {'a':11, 'b':22 , 'c':7, 'd':101, 'e':222}\n",
        "print(bool_dict(test_dict))"
      ],
      "execution_count": null,
      "outputs": [
        {
          "output_type": "stream",
          "text": [
            "{'a': True, 'c': True, 'd': True, 'b': False, 'e': False}\n"
          ],
          "name": "stdout"
        }
      ]
    }
  ]
}
